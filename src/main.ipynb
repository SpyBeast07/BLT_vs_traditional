{
 "cells": [
  {
   "cell_type": "markdown",
   "id": "853f066c",
   "metadata": {},
   "source": [
    "# Data"
   ]
  },
  {
   "cell_type": "code",
   "execution_count": 34,
   "id": "6894c401",
   "metadata": {},
   "outputs": [
    {
     "name": "stdout",
     "output_type": "stream",
     "text": [
      "Train shape: (10000, 2)\n",
      "Test shape: (2000, 2)\n",
      "\n",
      "Train head:\n",
      "                                               input  \\\n",
      "0               reconciliation trolls realized scene   \n",
      "1                        scratched kemp blah devices   \n",
      "2  delusional engineered perfect prey englishman ...   \n",
      "3  boomers nfl reacts parallels everything 6 redu...   \n",
      "4  patience put christmas superhero luc rake fulf...   \n",
      "\n",
      "                                              target  \n",
      "0               enecs dezilaer sllort noitailicnocer  \n",
      "1                        secived halb pmek dehctarcs  \n",
      "2  hctarcs detsub namhsilgne yerp tcefrep dereeni...  \n",
      "3  stcudnoc ysereh redlof secuder 6 gnihtyreve sl...  \n",
      "4  ylesned ylno elbats latnenitnoc dellifluf ekar...  \n",
      "\n",
      "Test head:\n",
      "                                               input  \\\n",
      "0  intimidated campaigns emerging marines spin be...   \n",
      "1            salary lebanese wifi fury fab sta polly   \n",
      "2  financing ahmed sexual cinematic puff malibu p...   \n",
      "3  n00 nickel disparity funded tutorials constrai...   \n",
      "4  unveiled alliance cleric skinned illness permi...   \n",
      "\n",
      "                                              target  \n",
      "0  gnisnaelc leb nips seniram gnigreme sngiapmac ...  \n",
      "1            yllop ats baf yruf ifiw esenabel yralas  \n",
      "2  hcaep ubilam ffup citamenic lauxes demha gnicn...  \n",
      "3  tseilrae tidercsid yllatigid ssaprus ycacovda ...  \n",
      "4  denoitats deyortsed noissimrep ssenlli denniks...  \n"
     ]
    }
   ],
   "source": [
    "import pandas as pd\n",
    "\n",
    "train_path = \"./../data/train.csv\"\n",
    "test_path = \"./../data/test.csv\"\n",
    "\n",
    "train_df = pd.read_csv(train_path)\n",
    "test_df = pd.read_csv(test_path)\n",
    "\n",
    "print(\"Train shape:\", train_df.shape)\n",
    "print(\"Test shape:\", test_df.shape)\n",
    "\n",
    "print(\"\\nTrain head:\")\n",
    "print(train_df.head())\n",
    "\n",
    "print(\"\\nTest head:\")\n",
    "print(test_df.head())"
   ]
  },
  {
   "cell_type": "markdown",
   "id": "51648900",
   "metadata": {},
   "source": [
    "# BLT Transformer"
   ]
  },
  {
   "cell_type": "code",
   "execution_count": 35,
   "id": "5a75530c",
   "metadata": {},
   "outputs": [
    {
     "name": "stdout",
     "output_type": "stream",
     "text": [
      "✅ Using MPS (Apple Silicon GPU)\n"
     ]
    }
   ],
   "source": [
    "import torch\n",
    "\n",
    "if torch.backends.mps.is_available():\n",
    "    device = torch.device(\"mps\")\n",
    "    print(\"✅ Using MPS (Apple Silicon GPU)\")\n",
    "else:\n",
    "    device = torch.device(\"cpu\")\n",
    "    print(\"⚠️ MPS not available, falling back to CPU\")"
   ]
  },
  {
   "cell_type": "markdown",
   "id": "e996c3a4",
   "metadata": {},
   "source": [
    "## Patcher (entropy-based segmentation)"
   ]
  },
  {
   "cell_type": "markdown",
   "id": "19fb0d88",
   "metadata": {},
   "source": [
    "**Shannon Entropy Function**\n",
    "\n",
    "Helper to compute entropy of a sequence of characters.\n",
    "\n",
    "H = - \\sum p(x) \\cdot \\log_2(p(x))"
   ]
  },
  {
   "cell_type": "code",
   "execution_count": 36,
   "id": "82277daf",
   "metadata": {},
   "outputs": [],
   "source": [
    "import math\n",
    "from collections import Counter\n",
    "\n",
    "def shannon_entropy(text: str) -> float:\n",
    "    \"\"\"Compute Shannon entropy of a string.\"\"\"\n",
    "    if not text:\n",
    "        return 0.0\n",
    "    counts = Counter(text)\n",
    "    probs = [count / len(text) for count in counts.values()]\n",
    "    return -sum(p * math.log2(p) for p in probs)"
   ]
  },
  {
   "cell_type": "markdown",
   "id": "77e0b387",
   "metadata": {},
   "source": [
    "**Patcher Function**\n",
    "\n",
    "- Use sliding window of size W=10.\n",
    "- Keep adding characters to current patch until either:\n",
    "    - Entropy > threshold(2.0)\n",
    "    - Patch length > 15\n",
    "- Then start a new patch."
   ]
  },
  {
   "cell_type": "code",
   "execution_count": 37,
   "id": "38e3a66f",
   "metadata": {},
   "outputs": [],
   "source": [
    "def patchify(text: str, window_size=12, entropy_threshold=2.5, max_patch_len=20):\n",
    "    patches = []\n",
    "    current_patch = \"\"\n",
    "\n",
    "    for ch in text:\n",
    "        current_patch += ch\n",
    "\n",
    "        # Compute entropy only when window_size reached\n",
    "        entropy = (\n",
    "            shannon_entropy(current_patch[-window_size:])\n",
    "            if len(current_patch) >= window_size else 0\n",
    "        )\n",
    "\n",
    "        # Split condition: high entropy OR too long\n",
    "        if entropy > entropy_threshold or len(current_patch) >= max_patch_len:\n",
    "            if current_patch.strip():\n",
    "                patches.append(current_patch.strip())\n",
    "            current_patch = \"\"\n",
    "\n",
    "    # Add leftover patch\n",
    "    if current_patch.strip():\n",
    "        patches.append(current_patch.strip())\n",
    "\n",
    "    return patches"
   ]
  },
  {
   "cell_type": "markdown",
   "id": "d14303cb",
   "metadata": {},
   "source": [
    "**Test Patcher**"
   ]
  },
  {
   "cell_type": "code",
   "execution_count": 38,
   "id": "957e4446",
   "metadata": {},
   "outputs": [
    {
     "name": "stdout",
     "output_type": "stream",
     "text": [
      "\n",
      "Text: reconciliation trolls realized scene\n",
      "Patches: ['reconciliati', 'on trolls re', 'alized scene']\n",
      "\n",
      "Text: LMA is fun!\n",
      "Patches: ['LMA is fun!']\n",
      "\n",
      "Text: aaaaabbbbbcccccddddd\n",
      "Patches: ['aaaaabbbbbcccccddddd']\n"
     ]
    }
   ],
   "source": [
    "sample_texts = [\n",
    "    \"reconciliation trolls realized scene\", # High entropy, more splits\n",
    "    \"LMA is fun!\", # Based on threshold, may not split\n",
    "    \"aaaaabbbbbcccccddddd\"  # low entropy predictable\n",
    "]\n",
    "\n",
    "for txt in sample_texts:\n",
    "    patches = patchify(txt)\n",
    "    print(f\"\\nText: {txt}\")\n",
    "    print(\"Patches:\", patches)"
   ]
  },
  {
   "cell_type": "markdown",
   "id": "e6433b9b",
   "metadata": {},
   "source": [
    "## Hash N-Gram Embeddings\n",
    "\n",
    "1. Extract all n-grams (n=1,2,3) from each patch.\n",
    "2. Map each n-gram into a bucket in [0, 4095].\n",
    "3. Use an embedding lookup table (nn.Embedding) to get a 64-d vector.\n",
    "4. Sum all vectors → final patch embedding (shape = [64])."
   ]
  },
  {
   "cell_type": "markdown",
   "id": "a2b7888f",
   "metadata": {},
   "source": [
    "**Hash Function**"
   ]
  },
  {
   "cell_type": "code",
   "execution_count": 39,
   "id": "934382cc",
   "metadata": {},
   "outputs": [],
   "source": [
    "import hashlib\n",
    "\n",
    "def hash_ngram(ngram: str, num_buckets=4096) -> int:\n",
    "    \"\"\"Hash an n-gram string into a bucket [0, num_buckets-1].\"\"\"\n",
    "    return int(hashlib.md5(ngram.encode(\"utf-8\")).hexdigest(), 16) % num_buckets"
   ]
  },
  {
   "cell_type": "markdown",
   "id": "dc1af6fd",
   "metadata": {},
   "source": [
    "**N-Gram Extraction**"
   ]
  },
  {
   "cell_type": "code",
   "execution_count": 40,
   "id": "5d4f8101",
   "metadata": {},
   "outputs": [],
   "source": [
    "def extract_ngrams(text: str, n: int):\n",
    "    return [text[i:i+n] for i in range(len(text)-n+1)]"
   ]
  },
  {
   "cell_type": "markdown",
   "id": "844bc8a1",
   "metadata": {},
   "source": [
    "**Patch Embedding Module**"
   ]
  },
  {
   "cell_type": "code",
   "execution_count": 41,
   "id": "eaee92ff",
   "metadata": {},
   "outputs": [],
   "source": [
    "import torch\n",
    "import torch.nn as nn\n",
    "\n",
    "class PatchEmbedder(nn.Module):\n",
    "    def __init__(self, num_buckets=4096, embed_dim=64):\n",
    "        super().__init__()\n",
    "        self.embeddings = nn.ModuleDict({\n",
    "            \"1\": nn.Embedding(num_buckets, embed_dim),\n",
    "            \"2\": nn.Embedding(num_buckets, embed_dim),\n",
    "            \"3\": nn.Embedding(num_buckets, embed_dim),\n",
    "        })\n",
    "        # Xavier init\n",
    "        for emb in self.embeddings.values():\n",
    "            nn.init.xavier_uniform_(emb.weight)\n",
    "\n",
    "        self.num_buckets = num_buckets\n",
    "        self.embed_dim = embed_dim\n",
    "\n",
    "    def forward(self, patch: str):\n",
    "        \"\"\"Convert one patch string into a [embed_dim] vector.\"\"\"\n",
    "        vectors = []\n",
    "        # get device from embedding params\n",
    "        device = next(self.embeddings[\"1\"].parameters()).device  \n",
    "\n",
    "        for n in [1, 2, 3]:\n",
    "            ngrams = extract_ngrams(patch, n)\n",
    "            for ng in ngrams:\n",
    "                bucket = hash_ngram(ng, self.num_buckets)\n",
    "                idx = torch.tensor(bucket, dtype=torch.long, device=device)\n",
    "                vectors.append(self.embeddings[str(n)](idx))\n",
    "\n",
    "        if len(vectors) == 0:\n",
    "            return torch.zeros(self.embed_dim, device=device)\n",
    "\n",
    "        return torch.stack(vectors, dim=0).sum(dim=0)  # sum across n-grams"
   ]
  },
  {
   "cell_type": "markdown",
   "id": "0350e4c9",
   "metadata": {},
   "source": [
    "**Test It on Sample Patches**"
   ]
  },
  {
   "cell_type": "code",
   "execution_count": 42,
   "id": "61d18f42",
   "metadata": {},
   "outputs": [
    {
     "name": "stdout",
     "output_type": "stream",
     "text": [
      "Device: mps\n",
      "Patch: reconcilia | Embedding shape: torch.Size([64])\n",
      "Patch: tion troll | Embedding shape: torch.Size([64])\n",
      "Patch: s realized | Embedding shape: torch.Size([64])\n",
      "Patch:  scene | Embedding shape: torch.Size([64])\n"
     ]
    }
   ],
   "source": [
    "device = torch.device(\"mps\" if torch.backends.mps.is_available() else \"cpu\")\n",
    "embedder = PatchEmbedder().to(device)\n",
    "\n",
    "sample_patches = [\"reconcilia\", \"tion troll\", \"s realized\", \" scene\"]\n",
    "\n",
    "print(f\"Device: {device}\")\n",
    "\n",
    "for patch in sample_patches:\n",
    "    vec = embedder(patch)\n",
    "    print(f\"Patch: {patch} | Embedding shape: {vec.shape}\")"
   ]
  },
  {
   "cell_type": "markdown",
   "id": "a104ee9f",
   "metadata": {},
   "source": [
    "## BLT Dataset Class\n",
    "\n",
    "This dataset will:\n",
    "1. Read train.csv / test.csv.\n",
    "2. For each row:\n",
    "    - Take input string → apply patchify → embed patches into [seq_len, 64].\n",
    "    - Take target string → here we’ll keep it character-level for decoder supervision (simpler than patching the output).\n",
    "3. Return tensors for (src_seq, tgt_seq)."
   ]
  },
  {
   "cell_type": "code",
   "execution_count": 43,
   "id": "b6c261c2",
   "metadata": {},
   "outputs": [],
   "source": [
    "import torch\n",
    "from torch.utils.data import Dataset\n",
    "import pandas as pd\n",
    "\n",
    "PRINTABLE_ASCII = [chr(i) for i in range(32, 127)]\n",
    "VOCAB = ['<PAD>', '<SOS>', '<EOS>'] + PRINTABLE_ASCII # PAD=0, SOS=1, EOS=2\n",
    "\n",
    "# Mapping from character to index\n",
    "CHAR_TO_IDX = {ch: i for i, ch in enumerate(VOCAB)}\n",
    "PAD_IDX = CHAR_TO_IDX['<PAD>']\n",
    "SOS_IDX = CHAR_TO_IDX['<SOS>']\n",
    "EOS_IDX = CHAR_TO_IDX['<EOS>']\n",
    "\n",
    "\n",
    "class BLTDataset(Dataset):\n",
    "    def __init__(self, csv_path, window_size=12, entropy_threshold=2.5, max_patch_len=20):\n",
    "        self.data = pd.read_csv(csv_path)\n",
    "        self.window_size = window_size\n",
    "        self.entropy_threshold = entropy_threshold\n",
    "        self.max_patch_len = max_patch_len\n",
    "\n",
    "    def __len__(self):\n",
    "        return len(self.data)\n",
    "\n",
    "    def __getitem__(self, idx):\n",
    "        row = self.data.iloc[idx]\n",
    "        inp, tgt = row[\"input\"], row[\"target\"]\n",
    "\n",
    "        patches = patchify(inp, \n",
    "                            window_size=self.window_size,\n",
    "                            entropy_threshold=self.entropy_threshold,\n",
    "                            max_patch_len=self.max_patch_len)\n",
    "\n",
    "        # The vocabulary mapping\n",
    "        tgt_ids = [CHAR_TO_IDX.get(c, PAD_IDX) for c in tgt] \n",
    "        tgt_tensor = torch.tensor([SOS_IDX] + tgt_ids + [EOS_IDX], dtype=torch.long)\n",
    "\n",
    "        return patches, tgt_tensor"
   ]
  },
  {
   "cell_type": "code",
   "execution_count": 44,
   "id": "daa5889d",
   "metadata": {},
   "outputs": [
    {
     "name": "stdout",
     "output_type": "stream",
     "text": [
      "\n",
      "1. Source Data (Input):\n",
      "   - Type: <class 'list'>\n",
      "   - Number of patches: 3\n",
      "   - Patches content (first 5): ['reconciliati', 'on trolls re', 'alized scene']\n",
      "\n",
      "2. Target Data (Output):\n",
      "   - Type: <class 'torch.Tensor'>\n",
      "   - Shape: torch.Size([38])\n",
      "   - Dtype: torch.int64\n",
      "   - Content (first 15 IDs): [1, 72, 81, 72, 70, 86, 3, 71, 72, 93, 76, 79, 68, 72, 85]\n",
      "\n",
      "3. Target String Reconstruction:\n",
      "   - Reconstructed: <SOS>enecs dezilaer sllort noitailicnocer<EOS>\n",
      "   - Original:      <SOS>enecs dezilaer sllort noitailicnocer<EOS>\n"
     ]
    }
   ],
   "source": [
    "IDX_TO_CHAR = {i: ch for ch, i in CHAR_TO_IDX.items()}\n",
    "train_ds = BLTDataset(csv_path=\"./../data/train.csv\")\n",
    "src_patches, tgt_tensor = train_ds[0]\n",
    "\n",
    "print(\"\\n1. Source Data (Input):\")\n",
    "print(f\"   - Type: {type(src_patches)}\")\n",
    "print(f\"   - Number of patches: {len(src_patches)}\")\n",
    "print(f\"   - Patches content (first 5): {src_patches[:5]}\")\n",
    "\n",
    "print(\"\\n2. Target Data (Output):\")\n",
    "print(f\"   - Type: {type(tgt_tensor)}\")\n",
    "print(f\"   - Shape: {tgt_tensor.shape}\")\n",
    "print(f\"   - Dtype: {tgt_tensor.dtype}\")\n",
    "print(f\"   - Content (first 15 IDs): {tgt_tensor[:15].tolist()}\") # .tolist() for clean printing\n",
    "\n",
    "# 3. Check the reconstruction\n",
    "reconstructed_string = \"\".join([IDX_TO_CHAR.get(i.item(), '') for i in tgt_tensor])\n",
    "print(\"\\n3. Target String Reconstruction:\")\n",
    "print(f\"   - Reconstructed: {reconstructed_string}\")\n",
    "\n",
    "original_target = train_df.iloc[0]['target']\n",
    "print(f\"   - Original:      <SOS>{original_target}<EOS>\")"
   ]
  },
  {
   "cell_type": "markdown",
   "id": "2780e7a1",
   "metadata": {},
   "source": [
    "## Collate Function for BLT\n",
    "\n",
    "We’ll:\n",
    "1. Take a batch of (src_seq, tgt_seq).\n",
    "2. Pad src_seq to [batch, max_src_len, 64].\n",
    "3. Pad tgt_seq to [batch, max_tgt_len].\n",
    "4. Return padded tensors + lengths (useful for masking in the model)."
   ]
  },
  {
   "cell_type": "code",
   "execution_count": 45,
   "id": "89b5f12c",
   "metadata": {},
   "outputs": [],
   "source": [
    "from torch.nn.utils.rnn import pad_sequence\n",
    "\n",
    "def blt_collate_fn(batch):\n",
    "    # batch is a list of (patches, tgt_tensor)\n",
    "    src_patches, tgt_seqs = zip(*batch)\n",
    "\n",
    "    # Pad target sequences (char IDs)\n",
    "    tgt_padded = pad_sequence(tgt_seqs, batch_first=True, padding_value=0) # Assuming 0 is PAD_IDX\n",
    "\n",
    "    # The source patches remain a list of lists of strings\n",
    "    # e.g., [ ['patch1', 'patch2'], ['p1', 'p2', 'p3'], ... ]\n",
    "    return list(src_patches), tgt_padded"
   ]
  },
  {
   "cell_type": "code",
   "execution_count": 48,
   "id": "47d6674f",
   "metadata": {},
   "outputs": [
    {
     "name": "stdout",
     "output_type": "stream",
     "text": [
      "Running Sanity Check on DataLoader\n",
      "\n",
      "1. Source Data Batch (Input):\n",
      "   - Type: <class 'list'>\n",
      "   - Length (Batch Size): 8\n",
      "   - Content of first item in batch: ['harrington +', 'm foot live', 'r fossils me', 'lody excite', 'explicitly t', 'rough winger', 's phases par', 'alyzed melt']\n",
      "\n",
      "2. Target Data Batch (Output):\n",
      "   - Type: <class 'torch.Tensor'>\n",
      "   - Shape (Batch Size, Max Target Length): torch.Size([8, 120])\n"
     ]
    }
   ],
   "source": [
    "from torch.utils.data import DataLoader\n",
    "from torch.utils.data import random_split\n",
    "\n",
    "train_size = int(0.9 * len(train_ds))\n",
    "val_size   = len(train_ds) - train_size\n",
    "train_subset, val_subset = random_split(train_ds, [train_size, val_size])\n",
    "\n",
    "train_loader = DataLoader(\n",
    "    train_subset,\n",
    "    batch_size=8,\n",
    "    shuffle=True,\n",
    "    collate_fn=blt_collate_fn\n",
    ")\n",
    "\n",
    "val_loader = DataLoader(\n",
    "    val_subset,\n",
    "    batch_size=4,\n",
    "    shuffle=False,\n",
    "    collate_fn=blt_collate_fn\n",
    ")\n",
    "\n",
    "print(\"Running Sanity Check on DataLoader\")\n",
    "src_patches_batch, tgt_padded_batch = next(iter(train_loader))\n",
    "\n",
    "print(\"\\n1. Source Data Batch (Input):\")\n",
    "print(f\"   - Type: {type(src_patches_batch)}\")\n",
    "print(f\"   - Length (Batch Size): {len(src_patches_batch)}\")\n",
    "print(f\"   - Content of first item in batch: {src_patches_batch[0]}\")\n",
    "\n",
    "print(\"\\n2. Target Data Batch (Output):\")\n",
    "print(f\"   - Type: {type(tgt_padded_batch)}\")\n",
    "print(f\"   - Shape (Batch Size, Max Target Length): {tgt_padded_batch.shape}\")"
   ]
  },
  {
   "cell_type": "markdown",
   "id": "0b1b0951",
   "metadata": {},
   "source": [
    "## BLT Model Architecture\n",
    "\n",
    "Core Idea:\n",
    "1. Encoder: Take patch embeddings [B, L, 64], map into hidden dimension with a transformer encoder.\n",
    "2. Decoder: Generate characters (IDs) step by step using a transformer decoder.\n",
    "3. Output layer: Linear projection → vocab size."
   ]
  },
  {
   "cell_type": "code",
   "execution_count": 50,
   "id": "40936686",
   "metadata": {},
   "outputs": [],
   "source": [
    "import torch\n",
    "import torch.nn as nn\n",
    "import math\n",
    "\n",
    "class PositionalEncoding(nn.Module):\n",
    "    def __init__(self, d_model: int, dropout: float = 0.1, max_len: int = 5000):\n",
    "        super().__init__()\n",
    "        self.dropout = nn.Dropout(p=dropout)\n",
    "\n",
    "        position = torch.arange(max_len).unsqueeze(1)\n",
    "        div_term = torch.exp(torch.arange(0, d_model, 2) * (-math.log(10000.0) / d_model))\n",
    "        pe = torch.zeros(max_len, 1, d_model)\n",
    "        pe[:, 0, 0::2] = torch.sin(position * div_term)\n",
    "        pe[:, 0, 1::2] = torch.cos(position * div_term)\n",
    "        self.register_buffer('pe', pe)\n",
    "\n",
    "    def forward(self, x: torch.Tensor) -> torch.Tensor:\n",
    "        \"\"\"\n",
    "        Args:\n",
    "            x: Tensor, shape [batch_size, seq_len, embedding_dim]\n",
    "        \"\"\"\n",
    "        # Note: In our implementation, we use batch_first=True, so the shape is [B, L, D].\n",
    "        # The stored pe is [max_len, 1, D]. We need to adjust it for batch.\n",
    "        x = x + self.pe[:x.size(1)].transpose(0, 1) # Transpose to [1, L, D] to broadcast\n",
    "        return self.dropout(x)"
   ]
  },
  {
   "cell_type": "code",
   "execution_count": 59,
   "id": "f28faa30",
   "metadata": {},
   "outputs": [],
   "source": [
    "from torch.nn.utils.rnn import pad_sequence\n",
    "\n",
    "# Assume PatchEmbedder, PositionalEncoding, and helper functions are defined above\n",
    "\n",
    "class BLTModel(nn.Module):\n",
    "    def __init__(self, vocab_size, d_model=64, nhead=4, dropout=0.1):\n",
    "        super().__init__()\n",
    "        \n",
    "        self.d_model = d_model\n",
    "        self.patch_embedder = PatchEmbedder(num_buckets=4096, embed_dim=d_model)\n",
    "        self.global_token = nn.Parameter(torch.randn(1, 1, d_model))\n",
    "        self.tgt_embed = nn.Embedding(vocab_size, d_model)\n",
    "        self.pos_encoder = PositionalEncoding(d_model, dropout=dropout)\n",
    "\n",
    "        # --- ARCHITECTURE (1-1-2 STRUCTURE) ---\n",
    "        # 1. ENCODER (1 Block)\n",
    "        encoder_layer = nn.TransformerEncoderLayer(\n",
    "            d_model=d_model, nhead=nhead, dim_feedforward=d_model*4, \n",
    "            dropout=dropout, batch_first=True\n",
    "        )\n",
    "        # FIX: Added 'enable_nested_tensor=False' for MPS compatibility\n",
    "        self.encoder = nn.TransformerEncoder(encoder_layer, num_layers=1, enable_nested_tensor=False)\n",
    "\n",
    "        # 2. GLOBAL TRANSFORMER (2 Blocks)\n",
    "        global_layer = nn.TransformerEncoderLayer(\n",
    "            d_model=d_model, nhead=nhead, dim_feedforward=d_model*4,\n",
    "            dropout=dropout, batch_first=True\n",
    "        )\n",
    "        # FIX: Added 'enable_nested_tensor=False' for MPS compatibility\n",
    "        self.global_transformer = nn.TransformerEncoder(global_layer, num_layers=2, enable_nested_tensor=False)\n",
    "\n",
    "        # 3. DECODER (1 Block)\n",
    "        decoder_layer = nn.TransformerDecoderLayer(\n",
    "            d_model=d_model, nhead=nhead, dim_feedforward=d_model*4,\n",
    "            dropout=dropout, batch_first=True\n",
    "        )\n",
    "        self.decoder = nn.TransformerDecoder(decoder_layer, num_layers=1)\n",
    "\n",
    "        # --- FINAL OUTPUT LAYER ---\n",
    "        self.norm = nn.LayerNorm(d_model)\n",
    "        self.output_proj = nn.Linear(d_model, vocab_size)\n",
    "\n",
    "    def forward(self, src_patches_batch, tgt_inp, tgt_pad_mask=None):\n",
    "        # src_patches_batch: A list (size B) of lists of patch strings\n",
    "        # tgt_inp: [B, Lt] (character IDs for teacher forcing)\n",
    "        \n",
    "        device = self.global_token.device\n",
    "\n",
    "        # --- 1. Get Patch Embeddings and Pad ---\n",
    "        batch_embeddings = []\n",
    "        for patch_list in src_patches_batch:\n",
    "            if not patch_list:\n",
    "                sample_emb = torch.zeros(1, self.d_model, device=device)\n",
    "            else:\n",
    "                sample_emb = torch.stack([self.patch_embedder(p) for p in patch_list])\n",
    "            batch_embeddings.append(sample_emb)\n",
    "        \n",
    "        src_emb = pad_sequence(batch_embeddings, batch_first=True, padding_value=0.0)\n",
    "        B, Ls, _ = src_emb.shape\n",
    "\n",
    "        # --- 2. Prepend Global Token ---\n",
    "        global_token_batch = self.global_token.expand(B, -1, -1)\n",
    "        encoder_input = torch.cat([global_token_batch, src_emb], dim=1)\n",
    "        encoder_input = self.pos_encoder(encoder_input)\n",
    "\n",
    "        # --- 3. Pass through 1-Block Encoder ---\n",
    "        src_key_padding_mask = (torch.cat([\n",
    "            torch.zeros(B, 1, device=device), # Mask for global token is False\n",
    "            src_emb.sum(dim=-1) == 0 # Mask for padded patches is True\n",
    "        ], dim=1)).bool()\n",
    "        \n",
    "        encoder_output = self.encoder(encoder_input, src_key_padding_mask=src_key_padding_mask)\n",
    "\n",
    "        # --- 4. Isolate Global Token and Pass through 2-Block Global Transformer ---\n",
    "        global_context = encoder_output[:, 0:1, :]\n",
    "        memory = self.global_transformer(global_context)\n",
    "\n",
    "        # --- 5. Pass through 1-Block Decoder ---\n",
    "        tgt_emb = self.pos_encoder(self.tgt_embed(tgt_inp))\n",
    "        causal_mask = nn.Transformer.generate_square_subsequent_mask(tgt_inp.size(1)).to(device)\n",
    "        \n",
    "        decoder_output = self.decoder(\n",
    "            tgt=tgt_emb,\n",
    "            memory=memory,\n",
    "            tgt_mask=causal_mask,\n",
    "            tgt_key_padding_mask=tgt_pad_mask\n",
    "        )\n",
    "        \n",
    "        # --- 6. Final Projection ---\n",
    "        normalized_output = self.norm(decoder_output)\n",
    "        logits = self.output_proj(normalized_output)\n",
    "        \n",
    "        return logits"
   ]
  },
  {
   "cell_type": "code",
   "execution_count": 60,
   "id": "e965f57a",
   "metadata": {},
   "outputs": [
    {
     "name": "stdout",
     "output_type": "stream",
     "text": [
      "--- Final Model Sanity Check ---\n",
      "Logits shape: torch.Size([8, 133, 98])\n",
      "Expected shape: (8, 133, 98)\n",
      "\n",
      "✅ Shapes are correct and ready for the training loop!\n"
     ]
    },
    {
     "name": "stderr",
     "output_type": "stream",
     "text": [
      "/Library/Frameworks/Python.framework/Versions/3.13/lib/python3.13/site-packages/torch/nn/functional.py:6041: UserWarning: Support for mismatched key_padding_mask and attn_mask is deprecated. Use same type for both instead.\n",
      "  warnings.warn(\n"
     ]
    }
   ],
   "source": [
    "# Assume your vocab (VOCAB, PAD_IDX), dataloaders, and model classes are defined above\n",
    "\n",
    "# --- Step 1: Correct the Hyperparameters ---\n",
    "# The vocabulary is printable ASCII (95 chars) + 3 special tokens, not 256.\n",
    "VOCAB_SIZE = len(VOCAB) # This should be 98\n",
    "D_MODEL = 64            # As per the assignment [cite: 22]\n",
    "N_HEAD = 4\n",
    "DROPOUT = 0.1\n",
    "device = torch.device(\"mps\" if torch.backends.mps.is_available() else \"cpu\")\n",
    "\n",
    "# --- Step 2: Correct the Model Instantiation ---\n",
    "# Use the new model's argument names (vocab_size, d_model, etc.)\n",
    "model = BLTModel(\n",
    "    vocab_size=VOCAB_SIZE,\n",
    "    d_model=D_MODEL,\n",
    "    nhead=N_HEAD,\n",
    "    dropout=DROPOUT\n",
    ").to(device)\n",
    "\n",
    "\n",
    "# --- Step 3: Correct the Batch Handling and Model Call ---\n",
    "\n",
    "# Fetch a single batch from your train_loader\n",
    "# Unpack the 2 items returned by your collate_fn: a list of patches and a padded tensor\n",
    "src_patches_batch, tgt_padded_batch = next(iter(train_loader))\n",
    "tgt_padded_batch = tgt_padded_batch.to(device)\n",
    "\n",
    "# Prepare for Teacher Forcing\n",
    "tgt_inp = tgt_padded_batch[:, :-1]  # All but the last token\n",
    "tgt_out = tgt_padded_batch[:, 1:]   # All but the first token\n",
    "\n",
    "# Create the padding mask for the decoder input\n",
    "tgt_pad_mask = (tgt_inp == PAD_IDX)\n",
    "\n",
    "# Call the model with the correct arguments for the new forward pass\n",
    "# (a list of patches, the input tensor, and the padding mask)\n",
    "logits = model(src_patches_batch, tgt_inp, tgt_pad_mask)\n",
    "\n",
    "\n",
    "# --- Step 4: Check the Output Shape ---\n",
    "print(\"--- Final Model Sanity Check ---\")\n",
    "print(f\"Logits shape: {logits.shape}\")\n",
    "print(f\"Expected shape: ({tgt_out.shape[0]}, {tgt_out.shape[1]}, {VOCAB_SIZE})\")\n",
    "\n",
    "assert logits.shape[0] == tgt_out.shape[0]\n",
    "assert logits.shape[1] == tgt_out.shape[1]\n",
    "assert logits.shape[2] == VOCAB_SIZE\n",
    "print(\"\\n✅ Shapes are correct and ready for the training loop!\")"
   ]
  },
  {
   "cell_type": "markdown",
   "id": "c25767bd",
   "metadata": {},
   "source": [
    "## Training Loop + Checkpoints\n",
    "\n",
    "We’ll set up:\n",
    "1. Loss = CrossEntropyLoss(ignore_index=0) (ignores PAD tokens).\n",
    "2. Optimizer = Adam.\n",
    "3. Training loop with logging.\n",
    "4. Checkpoint saving (state_dict, optimizer, epoch, loss)."
   ]
  },
  {
   "cell_type": "code",
   "execution_count": 61,
   "id": "361dc301",
   "metadata": {},
   "outputs": [],
   "source": [
    "import torch\n",
    "import torch.nn as nn\n",
    "import torch.optim as optim\n",
    "import os\n",
    "import math\n",
    "from torch.nn.utils import clip_grad_norm_\n",
    "from tqdm.auto import tqdm\n",
    "\n",
    "# ----------------------------\n",
    "# Training loop for BLT model\n",
    "# ----------------------------\n",
    "def train_blt(\n",
    "    model, \n",
    "    train_loader, \n",
    "    val_loader,\n",
    "    num_epochs,\n",
    "    lr,\n",
    "    device,\n",
    "    save_every,\n",
    "    resume_path=None\n",
    "):\n",
    "    print(f\"Training on: {device}\")\n",
    "    model = model.to(device)\n",
    "    optimizer = optim.Adam(model.parameters(), lr=lr)\n",
    "    criterion = nn.CrossEntropyLoss(ignore_index=PAD_IDX) # Use your defined PAD_IDX\n",
    "    scheduler = torch.optim.lr_scheduler.ReduceLROnPlateau(optimizer, \"min\", factor=0.5, patience=5)\n",
    "    os.makedirs(\"checkpoints\", exist_ok=True)\n",
    "\n",
    "    # Resume\n",
    "    start_epoch = 1\n",
    "    if resume_path and os.path.exists(resume_path):\n",
    "        print(f\"🔄 Resuming from checkpoint: {resume_path}\")\n",
    "        checkpoint = torch.load(resume_path, map_location=device)\n",
    "        model.load_state_dict(checkpoint[\"model_state\"])\n",
    "        optimizer.load_state_dict(checkpoint[\"optimizer_state\"])\n",
    "        start_epoch = checkpoint[\"epoch\"] + 1\n",
    "        if \"scheduler_state\" in checkpoint:\n",
    "            scheduler.load_state_dict(checkpoint[\"scheduler_state\"])\n",
    "        print(f\"✅ Resumed from epoch {checkpoint['epoch']} (loss {checkpoint['loss']:.4f})\")\n",
    "\n",
    "    for epoch in range(start_epoch, num_epochs + 1):\n",
    "        model.train()\n",
    "        total_loss = 0.0\n",
    "        total_tokens = 0\n",
    "        \n",
    "        progress_bar = tqdm(train_loader, desc=f\"Epoch {epoch}/{num_epochs} [Training]\")\n",
    "\n",
    "        for src_patches, tgt_padded in progress_bar:\n",
    "            tgt_padded = tgt_padded.to(device)\n",
    "            tgt_inp = tgt_padded[:, :-1]\n",
    "            tgt_out = tgt_padded[:, 1:]\n",
    "            tgt_pad_mask = (tgt_inp == PAD_IDX)\n",
    "\n",
    "            logits = model(src_patches, tgt_inp, tgt_pad_mask)\n",
    "            loss = criterion(logits.reshape(-1, logits.shape[-1]), tgt_out.reshape(-1))\n",
    "\n",
    "            optimizer.zero_grad()\n",
    "            loss.backward()\n",
    "            clip_grad_norm_(model.parameters(), max_norm=1.0)\n",
    "            optimizer.step()\n",
    "\n",
    "            total_loss += loss.item() * tgt_out.numel()\n",
    "            total_tokens += tgt_out.numel()\n",
    "\n",
    "        avg_loss = total_loss / total_tokens if total_tokens > 0 else 0\n",
    "        print(f\"\\n📘 Epoch {epoch}/{num_epochs} - Train Loss: {avg_loss:.4f}\")\n",
    "\n",
    "        val_loss, val_acc = evaluate(model, val_loader, criterion, device)\n",
    "        perplexity = math.exp(val_loss) if val_loss < 100 else float('inf')\n",
    "        print(f\"📗 Validation - Loss: {val_loss:.4f}, Perplexity: {perplexity:.2f}, Token Acc: {val_acc:.2f}%\")\n",
    "        \n",
    "        scheduler.step(val_loss)\n",
    "\n",
    "        # Save checkpoint\n",
    "        if epoch % save_every == 0 or epoch == num_epochs:\n",
    "            ckpt_path = f\"checkpoints/blt_epoch{epoch}.pt\"\n",
    "            torch.save({ \"epoch\": epoch, \"model_state\": model.state_dict(), \"optimizer_state\": optimizer.state_dict(), \"scheduler_state\": scheduler.state_dict(), \"loss\": avg_loss }, ckpt_path)\n",
    "            print(f\"✅ Saved checkpoint: {ckpt_path}\")\n",
    "\n",
    "@torch.no_grad()\n",
    "def evaluate(model, val_loader, criterion, device):\n",
    "    model.eval()\n",
    "    total_loss = 0.0\n",
    "    total_tokens = 0\n",
    "    correct_tokens = 0\n",
    "\n",
    "    progress_bar = tqdm(val_loader, desc=\"Validating\")\n",
    "\n",
    "    for src_patches, tgt_padded in progress_bar:\n",
    "        tgt_padded = tgt_padded.to(device)\n",
    "        tgt_inp = tgt_padded[:, :-1]\n",
    "        tgt_out = tgt_padded[:, 1:]\n",
    "        tgt_pad_mask = (tgt_inp == PAD_IDX)\n",
    "        \n",
    "        logits = model(src_patches, tgt_inp, tgt_pad_mask)\n",
    "        loss = criterion(logits.reshape(-1, logits.shape[-1]), tgt_out.reshape(-1))\n",
    "        \n",
    "        total_loss += loss.item() * (tgt_out != PAD_IDX).sum().item() # Count non-padded tokens for loss\n",
    "        \n",
    "        preds = logits.argmax(dim=-1)\n",
    "        mask = (tgt_out != PAD_IDX)\n",
    "        correct_tokens += ((preds == tgt_out) & mask).sum().item()\n",
    "        total_tokens += mask.sum().item()\n",
    "\n",
    "    avg_loss = total_loss / total_tokens if total_tokens > 0 else 0\n",
    "    accuracy = 100.0 * correct_tokens / total_tokens if total_tokens > 0 else 0\n",
    "    return avg_loss, accuracy"
   ]
  },
  {
   "cell_type": "code",
   "execution_count": 63,
   "id": "8b94386c",
   "metadata": {},
   "outputs": [
    {
     "name": "stdout",
     "output_type": "stream",
     "text": [
      "Training on: mps\n"
     ]
    },
    {
     "data": {
      "application/vnd.jupyter.widget-view+json": {
       "model_id": "18f04a76f02d4adcbe81097d429cc1d9",
       "version_major": 2,
       "version_minor": 0
      },
      "text/plain": [
       "Epoch 1/300 [Training]:   0%|          | 0/1125 [00:00<?, ?it/s]"
      ]
     },
     "metadata": {},
     "output_type": "display_data"
    },
    {
     "name": "stderr",
     "output_type": "stream",
     "text": [
      "/Library/Frameworks/Python.framework/Versions/3.13/lib/python3.13/site-packages/torch/nn/functional.py:6041: UserWarning: Support for mismatched key_padding_mask and attn_mask is deprecated. Use same type for both instead.\n",
      "  warnings.warn(\n"
     ]
    },
    {
     "name": "stdout",
     "output_type": "stream",
     "text": [
      "\n",
      "📘 Epoch 1/300 - Train Loss: 2.9616\n"
     ]
    },
    {
     "data": {
      "application/vnd.jupyter.widget-view+json": {
       "model_id": "ed21c8bd43f74018a0a4d2d5067e8009",
       "version_major": 2,
       "version_minor": 0
      },
      "text/plain": [
       "Validating:   0%|          | 0/250 [00:00<?, ?it/s]"
      ]
     },
     "metadata": {},
     "output_type": "display_data"
    },
    {
     "name": "stdout",
     "output_type": "stream",
     "text": [
      "📗 Validation - Loss: 2.6513, Perplexity: 14.17, Token Acc: 21.77%\n"
     ]
    },
    {
     "data": {
      "application/vnd.jupyter.widget-view+json": {
       "model_id": "1747840f18d74e159546b1a386e906e9",
       "version_major": 2,
       "version_minor": 0
      },
      "text/plain": [
       "Epoch 2/300 [Training]:   0%|          | 0/1125 [00:00<?, ?it/s]"
      ]
     },
     "metadata": {},
     "output_type": "display_data"
    },
    {
     "name": "stdout",
     "output_type": "stream",
     "text": [
      "\n",
      "📘 Epoch 2/300 - Train Loss: 2.6379\n"
     ]
    },
    {
     "data": {
      "application/vnd.jupyter.widget-view+json": {
       "model_id": "ed91969e14304ec998eb453f7450e5ff",
       "version_major": 2,
       "version_minor": 0
      },
      "text/plain": [
       "Validating:   0%|          | 0/250 [00:00<?, ?it/s]"
      ]
     },
     "metadata": {},
     "output_type": "display_data"
    },
    {
     "name": "stdout",
     "output_type": "stream",
     "text": [
      "📗 Validation - Loss: 2.5659, Perplexity: 13.01, Token Acc: 23.33%\n",
      "✅ Saved checkpoint: checkpoints/blt_epoch2.pt\n"
     ]
    },
    {
     "data": {
      "application/vnd.jupyter.widget-view+json": {
       "model_id": "cd0c311dd4754d4b8d6b39a735b965d5",
       "version_major": 2,
       "version_minor": 0
      },
      "text/plain": [
       "Epoch 3/300 [Training]:   0%|          | 0/1125 [00:00<?, ?it/s]"
      ]
     },
     "metadata": {},
     "output_type": "display_data"
    },
    {
     "name": "stdout",
     "output_type": "stream",
     "text": [
      "\n",
      "📘 Epoch 3/300 - Train Loss: 2.5791\n"
     ]
    },
    {
     "data": {
      "application/vnd.jupyter.widget-view+json": {
       "model_id": "a0432429f3f54dbeacc56cccb99cafab",
       "version_major": 2,
       "version_minor": 0
      },
      "text/plain": [
       "Validating:   0%|          | 0/250 [00:00<?, ?it/s]"
      ]
     },
     "metadata": {},
     "output_type": "display_data"
    },
    {
     "name": "stdout",
     "output_type": "stream",
     "text": [
      "📗 Validation - Loss: 2.5193, Perplexity: 12.42, Token Acc: 24.34%\n"
     ]
    },
    {
     "data": {
      "application/vnd.jupyter.widget-view+json": {
       "model_id": "b3da82d7112645edb7ade174f3002d2c",
       "version_major": 2,
       "version_minor": 0
      },
      "text/plain": [
       "Epoch 4/300 [Training]:   0%|          | 0/1125 [00:00<?, ?it/s]"
      ]
     },
     "metadata": {},
     "output_type": "display_data"
    },
    {
     "name": "stdout",
     "output_type": "stream",
     "text": [
      "\n",
      "📘 Epoch 4/300 - Train Loss: 2.5480\n"
     ]
    },
    {
     "data": {
      "application/vnd.jupyter.widget-view+json": {
       "model_id": "2903e496ef834dfd8c115c7da204cd74",
       "version_major": 2,
       "version_minor": 0
      },
      "text/plain": [
       "Validating:   0%|          | 0/250 [00:00<?, ?it/s]"
      ]
     },
     "metadata": {},
     "output_type": "display_data"
    },
    {
     "name": "stdout",
     "output_type": "stream",
     "text": [
      "📗 Validation - Loss: 2.4904, Perplexity: 12.07, Token Acc: 25.07%\n",
      "✅ Saved checkpoint: checkpoints/blt_epoch4.pt\n"
     ]
    },
    {
     "data": {
      "application/vnd.jupyter.widget-view+json": {
       "model_id": "5e1419687c284d5c9119e92b89288eb8",
       "version_major": 2,
       "version_minor": 0
      },
      "text/plain": [
       "Epoch 5/300 [Training]:   0%|          | 0/1125 [00:00<?, ?it/s]"
      ]
     },
     "metadata": {},
     "output_type": "display_data"
    },
    {
     "name": "stdout",
     "output_type": "stream",
     "text": [
      "\n",
      "📘 Epoch 5/300 - Train Loss: 2.5237\n"
     ]
    },
    {
     "data": {
      "application/vnd.jupyter.widget-view+json": {
       "model_id": "dc32530728f34edb8c3bd6963336d025",
       "version_major": 2,
       "version_minor": 0
      },
      "text/plain": [
       "Validating:   0%|          | 0/250 [00:00<?, ?it/s]"
      ]
     },
     "metadata": {},
     "output_type": "display_data"
    },
    {
     "name": "stdout",
     "output_type": "stream",
     "text": [
      "📗 Validation - Loss: 2.4670, Perplexity: 11.79, Token Acc: 25.63%\n"
     ]
    },
    {
     "data": {
      "application/vnd.jupyter.widget-view+json": {
       "model_id": "0a8f9cfe24cd422bb545c605d027eab1",
       "version_major": 2,
       "version_minor": 0
      },
      "text/plain": [
       "Epoch 6/300 [Training]:   0%|          | 0/1125 [00:00<?, ?it/s]"
      ]
     },
     "metadata": {},
     "output_type": "display_data"
    },
    {
     "name": "stdout",
     "output_type": "stream",
     "text": [
      "\n",
      "📘 Epoch 6/300 - Train Loss: 2.5072\n"
     ]
    },
    {
     "data": {
      "application/vnd.jupyter.widget-view+json": {
       "model_id": "c4ab347360f54a1faf83832e3c16b8a9",
       "version_major": 2,
       "version_minor": 0
      },
      "text/plain": [
       "Validating:   0%|          | 0/250 [00:00<?, ?it/s]"
      ]
     },
     "metadata": {},
     "output_type": "display_data"
    },
    {
     "name": "stdout",
     "output_type": "stream",
     "text": [
      "📗 Validation - Loss: 2.4503, Perplexity: 11.59, Token Acc: 25.99%\n",
      "✅ Saved checkpoint: checkpoints/blt_epoch6.pt\n"
     ]
    },
    {
     "data": {
      "application/vnd.jupyter.widget-view+json": {
       "model_id": "06a8bb9e05f64d79a45f6bad61a99415",
       "version_major": 2,
       "version_minor": 0
      },
      "text/plain": [
       "Epoch 7/300 [Training]:   0%|          | 0/1125 [00:00<?, ?it/s]"
      ]
     },
     "metadata": {},
     "output_type": "display_data"
    },
    {
     "name": "stdout",
     "output_type": "stream",
     "text": [
      "\n",
      "📘 Epoch 7/300 - Train Loss: 2.4921\n"
     ]
    },
    {
     "data": {
      "application/vnd.jupyter.widget-view+json": {
       "model_id": "100eff1997764798b119beb79aa8fa4c",
       "version_major": 2,
       "version_minor": 0
      },
      "text/plain": [
       "Validating:   0%|          | 0/250 [00:00<?, ?it/s]"
      ]
     },
     "metadata": {},
     "output_type": "display_data"
    },
    {
     "name": "stdout",
     "output_type": "stream",
     "text": [
      "📗 Validation - Loss: 2.4355, Perplexity: 11.42, Token Acc: 26.56%\n"
     ]
    },
    {
     "data": {
      "application/vnd.jupyter.widget-view+json": {
       "model_id": "601e4cdf66154f9eac2ff8933bdf9bc2",
       "version_major": 2,
       "version_minor": 0
      },
      "text/plain": [
       "Epoch 8/300 [Training]:   0%|          | 0/1125 [00:00<?, ?it/s]"
      ]
     },
     "metadata": {},
     "output_type": "display_data"
    },
    {
     "name": "stdout",
     "output_type": "stream",
     "text": [
      "\n",
      "📘 Epoch 8/300 - Train Loss: 2.4790\n"
     ]
    },
    {
     "data": {
      "application/vnd.jupyter.widget-view+json": {
       "model_id": "dc6977635b4447528f4189c61a0237e8",
       "version_major": 2,
       "version_minor": 0
      },
      "text/plain": [
       "Validating:   0%|          | 0/250 [00:00<?, ?it/s]"
      ]
     },
     "metadata": {},
     "output_type": "display_data"
    },
    {
     "name": "stdout",
     "output_type": "stream",
     "text": [
      "📗 Validation - Loss: 2.4185, Perplexity: 11.23, Token Acc: 26.98%\n",
      "✅ Saved checkpoint: checkpoints/blt_epoch8.pt\n"
     ]
    },
    {
     "data": {
      "application/vnd.jupyter.widget-view+json": {
       "model_id": "ca702de63ef8488fbfecb1165105274d",
       "version_major": 2,
       "version_minor": 0
      },
      "text/plain": [
       "Epoch 9/300 [Training]:   0%|          | 0/1125 [00:00<?, ?it/s]"
      ]
     },
     "metadata": {},
     "output_type": "display_data"
    },
    {
     "name": "stdout",
     "output_type": "stream",
     "text": [
      "\n",
      "📘 Epoch 9/300 - Train Loss: 2.4673\n"
     ]
    },
    {
     "data": {
      "application/vnd.jupyter.widget-view+json": {
       "model_id": "37baeaed757e44e895ec43d265d54a0c",
       "version_major": 2,
       "version_minor": 0
      },
      "text/plain": [
       "Validating:   0%|          | 0/250 [00:00<?, ?it/s]"
      ]
     },
     "metadata": {},
     "output_type": "display_data"
    },
    {
     "name": "stdout",
     "output_type": "stream",
     "text": [
      "📗 Validation - Loss: 2.4044, Perplexity: 11.07, Token Acc: 27.37%\n"
     ]
    },
    {
     "data": {
      "application/vnd.jupyter.widget-view+json": {
       "model_id": "c19d6eafea6a4a0682a38fd6ce75b754",
       "version_major": 2,
       "version_minor": 0
      },
      "text/plain": [
       "Epoch 10/300 [Training]:   0%|          | 0/1125 [00:00<?, ?it/s]"
      ]
     },
     "metadata": {},
     "output_type": "display_data"
    },
    {
     "name": "stdout",
     "output_type": "stream",
     "text": [
      "\n",
      "📘 Epoch 10/300 - Train Loss: 2.4569\n"
     ]
    },
    {
     "data": {
      "application/vnd.jupyter.widget-view+json": {
       "model_id": "b668452952a74d0695e4a6be54236d9c",
       "version_major": 2,
       "version_minor": 0
      },
      "text/plain": [
       "Validating:   0%|          | 0/250 [00:00<?, ?it/s]"
      ]
     },
     "metadata": {},
     "output_type": "display_data"
    },
    {
     "name": "stdout",
     "output_type": "stream",
     "text": [
      "📗 Validation - Loss: 2.3925, Perplexity: 10.94, Token Acc: 27.67%\n",
      "✅ Saved checkpoint: checkpoints/blt_epoch10.pt\n"
     ]
    },
    {
     "data": {
      "application/vnd.jupyter.widget-view+json": {
       "model_id": "5395997a4aa6412e9409ff4c9004ad65",
       "version_major": 2,
       "version_minor": 0
      },
      "text/plain": [
       "Epoch 11/300 [Training]:   0%|          | 0/1125 [00:00<?, ?it/s]"
      ]
     },
     "metadata": {},
     "output_type": "display_data"
    },
    {
     "name": "stdout",
     "output_type": "stream",
     "text": [
      "\n",
      "📘 Epoch 11/300 - Train Loss: 2.4471\n"
     ]
    },
    {
     "data": {
      "application/vnd.jupyter.widget-view+json": {
       "model_id": "5b5b05d65bd74bfcb9542d611ed073f3",
       "version_major": 2,
       "version_minor": 0
      },
      "text/plain": [
       "Validating:   0%|          | 0/250 [00:00<?, ?it/s]"
      ]
     },
     "metadata": {},
     "output_type": "display_data"
    },
    {
     "name": "stdout",
     "output_type": "stream",
     "text": [
      "📗 Validation - Loss: 2.3818, Perplexity: 10.82, Token Acc: 28.09%\n"
     ]
    },
    {
     "data": {
      "application/vnd.jupyter.widget-view+json": {
       "model_id": "318fcc29ecd94b60aa1fc3b4852de47d",
       "version_major": 2,
       "version_minor": 0
      },
      "text/plain": [
       "Epoch 12/300 [Training]:   0%|          | 0/1125 [00:00<?, ?it/s]"
      ]
     },
     "metadata": {},
     "output_type": "display_data"
    },
    {
     "name": "stdout",
     "output_type": "stream",
     "text": [
      "\n",
      "📘 Epoch 12/300 - Train Loss: 2.4385\n"
     ]
    },
    {
     "data": {
      "application/vnd.jupyter.widget-view+json": {
       "model_id": "d10e4a1a57a74139ab942c0a409319ad",
       "version_major": 2,
       "version_minor": 0
      },
      "text/plain": [
       "Validating:   0%|          | 0/250 [00:00<?, ?it/s]"
      ]
     },
     "metadata": {},
     "output_type": "display_data"
    },
    {
     "name": "stdout",
     "output_type": "stream",
     "text": [
      "📗 Validation - Loss: 2.3719, Perplexity: 10.72, Token Acc: 28.35%\n",
      "✅ Saved checkpoint: checkpoints/blt_epoch12.pt\n"
     ]
    },
    {
     "data": {
      "application/vnd.jupyter.widget-view+json": {
       "model_id": "5770951091974b7c9d4e872282d748c6",
       "version_major": 2,
       "version_minor": 0
      },
      "text/plain": [
       "Epoch 13/300 [Training]:   0%|          | 0/1125 [00:00<?, ?it/s]"
      ]
     },
     "metadata": {},
     "output_type": "display_data"
    },
    {
     "name": "stdout",
     "output_type": "stream",
     "text": [
      "\n",
      "📘 Epoch 13/300 - Train Loss: 2.4301\n"
     ]
    },
    {
     "data": {
      "application/vnd.jupyter.widget-view+json": {
       "model_id": "16b086c07b5d465289c467ea7d9f7503",
       "version_major": 2,
       "version_minor": 0
      },
      "text/plain": [
       "Validating:   0%|          | 0/250 [00:00<?, ?it/s]"
      ]
     },
     "metadata": {},
     "output_type": "display_data"
    },
    {
     "name": "stdout",
     "output_type": "stream",
     "text": [
      "📗 Validation - Loss: 2.3610, Perplexity: 10.60, Token Acc: 28.62%\n"
     ]
    },
    {
     "data": {
      "application/vnd.jupyter.widget-view+json": {
       "model_id": "2822b7821f5a46168f11d477c8f1ae09",
       "version_major": 2,
       "version_minor": 0
      },
      "text/plain": [
       "Epoch 14/300 [Training]:   0%|          | 0/1125 [00:00<?, ?it/s]"
      ]
     },
     "metadata": {},
     "output_type": "display_data"
    },
    {
     "name": "stdout",
     "output_type": "stream",
     "text": [
      "\n",
      "📘 Epoch 14/300 - Train Loss: 2.4217\n"
     ]
    },
    {
     "data": {
      "application/vnd.jupyter.widget-view+json": {
       "model_id": "50132c2db0f143f0b58e386a67fb10e8",
       "version_major": 2,
       "version_minor": 0
      },
      "text/plain": [
       "Validating:   0%|          | 0/250 [00:00<?, ?it/s]"
      ]
     },
     "metadata": {},
     "output_type": "display_data"
    },
    {
     "name": "stdout",
     "output_type": "stream",
     "text": [
      "📗 Validation - Loss: 2.3521, Perplexity: 10.51, Token Acc: 28.80%\n",
      "✅ Saved checkpoint: checkpoints/blt_epoch14.pt\n"
     ]
    },
    {
     "data": {
      "application/vnd.jupyter.widget-view+json": {
       "model_id": "30b117e143fc42a19dea2167fcc60e32",
       "version_major": 2,
       "version_minor": 0
      },
      "text/plain": [
       "Epoch 15/300 [Training]:   0%|          | 0/1125 [00:00<?, ?it/s]"
      ]
     },
     "metadata": {},
     "output_type": "display_data"
    },
    {
     "name": "stdout",
     "output_type": "stream",
     "text": [
      "\n",
      "📘 Epoch 15/300 - Train Loss: 2.4137\n"
     ]
    },
    {
     "data": {
      "application/vnd.jupyter.widget-view+json": {
       "model_id": "9d8d5ba62396456988a9d87e60cac9fc",
       "version_major": 2,
       "version_minor": 0
      },
      "text/plain": [
       "Validating:   0%|          | 0/250 [00:00<?, ?it/s]"
      ]
     },
     "metadata": {},
     "output_type": "display_data"
    },
    {
     "name": "stdout",
     "output_type": "stream",
     "text": [
      "📗 Validation - Loss: 2.3401, Perplexity: 10.38, Token Acc: 29.16%\n"
     ]
    },
    {
     "data": {
      "application/vnd.jupyter.widget-view+json": {
       "model_id": "b9ff470978804d19aa3ba75917ab4490",
       "version_major": 2,
       "version_minor": 0
      },
      "text/plain": [
       "Epoch 16/300 [Training]:   0%|          | 0/1125 [00:00<?, ?it/s]"
      ]
     },
     "metadata": {},
     "output_type": "display_data"
    },
    {
     "name": "stdout",
     "output_type": "stream",
     "text": [
      "\n",
      "📘 Epoch 16/300 - Train Loss: 2.4059\n"
     ]
    },
    {
     "data": {
      "application/vnd.jupyter.widget-view+json": {
       "model_id": "0f913eedf7014fcba071ae8670d65ab4",
       "version_major": 2,
       "version_minor": 0
      },
      "text/plain": [
       "Validating:   0%|          | 0/250 [00:00<?, ?it/s]"
      ]
     },
     "metadata": {},
     "output_type": "display_data"
    },
    {
     "name": "stdout",
     "output_type": "stream",
     "text": [
      "📗 Validation - Loss: 2.3329, Perplexity: 10.31, Token Acc: 29.30%\n",
      "✅ Saved checkpoint: checkpoints/blt_epoch16.pt\n"
     ]
    },
    {
     "data": {
      "application/vnd.jupyter.widget-view+json": {
       "model_id": "6443a7e98a20429292be3c58152f53d6",
       "version_major": 2,
       "version_minor": 0
      },
      "text/plain": [
       "Epoch 17/300 [Training]:   0%|          | 0/1125 [00:00<?, ?it/s]"
      ]
     },
     "metadata": {},
     "output_type": "display_data"
    },
    {
     "name": "stdout",
     "output_type": "stream",
     "text": [
      "\n",
      "📘 Epoch 17/300 - Train Loss: 2.3987\n"
     ]
    },
    {
     "data": {
      "application/vnd.jupyter.widget-view+json": {
       "model_id": "41919b790369428eb7df9e602443ceb8",
       "version_major": 2,
       "version_minor": 0
      },
      "text/plain": [
       "Validating:   0%|          | 0/250 [00:00<?, ?it/s]"
      ]
     },
     "metadata": {},
     "output_type": "display_data"
    },
    {
     "name": "stdout",
     "output_type": "stream",
     "text": [
      "📗 Validation - Loss: 2.3241, Perplexity: 10.22, Token Acc: 29.66%\n"
     ]
    },
    {
     "data": {
      "application/vnd.jupyter.widget-view+json": {
       "model_id": "003d854485ca4f88bdb0f7f9bf18630b",
       "version_major": 2,
       "version_minor": 0
      },
      "text/plain": [
       "Epoch 18/300 [Training]:   0%|          | 0/1125 [00:00<?, ?it/s]"
      ]
     },
     "metadata": {},
     "output_type": "display_data"
    },
    {
     "name": "stdout",
     "output_type": "stream",
     "text": [
      "\n",
      "📘 Epoch 18/300 - Train Loss: 2.3924\n"
     ]
    },
    {
     "data": {
      "application/vnd.jupyter.widget-view+json": {
       "model_id": "8c41b0a81bc146af9d5cf6f883874aaf",
       "version_major": 2,
       "version_minor": 0
      },
      "text/plain": [
       "Validating:   0%|          | 0/250 [00:00<?, ?it/s]"
      ]
     },
     "metadata": {},
     "output_type": "display_data"
    },
    {
     "name": "stdout",
     "output_type": "stream",
     "text": [
      "📗 Validation - Loss: 2.3175, Perplexity: 10.15, Token Acc: 29.81%\n",
      "✅ Saved checkpoint: checkpoints/blt_epoch18.pt\n"
     ]
    },
    {
     "data": {
      "application/vnd.jupyter.widget-view+json": {
       "model_id": "f57b6ebec5454ed196a0d195f884b7f2",
       "version_major": 2,
       "version_minor": 0
      },
      "text/plain": [
       "Epoch 19/300 [Training]:   0%|          | 0/1125 [00:00<?, ?it/s]"
      ]
     },
     "metadata": {},
     "output_type": "display_data"
    },
    {
     "name": "stdout",
     "output_type": "stream",
     "text": [
      "\n",
      "📘 Epoch 19/300 - Train Loss: 2.3872\n"
     ]
    },
    {
     "data": {
      "application/vnd.jupyter.widget-view+json": {
       "model_id": "0c4ee30179b24c5ab7a6ac150ae06b25",
       "version_major": 2,
       "version_minor": 0
      },
      "text/plain": [
       "Validating:   0%|          | 0/250 [00:00<?, ?it/s]"
      ]
     },
     "metadata": {},
     "output_type": "display_data"
    },
    {
     "name": "stdout",
     "output_type": "stream",
     "text": [
      "📗 Validation - Loss: 2.3073, Perplexity: 10.05, Token Acc: 30.17%\n"
     ]
    },
    {
     "data": {
      "application/vnd.jupyter.widget-view+json": {
       "model_id": "db48a529c76f4175a275c01977a122d6",
       "version_major": 2,
       "version_minor": 0
      },
      "text/plain": [
       "Epoch 20/300 [Training]:   0%|          | 0/1125 [00:00<?, ?it/s]"
      ]
     },
     "metadata": {},
     "output_type": "display_data"
    },
    {
     "name": "stdout",
     "output_type": "stream",
     "text": [
      "\n",
      "📘 Epoch 20/300 - Train Loss: 2.3803\n"
     ]
    },
    {
     "data": {
      "application/vnd.jupyter.widget-view+json": {
       "model_id": "9bb7aa9a66604f00bf55ed62d69e8619",
       "version_major": 2,
       "version_minor": 0
      },
      "text/plain": [
       "Validating:   0%|          | 0/250 [00:00<?, ?it/s]"
      ]
     },
     "metadata": {},
     "output_type": "display_data"
    },
    {
     "name": "stdout",
     "output_type": "stream",
     "text": [
      "📗 Validation - Loss: 2.3012, Perplexity: 9.99, Token Acc: 30.27%\n",
      "✅ Saved checkpoint: checkpoints/blt_epoch20.pt\n"
     ]
    },
    {
     "data": {
      "application/vnd.jupyter.widget-view+json": {
       "model_id": "50421809aaed48e7a27caa5d3f0c97b7",
       "version_major": 2,
       "version_minor": 0
      },
      "text/plain": [
       "Epoch 21/300 [Training]:   0%|          | 0/1125 [00:00<?, ?it/s]"
      ]
     },
     "metadata": {},
     "output_type": "display_data"
    },
    {
     "name": "stdout",
     "output_type": "stream",
     "text": [
      "\n",
      "📘 Epoch 21/300 - Train Loss: 2.3749\n"
     ]
    },
    {
     "data": {
      "application/vnd.jupyter.widget-view+json": {
       "model_id": "1dc0a1f203e3470bb42253484775614c",
       "version_major": 2,
       "version_minor": 0
      },
      "text/plain": [
       "Validating:   0%|          | 0/250 [00:00<?, ?it/s]"
      ]
     },
     "metadata": {},
     "output_type": "display_data"
    },
    {
     "name": "stdout",
     "output_type": "stream",
     "text": [
      "📗 Validation - Loss: 2.2963, Perplexity: 9.94, Token Acc: 30.33%\n"
     ]
    },
    {
     "data": {
      "application/vnd.jupyter.widget-view+json": {
       "model_id": "22e96be162c24c0eb6f7e747fd5e7991",
       "version_major": 2,
       "version_minor": 0
      },
      "text/plain": [
       "Epoch 22/300 [Training]:   0%|          | 0/1125 [00:00<?, ?it/s]"
      ]
     },
     "metadata": {},
     "output_type": "display_data"
    },
    {
     "name": "stdout",
     "output_type": "stream",
     "text": [
      "\n",
      "📘 Epoch 22/300 - Train Loss: 2.3698\n"
     ]
    },
    {
     "data": {
      "application/vnd.jupyter.widget-view+json": {
       "model_id": "a1547be90a8a46e0afd0867c30877a45",
       "version_major": 2,
       "version_minor": 0
      },
      "text/plain": [
       "Validating:   0%|          | 0/250 [00:00<?, ?it/s]"
      ]
     },
     "metadata": {},
     "output_type": "display_data"
    },
    {
     "name": "stdout",
     "output_type": "stream",
     "text": [
      "📗 Validation - Loss: 2.2889, Perplexity: 9.86, Token Acc: 30.48%\n",
      "✅ Saved checkpoint: checkpoints/blt_epoch22.pt\n"
     ]
    },
    {
     "data": {
      "application/vnd.jupyter.widget-view+json": {
       "model_id": "66a369274afa4e41a628c2c1ba5df150",
       "version_major": 2,
       "version_minor": 0
      },
      "text/plain": [
       "Epoch 23/300 [Training]:   0%|          | 0/1125 [00:00<?, ?it/s]"
      ]
     },
     "metadata": {},
     "output_type": "display_data"
    },
    {
     "name": "stdout",
     "output_type": "stream",
     "text": [
      "\n",
      "📘 Epoch 23/300 - Train Loss: 2.3638\n"
     ]
    },
    {
     "data": {
      "application/vnd.jupyter.widget-view+json": {
       "model_id": "e9a33cb4182249558fdccf3ac2ef1ccf",
       "version_major": 2,
       "version_minor": 0
      },
      "text/plain": [
       "Validating:   0%|          | 0/250 [00:00<?, ?it/s]"
      ]
     },
     "metadata": {},
     "output_type": "display_data"
    },
    {
     "name": "stdout",
     "output_type": "stream",
     "text": [
      "📗 Validation - Loss: 2.2832, Perplexity: 9.81, Token Acc: 30.69%\n"
     ]
    },
    {
     "data": {
      "application/vnd.jupyter.widget-view+json": {
       "model_id": "a8556ce6bcbe4b32b3d0b1ecd5598c2d",
       "version_major": 2,
       "version_minor": 0
      },
      "text/plain": [
       "Epoch 24/300 [Training]:   0%|          | 0/1125 [00:00<?, ?it/s]"
      ]
     },
     "metadata": {},
     "output_type": "display_data"
    },
    {
     "name": "stdout",
     "output_type": "stream",
     "text": [
      "\n",
      "📘 Epoch 24/300 - Train Loss: 2.3587\n"
     ]
    },
    {
     "data": {
      "application/vnd.jupyter.widget-view+json": {
       "model_id": "7f7e43da6a01407d9f70bcd519f9de23",
       "version_major": 2,
       "version_minor": 0
      },
      "text/plain": [
       "Validating:   0%|          | 0/250 [00:00<?, ?it/s]"
      ]
     },
     "metadata": {},
     "output_type": "display_data"
    },
    {
     "name": "stdout",
     "output_type": "stream",
     "text": [
      "📗 Validation - Loss: 2.2751, Perplexity: 9.73, Token Acc: 30.90%\n",
      "✅ Saved checkpoint: checkpoints/blt_epoch24.pt\n"
     ]
    },
    {
     "data": {
      "application/vnd.jupyter.widget-view+json": {
       "model_id": "74c6641fb23549ab96527453c88008a9",
       "version_major": 2,
       "version_minor": 0
      },
      "text/plain": [
       "Epoch 25/300 [Training]:   0%|          | 0/1125 [00:00<?, ?it/s]"
      ]
     },
     "metadata": {},
     "output_type": "display_data"
    },
    {
     "name": "stdout",
     "output_type": "stream",
     "text": [
      "\n",
      "📘 Epoch 25/300 - Train Loss: 2.3535\n"
     ]
    },
    {
     "data": {
      "application/vnd.jupyter.widget-view+json": {
       "model_id": "f9041eedccd34e1aafe462e229b08e66",
       "version_major": 2,
       "version_minor": 0
      },
      "text/plain": [
       "Validating:   0%|          | 0/250 [00:00<?, ?it/s]"
      ]
     },
     "metadata": {},
     "output_type": "display_data"
    },
    {
     "name": "stdout",
     "output_type": "stream",
     "text": [
      "📗 Validation - Loss: 2.2715, Perplexity: 9.69, Token Acc: 31.04%\n"
     ]
    },
    {
     "data": {
      "application/vnd.jupyter.widget-view+json": {
       "model_id": "9bcf6d2f534e498f9701adafb582e423",
       "version_major": 2,
       "version_minor": 0
      },
      "text/plain": [
       "Epoch 26/300 [Training]:   0%|          | 0/1125 [00:00<?, ?it/s]"
      ]
     },
     "metadata": {},
     "output_type": "display_data"
    },
    {
     "name": "stdout",
     "output_type": "stream",
     "text": [
      "\n",
      "📘 Epoch 26/300 - Train Loss: 2.3497\n"
     ]
    },
    {
     "data": {
      "application/vnd.jupyter.widget-view+json": {
       "model_id": "f52d342fd3854120a080cb5ff4e8b73e",
       "version_major": 2,
       "version_minor": 0
      },
      "text/plain": [
       "Validating:   0%|          | 0/250 [00:00<?, ?it/s]"
      ]
     },
     "metadata": {},
     "output_type": "display_data"
    },
    {
     "name": "stdout",
     "output_type": "stream",
     "text": [
      "📗 Validation - Loss: 2.2653, Perplexity: 9.63, Token Acc: 31.27%\n",
      "✅ Saved checkpoint: checkpoints/blt_epoch26.pt\n"
     ]
    },
    {
     "data": {
      "application/vnd.jupyter.widget-view+json": {
       "model_id": "85db64e1183c4d1a8efd76ab4a03bdaa",
       "version_major": 2,
       "version_minor": 0
      },
      "text/plain": [
       "Epoch 27/300 [Training]:   0%|          | 0/1125 [00:00<?, ?it/s]"
      ]
     },
     "metadata": {},
     "output_type": "display_data"
    },
    {
     "name": "stdout",
     "output_type": "stream",
     "text": [
      "\n",
      "📘 Epoch 27/300 - Train Loss: 2.3457\n"
     ]
    },
    {
     "data": {
      "application/vnd.jupyter.widget-view+json": {
       "model_id": "bf2f0a211f454f86afd1a4347c70f7be",
       "version_major": 2,
       "version_minor": 0
      },
      "text/plain": [
       "Validating:   0%|          | 0/250 [00:00<?, ?it/s]"
      ]
     },
     "metadata": {},
     "output_type": "display_data"
    },
    {
     "name": "stdout",
     "output_type": "stream",
     "text": [
      "📗 Validation - Loss: 2.2609, Perplexity: 9.59, Token Acc: 31.41%\n"
     ]
    },
    {
     "data": {
      "application/vnd.jupyter.widget-view+json": {
       "model_id": "dbb0a1241e134dc98af03594077cf66e",
       "version_major": 2,
       "version_minor": 0
      },
      "text/plain": [
       "Epoch 28/300 [Training]:   0%|          | 0/1125 [00:00<?, ?it/s]"
      ]
     },
     "metadata": {},
     "output_type": "display_data"
    },
    {
     "name": "stdout",
     "output_type": "stream",
     "text": [
      "\n",
      "📘 Epoch 28/300 - Train Loss: 2.3420\n"
     ]
    },
    {
     "data": {
      "application/vnd.jupyter.widget-view+json": {
       "model_id": "3a3e53f203f9448b95e7df68535c54bb",
       "version_major": 2,
       "version_minor": 0
      },
      "text/plain": [
       "Validating:   0%|          | 0/250 [00:00<?, ?it/s]"
      ]
     },
     "metadata": {},
     "output_type": "display_data"
    },
    {
     "name": "stdout",
     "output_type": "stream",
     "text": [
      "📗 Validation - Loss: 2.2555, Perplexity: 9.54, Token Acc: 31.51%\n",
      "✅ Saved checkpoint: checkpoints/blt_epoch28.pt\n"
     ]
    },
    {
     "data": {
      "application/vnd.jupyter.widget-view+json": {
       "model_id": "b3f0a9e13fa645f98eb65fee1f536ebe",
       "version_major": 2,
       "version_minor": 0
      },
      "text/plain": [
       "Epoch 29/300 [Training]:   0%|          | 0/1125 [00:00<?, ?it/s]"
      ]
     },
     "metadata": {},
     "output_type": "display_data"
    },
    {
     "name": "stdout",
     "output_type": "stream",
     "text": [
      "\n",
      "📘 Epoch 29/300 - Train Loss: 2.3379\n"
     ]
    },
    {
     "data": {
      "application/vnd.jupyter.widget-view+json": {
       "model_id": "ff86b125c1824a0a94209b767388f463",
       "version_major": 2,
       "version_minor": 0
      },
      "text/plain": [
       "Validating:   0%|          | 0/250 [00:00<?, ?it/s]"
      ]
     },
     "metadata": {},
     "output_type": "display_data"
    },
    {
     "name": "stdout",
     "output_type": "stream",
     "text": [
      "📗 Validation - Loss: 2.2511, Perplexity: 9.50, Token Acc: 31.62%\n"
     ]
    },
    {
     "data": {
      "application/vnd.jupyter.widget-view+json": {
       "model_id": "8a06cd252dc047049cdf4a26d644dbd4",
       "version_major": 2,
       "version_minor": 0
      },
      "text/plain": [
       "Epoch 30/300 [Training]:   0%|          | 0/1125 [00:00<?, ?it/s]"
      ]
     },
     "metadata": {},
     "output_type": "display_data"
    },
    {
     "name": "stdout",
     "output_type": "stream",
     "text": [
      "\n",
      "📘 Epoch 30/300 - Train Loss: 2.3345\n"
     ]
    },
    {
     "data": {
      "application/vnd.jupyter.widget-view+json": {
       "model_id": "6ed87f69565b49a6a7c47aa60efc1800",
       "version_major": 2,
       "version_minor": 0
      },
      "text/plain": [
       "Validating:   0%|          | 0/250 [00:00<?, ?it/s]"
      ]
     },
     "metadata": {},
     "output_type": "display_data"
    },
    {
     "name": "stdout",
     "output_type": "stream",
     "text": [
      "📗 Validation - Loss: 2.2470, Perplexity: 9.46, Token Acc: 31.80%\n",
      "✅ Saved checkpoint: checkpoints/blt_epoch30.pt\n"
     ]
    },
    {
     "data": {
      "application/vnd.jupyter.widget-view+json": {
       "model_id": "e892b91af2324d619e895632f6a604c3",
       "version_major": 2,
       "version_minor": 0
      },
      "text/plain": [
       "Epoch 31/300 [Training]:   0%|          | 0/1125 [00:00<?, ?it/s]"
      ]
     },
     "metadata": {},
     "output_type": "display_data"
    },
    {
     "name": "stdout",
     "output_type": "stream",
     "text": [
      "\n",
      "📘 Epoch 31/300 - Train Loss: 2.3300\n"
     ]
    },
    {
     "data": {
      "application/vnd.jupyter.widget-view+json": {
       "model_id": "2c4767a3595a465fbff6c1c19786f7bf",
       "version_major": 2,
       "version_minor": 0
      },
      "text/plain": [
       "Validating:   0%|          | 0/250 [00:00<?, ?it/s]"
      ]
     },
     "metadata": {},
     "output_type": "display_data"
    },
    {
     "name": "stdout",
     "output_type": "stream",
     "text": [
      "📗 Validation - Loss: 2.2431, Perplexity: 9.42, Token Acc: 31.87%\n"
     ]
    },
    {
     "data": {
      "application/vnd.jupyter.widget-view+json": {
       "model_id": "397fa58f71cd42caaf8f87f606896326",
       "version_major": 2,
       "version_minor": 0
      },
      "text/plain": [
       "Epoch 32/300 [Training]:   0%|          | 0/1125 [00:00<?, ?it/s]"
      ]
     },
     "metadata": {},
     "output_type": "display_data"
    },
    {
     "name": "stdout",
     "output_type": "stream",
     "text": [
      "\n",
      "📘 Epoch 32/300 - Train Loss: 2.3269\n"
     ]
    },
    {
     "data": {
      "application/vnd.jupyter.widget-view+json": {
       "model_id": "30648e2021ec4347bd9ed19fc4fe3a8c",
       "version_major": 2,
       "version_minor": 0
      },
      "text/plain": [
       "Validating:   0%|          | 0/250 [00:00<?, ?it/s]"
      ]
     },
     "metadata": {},
     "output_type": "display_data"
    },
    {
     "name": "stdout",
     "output_type": "stream",
     "text": [
      "📗 Validation - Loss: 2.2389, Perplexity: 9.38, Token Acc: 31.96%\n",
      "✅ Saved checkpoint: checkpoints/blt_epoch32.pt\n"
     ]
    },
    {
     "data": {
      "application/vnd.jupyter.widget-view+json": {
       "model_id": "a100b4ff86f64ce99aced11a0f84cf4b",
       "version_major": 2,
       "version_minor": 0
      },
      "text/plain": [
       "Epoch 33/300 [Training]:   0%|          | 0/1125 [00:00<?, ?it/s]"
      ]
     },
     "metadata": {},
     "output_type": "display_data"
    },
    {
     "name": "stdout",
     "output_type": "stream",
     "text": [
      "\n",
      "📘 Epoch 33/300 - Train Loss: 2.3228\n"
     ]
    },
    {
     "data": {
      "application/vnd.jupyter.widget-view+json": {
       "model_id": "58a99041e45544a4b2b7b72ea7f288f7",
       "version_major": 2,
       "version_minor": 0
      },
      "text/plain": [
       "Validating:   0%|          | 0/250 [00:00<?, ?it/s]"
      ]
     },
     "metadata": {},
     "output_type": "display_data"
    },
    {
     "name": "stdout",
     "output_type": "stream",
     "text": [
      "📗 Validation - Loss: 2.2354, Perplexity: 9.35, Token Acc: 32.19%\n"
     ]
    },
    {
     "data": {
      "application/vnd.jupyter.widget-view+json": {
       "model_id": "52f18b21564a494196b53c742a47bfc6",
       "version_major": 2,
       "version_minor": 0
      },
      "text/plain": [
       "Epoch 34/300 [Training]:   0%|          | 0/1125 [00:00<?, ?it/s]"
      ]
     },
     "metadata": {},
     "output_type": "display_data"
    },
    {
     "name": "stdout",
     "output_type": "stream",
     "text": [
      "\n",
      "📘 Epoch 34/300 - Train Loss: 2.3200\n"
     ]
    },
    {
     "data": {
      "application/vnd.jupyter.widget-view+json": {
       "model_id": "008ac1d0f8ce45f3a3e0f57ea0c88de4",
       "version_major": 2,
       "version_minor": 0
      },
      "text/plain": [
       "Validating:   0%|          | 0/250 [00:00<?, ?it/s]"
      ]
     },
     "metadata": {},
     "output_type": "display_data"
    },
    {
     "name": "stdout",
     "output_type": "stream",
     "text": [
      "📗 Validation - Loss: 2.2303, Perplexity: 9.30, Token Acc: 32.21%\n",
      "✅ Saved checkpoint: checkpoints/blt_epoch34.pt\n"
     ]
    },
    {
     "data": {
      "application/vnd.jupyter.widget-view+json": {
       "model_id": "d5f6add611cb46b3a07b482f9c05ac2a",
       "version_major": 2,
       "version_minor": 0
      },
      "text/plain": [
       "Epoch 35/300 [Training]:   0%|          | 0/1125 [00:00<?, ?it/s]"
      ]
     },
     "metadata": {},
     "output_type": "display_data"
    },
    {
     "name": "stdout",
     "output_type": "stream",
     "text": [
      "\n",
      "📘 Epoch 35/300 - Train Loss: 2.3156\n"
     ]
    },
    {
     "data": {
      "application/vnd.jupyter.widget-view+json": {
       "model_id": "3aa90d4cabed4fb3951439232a815d9e",
       "version_major": 2,
       "version_minor": 0
      },
      "text/plain": [
       "Validating:   0%|          | 0/250 [00:00<?, ?it/s]"
      ]
     },
     "metadata": {},
     "output_type": "display_data"
    },
    {
     "name": "stdout",
     "output_type": "stream",
     "text": [
      "📗 Validation - Loss: 2.2235, Perplexity: 9.24, Token Acc: 32.48%\n"
     ]
    },
    {
     "data": {
      "application/vnd.jupyter.widget-view+json": {
       "model_id": "8b997aa4a1284758a6632a4758392ce5",
       "version_major": 2,
       "version_minor": 0
      },
      "text/plain": [
       "Epoch 36/300 [Training]:   0%|          | 0/1125 [00:00<?, ?it/s]"
      ]
     },
     "metadata": {},
     "output_type": "display_data"
    },
    {
     "name": "stdout",
     "output_type": "stream",
     "text": [
      "\n",
      "📘 Epoch 36/300 - Train Loss: 2.3117\n"
     ]
    },
    {
     "data": {
      "application/vnd.jupyter.widget-view+json": {
       "model_id": "b6fd1e01dd9b44e5a25ad57166053f6d",
       "version_major": 2,
       "version_minor": 0
      },
      "text/plain": [
       "Validating:   0%|          | 0/250 [00:00<?, ?it/s]"
      ]
     },
     "metadata": {},
     "output_type": "display_data"
    },
    {
     "name": "stdout",
     "output_type": "stream",
     "text": [
      "📗 Validation - Loss: 2.2188, Perplexity: 9.20, Token Acc: 32.62%\n",
      "✅ Saved checkpoint: checkpoints/blt_epoch36.pt\n"
     ]
    },
    {
     "data": {
      "application/vnd.jupyter.widget-view+json": {
       "model_id": "771e6c6f787744e1b10cd899276de150",
       "version_major": 2,
       "version_minor": 0
      },
      "text/plain": [
       "Epoch 37/300 [Training]:   0%|          | 0/1125 [00:00<?, ?it/s]"
      ]
     },
     "metadata": {},
     "output_type": "display_data"
    },
    {
     "name": "stdout",
     "output_type": "stream",
     "text": [
      "\n",
      "📘 Epoch 37/300 - Train Loss: 2.3089\n"
     ]
    },
    {
     "data": {
      "application/vnd.jupyter.widget-view+json": {
       "model_id": "519ca4ced2c046349755645beaf9dd13",
       "version_major": 2,
       "version_minor": 0
      },
      "text/plain": [
       "Validating:   0%|          | 0/250 [00:00<?, ?it/s]"
      ]
     },
     "metadata": {},
     "output_type": "display_data"
    },
    {
     "name": "stdout",
     "output_type": "stream",
     "text": [
      "📗 Validation - Loss: 2.2160, Perplexity: 9.17, Token Acc: 32.65%\n"
     ]
    },
    {
     "data": {
      "application/vnd.jupyter.widget-view+json": {
       "model_id": "ec725735831a4028bf4d83eec32dbd99",
       "version_major": 2,
       "version_minor": 0
      },
      "text/plain": [
       "Epoch 38/300 [Training]:   0%|          | 0/1125 [00:00<?, ?it/s]"
      ]
     },
     "metadata": {},
     "output_type": "display_data"
    },
    {
     "name": "stdout",
     "output_type": "stream",
     "text": [
      "\n",
      "📘 Epoch 38/300 - Train Loss: 2.3056\n"
     ]
    },
    {
     "data": {
      "application/vnd.jupyter.widget-view+json": {
       "model_id": "d781ab84c9b740a19584f4834561f00a",
       "version_major": 2,
       "version_minor": 0
      },
      "text/plain": [
       "Validating:   0%|          | 0/250 [00:00<?, ?it/s]"
      ]
     },
     "metadata": {},
     "output_type": "display_data"
    },
    {
     "name": "stdout",
     "output_type": "stream",
     "text": [
      "📗 Validation - Loss: 2.2136, Perplexity: 9.15, Token Acc: 32.79%\n",
      "✅ Saved checkpoint: checkpoints/blt_epoch38.pt\n"
     ]
    },
    {
     "data": {
      "application/vnd.jupyter.widget-view+json": {
       "model_id": "f93578ef1f5d4852b1f8a2f6680cefc7",
       "version_major": 2,
       "version_minor": 0
      },
      "text/plain": [
       "Epoch 39/300 [Training]:   0%|          | 0/1125 [00:00<?, ?it/s]"
      ]
     },
     "metadata": {},
     "output_type": "display_data"
    },
    {
     "name": "stdout",
     "output_type": "stream",
     "text": [
      "\n",
      "📘 Epoch 39/300 - Train Loss: 2.3026\n"
     ]
    },
    {
     "data": {
      "application/vnd.jupyter.widget-view+json": {
       "model_id": "d2146e29e4844f5584061fc5c63091d2",
       "version_major": 2,
       "version_minor": 0
      },
      "text/plain": [
       "Validating:   0%|          | 0/250 [00:00<?, ?it/s]"
      ]
     },
     "metadata": {},
     "output_type": "display_data"
    },
    {
     "name": "stdout",
     "output_type": "stream",
     "text": [
      "📗 Validation - Loss: 2.2091, Perplexity: 9.11, Token Acc: 32.89%\n"
     ]
    },
    {
     "data": {
      "application/vnd.jupyter.widget-view+json": {
       "model_id": "4894c31f532f4f84bae38a27b482931b",
       "version_major": 2,
       "version_minor": 0
      },
      "text/plain": [
       "Epoch 40/300 [Training]:   0%|          | 0/1125 [00:00<?, ?it/s]"
      ]
     },
     "metadata": {},
     "output_type": "display_data"
    },
    {
     "name": "stdout",
     "output_type": "stream",
     "text": [
      "\n",
      "📘 Epoch 40/300 - Train Loss: 2.2995\n"
     ]
    },
    {
     "data": {
      "application/vnd.jupyter.widget-view+json": {
       "model_id": "90cf5d0f000641f5b6b8be50ac8e63a6",
       "version_major": 2,
       "version_minor": 0
      },
      "text/plain": [
       "Validating:   0%|          | 0/250 [00:00<?, ?it/s]"
      ]
     },
     "metadata": {},
     "output_type": "display_data"
    },
    {
     "name": "stdout",
     "output_type": "stream",
     "text": [
      "📗 Validation - Loss: 2.2043, Perplexity: 9.06, Token Acc: 33.12%\n",
      "✅ Saved checkpoint: checkpoints/blt_epoch40.pt\n"
     ]
    },
    {
     "data": {
      "application/vnd.jupyter.widget-view+json": {
       "model_id": "73f4b27d98454128b4d4218536bf3711",
       "version_major": 2,
       "version_minor": 0
      },
      "text/plain": [
       "Epoch 41/300 [Training]:   0%|          | 0/1125 [00:00<?, ?it/s]"
      ]
     },
     "metadata": {},
     "output_type": "display_data"
    },
    {
     "name": "stdout",
     "output_type": "stream",
     "text": [
      "\n",
      "📘 Epoch 41/300 - Train Loss: 2.2968\n"
     ]
    },
    {
     "data": {
      "application/vnd.jupyter.widget-view+json": {
       "model_id": "5abc57b1451c4a9ebc749aa9824be1df",
       "version_major": 2,
       "version_minor": 0
      },
      "text/plain": [
       "Validating:   0%|          | 0/250 [00:00<?, ?it/s]"
      ]
     },
     "metadata": {},
     "output_type": "display_data"
    },
    {
     "name": "stdout",
     "output_type": "stream",
     "text": [
      "📗 Validation - Loss: 2.2012, Perplexity: 9.04, Token Acc: 33.15%\n"
     ]
    },
    {
     "data": {
      "application/vnd.jupyter.widget-view+json": {
       "model_id": "d3791915cbc246608e5110778cb36a7d",
       "version_major": 2,
       "version_minor": 0
      },
      "text/plain": [
       "Epoch 42/300 [Training]:   0%|          | 0/1125 [00:00<?, ?it/s]"
      ]
     },
     "metadata": {},
     "output_type": "display_data"
    },
    {
     "name": "stdout",
     "output_type": "stream",
     "text": [
      "\n",
      "📘 Epoch 42/300 - Train Loss: 2.2931\n"
     ]
    },
    {
     "data": {
      "application/vnd.jupyter.widget-view+json": {
       "model_id": "ccbdde4246d2445cb101574e39bcd8d8",
       "version_major": 2,
       "version_minor": 0
      },
      "text/plain": [
       "Validating:   0%|          | 0/250 [00:00<?, ?it/s]"
      ]
     },
     "metadata": {},
     "output_type": "display_data"
    },
    {
     "name": "stdout",
     "output_type": "stream",
     "text": [
      "📗 Validation - Loss: 2.1987, Perplexity: 9.01, Token Acc: 33.20%\n",
      "✅ Saved checkpoint: checkpoints/blt_epoch42.pt\n"
     ]
    },
    {
     "data": {
      "application/vnd.jupyter.widget-view+json": {
       "model_id": "d1193934da194b639dc1df797a95b3da",
       "version_major": 2,
       "version_minor": 0
      },
      "text/plain": [
       "Epoch 43/300 [Training]:   0%|          | 0/1125 [00:00<?, ?it/s]"
      ]
     },
     "metadata": {},
     "output_type": "display_data"
    },
    {
     "name": "stdout",
     "output_type": "stream",
     "text": [
      "\n",
      "📘 Epoch 43/300 - Train Loss: 2.2889\n"
     ]
    },
    {
     "data": {
      "application/vnd.jupyter.widget-view+json": {
       "model_id": "04655fdc66514d06aaf7ea7b5e9af83a",
       "version_major": 2,
       "version_minor": 0
      },
      "text/plain": [
       "Validating:   0%|          | 0/250 [00:00<?, ?it/s]"
      ]
     },
     "metadata": {},
     "output_type": "display_data"
    },
    {
     "name": "stdout",
     "output_type": "stream",
     "text": [
      "📗 Validation - Loss: 2.1929, Perplexity: 8.96, Token Acc: 33.33%\n"
     ]
    },
    {
     "data": {
      "application/vnd.jupyter.widget-view+json": {
       "model_id": "f542c9e670524e75aca6a41c01e0eb57",
       "version_major": 2,
       "version_minor": 0
      },
      "text/plain": [
       "Epoch 44/300 [Training]:   0%|          | 0/1125 [00:00<?, ?it/s]"
      ]
     },
     "metadata": {},
     "output_type": "display_data"
    },
    {
     "name": "stdout",
     "output_type": "stream",
     "text": [
      "\n",
      "📘 Epoch 44/300 - Train Loss: 2.2879\n"
     ]
    },
    {
     "data": {
      "application/vnd.jupyter.widget-view+json": {
       "model_id": "15f371facbb1466684cf6043adbc8054",
       "version_major": 2,
       "version_minor": 0
      },
      "text/plain": [
       "Validating:   0%|          | 0/250 [00:00<?, ?it/s]"
      ]
     },
     "metadata": {},
     "output_type": "display_data"
    },
    {
     "name": "stdout",
     "output_type": "stream",
     "text": [
      "📗 Validation - Loss: 2.1899, Perplexity: 8.93, Token Acc: 33.41%\n",
      "✅ Saved checkpoint: checkpoints/blt_epoch44.pt\n"
     ]
    },
    {
     "data": {
      "application/vnd.jupyter.widget-view+json": {
       "model_id": "588aab0f41bf445a81bee62a64a6fead",
       "version_major": 2,
       "version_minor": 0
      },
      "text/plain": [
       "Epoch 45/300 [Training]:   0%|          | 0/1125 [00:00<?, ?it/s]"
      ]
     },
     "metadata": {},
     "output_type": "display_data"
    },
    {
     "name": "stdout",
     "output_type": "stream",
     "text": [
      "\n",
      "📘 Epoch 45/300 - Train Loss: 2.2837\n"
     ]
    },
    {
     "data": {
      "application/vnd.jupyter.widget-view+json": {
       "model_id": "d795dca50ceb443fbc89bfc41d61f976",
       "version_major": 2,
       "version_minor": 0
      },
      "text/plain": [
       "Validating:   0%|          | 0/250 [00:00<?, ?it/s]"
      ]
     },
     "metadata": {},
     "output_type": "display_data"
    },
    {
     "name": "stdout",
     "output_type": "stream",
     "text": [
      "📗 Validation - Loss: 2.1857, Perplexity: 8.90, Token Acc: 33.63%\n"
     ]
    },
    {
     "data": {
      "application/vnd.jupyter.widget-view+json": {
       "model_id": "4a35952b05e74aad8cc27ef3fa244b89",
       "version_major": 2,
       "version_minor": 0
      },
      "text/plain": [
       "Epoch 46/300 [Training]:   0%|          | 0/1125 [00:00<?, ?it/s]"
      ]
     },
     "metadata": {},
     "output_type": "display_data"
    },
    {
     "name": "stdout",
     "output_type": "stream",
     "text": [
      "\n",
      "📘 Epoch 46/300 - Train Loss: 2.2807\n"
     ]
    },
    {
     "data": {
      "application/vnd.jupyter.widget-view+json": {
       "model_id": "86cc620d31504ac18eb4e2e03ffdee89",
       "version_major": 2,
       "version_minor": 0
      },
      "text/plain": [
       "Validating:   0%|          | 0/250 [00:00<?, ?it/s]"
      ]
     },
     "metadata": {},
     "output_type": "display_data"
    },
    {
     "name": "stdout",
     "output_type": "stream",
     "text": [
      "📗 Validation - Loss: 2.1828, Perplexity: 8.87, Token Acc: 33.61%\n",
      "✅ Saved checkpoint: checkpoints/blt_epoch46.pt\n"
     ]
    },
    {
     "data": {
      "application/vnd.jupyter.widget-view+json": {
       "model_id": "cf68548a07944529b725115a605bd469",
       "version_major": 2,
       "version_minor": 0
      },
      "text/plain": [
       "Epoch 47/300 [Training]:   0%|          | 0/1125 [00:00<?, ?it/s]"
      ]
     },
     "metadata": {},
     "output_type": "display_data"
    },
    {
     "name": "stdout",
     "output_type": "stream",
     "text": [
      "\n",
      "📘 Epoch 47/300 - Train Loss: 2.2778\n"
     ]
    },
    {
     "data": {
      "application/vnd.jupyter.widget-view+json": {
       "model_id": "12802ea99a2a414f9593e68b859877ab",
       "version_major": 2,
       "version_minor": 0
      },
      "text/plain": [
       "Validating:   0%|          | 0/250 [00:00<?, ?it/s]"
      ]
     },
     "metadata": {},
     "output_type": "display_data"
    },
    {
     "name": "stdout",
     "output_type": "stream",
     "text": [
      "📗 Validation - Loss: 2.1778, Perplexity: 8.83, Token Acc: 33.81%\n"
     ]
    },
    {
     "data": {
      "application/vnd.jupyter.widget-view+json": {
       "model_id": "f2f314af6a4a49628da9ef2c0e752d14",
       "version_major": 2,
       "version_minor": 0
      },
      "text/plain": [
       "Epoch 48/300 [Training]:   0%|          | 0/1125 [00:00<?, ?it/s]"
      ]
     },
     "metadata": {},
     "output_type": "display_data"
    },
    {
     "name": "stdout",
     "output_type": "stream",
     "text": [
      "\n",
      "📘 Epoch 48/300 - Train Loss: 2.2748\n"
     ]
    },
    {
     "data": {
      "application/vnd.jupyter.widget-view+json": {
       "model_id": "f73190e1cace4c26bcf38454a6ac5181",
       "version_major": 2,
       "version_minor": 0
      },
      "text/plain": [
       "Validating:   0%|          | 0/250 [00:00<?, ?it/s]"
      ]
     },
     "metadata": {},
     "output_type": "display_data"
    },
    {
     "name": "stdout",
     "output_type": "stream",
     "text": [
      "📗 Validation - Loss: 2.1746, Perplexity: 8.80, Token Acc: 33.71%\n",
      "✅ Saved checkpoint: checkpoints/blt_epoch48.pt\n"
     ]
    },
    {
     "data": {
      "application/vnd.jupyter.widget-view+json": {
       "model_id": "1ba15030b3e84bd3b395449e108e98c9",
       "version_major": 2,
       "version_minor": 0
      },
      "text/plain": [
       "Epoch 49/300 [Training]:   0%|          | 0/1125 [00:00<?, ?it/s]"
      ]
     },
     "metadata": {},
     "output_type": "display_data"
    },
    {
     "name": "stdout",
     "output_type": "stream",
     "text": [
      "\n",
      "📘 Epoch 49/300 - Train Loss: 2.2729\n"
     ]
    },
    {
     "data": {
      "application/vnd.jupyter.widget-view+json": {
       "model_id": "766c248bc4ed4385841cbe667b1c18cd",
       "version_major": 2,
       "version_minor": 0
      },
      "text/plain": [
       "Validating:   0%|          | 0/250 [00:00<?, ?it/s]"
      ]
     },
     "metadata": {},
     "output_type": "display_data"
    },
    {
     "name": "stdout",
     "output_type": "stream",
     "text": [
      "📗 Validation - Loss: 2.1707, Perplexity: 8.76, Token Acc: 34.00%\n"
     ]
    },
    {
     "data": {
      "application/vnd.jupyter.widget-view+json": {
       "model_id": "609adaf3eb7b405f9aedf52d08dc9abf",
       "version_major": 2,
       "version_minor": 0
      },
      "text/plain": [
       "Epoch 50/300 [Training]:   0%|          | 0/1125 [00:00<?, ?it/s]"
      ]
     },
     "metadata": {},
     "output_type": "display_data"
    },
    {
     "name": "stdout",
     "output_type": "stream",
     "text": [
      "\n",
      "📘 Epoch 50/300 - Train Loss: 2.2708\n"
     ]
    },
    {
     "data": {
      "application/vnd.jupyter.widget-view+json": {
       "model_id": "33d292ab9e43449594ac1a23a61db7a0",
       "version_major": 2,
       "version_minor": 0
      },
      "text/plain": [
       "Validating:   0%|          | 0/250 [00:00<?, ?it/s]"
      ]
     },
     "metadata": {},
     "output_type": "display_data"
    },
    {
     "name": "stdout",
     "output_type": "stream",
     "text": [
      "📗 Validation - Loss: 2.1683, Perplexity: 8.74, Token Acc: 33.97%\n",
      "✅ Saved checkpoint: checkpoints/blt_epoch50.pt\n"
     ]
    },
    {
     "data": {
      "application/vnd.jupyter.widget-view+json": {
       "model_id": "6d4b1db8af774827aeb4f7e04534f1ed",
       "version_major": 2,
       "version_minor": 0
      },
      "text/plain": [
       "Epoch 51/300 [Training]:   0%|          | 0/1125 [00:00<?, ?it/s]"
      ]
     },
     "metadata": {},
     "output_type": "display_data"
    },
    {
     "name": "stdout",
     "output_type": "stream",
     "text": [
      "\n",
      "📘 Epoch 51/300 - Train Loss: 2.2672\n"
     ]
    },
    {
     "data": {
      "application/vnd.jupyter.widget-view+json": {
       "model_id": "763e83c15d4c402f98b7d8ffb6e38437",
       "version_major": 2,
       "version_minor": 0
      },
      "text/plain": [
       "Validating:   0%|          | 0/250 [00:00<?, ?it/s]"
      ]
     },
     "metadata": {},
     "output_type": "display_data"
    },
    {
     "name": "stdout",
     "output_type": "stream",
     "text": [
      "📗 Validation - Loss: 2.1674, Perplexity: 8.74, Token Acc: 34.09%\n"
     ]
    },
    {
     "data": {
      "application/vnd.jupyter.widget-view+json": {
       "model_id": "a0f4132d472247a79e869bd1b9abece8",
       "version_major": 2,
       "version_minor": 0
      },
      "text/plain": [
       "Epoch 52/300 [Training]:   0%|          | 0/1125 [00:00<?, ?it/s]"
      ]
     },
     "metadata": {},
     "output_type": "display_data"
    },
    {
     "name": "stdout",
     "output_type": "stream",
     "text": [
      "\n",
      "📘 Epoch 52/300 - Train Loss: 2.2656\n"
     ]
    },
    {
     "data": {
      "application/vnd.jupyter.widget-view+json": {
       "model_id": "e4374daf5a2a4f03a02e24f8c15e69b6",
       "version_major": 2,
       "version_minor": 0
      },
      "text/plain": [
       "Validating:   0%|          | 0/250 [00:00<?, ?it/s]"
      ]
     },
     "metadata": {},
     "output_type": "display_data"
    },
    {
     "name": "stdout",
     "output_type": "stream",
     "text": [
      "📗 Validation - Loss: 2.1633, Perplexity: 8.70, Token Acc: 34.06%\n",
      "✅ Saved checkpoint: checkpoints/blt_epoch52.pt\n"
     ]
    },
    {
     "data": {
      "application/vnd.jupyter.widget-view+json": {
       "model_id": "a35e7cfcd43146f59459411888e75b64",
       "version_major": 2,
       "version_minor": 0
      },
      "text/plain": [
       "Epoch 53/300 [Training]:   0%|          | 0/1125 [00:00<?, ?it/s]"
      ]
     },
     "metadata": {},
     "output_type": "display_data"
    },
    {
     "name": "stdout",
     "output_type": "stream",
     "text": [
      "\n",
      "📘 Epoch 53/300 - Train Loss: 2.2634\n"
     ]
    },
    {
     "data": {
      "application/vnd.jupyter.widget-view+json": {
       "model_id": "22d573fda3ea4c279b7682983e8d1559",
       "version_major": 2,
       "version_minor": 0
      },
      "text/plain": [
       "Validating:   0%|          | 0/250 [00:00<?, ?it/s]"
      ]
     },
     "metadata": {},
     "output_type": "display_data"
    },
    {
     "name": "stdout",
     "output_type": "stream",
     "text": [
      "📗 Validation - Loss: 2.1605, Perplexity: 8.68, Token Acc: 34.24%\n"
     ]
    },
    {
     "data": {
      "application/vnd.jupyter.widget-view+json": {
       "model_id": "24cb722cd6d74de7a9b6e9f5eff1ff9c",
       "version_major": 2,
       "version_minor": 0
      },
      "text/plain": [
       "Epoch 54/300 [Training]:   0%|          | 0/1125 [00:00<?, ?it/s]"
      ]
     },
     "metadata": {},
     "output_type": "display_data"
    },
    {
     "name": "stdout",
     "output_type": "stream",
     "text": [
      "\n",
      "📘 Epoch 54/300 - Train Loss: 2.2608\n"
     ]
    },
    {
     "data": {
      "application/vnd.jupyter.widget-view+json": {
       "model_id": "26050b2ef4f74b07b749deb824afefd7",
       "version_major": 2,
       "version_minor": 0
      },
      "text/plain": [
       "Validating:   0%|          | 0/250 [00:00<?, ?it/s]"
      ]
     },
     "metadata": {},
     "output_type": "display_data"
    },
    {
     "name": "stdout",
     "output_type": "stream",
     "text": [
      "📗 Validation - Loss: 2.1569, Perplexity: 8.64, Token Acc: 34.35%\n",
      "✅ Saved checkpoint: checkpoints/blt_epoch54.pt\n"
     ]
    },
    {
     "data": {
      "application/vnd.jupyter.widget-view+json": {
       "model_id": "f80c2f6914f04964b56c66449f7310e5",
       "version_major": 2,
       "version_minor": 0
      },
      "text/plain": [
       "Epoch 55/300 [Training]:   0%|          | 0/1125 [00:00<?, ?it/s]"
      ]
     },
     "metadata": {},
     "output_type": "display_data"
    },
    {
     "name": "stdout",
     "output_type": "stream",
     "text": [
      "\n",
      "📘 Epoch 55/300 - Train Loss: 2.2578\n"
     ]
    },
    {
     "data": {
      "application/vnd.jupyter.widget-view+json": {
       "model_id": "8054e7462986480cad1708f7b7cceae4",
       "version_major": 2,
       "version_minor": 0
      },
      "text/plain": [
       "Validating:   0%|          | 0/250 [00:00<?, ?it/s]"
      ]
     },
     "metadata": {},
     "output_type": "display_data"
    },
    {
     "name": "stdout",
     "output_type": "stream",
     "text": [
      "📗 Validation - Loss: 2.1541, Perplexity: 8.62, Token Acc: 34.41%\n"
     ]
    },
    {
     "data": {
      "application/vnd.jupyter.widget-view+json": {
       "model_id": "89e0b067d335437d96ed5ad8f379920d",
       "version_major": 2,
       "version_minor": 0
      },
      "text/plain": [
       "Epoch 56/300 [Training]:   0%|          | 0/1125 [00:00<?, ?it/s]"
      ]
     },
     "metadata": {},
     "output_type": "display_data"
    },
    {
     "name": "stdout",
     "output_type": "stream",
     "text": [
      "\n",
      "📘 Epoch 56/300 - Train Loss: 2.2558\n"
     ]
    },
    {
     "data": {
      "application/vnd.jupyter.widget-view+json": {
       "model_id": "ce817d4b7a5f4b998ac477151059e7fd",
       "version_major": 2,
       "version_minor": 0
      },
      "text/plain": [
       "Validating:   0%|          | 0/250 [00:00<?, ?it/s]"
      ]
     },
     "metadata": {},
     "output_type": "display_data"
    },
    {
     "name": "stdout",
     "output_type": "stream",
     "text": [
      "📗 Validation - Loss: 2.1521, Perplexity: 8.60, Token Acc: 34.43%\n",
      "✅ Saved checkpoint: checkpoints/blt_epoch56.pt\n"
     ]
    },
    {
     "data": {
      "application/vnd.jupyter.widget-view+json": {
       "model_id": "d5862dbf068849a5864ab4242f50946d",
       "version_major": 2,
       "version_minor": 0
      },
      "text/plain": [
       "Epoch 57/300 [Training]:   0%|          | 0/1125 [00:00<?, ?it/s]"
      ]
     },
     "metadata": {},
     "output_type": "display_data"
    },
    {
     "name": "stdout",
     "output_type": "stream",
     "text": [
      "\n",
      "📘 Epoch 57/300 - Train Loss: 2.2533\n"
     ]
    },
    {
     "data": {
      "application/vnd.jupyter.widget-view+json": {
       "model_id": "f6fae234bec24966b5b10e834e0bfe9e",
       "version_major": 2,
       "version_minor": 0
      },
      "text/plain": [
       "Validating:   0%|          | 0/250 [00:00<?, ?it/s]"
      ]
     },
     "metadata": {},
     "output_type": "display_data"
    },
    {
     "name": "stdout",
     "output_type": "stream",
     "text": [
      "📗 Validation - Loss: 2.1492, Perplexity: 8.58, Token Acc: 34.53%\n"
     ]
    },
    {
     "data": {
      "application/vnd.jupyter.widget-view+json": {
       "model_id": "a575b0e8eb5346598b46b0d06d34f45f",
       "version_major": 2,
       "version_minor": 0
      },
      "text/plain": [
       "Epoch 58/300 [Training]:   0%|          | 0/1125 [00:00<?, ?it/s]"
      ]
     },
     "metadata": {},
     "output_type": "display_data"
    },
    {
     "name": "stdout",
     "output_type": "stream",
     "text": [
      "\n",
      "📘 Epoch 58/300 - Train Loss: 2.2504\n"
     ]
    },
    {
     "data": {
      "application/vnd.jupyter.widget-view+json": {
       "model_id": "e99fee6d743a49f7883f56067a82d848",
       "version_major": 2,
       "version_minor": 0
      },
      "text/plain": [
       "Validating:   0%|          | 0/250 [00:00<?, ?it/s]"
      ]
     },
     "metadata": {},
     "output_type": "display_data"
    },
    {
     "name": "stdout",
     "output_type": "stream",
     "text": [
      "📗 Validation - Loss: 2.1476, Perplexity: 8.56, Token Acc: 34.40%\n",
      "✅ Saved checkpoint: checkpoints/blt_epoch58.pt\n"
     ]
    },
    {
     "data": {
      "application/vnd.jupyter.widget-view+json": {
       "model_id": "d82e32a10af54a8da9cd979aafea098d",
       "version_major": 2,
       "version_minor": 0
      },
      "text/plain": [
       "Epoch 59/300 [Training]:   0%|          | 0/1125 [00:00<?, ?it/s]"
      ]
     },
     "metadata": {},
     "output_type": "display_data"
    },
    {
     "name": "stdout",
     "output_type": "stream",
     "text": [
      "\n",
      "📘 Epoch 59/300 - Train Loss: 2.2494\n"
     ]
    },
    {
     "data": {
      "application/vnd.jupyter.widget-view+json": {
       "model_id": "f138e52326b24eddb4e7796c423b644c",
       "version_major": 2,
       "version_minor": 0
      },
      "text/plain": [
       "Validating:   0%|          | 0/250 [00:00<?, ?it/s]"
      ]
     },
     "metadata": {},
     "output_type": "display_data"
    },
    {
     "name": "stdout",
     "output_type": "stream",
     "text": [
      "📗 Validation - Loss: 2.1448, Perplexity: 8.54, Token Acc: 34.49%\n"
     ]
    },
    {
     "data": {
      "application/vnd.jupyter.widget-view+json": {
       "model_id": "2c75836e1d914c709018b2870f09a526",
       "version_major": 2,
       "version_minor": 0
      },
      "text/plain": [
       "Epoch 60/300 [Training]:   0%|          | 0/1125 [00:00<?, ?it/s]"
      ]
     },
     "metadata": {},
     "output_type": "display_data"
    },
    {
     "name": "stdout",
     "output_type": "stream",
     "text": [
      "\n",
      "📘 Epoch 60/300 - Train Loss: 2.2475\n"
     ]
    },
    {
     "data": {
      "application/vnd.jupyter.widget-view+json": {
       "model_id": "de9bc6a26c3940718a578a70ad3fbef8",
       "version_major": 2,
       "version_minor": 0
      },
      "text/plain": [
       "Validating:   0%|          | 0/250 [00:00<?, ?it/s]"
      ]
     },
     "metadata": {},
     "output_type": "display_data"
    },
    {
     "name": "stdout",
     "output_type": "stream",
     "text": [
      "📗 Validation - Loss: 2.1417, Perplexity: 8.51, Token Acc: 34.68%\n",
      "✅ Saved checkpoint: checkpoints/blt_epoch60.pt\n"
     ]
    },
    {
     "data": {
      "application/vnd.jupyter.widget-view+json": {
       "model_id": "ecbff469c22747f1b431aec93c5d1834",
       "version_major": 2,
       "version_minor": 0
      },
      "text/plain": [
       "Epoch 61/300 [Training]:   0%|          | 0/1125 [00:00<?, ?it/s]"
      ]
     },
     "metadata": {},
     "output_type": "display_data"
    },
    {
     "name": "stdout",
     "output_type": "stream",
     "text": [
      "\n",
      "📘 Epoch 61/300 - Train Loss: 2.2446\n"
     ]
    },
    {
     "data": {
      "application/vnd.jupyter.widget-view+json": {
       "model_id": "8725fbf5709949c9a783125364ad5f3d",
       "version_major": 2,
       "version_minor": 0
      },
      "text/plain": [
       "Validating:   0%|          | 0/250 [00:00<?, ?it/s]"
      ]
     },
     "metadata": {},
     "output_type": "display_data"
    },
    {
     "name": "stdout",
     "output_type": "stream",
     "text": [
      "📗 Validation - Loss: 2.1382, Perplexity: 8.48, Token Acc: 34.72%\n"
     ]
    },
    {
     "data": {
      "application/vnd.jupyter.widget-view+json": {
       "model_id": "61da6f0d3c02452cae9560c952b55444",
       "version_major": 2,
       "version_minor": 0
      },
      "text/plain": [
       "Epoch 62/300 [Training]:   0%|          | 0/1125 [00:00<?, ?it/s]"
      ]
     },
     "metadata": {},
     "output_type": "display_data"
    },
    {
     "name": "stdout",
     "output_type": "stream",
     "text": [
      "\n",
      "📘 Epoch 62/300 - Train Loss: 2.2426\n"
     ]
    },
    {
     "data": {
      "application/vnd.jupyter.widget-view+json": {
       "model_id": "0d2521bbf0d54318bb05b32bb47666d0",
       "version_major": 2,
       "version_minor": 0
      },
      "text/plain": [
       "Validating:   0%|          | 0/250 [00:00<?, ?it/s]"
      ]
     },
     "metadata": {},
     "output_type": "display_data"
    },
    {
     "name": "stdout",
     "output_type": "stream",
     "text": [
      "📗 Validation - Loss: 2.1354, Perplexity: 8.46, Token Acc: 34.80%\n",
      "✅ Saved checkpoint: checkpoints/blt_epoch62.pt\n"
     ]
    },
    {
     "data": {
      "application/vnd.jupyter.widget-view+json": {
       "model_id": "53c039114d17437e808b98b2ec5a6136",
       "version_major": 2,
       "version_minor": 0
      },
      "text/plain": [
       "Epoch 63/300 [Training]:   0%|          | 0/1125 [00:00<?, ?it/s]"
      ]
     },
     "metadata": {},
     "output_type": "display_data"
    },
    {
     "name": "stdout",
     "output_type": "stream",
     "text": [
      "\n",
      "📘 Epoch 63/300 - Train Loss: 2.2398\n"
     ]
    },
    {
     "data": {
      "application/vnd.jupyter.widget-view+json": {
       "model_id": "170cc29c5e984c4d8444a24e2d485997",
       "version_major": 2,
       "version_minor": 0
      },
      "text/plain": [
       "Validating:   0%|          | 0/250 [00:00<?, ?it/s]"
      ]
     },
     "metadata": {},
     "output_type": "display_data"
    },
    {
     "name": "stdout",
     "output_type": "stream",
     "text": [
      "📗 Validation - Loss: 2.1336, Perplexity: 8.45, Token Acc: 34.91%\n"
     ]
    },
    {
     "data": {
      "application/vnd.jupyter.widget-view+json": {
       "model_id": "fb63496e63e3418586cfb7f5a0b2cf55",
       "version_major": 2,
       "version_minor": 0
      },
      "text/plain": [
       "Epoch 64/300 [Training]:   0%|          | 0/1125 [00:00<?, ?it/s]"
      ]
     },
     "metadata": {},
     "output_type": "display_data"
    },
    {
     "name": "stdout",
     "output_type": "stream",
     "text": [
      "\n",
      "📘 Epoch 64/300 - Train Loss: 2.2383\n"
     ]
    },
    {
     "data": {
      "application/vnd.jupyter.widget-view+json": {
       "model_id": "befe1693097740598c6b586668178afc",
       "version_major": 2,
       "version_minor": 0
      },
      "text/plain": [
       "Validating:   0%|          | 0/250 [00:00<?, ?it/s]"
      ]
     },
     "metadata": {},
     "output_type": "display_data"
    },
    {
     "name": "stdout",
     "output_type": "stream",
     "text": [
      "📗 Validation - Loss: 2.1305, Perplexity: 8.42, Token Acc: 34.99%\n",
      "✅ Saved checkpoint: checkpoints/blt_epoch64.pt\n"
     ]
    },
    {
     "data": {
      "application/vnd.jupyter.widget-view+json": {
       "model_id": "2a71a59d9c0248adad5b0a9b1be169d1",
       "version_major": 2,
       "version_minor": 0
      },
      "text/plain": [
       "Epoch 65/300 [Training]:   0%|          | 0/1125 [00:00<?, ?it/s]"
      ]
     },
     "metadata": {},
     "output_type": "display_data"
    },
    {
     "name": "stdout",
     "output_type": "stream",
     "text": [
      "\n",
      "📘 Epoch 65/300 - Train Loss: 2.2364\n"
     ]
    },
    {
     "data": {
      "application/vnd.jupyter.widget-view+json": {
       "model_id": "aade8090cacd4fd3ab87f85030e7f50f",
       "version_major": 2,
       "version_minor": 0
      },
      "text/plain": [
       "Validating:   0%|          | 0/250 [00:00<?, ?it/s]"
      ]
     },
     "metadata": {},
     "output_type": "display_data"
    },
    {
     "name": "stdout",
     "output_type": "stream",
     "text": [
      "📗 Validation - Loss: 2.1287, Perplexity: 8.40, Token Acc: 35.02%\n"
     ]
    },
    {
     "data": {
      "application/vnd.jupyter.widget-view+json": {
       "model_id": "669ce1b4d9894f5595127b42d8675d0d",
       "version_major": 2,
       "version_minor": 0
      },
      "text/plain": [
       "Epoch 66/300 [Training]:   0%|          | 0/1125 [00:00<?, ?it/s]"
      ]
     },
     "metadata": {},
     "output_type": "display_data"
    },
    {
     "name": "stdout",
     "output_type": "stream",
     "text": [
      "\n",
      "📘 Epoch 66/300 - Train Loss: 2.2336\n"
     ]
    },
    {
     "data": {
      "application/vnd.jupyter.widget-view+json": {
       "model_id": "4f31cc2c0fdb47c3ac443a3ae82f166d",
       "version_major": 2,
       "version_minor": 0
      },
      "text/plain": [
       "Validating:   0%|          | 0/250 [00:00<?, ?it/s]"
      ]
     },
     "metadata": {},
     "output_type": "display_data"
    },
    {
     "name": "stdout",
     "output_type": "stream",
     "text": [
      "📗 Validation - Loss: 2.1262, Perplexity: 8.38, Token Acc: 35.12%\n",
      "✅ Saved checkpoint: checkpoints/blt_epoch66.pt\n"
     ]
    },
    {
     "data": {
      "application/vnd.jupyter.widget-view+json": {
       "model_id": "fb5d6fbdef5f44ef85a6b2276ed6841b",
       "version_major": 2,
       "version_minor": 0
      },
      "text/plain": [
       "Epoch 67/300 [Training]:   0%|          | 0/1125 [00:00<?, ?it/s]"
      ]
     },
     "metadata": {},
     "output_type": "display_data"
    },
    {
     "name": "stdout",
     "output_type": "stream",
     "text": [
      "\n",
      "📘 Epoch 67/300 - Train Loss: 2.2333\n"
     ]
    },
    {
     "data": {
      "application/vnd.jupyter.widget-view+json": {
       "model_id": "79f40d6f9d044af291cc20f06dd4cb23",
       "version_major": 2,
       "version_minor": 0
      },
      "text/plain": [
       "Validating:   0%|          | 0/250 [00:00<?, ?it/s]"
      ]
     },
     "metadata": {},
     "output_type": "display_data"
    },
    {
     "name": "stdout",
     "output_type": "stream",
     "text": [
      "📗 Validation - Loss: 2.1227, Perplexity: 8.35, Token Acc: 35.16%\n"
     ]
    },
    {
     "data": {
      "application/vnd.jupyter.widget-view+json": {
       "model_id": "cbd9c0a094d94371bf8762b4cba8e5ef",
       "version_major": 2,
       "version_minor": 0
      },
      "text/plain": [
       "Epoch 68/300 [Training]:   0%|          | 0/1125 [00:00<?, ?it/s]"
      ]
     },
     "metadata": {},
     "output_type": "display_data"
    },
    {
     "name": "stdout",
     "output_type": "stream",
     "text": [
      "\n",
      "📘 Epoch 68/300 - Train Loss: 2.2309\n"
     ]
    },
    {
     "data": {
      "application/vnd.jupyter.widget-view+json": {
       "model_id": "3933045e9c60499bb04e27b4f925f5c7",
       "version_major": 2,
       "version_minor": 0
      },
      "text/plain": [
       "Validating:   0%|          | 0/250 [00:00<?, ?it/s]"
      ]
     },
     "metadata": {},
     "output_type": "display_data"
    },
    {
     "name": "stdout",
     "output_type": "stream",
     "text": [
      "📗 Validation - Loss: 2.1220, Perplexity: 8.35, Token Acc: 35.22%\n",
      "✅ Saved checkpoint: checkpoints/blt_epoch68.pt\n"
     ]
    },
    {
     "data": {
      "application/vnd.jupyter.widget-view+json": {
       "model_id": "cdb8ff37a0b74b69ab99c0b96a71b216",
       "version_major": 2,
       "version_minor": 0
      },
      "text/plain": [
       "Epoch 69/300 [Training]:   0%|          | 0/1125 [00:00<?, ?it/s]"
      ]
     },
     "metadata": {},
     "output_type": "display_data"
    },
    {
     "name": "stdout",
     "output_type": "stream",
     "text": [
      "\n",
      "📘 Epoch 69/300 - Train Loss: 2.2286\n"
     ]
    },
    {
     "data": {
      "application/vnd.jupyter.widget-view+json": {
       "model_id": "7cb3784adf5e492781f806eca787abbb",
       "version_major": 2,
       "version_minor": 0
      },
      "text/plain": [
       "Validating:   0%|          | 0/250 [00:00<?, ?it/s]"
      ]
     },
     "metadata": {},
     "output_type": "display_data"
    },
    {
     "name": "stdout",
     "output_type": "stream",
     "text": [
      "📗 Validation - Loss: 2.1189, Perplexity: 8.32, Token Acc: 35.39%\n"
     ]
    },
    {
     "data": {
      "application/vnd.jupyter.widget-view+json": {
       "model_id": "17e4cc30dcb24f4ba05a1ab7a470b20f",
       "version_major": 2,
       "version_minor": 0
      },
      "text/plain": [
       "Epoch 70/300 [Training]:   0%|          | 0/1125 [00:00<?, ?it/s]"
      ]
     },
     "metadata": {},
     "output_type": "display_data"
    },
    {
     "name": "stdout",
     "output_type": "stream",
     "text": [
      "\n",
      "📘 Epoch 70/300 - Train Loss: 2.2262\n"
     ]
    },
    {
     "data": {
      "application/vnd.jupyter.widget-view+json": {
       "model_id": "641c3bb827394599b4a12471d73b0d2d",
       "version_major": 2,
       "version_minor": 0
      },
      "text/plain": [
       "Validating:   0%|          | 0/250 [00:00<?, ?it/s]"
      ]
     },
     "metadata": {},
     "output_type": "display_data"
    },
    {
     "name": "stdout",
     "output_type": "stream",
     "text": [
      "📗 Validation - Loss: 2.1169, Perplexity: 8.31, Token Acc: 35.29%\n",
      "✅ Saved checkpoint: checkpoints/blt_epoch70.pt\n"
     ]
    },
    {
     "data": {
      "application/vnd.jupyter.widget-view+json": {
       "model_id": "48a57ae3453c4221a7c45430a121b9f8",
       "version_major": 2,
       "version_minor": 0
      },
      "text/plain": [
       "Epoch 71/300 [Training]:   0%|          | 0/1125 [00:00<?, ?it/s]"
      ]
     },
     "metadata": {},
     "output_type": "display_data"
    },
    {
     "name": "stdout",
     "output_type": "stream",
     "text": [
      "\n",
      "📘 Epoch 71/300 - Train Loss: 2.2245\n"
     ]
    },
    {
     "data": {
      "application/vnd.jupyter.widget-view+json": {
       "model_id": "6b7a97b7176e4482b22794e84dec2cc9",
       "version_major": 2,
       "version_minor": 0
      },
      "text/plain": [
       "Validating:   0%|          | 0/250 [00:00<?, ?it/s]"
      ]
     },
     "metadata": {},
     "output_type": "display_data"
    },
    {
     "name": "stdout",
     "output_type": "stream",
     "text": [
      "📗 Validation - Loss: 2.1149, Perplexity: 8.29, Token Acc: 35.40%\n"
     ]
    },
    {
     "data": {
      "application/vnd.jupyter.widget-view+json": {
       "model_id": "b51e1fb063b243b08aedf9e731a849e6",
       "version_major": 2,
       "version_minor": 0
      },
      "text/plain": [
       "Epoch 72/300 [Training]:   0%|          | 0/1125 [00:00<?, ?it/s]"
      ]
     },
     "metadata": {},
     "output_type": "display_data"
    },
    {
     "name": "stdout",
     "output_type": "stream",
     "text": [
      "\n",
      "📘 Epoch 72/300 - Train Loss: 2.2228\n"
     ]
    },
    {
     "data": {
      "application/vnd.jupyter.widget-view+json": {
       "model_id": "650e5d3846bb40b09b8beea09ec6b74e",
       "version_major": 2,
       "version_minor": 0
      },
      "text/plain": [
       "Validating:   0%|          | 0/250 [00:00<?, ?it/s]"
      ]
     },
     "metadata": {},
     "output_type": "display_data"
    },
    {
     "name": "stdout",
     "output_type": "stream",
     "text": [
      "📗 Validation - Loss: 2.1116, Perplexity: 8.26, Token Acc: 35.59%\n",
      "✅ Saved checkpoint: checkpoints/blt_epoch72.pt\n"
     ]
    },
    {
     "data": {
      "application/vnd.jupyter.widget-view+json": {
       "model_id": "c0ddd201919a4e5b91c87efa8ee3a5ee",
       "version_major": 2,
       "version_minor": 0
      },
      "text/plain": [
       "Epoch 73/300 [Training]:   0%|          | 0/1125 [00:00<?, ?it/s]"
      ]
     },
     "metadata": {},
     "output_type": "display_data"
    },
    {
     "name": "stdout",
     "output_type": "stream",
     "text": [
      "\n",
      "📘 Epoch 73/300 - Train Loss: 2.2211\n"
     ]
    },
    {
     "data": {
      "application/vnd.jupyter.widget-view+json": {
       "model_id": "7025626101c84eb09273f4e52139134c",
       "version_major": 2,
       "version_minor": 0
      },
      "text/plain": [
       "Validating:   0%|          | 0/250 [00:00<?, ?it/s]"
      ]
     },
     "metadata": {},
     "output_type": "display_data"
    },
    {
     "name": "stdout",
     "output_type": "stream",
     "text": [
      "📗 Validation - Loss: 2.1098, Perplexity: 8.25, Token Acc: 35.60%\n"
     ]
    },
    {
     "data": {
      "application/vnd.jupyter.widget-view+json": {
       "model_id": "3e73fab5f9d046519f2015ce43179fd7",
       "version_major": 2,
       "version_minor": 0
      },
      "text/plain": [
       "Epoch 74/300 [Training]:   0%|          | 0/1125 [00:00<?, ?it/s]"
      ]
     },
     "metadata": {},
     "output_type": "display_data"
    },
    {
     "name": "stdout",
     "output_type": "stream",
     "text": [
      "\n",
      "📘 Epoch 74/300 - Train Loss: 2.2192\n"
     ]
    },
    {
     "data": {
      "application/vnd.jupyter.widget-view+json": {
       "model_id": "6c0773a49b754b139b993b5efaddd916",
       "version_major": 2,
       "version_minor": 0
      },
      "text/plain": [
       "Validating:   0%|          | 0/250 [00:00<?, ?it/s]"
      ]
     },
     "metadata": {},
     "output_type": "display_data"
    },
    {
     "name": "stdout",
     "output_type": "stream",
     "text": [
      "📗 Validation - Loss: 2.1070, Perplexity: 8.22, Token Acc: 35.67%\n",
      "✅ Saved checkpoint: checkpoints/blt_epoch74.pt\n"
     ]
    },
    {
     "data": {
      "application/vnd.jupyter.widget-view+json": {
       "model_id": "fb7dbd65718b49fc901fb4663ff4cb3c",
       "version_major": 2,
       "version_minor": 0
      },
      "text/plain": [
       "Epoch 75/300 [Training]:   0%|          | 0/1125 [00:00<?, ?it/s]"
      ]
     },
     "metadata": {},
     "output_type": "display_data"
    },
    {
     "name": "stdout",
     "output_type": "stream",
     "text": [
      "\n",
      "📘 Epoch 75/300 - Train Loss: 2.2167\n"
     ]
    },
    {
     "data": {
      "application/vnd.jupyter.widget-view+json": {
       "model_id": "59cc5b041c5546048b9d5f4dab45ec09",
       "version_major": 2,
       "version_minor": 0
      },
      "text/plain": [
       "Validating:   0%|          | 0/250 [00:00<?, ?it/s]"
      ]
     },
     "metadata": {},
     "output_type": "display_data"
    },
    {
     "name": "stdout",
     "output_type": "stream",
     "text": [
      "📗 Validation - Loss: 2.1049, Perplexity: 8.21, Token Acc: 35.62%\n"
     ]
    },
    {
     "data": {
      "application/vnd.jupyter.widget-view+json": {
       "model_id": "793156338a0a4237bb2d1b032ab1612e",
       "version_major": 2,
       "version_minor": 0
      },
      "text/plain": [
       "Epoch 76/300 [Training]:   0%|          | 0/1125 [00:00<?, ?it/s]"
      ]
     },
     "metadata": {},
     "output_type": "display_data"
    },
    {
     "name": "stdout",
     "output_type": "stream",
     "text": [
      "\n",
      "📘 Epoch 76/300 - Train Loss: 2.2156\n"
     ]
    },
    {
     "data": {
      "application/vnd.jupyter.widget-view+json": {
       "model_id": "c8a21478624c46f0aefb56c3c37f0565",
       "version_major": 2,
       "version_minor": 0
      },
      "text/plain": [
       "Validating:   0%|          | 0/250 [00:00<?, ?it/s]"
      ]
     },
     "metadata": {},
     "output_type": "display_data"
    },
    {
     "name": "stdout",
     "output_type": "stream",
     "text": [
      "📗 Validation - Loss: 2.1035, Perplexity: 8.19, Token Acc: 35.64%\n",
      "✅ Saved checkpoint: checkpoints/blt_epoch76.pt\n"
     ]
    },
    {
     "data": {
      "application/vnd.jupyter.widget-view+json": {
       "model_id": "73b44176e2eb402e9ebed91013bcf8af",
       "version_major": 2,
       "version_minor": 0
      },
      "text/plain": [
       "Epoch 77/300 [Training]:   0%|          | 0/1125 [00:00<?, ?it/s]"
      ]
     },
     "metadata": {},
     "output_type": "display_data"
    },
    {
     "name": "stdout",
     "output_type": "stream",
     "text": [
      "\n",
      "📘 Epoch 77/300 - Train Loss: 2.2128\n"
     ]
    },
    {
     "data": {
      "application/vnd.jupyter.widget-view+json": {
       "model_id": "db28e18657bc4fd48e17dc57ce560ade",
       "version_major": 2,
       "version_minor": 0
      },
      "text/plain": [
       "Validating:   0%|          | 0/250 [00:00<?, ?it/s]"
      ]
     },
     "metadata": {},
     "output_type": "display_data"
    },
    {
     "name": "stdout",
     "output_type": "stream",
     "text": [
      "📗 Validation - Loss: 2.0999, Perplexity: 8.17, Token Acc: 35.83%\n"
     ]
    },
    {
     "data": {
      "application/vnd.jupyter.widget-view+json": {
       "model_id": "7d670e84482346cbabf43f2e7d7a123e",
       "version_major": 2,
       "version_minor": 0
      },
      "text/plain": [
       "Epoch 78/300 [Training]:   0%|          | 0/1125 [00:00<?, ?it/s]"
      ]
     },
     "metadata": {},
     "output_type": "display_data"
    },
    {
     "name": "stdout",
     "output_type": "stream",
     "text": [
      "\n",
      "📘 Epoch 78/300 - Train Loss: 2.2114\n"
     ]
    },
    {
     "data": {
      "application/vnd.jupyter.widget-view+json": {
       "model_id": "fe96f63ba69749a3a60bc3762e090a7e",
       "version_major": 2,
       "version_minor": 0
      },
      "text/plain": [
       "Validating:   0%|          | 0/250 [00:00<?, ?it/s]"
      ]
     },
     "metadata": {},
     "output_type": "display_data"
    },
    {
     "name": "stdout",
     "output_type": "stream",
     "text": [
      "📗 Validation - Loss: 2.0990, Perplexity: 8.16, Token Acc: 35.76%\n",
      "✅ Saved checkpoint: checkpoints/blt_epoch78.pt\n"
     ]
    },
    {
     "data": {
      "application/vnd.jupyter.widget-view+json": {
       "model_id": "57f055348232472fa441d693be309cd1",
       "version_major": 2,
       "version_minor": 0
      },
      "text/plain": [
       "Epoch 79/300 [Training]:   0%|          | 0/1125 [00:00<?, ?it/s]"
      ]
     },
     "metadata": {},
     "output_type": "display_data"
    },
    {
     "name": "stdout",
     "output_type": "stream",
     "text": [
      "\n",
      "📘 Epoch 79/300 - Train Loss: 2.2100\n"
     ]
    },
    {
     "data": {
      "application/vnd.jupyter.widget-view+json": {
       "model_id": "dd10d65729304258bdb97f69e75881b0",
       "version_major": 2,
       "version_minor": 0
      },
      "text/plain": [
       "Validating:   0%|          | 0/250 [00:00<?, ?it/s]"
      ]
     },
     "metadata": {},
     "output_type": "display_data"
    },
    {
     "name": "stdout",
     "output_type": "stream",
     "text": [
      "📗 Validation - Loss: 2.0967, Perplexity: 8.14, Token Acc: 35.97%\n"
     ]
    },
    {
     "data": {
      "application/vnd.jupyter.widget-view+json": {
       "model_id": "fb83cde6bdd64fe4a08d60df5abe8da2",
       "version_major": 2,
       "version_minor": 0
      },
      "text/plain": [
       "Epoch 80/300 [Training]:   0%|          | 0/1125 [00:00<?, ?it/s]"
      ]
     },
     "metadata": {},
     "output_type": "display_data"
    },
    {
     "name": "stdout",
     "output_type": "stream",
     "text": [
      "\n",
      "📘 Epoch 80/300 - Train Loss: 2.2085\n"
     ]
    },
    {
     "data": {
      "application/vnd.jupyter.widget-view+json": {
       "model_id": "43b88f816d5d4b759fd8a8f726e7a900",
       "version_major": 2,
       "version_minor": 0
      },
      "text/plain": [
       "Validating:   0%|          | 0/250 [00:00<?, ?it/s]"
      ]
     },
     "metadata": {},
     "output_type": "display_data"
    },
    {
     "name": "stdout",
     "output_type": "stream",
     "text": [
      "📗 Validation - Loss: 2.0931, Perplexity: 8.11, Token Acc: 36.01%\n",
      "✅ Saved checkpoint: checkpoints/blt_epoch80.pt\n"
     ]
    },
    {
     "data": {
      "application/vnd.jupyter.widget-view+json": {
       "model_id": "6e46d7493a144bd9a70ffcddf9a232ba",
       "version_major": 2,
       "version_minor": 0
      },
      "text/plain": [
       "Epoch 81/300 [Training]:   0%|          | 0/1125 [00:00<?, ?it/s]"
      ]
     },
     "metadata": {},
     "output_type": "display_data"
    },
    {
     "name": "stdout",
     "output_type": "stream",
     "text": [
      "\n",
      "📘 Epoch 81/300 - Train Loss: 2.2061\n"
     ]
    },
    {
     "data": {
      "application/vnd.jupyter.widget-view+json": {
       "model_id": "97f9ad39600242e19fe73e29a74e3ddd",
       "version_major": 2,
       "version_minor": 0
      },
      "text/plain": [
       "Validating:   0%|          | 0/250 [00:00<?, ?it/s]"
      ]
     },
     "metadata": {},
     "output_type": "display_data"
    },
    {
     "name": "stdout",
     "output_type": "stream",
     "text": [
      "📗 Validation - Loss: 2.0905, Perplexity: 8.09, Token Acc: 36.11%\n"
     ]
    },
    {
     "data": {
      "application/vnd.jupyter.widget-view+json": {
       "model_id": "b455410c97b64492a4e0a7727ede4e5d",
       "version_major": 2,
       "version_minor": 0
      },
      "text/plain": [
       "Epoch 82/300 [Training]:   0%|          | 0/1125 [00:00<?, ?it/s]"
      ]
     },
     "metadata": {},
     "output_type": "display_data"
    },
    {
     "name": "stdout",
     "output_type": "stream",
     "text": [
      "\n",
      "📘 Epoch 82/300 - Train Loss: 2.2037\n"
     ]
    },
    {
     "data": {
      "application/vnd.jupyter.widget-view+json": {
       "model_id": "4808551d3f624243b40c3a63cd47d2f2",
       "version_major": 2,
       "version_minor": 0
      },
      "text/plain": [
       "Validating:   0%|          | 0/250 [00:00<?, ?it/s]"
      ]
     },
     "metadata": {},
     "output_type": "display_data"
    },
    {
     "name": "stdout",
     "output_type": "stream",
     "text": [
      "📗 Validation - Loss: 2.0887, Perplexity: 8.07, Token Acc: 36.16%\n",
      "✅ Saved checkpoint: checkpoints/blt_epoch82.pt\n"
     ]
    },
    {
     "data": {
      "application/vnd.jupyter.widget-view+json": {
       "model_id": "848c755f1bec4a87897ba9f99d4dbf2f",
       "version_major": 2,
       "version_minor": 0
      },
      "text/plain": [
       "Epoch 83/300 [Training]:   0%|          | 0/1125 [00:00<?, ?it/s]"
      ]
     },
     "metadata": {},
     "output_type": "display_data"
    },
    {
     "name": "stdout",
     "output_type": "stream",
     "text": [
      "\n",
      "📘 Epoch 83/300 - Train Loss: 2.2018\n"
     ]
    },
    {
     "data": {
      "application/vnd.jupyter.widget-view+json": {
       "model_id": "1464c8b60502457ea8a6a213d746c4ba",
       "version_major": 2,
       "version_minor": 0
      },
      "text/plain": [
       "Validating:   0%|          | 0/250 [00:00<?, ?it/s]"
      ]
     },
     "metadata": {},
     "output_type": "display_data"
    },
    {
     "name": "stdout",
     "output_type": "stream",
     "text": [
      "📗 Validation - Loss: 2.0851, Perplexity: 8.05, Token Acc: 36.23%\n"
     ]
    },
    {
     "data": {
      "application/vnd.jupyter.widget-view+json": {
       "model_id": "30dbdfc32a5e41d3a6453d740b2c42dc",
       "version_major": 2,
       "version_minor": 0
      },
      "text/plain": [
       "Epoch 84/300 [Training]:   0%|          | 0/1125 [00:00<?, ?it/s]"
      ]
     },
     "metadata": {},
     "output_type": "display_data"
    },
    {
     "name": "stdout",
     "output_type": "stream",
     "text": [
      "\n",
      "📘 Epoch 84/300 - Train Loss: 2.1988\n"
     ]
    },
    {
     "data": {
      "application/vnd.jupyter.widget-view+json": {
       "model_id": "84258fce523f431e93eac9e8543c0427",
       "version_major": 2,
       "version_minor": 0
      },
      "text/plain": [
       "Validating:   0%|          | 0/250 [00:00<?, ?it/s]"
      ]
     },
     "metadata": {},
     "output_type": "display_data"
    },
    {
     "name": "stdout",
     "output_type": "stream",
     "text": [
      "📗 Validation - Loss: 2.0833, Perplexity: 8.03, Token Acc: 36.23%\n",
      "✅ Saved checkpoint: checkpoints/blt_epoch84.pt\n"
     ]
    },
    {
     "data": {
      "application/vnd.jupyter.widget-view+json": {
       "model_id": "f2d2ab5f5bad4f57a7172b5253861878",
       "version_major": 2,
       "version_minor": 0
      },
      "text/plain": [
       "Epoch 85/300 [Training]:   0%|          | 0/1125 [00:00<?, ?it/s]"
      ]
     },
     "metadata": {},
     "output_type": "display_data"
    },
    {
     "name": "stdout",
     "output_type": "stream",
     "text": [
      "\n",
      "📘 Epoch 85/300 - Train Loss: 2.1982\n"
     ]
    },
    {
     "data": {
      "application/vnd.jupyter.widget-view+json": {
       "model_id": "7e656c75a8ef49a890bd89d863960ba1",
       "version_major": 2,
       "version_minor": 0
      },
      "text/plain": [
       "Validating:   0%|          | 0/250 [00:00<?, ?it/s]"
      ]
     },
     "metadata": {},
     "output_type": "display_data"
    },
    {
     "name": "stdout",
     "output_type": "stream",
     "text": [
      "📗 Validation - Loss: 2.0811, Perplexity: 8.01, Token Acc: 36.30%\n"
     ]
    },
    {
     "data": {
      "application/vnd.jupyter.widget-view+json": {
       "model_id": "5d6000a61e82467499eba174541df963",
       "version_major": 2,
       "version_minor": 0
      },
      "text/plain": [
       "Epoch 86/300 [Training]:   0%|          | 0/1125 [00:00<?, ?it/s]"
      ]
     },
     "metadata": {},
     "output_type": "display_data"
    },
    {
     "name": "stdout",
     "output_type": "stream",
     "text": [
      "\n",
      "📘 Epoch 86/300 - Train Loss: 2.1960\n"
     ]
    },
    {
     "data": {
      "application/vnd.jupyter.widget-view+json": {
       "model_id": "fc4f1ac9257c4e138731222a7334f2e9",
       "version_major": 2,
       "version_minor": 0
      },
      "text/plain": [
       "Validating:   0%|          | 0/250 [00:00<?, ?it/s]"
      ]
     },
     "metadata": {},
     "output_type": "display_data"
    },
    {
     "name": "stdout",
     "output_type": "stream",
     "text": [
      "📗 Validation - Loss: 2.0792, Perplexity: 8.00, Token Acc: 36.39%\n",
      "✅ Saved checkpoint: checkpoints/blt_epoch86.pt\n"
     ]
    },
    {
     "data": {
      "application/vnd.jupyter.widget-view+json": {
       "model_id": "d93c5241358e4f93bb8875284d9f9bc3",
       "version_major": 2,
       "version_minor": 0
      },
      "text/plain": [
       "Epoch 87/300 [Training]:   0%|          | 0/1125 [00:00<?, ?it/s]"
      ]
     },
     "metadata": {},
     "output_type": "display_data"
    },
    {
     "name": "stdout",
     "output_type": "stream",
     "text": [
      "\n",
      "📘 Epoch 87/300 - Train Loss: 2.1942\n"
     ]
    },
    {
     "data": {
      "application/vnd.jupyter.widget-view+json": {
       "model_id": "314d0e1683214417bcd42bdc0126411b",
       "version_major": 2,
       "version_minor": 0
      },
      "text/plain": [
       "Validating:   0%|          | 0/250 [00:00<?, ?it/s]"
      ]
     },
     "metadata": {},
     "output_type": "display_data"
    },
    {
     "name": "stdout",
     "output_type": "stream",
     "text": [
      "📗 Validation - Loss: 2.0778, Perplexity: 7.99, Token Acc: 36.48%\n"
     ]
    },
    {
     "data": {
      "application/vnd.jupyter.widget-view+json": {
       "model_id": "1b406b5d876643c98bf0d32e2f5339df",
       "version_major": 2,
       "version_minor": 0
      },
      "text/plain": [
       "Epoch 88/300 [Training]:   0%|          | 0/1125 [00:00<?, ?it/s]"
      ]
     },
     "metadata": {},
     "output_type": "display_data"
    },
    {
     "name": "stdout",
     "output_type": "stream",
     "text": [
      "\n",
      "📘 Epoch 88/300 - Train Loss: 2.1921\n"
     ]
    },
    {
     "data": {
      "application/vnd.jupyter.widget-view+json": {
       "model_id": "3c1ef68691fc47d1a9fda38507a923f4",
       "version_major": 2,
       "version_minor": 0
      },
      "text/plain": [
       "Validating:   0%|          | 0/250 [00:00<?, ?it/s]"
      ]
     },
     "metadata": {},
     "output_type": "display_data"
    },
    {
     "name": "stdout",
     "output_type": "stream",
     "text": [
      "📗 Validation - Loss: 2.0743, Perplexity: 7.96, Token Acc: 36.54%\n",
      "✅ Saved checkpoint: checkpoints/blt_epoch88.pt\n"
     ]
    },
    {
     "data": {
      "application/vnd.jupyter.widget-view+json": {
       "model_id": "0219669c6ade4af5b4b3f97ae53443b5",
       "version_major": 2,
       "version_minor": 0
      },
      "text/plain": [
       "Epoch 89/300 [Training]:   0%|          | 0/1125 [00:00<?, ?it/s]"
      ]
     },
     "metadata": {},
     "output_type": "display_data"
    },
    {
     "name": "stdout",
     "output_type": "stream",
     "text": [
      "\n",
      "📘 Epoch 89/300 - Train Loss: 2.1902\n"
     ]
    },
    {
     "data": {
      "application/vnd.jupyter.widget-view+json": {
       "model_id": "89daff9992f2445b8a5d15ac282b4158",
       "version_major": 2,
       "version_minor": 0
      },
      "text/plain": [
       "Validating:   0%|          | 0/250 [00:00<?, ?it/s]"
      ]
     },
     "metadata": {},
     "output_type": "display_data"
    },
    {
     "name": "stdout",
     "output_type": "stream",
     "text": [
      "📗 Validation - Loss: 2.0722, Perplexity: 7.94, Token Acc: 36.59%\n"
     ]
    },
    {
     "data": {
      "application/vnd.jupyter.widget-view+json": {
       "model_id": "a70d512573104ff0b47c7428a67abbc3",
       "version_major": 2,
       "version_minor": 0
      },
      "text/plain": [
       "Epoch 90/300 [Training]:   0%|          | 0/1125 [00:00<?, ?it/s]"
      ]
     },
     "metadata": {},
     "output_type": "display_data"
    },
    {
     "name": "stdout",
     "output_type": "stream",
     "text": [
      "\n",
      "📘 Epoch 90/300 - Train Loss: 2.1882\n"
     ]
    },
    {
     "data": {
      "application/vnd.jupyter.widget-view+json": {
       "model_id": "c53e5b7dcf4d49cdac16d313d12a8892",
       "version_major": 2,
       "version_minor": 0
      },
      "text/plain": [
       "Validating:   0%|          | 0/250 [00:00<?, ?it/s]"
      ]
     },
     "metadata": {},
     "output_type": "display_data"
    },
    {
     "name": "stdout",
     "output_type": "stream",
     "text": [
      "📗 Validation - Loss: 2.0703, Perplexity: 7.93, Token Acc: 36.53%\n",
      "✅ Saved checkpoint: checkpoints/blt_epoch90.pt\n"
     ]
    },
    {
     "data": {
      "application/vnd.jupyter.widget-view+json": {
       "model_id": "ee97909334ee4304aa2a48eef746d276",
       "version_major": 2,
       "version_minor": 0
      },
      "text/plain": [
       "Epoch 91/300 [Training]:   0%|          | 0/1125 [00:00<?, ?it/s]"
      ]
     },
     "metadata": {},
     "output_type": "display_data"
    },
    {
     "name": "stdout",
     "output_type": "stream",
     "text": [
      "\n",
      "📘 Epoch 91/300 - Train Loss: 2.1877\n"
     ]
    },
    {
     "data": {
      "application/vnd.jupyter.widget-view+json": {
       "model_id": "d59893b0d18b4863a6ee6e0fa2f4820f",
       "version_major": 2,
       "version_minor": 0
      },
      "text/plain": [
       "Validating:   0%|          | 0/250 [00:00<?, ?it/s]"
      ]
     },
     "metadata": {},
     "output_type": "display_data"
    },
    {
     "name": "stdout",
     "output_type": "stream",
     "text": [
      "📗 Validation - Loss: 2.0675, Perplexity: 7.90, Token Acc: 36.71%\n"
     ]
    },
    {
     "data": {
      "application/vnd.jupyter.widget-view+json": {
       "model_id": "ce954e0e114b4d5e97400e5b0ceb2484",
       "version_major": 2,
       "version_minor": 0
      },
      "text/plain": [
       "Epoch 92/300 [Training]:   0%|          | 0/1125 [00:00<?, ?it/s]"
      ]
     },
     "metadata": {},
     "output_type": "display_data"
    },
    {
     "name": "stdout",
     "output_type": "stream",
     "text": [
      "\n",
      "📘 Epoch 92/300 - Train Loss: 2.1844\n"
     ]
    },
    {
     "data": {
      "application/vnd.jupyter.widget-view+json": {
       "model_id": "0543e34916ca4211b0cfa12e9e022ad8",
       "version_major": 2,
       "version_minor": 0
      },
      "text/plain": [
       "Validating:   0%|          | 0/250 [00:00<?, ?it/s]"
      ]
     },
     "metadata": {},
     "output_type": "display_data"
    },
    {
     "name": "stdout",
     "output_type": "stream",
     "text": [
      "📗 Validation - Loss: 2.0651, Perplexity: 7.89, Token Acc: 36.83%\n",
      "✅ Saved checkpoint: checkpoints/blt_epoch92.pt\n"
     ]
    },
    {
     "data": {
      "application/vnd.jupyter.widget-view+json": {
       "model_id": "f84cbeb277a640599d5d04552aaa7a8d",
       "version_major": 2,
       "version_minor": 0
      },
      "text/plain": [
       "Epoch 93/300 [Training]:   0%|          | 0/1125 [00:00<?, ?it/s]"
      ]
     },
     "metadata": {},
     "output_type": "display_data"
    },
    {
     "name": "stdout",
     "output_type": "stream",
     "text": [
      "\n",
      "📘 Epoch 93/300 - Train Loss: 2.1837\n"
     ]
    },
    {
     "data": {
      "application/vnd.jupyter.widget-view+json": {
       "model_id": "17bd407c9e304c399505e6bc8f9e8f20",
       "version_major": 2,
       "version_minor": 0
      },
      "text/plain": [
       "Validating:   0%|          | 0/250 [00:00<?, ?it/s]"
      ]
     },
     "metadata": {},
     "output_type": "display_data"
    },
    {
     "name": "stdout",
     "output_type": "stream",
     "text": [
      "📗 Validation - Loss: 2.0640, Perplexity: 7.88, Token Acc: 36.81%\n"
     ]
    },
    {
     "data": {
      "application/vnd.jupyter.widget-view+json": {
       "model_id": "a9124975812d4a47861a6eb0659957f0",
       "version_major": 2,
       "version_minor": 0
      },
      "text/plain": [
       "Epoch 94/300 [Training]:   0%|          | 0/1125 [00:00<?, ?it/s]"
      ]
     },
     "metadata": {},
     "output_type": "display_data"
    },
    {
     "name": "stdout",
     "output_type": "stream",
     "text": [
      "\n",
      "📘 Epoch 94/300 - Train Loss: 2.1815\n"
     ]
    },
    {
     "data": {
      "application/vnd.jupyter.widget-view+json": {
       "model_id": "30cf25df1a9c4c24acd22aa2baf704d0",
       "version_major": 2,
       "version_minor": 0
      },
      "text/plain": [
       "Validating:   0%|          | 0/250 [00:00<?, ?it/s]"
      ]
     },
     "metadata": {},
     "output_type": "display_data"
    },
    {
     "name": "stdout",
     "output_type": "stream",
     "text": [
      "📗 Validation - Loss: 2.0629, Perplexity: 7.87, Token Acc: 36.79%\n",
      "✅ Saved checkpoint: checkpoints/blt_epoch94.pt\n"
     ]
    },
    {
     "data": {
      "application/vnd.jupyter.widget-view+json": {
       "model_id": "8a73a21e911b46c59384878917ea056a",
       "version_major": 2,
       "version_minor": 0
      },
      "text/plain": [
       "Epoch 95/300 [Training]:   0%|          | 0/1125 [00:00<?, ?it/s]"
      ]
     },
     "metadata": {},
     "output_type": "display_data"
    },
    {
     "name": "stdout",
     "output_type": "stream",
     "text": [
      "\n",
      "📘 Epoch 95/300 - Train Loss: 2.1814\n"
     ]
    },
    {
     "data": {
      "application/vnd.jupyter.widget-view+json": {
       "model_id": "5b5ff19c13744306a5a7709ea6bbc596",
       "version_major": 2,
       "version_minor": 0
      },
      "text/plain": [
       "Validating:   0%|          | 0/250 [00:00<?, ?it/s]"
      ]
     },
     "metadata": {},
     "output_type": "display_data"
    },
    {
     "name": "stdout",
     "output_type": "stream",
     "text": [
      "📗 Validation - Loss: 2.0611, Perplexity: 7.85, Token Acc: 36.90%\n"
     ]
    },
    {
     "data": {
      "application/vnd.jupyter.widget-view+json": {
       "model_id": "1224e47e449e4b6ca30af2ad492548e1",
       "version_major": 2,
       "version_minor": 0
      },
      "text/plain": [
       "Epoch 96/300 [Training]:   0%|          | 0/1125 [00:00<?, ?it/s]"
      ]
     },
     "metadata": {},
     "output_type": "display_data"
    },
    {
     "name": "stdout",
     "output_type": "stream",
     "text": [
      "\n",
      "📘 Epoch 96/300 - Train Loss: 2.1796\n"
     ]
    },
    {
     "data": {
      "application/vnd.jupyter.widget-view+json": {
       "model_id": "20b4599ebe5e4c37900a94d8a0c8f125",
       "version_major": 2,
       "version_minor": 0
      },
      "text/plain": [
       "Validating:   0%|          | 0/250 [00:00<?, ?it/s]"
      ]
     },
     "metadata": {},
     "output_type": "display_data"
    },
    {
     "name": "stdout",
     "output_type": "stream",
     "text": [
      "📗 Validation - Loss: 2.0598, Perplexity: 7.84, Token Acc: 36.83%\n",
      "✅ Saved checkpoint: checkpoints/blt_epoch96.pt\n"
     ]
    },
    {
     "data": {
      "application/vnd.jupyter.widget-view+json": {
       "model_id": "92a5d9e4e80348b992d0e3ab73acc7b6",
       "version_major": 2,
       "version_minor": 0
      },
      "text/plain": [
       "Epoch 97/300 [Training]:   0%|          | 0/1125 [00:00<?, ?it/s]"
      ]
     },
     "metadata": {},
     "output_type": "display_data"
    },
    {
     "name": "stdout",
     "output_type": "stream",
     "text": [
      "\n",
      "📘 Epoch 97/300 - Train Loss: 2.1774\n"
     ]
    },
    {
     "data": {
      "application/vnd.jupyter.widget-view+json": {
       "model_id": "b766127a7453437c866e070f02258bd6",
       "version_major": 2,
       "version_minor": 0
      },
      "text/plain": [
       "Validating:   0%|          | 0/250 [00:00<?, ?it/s]"
      ]
     },
     "metadata": {},
     "output_type": "display_data"
    },
    {
     "name": "stdout",
     "output_type": "stream",
     "text": [
      "📗 Validation - Loss: 2.0582, Perplexity: 7.83, Token Acc: 36.97%\n"
     ]
    },
    {
     "data": {
      "application/vnd.jupyter.widget-view+json": {
       "model_id": "6a2e565a4c2743e7ba62e87939348981",
       "version_major": 2,
       "version_minor": 0
      },
      "text/plain": [
       "Epoch 98/300 [Training]:   0%|          | 0/1125 [00:00<?, ?it/s]"
      ]
     },
     "metadata": {},
     "output_type": "display_data"
    },
    {
     "name": "stdout",
     "output_type": "stream",
     "text": [
      "\n",
      "📘 Epoch 98/300 - Train Loss: 2.1751\n"
     ]
    },
    {
     "data": {
      "application/vnd.jupyter.widget-view+json": {
       "model_id": "7c92ea249bf64985a87b4a14ee015d87",
       "version_major": 2,
       "version_minor": 0
      },
      "text/plain": [
       "Validating:   0%|          | 0/250 [00:00<?, ?it/s]"
      ]
     },
     "metadata": {},
     "output_type": "display_data"
    },
    {
     "name": "stdout",
     "output_type": "stream",
     "text": [
      "📗 Validation - Loss: 2.0543, Perplexity: 7.80, Token Acc: 37.01%\n",
      "✅ Saved checkpoint: checkpoints/blt_epoch98.pt\n"
     ]
    },
    {
     "data": {
      "application/vnd.jupyter.widget-view+json": {
       "model_id": "8edd5ae2564e4f6e96aa36388b41c5eb",
       "version_major": 2,
       "version_minor": 0
      },
      "text/plain": [
       "Epoch 99/300 [Training]:   0%|          | 0/1125 [00:00<?, ?it/s]"
      ]
     },
     "metadata": {},
     "output_type": "display_data"
    },
    {
     "name": "stdout",
     "output_type": "stream",
     "text": [
      "\n",
      "📘 Epoch 99/300 - Train Loss: 2.1746\n"
     ]
    },
    {
     "data": {
      "application/vnd.jupyter.widget-view+json": {
       "model_id": "83d054b6f32347d0ba8781f2cee7d336",
       "version_major": 2,
       "version_minor": 0
      },
      "text/plain": [
       "Validating:   0%|          | 0/250 [00:00<?, ?it/s]"
      ]
     },
     "metadata": {},
     "output_type": "display_data"
    },
    {
     "name": "stdout",
     "output_type": "stream",
     "text": [
      "📗 Validation - Loss: 2.0534, Perplexity: 7.79, Token Acc: 37.14%\n"
     ]
    },
    {
     "data": {
      "application/vnd.jupyter.widget-view+json": {
       "model_id": "bcb21935030b4f8ca7e0f588cc6be717",
       "version_major": 2,
       "version_minor": 0
      },
      "text/plain": [
       "Epoch 100/300 [Training]:   0%|          | 0/1125 [00:00<?, ?it/s]"
      ]
     },
     "metadata": {},
     "output_type": "display_data"
    },
    {
     "name": "stdout",
     "output_type": "stream",
     "text": [
      "\n",
      "📘 Epoch 100/300 - Train Loss: 2.1734\n"
     ]
    },
    {
     "data": {
      "application/vnd.jupyter.widget-view+json": {
       "model_id": "e19269f37872450fadc45eb4546397a2",
       "version_major": 2,
       "version_minor": 0
      },
      "text/plain": [
       "Validating:   0%|          | 0/250 [00:00<?, ?it/s]"
      ]
     },
     "metadata": {},
     "output_type": "display_data"
    },
    {
     "name": "stdout",
     "output_type": "stream",
     "text": [
      "📗 Validation - Loss: 2.0539, Perplexity: 7.80, Token Acc: 36.97%\n",
      "✅ Saved checkpoint: checkpoints/blt_epoch100.pt\n"
     ]
    },
    {
     "data": {
      "application/vnd.jupyter.widget-view+json": {
       "model_id": "a3c1174ebb2d43178d39388eb5eb74df",
       "version_major": 2,
       "version_minor": 0
      },
      "text/plain": [
       "Epoch 101/300 [Training]:   0%|          | 0/1125 [00:00<?, ?it/s]"
      ]
     },
     "metadata": {},
     "output_type": "display_data"
    },
    {
     "name": "stdout",
     "output_type": "stream",
     "text": [
      "\n",
      "📘 Epoch 101/300 - Train Loss: 2.1719\n"
     ]
    },
    {
     "data": {
      "application/vnd.jupyter.widget-view+json": {
       "model_id": "beafe887585f413ba32b00cb6932f8cb",
       "version_major": 2,
       "version_minor": 0
      },
      "text/plain": [
       "Validating:   0%|          | 0/250 [00:00<?, ?it/s]"
      ]
     },
     "metadata": {},
     "output_type": "display_data"
    },
    {
     "name": "stdout",
     "output_type": "stream",
     "text": [
      "📗 Validation - Loss: 2.0505, Perplexity: 7.77, Token Acc: 37.06%\n"
     ]
    },
    {
     "data": {
      "application/vnd.jupyter.widget-view+json": {
       "model_id": "f75c869867d049eb88ee2de5cd27c8b6",
       "version_major": 2,
       "version_minor": 0
      },
      "text/plain": [
       "Epoch 102/300 [Training]:   0%|          | 0/1125 [00:00<?, ?it/s]"
      ]
     },
     "metadata": {},
     "output_type": "display_data"
    },
    {
     "name": "stdout",
     "output_type": "stream",
     "text": [
      "\n",
      "📘 Epoch 102/300 - Train Loss: 2.1708\n"
     ]
    },
    {
     "data": {
      "application/vnd.jupyter.widget-view+json": {
       "model_id": "35b9810c010f4462bac931608f1b14a5",
       "version_major": 2,
       "version_minor": 0
      },
      "text/plain": [
       "Validating:   0%|          | 0/250 [00:00<?, ?it/s]"
      ]
     },
     "metadata": {},
     "output_type": "display_data"
    },
    {
     "name": "stdout",
     "output_type": "stream",
     "text": [
      "📗 Validation - Loss: 2.0489, Perplexity: 7.76, Token Acc: 37.19%\n",
      "✅ Saved checkpoint: checkpoints/blt_epoch102.pt\n"
     ]
    },
    {
     "data": {
      "application/vnd.jupyter.widget-view+json": {
       "model_id": "da4b4717c0dd4f488a195cca7c8c51fd",
       "version_major": 2,
       "version_minor": 0
      },
      "text/plain": [
       "Epoch 103/300 [Training]:   0%|          | 0/1125 [00:00<?, ?it/s]"
      ]
     },
     "metadata": {},
     "output_type": "display_data"
    },
    {
     "name": "stdout",
     "output_type": "stream",
     "text": [
      "\n",
      "📘 Epoch 103/300 - Train Loss: 2.1685\n"
     ]
    },
    {
     "data": {
      "application/vnd.jupyter.widget-view+json": {
       "model_id": "b77c531dbdab4651adf1a56b0f7b01e7",
       "version_major": 2,
       "version_minor": 0
      },
      "text/plain": [
       "Validating:   0%|          | 0/250 [00:00<?, ?it/s]"
      ]
     },
     "metadata": {},
     "output_type": "display_data"
    },
    {
     "name": "stdout",
     "output_type": "stream",
     "text": [
      "📗 Validation - Loss: 2.0480, Perplexity: 7.75, Token Acc: 37.28%\n"
     ]
    },
    {
     "data": {
      "application/vnd.jupyter.widget-view+json": {
       "model_id": "ca1f7b7f43534f8d9bd687722fe604ba",
       "version_major": 2,
       "version_minor": 0
      },
      "text/plain": [
       "Epoch 104/300 [Training]:   0%|          | 0/1125 [00:00<?, ?it/s]"
      ]
     },
     "metadata": {},
     "output_type": "display_data"
    },
    {
     "name": "stdout",
     "output_type": "stream",
     "text": [
      "\n",
      "📘 Epoch 104/300 - Train Loss: 2.1667\n"
     ]
    },
    {
     "data": {
      "application/vnd.jupyter.widget-view+json": {
       "model_id": "dbc80950079f4f4f9140cd029ebb2fb9",
       "version_major": 2,
       "version_minor": 0
      },
      "text/plain": [
       "Validating:   0%|          | 0/250 [00:00<?, ?it/s]"
      ]
     },
     "metadata": {},
     "output_type": "display_data"
    },
    {
     "name": "stdout",
     "output_type": "stream",
     "text": [
      "📗 Validation - Loss: 2.0470, Perplexity: 7.74, Token Acc: 37.08%\n",
      "✅ Saved checkpoint: checkpoints/blt_epoch104.pt\n"
     ]
    },
    {
     "data": {
      "application/vnd.jupyter.widget-view+json": {
       "model_id": "e66ac3f98ee94bfaaabf38f4a6ef4c21",
       "version_major": 2,
       "version_minor": 0
      },
      "text/plain": [
       "Epoch 105/300 [Training]:   0%|          | 0/1125 [00:00<?, ?it/s]"
      ]
     },
     "metadata": {},
     "output_type": "display_data"
    },
    {
     "name": "stdout",
     "output_type": "stream",
     "text": [
      "\n",
      "📘 Epoch 105/300 - Train Loss: 2.1664\n"
     ]
    },
    {
     "data": {
      "application/vnd.jupyter.widget-view+json": {
       "model_id": "f78f11d4cd9342c49fb4d51f3a9943f4",
       "version_major": 2,
       "version_minor": 0
      },
      "text/plain": [
       "Validating:   0%|          | 0/250 [00:00<?, ?it/s]"
      ]
     },
     "metadata": {},
     "output_type": "display_data"
    },
    {
     "name": "stdout",
     "output_type": "stream",
     "text": [
      "📗 Validation - Loss: 2.0458, Perplexity: 7.74, Token Acc: 37.30%\n"
     ]
    },
    {
     "data": {
      "application/vnd.jupyter.widget-view+json": {
       "model_id": "0d2594426e024fdb8a077f2bc9eedf5c",
       "version_major": 2,
       "version_minor": 0
      },
      "text/plain": [
       "Epoch 106/300 [Training]:   0%|          | 0/1125 [00:00<?, ?it/s]"
      ]
     },
     "metadata": {},
     "output_type": "display_data"
    },
    {
     "name": "stdout",
     "output_type": "stream",
     "text": [
      "\n",
      "📘 Epoch 106/300 - Train Loss: 2.1658\n"
     ]
    },
    {
     "data": {
      "application/vnd.jupyter.widget-view+json": {
       "model_id": "1c5fa455b7f94648a6c3072fd9b34ff4",
       "version_major": 2,
       "version_minor": 0
      },
      "text/plain": [
       "Validating:   0%|          | 0/250 [00:00<?, ?it/s]"
      ]
     },
     "metadata": {},
     "output_type": "display_data"
    },
    {
     "name": "stdout",
     "output_type": "stream",
     "text": [
      "📗 Validation - Loss: 2.0442, Perplexity: 7.72, Token Acc: 37.14%\n",
      "✅ Saved checkpoint: checkpoints/blt_epoch106.pt\n"
     ]
    },
    {
     "data": {
      "application/vnd.jupyter.widget-view+json": {
       "model_id": "c915037f1e8b42e79288ed2823c977a6",
       "version_major": 2,
       "version_minor": 0
      },
      "text/plain": [
       "Epoch 107/300 [Training]:   0%|          | 0/1125 [00:00<?, ?it/s]"
      ]
     },
     "metadata": {},
     "output_type": "display_data"
    },
    {
     "name": "stdout",
     "output_type": "stream",
     "text": [
      "\n",
      "📘 Epoch 107/300 - Train Loss: 2.1632\n"
     ]
    },
    {
     "data": {
      "application/vnd.jupyter.widget-view+json": {
       "model_id": "b679d901ffae461b85a2c8d5b415111d",
       "version_major": 2,
       "version_minor": 0
      },
      "text/plain": [
       "Validating:   0%|          | 0/250 [00:00<?, ?it/s]"
      ]
     },
     "metadata": {},
     "output_type": "display_data"
    },
    {
     "name": "stdout",
     "output_type": "stream",
     "text": [
      "📗 Validation - Loss: 2.0427, Perplexity: 7.71, Token Acc: 37.30%\n"
     ]
    },
    {
     "data": {
      "application/vnd.jupyter.widget-view+json": {
       "model_id": "ba58e6cbf6394a2aa987daa9c3749785",
       "version_major": 2,
       "version_minor": 0
      },
      "text/plain": [
       "Epoch 108/300 [Training]:   0%|          | 0/1125 [00:00<?, ?it/s]"
      ]
     },
     "metadata": {},
     "output_type": "display_data"
    },
    {
     "name": "stdout",
     "output_type": "stream",
     "text": [
      "\n",
      "📘 Epoch 108/300 - Train Loss: 2.1620\n"
     ]
    },
    {
     "data": {
      "application/vnd.jupyter.widget-view+json": {
       "model_id": "581fe17685dc490498df333f5ffe6369",
       "version_major": 2,
       "version_minor": 0
      },
      "text/plain": [
       "Validating:   0%|          | 0/250 [00:00<?, ?it/s]"
      ]
     },
     "metadata": {},
     "output_type": "display_data"
    },
    {
     "name": "stdout",
     "output_type": "stream",
     "text": [
      "📗 Validation - Loss: 2.0427, Perplexity: 7.71, Token Acc: 37.17%\n",
      "✅ Saved checkpoint: checkpoints/blt_epoch108.pt\n"
     ]
    },
    {
     "data": {
      "application/vnd.jupyter.widget-view+json": {
       "model_id": "9ad45941c5734abf8e3792b9e859e4f2",
       "version_major": 2,
       "version_minor": 0
      },
      "text/plain": [
       "Epoch 109/300 [Training]:   0%|          | 0/1125 [00:00<?, ?it/s]"
      ]
     },
     "metadata": {},
     "output_type": "display_data"
    },
    {
     "name": "stdout",
     "output_type": "stream",
     "text": [
      "\n",
      "📘 Epoch 109/300 - Train Loss: 2.1620\n"
     ]
    },
    {
     "data": {
      "application/vnd.jupyter.widget-view+json": {
       "model_id": "f89b45c9557149beb1f650bdb791de54",
       "version_major": 2,
       "version_minor": 0
      },
      "text/plain": [
       "Validating:   0%|          | 0/250 [00:00<?, ?it/s]"
      ]
     },
     "metadata": {},
     "output_type": "display_data"
    },
    {
     "name": "stdout",
     "output_type": "stream",
     "text": [
      "📗 Validation - Loss: 2.0401, Perplexity: 7.69, Token Acc: 37.37%\n"
     ]
    },
    {
     "data": {
      "application/vnd.jupyter.widget-view+json": {
       "model_id": "c7186e45b5cd44bbb6501f3e3549837e",
       "version_major": 2,
       "version_minor": 0
      },
      "text/plain": [
       "Epoch 110/300 [Training]:   0%|          | 0/1125 [00:00<?, ?it/s]"
      ]
     },
     "metadata": {},
     "output_type": "display_data"
    },
    {
     "name": "stdout",
     "output_type": "stream",
     "text": [
      "\n",
      "📘 Epoch 110/300 - Train Loss: 2.1596\n"
     ]
    },
    {
     "data": {
      "application/vnd.jupyter.widget-view+json": {
       "model_id": "c1f3237d3c0d4ce0b099569d9ab21fd4",
       "version_major": 2,
       "version_minor": 0
      },
      "text/plain": [
       "Validating:   0%|          | 0/250 [00:00<?, ?it/s]"
      ]
     },
     "metadata": {},
     "output_type": "display_data"
    },
    {
     "name": "stdout",
     "output_type": "stream",
     "text": [
      "📗 Validation - Loss: 2.0394, Perplexity: 7.69, Token Acc: 37.18%\n",
      "✅ Saved checkpoint: checkpoints/blt_epoch110.pt\n"
     ]
    },
    {
     "data": {
      "application/vnd.jupyter.widget-view+json": {
       "model_id": "b3fc4be55d9d488e9aa05efaec02ef19",
       "version_major": 2,
       "version_minor": 0
      },
      "text/plain": [
       "Epoch 111/300 [Training]:   0%|          | 0/1125 [00:00<?, ?it/s]"
      ]
     },
     "metadata": {},
     "output_type": "display_data"
    },
    {
     "name": "stdout",
     "output_type": "stream",
     "text": [
      "\n",
      "📘 Epoch 111/300 - Train Loss: 2.1586\n"
     ]
    },
    {
     "data": {
      "application/vnd.jupyter.widget-view+json": {
       "model_id": "4486c8f979f143b1a2ee3cd9daa1aa06",
       "version_major": 2,
       "version_minor": 0
      },
      "text/plain": [
       "Validating:   0%|          | 0/250 [00:00<?, ?it/s]"
      ]
     },
     "metadata": {},
     "output_type": "display_data"
    },
    {
     "name": "stdout",
     "output_type": "stream",
     "text": [
      "📗 Validation - Loss: 2.0369, Perplexity: 7.67, Token Acc: 37.40%\n"
     ]
    },
    {
     "data": {
      "application/vnd.jupyter.widget-view+json": {
       "model_id": "3dd8a04b22104c6eae5d615d88093f21",
       "version_major": 2,
       "version_minor": 0
      },
      "text/plain": [
       "Epoch 112/300 [Training]:   0%|          | 0/1125 [00:00<?, ?it/s]"
      ]
     },
     "metadata": {},
     "output_type": "display_data"
    },
    {
     "name": "stdout",
     "output_type": "stream",
     "text": [
      "\n",
      "📘 Epoch 112/300 - Train Loss: 2.1576\n"
     ]
    },
    {
     "data": {
      "application/vnd.jupyter.widget-view+json": {
       "model_id": "16fce339907740e8bb9a3895c9282844",
       "version_major": 2,
       "version_minor": 0
      },
      "text/plain": [
       "Validating:   0%|          | 0/250 [00:00<?, ?it/s]"
      ]
     },
     "metadata": {},
     "output_type": "display_data"
    },
    {
     "name": "stdout",
     "output_type": "stream",
     "text": [
      "📗 Validation - Loss: 2.0379, Perplexity: 7.67, Token Acc: 37.31%\n",
      "✅ Saved checkpoint: checkpoints/blt_epoch112.pt\n"
     ]
    },
    {
     "data": {
      "application/vnd.jupyter.widget-view+json": {
       "model_id": "00111b4771df4e188197adcdeb6de009",
       "version_major": 2,
       "version_minor": 0
      },
      "text/plain": [
       "Epoch 113/300 [Training]:   0%|          | 0/1125 [00:00<?, ?it/s]"
      ]
     },
     "metadata": {},
     "output_type": "display_data"
    },
    {
     "name": "stdout",
     "output_type": "stream",
     "text": [
      "\n",
      "📘 Epoch 113/300 - Train Loss: 2.1572\n"
     ]
    },
    {
     "data": {
      "application/vnd.jupyter.widget-view+json": {
       "model_id": "b21b884223d448c8b165f492375411de",
       "version_major": 2,
       "version_minor": 0
      },
      "text/plain": [
       "Validating:   0%|          | 0/250 [00:00<?, ?it/s]"
      ]
     },
     "metadata": {},
     "output_type": "display_data"
    },
    {
     "name": "stdout",
     "output_type": "stream",
     "text": [
      "📗 Validation - Loss: 2.0354, Perplexity: 7.66, Token Acc: 37.34%\n"
     ]
    },
    {
     "data": {
      "application/vnd.jupyter.widget-view+json": {
       "model_id": "040e8f88cb974150a137cd31aa5b9f40",
       "version_major": 2,
       "version_minor": 0
      },
      "text/plain": [
       "Epoch 114/300 [Training]:   0%|          | 0/1125 [00:00<?, ?it/s]"
      ]
     },
     "metadata": {},
     "output_type": "display_data"
    },
    {
     "name": "stdout",
     "output_type": "stream",
     "text": [
      "\n",
      "📘 Epoch 114/300 - Train Loss: 2.1556\n"
     ]
    },
    {
     "data": {
      "application/vnd.jupyter.widget-view+json": {
       "model_id": "573746fc6acc4dc7a6a599fca54d6f1b",
       "version_major": 2,
       "version_minor": 0
      },
      "text/plain": [
       "Validating:   0%|          | 0/250 [00:00<?, ?it/s]"
      ]
     },
     "metadata": {},
     "output_type": "display_data"
    },
    {
     "name": "stdout",
     "output_type": "stream",
     "text": [
      "📗 Validation - Loss: 2.0337, Perplexity: 7.64, Token Acc: 37.39%\n",
      "✅ Saved checkpoint: checkpoints/blt_epoch114.pt\n"
     ]
    },
    {
     "data": {
      "application/vnd.jupyter.widget-view+json": {
       "model_id": "dfdcbefae27749ef884353f2a5ca5270",
       "version_major": 2,
       "version_minor": 0
      },
      "text/plain": [
       "Epoch 115/300 [Training]:   0%|          | 0/1125 [00:00<?, ?it/s]"
      ]
     },
     "metadata": {},
     "output_type": "display_data"
    },
    {
     "name": "stdout",
     "output_type": "stream",
     "text": [
      "\n",
      "📘 Epoch 115/300 - Train Loss: 2.1541\n"
     ]
    },
    {
     "data": {
      "application/vnd.jupyter.widget-view+json": {
       "model_id": "78a1f700515645629aebb14db48c842a",
       "version_major": 2,
       "version_minor": 0
      },
      "text/plain": [
       "Validating:   0%|          | 0/250 [00:00<?, ?it/s]"
      ]
     },
     "metadata": {},
     "output_type": "display_data"
    },
    {
     "name": "stdout",
     "output_type": "stream",
     "text": [
      "📗 Validation - Loss: 2.0329, Perplexity: 7.64, Token Acc: 37.54%\n"
     ]
    },
    {
     "data": {
      "application/vnd.jupyter.widget-view+json": {
       "model_id": "299b7317b8b04c8ea844da3dece4a3c4",
       "version_major": 2,
       "version_minor": 0
      },
      "text/plain": [
       "Epoch 116/300 [Training]:   0%|          | 0/1125 [00:00<?, ?it/s]"
      ]
     },
     "metadata": {},
     "output_type": "display_data"
    },
    {
     "name": "stdout",
     "output_type": "stream",
     "text": [
      "\n",
      "📘 Epoch 116/300 - Train Loss: 2.1527\n"
     ]
    },
    {
     "data": {
      "application/vnd.jupyter.widget-view+json": {
       "model_id": "463eb20731c14ffba5044e1bfe25bc48",
       "version_major": 2,
       "version_minor": 0
      },
      "text/plain": [
       "Validating:   0%|          | 0/250 [00:00<?, ?it/s]"
      ]
     },
     "metadata": {},
     "output_type": "display_data"
    },
    {
     "name": "stdout",
     "output_type": "stream",
     "text": [
      "📗 Validation - Loss: 2.0312, Perplexity: 7.62, Token Acc: 37.49%\n",
      "✅ Saved checkpoint: checkpoints/blt_epoch116.pt\n"
     ]
    },
    {
     "data": {
      "application/vnd.jupyter.widget-view+json": {
       "model_id": "b1e320c473a34623a1c0f55bf98e02e7",
       "version_major": 2,
       "version_minor": 0
      },
      "text/plain": [
       "Epoch 117/300 [Training]:   0%|          | 0/1125 [00:00<?, ?it/s]"
      ]
     },
     "metadata": {},
     "output_type": "display_data"
    },
    {
     "name": "stdout",
     "output_type": "stream",
     "text": [
      "\n",
      "📘 Epoch 117/300 - Train Loss: 2.1524\n"
     ]
    },
    {
     "data": {
      "application/vnd.jupyter.widget-view+json": {
       "model_id": "e95ccf40f9994194bf86dfa2da986ea8",
       "version_major": 2,
       "version_minor": 0
      },
      "text/plain": [
       "Validating:   0%|          | 0/250 [00:00<?, ?it/s]"
      ]
     },
     "metadata": {},
     "output_type": "display_data"
    },
    {
     "name": "stdout",
     "output_type": "stream",
     "text": [
      "📗 Validation - Loss: 2.0292, Perplexity: 7.61, Token Acc: 37.72%\n"
     ]
    },
    {
     "data": {
      "application/vnd.jupyter.widget-view+json": {
       "model_id": "2a39c5702e2a4e1ea72e809cb14cd23e",
       "version_major": 2,
       "version_minor": 0
      },
      "text/plain": [
       "Epoch 118/300 [Training]:   0%|          | 0/1125 [00:00<?, ?it/s]"
      ]
     },
     "metadata": {},
     "output_type": "display_data"
    },
    {
     "name": "stdout",
     "output_type": "stream",
     "text": [
      "\n",
      "📘 Epoch 118/300 - Train Loss: 2.1507\n"
     ]
    },
    {
     "data": {
      "application/vnd.jupyter.widget-view+json": {
       "model_id": "4e1b8b6967b84beba172615b6062be2e",
       "version_major": 2,
       "version_minor": 0
      },
      "text/plain": [
       "Validating:   0%|          | 0/250 [00:00<?, ?it/s]"
      ]
     },
     "metadata": {},
     "output_type": "display_data"
    },
    {
     "name": "stdout",
     "output_type": "stream",
     "text": [
      "📗 Validation - Loss: 2.0287, Perplexity: 7.60, Token Acc: 37.59%\n",
      "✅ Saved checkpoint: checkpoints/blt_epoch118.pt\n"
     ]
    },
    {
     "data": {
      "application/vnd.jupyter.widget-view+json": {
       "model_id": "7b9d8306f716409daf0c23b6632930a2",
       "version_major": 2,
       "version_minor": 0
      },
      "text/plain": [
       "Epoch 119/300 [Training]:   0%|          | 0/1125 [00:00<?, ?it/s]"
      ]
     },
     "metadata": {},
     "output_type": "display_data"
    },
    {
     "name": "stdout",
     "output_type": "stream",
     "text": [
      "\n",
      "📘 Epoch 119/300 - Train Loss: 2.1498\n"
     ]
    },
    {
     "data": {
      "application/vnd.jupyter.widget-view+json": {
       "model_id": "17bda89ec53f41cebc14d44a0bb285a1",
       "version_major": 2,
       "version_minor": 0
      },
      "text/plain": [
       "Validating:   0%|          | 0/250 [00:00<?, ?it/s]"
      ]
     },
     "metadata": {},
     "output_type": "display_data"
    },
    {
     "name": "stdout",
     "output_type": "stream",
     "text": [
      "📗 Validation - Loss: 2.0270, Perplexity: 7.59, Token Acc: 37.62%\n"
     ]
    },
    {
     "data": {
      "application/vnd.jupyter.widget-view+json": {
       "model_id": "3a73989e869940a28123e5e177260072",
       "version_major": 2,
       "version_minor": 0
      },
      "text/plain": [
       "Epoch 120/300 [Training]:   0%|          | 0/1125 [00:00<?, ?it/s]"
      ]
     },
     "metadata": {},
     "output_type": "display_data"
    },
    {
     "name": "stdout",
     "output_type": "stream",
     "text": [
      "\n",
      "📘 Epoch 120/300 - Train Loss: 2.1483\n"
     ]
    },
    {
     "data": {
      "application/vnd.jupyter.widget-view+json": {
       "model_id": "3b9afde1e00f4db7b768d5403218f5a7",
       "version_major": 2,
       "version_minor": 0
      },
      "text/plain": [
       "Validating:   0%|          | 0/250 [00:00<?, ?it/s]"
      ]
     },
     "metadata": {},
     "output_type": "display_data"
    },
    {
     "name": "stdout",
     "output_type": "stream",
     "text": [
      "📗 Validation - Loss: 2.0269, Perplexity: 7.59, Token Acc: 37.61%\n",
      "✅ Saved checkpoint: checkpoints/blt_epoch120.pt\n"
     ]
    },
    {
     "data": {
      "application/vnd.jupyter.widget-view+json": {
       "model_id": "6041495860ef41f5ab278e77f042f4ec",
       "version_major": 2,
       "version_minor": 0
      },
      "text/plain": [
       "Epoch 121/300 [Training]:   0%|          | 0/1125 [00:00<?, ?it/s]"
      ]
     },
     "metadata": {},
     "output_type": "display_data"
    },
    {
     "name": "stdout",
     "output_type": "stream",
     "text": [
      "\n",
      "📘 Epoch 121/300 - Train Loss: 2.1477\n"
     ]
    },
    {
     "data": {
      "application/vnd.jupyter.widget-view+json": {
       "model_id": "d913563955b4464c9abdcdd10faa2cb3",
       "version_major": 2,
       "version_minor": 0
      },
      "text/plain": [
       "Validating:   0%|          | 0/250 [00:00<?, ?it/s]"
      ]
     },
     "metadata": {},
     "output_type": "display_data"
    },
    {
     "name": "stdout",
     "output_type": "stream",
     "text": [
      "📗 Validation - Loss: 2.0259, Perplexity: 7.58, Token Acc: 37.69%\n"
     ]
    },
    {
     "data": {
      "application/vnd.jupyter.widget-view+json": {
       "model_id": "3449ad58e01a4d7da2756d8869b2c857",
       "version_major": 2,
       "version_minor": 0
      },
      "text/plain": [
       "Epoch 122/300 [Training]:   0%|          | 0/1125 [00:00<?, ?it/s]"
      ]
     },
     "metadata": {},
     "output_type": "display_data"
    },
    {
     "name": "stdout",
     "output_type": "stream",
     "text": [
      "\n",
      "📘 Epoch 122/300 - Train Loss: 2.1463\n"
     ]
    },
    {
     "data": {
      "application/vnd.jupyter.widget-view+json": {
       "model_id": "eced522926714cacafe2aa22646288ba",
       "version_major": 2,
       "version_minor": 0
      },
      "text/plain": [
       "Validating:   0%|          | 0/250 [00:00<?, ?it/s]"
      ]
     },
     "metadata": {},
     "output_type": "display_data"
    },
    {
     "name": "stdout",
     "output_type": "stream",
     "text": [
      "📗 Validation - Loss: 2.0244, Perplexity: 7.57, Token Acc: 37.67%\n",
      "✅ Saved checkpoint: checkpoints/blt_epoch122.pt\n"
     ]
    },
    {
     "data": {
      "application/vnd.jupyter.widget-view+json": {
       "model_id": "d847e418984542848913bae7f3ce07bd",
       "version_major": 2,
       "version_minor": 0
      },
      "text/plain": [
       "Epoch 123/300 [Training]:   0%|          | 0/1125 [00:00<?, ?it/s]"
      ]
     },
     "metadata": {},
     "output_type": "display_data"
    },
    {
     "name": "stdout",
     "output_type": "stream",
     "text": [
      "\n",
      "📘 Epoch 123/300 - Train Loss: 2.1466\n"
     ]
    },
    {
     "data": {
      "application/vnd.jupyter.widget-view+json": {
       "model_id": "6604118019bf413e9e02330a0c743c02",
       "version_major": 2,
       "version_minor": 0
      },
      "text/plain": [
       "Validating:   0%|          | 0/250 [00:00<?, ?it/s]"
      ]
     },
     "metadata": {},
     "output_type": "display_data"
    },
    {
     "name": "stdout",
     "output_type": "stream",
     "text": [
      "📗 Validation - Loss: 2.0229, Perplexity: 7.56, Token Acc: 37.72%\n"
     ]
    },
    {
     "data": {
      "application/vnd.jupyter.widget-view+json": {
       "model_id": "02cf25732e154235ab4f2da87c8598cd",
       "version_major": 2,
       "version_minor": 0
      },
      "text/plain": [
       "Epoch 124/300 [Training]:   0%|          | 0/1125 [00:00<?, ?it/s]"
      ]
     },
     "metadata": {},
     "output_type": "display_data"
    },
    {
     "name": "stdout",
     "output_type": "stream",
     "text": [
      "\n",
      "📘 Epoch 124/300 - Train Loss: 2.1457\n"
     ]
    },
    {
     "data": {
      "application/vnd.jupyter.widget-view+json": {
       "model_id": "adf6b2fb820f41de964ff3a3b31eaf43",
       "version_major": 2,
       "version_minor": 0
      },
      "text/plain": [
       "Validating:   0%|          | 0/250 [00:00<?, ?it/s]"
      ]
     },
     "metadata": {},
     "output_type": "display_data"
    },
    {
     "name": "stdout",
     "output_type": "stream",
     "text": [
      "📗 Validation - Loss: 2.0218, Perplexity: 7.55, Token Acc: 37.83%\n",
      "✅ Saved checkpoint: checkpoints/blt_epoch124.pt\n"
     ]
    },
    {
     "data": {
      "application/vnd.jupyter.widget-view+json": {
       "model_id": "d4eb445ff7114d748fd1f179c76baf03",
       "version_major": 2,
       "version_minor": 0
      },
      "text/plain": [
       "Epoch 125/300 [Training]:   0%|          | 0/1125 [00:00<?, ?it/s]"
      ]
     },
     "metadata": {},
     "output_type": "display_data"
    },
    {
     "name": "stdout",
     "output_type": "stream",
     "text": [
      "\n",
      "📘 Epoch 125/300 - Train Loss: 2.1431\n"
     ]
    },
    {
     "data": {
      "application/vnd.jupyter.widget-view+json": {
       "model_id": "ee8271a75d244e31b98ccfbda56de8a7",
       "version_major": 2,
       "version_minor": 0
      },
      "text/plain": [
       "Validating:   0%|          | 0/250 [00:00<?, ?it/s]"
      ]
     },
     "metadata": {},
     "output_type": "display_data"
    },
    {
     "name": "stdout",
     "output_type": "stream",
     "text": [
      "📗 Validation - Loss: 2.0199, Perplexity: 7.54, Token Acc: 37.85%\n"
     ]
    },
    {
     "data": {
      "application/vnd.jupyter.widget-view+json": {
       "model_id": "5431cfb4a0d741d6af04166d34811436",
       "version_major": 2,
       "version_minor": 0
      },
      "text/plain": [
       "Epoch 126/300 [Training]:   0%|          | 0/1125 [00:00<?, ?it/s]"
      ]
     },
     "metadata": {},
     "output_type": "display_data"
    },
    {
     "name": "stdout",
     "output_type": "stream",
     "text": [
      "\n",
      "📘 Epoch 126/300 - Train Loss: 2.1436\n"
     ]
    },
    {
     "data": {
      "application/vnd.jupyter.widget-view+json": {
       "model_id": "dc5e379ec92140238f45b55ba12717a9",
       "version_major": 2,
       "version_minor": 0
      },
      "text/plain": [
       "Validating:   0%|          | 0/250 [00:00<?, ?it/s]"
      ]
     },
     "metadata": {},
     "output_type": "display_data"
    },
    {
     "name": "stdout",
     "output_type": "stream",
     "text": [
      "📗 Validation - Loss: 2.0201, Perplexity: 7.54, Token Acc: 37.85%\n",
      "✅ Saved checkpoint: checkpoints/blt_epoch126.pt\n"
     ]
    },
    {
     "data": {
      "application/vnd.jupyter.widget-view+json": {
       "model_id": "06f9c2c6c901428e91e5dc9c1f1815c8",
       "version_major": 2,
       "version_minor": 0
      },
      "text/plain": [
       "Epoch 127/300 [Training]:   0%|          | 0/1125 [00:00<?, ?it/s]"
      ]
     },
     "metadata": {},
     "output_type": "display_data"
    },
    {
     "name": "stdout",
     "output_type": "stream",
     "text": [
      "\n",
      "📘 Epoch 127/300 - Train Loss: 2.1429\n"
     ]
    },
    {
     "data": {
      "application/vnd.jupyter.widget-view+json": {
       "model_id": "4eda00db9efb426aa34adfa2a88d9259",
       "version_major": 2,
       "version_minor": 0
      },
      "text/plain": [
       "Validating:   0%|          | 0/250 [00:00<?, ?it/s]"
      ]
     },
     "metadata": {},
     "output_type": "display_data"
    },
    {
     "name": "stdout",
     "output_type": "stream",
     "text": [
      "📗 Validation - Loss: 2.0204, Perplexity: 7.54, Token Acc: 37.73%\n"
     ]
    },
    {
     "data": {
      "application/vnd.jupyter.widget-view+json": {
       "model_id": "6c03135117f74a34bdca1a004c1f2a89",
       "version_major": 2,
       "version_minor": 0
      },
      "text/plain": [
       "Epoch 128/300 [Training]:   0%|          | 0/1125 [00:00<?, ?it/s]"
      ]
     },
     "metadata": {},
     "output_type": "display_data"
    },
    {
     "name": "stdout",
     "output_type": "stream",
     "text": [
      "\n",
      "📘 Epoch 128/300 - Train Loss: 2.1409\n"
     ]
    },
    {
     "data": {
      "application/vnd.jupyter.widget-view+json": {
       "model_id": "c7adbb3583ad46b596edae28e5f97ab9",
       "version_major": 2,
       "version_minor": 0
      },
      "text/plain": [
       "Validating:   0%|          | 0/250 [00:00<?, ?it/s]"
      ]
     },
     "metadata": {},
     "output_type": "display_data"
    },
    {
     "name": "stdout",
     "output_type": "stream",
     "text": [
      "📗 Validation - Loss: 2.0189, Perplexity: 7.53, Token Acc: 37.95%\n",
      "✅ Saved checkpoint: checkpoints/blt_epoch128.pt\n"
     ]
    },
    {
     "data": {
      "application/vnd.jupyter.widget-view+json": {
       "model_id": "948c4dea244340cfb09699e80c648632",
       "version_major": 2,
       "version_minor": 0
      },
      "text/plain": [
       "Epoch 129/300 [Training]:   0%|          | 0/1125 [00:00<?, ?it/s]"
      ]
     },
     "metadata": {},
     "output_type": "display_data"
    },
    {
     "name": "stdout",
     "output_type": "stream",
     "text": [
      "\n",
      "📘 Epoch 129/300 - Train Loss: 2.1395\n"
     ]
    },
    {
     "data": {
      "application/vnd.jupyter.widget-view+json": {
       "model_id": "b8e4e81756864292a9e1ed97199cba0a",
       "version_major": 2,
       "version_minor": 0
      },
      "text/plain": [
       "Validating:   0%|          | 0/250 [00:00<?, ?it/s]"
      ]
     },
     "metadata": {},
     "output_type": "display_data"
    },
    {
     "name": "stdout",
     "output_type": "stream",
     "text": [
      "📗 Validation - Loss: 2.0150, Perplexity: 7.50, Token Acc: 38.05%\n"
     ]
    },
    {
     "data": {
      "application/vnd.jupyter.widget-view+json": {
       "model_id": "88ce2bf5a5f54d80a4924451b1b5d2a6",
       "version_major": 2,
       "version_minor": 0
      },
      "text/plain": [
       "Epoch 130/300 [Training]:   0%|          | 0/1125 [00:00<?, ?it/s]"
      ]
     },
     "metadata": {},
     "output_type": "display_data"
    },
    {
     "name": "stdout",
     "output_type": "stream",
     "text": [
      "\n",
      "📘 Epoch 130/300 - Train Loss: 2.1390\n"
     ]
    },
    {
     "data": {
      "application/vnd.jupyter.widget-view+json": {
       "model_id": "944a22ab1501437aa8b7a90cd3a5d6c6",
       "version_major": 2,
       "version_minor": 0
      },
      "text/plain": [
       "Validating:   0%|          | 0/250 [00:00<?, ?it/s]"
      ]
     },
     "metadata": {},
     "output_type": "display_data"
    },
    {
     "name": "stdout",
     "output_type": "stream",
     "text": [
      "📗 Validation - Loss: 2.0155, Perplexity: 7.50, Token Acc: 38.00%\n",
      "✅ Saved checkpoint: checkpoints/blt_epoch130.pt\n"
     ]
    },
    {
     "data": {
      "application/vnd.jupyter.widget-view+json": {
       "model_id": "0d398567f2c142d0930bc5f5e7492073",
       "version_major": 2,
       "version_minor": 0
      },
      "text/plain": [
       "Epoch 131/300 [Training]:   0%|          | 0/1125 [00:00<?, ?it/s]"
      ]
     },
     "metadata": {},
     "output_type": "display_data"
    },
    {
     "name": "stdout",
     "output_type": "stream",
     "text": [
      "\n",
      "📘 Epoch 131/300 - Train Loss: 2.1387\n"
     ]
    },
    {
     "data": {
      "application/vnd.jupyter.widget-view+json": {
       "model_id": "034033a336c943b0bdcf8f545ac6c756",
       "version_major": 2,
       "version_minor": 0
      },
      "text/plain": [
       "Validating:   0%|          | 0/250 [00:00<?, ?it/s]"
      ]
     },
     "metadata": {},
     "output_type": "display_data"
    },
    {
     "name": "stdout",
     "output_type": "stream",
     "text": [
      "📗 Validation - Loss: 2.0134, Perplexity: 7.49, Token Acc: 38.15%\n"
     ]
    },
    {
     "data": {
      "application/vnd.jupyter.widget-view+json": {
       "model_id": "202663c6912746d197e8478bdeed0268",
       "version_major": 2,
       "version_minor": 0
      },
      "text/plain": [
       "Epoch 132/300 [Training]:   0%|          | 0/1125 [00:00<?, ?it/s]"
      ]
     },
     "metadata": {},
     "output_type": "display_data"
    },
    {
     "name": "stdout",
     "output_type": "stream",
     "text": [
      "\n",
      "📘 Epoch 132/300 - Train Loss: 2.1378\n"
     ]
    },
    {
     "data": {
      "application/vnd.jupyter.widget-view+json": {
       "model_id": "76c208c42349415eabb6419f488eac86",
       "version_major": 2,
       "version_minor": 0
      },
      "text/plain": [
       "Validating:   0%|          | 0/250 [00:00<?, ?it/s]"
      ]
     },
     "metadata": {},
     "output_type": "display_data"
    },
    {
     "name": "stdout",
     "output_type": "stream",
     "text": [
      "📗 Validation - Loss: 2.0143, Perplexity: 7.50, Token Acc: 38.00%\n",
      "✅ Saved checkpoint: checkpoints/blt_epoch132.pt\n"
     ]
    },
    {
     "data": {
      "application/vnd.jupyter.widget-view+json": {
       "model_id": "4333e04b50b14375a46b0e9cd256721e",
       "version_major": 2,
       "version_minor": 0
      },
      "text/plain": [
       "Epoch 133/300 [Training]:   0%|          | 0/1125 [00:00<?, ?it/s]"
      ]
     },
     "metadata": {},
     "output_type": "display_data"
    },
    {
     "name": "stdout",
     "output_type": "stream",
     "text": [
      "\n",
      "📘 Epoch 133/300 - Train Loss: 2.1362\n"
     ]
    },
    {
     "data": {
      "application/vnd.jupyter.widget-view+json": {
       "model_id": "572e7e95e9dc4de5a868431b9d2c4437",
       "version_major": 2,
       "version_minor": 0
      },
      "text/plain": [
       "Validating:   0%|          | 0/250 [00:00<?, ?it/s]"
      ]
     },
     "metadata": {},
     "output_type": "display_data"
    },
    {
     "name": "stdout",
     "output_type": "stream",
     "text": [
      "📗 Validation - Loss: 2.0130, Perplexity: 7.49, Token Acc: 38.05%\n"
     ]
    },
    {
     "data": {
      "application/vnd.jupyter.widget-view+json": {
       "model_id": "ca9ebf93413f4cabbdf2d5f626dd89e8",
       "version_major": 2,
       "version_minor": 0
      },
      "text/plain": [
       "Epoch 134/300 [Training]:   0%|          | 0/1125 [00:00<?, ?it/s]"
      ]
     },
     "metadata": {},
     "output_type": "display_data"
    },
    {
     "name": "stdout",
     "output_type": "stream",
     "text": [
      "\n",
      "📘 Epoch 134/300 - Train Loss: 2.1361\n"
     ]
    },
    {
     "data": {
      "application/vnd.jupyter.widget-view+json": {
       "model_id": "d37d83af718e4d278926814931b0e3ac",
       "version_major": 2,
       "version_minor": 0
      },
      "text/plain": [
       "Validating:   0%|          | 0/250 [00:00<?, ?it/s]"
      ]
     },
     "metadata": {},
     "output_type": "display_data"
    },
    {
     "name": "stdout",
     "output_type": "stream",
     "text": [
      "📗 Validation - Loss: 2.0127, Perplexity: 7.48, Token Acc: 38.12%\n",
      "✅ Saved checkpoint: checkpoints/blt_epoch134.pt\n"
     ]
    },
    {
     "data": {
      "application/vnd.jupyter.widget-view+json": {
       "model_id": "8e3e02a2b12d481ab153ea1f176340e3",
       "version_major": 2,
       "version_minor": 0
      },
      "text/plain": [
       "Epoch 135/300 [Training]:   0%|          | 0/1125 [00:00<?, ?it/s]"
      ]
     },
     "metadata": {},
     "output_type": "display_data"
    },
    {
     "name": "stdout",
     "output_type": "stream",
     "text": [
      "\n",
      "📘 Epoch 135/300 - Train Loss: 2.1341\n"
     ]
    },
    {
     "data": {
      "application/vnd.jupyter.widget-view+json": {
       "model_id": "a75e6d9f11b141b29bed32d9e32a8e25",
       "version_major": 2,
       "version_minor": 0
      },
      "text/plain": [
       "Validating:   0%|          | 0/250 [00:00<?, ?it/s]"
      ]
     },
     "metadata": {},
     "output_type": "display_data"
    },
    {
     "name": "stdout",
     "output_type": "stream",
     "text": [
      "📗 Validation - Loss: 2.0105, Perplexity: 7.47, Token Acc: 38.21%\n"
     ]
    },
    {
     "data": {
      "application/vnd.jupyter.widget-view+json": {
       "model_id": "58be52a1ce254d96a10f0228b076a9cb",
       "version_major": 2,
       "version_minor": 0
      },
      "text/plain": [
       "Epoch 136/300 [Training]:   0%|          | 0/1125 [00:00<?, ?it/s]"
      ]
     },
     "metadata": {},
     "output_type": "display_data"
    },
    {
     "name": "stdout",
     "output_type": "stream",
     "text": [
      "\n",
      "📘 Epoch 136/300 - Train Loss: 2.1352\n"
     ]
    },
    {
     "data": {
      "application/vnd.jupyter.widget-view+json": {
       "model_id": "aac029c1c6204baca090372a99a69fce",
       "version_major": 2,
       "version_minor": 0
      },
      "text/plain": [
       "Validating:   0%|          | 0/250 [00:00<?, ?it/s]"
      ]
     },
     "metadata": {},
     "output_type": "display_data"
    },
    {
     "name": "stdout",
     "output_type": "stream",
     "text": [
      "📗 Validation - Loss: 2.0108, Perplexity: 7.47, Token Acc: 38.23%\n",
      "✅ Saved checkpoint: checkpoints/blt_epoch136.pt\n"
     ]
    },
    {
     "data": {
      "application/vnd.jupyter.widget-view+json": {
       "model_id": "2f0d4528a7bc474e995750b27ef66d04",
       "version_major": 2,
       "version_minor": 0
      },
      "text/plain": [
       "Epoch 137/300 [Training]:   0%|          | 0/1125 [00:00<?, ?it/s]"
      ]
     },
     "metadata": {},
     "output_type": "display_data"
    },
    {
     "name": "stdout",
     "output_type": "stream",
     "text": [
      "\n",
      "📘 Epoch 137/300 - Train Loss: 2.1324\n"
     ]
    },
    {
     "data": {
      "application/vnd.jupyter.widget-view+json": {
       "model_id": "0311bd2aba7d4fd7b546fa19af8e8d92",
       "version_major": 2,
       "version_minor": 0
      },
      "text/plain": [
       "Validating:   0%|          | 0/250 [00:00<?, ?it/s]"
      ]
     },
     "metadata": {},
     "output_type": "display_data"
    },
    {
     "name": "stdout",
     "output_type": "stream",
     "text": [
      "📗 Validation - Loss: 2.0080, Perplexity: 7.45, Token Acc: 38.32%\n"
     ]
    },
    {
     "data": {
      "application/vnd.jupyter.widget-view+json": {
       "model_id": "b8e26af9a7c647da9c0d90bf6915aacc",
       "version_major": 2,
       "version_minor": 0
      },
      "text/plain": [
       "Epoch 138/300 [Training]:   0%|          | 0/1125 [00:00<?, ?it/s]"
      ]
     },
     "metadata": {},
     "output_type": "display_data"
    },
    {
     "name": "stdout",
     "output_type": "stream",
     "text": [
      "\n",
      "📘 Epoch 138/300 - Train Loss: 2.1319\n"
     ]
    },
    {
     "data": {
      "application/vnd.jupyter.widget-view+json": {
       "model_id": "725253aacbb84ce8afd6ed8cc9da6701",
       "version_major": 2,
       "version_minor": 0
      },
      "text/plain": [
       "Validating:   0%|          | 0/250 [00:00<?, ?it/s]"
      ]
     },
     "metadata": {},
     "output_type": "display_data"
    },
    {
     "name": "stdout",
     "output_type": "stream",
     "text": [
      "📗 Validation - Loss: 2.0066, Perplexity: 7.44, Token Acc: 38.33%\n",
      "✅ Saved checkpoint: checkpoints/blt_epoch138.pt\n"
     ]
    },
    {
     "data": {
      "application/vnd.jupyter.widget-view+json": {
       "model_id": "81c8e15cb65541908717a9ee53b3ead5",
       "version_major": 2,
       "version_minor": 0
      },
      "text/plain": [
       "Epoch 139/300 [Training]:   0%|          | 0/1125 [00:00<?, ?it/s]"
      ]
     },
     "metadata": {},
     "output_type": "display_data"
    },
    {
     "name": "stdout",
     "output_type": "stream",
     "text": [
      "\n",
      "📘 Epoch 139/300 - Train Loss: 2.1309\n"
     ]
    },
    {
     "data": {
      "application/vnd.jupyter.widget-view+json": {
       "model_id": "d48b07db3381410b948cfe92172eba95",
       "version_major": 2,
       "version_minor": 0
      },
      "text/plain": [
       "Validating:   0%|          | 0/250 [00:00<?, ?it/s]"
      ]
     },
     "metadata": {},
     "output_type": "display_data"
    },
    {
     "name": "stdout",
     "output_type": "stream",
     "text": [
      "📗 Validation - Loss: 2.0067, Perplexity: 7.44, Token Acc: 38.21%\n"
     ]
    },
    {
     "data": {
      "application/vnd.jupyter.widget-view+json": {
       "model_id": "61bbd49df36541e196ed34297e339d9d",
       "version_major": 2,
       "version_minor": 0
      },
      "text/plain": [
       "Epoch 140/300 [Training]:   0%|          | 0/1125 [00:00<?, ?it/s]"
      ]
     },
     "metadata": {},
     "output_type": "display_data"
    },
    {
     "name": "stdout",
     "output_type": "stream",
     "text": [
      "\n",
      "📘 Epoch 140/300 - Train Loss: 2.1306\n"
     ]
    },
    {
     "data": {
      "application/vnd.jupyter.widget-view+json": {
       "model_id": "d4d7262338d74189b7cb5a4a190f661a",
       "version_major": 2,
       "version_minor": 0
      },
      "text/plain": [
       "Validating:   0%|          | 0/250 [00:00<?, ?it/s]"
      ]
     },
     "metadata": {},
     "output_type": "display_data"
    },
    {
     "name": "stdout",
     "output_type": "stream",
     "text": [
      "📗 Validation - Loss: 2.0059, Perplexity: 7.43, Token Acc: 38.36%\n",
      "✅ Saved checkpoint: checkpoints/blt_epoch140.pt\n"
     ]
    },
    {
     "data": {
      "application/vnd.jupyter.widget-view+json": {
       "model_id": "2f32b6ac7b6e4ad3b1a7e739a5ac3a4c",
       "version_major": 2,
       "version_minor": 0
      },
      "text/plain": [
       "Epoch 141/300 [Training]:   0%|          | 0/1125 [00:00<?, ?it/s]"
      ]
     },
     "metadata": {},
     "output_type": "display_data"
    },
    {
     "name": "stdout",
     "output_type": "stream",
     "text": [
      "\n",
      "📘 Epoch 141/300 - Train Loss: 2.1307\n"
     ]
    },
    {
     "data": {
      "application/vnd.jupyter.widget-view+json": {
       "model_id": "516f19e71c1e43728b6f077cad1a9bee",
       "version_major": 2,
       "version_minor": 0
      },
      "text/plain": [
       "Validating:   0%|          | 0/250 [00:00<?, ?it/s]"
      ]
     },
     "metadata": {},
     "output_type": "display_data"
    },
    {
     "name": "stdout",
     "output_type": "stream",
     "text": [
      "📗 Validation - Loss: 2.0045, Perplexity: 7.42, Token Acc: 38.29%\n"
     ]
    },
    {
     "data": {
      "application/vnd.jupyter.widget-view+json": {
       "model_id": "fe969f7ccddf47deb841538036fd5f5d",
       "version_major": 2,
       "version_minor": 0
      },
      "text/plain": [
       "Epoch 142/300 [Training]:   0%|          | 0/1125 [00:00<?, ?it/s]"
      ]
     },
     "metadata": {},
     "output_type": "display_data"
    },
    {
     "name": "stdout",
     "output_type": "stream",
     "text": [
      "\n",
      "📘 Epoch 142/300 - Train Loss: 2.1293\n"
     ]
    },
    {
     "data": {
      "application/vnd.jupyter.widget-view+json": {
       "model_id": "6b211765691846129f5fc89b78a99756",
       "version_major": 2,
       "version_minor": 0
      },
      "text/plain": [
       "Validating:   0%|          | 0/250 [00:00<?, ?it/s]"
      ]
     },
     "metadata": {},
     "output_type": "display_data"
    },
    {
     "name": "stdout",
     "output_type": "stream",
     "text": [
      "📗 Validation - Loss: 2.0057, Perplexity: 7.43, Token Acc: 38.29%\n",
      "✅ Saved checkpoint: checkpoints/blt_epoch142.pt\n"
     ]
    },
    {
     "data": {
      "application/vnd.jupyter.widget-view+json": {
       "model_id": "82c14d9fdcee4ac59ebbf7a0f1ca6610",
       "version_major": 2,
       "version_minor": 0
      },
      "text/plain": [
       "Epoch 143/300 [Training]:   0%|          | 0/1125 [00:00<?, ?it/s]"
      ]
     },
     "metadata": {},
     "output_type": "display_data"
    },
    {
     "name": "stdout",
     "output_type": "stream",
     "text": [
      "\n",
      "📘 Epoch 143/300 - Train Loss: 2.1294\n"
     ]
    },
    {
     "data": {
      "application/vnd.jupyter.widget-view+json": {
       "model_id": "c0af5c89506f42d8a252d8b0a6ef29fd",
       "version_major": 2,
       "version_minor": 0
      },
      "text/plain": [
       "Validating:   0%|          | 0/250 [00:00<?, ?it/s]"
      ]
     },
     "metadata": {},
     "output_type": "display_data"
    },
    {
     "name": "stdout",
     "output_type": "stream",
     "text": [
      "📗 Validation - Loss: 2.0044, Perplexity: 7.42, Token Acc: 38.34%\n"
     ]
    },
    {
     "data": {
      "application/vnd.jupyter.widget-view+json": {
       "model_id": "b4dbe5205a54466c81968787fc202eef",
       "version_major": 2,
       "version_minor": 0
      },
      "text/plain": [
       "Epoch 144/300 [Training]:   0%|          | 0/1125 [00:00<?, ?it/s]"
      ]
     },
     "metadata": {},
     "output_type": "display_data"
    },
    {
     "name": "stdout",
     "output_type": "stream",
     "text": [
      "\n",
      "📘 Epoch 144/300 - Train Loss: 2.1284\n"
     ]
    },
    {
     "data": {
      "application/vnd.jupyter.widget-view+json": {
       "model_id": "087fb7fac7d249d6959a5517b01b8b11",
       "version_major": 2,
       "version_minor": 0
      },
      "text/plain": [
       "Validating:   0%|          | 0/250 [00:00<?, ?it/s]"
      ]
     },
     "metadata": {},
     "output_type": "display_data"
    },
    {
     "name": "stdout",
     "output_type": "stream",
     "text": [
      "📗 Validation - Loss: 2.0037, Perplexity: 7.42, Token Acc: 38.44%\n",
      "✅ Saved checkpoint: checkpoints/blt_epoch144.pt\n"
     ]
    },
    {
     "data": {
      "application/vnd.jupyter.widget-view+json": {
       "model_id": "61a93bf3c5c24fbea3b38f23353fd262",
       "version_major": 2,
       "version_minor": 0
      },
      "text/plain": [
       "Epoch 145/300 [Training]:   0%|          | 0/1125 [00:00<?, ?it/s]"
      ]
     },
     "metadata": {},
     "output_type": "display_data"
    },
    {
     "name": "stdout",
     "output_type": "stream",
     "text": [
      "\n",
      "📘 Epoch 145/300 - Train Loss: 2.1274\n"
     ]
    },
    {
     "data": {
      "application/vnd.jupyter.widget-view+json": {
       "model_id": "d41cb119bb3f45b18620337f4a499ba8",
       "version_major": 2,
       "version_minor": 0
      },
      "text/plain": [
       "Validating:   0%|          | 0/250 [00:00<?, ?it/s]"
      ]
     },
     "metadata": {},
     "output_type": "display_data"
    },
    {
     "name": "stdout",
     "output_type": "stream",
     "text": [
      "📗 Validation - Loss: 2.0019, Perplexity: 7.40, Token Acc: 38.46%\n"
     ]
    },
    {
     "data": {
      "application/vnd.jupyter.widget-view+json": {
       "model_id": "5136ffb720214fb28945ddb80fcdbe92",
       "version_major": 2,
       "version_minor": 0
      },
      "text/plain": [
       "Epoch 146/300 [Training]:   0%|          | 0/1125 [00:00<?, ?it/s]"
      ]
     },
     "metadata": {},
     "output_type": "display_data"
    },
    {
     "name": "stdout",
     "output_type": "stream",
     "text": [
      "\n",
      "📘 Epoch 146/300 - Train Loss: 2.1251\n"
     ]
    },
    {
     "data": {
      "application/vnd.jupyter.widget-view+json": {
       "model_id": "5665debf65134defaa8b209ddab00e48",
       "version_major": 2,
       "version_minor": 0
      },
      "text/plain": [
       "Validating:   0%|          | 0/250 [00:00<?, ?it/s]"
      ]
     },
     "metadata": {},
     "output_type": "display_data"
    },
    {
     "name": "stdout",
     "output_type": "stream",
     "text": [
      "📗 Validation - Loss: 2.0006, Perplexity: 7.39, Token Acc: 38.43%\n",
      "✅ Saved checkpoint: checkpoints/blt_epoch146.pt\n"
     ]
    },
    {
     "data": {
      "application/vnd.jupyter.widget-view+json": {
       "model_id": "1d2f103865c7495ab1237beca868725d",
       "version_major": 2,
       "version_minor": 0
      },
      "text/plain": [
       "Epoch 147/300 [Training]:   0%|          | 0/1125 [00:00<?, ?it/s]"
      ]
     },
     "metadata": {},
     "output_type": "display_data"
    },
    {
     "name": "stdout",
     "output_type": "stream",
     "text": [
      "\n",
      "📘 Epoch 147/300 - Train Loss: 2.1262\n"
     ]
    },
    {
     "data": {
      "application/vnd.jupyter.widget-view+json": {
       "model_id": "e7935cdcdafb47e9b1886353be83431a",
       "version_major": 2,
       "version_minor": 0
      },
      "text/plain": [
       "Validating:   0%|          | 0/250 [00:00<?, ?it/s]"
      ]
     },
     "metadata": {},
     "output_type": "display_data"
    },
    {
     "name": "stdout",
     "output_type": "stream",
     "text": [
      "📗 Validation - Loss: 2.0004, Perplexity: 7.39, Token Acc: 38.39%\n"
     ]
    },
    {
     "data": {
      "application/vnd.jupyter.widget-view+json": {
       "model_id": "10c296473d7c4fc2a228c4b0e60ff34b",
       "version_major": 2,
       "version_minor": 0
      },
      "text/plain": [
       "Epoch 148/300 [Training]:   0%|          | 0/1125 [00:00<?, ?it/s]"
      ]
     },
     "metadata": {},
     "output_type": "display_data"
    },
    {
     "name": "stdout",
     "output_type": "stream",
     "text": [
      "\n",
      "📘 Epoch 148/300 - Train Loss: 2.1253\n"
     ]
    },
    {
     "data": {
      "application/vnd.jupyter.widget-view+json": {
       "model_id": "10884c3912494d24b0cafbefa1fdccb5",
       "version_major": 2,
       "version_minor": 0
      },
      "text/plain": [
       "Validating:   0%|          | 0/250 [00:00<?, ?it/s]"
      ]
     },
     "metadata": {},
     "output_type": "display_data"
    },
    {
     "name": "stdout",
     "output_type": "stream",
     "text": [
      "📗 Validation - Loss: 2.0005, Perplexity: 7.39, Token Acc: 38.40%\n",
      "✅ Saved checkpoint: checkpoints/blt_epoch148.pt\n"
     ]
    },
    {
     "data": {
      "application/vnd.jupyter.widget-view+json": {
       "model_id": "8a7c61faef86443a841cb09ec766098b",
       "version_major": 2,
       "version_minor": 0
      },
      "text/plain": [
       "Epoch 149/300 [Training]:   0%|          | 0/1125 [00:00<?, ?it/s]"
      ]
     },
     "metadata": {},
     "output_type": "display_data"
    },
    {
     "name": "stdout",
     "output_type": "stream",
     "text": [
      "\n",
      "📘 Epoch 149/300 - Train Loss: 2.1253\n"
     ]
    },
    {
     "data": {
      "application/vnd.jupyter.widget-view+json": {
       "model_id": "820e83a28e5947389616411f825027c4",
       "version_major": 2,
       "version_minor": 0
      },
      "text/plain": [
       "Validating:   0%|          | 0/250 [00:00<?, ?it/s]"
      ]
     },
     "metadata": {},
     "output_type": "display_data"
    },
    {
     "name": "stdout",
     "output_type": "stream",
     "text": [
      "📗 Validation - Loss: 1.9998, Perplexity: 7.39, Token Acc: 38.42%\n"
     ]
    },
    {
     "data": {
      "application/vnd.jupyter.widget-view+json": {
       "model_id": "e75d768c192d4cc79cc9450c1455fa72",
       "version_major": 2,
       "version_minor": 0
      },
      "text/plain": [
       "Epoch 150/300 [Training]:   0%|          | 0/1125 [00:00<?, ?it/s]"
      ]
     },
     "metadata": {},
     "output_type": "display_data"
    },
    {
     "name": "stdout",
     "output_type": "stream",
     "text": [
      "\n",
      "📘 Epoch 150/300 - Train Loss: 2.1232\n"
     ]
    },
    {
     "data": {
      "application/vnd.jupyter.widget-view+json": {
       "model_id": "97ad50f50d3e4567859ff041fafed087",
       "version_major": 2,
       "version_minor": 0
      },
      "text/plain": [
       "Validating:   0%|          | 0/250 [00:00<?, ?it/s]"
      ]
     },
     "metadata": {},
     "output_type": "display_data"
    },
    {
     "name": "stdout",
     "output_type": "stream",
     "text": [
      "📗 Validation - Loss: 1.9972, Perplexity: 7.37, Token Acc: 38.51%\n",
      "✅ Saved checkpoint: checkpoints/blt_epoch150.pt\n"
     ]
    },
    {
     "data": {
      "application/vnd.jupyter.widget-view+json": {
       "model_id": "3c363ac615574571b66c2dcbbc706694",
       "version_major": 2,
       "version_minor": 0
      },
      "text/plain": [
       "Epoch 151/300 [Training]:   0%|          | 0/1125 [00:00<?, ?it/s]"
      ]
     },
     "metadata": {},
     "output_type": "display_data"
    },
    {
     "name": "stdout",
     "output_type": "stream",
     "text": [
      "\n",
      "📘 Epoch 151/300 - Train Loss: 2.1215\n"
     ]
    },
    {
     "data": {
      "application/vnd.jupyter.widget-view+json": {
       "model_id": "d848ece06c8246339713fc9342b3044e",
       "version_major": 2,
       "version_minor": 0
      },
      "text/plain": [
       "Validating:   0%|          | 0/250 [00:00<?, ?it/s]"
      ]
     },
     "metadata": {},
     "output_type": "display_data"
    },
    {
     "name": "stdout",
     "output_type": "stream",
     "text": [
      "📗 Validation - Loss: 1.9981, Perplexity: 7.37, Token Acc: 38.43%\n"
     ]
    },
    {
     "data": {
      "application/vnd.jupyter.widget-view+json": {
       "model_id": "c685d6abc82e4e7e9fc62f70ac96bb59",
       "version_major": 2,
       "version_minor": 0
      },
      "text/plain": [
       "Epoch 152/300 [Training]:   0%|          | 0/1125 [00:00<?, ?it/s]"
      ]
     },
     "metadata": {},
     "output_type": "display_data"
    },
    {
     "name": "stdout",
     "output_type": "stream",
     "text": [
      "\n",
      "📘 Epoch 152/300 - Train Loss: 2.1213\n"
     ]
    },
    {
     "data": {
      "application/vnd.jupyter.widget-view+json": {
       "model_id": "9ff973f0366b4f5b9eb72ad53f3d9792",
       "version_major": 2,
       "version_minor": 0
      },
      "text/plain": [
       "Validating:   0%|          | 0/250 [00:00<?, ?it/s]"
      ]
     },
     "metadata": {},
     "output_type": "display_data"
    },
    {
     "name": "stdout",
     "output_type": "stream",
     "text": [
      "📗 Validation - Loss: 1.9973, Perplexity: 7.37, Token Acc: 38.60%\n",
      "✅ Saved checkpoint: checkpoints/blt_epoch152.pt\n"
     ]
    },
    {
     "data": {
      "application/vnd.jupyter.widget-view+json": {
       "model_id": "635d0934ed4a46879936cbd67ee62a84",
       "version_major": 2,
       "version_minor": 0
      },
      "text/plain": [
       "Epoch 153/300 [Training]:   0%|          | 0/1125 [00:00<?, ?it/s]"
      ]
     },
     "metadata": {},
     "output_type": "display_data"
    },
    {
     "name": "stdout",
     "output_type": "stream",
     "text": [
      "\n",
      "📘 Epoch 153/300 - Train Loss: 2.1219\n"
     ]
    },
    {
     "data": {
      "application/vnd.jupyter.widget-view+json": {
       "model_id": "16013fa17d294bef801c493aad581d71",
       "version_major": 2,
       "version_minor": 0
      },
      "text/plain": [
       "Validating:   0%|          | 0/250 [00:00<?, ?it/s]"
      ]
     },
     "metadata": {},
     "output_type": "display_data"
    },
    {
     "name": "stdout",
     "output_type": "stream",
     "text": [
      "📗 Validation - Loss: 1.9953, Perplexity: 7.35, Token Acc: 38.48%\n"
     ]
    },
    {
     "data": {
      "application/vnd.jupyter.widget-view+json": {
       "model_id": "7754483176e746b1800aaf0257c53052",
       "version_major": 2,
       "version_minor": 0
      },
      "text/plain": [
       "Epoch 154/300 [Training]:   0%|          | 0/1125 [00:00<?, ?it/s]"
      ]
     },
     "metadata": {},
     "output_type": "display_data"
    },
    {
     "name": "stdout",
     "output_type": "stream",
     "text": [
      "\n",
      "📘 Epoch 154/300 - Train Loss: 2.1205\n"
     ]
    },
    {
     "data": {
      "application/vnd.jupyter.widget-view+json": {
       "model_id": "ad654f34400748698ab3c96593896a1b",
       "version_major": 2,
       "version_minor": 0
      },
      "text/plain": [
       "Validating:   0%|          | 0/250 [00:00<?, ?it/s]"
      ]
     },
     "metadata": {},
     "output_type": "display_data"
    },
    {
     "name": "stdout",
     "output_type": "stream",
     "text": [
      "📗 Validation - Loss: 1.9941, Perplexity: 7.35, Token Acc: 38.52%\n",
      "✅ Saved checkpoint: checkpoints/blt_epoch154.pt\n"
     ]
    },
    {
     "data": {
      "application/vnd.jupyter.widget-view+json": {
       "model_id": "382d7f1a789a4679a5540a046c0543cf",
       "version_major": 2,
       "version_minor": 0
      },
      "text/plain": [
       "Epoch 155/300 [Training]:   0%|          | 0/1125 [00:00<?, ?it/s]"
      ]
     },
     "metadata": {},
     "output_type": "display_data"
    },
    {
     "name": "stdout",
     "output_type": "stream",
     "text": [
      "\n",
      "📘 Epoch 155/300 - Train Loss: 2.1201\n"
     ]
    },
    {
     "data": {
      "application/vnd.jupyter.widget-view+json": {
       "model_id": "b29055790f5d4ad4b2191eb448815621",
       "version_major": 2,
       "version_minor": 0
      },
      "text/plain": [
       "Validating:   0%|          | 0/250 [00:00<?, ?it/s]"
      ]
     },
     "metadata": {},
     "output_type": "display_data"
    },
    {
     "name": "stdout",
     "output_type": "stream",
     "text": [
      "📗 Validation - Loss: 1.9940, Perplexity: 7.35, Token Acc: 38.53%\n"
     ]
    },
    {
     "data": {
      "application/vnd.jupyter.widget-view+json": {
       "model_id": "fd64426cca8c449585131138d988d20b",
       "version_major": 2,
       "version_minor": 0
      },
      "text/plain": [
       "Epoch 156/300 [Training]:   0%|          | 0/1125 [00:00<?, ?it/s]"
      ]
     },
     "metadata": {},
     "output_type": "display_data"
    },
    {
     "name": "stdout",
     "output_type": "stream",
     "text": [
      "\n",
      "📘 Epoch 156/300 - Train Loss: 2.1194\n"
     ]
    },
    {
     "data": {
      "application/vnd.jupyter.widget-view+json": {
       "model_id": "7fa46394f53741e6afe47f7312792781",
       "version_major": 2,
       "version_minor": 0
      },
      "text/plain": [
       "Validating:   0%|          | 0/250 [00:00<?, ?it/s]"
      ]
     },
     "metadata": {},
     "output_type": "display_data"
    },
    {
     "name": "stdout",
     "output_type": "stream",
     "text": [
      "📗 Validation - Loss: 1.9934, Perplexity: 7.34, Token Acc: 38.60%\n",
      "✅ Saved checkpoint: checkpoints/blt_epoch156.pt\n"
     ]
    },
    {
     "data": {
      "application/vnd.jupyter.widget-view+json": {
       "model_id": "0deae612f10944b092aede45fad98f53",
       "version_major": 2,
       "version_minor": 0
      },
      "text/plain": [
       "Epoch 157/300 [Training]:   0%|          | 0/1125 [00:00<?, ?it/s]"
      ]
     },
     "metadata": {},
     "output_type": "display_data"
    },
    {
     "name": "stdout",
     "output_type": "stream",
     "text": [
      "\n",
      "📘 Epoch 157/300 - Train Loss: 2.1190\n"
     ]
    },
    {
     "data": {
      "application/vnd.jupyter.widget-view+json": {
       "model_id": "560fe8af7dbf4a5783878076690fcb68",
       "version_major": 2,
       "version_minor": 0
      },
      "text/plain": [
       "Validating:   0%|          | 0/250 [00:00<?, ?it/s]"
      ]
     },
     "metadata": {},
     "output_type": "display_data"
    },
    {
     "name": "stdout",
     "output_type": "stream",
     "text": [
      "📗 Validation - Loss: 1.9922, Perplexity: 7.33, Token Acc: 38.62%\n"
     ]
    },
    {
     "data": {
      "application/vnd.jupyter.widget-view+json": {
       "model_id": "75401eef8dc344f1aa23222dd6d1f2ff",
       "version_major": 2,
       "version_minor": 0
      },
      "text/plain": [
       "Epoch 158/300 [Training]:   0%|          | 0/1125 [00:00<?, ?it/s]"
      ]
     },
     "metadata": {},
     "output_type": "display_data"
    },
    {
     "name": "stdout",
     "output_type": "stream",
     "text": [
      "\n",
      "📘 Epoch 158/300 - Train Loss: 2.1187\n"
     ]
    },
    {
     "data": {
      "application/vnd.jupyter.widget-view+json": {
       "model_id": "672f07ed67c241fb99f508a960571591",
       "version_major": 2,
       "version_minor": 0
      },
      "text/plain": [
       "Validating:   0%|          | 0/250 [00:00<?, ?it/s]"
      ]
     },
     "metadata": {},
     "output_type": "display_data"
    },
    {
     "name": "stdout",
     "output_type": "stream",
     "text": [
      "📗 Validation - Loss: 1.9904, Perplexity: 7.32, Token Acc: 38.79%\n",
      "✅ Saved checkpoint: checkpoints/blt_epoch158.pt\n"
     ]
    },
    {
     "data": {
      "application/vnd.jupyter.widget-view+json": {
       "model_id": "384e1c5aaebb45009d2fdfc6ae539b0f",
       "version_major": 2,
       "version_minor": 0
      },
      "text/plain": [
       "Epoch 159/300 [Training]:   0%|          | 0/1125 [00:00<?, ?it/s]"
      ]
     },
     "metadata": {},
     "output_type": "display_data"
    },
    {
     "name": "stdout",
     "output_type": "stream",
     "text": [
      "\n",
      "📘 Epoch 159/300 - Train Loss: 2.1166\n"
     ]
    },
    {
     "data": {
      "application/vnd.jupyter.widget-view+json": {
       "model_id": "5dee9ff389a5429095a728c1436723a9",
       "version_major": 2,
       "version_minor": 0
      },
      "text/plain": [
       "Validating:   0%|          | 0/250 [00:00<?, ?it/s]"
      ]
     },
     "metadata": {},
     "output_type": "display_data"
    },
    {
     "name": "stdout",
     "output_type": "stream",
     "text": [
      "📗 Validation - Loss: 1.9899, Perplexity: 7.31, Token Acc: 38.57%\n"
     ]
    },
    {
     "data": {
      "application/vnd.jupyter.widget-view+json": {
       "model_id": "2d9bece1654b4efb9b98bf487d0b8c3b",
       "version_major": 2,
       "version_minor": 0
      },
      "text/plain": [
       "Epoch 160/300 [Training]:   0%|          | 0/1125 [00:00<?, ?it/s]"
      ]
     },
     "metadata": {},
     "output_type": "display_data"
    },
    {
     "name": "stdout",
     "output_type": "stream",
     "text": [
      "\n",
      "📘 Epoch 160/300 - Train Loss: 2.1176\n"
     ]
    },
    {
     "data": {
      "application/vnd.jupyter.widget-view+json": {
       "model_id": "043c9a1f45a4465992252fd1dc86d105",
       "version_major": 2,
       "version_minor": 0
      },
      "text/plain": [
       "Validating:   0%|          | 0/250 [00:00<?, ?it/s]"
      ]
     },
     "metadata": {},
     "output_type": "display_data"
    },
    {
     "name": "stdout",
     "output_type": "stream",
     "text": [
      "📗 Validation - Loss: 1.9891, Perplexity: 7.31, Token Acc: 38.74%\n",
      "✅ Saved checkpoint: checkpoints/blt_epoch160.pt\n"
     ]
    },
    {
     "data": {
      "application/vnd.jupyter.widget-view+json": {
       "model_id": "20df8b46a97b44f98d834ba246f2577a",
       "version_major": 2,
       "version_minor": 0
      },
      "text/plain": [
       "Epoch 161/300 [Training]:   0%|          | 0/1125 [00:00<?, ?it/s]"
      ]
     },
     "metadata": {},
     "output_type": "display_data"
    },
    {
     "name": "stdout",
     "output_type": "stream",
     "text": [
      "\n",
      "📘 Epoch 161/300 - Train Loss: 2.1164\n"
     ]
    },
    {
     "data": {
      "application/vnd.jupyter.widget-view+json": {
       "model_id": "eb5d8c09b8594d6a8002b5364eae4bc9",
       "version_major": 2,
       "version_minor": 0
      },
      "text/plain": [
       "Validating:   0%|          | 0/250 [00:00<?, ?it/s]"
      ]
     },
     "metadata": {},
     "output_type": "display_data"
    },
    {
     "name": "stdout",
     "output_type": "stream",
     "text": [
      "📗 Validation - Loss: 1.9898, Perplexity: 7.31, Token Acc: 38.67%\n"
     ]
    },
    {
     "data": {
      "application/vnd.jupyter.widget-view+json": {
       "model_id": "24ebf03adc2745b0a269c296364af395",
       "version_major": 2,
       "version_minor": 0
      },
      "text/plain": [
       "Epoch 162/300 [Training]:   0%|          | 0/1125 [00:00<?, ?it/s]"
      ]
     },
     "metadata": {},
     "output_type": "display_data"
    },
    {
     "name": "stdout",
     "output_type": "stream",
     "text": [
      "\n",
      "📘 Epoch 162/300 - Train Loss: 2.1141\n"
     ]
    },
    {
     "data": {
      "application/vnd.jupyter.widget-view+json": {
       "model_id": "86175c01843e4804aec4f142b5e6586c",
       "version_major": 2,
       "version_minor": 0
      },
      "text/plain": [
       "Validating:   0%|          | 0/250 [00:00<?, ?it/s]"
      ]
     },
     "metadata": {},
     "output_type": "display_data"
    },
    {
     "name": "stdout",
     "output_type": "stream",
     "text": [
      "📗 Validation - Loss: 1.9865, Perplexity: 7.29, Token Acc: 38.96%\n",
      "✅ Saved checkpoint: checkpoints/blt_epoch162.pt\n"
     ]
    },
    {
     "data": {
      "application/vnd.jupyter.widget-view+json": {
       "model_id": "54d42dbc213547129f0ce7cb777a946e",
       "version_major": 2,
       "version_minor": 0
      },
      "text/plain": [
       "Epoch 163/300 [Training]:   0%|          | 0/1125 [00:00<?, ?it/s]"
      ]
     },
     "metadata": {},
     "output_type": "display_data"
    },
    {
     "name": "stdout",
     "output_type": "stream",
     "text": [
      "\n",
      "📘 Epoch 163/300 - Train Loss: 2.1148\n"
     ]
    },
    {
     "data": {
      "application/vnd.jupyter.widget-view+json": {
       "model_id": "34ae19adec3a431d8d7525832b1ffdcb",
       "version_major": 2,
       "version_minor": 0
      },
      "text/plain": [
       "Validating:   0%|          | 0/250 [00:00<?, ?it/s]"
      ]
     },
     "metadata": {},
     "output_type": "display_data"
    },
    {
     "name": "stdout",
     "output_type": "stream",
     "text": [
      "📗 Validation - Loss: 1.9872, Perplexity: 7.30, Token Acc: 38.71%\n"
     ]
    },
    {
     "data": {
      "application/vnd.jupyter.widget-view+json": {
       "model_id": "768e7a90ca804420b93437728f9eb119",
       "version_major": 2,
       "version_minor": 0
      },
      "text/plain": [
       "Epoch 164/300 [Training]:   0%|          | 0/1125 [00:00<?, ?it/s]"
      ]
     },
     "metadata": {},
     "output_type": "display_data"
    },
    {
     "name": "stdout",
     "output_type": "stream",
     "text": [
      "\n",
      "📘 Epoch 164/300 - Train Loss: 2.1142\n"
     ]
    },
    {
     "data": {
      "application/vnd.jupyter.widget-view+json": {
       "model_id": "945c3b6b747146a797abb657cd0e1a87",
       "version_major": 2,
       "version_minor": 0
      },
      "text/plain": [
       "Validating:   0%|          | 0/250 [00:00<?, ?it/s]"
      ]
     },
     "metadata": {},
     "output_type": "display_data"
    },
    {
     "name": "stdout",
     "output_type": "stream",
     "text": [
      "📗 Validation - Loss: 1.9857, Perplexity: 7.28, Token Acc: 38.91%\n",
      "✅ Saved checkpoint: checkpoints/blt_epoch164.pt\n"
     ]
    },
    {
     "data": {
      "application/vnd.jupyter.widget-view+json": {
       "model_id": "8fb7ba027ef945309e991793a4942882",
       "version_major": 2,
       "version_minor": 0
      },
      "text/plain": [
       "Epoch 165/300 [Training]:   0%|          | 0/1125 [00:00<?, ?it/s]"
      ]
     },
     "metadata": {},
     "output_type": "display_data"
    },
    {
     "name": "stdout",
     "output_type": "stream",
     "text": [
      "\n",
      "📘 Epoch 165/300 - Train Loss: 2.1129\n"
     ]
    },
    {
     "data": {
      "application/vnd.jupyter.widget-view+json": {
       "model_id": "10a11b3dd4e846019fbc70ae1b4be583",
       "version_major": 2,
       "version_minor": 0
      },
      "text/plain": [
       "Validating:   0%|          | 0/250 [00:00<?, ?it/s]"
      ]
     },
     "metadata": {},
     "output_type": "display_data"
    },
    {
     "name": "stdout",
     "output_type": "stream",
     "text": [
      "📗 Validation - Loss: 1.9858, Perplexity: 7.28, Token Acc: 38.80%\n"
     ]
    },
    {
     "data": {
      "application/vnd.jupyter.widget-view+json": {
       "model_id": "151274f9885442598d752098fd3b1d75",
       "version_major": 2,
       "version_minor": 0
      },
      "text/plain": [
       "Epoch 166/300 [Training]:   0%|          | 0/1125 [00:00<?, ?it/s]"
      ]
     },
     "metadata": {},
     "output_type": "display_data"
    },
    {
     "name": "stdout",
     "output_type": "stream",
     "text": [
      "\n",
      "📘 Epoch 166/300 - Train Loss: 2.1130\n"
     ]
    },
    {
     "data": {
      "application/vnd.jupyter.widget-view+json": {
       "model_id": "1c9f95119ab54c60a67f4d8702ee536e",
       "version_major": 2,
       "version_minor": 0
      },
      "text/plain": [
       "Validating:   0%|          | 0/250 [00:00<?, ?it/s]"
      ]
     },
     "metadata": {},
     "output_type": "display_data"
    },
    {
     "name": "stdout",
     "output_type": "stream",
     "text": [
      "📗 Validation - Loss: 1.9867, Perplexity: 7.29, Token Acc: 38.68%\n",
      "✅ Saved checkpoint: checkpoints/blt_epoch166.pt\n"
     ]
    },
    {
     "data": {
      "application/vnd.jupyter.widget-view+json": {
       "model_id": "1fae021926d54f12923fde1bb27cd0a9",
       "version_major": 2,
       "version_minor": 0
      },
      "text/plain": [
       "Epoch 167/300 [Training]:   0%|          | 0/1125 [00:00<?, ?it/s]"
      ]
     },
     "metadata": {},
     "output_type": "display_data"
    },
    {
     "name": "stdout",
     "output_type": "stream",
     "text": [
      "\n",
      "📘 Epoch 167/300 - Train Loss: 2.1125\n"
     ]
    },
    {
     "data": {
      "application/vnd.jupyter.widget-view+json": {
       "model_id": "ce177d653fb44dcaac12d5e9137e6aaf",
       "version_major": 2,
       "version_minor": 0
      },
      "text/plain": [
       "Validating:   0%|          | 0/250 [00:00<?, ?it/s]"
      ]
     },
     "metadata": {},
     "output_type": "display_data"
    },
    {
     "name": "stdout",
     "output_type": "stream",
     "text": [
      "📗 Validation - Loss: 1.9842, Perplexity: 7.27, Token Acc: 38.76%\n"
     ]
    },
    {
     "data": {
      "application/vnd.jupyter.widget-view+json": {
       "model_id": "6a3e70e887a64ee2946105e25cba6e55",
       "version_major": 2,
       "version_minor": 0
      },
      "text/plain": [
       "Epoch 168/300 [Training]:   0%|          | 0/1125 [00:00<?, ?it/s]"
      ]
     },
     "metadata": {},
     "output_type": "display_data"
    },
    {
     "name": "stdout",
     "output_type": "stream",
     "text": [
      "\n",
      "📘 Epoch 168/300 - Train Loss: 2.1115\n"
     ]
    },
    {
     "data": {
      "application/vnd.jupyter.widget-view+json": {
       "model_id": "32e8455ccb4e43b1849f2cda0e692c9a",
       "version_major": 2,
       "version_minor": 0
      },
      "text/plain": [
       "Validating:   0%|          | 0/250 [00:00<?, ?it/s]"
      ]
     },
     "metadata": {},
     "output_type": "display_data"
    },
    {
     "name": "stdout",
     "output_type": "stream",
     "text": [
      "📗 Validation - Loss: 1.9826, Perplexity: 7.26, Token Acc: 38.91%\n",
      "✅ Saved checkpoint: checkpoints/blt_epoch168.pt\n"
     ]
    },
    {
     "data": {
      "application/vnd.jupyter.widget-view+json": {
       "model_id": "5e410036ec104bfaa87042de0e1253f8",
       "version_major": 2,
       "version_minor": 0
      },
      "text/plain": [
       "Epoch 169/300 [Training]:   0%|          | 0/1125 [00:00<?, ?it/s]"
      ]
     },
     "metadata": {},
     "output_type": "display_data"
    },
    {
     "name": "stdout",
     "output_type": "stream",
     "text": [
      "\n",
      "📘 Epoch 169/300 - Train Loss: 2.1119\n"
     ]
    },
    {
     "data": {
      "application/vnd.jupyter.widget-view+json": {
       "model_id": "9299850057504dde8118c1f59eeb99ed",
       "version_major": 2,
       "version_minor": 0
      },
      "text/plain": [
       "Validating:   0%|          | 0/250 [00:00<?, ?it/s]"
      ]
     },
     "metadata": {},
     "output_type": "display_data"
    },
    {
     "name": "stdout",
     "output_type": "stream",
     "text": [
      "📗 Validation - Loss: 1.9833, Perplexity: 7.27, Token Acc: 38.86%\n"
     ]
    },
    {
     "data": {
      "application/vnd.jupyter.widget-view+json": {
       "model_id": "959332dfe63d4776a658b88cf820e2ad",
       "version_major": 2,
       "version_minor": 0
      },
      "text/plain": [
       "Epoch 170/300 [Training]:   0%|          | 0/1125 [00:00<?, ?it/s]"
      ]
     },
     "metadata": {},
     "output_type": "display_data"
    },
    {
     "name": "stdout",
     "output_type": "stream",
     "text": [
      "\n",
      "📘 Epoch 170/300 - Train Loss: 2.1098\n"
     ]
    },
    {
     "data": {
      "application/vnd.jupyter.widget-view+json": {
       "model_id": "d2f03ab646c34ad997e0dba6da791e84",
       "version_major": 2,
       "version_minor": 0
      },
      "text/plain": [
       "Validating:   0%|          | 0/250 [00:00<?, ?it/s]"
      ]
     },
     "metadata": {},
     "output_type": "display_data"
    },
    {
     "ename": "KeyboardInterrupt",
     "evalue": "",
     "output_type": "error",
     "traceback": [
      "\u001b[31m---------------------------------------------------------------------------\u001b[39m",
      "\u001b[31mKeyboardInterrupt\u001b[39m                         Traceback (most recent call last)",
      "\u001b[36mCell\u001b[39m\u001b[36m \u001b[39m\u001b[32mIn[63]\u001b[39m\u001b[32m, line 18\u001b[39m\n\u001b[32m      9\u001b[39m     torch.set_float32_matmul_precision(\u001b[33m\"\u001b[39m\u001b[33mhigh\u001b[39m\u001b[33m\"\u001b[39m)\n\u001b[32m     11\u001b[39m model = BLTModel(\n\u001b[32m     12\u001b[39m     vocab_size=\u001b[38;5;28mlen\u001b[39m(VOCAB), \n\u001b[32m     13\u001b[39m     d_model=\u001b[32m64\u001b[39m, \n\u001b[32m     14\u001b[39m     nhead=\u001b[32m4\u001b[39m, \n\u001b[32m     15\u001b[39m     dropout=\u001b[32m0.1\u001b[39m\n\u001b[32m     16\u001b[39m )\n\u001b[32m---> \u001b[39m\u001b[32m18\u001b[39m \u001b[43mtrain_blt\u001b[49m\u001b[43m(\u001b[49m\n\u001b[32m     19\u001b[39m \u001b[43m    \u001b[49m\u001b[43mmodel\u001b[49m\u001b[43m=\u001b[49m\u001b[43mmodel\u001b[49m\u001b[43m,\u001b[49m\n\u001b[32m     20\u001b[39m \u001b[43m    \u001b[49m\u001b[43mtrain_loader\u001b[49m\u001b[43m=\u001b[49m\u001b[43mtrain_loader\u001b[49m\u001b[43m,\u001b[49m\n\u001b[32m     21\u001b[39m \u001b[43m    \u001b[49m\u001b[43mval_loader\u001b[49m\u001b[43m=\u001b[49m\u001b[43mval_loader\u001b[49m\u001b[43m,\u001b[49m\n\u001b[32m     22\u001b[39m \u001b[43m    \u001b[49m\u001b[43mnum_epochs\u001b[49m\u001b[43m=\u001b[49m\u001b[43mNUM_EPOCHS\u001b[49m\u001b[43m,\u001b[49m\n\u001b[32m     23\u001b[39m \u001b[43m    \u001b[49m\u001b[43mlr\u001b[49m\u001b[43m=\u001b[49m\u001b[43mLEARNING_RATE\u001b[49m\u001b[43m,\u001b[49m\n\u001b[32m     24\u001b[39m \u001b[43m    \u001b[49m\u001b[43mdevice\u001b[49m\u001b[43m=\u001b[49m\u001b[43mdevice\u001b[49m\u001b[43m,\u001b[49m\n\u001b[32m     25\u001b[39m \u001b[43m    \u001b[49m\u001b[43msave_every\u001b[49m\u001b[43m=\u001b[49m\u001b[43mSAVE_EVERY\u001b[49m\u001b[43m,\u001b[49m\n\u001b[32m     26\u001b[39m \u001b[43m    \u001b[49m\u001b[43mresume_path\u001b[49m\u001b[43m=\u001b[49m\u001b[38;5;28;43;01mNone\u001b[39;49;00m\n\u001b[32m     27\u001b[39m \u001b[43m    \u001b[49m\u001b[38;5;66;43;03m# resume_path=\"checkpoints/blt_epoch.pt\"\u001b[39;49;00m\n\u001b[32m     28\u001b[39m \u001b[43m\u001b[49m\u001b[43m)\u001b[49m\n",
      "\u001b[36mCell\u001b[39m\u001b[36m \u001b[39m\u001b[32mIn[61]\u001b[39m\u001b[32m, line 68\u001b[39m, in \u001b[36mtrain_blt\u001b[39m\u001b[34m(model, train_loader, val_loader, num_epochs, lr, device, save_every, resume_path)\u001b[39m\n\u001b[32m     65\u001b[39m avg_loss = total_loss / total_tokens \u001b[38;5;28;01mif\u001b[39;00m total_tokens > \u001b[32m0\u001b[39m \u001b[38;5;28;01melse\u001b[39;00m \u001b[32m0\u001b[39m\n\u001b[32m     66\u001b[39m \u001b[38;5;28mprint\u001b[39m(\u001b[33mf\u001b[39m\u001b[33m\"\u001b[39m\u001b[38;5;130;01m\\n\u001b[39;00m\u001b[33m📘 Epoch \u001b[39m\u001b[38;5;132;01m{\u001b[39;00mepoch\u001b[38;5;132;01m}\u001b[39;00m\u001b[33m/\u001b[39m\u001b[38;5;132;01m{\u001b[39;00mnum_epochs\u001b[38;5;132;01m}\u001b[39;00m\u001b[33m - Train Loss: \u001b[39m\u001b[38;5;132;01m{\u001b[39;00mavg_loss\u001b[38;5;132;01m:\u001b[39;00m\u001b[33m.4f\u001b[39m\u001b[38;5;132;01m}\u001b[39;00m\u001b[33m\"\u001b[39m)\n\u001b[32m---> \u001b[39m\u001b[32m68\u001b[39m val_loss, val_acc = \u001b[43mevaluate\u001b[49m\u001b[43m(\u001b[49m\u001b[43mmodel\u001b[49m\u001b[43m,\u001b[49m\u001b[43m \u001b[49m\u001b[43mval_loader\u001b[49m\u001b[43m,\u001b[49m\u001b[43m \u001b[49m\u001b[43mcriterion\u001b[49m\u001b[43m,\u001b[49m\u001b[43m \u001b[49m\u001b[43mdevice\u001b[49m\u001b[43m)\u001b[49m\n\u001b[32m     69\u001b[39m perplexity = math.exp(val_loss) \u001b[38;5;28;01mif\u001b[39;00m val_loss < \u001b[32m100\u001b[39m \u001b[38;5;28;01melse\u001b[39;00m \u001b[38;5;28mfloat\u001b[39m(\u001b[33m'\u001b[39m\u001b[33minf\u001b[39m\u001b[33m'\u001b[39m)\n\u001b[32m     70\u001b[39m \u001b[38;5;28mprint\u001b[39m(\u001b[33mf\u001b[39m\u001b[33m\"\u001b[39m\u001b[33m📗 Validation - Loss: \u001b[39m\u001b[38;5;132;01m{\u001b[39;00mval_loss\u001b[38;5;132;01m:\u001b[39;00m\u001b[33m.4f\u001b[39m\u001b[38;5;132;01m}\u001b[39;00m\u001b[33m, Perplexity: \u001b[39m\u001b[38;5;132;01m{\u001b[39;00mperplexity\u001b[38;5;132;01m:\u001b[39;00m\u001b[33m.2f\u001b[39m\u001b[38;5;132;01m}\u001b[39;00m\u001b[33m, Token Acc: \u001b[39m\u001b[38;5;132;01m{\u001b[39;00mval_acc\u001b[38;5;132;01m:\u001b[39;00m\u001b[33m.2f\u001b[39m\u001b[38;5;132;01m}\u001b[39;00m\u001b[33m%\u001b[39m\u001b[33m\"\u001b[39m)\n",
      "\u001b[36mFile \u001b[39m\u001b[32m/Library/Frameworks/Python.framework/Versions/3.13/lib/python3.13/site-packages/torch/utils/_contextlib.py:120\u001b[39m, in \u001b[36mcontext_decorator.<locals>.decorate_context\u001b[39m\u001b[34m(*args, **kwargs)\u001b[39m\n\u001b[32m    117\u001b[39m \u001b[38;5;129m@functools\u001b[39m.wraps(func)\n\u001b[32m    118\u001b[39m \u001b[38;5;28;01mdef\u001b[39;00m\u001b[38;5;250m \u001b[39m\u001b[34mdecorate_context\u001b[39m(*args, **kwargs):\n\u001b[32m    119\u001b[39m     \u001b[38;5;28;01mwith\u001b[39;00m ctx_factory():\n\u001b[32m--> \u001b[39m\u001b[32m120\u001b[39m         \u001b[38;5;28;01mreturn\u001b[39;00m \u001b[43mfunc\u001b[49m\u001b[43m(\u001b[49m\u001b[43m*\u001b[49m\u001b[43margs\u001b[49m\u001b[43m,\u001b[49m\u001b[43m \u001b[49m\u001b[43m*\u001b[49m\u001b[43m*\u001b[49m\u001b[43mkwargs\u001b[49m\u001b[43m)\u001b[49m\n",
      "\u001b[36mCell\u001b[39m\u001b[36m \u001b[39m\u001b[32mIn[61]\u001b[39m\u001b[32m, line 95\u001b[39m, in \u001b[36mevaluate\u001b[39m\u001b[34m(model, val_loader, criterion, device)\u001b[39m\n\u001b[32m     92\u001b[39m tgt_out = tgt_padded[:, \u001b[32m1\u001b[39m:]\n\u001b[32m     93\u001b[39m tgt_pad_mask = (tgt_inp == PAD_IDX)\n\u001b[32m---> \u001b[39m\u001b[32m95\u001b[39m logits = \u001b[43mmodel\u001b[49m\u001b[43m(\u001b[49m\u001b[43msrc_patches\u001b[49m\u001b[43m,\u001b[49m\u001b[43m \u001b[49m\u001b[43mtgt_inp\u001b[49m\u001b[43m,\u001b[49m\u001b[43m \u001b[49m\u001b[43mtgt_pad_mask\u001b[49m\u001b[43m)\u001b[49m\n\u001b[32m     96\u001b[39m loss = criterion(logits.reshape(-\u001b[32m1\u001b[39m, logits.shape[-\u001b[32m1\u001b[39m]), tgt_out.reshape(-\u001b[32m1\u001b[39m))\n\u001b[32m     98\u001b[39m total_loss += loss.item() * (tgt_out != PAD_IDX).sum().item() \u001b[38;5;66;03m# Count non-padded tokens for loss\u001b[39;00m\n",
      "\u001b[36mFile \u001b[39m\u001b[32m/Library/Frameworks/Python.framework/Versions/3.13/lib/python3.13/site-packages/torch/nn/modules/module.py:1773\u001b[39m, in \u001b[36mModule._wrapped_call_impl\u001b[39m\u001b[34m(self, *args, **kwargs)\u001b[39m\n\u001b[32m   1771\u001b[39m     \u001b[38;5;28;01mreturn\u001b[39;00m \u001b[38;5;28mself\u001b[39m._compiled_call_impl(*args, **kwargs)  \u001b[38;5;66;03m# type: ignore[misc]\u001b[39;00m\n\u001b[32m   1772\u001b[39m \u001b[38;5;28;01melse\u001b[39;00m:\n\u001b[32m-> \u001b[39m\u001b[32m1773\u001b[39m     \u001b[38;5;28;01mreturn\u001b[39;00m \u001b[38;5;28;43mself\u001b[39;49m\u001b[43m.\u001b[49m\u001b[43m_call_impl\u001b[49m\u001b[43m(\u001b[49m\u001b[43m*\u001b[49m\u001b[43margs\u001b[49m\u001b[43m,\u001b[49m\u001b[43m \u001b[49m\u001b[43m*\u001b[49m\u001b[43m*\u001b[49m\u001b[43mkwargs\u001b[49m\u001b[43m)\u001b[49m\n",
      "\u001b[36mFile \u001b[39m\u001b[32m/Library/Frameworks/Python.framework/Versions/3.13/lib/python3.13/site-packages/torch/nn/modules/module.py:1784\u001b[39m, in \u001b[36mModule._call_impl\u001b[39m\u001b[34m(self, *args, **kwargs)\u001b[39m\n\u001b[32m   1779\u001b[39m \u001b[38;5;66;03m# If we don't have any hooks, we want to skip the rest of the logic in\u001b[39;00m\n\u001b[32m   1780\u001b[39m \u001b[38;5;66;03m# this function, and just call forward.\u001b[39;00m\n\u001b[32m   1781\u001b[39m \u001b[38;5;28;01mif\u001b[39;00m \u001b[38;5;129;01mnot\u001b[39;00m (\u001b[38;5;28mself\u001b[39m._backward_hooks \u001b[38;5;129;01mor\u001b[39;00m \u001b[38;5;28mself\u001b[39m._backward_pre_hooks \u001b[38;5;129;01mor\u001b[39;00m \u001b[38;5;28mself\u001b[39m._forward_hooks \u001b[38;5;129;01mor\u001b[39;00m \u001b[38;5;28mself\u001b[39m._forward_pre_hooks\n\u001b[32m   1782\u001b[39m         \u001b[38;5;129;01mor\u001b[39;00m _global_backward_pre_hooks \u001b[38;5;129;01mor\u001b[39;00m _global_backward_hooks\n\u001b[32m   1783\u001b[39m         \u001b[38;5;129;01mor\u001b[39;00m _global_forward_hooks \u001b[38;5;129;01mor\u001b[39;00m _global_forward_pre_hooks):\n\u001b[32m-> \u001b[39m\u001b[32m1784\u001b[39m     \u001b[38;5;28;01mreturn\u001b[39;00m \u001b[43mforward_call\u001b[49m\u001b[43m(\u001b[49m\u001b[43m*\u001b[49m\u001b[43margs\u001b[49m\u001b[43m,\u001b[49m\u001b[43m \u001b[49m\u001b[43m*\u001b[49m\u001b[43m*\u001b[49m\u001b[43mkwargs\u001b[49m\u001b[43m)\u001b[49m\n\u001b[32m   1786\u001b[39m result = \u001b[38;5;28;01mNone\u001b[39;00m\n\u001b[32m   1787\u001b[39m called_always_called_hooks = \u001b[38;5;28mset\u001b[39m()\n",
      "\u001b[36mCell\u001b[39m\u001b[36m \u001b[39m\u001b[32mIn[59]\u001b[39m\u001b[32m, line 55\u001b[39m, in \u001b[36mBLTModel.forward\u001b[39m\u001b[34m(self, src_patches_batch, tgt_inp, tgt_pad_mask)\u001b[39m\n\u001b[32m     53\u001b[39m         sample_emb = torch.zeros(\u001b[32m1\u001b[39m, \u001b[38;5;28mself\u001b[39m.d_model, device=device)\n\u001b[32m     54\u001b[39m     \u001b[38;5;28;01melse\u001b[39;00m:\n\u001b[32m---> \u001b[39m\u001b[32m55\u001b[39m         sample_emb = torch.stack([\u001b[38;5;28;43mself\u001b[39;49m\u001b[43m.\u001b[49m\u001b[43mpatch_embedder\u001b[49m\u001b[43m(\u001b[49m\u001b[43mp\u001b[49m\u001b[43m)\u001b[49m \u001b[38;5;28;01mfor\u001b[39;00m p \u001b[38;5;129;01min\u001b[39;00m patch_list])\n\u001b[32m     56\u001b[39m     batch_embeddings.append(sample_emb)\n\u001b[32m     58\u001b[39m src_emb = pad_sequence(batch_embeddings, batch_first=\u001b[38;5;28;01mTrue\u001b[39;00m, padding_value=\u001b[32m0.0\u001b[39m)\n",
      "\u001b[36mFile \u001b[39m\u001b[32m/Library/Frameworks/Python.framework/Versions/3.13/lib/python3.13/site-packages/torch/nn/modules/module.py:1773\u001b[39m, in \u001b[36mModule._wrapped_call_impl\u001b[39m\u001b[34m(self, *args, **kwargs)\u001b[39m\n\u001b[32m   1771\u001b[39m     \u001b[38;5;28;01mreturn\u001b[39;00m \u001b[38;5;28mself\u001b[39m._compiled_call_impl(*args, **kwargs)  \u001b[38;5;66;03m# type: ignore[misc]\u001b[39;00m\n\u001b[32m   1772\u001b[39m \u001b[38;5;28;01melse\u001b[39;00m:\n\u001b[32m-> \u001b[39m\u001b[32m1773\u001b[39m     \u001b[38;5;28;01mreturn\u001b[39;00m \u001b[38;5;28;43mself\u001b[39;49m\u001b[43m.\u001b[49m\u001b[43m_call_impl\u001b[49m\u001b[43m(\u001b[49m\u001b[43m*\u001b[49m\u001b[43margs\u001b[49m\u001b[43m,\u001b[49m\u001b[43m \u001b[49m\u001b[43m*\u001b[49m\u001b[43m*\u001b[49m\u001b[43mkwargs\u001b[49m\u001b[43m)\u001b[49m\n",
      "\u001b[36mFile \u001b[39m\u001b[32m/Library/Frameworks/Python.framework/Versions/3.13/lib/python3.13/site-packages/torch/nn/modules/module.py:1784\u001b[39m, in \u001b[36mModule._call_impl\u001b[39m\u001b[34m(self, *args, **kwargs)\u001b[39m\n\u001b[32m   1779\u001b[39m \u001b[38;5;66;03m# If we don't have any hooks, we want to skip the rest of the logic in\u001b[39;00m\n\u001b[32m   1780\u001b[39m \u001b[38;5;66;03m# this function, and just call forward.\u001b[39;00m\n\u001b[32m   1781\u001b[39m \u001b[38;5;28;01mif\u001b[39;00m \u001b[38;5;129;01mnot\u001b[39;00m (\u001b[38;5;28mself\u001b[39m._backward_hooks \u001b[38;5;129;01mor\u001b[39;00m \u001b[38;5;28mself\u001b[39m._backward_pre_hooks \u001b[38;5;129;01mor\u001b[39;00m \u001b[38;5;28mself\u001b[39m._forward_hooks \u001b[38;5;129;01mor\u001b[39;00m \u001b[38;5;28mself\u001b[39m._forward_pre_hooks\n\u001b[32m   1782\u001b[39m         \u001b[38;5;129;01mor\u001b[39;00m _global_backward_pre_hooks \u001b[38;5;129;01mor\u001b[39;00m _global_backward_hooks\n\u001b[32m   1783\u001b[39m         \u001b[38;5;129;01mor\u001b[39;00m _global_forward_hooks \u001b[38;5;129;01mor\u001b[39;00m _global_forward_pre_hooks):\n\u001b[32m-> \u001b[39m\u001b[32m1784\u001b[39m     \u001b[38;5;28;01mreturn\u001b[39;00m \u001b[43mforward_call\u001b[49m\u001b[43m(\u001b[49m\u001b[43m*\u001b[49m\u001b[43margs\u001b[49m\u001b[43m,\u001b[49m\u001b[43m \u001b[49m\u001b[43m*\u001b[49m\u001b[43m*\u001b[49m\u001b[43mkwargs\u001b[49m\u001b[43m)\u001b[49m\n\u001b[32m   1786\u001b[39m result = \u001b[38;5;28;01mNone\u001b[39;00m\n\u001b[32m   1787\u001b[39m called_always_called_hooks = \u001b[38;5;28mset\u001b[39m()\n",
      "\u001b[36mCell\u001b[39m\u001b[36m \u001b[39m\u001b[32mIn[41]\u001b[39m\u001b[32m, line 30\u001b[39m, in \u001b[36mPatchEmbedder.forward\u001b[39m\u001b[34m(self, patch)\u001b[39m\n\u001b[32m     28\u001b[39m         bucket = hash_ngram(ng, \u001b[38;5;28mself\u001b[39m.num_buckets)\n\u001b[32m     29\u001b[39m         idx = torch.tensor(bucket, dtype=torch.long, device=device)\n\u001b[32m---> \u001b[39m\u001b[32m30\u001b[39m         vectors.append(\u001b[38;5;28;43mself\u001b[39;49m\u001b[43m.\u001b[49m\u001b[43membeddings\u001b[49m\u001b[43m[\u001b[49m\u001b[38;5;28;43mstr\u001b[39;49m\u001b[43m(\u001b[49m\u001b[43mn\u001b[49m\u001b[43m)\u001b[49m\u001b[43m]\u001b[49m\u001b[43m(\u001b[49m\u001b[43midx\u001b[49m\u001b[43m)\u001b[49m)\n\u001b[32m     32\u001b[39m \u001b[38;5;28;01mif\u001b[39;00m \u001b[38;5;28mlen\u001b[39m(vectors) == \u001b[32m0\u001b[39m:\n\u001b[32m     33\u001b[39m     \u001b[38;5;28;01mreturn\u001b[39;00m torch.zeros(\u001b[38;5;28mself\u001b[39m.embed_dim, device=device)\n",
      "\u001b[36mFile \u001b[39m\u001b[32m/Library/Frameworks/Python.framework/Versions/3.13/lib/python3.13/site-packages/torch/nn/modules/module.py:1773\u001b[39m, in \u001b[36mModule._wrapped_call_impl\u001b[39m\u001b[34m(self, *args, **kwargs)\u001b[39m\n\u001b[32m   1771\u001b[39m     \u001b[38;5;28;01mreturn\u001b[39;00m \u001b[38;5;28mself\u001b[39m._compiled_call_impl(*args, **kwargs)  \u001b[38;5;66;03m# type: ignore[misc]\u001b[39;00m\n\u001b[32m   1772\u001b[39m \u001b[38;5;28;01melse\u001b[39;00m:\n\u001b[32m-> \u001b[39m\u001b[32m1773\u001b[39m     \u001b[38;5;28;01mreturn\u001b[39;00m \u001b[38;5;28;43mself\u001b[39;49m\u001b[43m.\u001b[49m\u001b[43m_call_impl\u001b[49m\u001b[43m(\u001b[49m\u001b[43m*\u001b[49m\u001b[43margs\u001b[49m\u001b[43m,\u001b[49m\u001b[43m \u001b[49m\u001b[43m*\u001b[49m\u001b[43m*\u001b[49m\u001b[43mkwargs\u001b[49m\u001b[43m)\u001b[49m\n",
      "\u001b[36mFile \u001b[39m\u001b[32m/Library/Frameworks/Python.framework/Versions/3.13/lib/python3.13/site-packages/torch/nn/modules/module.py:1784\u001b[39m, in \u001b[36mModule._call_impl\u001b[39m\u001b[34m(self, *args, **kwargs)\u001b[39m\n\u001b[32m   1779\u001b[39m \u001b[38;5;66;03m# If we don't have any hooks, we want to skip the rest of the logic in\u001b[39;00m\n\u001b[32m   1780\u001b[39m \u001b[38;5;66;03m# this function, and just call forward.\u001b[39;00m\n\u001b[32m   1781\u001b[39m \u001b[38;5;28;01mif\u001b[39;00m \u001b[38;5;129;01mnot\u001b[39;00m (\u001b[38;5;28mself\u001b[39m._backward_hooks \u001b[38;5;129;01mor\u001b[39;00m \u001b[38;5;28mself\u001b[39m._backward_pre_hooks \u001b[38;5;129;01mor\u001b[39;00m \u001b[38;5;28mself\u001b[39m._forward_hooks \u001b[38;5;129;01mor\u001b[39;00m \u001b[38;5;28mself\u001b[39m._forward_pre_hooks\n\u001b[32m   1782\u001b[39m         \u001b[38;5;129;01mor\u001b[39;00m _global_backward_pre_hooks \u001b[38;5;129;01mor\u001b[39;00m _global_backward_hooks\n\u001b[32m   1783\u001b[39m         \u001b[38;5;129;01mor\u001b[39;00m _global_forward_hooks \u001b[38;5;129;01mor\u001b[39;00m _global_forward_pre_hooks):\n\u001b[32m-> \u001b[39m\u001b[32m1784\u001b[39m     \u001b[38;5;28;01mreturn\u001b[39;00m \u001b[43mforward_call\u001b[49m\u001b[43m(\u001b[49m\u001b[43m*\u001b[49m\u001b[43margs\u001b[49m\u001b[43m,\u001b[49m\u001b[43m \u001b[49m\u001b[43m*\u001b[49m\u001b[43m*\u001b[49m\u001b[43mkwargs\u001b[49m\u001b[43m)\u001b[49m\n\u001b[32m   1786\u001b[39m result = \u001b[38;5;28;01mNone\u001b[39;00m\n\u001b[32m   1787\u001b[39m called_always_called_hooks = \u001b[38;5;28mset\u001b[39m()\n",
      "\u001b[36mFile \u001b[39m\u001b[32m/Library/Frameworks/Python.framework/Versions/3.13/lib/python3.13/site-packages/torch/nn/modules/sparse.py:192\u001b[39m, in \u001b[36mEmbedding.forward\u001b[39m\u001b[34m(self, input)\u001b[39m\n\u001b[32m    191\u001b[39m \u001b[38;5;28;01mdef\u001b[39;00m\u001b[38;5;250m \u001b[39m\u001b[34mforward\u001b[39m(\u001b[38;5;28mself\u001b[39m, \u001b[38;5;28minput\u001b[39m: Tensor) -> Tensor:\n\u001b[32m--> \u001b[39m\u001b[32m192\u001b[39m     \u001b[38;5;28;01mreturn\u001b[39;00m \u001b[43mF\u001b[49m\u001b[43m.\u001b[49m\u001b[43membedding\u001b[49m\u001b[43m(\u001b[49m\n\u001b[32m    193\u001b[39m \u001b[43m        \u001b[49m\u001b[38;5;28;43minput\u001b[39;49m\u001b[43m,\u001b[49m\n\u001b[32m    194\u001b[39m \u001b[43m        \u001b[49m\u001b[38;5;28;43mself\u001b[39;49m\u001b[43m.\u001b[49m\u001b[43mweight\u001b[49m\u001b[43m,\u001b[49m\n\u001b[32m    195\u001b[39m \u001b[43m        \u001b[49m\u001b[38;5;28;43mself\u001b[39;49m\u001b[43m.\u001b[49m\u001b[43mpadding_idx\u001b[49m\u001b[43m,\u001b[49m\n\u001b[32m    196\u001b[39m \u001b[43m        \u001b[49m\u001b[38;5;28;43mself\u001b[39;49m\u001b[43m.\u001b[49m\u001b[43mmax_norm\u001b[49m\u001b[43m,\u001b[49m\n\u001b[32m    197\u001b[39m \u001b[43m        \u001b[49m\u001b[38;5;28;43mself\u001b[39;49m\u001b[43m.\u001b[49m\u001b[43mnorm_type\u001b[49m\u001b[43m,\u001b[49m\n\u001b[32m    198\u001b[39m \u001b[43m        \u001b[49m\u001b[38;5;28;43mself\u001b[39;49m\u001b[43m.\u001b[49m\u001b[43mscale_grad_by_freq\u001b[49m\u001b[43m,\u001b[49m\n\u001b[32m    199\u001b[39m \u001b[43m        \u001b[49m\u001b[38;5;28;43mself\u001b[39;49m\u001b[43m.\u001b[49m\u001b[43msparse\u001b[49m\u001b[43m,\u001b[49m\n\u001b[32m    200\u001b[39m \u001b[43m    \u001b[49m\u001b[43m)\u001b[49m\n",
      "\u001b[36mFile \u001b[39m\u001b[32m/Library/Frameworks/Python.framework/Versions/3.13/lib/python3.13/site-packages/torch/nn/functional.py:2546\u001b[39m, in \u001b[36membedding\u001b[39m\u001b[34m(input, weight, padding_idx, max_norm, norm_type, scale_grad_by_freq, sparse)\u001b[39m\n\u001b[32m   2540\u001b[39m     \u001b[38;5;66;03m# Note [embedding_renorm set_grad_enabled]\u001b[39;00m\n\u001b[32m   2541\u001b[39m     \u001b[38;5;66;03m# XXX: equivalent to\u001b[39;00m\n\u001b[32m   2542\u001b[39m     \u001b[38;5;66;03m# with torch.no_grad():\u001b[39;00m\n\u001b[32m   2543\u001b[39m     \u001b[38;5;66;03m#   torch.embedding_renorm_\u001b[39;00m\n\u001b[32m   2544\u001b[39m     \u001b[38;5;66;03m# remove once script supports set_grad_enabled\u001b[39;00m\n\u001b[32m   2545\u001b[39m     _no_grad_embedding_renorm_(weight, \u001b[38;5;28minput\u001b[39m, max_norm, norm_type)\n\u001b[32m-> \u001b[39m\u001b[32m2546\u001b[39m \u001b[38;5;28;01mreturn\u001b[39;00m \u001b[43mtorch\u001b[49m\u001b[43m.\u001b[49m\u001b[43membedding\u001b[49m\u001b[43m(\u001b[49m\u001b[43mweight\u001b[49m\u001b[43m,\u001b[49m\u001b[43m \u001b[49m\u001b[38;5;28;43minput\u001b[39;49m\u001b[43m,\u001b[49m\u001b[43m \u001b[49m\u001b[43mpadding_idx\u001b[49m\u001b[43m,\u001b[49m\u001b[43m \u001b[49m\u001b[43mscale_grad_by_freq\u001b[49m\u001b[43m,\u001b[49m\u001b[43m \u001b[49m\u001b[43msparse\u001b[49m\u001b[43m)\u001b[49m\n",
      "\u001b[31mKeyboardInterrupt\u001b[39m: "
     ]
    }
   ],
   "source": [
    "if __name__ == '__main__':\n",
    "    LEARNING_RATE = 1e-4\n",
    "    BATCH_SIZE = 8\n",
    "    NUM_EPOCHS = 300 \n",
    "    SAVE_EVERY = 2\n",
    "\n",
    "    device = torch.device(\"mps\" if torch.backends.mps.is_available() else \"cpu\")\n",
    "    if device.type == \"mps\":\n",
    "        torch.set_float32_matmul_precision(\"high\")\n",
    "\n",
    "    model = BLTModel(\n",
    "        vocab_size=len(VOCAB), \n",
    "        d_model=64, \n",
    "        nhead=4, \n",
    "        dropout=0.1\n",
    "    )\n",
    "\n",
    "    train_blt(\n",
    "        model=model,\n",
    "        train_loader=train_loader,\n",
    "        val_loader=val_loader,\n",
    "        num_epochs=NUM_EPOCHS,\n",
    "        lr=LEARNING_RATE,\n",
    "        device=device,\n",
    "        save_every=SAVE_EVERY,\n",
    "        resume_path=None\n",
    "        # resume_path=\"checkpoints/blt_epoch.pt\"\n",
    "    )"
   ]
  },
  {
   "cell_type": "markdown",
   "id": "9b3cfa26",
   "metadata": {},
   "source": [
    "## Testing and Validating BLT"
   ]
  },
  {
   "cell_type": "code",
   "execution_count": 71,
   "id": "306f8464",
   "metadata": {},
   "outputs": [
    {
     "name": "stdout",
     "output_type": "stream",
     "text": [
      "✅ Loaded checkpoint from epoch 168\n"
     ]
    },
    {
     "data": {
      "application/vnd.jupyter.widget-view+json": {
       "model_id": "f146939dec504f67b8fe458440cc855e",
       "version_major": 2,
       "version_minor": 0
      },
      "text/plain": [
       "🧪 Evaluating Test Set:   0%|          | 0/250 [00:00<?, ?it/s]"
      ]
     },
     "metadata": {},
     "output_type": "display_data"
    },
    {
     "name": "stderr",
     "output_type": "stream",
     "text": [
      "/Library/Frameworks/Python.framework/Versions/3.13/lib/python3.13/site-packages/torch/nn/functional.py:6041: UserWarning: Support for mismatched key_padding_mask and attn_mask is deprecated. Use same type for both instead.\n",
      "  warnings.warn(\n"
     ]
    },
    {
     "name": "stdout",
     "output_type": "stream",
     "text": [
      "\n",
      "--- 📊 Final BLT Model Evaluation ---\n",
      "  - Final Train Loss:    2.1115 (from checkpoint)\n",
      "--------------------------------------\n",
      "  - Test Loss:           1.9690\n",
      "  - Test Token Accuracy: 39.03%\n",
      "  - Test Perplexity:     7.16\n",
      "--------------------------------------\n"
     ]
    }
   ],
   "source": [
    "import torch\n",
    "import torch.nn as nn\n",
    "import pandas as pd\n",
    "import os\n",
    "import math\n",
    "from torch.utils.data import DataLoader\n",
    "from tqdm.auto import tqdm\n",
    "\n",
    "# --- Step 1: Define ALL necessary components from your training script ---\n",
    "# This makes the script runnable on its own.\n",
    "\n",
    "# Assume your core helper functions are defined here:\n",
    "# patchify, hash_ngram, extract_ngrams\n",
    "\n",
    "# Assume your model classes are defined here:\n",
    "# PatchEmbedder, PositionalEncoding, BLTModel\n",
    "\n",
    "# --- Step 2: The Simplified Evaluation Function ---\n",
    "\n",
    "@torch.no_grad()\n",
    "def evaluate_final_model(model_class, vocab_size, ckpt_path, test_loader, device):\n",
    "    \"\"\"\n",
    "    Loads a model from a checkpoint and evaluates it on the test set.\n",
    "    \"\"\"\n",
    "    if not os.path.exists(ckpt_path):\n",
    "        raise FileNotFoundError(f\"Checkpoint not found at: {ckpt_path}\")\n",
    "\n",
    "    # --- Load Checkpoint and Model ---\n",
    "    checkpoint = torch.load(ckpt_path, map_location=device)\n",
    "    \n",
    "    # Instantiate the model with the correct architecture\n",
    "    model = model_class(\n",
    "        vocab_size=vocab_size, \n",
    "        d_model=64, \n",
    "        nhead=4, \n",
    "        dropout=0.1\n",
    "    ).to(device)\n",
    "    \n",
    "    model.load_state_dict(checkpoint[\"model_state\"])\n",
    "    model.eval()\n",
    "    \n",
    "    print(f\"✅ Loaded checkpoint from epoch {checkpoint['epoch']}\")\n",
    "\n",
    "    # --- Extract Metrics from Checkpoint ---\n",
    "    train_loss = checkpoint.get('loss', 'N/A') # .get is safer\n",
    "    \n",
    "    # --- Evaluation Loop ---\n",
    "    criterion = nn.CrossEntropyLoss(ignore_index=PAD_IDX)\n",
    "    total_loss = 0.0\n",
    "    correct_tokens = 0\n",
    "    total_tokens = 0\n",
    "\n",
    "    progress_bar = tqdm(test_loader, desc=\"🧪 Evaluating Test Set\")\n",
    "    for src_patches, tgt_padded in progress_bar:\n",
    "        # Correctly handle the new data format\n",
    "        tgt_padded = tgt_padded.to(device)\n",
    "        tgt_inp = tgt_padded[:, :-1]\n",
    "        tgt_out = tgt_padded[:, 1:]\n",
    "        tgt_pad_mask = (tgt_inp == PAD_IDX)\n",
    "        \n",
    "        # Correctly call the model\n",
    "        logits = model(src_patches, tgt_inp, tgt_pad_mask)\n",
    "\n",
    "        # Calculate Loss\n",
    "        loss = criterion(logits.reshape(-1, logits.shape[-1]), tgt_out.reshape(-1))\n",
    "        total_loss += loss.item()\n",
    "\n",
    "        # Calculate Accuracy\n",
    "        preds = logits.argmax(dim=-1)\n",
    "        mask = (tgt_out != PAD_IDX)\n",
    "        correct_tokens += ((preds == tgt_out) & mask).sum().item()\n",
    "        total_tokens += mask.sum().item()\n",
    "\n",
    "    # --- Calculate Final Metrics ---\n",
    "    avg_test_loss = total_loss / len(test_loader)\n",
    "    accuracy = 100.0 * correct_tokens / total_tokens if total_tokens > 0 else 0\n",
    "    perplexity = math.exp(avg_test_loss) if avg_test_loss < 100 else float('inf')\n",
    "    \n",
    "    return {\n",
    "        \"train_loss\": train_loss,\n",
    "        \"test_loss\": avg_test_loss,\n",
    "        \"accuracy\": accuracy,\n",
    "        \"perplexity\": perplexity\n",
    "    }\n",
    "\n",
    "# --- Step 3: Main Execution Block ---\n",
    "\n",
    "if __name__ == '__main__':\n",
    "    # --- Configuration ---\n",
    "    CHECKPOINT_PATH = \"checkpoints/blt_epoch168.pt\" # The final model to test\n",
    "    BATCH_SIZE = 8\n",
    "    \n",
    "    # Setup device\n",
    "    device = torch.device(\"mps\" if torch.backends.mps.is_available() else \"cpu\")\n",
    "\n",
    "    # --- Load Data ---\n",
    "    # You must have the test.csv file available\n",
    "    test_ds = BLTDataset(csv_path=\"./../data/test.csv\")\n",
    "    test_loader = DataLoader(\n",
    "        test_ds,\n",
    "        batch_size=BATCH_SIZE,\n",
    "        shuffle=False,\n",
    "        collate_fn=blt_collate_fn\n",
    "    )\n",
    "\n",
    "    # --- Run Evaluation ---\n",
    "    results = evaluate_final_model(\n",
    "        model_class=BLTModel,\n",
    "        vocab_size=len(VOCAB),\n",
    "        ckpt_path=CHECKPOINT_PATH,\n",
    "        test_loader=test_loader,\n",
    "        device=device\n",
    "    )\n",
    "\n",
    "    # --- Print a Clean Report ---\n",
    "    print(\"\\n--- 📊 Final BLT Model Evaluation ---\")\n",
    "    print(f\"  - Final Train Loss:    {results['train_loss']:.4f} (from checkpoint)\")\n",
    "    print(\"--------------------------------------\")\n",
    "    print(f\"  - Test Loss:           {results['test_loss']:.4f}\")\n",
    "    print(f\"  - Test Token Accuracy: {results['accuracy']:.2f}%\")\n",
    "    print(f\"  - Test Perplexity:     {results['perplexity']:.2f}\")\n",
    "    print(\"--------------------------------------\")"
   ]
  },
  {
   "cell_type": "markdown",
   "id": "ed7fda4e",
   "metadata": {},
   "source": [
    "## Graphs and all"
   ]
  },
  {
   "cell_type": "code",
   "execution_count": 72,
   "id": "5a0275dd",
   "metadata": {},
   "outputs": [
    {
     "name": "stdout",
     "output_type": "stream",
     "text": [
      "--- Successfully Parsed Metrics ---\n",
      "   epoch  train_loss  val_loss  val_perplexity  val_accuracy\n",
      "0      1      2.9616    2.6513           14.17         21.77\n",
      "1      2      2.6379    2.5659           13.01         23.33\n",
      "2      3      2.5791    2.5193           12.42         24.34\n",
      "3      4      2.5480    2.4904           12.07         25.07\n",
      "4      5      2.5237    2.4670           11.79         25.63\n",
      "\n",
      "✅ Graphs saved to 'training_metrics_plot.png'\n"
     ]
    },
    {
     "data": {
      "image/png": "[encoded data removed]",
      "text/plain": [
       "<Figure size 1000x1500 with 3 Axes>"
      ]
     },
     "metadata": {},
     "output_type": "display_data"
    }
   ],
   "source": [
    "import pandas as pd\n",
    "import re\n",
    "import matplotlib.pyplot as plt\n",
    "import seaborn as sns\n",
    "\n",
    "# --- User Configuration ---\n",
    "# Just change this to the name of your saved log file.\n",
    "LOG_FILE_PATH = \"training_log.txt\"\n",
    "\n",
    "def parse_log_file(file_path):\n",
    "    \"\"\"\n",
    "    Reads the training log file and extracts metrics using regular expressions.\n",
    "    This is extremely fast as it does not load any models.\n",
    "    \"\"\"\n",
    "    metrics = []\n",
    "    \n",
    "    # Regex to find the lines with our metrics\n",
    "    train_loss_regex = re.compile(r\"Epoch (\\d+)/\\d+ - Train Loss: ([\\d.]+)\")\n",
    "    val_metrics_regex = re.compile(r\"Validation - Loss: ([\\d.]+), Perplexity: ([\\d.]+), Token Acc: ([\\d.]+)%\")\n",
    "\n",
    "    try:\n",
    "        with open(file_path, 'r') as f:\n",
    "            lines = f.readlines()\n",
    "    except FileNotFoundError:\n",
    "        print(f\"ERROR: The log file was not found at '{file_path}'\")\n",
    "        print(\"Please save your training output to this file and try again.\")\n",
    "        return pd.DataFrame()\n",
    "\n",
    "    epoch_data = {}\n",
    "    for line in lines:\n",
    "        train_match = train_loss_regex.search(line)\n",
    "        val_match = val_metrics_regex.search(line)\n",
    "\n",
    "        if train_match:\n",
    "            # When we find a new training loss, we start a new record\n",
    "            if epoch_data: # Save the previous epoch's complete data\n",
    "                metrics.append(epoch_data)\n",
    "            epoch_data = {\n",
    "                \"epoch\": int(train_match.group(1)),\n",
    "                \"train_loss\": float(train_match.group(2))\n",
    "            }\n",
    "        \n",
    "        if val_match and epoch_data:\n",
    "            # Add validation metrics to the current epoch's record\n",
    "            epoch_data[\"val_loss\"] = float(val_match.group(1))\n",
    "            epoch_data[\"val_perplexity\"] = float(val_match.group(2))\n",
    "            epoch_data[\"val_accuracy\"] = float(val_match.group(3))\n",
    "\n",
    "    if epoch_data: # Append the last record\n",
    "        metrics.append(epoch_data)\n",
    "        \n",
    "    return pd.DataFrame(metrics)\n",
    "\n",
    "# --- Main Execution ---\n",
    "if __name__ == '__main__':\n",
    "    # 1. Parse the log file to get the metrics DataFrame\n",
    "    metrics_df = parse_log_file(LOG_FILE_PATH)\n",
    "\n",
    "    if metrics_df.empty:\n",
    "        print(\"Could not extract any data. Please check the log file content and path.\")\n",
    "    else:\n",
    "        print(\"--- Successfully Parsed Metrics ---\")\n",
    "        print(metrics_df.head())\n",
    "\n",
    "        # 2. Plotting the results\n",
    "        sns.set_theme(style=\"whitegrid\")\n",
    "        fig, axes = plt.subplots(3, 1, figsize=(10, 15), sharex=True)\n",
    "        fig.suptitle('BLT Model Training Metrics', fontsize=16)\n",
    "\n",
    "        # Plot 1: Training vs. Validation Loss\n",
    "        sns.lineplot(data=metrics_df, x='epoch', y='train_loss', ax=axes[0], label='Training Loss', color='b', marker='o')\n",
    "        sns.lineplot(data=metrics_df, x='epoch', y='val_loss', ax=axes[0], label='Validation Loss', color='r', marker='o')\n",
    "        axes[0].set_title('Training vs. Validation Loss')\n",
    "        axes[0].set_ylabel('Loss')\n",
    "        axes[0].legend()\n",
    "\n",
    "        # Plot 2: Validation Token Accuracy\n",
    "        sns.lineplot(data=metrics_df, x='epoch', y='val_accuracy', ax=axes[1], color='g', marker='o')\n",
    "        axes[1].set_title('Validation Token Accuracy')\n",
    "        axes[1].set_ylabel('Accuracy (%)')\n",
    "\n",
    "        # Plot 3: Validation Perplexity\n",
    "        sns.lineplot(data=metrics_df, x='epoch', y='val_perplexity', ax=axes[2], color='purple', marker='o')\n",
    "        axes[2].set_title('Validation Perplexity')\n",
    "        axes[2].set_ylabel('Perplexity')\n",
    "        axes[2].set_xlabel('Epoch')\n",
    "        axes[2].set_ylim(bottom=1) # Perplexity is meaningless below 1\n",
    "\n",
    "        plt.tight_layout(rect=[0, 0, 1, 0.97])\n",
    "        # Save the figure to a file\n",
    "        plt.savefig(\"training_metrics_plot.png\")\n",
    "        print(\"\\n✅ Graphs saved to 'training_metrics_plot.png'\")\n",
    "        plt.show()"
   ]
  },
  {
   "cell_type": "markdown",
   "id": "82fb7ca9",
   "metadata": {},
   "source": [
    "## Inference Function (Text-to-Text Generation)"
   ]
  },
  {
   "cell_type": "code",
   "execution_count": 70,
   "id": "7d22d8db",
   "metadata": {},
   "outputs": [
    {
     "name": "stdout",
     "output_type": "stream",
     "text": [
      "✅ Loaded checkpoint from epoch 168\n"
     ]
    },
    {
     "name": "stderr",
     "output_type": "stream",
     "text": [
      "/Library/Frameworks/Python.framework/Versions/3.13/lib/python3.13/site-packages/torch/nn/functional.py:6041: UserWarning: Support for mismatched key_padding_mask and attn_mask is deprecated. Use same type for both instead.\n",
      "  warnings.warn(\n"
     ]
    },
    {
     "name": "stdout",
     "output_type": "stream",
     "text": [
      "\n",
      "--- Inference Result ---\n",
      "Input:  'reconciliation trolls realized scene'\n",
      "Output: 'sellicid seiretnoc seiral noitarep sellic seirac'\n",
      "Expected: 'enecs dezilaer sllort noitailicnocer'\n"
     ]
    }
   ],
   "source": [
    "import torch\n",
    "import torch.nn as nn\n",
    "\n",
    "# --- Step 1: Define necessary components and vocabulary ---\n",
    "# This should be consistent with your training script.\n",
    "\n",
    "# Assume your helper functions (patchify) and model classes (BLTModel) are defined or imported.\n",
    "# Assume your vocabulary constants are also defined. For clarity, here they are again:\n",
    "PRINTABLE_ASCII = [chr(i) for i in range(32, 127)]\n",
    "VOCAB = ['<PAD>', '<SOS>', '<EOS>'] + PRINTABLE_ASCII\n",
    "CHAR_TO_IDX = {ch: i for i, ch in enumerate(VOCAB)}\n",
    "IDX_TO_CHAR = {i: ch for i, ch in enumerate(VOCAB)}\n",
    "PAD_IDX = CHAR_TO_IDX['<PAD>']\n",
    "SOS_IDX = CHAR_TO_IDX['<SOS>']\n",
    "EOS_IDX = CHAR_TO_IDX['<EOS>']\n",
    "\n",
    "\n",
    "# --- Step 2: The Corrected Generation Function ---\n",
    "\n",
    "@torch.no_grad()\n",
    "def generate_prediction(model, input_text, max_len=100, device=None):\n",
    "    \"\"\"\n",
    "    Generates a text-to-text prediction using the complete BLTModel.\n",
    "    \"\"\"\n",
    "    if device is None:\n",
    "        device = torch.device(\"mps\" if torch.backends.mps.is_available() else \"cpu\")\n",
    "\n",
    "    model.eval()\n",
    "    model.to(device)\n",
    "\n",
    "    # 1. Prepare the input: The model expects a BATCH of patch lists.\n",
    "    #    For a single prediction, we create a batch of size 1.\n",
    "    patches = patchify(input_text)\n",
    "    src_patches_batch = [patches] # e.g., [['patch1', 'patch2']]\n",
    "\n",
    "    # 2. Start the decoding process with the Start-Of-Sequence token.\n",
    "    output_ids = [SOS_IDX]\n",
    "\n",
    "    # 3. Autoregressively generate the output sequence one token at a time.\n",
    "    for _ in range(max_len):\n",
    "        # Prepare the current sequence as the decoder's input\n",
    "        tgt_inp = torch.tensor([output_ids], dtype=torch.long, device=device)\n",
    "        tgt_pad_mask = (tgt_inp == PAD_IDX)\n",
    "\n",
    "        # >>> THE CRITICAL STEP <<<\n",
    "        # Call the full model. It will handle the patch embedding, encoder,\n",
    "        # global transformer, and decoder internally.\n",
    "        logits = model(src_patches_batch, tgt_inp, tgt_pad_mask)\n",
    "        \n",
    "        # 4. Get the next token using greedy decoding (picking the most likely one).\n",
    "        next_id = logits[:, -1, :].argmax().item()\n",
    "        \n",
    "        # 5. Append the new token and check if we should stop.\n",
    "        output_ids.append(next_id)\n",
    "        if next_id == EOS_IDX:\n",
    "            break\n",
    "            \n",
    "    # 6. Convert the final list of token IDs back to a string.\n",
    "    #    We skip the first token, which is the <SOS> token.\n",
    "    output_text = \"\".join([IDX_TO_CHAR.get(i, \"\") for i in output_ids[1:] if i != EOS_IDX])\n",
    "    \n",
    "    return output_text\n",
    "\n",
    "\n",
    "# --- Step 3: Example Usage ---\n",
    "\n",
    "if __name__ == '__main__':\n",
    "    # --- Load your final, trained model ---\n",
    "    device = torch.device(\"mps\" if torch.backends.mps.is_available() else \"cpu\")\n",
    "    \n",
    "    # Instantiate the model with the correct vocab size\n",
    "    model = BLTModel(vocab_size=len(VOCAB), d_model=64, nhead=4)\n",
    "    \n",
    "    # Load the checkpoint\n",
    "    ckpt_path = \"checkpoints/blt_epoch168.pt\" # IMPORTANT: Use your final checkpoint\n",
    "    checkpoint = torch.load(ckpt_path, map_location=device)\n",
    "    model.load_state_dict(checkpoint[\"model_state\"])\n",
    "    print(f\"✅ Loaded checkpoint from epoch {checkpoint['epoch']}\")\n",
    "\n",
    "    # --- Run Prediction ---\n",
    "    input_text = \"reconciliation trolls realized scene\"\n",
    "    output_text = generate_prediction(model, input_text, max_len=100, device=device)\n",
    "    \n",
    "    print(\"\\n--- Inference Result ---\")\n",
    "    print(f\"Input:  '{input_text}'\")\n",
    "    print(f\"Output: '{output_text}'\")\n",
    "    print(f\"Expected: '{input_text[::-1]}'\")"
   ]
  },
  {
   "cell_type": "markdown",
   "id": "b8ebaf1f",
   "metadata": {},
   "source": [
    "## Prediction on test data and saving CSV"
   ]
  },
  {
   "cell_type": "code",
   "execution_count": null,
   "id": "eddc3475",
   "metadata": {},
   "outputs": [],
   "source": [
    "import torch\n",
    "import torch.nn as nn\n",
    "import pandas as pd\n",
    "import os\n",
    "from torch.utils.data import Dataset, DataLoader\n",
    "from tqdm.auto import tqdm\n",
    "\n",
    "# --- Step 1: Define ALL necessary components from your training script ---\n",
    "# This makes the script runnable on its own.\n",
    "# You MUST paste your final, corrected versions of the following:\n",
    "#\n",
    "# 1. All helper functions (patchify, etc.)\n",
    "# 2. All vocabulary constants (VOCAB, CHAR_TO_IDX, IDX_TO_CHAR, PAD_IDX, SOS_IDX, EOS_IDX)\n",
    "# 3. The BLTDataset class\n",
    "# 4. The blt_collate_fn function\n",
    "# 5. The PatchEmbedder, PositionalEncoding, and BLTModel classes\n",
    "\n",
    "# --- Step 2: A Batch-Oriented Generation Function (Much Faster) ---\n",
    "\n",
    "@torch.no_grad()\n",
    "def generate_batch_predictions(model, data_loader, max_len=100, device=None):\n",
    "    \"\"\"\n",
    "    Generates predictions for an entire DataLoader in batches for efficiency.\n",
    "    \"\"\"\n",
    "    if device is None:\n",
    "        device = torch.device(\"mps\" if torch.backends.mps.is_available() else \"cpu\")\n",
    "    \n",
    "    model.eval()\n",
    "    model.to(device)\n",
    "    \n",
    "    all_predictions = []\n",
    "    progress_bar = tqdm(data_loader, desc=\"🚀 Generating Predictions\")\n",
    "\n",
    "    for src_patches_batch, _ in progress_bar:\n",
    "        batch_size = len(src_patches_batch)\n",
    "        \n",
    "        # Start the decoding process for the whole batch with the SOS token\n",
    "        output_ids = torch.full((batch_size, 1), SOS_IDX, dtype=torch.long, device=device)\n",
    "\n",
    "        # A flag to track which sequences in the batch are finished\n",
    "        finished = torch.zeros(batch_size, dtype=torch.bool, device=device)\n",
    "\n",
    "        for _ in range(max_len):\n",
    "            tgt_pad_mask = (output_ids == PAD_IDX)\n",
    "            \n",
    "            # Call the model once for the entire batch\n",
    "            logits = model(src_patches_batch, output_ids, tgt_pad_mask)\n",
    "            \n",
    "            # Get the next token for every sequence in the batch\n",
    "            next_ids = logits[:, -1, :].argmax(dim=-1).unsqueeze(1)\n",
    "            \n",
    "            # Append the new tokens to the sequences\n",
    "            output_ids = torch.cat([output_ids, next_ids], dim=1)\n",
    "            \n",
    "            # Update the 'finished' status for any sequence that just generated an EOS token\n",
    "            finished = finished | (next_ids.squeeze() == EOS_IDX)\n",
    "            \n",
    "            # If all sequences in the batch are finished, we can stop early\n",
    "            if finished.all():\n",
    "                break\n",
    "        \n",
    "        # Decode the generated ID sequences into text\n",
    "        for i in range(batch_size):\n",
    "            # Filter out special tokens\n",
    "            filtered_ids = [idx for idx in output_ids[i].tolist() if idx not in {SOS_IDX, EOS_IDX, PAD_IDX}]\n",
    "            pred_text = \"\".join([IDX_TO_CHAR.get(idx, \"\") for idx in filtered_ids])\n",
    "            all_predictions.append(pred_text)\n",
    "            \n",
    "    return all_predictions\n",
    "\n",
    "# --- Step 3: Main Execution Block ---\n",
    "\n",
    "if __name__ == '__main__':\n",
    "    # --- Configuration ---\n",
    "    CHECKPOINT_PATH = \"checkpoints/blt_epoch300.pt\" # The final model to use\n",
    "    BATCH_SIZE = 16 # Much faster than batch_size=1\n",
    "    \n",
    "    # Setup device\n",
    "    device = torch.device(\"mps\" if torch.backends.mps.is_available() else \"cpu\")\n",
    "    if device.type == \"mps\":\n",
    "        torch.set_float32_matmul_precision(\"high\")\n",
    "\n",
    "    # --- Load Model ---\n",
    "    model = BLTModel(vocab_size=len(VOCAB), d_model=64, nhead=4)\n",
    "    checkpoint = torch.load(CHECKPOINT_PATH, map_location=device)\n",
    "    model.load_state_dict(checkpoint[\"model_state\"])\n",
    "    print(f\"✅ Loaded checkpoint from epoch {checkpoint['epoch']}\")\n",
    "\n",
    "    # --- Load Test Data ---\n",
    "    test_df = pd.read_csv(\"./../data/test.csv\")\n",
    "    test_ds = BLTDataset(csv_path=\"./../data/test.csv\")\n",
    "    test_loader = DataLoader(\n",
    "        test_ds,\n",
    "        batch_size=BATCH_SIZE,\n",
    "        shuffle=False,\n",
    "        collate_fn=blt_collate_fn\n",
    "    )\n",
    "\n",
    "    # --- Generate All Predictions ---\n",
    "    predictions = generate_batch_predictions(model, test_loader, max_len=150, device=device)\n",
    "\n",
    "    # --- Save Predictions in the Correct Format ---\n",
    "    # As per the assignment, the output file should have 'input' and 'output' columns.\n",
    "    output_df = pd.DataFrame({\n",
    "        'input': test_df['input'],\n",
    "        'output': predictions\n",
    "    })\n",
    "    \n",
    "    os.makedirs(\"predictions\", exist_ok=True)\n",
    "    output_path = \"predictions/predictions_BLT.csv\"\n",
    "    output_df.to_csv(output_path, index=False)\n",
    "    \n",
    "    print(f\"\\n✅ Predictions saved to {output_path}\")\n",
    "    print(\"\\n--- Prediction Preview ---\")\n",
    "    print(output_df.head().to_string())"
   ]
  },
  {
   "cell_type": "markdown",
   "id": "53e59d25",
   "metadata": {},
   "source": [
    "# Character level Model & Training"
   ]
  },
  {
   "cell_type": "code",
   "execution_count": null,
   "id": "4beebbca",
   "metadata": {},
   "outputs": [
    {
     "name": "stdout",
     "output_type": "stream",
     "text": [
      "✅ Using MPS (Apple Silicon GPU)\n"
     ]
    }
   ],
   "source": [
    "import torch\n",
    "\n",
    "if torch.backends.mps.is_available():\n",
    "    device = torch.device(\"mps\")\n",
    "    print(\"✅ Using MPS (Apple Silicon GPU)\")\n",
    "else:\n",
    "    device = torch.device(\"cpu\")\n",
    "    print(\"⚠️ MPS not available, falling back to CPU\")"
   ]
  },
  {
   "cell_type": "markdown",
   "id": "3d808956",
   "metadata": {},
   "source": [
    "## Data & Tokenizer\n",
    "\n",
    "1. Loads your train.csv and test.csv.\n",
    "2. Creates a character vocabulary:\n",
    "    - [PAD], [SOS], [EOS] + printable ASCII chars.\n",
    "    - Maps chars ↔ IDs (stoi, itos).\n",
    "3. Provides encode/decode functions.\n",
    "4. Tests it on a sample string."
   ]
  },
  {
   "cell_type": "code",
   "execution_count": null,
   "id": "cbffc4ab",
   "metadata": {},
   "outputs": [
    {
     "name": "stdout",
     "output_type": "stream",
     "text": [
      "Train shape: (10000, 2)\n",
      "Test shape: (2000, 2)\n",
      "                                               input  \\\n",
      "0               reconciliation trolls realized scene   \n",
      "1                        scratched kemp blah devices   \n",
      "2  delusional engineered perfect prey englishman ...   \n",
      "3  boomers nfl reacts parallels everything 6 redu...   \n",
      "4  patience put christmas superhero luc rake fulf...   \n",
      "\n",
      "                                              target  \n",
      "0               enecs dezilaer sllort noitailicnocer  \n",
      "1                        secived halb pmek dehctarcs  \n",
      "2  hctarcs detsub namhsilgne yerp tcefrep dereeni...  \n",
      "3  stcudnoc ysereh redlof secuder 6 gnihtyreve sl...  \n",
      "4  ylesned ylno elbats latnenitnoc dellifluf ekar...  \n",
      "\n",
      "Vocab size: 98\n",
      "PAD idx: 0 SOS idx: 1 EOS idx: 2\n",
      "Sample: LMA is fun!\n",
      "Encoded: [1, 47, 48, 36, 3, 76, 86, 3, 73, 88, 81, 4, 2]\n",
      "Decoded: LMA is fun!\n"
     ]
    }
   ],
   "source": [
    "import pandas as pd\n",
    "import torch\n",
    "from torch.utils.data import Dataset\n",
    "import string\n",
    "\n",
    "# --- Step 1: Load Data ---\n",
    "train_df = pd.read_csv(\"./../data/train.csv\")\n",
    "test_df  = pd.read_csv(\"./../data/test.csv\")\n",
    "\n",
    "print(\"Train shape:\", train_df.shape)\n",
    "print(\"Test shape:\", test_df.shape)\n",
    "print(train_df.head())\n",
    "\n",
    "# --- Step 2: Character Tokenizer ---\n",
    "# Printable ASCII characters 32–126\n",
    "ascii_chars = [chr(i) for i in range(32, 127)]\n",
    "special_tokens = [\"[PAD]\", \"[SOS]\", \"[EOS]\"]\n",
    "\n",
    "itos = special_tokens + ascii_chars   # id → char\n",
    "stoi = {ch: i for i, ch in enumerate(itos)}  # char → id\n",
    "\n",
    "PAD_IDX = stoi[\"[PAD]\"]\n",
    "SOS_IDX = stoi[\"[SOS]\"]\n",
    "EOS_IDX = stoi[\"[EOS]\"]\n",
    "\n",
    "vocab_size = len(itos)\n",
    "\n",
    "print(\"\\nVocab size:\", vocab_size)\n",
    "print(\"PAD idx:\", PAD_IDX, \"SOS idx:\", SOS_IDX, \"EOS idx:\", EOS_IDX)\n",
    "\n",
    "# --- Encode / Decode functions ---\n",
    "def encode_text(text, add_special=True):\n",
    "    ids = [stoi[ch] for ch in text if ch in stoi]\n",
    "    if add_special:\n",
    "        ids = [SOS_IDX] + ids + [EOS_IDX]\n",
    "    return torch.tensor(ids, dtype=torch.long)\n",
    "\n",
    "def decode_ids(ids):\n",
    "    chars = []\n",
    "    for i in ids:\n",
    "        if i == PAD_IDX or i == SOS_IDX or i == EOS_IDX:\n",
    "            continue\n",
    "        chars.append(itos[i])\n",
    "    return \"\".join(chars)\n",
    "\n",
    "# --- Quick test ---\n",
    "sample = \"LMA is fun!\"\n",
    "encoded = encode_text(sample)\n",
    "decoded = decode_ids(encoded.tolist())\n",
    "\n",
    "print(\"Sample:\", sample)\n",
    "print(\"Encoded:\", encoded.tolist())\n",
    "print(\"Decoded:\", decoded)"
   ]
  },
  {
   "cell_type": "markdown",
   "id": "7f7905ed",
   "metadata": {},
   "source": [
    "## Dataset + Collate\n",
    "\n",
    "- CharDataset → loads strings, encodes them into token IDs.\n",
    "- collate_fn → pads sequences per batch + stores lengths.\n",
    "- DataLoader → provides batches for training & testing.\n",
    "- Prints shapes and a decoded sample to check correctness."
   ]
  },
  {
   "cell_type": "code",
   "execution_count": null,
   "id": "0eb46380",
   "metadata": {},
   "outputs": [
    {
     "name": "stdout",
     "output_type": "stream",
     "text": [
      "src_padded shape: torch.Size([32, 132])\n",
      "tgt_padded shape: torch.Size([32, 132])\n",
      "\n",
      "src_lengths: tensor([67, 21, 80, 38, 67])\n",
      "tgt_lengths: tensor([67, 21, 80, 38, 67])\n",
      "\n",
      "Example decoded input: cam environments eventual fallen aug merchant garry quebec latter\n",
      "Example decoded target: rettal cebeuq yrrag tnahcrem gua nellaf lautneve stnemnorivne mac\n"
     ]
    }
   ],
   "source": [
    "from torch.nn.utils.rnn import pad_sequence\n",
    "from torch.utils.data import DataLoader\n",
    "\n",
    "# --- Dataset Class ---\n",
    "class CharDataset(Dataset):\n",
    "    def __init__(self, df):\n",
    "        self.inputs = df[\"input\"].tolist()\n",
    "        self.targets = df[\"target\"].tolist()\n",
    "\n",
    "    def __len__(self):\n",
    "        return len(self.inputs)\n",
    "\n",
    "    def __getitem__(self, idx):\n",
    "        src_text = self.inputs[idx]\n",
    "        tgt_text = self.targets[idx]\n",
    "\n",
    "        src_ids = encode_text(src_text, add_special=True)  # [SOS] ... [EOS]\n",
    "        tgt_ids = encode_text(tgt_text, add_special=True)\n",
    "\n",
    "        return src_ids, tgt_ids\n",
    "\n",
    "\n",
    "# --- Collate Function ---\n",
    "def collate_fn(batch):\n",
    "    src_batch, tgt_batch = zip(*batch)\n",
    "\n",
    "    # Pad sequences\n",
    "    src_padded = pad_sequence(src_batch, batch_first=True, padding_value=PAD_IDX)\n",
    "    tgt_padded = pad_sequence(tgt_batch, batch_first=True, padding_value=PAD_IDX)\n",
    "\n",
    "    # Lengths (before padding)\n",
    "    src_lengths = torch.tensor([len(x) for x in src_batch], dtype=torch.long)\n",
    "    tgt_lengths = torch.tensor([len(x) for x in tgt_batch], dtype=torch.long)\n",
    "\n",
    "    return src_padded, src_lengths, tgt_padded, tgt_lengths\n",
    "\n",
    "\n",
    "# --- Create Dataset + DataLoader ---\n",
    "train_ds = CharDataset(train_df)\n",
    "test_ds = CharDataset(test_df)\n",
    "\n",
    "train_loader = DataLoader(train_ds, batch_size=32, shuffle=True, collate_fn=collate_fn)\n",
    "test_loader = DataLoader(test_ds, batch_size=32, shuffle=False, collate_fn=collate_fn)\n",
    "\n",
    "import pandas as pd\n",
    "from sklearn.model_selection import train_test_split\n",
    "\n",
    "test_df = pd.read_csv(\"./../data/test.csv\")  # original test dataset\n",
    "val_df, holdout_df = train_test_split(test_df, test_size=0.5, random_state=42)\n",
    "\n",
    "val_ds = CharDataset(val_df)\n",
    "val_loader = DataLoader(val_ds, batch_size=32, shuffle=False, collate_fn=collate_fn)\n",
    "\n",
    "# --- Quick Check ---\n",
    "src_padded, src_lengths, tgt_padded, tgt_lengths = next(iter(train_loader))\n",
    "\n",
    "print(\"src_padded shape:\", src_padded.shape)\n",
    "print(\"tgt_padded shape:\", tgt_padded.shape)\n",
    "print(\"\\nsrc_lengths:\", src_lengths[:5])\n",
    "print(\"tgt_lengths:\", tgt_lengths[:5])\n",
    "print(\"\\nExample decoded input:\", decode_ids(src_padded[0].tolist()))\n",
    "print(\"Example decoded target:\", decode_ids(tgt_padded[0].tolist()))"
   ]
  },
  {
   "cell_type": "code",
   "execution_count": null,
   "id": "409f9f3b",
   "metadata": {},
   "outputs": [
    {
     "name": "stdout",
     "output_type": "stream",
     "text": [
      "Vocabulary size: 98\n"
     ]
    }
   ],
   "source": [
    "# --- Character Vocabulary (printable ASCII + special tokens) ---\n",
    "import string\n",
    "\n",
    "PAD_IDX = 0\n",
    "SOS_IDX = 1\n",
    "EOS_IDX = 2\n",
    "\n",
    "# Printable ASCII characters (32-126)\n",
    "chars = [chr(i) for i in range(32, 127)]\n",
    "VOCAB = {c: i+3 for i, c in enumerate(chars)}  # reserve 0,1,2 for PAD, SOS, EOS\n",
    "INV_VOCAB = {i: c for c, i in VOCAB.items()}\n",
    "\n",
    "VOCAB_SIZE = len(VOCAB) + 3  # include PAD, SOS, EOS\n",
    "print(f\"Vocabulary size: {VOCAB_SIZE}\")"
   ]
  },
  {
   "cell_type": "markdown",
   "id": "09205993",
   "metadata": {},
   "source": [
    "## Baseline Model\n",
    "\n",
    "- Embedding layer for characters\n",
    "- Positional encoding\n",
    "- Transformer encoder–decoder (2 layers each)\n",
    "- Linear projection to vocab size"
   ]
  },
  {
   "cell_type": "code",
   "execution_count": null,
   "id": "3beadd67",
   "metadata": {},
   "outputs": [],
   "source": [
    "import math\n",
    "import torch\n",
    "import torch.nn as nn\n",
    "\n",
    "# --- Positional Encoding (sinusoidal) ---\n",
    "class PositionalEncoding(nn.Module):\n",
    "    def __init__(self, d_model, max_len=5000):\n",
    "        super().__init__()\n",
    "        pe = torch.zeros(max_len, d_model)\n",
    "        position = torch.arange(0, max_len, dtype=torch.float).unsqueeze(1)\n",
    "        div_term = torch.exp(torch.arange(0, d_model, 2).float() * (-math.log(10000.0) / d_model))\n",
    "        pe[:, 0::2] = torch.sin(position * div_term)\n",
    "        pe[:, 1::2] = torch.cos(position * div_term)\n",
    "        pe = pe.unsqueeze(0)  # [1, max_len, d_model]\n",
    "        self.register_buffer(\"pe\", pe)\n",
    "\n",
    "    def forward(self, x):\n",
    "        # x: [B, L, D]\n",
    "        x = x + self.pe[:, :x.size(1), :]\n",
    "        return x\n",
    "\n",
    "\n",
    "# --- Baseline Transformer Model ---\n",
    "class CharTransformer(nn.Module):\n",
    "    def __init__(self, vocab_size, d_model=64, nhead=4, num_layers=2, dim_ff=128, dropout=0.1):\n",
    "        super().__init__()\n",
    "        self.d_model = d_model\n",
    "\n",
    "        # Embeddings\n",
    "        self.src_embed = nn.Embedding(vocab_size, d_model, padding_idx=PAD_IDX)\n",
    "        self.tgt_embed = nn.Embedding(vocab_size, d_model, padding_idx=PAD_IDX)\n",
    "\n",
    "        self.pos_encoder = PositionalEncoding(d_model)\n",
    "\n",
    "        # Encoder\n",
    "        encoder_layer = nn.TransformerEncoderLayer(d_model=d_model, nhead=nhead,\n",
    "                                                    dim_feedforward=dim_ff, dropout=dropout, batch_first=True)\n",
    "        self.encoder = nn.TransformerEncoder(encoder_layer, num_layers=num_layers, enable_nested_tensor=False)\n",
    "\n",
    "        # Decoder\n",
    "        decoder_layer = nn.TransformerDecoderLayer(d_model=d_model, nhead=nhead,\n",
    "                                                    dim_feedforward=dim_ff, dropout=dropout, batch_first=True)\n",
    "        self.decoder = nn.TransformerDecoder(decoder_layer, num_layers=num_layers)\n",
    "\n",
    "        # Output projection\n",
    "        self.fc_out = nn.Linear(d_model, vocab_size)\n",
    "\n",
    "    def forward(self, src, tgt_inp):\n",
    "        \"\"\"\n",
    "        src: [B, Ls]\n",
    "        tgt_inp: [B, Lt]\n",
    "        \"\"\"\n",
    "        # Embedding + positional encoding\n",
    "        src_emb = self.pos_encoder(self.src_embed(src))  # [B, Ls, D]\n",
    "        tgt_emb = self.pos_encoder(self.tgt_embed(tgt_inp))  # [B, Lt, D]\n",
    "\n",
    "        # Masks\n",
    "        src_key_padding_mask = (src == PAD_IDX)  # [B, Ls]\n",
    "        tgt_key_padding_mask = (tgt_inp == PAD_IDX)  # [B, Lt]\n",
    "        causal_mask = nn.Transformer.generate_square_subsequent_mask(tgt_inp.size(1)).to(src.device)\n",
    "\n",
    "        # Encode\n",
    "        memory = self.encoder(src_emb, src_key_padding_mask=src_key_padding_mask)\n",
    "\n",
    "        # Decode\n",
    "        out = self.decoder(tgt=tgt_emb, memory=memory,\n",
    "                            tgt_mask=causal_mask,\n",
    "                            tgt_key_padding_mask=tgt_key_padding_mask,\n",
    "                            memory_key_padding_mask=src_key_padding_mask)\n",
    "\n",
    "        # Project to vocab\n",
    "        logits = self.fc_out(out)  # [B, Lt, vocab_size]\n",
    "        return logits"
   ]
  },
  {
   "cell_type": "code",
   "execution_count": null,
   "id": "48fc2965",
   "metadata": {},
   "outputs": [
    {
     "name": "stdout",
     "output_type": "stream",
     "text": [
      "Logits shape: torch.Size([32, 117, 95])\n"
     ]
    },
    {
     "name": "stderr",
     "output_type": "stream",
     "text": [
      "/Library/Frameworks/Python.framework/Versions/3.13/lib/python3.13/site-packages/torch/nn/functional.py:6041: UserWarning: Support for mismatched key_padding_mask and attn_mask is deprecated. Use same type for both instead.\n",
      "  warnings.warn(\n"
     ]
    }
   ],
   "source": [
    "# Create model\n",
    "baseline_model = CharTransformer(vocab_size=len(VOCAB), d_model=64, nhead=4, num_layers=2).to(device)\n",
    "\n",
    "# Dummy batch\n",
    "src_padded, src_lengths, tgt_padded, tgt_lengths = next(iter(train_loader))\n",
    "\n",
    "# Teacher forcing: shift target\n",
    "tgt_inp = tgt_padded[:, :-1]\n",
    "tgt_out = tgt_padded[:, 1:]\n",
    "\n",
    "# Forward pass\n",
    "logits = baseline_model(src_padded.to(device), tgt_inp.to(device))\n",
    "\n",
    "print(\"Logits shape:\", logits.shape)  # [B, Lt-1, vocab_size]"
   ]
  },
  {
   "cell_type": "markdown",
   "id": "5adf9a6b",
   "metadata": {},
   "source": [
    "## Training\n",
    "\n",
    "- AdamW optimizer\n",
    "- CrossEntropyLoss with ignore_index=PAD_IDX\n",
    "- Gradient clipping\n",
    "- Checkpoint saving every few epochs\n",
    "- Optional resume from checkpoint"
   ]
  },
  {
   "cell_type": "code",
   "execution_count": null,
   "id": "f5949982",
   "metadata": {},
   "outputs": [],
   "source": [
    "import torch\n",
    "import torch.nn as nn\n",
    "import torch.optim as optim\n",
    "import os\n",
    "from torch.nn.utils import clip_grad_norm_\n",
    "\n",
    "# ----------------------------\n",
    "# Training loop for baseline Transformer\n",
    "# ----------------------------\n",
    "def train_baseline(\n",
    "    model,\n",
    "    train_loader,\n",
    "    val_loader=None,   # optional validation loader\n",
    "    num_epochs=1000,\n",
    "    lr=1e-3,\n",
    "    device=None,\n",
    "    save_every=5,\n",
    "    val_every=50,\n",
    "    resume_path=None\n",
    "):\n",
    "    # --- Pick device automatically if not provided ---\n",
    "    if device is None:\n",
    "        if torch.backends.mps.is_available():\n",
    "            device = torch.device(\"mps\")\n",
    "        elif torch.cuda.is_available():\n",
    "            device = torch.device(\"cuda\")\n",
    "        else:\n",
    "            device = torch.device(\"cpu\")\n",
    "    print(f\"Training on: {device}\")\n",
    "\n",
    "    model = model.to(device)\n",
    "    optimizer = optim.AdamW(model.parameters(), lr=lr)\n",
    "    criterion = nn.CrossEntropyLoss(ignore_index=PAD_IDX)  # ignore <PAD> tokens\n",
    "\n",
    "    os.makedirs(\"checkpoints_baseline\", exist_ok=True)\n",
    "\n",
    "    # --- Resume from checkpoint ---\n",
    "    start_epoch = 1\n",
    "    if resume_path and os.path.exists(resume_path):\n",
    "        print(f\"🔄 Resuming from checkpoint: {resume_path}\")\n",
    "        checkpoint = torch.load(resume_path, map_location=device)\n",
    "        model.load_state_dict(checkpoint[\"model_state\"])\n",
    "        optimizer.load_state_dict(checkpoint[\"optimizer_state\"])\n",
    "        start_epoch = checkpoint[\"epoch\"] + 1\n",
    "        print(f\"✅ Resumed from epoch {checkpoint['epoch']} (loss {checkpoint['loss']:.4f})\")\n",
    "\n",
    "    # --- Training loop ---\n",
    "    for epoch in range(start_epoch, num_epochs + 1):\n",
    "        model.train()\n",
    "        total_loss = 0.0\n",
    "\n",
    "        for batch in train_loader:\n",
    "            src, src_lengths, tgt, tgt_lengths = batch\n",
    "            src, tgt = src.to(device), tgt.to(device)\n",
    "\n",
    "            tgt_inp = tgt[:, :-1]   # decoder input\n",
    "            tgt_out = tgt[:, 1:]    # expected output\n",
    "\n",
    "            logits = model(src, tgt_inp)\n",
    "\n",
    "            loss = criterion(\n",
    "                logits.reshape(-1, logits.size(-1)),\n",
    "                tgt_out.reshape(-1)\n",
    "            )\n",
    "\n",
    "            optimizer.zero_grad()\n",
    "            loss.backward()\n",
    "            clip_grad_norm_(model.parameters(), max_norm=1.0)\n",
    "            optimizer.step()\n",
    "\n",
    "            total_loss += loss.item()\n",
    "\n",
    "        avg_loss = total_loss / len(train_loader)\n",
    "        \n",
    "        # --- Validation ---\n",
    "        if val_loader is not None:\n",
    "            val_loss, val_acc = evaluate_baseline(model, val_loader, criterion, device)\n",
    "            val_perplexity = math.exp(val_loss)\n",
    "            print(f\"📘 Epoch {epoch}/{num_epochs} - Train Loss: {avg_loss:.4f}\")\n",
    "            print(f\"📗 Validation - Loss: {val_loss:.4f}, Perplexity: {val_perplexity:.2f}, Token Acc: {val_acc:.2f}%\")\n",
    "        else:\n",
    "            print(f\"📘 Epoch {epoch}/{num_epochs} - Train Loss: {avg_loss:.4f}\")\n",
    "\n",
    "        # --- Save checkpoint ---\n",
    "        if epoch % save_every == 0 or epoch == num_epochs:\n",
    "            ckpt_path = f\"checkpoints_baseline/char_transformer_epoch{epoch}.pt\"\n",
    "            torch.save({\n",
    "                \"epoch\": epoch,\n",
    "                \"model_state\": model.state_dict(),\n",
    "                \"optimizer_state\": optimizer.state_dict(),\n",
    "                \"loss\": avg_loss\n",
    "            }, ckpt_path)\n",
    "            print(f\"✅ Saved checkpoint: {ckpt_path}\")\n",
    "\n",
    "\n",
    "# ----------------------------\n",
    "# Evaluation / Validation\n",
    "# ----------------------------\n",
    "@torch.no_grad()\n",
    "def evaluate_baseline(model, val_loader, criterion, device):\n",
    "    model.eval()\n",
    "    total_loss = 0.0\n",
    "    total_tokens = 0\n",
    "    correct_tokens = 0\n",
    "\n",
    "    for batch in val_loader:\n",
    "        src, src_lengths, tgt, tgt_lengths = batch\n",
    "        src, tgt = src.to(device), tgt.to(device)\n",
    "\n",
    "        tgt_inp = tgt[:, :-1]\n",
    "        tgt_out = tgt[:, 1:]\n",
    "\n",
    "        logits = model(src, tgt_inp)\n",
    "\n",
    "        # Compute loss\n",
    "        loss = criterion(\n",
    "            logits.reshape(-1, logits.size(-1)),\n",
    "            tgt_out.reshape(-1)\n",
    "        )\n",
    "        total_loss += loss.item()\n",
    "\n",
    "        # Accuracy (ignore PAD)\n",
    "        preds = logits.argmax(dim=-1)\n",
    "        mask = tgt_out != PAD_IDX\n",
    "        correct_tokens += ((preds == tgt_out) & mask).sum().item()\n",
    "        total_tokens += mask.sum().item()\n",
    "\n",
    "    avg_loss = total_loss / len(val_loader)\n",
    "    accuracy = 100.0 * correct_tokens / total_tokens\n",
    "    return avg_loss, accuracy"
   ]
  },
  {
   "cell_type": "code",
   "execution_count": null,
   "id": "314938ea",
   "metadata": {},
   "outputs": [
    {
     "name": "stdout",
     "output_type": "stream",
     "text": [
      "Training on: mps\n",
      "🔄 Resuming from checkpoint: checkpoints_baseline/char_transformer_epoch470.pt\n",
      "✅ Resumed from epoch 470 (loss 0.0057)\n",
      "📘 Epoch 471/1000 - Train Loss: 0.0056\n",
      "📗 Validation - Loss: 0.0004, Perplexity: 1.00, Token Acc: 99.96%\n",
      "📘 Epoch 472/1000 - Train Loss: 0.0062\n",
      "📗 Validation - Loss: 0.0004, Perplexity: 1.00, Token Acc: 99.95%\n",
      "📘 Epoch 473/1000 - Train Loss: 0.0062\n",
      "📗 Validation - Loss: 0.0006, Perplexity: 1.00, Token Acc: 99.95%\n",
      "📘 Epoch 474/1000 - Train Loss: 0.0061\n",
      "📗 Validation - Loss: 0.0003, Perplexity: 1.00, Token Acc: 99.96%\n",
      "📘 Epoch 475/1000 - Train Loss: 0.0061\n",
      "📗 Validation - Loss: 0.0005, Perplexity: 1.00, Token Acc: 99.96%\n",
      "📘 Epoch 476/1000 - Train Loss: 0.0054\n",
      "📗 Validation - Loss: 0.0002, Perplexity: 1.00, Token Acc: 99.96%\n",
      "📘 Epoch 477/1000 - Train Loss: 0.0056\n",
      "📗 Validation - Loss: 0.0004, Perplexity: 1.00, Token Acc: 99.96%\n",
      "📘 Epoch 478/1000 - Train Loss: 0.0063\n",
      "📗 Validation - Loss: 0.0011, Perplexity: 1.00, Token Acc: 99.94%\n",
      "📘 Epoch 479/1000 - Train Loss: 0.0063\n",
      "📗 Validation - Loss: 0.0003, Perplexity: 1.00, Token Acc: 99.96%\n",
      "📘 Epoch 480/1000 - Train Loss: 0.0052\n",
      "📗 Validation - Loss: 0.0006, Perplexity: 1.00, Token Acc: 99.96%\n",
      "✅ Saved checkpoint: checkpoints_baseline/char_transformer_epoch480.pt\n",
      "📘 Epoch 481/1000 - Train Loss: 0.0053\n",
      "📗 Validation - Loss: 0.0004, Perplexity: 1.00, Token Acc: 99.96%\n",
      "📘 Epoch 482/1000 - Train Loss: 0.0064\n",
      "📗 Validation - Loss: 0.0002, Perplexity: 1.00, Token Acc: 99.97%\n",
      "📘 Epoch 483/1000 - Train Loss: 0.0059\n",
      "📗 Validation - Loss: 0.0004, Perplexity: 1.00, Token Acc: 99.96%\n",
      "📘 Epoch 484/1000 - Train Loss: 0.0052\n",
      "📗 Validation - Loss: 0.0003, Perplexity: 1.00, Token Acc: 99.96%\n",
      "📘 Epoch 485/1000 - Train Loss: 0.0066\n",
      "📗 Validation - Loss: 0.0005, Perplexity: 1.00, Token Acc: 99.96%\n",
      "📘 Epoch 486/1000 - Train Loss: 0.0064\n",
      "📗 Validation - Loss: 0.0006, Perplexity: 1.00, Token Acc: 99.95%\n",
      "📘 Epoch 487/1000 - Train Loss: 0.0060\n",
      "📗 Validation - Loss: 0.0003, Perplexity: 1.00, Token Acc: 99.96%\n",
      "📘 Epoch 488/1000 - Train Loss: 0.0050\n",
      "📗 Validation - Loss: 0.0004, Perplexity: 1.00, Token Acc: 99.96%\n",
      "📘 Epoch 489/1000 - Train Loss: 0.0065\n",
      "📗 Validation - Loss: 0.0002, Perplexity: 1.00, Token Acc: 99.96%\n",
      "📘 Epoch 490/1000 - Train Loss: 0.0057\n",
      "📗 Validation - Loss: 0.0002, Perplexity: 1.00, Token Acc: 99.96%\n",
      "✅ Saved checkpoint: checkpoints_baseline/char_transformer_epoch490.pt\n",
      "📘 Epoch 491/1000 - Train Loss: 0.0057\n",
      "📗 Validation - Loss: 0.0005, Perplexity: 1.00, Token Acc: 99.96%\n",
      "📘 Epoch 492/1000 - Train Loss: 0.0061\n",
      "📗 Validation - Loss: 0.0004, Perplexity: 1.00, Token Acc: 99.95%\n",
      "📘 Epoch 493/1000 - Train Loss: 0.0052\n",
      "📗 Validation - Loss: 0.0002, Perplexity: 1.00, Token Acc: 99.96%\n",
      "📘 Epoch 494/1000 - Train Loss: 0.0058\n",
      "📗 Validation - Loss: 0.0004, Perplexity: 1.00, Token Acc: 99.96%\n",
      "📘 Epoch 495/1000 - Train Loss: 0.0054\n",
      "📗 Validation - Loss: 0.0003, Perplexity: 1.00, Token Acc: 99.96%\n",
      "📘 Epoch 496/1000 - Train Loss: 0.0064\n",
      "📗 Validation - Loss: 0.0005, Perplexity: 1.00, Token Acc: 99.96%\n",
      "📘 Epoch 497/1000 - Train Loss: 0.0061\n",
      "📗 Validation - Loss: 0.0002, Perplexity: 1.00, Token Acc: 99.96%\n",
      "📘 Epoch 498/1000 - Train Loss: 0.0052\n",
      "📗 Validation - Loss: 0.0004, Perplexity: 1.00, Token Acc: 99.96%\n",
      "📘 Epoch 499/1000 - Train Loss: 0.0065\n",
      "📗 Validation - Loss: 0.0003, Perplexity: 1.00, Token Acc: 99.96%\n",
      "📘 Epoch 500/1000 - Train Loss: 0.0057\n",
      "📗 Validation - Loss: 0.0007, Perplexity: 1.00, Token Acc: 99.94%\n",
      "✅ Saved checkpoint: checkpoints_baseline/char_transformer_epoch500.pt\n"
     ]
    },
    {
     "ename": "KeyboardInterrupt",
     "evalue": "",
     "output_type": "error",
     "traceback": [
      "\u001b[31m---------------------------------------------------------------------------\u001b[39m",
      "\u001b[31mKeyboardInterrupt\u001b[39m                         Traceback (most recent call last)",
      "\u001b[36mCell\u001b[39m\u001b[36m \u001b[39m\u001b[32mIn[19]\u001b[39m\u001b[32m, line 5\u001b[39m\n\u001b[32m      2\u001b[39m os.environ[\u001b[33m\"\u001b[39m\u001b[33mPYTORCH_ENABLE_MPS_FALLBACK\u001b[39m\u001b[33m\"\u001b[39m] = \u001b[33m\"\u001b[39m\u001b[33m1\u001b[39m\u001b[33m\"\u001b[39m\n\u001b[32m      4\u001b[39m device = torch.device(\u001b[33m\"\u001b[39m\u001b[33mmps\u001b[39m\u001b[33m\"\u001b[39m)\n\u001b[32m----> \u001b[39m\u001b[32m5\u001b[39m \u001b[43mtrain_baseline\u001b[49m\u001b[43m(\u001b[49m\n\u001b[32m      6\u001b[39m \u001b[43m    \u001b[49m\u001b[43mmodel\u001b[49m\u001b[43m=\u001b[49m\u001b[43mbaseline_model\u001b[49m\u001b[43m,\u001b[49m\n\u001b[32m      7\u001b[39m \u001b[43m    \u001b[49m\u001b[43mtrain_loader\u001b[49m\u001b[43m=\u001b[49m\u001b[43mtrain_loader\u001b[49m\u001b[43m,\u001b[49m\n\u001b[32m      8\u001b[39m \u001b[43m    \u001b[49m\u001b[43mval_loader\u001b[49m\u001b[43m=\u001b[49m\u001b[43mval_loader\u001b[49m\u001b[43m,\u001b[49m\n\u001b[32m      9\u001b[39m \u001b[43m    \u001b[49m\u001b[43mnum_epochs\u001b[49m\u001b[43m=\u001b[49m\u001b[32;43m1000\u001b[39;49m\u001b[43m,\u001b[49m\n\u001b[32m     10\u001b[39m \u001b[43m    \u001b[49m\u001b[43mlr\u001b[49m\u001b[43m=\u001b[49m\u001b[32;43m1e-3\u001b[39;49m\u001b[43m,\u001b[49m\n\u001b[32m     11\u001b[39m \u001b[43m    \u001b[49m\u001b[43mdevice\u001b[49m\u001b[43m=\u001b[49m\u001b[43mdevice\u001b[49m\u001b[43m,\u001b[49m\n\u001b[32m     12\u001b[39m \u001b[43m    \u001b[49m\u001b[43msave_every\u001b[49m\u001b[43m=\u001b[49m\u001b[32;43m10\u001b[39;49m\u001b[43m,\u001b[49m\n\u001b[32m     13\u001b[39m \u001b[43m    \u001b[49m\u001b[43mresume_path\u001b[49m\u001b[43m=\u001b[49m\u001b[33;43m\"\u001b[39;49m\u001b[33;43mcheckpoints_baseline/char_transformer_epoch470.pt\u001b[39;49m\u001b[33;43m\"\u001b[39;49m\n\u001b[32m     14\u001b[39m \u001b[43m)\u001b[49m\n",
      "\u001b[36mCell\u001b[39m\u001b[36m \u001b[39m\u001b[32mIn[9]\u001b[39m\u001b[32m, line 69\u001b[39m, in \u001b[36mtrain_baseline\u001b[39m\u001b[34m(model, train_loader, val_loader, num_epochs, lr, device, save_every, val_every, resume_path)\u001b[39m\n\u001b[32m     67\u001b[39m     loss.backward()\n\u001b[32m     68\u001b[39m     clip_grad_norm_(model.parameters(), max_norm=\u001b[32m1.0\u001b[39m)\n\u001b[32m---> \u001b[39m\u001b[32m69\u001b[39m     \u001b[43moptimizer\u001b[49m\u001b[43m.\u001b[49m\u001b[43mstep\u001b[49m\u001b[43m(\u001b[49m\u001b[43m)\u001b[49m\n\u001b[32m     71\u001b[39m     total_loss += loss.item()\n\u001b[32m     73\u001b[39m avg_loss = total_loss / \u001b[38;5;28mlen\u001b[39m(train_loader)\n",
      "\u001b[36mFile \u001b[39m\u001b[32m/Library/Frameworks/Python.framework/Versions/3.13/lib/python3.13/site-packages/torch/optim/optimizer.py:516\u001b[39m, in \u001b[36mOptimizer.profile_hook_step.<locals>.wrapper\u001b[39m\u001b[34m(*args, **kwargs)\u001b[39m\n\u001b[32m    511\u001b[39m         \u001b[38;5;28;01melse\u001b[39;00m:\n\u001b[32m    512\u001b[39m             \u001b[38;5;28;01mraise\u001b[39;00m \u001b[38;5;167;01mRuntimeError\u001b[39;00m(\n\u001b[32m    513\u001b[39m                 \u001b[33mf\u001b[39m\u001b[33m\"\u001b[39m\u001b[38;5;132;01m{\u001b[39;00mfunc\u001b[38;5;132;01m}\u001b[39;00m\u001b[33m must return None or a tuple of (new_args, new_kwargs), but got \u001b[39m\u001b[38;5;132;01m{\u001b[39;00mresult\u001b[38;5;132;01m}\u001b[39;00m\u001b[33m.\u001b[39m\u001b[33m\"\u001b[39m\n\u001b[32m    514\u001b[39m             )\n\u001b[32m--> \u001b[39m\u001b[32m516\u001b[39m out = \u001b[43mfunc\u001b[49m\u001b[43m(\u001b[49m\u001b[43m*\u001b[49m\u001b[43margs\u001b[49m\u001b[43m,\u001b[49m\u001b[43m \u001b[49m\u001b[43m*\u001b[49m\u001b[43m*\u001b[49m\u001b[43mkwargs\u001b[49m\u001b[43m)\u001b[49m\n\u001b[32m    517\u001b[39m \u001b[38;5;28mself\u001b[39m._optimizer_step_code()\n\u001b[32m    519\u001b[39m \u001b[38;5;66;03m# call optimizer step post hooks\u001b[39;00m\n",
      "\u001b[36mFile \u001b[39m\u001b[32m/Library/Frameworks/Python.framework/Versions/3.13/lib/python3.13/site-packages/torch/optim/optimizer.py:81\u001b[39m, in \u001b[36m_use_grad_for_differentiable.<locals>._use_grad\u001b[39m\u001b[34m(*args, **kwargs)\u001b[39m\n\u001b[32m     79\u001b[39m     torch.set_grad_enabled(\u001b[38;5;28mself\u001b[39m.defaults[\u001b[33m\"\u001b[39m\u001b[33mdifferentiable\u001b[39m\u001b[33m\"\u001b[39m])\n\u001b[32m     80\u001b[39m     torch._dynamo.graph_break()\n\u001b[32m---> \u001b[39m\u001b[32m81\u001b[39m     ret = \u001b[43mfunc\u001b[49m\u001b[43m(\u001b[49m\u001b[43m*\u001b[49m\u001b[43margs\u001b[49m\u001b[43m,\u001b[49m\u001b[43m \u001b[49m\u001b[43m*\u001b[49m\u001b[43m*\u001b[49m\u001b[43mkwargs\u001b[49m\u001b[43m)\u001b[49m\n\u001b[32m     82\u001b[39m \u001b[38;5;28;01mfinally\u001b[39;00m:\n\u001b[32m     83\u001b[39m     torch._dynamo.graph_break()\n",
      "\u001b[36mFile \u001b[39m\u001b[32m/Library/Frameworks/Python.framework/Versions/3.13/lib/python3.13/site-packages/torch/optim/adam.py:247\u001b[39m, in \u001b[36mAdam.step\u001b[39m\u001b[34m(self, closure)\u001b[39m\n\u001b[32m    235\u001b[39m     beta1, beta2 = group[\u001b[33m\"\u001b[39m\u001b[33mbetas\u001b[39m\u001b[33m\"\u001b[39m]\n\u001b[32m    237\u001b[39m     has_complex = \u001b[38;5;28mself\u001b[39m._init_group(\n\u001b[32m    238\u001b[39m         group,\n\u001b[32m    239\u001b[39m         params_with_grad,\n\u001b[32m   (...)\u001b[39m\u001b[32m    244\u001b[39m         state_steps,\n\u001b[32m    245\u001b[39m     )\n\u001b[32m--> \u001b[39m\u001b[32m247\u001b[39m     \u001b[43madam\u001b[49m\u001b[43m(\u001b[49m\n\u001b[32m    248\u001b[39m \u001b[43m        \u001b[49m\u001b[43mparams_with_grad\u001b[49m\u001b[43m,\u001b[49m\n\u001b[32m    249\u001b[39m \u001b[43m        \u001b[49m\u001b[43mgrads\u001b[49m\u001b[43m,\u001b[49m\n\u001b[32m    250\u001b[39m \u001b[43m        \u001b[49m\u001b[43mexp_avgs\u001b[49m\u001b[43m,\u001b[49m\n\u001b[32m    251\u001b[39m \u001b[43m        \u001b[49m\u001b[43mexp_avg_sqs\u001b[49m\u001b[43m,\u001b[49m\n\u001b[32m    252\u001b[39m \u001b[43m        \u001b[49m\u001b[43mmax_exp_avg_sqs\u001b[49m\u001b[43m,\u001b[49m\n\u001b[32m    253\u001b[39m \u001b[43m        \u001b[49m\u001b[43mstate_steps\u001b[49m\u001b[43m,\u001b[49m\n\u001b[32m    254\u001b[39m \u001b[43m        \u001b[49m\u001b[43mamsgrad\u001b[49m\u001b[43m=\u001b[49m\u001b[43mgroup\u001b[49m\u001b[43m[\u001b[49m\u001b[33;43m\"\u001b[39;49m\u001b[33;43mamsgrad\u001b[39;49m\u001b[33;43m\"\u001b[39;49m\u001b[43m]\u001b[49m\u001b[43m,\u001b[49m\n\u001b[32m    255\u001b[39m \u001b[43m        \u001b[49m\u001b[43mhas_complex\u001b[49m\u001b[43m=\u001b[49m\u001b[43mhas_complex\u001b[49m\u001b[43m,\u001b[49m\n\u001b[32m    256\u001b[39m \u001b[43m        \u001b[49m\u001b[43mbeta1\u001b[49m\u001b[43m=\u001b[49m\u001b[43mbeta1\u001b[49m\u001b[43m,\u001b[49m\n\u001b[32m    257\u001b[39m \u001b[43m        \u001b[49m\u001b[43mbeta2\u001b[49m\u001b[43m=\u001b[49m\u001b[43mbeta2\u001b[49m\u001b[43m,\u001b[49m\n\u001b[32m    258\u001b[39m \u001b[43m        \u001b[49m\u001b[43mlr\u001b[49m\u001b[43m=\u001b[49m\u001b[43mgroup\u001b[49m\u001b[43m[\u001b[49m\u001b[33;43m\"\u001b[39;49m\u001b[33;43mlr\u001b[39;49m\u001b[33;43m\"\u001b[39;49m\u001b[43m]\u001b[49m\u001b[43m,\u001b[49m\n\u001b[32m    259\u001b[39m \u001b[43m        \u001b[49m\u001b[43mweight_decay\u001b[49m\u001b[43m=\u001b[49m\u001b[43mgroup\u001b[49m\u001b[43m[\u001b[49m\u001b[33;43m\"\u001b[39;49m\u001b[33;43mweight_decay\u001b[39;49m\u001b[33;43m\"\u001b[39;49m\u001b[43m]\u001b[49m\u001b[43m,\u001b[49m\n\u001b[32m    260\u001b[39m \u001b[43m        \u001b[49m\u001b[43meps\u001b[49m\u001b[43m=\u001b[49m\u001b[43mgroup\u001b[49m\u001b[43m[\u001b[49m\u001b[33;43m\"\u001b[39;49m\u001b[33;43meps\u001b[39;49m\u001b[33;43m\"\u001b[39;49m\u001b[43m]\u001b[49m\u001b[43m,\u001b[49m\n\u001b[32m    261\u001b[39m \u001b[43m        \u001b[49m\u001b[43mmaximize\u001b[49m\u001b[43m=\u001b[49m\u001b[43mgroup\u001b[49m\u001b[43m[\u001b[49m\u001b[33;43m\"\u001b[39;49m\u001b[33;43mmaximize\u001b[39;49m\u001b[33;43m\"\u001b[39;49m\u001b[43m]\u001b[49m\u001b[43m,\u001b[49m\n\u001b[32m    262\u001b[39m \u001b[43m        \u001b[49m\u001b[43mforeach\u001b[49m\u001b[43m=\u001b[49m\u001b[43mgroup\u001b[49m\u001b[43m[\u001b[49m\u001b[33;43m\"\u001b[39;49m\u001b[33;43mforeach\u001b[39;49m\u001b[33;43m\"\u001b[39;49m\u001b[43m]\u001b[49m\u001b[43m,\u001b[49m\n\u001b[32m    263\u001b[39m \u001b[43m        \u001b[49m\u001b[43mcapturable\u001b[49m\u001b[43m=\u001b[49m\u001b[43mgroup\u001b[49m\u001b[43m[\u001b[49m\u001b[33;43m\"\u001b[39;49m\u001b[33;43mcapturable\u001b[39;49m\u001b[33;43m\"\u001b[39;49m\u001b[43m]\u001b[49m\u001b[43m,\u001b[49m\n\u001b[32m    264\u001b[39m \u001b[43m        \u001b[49m\u001b[43mdifferentiable\u001b[49m\u001b[43m=\u001b[49m\u001b[43mgroup\u001b[49m\u001b[43m[\u001b[49m\u001b[33;43m\"\u001b[39;49m\u001b[33;43mdifferentiable\u001b[39;49m\u001b[33;43m\"\u001b[39;49m\u001b[43m]\u001b[49m\u001b[43m,\u001b[49m\n\u001b[32m    265\u001b[39m \u001b[43m        \u001b[49m\u001b[43mfused\u001b[49m\u001b[43m=\u001b[49m\u001b[43mgroup\u001b[49m\u001b[43m[\u001b[49m\u001b[33;43m\"\u001b[39;49m\u001b[33;43mfused\u001b[39;49m\u001b[33;43m\"\u001b[39;49m\u001b[43m]\u001b[49m\u001b[43m,\u001b[49m\n\u001b[32m    266\u001b[39m \u001b[43m        \u001b[49m\u001b[43mgrad_scale\u001b[49m\u001b[43m=\u001b[49m\u001b[38;5;28;43mgetattr\u001b[39;49m\u001b[43m(\u001b[49m\u001b[38;5;28;43mself\u001b[39;49m\u001b[43m,\u001b[49m\u001b[43m \u001b[49m\u001b[33;43m\"\u001b[39;49m\u001b[33;43mgrad_scale\u001b[39;49m\u001b[33;43m\"\u001b[39;49m\u001b[43m,\u001b[49m\u001b[43m \u001b[49m\u001b[38;5;28;43;01mNone\u001b[39;49;00m\u001b[43m)\u001b[49m\u001b[43m,\u001b[49m\n\u001b[32m    267\u001b[39m \u001b[43m        \u001b[49m\u001b[43mfound_inf\u001b[49m\u001b[43m=\u001b[49m\u001b[38;5;28;43mgetattr\u001b[39;49m\u001b[43m(\u001b[49m\u001b[38;5;28;43mself\u001b[39;49m\u001b[43m,\u001b[49m\u001b[43m \u001b[49m\u001b[33;43m\"\u001b[39;49m\u001b[33;43mfound_inf\u001b[39;49m\u001b[33;43m\"\u001b[39;49m\u001b[43m,\u001b[49m\u001b[43m \u001b[49m\u001b[38;5;28;43;01mNone\u001b[39;49;00m\u001b[43m)\u001b[49m\u001b[43m,\u001b[49m\n\u001b[32m    268\u001b[39m \u001b[43m        \u001b[49m\u001b[43mdecoupled_weight_decay\u001b[49m\u001b[43m=\u001b[49m\u001b[43mgroup\u001b[49m\u001b[43m[\u001b[49m\u001b[33;43m\"\u001b[39;49m\u001b[33;43mdecoupled_weight_decay\u001b[39;49m\u001b[33;43m\"\u001b[39;49m\u001b[43m]\u001b[49m\u001b[43m,\u001b[49m\n\u001b[32m    269\u001b[39m \u001b[43m    \u001b[49m\u001b[43m)\u001b[49m\n\u001b[32m    271\u001b[39m \u001b[38;5;28;01mreturn\u001b[39;00m loss\n",
      "\u001b[36mFile \u001b[39m\u001b[32m/Library/Frameworks/Python.framework/Versions/3.13/lib/python3.13/site-packages/torch/optim/optimizer.py:149\u001b[39m, in \u001b[36m_disable_dynamo_if_unsupported.<locals>.wrapper.<locals>.maybe_fallback\u001b[39m\u001b[34m(*args, **kwargs)\u001b[39m\n\u001b[32m    147\u001b[39m     \u001b[38;5;28;01mreturn\u001b[39;00m disabled_func(*args, **kwargs)\n\u001b[32m    148\u001b[39m \u001b[38;5;28;01melse\u001b[39;00m:\n\u001b[32m--> \u001b[39m\u001b[32m149\u001b[39m     \u001b[38;5;28;01mreturn\u001b[39;00m \u001b[43mfunc\u001b[49m\u001b[43m(\u001b[49m\u001b[43m*\u001b[49m\u001b[43margs\u001b[49m\u001b[43m,\u001b[49m\u001b[43m \u001b[49m\u001b[43m*\u001b[49m\u001b[43m*\u001b[49m\u001b[43mkwargs\u001b[49m\u001b[43m)\u001b[49m\n",
      "\u001b[36mFile \u001b[39m\u001b[32m/Library/Frameworks/Python.framework/Versions/3.13/lib/python3.13/site-packages/torch/optim/adam.py:949\u001b[39m, in \u001b[36madam\u001b[39m\u001b[34m(params, grads, exp_avgs, exp_avg_sqs, max_exp_avg_sqs, state_steps, foreach, capturable, differentiable, fused, grad_scale, found_inf, has_complex, decoupled_weight_decay, amsgrad, beta1, beta2, lr, weight_decay, eps, maximize)\u001b[39m\n\u001b[32m    946\u001b[39m \u001b[38;5;28;01melse\u001b[39;00m:\n\u001b[32m    947\u001b[39m     func = _single_tensor_adam\n\u001b[32m--> \u001b[39m\u001b[32m949\u001b[39m \u001b[43mfunc\u001b[49m\u001b[43m(\u001b[49m\n\u001b[32m    950\u001b[39m \u001b[43m    \u001b[49m\u001b[43mparams\u001b[49m\u001b[43m,\u001b[49m\n\u001b[32m    951\u001b[39m \u001b[43m    \u001b[49m\u001b[43mgrads\u001b[49m\u001b[43m,\u001b[49m\n\u001b[32m    952\u001b[39m \u001b[43m    \u001b[49m\u001b[43mexp_avgs\u001b[49m\u001b[43m,\u001b[49m\n\u001b[32m    953\u001b[39m \u001b[43m    \u001b[49m\u001b[43mexp_avg_sqs\u001b[49m\u001b[43m,\u001b[49m\n\u001b[32m    954\u001b[39m \u001b[43m    \u001b[49m\u001b[43mmax_exp_avg_sqs\u001b[49m\u001b[43m,\u001b[49m\n\u001b[32m    955\u001b[39m \u001b[43m    \u001b[49m\u001b[43mstate_steps\u001b[49m\u001b[43m,\u001b[49m\n\u001b[32m    956\u001b[39m \u001b[43m    \u001b[49m\u001b[43mamsgrad\u001b[49m\u001b[43m=\u001b[49m\u001b[43mamsgrad\u001b[49m\u001b[43m,\u001b[49m\n\u001b[32m    957\u001b[39m \u001b[43m    \u001b[49m\u001b[43mhas_complex\u001b[49m\u001b[43m=\u001b[49m\u001b[43mhas_complex\u001b[49m\u001b[43m,\u001b[49m\n\u001b[32m    958\u001b[39m \u001b[43m    \u001b[49m\u001b[43mbeta1\u001b[49m\u001b[43m=\u001b[49m\u001b[43mbeta1\u001b[49m\u001b[43m,\u001b[49m\n\u001b[32m    959\u001b[39m \u001b[43m    \u001b[49m\u001b[43mbeta2\u001b[49m\u001b[43m=\u001b[49m\u001b[43mbeta2\u001b[49m\u001b[43m,\u001b[49m\n\u001b[32m    960\u001b[39m \u001b[43m    \u001b[49m\u001b[43mlr\u001b[49m\u001b[43m=\u001b[49m\u001b[43mlr\u001b[49m\u001b[43m,\u001b[49m\n\u001b[32m    961\u001b[39m \u001b[43m    \u001b[49m\u001b[43mweight_decay\u001b[49m\u001b[43m=\u001b[49m\u001b[43mweight_decay\u001b[49m\u001b[43m,\u001b[49m\n\u001b[32m    962\u001b[39m \u001b[43m    \u001b[49m\u001b[43meps\u001b[49m\u001b[43m=\u001b[49m\u001b[43meps\u001b[49m\u001b[43m,\u001b[49m\n\u001b[32m    963\u001b[39m \u001b[43m    \u001b[49m\u001b[43mmaximize\u001b[49m\u001b[43m=\u001b[49m\u001b[43mmaximize\u001b[49m\u001b[43m,\u001b[49m\n\u001b[32m    964\u001b[39m \u001b[43m    \u001b[49m\u001b[43mcapturable\u001b[49m\u001b[43m=\u001b[49m\u001b[43mcapturable\u001b[49m\u001b[43m,\u001b[49m\n\u001b[32m    965\u001b[39m \u001b[43m    \u001b[49m\u001b[43mdifferentiable\u001b[49m\u001b[43m=\u001b[49m\u001b[43mdifferentiable\u001b[49m\u001b[43m,\u001b[49m\n\u001b[32m    966\u001b[39m \u001b[43m    \u001b[49m\u001b[43mgrad_scale\u001b[49m\u001b[43m=\u001b[49m\u001b[43mgrad_scale\u001b[49m\u001b[43m,\u001b[49m\n\u001b[32m    967\u001b[39m \u001b[43m    \u001b[49m\u001b[43mfound_inf\u001b[49m\u001b[43m=\u001b[49m\u001b[43mfound_inf\u001b[49m\u001b[43m,\u001b[49m\n\u001b[32m    968\u001b[39m \u001b[43m    \u001b[49m\u001b[43mdecoupled_weight_decay\u001b[49m\u001b[43m=\u001b[49m\u001b[43mdecoupled_weight_decay\u001b[49m\u001b[43m,\u001b[49m\n\u001b[32m    969\u001b[39m \u001b[43m\u001b[49m\u001b[43m)\u001b[49m\n",
      "\u001b[36mFile \u001b[39m\u001b[32m/Library/Frameworks/Python.framework/Versions/3.13/lib/python3.13/site-packages/torch/optim/adam.py:517\u001b[39m, in \u001b[36m_single_tensor_adam\u001b[39m\u001b[34m(params, grads, exp_avgs, exp_avg_sqs, max_exp_avg_sqs, state_steps, grad_scale, found_inf, amsgrad, has_complex, beta1, beta2, lr, weight_decay, eps, maximize, capturable, differentiable, decoupled_weight_decay)\u001b[39m\n\u001b[32m    515\u001b[39m         param.addcdiv_(exp_avg, denom)\n\u001b[32m    516\u001b[39m \u001b[38;5;28;01melse\u001b[39;00m:\n\u001b[32m--> \u001b[39m\u001b[32m517\u001b[39m     step = \u001b[43m_get_value\u001b[49m\u001b[43m(\u001b[49m\u001b[43mstep_t\u001b[49m\u001b[43m)\u001b[49m\n\u001b[32m    519\u001b[39m     bias_correction1 = \u001b[32m1\u001b[39m - beta1**step\n\u001b[32m    520\u001b[39m     bias_correction2 = \u001b[32m1\u001b[39m - beta2**step\n",
      "\u001b[36mFile \u001b[39m\u001b[32m/Library/Frameworks/Python.framework/Versions/3.13/lib/python3.13/site-packages/torch/optim/optimizer.py:96\u001b[39m, in \u001b[36m_get_value\u001b[39m\u001b[34m(x)\u001b[39m\n\u001b[32m     94\u001b[39m     \u001b[38;5;28;01mreturn\u001b[39;00m x\n\u001b[32m     95\u001b[39m \u001b[38;5;28;01melse\u001b[39;00m:\n\u001b[32m---> \u001b[39m\u001b[32m96\u001b[39m     \u001b[38;5;28;01mreturn\u001b[39;00m \u001b[43mx\u001b[49m\u001b[43m.\u001b[49m\u001b[43mitem\u001b[49m\u001b[43m(\u001b[49m\u001b[43m)\u001b[49m \u001b[38;5;28;01mif\u001b[39;00m \u001b[38;5;28misinstance\u001b[39m(x, torch.Tensor) \u001b[38;5;28;01melse\u001b[39;00m x\n",
      "\u001b[31mKeyboardInterrupt\u001b[39m: "
     ]
    }
   ],
   "source": [
    "import os\n",
    "os.environ[\"PYTORCH_ENABLE_MPS_FALLBACK\"] = \"1\"\n",
    "\n",
    "device = torch.device(\"mps\")\n",
    "train_baseline(\n",
    "    model=baseline_model,\n",
    "    train_loader=train_loader,\n",
    "    val_loader=val_loader,\n",
    "    num_epochs=1000,\n",
    "    lr=1e-3,\n",
    "    device=device,\n",
    "    save_every=10,\n",
    "    resume_path=\"checkpoints_baseline/char_transformer_epoch500.pt\"\n",
    ")"
   ]
  },
  {
   "cell_type": "markdown",
   "id": "27da1f1f",
   "metadata": {},
   "source": [
    "#### Output"
   ]
  },
  {
   "cell_type": "markdown",
   "id": "a0b7261e",
   "metadata": {},
   "source": [
    "Training on: mps\n",
    "🔄 Resuming from checkpoint: checkpoints_baseline/char_transformer_epoch50.pt\n",
    "✅ Resumed from epoch 50 (loss 0.2597)\n",
    "📘 Epoch 51/1000 - Train Loss: 0.2541\n",
    "📘 Epoch 52/1000 - Train Loss: 0.2507\n",
    "📘 Epoch 53/1000 - Train Loss: 0.2461\n",
    "📘 Epoch 54/1000 - Train Loss: 0.2391\n",
    "📘 Epoch 55/1000 - Train Loss: 0.2377\n",
    "📘 Epoch 56/1000 - Train Loss: 0.2259\n",
    "📘 Epoch 57/1000 - Train Loss: 0.2206\n",
    "📘 Epoch 58/1000 - Train Loss: 0.2184\n",
    "📘 Epoch 59/1000 - Train Loss: 0.2203\n",
    "📘 Epoch 60/1000 - Train Loss: 0.2083\n",
    "✅ Saved checkpoint: checkpoints_baseline/char_transformer_epoch60.pt\n",
    "📘 Epoch 61/1000 - Train Loss: 0.2050\n",
    "📘 Epoch 62/1000 - Train Loss: 0.2049\n",
    "📘 Epoch 63/1000 - Train Loss: 0.1927\n",
    "📘 Epoch 64/1000 - Train Loss: 0.1986\n",
    "📘 Epoch 65/1000 - Train Loss: 0.1843\n",
    "📘 Epoch 66/1000 - Train Loss: 0.1815\n",
    "📘 Epoch 67/1000 - Train Loss: 0.1738\n",
    "📘 Epoch 68/1000 - Train Loss: 0.1757\n",
    "📘 Epoch 69/1000 - Train Loss: 0.1659\n",
    "📘 Epoch 70/1000 - Train Loss: 0.1662\n",
    "✅ Saved checkpoint: checkpoints_baseline/char_transformer_epoch70.pt\n",
    "📘 Epoch 71/1000 - Train Loss: 0.1609\n",
    "📘 Epoch 72/1000 - Train Loss: 0.1558\n",
    "📘 Epoch 73/1000 - Train Loss: 0.1553\n",
    "📘 Epoch 74/1000 - Train Loss: 0.1495\n",
    "📘 Epoch 75/1000 - Train Loss: 0.1385\n",
    "📘 Epoch 76/1000 - Train Loss: 0.1384\n",
    "📘 Epoch 77/1000 - Train Loss: 0.1372\n",
    "📘 Epoch 78/1000 - Train Loss: 0.1381\n",
    "📘 Epoch 79/1000 - Train Loss: 0.1260\n",
    "📘 Epoch 80/1000 - Train Loss: 0.1224\n",
    "✅ Saved checkpoint: checkpoints_baseline/char_transformer_epoch80.pt\n",
    "📘 Epoch 81/1000 - Train Loss: 0.1169\n",
    "📘 Epoch 82/1000 - Train Loss: 0.1102\n",
    "📘 Epoch 83/1000 - Train Loss: 0.1037\n",
    "📘 Epoch 84/1000 - Train Loss: 0.0933\n",
    "📘 Epoch 85/1000 - Train Loss: 0.0786\n",
    "📘 Epoch 86/1000 - Train Loss: 0.0637\n",
    "📘 Epoch 87/1000 - Train Loss: 0.0627\n",
    "📘 Epoch 88/1000 - Train Loss: 0.0563\n",
    "📘 Epoch 89/1000 - Train Loss: 0.0493\n",
    "📘 Epoch 90/1000 - Train Loss: 0.0476\n",
    "✅ Saved checkpoint: checkpoints_baseline/char_transformer_epoch90.pt\n",
    "📘 Epoch 91/1000 - Train Loss: 0.0438\n",
    "📘 Epoch 92/1000 - Train Loss: 0.0410\n",
    "📘 Epoch 93/1000 - Train Loss: 0.0381\n",
    "📘 Epoch 94/1000 - Train Loss: 0.0376\n",
    "📘 Epoch 95/1000 - Train Loss: 0.0350\n",
    "📘 Epoch 96/1000 - Train Loss: 0.0354\n",
    "📘 Epoch 97/1000 - Train Loss: 0.0362\n",
    "📘 Epoch 98/1000 - Train Loss: 0.0319\n",
    "📘 Epoch 99/1000 - Train Loss: 0.0318\n",
    "📘 Epoch 100/1000 - Train Loss: 0.0310\n",
    "✅ Saved checkpoint: checkpoints_baseline/char_transformer_epoch100.pt\n",
    "📘 Epoch 101/1000 - Train Loss: 0.0312\n",
    "📘 Epoch 102/1000 - Train Loss: 0.0310\n",
    "📘 Epoch 103/1000 - Train Loss: 0.0307\n",
    "📘 Epoch 104/1000 - Train Loss: 0.0289\n",
    "📘 Epoch 105/1000 - Train Loss: 0.0290\n",
    "📘 Epoch 106/1000 - Train Loss: 0.0297\n",
    "📘 Epoch 107/1000 - Train Loss: 0.0274\n",
    "📘 Epoch 108/1000 - Train Loss: 0.0282\n",
    "📘 Epoch 109/1000 - Train Loss: 0.0267\n",
    "📘 Epoch 110/1000 - Train Loss: 0.0272\n",
    "✅ Saved checkpoint: checkpoints_baseline/char_transformer_epoch110.pt\n",
    "📘 Epoch 111/1000 - Train Loss: 0.0267\n",
    "📘 Epoch 112/1000 - Train Loss: 0.0264\n",
    "📘 Epoch 113/1000 - Train Loss: 0.0253\n",
    "📘 Epoch 114/1000 - Train Loss: 0.0256\n",
    "📘 Epoch 115/1000 - Train Loss: 0.0245\n",
    "📘 Epoch 116/1000 - Train Loss: 0.0250\n",
    "📘 Epoch 117/1000 - Train Loss: 0.0255\n",
    "📘 Epoch 118/1000 - Train Loss: 0.0250\n",
    "📘 Epoch 119/1000 - Train Loss: 0.0243\n",
    "📘 Epoch 120/1000 - Train Loss: 0.0230\n",
    "✅ Saved checkpoint: checkpoints_baseline/char_transformer_epoch120.pt\n",
    "📘 Epoch 121/1000 - Train Loss: 0.0239\n",
    "📘 Epoch 122/1000 - Train Loss: 0.0231\n",
    "📘 Epoch 123/1000 - Train Loss: 0.0225\n",
    "📘 Epoch 124/1000 - Train Loss: 0.0240\n",
    "📘 Epoch 125/1000 - Train Loss: 0.0229\n",
    "📘 Epoch 126/1000 - Train Loss: 0.0230\n",
    "📘 Epoch 127/1000 - Train Loss: 0.0211\n",
    "📘 Epoch 128/1000 - Train Loss: 0.0224\n",
    "📘 Epoch 129/1000 - Train Loss: 0.0209\n",
    "📘 Epoch 130/1000 - Train Loss: 0.0223\n",
    "✅ Saved checkpoint: checkpoints_baseline/char_transformer_epoch130.pt\n",
    "📘 Epoch 131/1000 - Train Loss: 0.0201\n",
    "📘 Epoch 132/1000 - Train Loss: 0.0226\n",
    "📘 Epoch 133/1000 - Train Loss: 0.0220\n",
    "📘 Epoch 134/1000 - Train Loss: 0.0210\n",
    "📘 Epoch 135/1000 - Train Loss: 0.0196\n",
    "📘 Epoch 136/1000 - Train Loss: 0.0196\n",
    "📘 Epoch 137/1000 - Train Loss: 0.0206\n",
    "📘 Epoch 138/1000 - Train Loss: 0.0202\n",
    "📘 Epoch 139/1000 - Train Loss: 0.0196\n",
    "📘 Epoch 140/1000 - Train Loss: 0.0183\n",
    "✅ Saved checkpoint: checkpoints_baseline/char_transformer_epoch140.pt\n",
    "📘 Epoch 141/1000 - Train Loss: 0.0211\n",
    "📘 Epoch 142/1000 - Train Loss: 0.0195\n",
    "📘 Epoch 143/1000 - Train Loss: 0.0204\n",
    "📘 Epoch 144/1000 - Train Loss: 0.0193\n",
    "📘 Epoch 145/1000 - Train Loss: 0.0197\n",
    "📘 Epoch 146/1000 - Train Loss: 0.0180\n",
    "📘 Epoch 147/1000 - Train Loss: 0.0195\n",
    "📘 Epoch 148/1000 - Train Loss: 0.0204\n",
    "📘 Epoch 149/1000 - Train Loss: 0.0177\n",
    "📘 Epoch 150/1000 - Train Loss: 0.0187\n",
    "✅ Saved checkpoint: checkpoints_baseline/char_transformer_epoch150.pt\n",
    "📘 Epoch 151/1000 - Train Loss: 0.0198\n",
    "📘 Epoch 152/1000 - Train Loss: 0.0182\n",
    "📘 Epoch 153/1000 - Train Loss: 0.0183\n",
    "📘 Epoch 154/1000 - Train Loss: 0.0178\n",
    "📘 Epoch 155/1000 - Train Loss: 0.0183\n",
    "📘 Epoch 156/1000 - Train Loss: 0.0183\n",
    "📘 Epoch 157/1000 - Train Loss: 0.0181\n",
    "📘 Epoch 158/1000 - Train Loss: 0.0160\n",
    "📘 Epoch 159/1000 - Train Loss: 0.0184\n",
    "📘 Epoch 160/1000 - Train Loss: 0.0172\n",
    "✅ Saved checkpoint: checkpoints_baseline/char_transformer_epoch160.pt\n",
    "📘 Epoch 161/1000 - Train Loss: 0.0181\n",
    "📘 Epoch 162/1000 - Train Loss: 0.0177\n",
    "📘 Epoch 163/1000 - Train Loss: 0.0169\n",
    "📘 Epoch 164/1000 - Train Loss: 0.0184\n",
    "📘 Epoch 165/1000 - Train Loss: 0.0167\n",
    "📘 Epoch 166/1000 - Train Loss: 0.0191\n",
    "📘 Epoch 167/1000 - Train Loss: 0.0171\n",
    "📘 Epoch 168/1000 - Train Loss: 0.0172\n",
    "📘 Epoch 169/1000 - Train Loss: 0.0172\n",
    "📘 Epoch 170/1000 - Train Loss: 0.0171\n",
    "✅ Saved checkpoint: checkpoints_baseline/char_transformer_epoch170.pt\n",
    "📘 Epoch 171/1000 - Train Loss: 0.0156\n",
    "📘 Epoch 172/1000 - Train Loss: 0.0165\n",
    "📘 Epoch 173/1000 - Train Loss: 0.0161\n",
    "📘 Epoch 174/1000 - Train Loss: 0.0177\n",
    "📘 Epoch 175/1000 - Train Loss: 0.0161\n",
    "📘 Epoch 176/1000 - Train Loss: 0.0166\n",
    "📘 Epoch 177/1000 - Train Loss: 0.0164\n",
    "📘 Epoch 178/1000 - Train Loss: 0.0157\n",
    "📘 Epoch 179/1000 - Train Loss: 0.0151\n",
    "📘 Epoch 180/1000 - Train Loss: 0.0152\n",
    "✅ Saved checkpoint: checkpoints_baseline/char_transformer_epoch180.pt\n",
    "📘 Epoch 181/1000 - Train Loss: 0.0155\n",
    "📘 Epoch 182/1000 - Train Loss: 0.0168\n",
    "📘 Epoch 183/1000 - Train Loss: 0.0158\n",
    "📘 Epoch 184/1000 - Train Loss: 0.0158\n",
    "📘 Epoch 185/1000 - Train Loss: 0.0163\n",
    "📘 Epoch 186/1000 - Train Loss: 0.0145\n",
    "📘 Epoch 187/1000 - Train Loss: 0.0160\n",
    "📘 Epoch 188/1000 - Train Loss: 0.0145\n",
    "📘 Epoch 189/1000 - Train Loss: 0.0149\n",
    "📘 Epoch 190/1000 - Train Loss: 0.0144\n",
    "✅ Saved checkpoint: checkpoints_baseline/char_transformer_epoch190.pt\n",
    "📘 Epoch 191/1000 - Train Loss: 0.0158\n",
    "📘 Epoch 192/1000 - Train Loss: 0.0151\n",
    "📘 Epoch 193/1000 - Train Loss: 0.0147\n",
    "📘 Epoch 194/1000 - Train Loss: 0.0142\n",
    "📘 Epoch 195/1000 - Train Loss: 0.0154\n",
    "📘 Epoch 196/1000 - Train Loss: 0.0146\n",
    "📘 Epoch 197/1000 - Train Loss: 0.0147\n",
    "📘 Epoch 198/1000 - Train Loss: 0.0143\n",
    "📘 Epoch 199/1000 - Train Loss: 0.0150\n",
    "📘 Epoch 200/1000 - Train Loss: 0.0149\n",
    "✅ Saved checkpoint: checkpoints_baseline/char_transformer_epoch200.pt\n",
    "📘 Epoch 201/1000 - Train Loss: 0.0134\n",
    "📘 Epoch 202/1000 - Train Loss: 0.0154\n",
    "📘 Epoch 203/1000 - Train Loss: 0.0137\n",
    "📘 Epoch 204/1000 - Train Loss: 0.0142\n",
    "📘 Epoch 205/1000 - Train Loss: 0.0142\n",
    "📘 Epoch 206/1000 - Train Loss: 0.0140\n",
    "📘 Epoch 207/1000 - Train Loss: 0.0142\n",
    "📘 Epoch 208/1000 - Train Loss: 0.0136\n",
    "📘 Epoch 209/1000 - Train Loss: 0.0145\n",
    "📘 Epoch 210/1000 - Train Loss: 0.0128\n",
    "✅ Saved checkpoint: checkpoints_baseline/char_transformer_epoch210.pt\n",
    "📘 Epoch 211/1000 - Train Loss: 0.0138\n",
    "📘 Epoch 212/1000 - Train Loss: 0.0138\n",
    "📘 Epoch 213/1000 - Train Loss: 0.0129\n",
    "📘 Epoch 214/1000 - Train Loss: 0.0141\n",
    "📘 Epoch 215/1000 - Train Loss: 0.0127\n",
    "📘 Epoch 216/1000 - Train Loss: 0.0136\n",
    "📘 Epoch 217/1000 - Train Loss: 0.0143\n",
    "📘 Epoch 218/1000 - Train Loss: 0.0127\n",
    "📘 Epoch 219/1000 - Train Loss: 0.0141\n",
    "📘 Epoch 220/1000 - Train Loss: 0.0149\n",
    "✅ Saved checkpoint: checkpoints_baseline/char_transformer_epoch220.pt\n",
    "📘 Epoch 221/1000 - Train Loss: 0.0127\n",
    "📘 Epoch 222/1000 - Train Loss: 0.0130\n",
    "📘 Epoch 223/1000 - Train Loss: 0.0122\n",
    "📘 Epoch 224/1000 - Train Loss: 0.0140\n",
    "📘 Epoch 225/1000 - Train Loss: 0.0117\n",
    "📘 Epoch 226/1000 - Train Loss: 0.0124\n",
    "📘 Epoch 227/1000 - Train Loss: 0.0139\n",
    "📘 Epoch 228/1000 - Train Loss: 0.0126\n",
    "📘 Epoch 229/1000 - Train Loss: 0.0134\n",
    "📘 Epoch 230/1000 - Train Loss: 0.0134\n",
    "✅ Saved checkpoint: checkpoints_baseline/char_transformer_epoch230.pt\n",
    "📘 Epoch 231/1000 - Train Loss: 0.0138\n",
    "📘 Epoch 232/1000 - Train Loss: 0.0117\n",
    "📘 Epoch 233/1000 - Train Loss: 0.0124\n",
    "📘 Epoch 234/1000 - Train Loss: 0.0126\n",
    "📘 Epoch 235/1000 - Train Loss: 0.0112\n",
    "📘 Epoch 236/1000 - Train Loss: 0.0125\n",
    "📘 Epoch 237/1000 - Train Loss: 0.0125\n",
    "📘 Epoch 238/1000 - Train Loss: 0.0129\n",
    "📘 Epoch 239/1000 - Train Loss: 0.0117\n",
    "📘 Epoch 240/1000 - Train Loss: 0.0130\n",
    "✅ Saved checkpoint: checkpoints_baseline/char_transformer_epoch240.pt\n",
    "📘 Epoch 241/1000 - Train Loss: 0.0122\n",
    "📘 Epoch 242/1000 - Train Loss: 0.0117\n",
    "📘 Epoch 243/1000 - Train Loss: 0.0118\n",
    "📘 Epoch 244/1000 - Train Loss: 0.0116\n",
    "📘 Epoch 245/1000 - Train Loss: 0.0131\n",
    "📘 Epoch 246/1000 - Train Loss: 0.0126\n",
    "📘 Epoch 247/1000 - Train Loss: 0.0114\n",
    "📘 Epoch 248/1000 - Train Loss: 0.0113\n",
    "📘 Epoch 249/1000 - Train Loss: 0.0113\n",
    "📘 Epoch 250/1000 - Train Loss: 0.0119\n",
    "✅ Saved checkpoint: checkpoints_baseline/char_transformer_epoch250.pt\n",
    "📘 Epoch 251/1000 - Train Loss: 0.0117\n",
    "📘 Epoch 252/1000 - Train Loss: 0.0114\n",
    "📘 Epoch 253/1000 - Train Loss: 0.0111\n",
    "📘 Epoch 254/1000 - Train Loss: 0.0111\n",
    "📘 Epoch 255/1000 - Train Loss: 0.0118\n",
    "📘 Epoch 256/1000 - Train Loss: 0.0119\n",
    "📘 Epoch 257/1000 - Train Loss: 0.0118\n",
    "📘 Epoch 258/1000 - Train Loss: 0.0106\n",
    "📘 Epoch 259/1000 - Train Loss: 0.0119\n",
    "📘 Epoch 260/1000 - Train Loss: 0.0110\n",
    "✅ Saved checkpoint: checkpoints_baseline/char_transformer_epoch260.pt\n",
    "📘 Epoch 261/1000 - Train Loss: 0.0111\n",
    "📘 Epoch 262/1000 - Train Loss: 0.0110\n",
    "📘 Epoch 263/1000 - Train Loss: 0.0113\n",
    "📘 Epoch 264/1000 - Train Loss: 0.0107\n",
    "📘 Epoch 265/1000 - Train Loss: 0.0104\n",
    "📘 Epoch 266/1000 - Train Loss: 0.0115\n",
    "📘 Epoch 267/1000 - Train Loss: 0.0114\n",
    "📘 Epoch 268/1000 - Train Loss: 0.0111\n",
    "📘 Epoch 269/1000 - Train Loss: 0.0113\n",
    "📘 Epoch 270/1000 - Train Loss: 0.0111\n",
    "✅ Saved checkpoint: checkpoints_baseline/char_transformer_epoch270.pt\n",
    "📘 Epoch 271/1000 - Train Loss: 0.0105\n",
    "📘 Epoch 272/1000 - Train Loss: 0.0101\n",
    "📘 Epoch 273/1000 - Train Loss: 0.0104\n",
    "📘 Epoch 274/1000 - Train Loss: 0.0111\n",
    "📘 Epoch 275/1000 - Train Loss: 0.0104\n",
    "📘 Epoch 276/1000 - Train Loss: 0.0099\n",
    "📘 Epoch 277/1000 - Train Loss: 0.0099\n",
    "📘 Epoch 278/1000 - Train Loss: 0.0106\n",
    "📘 Epoch 279/1000 - Train Loss: 0.0103\n",
    "📘 Epoch 280/1000 - Train Loss: 0.0110\n",
    "✅ Saved checkpoint: checkpoints_baseline/char_transformer_epoch280.pt\n",
    "📘 Epoch 281/1000 - Train Loss: 0.0113\n",
    "📘 Epoch 282/1000 - Train Loss: 0.0104\n",
    "📘 Epoch 283/1000 - Train Loss: 0.0107\n",
    "📘 Epoch 284/1000 - Train Loss: 0.0103\n",
    "📘 Epoch 285/1000 - Train Loss: 0.0102\n",
    "📘 Epoch 286/1000 - Train Loss: 0.0115\n",
    "📘 Epoch 287/1000 - Train Loss: 0.0104\n",
    "📘 Epoch 288/1000 - Train Loss: 0.0101\n",
    "📘 Epoch 289/1000 - Train Loss: 0.0098\n",
    "📘 Epoch 290/1000 - Train Loss: 0.0098\n",
    "✅ Saved checkpoint: checkpoints_baseline/char_transformer_epoch290.pt\n",
    "📘 Epoch 291/1000 - Train Loss: 0.0109\n",
    "📘 Epoch 292/1000 - Train Loss: 0.0096\n",
    "📘 Epoch 293/1000 - Train Loss: 0.0111\n",
    "📘 Epoch 294/1000 - Train Loss: 0.0100\n",
    "📘 Epoch 295/1000 - Train Loss: 0.0101\n",
    "📘 Epoch 296/1000 - Train Loss: 0.0105\n",
    "📘 Epoch 297/1000 - Train Loss: 0.0097\n",
    "📘 Epoch 298/1000 - Train Loss: 0.0106\n",
    "📘 Epoch 299/1000 - Train Loss: 0.0103\n",
    "📘 Epoch 300/1000 - Train Loss: 0.0095\n",
    "✅ Saved checkpoint: checkpoints_baseline/char_transformer_epoch300.pt\n",
    "📘 Epoch 301/1000 - Train Loss: 0.0092\n",
    "📘 Epoch 302/1000 - Train Loss: 0.0096\n",
    "📘 Epoch 303/1000 - Train Loss: 0.0107\n",
    "📘 Epoch 304/1000 - Train Loss: 0.0097\n",
    "📘 Epoch 305/1000 - Train Loss: 0.0096\n",
    "📘 Epoch 306/1000 - Train Loss: 0.0102\n",
    "📘 Epoch 307/1000 - Train Loss: 0.0101\n",
    "📘 Epoch 308/1000 - Train Loss: 0.0095\n",
    "📘 Epoch 309/1000 - Train Loss: 0.0106\n",
    "📘 Epoch 310/1000 - Train Loss: 0.0098\n",
    "✅ Saved checkpoint: checkpoints_baseline/char_transformer_epoch310.pt\n",
    "📘 Epoch 311/1000 - Train Loss: 0.0088\n",
    "📘 Epoch 312/1000 - Train Loss: 0.0098\n",
    "📘 Epoch 313/1000 - Train Loss: 0.0093\n",
    "📘 Epoch 314/1000 - Train Loss: 0.0101\n",
    "📘 Epoch 315/1000 - Train Loss: 0.0096\n",
    "📘 Epoch 316/1000 - Train Loss: 0.0087\n",
    "📘 Epoch 317/1000 - Train Loss: 0.0093\n",
    "📘 Epoch 318/1000 - Train Loss: 0.0098\n",
    "📘 Epoch 319/1000 - Train Loss: 0.0088\n",
    "📘 Epoch 320/1000 - Train Loss: 0.0095\n",
    "✅ Saved checkpoint: checkpoints_baseline/char_transformer_epoch320.pt\n",
    "📘 Epoch 321/1000 - Train Loss: 0.0090\n",
    "📘 Epoch 322/1000 - Train Loss: 0.0092\n",
    "📘 Epoch 323/1000 - Train Loss: 0.0096\n",
    "📘 Epoch 324/1000 - Train Loss: 0.0089\n",
    "📘 Epoch 325/1000 - Train Loss: 0.0093\n",
    "📘 Epoch 326/1000 - Train Loss: 0.0106\n",
    "📘 Epoch 327/1000 - Train Loss: 0.0091\n",
    "📘 Epoch 328/1000 - Train Loss: 0.0086\n",
    "📘 Epoch 329/1000 - Train Loss: 0.0102\n",
    "📘 Epoch 330/1000 - Train Loss: 0.0089\n",
    "✅ Saved checkpoint: checkpoints_baseline/char_transformer_epoch330.pt\n",
    "📘 Epoch 331/1000 - Train Loss: 0.0093\n",
    "📘 Epoch 332/1000 - Train Loss: 0.0091\n",
    "📘 Epoch 333/1000 - Train Loss: 0.0086\n",
    "📘 Epoch 334/1000 - Train Loss: 0.0087\n",
    "📘 Epoch 335/1000 - Train Loss: 0.0087\n",
    "📘 Epoch 336/1000 - Train Loss: 0.0091\n",
    "📘 Epoch 337/1000 - Train Loss: 0.0095\n",
    "📘 Epoch 338/1000 - Train Loss: 0.0095\n",
    "📘 Epoch 339/1000 - Train Loss: 0.0089\n",
    "📘 Epoch 340/1000 - Train Loss: 0.0091\n",
    "✅ Saved checkpoint: checkpoints_baseline/char_transformer_epoch340.pt\n",
    "📘 Epoch 341/1000 - Train Loss: 0.0085\n",
    "📘 Epoch 342/1000 - Train Loss: 0.0089\n",
    "📘 Epoch 343/1000 - Train Loss: 0.0093\n",
    "📘 Epoch 344/1000 - Train Loss: 0.0083\n",
    "📘 Epoch 345/1000 - Train Loss: 0.0090\n",
    "📘 Epoch 346/1000 - Train Loss: 0.0086\n",
    "📘 Epoch 347/1000 - Train Loss: 0.0086\n",
    "📘 Epoch 348/1000 - Train Loss: 0.0091\n",
    "📘 Epoch 349/1000 - Train Loss: 0.0089\n",
    "📘 Epoch 350/1000 - Train Loss: 0.0090\n",
    "✅ Saved checkpoint: checkpoints_baseline/char_transformer_epoch350.pt\n",
    "📘 Epoch 351/1000 - Train Loss: 0.0088\n",
    "📘 Epoch 352/1000 - Train Loss: 0.0086\n",
    "📘 Epoch 353/1000 - Train Loss: 0.0082\n",
    "📘 Epoch 354/1000 - Train Loss: 0.0098\n",
    "📘 Epoch 355/1000 - Train Loss: 0.0082\n",
    "📘 Epoch 356/1000 - Train Loss: 0.0094\n",
    "📘 Epoch 357/1000 - Train Loss: 0.0085\n",
    "📘 Epoch 358/1000 - Train Loss: 0.0088\n",
    "📘 Epoch 359/1000 - Train Loss: 0.0085\n",
    "📘 Epoch 360/1000 - Train Loss: 0.0080\n",
    "✅ Saved checkpoint: checkpoints_baseline/char_transformer_epoch360.pt\n",
    "📘 Epoch 361/1000 - Train Loss: 0.0097\n",
    "📘 Epoch 362/1000 - Train Loss: 0.0082\n",
    "📘 Epoch 363/1000 - Train Loss: 0.0084\n",
    "📘 Epoch 364/1000 - Train Loss: 0.0091\n",
    "📘 Epoch 365/1000 - Train Loss: 0.0082\n",
    "📘 Epoch 366/1000 - Train Loss: 0.0088\n",
    "📘 Epoch 367/1000 - Train Loss: 0.0082\n",
    "📘 Epoch 368/1000 - Train Loss: 0.0078\n",
    "📘 Epoch 369/1000 - Train Loss: 0.0084\n",
    "📘 Epoch 370/1000 - Train Loss: 0.0089\n",
    "✅ Saved checkpoint: checkpoints_baseline/char_transformer_epoch370.pt\n",
    "📘 Epoch 371/1000 - Train Loss: 0.0080\n",
    "📘 Epoch 372/1000 - Train Loss: 0.0091\n",
    "📘 Epoch 373/1000 - Train Loss: 0.0088\n",
    "📘 Epoch 374/1000 - Train Loss: 0.0084\n",
    "📘 Epoch 375/1000 - Train Loss: 0.0079\n",
    "📘 Epoch 376/1000 - Train Loss: 0.0086\n",
    "📘 Epoch 377/1000 - Train Loss: 0.0076\n",
    "📘 Epoch 378/1000 - Train Loss: 0.0080\n",
    "📘 Epoch 379/1000 - Train Loss: 0.0086\n",
    "📘 Epoch 380/1000 - Train Loss: 0.0074\n",
    "✅ Saved checkpoint: checkpoints_baseline/char_transformer_epoch380.pt\n",
    "📘 Epoch 381/1000 - Train Loss: 0.0078\n",
    "📘 Epoch 382/1000 - Train Loss: 0.0086\n",
    "📘 Epoch 383/1000 - Train Loss: 0.0083\n",
    "📘 Epoch 384/1000 - Train Loss: 0.0079\n",
    "📘 Epoch 385/1000 - Train Loss: 0.0078\n",
    "📘 Epoch 386/1000 - Train Loss: 0.0080\n",
    "📘 Epoch 387/1000 - Train Loss: 0.0078\n",
    "📘 Epoch 388/1000 - Train Loss: 0.0076\n",
    "📘 Epoch 389/1000 - Train Loss: 0.0081\n",
    "📘 Epoch 390/1000 - Train Loss: 0.0084\n",
    "✅ Saved checkpoint: checkpoints_baseline/char_transformer_epoch390.pt\n",
    "📘 Epoch 391/1000 - Train Loss: 0.0081\n",
    "📘 Epoch 392/1000 - Train Loss: 0.0085\n",
    "📘 Epoch 393/1000 - Train Loss: 0.0079\n",
    "📘 Epoch 394/1000 - Train Loss: 0.0078\n",
    "📘 Epoch 395/1000 - Train Loss: 0.0074\n",
    "📘 Epoch 396/1000 - Train Loss: 0.0079\n",
    "📘 Epoch 397/1000 - Train Loss: 0.0074\n",
    "📘 Epoch 398/1000 - Train Loss: 0.0078\n",
    "📘 Epoch 399/1000 - Train Loss: 0.0071\n",
    "📘 Epoch 400/1000 - Train Loss: 0.0074\n",
    "✅ Saved checkpoint: checkpoints_baseline/char_transformer_epoch400.pt\n",
    "📘 Epoch 401/1000 - Train Loss: 0.0073\n",
    "📘 Epoch 402/1000 - Train Loss: 0.0078\n",
    "📘 Epoch 403/1000 - Train Loss: 0.0064\n",
    "📘 Epoch 404/1000 - Train Loss: 0.0070\n",
    "📘 Epoch 405/1000 - Train Loss: 0.0081\n",
    "📘 Epoch 406/1000 - Train Loss: 0.0078\n",
    "📘 Epoch 407/1000 - Train Loss: 0.0077\n",
    "📘 Epoch 408/1000 - Train Loss: 0.0075\n",
    "📘 Epoch 409/1000 - Train Loss: 0.0074\n",
    "📘 Epoch 410/1000 - Train Loss: 0.0071\n",
    "✅ Saved checkpoint: checkpoints_baseline/char_transformer_epoch410.pt\n",
    "📘 Epoch 411/1000 - Train Loss: 0.0071\n",
    "📘 Epoch 412/1000 - Train Loss: 0.0073\n",
    "📘 Epoch 413/1000 - Train Loss: 0.0079\n",
    "📘 Epoch 414/1000 - Train Loss: 0.0074\n",
    "📘 Epoch 415/1000 - Train Loss: 0.0063\n",
    "📘 Epoch 416/1000 - Train Loss: 0.0080\n",
    "📘 Epoch 417/1000 - Train Loss: 0.0066\n",
    "📘 Epoch 418/1000 - Train Loss: 0.0072\n",
    "📘 Epoch 419/1000 - Train Loss: 0.0069\n",
    "📘 Epoch 420/1000 - Train Loss: 0.0072\n",
    "✅ Saved checkpoint: checkpoints_baseline/char_transformer_epoch420.pt\n",
    "📘 Epoch 421/1000 - Train Loss: 0.0072\n",
    "📘 Epoch 422/1000 - Train Loss: 0.0069\n",
    "📘 Epoch 423/1000 - Train Loss: 0.0069\n",
    "📘 Epoch 424/1000 - Train Loss: 0.0067\n",
    "📘 Epoch 425/1000 - Train Loss: 0.0068\n",
    "📘 Epoch 426/1000 - Train Loss: 0.0069\n",
    "📘 Epoch 427/1000 - Train Loss: 0.0068\n",
    "📘 Epoch 428/1000 - Train Loss: 0.0067\n",
    "📘 Epoch 429/1000 - Train Loss: 0.0071\n",
    "📘 Epoch 430/1000 - Train Loss: 0.0068\n",
    "✅ Saved checkpoint: checkpoints_baseline/char_transformer_epoch430.pt\n",
    "📘 Epoch 431/1000 - Train Loss: 0.0066\n",
    "📘 Epoch 432/1000 - Train Loss: 0.0069\n",
    "📘 Epoch 433/1000 - Train Loss: 0.0064\n",
    "📘 Epoch 434/1000 - Train Loss: 0.0065\n",
    "📘 Epoch 435/1000 - Train Loss: 0.0067\n",
    "📘 Epoch 436/1000 - Train Loss: 0.0067\n",
    "📘 Epoch 437/1000 - Train Loss: 0.0064\n",
    "📘 Epoch 438/1000 - Train Loss: 0.0070\n",
    "📘 Epoch 439/1000 - Train Loss: 0.0063\n",
    "📘 Epoch 440/1000 - Train Loss: 0.0056\n",
    "✅ Saved checkpoint: checkpoints_baseline/char_transformer_epoch440.pt\n",
    "📘 Epoch 441/1000 - Train Loss: 0.0063\n",
    "📘 Epoch 442/1000 - Train Loss: 0.0071\n",
    "📘 Epoch 443/1000 - Train Loss: 0.0062\n",
    "📘 Epoch 444/1000 - Train Loss: 0.0061\n",
    "📘 Epoch 445/1000 - Train Loss: 0.0070\n",
    "📘 Epoch 446/1000 - Train Loss: 0.0064\n",
    "📘 Epoch 447/1000 - Train Loss: 0.0062\n",
    "📘 Epoch 448/1000 - Train Loss: 0.0066\n",
    "📘 Epoch 449/1000 - Train Loss: 0.0060\n",
    "📘 Epoch 450/1000 - Train Loss: 0.0067\n",
    "✅ Saved checkpoint: checkpoints_baseline/char_transformer_epoch450.pt\n",
    "📘 Epoch 451/1000 - Train Loss: 0.0063\n",
    "📘 Epoch 452/1000 - Train Loss: 0.0062\n",
    "📘 Epoch 453/1000 - Train Loss: 0.0067\n",
    "📘 Epoch 454/1000 - Train Loss: 0.0062\n",
    "📘 Epoch 455/1000 - Train Loss: 0.0059\n",
    "📘 Epoch 456/1000 - Train Loss: 0.0069\n",
    "📘 Epoch 457/1000 - Train Loss: 0.0068\n",
    "📘 Epoch 458/1000 - Train Loss: 0.0059\n",
    "📘 Epoch 459/1000 - Train Loss: 0.0059\n",
    "📘 Epoch 460/1000 - Train Loss: 0.0062\n",
    "✅ Saved checkpoint: checkpoints_baseline/char_transformer_epoch460.pt\n",
    "📘 Epoch 461/1000 - Train Loss: 0.0062\n",
    "📘 Epoch 462/1000 - Train Loss: 0.0060\n",
    "📘 Epoch 463/1000 - Train Loss: 0.0063\n",
    "📘 Epoch 464/1000 - Train Loss: 0.0065\n",
    "📘 Epoch 465/1000 - Train Loss: 0.0057\n",
    "📘 Epoch 466/1000 - Train Loss: 0.0060\n",
    "📘 Epoch 467/1000 - Train Loss: 0.0061\n",
    "📘 Epoch 468/1000 - Train Loss: 0.0061\n",
    "📘 Epoch 469/1000 - Train Loss: 0.0060\n",
    "📘 Epoch 470/1000 - Train Loss: 0.0057\n",
    "✅ Saved checkpoint: checkpoints_baseline/char_transformer_epoch470.pt\n",
    "📘 Epoch 471/1000 - Train Loss: 0.0061\n",
    "📘 Epoch 472/1000 - Train Loss: 0.0063\n",
    "📘 Epoch 473/1000 - Train Loss: 0.0052\n",
    "📘 Epoch 474/1000 - Train Loss: 0.0062\n",
    "📘 Epoch 475/1000 - Train Loss: 0.0063"
   ]
  },
  {
   "cell_type": "markdown",
   "id": "f3340b2c",
   "metadata": {},
   "source": [
    "## Test set prediction\n",
    "\n",
    "1. encode_text() and decode_text() are the same functions you used for your baseline dataset.\n",
    "2. SOS_IDX and EOS_IDX should be your special token indices (start/end).\n",
    "3. This uses greedy decoding only. No beam search or sampling needed.\n",
    "4. You can now submit predictions_normal.csv for evaluation."
   ]
  },
  {
   "cell_type": "markdown",
   "id": "be87cf1b",
   "metadata": {},
   "source": [
    "Load Model and Define Helpers"
   ]
  },
  {
   "cell_type": "code",
   "execution_count": null,
   "id": "33545510",
   "metadata": {},
   "outputs": [
    {
     "name": "stdout",
     "output_type": "stream",
     "text": [
      "Input:  Enjoy your day having extreme fun!\n",
      "Prediction: !nuf emertxe gnivah yad ruoy yojn\n"
     ]
    }
   ],
   "source": [
    "import torch\n",
    "\n",
    "# Force CPU\n",
    "device = torch.device(\"cpu\")\n",
    "\n",
    "# Load checkpoint on CPU\n",
    "checkpoint_path = \"checkpoints_baseline/char_transformer_epoch500.pt\"\n",
    "baseline_model.load_state_dict(torch.load(checkpoint_path, map_location=device)[\"model_state\"])\n",
    "baseline_model.to(device)\n",
    "baseline_model.eval()\n",
    "\n",
    "# Vocabulary\n",
    "vocab = {c:i+3 for i,c in enumerate([chr(i) for i in range(32,127)])}\n",
    "inv_vocab = {i:c for c,i in vocab.items()}\n",
    "PAD_IDX, SOS_IDX, EOS_IDX = 0, 1, 2\n",
    "\n",
    "def encode_text(text):\n",
    "    return [SOS_IDX] + [vocab[c] for c in text] + [EOS_IDX]\n",
    "\n",
    "def decode_text(ids):\n",
    "    return \"\".join([inv_vocab[i] for i in ids if i > 2])\n",
    "\n",
    "# Autoregressive prediction\n",
    "def generate_single_char_model(text, model, max_len=128):\n",
    "    model.eval()\n",
    "    with torch.no_grad():\n",
    "        input_ids = torch.tensor([encode_text(text)], dtype=torch.long, device=device)\n",
    "        output_ids = [SOS_IDX]\n",
    "\n",
    "        for t in range(max_len):\n",
    "            tgt_ids = torch.tensor([output_ids], dtype=torch.long, device=device)\n",
    "            logits = model(input_ids, tgt_ids)\n",
    "            next_id = logits[0, -1].argmax().item()\n",
    "            output_ids.append(next_id)\n",
    "            if next_id == EOS_IDX:\n",
    "                break\n",
    "\n",
    "        return decode_text(output_ids[1:])\n",
    "\n",
    "# Example\n",
    "sample_text = \"Enjoy your day having extreme fun!\"\n",
    "prediction = generate_single_char_model(sample_text, baseline_model)\n",
    "print(\"Input: \", sample_text)\n",
    "print(\"Prediction:\", prediction)"
   ]
  },
  {
   "cell_type": "markdown",
   "id": "0d93602b",
   "metadata": {},
   "source": [
    "Inference Testing (Single, Interactive Example)"
   ]
  },
  {
   "cell_type": "code",
   "execution_count": null,
   "id": "e681ae92",
   "metadata": {},
   "outputs": [
    {
     "name": "stdout",
     "output_type": "stream",
     "text": [
      "✅ Using MPS for inference\n",
      "✅ Model loaded and set to evaluation mode.\n"
     ]
    }
   ],
   "source": [
    "import torch\n",
    "import torch.nn as nn\n",
    "import pandas as pd\n",
    "import math\n",
    "\n",
    "# --- 1. Setup ---\n",
    "\n",
    "# Define constants to match the training environment\n",
    "PAD_IDX, SOS_IDX, EOS_IDX = 0, 1, 2\n",
    "VOCAB_SIZE = 95  # FIX: Hardcode the vocab size from the trained model\n",
    "MAX_LEN = 128    # Define a max generation length\n",
    "\n",
    "# --- Vocabulary and Helper Functions ---\n",
    "# Re-create the exact vocabulary used during training\n",
    "chars = [chr(i) for i in range(32, 127)]\n",
    "_vocab = {c: i + 3 for i, c in enumerate(chars)}\n",
    "INV_VOCAB = {i: c for c, i in _vocab.items()}\n",
    "\n",
    "def encode_text(text, add_special=True):\n",
    "    # FIX: Use the full version of the function that accepts 'add_special'\n",
    "    ids = [_vocab.get(ch, -1) for ch in text if ch in _vocab]\n",
    "    if add_special:\n",
    "        ids = [SOS_IDX] + ids + [EOS_IDX]\n",
    "    return torch.tensor(ids, dtype=torch.long)\n",
    "\n",
    "def decode_ids(ids):\n",
    "    \"\"\"Decodes a list of token IDs back to a string.\"\"\"\n",
    "    return \"\".join([INV_VOCAB.get(i, '') for i in ids if i not in {PAD_IDX, SOS_IDX, EOS_IDX}])\n",
    "\n",
    "# --- Device and Model Loading ---\n",
    "if torch.backends.mps.is_available():\n",
    "    device = torch.device(\"mps\")\n",
    "    print(\"✅ Using MPS for inference\")\n",
    "else:\n",
    "    device = torch.device(\"cpu\")\n",
    "    print(\"⚠️ MPS not available, using CPU for inference\")\n",
    "\n",
    "# Instantiate your model architecture with the CORRECT vocab_size\n",
    "baseline_model = CharTransformer(vocab_size=VOCAB_SIZE, d_model=64, nhead=4, num_layers=2).to(device)\n",
    "\n",
    "# Load the saved weights\n",
    "checkpoint_path = \"checkpoints_baseline/char_transformer_epoch500.pt\"\n",
    "checkpoint = torch.load(checkpoint_path, map_location=device)\n",
    "baseline_model.load_state_dict(checkpoint[\"model_state\"])\n",
    "\n",
    "# Set the model to evaluation mode\n",
    "baseline_model.eval()\n",
    "print(\"✅ Model loaded and set to evaluation mode.\")"
   ]
  },
  {
   "cell_type": "code",
   "execution_count": null,
   "id": "3dac867b",
   "metadata": {},
   "outputs": [
    {
     "name": "stdout",
     "output_type": "stream",
     "text": [
      "\n",
      "🔍 Generating predictions on the test set...\n",
      "✅ Predictions generated. Here are the first 10 examples:\n",
      "                                                                                                             input                                                                                                     ground_truth                                                                                                             prediction\n",
      "0                                                        intimidated campaigns emerging marines spin bel cleansing                                                        gnisnaelc leb nips seniram gnigreme sngiapmac detadimitni      gnisnaelc leb nips seniram gnigreme sngiapmac detadimitni snaelc leb nips seniram gnignigreme sngiapmac detimitni\n",
      "1                                                                          salary lebanese wifi fury fab sta polly                                                                          yllop ats baf yruf ifiw esenabel yralas                   yllop ats baf yruf ifiw esenabel yralaso oodao ood llop ats baf yruf ififiw esenabel yralasoo ood oo\n",
      "2                                                               financing ahmed sexual cinematic puff malibu peach                                                               hcaep ubilam ffup citamenic lauxes demha gnicnanif              hcaep ubilam ffup citamenic lauxes demha gnicnanif oc caep ubilam ffupup citamenic lauxes demha gnicnanif\n",
      "3  n00 nickel disparity funded tutorials constrained bk 8 cellar wen advocacy surpass digitally discredit earliest  tseilrae tidercsid yllatigid ssaprus ycacovda new rallec 8 kb deniartsnoc slairotut dednuf ytirapsid lekcin 00n  tseilrae tidercsid yllatigid ssaprus ycacovda new rallec 8 kb deniartsnoc slairotut dednuf ytirapsid lekcin 00nlec 8 \n",
      "4                                          unveiled alliance cleric skinned illness permission destroyed stationed                                          denoitats deyortsed noissimrep ssenlli denniks cirelc ecnailla delievnu     denoitats deyortsed noissimrep ssenlli denniks cirelc ecnailla delievnuort noississimrep ssenlli denniks cirelc ec\n",
      "5                                                         input openings thinks sierra stimulate sheikh habit dull                                                         llud tibah hkiehs etalumits arreis skniht sgninepo tupni       llud tibah hkiehs etalumits arreis skniht sgninepo tupni lud tibah hkiehs etalumits arreis skniht sgninepo tupni\n",
      "6                                                       reforms lamps from hockey evening clones beyonce artillery                                                       yrellitra ecnoyeb senolc gnineve yekcoh morf spmal smrofer      yrellitra ecnoyeb senolc gnineve yekcoh morf spmal smroferrlitra ecnoyeb senolc gninineve yekcoh morf spmal smrof\n",
      "7                             ra hungary flush plush sorts spouse bananas defender protests lesser alexandra canal                             lanac ardnaxela ressel stsetorp rednefed sananab esuops stros hsulp hsulf yragnuh ar  lanac ardnaxela ressel stsetorp rednefed sananab esuops stros hsulp hsulf yragnuh artsetorp rednefed sananab esuops s\n",
      "8                                                                           worcester visitation rotary constantly                                                                           yltnatsnoc yrator noitatisiv retsecrow                     yltnatsnoc yrator noitatisiv retsecrowo ood oo aodoltnatsnoc yrator noitatatisiv retsecrowoo oo oo\n",
      "9                      neck m1 prescribe demands ev commanders s00 compensation inventions amc ranged faster nobel                      lebon retsaf degnar cma snoitnevni noitasnepmoc 00s srednammoc ve sdnamed ebircserp 1m kcen  lebon retsaf degnar cma snoitnevni noitasnepmoc 00s srednammoc ve sdnamed ebircserp 1m kcen onoitasnepmoc 000s sredna\n"
     ]
    }
   ],
   "source": [
    "# --- 2. Test Set Prediction ---\n",
    "\n",
    "@torch.no_grad()\n",
    "def predict_on_test_set(model, data_loader, device):\n",
    "    \"\"\"Generates predictions for an entire test set and returns a DataFrame.\"\"\"\n",
    "    model.eval()\n",
    "    results = []\n",
    "    \n",
    "    # FIX: Make the loop more robust by iterating over 'batch'\n",
    "    for batch in data_loader:\n",
    "        src_padded = batch[0].to(device)\n",
    "        tgt_padded = batch[2] # For ground truth comparison\n",
    "\n",
    "        tgt_inp = torch.full((src_padded.size(0), 1), SOS_IDX, dtype=torch.long, device=device)\n",
    "\n",
    "        for _ in range(MAX_LEN):\n",
    "            logits = model(src_padded, tgt_inp)\n",
    "            next_token = logits[:, -1, :].argmax(dim=-1).unsqueeze(1)\n",
    "            tgt_inp = torch.cat([tgt_inp, next_token], dim=1)\n",
    "            if (tgt_inp == EOS_IDX).any(dim=1).all():\n",
    "                break\n",
    "\n",
    "        source_texts = [decode_ids(s.tolist()) for s in src_padded]\n",
    "        target_texts = [decode_ids(t.tolist()) for t in tgt_padded]\n",
    "        predicted_texts = [decode_ids(p.tolist()) for p in tgt_inp]\n",
    "        \n",
    "        for i in range(len(source_texts)):\n",
    "            results.append({\n",
    "                \"input\": source_texts[i],\n",
    "                \"ground_truth\": target_texts[i],\n",
    "                \"prediction\": predicted_texts[i]\n",
    "            })\n",
    "\n",
    "    return pd.DataFrame(results)\n",
    "\n",
    "print(\"\\n🔍 Generating predictions on the test set...\")\n",
    "predictions_df = predict_on_test_set(baseline_model, test_loader, device)\n",
    "print(\"✅ Predictions generated. Here are the first 10 examples:\")\n",
    "print(predictions_df.head(10).to_string())"
   ]
  },
  {
   "cell_type": "code",
   "execution_count": null,
   "id": "f338787b",
   "metadata": {},
   "outputs": [
    {
     "name": "stdout",
     "output_type": "stream",
     "text": [
      "\n",
      "🤖 Running interactive inference tests...\n"
     ]
    },
    {
     "name": "stderr",
     "output_type": "stream",
     "text": [
      "/Library/Frameworks/Python.framework/Versions/3.13/lib/python3.13/site-packages/torch/nn/functional.py:6041: UserWarning: Support for mismatched key_padding_mask and attn_mask is deprecated. Use same type for both instead.\n",
      "  warnings.warn(\n"
     ]
    },
    {
     "name": "stdout",
     "output_type": "stream",
     "text": [
      "\n",
      "Input:      'hello world'\n",
      "Prediction: 'dlrow olleh'\n",
      "\n",
      "Input:      'PyTorch is great for building transformers.'\n",
      "Prediction: '.sremrofsnart gnidliub rof taerg si hcroyy'\n"
     ]
    }
   ],
   "source": [
    "# --- 3. Inference Testing ---\n",
    "\n",
    "def generate_prediction(input_text, model, device):\n",
    "    \"\"\"Generates a prediction for a single input string.\"\"\"\n",
    "    model.eval()\n",
    "    with torch.no_grad():\n",
    "        # This function now works because encode_text is defined correctly above\n",
    "        src_tensor = encode_text(input_text, add_special=True).unsqueeze(0).to(device)\n",
    "        output_ids = [SOS_IDX]\n",
    "\n",
    "        for _ in range(MAX_LEN):\n",
    "            tgt_tensor = torch.tensor(output_ids, dtype=torch.long, device=device).unsqueeze(0)\n",
    "            logits = model(src_tensor, tgt_tensor)\n",
    "            next_id = logits[0, -1].argmax().item()\n",
    "            output_ids.append(next_id)\n",
    "            if next_id == EOS_IDX:\n",
    "                break\n",
    "        \n",
    "        return decode_ids(output_ids)\n",
    "\n",
    "print(\"\\n🤖 Running interactive inference tests...\")\n",
    "\n",
    "sample1 = \"hello world\"\n",
    "pred1 = generate_prediction(sample1, baseline_model, device)\n",
    "print(f\"\\nInput:      '{sample1}'\")\n",
    "print(f\"Prediction: '{pred1}'\")\n",
    "\n",
    "sample2 = \"PyTorch is great for building transformers.\"\n",
    "pred2 = generate_prediction(sample2, baseline_model, device)\n",
    "print(f\"\\nInput:      '{sample2}'\")\n",
    "print(f\"Prediction: '{pred2}'\")"
   ]
  },
  {
   "cell_type": "markdown",
   "id": "08a3b2b1",
   "metadata": {},
   "source": [
    "## Saving predictions"
   ]
  },
  {
   "cell_type": "code",
   "execution_count": null,
   "id": "bd68b221",
   "metadata": {},
   "outputs": [
    {
     "name": "stderr",
     "output_type": "stream",
     "text": [
      "/Library/Frameworks/Python.framework/Versions/3.13/lib/python3.13/site-packages/tqdm/auto.py:21: TqdmWarning: IProgress not found. Please update jupyter and ipywidgets. See https://ipywidgets.readthedocs.io/en/stable/user_install.html\n",
      "  from .autonotebook import tqdm as notebook_tqdm\n"
     ]
    },
    {
     "name": "stdout",
     "output_type": "stream",
     "text": [
      "✅ Using mps for inference\n",
      "✅ Model loaded successfully.\n",
      "\n",
      "Reading data from ./../data/test.csv...\n",
      "Generating predictions for each row...\n"
     ]
    },
    {
     "name": "stderr",
     "output_type": "stream",
     "text": [
      "➡️ Processing rows:   0%|          | 0/2000 [00:00<?, ?it/s]/Library/Frameworks/Python.framework/Versions/3.13/lib/python3.13/site-packages/torch/nn/functional.py:6041: UserWarning: Support for mismatched key_padding_mask and attn_mask is deprecated. Use same type for both instead.\n",
      "  warnings.warn(\n",
      "➡️ Processing rows: 100%|██████████| 2000/2000 [15:35<00:00,  2.14it/s]\n"
     ]
    },
    {
     "name": "stdout",
     "output_type": "stream",
     "text": [
      "\n",
      "🎉 Success! Predictions saved to: ./predictions/test_predictions.csv\n",
      "\n",
      "Here's a preview of the final data:\n",
      "                                                                                                             input                                                                                                           target                                                                                                      predictions\n",
      "0                                                        intimidated campaigns emerging marines spin bel cleansing                                                        gnisnaelc leb nips seniram gnigreme sngiapmac detadimitni                                                        gnisnaelc leb nips seniram gnigreme sngiapmac detadimitni\n",
      "1                                                                          salary lebanese wifi fury fab sta polly                                                                          yllop ats baf yruf ifiw esenabel yralas                                                                          yllop ats baf yruf ifiw esenabel yralas\n",
      "2                                                               financing ahmed sexual cinematic puff malibu peach                                                               hcaep ubilam ffup citamenic lauxes demha gnicnanif                                                               hcaep ubilam ffup citamenic lauxes demha gnicnanif\n",
      "3  n00 nickel disparity funded tutorials constrained bk 8 cellar wen advocacy surpass digitally discredit earliest  tseilrae tidercsid yllatigid ssaprus ycacovda new rallec 8 kb deniartsnoc slairotut dednuf ytirapsid lekcin 00n  tseilrae tidercsid yllatigid ssaprus ycacovda new rallec 8 kb deniartsnoc slairotut dednuf ytirapsid lekcin 00n\n",
      "4                                          unveiled alliance cleric skinned illness permission destroyed stationed                                          denoitats deyortsed noissimrep ssenlli denniks cirelc ecnailla delievnu                                          denoitats deyortsed noissimrep ssenlli denniks cirelc ecnailla delievnu\n"
     ]
    }
   ],
   "source": [
    "import torch\n",
    "import pandas as pd\n",
    "import os\n",
    "from tqdm.auto import tqdm\n",
    "\n",
    "# --- 1. Setup (Model, Constants, and Helpers) ---\n",
    "# Ensure this setup matches the environment you used for training and previous testing.\n",
    "\n",
    "# Define constants\n",
    "PAD_IDX, SOS_IDX, EOS_IDX = 0, 1, 2\n",
    "VOCAB_SIZE = 95\n",
    "MAX_LEN = 128\n",
    "\n",
    "# Vocabulary and Helper Functions\n",
    "chars = [chr(i) for i in range(32, 127)]\n",
    "_vocab = {c: i + 3 for i, c in enumerate(chars)}\n",
    "INV_VOCAB = {i: c for c, i in _vocab.items()}\n",
    "\n",
    "def encode_text(text, add_special=True):\n",
    "    ids = [_vocab.get(ch, -1) for ch in text if ch in _vocab]\n",
    "    if add_special:\n",
    "        ids = [SOS_IDX] + ids + [EOS_IDX]\n",
    "    return torch.tensor(ids, dtype=torch.long)\n",
    "\n",
    "def decode_ids(ids):\n",
    "    return \"\".join([INV_VOCAB.get(i, '') for i in ids if i not in {PAD_IDX, SOS_IDX, EOS_IDX}])\n",
    "\n",
    "# Device and Model Loading\n",
    "if torch.backends.mps.is_available():\n",
    "    device = torch.device(\"mps\")\n",
    "else:\n",
    "    device = torch.device(\"cpu\")\n",
    "print(f\"✅ Using {device} for inference\")\n",
    "\n",
    "# Instantiate your model architecture\n",
    "# This needs the CharTransformer class definition from your original script\n",
    "baseline_model = CharTransformer(vocab_size=VOCAB_SIZE, d_model=64, nhead=4, num_layers=2).to(device)\n",
    "\n",
    "# Load the saved weights\n",
    "checkpoint_path = \"checkpoints_baseline/char_transformer_epoch500.pt\"\n",
    "checkpoint = torch.load(checkpoint_path, map_location=device)\n",
    "baseline_model.load_state_dict(checkpoint[\"model_state\"])\n",
    "baseline_model.eval()\n",
    "print(\"✅ Model loaded successfully.\")\n",
    "\n",
    "\n",
    "# --- 2. Single Prediction Function ---\n",
    "\n",
    "def generate_prediction(input_text, model, device):\n",
    "    \"\"\"Generates a prediction for a single input string.\"\"\"\n",
    "    model.eval()\n",
    "    with torch.no_grad():\n",
    "        src_tensor = encode_text(input_text, add_special=True).unsqueeze(0).to(device)\n",
    "        output_ids = [SOS_IDX]\n",
    "\n",
    "        for _ in range(MAX_LEN):\n",
    "            tgt_tensor = torch.tensor(output_ids, dtype=torch.long, device=device).unsqueeze(0)\n",
    "            logits = model(src_tensor, tgt_tensor)\n",
    "            next_id = logits[0, -1].argmax().item()\n",
    "            output_ids.append(next_id)\n",
    "            if next_id == EOS_IDX:\n",
    "                break\n",
    "        \n",
    "        return decode_ids(output_ids)\n",
    "\n",
    "\n",
    "# --- 3. Main Script to Process CSV ---\n",
    "\n",
    "# Define file paths\n",
    "input_csv_path = \"./../data/test.csv\"\n",
    "output_dir = \"./predictions\"\n",
    "output_csv_path = os.path.join(output_dir, \"test_predictions.csv\")\n",
    "\n",
    "# Create the output directory if it doesn't exist\n",
    "os.makedirs(output_dir, exist_ok=True)\n",
    "\n",
    "# Load the test data\n",
    "print(f\"\\nReading data from {input_csv_path}...\")\n",
    "df = pd.read_csv(input_csv_path)\n",
    "\n",
    "# Initialize a list to store predictions\n",
    "predictions_list = []\n",
    "\n",
    "print(\"Generating predictions for each row...\")\n",
    "# Use tqdm to create a progress bar\n",
    "for input_text in tqdm(df['input'], desc=\"➡️ Processing rows\"):\n",
    "    # Generate a prediction for the current input text\n",
    "    prediction = generate_prediction(input_text, baseline_model, device)\n",
    "    # Add the prediction to our list\n",
    "    predictions_list.append(prediction)\n",
    "\n",
    "# Add the list of predictions as a new column in the DataFrame\n",
    "df['predictions'] = predictions_list\n",
    "\n",
    "# Save the updated DataFrame to a new CSV file\n",
    "df.to_csv(output_csv_path, index=False)\n",
    "\n",
    "print(f\"\\n🎉 Success! Predictions saved to: {output_csv_path}\")\n",
    "print(\"\\nHere's a preview of the final data:\")\n",
    "print(df.head().to_string())"
   ]
  },
  {
   "cell_type": "markdown",
   "id": "4c228213",
   "metadata": {},
   "source": [
    "# Evaluation & Predictions"
   ]
  },
  {
   "cell_type": "markdown",
   "id": "18880acd",
   "metadata": {},
   "source": [
    "##  Metrics evaluation script for both BLT and baseline models\n",
    "\n",
    "1.\tToken-level accuracy\n",
    "2.\tAverage sequence length (input tokens vs predicted tokens)"
   ]
  },
  {
   "cell_type": "code",
   "execution_count": null,
   "id": "f63fdda5",
   "metadata": {},
   "outputs": [],
   "source": [
    "import pandas as pd\n",
    "\n",
    "def evaluate_predictions(pred_csv_path, original_csv_path):\n",
    "    # Load predictions\n",
    "    df_pred = pd.read_csv(pred_csv_path)\n",
    "    df_orig = pd.read_csv(original_csv_path)\n",
    "\n",
    "    total_tokens = 0\n",
    "    correct_tokens = 0\n",
    "    total_input_len = 0\n",
    "    total_output_len = 0\n",
    "\n",
    "    for idx in range(len(df_pred)):\n",
    "        pred = str(df_pred.loc[idx, \"prediction\"])\n",
    "        target = str(df_orig.loc[idx, \"target\"])\n",
    "        input_str = str(df_orig.loc[idx, \"input\"])\n",
    "\n",
    "        # Token-level comparison\n",
    "        min_len = min(len(pred), len(target))\n",
    "        correct_tokens += sum([pred[i] == target[i] for i in range(min_len)])\n",
    "        total_tokens += len(target)\n",
    "\n",
    "        # Sequence length stats\n",
    "        total_input_len += len(input_str)\n",
    "        total_output_len += len(pred)\n",
    "\n",
    "    token_accuracy = 100.0 * correct_tokens / total_tokens\n",
    "    avg_input_len = total_input_len / len(df_pred)\n",
    "    avg_output_len = total_output_len / len(df_pred)\n",
    "\n",
    "    print(f\"✅ Evaluation for {pred_csv_path}\")\n",
    "    print(f\"Token-level Accuracy: {token_accuracy:.2f}%\")\n",
    "    print(f\"Average input length: {avg_input_len:.2f} chars\")\n",
    "    print(f\"Average predicted length: {avg_output_len:.2f} chars\")\n",
    "    print(\"-\" * 50)\n",
    "    return token_accuracy, avg_input_len, avg_output_len\n",
    "\n",
    "\n",
    "# --- Evaluate BLT predictions ---\n",
    "blt_acc, blt_in_len, blt_out_len = evaluate_predictions(\n",
    "    \"./prediction/blt_predictions.csv\", \"./../data/test.csv\"\n",
    ")\n",
    "\n",
    "# --- Evaluate Baseline predictions ---\n",
    "baseline_acc, base_in_len, base_out_len = evaluate_predictions(\n",
    "    \"./prediction/predictions_baseline.csv\", \"./../data/test.csv\"\n",
    ")\n",
    "\n",
    "# --- Comparison Summary ---\n",
    "print(\"📊 Comparison Summary:\")\n",
    "print(f\"BLT      | Acc: {blt_acc:.2f}%, Avg Input: {blt_in_len:.2f}, Avg Pred: {blt_out_len:.2f}\")\n",
    "print(f\"Baseline | Acc: {baseline_acc:.2f}%, Avg Input: {base_in_len:.2f}, Avg Pred: {base_out_len:.2f}\")"
   ]
  },
  {
   "cell_type": "code",
   "execution_count": null,
   "id": "f77c6da7",
   "metadata": {},
   "outputs": [],
   "source": []
  }
 ],
 "metadata": {
  "kernelspec": {
   "display_name": "Python 3",
   "language": "python",
   "name": "python3"
  },
  "language_info": {
   "codemirror_mode": {
    "name": "ipython",
    "version": 3
   },
   "file_extension": ".py",
   "mimetype": "text/x-python",
   "name": "python",
   "nbconvert_exporter": "python",
   "pygments_lexer": "ipython3",
   "version": "3.13.7"
  }
 },
 "nbformat": 4,
 "nbformat_minor": 5
}
