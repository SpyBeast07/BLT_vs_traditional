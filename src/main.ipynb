{
 "cells": [
  {
   "cell_type": "markdown",
   "id": "853f066c",
   "metadata": {},
   "source": [
    "# Data"
   ]
  },
  {
   "cell_type": "code",
<<<<<<< HEAD
   "execution_count": 1,
=======
   "execution_count": 34,
>>>>>>> c1ccc8e3419992dcb4235f4691fac236ac104211
   "id": "6894c401",
   "metadata": {},
   "outputs": [
    {
     "name": "stdout",
     "output_type": "stream",
     "text": [
      "Train shape: (10000, 2)\n",
      "Test shape: (2000, 2)\n",
      "\n",
      "Train head:\n",
      "                                               input  \\\n",
      "0               reconciliation trolls realized scene   \n",
      "1                        scratched kemp blah devices   \n",
      "2  delusional engineered perfect prey englishman ...   \n",
      "3  boomers nfl reacts parallels everything 6 redu...   \n",
      "4  patience put christmas superhero luc rake fulf...   \n",
      "\n",
      "                                              target  \n",
      "0               enecs dezilaer sllort noitailicnocer  \n",
      "1                        secived halb pmek dehctarcs  \n",
      "2  hctarcs detsub namhsilgne yerp tcefrep dereeni...  \n",
      "3  stcudnoc ysereh redlof secuder 6 gnihtyreve sl...  \n",
      "4  ylesned ylno elbats latnenitnoc dellifluf ekar...  \n",
      "\n",
      "Test head:\n",
      "                                               input  \\\n",
      "0  intimidated campaigns emerging marines spin be...   \n",
      "1            salary lebanese wifi fury fab sta polly   \n",
      "2  financing ahmed sexual cinematic puff malibu p...   \n",
      "3  n00 nickel disparity funded tutorials constrai...   \n",
      "4  unveiled alliance cleric skinned illness permi...   \n",
      "\n",
      "                                              target  \n",
      "0  gnisnaelc leb nips seniram gnigreme sngiapmac ...  \n",
      "1            yllop ats baf yruf ifiw esenabel yralas  \n",
      "2  hcaep ubilam ffup citamenic lauxes demha gnicn...  \n",
      "3  tseilrae tidercsid yllatigid ssaprus ycacovda ...  \n",
      "4  denoitats deyortsed noissimrep ssenlli denniks...  \n"
     ]
    }
   ],
   "source": [
    "import pandas as pd\n",
    "\n",
    "train_path = \"./../data/train.csv\"\n",
    "test_path = \"./../data/test.csv\"\n",
    "\n",
    "train_df = pd.read_csv(train_path)\n",
    "test_df = pd.read_csv(test_path)\n",
    "\n",
    "print(\"Train shape:\", train_df.shape)\n",
    "print(\"Test shape:\", test_df.shape)\n",
    "\n",
    "print(\"\\nTrain head:\")\n",
    "print(train_df.head())\n",
    "\n",
    "print(\"\\nTest head:\")\n",
    "print(test_df.head())"
   ]
  },
  {
   "cell_type": "markdown",
   "id": "51648900",
   "metadata": {},
   "source": [
    "# BLT Transformer"
   ]
  },
  {
   "cell_type": "code",
<<<<<<< HEAD
   "execution_count": 2,
=======
   "execution_count": 35,
>>>>>>> c1ccc8e3419992dcb4235f4691fac236ac104211
   "id": "5a75530c",
   "metadata": {},
   "outputs": [
    {
     "name": "stdout",
     "output_type": "stream",
     "text": [
      "✅ Using MPS (Apple Silicon GPU)\n"
     ]
    }
   ],
   "source": [
    "import torch\n",
    "\n",
    "if torch.backends.mps.is_available():\n",
    "    device = torch.device(\"mps\")\n",
    "    print(\"✅ Using MPS (Apple Silicon GPU)\")\n",
    "else:\n",
    "    device = torch.device(\"cpu\")\n",
    "    print(\"⚠️ MPS not available, falling back to CPU\")"
   ]
  },
  {
   "cell_type": "markdown",
   "id": "e996c3a4",
   "metadata": {},
   "source": [
    "## Patcher (entropy-based segmentation)"
   ]
  },
  {
   "cell_type": "markdown",
   "id": "19fb0d88",
   "metadata": {},
   "source": [
    "**Shannon Entropy Function**\n",
    "\n",
    "Helper to compute entropy of a sequence of characters.\n",
    "\n",
    "H = - \\sum p(x) \\cdot \\log_2(p(x))"
   ]
  },
  {
   "cell_type": "code",
<<<<<<< HEAD
   "execution_count": 3,
=======
   "execution_count": 36,
>>>>>>> c1ccc8e3419992dcb4235f4691fac236ac104211
   "id": "82277daf",
   "metadata": {},
   "outputs": [],
   "source": [
    "import math\n",
    "from collections import Counter\n",
    "\n",
    "def shannon_entropy(text: str) -> float:\n",
    "    \"\"\"Compute Shannon entropy of a string.\"\"\"\n",
    "    if not text:\n",
    "        return 0.0\n",
    "    counts = Counter(text)\n",
    "    probs = [count / len(text) for count in counts.values()]\n",
<<<<<<< HEAD
    "    # Handle potential log2(0) case for characters with probability 0 (though Counter avoids this)\n",
    "    return -sum(p * math.log2(p) for p in probs if p > 0)"
=======
    "    return -sum(p * math.log2(p) for p in probs)"
>>>>>>> c1ccc8e3419992dcb4235f4691fac236ac104211
   ]
  },
  {
   "cell_type": "markdown",
   "id": "77e0b387",
   "metadata": {},
   "source": [
    "**Patcher Function**\n",
    "\n",
    "- Use sliding window of size W=10.\n",
    "- Keep adding characters to current patch until either:\n",
    "    - Entropy > threshold(2.0)\n",
    "    - Patch length > 15\n",
    "- Then start a new patch."
   ]
  },
  {
   "cell_type": "code",
<<<<<<< HEAD
   "execution_count": 4,
=======
   "execution_count": 37,
>>>>>>> c1ccc8e3419992dcb4235f4691fac236ac104211
   "id": "38e3a66f",
   "metadata": {},
   "outputs": [],
   "source": [
    "def patchify(text: str, window_size=12, entropy_threshold=2.5, max_patch_len=20):\n",
    "    patches = []\n",
    "    current_patch = \"\"\n",
<<<<<<< HEAD
    "    for ch in text:\n",
    "        current_patch += ch\n",
=======
    "\n",
    "    for ch in text:\n",
    "        current_patch += ch\n",
    "\n",
    "        # Compute entropy only when window_size reached\n",
>>>>>>> c1ccc8e3419992dcb4235f4691fac236ac104211
    "        entropy = (\n",
    "            shannon_entropy(current_patch[-window_size:])\n",
    "            if len(current_patch) >= window_size else 0\n",
    "        )\n",
<<<<<<< HEAD
    "        if entropy > entropy_threshold or len(current_patch) >= max_patch_len:\n",
    "            # Ensure we don't add empty strings if strip results in nothing\n",
    "            stripped_patch = current_patch.strip()\n",
    "            if stripped_patch:\n",
    "                patches.append(stripped_patch)\n",
    "            current_patch = \"\" # Reset even if stripped patch was empty\n",
    "    # Add leftover patch only if it's not empty after stripping\n",
    "    stripped_patch = current_patch.strip()\n",
    "    if stripped_patch:\n",
    "        patches.append(stripped_patch)\n",
=======
    "\n",
    "        # Split condition: high entropy OR too long\n",
    "        if entropy > entropy_threshold or len(current_patch) >= max_patch_len:\n",
    "            if current_patch.strip():\n",
    "                patches.append(current_patch.strip())\n",
    "            current_patch = \"\"\n",
    "\n",
    "    # Add leftover patch\n",
    "    if current_patch.strip():\n",
    "        patches.append(current_patch.strip())\n",
    "\n",
>>>>>>> c1ccc8e3419992dcb4235f4691fac236ac104211
    "    return patches"
   ]
  },
  {
   "cell_type": "markdown",
   "id": "d14303cb",
   "metadata": {},
   "source": [
    "**Test Patcher**"
   ]
  },
  {
   "cell_type": "code",
<<<<<<< HEAD
   "execution_count": 5,
=======
   "execution_count": 38,
>>>>>>> c1ccc8e3419992dcb4235f4691fac236ac104211
   "id": "957e4446",
   "metadata": {},
   "outputs": [
    {
     "name": "stdout",
     "output_type": "stream",
     "text": [
      "\n",
      "Text: reconciliation trolls realized scene\n",
      "Patches: ['reconciliati', 'on trolls re', 'alized scene']\n",
      "\n",
      "Text: LMA is fun!\n",
      "Patches: ['LMA is fun!']\n",
      "\n",
      "Text: aaaaabbbbbcccccddddd\n",
      "Patches: ['aaaaabbbbbcccccddddd']\n"
     ]
    }
   ],
   "source": [
    "sample_texts = [\n",
    "    \"reconciliation trolls realized scene\", # High entropy, more splits\n",
    "    \"LMA is fun!\", # Based on threshold, may not split\n",
    "    \"aaaaabbbbbcccccddddd\"  # low entropy predictable\n",
    "]\n",
    "\n",
    "for txt in sample_texts:\n",
    "    patches = patchify(txt)\n",
    "    print(f\"\\nText: {txt}\")\n",
    "    print(\"Patches:\", patches)"
   ]
  },
  {
   "cell_type": "markdown",
   "id": "e6433b9b",
   "metadata": {},
   "source": [
    "## Hash N-Gram Embeddings\n",
    "\n",
    "1. Extract all n-grams (n=1,2,3) from each patch.\n",
    "2. Map each n-gram into a bucket in [0, 4095].\n",
    "3. Use an embedding lookup table (nn.Embedding) to get a 64-d vector.\n",
    "4. Sum all vectors → final patch embedding (shape = [64])."
   ]
  },
  {
   "cell_type": "markdown",
   "id": "a2b7888f",
   "metadata": {},
   "source": [
    "**Hash Function**"
   ]
  },
  {
   "cell_type": "code",
<<<<<<< HEAD
   "execution_count": 6,
=======
   "execution_count": 39,
>>>>>>> c1ccc8e3419992dcb4235f4691fac236ac104211
   "id": "934382cc",
   "metadata": {},
   "outputs": [],
   "source": [
    "import hashlib\n",
    "\n",
    "def hash_ngram(ngram: str, num_buckets=4096) -> int:\n",
    "    \"\"\"Hash an n-gram string into a bucket [0, num_buckets-1].\"\"\"\n",
    "    return int(hashlib.md5(ngram.encode(\"utf-8\")).hexdigest(), 16) % num_buckets"
   ]
  },
  {
   "cell_type": "markdown",
   "id": "dc1af6fd",
   "metadata": {},
   "source": [
    "**N-Gram Extraction**"
   ]
  },
  {
   "cell_type": "code",
<<<<<<< HEAD
   "execution_count": 7,
=======
   "execution_count": 40,
>>>>>>> c1ccc8e3419992dcb4235f4691fac236ac104211
   "id": "5d4f8101",
   "metadata": {},
   "outputs": [],
   "source": [
    "def extract_ngrams(text: str, n: int):\n",
    "    return [text[i:i+n] for i in range(len(text)-n+1)]"
   ]
  },
  {
   "cell_type": "markdown",
   "id": "844bc8a1",
   "metadata": {},
   "source": [
    "**Patch Embedding Module**"
   ]
  },
  {
   "cell_type": "code",
<<<<<<< HEAD
   "execution_count": 8,
=======
   "execution_count": 41,
>>>>>>> c1ccc8e3419992dcb4235f4691fac236ac104211
   "id": "eaee92ff",
   "metadata": {},
   "outputs": [],
   "source": [
    "import torch\n",
    "import torch.nn as nn\n",
    "\n",
    "class PatchEmbedder(nn.Module):\n",
    "    def __init__(self, num_buckets=4096, embed_dim=64):\n",
    "        super().__init__()\n",
    "        self.embeddings = nn.ModuleDict({\n",
    "            \"1\": nn.Embedding(num_buckets, embed_dim),\n",
    "            \"2\": nn.Embedding(num_buckets, embed_dim),\n",
    "            \"3\": nn.Embedding(num_buckets, embed_dim),\n",
    "        })\n",
    "        # Xavier init\n",
    "        for emb in self.embeddings.values():\n",
    "            nn.init.xavier_uniform_(emb.weight)\n",
    "\n",
    "        self.num_buckets = num_buckets\n",
    "        self.embed_dim = embed_dim\n",
    "\n",
    "    def forward(self, patch: str):\n",
    "        \"\"\"Convert one patch string into a [embed_dim] vector.\"\"\"\n",
    "        vectors = []\n",
    "        # get device from embedding params\n",
    "        device = next(self.embeddings[\"1\"].parameters()).device  \n",
    "\n",
    "        for n in [1, 2, 3]:\n",
    "            ngrams = extract_ngrams(patch, n)\n",
    "            for ng in ngrams:\n",
    "                bucket = hash_ngram(ng, self.num_buckets)\n",
    "                idx = torch.tensor(bucket, dtype=torch.long, device=device)\n",
    "                vectors.append(self.embeddings[str(n)](idx))\n",
    "\n",
    "        if len(vectors) == 0:\n",
    "            return torch.zeros(self.embed_dim, device=device)\n",
    "\n",
    "        return torch.stack(vectors, dim=0).sum(dim=0)  # sum across n-grams"
   ]
  },
  {
   "cell_type": "markdown",
   "id": "0350e4c9",
   "metadata": {},
   "source": [
    "**Test It on Sample Patches**"
   ]
  },
  {
   "cell_type": "code",
<<<<<<< HEAD
   "execution_count": 9,
=======
   "execution_count": 42,
>>>>>>> c1ccc8e3419992dcb4235f4691fac236ac104211
   "id": "61d18f42",
   "metadata": {},
   "outputs": [
    {
     "name": "stdout",
     "output_type": "stream",
     "text": [
      "Device: mps\n",
      "Patch: reconcilia | Embedding shape: torch.Size([64])\n",
      "Patch: tion troll | Embedding shape: torch.Size([64])\n",
      "Patch: s realized | Embedding shape: torch.Size([64])\n",
      "Patch:  scene | Embedding shape: torch.Size([64])\n"
     ]
    }
   ],
   "source": [
    "device = torch.device(\"mps\" if torch.backends.mps.is_available() else \"cpu\")\n",
    "embedder = PatchEmbedder().to(device)\n",
    "\n",
    "sample_patches = [\"reconcilia\", \"tion troll\", \"s realized\", \" scene\"]\n",
    "\n",
    "print(f\"Device: {device}\")\n",
    "\n",
    "for patch in sample_patches:\n",
    "    vec = embedder(patch)\n",
    "    print(f\"Patch: {patch} | Embedding shape: {vec.shape}\")"
   ]
  },
  {
   "cell_type": "markdown",
   "id": "a104ee9f",
   "metadata": {},
   "source": [
    "## BLT Dataset Class\n",
    "\n",
    "This dataset will:\n",
    "1. Read train.csv / test.csv.\n",
    "2. For each row:\n",
    "    - Take input string → apply patchify → embed patches into [seq_len, 64].\n",
    "    - Take target string → here we’ll keep it character-level for decoder supervision (simpler than patching the output).\n",
    "3. Return tensors for (src_seq, tgt_seq)."
   ]
  },
  {
   "cell_type": "code",
<<<<<<< HEAD
   "execution_count": 10,
=======
   "execution_count": 43,
>>>>>>> c1ccc8e3419992dcb4235f4691fac236ac104211
   "id": "b6c261c2",
   "metadata": {},
   "outputs": [],
   "source": [
    "import torch\n",
    "from torch.utils.data import Dataset\n",
    "import pandas as pd\n",
    "\n",
    "PRINTABLE_ASCII = [chr(i) for i in range(32, 127)]\n",
    "VOCAB = ['<PAD>', '<SOS>', '<EOS>'] + PRINTABLE_ASCII # PAD=0, SOS=1, EOS=2\n",
    "\n",
    "# Mapping from character to index\n",
    "CHAR_TO_IDX = {ch: i for i, ch in enumerate(VOCAB)}\n",
    "PAD_IDX = CHAR_TO_IDX['<PAD>']\n",
    "SOS_IDX = CHAR_TO_IDX['<SOS>']\n",
    "EOS_IDX = CHAR_TO_IDX['<EOS>']\n",
    "\n",
    "\n",
    "class BLTDataset(Dataset):\n",
    "    def __init__(self, csv_path, window_size=12, entropy_threshold=2.5, max_patch_len=20):\n",
    "        self.data = pd.read_csv(csv_path)\n",
    "        self.window_size = window_size\n",
    "        self.entropy_threshold = entropy_threshold\n",
    "        self.max_patch_len = max_patch_len\n",
    "\n",
    "    def __len__(self):\n",
    "        return len(self.data)\n",
    "\n",
    "    def __getitem__(self, idx):\n",
    "        row = self.data.iloc[idx]\n",
    "        inp, tgt = row[\"input\"], row[\"target\"]\n",
    "\n",
    "        patches = patchify(inp, \n",
    "                            window_size=self.window_size,\n",
    "                            entropy_threshold=self.entropy_threshold,\n",
    "                            max_patch_len=self.max_patch_len)\n",
    "\n",
    "        # The vocabulary mapping\n",
    "        tgt_ids = [CHAR_TO_IDX.get(c, PAD_IDX) for c in tgt] \n",
    "        tgt_tensor = torch.tensor([SOS_IDX] + tgt_ids + [EOS_IDX], dtype=torch.long)\n",
    "\n",
    "        return patches, tgt_tensor"
   ]
  },
  {
   "cell_type": "code",
<<<<<<< HEAD
   "execution_count": 11,
=======
   "execution_count": 44,
>>>>>>> c1ccc8e3419992dcb4235f4691fac236ac104211
   "id": "daa5889d",
   "metadata": {},
   "outputs": [
    {
     "name": "stdout",
     "output_type": "stream",
     "text": [
      "\n",
      "1. Source Data (Input):\n",
      "   - Type: <class 'list'>\n",
      "   - Number of patches: 3\n",
      "   - Patches content (first 5): ['reconciliati', 'on trolls re', 'alized scene']\n",
      "\n",
      "2. Target Data (Output):\n",
      "   - Type: <class 'torch.Tensor'>\n",
      "   - Shape: torch.Size([38])\n",
      "   - Dtype: torch.int64\n",
      "   - Content (first 15 IDs): [1, 72, 81, 72, 70, 86, 3, 71, 72, 93, 76, 79, 68, 72, 85]\n",
      "\n",
      "3. Target String Reconstruction:\n",
      "   - Reconstructed: <SOS>enecs dezilaer sllort noitailicnocer<EOS>\n",
      "   - Original:      <SOS>enecs dezilaer sllort noitailicnocer<EOS>\n"
     ]
    }
   ],
   "source": [
    "IDX_TO_CHAR = {i: ch for ch, i in CHAR_TO_IDX.items()}\n",
    "train_ds = BLTDataset(csv_path=\"./../data/train.csv\")\n",
    "src_patches, tgt_tensor = train_ds[0]\n",
    "\n",
    "print(\"\\n1. Source Data (Input):\")\n",
    "print(f\"   - Type: {type(src_patches)}\")\n",
    "print(f\"   - Number of patches: {len(src_patches)}\")\n",
    "print(f\"   - Patches content (first 5): {src_patches[:5]}\")\n",
    "\n",
    "print(\"\\n2. Target Data (Output):\")\n",
    "print(f\"   - Type: {type(tgt_tensor)}\")\n",
    "print(f\"   - Shape: {tgt_tensor.shape}\")\n",
    "print(f\"   - Dtype: {tgt_tensor.dtype}\")\n",
    "print(f\"   - Content (first 15 IDs): {tgt_tensor[:15].tolist()}\") # .tolist() for clean printing\n",
    "\n",
    "# 3. Check the reconstruction\n",
    "reconstructed_string = \"\".join([IDX_TO_CHAR.get(i.item(), '') for i in tgt_tensor])\n",
    "print(\"\\n3. Target String Reconstruction:\")\n",
    "print(f\"   - Reconstructed: {reconstructed_string}\")\n",
    "\n",
    "original_target = train_df.iloc[0]['target']\n",
    "print(f\"   - Original:      <SOS>{original_target}<EOS>\")"
   ]
  },
  {
   "cell_type": "markdown",
   "id": "2780e7a1",
   "metadata": {},
   "source": [
    "## Collate Function for BLT\n",
    "\n",
    "We’ll:\n",
    "1. Take a batch of (src_seq, tgt_seq).\n",
    "2. Pad src_seq to [batch, max_src_len, 64].\n",
    "3. Pad tgt_seq to [batch, max_tgt_len].\n",
    "4. Return padded tensors + lengths (useful for masking in the model)."
   ]
  },
  {
   "cell_type": "code",
<<<<<<< HEAD
   "execution_count": 12,
=======
   "execution_count": 45,
>>>>>>> c1ccc8e3419992dcb4235f4691fac236ac104211
   "id": "89b5f12c",
   "metadata": {},
   "outputs": [],
   "source": [
    "from torch.nn.utils.rnn import pad_sequence\n",
    "\n",
    "def blt_collate_fn(batch):\n",
    "    # batch is a list of (patches, tgt_tensor)\n",
    "    src_patches, tgt_seqs = zip(*batch)\n",
    "\n",
    "    # Pad target sequences (char IDs)\n",
    "    tgt_padded = pad_sequence(tgt_seqs, batch_first=True, padding_value=0) # Assuming 0 is PAD_IDX\n",
    "\n",
    "    # The source patches remain a list of lists of strings\n",
    "    # e.g., [ ['patch1', 'patch2'], ['p1', 'p2', 'p3'], ... ]\n",
    "    return list(src_patches), tgt_padded"
   ]
  },
  {
   "cell_type": "code",
<<<<<<< HEAD
   "execution_count": 13,
=======
   "execution_count": 48,
>>>>>>> c1ccc8e3419992dcb4235f4691fac236ac104211
   "id": "47d6674f",
   "metadata": {},
   "outputs": [
    {
     "name": "stdout",
     "output_type": "stream",
     "text": [
      "Running Sanity Check on DataLoader\n",
      "\n",
      "1. Source Data Batch (Input):\n",
      "   - Type: <class 'list'>\n",
      "   - Length (Batch Size): 8\n",
<<<<<<< HEAD
      "   - Content of first item in batch: ['hardened wag', 'on february', 'historically', 'takeaway we', 'ird reimburs', 'ement + bomb', 'ardment berg']\n",
      "\n",
      "2. Target Data Batch (Output):\n",
      "   - Type: <class 'torch.Tensor'>\n",
      "   - Shape (Batch Size, Max Target Length): torch.Size([8, 131])\n"
=======
      "   - Content of first item in batch: ['harrington +', 'm foot live', 'r fossils me', 'lody excite', 'explicitly t', 'rough winger', 's phases par', 'alyzed melt']\n",
      "\n",
      "2. Target Data Batch (Output):\n",
      "   - Type: <class 'torch.Tensor'>\n",
      "   - Shape (Batch Size, Max Target Length): torch.Size([8, 120])\n"
>>>>>>> c1ccc8e3419992dcb4235f4691fac236ac104211
     ]
    }
   ],
   "source": [
    "from torch.utils.data import DataLoader\n",
    "from torch.utils.data import random_split\n",
    "\n",
    "train_size = int(0.9 * len(train_ds))\n",
    "val_size   = len(train_ds) - train_size\n",
    "train_subset, val_subset = random_split(train_ds, [train_size, val_size])\n",
    "\n",
    "train_loader = DataLoader(\n",
    "    train_subset,\n",
    "    batch_size=8,\n",
    "    shuffle=True,\n",
    "    collate_fn=blt_collate_fn\n",
    ")\n",
    "\n",
    "val_loader = DataLoader(\n",
    "    val_subset,\n",
    "    batch_size=4,\n",
    "    shuffle=False,\n",
    "    collate_fn=blt_collate_fn\n",
    ")\n",
    "\n",
    "print(\"Running Sanity Check on DataLoader\")\n",
    "src_patches_batch, tgt_padded_batch = next(iter(train_loader))\n",
    "\n",
    "print(\"\\n1. Source Data Batch (Input):\")\n",
    "print(f\"   - Type: {type(src_patches_batch)}\")\n",
    "print(f\"   - Length (Batch Size): {len(src_patches_batch)}\")\n",
    "print(f\"   - Content of first item in batch: {src_patches_batch[0]}\")\n",
    "\n",
    "print(\"\\n2. Target Data Batch (Output):\")\n",
    "print(f\"   - Type: {type(tgt_padded_batch)}\")\n",
    "print(f\"   - Shape (Batch Size, Max Target Length): {tgt_padded_batch.shape}\")"
   ]
  },
  {
   "cell_type": "markdown",
   "id": "0b1b0951",
   "metadata": {},
   "source": [
    "## BLT Model Architecture\n",
    "\n",
    "Core Idea:\n",
    "1. Encoder: Take patch embeddings [B, L, 64], map into hidden dimension with a transformer encoder.\n",
    "2. Decoder: Generate characters (IDs) step by step using a transformer decoder.\n",
    "3. Output layer: Linear projection → vocab size."
   ]
  },
  {
   "cell_type": "code",
<<<<<<< HEAD
   "execution_count": 14,
=======
   "execution_count": 50,
>>>>>>> c1ccc8e3419992dcb4235f4691fac236ac104211
   "id": "40936686",
   "metadata": {},
   "outputs": [],
   "source": [
    "import torch\n",
    "import torch.nn as nn\n",
    "import math\n",
    "\n",
    "class PositionalEncoding(nn.Module):\n",
    "    def __init__(self, d_model: int, dropout: float = 0.1, max_len: int = 5000):\n",
    "        super().__init__()\n",
    "        self.dropout = nn.Dropout(p=dropout)\n",
    "\n",
    "        position = torch.arange(max_len).unsqueeze(1)\n",
    "        div_term = torch.exp(torch.arange(0, d_model, 2) * (-math.log(10000.0) / d_model))\n",
    "        pe = torch.zeros(max_len, 1, d_model)\n",
    "        pe[:, 0, 0::2] = torch.sin(position * div_term)\n",
    "        pe[:, 0, 1::2] = torch.cos(position * div_term)\n",
    "        self.register_buffer('pe', pe)\n",
    "\n",
    "    def forward(self, x: torch.Tensor) -> torch.Tensor:\n",
    "        \"\"\"\n",
    "        Args:\n",
    "            x: Tensor, shape [batch_size, seq_len, embedding_dim]\n",
    "        \"\"\"\n",
    "        # Note: In our implementation, we use batch_first=True, so the shape is [B, L, D].\n",
    "        # The stored pe is [max_len, 1, D]. We need to adjust it for batch.\n",
    "        x = x + self.pe[:x.size(1)].transpose(0, 1) # Transpose to [1, L, D] to broadcast\n",
    "        return self.dropout(x)"
   ]
  },
  {
   "cell_type": "code",
<<<<<<< HEAD
   "execution_count": 15,
=======
   "execution_count": 59,
>>>>>>> c1ccc8e3419992dcb4235f4691fac236ac104211
   "id": "f28faa30",
   "metadata": {},
   "outputs": [],
   "source": [
    "from torch.nn.utils.rnn import pad_sequence\n",
    "\n",
    "# Assume PatchEmbedder, PositionalEncoding, and helper functions are defined above\n",
    "\n",
    "class BLTModel(nn.Module):\n",
    "    def __init__(self, vocab_size, d_model=64, nhead=4, dropout=0.1):\n",
    "        super().__init__()\n",
    "        \n",
    "        self.d_model = d_model\n",
    "        self.patch_embedder = PatchEmbedder(num_buckets=4096, embed_dim=d_model)\n",
    "        self.global_token = nn.Parameter(torch.randn(1, 1, d_model))\n",
    "        self.tgt_embed = nn.Embedding(vocab_size, d_model)\n",
    "        self.pos_encoder = PositionalEncoding(d_model, dropout=dropout)\n",
    "\n",
    "        # --- ARCHITECTURE (1-1-2 STRUCTURE) ---\n",
    "        # 1. ENCODER (1 Block)\n",
    "        encoder_layer = nn.TransformerEncoderLayer(\n",
    "            d_model=d_model, nhead=nhead, dim_feedforward=d_model*4, \n",
    "            dropout=dropout, batch_first=True\n",
    "        )\n",
    "        # FIX: Added 'enable_nested_tensor=False' for MPS compatibility\n",
    "        self.encoder = nn.TransformerEncoder(encoder_layer, num_layers=1, enable_nested_tensor=False)\n",
    "\n",
    "        # 2. GLOBAL TRANSFORMER (2 Blocks)\n",
    "        global_layer = nn.TransformerEncoderLayer(\n",
    "            d_model=d_model, nhead=nhead, dim_feedforward=d_model*4,\n",
    "            dropout=dropout, batch_first=True\n",
    "        )\n",
    "        # FIX: Added 'enable_nested_tensor=False' for MPS compatibility\n",
    "        self.global_transformer = nn.TransformerEncoder(global_layer, num_layers=2, enable_nested_tensor=False)\n",
    "\n",
    "        # 3. DECODER (1 Block)\n",
    "        decoder_layer = nn.TransformerDecoderLayer(\n",
    "            d_model=d_model, nhead=nhead, dim_feedforward=d_model*4,\n",
    "            dropout=dropout, batch_first=True\n",
    "        )\n",
    "        self.decoder = nn.TransformerDecoder(decoder_layer, num_layers=1)\n",
    "\n",
    "        # --- FINAL OUTPUT LAYER ---\n",
    "        self.norm = nn.LayerNorm(d_model)\n",
    "        self.output_proj = nn.Linear(d_model, vocab_size)\n",
    "\n",
    "    def forward(self, src_patches_batch, tgt_inp, tgt_pad_mask=None):\n",
    "        # src_patches_batch: A list (size B) of lists of patch strings\n",
    "        # tgt_inp: [B, Lt] (character IDs for teacher forcing)\n",
    "        \n",
    "        device = self.global_token.device\n",
    "\n",
    "        # --- 1. Get Patch Embeddings and Pad ---\n",
    "        batch_embeddings = []\n",
    "        for patch_list in src_patches_batch:\n",
    "            if not patch_list:\n",
    "                sample_emb = torch.zeros(1, self.d_model, device=device)\n",
    "            else:\n",
    "                sample_emb = torch.stack([self.patch_embedder(p) for p in patch_list])\n",
    "            batch_embeddings.append(sample_emb)\n",
    "        \n",
    "        src_emb = pad_sequence(batch_embeddings, batch_first=True, padding_value=0.0)\n",
    "        B, Ls, _ = src_emb.shape\n",
    "\n",
    "        # --- 2. Prepend Global Token ---\n",
    "        global_token_batch = self.global_token.expand(B, -1, -1)\n",
    "        encoder_input = torch.cat([global_token_batch, src_emb], dim=1)\n",
    "        encoder_input = self.pos_encoder(encoder_input)\n",
    "\n",
    "        # --- 3. Pass through 1-Block Encoder ---\n",
    "        src_key_padding_mask = (torch.cat([\n",
    "            torch.zeros(B, 1, device=device), # Mask for global token is False\n",
    "            src_emb.sum(dim=-1) == 0 # Mask for padded patches is True\n",
    "        ], dim=1)).bool()\n",
    "        \n",
    "        encoder_output = self.encoder(encoder_input, src_key_padding_mask=src_key_padding_mask)\n",
    "\n",
    "        # --- 4. Isolate Global Token and Pass through 2-Block Global Transformer ---\n",
    "        global_context = encoder_output[:, 0:1, :]\n",
    "        memory = self.global_transformer(global_context)\n",
    "\n",
    "        # --- 5. Pass through 1-Block Decoder ---\n",
    "        tgt_emb = self.pos_encoder(self.tgt_embed(tgt_inp))\n",
    "        causal_mask = nn.Transformer.generate_square_subsequent_mask(tgt_inp.size(1)).to(device)\n",
    "        \n",
    "        decoder_output = self.decoder(\n",
    "            tgt=tgt_emb,\n",
    "            memory=memory,\n",
    "            tgt_mask=causal_mask,\n",
    "            tgt_key_padding_mask=tgt_pad_mask\n",
    "        )\n",
    "        \n",
    "        # --- 6. Final Projection ---\n",
    "        normalized_output = self.norm(decoder_output)\n",
    "        logits = self.output_proj(normalized_output)\n",
    "        \n",
    "        return logits"
   ]
  },
  {
   "cell_type": "code",
<<<<<<< HEAD
   "execution_count": 16,
=======
   "execution_count": 60,
>>>>>>> c1ccc8e3419992dcb4235f4691fac236ac104211
   "id": "e965f57a",
   "metadata": {},
   "outputs": [
    {
     "name": "stdout",
     "output_type": "stream",
     "text": [
      "--- Final Model Sanity Check ---\n",
<<<<<<< HEAD
      "Logits shape: torch.Size([8, 137, 98])\n",
      "Expected shape: (8, 137, 98)\n",
=======
      "Logits shape: torch.Size([8, 133, 98])\n",
      "Expected shape: (8, 133, 98)\n",
>>>>>>> c1ccc8e3419992dcb4235f4691fac236ac104211
      "\n",
      "✅ Shapes are correct and ready for the training loop!\n"
     ]
    },
    {
     "name": "stderr",
     "output_type": "stream",
     "text": [
<<<<<<< HEAD
      "/Library/Frameworks/Python.framework/Versions/3.13/lib/python3.13/site-packages/torch/nn/functional.py:6044: UserWarning: Support for mismatched key_padding_mask and attn_mask is deprecated. Use same type for both instead.\n",
=======
      "/Library/Frameworks/Python.framework/Versions/3.13/lib/python3.13/site-packages/torch/nn/functional.py:6041: UserWarning: Support for mismatched key_padding_mask and attn_mask is deprecated. Use same type for both instead.\n",
>>>>>>> c1ccc8e3419992dcb4235f4691fac236ac104211
      "  warnings.warn(\n"
     ]
    }
   ],
   "source": [
    "# Assume your vocab (VOCAB, PAD_IDX), dataloaders, and model classes are defined above\n",
    "\n",
    "# --- Step 1: Correct the Hyperparameters ---\n",
    "# The vocabulary is printable ASCII (95 chars) + 3 special tokens, not 256.\n",
    "VOCAB_SIZE = len(VOCAB) # This should be 98\n",
    "D_MODEL = 64            # As per the assignment [cite: 22]\n",
    "N_HEAD = 4\n",
    "DROPOUT = 0.1\n",
    "device = torch.device(\"mps\" if torch.backends.mps.is_available() else \"cpu\")\n",
    "\n",
    "# --- Step 2: Correct the Model Instantiation ---\n",
    "# Use the new model's argument names (vocab_size, d_model, etc.)\n",
    "model = BLTModel(\n",
    "    vocab_size=VOCAB_SIZE,\n",
    "    d_model=D_MODEL,\n",
    "    nhead=N_HEAD,\n",
    "    dropout=DROPOUT\n",
    ").to(device)\n",
    "\n",
    "\n",
    "# --- Step 3: Correct the Batch Handling and Model Call ---\n",
    "\n",
    "# Fetch a single batch from your train_loader\n",
    "# Unpack the 2 items returned by your collate_fn: a list of patches and a padded tensor\n",
    "src_patches_batch, tgt_padded_batch = next(iter(train_loader))\n",
    "tgt_padded_batch = tgt_padded_batch.to(device)\n",
    "\n",
    "# Prepare for Teacher Forcing\n",
    "tgt_inp = tgt_padded_batch[:, :-1]  # All but the last token\n",
    "tgt_out = tgt_padded_batch[:, 1:]   # All but the first token\n",
    "\n",
    "# Create the padding mask for the decoder input\n",
    "tgt_pad_mask = (tgt_inp == PAD_IDX)\n",
    "\n",
    "# Call the model with the correct arguments for the new forward pass\n",
    "# (a list of patches, the input tensor, and the padding mask)\n",
    "logits = model(src_patches_batch, tgt_inp, tgt_pad_mask)\n",
    "\n",
    "\n",
    "# --- Step 4: Check the Output Shape ---\n",
    "print(\"--- Final Model Sanity Check ---\")\n",
    "print(f\"Logits shape: {logits.shape}\")\n",
    "print(f\"Expected shape: ({tgt_out.shape[0]}, {tgt_out.shape[1]}, {VOCAB_SIZE})\")\n",
    "\n",
    "assert logits.shape[0] == tgt_out.shape[0]\n",
    "assert logits.shape[1] == tgt_out.shape[1]\n",
    "assert logits.shape[2] == VOCAB_SIZE\n",
    "print(\"\\n✅ Shapes are correct and ready for the training loop!\")"
   ]
  },
  {
   "cell_type": "markdown",
   "id": "c25767bd",
   "metadata": {},
   "source": [
    "## Training Loop + Checkpoints\n",
    "\n",
    "We’ll set up:\n",
    "1. Loss = CrossEntropyLoss(ignore_index=0) (ignores PAD tokens).\n",
    "2. Optimizer = Adam.\n",
    "3. Training loop with logging.\n",
    "4. Checkpoint saving (state_dict, optimizer, epoch, loss)."
   ]
  },
  {
   "cell_type": "code",
<<<<<<< HEAD
   "execution_count": 17,
=======
   "execution_count": 61,
>>>>>>> c1ccc8e3419992dcb4235f4691fac236ac104211
   "id": "361dc301",
   "metadata": {},
   "outputs": [],
   "source": [
    "import torch\n",
    "import torch.nn as nn\n",
    "import torch.optim as optim\n",
    "import os\n",
    "import math\n",
    "from torch.nn.utils import clip_grad_norm_\n",
    "from tqdm.auto import tqdm\n",
    "\n",
    "# ----------------------------\n",
    "# Training loop for BLT model\n",
    "# ----------------------------\n",
    "def train_blt(\n",
    "    model, \n",
    "    train_loader, \n",
    "    val_loader,\n",
    "    num_epochs,\n",
    "    lr,\n",
    "    device,\n",
    "    save_every,\n",
    "    resume_path=None\n",
    "):\n",
    "    print(f\"Training on: {device}\")\n",
    "    model = model.to(device)\n",
    "    optimizer = optim.Adam(model.parameters(), lr=lr)\n",
    "    criterion = nn.CrossEntropyLoss(ignore_index=PAD_IDX) # Use your defined PAD_IDX\n",
    "    scheduler = torch.optim.lr_scheduler.ReduceLROnPlateau(optimizer, \"min\", factor=0.5, patience=5)\n",
    "    os.makedirs(\"checkpoints\", exist_ok=True)\n",
    "\n",
    "    # Resume\n",
    "    start_epoch = 1\n",
    "    if resume_path and os.path.exists(resume_path):\n",
    "        print(f\"🔄 Resuming from checkpoint: {resume_path}\")\n",
    "        checkpoint = torch.load(resume_path, map_location=device)\n",
    "        model.load_state_dict(checkpoint[\"model_state\"])\n",
    "        optimizer.load_state_dict(checkpoint[\"optimizer_state\"])\n",
    "        start_epoch = checkpoint[\"epoch\"] + 1\n",
    "        if \"scheduler_state\" in checkpoint:\n",
    "            scheduler.load_state_dict(checkpoint[\"scheduler_state\"])\n",
    "        print(f\"✅ Resumed from epoch {checkpoint['epoch']} (loss {checkpoint['loss']:.4f})\")\n",
    "\n",
    "    for epoch in range(start_epoch, num_epochs + 1):\n",
    "        model.train()\n",
    "        total_loss = 0.0\n",
    "        total_tokens = 0\n",
    "        \n",
    "        progress_bar = tqdm(train_loader, desc=f\"Epoch {epoch}/{num_epochs} [Training]\")\n",
    "\n",
    "        for src_patches, tgt_padded in progress_bar:\n",
    "            tgt_padded = tgt_padded.to(device)\n",
    "            tgt_inp = tgt_padded[:, :-1]\n",
    "            tgt_out = tgt_padded[:, 1:]\n",
    "            tgt_pad_mask = (tgt_inp == PAD_IDX)\n",
    "\n",
    "            logits = model(src_patches, tgt_inp, tgt_pad_mask)\n",
    "            loss = criterion(logits.reshape(-1, logits.shape[-1]), tgt_out.reshape(-1))\n",
    "\n",
    "            optimizer.zero_grad()\n",
    "            loss.backward()\n",
    "            clip_grad_norm_(model.parameters(), max_norm=1.0)\n",
    "            optimizer.step()\n",
    "\n",
    "            total_loss += loss.item() * tgt_out.numel()\n",
    "            total_tokens += tgt_out.numel()\n",
    "\n",
    "        avg_loss = total_loss / total_tokens if total_tokens > 0 else 0\n",
    "        print(f\"\\n📘 Epoch {epoch}/{num_epochs} - Train Loss: {avg_loss:.4f}\")\n",
    "\n",
    "        val_loss, val_acc = evaluate(model, val_loader, criterion, device)\n",
    "        perplexity = math.exp(val_loss) if val_loss < 100 else float('inf')\n",
    "        print(f\"📗 Validation - Loss: {val_loss:.4f}, Perplexity: {perplexity:.2f}, Token Acc: {val_acc:.2f}%\")\n",
    "        \n",
    "        scheduler.step(val_loss)\n",
    "\n",
    "        # Save checkpoint\n",
    "        if epoch % save_every == 0 or epoch == num_epochs:\n",
    "            ckpt_path = f\"checkpoints/blt_epoch{epoch}.pt\"\n",
    "            torch.save({ \"epoch\": epoch, \"model_state\": model.state_dict(), \"optimizer_state\": optimizer.state_dict(), \"scheduler_state\": scheduler.state_dict(), \"loss\": avg_loss }, ckpt_path)\n",
    "            print(f\"✅ Saved checkpoint: {ckpt_path}\")\n",
    "\n",
    "@torch.no_grad()\n",
    "def evaluate(model, val_loader, criterion, device):\n",
    "    model.eval()\n",
    "    total_loss = 0.0\n",
    "    total_tokens = 0\n",
    "    correct_tokens = 0\n",
    "\n",
    "    progress_bar = tqdm(val_loader, desc=\"Validating\")\n",
    "\n",
    "    for src_patches, tgt_padded in progress_bar:\n",
    "        tgt_padded = tgt_padded.to(device)\n",
    "        tgt_inp = tgt_padded[:, :-1]\n",
    "        tgt_out = tgt_padded[:, 1:]\n",
    "        tgt_pad_mask = (tgt_inp == PAD_IDX)\n",
    "        \n",
    "        logits = model(src_patches, tgt_inp, tgt_pad_mask)\n",
    "        loss = criterion(logits.reshape(-1, logits.shape[-1]), tgt_out.reshape(-1))\n",
    "        \n",
    "        total_loss += loss.item() * (tgt_out != PAD_IDX).sum().item() # Count non-padded tokens for loss\n",
    "        \n",
    "        preds = logits.argmax(dim=-1)\n",
    "        mask = (tgt_out != PAD_IDX)\n",
    "        correct_tokens += ((preds == tgt_out) & mask).sum().item()\n",
    "        total_tokens += mask.sum().item()\n",
    "\n",
    "    avg_loss = total_loss / total_tokens if total_tokens > 0 else 0\n",
    "    accuracy = 100.0 * correct_tokens / total_tokens if total_tokens > 0 else 0\n",
    "    return avg_loss, accuracy"
   ]
  },
  {
   "cell_type": "code",
   "execution_count": null,
   "id": "8b94386c",
   "metadata": {},
   "outputs": [
    {
<<<<<<< HEAD
     "name": "stderr",
     "output_type": "stream",
     "text": [
      "/Library/Frameworks/Python.framework/Versions/3.13/lib/python3.13/site-packages/torch/__init__.py:1617: UserWarning: Please use the new API settings to control TF32 behavior, such as torch.backends.cudnn.conv.fp32_precision = 'tf32' or torch.backends.cuda.matmul.fp32_precision = 'ieee'. Old settings, e.g, torch.backends.cuda.matmul.allow_tf32 = True, torch.backends.cudnn.allow_tf32 = True, allowTF32CuDNN() and allowTF32CuBLAS() will be deprecated after Pytorch 2.9. Please see https://pytorch.org/docs/main/notes/cuda.html#tensorfloat-32-tf32-on-ampere-and-later-devices (Triggered internally at /Users/runner/work/pytorch/pytorch/pytorch/aten/src/ATen/Context.cpp:85.)\n",
      "  _C._set_float32_matmul_precision(precision)\n"
     ]
    },
    {
=======
>>>>>>> c1ccc8e3419992dcb4235f4691fac236ac104211
     "name": "stdout",
     "output_type": "stream",
     "text": [
      "Training on: mps\n",
<<<<<<< HEAD
      "🔄 Resuming from checkpoint: checkpoints/blt_epoch304.pt\n",
      "✅ Resumed from epoch 304 (loss 2.0601)\n"
=======
      "🔄 Resuming from checkpoint: checkpoints/blt_epoch168.pt\n",
      "✅ Resumed from epoch 168 (loss 2.1115)\n"
>>>>>>> c1ccc8e3419992dcb4235f4691fac236ac104211
     ]
    },
    {
     "data": {
      "application/vnd.jupyter.widget-view+json": {
<<<<<<< HEAD
       "model_id": "8a7c75dbd52b48468b37f7759d3c45af",
=======
       "model_id": "6df0fae8b0a4468fb92345e71f396b06",
       "version_major": 2,
       "version_minor": 0
      },
      "text/plain": [
       "Epoch 169/1000 [Training]:   0%|          | 0/1125 [00:00<?, ?it/s]"
      ]
     },
     "metadata": {},
     "output_type": "display_data"
    },
    {
     "name": "stdout",
     "output_type": "stream",
     "text": [
      "\n",
      "📘 Epoch 169/1000 - Train Loss: 2.1094\n"
     ]
    },
    {
     "data": {
      "application/vnd.jupyter.widget-view+json": {
       "model_id": "e41c2652eb304915b3a54bdcecb14817",
       "version_major": 2,
       "version_minor": 0
      },
      "text/plain": [
       "Validating:   0%|          | 0/250 [00:00<?, ?it/s]"
      ]
     },
     "metadata": {},
     "output_type": "display_data"
    },
    {
     "name": "stdout",
     "output_type": "stream",
     "text": [
      "📗 Validation - Loss: 1.9817, Perplexity: 7.26, Token Acc: 38.97%\n"
     ]
    },
    {
     "data": {
      "application/vnd.jupyter.widget-view+json": {
       "model_id": "08e09a7493fe4d9189eb2aa58deca171",
       "version_major": 2,
       "version_minor": 0
      },
      "text/plain": [
       "Epoch 170/1000 [Training]:   0%|          | 0/1125 [00:00<?, ?it/s]"
      ]
     },
     "metadata": {},
     "output_type": "display_data"
    },
    {
     "name": "stdout",
     "output_type": "stream",
     "text": [
      "\n",
      "📘 Epoch 170/1000 - Train Loss: 2.1093\n"
     ]
    },
    {
     "data": {
      "application/vnd.jupyter.widget-view+json": {
       "model_id": "3edb2822d6a249a184f278624bdf5ac2",
       "version_major": 2,
       "version_minor": 0
      },
      "text/plain": [
       "Validating:   0%|          | 0/250 [00:00<?, ?it/s]"
      ]
     },
     "metadata": {},
     "output_type": "display_data"
    },
    {
     "name": "stdout",
     "output_type": "stream",
     "text": [
      "📗 Validation - Loss: 1.9826, Perplexity: 7.26, Token Acc: 38.86%\n",
      "✅ Saved checkpoint: checkpoints/blt_epoch170.pt\n"
     ]
    },
    {
     "data": {
      "application/vnd.jupyter.widget-view+json": {
       "model_id": "ca733283bb6346318287e7654bf94795",
       "version_major": 2,
       "version_minor": 0
      },
      "text/plain": [
       "Epoch 171/1000 [Training]:   0%|          | 0/1125 [00:00<?, ?it/s]"
      ]
     },
     "metadata": {},
     "output_type": "display_data"
    },
    {
     "name": "stdout",
     "output_type": "stream",
     "text": [
      "\n",
      "📘 Epoch 171/1000 - Train Loss: 2.1088\n"
     ]
    },
    {
     "data": {
      "application/vnd.jupyter.widget-view+json": {
       "model_id": "70fb746bad2146ccb4b9e875eebe0e73",
       "version_major": 2,
       "version_minor": 0
      },
      "text/plain": [
       "Validating:   0%|          | 0/250 [00:00<?, ?it/s]"
      ]
     },
     "metadata": {},
     "output_type": "display_data"
    },
    {
     "name": "stdout",
     "output_type": "stream",
     "text": [
      "📗 Validation - Loss: 1.9796, Perplexity: 7.24, Token Acc: 39.09%\n"
     ]
    },
    {
     "data": {
      "application/vnd.jupyter.widget-view+json": {
       "model_id": "cd240e73f6d24be2a0a72ed33e87874b",
       "version_major": 2,
       "version_minor": 0
      },
      "text/plain": [
       "Epoch 172/1000 [Training]:   0%|          | 0/1125 [00:00<?, ?it/s]"
      ]
     },
     "metadata": {},
     "output_type": "display_data"
    },
    {
     "name": "stdout",
     "output_type": "stream",
     "text": [
      "\n",
      "📘 Epoch 172/1000 - Train Loss: 2.1083\n"
     ]
    },
    {
     "data": {
      "application/vnd.jupyter.widget-view+json": {
       "model_id": "c0e19f93a26846b9bcd58ddc34d020fb",
       "version_major": 2,
       "version_minor": 0
      },
      "text/plain": [
       "Validating:   0%|          | 0/250 [00:00<?, ?it/s]"
      ]
     },
     "metadata": {},
     "output_type": "display_data"
    },
    {
     "name": "stdout",
     "output_type": "stream",
     "text": [
      "📗 Validation - Loss: 1.9807, Perplexity: 7.25, Token Acc: 38.95%\n",
      "✅ Saved checkpoint: checkpoints/blt_epoch172.pt\n"
     ]
    },
    {
     "data": {
      "application/vnd.jupyter.widget-view+json": {
       "model_id": "ca157b16a49c427a84015b0fb49f124e",
       "version_major": 2,
       "version_minor": 0
      },
      "text/plain": [
       "Epoch 173/1000 [Training]:   0%|          | 0/1125 [00:00<?, ?it/s]"
      ]
     },
     "metadata": {},
     "output_type": "display_data"
    },
    {
     "name": "stdout",
     "output_type": "stream",
     "text": [
      "\n",
      "📘 Epoch 173/1000 - Train Loss: 2.1085\n"
     ]
    },
    {
     "data": {
      "application/vnd.jupyter.widget-view+json": {
       "model_id": "cbe3569e9f7142729819968b418b5495",
       "version_major": 2,
       "version_minor": 0
      },
      "text/plain": [
       "Validating:   0%|          | 0/250 [00:00<?, ?it/s]"
      ]
     },
     "metadata": {},
     "output_type": "display_data"
    },
    {
     "name": "stdout",
     "output_type": "stream",
     "text": [
      "📗 Validation - Loss: 1.9775, Perplexity: 7.22, Token Acc: 39.19%\n"
     ]
    },
    {
     "data": {
      "application/vnd.jupyter.widget-view+json": {
       "model_id": "ae6587474e904072afa80a4fae037bba",
       "version_major": 2,
       "version_minor": 0
      },
      "text/plain": [
       "Epoch 174/1000 [Training]:   0%|          | 0/1125 [00:00<?, ?it/s]"
      ]
     },
     "metadata": {},
     "output_type": "display_data"
    },
    {
     "name": "stdout",
     "output_type": "stream",
     "text": [
      "\n",
      "📘 Epoch 174/1000 - Train Loss: 2.1071\n"
     ]
    },
    {
     "data": {
      "application/vnd.jupyter.widget-view+json": {
       "model_id": "4364fecf711b40d8bd1739efa622c70a",
       "version_major": 2,
       "version_minor": 0
      },
      "text/plain": [
       "Validating:   0%|          | 0/250 [00:00<?, ?it/s]"
      ]
     },
     "metadata": {},
     "output_type": "display_data"
    },
    {
     "name": "stdout",
     "output_type": "stream",
     "text": [
      "📗 Validation - Loss: 1.9788, Perplexity: 7.23, Token Acc: 38.98%\n",
      "✅ Saved checkpoint: checkpoints/blt_epoch174.pt\n"
     ]
    },
    {
     "data": {
      "application/vnd.jupyter.widget-view+json": {
       "model_id": "99d370a8439d47cc9b7e56aaddfb59e0",
       "version_major": 2,
       "version_minor": 0
      },
      "text/plain": [
       "Epoch 175/1000 [Training]:   0%|          | 0/1125 [00:00<?, ?it/s]"
      ]
     },
     "metadata": {},
     "output_type": "display_data"
    },
    {
     "name": "stdout",
     "output_type": "stream",
     "text": [
      "\n",
      "📘 Epoch 175/1000 - Train Loss: 2.1062\n"
     ]
    },
    {
     "data": {
      "application/vnd.jupyter.widget-view+json": {
       "model_id": "e6aac48914864a0790a97230ec3e3ee9",
       "version_major": 2,
       "version_minor": 0
      },
      "text/plain": [
       "Validating:   0%|          | 0/250 [00:00<?, ?it/s]"
      ]
     },
     "metadata": {},
     "output_type": "display_data"
    },
    {
     "name": "stdout",
     "output_type": "stream",
     "text": [
      "📗 Validation - Loss: 1.9780, Perplexity: 7.23, Token Acc: 39.06%\n"
     ]
    },
    {
     "data": {
      "application/vnd.jupyter.widget-view+json": {
       "model_id": "5ae99e06c94e4194b358b1e8511e4e20",
       "version_major": 2,
       "version_minor": 0
      },
      "text/plain": [
       "Epoch 176/1000 [Training]:   0%|          | 0/1125 [00:00<?, ?it/s]"
      ]
     },
     "metadata": {},
     "output_type": "display_data"
    },
    {
     "name": "stdout",
     "output_type": "stream",
     "text": [
      "\n",
      "📘 Epoch 176/1000 - Train Loss: 2.1055\n"
     ]
    },
    {
     "data": {
      "application/vnd.jupyter.widget-view+json": {
       "model_id": "571ef0becd734dae991413c8be5300fa",
       "version_major": 2,
       "version_minor": 0
      },
      "text/plain": [
       "Validating:   0%|          | 0/250 [00:00<?, ?it/s]"
      ]
     },
     "metadata": {},
     "output_type": "display_data"
    },
    {
     "name": "stdout",
     "output_type": "stream",
     "text": [
      "📗 Validation - Loss: 1.9764, Perplexity: 7.22, Token Acc: 39.08%\n",
      "✅ Saved checkpoint: checkpoints/blt_epoch176.pt\n"
     ]
    },
    {
     "data": {
      "application/vnd.jupyter.widget-view+json": {
       "model_id": "90ba913c1fe84d5c90ac4f0410580a08",
       "version_major": 2,
       "version_minor": 0
      },
      "text/plain": [
       "Epoch 177/1000 [Training]:   0%|          | 0/1125 [00:00<?, ?it/s]"
      ]
     },
     "metadata": {},
     "output_type": "display_data"
    },
    {
     "name": "stdout",
     "output_type": "stream",
     "text": [
      "\n",
      "📘 Epoch 177/1000 - Train Loss: 2.1037\n"
     ]
    },
    {
     "data": {
      "application/vnd.jupyter.widget-view+json": {
       "model_id": "99f2f63c50ec4a52afa61911f630bbd9",
       "version_major": 2,
       "version_minor": 0
      },
      "text/plain": [
       "Validating:   0%|          | 0/250 [00:00<?, ?it/s]"
      ]
     },
     "metadata": {},
     "output_type": "display_data"
    },
    {
     "name": "stdout",
     "output_type": "stream",
     "text": [
      "📗 Validation - Loss: 1.9750, Perplexity: 7.21, Token Acc: 39.16%\n"
     ]
    },
    {
     "data": {
      "application/vnd.jupyter.widget-view+json": {
       "model_id": "f5eb9cc2b1c54eae9157c3e43f3a6a14",
       "version_major": 2,
       "version_minor": 0
      },
      "text/plain": [
       "Epoch 178/1000 [Training]:   0%|          | 0/1125 [00:00<?, ?it/s]"
      ]
     },
     "metadata": {},
     "output_type": "display_data"
    },
    {
     "name": "stdout",
     "output_type": "stream",
     "text": [
      "\n",
      "📘 Epoch 178/1000 - Train Loss: 2.1051\n"
     ]
    },
    {
     "data": {
      "application/vnd.jupyter.widget-view+json": {
       "model_id": "16bb66be028248b9b985eee5656b529c",
       "version_major": 2,
       "version_minor": 0
      },
      "text/plain": [
       "Validating:   0%|          | 0/250 [00:00<?, ?it/s]"
      ]
     },
     "metadata": {},
     "output_type": "display_data"
    },
    {
     "name": "stdout",
     "output_type": "stream",
     "text": [
      "📗 Validation - Loss: 1.9743, Perplexity: 7.20, Token Acc: 39.02%\n",
      "✅ Saved checkpoint: checkpoints/blt_epoch178.pt\n"
     ]
    },
    {
     "data": {
      "application/vnd.jupyter.widget-view+json": {
       "model_id": "cda5272dc1124f329f8274a00d706956",
       "version_major": 2,
       "version_minor": 0
      },
      "text/plain": [
       "Epoch 179/1000 [Training]:   0%|          | 0/1125 [00:00<?, ?it/s]"
      ]
     },
     "metadata": {},
     "output_type": "display_data"
    },
    {
     "name": "stdout",
     "output_type": "stream",
     "text": [
      "\n",
      "📘 Epoch 179/1000 - Train Loss: 2.1045\n"
     ]
    },
    {
     "data": {
      "application/vnd.jupyter.widget-view+json": {
       "model_id": "3f0d9c4ca63043b7a6e44b215a952dd8",
       "version_major": 2,
       "version_minor": 0
      },
      "text/plain": [
       "Validating:   0%|          | 0/250 [00:00<?, ?it/s]"
      ]
     },
     "metadata": {},
     "output_type": "display_data"
    },
    {
     "name": "stdout",
     "output_type": "stream",
     "text": [
      "📗 Validation - Loss: 1.9745, Perplexity: 7.20, Token Acc: 39.11%\n"
     ]
    },
    {
     "data": {
      "application/vnd.jupyter.widget-view+json": {
       "model_id": "58ccc8f9642f400c83c74f466d9d6226",
       "version_major": 2,
       "version_minor": 0
      },
      "text/plain": [
       "Epoch 180/1000 [Training]:   0%|          | 0/1125 [00:00<?, ?it/s]"
      ]
     },
     "metadata": {},
     "output_type": "display_data"
    },
    {
     "name": "stdout",
     "output_type": "stream",
     "text": [
      "\n",
      "📘 Epoch 180/1000 - Train Loss: 2.1036\n"
     ]
    },
    {
     "data": {
      "application/vnd.jupyter.widget-view+json": {
       "model_id": "da2271ae15274eac84526cbd4e3df29c",
       "version_major": 2,
       "version_minor": 0
      },
      "text/plain": [
       "Validating:   0%|          | 0/250 [00:00<?, ?it/s]"
      ]
     },
     "metadata": {},
     "output_type": "display_data"
    },
    {
     "name": "stdout",
     "output_type": "stream",
     "text": [
      "📗 Validation - Loss: 1.9750, Perplexity: 7.21, Token Acc: 39.21%\n",
      "✅ Saved checkpoint: checkpoints/blt_epoch180.pt\n"
     ]
    },
    {
     "data": {
      "application/vnd.jupyter.widget-view+json": {
       "model_id": "f1c919af3e69401d858e0482844ae731",
       "version_major": 2,
       "version_minor": 0
      },
      "text/plain": [
       "Epoch 181/1000 [Training]:   0%|          | 0/1125 [00:00<?, ?it/s]"
      ]
     },
     "metadata": {},
     "output_type": "display_data"
    },
    {
     "name": "stdout",
     "output_type": "stream",
     "text": [
      "\n",
      "📘 Epoch 181/1000 - Train Loss: 2.1015\n"
     ]
    },
    {
     "data": {
      "application/vnd.jupyter.widget-view+json": {
       "model_id": "f2ff3027c7dc4bd88d6432a8288f123d",
       "version_major": 2,
       "version_minor": 0
      },
      "text/plain": [
       "Validating:   0%|          | 0/250 [00:00<?, ?it/s]"
      ]
     },
     "metadata": {},
     "output_type": "display_data"
    },
    {
     "name": "stdout",
     "output_type": "stream",
     "text": [
      "📗 Validation - Loss: 1.9715, Perplexity: 7.18, Token Acc: 39.29%\n"
     ]
    },
    {
     "data": {
      "application/vnd.jupyter.widget-view+json": {
       "model_id": "a33bb7ba79274b4c9d14ae337b618b3d",
       "version_major": 2,
       "version_minor": 0
      },
      "text/plain": [
       "Epoch 182/1000 [Training]:   0%|          | 0/1125 [00:00<?, ?it/s]"
      ]
     },
     "metadata": {},
     "output_type": "display_data"
    },
    {
     "name": "stdout",
     "output_type": "stream",
     "text": [
      "\n",
      "📘 Epoch 182/1000 - Train Loss: 2.1019\n"
     ]
    },
    {
     "data": {
      "application/vnd.jupyter.widget-view+json": {
       "model_id": "73532f58a1e34040a320ce85b3abe000",
       "version_major": 2,
       "version_minor": 0
      },
      "text/plain": [
       "Validating:   0%|          | 0/250 [00:00<?, ?it/s]"
      ]
     },
     "metadata": {},
     "output_type": "display_data"
    },
    {
     "name": "stdout",
     "output_type": "stream",
     "text": [
      "📗 Validation - Loss: 1.9718, Perplexity: 7.18, Token Acc: 39.16%\n",
      "✅ Saved checkpoint: checkpoints/blt_epoch182.pt\n"
     ]
    },
    {
     "data": {
      "application/vnd.jupyter.widget-view+json": {
       "model_id": "150f22691970477ab81ecf9091b5a8d8",
       "version_major": 2,
       "version_minor": 0
      },
      "text/plain": [
       "Epoch 183/1000 [Training]:   0%|          | 0/1125 [00:00<?, ?it/s]"
      ]
     },
     "metadata": {},
     "output_type": "display_data"
    },
    {
     "name": "stdout",
     "output_type": "stream",
     "text": [
      "\n",
      "📘 Epoch 183/1000 - Train Loss: 2.1014\n"
     ]
    },
    {
     "data": {
      "application/vnd.jupyter.widget-view+json": {
       "model_id": "48ec63a0ecf344f894c428bc6c2d469d",
       "version_major": 2,
       "version_minor": 0
      },
      "text/plain": [
       "Validating:   0%|          | 0/250 [00:00<?, ?it/s]"
      ]
     },
     "metadata": {},
     "output_type": "display_data"
    },
    {
     "name": "stdout",
     "output_type": "stream",
     "text": [
      "📗 Validation - Loss: 1.9717, Perplexity: 7.18, Token Acc: 39.01%\n"
     ]
    },
    {
     "data": {
      "application/vnd.jupyter.widget-view+json": {
       "model_id": "b0194070f6d0493a89d9c35230ba79ae",
       "version_major": 2,
       "version_minor": 0
      },
      "text/plain": [
       "Epoch 184/1000 [Training]:   0%|          | 0/1125 [00:00<?, ?it/s]"
      ]
     },
     "metadata": {},
     "output_type": "display_data"
    },
    {
     "name": "stdout",
     "output_type": "stream",
     "text": [
      "\n",
      "📘 Epoch 184/1000 - Train Loss: 2.1007\n"
     ]
    },
    {
     "data": {
      "application/vnd.jupyter.widget-view+json": {
       "model_id": "caa69656f51a4f2dbe9926566a489dac",
       "version_major": 2,
       "version_minor": 0
      },
      "text/plain": [
       "Validating:   0%|          | 0/250 [00:00<?, ?it/s]"
      ]
     },
     "metadata": {},
     "output_type": "display_data"
    },
    {
     "name": "stdout",
     "output_type": "stream",
     "text": [
      "📗 Validation - Loss: 1.9704, Perplexity: 7.17, Token Acc: 39.20%\n",
      "✅ Saved checkpoint: checkpoints/blt_epoch184.pt\n"
     ]
    },
    {
     "data": {
      "application/vnd.jupyter.widget-view+json": {
       "model_id": "2fe2709987af4131812bdfeed3fce8ef",
       "version_major": 2,
       "version_minor": 0
      },
      "text/plain": [
       "Epoch 185/1000 [Training]:   0%|          | 0/1125 [00:00<?, ?it/s]"
      ]
     },
     "metadata": {},
     "output_type": "display_data"
    },
    {
     "name": "stdout",
     "output_type": "stream",
     "text": [
      "\n",
      "📘 Epoch 185/1000 - Train Loss: 2.1004\n"
     ]
    },
    {
     "data": {
      "application/vnd.jupyter.widget-view+json": {
       "model_id": "2f1cd9502dc24dfaa14fa8c545548989",
       "version_major": 2,
       "version_minor": 0
      },
      "text/plain": [
       "Validating:   0%|          | 0/250 [00:00<?, ?it/s]"
      ]
     },
     "metadata": {},
     "output_type": "display_data"
    },
    {
     "name": "stdout",
     "output_type": "stream",
     "text": [
      "📗 Validation - Loss: 1.9689, Perplexity: 7.16, Token Acc: 39.25%\n"
     ]
    },
    {
     "data": {
      "application/vnd.jupyter.widget-view+json": {
       "model_id": "2b778d0b863a47f2876cc3d6c708c696",
       "version_major": 2,
       "version_minor": 0
      },
      "text/plain": [
       "Epoch 186/1000 [Training]:   0%|          | 0/1125 [00:00<?, ?it/s]"
      ]
     },
     "metadata": {},
     "output_type": "display_data"
    },
    {
     "name": "stdout",
     "output_type": "stream",
     "text": [
      "\n",
      "📘 Epoch 186/1000 - Train Loss: 2.0994\n"
     ]
    },
    {
     "data": {
      "application/vnd.jupyter.widget-view+json": {
       "model_id": "2c7fedc7dd7b4fd2a64a5de26fd8b916",
       "version_major": 2,
       "version_minor": 0
      },
      "text/plain": [
       "Validating:   0%|          | 0/250 [00:00<?, ?it/s]"
      ]
     },
     "metadata": {},
     "output_type": "display_data"
    },
    {
     "name": "stdout",
     "output_type": "stream",
     "text": [
      "📗 Validation - Loss: 1.9695, Perplexity: 7.17, Token Acc: 39.27%\n",
      "✅ Saved checkpoint: checkpoints/blt_epoch186.pt\n"
     ]
    },
    {
     "data": {
      "application/vnd.jupyter.widget-view+json": {
       "model_id": "1688d5a893a543cc98ed57a8b5eee4b7",
       "version_major": 2,
       "version_minor": 0
      },
      "text/plain": [
       "Epoch 187/1000 [Training]:   0%|          | 0/1125 [00:00<?, ?it/s]"
      ]
     },
     "metadata": {},
     "output_type": "display_data"
    },
    {
     "name": "stdout",
     "output_type": "stream",
     "text": [
      "\n",
      "📘 Epoch 187/1000 - Train Loss: 2.0986\n"
     ]
    },
    {
     "data": {
      "application/vnd.jupyter.widget-view+json": {
       "model_id": "06a876a3a08245aaa55fef42fd8118b2",
       "version_major": 2,
       "version_minor": 0
      },
      "text/plain": [
       "Validating:   0%|          | 0/250 [00:00<?, ?it/s]"
      ]
     },
     "metadata": {},
     "output_type": "display_data"
    },
    {
     "name": "stdout",
     "output_type": "stream",
     "text": [
      "📗 Validation - Loss: 1.9689, Perplexity: 7.16, Token Acc: 39.24%\n"
     ]
    },
    {
     "data": {
      "application/vnd.jupyter.widget-view+json": {
       "model_id": "e47c18f847bc41bca8c7e8b70772f7bb",
       "version_major": 2,
       "version_minor": 0
      },
      "text/plain": [
       "Epoch 188/1000 [Training]:   0%|          | 0/1125 [00:00<?, ?it/s]"
      ]
     },
     "metadata": {},
     "output_type": "display_data"
    },
    {
     "name": "stdout",
     "output_type": "stream",
     "text": [
      "\n",
      "📘 Epoch 188/1000 - Train Loss: 2.0996\n"
     ]
    },
    {
     "data": {
      "application/vnd.jupyter.widget-view+json": {
       "model_id": "0eddf006f91544d9a2b2dcc0f2f78cef",
       "version_major": 2,
       "version_minor": 0
      },
      "text/plain": [
       "Validating:   0%|          | 0/250 [00:00<?, ?it/s]"
      ]
     },
     "metadata": {},
     "output_type": "display_data"
    },
    {
     "name": "stdout",
     "output_type": "stream",
     "text": [
      "📗 Validation - Loss: 1.9673, Perplexity: 7.15, Token Acc: 39.29%\n",
      "✅ Saved checkpoint: checkpoints/blt_epoch188.pt\n"
     ]
    },
    {
     "data": {
      "application/vnd.jupyter.widget-view+json": {
       "model_id": "b2a0d44254b548b6b945aa99cbb74292",
       "version_major": 2,
       "version_minor": 0
      },
      "text/plain": [
       "Epoch 189/1000 [Training]:   0%|          | 0/1125 [00:00<?, ?it/s]"
      ]
     },
     "metadata": {},
     "output_type": "display_data"
    },
    {
     "name": "stdout",
     "output_type": "stream",
     "text": [
      "\n",
      "📘 Epoch 189/1000 - Train Loss: 2.0974\n"
     ]
    },
    {
     "data": {
      "application/vnd.jupyter.widget-view+json": {
       "model_id": "c868d500f85b4534adde864540430f3b",
       "version_major": 2,
       "version_minor": 0
      },
      "text/plain": [
       "Validating:   0%|          | 0/250 [00:00<?, ?it/s]"
      ]
     },
     "metadata": {},
     "output_type": "display_data"
    },
    {
     "name": "stdout",
     "output_type": "stream",
     "text": [
      "📗 Validation - Loss: 1.9669, Perplexity: 7.15, Token Acc: 39.22%\n"
     ]
    },
    {
     "data": {
      "application/vnd.jupyter.widget-view+json": {
       "model_id": "d9a986beb3e84cc59239cbae044596c9",
       "version_major": 2,
       "version_minor": 0
      },
      "text/plain": [
       "Epoch 190/1000 [Training]:   0%|          | 0/1125 [00:00<?, ?it/s]"
      ]
     },
     "metadata": {},
     "output_type": "display_data"
    },
    {
     "name": "stdout",
     "output_type": "stream",
     "text": [
      "\n",
      "📘 Epoch 190/1000 - Train Loss: 2.0976\n"
     ]
    },
    {
     "data": {
      "application/vnd.jupyter.widget-view+json": {
       "model_id": "7055dffc169d46e1885aac9e6d565ca7",
       "version_major": 2,
       "version_minor": 0
      },
      "text/plain": [
       "Validating:   0%|          | 0/250 [00:00<?, ?it/s]"
      ]
     },
     "metadata": {},
     "output_type": "display_data"
    },
    {
     "name": "stdout",
     "output_type": "stream",
     "text": [
      "📗 Validation - Loss: 1.9669, Perplexity: 7.15, Token Acc: 39.19%\n",
      "✅ Saved checkpoint: checkpoints/blt_epoch190.pt\n"
     ]
    },
    {
     "data": {
      "application/vnd.jupyter.widget-view+json": {
       "model_id": "c725377bee94414b9565ce455ff927ce",
       "version_major": 2,
       "version_minor": 0
      },
      "text/plain": [
       "Epoch 191/1000 [Training]:   0%|          | 0/1125 [00:00<?, ?it/s]"
      ]
     },
     "metadata": {},
     "output_type": "display_data"
    },
    {
     "name": "stdout",
     "output_type": "stream",
     "text": [
      "\n",
      "📘 Epoch 191/1000 - Train Loss: 2.0976\n"
     ]
    },
    {
     "data": {
      "application/vnd.jupyter.widget-view+json": {
       "model_id": "b3577609aa1d49be92d92df556944800",
       "version_major": 2,
       "version_minor": 0
      },
      "text/plain": [
       "Validating:   0%|          | 0/250 [00:00<?, ?it/s]"
      ]
     },
     "metadata": {},
     "output_type": "display_data"
    },
    {
     "name": "stdout",
     "output_type": "stream",
     "text": [
      "📗 Validation - Loss: 1.9653, Perplexity: 7.14, Token Acc: 39.35%\n"
     ]
    },
    {
     "data": {
      "application/vnd.jupyter.widget-view+json": {
       "model_id": "f7748a022c87490baed76894781cd38b",
       "version_major": 2,
       "version_minor": 0
      },
      "text/plain": [
       "Epoch 192/1000 [Training]:   0%|          | 0/1125 [00:00<?, ?it/s]"
      ]
     },
     "metadata": {},
     "output_type": "display_data"
    },
    {
     "name": "stdout",
     "output_type": "stream",
     "text": [
      "\n",
      "📘 Epoch 192/1000 - Train Loss: 2.0971\n"
     ]
    },
    {
     "data": {
      "application/vnd.jupyter.widget-view+json": {
       "model_id": "1cd56ba2185a47a8b9a08044a39929dc",
       "version_major": 2,
       "version_minor": 0
      },
      "text/plain": [
       "Validating:   0%|          | 0/250 [00:00<?, ?it/s]"
      ]
     },
     "metadata": {},
     "output_type": "display_data"
    },
    {
     "name": "stdout",
     "output_type": "stream",
     "text": [
      "📗 Validation - Loss: 1.9646, Perplexity: 7.13, Token Acc: 39.32%\n",
      "✅ Saved checkpoint: checkpoints/blt_epoch192.pt\n"
     ]
    },
    {
     "data": {
      "application/vnd.jupyter.widget-view+json": {
       "model_id": "ce04eb6518874fb7a747de5d87dfe914",
       "version_major": 2,
       "version_minor": 0
      },
      "text/plain": [
       "Epoch 193/1000 [Training]:   0%|          | 0/1125 [00:00<?, ?it/s]"
      ]
     },
     "metadata": {},
     "output_type": "display_data"
    },
    {
     "name": "stdout",
     "output_type": "stream",
     "text": [
      "\n",
      "📘 Epoch 193/1000 - Train Loss: 2.0963\n"
     ]
    },
    {
     "data": {
      "application/vnd.jupyter.widget-view+json": {
       "model_id": "06abdd88e5184c0f9273519c8c9bda8a",
       "version_major": 2,
       "version_minor": 0
      },
      "text/plain": [
       "Validating:   0%|          | 0/250 [00:00<?, ?it/s]"
      ]
     },
     "metadata": {},
     "output_type": "display_data"
    },
    {
     "name": "stdout",
     "output_type": "stream",
     "text": [
      "📗 Validation - Loss: 1.9642, Perplexity: 7.13, Token Acc: 39.31%\n"
     ]
    },
    {
     "data": {
      "application/vnd.jupyter.widget-view+json": {
       "model_id": "c8818eaee72b4320bb520e26302e2807",
       "version_major": 2,
       "version_minor": 0
      },
      "text/plain": [
       "Epoch 194/1000 [Training]:   0%|          | 0/1125 [00:00<?, ?it/s]"
      ]
     },
     "metadata": {},
     "output_type": "display_data"
    },
    {
     "name": "stdout",
     "output_type": "stream",
     "text": [
      "\n",
      "📘 Epoch 194/1000 - Train Loss: 2.0967\n"
     ]
    },
    {
     "data": {
      "application/vnd.jupyter.widget-view+json": {
       "model_id": "e89beb22581b47b7918ce28815f2494a",
       "version_major": 2,
       "version_minor": 0
      },
      "text/plain": [
       "Validating:   0%|          | 0/250 [00:00<?, ?it/s]"
      ]
     },
     "metadata": {},
     "output_type": "display_data"
    },
    {
     "name": "stdout",
     "output_type": "stream",
     "text": [
      "📗 Validation - Loss: 1.9646, Perplexity: 7.13, Token Acc: 39.41%\n",
      "✅ Saved checkpoint: checkpoints/blt_epoch194.pt\n"
     ]
    },
    {
     "data": {
      "application/vnd.jupyter.widget-view+json": {
       "model_id": "a3de80e81676464bb2a01ee8985b746f",
       "version_major": 2,
       "version_minor": 0
      },
      "text/plain": [
       "Epoch 195/1000 [Training]:   0%|          | 0/1125 [00:00<?, ?it/s]"
      ]
     },
     "metadata": {},
     "output_type": "display_data"
    },
    {
     "name": "stdout",
     "output_type": "stream",
     "text": [
      "\n",
      "📘 Epoch 195/1000 - Train Loss: 2.0950\n"
     ]
    },
    {
     "data": {
      "application/vnd.jupyter.widget-view+json": {
       "model_id": "4b643d0ae5744413bd79f68062c6abe9",
       "version_major": 2,
       "version_minor": 0
      },
      "text/plain": [
       "Validating:   0%|          | 0/250 [00:00<?, ?it/s]"
      ]
     },
     "metadata": {},
     "output_type": "display_data"
    },
    {
     "name": "stdout",
     "output_type": "stream",
     "text": [
      "📗 Validation - Loss: 1.9636, Perplexity: 7.12, Token Acc: 39.35%\n"
     ]
    },
    {
     "data": {
      "application/vnd.jupyter.widget-view+json": {
       "model_id": "8f06f865ea9d470886ae5e16aaea0d24",
       "version_major": 2,
       "version_minor": 0
      },
      "text/plain": [
       "Epoch 196/1000 [Training]:   0%|          | 0/1125 [00:00<?, ?it/s]"
      ]
     },
     "metadata": {},
     "output_type": "display_data"
    },
    {
     "name": "stdout",
     "output_type": "stream",
     "text": [
      "\n",
      "📘 Epoch 196/1000 - Train Loss: 2.0943\n"
     ]
    },
    {
     "data": {
      "application/vnd.jupyter.widget-view+json": {
       "model_id": "9b9a43f25e3c42859bda6dc7e4bf3350",
       "version_major": 2,
       "version_minor": 0
      },
      "text/plain": [
       "Validating:   0%|          | 0/250 [00:00<?, ?it/s]"
      ]
     },
     "metadata": {},
     "output_type": "display_data"
    },
    {
     "name": "stdout",
     "output_type": "stream",
     "text": [
      "📗 Validation - Loss: 1.9611, Perplexity: 7.11, Token Acc: 39.45%\n",
      "✅ Saved checkpoint: checkpoints/blt_epoch196.pt\n"
     ]
    },
    {
     "data": {
      "application/vnd.jupyter.widget-view+json": {
       "model_id": "3da28a5ec1eb47a4bb407e0b500d787d",
       "version_major": 2,
       "version_minor": 0
      },
      "text/plain": [
       "Epoch 197/1000 [Training]:   0%|          | 0/1125 [00:00<?, ?it/s]"
      ]
     },
     "metadata": {},
     "output_type": "display_data"
    },
    {
     "name": "stdout",
     "output_type": "stream",
     "text": [
      "\n",
      "📘 Epoch 197/1000 - Train Loss: 2.0946\n"
     ]
    },
    {
     "data": {
      "application/vnd.jupyter.widget-view+json": {
       "model_id": "790327cd76f7481197ce0a62aa8f76e6",
       "version_major": 2,
       "version_minor": 0
      },
      "text/plain": [
       "Validating:   0%|          | 0/250 [00:00<?, ?it/s]"
      ]
     },
     "metadata": {},
     "output_type": "display_data"
    },
    {
     "name": "stdout",
     "output_type": "stream",
     "text": [
      "📗 Validation - Loss: 1.9623, Perplexity: 7.12, Token Acc: 39.40%\n"
     ]
    },
    {
     "data": {
      "application/vnd.jupyter.widget-view+json": {
       "model_id": "bf23e616e3964cdda9a8ac704ac29b4d",
       "version_major": 2,
       "version_minor": 0
      },
      "text/plain": [
       "Epoch 198/1000 [Training]:   0%|          | 0/1125 [00:00<?, ?it/s]"
      ]
     },
     "metadata": {},
     "output_type": "display_data"
    },
    {
     "name": "stdout",
     "output_type": "stream",
     "text": [
      "\n",
      "📘 Epoch 198/1000 - Train Loss: 2.0935\n"
     ]
    },
    {
     "data": {
      "application/vnd.jupyter.widget-view+json": {
       "model_id": "e5cc72bbd02346598082d56ee5c6225f",
       "version_major": 2,
       "version_minor": 0
      },
      "text/plain": [
       "Validating:   0%|          | 0/250 [00:00<?, ?it/s]"
      ]
     },
     "metadata": {},
     "output_type": "display_data"
    },
    {
     "name": "stdout",
     "output_type": "stream",
     "text": [
      "📗 Validation - Loss: 1.9598, Perplexity: 7.10, Token Acc: 39.53%\n",
      "✅ Saved checkpoint: checkpoints/blt_epoch198.pt\n"
     ]
    },
    {
     "data": {
      "application/vnd.jupyter.widget-view+json": {
       "model_id": "d2936a9324f849be8f1f3f36cad494e7",
       "version_major": 2,
       "version_minor": 0
      },
      "text/plain": [
       "Epoch 199/1000 [Training]:   0%|          | 0/1125 [00:00<?, ?it/s]"
      ]
     },
     "metadata": {},
     "output_type": "display_data"
    },
    {
     "name": "stdout",
     "output_type": "stream",
     "text": [
      "\n",
      "📘 Epoch 199/1000 - Train Loss: 2.0922\n"
     ]
    },
    {
     "data": {
      "application/vnd.jupyter.widget-view+json": {
       "model_id": "e2641c6bcd144902ae4d705911dff3c1",
       "version_major": 2,
       "version_minor": 0
      },
      "text/plain": [
       "Validating:   0%|          | 0/250 [00:00<?, ?it/s]"
      ]
     },
     "metadata": {},
     "output_type": "display_data"
    },
    {
     "name": "stdout",
     "output_type": "stream",
     "text": [
      "📗 Validation - Loss: 1.9607, Perplexity: 7.10, Token Acc: 39.33%\n"
     ]
    },
    {
     "data": {
      "application/vnd.jupyter.widget-view+json": {
       "model_id": "d0d4a68f12974887a77a596b6fd24b67",
       "version_major": 2,
       "version_minor": 0
      },
      "text/plain": [
       "Epoch 200/1000 [Training]:   0%|          | 0/1125 [00:00<?, ?it/s]"
      ]
     },
     "metadata": {},
     "output_type": "display_data"
    },
    {
     "name": "stdout",
     "output_type": "stream",
     "text": [
      "\n",
      "📘 Epoch 200/1000 - Train Loss: 2.0922\n"
     ]
    },
    {
     "data": {
      "application/vnd.jupyter.widget-view+json": {
       "model_id": "aff3a5e4fe4347c2866e94b097553656",
       "version_major": 2,
       "version_minor": 0
      },
      "text/plain": [
       "Validating:   0%|          | 0/250 [00:00<?, ?it/s]"
      ]
     },
     "metadata": {},
     "output_type": "display_data"
    },
    {
     "name": "stdout",
     "output_type": "stream",
     "text": [
      "📗 Validation - Loss: 1.9608, Perplexity: 7.10, Token Acc: 39.38%\n",
      "✅ Saved checkpoint: checkpoints/blt_epoch200.pt\n"
     ]
    },
    {
     "data": {
      "application/vnd.jupyter.widget-view+json": {
       "model_id": "42b9e5a05c774fef846411186b1bd492",
       "version_major": 2,
       "version_minor": 0
      },
      "text/plain": [
       "Epoch 201/1000 [Training]:   0%|          | 0/1125 [00:00<?, ?it/s]"
      ]
     },
     "metadata": {},
     "output_type": "display_data"
    },
    {
     "name": "stdout",
     "output_type": "stream",
     "text": [
      "\n",
      "📘 Epoch 201/1000 - Train Loss: 2.0929\n"
     ]
    },
    {
     "data": {
      "application/vnd.jupyter.widget-view+json": {
       "model_id": "af76f2471d594ecf950721c606f6355b",
       "version_major": 2,
       "version_minor": 0
      },
      "text/plain": [
       "Validating:   0%|          | 0/250 [00:00<?, ?it/s]"
      ]
     },
     "metadata": {},
     "output_type": "display_data"
    },
    {
     "name": "stdout",
     "output_type": "stream",
     "text": [
      "📗 Validation - Loss: 1.9607, Perplexity: 7.10, Token Acc: 39.36%\n"
     ]
    },
    {
     "data": {
      "application/vnd.jupyter.widget-view+json": {
       "model_id": "831e97f8c6a245a08a964cc6a4236bdb",
       "version_major": 2,
       "version_minor": 0
      },
      "text/plain": [
       "Epoch 202/1000 [Training]:   0%|          | 0/1125 [00:00<?, ?it/s]"
      ]
     },
     "metadata": {},
     "output_type": "display_data"
    },
    {
     "name": "stdout",
     "output_type": "stream",
     "text": [
      "\n",
      "📘 Epoch 202/1000 - Train Loss: 2.0922\n"
     ]
    },
    {
     "data": {
      "application/vnd.jupyter.widget-view+json": {
       "model_id": "99fd50d30a4641e984f6a81dc27a6698",
       "version_major": 2,
       "version_minor": 0
      },
      "text/plain": [
       "Validating:   0%|          | 0/250 [00:00<?, ?it/s]"
      ]
     },
     "metadata": {},
     "output_type": "display_data"
    },
    {
     "name": "stdout",
     "output_type": "stream",
     "text": [
      "📗 Validation - Loss: 1.9580, Perplexity: 7.08, Token Acc: 39.71%\n",
      "✅ Saved checkpoint: checkpoints/blt_epoch202.pt\n"
     ]
    },
    {
     "data": {
      "application/vnd.jupyter.widget-view+json": {
       "model_id": "38b3d15b05904d66adb3d8e12bc21642",
       "version_major": 2,
       "version_minor": 0
      },
      "text/plain": [
       "Epoch 203/1000 [Training]:   0%|          | 0/1125 [00:00<?, ?it/s]"
      ]
     },
     "metadata": {},
     "output_type": "display_data"
    },
    {
     "name": "stdout",
     "output_type": "stream",
     "text": [
      "\n",
      "📘 Epoch 203/1000 - Train Loss: 2.0922\n"
     ]
    },
    {
     "data": {
      "application/vnd.jupyter.widget-view+json": {
       "model_id": "539d0b59d51f4fab97bad1d5035076f2",
       "version_major": 2,
       "version_minor": 0
      },
      "text/plain": [
       "Validating:   0%|          | 0/250 [00:00<?, ?it/s]"
      ]
     },
     "metadata": {},
     "output_type": "display_data"
    },
    {
     "name": "stdout",
     "output_type": "stream",
     "text": [
      "📗 Validation - Loss: 1.9579, Perplexity: 7.08, Token Acc: 39.42%\n"
     ]
    },
    {
     "data": {
      "application/vnd.jupyter.widget-view+json": {
       "model_id": "7b1a84a8568e487e8af27b9dd6b22040",
       "version_major": 2,
       "version_minor": 0
      },
      "text/plain": [
       "Epoch 204/1000 [Training]:   0%|          | 0/1125 [00:00<?, ?it/s]"
      ]
     },
     "metadata": {},
     "output_type": "display_data"
    },
    {
     "name": "stdout",
     "output_type": "stream",
     "text": [
      "\n",
      "📘 Epoch 204/1000 - Train Loss: 2.0914\n"
     ]
    },
    {
     "data": {
      "application/vnd.jupyter.widget-view+json": {
       "model_id": "f55672f3ec8a41caba154d039cd9aa6d",
       "version_major": 2,
       "version_minor": 0
      },
      "text/plain": [
       "Validating:   0%|          | 0/250 [00:00<?, ?it/s]"
      ]
     },
     "metadata": {},
     "output_type": "display_data"
    },
    {
     "name": "stdout",
     "output_type": "stream",
     "text": [
      "📗 Validation - Loss: 1.9568, Perplexity: 7.08, Token Acc: 39.63%\n",
      "✅ Saved checkpoint: checkpoints/blt_epoch204.pt\n"
     ]
    },
    {
     "data": {
      "application/vnd.jupyter.widget-view+json": {
       "model_id": "8318811c72b847a89fe5c9801fab737e",
       "version_major": 2,
       "version_minor": 0
      },
      "text/plain": [
       "Epoch 205/1000 [Training]:   0%|          | 0/1125 [00:00<?, ?it/s]"
      ]
     },
     "metadata": {},
     "output_type": "display_data"
    },
    {
     "name": "stdout",
     "output_type": "stream",
     "text": [
      "\n",
      "📘 Epoch 205/1000 - Train Loss: 2.0905\n"
     ]
    },
    {
     "data": {
      "application/vnd.jupyter.widget-view+json": {
       "model_id": "ec6133e4d7f54b0a925ce3fb503cb4fa",
       "version_major": 2,
       "version_minor": 0
      },
      "text/plain": [
       "Validating:   0%|          | 0/250 [00:00<?, ?it/s]"
      ]
     },
     "metadata": {},
     "output_type": "display_data"
    },
    {
     "name": "stdout",
     "output_type": "stream",
     "text": [
      "📗 Validation - Loss: 1.9570, Perplexity: 7.08, Token Acc: 39.50%\n"
     ]
    },
    {
     "data": {
      "application/vnd.jupyter.widget-view+json": {
       "model_id": "9b681a0867774a8b828442984054900b",
       "version_major": 2,
       "version_minor": 0
      },
      "text/plain": [
       "Epoch 206/1000 [Training]:   0%|          | 0/1125 [00:00<?, ?it/s]"
      ]
     },
     "metadata": {},
     "output_type": "display_data"
    },
    {
     "name": "stdout",
     "output_type": "stream",
     "text": [
      "\n",
      "📘 Epoch 206/1000 - Train Loss: 2.0916\n"
     ]
    },
    {
     "data": {
      "application/vnd.jupyter.widget-view+json": {
       "model_id": "3294c77f8816458a81091e82f384cb26",
       "version_major": 2,
       "version_minor": 0
      },
      "text/plain": [
       "Validating:   0%|          | 0/250 [00:00<?, ?it/s]"
      ]
     },
     "metadata": {},
     "output_type": "display_data"
    },
    {
     "name": "stdout",
     "output_type": "stream",
     "text": [
      "📗 Validation - Loss: 1.9567, Perplexity: 7.08, Token Acc: 39.50%\n",
      "✅ Saved checkpoint: checkpoints/blt_epoch206.pt\n"
     ]
    },
    {
     "data": {
      "application/vnd.jupyter.widget-view+json": {
       "model_id": "81cf39c2fa5a406f87d3f67c450e560d",
       "version_major": 2,
       "version_minor": 0
      },
      "text/plain": [
       "Epoch 207/1000 [Training]:   0%|          | 0/1125 [00:00<?, ?it/s]"
      ]
     },
     "metadata": {},
     "output_type": "display_data"
    },
    {
     "name": "stdout",
     "output_type": "stream",
     "text": [
      "\n",
      "📘 Epoch 207/1000 - Train Loss: 2.0906\n"
     ]
    },
    {
     "data": {
      "application/vnd.jupyter.widget-view+json": {
       "model_id": "57bbf99c60f04a7593b367a223d357ac",
       "version_major": 2,
       "version_minor": 0
      },
      "text/plain": [
       "Validating:   0%|          | 0/250 [00:00<?, ?it/s]"
      ]
     },
     "metadata": {},
     "output_type": "display_data"
    },
    {
     "name": "stdout",
     "output_type": "stream",
     "text": [
      "📗 Validation - Loss: 1.9545, Perplexity: 7.06, Token Acc: 39.67%\n"
     ]
    },
    {
     "data": {
      "application/vnd.jupyter.widget-view+json": {
       "model_id": "7ef2b627f2ed427ab26180eb28c4e226",
       "version_major": 2,
       "version_minor": 0
      },
      "text/plain": [
       "Epoch 208/1000 [Training]:   0%|          | 0/1125 [00:00<?, ?it/s]"
      ]
     },
     "metadata": {},
     "output_type": "display_data"
    },
    {
     "name": "stdout",
     "output_type": "stream",
     "text": [
      "\n",
      "📘 Epoch 208/1000 - Train Loss: 2.0900\n"
     ]
    },
    {
     "data": {
      "application/vnd.jupyter.widget-view+json": {
       "model_id": "70b9240067ce4431bbb2e7f0936cf0e9",
       "version_major": 2,
       "version_minor": 0
      },
      "text/plain": [
       "Validating:   0%|          | 0/250 [00:00<?, ?it/s]"
      ]
     },
     "metadata": {},
     "output_type": "display_data"
    },
    {
     "name": "stdout",
     "output_type": "stream",
     "text": [
      "📗 Validation - Loss: 1.9569, Perplexity: 7.08, Token Acc: 39.63%\n",
      "✅ Saved checkpoint: checkpoints/blt_epoch208.pt\n"
     ]
    },
    {
     "data": {
      "application/vnd.jupyter.widget-view+json": {
       "model_id": "6f70b10c178749c9aac49a5e1cb95e07",
       "version_major": 2,
       "version_minor": 0
      },
      "text/plain": [
       "Epoch 209/1000 [Training]:   0%|          | 0/1125 [00:00<?, ?it/s]"
      ]
     },
     "metadata": {},
     "output_type": "display_data"
    },
    {
     "name": "stdout",
     "output_type": "stream",
     "text": [
      "\n",
      "📘 Epoch 209/1000 - Train Loss: 2.0881\n"
     ]
    },
    {
     "data": {
      "application/vnd.jupyter.widget-view+json": {
       "model_id": "7e3e9156b2d14886a627fcc595727023",
       "version_major": 2,
       "version_minor": 0
      },
      "text/plain": [
       "Validating:   0%|          | 0/250 [00:00<?, ?it/s]"
      ]
     },
     "metadata": {},
     "output_type": "display_data"
    },
    {
     "name": "stdout",
     "output_type": "stream",
     "text": [
      "📗 Validation - Loss: 1.9556, Perplexity: 7.07, Token Acc: 39.69%\n"
     ]
    },
    {
     "data": {
      "application/vnd.jupyter.widget-view+json": {
       "model_id": "da697eb45b034373903f366f8871b8d5",
       "version_major": 2,
       "version_minor": 0
      },
      "text/plain": [
       "Epoch 210/1000 [Training]:   0%|          | 0/1125 [00:00<?, ?it/s]"
      ]
     },
     "metadata": {},
     "output_type": "display_data"
    },
    {
     "name": "stdout",
     "output_type": "stream",
     "text": [
      "\n",
      "📘 Epoch 210/1000 - Train Loss: 2.0875\n"
     ]
    },
    {
     "data": {
      "application/vnd.jupyter.widget-view+json": {
       "model_id": "7f1bcc88ba0849409b973b891048921e",
       "version_major": 2,
       "version_minor": 0
      },
      "text/plain": [
       "Validating:   0%|          | 0/250 [00:00<?, ?it/s]"
      ]
     },
     "metadata": {},
     "output_type": "display_data"
    },
    {
     "name": "stdout",
     "output_type": "stream",
     "text": [
      "📗 Validation - Loss: 1.9521, Perplexity: 7.04, Token Acc: 39.74%\n",
      "✅ Saved checkpoint: checkpoints/blt_epoch210.pt\n"
     ]
    },
    {
     "data": {
      "application/vnd.jupyter.widget-view+json": {
       "model_id": "88f3fa23075d49a29b776d055aed5c19",
       "version_major": 2,
       "version_minor": 0
      },
      "text/plain": [
       "Epoch 211/1000 [Training]:   0%|          | 0/1125 [00:00<?, ?it/s]"
      ]
     },
     "metadata": {},
     "output_type": "display_data"
    },
    {
     "name": "stdout",
     "output_type": "stream",
     "text": [
      "\n",
      "📘 Epoch 211/1000 - Train Loss: 2.0869\n"
     ]
    },
    {
     "data": {
      "application/vnd.jupyter.widget-view+json": {
       "model_id": "dbf987a3053a4be6a2b991d42c65d6d6",
       "version_major": 2,
       "version_minor": 0
      },
      "text/plain": [
       "Validating:   0%|          | 0/250 [00:00<?, ?it/s]"
      ]
     },
     "metadata": {},
     "output_type": "display_data"
    },
    {
     "name": "stdout",
     "output_type": "stream",
     "text": [
      "📗 Validation - Loss: 1.9537, Perplexity: 7.05, Token Acc: 39.68%\n"
     ]
    },
    {
     "data": {
      "application/vnd.jupyter.widget-view+json": {
       "model_id": "d59d61f92e3e45e5829ffc40ef68dac2",
       "version_major": 2,
       "version_minor": 0
      },
      "text/plain": [
       "Epoch 212/1000 [Training]:   0%|          | 0/1125 [00:00<?, ?it/s]"
      ]
     },
     "metadata": {},
     "output_type": "display_data"
    },
    {
     "name": "stdout",
     "output_type": "stream",
     "text": [
      "\n",
      "📘 Epoch 212/1000 - Train Loss: 2.0873\n"
     ]
    },
    {
     "data": {
      "application/vnd.jupyter.widget-view+json": {
       "model_id": "2d25817e328f41e69bc4362f72209720",
       "version_major": 2,
       "version_minor": 0
      },
      "text/plain": [
       "Validating:   0%|          | 0/250 [00:00<?, ?it/s]"
      ]
     },
     "metadata": {},
     "output_type": "display_data"
    },
    {
     "name": "stdout",
     "output_type": "stream",
     "text": [
      "📗 Validation - Loss: 1.9515, Perplexity: 7.04, Token Acc: 39.75%\n",
      "✅ Saved checkpoint: checkpoints/blt_epoch212.pt\n"
     ]
    },
    {
     "data": {
      "application/vnd.jupyter.widget-view+json": {
       "model_id": "ace63e1b4c6446c5ac28a07a4b34c7bb",
       "version_major": 2,
       "version_minor": 0
      },
      "text/plain": [
       "Epoch 213/1000 [Training]:   0%|          | 0/1125 [00:00<?, ?it/s]"
      ]
     },
     "metadata": {},
     "output_type": "display_data"
    },
    {
     "name": "stdout",
     "output_type": "stream",
     "text": [
      "\n",
      "📘 Epoch 213/1000 - Train Loss: 2.0854\n"
     ]
    },
    {
     "data": {
      "application/vnd.jupyter.widget-view+json": {
       "model_id": "d40529d2689b48b69b636171cc586cb1",
       "version_major": 2,
       "version_minor": 0
      },
      "text/plain": [
       "Validating:   0%|          | 0/250 [00:00<?, ?it/s]"
      ]
     },
     "metadata": {},
     "output_type": "display_data"
    },
    {
     "name": "stdout",
     "output_type": "stream",
     "text": [
      "📗 Validation - Loss: 1.9522, Perplexity: 7.04, Token Acc: 39.81%\n"
     ]
    },
    {
     "data": {
      "application/vnd.jupyter.widget-view+json": {
       "model_id": "871260e846a3405caf104b22928e1955",
       "version_major": 2,
       "version_minor": 0
      },
      "text/plain": [
       "Epoch 214/1000 [Training]:   0%|          | 0/1125 [00:00<?, ?it/s]"
      ]
     },
     "metadata": {},
     "output_type": "display_data"
    },
    {
     "name": "stdout",
     "output_type": "stream",
     "text": [
      "\n",
      "📘 Epoch 214/1000 - Train Loss: 2.0856\n"
     ]
    },
    {
     "data": {
      "application/vnd.jupyter.widget-view+json": {
       "model_id": "a9a0a69316d74229bc159a6f892fd874",
       "version_major": 2,
       "version_minor": 0
      },
      "text/plain": [
       "Validating:   0%|          | 0/250 [00:00<?, ?it/s]"
      ]
     },
     "metadata": {},
     "output_type": "display_data"
    },
    {
     "name": "stdout",
     "output_type": "stream",
     "text": [
      "📗 Validation - Loss: 1.9516, Perplexity: 7.04, Token Acc: 39.82%\n",
      "✅ Saved checkpoint: checkpoints/blt_epoch214.pt\n"
     ]
    },
    {
     "data": {
      "application/vnd.jupyter.widget-view+json": {
       "model_id": "adf2e70613a0473d8a31ab34d49fc35e",
       "version_major": 2,
       "version_minor": 0
      },
      "text/plain": [
       "Epoch 215/1000 [Training]:   0%|          | 0/1125 [00:00<?, ?it/s]"
      ]
     },
     "metadata": {},
     "output_type": "display_data"
    },
    {
     "name": "stdout",
     "output_type": "stream",
     "text": [
      "\n",
      "📘 Epoch 215/1000 - Train Loss: 2.0850\n"
     ]
    },
    {
     "data": {
      "application/vnd.jupyter.widget-view+json": {
       "model_id": "2820ade3352b441bb5cce16aa00a3518",
       "version_major": 2,
       "version_minor": 0
      },
      "text/plain": [
       "Validating:   0%|          | 0/250 [00:00<?, ?it/s]"
      ]
     },
     "metadata": {},
     "output_type": "display_data"
    },
    {
     "name": "stdout",
     "output_type": "stream",
     "text": [
      "📗 Validation - Loss: 1.9501, Perplexity: 7.03, Token Acc: 39.75%\n"
     ]
    },
    {
     "data": {
      "application/vnd.jupyter.widget-view+json": {
       "model_id": "2000803685df4b699c64870cd24a2595",
       "version_major": 2,
       "version_minor": 0
      },
      "text/plain": [
       "Epoch 216/1000 [Training]:   0%|          | 0/1125 [00:00<?, ?it/s]"
      ]
     },
     "metadata": {},
     "output_type": "display_data"
    },
    {
     "name": "stdout",
     "output_type": "stream",
     "text": [
      "\n",
      "📘 Epoch 216/1000 - Train Loss: 2.0842\n"
     ]
    },
    {
     "data": {
      "application/vnd.jupyter.widget-view+json": {
       "model_id": "baabf25c52f246d59c86679a0b25feb6",
       "version_major": 2,
       "version_minor": 0
      },
      "text/plain": [
       "Validating:   0%|          | 0/250 [00:00<?, ?it/s]"
      ]
     },
     "metadata": {},
     "output_type": "display_data"
    },
    {
     "name": "stdout",
     "output_type": "stream",
     "text": [
      "📗 Validation - Loss: 1.9496, Perplexity: 7.03, Token Acc: 39.78%\n",
      "✅ Saved checkpoint: checkpoints/blt_epoch216.pt\n"
     ]
    },
    {
     "data": {
      "application/vnd.jupyter.widget-view+json": {
       "model_id": "eb8d9cb3cdab4899ab828d8c81e853e0",
       "version_major": 2,
       "version_minor": 0
      },
      "text/plain": [
       "Epoch 217/1000 [Training]:   0%|          | 0/1125 [00:00<?, ?it/s]"
      ]
     },
     "metadata": {},
     "output_type": "display_data"
    },
    {
     "name": "stdout",
     "output_type": "stream",
     "text": [
      "\n",
      "📘 Epoch 217/1000 - Train Loss: 2.0845\n"
     ]
    },
    {
     "data": {
      "application/vnd.jupyter.widget-view+json": {
       "model_id": "1de2f78adfeb4b9bb8ad029f0f717b9c",
       "version_major": 2,
       "version_minor": 0
      },
      "text/plain": [
       "Validating:   0%|          | 0/250 [00:00<?, ?it/s]"
      ]
     },
     "metadata": {},
     "output_type": "display_data"
    },
    {
     "name": "stdout",
     "output_type": "stream",
     "text": [
      "📗 Validation - Loss: 1.9487, Perplexity: 7.02, Token Acc: 39.95%\n"
     ]
    },
    {
     "data": {
      "application/vnd.jupyter.widget-view+json": {
       "model_id": "2dbf0395c28844139b124039e1ec0d88",
       "version_major": 2,
       "version_minor": 0
      },
      "text/plain": [
       "Epoch 218/1000 [Training]:   0%|          | 0/1125 [00:00<?, ?it/s]"
      ]
     },
     "metadata": {},
     "output_type": "display_data"
    },
    {
     "name": "stdout",
     "output_type": "stream",
     "text": [
      "\n",
      "📘 Epoch 218/1000 - Train Loss: 2.0840\n"
     ]
    },
    {
     "data": {
      "application/vnd.jupyter.widget-view+json": {
       "model_id": "acf32f46f26c4521a0f39ccef499dda0",
       "version_major": 2,
       "version_minor": 0
      },
      "text/plain": [
       "Validating:   0%|          | 0/250 [00:00<?, ?it/s]"
      ]
     },
     "metadata": {},
     "output_type": "display_data"
    },
    {
     "name": "stdout",
     "output_type": "stream",
     "text": [
      "📗 Validation - Loss: 1.9505, Perplexity: 7.03, Token Acc: 39.72%\n",
      "✅ Saved checkpoint: checkpoints/blt_epoch218.pt\n"
     ]
    },
    {
     "data": {
      "application/vnd.jupyter.widget-view+json": {
       "model_id": "48ac9961fd4b4866b472d5a64d1d5c04",
       "version_major": 2,
       "version_minor": 0
      },
      "text/plain": [
       "Epoch 219/1000 [Training]:   0%|          | 0/1125 [00:00<?, ?it/s]"
      ]
     },
     "metadata": {},
     "output_type": "display_data"
    },
    {
     "name": "stdout",
     "output_type": "stream",
     "text": [
      "\n",
      "📘 Epoch 219/1000 - Train Loss: 2.0838\n"
     ]
    },
    {
     "data": {
      "application/vnd.jupyter.widget-view+json": {
       "model_id": "e310564aca4c480986f222cac8b36d32",
       "version_major": 2,
       "version_minor": 0
      },
      "text/plain": [
       "Validating:   0%|          | 0/250 [00:00<?, ?it/s]"
      ]
     },
     "metadata": {},
     "output_type": "display_data"
    },
    {
     "name": "stdout",
     "output_type": "stream",
     "text": [
      "📗 Validation - Loss: 1.9483, Perplexity: 7.02, Token Acc: 39.94%\n"
     ]
    },
    {
     "data": {
      "application/vnd.jupyter.widget-view+json": {
       "model_id": "bfae919c629f4b1cbb7d9c2b5dd17605",
       "version_major": 2,
       "version_minor": 0
      },
      "text/plain": [
       "Epoch 220/1000 [Training]:   0%|          | 0/1125 [00:00<?, ?it/s]"
      ]
     },
     "metadata": {},
     "output_type": "display_data"
    },
    {
     "name": "stdout",
     "output_type": "stream",
     "text": [
      "\n",
      "📘 Epoch 220/1000 - Train Loss: 2.0830\n"
     ]
    },
    {
     "data": {
      "application/vnd.jupyter.widget-view+json": {
       "model_id": "78d56a6904a54869a7641755b849c3cc",
       "version_major": 2,
       "version_minor": 0
      },
      "text/plain": [
       "Validating:   0%|          | 0/250 [00:00<?, ?it/s]"
      ]
     },
     "metadata": {},
     "output_type": "display_data"
    },
    {
     "name": "stdout",
     "output_type": "stream",
     "text": [
      "📗 Validation - Loss: 1.9498, Perplexity: 7.03, Token Acc: 39.77%\n",
      "✅ Saved checkpoint: checkpoints/blt_epoch220.pt\n"
     ]
    },
    {
     "data": {
      "application/vnd.jupyter.widget-view+json": {
       "model_id": "2e8b37d6a59c48f4b1732c53117ce6c6",
       "version_major": 2,
       "version_minor": 0
      },
      "text/plain": [
       "Epoch 221/1000 [Training]:   0%|          | 0/1125 [00:00<?, ?it/s]"
      ]
     },
     "metadata": {},
     "output_type": "display_data"
    },
    {
     "name": "stdout",
     "output_type": "stream",
     "text": [
      "\n",
      "📘 Epoch 221/1000 - Train Loss: 2.0839\n"
     ]
    },
    {
     "data": {
      "application/vnd.jupyter.widget-view+json": {
       "model_id": "5bec5af8da044b1abd1b4e1bc59d6100",
       "version_major": 2,
       "version_minor": 0
      },
      "text/plain": [
       "Validating:   0%|          | 0/250 [00:00<?, ?it/s]"
      ]
     },
     "metadata": {},
     "output_type": "display_data"
    },
    {
     "name": "stdout",
     "output_type": "stream",
     "text": [
      "📗 Validation - Loss: 1.9472, Perplexity: 7.01, Token Acc: 39.84%\n"
     ]
    },
    {
     "data": {
      "application/vnd.jupyter.widget-view+json": {
       "model_id": "9b03205d7bfb45deb48409b89d989bd2",
       "version_major": 2,
       "version_minor": 0
      },
      "text/plain": [
       "Epoch 222/1000 [Training]:   0%|          | 0/1125 [00:00<?, ?it/s]"
      ]
     },
     "metadata": {},
     "output_type": "display_data"
    },
    {
     "name": "stdout",
     "output_type": "stream",
     "text": [
      "\n",
      "📘 Epoch 222/1000 - Train Loss: 2.0829\n"
     ]
    },
    {
     "data": {
      "application/vnd.jupyter.widget-view+json": {
       "model_id": "b3f07f17c7ae4e40b4223dce3b8024a8",
       "version_major": 2,
       "version_minor": 0
      },
      "text/plain": [
       "Validating:   0%|          | 0/250 [00:00<?, ?it/s]"
      ]
     },
     "metadata": {},
     "output_type": "display_data"
    },
    {
     "name": "stdout",
     "output_type": "stream",
     "text": [
      "📗 Validation - Loss: 1.9469, Perplexity: 7.01, Token Acc: 39.92%\n",
      "✅ Saved checkpoint: checkpoints/blt_epoch222.pt\n"
     ]
    },
    {
     "data": {
      "application/vnd.jupyter.widget-view+json": {
       "model_id": "b9abbd1440614092a7ffa1bcd4f8cd99",
       "version_major": 2,
       "version_minor": 0
      },
      "text/plain": [
       "Epoch 223/1000 [Training]:   0%|          | 0/1125 [00:00<?, ?it/s]"
      ]
     },
     "metadata": {},
     "output_type": "display_data"
    },
    {
     "name": "stdout",
     "output_type": "stream",
     "text": [
      "\n",
      "📘 Epoch 223/1000 - Train Loss: 2.0817\n"
     ]
    },
    {
     "data": {
      "application/vnd.jupyter.widget-view+json": {
       "model_id": "8812b0dcbf674e6c9fd2af4937ec74fb",
       "version_major": 2,
       "version_minor": 0
      },
      "text/plain": [
       "Validating:   0%|          | 0/250 [00:00<?, ?it/s]"
      ]
     },
     "metadata": {},
     "output_type": "display_data"
    },
    {
     "name": "stdout",
     "output_type": "stream",
     "text": [
      "📗 Validation - Loss: 1.9456, Perplexity: 7.00, Token Acc: 39.94%\n"
     ]
    },
    {
     "data": {
      "application/vnd.jupyter.widget-view+json": {
       "model_id": "81a6d8dc12204a609ca516581496dffa",
       "version_major": 2,
       "version_minor": 0
      },
      "text/plain": [
       "Epoch 224/1000 [Training]:   0%|          | 0/1125 [00:00<?, ?it/s]"
      ]
     },
     "metadata": {},
     "output_type": "display_data"
    },
    {
     "name": "stdout",
     "output_type": "stream",
     "text": [
      "\n",
      "📘 Epoch 224/1000 - Train Loss: 2.0819\n"
     ]
    },
    {
     "data": {
      "application/vnd.jupyter.widget-view+json": {
       "model_id": "283562e935cc450280ef43d482532fb8",
       "version_major": 2,
       "version_minor": 0
      },
      "text/plain": [
       "Validating:   0%|          | 0/250 [00:00<?, ?it/s]"
      ]
     },
     "metadata": {},
     "output_type": "display_data"
    },
    {
     "name": "stdout",
     "output_type": "stream",
     "text": [
      "📗 Validation - Loss: 1.9462, Perplexity: 7.00, Token Acc: 39.89%\n",
      "✅ Saved checkpoint: checkpoints/blt_epoch224.pt\n"
     ]
    },
    {
     "data": {
      "application/vnd.jupyter.widget-view+json": {
       "model_id": "50359d55848b4d0098e963b4fb4aecbf",
       "version_major": 2,
       "version_minor": 0
      },
      "text/plain": [
       "Epoch 225/1000 [Training]:   0%|          | 0/1125 [00:00<?, ?it/s]"
      ]
     },
     "metadata": {},
     "output_type": "display_data"
    },
    {
     "name": "stdout",
     "output_type": "stream",
     "text": [
      "\n",
      "📘 Epoch 225/1000 - Train Loss: 2.0806\n"
     ]
    },
    {
     "data": {
      "application/vnd.jupyter.widget-view+json": {
       "model_id": "2f4dc0df0c4441a0bb617f41a7ecfc5b",
       "version_major": 2,
       "version_minor": 0
      },
      "text/plain": [
       "Validating:   0%|          | 0/250 [00:00<?, ?it/s]"
      ]
     },
     "metadata": {},
     "output_type": "display_data"
    },
    {
     "name": "stdout",
     "output_type": "stream",
     "text": [
      "📗 Validation - Loss: 1.9448, Perplexity: 6.99, Token Acc: 39.90%\n"
     ]
    },
    {
     "data": {
      "application/vnd.jupyter.widget-view+json": {
       "model_id": "14f7dea5454245c0b456c68e05db947f",
       "version_major": 2,
       "version_minor": 0
      },
      "text/plain": [
       "Epoch 226/1000 [Training]:   0%|          | 0/1125 [00:00<?, ?it/s]"
      ]
     },
     "metadata": {},
     "output_type": "display_data"
    },
    {
     "name": "stdout",
     "output_type": "stream",
     "text": [
      "\n",
      "📘 Epoch 226/1000 - Train Loss: 2.0812\n"
     ]
    },
    {
     "data": {
      "application/vnd.jupyter.widget-view+json": {
       "model_id": "0da3dfb094a445d880d460ccae28c4d5",
       "version_major": 2,
       "version_minor": 0
      },
      "text/plain": [
       "Validating:   0%|          | 0/250 [00:00<?, ?it/s]"
      ]
     },
     "metadata": {},
     "output_type": "display_data"
    },
    {
     "name": "stdout",
     "output_type": "stream",
     "text": [
      "📗 Validation - Loss: 1.9447, Perplexity: 6.99, Token Acc: 40.04%\n",
      "✅ Saved checkpoint: checkpoints/blt_epoch226.pt\n"
     ]
    },
    {
     "data": {
      "application/vnd.jupyter.widget-view+json": {
       "model_id": "10573878f9b64d77a79d4c1ac693ed4b",
       "version_major": 2,
       "version_minor": 0
      },
      "text/plain": [
       "Epoch 227/1000 [Training]:   0%|          | 0/1125 [00:00<?, ?it/s]"
      ]
     },
     "metadata": {},
     "output_type": "display_data"
    },
    {
     "name": "stdout",
     "output_type": "stream",
     "text": [
      "\n",
      "📘 Epoch 227/1000 - Train Loss: 2.0798\n"
     ]
    },
    {
     "data": {
      "application/vnd.jupyter.widget-view+json": {
       "model_id": "020fe7f38ab24b2380647fbdfff9def7",
       "version_major": 2,
       "version_minor": 0
      },
      "text/plain": [
       "Validating:   0%|          | 0/250 [00:00<?, ?it/s]"
      ]
     },
     "metadata": {},
     "output_type": "display_data"
    },
    {
     "name": "stdout",
     "output_type": "stream",
     "text": [
      "📗 Validation - Loss: 1.9443, Perplexity: 6.99, Token Acc: 39.98%\n"
     ]
    },
    {
     "data": {
      "application/vnd.jupyter.widget-view+json": {
       "model_id": "bd0ca747cbb04880b4aef46cc6598498",
       "version_major": 2,
       "version_minor": 0
      },
      "text/plain": [
       "Epoch 228/1000 [Training]:   0%|          | 0/1125 [00:00<?, ?it/s]"
      ]
     },
     "metadata": {},
     "output_type": "display_data"
    },
    {
     "name": "stdout",
     "output_type": "stream",
     "text": [
      "\n",
      "📘 Epoch 228/1000 - Train Loss: 2.0809\n"
     ]
    },
    {
     "data": {
      "application/vnd.jupyter.widget-view+json": {
       "model_id": "df16fae3172d495fa8885741475fd6af",
       "version_major": 2,
       "version_minor": 0
      },
      "text/plain": [
       "Validating:   0%|          | 0/250 [00:00<?, ?it/s]"
      ]
     },
     "metadata": {},
     "output_type": "display_data"
    },
    {
     "name": "stdout",
     "output_type": "stream",
     "text": [
      "📗 Validation - Loss: 1.9442, Perplexity: 6.99, Token Acc: 39.87%\n",
      "✅ Saved checkpoint: checkpoints/blt_epoch228.pt\n"
     ]
    },
    {
     "data": {
      "application/vnd.jupyter.widget-view+json": {
       "model_id": "fe22ff6e209d4151a88b56c66ed28b96",
       "version_major": 2,
       "version_minor": 0
      },
      "text/plain": [
       "Epoch 229/1000 [Training]:   0%|          | 0/1125 [00:00<?, ?it/s]"
      ]
     },
     "metadata": {},
     "output_type": "display_data"
    },
    {
     "name": "stdout",
     "output_type": "stream",
     "text": [
      "\n",
      "📘 Epoch 229/1000 - Train Loss: 2.0797\n"
     ]
    },
    {
     "data": {
      "application/vnd.jupyter.widget-view+json": {
       "model_id": "3089158ccefd4824a34a139fe1849268",
       "version_major": 2,
       "version_minor": 0
      },
      "text/plain": [
       "Validating:   0%|          | 0/250 [00:00<?, ?it/s]"
      ]
     },
     "metadata": {},
     "output_type": "display_data"
    },
    {
     "name": "stdout",
     "output_type": "stream",
     "text": [
      "📗 Validation - Loss: 1.9426, Perplexity: 6.98, Token Acc: 40.15%\n"
     ]
    },
    {
     "data": {
      "application/vnd.jupyter.widget-view+json": {
       "model_id": "cda33930e9e440f8b8a00df169305a37",
       "version_major": 2,
       "version_minor": 0
      },
      "text/plain": [
       "Epoch 230/1000 [Training]:   0%|          | 0/1125 [00:00<?, ?it/s]"
      ]
     },
     "metadata": {},
     "output_type": "display_data"
    },
    {
     "name": "stdout",
     "output_type": "stream",
     "text": [
      "\n",
      "📘 Epoch 230/1000 - Train Loss: 2.0802\n"
     ]
    },
    {
     "data": {
      "application/vnd.jupyter.widget-view+json": {
       "model_id": "480a5cd914884597a671e241cd491adf",
       "version_major": 2,
       "version_minor": 0
      },
      "text/plain": [
       "Validating:   0%|          | 0/250 [00:00<?, ?it/s]"
      ]
     },
     "metadata": {},
     "output_type": "display_data"
    },
    {
     "name": "stdout",
     "output_type": "stream",
     "text": [
      "📗 Validation - Loss: 1.9416, Perplexity: 6.97, Token Acc: 40.02%\n",
      "✅ Saved checkpoint: checkpoints/blt_epoch230.pt\n"
     ]
    },
    {
     "data": {
      "application/vnd.jupyter.widget-view+json": {
       "model_id": "90399fb08a15442d81d87441f9a0d2e0",
       "version_major": 2,
       "version_minor": 0
      },
      "text/plain": [
       "Epoch 231/1000 [Training]:   0%|          | 0/1125 [00:00<?, ?it/s]"
      ]
     },
     "metadata": {},
     "output_type": "display_data"
    },
    {
     "name": "stdout",
     "output_type": "stream",
     "text": [
      "\n",
      "📘 Epoch 231/1000 - Train Loss: 2.0800\n"
     ]
    },
    {
     "data": {
      "application/vnd.jupyter.widget-view+json": {
       "model_id": "abd17b8ac3ea4fc2a43feb4a9122c58c",
       "version_major": 2,
       "version_minor": 0
      },
      "text/plain": [
       "Validating:   0%|          | 0/250 [00:00<?, ?it/s]"
      ]
     },
     "metadata": {},
     "output_type": "display_data"
    },
    {
     "name": "stdout",
     "output_type": "stream",
     "text": [
      "📗 Validation - Loss: 1.9419, Perplexity: 6.97, Token Acc: 40.02%\n"
     ]
    },
    {
     "data": {
      "application/vnd.jupyter.widget-view+json": {
       "model_id": "7cab792957fc4cc8a4469417c735f1db",
       "version_major": 2,
       "version_minor": 0
      },
      "text/plain": [
       "Epoch 232/1000 [Training]:   0%|          | 0/1125 [00:00<?, ?it/s]"
      ]
     },
     "metadata": {},
     "output_type": "display_data"
    },
    {
     "name": "stdout",
     "output_type": "stream",
     "text": [
      "\n",
      "📘 Epoch 232/1000 - Train Loss: 2.0789\n"
     ]
    },
    {
     "data": {
      "application/vnd.jupyter.widget-view+json": {
       "model_id": "c72e59feb30c4addbbaa8152db175488",
       "version_major": 2,
       "version_minor": 0
      },
      "text/plain": [
       "Validating:   0%|          | 0/250 [00:00<?, ?it/s]"
      ]
     },
     "metadata": {},
     "output_type": "display_data"
    },
    {
     "name": "stdout",
     "output_type": "stream",
     "text": [
      "📗 Validation - Loss: 1.9419, Perplexity: 6.97, Token Acc: 40.10%\n",
      "✅ Saved checkpoint: checkpoints/blt_epoch232.pt\n"
     ]
    },
    {
     "data": {
      "application/vnd.jupyter.widget-view+json": {
       "model_id": "00eb4c29ea4c46c78bb7f04723ae36b4",
       "version_major": 2,
       "version_minor": 0
      },
      "text/plain": [
       "Epoch 233/1000 [Training]:   0%|          | 0/1125 [00:00<?, ?it/s]"
      ]
     },
     "metadata": {},
     "output_type": "display_data"
    },
    {
     "name": "stdout",
     "output_type": "stream",
     "text": [
      "\n",
      "📘 Epoch 233/1000 - Train Loss: 2.0798\n"
     ]
    },
    {
     "data": {
      "application/vnd.jupyter.widget-view+json": {
       "model_id": "666faa3fd14c4b91a13a8ba1f883c072",
       "version_major": 2,
       "version_minor": 0
      },
      "text/plain": [
       "Validating:   0%|          | 0/250 [00:00<?, ?it/s]"
      ]
     },
     "metadata": {},
     "output_type": "display_data"
    },
    {
     "name": "stdout",
     "output_type": "stream",
     "text": [
      "📗 Validation - Loss: 1.9431, Perplexity: 6.98, Token Acc: 39.97%\n"
     ]
    },
    {
     "data": {
      "application/vnd.jupyter.widget-view+json": {
       "model_id": "2e443a00505c4577b9e96152f3f21dcb",
       "version_major": 2,
       "version_minor": 0
      },
      "text/plain": [
       "Epoch 234/1000 [Training]:   0%|          | 0/1125 [00:00<?, ?it/s]"
      ]
     },
     "metadata": {},
     "output_type": "display_data"
    },
    {
     "name": "stdout",
     "output_type": "stream",
     "text": [
      "\n",
      "📘 Epoch 234/1000 - Train Loss: 2.0785\n"
     ]
    },
    {
     "data": {
      "application/vnd.jupyter.widget-view+json": {
       "model_id": "e81cae8820e3480fb2b2a7904baea28b",
       "version_major": 2,
       "version_minor": 0
      },
      "text/plain": [
       "Validating:   0%|          | 0/250 [00:00<?, ?it/s]"
      ]
     },
     "metadata": {},
     "output_type": "display_data"
    },
    {
     "name": "stdout",
     "output_type": "stream",
     "text": [
      "📗 Validation - Loss: 1.9402, Perplexity: 6.96, Token Acc: 40.17%\n",
      "✅ Saved checkpoint: checkpoints/blt_epoch234.pt\n"
     ]
    },
    {
     "data": {
      "application/vnd.jupyter.widget-view+json": {
       "model_id": "bab7c054c11743e486424de1bff8e25e",
       "version_major": 2,
       "version_minor": 0
      },
      "text/plain": [
       "Epoch 235/1000 [Training]:   0%|          | 0/1125 [00:00<?, ?it/s]"
      ]
     },
     "metadata": {},
     "output_type": "display_data"
    },
    {
     "name": "stdout",
     "output_type": "stream",
     "text": [
      "\n",
      "📘 Epoch 235/1000 - Train Loss: 2.0778\n"
     ]
    },
    {
     "data": {
      "application/vnd.jupyter.widget-view+json": {
       "model_id": "b4670c7d6bd64d908a9db86bb485e114",
       "version_major": 2,
       "version_minor": 0
      },
      "text/plain": [
       "Validating:   0%|          | 0/250 [00:00<?, ?it/s]"
      ]
     },
     "metadata": {},
     "output_type": "display_data"
    },
    {
     "name": "stdout",
     "output_type": "stream",
     "text": [
      "📗 Validation - Loss: 1.9394, Perplexity: 6.95, Token Acc: 39.96%\n"
     ]
    },
    {
     "data": {
      "application/vnd.jupyter.widget-view+json": {
       "model_id": "fa0e427b12254f1f96f5b7e63f21a91c",
       "version_major": 2,
       "version_minor": 0
      },
      "text/plain": [
       "Epoch 236/1000 [Training]:   0%|          | 0/1125 [00:00<?, ?it/s]"
      ]
     },
     "metadata": {},
     "output_type": "display_data"
    },
    {
     "name": "stdout",
     "output_type": "stream",
     "text": [
      "\n",
      "📘 Epoch 236/1000 - Train Loss: 2.0772\n"
     ]
    },
    {
     "data": {
      "application/vnd.jupyter.widget-view+json": {
       "model_id": "ccb7b86804bd4bc1a24e0913f4ae4f6e",
       "version_major": 2,
       "version_minor": 0
      },
      "text/plain": [
       "Validating:   0%|          | 0/250 [00:00<?, ?it/s]"
      ]
     },
     "metadata": {},
     "output_type": "display_data"
    },
    {
     "name": "stdout",
     "output_type": "stream",
     "text": [
      "📗 Validation - Loss: 1.9410, Perplexity: 6.97, Token Acc: 40.00%\n",
      "✅ Saved checkpoint: checkpoints/blt_epoch236.pt\n"
     ]
    },
    {
     "data": {
      "application/vnd.jupyter.widget-view+json": {
       "model_id": "bfff9499ee5341309cbe67fa1aa0a96e",
       "version_major": 2,
       "version_minor": 0
      },
      "text/plain": [
       "Epoch 237/1000 [Training]:   0%|          | 0/1125 [00:00<?, ?it/s]"
      ]
     },
     "metadata": {},
     "output_type": "display_data"
    },
    {
     "name": "stdout",
     "output_type": "stream",
     "text": [
      "\n",
      "📘 Epoch 237/1000 - Train Loss: 2.0781\n"
     ]
    },
    {
     "data": {
      "application/vnd.jupyter.widget-view+json": {
       "model_id": "5abf02341171403e868f38b8ae31b767",
       "version_major": 2,
       "version_minor": 0
      },
      "text/plain": [
       "Validating:   0%|          | 0/250 [00:00<?, ?it/s]"
      ]
     },
     "metadata": {},
     "output_type": "display_data"
    },
    {
     "name": "stdout",
     "output_type": "stream",
     "text": [
      "📗 Validation - Loss: 1.9392, Perplexity: 6.95, Token Acc: 40.13%\n"
     ]
    },
    {
     "data": {
      "application/vnd.jupyter.widget-view+json": {
       "model_id": "c8b0b191eb33489a8515caae2048389d",
       "version_major": 2,
       "version_minor": 0
      },
      "text/plain": [
       "Epoch 238/1000 [Training]:   0%|          | 0/1125 [00:00<?, ?it/s]"
      ]
     },
     "metadata": {},
     "output_type": "display_data"
    },
    {
     "name": "stdout",
     "output_type": "stream",
     "text": [
      "\n",
      "📘 Epoch 238/1000 - Train Loss: 2.0763\n"
     ]
    },
    {
     "data": {
      "application/vnd.jupyter.widget-view+json": {
       "model_id": "a87bccf497574d1f8d28a5309005f150",
       "version_major": 2,
       "version_minor": 0
      },
      "text/plain": [
       "Validating:   0%|          | 0/250 [00:00<?, ?it/s]"
      ]
     },
     "metadata": {},
     "output_type": "display_data"
    },
    {
     "name": "stdout",
     "output_type": "stream",
     "text": [
      "📗 Validation - Loss: 1.9391, Perplexity: 6.95, Token Acc: 40.08%\n",
      "✅ Saved checkpoint: checkpoints/blt_epoch238.pt\n"
     ]
    },
    {
     "data": {
      "application/vnd.jupyter.widget-view+json": {
       "model_id": "ec42ba6bf0784be88a3f465420c87276",
       "version_major": 2,
       "version_minor": 0
      },
      "text/plain": [
       "Epoch 239/1000 [Training]:   0%|          | 0/1125 [00:00<?, ?it/s]"
      ]
     },
     "metadata": {},
     "output_type": "display_data"
    },
    {
     "name": "stdout",
     "output_type": "stream",
     "text": [
      "\n",
      "📘 Epoch 239/1000 - Train Loss: 2.0766\n"
     ]
    },
    {
     "data": {
      "application/vnd.jupyter.widget-view+json": {
       "model_id": "9c24b5a78be24a20adc1d79da347d92e",
       "version_major": 2,
       "version_minor": 0
      },
      "text/plain": [
       "Validating:   0%|          | 0/250 [00:00<?, ?it/s]"
      ]
     },
     "metadata": {},
     "output_type": "display_data"
    },
    {
     "name": "stdout",
     "output_type": "stream",
     "text": [
      "📗 Validation - Loss: 1.9384, Perplexity: 6.95, Token Acc: 40.17%\n"
     ]
    },
    {
     "data": {
      "application/vnd.jupyter.widget-view+json": {
       "model_id": "5f03b297e88c49909374c9df7a30285c",
       "version_major": 2,
       "version_minor": 0
      },
      "text/plain": [
       "Epoch 240/1000 [Training]:   0%|          | 0/1125 [00:00<?, ?it/s]"
      ]
     },
     "metadata": {},
     "output_type": "display_data"
    },
    {
     "name": "stdout",
     "output_type": "stream",
     "text": [
      "\n",
      "📘 Epoch 240/1000 - Train Loss: 2.0758\n"
     ]
    },
    {
     "data": {
      "application/vnd.jupyter.widget-view+json": {
       "model_id": "4c9c702acf124b26948943373edc78a7",
       "version_major": 2,
       "version_minor": 0
      },
      "text/plain": [
       "Validating:   0%|          | 0/250 [00:00<?, ?it/s]"
      ]
     },
     "metadata": {},
     "output_type": "display_data"
    },
    {
     "name": "stdout",
     "output_type": "stream",
     "text": [
      "📗 Validation - Loss: 1.9386, Perplexity: 6.95, Token Acc: 40.01%\n",
      "✅ Saved checkpoint: checkpoints/blt_epoch240.pt\n"
     ]
    },
    {
     "data": {
      "application/vnd.jupyter.widget-view+json": {
       "model_id": "65051455954142d682e23a3aa8133580",
       "version_major": 2,
       "version_minor": 0
      },
      "text/plain": [
       "Epoch 241/1000 [Training]:   0%|          | 0/1125 [00:00<?, ?it/s]"
      ]
     },
     "metadata": {},
     "output_type": "display_data"
    },
    {
     "name": "stdout",
     "output_type": "stream",
     "text": [
      "\n",
      "📘 Epoch 241/1000 - Train Loss: 2.0757\n"
     ]
    },
    {
     "data": {
      "application/vnd.jupyter.widget-view+json": {
       "model_id": "6377120532194d168958bdd4fec41a8d",
       "version_major": 2,
       "version_minor": 0
      },
      "text/plain": [
       "Validating:   0%|          | 0/250 [00:00<?, ?it/s]"
      ]
     },
     "metadata": {},
     "output_type": "display_data"
    },
    {
     "name": "stdout",
     "output_type": "stream",
     "text": [
      "📗 Validation - Loss: 1.9381, Perplexity: 6.95, Token Acc: 40.04%\n"
     ]
    },
    {
     "data": {
      "application/vnd.jupyter.widget-view+json": {
       "model_id": "9b3029dd0f8e4467bc74ecec4c3e488e",
       "version_major": 2,
       "version_minor": 0
      },
      "text/plain": [
       "Epoch 242/1000 [Training]:   0%|          | 0/1125 [00:00<?, ?it/s]"
      ]
     },
     "metadata": {},
     "output_type": "display_data"
    },
    {
     "name": "stdout",
     "output_type": "stream",
     "text": [
      "\n",
      "📘 Epoch 242/1000 - Train Loss: 2.0755\n"
     ]
    },
    {
     "data": {
      "application/vnd.jupyter.widget-view+json": {
       "model_id": "8b49fe11558c46588e9094a7b97eef81",
       "version_major": 2,
       "version_minor": 0
      },
      "text/plain": [
       "Validating:   0%|          | 0/250 [00:00<?, ?it/s]"
      ]
     },
     "metadata": {},
     "output_type": "display_data"
    },
    {
     "name": "stdout",
     "output_type": "stream",
     "text": [
      "📗 Validation - Loss: 1.9380, Perplexity: 6.94, Token Acc: 40.18%\n",
      "✅ Saved checkpoint: checkpoints/blt_epoch242.pt\n"
     ]
    },
    {
     "data": {
      "application/vnd.jupyter.widget-view+json": {
       "model_id": "b813c55b826245bf9964e1cb54b0fe91",
       "version_major": 2,
       "version_minor": 0
      },
      "text/plain": [
       "Epoch 243/1000 [Training]:   0%|          | 0/1125 [00:00<?, ?it/s]"
      ]
     },
     "metadata": {},
     "output_type": "display_data"
    },
    {
     "name": "stdout",
     "output_type": "stream",
     "text": [
      "\n",
      "📘 Epoch 243/1000 - Train Loss: 2.0748\n"
     ]
    },
    {
     "data": {
      "application/vnd.jupyter.widget-view+json": {
       "model_id": "4e0ec2a25c154c05a6fc0a83c11801cf",
       "version_major": 2,
       "version_minor": 0
      },
      "text/plain": [
       "Validating:   0%|          | 0/250 [00:00<?, ?it/s]"
      ]
     },
     "metadata": {},
     "output_type": "display_data"
    },
    {
     "name": "stdout",
     "output_type": "stream",
     "text": [
      "📗 Validation - Loss: 1.9365, Perplexity: 6.93, Token Acc: 40.13%\n"
     ]
    },
    {
     "data": {
      "application/vnd.jupyter.widget-view+json": {
       "model_id": "543d29de5f964dd880a3fb0308cc036a",
       "version_major": 2,
       "version_minor": 0
      },
      "text/plain": [
       "Epoch 244/1000 [Training]:   0%|          | 0/1125 [00:00<?, ?it/s]"
      ]
     },
     "metadata": {},
     "output_type": "display_data"
    },
    {
     "name": "stdout",
     "output_type": "stream",
     "text": [
      "\n",
      "📘 Epoch 244/1000 - Train Loss: 2.0745\n"
     ]
    },
    {
     "data": {
      "application/vnd.jupyter.widget-view+json": {
       "model_id": "2999b415780c4c63a8917820fbf7085c",
       "version_major": 2,
       "version_minor": 0
      },
      "text/plain": [
       "Validating:   0%|          | 0/250 [00:00<?, ?it/s]"
      ]
     },
     "metadata": {},
     "output_type": "display_data"
    },
    {
     "name": "stdout",
     "output_type": "stream",
     "text": [
      "📗 Validation - Loss: 1.9356, Perplexity: 6.93, Token Acc: 40.20%\n",
      "✅ Saved checkpoint: checkpoints/blt_epoch244.pt\n"
     ]
    },
    {
     "data": {
      "application/vnd.jupyter.widget-view+json": {
       "model_id": "d1885bc914234352b98982894a55fa8e",
       "version_major": 2,
       "version_minor": 0
      },
      "text/plain": [
       "Epoch 245/1000 [Training]:   0%|          | 0/1125 [00:00<?, ?it/s]"
      ]
     },
     "metadata": {},
     "output_type": "display_data"
    },
    {
     "name": "stdout",
     "output_type": "stream",
     "text": [
      "\n",
      "📘 Epoch 245/1000 - Train Loss: 2.0737\n"
     ]
    },
    {
     "data": {
      "application/vnd.jupyter.widget-view+json": {
       "model_id": "cfa3c2f1c5ec46b6b675a07b2e1b7a90",
       "version_major": 2,
       "version_minor": 0
      },
      "text/plain": [
       "Validating:   0%|          | 0/250 [00:00<?, ?it/s]"
      ]
     },
     "metadata": {},
     "output_type": "display_data"
    },
    {
     "name": "stdout",
     "output_type": "stream",
     "text": [
      "📗 Validation - Loss: 1.9364, Perplexity: 6.93, Token Acc: 40.19%\n"
     ]
    },
    {
     "data": {
      "application/vnd.jupyter.widget-view+json": {
       "model_id": "98f24ecb91664e0695ab2da866e67f0b",
       "version_major": 2,
       "version_minor": 0
      },
      "text/plain": [
       "Epoch 246/1000 [Training]:   0%|          | 0/1125 [00:00<?, ?it/s]"
      ]
     },
     "metadata": {},
     "output_type": "display_data"
    },
    {
     "name": "stdout",
     "output_type": "stream",
     "text": [
      "\n",
      "📘 Epoch 246/1000 - Train Loss: 2.0750\n"
     ]
    },
    {
     "data": {
      "application/vnd.jupyter.widget-view+json": {
       "model_id": "af650163739a485781387911ad2d128d",
       "version_major": 2,
       "version_minor": 0
      },
      "text/plain": [
       "Validating:   0%|          | 0/250 [00:00<?, ?it/s]"
      ]
     },
     "metadata": {},
     "output_type": "display_data"
    },
    {
     "name": "stdout",
     "output_type": "stream",
     "text": [
      "📗 Validation - Loss: 1.9358, Perplexity: 6.93, Token Acc: 40.28%\n",
      "✅ Saved checkpoint: checkpoints/blt_epoch246.pt\n"
     ]
    },
    {
     "data": {
      "application/vnd.jupyter.widget-view+json": {
       "model_id": "4178155e35fc4bf5ad61eb804f82513d",
       "version_major": 2,
       "version_minor": 0
      },
      "text/plain": [
       "Epoch 247/1000 [Training]:   0%|          | 0/1125 [00:00<?, ?it/s]"
      ]
     },
     "metadata": {},
     "output_type": "display_data"
    },
    {
     "name": "stdout",
     "output_type": "stream",
     "text": [
      "\n",
      "📘 Epoch 247/1000 - Train Loss: 2.0748\n"
     ]
    },
    {
     "data": {
      "application/vnd.jupyter.widget-view+json": {
       "model_id": "0c5150e2295a4d9ba4a959617179b0b8",
       "version_major": 2,
       "version_minor": 0
      },
      "text/plain": [
       "Validating:   0%|          | 0/250 [00:00<?, ?it/s]"
      ]
     },
     "metadata": {},
     "output_type": "display_data"
    },
    {
     "name": "stdout",
     "output_type": "stream",
     "text": [
      "📗 Validation - Loss: 1.9362, Perplexity: 6.93, Token Acc: 40.25%\n"
     ]
    },
    {
     "data": {
      "application/vnd.jupyter.widget-view+json": {
       "model_id": "e6cb936549874c7789f4de88298305be",
       "version_major": 2,
       "version_minor": 0
      },
      "text/plain": [
       "Epoch 248/1000 [Training]:   0%|          | 0/1125 [00:00<?, ?it/s]"
      ]
     },
     "metadata": {},
     "output_type": "display_data"
    },
    {
     "name": "stdout",
     "output_type": "stream",
     "text": [
      "\n",
      "📘 Epoch 248/1000 - Train Loss: 2.0730\n"
     ]
    },
    {
     "data": {
      "application/vnd.jupyter.widget-view+json": {
       "model_id": "ebbebfc030374d1b827ad4a31a1ac87c",
       "version_major": 2,
       "version_minor": 0
      },
      "text/plain": [
       "Validating:   0%|          | 0/250 [00:00<?, ?it/s]"
      ]
     },
     "metadata": {},
     "output_type": "display_data"
    },
    {
     "name": "stdout",
     "output_type": "stream",
     "text": [
      "📗 Validation - Loss: 1.9348, Perplexity: 6.92, Token Acc: 40.31%\n",
      "✅ Saved checkpoint: checkpoints/blt_epoch248.pt\n"
     ]
    },
    {
     "data": {
      "application/vnd.jupyter.widget-view+json": {
       "model_id": "2f7e3d56b48840fa904c1703a912262e",
       "version_major": 2,
       "version_minor": 0
      },
      "text/plain": [
       "Epoch 249/1000 [Training]:   0%|          | 0/1125 [00:00<?, ?it/s]"
      ]
     },
     "metadata": {},
     "output_type": "display_data"
    },
    {
     "name": "stdout",
     "output_type": "stream",
     "text": [
      "\n",
      "📘 Epoch 249/1000 - Train Loss: 2.0737\n"
     ]
    },
    {
     "data": {
      "application/vnd.jupyter.widget-view+json": {
       "model_id": "85f8cc28a04447dfa175241add5110bb",
       "version_major": 2,
       "version_minor": 0
      },
      "text/plain": [
       "Validating:   0%|          | 0/250 [00:00<?, ?it/s]"
      ]
     },
     "metadata": {},
     "output_type": "display_data"
    },
    {
     "name": "stdout",
     "output_type": "stream",
     "text": [
      "📗 Validation - Loss: 1.9346, Perplexity: 6.92, Token Acc: 40.32%\n"
     ]
    },
    {
     "data": {
      "application/vnd.jupyter.widget-view+json": {
       "model_id": "f268422d13814c4790349b0515fe8c7d",
       "version_major": 2,
       "version_minor": 0
      },
      "text/plain": [
       "Epoch 250/1000 [Training]:   0%|          | 0/1125 [00:00<?, ?it/s]"
      ]
     },
     "metadata": {},
     "output_type": "display_data"
    },
    {
     "name": "stdout",
     "output_type": "stream",
     "text": [
      "\n",
      "📘 Epoch 250/1000 - Train Loss: 2.0731\n"
     ]
    },
    {
     "data": {
      "application/vnd.jupyter.widget-view+json": {
       "model_id": "55a39ade04dc46a3b190023b76ba0cd7",
       "version_major": 2,
       "version_minor": 0
      },
      "text/plain": [
       "Validating:   0%|          | 0/250 [00:00<?, ?it/s]"
      ]
     },
     "metadata": {},
     "output_type": "display_data"
    },
    {
     "name": "stdout",
     "output_type": "stream",
     "text": [
      "📗 Validation - Loss: 1.9346, Perplexity: 6.92, Token Acc: 40.20%\n",
      "✅ Saved checkpoint: checkpoints/blt_epoch250.pt\n"
     ]
    },
    {
     "data": {
      "application/vnd.jupyter.widget-view+json": {
       "model_id": "0b4ae867dc064c80bf04ab528fc32098",
       "version_major": 2,
       "version_minor": 0
      },
      "text/plain": [
       "Epoch 251/1000 [Training]:   0%|          | 0/1125 [00:00<?, ?it/s]"
      ]
     },
     "metadata": {},
     "output_type": "display_data"
    },
    {
     "name": "stdout",
     "output_type": "stream",
     "text": [
      "\n",
      "📘 Epoch 251/1000 - Train Loss: 2.0715\n"
     ]
    },
    {
     "data": {
      "application/vnd.jupyter.widget-view+json": {
       "model_id": "b9b0e8de69be46f38ce075d1c10322b1",
       "version_major": 2,
       "version_minor": 0
      },
      "text/plain": [
       "Validating:   0%|          | 0/250 [00:00<?, ?it/s]"
      ]
     },
     "metadata": {},
     "output_type": "display_data"
    },
    {
     "name": "stdout",
     "output_type": "stream",
     "text": [
      "📗 Validation - Loss: 1.9340, Perplexity: 6.92, Token Acc: 40.20%\n"
     ]
    },
    {
     "data": {
      "application/vnd.jupyter.widget-view+json": {
       "model_id": "81bd8e37f7544a629bedf9fd51a88abe",
       "version_major": 2,
       "version_minor": 0
      },
      "text/plain": [
       "Epoch 252/1000 [Training]:   0%|          | 0/1125 [00:00<?, ?it/s]"
      ]
     },
     "metadata": {},
     "output_type": "display_data"
    },
    {
     "name": "stdout",
     "output_type": "stream",
     "text": [
      "\n",
      "📘 Epoch 252/1000 - Train Loss: 2.0724\n"
     ]
    },
    {
     "data": {
      "application/vnd.jupyter.widget-view+json": {
       "model_id": "d298009b9d394885b52c3a3062d62d7b",
       "version_major": 2,
       "version_minor": 0
      },
      "text/plain": [
       "Validating:   0%|          | 0/250 [00:00<?, ?it/s]"
      ]
     },
     "metadata": {},
     "output_type": "display_data"
    },
    {
     "name": "stdout",
     "output_type": "stream",
     "text": [
      "📗 Validation - Loss: 1.9312, Perplexity: 6.90, Token Acc: 40.35%\n",
      "✅ Saved checkpoint: checkpoints/blt_epoch252.pt\n"
     ]
    },
    {
     "data": {
      "application/vnd.jupyter.widget-view+json": {
       "model_id": "1b98e8c205a348e7882430c912fe27d3",
       "version_major": 2,
       "version_minor": 0
      },
      "text/plain": [
       "Epoch 253/1000 [Training]:   0%|          | 0/1125 [00:00<?, ?it/s]"
      ]
     },
     "metadata": {},
     "output_type": "display_data"
    },
    {
     "name": "stdout",
     "output_type": "stream",
     "text": [
      "\n",
      "📘 Epoch 253/1000 - Train Loss: 2.0723\n"
     ]
    },
    {
     "data": {
      "application/vnd.jupyter.widget-view+json": {
       "model_id": "05197b7e637d4ef693cde9dc84341f71",
       "version_major": 2,
       "version_minor": 0
      },
      "text/plain": [
       "Validating:   0%|          | 0/250 [00:00<?, ?it/s]"
      ]
     },
     "metadata": {},
     "output_type": "display_data"
    },
    {
     "name": "stdout",
     "output_type": "stream",
     "text": [
      "📗 Validation - Loss: 1.9328, Perplexity: 6.91, Token Acc: 40.30%\n"
     ]
    },
    {
     "data": {
      "application/vnd.jupyter.widget-view+json": {
       "model_id": "3bc86bd362bf43adab2df156bf7ad920",
       "version_major": 2,
       "version_minor": 0
      },
      "text/plain": [
       "Epoch 254/1000 [Training]:   0%|          | 0/1125 [00:00<?, ?it/s]"
      ]
     },
     "metadata": {},
     "output_type": "display_data"
    },
    {
     "name": "stdout",
     "output_type": "stream",
     "text": [
      "\n",
      "📘 Epoch 254/1000 - Train Loss: 2.0725\n"
     ]
    },
    {
     "data": {
      "application/vnd.jupyter.widget-view+json": {
       "model_id": "67db3e91711c47209d078523877093ab",
       "version_major": 2,
       "version_minor": 0
      },
      "text/plain": [
       "Validating:   0%|          | 0/250 [00:00<?, ?it/s]"
      ]
     },
     "metadata": {},
     "output_type": "display_data"
    },
    {
     "name": "stdout",
     "output_type": "stream",
     "text": [
      "📗 Validation - Loss: 1.9316, Perplexity: 6.90, Token Acc: 40.37%\n",
      "✅ Saved checkpoint: checkpoints/blt_epoch254.pt\n"
     ]
    },
    {
     "data": {
      "application/vnd.jupyter.widget-view+json": {
       "model_id": "cdeadc4a00784071980acfd6e577833b",
       "version_major": 2,
       "version_minor": 0
      },
      "text/plain": [
       "Epoch 255/1000 [Training]:   0%|          | 0/1125 [00:00<?, ?it/s]"
      ]
     },
     "metadata": {},
     "output_type": "display_data"
    },
    {
     "name": "stdout",
     "output_type": "stream",
     "text": [
      "\n",
      "📘 Epoch 255/1000 - Train Loss: 2.0713\n"
     ]
    },
    {
     "data": {
      "application/vnd.jupyter.widget-view+json": {
       "model_id": "6795e055d2c9457f99ba3d71eb3e475e",
       "version_major": 2,
       "version_minor": 0
      },
      "text/plain": [
       "Validating:   0%|          | 0/250 [00:00<?, ?it/s]"
      ]
     },
     "metadata": {},
     "output_type": "display_data"
    },
    {
     "name": "stdout",
     "output_type": "stream",
     "text": [
      "📗 Validation - Loss: 1.9316, Perplexity: 6.90, Token Acc: 40.33%\n"
     ]
    },
    {
     "data": {
      "application/vnd.jupyter.widget-view+json": {
       "model_id": "efb3d9bc828d4c288db0cacb4428a5ff",
       "version_major": 2,
       "version_minor": 0
      },
      "text/plain": [
       "Epoch 256/1000 [Training]:   0%|          | 0/1125 [00:00<?, ?it/s]"
      ]
     },
     "metadata": {},
     "output_type": "display_data"
    },
    {
     "name": "stdout",
     "output_type": "stream",
     "text": [
      "\n",
      "📘 Epoch 256/1000 - Train Loss: 2.0708\n"
     ]
    },
    {
     "data": {
      "application/vnd.jupyter.widget-view+json": {
       "model_id": "24f8a743aabb4aa79ad5948f308ab0b9",
       "version_major": 2,
       "version_minor": 0
      },
      "text/plain": [
       "Validating:   0%|          | 0/250 [00:00<?, ?it/s]"
      ]
     },
     "metadata": {},
     "output_type": "display_data"
    },
    {
     "name": "stdout",
     "output_type": "stream",
     "text": [
      "📗 Validation - Loss: 1.9315, Perplexity: 6.90, Token Acc: 40.36%\n",
      "✅ Saved checkpoint: checkpoints/blt_epoch256.pt\n"
     ]
    },
    {
     "data": {
      "application/vnd.jupyter.widget-view+json": {
       "model_id": "f4e8ba991dd145c19e9de59abd047d0a",
       "version_major": 2,
       "version_minor": 0
      },
      "text/plain": [
       "Epoch 257/1000 [Training]:   0%|          | 0/1125 [00:00<?, ?it/s]"
      ]
     },
     "metadata": {},
     "output_type": "display_data"
    },
    {
     "name": "stdout",
     "output_type": "stream",
     "text": [
      "\n",
      "📘 Epoch 257/1000 - Train Loss: 2.0701\n"
     ]
    },
    {
     "data": {
      "application/vnd.jupyter.widget-view+json": {
       "model_id": "e8cf23985f3346969d9d82e688cc0474",
       "version_major": 2,
       "version_minor": 0
      },
      "text/plain": [
       "Validating:   0%|          | 0/250 [00:00<?, ?it/s]"
      ]
     },
     "metadata": {},
     "output_type": "display_data"
    },
    {
     "name": "stdout",
     "output_type": "stream",
     "text": [
      "📗 Validation - Loss: 1.9305, Perplexity: 6.89, Token Acc: 40.36%\n"
     ]
    },
    {
     "data": {
      "application/vnd.jupyter.widget-view+json": {
       "model_id": "39785672bf09468cad90b271cfaefeb3",
       "version_major": 2,
       "version_minor": 0
      },
      "text/plain": [
       "Epoch 258/1000 [Training]:   0%|          | 0/1125 [00:00<?, ?it/s]"
      ]
     },
     "metadata": {},
     "output_type": "display_data"
    },
    {
     "name": "stdout",
     "output_type": "stream",
     "text": [
      "\n",
      "📘 Epoch 258/1000 - Train Loss: 2.0695\n"
     ]
    },
    {
     "data": {
      "application/vnd.jupyter.widget-view+json": {
       "model_id": "627a462e3a354915847df7b6299bf0b7",
       "version_major": 2,
       "version_minor": 0
      },
      "text/plain": [
       "Validating:   0%|          | 0/250 [00:00<?, ?it/s]"
      ]
     },
     "metadata": {},
     "output_type": "display_data"
    },
    {
     "name": "stdout",
     "output_type": "stream",
     "text": [
      "📗 Validation - Loss: 1.9296, Perplexity: 6.89, Token Acc: 40.32%\n",
      "✅ Saved checkpoint: checkpoints/blt_epoch258.pt\n"
     ]
    },
    {
     "data": {
      "application/vnd.jupyter.widget-view+json": {
       "model_id": "a7b34d4c0ce344d78752072b1082a1ae",
       "version_major": 2,
       "version_minor": 0
      },
      "text/plain": [
       "Epoch 259/1000 [Training]:   0%|          | 0/1125 [00:00<?, ?it/s]"
      ]
     },
     "metadata": {},
     "output_type": "display_data"
    },
    {
     "name": "stdout",
     "output_type": "stream",
     "text": [
      "\n",
      "📘 Epoch 259/1000 - Train Loss: 2.0693\n"
     ]
    },
    {
     "data": {
      "application/vnd.jupyter.widget-view+json": {
       "model_id": "1f6a757a2d144dd2aa93ae2ad29027c6",
       "version_major": 2,
       "version_minor": 0
      },
      "text/plain": [
       "Validating:   0%|          | 0/250 [00:00<?, ?it/s]"
      ]
     },
     "metadata": {},
     "output_type": "display_data"
    },
    {
     "name": "stdout",
     "output_type": "stream",
     "text": [
      "📗 Validation - Loss: 1.9306, Perplexity: 6.89, Token Acc: 40.16%\n"
     ]
    },
    {
     "data": {
      "application/vnd.jupyter.widget-view+json": {
       "model_id": "9343e6fcf98446739e441ec2958925c8",
       "version_major": 2,
       "version_minor": 0
      },
      "text/plain": [
       "Epoch 260/1000 [Training]:   0%|          | 0/1125 [00:00<?, ?it/s]"
      ]
     },
     "metadata": {},
     "output_type": "display_data"
    },
    {
     "name": "stdout",
     "output_type": "stream",
     "text": [
      "\n",
      "📘 Epoch 260/1000 - Train Loss: 2.0712\n"
     ]
    },
    {
     "data": {
      "application/vnd.jupyter.widget-view+json": {
       "model_id": "a9ff85b0f5774e7ea6c1527cbfc3a943",
       "version_major": 2,
       "version_minor": 0
      },
      "text/plain": [
       "Validating:   0%|          | 0/250 [00:00<?, ?it/s]"
      ]
     },
     "metadata": {},
     "output_type": "display_data"
    },
    {
     "name": "stdout",
     "output_type": "stream",
     "text": [
      "📗 Validation - Loss: 1.9303, Perplexity: 6.89, Token Acc: 40.36%\n",
      "✅ Saved checkpoint: checkpoints/blt_epoch260.pt\n"
     ]
    },
    {
     "data": {
      "application/vnd.jupyter.widget-view+json": {
       "model_id": "e2d6266ebf8c4fab8a448eaf9841a502",
       "version_major": 2,
       "version_minor": 0
      },
      "text/plain": [
       "Epoch 261/1000 [Training]:   0%|          | 0/1125 [00:00<?, ?it/s]"
      ]
     },
     "metadata": {},
     "output_type": "display_data"
    },
    {
     "name": "stdout",
     "output_type": "stream",
     "text": [
      "\n",
      "📘 Epoch 261/1000 - Train Loss: 2.0701\n"
     ]
    },
    {
     "data": {
      "application/vnd.jupyter.widget-view+json": {
       "model_id": "7e96497a24a14de3baa4a18f2241de41",
       "version_major": 2,
       "version_minor": 0
      },
      "text/plain": [
       "Validating:   0%|          | 0/250 [00:00<?, ?it/s]"
      ]
     },
     "metadata": {},
     "output_type": "display_data"
    },
    {
     "name": "stdout",
     "output_type": "stream",
     "text": [
      "📗 Validation - Loss: 1.9292, Perplexity: 6.88, Token Acc: 40.41%\n"
     ]
    },
    {
     "data": {
      "application/vnd.jupyter.widget-view+json": {
       "model_id": "237e1361f5be4c2c8395158173d8a586",
       "version_major": 2,
       "version_minor": 0
      },
      "text/plain": [
       "Epoch 262/1000 [Training]:   0%|          | 0/1125 [00:00<?, ?it/s]"
      ]
     },
     "metadata": {},
     "output_type": "display_data"
    },
    {
     "name": "stdout",
     "output_type": "stream",
     "text": [
      "\n",
      "📘 Epoch 262/1000 - Train Loss: 2.0687\n"
     ]
    },
    {
     "data": {
      "application/vnd.jupyter.widget-view+json": {
       "model_id": "a8423e6f25894640aa424995be6afda3",
       "version_major": 2,
       "version_minor": 0
      },
      "text/plain": [
       "Validating:   0%|          | 0/250 [00:00<?, ?it/s]"
      ]
     },
     "metadata": {},
     "output_type": "display_data"
    },
    {
     "name": "stdout",
     "output_type": "stream",
     "text": [
      "📗 Validation - Loss: 1.9310, Perplexity: 6.90, Token Acc: 40.30%\n",
      "✅ Saved checkpoint: checkpoints/blt_epoch262.pt\n"
     ]
    },
    {
     "data": {
      "application/vnd.jupyter.widget-view+json": {
       "model_id": "2e8a86f1c2254517849946739c5d07f7",
       "version_major": 2,
       "version_minor": 0
      },
      "text/plain": [
       "Epoch 263/1000 [Training]:   0%|          | 0/1125 [00:00<?, ?it/s]"
      ]
     },
     "metadata": {},
     "output_type": "display_data"
    },
    {
     "name": "stdout",
     "output_type": "stream",
     "text": [
      "\n",
      "📘 Epoch 263/1000 - Train Loss: 2.0695\n"
     ]
    },
    {
     "data": {
      "application/vnd.jupyter.widget-view+json": {
       "model_id": "d32eba4acfe14440a91744a8350714de",
       "version_major": 2,
       "version_minor": 0
      },
      "text/plain": [
       "Validating:   0%|          | 0/250 [00:00<?, ?it/s]"
      ]
     },
     "metadata": {},
     "output_type": "display_data"
    },
    {
     "name": "stdout",
     "output_type": "stream",
     "text": [
      "📗 Validation - Loss: 1.9309, Perplexity: 6.90, Token Acc: 40.21%\n"
     ]
    },
    {
     "data": {
      "application/vnd.jupyter.widget-view+json": {
       "model_id": "9b69c0cb778a444d86804c7f02b6d881",
       "version_major": 2,
       "version_minor": 0
      },
      "text/plain": [
       "Epoch 264/1000 [Training]:   0%|          | 0/1125 [00:00<?, ?it/s]"
      ]
     },
     "metadata": {},
     "output_type": "display_data"
    },
    {
     "name": "stdout",
     "output_type": "stream",
     "text": [
      "\n",
      "📘 Epoch 264/1000 - Train Loss: 2.0688\n"
     ]
    },
    {
     "data": {
      "application/vnd.jupyter.widget-view+json": {
       "model_id": "b691281c03044cf8b52dc3feb074de47",
       "version_major": 2,
       "version_minor": 0
      },
      "text/plain": [
       "Validating:   0%|          | 0/250 [00:00<?, ?it/s]"
      ]
     },
     "metadata": {},
     "output_type": "display_data"
    },
    {
     "name": "stdout",
     "output_type": "stream",
     "text": [
      "📗 Validation - Loss: 1.9291, Perplexity: 6.88, Token Acc: 40.40%\n",
      "✅ Saved checkpoint: checkpoints/blt_epoch264.pt\n"
     ]
    },
    {
     "data": {
      "application/vnd.jupyter.widget-view+json": {
       "model_id": "5a2db6720b75492da7ee879aed1d43a7",
       "version_major": 2,
       "version_minor": 0
      },
      "text/plain": [
       "Epoch 265/1000 [Training]:   0%|          | 0/1125 [00:00<?, ?it/s]"
      ]
     },
     "metadata": {},
     "output_type": "display_data"
    },
    {
     "name": "stdout",
     "output_type": "stream",
     "text": [
      "\n",
      "📘 Epoch 265/1000 - Train Loss: 2.0695\n"
     ]
    },
    {
     "data": {
      "application/vnd.jupyter.widget-view+json": {
       "model_id": "411ced2bf330446d826ae35f987d014f",
       "version_major": 2,
       "version_minor": 0
      },
      "text/plain": [
       "Validating:   0%|          | 0/250 [00:00<?, ?it/s]"
      ]
     },
     "metadata": {},
     "output_type": "display_data"
    },
    {
     "name": "stdout",
     "output_type": "stream",
     "text": [
      "📗 Validation - Loss: 1.9294, Perplexity: 6.89, Token Acc: 40.39%\n"
     ]
    },
    {
     "data": {
      "application/vnd.jupyter.widget-view+json": {
       "model_id": "8c99af7a31834466baf3c0c53f9ec5c9",
       "version_major": 2,
       "version_minor": 0
      },
      "text/plain": [
       "Epoch 266/1000 [Training]:   0%|          | 0/1125 [00:00<?, ?it/s]"
      ]
     },
     "metadata": {},
     "output_type": "display_data"
    },
    {
     "name": "stdout",
     "output_type": "stream",
     "text": [
      "\n",
      "📘 Epoch 266/1000 - Train Loss: 2.0691\n"
     ]
    },
    {
     "data": {
      "application/vnd.jupyter.widget-view+json": {
       "model_id": "d38b6f7624cd4153a0ae50855641dfb7",
       "version_major": 2,
       "version_minor": 0
      },
      "text/plain": [
       "Validating:   0%|          | 0/250 [00:00<?, ?it/s]"
      ]
     },
     "metadata": {},
     "output_type": "display_data"
    },
    {
     "name": "stdout",
     "output_type": "stream",
     "text": [
      "📗 Validation - Loss: 1.9302, Perplexity: 6.89, Token Acc: 40.43%\n",
      "✅ Saved checkpoint: checkpoints/blt_epoch266.pt\n"
     ]
    },
    {
     "data": {
      "application/vnd.jupyter.widget-view+json": {
       "model_id": "12a62f3aac4642abbb136611cd1b54bc",
       "version_major": 2,
       "version_minor": 0
      },
      "text/plain": [
       "Epoch 267/1000 [Training]:   0%|          | 0/1125 [00:00<?, ?it/s]"
      ]
     },
     "metadata": {},
     "output_type": "display_data"
    },
    {
     "name": "stdout",
     "output_type": "stream",
     "text": [
      "\n",
      "📘 Epoch 267/1000 - Train Loss: 2.0682\n"
     ]
    },
    {
     "data": {
      "application/vnd.jupyter.widget-view+json": {
       "model_id": "44fe073fdafa4795be6f6421ce66e301",
       "version_major": 2,
       "version_minor": 0
      },
      "text/plain": [
       "Validating:   0%|          | 0/250 [00:00<?, ?it/s]"
      ]
     },
     "metadata": {},
     "output_type": "display_data"
    },
    {
     "name": "stdout",
     "output_type": "stream",
     "text": [
      "📗 Validation - Loss: 1.9275, Perplexity: 6.87, Token Acc: 40.32%\n"
     ]
    },
    {
     "data": {
      "application/vnd.jupyter.widget-view+json": {
       "model_id": "d458f6e826164fe2bca2de995ac218b4",
       "version_major": 2,
       "version_minor": 0
      },
      "text/plain": [
       "Epoch 268/1000 [Training]:   0%|          | 0/1125 [00:00<?, ?it/s]"
      ]
     },
     "metadata": {},
     "output_type": "display_data"
    },
    {
     "name": "stdout",
     "output_type": "stream",
     "text": [
      "\n",
      "📘 Epoch 268/1000 - Train Loss: 2.0671\n"
     ]
    },
    {
     "data": {
      "application/vnd.jupyter.widget-view+json": {
       "model_id": "832f3926b6114b7292e263c2d1d35242",
       "version_major": 2,
       "version_minor": 0
      },
      "text/plain": [
       "Validating:   0%|          | 0/250 [00:00<?, ?it/s]"
      ]
     },
     "metadata": {},
     "output_type": "display_data"
    },
    {
     "name": "stdout",
     "output_type": "stream",
     "text": [
      "📗 Validation - Loss: 1.9289, Perplexity: 6.88, Token Acc: 40.31%\n",
      "✅ Saved checkpoint: checkpoints/blt_epoch268.pt\n"
     ]
    },
    {
     "data": {
      "application/vnd.jupyter.widget-view+json": {
       "model_id": "6cbc10aa2a3f46b3bdce29af80be9ad4",
       "version_major": 2,
       "version_minor": 0
      },
      "text/plain": [
       "Epoch 269/1000 [Training]:   0%|          | 0/1125 [00:00<?, ?it/s]"
      ]
     },
     "metadata": {},
     "output_type": "display_data"
    },
    {
     "name": "stdout",
     "output_type": "stream",
     "text": [
      "\n",
      "📘 Epoch 269/1000 - Train Loss: 2.0675\n"
     ]
    },
    {
     "data": {
      "application/vnd.jupyter.widget-view+json": {
       "model_id": "b452086d59424ab99067ca5992f7dd71",
       "version_major": 2,
       "version_minor": 0
      },
      "text/plain": [
       "Validating:   0%|          | 0/250 [00:00<?, ?it/s]"
      ]
     },
     "metadata": {},
     "output_type": "display_data"
    },
    {
     "name": "stdout",
     "output_type": "stream",
     "text": [
      "📗 Validation - Loss: 1.9277, Perplexity: 6.87, Token Acc: 40.47%\n"
     ]
    },
    {
     "data": {
      "application/vnd.jupyter.widget-view+json": {
       "model_id": "4655ed1c7e434f29a8b6b6d3625b0b53",
       "version_major": 2,
       "version_minor": 0
      },
      "text/plain": [
       "Epoch 270/1000 [Training]:   0%|          | 0/1125 [00:00<?, ?it/s]"
      ]
     },
     "metadata": {},
     "output_type": "display_data"
    },
    {
     "name": "stdout",
     "output_type": "stream",
     "text": [
      "\n",
      "📘 Epoch 270/1000 - Train Loss: 2.0672\n"
     ]
    },
    {
     "data": {
      "application/vnd.jupyter.widget-view+json": {
       "model_id": "0ad292168dcf48aea0655ef7ee3f63ae",
       "version_major": 2,
       "version_minor": 0
      },
      "text/plain": [
       "Validating:   0%|          | 0/250 [00:00<?, ?it/s]"
      ]
     },
     "metadata": {},
     "output_type": "display_data"
    },
    {
     "name": "stdout",
     "output_type": "stream",
     "text": [
      "📗 Validation - Loss: 1.9285, Perplexity: 6.88, Token Acc: 40.41%\n",
      "✅ Saved checkpoint: checkpoints/blt_epoch270.pt\n"
     ]
    },
    {
     "data": {
      "application/vnd.jupyter.widget-view+json": {
       "model_id": "699bfeb33480421fbde9d003e6d296ce",
       "version_major": 2,
       "version_minor": 0
      },
      "text/plain": [
       "Epoch 271/1000 [Training]:   0%|          | 0/1125 [00:00<?, ?it/s]"
      ]
     },
     "metadata": {},
     "output_type": "display_data"
    },
    {
     "name": "stdout",
     "output_type": "stream",
     "text": [
      "\n",
      "📘 Epoch 271/1000 - Train Loss: 2.0677\n"
     ]
    },
    {
     "data": {
      "application/vnd.jupyter.widget-view+json": {
       "model_id": "c037b313178c4d319e15e6dc61c0ef70",
       "version_major": 2,
       "version_minor": 0
      },
      "text/plain": [
       "Validating:   0%|          | 0/250 [00:00<?, ?it/s]"
      ]
     },
     "metadata": {},
     "output_type": "display_data"
    },
    {
     "name": "stdout",
     "output_type": "stream",
     "text": [
      "📗 Validation - Loss: 1.9261, Perplexity: 6.86, Token Acc: 40.38%\n"
     ]
    },
    {
     "data": {
      "application/vnd.jupyter.widget-view+json": {
       "model_id": "be2807c8b29a4a43a05234a8b2374eb2",
       "version_major": 2,
       "version_minor": 0
      },
      "text/plain": [
       "Epoch 272/1000 [Training]:   0%|          | 0/1125 [00:00<?, ?it/s]"
      ]
     },
     "metadata": {},
     "output_type": "display_data"
    },
    {
     "name": "stdout",
     "output_type": "stream",
     "text": [
      "\n",
      "📘 Epoch 272/1000 - Train Loss: 2.0661\n"
     ]
    },
    {
     "data": {
      "application/vnd.jupyter.widget-view+json": {
       "model_id": "4212396327a24fafa2efc4ef2b068bf7",
       "version_major": 2,
       "version_minor": 0
      },
      "text/plain": [
       "Validating:   0%|          | 0/250 [00:00<?, ?it/s]"
      ]
     },
     "metadata": {},
     "output_type": "display_data"
    },
    {
     "name": "stdout",
     "output_type": "stream",
     "text": [
      "📗 Validation - Loss: 1.9268, Perplexity: 6.87, Token Acc: 40.47%\n",
      "✅ Saved checkpoint: checkpoints/blt_epoch272.pt\n"
     ]
    },
    {
     "data": {
      "application/vnd.jupyter.widget-view+json": {
       "model_id": "56714e2c2f7d4314b30acadc755e8bab",
       "version_major": 2,
       "version_minor": 0
      },
      "text/plain": [
       "Epoch 273/1000 [Training]:   0%|          | 0/1125 [00:00<?, ?it/s]"
      ]
     },
     "metadata": {},
     "output_type": "display_data"
    },
    {
     "name": "stdout",
     "output_type": "stream",
     "text": [
      "\n",
      "📘 Epoch 273/1000 - Train Loss: 2.0665\n"
     ]
    },
    {
     "data": {
      "application/vnd.jupyter.widget-view+json": {
       "model_id": "6a518f986d574fd0bd8850d49c385aab",
       "version_major": 2,
       "version_minor": 0
      },
      "text/plain": [
       "Validating:   0%|          | 0/250 [00:00<?, ?it/s]"
      ]
     },
     "metadata": {},
     "output_type": "display_data"
    },
    {
     "name": "stdout",
     "output_type": "stream",
     "text": [
      "📗 Validation - Loss: 1.9245, Perplexity: 6.85, Token Acc: 40.58%\n"
     ]
    },
    {
     "data": {
      "application/vnd.jupyter.widget-view+json": {
       "model_id": "baca50ac5097425789d0e5d1200f4b83",
       "version_major": 2,
       "version_minor": 0
      },
      "text/plain": [
       "Epoch 274/1000 [Training]:   0%|          | 0/1125 [00:00<?, ?it/s]"
      ]
     },
     "metadata": {},
     "output_type": "display_data"
    },
    {
     "name": "stdout",
     "output_type": "stream",
     "text": [
      "\n",
      "📘 Epoch 274/1000 - Train Loss: 2.0670\n"
     ]
    },
    {
     "data": {
      "application/vnd.jupyter.widget-view+json": {
       "model_id": "686fe158e2c847ed9a48be805f2f5010",
       "version_major": 2,
       "version_minor": 0
      },
      "text/plain": [
       "Validating:   0%|          | 0/250 [00:00<?, ?it/s]"
      ]
     },
     "metadata": {},
     "output_type": "display_data"
    },
    {
     "name": "stdout",
     "output_type": "stream",
     "text": [
      "📗 Validation - Loss: 1.9254, Perplexity: 6.86, Token Acc: 40.50%\n",
      "✅ Saved checkpoint: checkpoints/blt_epoch274.pt\n"
     ]
    },
    {
     "data": {
      "application/vnd.jupyter.widget-view+json": {
       "model_id": "5d7f3c9e6eff48eb81902e21780a028d",
       "version_major": 2,
       "version_minor": 0
      },
      "text/plain": [
       "Epoch 275/1000 [Training]:   0%|          | 0/1125 [00:00<?, ?it/s]"
      ]
     },
     "metadata": {},
     "output_type": "display_data"
    },
    {
     "name": "stdout",
     "output_type": "stream",
     "text": [
      "\n",
      "📘 Epoch 275/1000 - Train Loss: 2.0663\n"
     ]
    },
    {
     "data": {
      "application/vnd.jupyter.widget-view+json": {
       "model_id": "307ae1b8618847c7a56eb771b507fb19",
       "version_major": 2,
       "version_minor": 0
      },
      "text/plain": [
       "Validating:   0%|          | 0/250 [00:00<?, ?it/s]"
      ]
     },
     "metadata": {},
     "output_type": "display_data"
    },
    {
     "name": "stdout",
     "output_type": "stream",
     "text": [
      "📗 Validation - Loss: 1.9259, Perplexity: 6.86, Token Acc: 40.66%\n"
     ]
    },
    {
     "data": {
      "application/vnd.jupyter.widget-view+json": {
       "model_id": "936dd70ca3c64c4f9130fb1b0489c20d",
       "version_major": 2,
       "version_minor": 0
      },
      "text/plain": [
       "Epoch 276/1000 [Training]:   0%|          | 0/1125 [00:00<?, ?it/s]"
      ]
     },
     "metadata": {},
     "output_type": "display_data"
    },
    {
     "name": "stdout",
     "output_type": "stream",
     "text": [
      "\n",
      "📘 Epoch 276/1000 - Train Loss: 2.0652\n"
     ]
    },
    {
     "data": {
      "application/vnd.jupyter.widget-view+json": {
       "model_id": "b3cf95ec056d4a8f85c95d73c6fc3cf1",
       "version_major": 2,
       "version_minor": 0
      },
      "text/plain": [
       "Validating:   0%|          | 0/250 [00:00<?, ?it/s]"
      ]
     },
     "metadata": {},
     "output_type": "display_data"
    },
    {
     "name": "stdout",
     "output_type": "stream",
     "text": [
      "📗 Validation - Loss: 1.9247, Perplexity: 6.85, Token Acc: 40.47%\n",
      "✅ Saved checkpoint: checkpoints/blt_epoch276.pt\n"
     ]
    },
    {
     "data": {
      "application/vnd.jupyter.widget-view+json": {
       "model_id": "3f78fd4fc5c141cc93fa64c1201168d7",
       "version_major": 2,
       "version_minor": 0
      },
      "text/plain": [
       "Epoch 277/1000 [Training]:   0%|          | 0/1125 [00:00<?, ?it/s]"
      ]
     },
     "metadata": {},
     "output_type": "display_data"
    },
    {
     "name": "stdout",
     "output_type": "stream",
     "text": [
      "\n",
      "📘 Epoch 277/1000 - Train Loss: 2.0643\n"
     ]
    },
    {
     "data": {
      "application/vnd.jupyter.widget-view+json": {
       "model_id": "99f644245ff34372b58d07863076af84",
       "version_major": 2,
       "version_minor": 0
      },
      "text/plain": [
       "Validating:   0%|          | 0/250 [00:00<?, ?it/s]"
      ]
     },
     "metadata": {},
     "output_type": "display_data"
    },
    {
     "name": "stdout",
     "output_type": "stream",
     "text": [
      "📗 Validation - Loss: 1.9249, Perplexity: 6.85, Token Acc: 40.58%\n"
     ]
    },
    {
     "data": {
      "application/vnd.jupyter.widget-view+json": {
       "model_id": "054e329fa1bf44a39e212fe0341c3e89",
       "version_major": 2,
       "version_minor": 0
      },
      "text/plain": [
       "Epoch 278/1000 [Training]:   0%|          | 0/1125 [00:00<?, ?it/s]"
      ]
     },
     "metadata": {},
     "output_type": "display_data"
    },
    {
     "name": "stdout",
     "output_type": "stream",
     "text": [
      "\n",
      "📘 Epoch 278/1000 - Train Loss: 2.0651\n"
     ]
    },
    {
     "data": {
      "application/vnd.jupyter.widget-view+json": {
       "model_id": "807de7fa0d574ed5869f18e7e902d397",
       "version_major": 2,
       "version_minor": 0
      },
      "text/plain": [
       "Validating:   0%|          | 0/250 [00:00<?, ?it/s]"
      ]
     },
     "metadata": {},
     "output_type": "display_data"
    },
    {
     "name": "stdout",
     "output_type": "stream",
     "text": [
      "📗 Validation - Loss: 1.9246, Perplexity: 6.85, Token Acc: 40.53%\n",
      "✅ Saved checkpoint: checkpoints/blt_epoch278.pt\n"
     ]
    },
    {
     "data": {
      "application/vnd.jupyter.widget-view+json": {
       "model_id": "eef09d2bdf044994bd754760404b0a1a",
       "version_major": 2,
       "version_minor": 0
      },
      "text/plain": [
       "Epoch 279/1000 [Training]:   0%|          | 0/1125 [00:00<?, ?it/s]"
      ]
     },
     "metadata": {},
     "output_type": "display_data"
    },
    {
     "name": "stdout",
     "output_type": "stream",
     "text": [
      "\n",
      "📘 Epoch 279/1000 - Train Loss: 2.0648\n"
     ]
    },
    {
     "data": {
      "application/vnd.jupyter.widget-view+json": {
       "model_id": "849071c3fdc743adb3e6eeb551427307",
       "version_major": 2,
       "version_minor": 0
      },
      "text/plain": [
       "Validating:   0%|          | 0/250 [00:00<?, ?it/s]"
      ]
     },
     "metadata": {},
     "output_type": "display_data"
    },
    {
     "name": "stdout",
     "output_type": "stream",
     "text": [
      "📗 Validation - Loss: 1.9237, Perplexity: 6.85, Token Acc: 40.64%\n"
     ]
    },
    {
     "data": {
      "application/vnd.jupyter.widget-view+json": {
       "model_id": "5c96841fbfda4cbdb712783662e77b6f",
       "version_major": 2,
       "version_minor": 0
      },
      "text/plain": [
       "Epoch 280/1000 [Training]:   0%|          | 0/1125 [00:00<?, ?it/s]"
      ]
     },
     "metadata": {},
     "output_type": "display_data"
    },
    {
     "name": "stdout",
     "output_type": "stream",
     "text": [
      "\n",
      "📘 Epoch 280/1000 - Train Loss: 2.0645\n"
     ]
    },
    {
     "data": {
      "application/vnd.jupyter.widget-view+json": {
       "model_id": "7cd37cf7eca549a6bee38ef0bd794878",
       "version_major": 2,
       "version_minor": 0
      },
      "text/plain": [
       "Validating:   0%|          | 0/250 [00:00<?, ?it/s]"
      ]
     },
     "metadata": {},
     "output_type": "display_data"
    },
    {
     "name": "stdout",
     "output_type": "stream",
     "text": [
      "📗 Validation - Loss: 1.9241, Perplexity: 6.85, Token Acc: 40.58%\n",
      "✅ Saved checkpoint: checkpoints/blt_epoch280.pt\n"
     ]
    },
    {
     "data": {
      "application/vnd.jupyter.widget-view+json": {
       "model_id": "584f1957252d4a33bded828df78c3e98",
       "version_major": 2,
       "version_minor": 0
      },
      "text/plain": [
       "Epoch 281/1000 [Training]:   0%|          | 0/1125 [00:00<?, ?it/s]"
      ]
     },
     "metadata": {},
     "output_type": "display_data"
    },
    {
     "name": "stdout",
     "output_type": "stream",
     "text": [
      "\n",
      "📘 Epoch 281/1000 - Train Loss: 2.0642\n"
     ]
    },
    {
     "data": {
      "application/vnd.jupyter.widget-view+json": {
       "model_id": "7ff18df1fba4485cba238fb6a7fb39e1",
       "version_major": 2,
       "version_minor": 0
      },
      "text/plain": [
       "Validating:   0%|          | 0/250 [00:00<?, ?it/s]"
      ]
     },
     "metadata": {},
     "output_type": "display_data"
    },
    {
     "name": "stdout",
     "output_type": "stream",
     "text": [
      "📗 Validation - Loss: 1.9236, Perplexity: 6.85, Token Acc: 40.63%\n"
     ]
    },
    {
     "data": {
      "application/vnd.jupyter.widget-view+json": {
       "model_id": "7b9707907df64f47bd5d0fd0e6de8a07",
       "version_major": 2,
       "version_minor": 0
      },
      "text/plain": [
       "Epoch 282/1000 [Training]:   0%|          | 0/1125 [00:00<?, ?it/s]"
      ]
     },
     "metadata": {},
     "output_type": "display_data"
    },
    {
     "name": "stdout",
     "output_type": "stream",
     "text": [
      "\n",
      "📘 Epoch 282/1000 - Train Loss: 2.0647\n"
     ]
    },
    {
     "data": {
      "application/vnd.jupyter.widget-view+json": {
       "model_id": "09cee784a2a84dacb3f62ef827b0c7e3",
       "version_major": 2,
       "version_minor": 0
      },
      "text/plain": [
       "Validating:   0%|          | 0/250 [00:00<?, ?it/s]"
      ]
     },
     "metadata": {},
     "output_type": "display_data"
    },
    {
     "name": "stdout",
     "output_type": "stream",
     "text": [
      "📗 Validation - Loss: 1.9232, Perplexity: 6.84, Token Acc: 40.49%\n",
      "✅ Saved checkpoint: checkpoints/blt_epoch282.pt\n"
     ]
    },
    {
     "data": {
      "application/vnd.jupyter.widget-view+json": {
       "model_id": "a5db9cbda51d4074b425438fa5a42810",
       "version_major": 2,
       "version_minor": 0
      },
      "text/plain": [
       "Epoch 283/1000 [Training]:   0%|          | 0/1125 [00:00<?, ?it/s]"
      ]
     },
     "metadata": {},
     "output_type": "display_data"
    },
    {
     "name": "stdout",
     "output_type": "stream",
     "text": [
      "\n",
      "📘 Epoch 283/1000 - Train Loss: 2.0639\n"
     ]
    },
    {
     "data": {
      "application/vnd.jupyter.widget-view+json": {
       "model_id": "0b0307833df440229dc97eb5c1cb2ecf",
       "version_major": 2,
       "version_minor": 0
      },
      "text/plain": [
       "Validating:   0%|          | 0/250 [00:00<?, ?it/s]"
      ]
     },
     "metadata": {},
     "output_type": "display_data"
    },
    {
     "name": "stdout",
     "output_type": "stream",
     "text": [
      "📗 Validation - Loss: 1.9240, Perplexity: 6.85, Token Acc: 40.47%\n"
     ]
    },
    {
     "data": {
      "application/vnd.jupyter.widget-view+json": {
       "model_id": "1c369f097ed54ae9b179c439c65dc3b2",
       "version_major": 2,
       "version_minor": 0
      },
      "text/plain": [
       "Epoch 284/1000 [Training]:   0%|          | 0/1125 [00:00<?, ?it/s]"
      ]
     },
     "metadata": {},
     "output_type": "display_data"
    },
    {
     "name": "stdout",
     "output_type": "stream",
     "text": [
      "\n",
      "📘 Epoch 284/1000 - Train Loss: 2.0641\n"
     ]
    },
    {
     "data": {
      "application/vnd.jupyter.widget-view+json": {
       "model_id": "a8c5ead056254b62901147a968d3425c",
       "version_major": 2,
       "version_minor": 0
      },
      "text/plain": [
       "Validating:   0%|          | 0/250 [00:00<?, ?it/s]"
      ]
     },
     "metadata": {},
     "output_type": "display_data"
    },
    {
     "name": "stdout",
     "output_type": "stream",
     "text": [
      "📗 Validation - Loss: 1.9232, Perplexity: 6.84, Token Acc: 40.71%\n",
      "✅ Saved checkpoint: checkpoints/blt_epoch284.pt\n"
     ]
    },
    {
     "data": {
      "application/vnd.jupyter.widget-view+json": {
       "model_id": "3d7294fb013d408d9060a7df24326c65",
       "version_major": 2,
       "version_minor": 0
      },
      "text/plain": [
       "Epoch 285/1000 [Training]:   0%|          | 0/1125 [00:00<?, ?it/s]"
      ]
     },
     "metadata": {},
     "output_type": "display_data"
    },
    {
     "name": "stdout",
     "output_type": "stream",
     "text": [
      "\n",
      "📘 Epoch 285/1000 - Train Loss: 2.0634\n"
     ]
    },
    {
     "data": {
      "application/vnd.jupyter.widget-view+json": {
       "model_id": "855cd3aa1e24462e946662e7e36f5d6e",
       "version_major": 2,
       "version_minor": 0
      },
      "text/plain": [
       "Validating:   0%|          | 0/250 [00:00<?, ?it/s]"
      ]
     },
     "metadata": {},
     "output_type": "display_data"
    },
    {
     "name": "stdout",
     "output_type": "stream",
     "text": [
      "📗 Validation - Loss: 1.9233, Perplexity: 6.84, Token Acc: 40.43%\n"
     ]
    },
    {
     "data": {
      "application/vnd.jupyter.widget-view+json": {
       "model_id": "2a9e1a3c580f4b4a980b12e28324685e",
       "version_major": 2,
       "version_minor": 0
      },
      "text/plain": [
       "Epoch 286/1000 [Training]:   0%|          | 0/1125 [00:00<?, ?it/s]"
      ]
     },
     "metadata": {},
     "output_type": "display_data"
    },
    {
     "name": "stdout",
     "output_type": "stream",
     "text": [
      "\n",
      "📘 Epoch 286/1000 - Train Loss: 2.0619\n"
     ]
    },
    {
     "data": {
      "application/vnd.jupyter.widget-view+json": {
       "model_id": "75d42802cf5a4377bbb3fe9fbe2a59e8",
       "version_major": 2,
       "version_minor": 0
      },
      "text/plain": [
       "Validating:   0%|          | 0/250 [00:00<?, ?it/s]"
      ]
     },
     "metadata": {},
     "output_type": "display_data"
    },
    {
     "name": "stdout",
     "output_type": "stream",
     "text": [
      "📗 Validation - Loss: 1.9211, Perplexity: 6.83, Token Acc: 40.60%\n",
      "✅ Saved checkpoint: checkpoints/blt_epoch286.pt\n"
     ]
    },
    {
     "data": {
      "application/vnd.jupyter.widget-view+json": {
       "model_id": "65adcb16d28d44319394cd51793d7a14",
       "version_major": 2,
       "version_minor": 0
      },
      "text/plain": [
       "Epoch 287/1000 [Training]:   0%|          | 0/1125 [00:00<?, ?it/s]"
      ]
     },
     "metadata": {},
     "output_type": "display_data"
    },
    {
     "name": "stdout",
     "output_type": "stream",
     "text": [
      "\n",
      "📘 Epoch 287/1000 - Train Loss: 2.0628\n"
     ]
    },
    {
     "data": {
      "application/vnd.jupyter.widget-view+json": {
       "model_id": "76f363735b114832b7aece32d87b6b41",
       "version_major": 2,
       "version_minor": 0
      },
      "text/plain": [
       "Validating:   0%|          | 0/250 [00:00<?, ?it/s]"
      ]
     },
     "metadata": {},
     "output_type": "display_data"
    },
    {
     "name": "stdout",
     "output_type": "stream",
     "text": [
      "📗 Validation - Loss: 1.9226, Perplexity: 6.84, Token Acc: 40.57%\n"
     ]
    },
    {
     "data": {
      "application/vnd.jupyter.widget-view+json": {
       "model_id": "68db0e37064a4f03a4318ccca34c8391",
       "version_major": 2,
       "version_minor": 0
      },
      "text/plain": [
       "Epoch 288/1000 [Training]:   0%|          | 0/1125 [00:00<?, ?it/s]"
      ]
     },
     "metadata": {},
     "output_type": "display_data"
    },
    {
     "name": "stdout",
     "output_type": "stream",
     "text": [
      "\n",
      "📘 Epoch 288/1000 - Train Loss: 2.0630\n"
     ]
    },
    {
     "data": {
      "application/vnd.jupyter.widget-view+json": {
       "model_id": "ccc09dae762c424db3f941b74c9c7438",
       "version_major": 2,
       "version_minor": 0
      },
      "text/plain": [
       "Validating:   0%|          | 0/250 [00:00<?, ?it/s]"
      ]
     },
     "metadata": {},
     "output_type": "display_data"
    },
    {
     "name": "stdout",
     "output_type": "stream",
     "text": [
      "📗 Validation - Loss: 1.9220, Perplexity: 6.83, Token Acc: 40.53%\n",
      "✅ Saved checkpoint: checkpoints/blt_epoch288.pt\n"
     ]
    },
    {
     "data": {
      "application/vnd.jupyter.widget-view+json": {
       "model_id": "28b3f797442a4c04919f5a9dd7ca9454",
       "version_major": 2,
       "version_minor": 0
      },
      "text/plain": [
       "Epoch 289/1000 [Training]:   0%|          | 0/1125 [00:00<?, ?it/s]"
      ]
     },
     "metadata": {},
     "output_type": "display_data"
    },
    {
     "name": "stdout",
     "output_type": "stream",
     "text": [
      "\n",
      "📘 Epoch 289/1000 - Train Loss: 2.0633\n"
     ]
    },
    {
     "data": {
      "application/vnd.jupyter.widget-view+json": {
       "model_id": "c7accc6220f34dbe9507d47826eac413",
       "version_major": 2,
       "version_minor": 0
      },
      "text/plain": [
       "Validating:   0%|          | 0/250 [00:00<?, ?it/s]"
      ]
     },
     "metadata": {},
     "output_type": "display_data"
    },
    {
     "name": "stdout",
     "output_type": "stream",
     "text": [
      "📗 Validation - Loss: 1.9214, Perplexity: 6.83, Token Acc: 40.61%\n"
     ]
    },
    {
     "data": {
      "application/vnd.jupyter.widget-view+json": {
       "model_id": "77862751dd7f4b39a511c43b2f6fb1b9",
       "version_major": 2,
       "version_minor": 0
      },
      "text/plain": [
       "Epoch 290/1000 [Training]:   0%|          | 0/1125 [00:00<?, ?it/s]"
      ]
     },
     "metadata": {},
     "output_type": "display_data"
    },
    {
     "name": "stdout",
     "output_type": "stream",
     "text": [
      "\n",
      "📘 Epoch 290/1000 - Train Loss: 2.0623\n"
     ]
    },
    {
     "data": {
      "application/vnd.jupyter.widget-view+json": {
       "model_id": "2836e18a3b3e4fba8efe987019ca479f",
       "version_major": 2,
       "version_minor": 0
      },
      "text/plain": [
       "Validating:   0%|          | 0/250 [00:00<?, ?it/s]"
      ]
     },
     "metadata": {},
     "output_type": "display_data"
    },
    {
     "name": "stdout",
     "output_type": "stream",
     "text": [
      "📗 Validation - Loss: 1.9211, Perplexity: 6.83, Token Acc: 40.62%\n",
      "✅ Saved checkpoint: checkpoints/blt_epoch290.pt\n"
     ]
    },
    {
     "data": {
      "application/vnd.jupyter.widget-view+json": {
       "model_id": "b0ea3794d7cf419ba345ee52f938c652",
       "version_major": 2,
       "version_minor": 0
      },
      "text/plain": [
       "Epoch 291/1000 [Training]:   0%|          | 0/1125 [00:00<?, ?it/s]"
      ]
     },
     "metadata": {},
     "output_type": "display_data"
    },
    {
     "name": "stdout",
     "output_type": "stream",
     "text": [
      "\n",
      "📘 Epoch 291/1000 - Train Loss: 2.0607\n"
     ]
    },
    {
     "data": {
      "application/vnd.jupyter.widget-view+json": {
       "model_id": "ccd59d20292248949623d70513b6b713",
       "version_major": 2,
       "version_minor": 0
      },
      "text/plain": [
       "Validating:   0%|          | 0/250 [00:00<?, ?it/s]"
      ]
     },
     "metadata": {},
     "output_type": "display_data"
    },
    {
     "name": "stdout",
     "output_type": "stream",
     "text": [
      "📗 Validation - Loss: 1.9222, Perplexity: 6.84, Token Acc: 40.53%\n"
     ]
    },
    {
     "data": {
      "application/vnd.jupyter.widget-view+json": {
       "model_id": "9813f91db9954f7ea9dbbd76d949c699",
       "version_major": 2,
       "version_minor": 0
      },
      "text/plain": [
       "Epoch 292/1000 [Training]:   0%|          | 0/1125 [00:00<?, ?it/s]"
      ]
     },
     "metadata": {},
     "output_type": "display_data"
    },
    {
     "name": "stdout",
     "output_type": "stream",
     "text": [
      "\n",
      "📘 Epoch 292/1000 - Train Loss: 2.0625\n"
     ]
    },
    {
     "data": {
      "application/vnd.jupyter.widget-view+json": {
       "model_id": "6c6279183cc74e9d8f745bdd0096ba09",
       "version_major": 2,
       "version_minor": 0
      },
      "text/plain": [
       "Validating:   0%|          | 0/250 [00:00<?, ?it/s]"
      ]
     },
     "metadata": {},
     "output_type": "display_data"
    },
    {
     "name": "stdout",
     "output_type": "stream",
     "text": [
      "📗 Validation - Loss: 1.9208, Perplexity: 6.83, Token Acc: 40.71%\n",
      "✅ Saved checkpoint: checkpoints/blt_epoch292.pt\n"
     ]
    },
    {
     "data": {
      "application/vnd.jupyter.widget-view+json": {
       "model_id": "e015bbf30a644248be7023d69124ed93",
       "version_major": 2,
       "version_minor": 0
      },
      "text/plain": [
       "Epoch 293/1000 [Training]:   0%|          | 0/1125 [00:00<?, ?it/s]"
      ]
     },
     "metadata": {},
     "output_type": "display_data"
    },
    {
     "name": "stdout",
     "output_type": "stream",
     "text": [
      "\n",
      "📘 Epoch 293/1000 - Train Loss: 2.0621\n"
     ]
    },
    {
     "data": {
      "application/vnd.jupyter.widget-view+json": {
       "model_id": "8c41851cef1e442b84d654db324ed8e5",
       "version_major": 2,
       "version_minor": 0
      },
      "text/plain": [
       "Validating:   0%|          | 0/250 [00:00<?, ?it/s]"
      ]
     },
     "metadata": {},
     "output_type": "display_data"
    },
    {
     "name": "stdout",
     "output_type": "stream",
     "text": [
      "📗 Validation - Loss: 1.9211, Perplexity: 6.83, Token Acc: 40.61%\n"
     ]
    },
    {
     "data": {
      "application/vnd.jupyter.widget-view+json": {
       "model_id": "613ac039f9c74a64b0bdd1194d29d5a5",
       "version_major": 2,
       "version_minor": 0
      },
      "text/plain": [
       "Epoch 294/1000 [Training]:   0%|          | 0/1125 [00:00<?, ?it/s]"
      ]
     },
     "metadata": {},
     "output_type": "display_data"
    },
    {
     "name": "stdout",
     "output_type": "stream",
     "text": [
      "\n",
      "📘 Epoch 294/1000 - Train Loss: 2.0617\n"
     ]
    },
    {
     "data": {
      "application/vnd.jupyter.widget-view+json": {
       "model_id": "2572b14aac904e20bcb634c7d2e766d9",
       "version_major": 2,
       "version_minor": 0
      },
      "text/plain": [
       "Validating:   0%|          | 0/250 [00:00<?, ?it/s]"
      ]
     },
     "metadata": {},
     "output_type": "display_data"
    },
    {
     "name": "stdout",
     "output_type": "stream",
     "text": [
      "📗 Validation - Loss: 1.9202, Perplexity: 6.82, Token Acc: 40.68%\n",
      "✅ Saved checkpoint: checkpoints/blt_epoch294.pt\n"
     ]
    },
    {
     "data": {
      "application/vnd.jupyter.widget-view+json": {
       "model_id": "8f2fdbd3a6474a8ea46699a020716b2f",
       "version_major": 2,
       "version_minor": 0
      },
      "text/plain": [
       "Epoch 295/1000 [Training]:   0%|          | 0/1125 [00:00<?, ?it/s]"
      ]
     },
     "metadata": {},
     "output_type": "display_data"
    },
    {
     "name": "stdout",
     "output_type": "stream",
     "text": [
      "\n",
      "📘 Epoch 295/1000 - Train Loss: 2.0608\n"
     ]
    },
    {
     "data": {
      "application/vnd.jupyter.widget-view+json": {
       "model_id": "fa7f73f7d42b45999a4c543eaf318144",
       "version_major": 2,
       "version_minor": 0
      },
      "text/plain": [
       "Validating:   0%|          | 0/250 [00:00<?, ?it/s]"
      ]
     },
     "metadata": {},
     "output_type": "display_data"
    },
    {
     "name": "stdout",
     "output_type": "stream",
     "text": [
      "📗 Validation - Loss: 1.9200, Perplexity: 6.82, Token Acc: 40.62%\n"
     ]
    },
    {
     "data": {
      "application/vnd.jupyter.widget-view+json": {
       "model_id": "5454eb50a9c84b01be81667c2dfcc101",
       "version_major": 2,
       "version_minor": 0
      },
      "text/plain": [
       "Epoch 296/1000 [Training]:   0%|          | 0/1125 [00:00<?, ?it/s]"
      ]
     },
     "metadata": {},
     "output_type": "display_data"
    },
    {
     "name": "stdout",
     "output_type": "stream",
     "text": [
      "\n",
      "📘 Epoch 296/1000 - Train Loss: 2.0613\n"
     ]
    },
    {
     "data": {
      "application/vnd.jupyter.widget-view+json": {
       "model_id": "b4c202de607041fa923cf8804ad6d3b8",
       "version_major": 2,
       "version_minor": 0
      },
      "text/plain": [
       "Validating:   0%|          | 0/250 [00:00<?, ?it/s]"
      ]
     },
     "metadata": {},
     "output_type": "display_data"
    },
    {
     "name": "stdout",
     "output_type": "stream",
     "text": [
      "📗 Validation - Loss: 1.9215, Perplexity: 6.83, Token Acc: 40.54%\n",
      "✅ Saved checkpoint: checkpoints/blt_epoch296.pt\n"
     ]
    },
    {
     "data": {
      "application/vnd.jupyter.widget-view+json": {
       "model_id": "132402263c054c2599870cb53eed1090",
       "version_major": 2,
       "version_minor": 0
      },
      "text/plain": [
       "Epoch 297/1000 [Training]:   0%|          | 0/1125 [00:00<?, ?it/s]"
      ]
     },
     "metadata": {},
     "output_type": "display_data"
    },
    {
     "name": "stdout",
     "output_type": "stream",
     "text": [
      "\n",
      "📘 Epoch 297/1000 - Train Loss: 2.0611\n"
     ]
    },
    {
     "data": {
      "application/vnd.jupyter.widget-view+json": {
       "model_id": "0b0e2735f5bf4c1db47fa7e02a31ca20",
       "version_major": 2,
       "version_minor": 0
      },
      "text/plain": [
       "Validating:   0%|          | 0/250 [00:00<?, ?it/s]"
      ]
     },
     "metadata": {},
     "output_type": "display_data"
    },
    {
     "name": "stdout",
     "output_type": "stream",
     "text": [
      "📗 Validation - Loss: 1.9196, Perplexity: 6.82, Token Acc: 40.61%\n"
     ]
    },
    {
     "data": {
      "application/vnd.jupyter.widget-view+json": {
       "model_id": "389d03a4f77a4dfaad20862e9f26fd72",
       "version_major": 2,
       "version_minor": 0
      },
      "text/plain": [
       "Epoch 298/1000 [Training]:   0%|          | 0/1125 [00:00<?, ?it/s]"
      ]
     },
     "metadata": {},
     "output_type": "display_data"
    },
    {
     "name": "stdout",
     "output_type": "stream",
     "text": [
      "\n",
      "📘 Epoch 298/1000 - Train Loss: 2.0607\n"
     ]
    },
    {
     "data": {
      "application/vnd.jupyter.widget-view+json": {
       "model_id": "a8ff0627f622492aae6d90ea24956370",
       "version_major": 2,
       "version_minor": 0
      },
      "text/plain": [
       "Validating:   0%|          | 0/250 [00:00<?, ?it/s]"
      ]
     },
     "metadata": {},
     "output_type": "display_data"
    },
    {
     "name": "stdout",
     "output_type": "stream",
     "text": [
      "📗 Validation - Loss: 1.9194, Perplexity: 6.82, Token Acc: 40.61%\n",
      "✅ Saved checkpoint: checkpoints/blt_epoch298.pt\n"
     ]
    },
    {
     "data": {
      "application/vnd.jupyter.widget-view+json": {
       "model_id": "d9c99ff616b0481597fc3499cd1b6e4b",
       "version_major": 2,
       "version_minor": 0
      },
      "text/plain": [
       "Epoch 299/1000 [Training]:   0%|          | 0/1125 [00:00<?, ?it/s]"
      ]
     },
     "metadata": {},
     "output_type": "display_data"
    },
    {
     "name": "stdout",
     "output_type": "stream",
     "text": [
      "\n",
      "📘 Epoch 299/1000 - Train Loss: 2.0607\n"
     ]
    },
    {
     "data": {
      "application/vnd.jupyter.widget-view+json": {
       "model_id": "dc9a0258e4a844598eb832526788dff3",
       "version_major": 2,
       "version_minor": 0
      },
      "text/plain": [
       "Validating:   0%|          | 0/250 [00:00<?, ?it/s]"
      ]
     },
     "metadata": {},
     "output_type": "display_data"
    },
    {
     "name": "stdout",
     "output_type": "stream",
     "text": [
      "📗 Validation - Loss: 1.9193, Perplexity: 6.82, Token Acc: 40.59%\n"
     ]
    },
    {
     "data": {
      "application/vnd.jupyter.widget-view+json": {
       "model_id": "5b81a0fb24014abc8d07dd72aa6fdda3",
       "version_major": 2,
       "version_minor": 0
      },
      "text/plain": [
       "Epoch 300/1000 [Training]:   0%|          | 0/1125 [00:00<?, ?it/s]"
      ]
     },
     "metadata": {},
     "output_type": "display_data"
    },
    {
     "name": "stdout",
     "output_type": "stream",
     "text": [
      "\n",
      "📘 Epoch 300/1000 - Train Loss: 2.0605\n"
     ]
    },
    {
     "data": {
      "application/vnd.jupyter.widget-view+json": {
       "model_id": "eb1953f317014bacbb95fdc58191067a",
       "version_major": 2,
       "version_minor": 0
      },
      "text/plain": [
       "Validating:   0%|          | 0/250 [00:00<?, ?it/s]"
      ]
     },
     "metadata": {},
     "output_type": "display_data"
    },
    {
     "name": "stdout",
     "output_type": "stream",
     "text": [
      "📗 Validation - Loss: 1.9198, Perplexity: 6.82, Token Acc: 40.58%\n",
      "✅ Saved checkpoint: checkpoints/blt_epoch300.pt\n"
     ]
    },
    {
     "data": {
      "application/vnd.jupyter.widget-view+json": {
       "model_id": "2652a100033f46e1890b3afedcdd8c70",
       "version_major": 2,
       "version_minor": 0
      },
      "text/plain": [
       "Epoch 301/1000 [Training]:   0%|          | 0/1125 [00:00<?, ?it/s]"
      ]
     },
     "metadata": {},
     "output_type": "display_data"
    },
    {
     "name": "stdout",
     "output_type": "stream",
     "text": [
      "\n",
      "📘 Epoch 301/1000 - Train Loss: 2.0601\n"
     ]
    },
    {
     "data": {
      "application/vnd.jupyter.widget-view+json": {
       "model_id": "de044430274540a6a87599e46eb69fb4",
       "version_major": 2,
       "version_minor": 0
      },
      "text/plain": [
       "Validating:   0%|          | 0/250 [00:00<?, ?it/s]"
      ]
     },
     "metadata": {},
     "output_type": "display_data"
    },
    {
     "name": "stdout",
     "output_type": "stream",
     "text": [
      "📗 Validation - Loss: 1.9200, Perplexity: 6.82, Token Acc: 40.58%\n"
     ]
    },
    {
     "data": {
      "application/vnd.jupyter.widget-view+json": {
       "model_id": "1530907846ec4548b4b3d732249b17ca",
       "version_major": 2,
       "version_minor": 0
      },
      "text/plain": [
       "Epoch 302/1000 [Training]:   0%|          | 0/1125 [00:00<?, ?it/s]"
      ]
     },
     "metadata": {},
     "output_type": "display_data"
    },
    {
     "name": "stdout",
     "output_type": "stream",
     "text": [
      "\n",
      "📘 Epoch 302/1000 - Train Loss: 2.0602\n"
     ]
    },
    {
     "data": {
      "application/vnd.jupyter.widget-view+json": {
       "model_id": "031e7fc31009442c8a634b0155c47718",
       "version_major": 2,
       "version_minor": 0
      },
      "text/plain": [
       "Validating:   0%|          | 0/250 [00:00<?, ?it/s]"
      ]
     },
     "metadata": {},
     "output_type": "display_data"
    },
    {
     "name": "stdout",
     "output_type": "stream",
     "text": [
      "📗 Validation - Loss: 1.9188, Perplexity: 6.81, Token Acc: 40.63%\n",
      "✅ Saved checkpoint: checkpoints/blt_epoch302.pt\n"
     ]
    },
    {
     "data": {
      "application/vnd.jupyter.widget-view+json": {
       "model_id": "c3128640958842fc95d54daf7016b286",
       "version_major": 2,
       "version_minor": 0
      },
      "text/plain": [
       "Epoch 303/1000 [Training]:   0%|          | 0/1125 [00:00<?, ?it/s]"
      ]
     },
     "metadata": {},
     "output_type": "display_data"
    },
    {
     "name": "stdout",
     "output_type": "stream",
     "text": [
      "\n",
      "📘 Epoch 303/1000 - Train Loss: 2.0597\n"
     ]
    },
    {
     "data": {
      "application/vnd.jupyter.widget-view+json": {
       "model_id": "6047fb8755164ffd87375e01c89f9eeb",
       "version_major": 2,
       "version_minor": 0
      },
      "text/plain": [
       "Validating:   0%|          | 0/250 [00:00<?, ?it/s]"
      ]
     },
     "metadata": {},
     "output_type": "display_data"
    },
    {
     "name": "stdout",
     "output_type": "stream",
     "text": [
      "📗 Validation - Loss: 1.9185, Perplexity: 6.81, Token Acc: 40.78%\n"
     ]
    },
    {
     "data": {
      "application/vnd.jupyter.widget-view+json": {
       "model_id": "5796a70f4e024e3fa5ebad686826b72a",
       "version_major": 2,
       "version_minor": 0
      },
      "text/plain": [
       "Epoch 304/1000 [Training]:   0%|          | 0/1125 [00:00<?, ?it/s]"
      ]
     },
     "metadata": {},
     "output_type": "display_data"
    },
    {
     "name": "stdout",
     "output_type": "stream",
     "text": [
      "\n",
      "📘 Epoch 304/1000 - Train Loss: 2.0601\n"
     ]
    },
    {
     "data": {
      "application/vnd.jupyter.widget-view+json": {
       "model_id": "ba20a25f81c94eb8a54bb48d30f54db1",
       "version_major": 2,
       "version_minor": 0
      },
      "text/plain": [
       "Validating:   0%|          | 0/250 [00:00<?, ?it/s]"
      ]
     },
     "metadata": {},
     "output_type": "display_data"
    },
    {
     "name": "stdout",
     "output_type": "stream",
     "text": [
      "📗 Validation - Loss: 1.9189, Perplexity: 6.81, Token Acc: 40.62%\n",
      "✅ Saved checkpoint: checkpoints/blt_epoch304.pt\n"
     ]
    },
    {
     "data": {
      "application/vnd.jupyter.widget-view+json": {
       "model_id": "4a695f85e2aa4a9a9852cddc23788c90",
>>>>>>> c1ccc8e3419992dcb4235f4691fac236ac104211
       "version_major": 2,
       "version_minor": 0
      },
      "text/plain": [
       "Epoch 305/1000 [Training]:   0%|          | 0/1125 [00:00<?, ?it/s]"
      ]
     },
     "metadata": {},
     "output_type": "display_data"
    },
    {
<<<<<<< HEAD
     "name": "stderr",
     "output_type": "stream",
     "text": [
      "/Library/Frameworks/Python.framework/Versions/3.13/lib/python3.13/site-packages/torch/nn/functional.py:6044: UserWarning: Support for mismatched key_padding_mask and attn_mask is deprecated. Use same type for both instead.\n",
      "  warnings.warn(\n"
     ]
    },
    {
     "name": "stdout",
     "output_type": "stream",
     "text": [
      "\n",
      "📘 Epoch 305/1000 - Train Loss: 2.0631\n"
     ]
    },
    {
     "data": {
      "application/vnd.jupyter.widget-view+json": {
       "model_id": "1c1bea66c324440c9df6baecb7fc38bc",
       "version_major": 2,
       "version_minor": 0
      },
      "text/plain": [
       "Validating:   0%|          | 0/250 [00:00<?, ?it/s]"
      ]
     },
     "metadata": {},
     "output_type": "display_data"
    },
    {
     "name": "stdout",
     "output_type": "stream",
     "text": [
      "📗 Validation - Loss: 1.8800, Perplexity: 6.55, Token Acc: 41.44%\n"
     ]
    },
    {
     "data": {
      "application/vnd.jupyter.widget-view+json": {
       "model_id": "f3436cc120d043f0901a8d309f79bea9",
       "version_major": 2,
       "version_minor": 0
      },
      "text/plain": [
       "Epoch 306/1000 [Training]:   0%|          | 0/1125 [00:00<?, ?it/s]"
      ]
     },
     "metadata": {},
     "output_type": "display_data"
    },
    {
     "name": "stdout",
     "output_type": "stream",
     "text": [
      "\n",
      "📘 Epoch 306/1000 - Train Loss: 2.0621\n"
     ]
    },
    {
     "data": {
      "application/vnd.jupyter.widget-view+json": {
       "model_id": "35ec00bb1b8f4ca1ae40457b68155691",
       "version_major": 2,
       "version_minor": 0
      },
      "text/plain": [
       "Validating:   0%|          | 0/250 [00:00<?, ?it/s]"
      ]
     },
     "metadata": {},
     "output_type": "display_data"
    },
    {
     "name": "stdout",
     "output_type": "stream",
     "text": [
      "📗 Validation - Loss: 1.8818, Perplexity: 6.57, Token Acc: 41.42%\n",
      "✅ Saved checkpoint: checkpoints/blt_epoch306.pt\n"
     ]
    },
    {
     "data": {
      "application/vnd.jupyter.widget-view+json": {
       "model_id": "9dba701f7db146df9122eb904314ed36",
       "version_major": 2,
       "version_minor": 0
      },
      "text/plain": [
       "Epoch 307/1000 [Training]:   0%|          | 0/1125 [00:00<?, ?it/s]"
      ]
     },
     "metadata": {},
     "output_type": "display_data"
    },
    {
     "name": "stdout",
     "output_type": "stream",
     "text": [
      "\n",
      "📘 Epoch 307/1000 - Train Loss: 2.0617\n"
     ]
    },
    {
     "data": {
      "application/vnd.jupyter.widget-view+json": {
       "model_id": "cdcd34f009ff4bd9970cb062845e7cdd",
       "version_major": 2,
       "version_minor": 0
      },
      "text/plain": [
       "Validating:   0%|          | 0/250 [00:00<?, ?it/s]"
      ]
     },
     "metadata": {},
     "output_type": "display_data"
    },
    {
     "name": "stdout",
     "output_type": "stream",
     "text": [
      "📗 Validation - Loss: 1.8824, Perplexity: 6.57, Token Acc: 41.44%\n"
     ]
    },
    {
     "data": {
      "application/vnd.jupyter.widget-view+json": {
       "model_id": "6f414c88dfb54a599da3c69e79e89b5e",
       "version_major": 2,
       "version_minor": 0
      },
      "text/plain": [
       "Epoch 308/1000 [Training]:   0%|          | 0/1125 [00:00<?, ?it/s]"
      ]
     },
     "metadata": {},
     "output_type": "display_data"
    },
    {
     "name": "stdout",
     "output_type": "stream",
     "text": [
      "\n",
      "📘 Epoch 308/1000 - Train Loss: 2.0617\n"
     ]
    },
    {
     "data": {
      "application/vnd.jupyter.widget-view+json": {
       "model_id": "9393c6dc571d4426a3c97a76bcdb984f",
       "version_major": 2,
       "version_minor": 0
      },
      "text/plain": [
       "Validating:   0%|          | 0/250 [00:00<?, ?it/s]"
      ]
     },
     "metadata": {},
     "output_type": "display_data"
    },
    {
     "name": "stdout",
     "output_type": "stream",
     "text": [
      "📗 Validation - Loss: 1.8836, Perplexity: 6.58, Token Acc: 41.39%\n",
      "✅ Saved checkpoint: checkpoints/blt_epoch308.pt\n"
     ]
    },
    {
     "data": {
      "application/vnd.jupyter.widget-view+json": {
       "model_id": "9c3332e90e4644e7a62f366396da8156",
       "version_major": 2,
       "version_minor": 0
      },
      "text/plain": [
       "Epoch 309/1000 [Training]:   0%|          | 0/1125 [00:00<?, ?it/s]"
      ]
     },
     "metadata": {},
     "output_type": "display_data"
    },
    {
     "name": "stdout",
     "output_type": "stream",
     "text": [
      "\n",
      "📘 Epoch 309/1000 - Train Loss: 2.0606\n"
     ]
    },
    {
     "data": {
      "application/vnd.jupyter.widget-view+json": {
       "model_id": "908f040f52c54c6393656f840153a3f8",
       "version_major": 2,
       "version_minor": 0
      },
      "text/plain": [
       "Validating:   0%|          | 0/250 [00:00<?, ?it/s]"
      ]
     },
     "metadata": {},
     "output_type": "display_data"
    },
    {
     "name": "stdout",
     "output_type": "stream",
     "text": [
      "📗 Validation - Loss: 1.8837, Perplexity: 6.58, Token Acc: 41.20%\n"
     ]
    },
    {
     "data": {
      "application/vnd.jupyter.widget-view+json": {
       "model_id": "d47e758770794a14aa88d7a6b2952c30",
       "version_major": 2,
       "version_minor": 0
      },
      "text/plain": [
       "Epoch 310/1000 [Training]:   0%|          | 0/1125 [00:00<?, ?it/s]"
      ]
     },
     "metadata": {},
     "output_type": "display_data"
    },
    {
     "name": "stdout",
     "output_type": "stream",
     "text": [
      "\n",
      "📘 Epoch 310/1000 - Train Loss: 2.0612\n"
     ]
    },
    {
     "data": {
      "application/vnd.jupyter.widget-view+json": {
       "model_id": "59a88c16f9f44227906e6b0679b7a4c5",
       "version_major": 2,
       "version_minor": 0
      },
      "text/plain": [
       "Validating:   0%|          | 0/250 [00:00<?, ?it/s]"
      ]
     },
     "metadata": {},
     "output_type": "display_data"
    },
    {
     "name": "stdout",
     "output_type": "stream",
     "text": [
      "📗 Validation - Loss: 1.8834, Perplexity: 6.58, Token Acc: 41.21%\n",
      "✅ Saved checkpoint: checkpoints/blt_epoch310.pt\n"
     ]
    },
    {
     "data": {
      "application/vnd.jupyter.widget-view+json": {
       "model_id": "403fc1816df64a0b9ad3551168a2b9a1",
       "version_major": 2,
       "version_minor": 0
      },
      "text/plain": [
       "Epoch 311/1000 [Training]:   0%|          | 0/1125 [00:00<?, ?it/s]"
      ]
     },
     "metadata": {},
     "output_type": "display_data"
    },
    {
     "name": "stdout",
     "output_type": "stream",
     "text": [
      "\n",
      "📘 Epoch 311/1000 - Train Loss: 2.0620\n"
     ]
    },
    {
     "data": {
      "application/vnd.jupyter.widget-view+json": {
       "model_id": "c10971384e054c758d7dfe2c95d29033",
       "version_major": 2,
       "version_minor": 0
      },
      "text/plain": [
       "Validating:   0%|          | 0/250 [00:00<?, ?it/s]"
      ]
     },
     "metadata": {},
     "output_type": "display_data"
    },
    {
     "name": "stdout",
     "output_type": "stream",
     "text": [
      "📗 Validation - Loss: 1.8845, Perplexity: 6.58, Token Acc: 41.35%\n"
     ]
    },
    {
     "data": {
      "application/vnd.jupyter.widget-view+json": {
       "model_id": "faf55da43003430bb1f9b34b294eec3f",
       "version_major": 2,
       "version_minor": 0
      },
      "text/plain": [
       "Epoch 312/1000 [Training]:   0%|          | 0/1125 [00:00<?, ?it/s]"
      ]
     },
     "metadata": {},
     "output_type": "display_data"
    },
    {
     "name": "stdout",
     "output_type": "stream",
     "text": [
      "\n",
      "📘 Epoch 312/1000 - Train Loss: 2.0573\n"
     ]
    },
    {
     "data": {
      "application/vnd.jupyter.widget-view+json": {
       "model_id": "cfb2a321b17f47a8b129ba37ee7bae6e",
       "version_major": 2,
       "version_minor": 0
      },
      "text/plain": [
       "Validating:   0%|          | 0/250 [00:00<?, ?it/s]"
      ]
     },
     "metadata": {},
     "output_type": "display_data"
    },
    {
     "name": "stdout",
     "output_type": "stream",
     "text": [
      "📗 Validation - Loss: 1.8834, Perplexity: 6.58, Token Acc: 41.36%\n",
      "✅ Saved checkpoint: checkpoints/blt_epoch312.pt\n"
     ]
    },
    {
     "data": {
      "application/vnd.jupyter.widget-view+json": {
       "model_id": "c3c101cfa7b44102b5465a8f161761d5",
       "version_major": 2,
       "version_minor": 0
      },
      "text/plain": [
       "Epoch 313/1000 [Training]:   0%|          | 0/1125 [00:00<?, ?it/s]"
      ]
     },
     "metadata": {},
     "output_type": "display_data"
    },
    {
     "name": "stdout",
     "output_type": "stream",
     "text": [
      "\n",
      "📘 Epoch 313/1000 - Train Loss: 2.0585\n"
     ]
    },
    {
     "data": {
      "application/vnd.jupyter.widget-view+json": {
       "model_id": "af15c885dde347b3bc6c73f5c9ece051",
       "version_major": 2,
       "version_minor": 0
      },
      "text/plain": [
       "Validating:   0%|          | 0/250 [00:00<?, ?it/s]"
      ]
     },
     "metadata": {},
     "output_type": "display_data"
    },
    {
     "name": "stdout",
     "output_type": "stream",
     "text": [
      "📗 Validation - Loss: 1.8828, Perplexity: 6.57, Token Acc: 41.43%\n"
     ]
    },
    {
     "data": {
      "application/vnd.jupyter.widget-view+json": {
       "model_id": "d4b9800ddc1b46f79838403a1b0ce789",
       "version_major": 2,
       "version_minor": 0
      },
      "text/plain": [
       "Epoch 314/1000 [Training]:   0%|          | 0/1125 [00:00<?, ?it/s]"
      ]
     },
     "metadata": {},
     "output_type": "display_data"
    },
    {
     "name": "stdout",
     "output_type": "stream",
     "text": [
      "\n",
      "📘 Epoch 314/1000 - Train Loss: 2.0570\n"
     ]
    },
    {
     "data": {
      "application/vnd.jupyter.widget-view+json": {
       "model_id": "13ae181f895245a1bfaceae6c3fb1e79",
       "version_major": 2,
       "version_minor": 0
      },
      "text/plain": [
       "Validating:   0%|          | 0/250 [00:00<?, ?it/s]"
      ]
     },
     "metadata": {},
     "output_type": "display_data"
    },
    {
     "name": "stdout",
     "output_type": "stream",
     "text": [
      "📗 Validation - Loss: 1.8830, Perplexity: 6.57, Token Acc: 41.27%\n",
      "✅ Saved checkpoint: checkpoints/blt_epoch314.pt\n"
     ]
    },
    {
     "data": {
      "application/vnd.jupyter.widget-view+json": {
       "model_id": "bd2bc0b046c941afbbc5590a9827675f",
       "version_major": 2,
       "version_minor": 0
      },
      "text/plain": [
       "Epoch 315/1000 [Training]:   0%|          | 0/1125 [00:00<?, ?it/s]"
      ]
     },
     "metadata": {},
     "output_type": "display_data"
    },
    {
     "name": "stdout",
     "output_type": "stream",
     "text": [
      "\n",
      "📘 Epoch 315/1000 - Train Loss: 2.0582\n"
     ]
    },
    {
     "data": {
      "application/vnd.jupyter.widget-view+json": {
       "model_id": "9abfed2c1c4a4a9d9d5fd2926aeebcc3",
       "version_major": 2,
       "version_minor": 0
      },
      "text/plain": [
       "Validating:   0%|          | 0/250 [00:00<?, ?it/s]"
      ]
     },
     "metadata": {},
     "output_type": "display_data"
    },
    {
     "name": "stdout",
     "output_type": "stream",
     "text": [
      "📗 Validation - Loss: 1.8819, Perplexity: 6.57, Token Acc: 41.37%\n"
     ]
    },
    {
     "data": {
      "application/vnd.jupyter.widget-view+json": {
       "model_id": "a8b803b2a26b4dec91090ecf145ee7cc",
       "version_major": 2,
       "version_minor": 0
      },
      "text/plain": [
       "Epoch 316/1000 [Training]:   0%|          | 0/1125 [00:00<?, ?it/s]"
      ]
     },
     "metadata": {},
     "output_type": "display_data"
    },
    {
     "name": "stdout",
     "output_type": "stream",
     "text": [
      "\n",
      "📘 Epoch 316/1000 - Train Loss: 2.0574\n"
     ]
    },
    {
     "data": {
      "application/vnd.jupyter.widget-view+json": {
       "model_id": "c01f043dc5284855b8d31667e64d39d6",
       "version_major": 2,
       "version_minor": 0
      },
      "text/plain": [
       "Validating:   0%|          | 0/250 [00:00<?, ?it/s]"
      ]
     },
     "metadata": {},
     "output_type": "display_data"
    },
    {
     "name": "stdout",
     "output_type": "stream",
     "text": [
      "📗 Validation - Loss: 1.8820, Perplexity: 6.57, Token Acc: 41.42%\n",
      "✅ Saved checkpoint: checkpoints/blt_epoch316.pt\n"
     ]
    },
    {
     "data": {
      "application/vnd.jupyter.widget-view+json": {
       "model_id": "e43ecc3012264201babb202ae28a7659",
       "version_major": 2,
       "version_minor": 0
      },
      "text/plain": [
       "Epoch 317/1000 [Training]:   0%|          | 0/1125 [00:00<?, ?it/s]"
      ]
     },
     "metadata": {},
     "output_type": "display_data"
    },
    {
     "name": "stdout",
     "output_type": "stream",
     "text": [
      "\n",
      "📘 Epoch 317/1000 - Train Loss: 2.0576\n"
     ]
    },
    {
     "data": {
      "application/vnd.jupyter.widget-view+json": {
       "model_id": "94a16f22ff454ff98c997ec86c05adb8",
       "version_major": 2,
       "version_minor": 0
      },
      "text/plain": [
       "Validating:   0%|          | 0/250 [00:00<?, ?it/s]"
      ]
     },
     "metadata": {},
     "output_type": "display_data"
    },
    {
     "name": "stdout",
     "output_type": "stream",
     "text": [
      "📗 Validation - Loss: 1.8823, Perplexity: 6.57, Token Acc: 41.35%\n"
     ]
    },
    {
     "data": {
      "application/vnd.jupyter.widget-view+json": {
       "model_id": "a54da18eb9484fad9b88f82d91cb1e75",
       "version_major": 2,
       "version_minor": 0
      },
      "text/plain": [
       "Epoch 318/1000 [Training]:   0%|          | 0/1125 [00:00<?, ?it/s]"
      ]
     },
     "metadata": {},
     "output_type": "display_data"
    },
    {
     "name": "stdout",
     "output_type": "stream",
     "text": [
      "\n",
      "📘 Epoch 318/1000 - Train Loss: 2.0558\n"
     ]
    },
    {
     "data": {
      "application/vnd.jupyter.widget-view+json": {
       "model_id": "f7405193bf4d480389635f2245f74ca3",
       "version_major": 2,
       "version_minor": 0
      },
      "text/plain": [
       "Validating:   0%|          | 0/250 [00:00<?, ?it/s]"
      ]
     },
     "metadata": {},
     "output_type": "display_data"
    },
    {
     "name": "stdout",
     "output_type": "stream",
     "text": [
      "📗 Validation - Loss: 1.8812, Perplexity: 6.56, Token Acc: 41.44%\n",
      "✅ Saved checkpoint: checkpoints/blt_epoch318.pt\n"
     ]
    },
    {
     "data": {
      "application/vnd.jupyter.widget-view+json": {
       "model_id": "142d4a863b434384bd04c898f004cb23",
       "version_major": 2,
       "version_minor": 0
      },
      "text/plain": [
       "Epoch 319/1000 [Training]:   0%|          | 0/1125 [00:00<?, ?it/s]"
      ]
     },
     "metadata": {},
     "output_type": "display_data"
    },
    {
     "name": "stdout",
     "output_type": "stream",
     "text": [
      "\n",
      "📘 Epoch 319/1000 - Train Loss: 2.0564\n"
     ]
    },
    {
     "data": {
      "application/vnd.jupyter.widget-view+json": {
       "model_id": "a2999000468344d38f0343558d5ca7eb",
       "version_major": 2,
       "version_minor": 0
      },
      "text/plain": [
       "Validating:   0%|          | 0/250 [00:00<?, ?it/s]"
      ]
     },
     "metadata": {},
     "output_type": "display_data"
    },
    {
     "name": "stdout",
     "output_type": "stream",
     "text": [
      "📗 Validation - Loss: 1.8829, Perplexity: 6.57, Token Acc: 41.36%\n"
     ]
    },
    {
     "data": {
      "application/vnd.jupyter.widget-view+json": {
       "model_id": "09f09e2d21f94f388da68560414b815b",
       "version_major": 2,
       "version_minor": 0
      },
      "text/plain": [
       "Epoch 320/1000 [Training]:   0%|          | 0/1125 [00:00<?, ?it/s]"
      ]
     },
     "metadata": {},
     "output_type": "display_data"
    },
    {
     "name": "stdout",
     "output_type": "stream",
     "text": [
      "\n",
      "📘 Epoch 320/1000 - Train Loss: 2.0563\n"
     ]
    },
    {
     "data": {
      "application/vnd.jupyter.widget-view+json": {
       "model_id": "0d730d4579e64b529e5975bd40853f38",
       "version_major": 2,
       "version_minor": 0
      },
      "text/plain": [
       "Validating:   0%|          | 0/250 [00:00<?, ?it/s]"
      ]
     },
     "metadata": {},
     "output_type": "display_data"
    },
    {
     "name": "stdout",
     "output_type": "stream",
     "text": [
      "📗 Validation - Loss: 1.8816, Perplexity: 6.56, Token Acc: 41.45%\n",
      "✅ Saved checkpoint: checkpoints/blt_epoch320.pt\n"
     ]
    },
    {
     "data": {
      "application/vnd.jupyter.widget-view+json": {
       "model_id": "a8eb5a5da5a249ad84d8665e6c59715c",
       "version_major": 2,
       "version_minor": 0
      },
      "text/plain": [
       "Epoch 321/1000 [Training]:   0%|          | 0/1125 [00:00<?, ?it/s]"
      ]
     },
     "metadata": {},
     "output_type": "display_data"
    },
    {
     "name": "stdout",
     "output_type": "stream",
     "text": [
      "\n",
      "📘 Epoch 321/1000 - Train Loss: 2.0545\n"
     ]
    },
    {
     "data": {
      "application/vnd.jupyter.widget-view+json": {
       "model_id": "b0171957b3484101b76bbc4b7b85ff01",
       "version_major": 2,
       "version_minor": 0
      },
      "text/plain": [
       "Validating:   0%|          | 0/250 [00:00<?, ?it/s]"
      ]
     },
     "metadata": {},
     "output_type": "display_data"
    },
    {
     "name": "stdout",
     "output_type": "stream",
     "text": [
      "📗 Validation - Loss: 1.8821, Perplexity: 6.57, Token Acc: 41.47%\n"
     ]
    },
    {
     "data": {
      "application/vnd.jupyter.widget-view+json": {
       "model_id": "9b2b8bda52ba40788d332b6a2969db64",
       "version_major": 2,
       "version_minor": 0
      },
      "text/plain": [
       "Epoch 322/1000 [Training]:   0%|          | 0/1125 [00:00<?, ?it/s]"
      ]
     },
     "metadata": {},
     "output_type": "display_data"
    },
    {
     "name": "stdout",
     "output_type": "stream",
     "text": [
      "\n",
      "📘 Epoch 322/1000 - Train Loss: 2.0555\n"
     ]
    },
    {
     "data": {
      "application/vnd.jupyter.widget-view+json": {
       "model_id": "4442ee6aab374eb59848c1baa984ba9f",
       "version_major": 2,
       "version_minor": 0
      },
      "text/plain": [
       "Validating:   0%|          | 0/250 [00:00<?, ?it/s]"
      ]
     },
     "metadata": {},
     "output_type": "display_data"
    },
    {
     "name": "stdout",
     "output_type": "stream",
     "text": [
      "📗 Validation - Loss: 1.8826, Perplexity: 6.57, Token Acc: 41.38%\n",
      "✅ Saved checkpoint: checkpoints/blt_epoch322.pt\n"
     ]
    },
    {
     "data": {
      "application/vnd.jupyter.widget-view+json": {
       "model_id": "c24dd180ea6a4222bb8acd709f21a6c1",
       "version_major": 2,
       "version_minor": 0
      },
      "text/plain": [
       "Epoch 323/1000 [Training]:   0%|          | 0/1125 [00:00<?, ?it/s]"
      ]
     },
     "metadata": {},
     "output_type": "display_data"
    },
    {
     "name": "stdout",
     "output_type": "stream",
     "text": [
      "\n",
      "📘 Epoch 323/1000 - Train Loss: 2.0551\n"
     ]
    },
    {
     "data": {
      "application/vnd.jupyter.widget-view+json": {
       "model_id": "147431c59a3c4402b20f4cfcf27abea2",
       "version_major": 2,
       "version_minor": 0
      },
      "text/plain": [
       "Validating:   0%|          | 0/250 [00:00<?, ?it/s]"
      ]
     },
     "metadata": {},
     "output_type": "display_data"
    },
    {
     "name": "stdout",
     "output_type": "stream",
     "text": [
      "📗 Validation - Loss: 1.8819, Perplexity: 6.57, Token Acc: 41.34%\n"
     ]
    },
    {
     "data": {
      "application/vnd.jupyter.widget-view+json": {
       "model_id": "99cbd8abd2a34d48980558e265b59635",
       "version_major": 2,
       "version_minor": 0
      },
      "text/plain": [
       "Epoch 324/1000 [Training]:   0%|          | 0/1125 [00:00<?, ?it/s]"
      ]
     },
     "metadata": {},
     "output_type": "display_data"
    },
    {
     "name": "stdout",
     "output_type": "stream",
     "text": [
      "\n",
      "📘 Epoch 324/1000 - Train Loss: 2.0535\n"
     ]
    },
    {
     "data": {
      "application/vnd.jupyter.widget-view+json": {
       "model_id": "94158d29ea804107a20f96e4f48b0792",
       "version_major": 2,
       "version_minor": 0
      },
      "text/plain": [
       "Validating:   0%|          | 0/250 [00:00<?, ?it/s]"
      ]
     },
     "metadata": {},
     "output_type": "display_data"
    },
    {
     "name": "stdout",
     "output_type": "stream",
     "text": [
      "📗 Validation - Loss: 1.8812, Perplexity: 6.56, Token Acc: 41.42%\n",
      "✅ Saved checkpoint: checkpoints/blt_epoch324.pt\n"
     ]
    },
    {
     "data": {
      "application/vnd.jupyter.widget-view+json": {
       "model_id": "46c6d5a517a04fd29f78ce382c47ba7f",
       "version_major": 2,
       "version_minor": 0
      },
      "text/plain": [
       "Epoch 325/1000 [Training]:   0%|          | 0/1125 [00:00<?, ?it/s]"
      ]
     },
     "metadata": {},
     "output_type": "display_data"
    },
    {
     "name": "stdout",
     "output_type": "stream",
     "text": [
      "\n",
      "📘 Epoch 325/1000 - Train Loss: 2.0544\n"
     ]
    },
    {
     "data": {
      "application/vnd.jupyter.widget-view+json": {
       "model_id": "0570db29f7634af7898d82aaf00bafd6",
       "version_major": 2,
       "version_minor": 0
      },
      "text/plain": [
       "Validating:   0%|          | 0/250 [00:00<?, ?it/s]"
      ]
     },
     "metadata": {},
     "output_type": "display_data"
    },
    {
     "name": "stdout",
     "output_type": "stream",
     "text": [
      "📗 Validation - Loss: 1.8816, Perplexity: 6.56, Token Acc: 41.39%\n"
     ]
    },
    {
     "data": {
      "application/vnd.jupyter.widget-view+json": {
       "model_id": "f70cd67bca59433bb3f42ae5c8bb85f4",
       "version_major": 2,
       "version_minor": 0
      },
      "text/plain": [
       "Epoch 326/1000 [Training]:   0%|          | 0/1125 [00:00<?, ?it/s]"
      ]
     },
     "metadata": {},
     "output_type": "display_data"
    },
    {
     "name": "stdout",
     "output_type": "stream",
     "text": [
      "\n",
      "📘 Epoch 326/1000 - Train Loss: 2.0549\n"
     ]
    },
    {
     "data": {
      "application/vnd.jupyter.widget-view+json": {
       "model_id": "bbf3fc1e90c44c7e94d63eadacd3dbf0",
       "version_major": 2,
       "version_minor": 0
      },
      "text/plain": [
       "Validating:   0%|          | 0/250 [00:00<?, ?it/s]"
      ]
     },
     "metadata": {},
     "output_type": "display_data"
    },
    {
     "name": "stdout",
     "output_type": "stream",
     "text": [
      "📗 Validation - Loss: 1.8811, Perplexity: 6.56, Token Acc: 41.41%\n",
      "✅ Saved checkpoint: checkpoints/blt_epoch326.pt\n"
     ]
    },
    {
     "data": {
      "application/vnd.jupyter.widget-view+json": {
       "model_id": "16456843000e4b87a46575e931742b28",
       "version_major": 2,
       "version_minor": 0
      },
      "text/plain": [
       "Epoch 327/1000 [Training]:   0%|          | 0/1125 [00:00<?, ?it/s]"
      ]
     },
     "metadata": {},
     "output_type": "display_data"
    },
    {
     "name": "stdout",
     "output_type": "stream",
     "text": [
      "\n",
      "📘 Epoch 327/1000 - Train Loss: 2.0555\n"
     ]
    },
    {
     "data": {
      "application/vnd.jupyter.widget-view+json": {
       "model_id": "87454dffaf6b4d61967378d5c96adcd3",
       "version_major": 2,
       "version_minor": 0
      },
      "text/plain": [
       "Validating:   0%|          | 0/250 [00:00<?, ?it/s]"
      ]
     },
     "metadata": {},
     "output_type": "display_data"
    },
    {
     "name": "stdout",
     "output_type": "stream",
     "text": [
      "📗 Validation - Loss: 1.8812, Perplexity: 6.56, Token Acc: 41.40%\n"
     ]
    },
    {
     "data": {
      "application/vnd.jupyter.widget-view+json": {
       "model_id": "2b6702225183407e98ac3d89c008e93c",
       "version_major": 2,
       "version_minor": 0
      },
      "text/plain": [
       "Epoch 328/1000 [Training]:   0%|          | 0/1125 [00:00<?, ?it/s]"
      ]
     },
     "metadata": {},
     "output_type": "display_data"
    },
    {
     "name": "stdout",
     "output_type": "stream",
     "text": [
      "\n",
      "📘 Epoch 328/1000 - Train Loss: 2.0540\n"
     ]
    },
    {
     "data": {
      "application/vnd.jupyter.widget-view+json": {
       "model_id": "6a1cae47235c4c568cd7e0b0ddf626e8",
       "version_major": 2,
       "version_minor": 0
      },
      "text/plain": [
       "Validating:   0%|          | 0/250 [00:00<?, ?it/s]"
      ]
     },
     "metadata": {},
     "output_type": "display_data"
    },
    {
     "name": "stdout",
     "output_type": "stream",
     "text": [
      "📗 Validation - Loss: 1.8810, Perplexity: 6.56, Token Acc: 41.46%\n",
      "✅ Saved checkpoint: checkpoints/blt_epoch328.pt\n"
     ]
    },
    {
     "data": {
      "application/vnd.jupyter.widget-view+json": {
       "model_id": "f59bd36341f24a14960ff33133ee69e7",
       "version_major": 2,
       "version_minor": 0
      },
      "text/plain": [
       "Epoch 329/1000 [Training]:   0%|          | 0/1125 [00:00<?, ?it/s]"
      ]
     },
     "metadata": {},
     "output_type": "display_data"
    },
    {
     "name": "stdout",
     "output_type": "stream",
     "text": [
      "\n",
      "📘 Epoch 329/1000 - Train Loss: 2.0551\n"
     ]
    },
    {
     "data": {
      "application/vnd.jupyter.widget-view+json": {
       "model_id": "d18fc29c882b444ca14c894ee67c0e36",
       "version_major": 2,
       "version_minor": 0
      },
      "text/plain": [
       "Validating:   0%|          | 0/250 [00:00<?, ?it/s]"
      ]
     },
     "metadata": {},
     "output_type": "display_data"
    },
    {
     "name": "stdout",
     "output_type": "stream",
     "text": [
      "📗 Validation - Loss: 1.8813, Perplexity: 6.56, Token Acc: 41.34%\n"
     ]
    },
    {
     "data": {
      "application/vnd.jupyter.widget-view+json": {
       "model_id": "e1f4111267b4422d9917e6320d29b3a4",
       "version_major": 2,
       "version_minor": 0
      },
      "text/plain": [
       "Epoch 330/1000 [Training]:   0%|          | 0/1125 [00:00<?, ?it/s]"
      ]
     },
     "metadata": {},
     "output_type": "display_data"
    },
    {
     "name": "stdout",
     "output_type": "stream",
     "text": [
      "\n",
      "📘 Epoch 330/1000 - Train Loss: 2.0533\n"
     ]
    },
    {
     "data": {
      "application/vnd.jupyter.widget-view+json": {
       "model_id": "86c7b3df2f47400f8a98bcd4e782c82d",
       "version_major": 2,
       "version_minor": 0
      },
      "text/plain": [
       "Validating:   0%|          | 0/250 [00:00<?, ?it/s]"
      ]
     },
     "metadata": {},
     "output_type": "display_data"
    },
    {
     "name": "stdout",
     "output_type": "stream",
     "text": [
      "📗 Validation - Loss: 1.8812, Perplexity: 6.56, Token Acc: 41.40%\n",
      "✅ Saved checkpoint: checkpoints/blt_epoch330.pt\n"
     ]
    },
    {
     "data": {
      "application/vnd.jupyter.widget-view+json": {
       "model_id": "5508bbe8716443df8246f4620763c550",
       "version_major": 2,
       "version_minor": 0
      },
      "text/plain": [
       "Epoch 331/1000 [Training]:   0%|          | 0/1125 [00:00<?, ?it/s]"
      ]
     },
     "metadata": {},
     "output_type": "display_data"
    },
    {
     "name": "stdout",
     "output_type": "stream",
     "text": [
      "\n",
      "📘 Epoch 331/1000 - Train Loss: 2.0540\n"
     ]
    },
    {
     "data": {
      "application/vnd.jupyter.widget-view+json": {
       "model_id": "c32d68ada2ef4cffb2cd73eac2bb88a1",
       "version_major": 2,
       "version_minor": 0
      },
      "text/plain": [
       "Validating:   0%|          | 0/250 [00:00<?, ?it/s]"
      ]
     },
     "metadata": {},
     "output_type": "display_data"
    },
    {
     "name": "stdout",
     "output_type": "stream",
     "text": [
      "📗 Validation - Loss: 1.8812, Perplexity: 6.56, Token Acc: 41.43%\n"
     ]
    },
    {
     "data": {
      "application/vnd.jupyter.widget-view+json": {
       "model_id": "2df93fed2ccf45aebaf9ac33d4fb7dc6",
       "version_major": 2,
       "version_minor": 0
      },
      "text/plain": [
       "Epoch 332/1000 [Training]:   0%|          | 0/1125 [00:00<?, ?it/s]"
      ]
     },
     "metadata": {},
     "output_type": "display_data"
    },
    {
     "name": "stdout",
     "output_type": "stream",
     "text": [
      "\n",
      "📘 Epoch 332/1000 - Train Loss: 2.0545\n"
     ]
    },
    {
     "data": {
      "application/vnd.jupyter.widget-view+json": {
       "model_id": "10d787c1667a4b7ea3709686e5b3b116",
       "version_major": 2,
       "version_minor": 0
      },
      "text/plain": [
       "Validating:   0%|          | 0/250 [00:00<?, ?it/s]"
      ]
     },
     "metadata": {},
     "output_type": "display_data"
    },
    {
     "name": "stdout",
     "output_type": "stream",
     "text": [
      "📗 Validation - Loss: 1.8813, Perplexity: 6.56, Token Acc: 41.39%\n",
      "✅ Saved checkpoint: checkpoints/blt_epoch332.pt\n"
     ]
    },
    {
     "data": {
      "application/vnd.jupyter.widget-view+json": {
       "model_id": "45c2dcb468ad4014aae9e5825d480921",
       "version_major": 2,
       "version_minor": 0
      },
      "text/plain": [
       "Epoch 333/1000 [Training]:   0%|          | 0/1125 [00:00<?, ?it/s]"
      ]
     },
     "metadata": {},
     "output_type": "display_data"
    },
    {
     "name": "stdout",
     "output_type": "stream",
     "text": [
      "\n",
      "📘 Epoch 333/1000 - Train Loss: 2.0548\n"
     ]
    },
    {
     "data": {
      "application/vnd.jupyter.widget-view+json": {
       "model_id": "88e0da611ac24c059fbadab368d87557",
       "version_major": 2,
       "version_minor": 0
      },
      "text/plain": [
       "Validating:   0%|          | 0/250 [00:00<?, ?it/s]"
      ]
     },
     "metadata": {},
     "output_type": "display_data"
    },
    {
     "name": "stdout",
     "output_type": "stream",
     "text": [
      "📗 Validation - Loss: 1.8812, Perplexity: 6.56, Token Acc: 41.42%\n"
     ]
    },
    {
     "data": {
      "application/vnd.jupyter.widget-view+json": {
       "model_id": "2e98a82c53ec4bab9fdf0bfafc8c59bf",
       "version_major": 2,
       "version_minor": 0
      },
      "text/plain": [
       "Epoch 334/1000 [Training]:   0%|          | 0/1125 [00:00<?, ?it/s]"
      ]
     },
     "metadata": {},
     "output_type": "display_data"
    },
    {
     "name": "stdout",
     "output_type": "stream",
     "text": [
      "\n",
      "📘 Epoch 334/1000 - Train Loss: 2.0543\n"
     ]
    },
    {
     "data": {
      "application/vnd.jupyter.widget-view+json": {
       "model_id": "9a7d11a1664c4c7b8c6bfb05074cdcdb",
       "version_major": 2,
       "version_minor": 0
      },
      "text/plain": [
       "Validating:   0%|          | 0/250 [00:00<?, ?it/s]"
      ]
     },
     "metadata": {},
     "output_type": "display_data"
    },
    {
     "name": "stdout",
     "output_type": "stream",
     "text": [
      "📗 Validation - Loss: 1.8813, Perplexity: 6.56, Token Acc: 41.40%\n",
      "✅ Saved checkpoint: checkpoints/blt_epoch334.pt\n"
     ]
    },
    {
     "data": {
      "application/vnd.jupyter.widget-view+json": {
       "model_id": "0426c6598a704c468fd92428c0d1d017",
       "version_major": 2,
       "version_minor": 0
      },
      "text/plain": [
       "Epoch 335/1000 [Training]:   0%|          | 0/1125 [00:00<?, ?it/s]"
      ]
     },
     "metadata": {},
     "output_type": "display_data"
    },
    {
     "name": "stdout",
     "output_type": "stream",
     "text": [
      "\n",
      "📘 Epoch 335/1000 - Train Loss: 2.0537\n"
     ]
    },
    {
     "data": {
      "application/vnd.jupyter.widget-view+json": {
       "model_id": "d8688954123a44d496bea6da7cbfc390",
       "version_major": 2,
       "version_minor": 0
      },
      "text/plain": [
       "Validating:   0%|          | 0/250 [00:00<?, ?it/s]"
      ]
     },
     "metadata": {},
     "output_type": "display_data"
    },
    {
     "name": "stdout",
     "output_type": "stream",
     "text": [
      "📗 Validation - Loss: 1.8812, Perplexity: 6.56, Token Acc: 41.43%\n"
     ]
    },
    {
     "data": {
      "application/vnd.jupyter.widget-view+json": {
       "model_id": "5f7ee96a3bf74820b91923f9aa782add",
       "version_major": 2,
       "version_minor": 0
      },
      "text/plain": [
       "Epoch 336/1000 [Training]:   0%|          | 0/1125 [00:00<?, ?it/s]"
      ]
     },
     "metadata": {},
     "output_type": "display_data"
    },
    {
     "name": "stdout",
     "output_type": "stream",
     "text": [
      "\n",
      "📘 Epoch 336/1000 - Train Loss: 2.0538\n"
     ]
    },
    {
     "data": {
      "application/vnd.jupyter.widget-view+json": {
       "model_id": "701b38415018496a9d8b86971b619754",
       "version_major": 2,
       "version_minor": 0
      },
      "text/plain": [
       "Validating:   0%|          | 0/250 [00:00<?, ?it/s]"
      ]
     },
     "metadata": {},
     "output_type": "display_data"
    },
    {
     "name": "stdout",
     "output_type": "stream",
     "text": [
      "📗 Validation - Loss: 1.8811, Perplexity: 6.56, Token Acc: 41.41%\n",
      "✅ Saved checkpoint: checkpoints/blt_epoch336.pt\n"
     ]
    },
    {
     "data": {
      "application/vnd.jupyter.widget-view+json": {
       "model_id": "9674950e90d740ab9cee780585d87275",
       "version_major": 2,
       "version_minor": 0
      },
      "text/plain": [
       "Epoch 337/1000 [Training]:   0%|          | 0/1125 [00:00<?, ?it/s]"
      ]
     },
     "metadata": {},
     "output_type": "display_data"
    },
    {
     "name": "stdout",
     "output_type": "stream",
     "text": [
      "\n",
      "📘 Epoch 337/1000 - Train Loss: 2.0545\n"
     ]
    },
    {
     "data": {
      "application/vnd.jupyter.widget-view+json": {
       "model_id": "52e1ce6ff44c49e896d1322d247201f6",
       "version_major": 2,
       "version_minor": 0
      },
      "text/plain": [
       "Validating:   0%|          | 0/250 [00:00<?, ?it/s]"
      ]
     },
     "metadata": {},
     "output_type": "display_data"
    },
    {
     "name": "stdout",
     "output_type": "stream",
     "text": [
      "📗 Validation - Loss: 1.8810, Perplexity: 6.56, Token Acc: 41.44%\n"
     ]
    },
    {
     "data": {
      "application/vnd.jupyter.widget-view+json": {
       "model_id": "9885403118c0434cadbe1f0add175696",
       "version_major": 2,
       "version_minor": 0
      },
      "text/plain": [
       "Epoch 338/1000 [Training]:   0%|          | 0/1125 [00:00<?, ?it/s]"
      ]
     },
     "metadata": {},
     "output_type": "display_data"
    },
    {
     "name": "stdout",
     "output_type": "stream",
     "text": [
      "\n",
      "📘 Epoch 338/1000 - Train Loss: 2.0543\n"
     ]
    },
    {
     "data": {
      "application/vnd.jupyter.widget-view+json": {
       "model_id": "7e5a07f3b09a4805b1838a2637a09141",
       "version_major": 2,
       "version_minor": 0
      },
      "text/plain": [
       "Validating:   0%|          | 0/250 [00:00<?, ?it/s]"
      ]
     },
     "metadata": {},
     "output_type": "display_data"
    },
    {
     "name": "stdout",
     "output_type": "stream",
     "text": [
      "📗 Validation - Loss: 1.8811, Perplexity: 6.56, Token Acc: 41.44%\n",
      "✅ Saved checkpoint: checkpoints/blt_epoch338.pt\n"
     ]
    },
    {
     "data": {
      "application/vnd.jupyter.widget-view+json": {
       "model_id": "a8323b3f29f44e0f8c90819ad4d7112d",
       "version_major": 2,
       "version_minor": 0
      },
      "text/plain": [
       "Epoch 339/1000 [Training]:   0%|          | 0/1125 [00:00<?, ?it/s]"
      ]
     },
     "metadata": {},
     "output_type": "display_data"
    },
    {
     "name": "stdout",
     "output_type": "stream",
     "text": [
      "\n",
      "📘 Epoch 339/1000 - Train Loss: 2.0539\n"
     ]
    },
    {
     "data": {
      "application/vnd.jupyter.widget-view+json": {
       "model_id": "c5da839ed0d640918aefd28cdbd9d9db",
       "version_major": 2,
       "version_minor": 0
      },
      "text/plain": [
       "Validating:   0%|          | 0/250 [00:00<?, ?it/s]"
      ]
     },
     "metadata": {},
     "output_type": "display_data"
    },
    {
     "name": "stdout",
     "output_type": "stream",
     "text": [
      "📗 Validation - Loss: 1.8810, Perplexity: 6.56, Token Acc: 41.42%\n"
     ]
    },
    {
     "data": {
      "application/vnd.jupyter.widget-view+json": {
       "model_id": "c9ccae19f69f4996980b4fdf0f42be28",
       "version_major": 2,
       "version_minor": 0
      },
      "text/plain": [
       "Epoch 340/1000 [Training]:   0%|          | 0/1125 [00:00<?, ?it/s]"
      ]
     },
     "metadata": {},
     "output_type": "display_data"
    },
    {
     "name": "stdout",
     "output_type": "stream",
     "text": [
      "\n",
      "📘 Epoch 340/1000 - Train Loss: 2.0544\n"
     ]
    },
    {
     "data": {
      "application/vnd.jupyter.widget-view+json": {
       "model_id": "e9c67cb302e74858a46e7fe77e81ee92",
       "version_major": 2,
       "version_minor": 0
      },
      "text/plain": [
       "Validating:   0%|          | 0/250 [00:00<?, ?it/s]"
      ]
     },
     "metadata": {},
     "output_type": "display_data"
    },
    {
     "name": "stdout",
     "output_type": "stream",
     "text": [
      "📗 Validation - Loss: 1.8810, Perplexity: 6.56, Token Acc: 41.43%\n",
      "✅ Saved checkpoint: checkpoints/blt_epoch340.pt\n"
     ]
    },
    {
     "data": {
      "application/vnd.jupyter.widget-view+json": {
       "model_id": "3dec37e360624182a923aaba262034d1",
       "version_major": 2,
       "version_minor": 0
      },
      "text/plain": [
       "Epoch 341/1000 [Training]:   0%|          | 0/1125 [00:00<?, ?it/s]"
      ]
     },
     "metadata": {},
     "output_type": "display_data"
    },
    {
     "name": "stdout",
     "output_type": "stream",
     "text": [
      "\n",
      "📘 Epoch 341/1000 - Train Loss: 2.0542\n"
     ]
    },
    {
     "data": {
      "application/vnd.jupyter.widget-view+json": {
       "model_id": "a1cf900653664c109f6a36c77c760519",
       "version_major": 2,
       "version_minor": 0
      },
      "text/plain": [
       "Validating:   0%|          | 0/250 [00:00<?, ?it/s]"
      ]
     },
     "metadata": {},
     "output_type": "display_data"
    },
    {
     "name": "stdout",
     "output_type": "stream",
     "text": [
      "📗 Validation - Loss: 1.8812, Perplexity: 6.56, Token Acc: 41.40%\n"
     ]
    },
    {
     "data": {
      "application/vnd.jupyter.widget-view+json": {
       "model_id": "7c65c7ea96e04cbeb81659efff727d14",
       "version_major": 2,
       "version_minor": 0
      },
      "text/plain": [
       "Epoch 342/1000 [Training]:   0%|          | 0/1125 [00:00<?, ?it/s]"
      ]
     },
     "metadata": {},
     "output_type": "display_data"
    },
    {
     "name": "stdout",
     "output_type": "stream",
     "text": [
      "\n",
      "📘 Epoch 342/1000 - Train Loss: 2.0540\n"
     ]
    },
    {
     "data": {
      "application/vnd.jupyter.widget-view+json": {
       "model_id": "4f6bbfd655ac4c6cbaafc8e033f88910",
       "version_major": 2,
       "version_minor": 0
      },
      "text/plain": [
       "Validating:   0%|          | 0/250 [00:00<?, ?it/s]"
      ]
     },
     "metadata": {},
     "output_type": "display_data"
    },
    {
     "name": "stdout",
     "output_type": "stream",
     "text": [
      "📗 Validation - Loss: 1.8811, Perplexity: 6.56, Token Acc: 41.41%\n",
      "✅ Saved checkpoint: checkpoints/blt_epoch342.pt\n"
     ]
    },
    {
     "data": {
      "application/vnd.jupyter.widget-view+json": {
       "model_id": "078e0708cc9d471fb5b89635a84fef56",
       "version_major": 2,
       "version_minor": 0
      },
      "text/plain": [
       "Epoch 343/1000 [Training]:   0%|          | 0/1125 [00:00<?, ?it/s]"
      ]
     },
     "metadata": {},
     "output_type": "display_data"
    },
    {
     "name": "stdout",
     "output_type": "stream",
     "text": [
      "\n",
      "📘 Epoch 343/1000 - Train Loss: 2.0538\n"
     ]
    },
    {
     "data": {
      "application/vnd.jupyter.widget-view+json": {
       "model_id": "00d212d632e348f0b8f62bd9472cbc6b",
       "version_major": 2,
       "version_minor": 0
      },
      "text/plain": [
       "Validating:   0%|          | 0/250 [00:00<?, ?it/s]"
      ]
     },
     "metadata": {},
     "output_type": "display_data"
    },
    {
     "name": "stdout",
     "output_type": "stream",
     "text": [
      "📗 Validation - Loss: 1.8811, Perplexity: 6.56, Token Acc: 41.41%\n"
     ]
    },
    {
     "data": {
      "application/vnd.jupyter.widget-view+json": {
       "model_id": "e39b9ffd88194a938ca58d9631be38c9",
       "version_major": 2,
       "version_minor": 0
      },
      "text/plain": [
       "Epoch 344/1000 [Training]:   0%|          | 0/1125 [00:00<?, ?it/s]"
      ]
     },
     "metadata": {},
     "output_type": "display_data"
    },
    {
     "name": "stdout",
     "output_type": "stream",
     "text": [
      "\n",
      "📘 Epoch 344/1000 - Train Loss: 2.0545\n"
     ]
    },
    {
     "data": {
      "application/vnd.jupyter.widget-view+json": {
       "model_id": "a2564beda88645d68d5262647ef1e6f8",
       "version_major": 2,
       "version_minor": 0
      },
      "text/plain": [
       "Validating:   0%|          | 0/250 [00:00<?, ?it/s]"
      ]
     },
     "metadata": {},
     "output_type": "display_data"
    },
    {
     "name": "stdout",
     "output_type": "stream",
     "text": [
      "📗 Validation - Loss: 1.8811, Perplexity: 6.56, Token Acc: 41.42%\n",
      "✅ Saved checkpoint: checkpoints/blt_epoch344.pt\n"
     ]
    },
    {
     "data": {
      "application/vnd.jupyter.widget-view+json": {
       "model_id": "a2be4790261946a7a726bac1a6894425",
       "version_major": 2,
       "version_minor": 0
      },
      "text/plain": [
       "Epoch 345/1000 [Training]:   0%|          | 0/1125 [00:00<?, ?it/s]"
      ]
     },
     "metadata": {},
     "output_type": "display_data"
    },
    {
     "name": "stdout",
     "output_type": "stream",
     "text": [
      "\n",
      "📘 Epoch 345/1000 - Train Loss: 2.0526\n"
     ]
    },
    {
     "data": {
      "application/vnd.jupyter.widget-view+json": {
       "model_id": "39c5e1a5e46b4bdf8d01f52feadbce88",
       "version_major": 2,
       "version_minor": 0
      },
      "text/plain": [
       "Validating:   0%|          | 0/250 [00:00<?, ?it/s]"
      ]
     },
     "metadata": {},
     "output_type": "display_data"
    },
    {
     "name": "stdout",
     "output_type": "stream",
     "text": [
      "📗 Validation - Loss: 1.8811, Perplexity: 6.56, Token Acc: 41.43%\n"
     ]
    },
    {
     "data": {
      "application/vnd.jupyter.widget-view+json": {
       "model_id": "3b72abe4b0b24e9a969a0b00b39014d8",
       "version_major": 2,
       "version_minor": 0
      },
      "text/plain": [
       "Epoch 346/1000 [Training]:   0%|          | 0/1125 [00:00<?, ?it/s]"
      ]
     },
     "metadata": {},
     "output_type": "display_data"
    },
    {
     "name": "stdout",
     "output_type": "stream",
     "text": [
      "\n",
      "📘 Epoch 346/1000 - Train Loss: 2.0542\n"
     ]
    },
    {
     "data": {
      "application/vnd.jupyter.widget-view+json": {
       "model_id": "953c37c4ad434c368880ede3859f3b23",
       "version_major": 2,
       "version_minor": 0
      },
      "text/plain": [
       "Validating:   0%|          | 0/250 [00:00<?, ?it/s]"
      ]
     },
     "metadata": {},
     "output_type": "display_data"
    },
    {
     "name": "stdout",
     "output_type": "stream",
     "text": [
      "📗 Validation - Loss: 1.8812, Perplexity: 6.56, Token Acc: 41.39%\n",
      "✅ Saved checkpoint: checkpoints/blt_epoch346.pt\n"
     ]
    },
    {
     "data": {
      "application/vnd.jupyter.widget-view+json": {
       "model_id": "2c512dfab9514f53a394f0efa5fd9c92",
       "version_major": 2,
       "version_minor": 0
      },
      "text/plain": [
       "Epoch 347/1000 [Training]:   0%|          | 0/1125 [00:00<?, ?it/s]"
      ]
     },
     "metadata": {},
     "output_type": "display_data"
    },
    {
     "name": "stdout",
     "output_type": "stream",
     "text": [
      "\n",
      "📘 Epoch 347/1000 - Train Loss: 2.0539\n"
     ]
    },
    {
     "data": {
      "application/vnd.jupyter.widget-view+json": {
       "model_id": "e852556bd37346d191426b485ff53fcb",
       "version_major": 2,
       "version_minor": 0
      },
      "text/plain": [
       "Validating:   0%|          | 0/250 [00:00<?, ?it/s]"
      ]
     },
     "metadata": {},
     "output_type": "display_data"
    },
    {
     "name": "stdout",
     "output_type": "stream",
     "text": [
      "📗 Validation - Loss: 1.8811, Perplexity: 6.56, Token Acc: 41.39%\n"
     ]
    },
    {
     "data": {
      "application/vnd.jupyter.widget-view+json": {
       "model_id": "8ca3e5dbe88742cf9db1a0f082855458",
       "version_major": 2,
       "version_minor": 0
      },
      "text/plain": [
       "Epoch 348/1000 [Training]:   0%|          | 0/1125 [00:00<?, ?it/s]"
      ]
     },
     "metadata": {},
     "output_type": "display_data"
    },
    {
     "name": "stdout",
     "output_type": "stream",
     "text": [
      "\n",
      "📘 Epoch 348/1000 - Train Loss: 2.0532\n"
     ]
    },
    {
     "data": {
      "application/vnd.jupyter.widget-view+json": {
       "model_id": "8842e04b90c447869ca832ed338fb01b",
       "version_major": 2,
       "version_minor": 0
      },
      "text/plain": [
       "Validating:   0%|          | 0/250 [00:00<?, ?it/s]"
      ]
     },
     "metadata": {},
     "output_type": "display_data"
    },
    {
     "name": "stdout",
     "output_type": "stream",
     "text": [
      "📗 Validation - Loss: 1.8811, Perplexity: 6.56, Token Acc: 41.39%\n",
      "✅ Saved checkpoint: checkpoints/blt_epoch348.pt\n"
     ]
    },
    {
     "data": {
      "application/vnd.jupyter.widget-view+json": {
       "model_id": "1fda3e4b4a0e423e955a45684e38b9c3",
       "version_major": 2,
       "version_minor": 0
      },
      "text/plain": [
       "Epoch 349/1000 [Training]:   0%|          | 0/1125 [00:00<?, ?it/s]"
      ]
     },
     "metadata": {},
     "output_type": "display_data"
    },
    {
     "name": "stdout",
     "output_type": "stream",
     "text": [
      "\n",
      "📘 Epoch 349/1000 - Train Loss: 2.0535\n"
     ]
    },
    {
     "data": {
      "application/vnd.jupyter.widget-view+json": {
       "model_id": "59924c65112d4a91b41f4c2eb4c14056",
       "version_major": 2,
       "version_minor": 0
      },
      "text/plain": [
       "Validating:   0%|          | 0/250 [00:00<?, ?it/s]"
      ]
     },
     "metadata": {},
     "output_type": "display_data"
    },
    {
     "name": "stdout",
     "output_type": "stream",
     "text": [
      "📗 Validation - Loss: 1.8811, Perplexity: 6.56, Token Acc: 41.39%\n"
     ]
    },
    {
     "data": {
      "application/vnd.jupyter.widget-view+json": {
       "model_id": "4329e7e749dd42968f9accc612c07925",
       "version_major": 2,
       "version_minor": 0
      },
      "text/plain": [
       "Epoch 350/1000 [Training]:   0%|          | 0/1125 [00:00<?, ?it/s]"
      ]
     },
     "metadata": {},
     "output_type": "display_data"
    },
    {
     "name": "stdout",
     "output_type": "stream",
     "text": [
      "\n",
      "📘 Epoch 350/1000 - Train Loss: 2.0538\n"
     ]
    },
    {
     "data": {
      "application/vnd.jupyter.widget-view+json": {
       "model_id": "600027d3306840a28eace9365d893fd1",
       "version_major": 2,
       "version_minor": 0
      },
      "text/plain": [
       "Validating:   0%|          | 0/250 [00:00<?, ?it/s]"
      ]
     },
     "metadata": {},
     "output_type": "display_data"
    },
    {
     "name": "stdout",
     "output_type": "stream",
     "text": [
      "📗 Validation - Loss: 1.8811, Perplexity: 6.56, Token Acc: 41.38%\n",
      "✅ Saved checkpoint: checkpoints/blt_epoch350.pt\n"
     ]
    },
    {
     "data": {
      "application/vnd.jupyter.widget-view+json": {
       "model_id": "0655b50bd61047be80d941b790e79b7e",
       "version_major": 2,
       "version_minor": 0
      },
      "text/plain": [
       "Epoch 351/1000 [Training]:   0%|          | 0/1125 [00:00<?, ?it/s]"
      ]
     },
     "metadata": {},
     "output_type": "display_data"
    },
    {
     "name": "stdout",
     "output_type": "stream",
     "text": [
      "\n",
      "📘 Epoch 351/1000 - Train Loss: 2.0550\n"
     ]
    },
    {
     "data": {
      "application/vnd.jupyter.widget-view+json": {
       "model_id": "b2cfe3f29ebd481a83740764acd70914",
       "version_major": 2,
       "version_minor": 0
      },
      "text/plain": [
       "Validating:   0%|          | 0/250 [00:00<?, ?it/s]"
      ]
     },
     "metadata": {},
     "output_type": "display_data"
    },
    {
     "name": "stdout",
     "output_type": "stream",
     "text": [
      "📗 Validation - Loss: 1.8811, Perplexity: 6.56, Token Acc: 41.38%\n"
     ]
    },
    {
     "data": {
      "application/vnd.jupyter.widget-view+json": {
       "model_id": "2f01aefbde2145b5972774d7aa3b6c11",
       "version_major": 2,
       "version_minor": 0
      },
      "text/plain": [
       "Epoch 352/1000 [Training]:   0%|          | 0/1125 [00:00<?, ?it/s]"
      ]
     },
     "metadata": {},
     "output_type": "display_data"
    },
    {
     "name": "stdout",
     "output_type": "stream",
     "text": [
      "\n",
      "📘 Epoch 352/1000 - Train Loss: 2.0531\n"
     ]
    },
    {
     "data": {
      "application/vnd.jupyter.widget-view+json": {
       "model_id": "25cc3fad3e9b4c23876d96bec42d21e0",
       "version_major": 2,
       "version_minor": 0
      },
      "text/plain": [
       "Validating:   0%|          | 0/250 [00:00<?, ?it/s]"
      ]
     },
     "metadata": {},
     "output_type": "display_data"
    },
    {
     "name": "stdout",
     "output_type": "stream",
     "text": [
      "📗 Validation - Loss: 1.8811, Perplexity: 6.56, Token Acc: 41.37%\n",
      "✅ Saved checkpoint: checkpoints/blt_epoch352.pt\n"
     ]
    },
    {
     "data": {
      "application/vnd.jupyter.widget-view+json": {
       "model_id": "bf714d130bfb4c21b70a39c3a2b302ff",
       "version_major": 2,
       "version_minor": 0
      },
      "text/plain": [
       "Epoch 353/1000 [Training]:   0%|          | 0/1125 [00:00<?, ?it/s]"
      ]
     },
     "metadata": {},
     "output_type": "display_data"
    },
    {
     "name": "stdout",
     "output_type": "stream",
     "text": [
      "\n",
      "📘 Epoch 353/1000 - Train Loss: 2.0535\n"
     ]
    },
    {
     "data": {
      "application/vnd.jupyter.widget-view+json": {
       "model_id": "d091bc64f132413a88c47c1b4b164ee6",
       "version_major": 2,
       "version_minor": 0
      },
      "text/plain": [
       "Validating:   0%|          | 0/250 [00:00<?, ?it/s]"
      ]
     },
     "metadata": {},
     "output_type": "display_data"
    },
    {
     "name": "stdout",
     "output_type": "stream",
     "text": [
      "📗 Validation - Loss: 1.8811, Perplexity: 6.56, Token Acc: 41.37%\n"
     ]
    },
    {
     "data": {
      "application/vnd.jupyter.widget-view+json": {
       "model_id": "1ab82e341cf341fdb059d047a3900eb6",
       "version_major": 2,
       "version_minor": 0
      },
      "text/plain": [
       "Epoch 354/1000 [Training]:   0%|          | 0/1125 [00:00<?, ?it/s]"
      ]
     },
     "metadata": {},
     "output_type": "display_data"
    },
    {
     "name": "stdout",
     "output_type": "stream",
     "text": [
      "\n",
      "📘 Epoch 354/1000 - Train Loss: 2.0540\n"
     ]
    },
    {
     "data": {
      "application/vnd.jupyter.widget-view+json": {
       "model_id": "e56f8b13e7404c0eafae1adab30489f0",
       "version_major": 2,
       "version_minor": 0
      },
      "text/plain": [
       "Validating:   0%|          | 0/250 [00:00<?, ?it/s]"
      ]
     },
     "metadata": {},
     "output_type": "display_data"
    },
    {
     "name": "stdout",
     "output_type": "stream",
     "text": [
      "📗 Validation - Loss: 1.8811, Perplexity: 6.56, Token Acc: 41.39%\n",
      "✅ Saved checkpoint: checkpoints/blt_epoch354.pt\n"
     ]
    },
    {
     "data": {
      "application/vnd.jupyter.widget-view+json": {
       "model_id": "f1175be4b22d4d84b68bda1b2bb846e4",
       "version_major": 2,
       "version_minor": 0
      },
      "text/plain": [
       "Epoch 355/1000 [Training]:   0%|          | 0/1125 [00:00<?, ?it/s]"
      ]
     },
     "metadata": {},
     "output_type": "display_data"
    },
    {
     "name": "stdout",
     "output_type": "stream",
     "text": [
      "\n",
      "📘 Epoch 355/1000 - Train Loss: 2.0535\n"
     ]
    },
    {
     "data": {
      "application/vnd.jupyter.widget-view+json": {
       "model_id": "cedb7b90e2424d6e81a6899e523b31e9",
       "version_major": 2,
       "version_minor": 0
      },
      "text/plain": [
       "Validating:   0%|          | 0/250 [00:00<?, ?it/s]"
      ]
     },
     "metadata": {},
     "output_type": "display_data"
    },
    {
     "name": "stdout",
     "output_type": "stream",
     "text": [
      "📗 Validation - Loss: 1.8811, Perplexity: 6.56, Token Acc: 41.40%\n"
     ]
    },
    {
     "data": {
      "application/vnd.jupyter.widget-view+json": {
       "model_id": "9b3145c5be13460f9ef528f30a9dee81",
       "version_major": 2,
       "version_minor": 0
      },
      "text/plain": [
       "Epoch 356/1000 [Training]:   0%|          | 0/1125 [00:00<?, ?it/s]"
      ]
     },
     "metadata": {},
     "output_type": "display_data"
    },
    {
     "name": "stdout",
     "output_type": "stream",
     "text": [
      "\n",
      "📘 Epoch 356/1000 - Train Loss: 2.0536\n"
     ]
    },
    {
     "data": {
      "application/vnd.jupyter.widget-view+json": {
       "model_id": "9758791255834599a3a78cbda4456bbe",
       "version_major": 2,
       "version_minor": 0
      },
      "text/plain": [
       "Validating:   0%|          | 0/250 [00:00<?, ?it/s]"
      ]
     },
     "metadata": {},
     "output_type": "display_data"
    },
    {
     "name": "stdout",
     "output_type": "stream",
     "text": [
      "📗 Validation - Loss: 1.8811, Perplexity: 6.56, Token Acc: 41.39%\n",
      "✅ Saved checkpoint: checkpoints/blt_epoch356.pt\n"
     ]
    },
    {
     "data": {
      "application/vnd.jupyter.widget-view+json": {
       "model_id": "87d77967ffb24856889b9611c52be683",
       "version_major": 2,
       "version_minor": 0
      },
      "text/plain": [
       "Epoch 357/1000 [Training]:   0%|          | 0/1125 [00:00<?, ?it/s]"
      ]
     },
     "metadata": {},
     "output_type": "display_data"
    },
    {
     "name": "stdout",
     "output_type": "stream",
     "text": [
      "\n",
      "📘 Epoch 357/1000 - Train Loss: 2.0540\n"
     ]
    },
    {
     "data": {
      "application/vnd.jupyter.widget-view+json": {
       "model_id": "8eeacf62898e49aea833676ae0994205",
       "version_major": 2,
       "version_minor": 0
      },
      "text/plain": [
       "Validating:   0%|          | 0/250 [00:00<?, ?it/s]"
      ]
     },
     "metadata": {},
     "output_type": "display_data"
    },
    {
     "name": "stdout",
     "output_type": "stream",
     "text": [
      "📗 Validation - Loss: 1.8811, Perplexity: 6.56, Token Acc: 41.37%\n"
     ]
    },
    {
     "data": {
      "application/vnd.jupyter.widget-view+json": {
       "model_id": "dccc698a53fd4b8cbbce77afe13d002e",
       "version_major": 2,
       "version_minor": 0
      },
      "text/plain": [
       "Epoch 358/1000 [Training]:   0%|          | 0/1125 [00:00<?, ?it/s]"
      ]
     },
     "metadata": {},
     "output_type": "display_data"
    },
    {
     "name": "stdout",
     "output_type": "stream",
     "text": [
      "\n",
      "📘 Epoch 358/1000 - Train Loss: 2.0540\n"
     ]
    },
    {
     "data": {
      "application/vnd.jupyter.widget-view+json": {
       "model_id": "86384edbeac245ae9f375ee836a41383",
       "version_major": 2,
       "version_minor": 0
      },
      "text/plain": [
       "Validating:   0%|          | 0/250 [00:00<?, ?it/s]"
      ]
     },
     "metadata": {},
     "output_type": "display_data"
    },
    {
     "name": "stdout",
     "output_type": "stream",
     "text": [
      "📗 Validation - Loss: 1.8811, Perplexity: 6.56, Token Acc: 41.39%\n",
      "✅ Saved checkpoint: checkpoints/blt_epoch358.pt\n"
     ]
    },
    {
     "data": {
      "application/vnd.jupyter.widget-view+json": {
       "model_id": "be27c259cb524677ab0fd5a7190733f4",
       "version_major": 2,
       "version_minor": 0
      },
      "text/plain": [
       "Epoch 359/1000 [Training]:   0%|          | 0/1125 [00:00<?, ?it/s]"
      ]
     },
     "metadata": {},
     "output_type": "display_data"
    },
    {
     "name": "stdout",
     "output_type": "stream",
     "text": [
      "\n",
      "📘 Epoch 359/1000 - Train Loss: 2.0539\n"
     ]
    },
    {
     "data": {
      "application/vnd.jupyter.widget-view+json": {
       "model_id": "429a1b141bc241b49bfc950e2039e94c",
       "version_major": 2,
       "version_minor": 0
      },
      "text/plain": [
       "Validating:   0%|          | 0/250 [00:00<?, ?it/s]"
      ]
     },
     "metadata": {},
     "output_type": "display_data"
    },
    {
     "name": "stdout",
     "output_type": "stream",
     "text": [
      "📗 Validation - Loss: 1.8811, Perplexity: 6.56, Token Acc: 41.37%\n"
     ]
    },
    {
     "data": {
      "application/vnd.jupyter.widget-view+json": {
       "model_id": "58a4b70eaea945bb944e596a3d0715f9",
       "version_major": 2,
       "version_minor": 0
      },
      "text/plain": [
       "Epoch 360/1000 [Training]:   0%|          | 0/1125 [00:00<?, ?it/s]"
      ]
     },
     "metadata": {},
     "output_type": "display_data"
    },
    {
     "name": "stdout",
     "output_type": "stream",
     "text": [
      "\n",
      "📘 Epoch 360/1000 - Train Loss: 2.0539\n"
     ]
    },
    {
     "data": {
      "application/vnd.jupyter.widget-view+json": {
       "model_id": "28b41ff5592b4f24a3964ad0c1ad341c",
       "version_major": 2,
       "version_minor": 0
      },
      "text/plain": [
       "Validating:   0%|          | 0/250 [00:00<?, ?it/s]"
      ]
     },
     "metadata": {},
     "output_type": "display_data"
    },
    {
     "name": "stdout",
     "output_type": "stream",
     "text": [
      "📗 Validation - Loss: 1.8811, Perplexity: 6.56, Token Acc: 41.37%\n",
      "✅ Saved checkpoint: checkpoints/blt_epoch360.pt\n"
     ]
    },
    {
     "data": {
      "application/vnd.jupyter.widget-view+json": {
       "model_id": "49f1d5c643bd48a5997a4da3fc22ba2a",
       "version_major": 2,
       "version_minor": 0
      },
      "text/plain": [
       "Epoch 361/1000 [Training]:   0%|          | 0/1125 [00:00<?, ?it/s]"
      ]
     },
     "metadata": {},
     "output_type": "display_data"
    },
    {
     "name": "stdout",
     "output_type": "stream",
     "text": [
      "\n",
      "📘 Epoch 361/1000 - Train Loss: 2.0533\n"
     ]
    },
    {
     "data": {
      "application/vnd.jupyter.widget-view+json": {
       "model_id": "846deb8ca16c46aa8fae5248cb7e8156",
       "version_major": 2,
       "version_minor": 0
      },
      "text/plain": [
       "Validating:   0%|          | 0/250 [00:00<?, ?it/s]"
      ]
     },
     "metadata": {},
     "output_type": "display_data"
    },
    {
     "name": "stdout",
     "output_type": "stream",
     "text": [
      "📗 Validation - Loss: 1.8811, Perplexity: 6.56, Token Acc: 41.37%\n"
     ]
    },
    {
     "data": {
      "application/vnd.jupyter.widget-view+json": {
       "model_id": "ccd3426c05a544aeae814f4d0c8ab443",
       "version_major": 2,
       "version_minor": 0
      },
      "text/plain": [
       "Epoch 362/1000 [Training]:   0%|          | 0/1125 [00:00<?, ?it/s]"
      ]
     },
     "metadata": {},
     "output_type": "display_data"
    },
    {
     "name": "stdout",
     "output_type": "stream",
     "text": [
      "\n",
      "📘 Epoch 362/1000 - Train Loss: 2.0540\n"
     ]
    },
    {
     "data": {
      "application/vnd.jupyter.widget-view+json": {
       "model_id": "5b5d90f73f664d318977584c38339e75",
       "version_major": 2,
       "version_minor": 0
      },
      "text/plain": [
       "Validating:   0%|          | 0/250 [00:00<?, ?it/s]"
      ]
     },
     "metadata": {},
     "output_type": "display_data"
    },
    {
     "name": "stdout",
     "output_type": "stream",
     "text": [
      "📗 Validation - Loss: 1.8811, Perplexity: 6.56, Token Acc: 41.37%\n",
      "✅ Saved checkpoint: checkpoints/blt_epoch362.pt\n"
     ]
    },
    {
     "data": {
      "application/vnd.jupyter.widget-view+json": {
       "model_id": "d45256223c9846b79bacf71ce5bc9274",
       "version_major": 2,
       "version_minor": 0
      },
      "text/plain": [
       "Epoch 363/1000 [Training]:   0%|          | 0/1125 [00:00<?, ?it/s]"
      ]
     },
     "metadata": {},
     "output_type": "display_data"
    },
    {
     "name": "stdout",
     "output_type": "stream",
     "text": [
      "\n",
      "📘 Epoch 363/1000 - Train Loss: 2.0547\n"
     ]
    },
    {
     "data": {
      "application/vnd.jupyter.widget-view+json": {
       "model_id": "d5fd53e71b744321a8347868e4681bef",
       "version_major": 2,
       "version_minor": 0
      },
      "text/plain": [
       "Validating:   0%|          | 0/250 [00:00<?, ?it/s]"
      ]
     },
     "metadata": {},
     "output_type": "display_data"
    },
    {
     "name": "stdout",
     "output_type": "stream",
     "text": [
      "📗 Validation - Loss: 1.8811, Perplexity: 6.56, Token Acc: 41.38%\n"
     ]
    },
    {
     "data": {
      "application/vnd.jupyter.widget-view+json": {
       "model_id": "d3f65ba9629441c98b3f37b97d7213b7",
       "version_major": 2,
       "version_minor": 0
      },
      "text/plain": [
       "Epoch 364/1000 [Training]:   0%|          | 0/1125 [00:00<?, ?it/s]"
      ]
     },
     "metadata": {},
     "output_type": "display_data"
    },
    {
     "name": "stdout",
     "output_type": "stream",
     "text": [
      "\n",
      "📘 Epoch 364/1000 - Train Loss: 2.0553\n"
     ]
    },
    {
     "data": {
      "application/vnd.jupyter.widget-view+json": {
       "model_id": "ca3e4c97a2784761bd450ba45c36f45b",
       "version_major": 2,
       "version_minor": 0
      },
      "text/plain": [
       "Validating:   0%|          | 0/250 [00:00<?, ?it/s]"
      ]
     },
     "metadata": {},
     "output_type": "display_data"
    },
    {
     "name": "stdout",
     "output_type": "stream",
     "text": [
      "📗 Validation - Loss: 1.8811, Perplexity: 6.56, Token Acc: 41.38%\n",
      "✅ Saved checkpoint: checkpoints/blt_epoch364.pt\n"
     ]
    },
    {
     "data": {
      "application/vnd.jupyter.widget-view+json": {
       "model_id": "0dc1587fcb6c4f71a4baab076622fe03",
       "version_major": 2,
       "version_minor": 0
      },
      "text/plain": [
       "Epoch 365/1000 [Training]:   0%|          | 0/1125 [00:00<?, ?it/s]"
      ]
     },
     "metadata": {},
     "output_type": "display_data"
    },
    {
     "name": "stdout",
     "output_type": "stream",
     "text": [
      "\n",
      "📘 Epoch 365/1000 - Train Loss: 2.0542\n"
     ]
    },
    {
     "data": {
      "application/vnd.jupyter.widget-view+json": {
       "model_id": "ab172a4e5a154b0aa0678e5e468c5c40",
       "version_major": 2,
       "version_minor": 0
      },
      "text/plain": [
       "Validating:   0%|          | 0/250 [00:00<?, ?it/s]"
      ]
     },
     "metadata": {},
     "output_type": "display_data"
    },
    {
     "name": "stdout",
     "output_type": "stream",
     "text": [
      "📗 Validation - Loss: 1.8811, Perplexity: 6.56, Token Acc: 41.37%\n"
     ]
    },
    {
     "data": {
      "application/vnd.jupyter.widget-view+json": {
       "model_id": "2e777b4104e64ea8b42f97b933d21cd2",
       "version_major": 2,
       "version_minor": 0
      },
      "text/plain": [
       "Epoch 366/1000 [Training]:   0%|          | 0/1125 [00:00<?, ?it/s]"
      ]
     },
     "metadata": {},
     "output_type": "display_data"
    },
    {
     "name": "stdout",
     "output_type": "stream",
     "text": [
      "\n",
      "📘 Epoch 366/1000 - Train Loss: 2.0537\n"
     ]
    },
    {
     "data": {
      "application/vnd.jupyter.widget-view+json": {
       "model_id": "fdd31d4e67404d4fb32a4abcc0b5cd18",
       "version_major": 2,
       "version_minor": 0
      },
      "text/plain": [
       "Validating:   0%|          | 0/250 [00:00<?, ?it/s]"
      ]
     },
     "metadata": {},
     "output_type": "display_data"
    },
    {
     "name": "stdout",
     "output_type": "stream",
     "text": [
      "📗 Validation - Loss: 1.8811, Perplexity: 6.56, Token Acc: 41.36%\n",
      "✅ Saved checkpoint: checkpoints/blt_epoch366.pt\n"
     ]
    },
    {
     "data": {
      "application/vnd.jupyter.widget-view+json": {
       "model_id": "81f1e9feb851495494e6edfba42f4c4c",
       "version_major": 2,
       "version_minor": 0
      },
      "text/plain": [
       "Epoch 367/1000 [Training]:   0%|          | 0/1125 [00:00<?, ?it/s]"
      ]
     },
     "metadata": {},
     "output_type": "display_data"
    },
    {
     "name": "stdout",
     "output_type": "stream",
     "text": [
      "\n",
      "📘 Epoch 367/1000 - Train Loss: 2.0537\n"
     ]
    },
    {
     "data": {
      "application/vnd.jupyter.widget-view+json": {
       "model_id": "438d2c6d133847bca624af5504cf48bf",
       "version_major": 2,
       "version_minor": 0
      },
      "text/plain": [
       "Validating:   0%|          | 0/250 [00:00<?, ?it/s]"
      ]
     },
     "metadata": {},
     "output_type": "display_data"
    },
    {
     "name": "stdout",
     "output_type": "stream",
     "text": [
      "📗 Validation - Loss: 1.8811, Perplexity: 6.56, Token Acc: 41.37%\n"
     ]
    },
    {
     "data": {
      "application/vnd.jupyter.widget-view+json": {
       "model_id": "49664ff030944a3bbb45bcf0d9baaad9",
       "version_major": 2,
       "version_minor": 0
      },
      "text/plain": [
       "Epoch 368/1000 [Training]:   0%|          | 0/1125 [00:00<?, ?it/s]"
      ]
     },
     "metadata": {},
     "output_type": "display_data"
    },
    {
     "name": "stdout",
     "output_type": "stream",
     "text": [
      "\n",
      "📘 Epoch 368/1000 - Train Loss: 2.0535\n"
     ]
    },
    {
     "data": {
      "application/vnd.jupyter.widget-view+json": {
       "model_id": "b6bcaa09cede4cb0bac74189fc4d7a85",
       "version_major": 2,
       "version_minor": 0
      },
      "text/plain": [
       "Validating:   0%|          | 0/250 [00:00<?, ?it/s]"
      ]
     },
     "metadata": {},
     "output_type": "display_data"
    },
    {
     "name": "stdout",
     "output_type": "stream",
     "text": [
      "📗 Validation - Loss: 1.8811, Perplexity: 6.56, Token Acc: 41.37%\n",
      "✅ Saved checkpoint: checkpoints/blt_epoch368.pt\n"
     ]
    },
    {
     "data": {
      "application/vnd.jupyter.widget-view+json": {
       "model_id": "22e4e7c5e620491bb37fa869fb880a90",
       "version_major": 2,
       "version_minor": 0
      },
      "text/plain": [
       "Epoch 369/1000 [Training]:   0%|          | 0/1125 [00:00<?, ?it/s]"
      ]
     },
     "metadata": {},
     "output_type": "display_data"
    },
    {
     "name": "stdout",
     "output_type": "stream",
     "text": [
      "\n",
      "📘 Epoch 369/1000 - Train Loss: 2.0528\n"
     ]
    },
    {
     "data": {
      "application/vnd.jupyter.widget-view+json": {
       "model_id": "94dd1b78642845b3ba95f6a8e59e6c4e",
       "version_major": 2,
       "version_minor": 0
      },
      "text/plain": [
       "Validating:   0%|          | 0/250 [00:00<?, ?it/s]"
      ]
     },
     "metadata": {},
     "output_type": "display_data"
    },
    {
     "name": "stdout",
     "output_type": "stream",
     "text": [
      "📗 Validation - Loss: 1.8811, Perplexity: 6.56, Token Acc: 41.37%\n"
     ]
    },
    {
     "data": {
      "application/vnd.jupyter.widget-view+json": {
       "model_id": "145b79e2073242a4859986534f61eaa7",
       "version_major": 2,
       "version_minor": 0
      },
      "text/plain": [
       "Epoch 370/1000 [Training]:   0%|          | 0/1125 [00:00<?, ?it/s]"
      ]
     },
     "metadata": {},
     "output_type": "display_data"
    },
    {
     "name": "stdout",
     "output_type": "stream",
     "text": [
      "\n",
      "📘 Epoch 370/1000 - Train Loss: 2.0527\n"
     ]
    },
    {
     "data": {
      "application/vnd.jupyter.widget-view+json": {
       "model_id": "5bec558cd7de425eb379a9e6d28890f3",
       "version_major": 2,
       "version_minor": 0
      },
      "text/plain": [
       "Validating:   0%|          | 0/250 [00:00<?, ?it/s]"
      ]
     },
     "metadata": {},
     "output_type": "display_data"
    },
    {
     "name": "stdout",
     "output_type": "stream",
     "text": [
      "📗 Validation - Loss: 1.8811, Perplexity: 6.56, Token Acc: 41.37%\n",
      "✅ Saved checkpoint: checkpoints/blt_epoch370.pt\n"
     ]
    },
    {
     "data": {
      "application/vnd.jupyter.widget-view+json": {
       "model_id": "afe3e69735004d548d6308cd8ee3b959",
       "version_major": 2,
       "version_minor": 0
      },
      "text/plain": [
       "Epoch 371/1000 [Training]:   0%|          | 0/1125 [00:00<?, ?it/s]"
      ]
     },
     "metadata": {},
     "output_type": "display_data"
    },
    {
     "name": "stdout",
     "output_type": "stream",
     "text": [
      "\n",
      "📘 Epoch 371/1000 - Train Loss: 2.0531\n"
     ]
    },
    {
     "data": {
      "application/vnd.jupyter.widget-view+json": {
       "model_id": "789cf7501c7d4d5b8a08dfa0ea10c98b",
       "version_major": 2,
       "version_minor": 0
      },
      "text/plain": [
       "Validating:   0%|          | 0/250 [00:00<?, ?it/s]"
      ]
     },
     "metadata": {},
     "output_type": "display_data"
    },
    {
     "name": "stdout",
     "output_type": "stream",
     "text": [
      "📗 Validation - Loss: 1.8811, Perplexity: 6.56, Token Acc: 41.36%\n"
     ]
    },
    {
     "data": {
      "application/vnd.jupyter.widget-view+json": {
       "model_id": "ddd119dd3c124de188e15bc688bdd353",
       "version_major": 2,
       "version_minor": 0
      },
      "text/plain": [
       "Epoch 372/1000 [Training]:   0%|          | 0/1125 [00:00<?, ?it/s]"
      ]
     },
     "metadata": {},
     "output_type": "display_data"
    },
    {
     "name": "stdout",
     "output_type": "stream",
     "text": [
      "\n",
      "📘 Epoch 372/1000 - Train Loss: 2.0529\n"
     ]
    },
    {
     "data": {
      "application/vnd.jupyter.widget-view+json": {
       "model_id": "faccc2b7d9de40f680240840e2fedf86",
       "version_major": 2,
       "version_minor": 0
      },
      "text/plain": [
       "Validating:   0%|          | 0/250 [00:00<?, ?it/s]"
      ]
     },
     "metadata": {},
     "output_type": "display_data"
    },
    {
     "name": "stdout",
     "output_type": "stream",
     "text": [
      "📗 Validation - Loss: 1.8811, Perplexity: 6.56, Token Acc: 41.36%\n",
      "✅ Saved checkpoint: checkpoints/blt_epoch372.pt\n"
     ]
    },
    {
     "data": {
      "application/vnd.jupyter.widget-view+json": {
       "model_id": "dbaf1055b4ea4a508ae2ac46fcfccd14",
       "version_major": 2,
       "version_minor": 0
      },
      "text/plain": [
       "Epoch 373/1000 [Training]:   0%|          | 0/1125 [00:00<?, ?it/s]"
      ]
     },
     "metadata": {},
     "output_type": "display_data"
    },
    {
     "name": "stdout",
     "output_type": "stream",
     "text": [
      "\n",
      "📘 Epoch 373/1000 - Train Loss: 2.0546\n"
     ]
    },
    {
     "data": {
      "application/vnd.jupyter.widget-view+json": {
       "model_id": "4c1af81dcf64450ba60d26b02fefd567",
       "version_major": 2,
       "version_minor": 0
      },
      "text/plain": [
       "Validating:   0%|          | 0/250 [00:00<?, ?it/s]"
      ]
     },
     "metadata": {},
     "output_type": "display_data"
    },
    {
     "name": "stdout",
     "output_type": "stream",
     "text": [
      "📗 Validation - Loss: 1.8811, Perplexity: 6.56, Token Acc: 41.37%\n"
     ]
    },
    {
     "data": {
      "application/vnd.jupyter.widget-view+json": {
       "model_id": "1cf054c57ad94935b82f7e4d86b85cb4",
       "version_major": 2,
       "version_minor": 0
      },
      "text/plain": [
       "Epoch 374/1000 [Training]:   0%|          | 0/1125 [00:00<?, ?it/s]"
      ]
     },
     "metadata": {},
     "output_type": "display_data"
    },
    {
=======
>>>>>>> c1ccc8e3419992dcb4235f4691fac236ac104211
     "ename": "KeyboardInterrupt",
     "evalue": "",
     "output_type": "error",
     "traceback": [
      "\u001b[31m---------------------------------------------------------------------------\u001b[39m",
      "\u001b[31mKeyboardInterrupt\u001b[39m                         Traceback (most recent call last)",
<<<<<<< HEAD
      "\u001b[36mCell\u001b[39m\u001b[36m \u001b[39m\u001b[32mIn[19]\u001b[39m\u001b[32m, line 18\u001b[39m\n\u001b[32m      9\u001b[39m     torch.set_float32_matmul_precision(\u001b[33m\"\u001b[39m\u001b[33mhigh\u001b[39m\u001b[33m\"\u001b[39m)\n\u001b[32m     11\u001b[39m model = BLTModel(\n\u001b[32m     12\u001b[39m     vocab_size=\u001b[38;5;28mlen\u001b[39m(VOCAB), \n\u001b[32m     13\u001b[39m     d_model=\u001b[32m64\u001b[39m, \n\u001b[32m     14\u001b[39m     nhead=\u001b[32m4\u001b[39m, \n\u001b[32m     15\u001b[39m     dropout=\u001b[32m0.1\u001b[39m\n\u001b[32m     16\u001b[39m )\n\u001b[32m---> \u001b[39m\u001b[32m18\u001b[39m \u001b[43mtrain_blt\u001b[49m\u001b[43m(\u001b[49m\n\u001b[32m     19\u001b[39m \u001b[43m    \u001b[49m\u001b[43mmodel\u001b[49m\u001b[43m=\u001b[49m\u001b[43mmodel\u001b[49m\u001b[43m,\u001b[49m\n\u001b[32m     20\u001b[39m \u001b[43m    \u001b[49m\u001b[43mtrain_loader\u001b[49m\u001b[43m=\u001b[49m\u001b[43mtrain_loader\u001b[49m\u001b[43m,\u001b[49m\n\u001b[32m     21\u001b[39m \u001b[43m    \u001b[49m\u001b[43mval_loader\u001b[49m\u001b[43m=\u001b[49m\u001b[43mval_loader\u001b[49m\u001b[43m,\u001b[49m\n\u001b[32m     22\u001b[39m \u001b[43m    \u001b[49m\u001b[43mnum_epochs\u001b[49m\u001b[43m=\u001b[49m\u001b[43mNUM_EPOCHS\u001b[49m\u001b[43m,\u001b[49m\n\u001b[32m     23\u001b[39m \u001b[43m    \u001b[49m\u001b[43mlr\u001b[49m\u001b[43m=\u001b[49m\u001b[43mLEARNING_RATE\u001b[49m\u001b[43m,\u001b[49m\n\u001b[32m     24\u001b[39m \u001b[43m    \u001b[49m\u001b[43mdevice\u001b[49m\u001b[43m=\u001b[49m\u001b[43mdevice\u001b[49m\u001b[43m,\u001b[49m\n\u001b[32m     25\u001b[39m \u001b[43m    \u001b[49m\u001b[43msave_every\u001b[49m\u001b[43m=\u001b[49m\u001b[43mSAVE_EVERY\u001b[49m\u001b[43m,\u001b[49m\n\u001b[32m     26\u001b[39m \u001b[43m    \u001b[49m\u001b[43mresume_path\u001b[49m\u001b[43m=\u001b[49m\u001b[33;43m\"\u001b[39;49m\u001b[33;43mcheckpoints/blt_epoch304.pt\u001b[39;49m\u001b[33;43m\"\u001b[39;49m\n\u001b[32m     27\u001b[39m \u001b[43m\u001b[49m\u001b[43m)\u001b[49m\n",
      "\u001b[36mCell\u001b[39m\u001b[36m \u001b[39m\u001b[32mIn[17]\u001b[39m\u001b[32m, line 54\u001b[39m, in \u001b[36mtrain_blt\u001b[39m\u001b[34m(model, train_loader, val_loader, num_epochs, lr, device, save_every, resume_path)\u001b[39m\n\u001b[32m     51\u001b[39m tgt_out = tgt_padded[:, \u001b[32m1\u001b[39m:]\n\u001b[32m     52\u001b[39m tgt_pad_mask = (tgt_inp == PAD_IDX)\n\u001b[32m---> \u001b[39m\u001b[32m54\u001b[39m logits = \u001b[43mmodel\u001b[49m\u001b[43m(\u001b[49m\u001b[43msrc_patches\u001b[49m\u001b[43m,\u001b[49m\u001b[43m \u001b[49m\u001b[43mtgt_inp\u001b[49m\u001b[43m,\u001b[49m\u001b[43m \u001b[49m\u001b[43mtgt_pad_mask\u001b[49m\u001b[43m)\u001b[49m\n\u001b[32m     55\u001b[39m loss = criterion(logits.reshape(-\u001b[32m1\u001b[39m, logits.shape[-\u001b[32m1\u001b[39m]), tgt_out.reshape(-\u001b[32m1\u001b[39m))\n\u001b[32m     57\u001b[39m optimizer.zero_grad()\n",
      "\u001b[36mFile \u001b[39m\u001b[32m/Library/Frameworks/Python.framework/Versions/3.13/lib/python3.13/site-packages/torch/nn/modules/module.py:1775\u001b[39m, in \u001b[36mModule._wrapped_call_impl\u001b[39m\u001b[34m(self, *args, **kwargs)\u001b[39m\n\u001b[32m   1773\u001b[39m     \u001b[38;5;28;01mreturn\u001b[39;00m \u001b[38;5;28mself\u001b[39m._compiled_call_impl(*args, **kwargs)  \u001b[38;5;66;03m# type: ignore[misc]\u001b[39;00m\n\u001b[32m   1774\u001b[39m \u001b[38;5;28;01melse\u001b[39;00m:\n\u001b[32m-> \u001b[39m\u001b[32m1775\u001b[39m     \u001b[38;5;28;01mreturn\u001b[39;00m \u001b[38;5;28;43mself\u001b[39;49m\u001b[43m.\u001b[49m\u001b[43m_call_impl\u001b[49m\u001b[43m(\u001b[49m\u001b[43m*\u001b[49m\u001b[43margs\u001b[49m\u001b[43m,\u001b[49m\u001b[43m \u001b[49m\u001b[43m*\u001b[49m\u001b[43m*\u001b[49m\u001b[43mkwargs\u001b[49m\u001b[43m)\u001b[49m\n",
      "\u001b[36mFile \u001b[39m\u001b[32m/Library/Frameworks/Python.framework/Versions/3.13/lib/python3.13/site-packages/torch/nn/modules/module.py:1786\u001b[39m, in \u001b[36mModule._call_impl\u001b[39m\u001b[34m(self, *args, **kwargs)\u001b[39m\n\u001b[32m   1781\u001b[39m \u001b[38;5;66;03m# If we don't have any hooks, we want to skip the rest of the logic in\u001b[39;00m\n\u001b[32m   1782\u001b[39m \u001b[38;5;66;03m# this function, and just call forward.\u001b[39;00m\n\u001b[32m   1783\u001b[39m \u001b[38;5;28;01mif\u001b[39;00m \u001b[38;5;129;01mnot\u001b[39;00m (\u001b[38;5;28mself\u001b[39m._backward_hooks \u001b[38;5;129;01mor\u001b[39;00m \u001b[38;5;28mself\u001b[39m._backward_pre_hooks \u001b[38;5;129;01mor\u001b[39;00m \u001b[38;5;28mself\u001b[39m._forward_hooks \u001b[38;5;129;01mor\u001b[39;00m \u001b[38;5;28mself\u001b[39m._forward_pre_hooks\n\u001b[32m   1784\u001b[39m         \u001b[38;5;129;01mor\u001b[39;00m _global_backward_pre_hooks \u001b[38;5;129;01mor\u001b[39;00m _global_backward_hooks\n\u001b[32m   1785\u001b[39m         \u001b[38;5;129;01mor\u001b[39;00m _global_forward_hooks \u001b[38;5;129;01mor\u001b[39;00m _global_forward_pre_hooks):\n\u001b[32m-> \u001b[39m\u001b[32m1786\u001b[39m     \u001b[38;5;28;01mreturn\u001b[39;00m \u001b[43mforward_call\u001b[49m\u001b[43m(\u001b[49m\u001b[43m*\u001b[49m\u001b[43margs\u001b[49m\u001b[43m,\u001b[49m\u001b[43m \u001b[49m\u001b[43m*\u001b[49m\u001b[43m*\u001b[49m\u001b[43mkwargs\u001b[49m\u001b[43m)\u001b[49m\n\u001b[32m   1788\u001b[39m result = \u001b[38;5;28;01mNone\u001b[39;00m\n\u001b[32m   1789\u001b[39m called_always_called_hooks = \u001b[38;5;28mset\u001b[39m()\n",
      "\u001b[36mCell\u001b[39m\u001b[36m \u001b[39m\u001b[32mIn[15]\u001b[39m\u001b[32m, line 55\u001b[39m, in \u001b[36mBLTModel.forward\u001b[39m\u001b[34m(self, src_patches_batch, tgt_inp, tgt_pad_mask)\u001b[39m\n\u001b[32m     53\u001b[39m         sample_emb = torch.zeros(\u001b[32m1\u001b[39m, \u001b[38;5;28mself\u001b[39m.d_model, device=device)\n\u001b[32m     54\u001b[39m     \u001b[38;5;28;01melse\u001b[39;00m:\n\u001b[32m---> \u001b[39m\u001b[32m55\u001b[39m         sample_emb = torch.stack([\u001b[38;5;28;43mself\u001b[39;49m\u001b[43m.\u001b[49m\u001b[43mpatch_embedder\u001b[49m\u001b[43m(\u001b[49m\u001b[43mp\u001b[49m\u001b[43m)\u001b[49m \u001b[38;5;28;01mfor\u001b[39;00m p \u001b[38;5;129;01min\u001b[39;00m patch_list])\n\u001b[32m     56\u001b[39m     batch_embeddings.append(sample_emb)\n\u001b[32m     58\u001b[39m src_emb = pad_sequence(batch_embeddings, batch_first=\u001b[38;5;28;01mTrue\u001b[39;00m, padding_value=\u001b[32m0.0\u001b[39m)\n",
      "\u001b[36mFile \u001b[39m\u001b[32m/Library/Frameworks/Python.framework/Versions/3.13/lib/python3.13/site-packages/torch/nn/modules/module.py:1775\u001b[39m, in \u001b[36mModule._wrapped_call_impl\u001b[39m\u001b[34m(self, *args, **kwargs)\u001b[39m\n\u001b[32m   1773\u001b[39m     \u001b[38;5;28;01mreturn\u001b[39;00m \u001b[38;5;28mself\u001b[39m._compiled_call_impl(*args, **kwargs)  \u001b[38;5;66;03m# type: ignore[misc]\u001b[39;00m\n\u001b[32m   1774\u001b[39m \u001b[38;5;28;01melse\u001b[39;00m:\n\u001b[32m-> \u001b[39m\u001b[32m1775\u001b[39m     \u001b[38;5;28;01mreturn\u001b[39;00m \u001b[38;5;28;43mself\u001b[39;49m\u001b[43m.\u001b[49m\u001b[43m_call_impl\u001b[49m\u001b[43m(\u001b[49m\u001b[43m*\u001b[49m\u001b[43margs\u001b[49m\u001b[43m,\u001b[49m\u001b[43m \u001b[49m\u001b[43m*\u001b[49m\u001b[43m*\u001b[49m\u001b[43mkwargs\u001b[49m\u001b[43m)\u001b[49m\n",
      "\u001b[36mFile \u001b[39m\u001b[32m/Library/Frameworks/Python.framework/Versions/3.13/lib/python3.13/site-packages/torch/nn/modules/module.py:1786\u001b[39m, in \u001b[36mModule._call_impl\u001b[39m\u001b[34m(self, *args, **kwargs)\u001b[39m\n\u001b[32m   1781\u001b[39m \u001b[38;5;66;03m# If we don't have any hooks, we want to skip the rest of the logic in\u001b[39;00m\n\u001b[32m   1782\u001b[39m \u001b[38;5;66;03m# this function, and just call forward.\u001b[39;00m\n\u001b[32m   1783\u001b[39m \u001b[38;5;28;01mif\u001b[39;00m \u001b[38;5;129;01mnot\u001b[39;00m (\u001b[38;5;28mself\u001b[39m._backward_hooks \u001b[38;5;129;01mor\u001b[39;00m \u001b[38;5;28mself\u001b[39m._backward_pre_hooks \u001b[38;5;129;01mor\u001b[39;00m \u001b[38;5;28mself\u001b[39m._forward_hooks \u001b[38;5;129;01mor\u001b[39;00m \u001b[38;5;28mself\u001b[39m._forward_pre_hooks\n\u001b[32m   1784\u001b[39m         \u001b[38;5;129;01mor\u001b[39;00m _global_backward_pre_hooks \u001b[38;5;129;01mor\u001b[39;00m _global_backward_hooks\n\u001b[32m   1785\u001b[39m         \u001b[38;5;129;01mor\u001b[39;00m _global_forward_hooks \u001b[38;5;129;01mor\u001b[39;00m _global_forward_pre_hooks):\n\u001b[32m-> \u001b[39m\u001b[32m1786\u001b[39m     \u001b[38;5;28;01mreturn\u001b[39;00m \u001b[43mforward_call\u001b[49m\u001b[43m(\u001b[49m\u001b[43m*\u001b[49m\u001b[43margs\u001b[49m\u001b[43m,\u001b[49m\u001b[43m \u001b[49m\u001b[43m*\u001b[49m\u001b[43m*\u001b[49m\u001b[43mkwargs\u001b[49m\u001b[43m)\u001b[49m\n\u001b[32m   1788\u001b[39m result = \u001b[38;5;28;01mNone\u001b[39;00m\n\u001b[32m   1789\u001b[39m called_always_called_hooks = \u001b[38;5;28mset\u001b[39m()\n",
      "\u001b[36mCell\u001b[39m\u001b[36m \u001b[39m\u001b[32mIn[8]\u001b[39m\u001b[32m, line 29\u001b[39m, in \u001b[36mPatchEmbedder.forward\u001b[39m\u001b[34m(self, patch)\u001b[39m\n\u001b[32m     27\u001b[39m     \u001b[38;5;28;01mfor\u001b[39;00m ng \u001b[38;5;129;01min\u001b[39;00m ngrams:\n\u001b[32m     28\u001b[39m         bucket = hash_ngram(ng, \u001b[38;5;28mself\u001b[39m.num_buckets)\n\u001b[32m---> \u001b[39m\u001b[32m29\u001b[39m         idx = \u001b[43mtorch\u001b[49m\u001b[43m.\u001b[49m\u001b[43mtensor\u001b[49m\u001b[43m(\u001b[49m\u001b[43mbucket\u001b[49m\u001b[43m,\u001b[49m\u001b[43m \u001b[49m\u001b[43mdtype\u001b[49m\u001b[43m=\u001b[49m\u001b[43mtorch\u001b[49m\u001b[43m.\u001b[49m\u001b[43mlong\u001b[49m\u001b[43m,\u001b[49m\u001b[43m \u001b[49m\u001b[43mdevice\u001b[49m\u001b[43m=\u001b[49m\u001b[43mdevice\u001b[49m\u001b[43m)\u001b[49m\n\u001b[32m     30\u001b[39m         vectors.append(\u001b[38;5;28mself\u001b[39m.embeddings[\u001b[38;5;28mstr\u001b[39m(n)](idx))\n\u001b[32m     32\u001b[39m \u001b[38;5;28;01mif\u001b[39;00m \u001b[38;5;28mlen\u001b[39m(vectors) == \u001b[32m0\u001b[39m:\n",
=======
      "\u001b[36mCell\u001b[39m\u001b[36m \u001b[39m\u001b[32mIn[74]\u001b[39m\u001b[32m, line 18\u001b[39m\n\u001b[32m      9\u001b[39m     torch.set_float32_matmul_precision(\u001b[33m\"\u001b[39m\u001b[33mhigh\u001b[39m\u001b[33m\"\u001b[39m)\n\u001b[32m     11\u001b[39m model = BLTModel(\n\u001b[32m     12\u001b[39m     vocab_size=\u001b[38;5;28mlen\u001b[39m(VOCAB), \n\u001b[32m     13\u001b[39m     d_model=\u001b[32m64\u001b[39m, \n\u001b[32m     14\u001b[39m     nhead=\u001b[32m4\u001b[39m, \n\u001b[32m     15\u001b[39m     dropout=\u001b[32m0.1\u001b[39m\n\u001b[32m     16\u001b[39m )\n\u001b[32m---> \u001b[39m\u001b[32m18\u001b[39m \u001b[43mtrain_blt\u001b[49m\u001b[43m(\u001b[49m\n\u001b[32m     19\u001b[39m \u001b[43m    \u001b[49m\u001b[43mmodel\u001b[49m\u001b[43m=\u001b[49m\u001b[43mmodel\u001b[49m\u001b[43m,\u001b[49m\n\u001b[32m     20\u001b[39m \u001b[43m    \u001b[49m\u001b[43mtrain_loader\u001b[49m\u001b[43m=\u001b[49m\u001b[43mtrain_loader\u001b[49m\u001b[43m,\u001b[49m\n\u001b[32m     21\u001b[39m \u001b[43m    \u001b[49m\u001b[43mval_loader\u001b[49m\u001b[43m=\u001b[49m\u001b[43mval_loader\u001b[49m\u001b[43m,\u001b[49m\n\u001b[32m     22\u001b[39m \u001b[43m    \u001b[49m\u001b[43mnum_epochs\u001b[49m\u001b[43m=\u001b[49m\u001b[43mNUM_EPOCHS\u001b[49m\u001b[43m,\u001b[49m\n\u001b[32m     23\u001b[39m \u001b[43m    \u001b[49m\u001b[43mlr\u001b[49m\u001b[43m=\u001b[49m\u001b[43mLEARNING_RATE\u001b[49m\u001b[43m,\u001b[49m\n\u001b[32m     24\u001b[39m \u001b[43m    \u001b[49m\u001b[43mdevice\u001b[49m\u001b[43m=\u001b[49m\u001b[43mdevice\u001b[49m\u001b[43m,\u001b[49m\n\u001b[32m     25\u001b[39m \u001b[43m    \u001b[49m\u001b[43msave_every\u001b[49m\u001b[43m=\u001b[49m\u001b[43mSAVE_EVERY\u001b[49m\u001b[43m,\u001b[49m\n\u001b[32m     26\u001b[39m \u001b[43m    \u001b[49m\u001b[43mresume_path\u001b[49m\u001b[43m=\u001b[49m\u001b[33;43m\"\u001b[39;49m\u001b[33;43mcheckpoints/blt_epoch168.pt\u001b[39;49m\u001b[33;43m\"\u001b[39;49m\n\u001b[32m     27\u001b[39m \u001b[43m\u001b[49m\u001b[43m)\u001b[49m\n",
      "\u001b[36mCell\u001b[39m\u001b[36m \u001b[39m\u001b[32mIn[61]\u001b[39m\u001b[32m, line 54\u001b[39m, in \u001b[36mtrain_blt\u001b[39m\u001b[34m(model, train_loader, val_loader, num_epochs, lr, device, save_every, resume_path)\u001b[39m\n\u001b[32m     51\u001b[39m tgt_out = tgt_padded[:, \u001b[32m1\u001b[39m:]\n\u001b[32m     52\u001b[39m tgt_pad_mask = (tgt_inp == PAD_IDX)\n\u001b[32m---> \u001b[39m\u001b[32m54\u001b[39m logits = \u001b[43mmodel\u001b[49m\u001b[43m(\u001b[49m\u001b[43msrc_patches\u001b[49m\u001b[43m,\u001b[49m\u001b[43m \u001b[49m\u001b[43mtgt_inp\u001b[49m\u001b[43m,\u001b[49m\u001b[43m \u001b[49m\u001b[43mtgt_pad_mask\u001b[49m\u001b[43m)\u001b[49m\n\u001b[32m     55\u001b[39m loss = criterion(logits.reshape(-\u001b[32m1\u001b[39m, logits.shape[-\u001b[32m1\u001b[39m]), tgt_out.reshape(-\u001b[32m1\u001b[39m))\n\u001b[32m     57\u001b[39m optimizer.zero_grad()\n",
      "\u001b[36mFile \u001b[39m\u001b[32m/Library/Frameworks/Python.framework/Versions/3.13/lib/python3.13/site-packages/torch/nn/modules/module.py:1773\u001b[39m, in \u001b[36mModule._wrapped_call_impl\u001b[39m\u001b[34m(self, *args, **kwargs)\u001b[39m\n\u001b[32m   1771\u001b[39m     \u001b[38;5;28;01mreturn\u001b[39;00m \u001b[38;5;28mself\u001b[39m._compiled_call_impl(*args, **kwargs)  \u001b[38;5;66;03m# type: ignore[misc]\u001b[39;00m\n\u001b[32m   1772\u001b[39m \u001b[38;5;28;01melse\u001b[39;00m:\n\u001b[32m-> \u001b[39m\u001b[32m1773\u001b[39m     \u001b[38;5;28;01mreturn\u001b[39;00m \u001b[38;5;28;43mself\u001b[39;49m\u001b[43m.\u001b[49m\u001b[43m_call_impl\u001b[49m\u001b[43m(\u001b[49m\u001b[43m*\u001b[49m\u001b[43margs\u001b[49m\u001b[43m,\u001b[49m\u001b[43m \u001b[49m\u001b[43m*\u001b[49m\u001b[43m*\u001b[49m\u001b[43mkwargs\u001b[49m\u001b[43m)\u001b[49m\n",
      "\u001b[36mFile \u001b[39m\u001b[32m/Library/Frameworks/Python.framework/Versions/3.13/lib/python3.13/site-packages/torch/nn/modules/module.py:1784\u001b[39m, in \u001b[36mModule._call_impl\u001b[39m\u001b[34m(self, *args, **kwargs)\u001b[39m\n\u001b[32m   1779\u001b[39m \u001b[38;5;66;03m# If we don't have any hooks, we want to skip the rest of the logic in\u001b[39;00m\n\u001b[32m   1780\u001b[39m \u001b[38;5;66;03m# this function, and just call forward.\u001b[39;00m\n\u001b[32m   1781\u001b[39m \u001b[38;5;28;01mif\u001b[39;00m \u001b[38;5;129;01mnot\u001b[39;00m (\u001b[38;5;28mself\u001b[39m._backward_hooks \u001b[38;5;129;01mor\u001b[39;00m \u001b[38;5;28mself\u001b[39m._backward_pre_hooks \u001b[38;5;129;01mor\u001b[39;00m \u001b[38;5;28mself\u001b[39m._forward_hooks \u001b[38;5;129;01mor\u001b[39;00m \u001b[38;5;28mself\u001b[39m._forward_pre_hooks\n\u001b[32m   1782\u001b[39m         \u001b[38;5;129;01mor\u001b[39;00m _global_backward_pre_hooks \u001b[38;5;129;01mor\u001b[39;00m _global_backward_hooks\n\u001b[32m   1783\u001b[39m         \u001b[38;5;129;01mor\u001b[39;00m _global_forward_hooks \u001b[38;5;129;01mor\u001b[39;00m _global_forward_pre_hooks):\n\u001b[32m-> \u001b[39m\u001b[32m1784\u001b[39m     \u001b[38;5;28;01mreturn\u001b[39;00m \u001b[43mforward_call\u001b[49m\u001b[43m(\u001b[49m\u001b[43m*\u001b[49m\u001b[43margs\u001b[49m\u001b[43m,\u001b[49m\u001b[43m \u001b[49m\u001b[43m*\u001b[49m\u001b[43m*\u001b[49m\u001b[43mkwargs\u001b[49m\u001b[43m)\u001b[49m\n\u001b[32m   1786\u001b[39m result = \u001b[38;5;28;01mNone\u001b[39;00m\n\u001b[32m   1787\u001b[39m called_always_called_hooks = \u001b[38;5;28mset\u001b[39m()\n",
      "\u001b[36mCell\u001b[39m\u001b[36m \u001b[39m\u001b[32mIn[59]\u001b[39m\u001b[32m, line 55\u001b[39m, in \u001b[36mBLTModel.forward\u001b[39m\u001b[34m(self, src_patches_batch, tgt_inp, tgt_pad_mask)\u001b[39m\n\u001b[32m     53\u001b[39m         sample_emb = torch.zeros(\u001b[32m1\u001b[39m, \u001b[38;5;28mself\u001b[39m.d_model, device=device)\n\u001b[32m     54\u001b[39m     \u001b[38;5;28;01melse\u001b[39;00m:\n\u001b[32m---> \u001b[39m\u001b[32m55\u001b[39m         sample_emb = torch.stack([\u001b[38;5;28;43mself\u001b[39;49m\u001b[43m.\u001b[49m\u001b[43mpatch_embedder\u001b[49m\u001b[43m(\u001b[49m\u001b[43mp\u001b[49m\u001b[43m)\u001b[49m \u001b[38;5;28;01mfor\u001b[39;00m p \u001b[38;5;129;01min\u001b[39;00m patch_list])\n\u001b[32m     56\u001b[39m     batch_embeddings.append(sample_emb)\n\u001b[32m     58\u001b[39m src_emb = pad_sequence(batch_embeddings, batch_first=\u001b[38;5;28;01mTrue\u001b[39;00m, padding_value=\u001b[32m0.0\u001b[39m)\n",
      "\u001b[36mFile \u001b[39m\u001b[32m/Library/Frameworks/Python.framework/Versions/3.13/lib/python3.13/site-packages/torch/nn/modules/module.py:1773\u001b[39m, in \u001b[36mModule._wrapped_call_impl\u001b[39m\u001b[34m(self, *args, **kwargs)\u001b[39m\n\u001b[32m   1771\u001b[39m     \u001b[38;5;28;01mreturn\u001b[39;00m \u001b[38;5;28mself\u001b[39m._compiled_call_impl(*args, **kwargs)  \u001b[38;5;66;03m# type: ignore[misc]\u001b[39;00m\n\u001b[32m   1772\u001b[39m \u001b[38;5;28;01melse\u001b[39;00m:\n\u001b[32m-> \u001b[39m\u001b[32m1773\u001b[39m     \u001b[38;5;28;01mreturn\u001b[39;00m \u001b[38;5;28;43mself\u001b[39;49m\u001b[43m.\u001b[49m\u001b[43m_call_impl\u001b[49m\u001b[43m(\u001b[49m\u001b[43m*\u001b[49m\u001b[43margs\u001b[49m\u001b[43m,\u001b[49m\u001b[43m \u001b[49m\u001b[43m*\u001b[49m\u001b[43m*\u001b[49m\u001b[43mkwargs\u001b[49m\u001b[43m)\u001b[49m\n",
      "\u001b[36mFile \u001b[39m\u001b[32m/Library/Frameworks/Python.framework/Versions/3.13/lib/python3.13/site-packages/torch/nn/modules/module.py:1784\u001b[39m, in \u001b[36mModule._call_impl\u001b[39m\u001b[34m(self, *args, **kwargs)\u001b[39m\n\u001b[32m   1779\u001b[39m \u001b[38;5;66;03m# If we don't have any hooks, we want to skip the rest of the logic in\u001b[39;00m\n\u001b[32m   1780\u001b[39m \u001b[38;5;66;03m# this function, and just call forward.\u001b[39;00m\n\u001b[32m   1781\u001b[39m \u001b[38;5;28;01mif\u001b[39;00m \u001b[38;5;129;01mnot\u001b[39;00m (\u001b[38;5;28mself\u001b[39m._backward_hooks \u001b[38;5;129;01mor\u001b[39;00m \u001b[38;5;28mself\u001b[39m._backward_pre_hooks \u001b[38;5;129;01mor\u001b[39;00m \u001b[38;5;28mself\u001b[39m._forward_hooks \u001b[38;5;129;01mor\u001b[39;00m \u001b[38;5;28mself\u001b[39m._forward_pre_hooks\n\u001b[32m   1782\u001b[39m         \u001b[38;5;129;01mor\u001b[39;00m _global_backward_pre_hooks \u001b[38;5;129;01mor\u001b[39;00m _global_backward_hooks\n\u001b[32m   1783\u001b[39m         \u001b[38;5;129;01mor\u001b[39;00m _global_forward_hooks \u001b[38;5;129;01mor\u001b[39;00m _global_forward_pre_hooks):\n\u001b[32m-> \u001b[39m\u001b[32m1784\u001b[39m     \u001b[38;5;28;01mreturn\u001b[39;00m \u001b[43mforward_call\u001b[49m\u001b[43m(\u001b[49m\u001b[43m*\u001b[49m\u001b[43margs\u001b[49m\u001b[43m,\u001b[49m\u001b[43m \u001b[49m\u001b[43m*\u001b[49m\u001b[43m*\u001b[49m\u001b[43mkwargs\u001b[49m\u001b[43m)\u001b[49m\n\u001b[32m   1786\u001b[39m result = \u001b[38;5;28;01mNone\u001b[39;00m\n\u001b[32m   1787\u001b[39m called_always_called_hooks = \u001b[38;5;28mset\u001b[39m()\n",
      "\u001b[36mCell\u001b[39m\u001b[36m \u001b[39m\u001b[32mIn[41]\u001b[39m\u001b[32m, line 29\u001b[39m, in \u001b[36mPatchEmbedder.forward\u001b[39m\u001b[34m(self, patch)\u001b[39m\n\u001b[32m     27\u001b[39m     \u001b[38;5;28;01mfor\u001b[39;00m ng \u001b[38;5;129;01min\u001b[39;00m ngrams:\n\u001b[32m     28\u001b[39m         bucket = hash_ngram(ng, \u001b[38;5;28mself\u001b[39m.num_buckets)\n\u001b[32m---> \u001b[39m\u001b[32m29\u001b[39m         idx = \u001b[43mtorch\u001b[49m\u001b[43m.\u001b[49m\u001b[43mtensor\u001b[49m\u001b[43m(\u001b[49m\u001b[43mbucket\u001b[49m\u001b[43m,\u001b[49m\u001b[43m \u001b[49m\u001b[43mdtype\u001b[49m\u001b[43m=\u001b[49m\u001b[43mtorch\u001b[49m\u001b[43m.\u001b[49m\u001b[43mlong\u001b[49m\u001b[43m,\u001b[49m\u001b[43m \u001b[49m\u001b[43mdevice\u001b[49m\u001b[43m=\u001b[49m\u001b[43mdevice\u001b[49m\u001b[43m)\u001b[49m\n\u001b[32m     30\u001b[39m         vectors.append(\u001b[38;5;28mself\u001b[39m.embeddings[\u001b[38;5;28mstr\u001b[39m(n)](idx))\n\u001b[32m     32\u001b[39m \u001b[38;5;28;01mif\u001b[39;00m \u001b[38;5;28mlen\u001b[39m(vectors) == \u001b[32m0\u001b[39m:\n",
>>>>>>> c1ccc8e3419992dcb4235f4691fac236ac104211
      "\u001b[31mKeyboardInterrupt\u001b[39m: "
     ]
    }
   ],
   "source": [
    "if __name__ == '__main__':\n",
    "    LEARNING_RATE = 1e-4\n",
    "    BATCH_SIZE = 8\n",
    "    NUM_EPOCHS = 1000\n",
    "    SAVE_EVERY = 2\n",
    "\n",
    "    device = torch.device(\"mps\" if torch.backends.mps.is_available() else \"cpu\")\n",
    "    if device.type == \"mps\":\n",
    "        torch.set_float32_matmul_precision(\"high\")\n",
    "\n",
    "    model = BLTModel(\n",
    "        vocab_size=len(VOCAB), \n",
    "        d_model=64, \n",
    "        nhead=4, \n",
    "        dropout=0.1\n",
    "    )\n",
    "\n",
    "    train_blt(\n",
    "        model=model,\n",
    "        train_loader=train_loader,\n",
    "        val_loader=val_loader,\n",
    "        num_epochs=NUM_EPOCHS,\n",
    "        lr=LEARNING_RATE,\n",
    "        device=device,\n",
    "        save_every=SAVE_EVERY,\n",
<<<<<<< HEAD
    "        resume_path=\"checkpoints/blt_epoch372.pt\"\n",
=======
    "        resume_path=\"checkpoints/blt_epoch304.pt\"\n",
>>>>>>> c1ccc8e3419992dcb4235f4691fac236ac104211
    "    )"
   ]
  },
  {
   "cell_type": "markdown",
   "id": "9b3cfa26",
   "metadata": {},
   "source": [
    "## Testing and Validating BLT"
   ]
  },
  {
   "cell_type": "code",
<<<<<<< HEAD
   "execution_count": null,
=======
   "execution_count": 71,
>>>>>>> c1ccc8e3419992dcb4235f4691fac236ac104211
   "id": "306f8464",
   "metadata": {},
   "outputs": [
    {
     "name": "stdout",
     "output_type": "stream",
     "text": [
<<<<<<< HEAD
      "✅ Loaded checkpoint from epoch 372\n"
=======
      "✅ Loaded checkpoint from epoch 168\n"
>>>>>>> c1ccc8e3419992dcb4235f4691fac236ac104211
     ]
    },
    {
     "data": {
      "application/vnd.jupyter.widget-view+json": {
<<<<<<< HEAD
       "model_id": "2cdf500570fe4aa99e41dcfc36db07c0",
=======
       "model_id": "f146939dec504f67b8fe458440cc855e",
>>>>>>> c1ccc8e3419992dcb4235f4691fac236ac104211
       "version_major": 2,
       "version_minor": 0
      },
      "text/plain": [
       "🧪 Evaluating Test Set:   0%|          | 0/250 [00:00<?, ?it/s]"
      ]
     },
     "metadata": {},
     "output_type": "display_data"
    },
    {
     "name": "stderr",
     "output_type": "stream",
     "text": [
<<<<<<< HEAD
      "/Library/Frameworks/Python.framework/Versions/3.13/lib/python3.13/site-packages/torch/nn/functional.py:6044: UserWarning: Support for mismatched key_padding_mask and attn_mask is deprecated. Use same type for both instead.\n",
=======
      "/Library/Frameworks/Python.framework/Versions/3.13/lib/python3.13/site-packages/torch/nn/functional.py:6041: UserWarning: Support for mismatched key_padding_mask and attn_mask is deprecated. Use same type for both instead.\n",
>>>>>>> c1ccc8e3419992dcb4235f4691fac236ac104211
      "  warnings.warn(\n"
     ]
    },
    {
     "name": "stdout",
     "output_type": "stream",
     "text": [
      "\n",
      "--- 📊 Final BLT Model Evaluation ---\n",
<<<<<<< HEAD
      "  - Final Train Loss:    2.0529 (from checkpoint)\n",
      "--------------------------------------\n",
      "  - Test Loss:           1.8941\n",
      "  - Test Token Accuracy: 41.02%\n",
      "  - Test Perplexity:     6.65\n",
=======
      "  - Final Train Loss:    2.1115 (from checkpoint)\n",
      "--------------------------------------\n",
      "  - Test Loss:           1.9690\n",
      "  - Test Token Accuracy: 39.03%\n",
      "  - Test Perplexity:     7.16\n",
>>>>>>> c1ccc8e3419992dcb4235f4691fac236ac104211
      "--------------------------------------\n"
     ]
    }
   ],
   "source": [
    "import torch\n",
    "import torch.nn as nn\n",
    "import pandas as pd\n",
    "import os\n",
    "import math\n",
    "from torch.utils.data import DataLoader\n",
    "from tqdm.auto import tqdm\n",
    "\n",
    "# --- Step 1: Define ALL necessary components from your training script ---\n",
    "# This makes the script runnable on its own.\n",
    "\n",
    "# Assume your core helper functions are defined here:\n",
    "# patchify, hash_ngram, extract_ngrams\n",
    "\n",
    "# Assume your model classes are defined here:\n",
    "# PatchEmbedder, PositionalEncoding, BLTModel\n",
    "\n",
    "# --- Step 2: The Simplified Evaluation Function ---\n",
    "\n",
    "@torch.no_grad()\n",
    "def evaluate_final_model(model_class, vocab_size, ckpt_path, test_loader, device):\n",
    "    \"\"\"\n",
    "    Loads a model from a checkpoint and evaluates it on the test set.\n",
    "    \"\"\"\n",
    "    if not os.path.exists(ckpt_path):\n",
    "        raise FileNotFoundError(f\"Checkpoint not found at: {ckpt_path}\")\n",
    "\n",
    "    # --- Load Checkpoint and Model ---\n",
    "    checkpoint = torch.load(ckpt_path, map_location=device)\n",
    "    \n",
    "    # Instantiate the model with the correct architecture\n",
    "    model = model_class(\n",
    "        vocab_size=vocab_size, \n",
    "        d_model=64, \n",
    "        nhead=4, \n",
    "        dropout=0.1\n",
    "    ).to(device)\n",
    "    \n",
    "    model.load_state_dict(checkpoint[\"model_state\"])\n",
    "    model.eval()\n",
    "    \n",
    "    print(f\"✅ Loaded checkpoint from epoch {checkpoint['epoch']}\")\n",
    "\n",
    "    # --- Extract Metrics from Checkpoint ---\n",
    "    train_loss = checkpoint.get('loss', 'N/A') # .get is safer\n",
    "    \n",
    "    # --- Evaluation Loop ---\n",
    "    criterion = nn.CrossEntropyLoss(ignore_index=PAD_IDX)\n",
    "    total_loss = 0.0\n",
    "    correct_tokens = 0\n",
    "    total_tokens = 0\n",
    "\n",
    "    progress_bar = tqdm(test_loader, desc=\"🧪 Evaluating Test Set\")\n",
    "    for src_patches, tgt_padded in progress_bar:\n",
    "        # Correctly handle the new data format\n",
    "        tgt_padded = tgt_padded.to(device)\n",
    "        tgt_inp = tgt_padded[:, :-1]\n",
    "        tgt_out = tgt_padded[:, 1:]\n",
    "        tgt_pad_mask = (tgt_inp == PAD_IDX)\n",
    "        \n",
    "        # Correctly call the model\n",
    "        logits = model(src_patches, tgt_inp, tgt_pad_mask)\n",
    "\n",
    "        # Calculate Loss\n",
    "        loss = criterion(logits.reshape(-1, logits.shape[-1]), tgt_out.reshape(-1))\n",
    "        total_loss += loss.item()\n",
    "\n",
    "        # Calculate Accuracy\n",
    "        preds = logits.argmax(dim=-1)\n",
    "        mask = (tgt_out != PAD_IDX)\n",
    "        correct_tokens += ((preds == tgt_out) & mask).sum().item()\n",
    "        total_tokens += mask.sum().item()\n",
    "\n",
    "    # --- Calculate Final Metrics ---\n",
    "    avg_test_loss = total_loss / len(test_loader)\n",
    "    accuracy = 100.0 * correct_tokens / total_tokens if total_tokens > 0 else 0\n",
    "    perplexity = math.exp(avg_test_loss) if avg_test_loss < 100 else float('inf')\n",
    "    \n",
    "    return {\n",
    "        \"train_loss\": train_loss,\n",
    "        \"test_loss\": avg_test_loss,\n",
    "        \"accuracy\": accuracy,\n",
    "        \"perplexity\": perplexity\n",
    "    }\n",
    "\n",
    "# --- Step 3: Main Execution Block ---\n",
    "\n",
    "if __name__ == '__main__':\n",
    "    # --- Configuration ---\n",
<<<<<<< HEAD
    "    CHECKPOINT_PATH = \"checkpoints/blt_epoch372.pt\" # The final model to test\n",
=======
    "    CHECKPOINT_PATH = \"checkpoints/blt_epoch168.pt\" # The final model to test\n",
>>>>>>> c1ccc8e3419992dcb4235f4691fac236ac104211
    "    BATCH_SIZE = 8\n",
    "    \n",
    "    # Setup device\n",
    "    device = torch.device(\"mps\" if torch.backends.mps.is_available() else \"cpu\")\n",
    "\n",
    "    # --- Load Data ---\n",
    "    # You must have the test.csv file available\n",
    "    test_ds = BLTDataset(csv_path=\"./../data/test.csv\")\n",
    "    test_loader = DataLoader(\n",
    "        test_ds,\n",
    "        batch_size=BATCH_SIZE,\n",
    "        shuffle=False,\n",
    "        collate_fn=blt_collate_fn\n",
    "    )\n",
    "\n",
    "    # --- Run Evaluation ---\n",
    "    results = evaluate_final_model(\n",
    "        model_class=BLTModel,\n",
    "        vocab_size=len(VOCAB),\n",
    "        ckpt_path=CHECKPOINT_PATH,\n",
    "        test_loader=test_loader,\n",
    "        device=device\n",
    "    )\n",
    "\n",
    "    # --- Print a Clean Report ---\n",
    "    print(\"\\n--- 📊 Final BLT Model Evaluation ---\")\n",
    "    print(f\"  - Final Train Loss:    {results['train_loss']:.4f} (from checkpoint)\")\n",
    "    print(\"--------------------------------------\")\n",
    "    print(f\"  - Test Loss:           {results['test_loss']:.4f}\")\n",
    "    print(f\"  - Test Token Accuracy: {results['accuracy']:.2f}%\")\n",
    "    print(f\"  - Test Perplexity:     {results['perplexity']:.2f}\")\n",
    "    print(\"--------------------------------------\")"
   ]
  },
  {
   "cell_type": "markdown",
<<<<<<< HEAD
   "id": "3ebaed90",
   "metadata": {},
   "source": [
    "### Calculate the average number of patches for your BLT model"
   ]
  },
  {
   "cell_type": "code",
   "execution_count": 19,
   "id": "c6bf68ca",
   "metadata": {},
   "outputs": [
    {
     "name": "stdout",
     "output_type": "stream",
     "text": [
      "Calculating average patch count for 2000 samples in ./../data/test.csv...\n"
     ]
    },
    {
     "data": {
      "application/vnd.jupyter.widget-view+json": {
       "model_id": "37099694c5c64ee3954cd92b683c622b",
       "version_major": 2,
       "version_minor": 0
      },
      "text/plain": [
       "Processing Inputs:   0%|          | 0/2000 [00:00<?, ?it/s]"
      ]
     },
     "metadata": {},
     "output_type": "display_data"
    },
    {
     "name": "stdout",
     "output_type": "stream",
     "text": [
      "\n",
      "--- Calculation Complete ---\n",
      "Total number of samples: 2000\n",
      "Total patches generated: 12720\n",
      "Average number of patches per sample: 6.36\n"
     ]
    }
   ],
   "source": [
    "test_csv_path = \"./../data/test.csv\" # Path to your test data\n",
    "\n",
    "try:\n",
    "    test_df = pd.read_csv(test_csv_path)\n",
    "except FileNotFoundError:\n",
    "    print(f\"ERROR: Test file not found at {test_csv_path}\")\n",
    "    exit()\n",
    "\n",
    "total_patches = 0\n",
    "num_samples = len(test_df)\n",
    "\n",
    "print(f\"Calculating average patch count for {num_samples} samples in {test_csv_path}...\")\n",
    "\n",
    "# Iterate through the 'input' column with a progress bar\n",
    "for input_text in tqdm(test_df['input'], desc=\"Processing Inputs\"):\n",
    "    patches = patchify(str(input_text)) # Ensure input is treated as string\n",
    "    total_patches += len(patches)\n",
    "\n",
    "# Calculate the average\n",
    "average_patches = total_patches / num_samples if num_samples > 0 else 0\n",
    "\n",
    "print(f\"\\n--- Calculation Complete ---\")\n",
    "print(f\"Total number of samples: {num_samples}\")\n",
    "print(f\"Total patches generated: {total_patches}\")\n",
    "print(f\"Average number of patches per sample: {average_patches:.2f}\")"
   ]
  },
  {
   "cell_type": "markdown",
=======
>>>>>>> c1ccc8e3419992dcb4235f4691fac236ac104211
   "id": "ed7fda4e",
   "metadata": {},
   "source": [
    "## Graphs and all"
   ]
  },
  {
   "cell_type": "code",
<<<<<<< HEAD
   "execution_count": null,
=======
   "execution_count": 75,
>>>>>>> c1ccc8e3419992dcb4235f4691fac236ac104211
   "id": "5a0275dd",
   "metadata": {},
   "outputs": [
    {
     "name": "stdout",
     "output_type": "stream",
     "text": [
      "--- Successfully Parsed Metrics ---\n",
      "   epoch  train_loss  val_loss  val_perplexity  val_accuracy\n",
      "0      1      2.9616    2.6513           14.17         21.77\n",
      "1      2      2.6379    2.5659           13.01         23.33\n",
      "2      3      2.5791    2.5193           12.42         24.34\n",
      "3      4      2.5480    2.4904           12.07         25.07\n",
      "4      5      2.5237    2.4670           11.79         25.63\n",
      "\n",
      "✅ Graphs saved to 'training_metrics_plot.png'\n"
     ]
    },
    {
     "data": {
<<<<<<< HEAD
      "image/png": "iVBORw0KGgoAAAANSUhEUgAAA9gAAAXACAYAAACtf+S9AAAAOnRFWHRTb2Z0d2FyZQBNYXRwbG90bGliIHZlcnNpb24zLjEwLjcsIGh0dHBzOi8vbWF0cGxvdGxpYi5vcmcvTLEjVAAAAAlwSFlzAAAPYQAAD2EBqD+naQABAABJREFUeJzs3Qd4VHXWx/GTZCYVQpESmvSmIth1pSgCi6IgKLrq2rCXVV/Lqij23tburq7urrr2jthAVARdGyioSJEiSJeePpm8z/nDHW9u7kxmkklm7uT7eZ48QyY302583/3dc/7nn1ZZWVkpAAAAAACgTtLr9usAAAAAAEARsAEAAAAAiAMCNgAAAAAAcUDABgAAAAAgDgjYAAAAAADEAQEbAAAAAIA4IGADAAAAABAHBGwAAAAAAOKAgA0AAFCDysrKRL8EAIAHELABIMm89tpr0rt372pfffr0kf3331+OPfZYeeKJJ6SsrKza71511VXm2Iceeijic7g9fqQvfdxI9PmsY4866qga3+OUKVNCx19++eVSX/72t79F9XlEsnLlSvMYgwcPjnjcF198EfPnquc63qy/gZdffrnWj2G9lxNOOEGSgXUOrK8ffvgh4vH638a+++4bOj4QCNTp+WfOnCkTJkxo8PMAAPAeX6JfAADA3S677CJ/+MMfQt8Hg0HZsmWLzJs3T+655x758MMP5emnn5bMzMyYH9stBH/22Wfy22+/yV577SUdO3as8jO9L1oLFy6UpUuXSteuXSMG7FTTqlUr18918uTJ5nbYsGGSk5NT5We77rprg72+VPL+++/L7rvvHvbnM2bMkG3btsXluVatWiVnnHGGtG3bNi6PBwBIbQRsAEhS3bt3N0Haafv27XLmmWfKnDlzTMDWf8fK7XFPPvlkE7CPO+44GTduXK1ec35+vmzdulXee+89Oe+881yP0df/6aefit/vl/Lyckn182UF7KuvvrrahYv6cOmll8pZZ50lbdq0qfVj7LnnnvLOO+9UuyCQaLm5uVJaWmr+vvR9hqOvPV5/X3phK1HnAQDgPbSIA4DHNGnSRM4//3zz72nTpkkyOeywwyQtLc0EoHCmTp1qWngHDRrUoK+tsdBAp2G/adOmtX4MDdb6GO3bt5dkou/pgAMOkOXLl8v8+fNdjykuLpaPPvoo4X9f8TgPAADvIWADgAcVFBSY28LCQkkm2kY7YMAA+emnn0wICtcerqFjyJAhYR9n8eLF8te//tWEpD322EMGDhwoV1xxhbnfzbp16+TGG2+UQw891FRftQJf08WH77//Xi666CI56KCDzHPoxYHbb79dNm7cKA3JWr+uVddJkyaZdvz99ttP7rzzztAxn3/+uXmtug5cX6seM2bMGHnssceqrcV3W/tr3aeh9M0335RjjjnGnCdd0/+Xv/xFFi1aVOMabOu+W2+9VZYsWWJej4Zd6/N+9dVXXd/f2rVr5YYbbpChQ4dKv3795Mgjj5TnnntOvv7666jW9zsdfvjh5jbcRRwN10VFReZ5wqmoqJAXX3xRxo8fbz5L/Tr++OPNmnj7MDM9N/p3Yb0Pfb36PuzrwvVi17vvvmv+9vT96TIBbU8PtwZbH/+VV14xn62eZz0Hf/rTn+Ttt9+uNkjtk08+Me3p1n8HhxxyiFx55ZXy888/x/SZAQAaDgEbADzIGvKkISnZRApAmzZtMmFR1yOHWzs+ffp0E9g0CLZo0cIEnJYtW8pbb71lgqEGKDsNOtrWrqFNH1NDiLYRX3DBBWFDtj62BqoPPvjAVGk1NKWnp8u///1vM0ROH7OhPfDAA+Z1HXjggeY1afVT/etf/5LTTjvNfC6dO3c2r7Vnz56yYMECuf/++yO2Sjs98sgj5sKFDv3S0KaVav0MNOCtWLEiqsfQixwaTDUgazDdbbfdzN/jxIkT5amnnqpy7LJly8yxzz//vGnZ1hCqIVIvhtx9991SG8OHDxefzxc2YFut7fpcbvS969/GddddZ2YF7L333ibk6uwAbePXL4sGZP1bVfqYGp6t7y16HnRQX+vWrc2507X44arWGuz1ua+55hpzEUo/P/1vWC98XHbZZXLXXXeFjn3jjTfknHPOMRc29G9Bz7u+Br1f/0b19QIAkg9rsAHAI/R/nOv6Zg2od9xxhzRv3tz8D/BkM3LkSPP6NAA5X5+GOQ04o0aNkvXr11f7Xb1Pg4ZWZfUxxo4dG/qZVv2uvfZa83OtGFpDp2655RZZvXq1nHjiiebnGRkZJsQ9+OCD8uijj1Z7Dq2+6nFZWVny97//3YQra62thly9T0OoBvaGpBX/l156yVSErdejlfl7771XmjVrJi+88IJ069YtdLwG3FNPPdW03K9ZsybU1RCJhnSdrH7EEUeY7/VChIb32bNnm/er1dGa6DA8/X2tZOuaaPXMM8+Y8/DPf/5TTj/9dLNMQGlFXiu/OoFbOxD0Iob6xz/+Iffdd1+tPie96KJBVid7a0jV6fr29f064ExDsPXanLTqrxdp9DH0s9CLN2rDhg1mzfTrr78u++yzj7kwMGLECHMBQS/U6HwBtzX2ejHmpJNOMoG9pjXb+jnpcMJevXqZz8r6G9aLG3qRQy9QaOVdB7g9/PDD5m9ZA3WPHj3Mcfp3fdttt5nZC3qs/jcCAEguVLABIEl9+eWXVbYm0v+hr6Hg//7v/0wA1f+B3hBDs2KloUGrgj/++KP88ssv1aqLGmi0LduNtu1qe68Ga3u4Vlq10/u0LV4rokqDpYYlrRpq5VEDidKApy3M+rk5/ec//zGfn7ZGW+Faafi75JJLzO9888038u2330pD6t+/fyhcW69HQ59WbLUN2R6ulW5DpZVsFW3FXaugVrhWepFBK/nK2SYejlaPr7/++ioBVh9Duwd0SJ5+KT3/+jes4dAerpVeeNH28nh3SWgQ1osG9vdop+ddz79W07WCboVrpX9DepFAPfnkkzG9nj//+c+hf9vfp5P1d6sXJ+xTyTt16iTnnnuuCd56Aci62KSftX1Imv5d63F64UK7OQAAyYeADQBJvE2XtqRaX1rZ0rZXDdUaQrVS+PHHH0sycgtAGha/+uor+eMf/2iCgxv9udJj3FjBSYOb/VYvPDhbzjWMWOtn7bTlVrkFPP0dXe9tf+yG4nYxQC+qaJVVq8z2TgZtvdbp5Lptm4p2WraGeCcrwOlwsGhom7p2T9jpZ6+VZfvjaKVbWe334f5GakMvOmhI1u26nBdwtNIcbs9yDf26PlovVrhN99bKsf53p63jbh0WbrKzsyNuSWfRSr6eNw3y9gsp9in+ek6trd70AkpJSYlZLqHV7Llz55rquL4+DfS6fhsAkHxoEQcAj237pLSNVde8ahVWQ0ayTXvWgKxVOg3YZ599trlP27o1HGp7eDjaEq06dOjg+nOrYm+FH+v4cHsUu1X4tZ1cOSvk4Y5rKM7QatHPTD9HHQ6nVWbdl1nb7JXViu0cjhWOtpo7WVX/aLej0gDrxrpoYj2O9fm1a9fO9fi6dF/o+9A94nUImK5F1srv5s2bTajXgBpufb9+dta6abcLGnb6+nVddU10vbV1HiKx/lbDfR5O+t+Pdi7o+nYdtqZf+jeiFw+0eq0XlQAAyYeADQAepOFQg7W2R+vwL20bTSYaTLQCp1VgXV+qLbBaXdQgrPeHU1NQtMKbFaBqCjZWeHQGVqVBP1I7r31tb0Nwey/aqaDrrLV6qZVSnSR98MEHm9ZwXSesLc1W1b+2zxGP1+nGqqqHO6fRXhQIRyvgGrD14oMGbF2Lrs8Z6QKO9fejF6T084skLy8vqtcR6W/I7e8uWrqmXiez6/nVtfN68UAvJuh/7/ql69qjWTMPAGhYBGwA8Chd26oBu6ErrbEEIA3YGoC0qjhnzhzT6hwpoGnbrrbn/vrrr6H1xXbWpGttk7VXrq3KZLiqofM59PEvvvhi0+6czHSQlYZrXbOuQ9uc1WMdepesrEqtftZudP18XeggM20T178vXW+vF3D07yLc+n5lVaQ1vIbrDqkv1nOHe9+6hEIHoOmFHauVX/9b0TkB1qwAXd+uoVuXDeh0eW0rT7buFQBo7FiDDQAeZe0zHW3LaSLaxLWCrJV2DUFasQw3fMpirSt1rq21aJu5sgKHtslqBVGre257gmuFM9xzuP1M6ZRybcHVsJNoelFC6ZpbZ7jWNb3WfsjRtnc3JCvo6ufs9vrq+vlqa7aul9fPQC/k6Np6628uHN2nWjsBdPq428UX/Uz1MfRCkPX3FI+qv7XsQS8I6fIG3ZbLSSvwOolc98PWrdD0otSZZ55Z5Ri9gKBLLrS9Xf970tcLAEguBGwA8CCdlqxfuu61LsOi6pOGAQ3C33//vdliatddd3Ud7mSn+1nrdGpdY65fdlq5032i9efW+mkdGKUtwTrsS/cW1inRFt3TWreyctKqn4Yw3ZJLtzxzTnnWgKNrnd0GgjU0a8q1dirYW6q1Yn/hhReG1mLr5Oxko/s765eGRd2Syx6y9e/BGtBXlwBr/e3rVPOa1vcr/dvRvzFtvdfJ5tbEc6WB+qqrrjKDyLQ93GoR10nrSn+nrhcyrGnjuk3cxo0bq3Rm6B7lerFIg3WXLl3MBQDdisw5KV3/e9KLCvperO27AADJgxZxAEhS+j+iL7/88ir3aaDSbXx0SJPS/Zrd2py1tVhDTDi333572EnL8aQBSEOstn1Hs05cK3x33nmnXHrppSbsaEjWCc36+1p1zMnJkbvuuqvKEDQd9qafh1a3teKrwVgDi06M3muvvUJVYIuuY9bf0fXLWqnUSd06cEufQ4O1hm/dwknDe6JpINP3pXuA617V2javwUzfkwZu67PR9uJkpHs26/7kTzzxhKnQavuzdl5oBVf/bvXf4SbKR0OnxOt6fP1vQjs5alpXbXUo6PP/73//M9PItaqtf1f6meqgNA23N910U5WLHNo9oO34ule1XiiqbXu5rpvWNdW6V7c+t16A0otCeiFIJ4Zrq7t1Eermm2823+tSBp1urn+jmzZtMlvI6cUE/RvWKj4AILlQwQaAJKXVNd22x/6lw450GyTdsuu///2v2arLjVbbNHSF+7JXeuuThggrQNVUXbSMGDHCBEp9j/oZaKVew43ug61VbH1MOw1Azz33nGmd1TW5Wu3V96dTmLVaGS646uenj2Xtpa2fmbaw63OH2yasoenFAn1vgwYNMp+Bnn8Npbr+WC+g6IUIpa8/WSfh6zkbM2aM2R5L28I1HOrFjZNOOskc06RJk1o/vv6udaFIL+ZEUw3XFnG9AKUdD7pdl65x1/ZyXZuvU/lffvnl0Bp/pVVlDdT6XvSizaxZs0Lbo8VK/1t47LHHzD7WeoFBLz5puNYLD/fee69ccMEFVf470P249f1px4J+dtoNoN/rhacTTjihVq8BAFC/0irrOsYTAADAQQO1BkPtNnAL0Rqyn3nmGVMtPv744xPyGgEAiDcq2AAAIO60lX306NHmS1uv7bRqrJVtXd88ZMiQhL1GAADijTXYAAAg7rQFWtucP/jgAzn00ENl7733NpVs3VZOA7a2Xmv1WrfMAgAgVdAiDgAA6oUO5dNp8G+88YaZzq1rl3V9sw4jO/XUU5NiUjsAAPFEwAYAAAAAIA5Ygw0AAAAAQBwQsAEAAAAAiAMCNgAAAAAAcUDABgAAAAAgDgjYAAAAAADEAQEbAAAAAIA4IGADAAAAABAHBGwAAAAAAOKAgA0AAAAAQBwQsAEAAAAAiAMCNgAAAAAAcUDABgAAAAAgDgjYAAAAAADEAQEbAAAAAIA4IGADAAAAABAHBGwAAAAAAOKAgA0AAAAAQBwQsAEAAAAAiAMCNgAAAAAAcUDABgAAAAAgDgjYAAAAAADEAQEbAAAAAIA4IGADAAAAABAHBGwAAAAAAOKAgA0AAAAAQBwQsAEAAAAAiAMCNgAAAAAAcUDABgAAAAAgDgjYAAAAAADEAQEbAAAAAIA4IGADAAAAABAHBGwAAAAAAOKAgA0AAAAAQBwQsAEAAAAAiAMCNgAAAAAAcUDABgAAAAAgDgjYAAAAAADEAQEbAAAAAIA4IGADAAAAABAHBGwAAAAAAOKAgA0AAAAAQBwQsAEAAAAAiAMCNgAAAAAAcUDABgAAAAAgDgjYAAAAAADEAQEbAAAAAIA4IGADAAAAABAHBGwAAAAAAOKAgA0AAAAAQBwQsAEAgOdUVlYm+iUAAFANARsAkHSuuuoq6d27d8Svk08+uU7P8dBDD5nHqe/fSWbXXnut7LbbbrJ+/fqwx5x77rkydOhQCQaDNT6enhP7edHPSj+zWH4nGosWLZITTjihyn3RPFe8NORzAQC8xZfoFwAAgNP5558vf/rTn0LfP/roo/Ljjz/Kww8/HLqvSZMmdXqO8ePHy6BBg+r9d5LZMcccIy+//LJMmTJFTjvttGo//+233+TTTz+V8847T9LTY78m/+KLL0pBQYHE23vvvSdz5sxpkOcCACAWBGwAQNLZddddzZelZcuWkpmZKQMGDIjbc2gYizWQ1eZ3ktlee+0l3bt3l8mTJ7sGbL1fK9fjxo2r1ePH83wl03MBABAOLeIAAM967bXXTIuzVmEPPvhg2X///WXx4sVSUVEhjz/+uBx55JGy5557mvClFfH//e9/Ydu9tU35mmuuMb93yCGHSL9+/czvzJ07t06/oz7++GMTUvW1/PGPf5S3335bhg8fHrbNWIOtPs/ChQur3D9t2jRzv1bz1X/+8x8ZOXKkeV6trN9www2yffv2mKvY33//vSxdurTaz15//XX5wx/+IO3bt5eSkhK59957ZcSIEbLHHnvI3nvvLaeffrrMnz8/6lbqVatWyYUXXij77LOPOV//+te/qv1OTc+jj2d1Mtgf3/lc69atk6uvvlqGDBliPvdjjz1WPvzww2qv77///a85h/q3oxccLr74YtmwYYPUlf4N6mMfddRR5vn17+Oee+6R0tLS0DEbN26Uyy67zHwWeg7HjBkjb7zxRujnenHjb3/7m2nR189Cb/WzKS8vr/PrAwDUDyrYAABP0yDz1FNPya233iqbNm0yFdm77rpLnn/+eRNeNEStXbtWHnnkEROeNOzm5OS4Ptb7779vfl/XJusQrTvvvFP+8pe/yPTp0yUjI6NWv6OhXlveDz30UPP8y5cvl+uvv75K0HIaNmyY5ObmmtbtXr16he7XYN6zZ09zUUH/fffdd8uVV15p3uOSJUvMcxcXF5vbaGmou++++0yov+iii0L3//TTT+brgQceMN//9a9/la+//louvfRS012g70N/pp+xvs60tLSIz1NUVCR//vOfxefzyc0332xazh988EH55ZdfTLC11PQ82qa/Zs0aeeWVV8K2hWtA1kCdlZUl//d//yctWrQwF2MuuOAC87cxevTo0LEaYPVih34GK1askNtvv92cN/2+Lq677jp588035ayzzpJ9993XXBTRv0G9UPDPf/7TfF5XXHGFacO/8cYbzZIHPV7Pp76nAw88UJ544gnzd6z3derUSb777jvzev1+f5VzBQBIHgRsAIDn6SAurRDaq5carOzDszRsafBdsGBB2HbiQCAgTz75ZGh9d2FhoQk3Goq0glib39GqqoZirbpaIXSXXXYxATIcvQCgle533nnHvA/rcT/66CMTEtWXX34pHTt2lJNOOsmEVa3AaijfsmVLTJ9dq1atzGengd0e2rSSqsFUq6ZlZWXm+fUiwhFHHGF+rs+n1fI77rjDBNrWrVtHfB6thmsFW5+nR48e5r7+/fubcGuJ5nnsbfrhzqNWxrU6rBc/OnToYO7TSra2wWvA1s4Ga025XsDQUG3R7gNd410X2kWhFwD0osDZZ59t7tMqdZs2bcwFhBkzZpjXo+dQz6deULHea/Pmzc1yCKU/178h7TKwfq5/G02bNq3T6wMA1B9axAEAnte3b98q32sb7amnnmpCllZDX331VXnrrbdCIS4cDX724Wlt27Y1t1oVrs3v6HPpMC5td7ZXeLWtWyu5NVWWtbprtZtre7M+nlV91QqntnVr67mG93nz5pl25NpMV9cAp5VirZBaXQFa0dbXoGFPv/QigoZe7QbQqvwLL7xgAn9Nn6lFz4NWpK1wrdq1a1clJMfjeaxgqlVxK1xb9LPTiela7bc4Q7qG90jnO9rnV6NGjapyv36v1fEvvvjCfH/AAQeYCzB6YUOXOegFBL04o23x1s9nzZolJ554oql6a3DXLgA9LwCA5EQFGwDgeVq5tdOwqW23eqsVPw11uo64pv2Tna3jVpUz0hZVkX5n8+bNJqxqxdpOQ5ZWKiPRcKVhXduidQ2v3moF06reagjV53juuefMlHUNahooL7/88lD1N1qDBw82FWgN1VpVnjlzpgl72o5t0Wnit912mwmneXl50qdPn9DnHs2e1FpZ14q4kz6vfc1zXZ/Hei5tqXar1qutW7dGPH913WPb6iJwVvX1oop+Btu2bTPfa7v33//+d3n33XdNtV2fW9e833TTTeZcnnnmmeYz0AtEun5blwRoN4RW+PUCCwAg+VDBBgCkFG0n1mBirWGePXu2ade12mwbkgZrXS/rHJplhe9INGxpRVrblXVtuVYynZVLbXXWgK0V0fvvv9+Edl3Xq9XfWGjwO/roo01Lul4Q0PZwrexa1WatpGsrs3YKTJ06Vb755hvzvLquPFoaLN2Gh9k/h3g8j2rWrJnr3t7WfW5BP570+e3PZ9HhZHourefXVm89X7peX0O2LhvQv1e9OGT9DegSAF0/rudfW9m1iq9LHaKt5gMAGhYBGwCQUrTyqaHtlFNOMQHRqijruteaqtHxppVqbfd1Tq/WQKVrt2uigVoHeulwLH0sbTW3XHLJJaH12BrUDj/8cDNMTR9X16DHSi9A6MAtrV7rIDgdEmbRKeM6lE3XE2ubt9XurtVmFU3FVyuuK1euNF0FFm3h//bbb2N+npr25N5vv/1Ma/6vv/5a5X5dJqBV5c6dO0t90k4DpRd47PR7vYChU9T1tek6bGu9d7du3cxANK1g61p1pRPpb7nlltDFGl0OoIFbK/CxTosHADQMWsQBACmla9euZk20tt5qZVa/tP1Wq9iqrutrY6Xra3VdtN5qaNXwZE3mrmnytg7g0mquVnE1QNvXemtg1WnkOjFcW7w1dOla7C5dupi2aqsirCE2mj2i9XPTiwHanq3sbea77767+Ry1RXnChAmmeqpVVQ3i1oTwaC4WPP3002abLh3cpu/lscceq3LBI9rnyc/PN7c6ME1b2p3t4Lqtl4ZpHWqmz6eVfa3K65pufX81BfRo6IWBf//739Xu1+3S9MLO2LFjzZR0/XvTwK9D7/T8aOu/HqOvQdv9NUBrWNYLCnqB4ZNPPpFzzjnHPJb+nk7I19Z2XVOunQk6wE0DvO4NDwBIPgRsAEBK0WqurknWadG6LZauYdWQ+uyzz5oKoQ7b0snYDUW3aNL10RqqtcKsa2snTZpkQqa+tmiCqU7Qtm8tZVU3teVYh4BpAM/OzpaDDjrItBxrW7rSz0Gnd+vk9GjoBYCJEyeaarb9tWnFVwfHaUA877zzTAu0hvZnnnnGXDzQz9S+P7gbHWCm+3ZrwNUt1fTiwnHHHWfCsVbOY3kereTrllZXXXWVec26/7edVql1eyt9LA2w+jnpRQf9PA477DCJB63065eTtn/rtm36HvX96Ppp3W5LJ4hrV4X+DVgBX9+nbgemfxvaOq5D3/SCgDV5XP9+9XPTx9AuBv3b1r9dnU4OAEhOaZV1neQBAADC0vZwrVRqddayaNEis346noEPAAAkHhVsAADqkVY5dXiYTvfWNmxt89XWaF1zO3DgwES/PAAAEEdUsAEAqEclJSWmBVjXgevwMV0PrGtwtc3X2jYKAACkBgI2AAAAAABxwDZdAAAAAADEAQEbAAAAAIA4IGADAAAAABAHBGwAAAAAABrLNl2//fab3HHHHfLpp59KaWmp7LfffnLllVdK9+7dXY/ftGmT3HLLLTJjxgxJS0uTUaNGyV//+lfJycmp1fPPmTNHdBac3++v4zsBAAAAAHhJeXm5yZV77bVXalSwL7jgAlm+fLk8/vjj8sorr0h2dracdtppUlxc7Hr8RRddZI7/97//bbZG+eSTT+SGG26o9fNruE7GYev6msrKypLytSEyzp03cd68ifPmXZw7b+K8eRPnzbs4d/UvljyY9BXsLVu2SIcOHeScc86RXr16mfvOP/98GTNmjCxatEj23HPPatXmL7/8Ut55551Qhfumm26SM888Uy699FJp27ZtzK/Bqlz369dPkklRUZHMnz9fevToIbm5uYl+OYgB586bOG/exHnzLs6dN3HevInz5l2cu/o3b968qI9N+gp2s2bN5N577w2F640bN5rKdEFBgfkjcvr666+ldevWVdrH999/f1PS/+abbxr0tQMAAAAAGo+kr2DbTZo0SV566SXJzMyUxx57zPUKzdq1a6Vdu3ZV7tPjmzdvLqtXr27AVwsAAAAAaEw8FbBPPfVUOf744+W///2vWZf93HPPye67717lGF2XrYHaKSsrywxIqy3tudf2i2RirUEPtxYdyYtz502cN2/ivHkX586bOG/exHnzLs5d/dMsqB3RKRewrZbwW2+9Vb777jt59tln5fbbb69yjA5A00X+Thqu67ImQSfH6dqGZLRs2bJEvwTUEufOmzhv3sR58y7OnTdx3ryJ8+ZdnLv65VbE9WTA1jXXn3/+ufzxj38Un2/Hy01PTzdhe926ddWO17XZ06ZNq3KfBu7NmzdLmzZtav06dNCZ25rvRNKrVPofUpcuXWq9BRkSg3PnTZw3b+K8eRfnzps4b96UrOetoqJCAoFAol9GUispKZFVq1ZJ+/btTbERsdGMmZGREfGYxYsXR/94kuQ2bNhgpn//85//lEGDBoWqyT/++KMMHTq02vG6R/Y999xjtunq3LmzuU+niqt99tmn1q9DWwKSdSqf/h/BZH1tiIxz502cN2/ivHkX586bOG/elCznTVty16xZY4pkiCwYDJqQqIVJLUQidjqvSwu14drAo20P90TA1unhgwcPlltuucV86VTxf/zjH7J161azF7Ze1dI/pqZNm5orNv3795e9995b/u///s/sfa3rpq+77jo5+uija7VFFwAAAICGZYVr7UDVwB9LwGlsNA/pclidOVVTJRbuc7aszmjnsOzaSPqAre677z6zVZeG5m3btsm+++5rBp1pG8TKlSvlsMMOM2uxx40bZ/7je/jhh+XGG280Q9H0D23kyJFy9dVXJ/ptAAAAAIgiMFrhepdddkn0y/HE56W02EjAjp21JEJDtv7N1fUz9ETA1uq0VqP1y6ljx46yYMGCKvfpf4gPPvhgA75CAAAAAPGgy0FVMrSqo3HI3fm3pn97dQ3YNOkDAAAASDq0hcOLf2sEbAAAAAAA4oCADQAAAABxdtVVV0nv3r0jftXWySefbB4/Wrr70kMPPST1Redi6fv54osvpLHzxBpshGf2ukvzSXkgKIUl5ZKX7ZeKYFCyMzm1AAAAQKJcc801ctlll4W+HzhwoEycOFGOOOKIOj+2huVY1gq/8sorZvgz6h8pzONrBbr16CmvfbxEJn+6RAqLyyUvxy+jB3WTY4f2lEw/UwQBAADQuJWUBSQjPb3Bi1E6qFm/nPe1bt06Lvs2x6Jly5Z1fk5EhxZxD6uUDHnto5/lhQ8WmHCt9Pb5DxbIK9MXmf9jAgAAADRWZeUV8upHi+XkG96Tk69/z9y+9tFic38yeO2112T48OFyyy23yD777CPnn3++uX/atGkyfvx4GTBggPTr189sR/zpp5+6toi//vrrMnr0aHOrj7XHHnuY47/55hvXFnG9Pe200+Txxx+XwYMHm8f/85//LD///HPo+I0bN5otknV75AMOOEDuueceOeWUU+rUZl5SUiL333+/2WJZn3PMmDHy/vvvV9lu7O6775YhQ4aY96BbLT///POhn//2229y0UUXmdez5557yp/+9Cf58ssvJdkQsD3M7/fJ5JlLXX/21qdLzJU6AAAAIBVUVlZKSWkg6q+iknJ5efqisMUo/Xksj6fPXx9++eUXswfzG2+8YULt999/L3/5y19k1KhRMnnyZHnppZdMBfqvf/2rlJWVuT7GmjVr5MUXXzQBVYO27u2sATzca/76669NANeQ/dxzz5nweuONN5qfBYNBOeecc2T58uXyz3/+U5566in59ttv6xxmL730UvMeJ02aJG+99ZYMGzZMLr74YnMxQenreO+99+Rvf/ubCd4a+nWbZn2tSv9dWloqzz77rPlcunbtai5IFBUVSTKhRdzDCovLQv/HovrPys3/0WjWhLUWAAAA8DYNilc+PFPmL9sY1fH5eZny5DXDzTLKcMWocYf0kDNunSpbC91Dq1PfLi3lzgsH1sv2YRoUO3XqZP49f/58E0JPPPHE0M+1enzWWWeZINyuXbtqvx8IBOT66683lV91+umnywUXXCDr16+XNm3auB5/1113SbNmzcz3Wg3WcK40SM+dO1feffdd6datm7lPK89aBa+tn3/+WT788EP5+9//Locccoi5Ty8i/PTTT+Y+Ddt6oUH3o+7YsaN5zRqw9fk1SCv9ea9evcznpHOodI37UUcdVed9q+ONgO1heTmZZs21W8jW+3Oz/Ql5XQAAAEAitWiaJVu2l0YsRm0pLDPHRRuw61OXLl1C/+7bt68JvlpdXrJkiakkaxC12qjD6d69e+jf1trv8nL399+qVatQuLaOt4798ccfzc+scG0dbwXd2liwYIG51TZ4u/3220/uu+8+8++TTjrJVLO1RVw/g4MPPthU8XfZZRfz8wsvvFCuuOIKU93Wx9GhcUceeWTSDW8jYHtYeXlAjhrYVV6YurDaz3TQmQ5w8LMKAAAAAB6nVWOtHpeWRb92OiMjPWIxqmV+ttxz0eCoHy8rM6NeqtehnYF20gryGWecYSq9GiS1SltcXGwq0pFkZmZWuy9ci7jbsRatCGubeEOorKwUn88XusjwwQcfmPc/a9Ys+fjjj+WJJ56Q22+/XcaOHWvWl+s6dP367LPP5F//+pc8/PDDpoW+Z8+ekixIXx6WJhUy7tDu8qfhvcz/kVB6e8KI3maKOFt1AQAAIFVouM3O8kX9pcUmLTq5sYpRsTxefYVrJ13zrIO8rGFkWsldvXq1+Vl9rQO369Onj2zbtq3K0LNNmzaZSnpt9d6557d98JrS9dU9evQw/3766adNwNb3q+vNdZ31QQcdJO+8845Ze65Be8WKFWabMx0Kp9Xu9PR0E8STCQnMw/Q/sKWLF8mgAR3lmEN7yvbiHWuu9f9YsEUXAAAAGjMtNmnRyVpz7ZUtbXWNtYZHDZ8FBQXyxRdfyAMPPGB+Fm7IWTxpuO/fv78JuboWXKvruj5bq+g1XWSYO3euGURm17ZtWxOwDz30UDNITR+jc+fOMmXKFLMuW9d3W5PLH3nkEfN8GvK1PV7Xo+v6c624z5s3z3wm+pq0ZX3GjBlmwNlee+0lyYSA7XE67n7JwrXywrSfZdCA9nLuuP60hQMAAADaCu3PkHGH9pDxh/UyA4B1RlGyF6N0K6oNGzbIueeea77XCu9tt91m1h9ryLSvta4vWj2/6aabTAVd1zjrwDUNvH5/5BlP99xzT7X7tL37jjvuMGut9UuHk23dutUMLNPn0dZva421rgPX6rQOZ9P9wk844QQz0VzpdHGtYp933nmmwq5rxPX5dCuxZJJW2RB9Bh6nf8hK92tLJnrFRq/qrCtpJo++9oPs3buN3Hj2QYl+WYjh3OkAB52WCG/gvHkT5827OHfexHnzpmQ6b1pAWrp0qRmqZV+bDHc6+Ew/M/2s4jFRWyvJ3333nRkiZgVqrZxrZVsnlR999NGSakpq+JuLJQ9SwU4BGek7WjUCFQ0zjAAAAABAatKhY7oft27dpRVkrSo/+eSTpk178ODoh8I1VvQSpwCdkKgqgjQjAAAAAKi9/Px8szf1t99+a6rVxx9/vGlZ1yFkLVu2TPTLS3pUsFOAjwo2AAAAgDg58MAD5YUXXkj0y/AkKtgpICNjR8CuIGADAAAAQMIQsFOoRTxQQYs4AAAAACQKATuFhpzplgMAAAAAgMQgYKcA384WcSrYAAAAAJA4BOwUkJG+c4o4a7ABAAAAIGEI2Ck05IwKNgAAAAAkDgE7hbbpYg02AAAAACQOATsFMEUcAAAASC4nn3yyjBs3LuzPr732WvnjH/9Y4+M89NBDMnTo0ND3vXv3ltdeey3s8VdddZV57miVl5fLv//977DPVx9OPvlk8zpTEQE7BbAPNgAAAJBcjj32WPnhhx/k559/rvaz0tJSee+998wxsZo5c6YcccQRcXqVIm+//bbcfvvtoe8nTJggr7zyStwev7EhYKdQizgVbAAAAKCqipISCQYCUrZli7nV7xuCVqebNm0qkydPrvazadOmSXFxsRx99NExP27r1q0lOzs7Tq9SpLKyaobIy8uTli1bxu3xGxsCdgq1iLMGGwAAAPhdsKxMVr72hnx5ygT56pQJ5vbX198099c3DcGjRo0yFWKn119/XYYMGWLC8sKFC+Wcc86R/fbbT/bYYw857LDD5Kmnngr7uPYWcQ3Hf//732XkyJGyzz77yNVXX22q43Zff/21nHLKKbL33nubxz/88MPlzTffND/Tx9HfsR73iy++qNYivnr1arn88svl4IMPlgEDBsgZZ5whP/30U+jn2uqtX3feeaccdNBB0r9/f/N+1q5dW6fP7+OPP5bjjjtO9tprLxk4cKCpspfYLo588sknpgVfn0+fV1/Dli1bQj9/8sknZdiwYeY96/t55JFHql1MqA8E7BSQsbOCrX8vFUGq2AAAAEg9Go60+hztV6CoSFa88pqsfPFlqSgsNI+htyteeElWvvq6+Xksj1ebcHbMMcfIihUrZM6cOaH71q9fL5999pmMHz/eVLG1Jbt58+bywgsvmDCuYVnD6vz582t8/Mcff9wEyUsuucS0defn58s777wT+rmGXA3E/fr1M6H+jTfekD333FOuueYa2bBhg2k1nzhxYqj1XMOs3fbt2+WEE04wj/PYY4+Z16gXDv785z/Lr7/+GjpOX/fmzZvl2WeflSeeeMK0xt9///1SW1OnTpXzzjtPDjnkEHMR4MYbbzTv69JLLzU/37hxo1x44YXm89X7H374Yfnqq6/krrvuMj+fPn26/OMf/zC/98EHH5gLBPr633rrLalvvnp/BtQ738412NY67Iz0jIS+HgAAACCeNNzOu+oa2fbTgqiO9+Xny75PPCar3/49bNqtmjxFOowdI1+fdZ4Etm6N6jGb9u0j/W6/RdLSfv/f3jXRMNurVy/TJm6FVw15u+yyiwwePNhUXLW6fNJJJ5nWbHXRRRfJP//5T1mwYIH07ds34mfyzDPPmIFhGso1+Go1WqvQFq1m/+UvfzEh23rdZ599tgnay5Ytk3333de0sSutpjvpa920aZMJuVbb+L333msqw//973/lr3/9647PpmlTuemmm8Tv90v37t1NcNcKc23phYPhw4fL+eefb77v2rWreb8XXHCBLF682AxmKysrk/bt20uHDh3Ml1byKyoqzPG//PKLZGZmmvv1GP1q06aNua1vBOwUkJH+eyNCoCIomX4CNgAAAFJMDME2s0VzKd+yJVS5dtL7y7dsNcdFG7BrS6usWk3VSrHP5zPhduzYsZKRkWFC64knnmgqwD/++KMJhlb7dbCG5Z8afLUari3QdtrGbQ1W23XXXU0b9dNPP21a0e2Pb4XRSPR3unTpUmVNtgZ5vXCgP7Po82i4tmjg1hBcW/rY2l5vt//++4d+pgH+yCOPlHPPPddcGND2da12ayhXo0ePlldffdWsg+/Ro4f84Q9/MP8mYCOmKeKKFnEAAACkGq2+avU46FhfHPF3MjIkIy/PNWTr/ZktW8ied/0+Pbsm6VlZMVWvLRr27rnnHpk1a5YJg4sWLTItzUoD8vHHH28CrK4T1rXG2s6t67NrYr0WZxDXEG/Raq8G+N13392EzBEjRkiLFi1Me3o0wrXF63Pan0erxfFU6fK81vu0nlcr6VrRnjFjhmm5v+KKK8w69P/85z/m89R15tqar5+7tr/rRQat5mtreX0iYKfQGmyrgg0AAACkGg2UGTFMz9Z10+2PGmXWXDvp/ZUVFTE9Xm1Z4VnXCrdq1coMM+vcuXOVtcvvv/9+qAKsreGqpjXfGpTbtWtnQqQGc8v3338feixdM63t6P/6179CP9f1yfbHj3TRQAefacX9t99+M49jtZ3rc9RmAnq09Hlnz54tp512WpVhbUpb0L/77juZMmWK6Qro1q2bOU7b2TVk62vVUL1t2zbTeq+hW9vudd9xPQcEbNRI/6PQddi6TVcFW3UBAAAAJjx3PGZsaM21VrK1cq3hWu9Pj3PVNRLd71oHbekQMq2iWgoKCsygM90TW4PgkiVLQntS6xrjmpx11llmIFqnTp3kwAMPNGu9586dax7Levw1a9aY9dDaKq3Dx2655ZYqj5+bm2tuNTTrMXZHHXWUaW/XIWoaXrVSrdO4i4qKTOW9LtauXWuqz066Nv3MM8+Uiy++WB599FEz9VzXi998881y6KGHmoCtLfDPPfecuZCgk8Y19Gt41nZ2vfCg3+vnouvadZ25fgY6BE3/Xd8I2Cm0VVegooIKNgAAALCThmgdZtZx/DGhgF0ZCDRouFZaYdYgq9VqXQts0eFkGnrvuOMOM7Fbh3Jp+/aHH34o8+bNMxO8I9EKbSAQMEPRNFAOGjTIhPmlS5ean+sANQ3tOoxMA7UGUJ3E/eCDD5rH1zCrwVy3uvrTn/4kd999d5XH17XUOhlcX59VTdbw/vzzz5tQXxefffaZ+XLSCr5+Rvfdd5+Z/K0hW7sAdM21VqKVhmzdTkxb7TVop6enm/ehE8z13/oZ6metv6vbjDVr1sw8pl7kqG9plQ2xGZjH6R+f0vUQyUSvHOn4fp0uOOHWj6SwJCB/v+ow6dC6SaJfGmI4d9ZVQyQ/zps3cd68i3PnTZw3b0qm86Z7HWtA1MnROlALkemwMv3M9LPSwWmI/99cLHmQfbBTqIKtqGADAAAAQGIQsFNsL2zWYAMAAABAYhCwUwQVbAAAAABILAJ2ivClE7ABAAAAIJEI2CkigxZxAAAAAEgoAnaK8NEiDgAAgBTCZkfw4t8aATvVKthB/g8RAAAAvMvv94e2DgMagvW3Zv3t1YUvDq8HSYA12AAAAEgFupdz8+bNZd26deZ73Zc7LW1HMQnu+2CXlpaaf7MPduyVaw3X+remf3Px+PwI2CmCNdgAAABIFQUFBebWCtkILxgMSiAQEJ/PJ+k7i26IjYZr62+urgjYKYI12AAAAEgVWrFu166dtGnTRsrLyxP9cpJacXGxLFmyRHbddVfJyclJ9MvxHG0Lj2fln4CdIjLSrTXYBGwAAACkBg0+tD3XXMFWWVlZkp2dneiX0+jRQ5AiMkIVbFrEAQAAACARCNgpwhdag00FGwAAAAASgYCdIqhgAwAAAEBiEbBTbJsu1mADAAAAQGIQsFNsmy4q2AAAAACQGATsFNumizXYAAAAAJAYBOwUQQUbAAAAABKLgJ0i/FYFmzXYAAAAAJAQBOwUwRRxAAAAAEgsAnaKYB9sAAAAAEgsAnaKyNi5TVeAgA0AAAAACeGJgL1582a57rrrZPDgwbL33nvLCSecIF9//XXY43/55Rc599xzZd9995WBAwea3922bZs0igp2kBZxAAAAAEgETwTsSy+9VObMmSP33XefvPrqq9K3b18544wzZMmSJdWOLS8vl7POOkt8Pp+8+OKLcv/998sXX3wh1157rTSONdhUsAEAAAAgEZI+YC9fvlxmzZolN9xwg6lId+3aVSZNmiRt2rSRyZMnVzt+8eLFsmzZMvnLX/4i3bt3N79z0kknyaeffiqNYw02FWwAAAAASISkD9gtWrSQxx9/XPr16xe6Ly0tzXxt3brV9fj09HR56aWXpKysTDZu3Cjvvfee9O/fX1IZa7ABAAAAILF8kuTy8/NlyJAhVe57//33TWV74sSJ1Y4vKCgw7eD33HOPPPfccxIMBqVXr17yyCOP1Ol1VFZWSlFRkSST4uLi0G2wotz8u7QskHSvE5HPHbyD8+ZNnDfv4tx5E+fNmzhv3sW5q3+aBbXAG420Sj3aQ2bPni1nnnmmHHzwwfLQQw9V+7lWrW+55RYpLS01reGbNm2Su+66S1q1aiVPPfWUZGRkxPyc8+bNM4+bzGb/XChvfbFJerXPlhMPaZXolwMAAAAAKSMzM7NKV7VnK9h206ZNk8svv9xMEtcKtZt///vfZqjZO++8EwrTXbp0kREjRshHH30kw4YNq9Vz+/1+6dGjhyQTvUql6831/a0r2SQimyQnN88MgUNys5+7nJycRL8cRInz5k2cN+/i3HkT582bOG/exbmrfzrnK1qeCdjPPvus3HrrrTJy5Ei58847zRUEN998843stttuVSrVnTt3Nmuz9Q+vtrQlIDc3V5KR/oeUm7OjJaRSkvd1Isy543x5DufNmzhv3sW58ybOmzdx3ryLc1d/om0P98SQM6VrqW+++WbT8q1bdYUL16pt27ayaNEi0ydvWbt2rdlLW6/qpCrfzm262AcbAAAAABIj6QP20qVL5bbbbpPhw4fLOeecIxs2bJD169ebr23btpm10fpva420hnAdgKZbef3888/y7bffykUXXSR9+vSpNiwtlWTs3KaLKeIAAAAAkBhJ3yKuE8PLy8tl6tSp5stu7Nix5uuUU06Rp59+Wg444ADp3bu3PPPMM6bSffzxx5tWiYEDB8oVV1xh1lGnegWbgA0AAAAAiZH0Afvcc881X5EsWLCgyvcDBgwwgbsxyUjfUcGuqKBFHAAAAAASIelbxBEdKtgAAAAAkFgE7BRbg00FGwAAAAASg4CdahXsIBVsAAAAAEgEAnbKrcEmYAMAAABAIhCwU24NNi3iAAAAAJAIBOwU4fPtOJVUsAEAAAAgMQjYKdYiHghSwQYAAACARCBgp1iLOBVsAAAAAEgMAnaKbdOla7ArK6liAwAAAEBDI2CnWAVbBWkTBwAAAIAGR8BOsTXYinXYAAAAANDwCNgpWMFmHTYAAAAANDwCdorIsAVs9sIGAAAAgIZHwE6hFvG0nV3iVLABAAAAoOERsFNIRvqO00kFGwAAAAAaHgE7hfh2btVVEaSCDQAAAAANjYCdguuwA7SIAwAAAECDI2CnYgWbFnEAAAAAaHAE7JRcg00FGwAAAAAaGgE7JddgU8EGAAAAgIZGwE4hrMEGAAAAgMQhYKcQ1mADAAAAQOIQsFMIa7ABAAAAIHEI2CmENdgAAAAAkDgE7BTCGmwAAAAASBwCdgrx7QzYrMEGAAAAgIZHwE7BFnEq2AAAAADQ8AjYKdgiXhEkYAMAAABAQyNgpxDfzini5QFaxAEAAACgoRGwU0hGaIo4FWwAAAAAaGgE7BQccsYabAAAAABoeATsVKxgM0UcAAAAABocATsF12BTwQYAAACAhkfATsk12FSwAQAAAKChEbBTCGuwAQAAACBxCNgphDXYAAAAAJA4BOwUwhpsAAAAAEgcAnYKYQ02AAAAACQOATuFsAYbAAAAABKHgJ1CWIMNAAAAAIlDwE4hLZtmS35eJhVsAAAAAEgAXyKeFPGTnZ1tTmIwEJCBPfNlyDWHycpVWxL9sgAAAACg0SFge1haWpr06tZdVr3+hqx++x2pKCyUjLw8KTjyCAl2GCfpmZmJfokAAAAA0GgQsD0so7JSVr3xpqx88eXQfRqyf33xZUlPS5MOY8dIRnZ2Ql8jAAAAADQWrMH2MJ/fbyrXblZNniJpPq6fAAAAAEBDIWB7WKCw0FSs3ej9+nMAAAAAQMMgYHuYLy/PrLl2o/en5+RKWXlFg78uAAAAAGiMCNgeFigvl3ZHHuH6s4JRR8i3P62RV6YvkpKyQIO/NgAAAABobAjYHlaRlibtxx0tHY8fH6pk622H48ZLq9Gj5cl3F8pbny6RjHROMwAAAADUN6ZgeVhlZaUsW7lSOo4cKR3HHS3lW7ZKevPmMvenNXLno5/LynXbzXFFJeXSrElWol8uAAAAAKQ0ArbHFRUVibTJkK/POk8yWzSXv+UfJpuKf193nZfjl9xsf0JfIwAAAAA0BvQOe1wgEJCgP1PKt22XouW/SPm2bVV+PnpQN6kIBhP2+gAAAACgsSBgp4D0tKD4mzYx/27pqwhVrk8Y0VuOHdpTsjNpVAAAAACA+kbySpG12P78phLYulVuOGkPCXbpJS3zs6QiWCmZ/oxEvzwAAAAAaBQI2CnC17SpuX3j3bnyXeZGOX54bxk0oEOiXxYAAAAANBq0iKcIrWCr3MoyWb5mm6z5rTDRLwkAAAAAGhUCdopVsPPTys3ths3FCX5FAAAAANC4eCJgb968Wa677joZPHiw7L333nLCCSfI119/Hfb47du3y/XXXy8HHnig7LPPPnLuuefKihUrJJX5dwbsvModAfu3LSUJfkUAAAAA0Lh4ImBfeumlMmfOHLnvvvvk1Vdflb59+8oZZ5whS5YscT3+L3/5i3zxxRfyyCOPyH//+1/Ztm2bnHfeeRJM4e2qrAp2dsWOYP3bFirYAAAAANCQkj5gL1++XGbNmiU33HCD7LvvvtK1a1eZNGmStGnTRiZPnlzteA3Wn3/+uTzwwAOmet2nTx+58cYbpbCwUJYtWyapHrAzy3YE7A1UsAEAAACgQSX9FPEWLVrI448/Lv369Qvdl5aWZr62bt1a7fiZM2dKr169pHfv3qH7evToIR999JE0hhbx9JIdw802byuV8kBQ/L6kv4YCAAAAACkh6QN2fn6+DBkypMp977//vqlsT5w4sdrxS5culc6dO8tzzz1n2sM1hGsl++qrr5a2bdvWaa/poqIiSSbFxcWh24pMv/l3cPs28TdPN+F61bpN0rp5ToJfJWo6d/AOzps3cd68i3PnTZw3b+K8eRfnrv5pFtQCbzTSKvVoD5k9e7aceeaZcvDBB8tDDz1U7eennXaa/PDDD6aCfckll5j77rnnHtm0aZO89dZbkpWVFfNzzps3T8rKyiSZBdetl7K/PyGSkyP/6P0n2bS9QiYMby27to79/QIAAAAAfpeZmVmlq9qzFWy7adOmyeWXX24miWtoduPz+aS0tNQMOGvWrJm57+GHH5ZBgwbJ9OnT5fDDD6/Vc/v9ftNqnkz0KpWuK+/SpYv42rWT7/XOkhIp2CVPNm3fKk1bFEjfvgWJfpmo4dzl5NBl4BWcN2/ivHkX586bOG/exHnzLs5d/Vu8eHHUx3omYD/77LNy6623ysiRI+XOO+80VxDcFBQUmFZwK1yrVq1aSfPmzWXlypW1fn5tCcjNzZVkpP8hZVvvt7JS2uf5ZL6IbCsOJu1rxu/njnPkPZw3b+K8eRfnzps4b97EefMuzl39ibY9XHliApaup7755pvlpJNOMlt1hQvXar/99pNVq1bJunXrQvfpv7VFXNdmp6p0n08ydv4H1SorKPl5mRIMeqr7HwAAAAA8LekDtg4tu+2222T48OFyzjnnyIYNG2T9+vXmS/e31rXR+m9rjbS2gGt7xMUXXyzff/+9/Pjjj2Yfbd3e65BDDpFU5mvaxNwe2C1fnrxmuAzeq6MZdlZSFkj0SwMAAACAlJf0LeI6Mby8vFymTp1qvuzGjh1rvk455RR5+umn5YADDjDV7X//+99yxx13yKmnnmomvulAtHvvvTdi5TtVtuoqXbtO5s5dJte+s1oKi8slL8cvowd1k2OH9pRMf0aiXyIAAAAApKykD9jnnnuu+YpkwYIFVb5v3bq1CdSNTXrejgr2V98slcL87ubfGrKf/2DH5zPu0B6SnZn0pxwAAAAAPCnpW8QRPX9+U/Hl50vngnyzBtvurU+XSEY6pxsAAAAA6gvlzBTSfsxo6XnhebLHlm0yoXkzmbtgrTz57kJZuW67qWQXlZRLsybsiw0AAAAA9YGAnSJj44NlZbLpq6/kx+tvlIrCQsnIy5OCUUfI3eePlise/Vw2bSuV3Gx/ol8qAAAAAKQsAnYKyKislBWvvCYrX3w5dJ+G7F9f2vH9GYcfLAtXF0pFMCh+VgUAAAAAQL0gbXmcz+cTn98vq99+x/Xna6a8IwP6FJgp4gw4AwAAAID6Q8BOgYAdKCw0FWs3en+wuIgtugAAAACgnhGwPS4QCIgvL8+suXaj92fk5jb46wIAAACAxoaAnQIBO1BeLu2PGuX683ZHjZLy0nIpDwSlpCzQ4K8PAAAAABoLFuWmgIq0NOl4zFjz71WTp4SmiLc78ghpdeRR8n+P7JgiPnpQN7MWm3ZxAAAAAIg/AnYKqKyslPTMTOkwdox0GHe0lG/eIv7mzWXOT2vkjkc/N/tgq+c/WGBuxx3ag4FnAAAAABBnpKwUkpGdLUv/84xs/ma2fJXeXiZn9Kp2zFufLpHxh1W/HwAAAABQN6zBTjGZzZtL0fJfJH39atefFxaXS1FJeYO/LgAAAABIdQTsFJNdUGBuW1a4b9uVl+OX3Gx/A78qAAAAAEh9BOwUk9OurbltFdyx7tpJB51VBIMN/KoAAAAAIPURsFNMVtsdATujtEROGtzJVKyV3p4woreZIs6AMwAAAACIP5JWisnIypLMli2lbONGGd4zV44ZNVI2bSuR/NxMKSwpY4suAAAAAKgnVLBTUHZBW/Hl50taUZH4felSXBIQSdPtvNKkPBCUkrJAol8iAAAAAKQcKtgpqMuEUyW3UycJFBZKsDwgGcFymfjYLFn0y2bTKq7rsLVVnGo2AAAAAMQPATvFBMvKZONX38gP198sFYWFkpGXJwWjjpCbJoyWKx79XFau2y7Pf7DAHDvu0B6sxwYAAACAOKFFPIVUlJTIildek5UvvmzCtbmvsFB+fell2fDWW3LG4b1Cx7716RLJSOf0AwAAAEC8kLBSSJrPJ6vffsf1Z2umvCN79m4r+XmZ5vvC4nIpKilv4FcIAAAAAKmL/uAUomuurcq1k95funW7tGiaZb5v37qJ5Gbv2MILAAAAAFB3BOwU4svLM2uu3UK23p+d30ROO3J32aPbLrK9eEf1WieKsw4bAAAAAOqOZJVCKgMBaX/UKFnxwkvVflZw5BESDATkp2Ub5Z7/fmNaxJkoDgAAAADxQ8BOIRnZ2dLxmLHm36smTwlNEW931Chz/ztfrpQXpy0MHa8hm4niAAAAABAfJKoUk56ZKR3GjpGOx46Tso2bxN8s39wfTPfJf9/7yfV3dKL4+MN+nzAOAAAAAIgdU8RTtJItaWmy4K575NtL/yplmzebieFasbbTieKdC5pKRnoaE8UBAAAAoI6oYKeodJ9Pupx+qjTp0V0CRUXSNCtDbj59H/nHlB0t4aeO2k0G9GwtW7aXSrOmWVJZmehXDAAAAADeRsBOUcGyMtk8d57Mv+3O39diH3mE3HvBGKlIy5A3Z/ws978wh2FnAAAAABAnBOwUVFFSIitfe0NWvvjy7/cVFu78Pk0yBg9j2BkAAAAAxBlrsFNQms8nq99+x/Vnq9+eIm1bNzXrr51rsT/6ZqVkpPMnAQAAAAC1QakyBQUKC03F2o3eX7J1u7RommWCdZW12E2ypLQsIH7f7+EbAAAAABAdAnYK8uXlmTXXbiFb78/ObyI5WT65dsIBMvnTJazFBgAAAIA4oB84BVUGAtL+qFGuP2t31ChZt2GbHDO0pwnXuhbb2r7LWov9yvRFUlIWaOBXDQAAAADeRgU7RffB7njMWPPvVZOnmEp2VkGBdBhzlLQdNlQCaRnSuo2YyrWdtoxr67iuxR5/WK8EvXoAAAAA8CYCdopKz8yUDmPHSMfxx0hFcbEJ3YHthSLp6ZIRKJfCivRQ5bpjmyasxQYAAACAOiJgpzAN1boftlaxdaq4tR+2to93OGas9Ny1uRSXBOSOCwayFhsAAAAA6oiA3Qj3w17xwktSKSKXHTtMVmwqC63FtrAvNgAAAADEjiFnjXU/7MlTpF2bZrJ37zby9qylVX7GvtgAAAAAEDtKk414P+yKokIp8eWwFhsAAAAA4oCA3Qj3w/bl50t2+3bmZzmSbtZc6/Rw1mIDAAAAgEcC9vfffy+rVq2SAw88UPLz8xvyqRv1fti65lrldOwgnU/5szTvv6epbktlpUh5qfx5ZB9p1TzHdS32lFlLTSX7sP06sRYbAAAAACKot8S0bt06ueyyy+Sggw6S888/X5599lm59dZbpbKyUpo3by7PPPOM9OzZs76eHo79sDd+M0d2n3S1rHr7HVn0wMNVJooffsxYqUjLqLIvdpV28cJSsxa7pCxAyAYAAACAMOptgtXdd98tS5culX79+kkwGJS///3v8oc//EHeeOMN6dGjh9x777319dRw2Q97j5uvl1VT3pWVL70Sahm3Jor/+urrUllWWmUttraLL16xWU67+QM589ZpcvIN78lrHy2WsvKKBL8jAAAAAGhkAXvmzJly5ZVXyqBBg2T27NmyYcMGOeWUU6RPnz5y5plnytdff11fTw2XSna63x92orjuk+3PzJSCXfLM91q5ttrFrdCdkZ4mn81dZe7XSjYAAAAAoKp66/ctKiqSgoIC8+8ZM2ZIZmamWXut9N/aKo7EThTXYWeZLZpL2abNEigqlKOHdJfn3v/JtIVb7eLVJos3zTJLtwEAAAAADRSwu3TpYqrUAwYMkPfff1/2339/ycrKMj976623zM+RmIni9mFn5Vu2iL9ZM3PBY/j+u5pjdc21Vq6tVnEmiwMAAABAAgP2WWedZVrEn3zySVPNvu6668z9xx57rPz4449yzz331NdTI8JE8Q0zZ0m/2252HXamA9GG7ddJ0tN3bN1lbxW3WK3iWf4MGTWwK0PPAAAAAGCnektHRx55pLRr106++eYbU73WSrbab7/95KKLLpLBgwfX11MjwkTxXQ460IRrHXZmsYadKR2IVi4+GT+0J63iAAAAABCDei0/7rPPPubLEggE5JxzzjHbdCExE8VzOrSX1VPeDTvsrOP4YyTb5zNt4FsKy2gVBwAAAIBETxHXMP3www/L5MmTzfdffPGFHHzwwWZf7FNPPVW2bNlSX0+NCAJFRdWGnVn0futnfn+GNGuSVa1VnKniAAAAANDAAfvBBx+Uxx57TLZu3Wq+v+WWW0zl+uqrr5ZffvmFfbATPOysyn35+ZLbeVfJKiio8rOKYDDUKv72rKXmPq1mX3P6/vLkNcNl0oQDzDpsWsUBAAAAoB5bxKdMmSKXXnqpnHTSSfLzzz/LokWL5I477pCjjz7aBO277rpLbrrppvp6etQw7EzXXDuniWe2aCHBsjJJ9+34s9ABZrSKAwAAAECCA/a6deukf//+5t8ff/yxmUxtDTbT/bG3bdtWX0+NKIad+fKbSutBA826a7dp4rpeO1KreOjxmCoOAAAAAEa9paE2bdrIypUrZd9995Xp06dL3759pWXLluZnc+bMMSEbiaHhuc2hh8ivb7wVcZq4hnFnqzhTxQEAAAAgAdt03X777WbImW7VZe2Dfeutt8rzzz8v5557bn09NaIM2avffifiNHELreIAAAAAkMCAfckll0hubq589dVXctlll8mJJ55o7p83b55MmDBBzj///Pp6akQhYJsYbh92ltmiuZRt2mx+lt6sWehnNbWKa8ieMmupOeaw/TrRKg4AAACg0am3FJSWlmb2vNYvuxdeeCHmx9q8ebPcd999Zi339u3bpXfv3ia0a/t5TXSS+f333y8LFiyI+XkbwzRxDdLOYWf+Zs2k0qXf261VvFq7eGGpZKSnm627CNkAAAAAGpN6TUAbN26Up556Sr788kuzXVeLFi1MKD7ttNNkl112ifpxdBr5+vXrTcjW33vmmWfkjDPOkNdff126desW9vfmzp1r9uJG+GniG2bOkn633Syr3n4n4rAzt1Zx5dYuXrBLnhw9pLsM339X2sUBAAAANBr1tg/2mjVrZOzYsfKf//xHsrKyZLfddhOfzyf/+te/zFZda9eujepxli9fLrNmzZIbbrjBhPOuXbvKpEmTzBA1Xd8dTlFRkVxxxRVRVbkb8zTx3ldcZsK1DjuzWsatYWcrX31dKkpKqvyevVVc2dvFWzTNMntkP3TZIbJvnzbm50UlO4I4AAAAAKS6eqtg33333SZQv/POO9KpU6fQ/StWrDBrsP/2t7+ZfbFrolXvxx9/XPr161el/Vy/tCoejg5T69Wrlxx66KHyv//9Lw7vKPVodTqnQ3tZPeVd17XY6z6eUWXYmb1VXCvZuubaahenkg0AAACgsau3gD1z5kyZOHFilXCt9PsLLrhA7rrrrqgeJz8/X4YMGVLlvvfff99UtvXx3XzwwQfyySefmAr3Rx99VId3kfoCRUWhyrXbWuxgSYmkN2lS5Xe0VVynhWslW9dca5i+5E97hSrZGrb1e2sLL6uSnZu9o+oNAAAAAKmo3gJ2RUWFqT670f2wdVhZbcyePVuuvvpqGTFihBxyyCHVfq6t57olmAb4cM9fGzr0S9vOk0lxcXGV29rIzs01a661Yh1uLXaHY8ZKWUVFlcFn2kFw6N4dxO/3mUp1tJXsikCZ6wC1xiYe5w4Nj/PmTZw37+LceRPnzZs4b97Fuat/ml80/yQ0YOukb60gDx48uNrP3nzzTdO+Hatp06bJ5ZdfLnvvvbfcc889rm/8qquuksMPP9z1eeuivLxc5s+fL8lo2bJltf7dbrvuKu2OPEKadO8WWottsdZi6+eaP+wwWbLil2q/v2uXbnL04G6mUh1NJbu8QmTF8qVS4ljb3VjV5dwhcThv3sR58y7OnTdx3ryJ8+ZdnLv6lWkb/pyQgK37XOuk7y1btsgRRxwhrVu3NpPAp0yZYtrHH3zwwZge79lnnzXrqkeOHCl33nmn6xtctWqVfPbZZ6bK/cYbb5j7AoGAud1rr73kxhtvlNGjR9fq/fj9funRo4ckE71Kpf8hdenSRXJycmr1GHolJv/YcaLXY7Ry7aTrsTd/N1c6jT9G+jbJc/394Qd0Nv+uqZKtg9F07faxQ/s0+kp2PM4dGh7nzZs4b97FufMmzps3cd68i3NX/xYvXhz1sfUWsA8++GAzxEwrzTNmzAjd36pVK7n99ttl+PDhUT/Wc889JzfffLOcfPLJcs0114Qtz7dt29asv7bT7/U1aOCOZWswJ33O3NxcSUb6H1JdX1vZ5i2htdhu67FVVnq6mT7uRtdYaxu4WyXbkpGeJp/NXSVZ/gwZNbCr5LBPdlzOHRoe582bOG/exbnzJs6bN3HevItzV3+ibQ9X9ZpwdDuuMWPGyJIlS0wlu1mzZmbfap3qrVttaWiuydKlS+W2224zgfycc86RDRs2hH6WnZ1ttgCzHlur2p0776imWqxQ7bwfVfma5Jk11xqyNVxHuze2RQeY6RprZyVbaTVbt/OyWsWbNc2SRly8BgAAAJCi6m0fbHva7969u1k3rbf6/cKFC+WVV35f6xuJTgzX9c9Tp06VgQMHVvnSlvE5c+aYf+staq8yEDABWmnl2rk3dlpGhvz2+f/M/c69sS26FVegIlilkm21ii9esVlOu/kDueGf/5N5izeYavbmbaVSHghKSdmONn4AAAAA8LKk79E999xzzVckCxYsCPuzcePGmS9Epq3fpjqdlWXawq312G5bd0VaO22vZOuaa61c24eeWeuy731uNntlAwAAAEgpSR+w0XC09bvdqMOlorik1q3iSoOyrskeP7RnlVZxZ9hmr2wAAAAAqYSAjSoysrJMO7gGaXuruHPrLtVh7JiwQ880KOvE8C2FZaZSnZ+XGfVe2VSyAQAAAHhRva/BhjfXY3c8dpxpC1895d1q23bldt5V1n08Q9J8ka/P+P0Z0qxJlmkVb9E0K7Qu217J1vuvOX1/eeiyQ2TfPm1ClWwAAAAAaNQV7FNOOSWq49asWRPPp0WcaVVa28DLt24NDTlzW4sdLCmR9CZNIj5WRTBoKtlTZi01YbumvbKpZAMAAADwqrgG7EjDr5z7VesXkle63y/+/HzTKp7Zonmt1mKr7EyfHDu0p/n3vJ83yBhtG3fZK5s12QAAAAC8Lq4B+5lnnonnwyHBKisqTIjO69a12lpsa9sunTre7oiRYddiK61Ejzu0h2Skp0uwslJ0m/aaKtnaVq5D0rT6ra3mAAAAAJDsGHKGGrfuUrXdtsteybZoZdq+V7a9kq00cOs6bVPNLiwzreXByqBk+flzBQAAAJC8GHKGiLT9O1BUXGXbru2Lf5avJpwt35x9vrld9cZbEiwri/oxrb2yW+RnhyrZb89aan5mVbMXr9gsE/8+Sxav3GzWcW8rLJfyQFBKywP1+G4BAAAAoPYI2KiRr0letW27rOFn1rZdK199XSpKSqJ+TG0bD1QEq1SylTVhfNbcVXL9GQfuCNqPVQ/aJWUEbQAAAADJhYCNBtu2K1IlW9dcW3tlazXbLWifdtMHcvrNH8j5d02XD79aIWXlFXF+pwAAAABQeyxqRYNu2+VWydY12TrM7LO5q0w1OyM9LTQAraZJ48Wl5ZKTxaRxAAAAAIlHwEaDbtsVrpKtW3ll+TOkWdMsad+6SbWgbZ80/tKHC+W4w3qZYwuLA+LLyDDt4/ZBagAAAADQ0EgkiMu2XRqyV7/znqlktxl6SMRtu8JVskcN7Co6kPzA3QvM5HAraNsnjWvLuH1LrxZNs2TCUbtL/56tZfO2UtNqTtgGAAAAkAikENRp267q7eJbJS3DZwaexRqyrVB81KBusmrDdtl/t7YmaNv3zHa2jFth+97nZpsgrsfq4DRd262hHQAAAAAaCgEbMdH277LNW6qsxY5nu7jSYNxulzwZM7i7CdpjBnWr1jKurEForM8GAAAAkAyYIo5ab9ul3LbuSsvIkN8+/5+5P5atu+yyMn2hoD3iwM5m0ri9Zdw+cdy5d/bS1VslWFlp1mezdzYAAACAhkIFG7Xatksr1LrmWtvCrXZxt8nilbqoug40aCudNG6tzdZ11rr2OtL6bGsQ2oBerWV7UbmkN0mXYGVQsvz8yQMAAACoH1SwUeu12LuecLxZc62Va6tVfPvin+WrCWfLN2efL3MuvkzWf/SJBMvK6vycOmlc12av2VgoRx7cVTZtK62yPjvc3tkTH5sli1duNoPPthWWm4p2SRkVbQAAAADxRzkPtaJrq3VauA4003Zxe6u4qWRffGGokq0CRUXiy82t03NaLePHDesl6elpMu/nDa7rs8NNHNdqt1a/xw/tafbd9jMEDQAAAEAcEbBRp0q2rrHueOy4UKt4fQw9c2sZH3doD8lI17bvSkkTcd072z5xXOlaba1ym0FohWWmAk7bOAAAAIB4oUUcdQ7ZGp4DhYUmTLsNPdPbFS+8JCtffb3WQ8/ctvTy+9Ily58hgYpgtb2zraCtrePKOQjN2TbOIDQAAAAAdUXARp2l+/3iz8+XrIICU8lePeXdKj/35edLbuddZd3HMyTNF/9qsX19trV3tn3iuIp2fTZBGwAAAEBt0RuLuKisqJAOY44ya67te2Q7p4oHS0okvUmTuD+/c+9sK2jrmuua1mczcRwAAABAPFDBRtxaxdsOGyqZLVqYNddhp4rPmBmXqeI17Z2tQduaOG5t6WVvG2fiOAAAAIB4o0SHuNEBZjotXNdk53XrWu9TxWsahGZNHM/J8kmzptXXZ0eaOK6hfMJRu0v/nq1l87ZSUwmnqg0AAAAgEirYiCsNzTotvMVeA8xabLdK9pennSlr3vtAguU71kfXF6uiPWpgV6mslIiD0KyKtk4c13CtYXvB8k1y1aMz5aflG6lqAwAAAKgR5TjUSyW7bPOOtdhaubYq2dXWZW/daoaj6fptbTGvLzpxXOkgNPv6bLeKtrK3jzv30S7YJU+OHtJdhu+/qwnvAAAAAGAhYKNe+JrkhaaK637Yym2PbD1Gh6Pp+u267pFd20Fo9onj+XmZrvto6zZf+r3ZQ3t7qXm84tJyycny1+trBgAAAOAdBGzUi8pAoNpUcfse2Q29LtttfbbbxHHnQDQN2tYe2vaJ47qmu7A4IL6MDNZmAwAAADBYg40GmSque2Fbe2S7rcue/Zf/k/Ufz6i3CePRThzftK20WlWbieMAAAAAokHZDQ0yVfy3z/8Xqmbb12UnqpIdbuJ4enqazPt5Q6iqrWuumTgOAAAAIBokADTIVPH0rCzxN2tWZV2225psrXZrIDe/U89rst2C9rhDe0hGerrs2bO1rN6wXcYM6hZ2ay9rbbYVtp+fusC0jw/o1Vq2F5VLepN0gjYAAADQiNAijnqnQbndESOlsrKyyrps+5psa512WkaGqXbr/RUlJQ3+WnXiuN+XLlk728dHHNhZWuRnu27tpaJtHy8tp30cAAAASHWU1tAgrG24dF22cpswHtq+a8sWU+3WQJ5IVlW7qKS82h7a4SaO29vHrYFo4Sra2fW4NRkAAACAhkcFGw1ezQ46Jow7h579eNOtsuX7HyQ9I8Psp63HJ6KabcnN9ps9tHUQWqSJ41rVrqmiXVQckOLSgPgzs6V9p27mluFoAAAAQGqggo2ErMu2Ktm65tq5fZe1LnvhfQ80+F7Z0e6hrRPH3/18WZWqtts6bWdFW0P3q9MXmTCuVXAdonb0kO4yfP9dzXMAAAAA8C4CNhI6YbzjseOqtIonw17ZtZ04Hilo60C0a07fv8pwNP3ZXr1aS2l5haSlpTGBHAAAAPA4WsSRMBqUdWJ4oLDQVKqTba/smvbQ1onjA3q1kdE799EOF7S1Wm2t19Z/W5PH120skpKyCnlrxhK58pFP5aflGxmMBgAAAHgYARsJle73iz8/37SKZ7Zo7jphXO/vM/FK2euBe6XFPnuFKtmJ5pw4PiZM0NZWcGu9tv7bWqfdpmVuVBPIWaMNAAAAeAMBGwlXWVFhKtllmzZX2Ss72SvZblVtt6Ctbd+btpWaf+uaa61kfzLn14iD0U676QOZ9I/P5NuF6yR9Z/s4VW0AAAAguRGwkRRbeHU8ZqzZK1unh7cfPSr6SnZxsSQTt6CtA9G2FpbJt4vWy5hB3UwlO8ufHnYCua7R1oq3tpEvWL5Jrnp0pmkfDwaDUlYWNEGbwA0AAAAkHwI2kmboWYexY6T5gP7SdthhktmiRdhK9rxrb5DCZculMhiUiqIiCZYndhuvmoK2DkQ7YURvM0V88F4dpEV+tpSWB8Ou11bOqra1XvvNGT+7rtemjRwAAABIPEYVI6kq2YbPZ9ZY2/fK1mniWsn+7bPPQ9t46eRx/Zmu39Zp5Npmrmu6k4k1eVwHoo0/rJeUlAYkUBGUQ/fpaCrabuu1rYFo9inkPTo1r7btl/5cK90Tjtpd+vdszRRyAAAAIMGoYCOp98p2VrLtLeMarrWy3fPiC017efnWrRIsL5eK0lJJNtZAtKZ5mZKb7Zdjh/aU9ZuKZMQBnWX1b1XXa1sD0ayqttt67XBt5EwhBwAAABKHgI2kbhsPBgKhSnZaRkYoaCtn27je6sC0wPbtO9rGkzBoWyoCZXJA3xYmbLdpkVNlvbY1EM2qarut11Zuw9GsKeSs1wYAAAAaHgEbSc1eyc5u3y7UMq6sara2je8+6WpH0A78HrSTbH22qqyslBXLl0p5WYnk5WRWWa896uCuMu/nDaGqtnO9tr2N3G0KOeu1AQAAgMRgoSY8UcnWNdm7HLC/2cZL11xb1Wxdh90zwvpsbS/XCriGdH2cZGZfr52Rni579mwtqzdslyF7daiyXtutjTzW9drbi8rM82lYZ902AAAAEB9UsOGZSnb7I4+QkjVrpd2ow82WXc62ca9t6VXTeu0sW1V7w+bi0HpttzbyaNdrr95QKMWlAXnjk9+r27STAwAAAPFBwIZnaAU6u12BdBp/jLQ+ZIipZltt4/ag7bUtvaLZ7mvY/ruG1mu7tZFHu167Tctc2skBAACAekJPKDwlIyvL3OrUcF3HbLWN29dn17Sll27n1fGYsUnfMu6saiu/L9O1jTya9dpPvvWDmV7O9l8AAABA/aCCDc/ume3LyQm1jbfcb18TtCNt6aX0dvU778naadM9VcmuqY3cmkIeab22s7ody/ZftJEDAAAANSNgIyXaxjuMPtIE7fajR7lu6aW0dVzXZe/7xGPSYp+9JS3Dl9RbecXaRl7Tem1ndTva7b9qaiMnaAMAAAA7ELCREm3jVtAuGD7MdUuv6uuyl1XdyiuFgna49drO6na02385123b99vWoF1UHDCD00x1ezvVbQAAADReBGykXNAOBgJVtvSKac/sFAjaVvu4tb+2rtce0KuNjHdUt6PZ/sutjdwZtNPT0+TV6Yt2VLeXUd0GAABA40XARspv6eXLz6+2LrvGoO3h9dmR1ms7q9s1bf/l1kZuX6993GG9Ila3CdoAAABoTBgJjJTf0ktbxsu3bA2ty9aJ4j0jTBrXQWkdxhwlbYcN9dSk8dpMI9fArdPIfRlpJnBrNdq+/ZezjdwK2jpp3Gont08lt08jf+nDHQF8r16tpaw8KOlpQdNKrmHfl5EuhSXlkpfNdHIAAACkDirYSPmW8TZDD5HMli1d98y2TxrPbNHcDEHb64F7pcU+e5nHCBQVSSoL104+OsxUcvt6bWc7uVsbuXNAmm6tRjs5AAAAUpUnAvbmzZvluuuuk8GDB8vee+8tJ5xwgnz99ddhj589e7acfPLJss8++8igQYPkmmuuMY+Bxrull7Z/O/fMtgdt+xC0ryacLT/edKtsnjtP0n0+Kdu8xazrTqW28Wi3/3K2kdvXazvbyd2CtjUgjXZyAAAANAaeCNiXXnqpzJkzR+677z559dVXpW/fvnLGGWfIkiVLqh27dOlS87PevXvLSy+9JH/7299k7ty5cvHFFyfktSN5QrZzz2z7pHFnJVvD9rYFC+XL086Ur06dILMvuFjWTf9YgmVl0li4TSW39tvW9dpbC8tcq9tuA9LcppO7BW23/bZLygjcAAAA8IakX/i4fPlymTVrljz33HOmIq0mTZokn376qUyePLlacH7jjTekTZs2pmqdlpZm7rv++uvlpJNOkhUrVkinTp0S8j6QXHtmF69aHQrauubaWput7GFbK9udL75Qmg/oL0GdMJ6WLmWbN4uvSROpDARMcE91znXbVmVb12vrOmsNyfbqtnNAmraTdy5oWm0Nt3Pd9iezV5p2cr1Pg7i2oE84anfp37O1CdtaNWe9NgAAAJJZ0lewW7RoIY8//rj069cvdJ8GZ/3aunVrteNHjx4td955ZyhcW8erLVu2NNCrhhf2zNagrRXt9qNHhSrZ9onjVtt4ybr1JlyvmjxFvjx1gnx16hmNsqLtrGzreu07Lxgk6Wlp0q5VXqi67RyQVpt2cg3XGroXLN8kVz06U35avtG1uk07OQAAAJJJ0gfs/Px8GTJkiGTapjm///77prKt66udunfvLgMGDKhy3xNPPCGtW7c2beOAM2gXDB9mJo3rntnaHu5sG89u09qE67CD0IqLpTGy1ms3zcs0/9bQrdXtMY4BabG2k6uahqVp4GbdNgAAAJKN53otdYDZ1VdfLSNGjJBDDjmkxuO1mv3xxx/Lww8/LH6/v9bPq9OPi5JsonTxzmBn3aJ2tMPBX1kp7Y8aJavfea9K2/jSp/4jHY8Za9rHrYq2hu4VL78mncaPM8dWFBVJus8vFeVlEkhLM38rjfnc6efZduc+2x98sVyOGtTN3B9tO7nb9l89OjUPuw3YgF6tpbgkIMGg7Nj+q7jMTEUPBCpEKncE72jOSTRS+bylMs6bd3HuvInz5k2cN+/i3NU//d+S9g7plAnY06ZNk8svv9xMEr/nnnsiHlteXm4mj+ua7JtvvlmGDRtWp+fWx5s/f74ko2XLliX6JXhedna29Bo7xvzHs+X7H0Jt4xlZmb9XtCPsna3V7w7HjpWCI46Qn5cvlcLCQmns5y4vL08O3K2d5Gb55Ogh3eX44b2luLRc2u2Sa6rcqzZsd20nd27/9eRbP8ixQ3tG3G9bg7tu/zV74brQ3tuBikrJzsraEbizM2Xr9u2yfu3qqM9NYz1vqYzz5l2cO2/ivHkT5827OHf1y95RnRIB+9lnn5Vbb71VRo4caarSkd7g9u3b5cILLzRbeenk8cMPP7zOz6/V7x49ekgy0atU+h9Sly5dJCcnJ9Evx/MClZXS7ujR4vP7pTIYNFepKkrLqg1C67kzaGvLuDKD0E75s/l5oHC79OreXSoCAQlEqJw2pnNXXl4qGWlpUl4WEH96mgQrKqQyuKPKbQVtezv5u58vc61uuw1I0/Xa15y+f9hhaVbg1ip3ZVqmdO/RS8rLA5KeFjRruvUcW1cko+08aCznLZVw3ryLc+dNnDdv4rx5F+eu/i1evDjqYz0RsHWCuFahdW9r+3RwN2VlZXLOOeeYavOTTz4pBxxwQFxegz5nbm6uJCP9DylZX5uXBYqKpM0hg2Xzd3NDFW1r72xr4rhb27j+PFhUJFn5zcz+25EmjXPufp9Kbm8nn/fzhmrVbee6bQ3a0baT68/tU8nLynVYW6aUlgXM0DZtTY9lSjnnzZs4b97FufMmzps3cd68i3NXf6JtD/fEkDPd1/q2226T4cOHm+C8YcMGWb9+vfnatm2bCdT6b71V//jHP+Sbb74xgbxbt26hY+3HANHw5eaa9delGzZI68GDzCA0+97ZyhqEpm3ju0+6WrYv/lm+mnC2fD3hbJl9YeOdNF6X/ba1nXxArzYy2jEszbluW0Oxs53cPizNGpRmn0q+ekOhFJcGZPrXK6SopFze+IShaQAAAIifpK9g68RwXf88depU82U3duxY83XKKafI008/barVb7/9tmn1vPTSS6s9lnUMEC2dNN72sKGS5vOZrbp2OWB/0zKua67t1Wx723ho7+z+e5owbk0a99GyE9N+287q9ogDOlcZkOa2/ZdbO7mywrZV3a5paNr2onJJb5JuQrf1ukKvsxHsfQ4AAIAUDdjnnnuu+YpkwYIFVQI5EE9Wi3e6zyftjzxCiletlnajDpeNX3xZrW28pknjlcEKs0UYoq9uK61uZ6Sniy8jLbRuW9dra3XaXt12tpPbp5Jbw9JqGprmbCffXlRmXseOdvJsab9rd/Fre3l5IKp2cgAAADQeSd8iDiQTa+/sTuOPkdaHDDHh2d427tYyPu/aG8ytrscObN8uwfKA6IZxzZo1S/Tb8dye27r9lrXftla2TxjR21Sereq2s53cPpXcqm47q9yxtpMvWL7JDEgrKwuadvLN20rNbUkZbeUAAACNHQEbiJFWoDVotztipFmOYLWNW5PGV095N+za7B+uu1E2f/edZPh80rmgQLL9mVK2eYsEAwGpKClJ9Fvz3LrtcYf2kDsvGCTpaWnSrtWO0L1hc3EocGuV22ojt6rb4YamadBWVthu0zK3yq1WuXU7sHUbi8yU8jdn/Cwn3/CeXP3oTPl24TrzGrTabQ/drOUGAABoXAjYQB1ax3VdtbaNl6xZW23SuD1o69rszBbNTft48eo1JkyvenOyfHnqBPnq1Aky+wIGotWlst00L9P82z4srU2LHBO4Rx3c1Uwlt6rbkYamWe3k1rA0t6FpVuB2q3bbh6a5VbkJ3AAAAKmNgA3EqW28YPiwKpPG7UFbWWE7u01rWTV5Sih095l4pez1wL3SYp+9QgPREL92cq1y61Ty8Tur27oVmFah3Yam1dRObg/cyhm63arc9inlRcUBE8Q1bG8vptoNAACQagjYQBzbxrXV22oZt6/N9uXnm7C9fsbMUOi2BqJZ67QLly2XymDQDETTddoVpaWJflspFbizbNXtoft2ClW5x+zcDiyadnIrcLtVu92q3FbgXrxis0x8bJakp6fJ1C+W71jT/THVbgAAgFRDwAbivHe21TLecr99Q1t6aaVaw3ZGVmbMA9FYmx3/sN0kN9N1aFpN7eRW4Hardte0F7duAUa1GwAAILURsIF6ahnvMPpIE7R1S6+yTZt3bNdVWhbzQLS09PTfB6FR1a73oWmR2smtwO1W7Q63F7cG7fqqdjuHqjHJHAAAILEI2EA9toxbW3rpxPEt3/8grQcPlM3fzY16INq2BQtl7sTrZNuCBVIZsFW1CdoJaSc/zha8Dz+oS5Vqd6S9uONd7f7om9+3DmOSOQAAQPIgYAMNELQ7jB0jzQf0l47HjpPSDRuk9eBBUQ1Ec20fD1aYaeMatNniq2HbySsCZXLgbruYwH30kO5Vqt2R9uKOd7W7TpPMywKm0m3u204IBwAAiCcCNtBAW3ql+3wmcLc9bKj5PlheHnEgmlv7eMm69RIsLZVVb71ttvj6/ppJsvlb2sgbiu57vnzpYikvKwkFb3u1217ltu/FvbWwLOKa7liq3bWZZG5VuX9a9pukpaXJq9MX7wjhy3as995WWG6CtlbF7cGblnMAAIDYELCBBqbhuqS8XJauWiXtIgxEc2sfd27xRRt5cm4N5gzcJ4zoLS99uDDsmu5Yqt2xTjK3V7n1osBL0xbKzO9+rbLee+X67ebiwesf7wzjj9ByDgAAUBsEbCBBtm7dKmUVFWEHojnbx+1bfKmop5ATtJNiL+47LxhkAuvwAzrXqdod6yRzpaH7gy+Wm2np9hBuVbub5e0I3i9MXRB1y7kVvPX1WtPOaTkHAACNHQEbSCCtGoYbiGZVta2gbd/iK1IbOUE7eQN307xMycmqW7U7lknm9ir3lz+urbbe2xm8o2k5tw9Y0+Ctf8OvTl8Uajl3W/dN6zkAAGgsCNhAkg5Ea3/UqCrt49YWXzW1kbOvdmpXu63gHc0kc3uVe9X67VVCuBW0reAdbcu5vfXcmnYebk/vZWu2hm09p+UcAACkIgI2kMQD0ezt49YWX5HayNlXu3FUu62tw2qaZG6vclcEK6uEcCtoW8E7mpZze/C2wnikPb3dWs8XLN8kV+nAtTAt526t59uLWQcOAAC8gYANJDFn+7hu8aWV7YKRI1zbyNlXu3FtHVbTJHN7lVvD9n+m/BgK4VbQtoJ3NC3n9tZzK4yH29M7XOt5uJbz6V9Xbz2f+sXyHfd9XMPWYwRuAACQJAjYgIeCttniKzdXOow5Spr3r95GXqt9tVmnndKTzO1V7kEDOsiNT/5PthSWyZjB3WXNxsJQ8I6m5dzeem6F8XB7eru1nkdqOXdrPY+09ZgVuHWbsaLiQLVqt336uT8zW7p062G2KAMAAKhPBGzAg+3jviZNJN1fvY3cGbRjGogWrJBgWZkJ2qEWctZrp0y1O8u2vrtru3wTNtu2zDXVbit49+jUXPbs0UrGH+becm5vPbemnYfb09ut9Txcy7lb63mkdeBW4La2GUtPTwtVu6d/VbUSblW9MzNzxOfPcm09ZysyAAAQLwRsIIXayJ1BO9qBaCXr1kuwtFRWvfW2fHnqBPn+mkmy+VvWa6dq6Nbgq7c5Wf4qg9X6dmkp6enpkpZWGbbl3BqwdvywXmbaebg9vd1az8O1nLu1nkfaeswK3G7V7pqq3vbWc7cwHk1FnMnoAAAgHAI2kMJBO9qBaNltWsuqyVPCr9euoLrdmIJ3pt8XtuXcPmDNmnberlWe657eztbzcC3nbq3n4daB27cZc1a7I1W9ownj0VTEo5mM7gzfVMQBAGg8CNhAiol2X20raK+fMTPiem1ndfurUyfI7AsulnXTPzahG417wJpOO9efue3p7Ww9Hz1ox7pvZ8u5W+t5uHXgVuB2q3ZHqnpHE8ajCeGRJqPbw7fbvuBMRgcAIPURsIFGuq+2FbQzsjIjrtd2Vrf7TLxS9nrwPmk18A8iadpCvpmKNiLu6W1vPdfJ4m4t587Wc+u+cC3obtXucFXvaMJ4NCG8psnoVvie+d2vNbanh5uM7mxFp/UcAABvIWADjXRfbStoV5SWhV2vba9u53TsYFrHQxXtyVN2rte+jvXaiLr1PMtR7bZazt1az4cf0LnaOnB7C7qz2h2u6h1NGI8mhEeajG4P39G0p4fbrkxb0U3r+aO/t5479wh33hLGAQBIHgRsoJGv0249eKBs/m6u63pte3Wb9dpoiJZze+t5Tpb7OnArcJ8woneVane4qnc0YTyaEB5pMroVvqNpT4+0XZmGcav1fPWGQtNSbu0R7rwljAMAkHwI2EAj5FynXbphg2khLxg5osp6bau6nVVQwHptJG0Lur3abVXCndPPna3nzjAeTQiPNBndCt/RtKeH267M2Xoebq/w+g7j9rXiDGoDACA2BGygEbOCdtvDhkpGbq50GHOUNO//+3ptq7rdfvQo1msjaQO3vdptVcCdVW+31nNnGK+pIh5pMroVvqNpTw+3XZm99TzcXuH1GcatSem6VvzV6YtcB7VFCuMMbgMAgIANwLZO29ekiaT7f1+vbVW3Ww8eJJktWrBeG54M4eVlJbJ86SJzGymMR1MRDzcZ3Qrf0bSnh9uuzN56Hm6v8PoM4/a14uHWiLuF8WgHt7lVxqPZ0iw7OzsBfzkAANQOARtAzdXtnBwJlpdLm0MGx3e9diAgge3bzXptgjbqU0kUXRPRVMQjTUa3wveWwrKI7enOEG4P4+HWgdd3GLevFY+0Rry2g9uclfFlq6Pb0syfmS2du/Y0t+HWk9tDua4tp7UdAJBIBGwA0VW38/Kk4zFj47Zee/vin2XetTeY28ogg9Hg/cnoVvju2i5f0tLSop6Mbm9Jt1rPw+0VXl9h3L5WPNwa8boMbnNWxmPZ0ixcK7tWyiuCQSkqDphgXVZeIa9+tNg1sNO2DgBoKARsAFGL53ptBqMh1cO3BuloJ6Pbw/iAXm1kfIS9wusjjNvXiodbI17bwW113dLMeWuF9MUrNsvEx2ZJenqaWVduAvu37oHdHsada8YjVcQBAIgVARtAg6/XrnEw2gP3Ssv995WgbvlVXi5lW1ivjca1XVlWhL3C6yOM29eKh1sjXtvBbXXZ0swtsFuh3ArjkQK7WxgPVca/ql4Rd2tTdwvjkYa8RdPKDgBIXQRsAA2+XjvSYDSrdTzd75dfX3tD5l49Sbb9xHptND417RUe7zBurRUPt0a8toPb6rKlmfPWCuX2MB4psDvDeKSKeMQ29a9qHvIW7phYqufVhr6V7Wh/Z0o7AHgHARtAg6/XjjQYTSvZncaPi229NoEbjVw8wrh9rXi7VjsGt9UUxqMZ3OasjMeypZnz1grl9jAeLrC7hfFIFfFY2tRr28oernq+bM3vQ9/MfuWPzJSflv1m1vJP/eKXiFPaqaIDQHIhYANo8PXa4QajaSU72vXac6++tvokcgajAXUO47pWXI9xWyNem8Ftzsp4LFuaOW+tUG4P4+ECu1sYD1cRj7VNvTat7JFCuDX07YWpC0L7lev50Ptat8ipc6U9mip6pPZ357Zq0VTT2V4NQGNFwAbQ4Ou1O4w+0nUwmlayo1mvba9sfzXhbPnhuhtl83fsrw0kIoxHM7jNWRmPdksz5609pFthPFxgdwvj4SrisbSp17aVPVwIt68hV/b76lppj6aKHm5Ku9u2ah9alfePIwd3t+3V3CrtVNYBpCICNoCErNd2G4ymA9GiWa9tbydnf23AG6HcXhmPZUszZ/XcqpSfMKJ3KIwfvGf7aoHdLYyHq4jH0qZe21b2cCHcWkNu36/cuq+ulfZoquixbKvmrKZHE9zd1quHa3ePZXgcg+YAJCsCNoCkGYymLeSBrVtNVTvcem17ZbvG/bUrCNqAl7c0Ky8rkeVLF5lb62dWpdwK6RrGjxna0zWwu4Vxt4p4LG3qtW1lDxfCrTXk9v3KrfvqUmmPpooey7ZqtQ3ubsc4290/+ib64XH1NWguluBOYAcQCQEbQFINRuv0p+NkxcuvScHww1zXa1uBu6b9tZ1Bu6K4WALFxSbIl+8M3bSTA8mvJMxsBSuk29vUnYHdLYw7K+POteM1tanXtpU9XAi31pDb9yu37qtLpT2aKnos26rVJri7HePW7h5L23tDtsgnaku3svLq0+MbKtxHs3beem2hafdcaACqIGADSBpa0e4wdozsecctIunpklXQttp6bStw17S/tjNoa1Vr7bTpJmivenPy70PSdK9tppIDKc0tjDsr4tba8Wja1Gvbyh4uhOsacvt+5fb7altpj6aKHsu2arUJ7m7HONvdY2l7b+gW+URs6abBvbIyTaZ++Uvcwn20Id++dt5tyF1xabmUlVfIqx8t3vFalsXeGWBdINCQDqQqAjaApKxo+5s2FZ/+27Feu2DEMBO4I+2v7VynbW375RySxlRyAOHWjruF8UhD3pw/i6V6bg1969GpuezZo5WMP+z3+zTcZWdmxFxpj6aKHsu2arUJ7m7HONvdY2l7b8gW+URt6TZ38QZ5+cOF0rp5Tp3DfSwhP5ohd2s3Fpm1+DO//bVWnQFmC7pHZ8q3C9eZ/x5iuRBAWz68hIANwFvrtXNzJat1KxO42x0x0nV/bXvQttrI3YakxTqVXKvgbD0DIN7VcyuE9+3SUtLT0yUtrbLafT5fesyV9pqq6JHa390q7LEGd7djnO3usbS9N2SLfCK2dHv382XSr3uruIX7uh5rH3Kngb6gZV6dOgOsLehWbyg0ATqaCwF1GYhnhXJre7lIwd06xq3tPZZ2feexkV6D87mqtd6XBaJux9f/fdKlaw/TfVDfrfvO9xjpPTVWBGwAnlyvbbWTNx9QfX9t+zptq43cOSQtpqnkO9vIs3x+6dmhg2T7/bSRA6i3oW+Zfl+1+7L8virHxquKHqn93bmtmrOaHk1wd1bane3usbS9N2SLfCK2dItnuK/rsc4hd9Za/Np2Bqhwa+/jPRDP+tmyNTsq769/HD64O4+xt71rkNSW+Ejt+uGODff49s4AfS69aBAo13X3FfLq9MU7qvyPzJSflv1mQrPeZz/W7QKDPneGL1Pe+3J1jcfWZTlBYXHZjvf4RdX36PaeyhzPHcsFkVRYPkDABuD5wO3cX9u+TttqI3cOSYt2Knn1NvKFUhkMVl+3TTs5AA9W0SO1vzu3VXNW06MJ7m6Vdme7e7TD4+I9aC6W4N4QW7rFM9zX9VjnkDtrLX5tOwMaciCec3u5F6YuCBvcrWNmfle97V0r7WZ7ujDt+pGOjfQanBcN1m0uDh1jVfn1v0P764p0gcF67miOrctygnWbiqts1+fW7eB87ulRDg/UCwvW12sfLTZB3ssI2ABSbn9tK2jrOm1r2y/nkLRop5JHWrf95akT5PtrJsnmb3e0k1vTyZlSDiCV1FRNdwZ3t+3V7Mc4B8vFMjwunoPmYgnuDbGlWzzDfV2PdQ65s9bi17YzoKEG4jkr75GCu/0YZ9u7c3u6SMPzwm1l5/YanBcN7MeocK8r3AWGWI6ty3ICt/cY7j1NjvE16M/0/Cu9ff6DBfLK9EWermQTsAGkbNDWddrWtl/tjzzChGNrSFo0U8kjrdu2t5MXr15jKtjrPvpEKoqLwk8p37ottFVY2RbCN4DGt72anbPdPZYBcw3RIt/QW7op+3r3uoT7uh7rto2cvrbadgY01EA8Z+U9UnCP1Pbu3J4u0vC8cFvZub0G50UD+zHOx4vmAkMsx9ZlOYHzPUZ6T5/EeEHEzVufLpGMdO/GVO++cgCIImjbt/1qO2yoZOTkhIak1TSVPNK6beUM3TVNKU+rDMqvr70hc6+eJNt+ckwsJ2gDQFK1yCdiSzcNmVc9MtOsf9fnr0u4r0vrvduQu4P3bG/W4m8pLIu5M8Dagq6+B+I5K++Rgnuktnfn9nSRhueF28rO7TU4LxrYj3E+XjQXGGI5ti7LCZzvMdJ7yorhca3KtZPer+3jXkXABtB4tv3KyZF0vz80JK2mqeTh1m3b28mt0F1TtdvaKsy5P7feVgZ/r3JXay9nbTcANJot3Z65YaRZgzugVxsJVlbWKdzXtfXeOeROt5G77byDpVObJmYAV6yPq+9pvMva+3gOxHOrvIcL7pHa3p3b00UanhduKzu31+C8aGA/xvl40VxgiOXYuiwncL7HSO+pNIbH1Z+50fv178arCNgAGq2appKHW7dtbye3Qnekarfb2m5nlXvdxzNC7eXOtd2s5QaAxrfWXb8Pd0y82+mda+fDDbnTtt0muX7zOxqAYn0NWS5r7+M5EM+t8h4uuEdqe3duTxdpeF6kreycr8Gt3d86xqryO19XpAsMsRxbl+UEbp9HuPc0JMbHdTN6UDczod2rCNgAEGYqubON3Arc9nZyK3RHqnY713a7Vbnd1na7bRXGEDUAQEOunQ835K62wq29j9dAPCuUOyvvOsHaGdytY9za3q2WeGt7ukMjDM9zHhvpNVidAdZFA+t39Zg9e7SS8YdVf12RLjA4W/frazq/8z2Ocel2iLY74SjHz6xKtt7q53rs0J6uF5i8Iq1SzzQimjdvnrnt16+fJJOioiKZP3++9O3bV3JzcxP9chADzp13aIt2ms9nqszaXr5m6jRpPWigCcNNe/cyIbhJj+6m1Vtvi1asNAPV5lx8mez1wL3y1YSzTbDe94nH5Pvrb5Lel14s311+lfneOsZ+rAbyPhOvNI+nVW4N2utmzJQ2QwbJuk8+Nbf63JvmfGfazjWw62tM1zXnPp8EiopMRV4DuV4oAP+9eRnnzps4b96UaufN7A+dnm7W8mowDlYGq10ccB5THqgQvy9DSkoDZjs6X0b437d+N9KxkV6D9bPSsoBkZfpCx1RWBiVYKa6vyzrWurU/9/aiUmmSmxXVsc6fxXJsNJ9naR0eVyvXyRiuY8mDyffqASDJqtpKw2txcbHkHXCAGZTWYcxRkp6VLc367SFrp31o2so1ALtVu7UqbW81d1a53dZ2L3rgYel58YWmyq3BXUO1dWsFb/2ZTkjXVnMdnhYK3QP6m2p3WnqGVJSWSEZWtgT0sZvkmcFq1nsCACBVWSFNK+/hGnedx2jVfMdtZuiYcL9v/W6kYyO9Bufvux0T7nU5b/XiyKoVS6Vr166hiyPhjo30s2iOjebz9Nfhcf0p0GDt/XcAAA1EG34WL18mJeXl4mvSRNL9O9rJrWFpbQ8dIhk5vw9N0/ZyDd4djzvWBOGC4YeZ8O1c0+22ttu5ltttiJrb8LRo1nTTYg4AQOPbGg8Ng4ANAPEalrYzdDunlGu1e8/bd2wVllXQVjqMPrJKldttbXe4Krd9Hbfb8LRIa7qt/brD7dMdCt7s1w0AAFArBGwAaKDgbbYK0/syM6sMUTNTy9etN7cFI0e4bhXmHKLmNjzNrdqtnOE7UrWb/boBAABqj4ANAAmgreX2KrfVXq7V7ub9q28V5twyTNvJa6p2u+3XXVO1O9r9ukPt5WVlpiqu/6baDQAAGjsCNgAkU3u5bW23W5XbGqKm7eSBrVtd9+mOtF93pGp3NPt1r3rr7Srt5VJZKSu12n3VtTuq3RXVQ7hpN7cHcNaJAQCAFEXABgCPVbmtIWqd/nRcleFpkdZ0h9unO9b9uu2V7S3zvpeVr7wmv836zDWEFy1fLhIMyq+vvylfnjJBvp/4+6A1BqwBAIBURMAGAI8OUeswdozsecfvw9Mirel2tpi7VbudLefOarc9cK957wNptsfuEUO4PtaKl1+VlS++HBq0pvuGz514XfgBa7SeAwAAD/NEwN68ebNcd911MnjwYNl7773lhBNOkK+//jrs8StXrpRzzjnHHDtw4EC5//77pUJbGQEgBYO3fXhauDXdHY8dZ8K3c59ue7Xb2XLurHbbK9vhBqxZgXvN1A8lu6BttUFrNQ1Yi6X1nMANAACSjScC9qWXXipz5syR++67T1599VXp27evnHHGGbJkyZJqx5aXl5ufqRdeeEFuuOEGef755+WRRx5JwCsHgORZ022Fb+c+3Va1u6b9uu0TzMMNWLMC98avvq42aC3SgLVYWs+d1W/7tmJWJdxeEc/2+6VHl66SlpaW6NMDAABSXNIH7OXLl8usWbNMUN53332la9euMmnSJGnTpo1Mnjy52vHvv/++rFq1Su666y7p1auXDBs2zAT0//znP1JWVpaQ9wAASRW+Hft026vdkfbrtk8wDzdgzQrcJatWVxu0FmnAWiyt587ArduKrZ02XSqKi2XdR59Ur4gHg5Kb6Zcsn589vgEAQOMO2C1atJDHH39c+vXrF7pPqxD6tXXr1mrHa+v47rvvLs2aNQvdd+CBB8r27dtl/vz5Dfa6AcCr1e5w+3XbJ5ir5U8/W23AmhW4tcLsHLQWbsBaLK3n9sBt31YsXEXcLYxX2ePbbR04IRwAANSST5Jcfn6+DBkypFqVWivbEydOrHb8mjVrpKCgoMp9Wu1Wq1evlv79+9fqdVRWVkpRUZEkk+Li4iq38A7OnTc11vOmFzRbH3qIZPj9ktk6wwRunQSuQXbexEnS7dyzzX1rpk6rEsI1gOtgM6WD1sINWKvSep6REbH1fOlT/5GOx4yVRQ88HGo9t+6z/6znxRea4N2kR/dQGO8z8crQOnB9XetmzNyxDvyTT6XNkEHmuE1zvjPBXEO4/lsDvD5HoLBQ0tIzpCJQLgHb/1/Qz0Zvrc/J+jfio7H+N+d1nDdv4rx5F+eu/ln/Pz8lArbT7Nmz5eqrr5YRI0bIIYccUu3nJSUlJpTbZWVlmdvSOlQgdG13slbAly1bluiXgFri3HlTYz1vPq12+3ySmZkpbYYPkw7HjjNVX39eE9m+fZs0PeggSc/JqRLCf7j5dul07Dhp1m8P81Wyek21AWuxtJ7btxXL7bxrxIq4Wxh3C9+RQrj+W9elm6A9oL9IICBZ2TlSUVoiGVnZEiguknS/33QC6Gfh089i2zZZt/E3syzJHsL1NhDYEc/1c9R/W98jssb635zXcd68ifPmXZy7+qX/+yflAva0adPk8ssvN9PB77nnHtdjsrOzq621toJ1bm5urZ/br0NyevSQZKJXqfQ/pC5dukhOTk6iXw5iwLnzJs5bVaXl5ZKWnS2lgXLTUh66Lz1dAhUV0m7MUWZ6eaCoyNxXEQhIZts2oWq3DlbT6rG96q0h16p8u7Weu20rFq4i7hbGneG7phAec7V7QH+z3rt7l66hEO4WxrUirmvh9TOxV8QtVMN34L85b+K8eRPnzbs4d/Vv8eLFUR/rmYD97LPPyq233iojR46UO++8M+wVBG0PX7hwYZX71q1bZ27btm1b6+fX/7FTl4Ben/Q/pGR9bYiMc+dNnLfYZO6ciaHh0qID1tJ8PjNgLT0rW7KibD23byumYdxeCY8mjIdbB+4WwmOtdjtDeDRh3KqIm8DdJM+s+9bPyQrglYGAWSvf2PHfnDdx3ryJ8+ZdnLv6E8tOJEk/5Ew999xzcvPNN8tJJ51ktuqKVJ7fb7/95McffzRDzSz/+9//JC8vT/r06dNArxgAENOAtZ2TzTuMHSP7P/2UCaz5ffuYKm647cWsbcXaH3lEaKsxvXUL4+FazyOF8EhTz6PZesxtGFu44WtFy5eLBIPy6+tvypenTJDvJ06Szd9+Zy442LccY+AaAADJLekD9tKlS+W2226T4cOHyznnnCMbNmyQ9evXm69t27aZdnD9t9UWrttytW7dWi655BL56aefTFu5hvIJEyZE3TcPAEhs8Nagq7e6f3e47cXs24q1HTZUMnJyQluOhQvjzqnnkUJ4pGp3TVuPRRvGrcCtz7fi5Vdl5Ysvm8fWCwzFq9dIRUlJ1S3HmHoOAEBSS/qArRPDdcDY1KlTZeDAgVW+tGV8zpw55t96aw00++c//ynBYFCOO+44ufHGG+XEE0+U888/P9FvBQBQD9Vvs61YTo5prXZWxE0Yz8mR9o49vu3h26p+O0N4LNVuZwiPJoxbgXvN1A8lu6Ct+V7VtP/3uo9nVNnrO5qtx6pVwUtKEn0aAQBISUm/Bvvcc881X5EsWLCgyvedO3eWp556qp5fGQDAC2Fct1hcuny5dO3aVXKbNg27Dlwr4p2OGy8VJcUmhHcYfaQUr1rtWu221n+HC+HRhHErcK987Q1pPehgE8adW4/Fcx24tc94l9NPleZ79jOh2z6ELTSMbed6cNZ/AwCQghVsAADqSrdwrHEduL0irj/LzJTsdgVRVbudITya9d9W4C5ZtToUxq1qtzOEx2MduLP1fN1Hn5hKuHWrFfEvT50g319Tff0368ABAIgOARsAgDB0Dbh93be1xrtDFC3nNYVxK3BrS7cVxp1bj8VrHbiqSwgPtw7cvv47XBg3Pw8Efl8fTns6ACCFEbABAKhBNNVuZwivKYzb9//Wvb91GnrByBGy5fsfwm45Vtt14Fa1u7YhPNz0c13/vXbadKkoLq4WxiNNRg8bvl0q49m0qQMAPISADQBAPYbwSGHcmnbeauDB8sPNt0uT7t2lWb89pOOx46qE8Fhaz93CuLP1PJYQ7taCbt96LFwYd5uMvm3BQpk78boq4XvuVddWG85mVcaz/X7p1bmzZPszaU8HAHgCARsAgAbm3HpM9//e845bJL9vb9PyLWlpYff/rs06cGfreSwh3G36eU1hPNxkdGf4/m3WZzVWxmPZpqzG9nTCOQCgnhGwAQBItv2/MzPD7v9dm3XgztbzWEK4swXdvv47XBjf+NXX1SrjbuE7msp4NNuUOcO4a4VcA/fOAK5BW9eCE74BAPFGwAYAoBGsA2/ev3+o9TyWEO5sQbev/w4Xxt0mozvDdzSV8UgT0iOFcWeFfPvin+WrCWfLD9fdKFsXLJC0tDSzPZpbe7pbZdwZwquFcwa3AQB2ImADANBI1oHrVPRYQ7hzHbh9/Xe4MO42Gd0ZvqOpjEezTVmk9nQrnNsnpPubNHFtT3erjP+qIfzqSb+H8EDABHEN587BbWxpBgBQBGwAABqR2oRw5zpwa/23Tj63V8IjTUZ3hu9oKuPRbFMWrj3d+t6+DjxSe7pbZdzZnl62fkO1wW3x2NKMUA4AqYOADQAAIodwxzpw+/rvtsOGSkZOTrUw7pyMbkK4LXw7h7O5Vcaj2aYsXHu69b19HXi49nS3yrgzhK/5YJrr4La6bGnmGso1YBcX1xjGq4Vy2tQBICkQsAEAQK2Ct1n/nZMj6X5/tTDuNhk9u11BlfBdvnlLxMp4NNuUhWtPt763rwMP157uVhl3hnC3wW113dLMGcp1rfi8a28wa8TDhXF7KP/y1Any/TXh29QjVcgZ8gYA9YOADQAAGmYyelZWlfCd17WzqYK3OfSQsJXxzBq2KXOGcWeF3L4OPFx7ultl3BnC3Qa31WVLM7dQHk0Ytwf3cG3qkcL41p+iHPLmEsZjaWnPzs5OyN8dACQaARsAACQ0fPtyc10r4yXl5bJw2TIpraiIuE2ZFcad7elWhbzdESPNOvBw7elulXFnCHcb3FaXLc2coTyaMG4P5ZHa1COF8WiGvDnD+BqtphdF39Ke7c+UXp07m9tQCC8ro2oOoFEgYAMAgKRVUlIilZWVkbcps9rUHe3pVoW8vU5IH7BjQnq49nRnZdxtjbhzcFtdtjRzhvJowrg9uNcmjEc75M0ZxrNbt4q5pd057E0qK2usmkdTPbd+ZgK9hvVtMWynRqAH0AAI2AAAoFFUyLVFPVx7ultlPKugbZUQvssfDqoyuK0uW5o5Q3k0Ydwe3GsTxqMZ8uYM47VtabeH8C3zvpeVr7wWtmoeqZXdqp5bgb1o+XKRYFB+ff1NE9bTgpG3UwsF+hqGxzHBHUC8ELABAECjUVN7epXKuB7rMj3dPrittluauW1tVlMYtwf32oTxaIa8OcN4bVra7SF8zXsfSLM9do9YNY+mem4Fdn391lZpNW2nZgX6WCrtsWyrFgrntmOtanmowk71HGh0CNgAAACxTE+3D26rw5ZmzlDe6U/HRQzj9ttwbeqRwng0Q96cYbw2Le32EB5uKnss1XMrnNtb3KPZTi2WSnss26o5w7kea1XRi5ZVrbBHUz2vVkW3rVcPd0y1AB9hm7ZqrfIRjmU4HVB3BGwAAIBEbGkWZmuzSGHc3srevP+OdeXOdeThwng0Q96cYbw2Le32EB5uKnss1XMrnNu3SqtpO7VYK+2xbKvmdqyzwh5N9TzSevVwg+XsLfJfnjJBvp8YYZu2wsJQq3yNxzqH00Wo4LP3OhAZARsAACCZ2tcjhXHHra4rd7apRwrjNQ15c4ZxZzU9mpZ2ewgPN5U9luq5Fc7tW6XVtJ1aLJX2WLZVczvWrcIey9ZrbuvVww2Ws7fI17RNm9UqH82xblV5t3Z6XSP/1akTTGDXkK8BHkBVBGwAAAAPCzdh3S2MRzPkzRnGs1u3lvSsLGlzyOCoWtrtIVxFqppHUz23wrl9q7SatlOLpdIey7Zqbsc6K+yxbL3mtl493DH2AK8irWm3t8rXdGy4qrzbz/R9K71d8cJLsvLV16lkAw4EbAAAgEYi2iFv9jBuDXXTNvZoW9ozbSFcA+68iZOkfNs216p5TdVze2C37q9pOzXr/mgq7bFsq+Z2rLPCHsvWa27r1cMdY2+Rrym4x3JsNBV8K6g7afBO8/ka/O8YSGb8FwEAAADXMK7SmzXbcYcjSIV+3rRp6D5tay8qKpKly5ZJt27dTAjvOP4YE/Q0lGqFWVvaNZRpGE/Pyg7davVcb3ULNF0nrNXzTseOM9VzK7Db7+94zFhTPbW2U1szdZoJ6kqP6fLnE0O/o2FcW6zXzZhpjln3yaeu26pplTbaSe7Wsc4Keyxbr1VZr56REfEYe4t8TcE9lmPtVfnczruG/ZkbvV+/Qn8jAKhgAwAAIL5KSkqksrKyWsVcK+M1tbS7Vs99vipVc3O/Pl5OTtjt1Kw2+Pb6fZhKe6zbqtlvnVX0WKrnkdarhzvG3iJfU3CP5dhoKvj6Mzd6f7ifAY0VARsAAABJxS2YR7o/0nZqVhu86/C4WmyrZl+vbh1rVdGdQ+Rq2nrNbb16pDXt1s9r2qYtlmPtvxMu5Fuvz0lfo25DBuB3BGwAAAA0ajFtq+a4NcfurKI7h8hFqp677YNurVfPKWhrXpPzGCvAN+ne3bTSR9qmbZc/HBT1sc6qvNsFAf2ZVa3WW3292qZvLRUAsENapfbvIKJ58+aZ2379+kky0TVO8+fPl759+0pubm6iXw5iwLnzJs6bN3HevItz502ct9rR9eTa9h5arx4IVAuv1Y4JBs2+2HpfsKTErGEPlla9rSiK4djSEsnQ25Jic5xedAiWllY5JrB9m6n2637dhOvkwH9zyZUHGXIGAAAAJPlQOddjbNKbNNlx63fcRnmsGU63fLl07dpVch2D60LHrFkjC267UwJFxbLv44/W9S0DKYkWcQAAAABmOF0k2a1aSfGvq6Rs/XrTbg6gOgI2AAAAgBppy3hO+3bm38Urf030ywGSEgEbAAAAQFRyOnU0t0UrVoQ9RteKBwMBKduyxdwGiourfK8/R3xlsx4+abAGGwAAAEBUcjt1ktI+G6V5//6h8Gz2Kdfha2VlkuH3y8rX3pBNs7+VLiefKPl9+8ivr78pq99+RzJbNJcup58qzffsJ+Xbt+8YqGYNVtt5ax7Pv/PxSktdj0nlY2vzeNl+v/Tq3Fky/Jme/VwDhYXia+I+3M9rqGADAAAAiEqbYYdJv5tvkA2ffS5zr7pW0oJBWTttulQUF0vZ+g2y4uVX5bdZn8nuk642e5Hr9ytffNmE63633SzFq9eYCva6jz6RiuKi0O2qNyfL3KuvlbTK3x/PeUwqH+uV1xnvY1e9OVm+PHWCfHXqBPnylAnmYkywrEy8jG26osA2XYg3zp03cd68ifPmXZw7b+K8pe550+BTvGq1bJj1max86RXpM/FK2b74Z2nSo7sUrVhp9s/+asLZ0vPiC6t8r9uK2Y91u3U+XmM71iuvM97HrnzplWp/Z7rHuu4pn0yV7FjyIBVsAAAAABFp1fnXyVMku6CtrJ7yrvjy86V5/z1l/YyZ5nbjV19L+ZYtkpaRUeV7DdfOY523bo/XmI71yuuM97Grp7zr+re2avIUsw+7VxGwAQAAAESkgWfjl1+FQrO2fOu/M7IyzW3JqtWmJTy7fbsq32fk5VU71nnr9niN6VivvM54H1tRWOj6t6b3h/uZFxCwAQAAAESkQ6jsobls02bz74rSMnNbWVEhm7+bKy3327fK9+1GHV7tWOet2+M1pmO98jrjfWxGXp7r35reH+5nXkDABgAAABCRLy+vSmgObN1q/t168MDQfcufflYKhh8mJWvWhr7XddgFI0fIlu9/CB3rvHV7vMZ0rFdeZ7yPbTfqcNe/tfZHjTLTxL2KgA0AAAAgIg08Gnys0NzxuGNlxcuvmX+XrFtvfrbLHw6SH26+Xco3b5FO44+RVgMPNt836d5dmvXbQzoeO05KN2wwx1q/Y926PV6421Q81iuvM97Hdjzu2FC1Wm91wFnHY8Ym1YCzWDFFPApMEUe8ce68ifPmTZw37+LceRPnLbWniK989XXZ+M0c6XTsOGk+YE8z/Cw9K8vsbRwsLZV03du4qNCEJT0+PTPTrKfV7yuDQZFg0KznDprfy5ZgadXbipJi83P74zmPSeVja/t41r7SyfieglEca/3NJOs+2LHkQe+OZwMAAADQYDQs6/ZJHccfY0KzhqWMnBzJyMra8XO/f8dts2Y7bndOgra+r/JYTZrs/B3nbdPfj7Eez9+Yjo398fTiyNLly6Vr166S69XPtdnOvxEPTw+3eP8dAAAAAGgQVnUxlQJRKigpKUn0S8BOrMEGAAAAACAOCNgAAAAAAMQBARsAAAAAgDggYAMAAAAAEAcEbAAAAAAA4oCADQAAAABAHBCwAQAAAACIAwI2AAAAAABxQMAGAAAAACAOCNgAAAAAAMQBARsAAAAAgDhIq6ysrIzHA6Wy2bNni35MmZmZkkz0NZWXl4vf75e0tLREvxzEgHPnTZw3b+K8eRfnzps4b97EefMuzl39KysrM5/t3nvvXeOxvgZ4PZ6XrH+o+rqSLfQjOpw7b+K8eRPnzbs4d97EefMmzpt3ce4a5jOONhNSwQYAAAAAIA5Ygw0AAAAAQBwQsAEAAAAAiAMCNgAAAAAAcUDABgAAAAAgDgjYAAAAAADEAQEbAAAAAIA4IGADAAAAABAHBGwAAAAAAOKAgA0AAAAAQBwQsAEAAAAAiAMCNgAAAAAAcUDABgAAAAAgDgjYAAAAAADEAQEbAAAAAIA4IGADAAAAABAHBGwAAAAAAOKAgA0AQD2qrKxM9EsAAAANhIANAEh6p59+uuy///5SVlYW9pijjjpKTjrppKgeb+jQoXLVVVeZf69cuVJ69+4tr732WtS/E61vvvlGzj777ND30T5XXX3xxRfmeWr60tdTEz3uoYcekkRatmyZeR0HHHBAxL8BAAASzZfoFwAAQE2OOeYY+eyzz2TGjBkybNiwaj//4YcfZOHChXLnnXfG/Nht2rSRF198UXbddVeJt5dffll+/vnnBnkuu9133908j/3zuemmm+S6664zP7O/Hi949dVXpXv37rJ8+XJ57733ZPTo0Yl+SQAAuCJgAwCS3vDhw6VZs2by1ltvuQbs119/XZo0aSJ//OMfY37szMxMGTBgQJxeaXI8l34W9ucpLS01tz169Giw9xovFRUV8sYbb8jxxx8vc+bMkRdeeIGADQBIWrSIAwCSXlZWlhx55JHy8ccfy/bt26v8rLy8XKZMmSKjRo2SnJwc2bhxo9x4441y6KGHyh577GFayy+44IKw7dBubds//fSTaUvfa6+9zONosHeq6Xm0nVyD/6+//hp6fLfn0vbniy66SA4++GATfk8++WTTWu58fe+++645Tl+TPte1114rRUVFdfpc161bJ1dffbUMGTJE9txzTzn22GPlww8/jPg7Dz74oPTt29e8N8vXX38tf/7zn6V///7mtV155ZXm87Ho+91tt93ku+++M0G5X79+5nN78skna3yNM2fONK/zkEMOMcFaP5vFixe7vhd93oMOOsh8Rvp6NJBbtLX8/vvvl8MOO8y8V/17sr8HtyUA+rrtrfTaKq8Xex5++GHzPgcOHChbtmyRkpISuffee2XEiBHmb2Hvvfc2fz/z58+v8niffPKJ/OlPfzLnWX9XOwq2bt0qmzdvNp/JfffdV+X44uJi2WeffeSxxx6r8XMCACQHAjYAwDNt4lqJff/996vcr23jGubGjx9vBoqdc845MmvWLLn88stNgLvwwgvl888/l+uvvz6q51m7dq0JZ9u2bZO7775bLr74YrnnnnvM/ZZonuf88883wbV169amXVsDopMGxXHjxpkAp4FZnyctLU1OPfVU+fLLL6scq4/boUMHefTRR+WMM86QV155pU7Ba8OGDSZQazj+v//7PxMe9fH1IoHbBQWl71Of/+abb5axY8ea+7766is57bTTJDs72wTYiRMnmtd+yimnmOBpCQaDcskll8gRRxwhjz/+uAmhd911l3z66ac1tof37NnTBFcNsHl5eaaKbVdYWCgnnHCCWXt+xRVXmACsF2UmTJhgLmAoPU//+te/zN/JP/7xDxNwNVC//fbbMX1uq1atMkH5b3/7m7k4oZ0Vf/3rX83r1PX2Tz31lLl/0aJFctlll4WG3H300Ufmb2aXXXYxn5O+nmnTppnPvnnz5qYzY/LkyVWG4k2dOtVcRDn66KNjeo0AgMShRRwA4Am6dlgrpxpCNGxbtH1Yq4xaAdQQrFVsrWTuu+++5uc6GOuXX36psiY5kn//+9+mLVlDYMuWLc19Xbt2leOOO65KtbSm59F11vr79rZwZ8VZg6D+/OmnnzZt3UqDuFZXNXxqiLZoWNfnU1ql1XCvFX0NcbWhYVMvTOgFCw3W1nNoWNbn1teQnv77dfjnn3/eXHDQtdwazC1audXPR0NrRkaGuU8r2dpRoKHTGjynwVEvOmjAVVqZ1QCp72HQoEGur3HTpk0yffp0ufTSS833+plrQH/zzTfN+9bvldUpoLf6N6I0wGsw1QsAWr3W96nhXy9eWJ+h/o6Gcn2v0QoEAlXOuz62Bny9QKKvTWl1Wzst7rjjDnMhQy+y6AUMfW16zvUiitJz/8ADD5hj9G/6nXfeMa/nwAMPDP1t/+EPf5B27dpF/foAAIlFBRsA4BkaQjSAWNVkba3VyqAV+Nq2bWvCqoY3rQprCH3mmWdk9uzZUU+f1hZkDcRWuLYCY/v27UPfx+N5lFZ6tVXaCtfK5/OZcPr999+b4GZxrp0uKCioU4u4Pre2Ulvh2qJt2OvXr5clS5aE7tPPWNvhNVTaLzRoC7O2fWsw1wCt4VO/OnXqZIaS6edip89n0XCpn3Gk96CVdL3YoRcdtJVav7RFW281jNrPWceOHUPhWmn41lCtgd5qudcKuJ2GXq3Gx8r+PPo+tLKv4Vr/Lv/3v/+ZCrt+Zkr/HrSS/+OPP5oqtRWulf6OvsZWrVqZIK1/Y3rxQK1Zs8Z0RFidAgAAb6CCDQDwDN2KS6urGq50jauuvdbAYh96paFM17KuXr3atN5qGNL25WjpmloNa05ahbSr6/NYz6Xhyknv08BqX29uVWstWl2uyx7b+twahN2eW2mItU8h15Cr1WatKOt6ZesYbf1+4oknzJeTtmnbOT+fmt6DroHWxz/88MOr/UxDrNXJoBdatPU6HP25inRMLLRN3U7b3G+77TZzUUJ/1qdPH8nNzTU/0/enn7XeRnp+/Sx0uYB2FuhyAA3aeuFFLygAALyDgA0A8Az7WlUN2BpCNIDo/UrXE2v7rg4K03XKWmlWGsrtg8MiadGihWnZDRfS4vU8Stfvuj2XVpCt16Lt6PVBn9t6nnDPbdHBZFrB1nXOeqst0Br+NEzqBQ5tK9equ5PzokAsNNTrsDkd7Ga1Y1u0tVw7BnSImF7YaNq0qesQO+0o0PeZn59vvteWeK38W3QLNT2v2omgtFpuF02HgC4L0HXr+nepbfJ60UI/k//+97+h9eX6Wel99sFvSmcKaMVbOyT0b1gD9iOPPGLmCuhQO61wOy9SAACSGy3iAABP0aqlhi9tcdb2ZPt6YJ0arRXPv/zlL6HQq6FJ99BW+rOa6PpXfRz7UDMdRrZixYqYn8e+htnNfvvtZ1qJ7ZVqfRytzOuacm0/ri/63Po+dB2yszKv1frOnTuH7tPvNSDecMMN5oKArru2gqNOB9fKrb5e60uHkmn7tbbz15au39ZwqWumdX27/Usvauhnq+vClQZwPT86WMweXvX86Dp2K0Br9d1Oh8rdeuutofeibdl20Vws0VZ+fS4dcKbr7q0WcCtca+VaL0TohQCrbdyiQVp/z7qIou36ujZclx/oxQMN3AAAbyFgAwA8xVqrOmnSJNPKrYHEotsvKR3EpZVBXd+qlW6thEZbkdRAp1VPDXH6+9qOft5554nf74/5ebRyqoFUp067VaJ18riGM524/d5775ktss4880wTFq3BXvVFX69WTbX6rJ0A+hp1orW+H711uzigrc/6+Wiw1eqw0tepW2np0DF9DA2x+h50/bAOpqsNXbes0721Ld2+Pt2iQ7+0iq6dDHpxQoOoVo71POkFAg23+tnqFm4nnniied0jR440Q9p0yre+tjvvvNMEXh28pnQtvA5E0yq0fgba8q23NdH3qOvm9bF1zbk+pgZ7bae3/y1oJX7evHnm89Jgre3v2g2gle9evXqFHk8vGOnr0DXsWtkGAHgLARsA4Cka/HTwk26/pMHKPjRKq5u6t7BWZs866ywzxVnDuE5ujrYiqa3RGiA1vOs2Thq0dBK2hrRYn0dfn7X1lU6EdtJK73PPPWfW5urWTrrFlFY8tYKpFxLqk1al9X1qQLzlllvMdmS6nly34bJPaXfS8KjvVadmaxDW7a50yJdWfzVE6pZVOk1c1xI7B7NFS7ev0nXL1lRuNzohXMOrhmwN4c8++6wJpDq0TLcD0y4C/RytdeYagLWl/z//+Y/ZLkvDs+7prQFX6X06EE3fiwZ1bZW3qtuRaKVfK/ra8aC/p38XSlvY9W9TlxNYAf7vf/97qKVcp4frTAF9XXY6ME5/j+o1AHhTWmVdJqQAAAAgbrRjQi9SaDdAvIayAQAaDkPOAAAAEkyr9tpCrtPRtXpNuAYAb6JFHAAAIMF0Crq2r++xxx5mqQAAwJtoEQcAAAAAIA6oYAMAAAAAEAcEbAAAAAAA4oCADQAAAABAHDBFPAq6z6kuVff7/Yl+KQAAAACABlReXi5paWmy11571XgsFewoaLhOxllw+prKysqS8rUhMs6dN3HevInz5l2cO2/ivHkT5827OHfJlQepYEfBqlz369dPkklRUZHMnz9fevToIbm5uYl+OYgB586bOG/exHnzLs6dN3HevInz5l2cu/o3b968qI+lgg0AAAAAQBwQsAEAAAAAiAMCNgAAAAAAcUDABgAAAAAgDgjYAAAAAADEAQEbAAAAAIA4IGADAAAAABAHBGwAAAAAAOKAgA0AAAAAQBwQsAEAAAAAiAMCNgAAAAAAcUDABgAAAAAgDgjYAAAAAADEAQEbAAAAQFRKA6USCAZkS8k2c1sWKHO9L9bH0e+jPba4vNjcbistlOLyEglUxPbc0byGmt5TpM9he1nRzte0defrLYn6vUbz3G6ys7Ojft+oX756fnwAAAAAKaCsolze/OkD+Xb1jzJ2t5GyZ9u+5n77ff3a9pHCsiJplpYuFZUVkuXLCvs47y78WArLiyTPnyuH9zpEju47UjIz/CZgZqRnSHF5qWT5MkPHNs/Ol5sOu0zeWfiRfLfmR7lq0Pny1k8fyndr5ld77vJgQPwZPikJlEl2RqYUB0rEl+4Tf7pPSivKzc/sr6F/275y+t7HSZu8VhKsDFZ7n/qa09PSq/2uvqaz9j1BeuzSVaYvmSUH77qfvLtwunlNJ+w5Rnq36i6TF0wNHXvygHGyR9s+JoTr6yqpKKtyG+m5nceG3lNWpnTu0UUyfZkm1Odl5kowGDTf2z9LX3qGef/W75vPPjNXyit2fFaFZcWSl5kT+l031uNZn6v1GBVB93PdGFHBBgAAABCRBqs35r8nn/8y2wTbJRuXyw/rFlS777y3Jsp5kyfKWW9eaYKihkOrIqsV56LyYvM7r/zwjglnqkN+gfRt3dP8W6u1+nvXfXivCZDWsRpOrx5yoby76CN59cd3TPjUf/9vxZzQc9/00f2yattaCUqlfLzscykqL5EpC6bJddPvlcrKSvlo6WdSFCiRDUW/yes/vht63EmHXCxXDDpPZv7ylcxdO19et72n9YW/SWlFmXy6/AvX371x6KUmYOp9rXJbmnBtvab8rCbVjl2zfb2UBEplxrL/mcezbvV11vTc9mPt70k/pykLPzT3LfxtqVQEg+YCg3UhQz/Lyspg6P1bv//LllUSrKw0FwD0mIW/LZFAsMKcI6szwKrGa/jWx5uuj7Hzc9VzfMP0v8ncNfMlLS09dOz2MLfbSrdXe1xntb+m6r4XELABAAAARKRVS63Cntj/aBNsP/j5U9mtTS95b9Enofte/fHdUGjWWw2KGpqskCeVlabiqo+jOjQtMOH2ukMvkfnrF8n3a38KBcyrB11gQqkeq8fdNPSy0PdNs5qYarX9uZ2h1gq7+pqsMN46bxeZ/vNMaduktfldfVwNvdbvvL94RrX3pL+jj+P8XaXHaNVa75u1/Osqr8m6336s8/Hst26fZ7hjne/JHuqtUL6haGMo3Ic71nrf9gskepFCq+VWGLdCvXVhwf651nTRYEaYCwLOn2lQN19v/H5RxssI2AAAAAAi0gpmenp6KERquNpasq3KfXYagifsc7xM/mlqKOTN+uUr2Vy8xYTvmsKt/Vjn927PHS7sWmHcuu+bVfPM71qPaw/Czse1fsftd63Hte7z+/xVftftWOfj2V9nTc8d6T05Q7n9QkC4Y+3v236BxBnG7Y9nfwxV04WA1hEuCNh/Zr8oo38r2rXg5Uo2ARsAAABARLo2t32TNqHQuLlkq+RnN61yn9LgfMXAc+XRI2+VPq16VAl5unZaf0fXXNcUbq1jC/JaV/td53M7Q60Vdu1h3Lpv1fZ1VR7XHoSdj2v9jvN39TVYj2vdVx4or/K7bsc6H8/+Omt67kjvyRnK7e8p3LHWMfaLFOEuBLh9rjVdNJgV4YKAM6g7aZeCdkx4FQEbAAAAQEQ6xGrfDnuGQqOup5239ifZp32/0H1WVVrblHUN8NbSqiFvTeF68ztj+gyvMdxaxx7R69Aq34/sOaTacztDrRV27WHcuk8HeNkf1x6EnY9r/Y7zd/U1WI9r3Xdw532r/K7bsc7Hs7/Omp470ntyhnL7ewp3rHWM/QJJuAsBbp9rTRcN/BEuCNh/5kbvLyorFq8iYAMAAACISCdEH95rqKzbvsGERvXcd2/I0G4Hy9rt68199pbhaYtnmOFf9pCn/9bfGdZ9kJn2HSncWsfqVO7mOc1C3x/e81A5ZrfD5fUf3ws9tzPUWmHXHsbt99kf1x6Ene/J+h3n7+prGNF9kPy4bmGV+/TCwtDuA0Ofh/NY5+PZH7em5470npyh3P6ewh1rHWP/vMNdCHD7XGu6aFAe4YKA/Wdu9P7czBzxKgI2AAAAgBrpFlrZvkwZu9vhcuzuR5jgdP30+8wkaL2vf8FuofbfN3+aWi3k6b9/3bZG7vj0UbP2OlK4tY7V4Vi69lq38dLv9fm6tdjVDEYrD1ZI27zWckTvw0LB3x529YKAFcbt9x3YaS+5/dNHQo9rD+7O96TDwvR37L+rr19fw+5teputxQ7adW9zX+vclpKVkWkGgenvWvfbj3U+nv111vTc4d6TFerdLgSEO9Y6xv55O8O42+NZr6GmiwYHR7gg4Lyw4KTnRDsmvCqtUse5IaJ58+aZ2379+kkyKSoqkvnz50vfvn0lN9f9ChCSE+fOmzhv3sR58y7OnTdx3lL7vD095xWzFdQ5+50k7Zq2Ma28Wm2sDFZKUaBYbvr4Ably4Hly4ZRJoZZxrWrrvtA6qVr/rWtvzz/gFDO1WidaW8dYa7HP3PcE6blLVzPsyrn/9XuLduxbrWuoR/UeKod2O9gEf93eS9LSzO+YPaT7/lH2LNhNyivKJduXJcWB3/eB1inbGoT1Pt1n2/47/Qr6mm2q8jObmD2pK6XSrAcuDez4nd/3kP59z2jrGOuzcO5Bbb8/3ONFetxwx1rvSSezl1WUiT/DLx8umVllL27rPemUb30Mff86pduX4Qu97xP6jZberXuEvtfzpFuWDey8v8xc/qW5tT+e/XPVz+jDpTv2/7aOnem4tX433OPqeXfbD92reZCAHQUCNuKNc+dNnDdv4rx5F+fOmzhvqX3e7vr0Mfl61Vw5c58/yYgeVSuQuiXXpe/cJHeNvMbsh21NCz9xzzEm5Okk8hx/lmSm+03gy4wy3FoBVYOhBi/re61yauu6nVuo1eeJpDa/k2znbunSpdKtWzdJ96dXCeX2wO58T873XV4REH+GT0rKd9xvvxjhdgHAejzrccJdCChxXBCI9Lhu59RredDXAK8HAAAAQApYvX2duS1o0qbazzQcDeyyX6j9V7dg0rbuu2f9w0yS1kr04M77y8ieh0iTrDzzO2P6jJBxux1uQp6Gryb+XFNdtdP1ukortW7f21nhzDommgWxtfmdZFNSUmL2mbbeiy9zx2fTLCP8e3K+b+vzbJL1++dqnYsmGeEfz/mcTTLcb5tm1Py4bufUazz45wMAAACgoWnVcu32DebfBU1aV/u5Bi37OmNd/2sNstLfPaDjAHO/vUKp/9ZQpSFPb71UOQbceP8SAQAAAIB6YbX/ant3rj9H/u+gM+SF7yfLLrktXI/XFu6hXf9gfufI3sPkmN2OqNL+m2xra4F4I2ADAAAACQyudVl7Gq/HcaNrnt/86QMzaMwaQqWt3zcc+n/mOcMJ16acCu2/QE34KwcAAADiEGSjDbtuwbU205Odj9O/bV85fe/jpE1eq4jDraJ9v/rYr/zwTui+9PR0+fLX78xwqsN7HZqUw6iARCNgAwAAABFEE4ijCbvW3r7O4KrDv7q22NX8e0vJVsnLzK0Szq3gXhKwJi4XSWZGpkxeMNU8jk7qvvTgs6R3q+6/T+XebaTZj7qwrEiapaVXmcptPc7vE5yLJC8rV7r26CZpaWnmOTPSMsx7UWYSeP+jzeNtLdlm1ksH2YgIcEXABgAAABzsofadhR+GDcTbSreb495eMM017NpD+XF7jJLh3QeHgquy7xX96BdPm8c+ecA42cOE42KzbdL0pZ9V2dt4/B6jpF+bPuZxrN/fVLJFXv/x3Sr7Sr/+43smaO/Ztq95Lutxqu1tvPMYf3am+H1+KQ+Uy9ay7aFttuyvL9n3KwYSjSniAAAAgI1Vjb5zxqOSleGvHogPu0yWbFwuN0y/T6Ryx9pie9jNz2piwq4Gbiuknn/AKTK020DZXl5k7rNoZVjDq25ppeFaf3/N9vVmn+gNRb+Zx2mV29KEYQ3PVw06X9ZuWy8bizebx9Hfn75klrRt0lreW/RJ6PGsY/V1/rBugQn71uO0ztulyuOtL/zN7EusFxLmrp0vUxZ+aKroGqTtr8963Xqr700fUy9EAPgdARsAAAApR4NfIBiQLSXbzK09CDp/VhYoC91fXF5iguPnv8yWiw86Q7aW7qjkKg3KVw+5UN77f/buAzyqMvvj+ElmUgmEDgLSCYQO0otApKsUsay9rRV7wY6KIuhfsRcsu66sZa2gK01EpUi1onQEZIFQpaTOpPyf8+IdZyYTSCDJzJ35fvbJM0y7uckV19+c8573z8Cpld/Fv6+QA9kHA4Zd6z0amjXoPrnoFakUk+DZuiqlRlPpWLe157VWmNUAPH/TInOcxVtXmtZs7/D8weqZpk27bqVa5rnvdqwyrdu6Rtr/tXM3LZTWtVM8xwl0PCtwW6+dsfYLs5f1yFaDPK8NRD9UONqwMyASEbABAAAQNqFZ26qtCvRV0++Sq2aMk9tmTpCvNy8xj1vPjf/yKVm/7zfJLygQt4bsfLfM3vC1WYOswVHD57xNCz2VXA3KE9JuN1Vmfb5yXJIJnzPXfxUw7Fqh3LuifGOPy2XH4V1mErceT6vHVoC3jmcFYOs42rLtH561LV0D8PCUAea5HRm7zTnUS6pd5LV6vt7H8T+ed+C2Xqvn885P02Vgs75mDbd3xd2bPp7lyq6w6w/YAWuwAQAAUHZ7JcclSMMmjUyA85+qrROtixu0Zd1m5+WYluuYaKdnOFhefp5ERzt8hohpoD29ZZoMaNrbZ33xH9kHZOm2702F2WrNtoZz6eAwHQym1WmtKi/6fYVpjbbeoxOye558iid86prj+sknmUDctHojU63uXK+d+f4nJ9czx0zP3BMw7Goo9z6OnocVtPV79zi5swnwQ1MGmNf6B2HrOLoe2js8W2FXA7AG/riYOPN71XM4pV67Iq+Nzon2OY7/8azv5/1aPZ/th9Nl8sKX5MEBt5j7gUK2Pp4Ym1Dh/7wBoYwKNgAAAEpdPdZWaqu92rtafPWMu2Tl3lUSHePwPK5rldfv/U0kKsoE4Sx3jizYslSy8v66/XzdPBk//ykpLCyUT/V9M468T1+7K/PIWmRd96tB9M4+18oTQ++TTie1NaHZWl9stVVrNda7Nfu6T++V55b+U5zRRyZjB2rF1vccyDlUJKBqkB3eIk061G3tqVZrsLReq3/W12i4r5qQ7Am7Gsqt0OxdUdbg+sSiV6Re5TqeVmx9rXU8KwBbx+ndqItPeLbay/U4+vvS9nQdOKbnkNa0t+zK2OPzWqvabR3H/3jW9/N+rZ6P0gr/j+mrPff96fe1JqMDOIKADQAAgKPybqv+/eB2s0WTVoJ/Tl8jn6yZ7RnmpTRMNkg+yUywtgKxBl1ttfYe2GWt+7VurTXN3gO1zJpmE4BrBgzN98x73LR0L9qyokh7tv/wMKsd27812vs9VsD0DqgaZF9eMc20SlvVag2c3mE0UNgd1mKA9G3YNWD1Wav0f/y5btt67eBmfWX17vWeAKzHtZ7TIWRpzfqY8OwddvX7TlrwogxtMcBUxLXirN9neMvTZHfGXs9rvY8zLCXN53je38/7tWNaD/N8eKDvGdN6uCfc6+3ZbYabKeLshQ34ImADAACE6brkkr420NAv7zXN1tAvDanWhOw5GxeYgVjew7y0svzSGROlVc3mZj2z8h785T9oy3v9r7UG2Tqedb+40Kz3W9Zoairp/m3V1npo7+Fh1npq/9Zo75Zu5V0JtkLnun2/SUJM/F+B888Aqh8iWH/WCrSG3WFeYbd+lbpSWFggXeq39/ke3tVvDckPzp8iTas1lDa1W5rQujdrvwm1PU7uZI5TK7G6xDlizYcTo1sPM+HW+1jauj6i1SCZcNrt0qhqA4mOijL7b1uv1dfo99BrEO+Mk1Mb95BEZ7zUTKxhXmN9P+vn0Nc2r9FEpo6cLA+l3SaJMfFyZquB8tqox+X1kU+Y25GtBrNFFxAAa7ABAABCjP/aZW3DDVQptCrL3nstW/sTa7DzWf9cWFjktee2O0NOa9rHPP7jztVF9kzu07Cr+b76Hl1DrEFZ1wxrcK2eWNUTfK3Ksq5p1oFhev7eg7s+XTNXejXsUmTQlvf6X2tNs1XltcKzf2jW9cxKv+d1XS82a5D926qt9dDe52Ctp/ZvjfZu6dbgbgXeKzqfa8KnNfTM+zX6/AXtR8rI1CHm9zui1WA5q/VwyXZnmyCuYXRMm2FmAFiMI8aE1/TDuz3v965+W9/z/xZPNeeqk8X12BqAz2g50FSOdS26IzpaosRpQq2G27NaHzl+ot8/H/ozKV3HrgK9Nin2SDh3Oo68Jq1JL4mOcsjpKad5vp/1z12y3/H8jw8ghCvYmzdvlk6dOsnHH3/seWzNmjVy0UUXSceOHSUtLU3eeuvIv1SPZtasWTJ8+HBp3769jBo1SpYsWVLOZw4AAFA2jjYB27vSbG0n5d2erbdaadbXeE/Kdue7i7zWtHJXOdLKbVWn/fdMXrz1yBZUVlu1dzXZuwrrvaZ53sYFnsnb1hpk/4Fd/rf+a5qt8KzHCRSalX7PmRvmy0/pq4u0VVvrob3PwWrHtqrTgVqxrbZoDbxTvn1dFm5ZJme2HGQqtqk1m/tUhDUQj5s9UVZu/9F8kBHjcJrz1+CZGJNgbq37GorrJtXyqT4Har3Wn7VJtQam0qzhV39+vU22juOMNa/TMO19/KO1aZfktfqYO9clWzduEVeuy/P9aP8GSi9kPnpyu91yxx13SFbWXxMK//jjD7n88stNsH744Yflxx9/NLeVKlWSMWPGBDzO0qVL5c4775Rx48ZJ79695cMPP5Srr75apk+fLs2aNavAnwgAAKB4xU3Y1mCsQdiagK0V5bwCt3mPVYHWwPvSGY+aP3vTCugVp5wnn639wjOtWqvOGo6t1+pxNZzqcaOjomXK4tc8E651H2Styr75/QfmVgNk/6a9PG3V3u3UVhXW2it52g8fmfd4T97W4wUa2OV/a1VyrT/rxG4Nz3prBWBrYrb/dG5rjbdWzzWwqkkLX5Rbel5pqvnayu7fjm1Vp7/8bZHnPdqKPTp1iLw84jHJcmdLldgkyS/8qzKcFFd8RbgkrdJWOPZ5v1+1uzTHKw85OTlB+b5AOAmZCvbzzz8vSUlJPo+9//77EhMTIxMmTDDhWEP1ZZddJq+++mqxx3nttddk4MCBcskll5j33HXXXdKmTRv517/+VQE/BQAAwLH578WcV5AvGa4scUQdmXJttVzrMCrdRmpv1h8+U7Rv7fl3yfmzDTvw+udvPFXlhb+vKNLKrcfVVu5DuUffM9ka6mW1VXu3UyvvvZK92739B3f5D+yyBm1531prmq2J3Xo+1nt0LbKGZmuImHdV2grN1jplPZaG8YSYBNMqP6T5qZ5zUPr6R755TiZ89Yz5feia5NNbDjTvSanZzEwaT4o5Ujkurtpb0upxIP7v9692UzUG7C0kAvaKFSvkP//5j0yePNnn8ZUrV0q3bt3E6fyr0N6jRw/ZsmWL7N27t8hx9F/633//vfTs2dPn8e7du5vvAQAAcLyONgisuKFhGpp1D+eDOYc879F1ut5Dw6yJ2BMXPC9/5ByZLF3cNlJWQN64b7MJYlY79dFC87Faub0nXPtvFWW1MnsP/fJup9bXa+VXB595vyfQ4K6eDY8M/rKC8KmNupt1xtbALSvk6rnr78g7POtxxg+4RRzRTnOsUxt1K7JllbZsX//f++Thr56W8V8+KQkxcZ71yu3rpsro1KE+w8G2H0qXtXs3mj8nFdOKDQC2axE/dOiQaee+//775aSTTvJ5Lj09XVJSUnweq127trnduXOn1KxZs8ixtMW8bt26Rd6jxwIAADge/sPEmldvLPf3v0n+u25ewKFhOiBM1wHr9lNWZfiqLuebycyOKKdnaJg1EVtD8kUdRku1+GTPMC+r5doaEKbfw+c9f7Zhaxu1Pqa3Gpp1CJn/tlBHa+U+2p7J3kO9vId++bdTawW+T+OuxxzcdVbqMPP6IwO7YkyoTfpz0JZ1q4/phxF6PlbIto6jv8fq8clyW++rzX7ZWs3Wqr5Fz1+/NEhrq7VPRTj6+Nu7AcA2Afuhhx4yg83OPPPMgOtAYmN9P0GMizvyL8nc3Nxi140Eek+g15eG/kvce314KMjOzva5hX1w7eyJ62ZPXDf7qqhrp4GxMFpMi7O2Y8c7Yj2BWSvO+vxn6+f5BDmdtq3rnDVIWnRLpq71O5rqdJNqDT17O1sVZq1OazW6c712PmuIrec1JOt/b1jDvIrbesqaou29Lvloodlq2X7ktDsCtnLr97aq03q+1mPea5r1QwJtq+5QJ1Uu63yuCcpmsnWUQxIccRKVLzKq1RD5cvNin/fo9/AM7qpUU9wut8ZqceW4zGvyXHmBL4ojqtjw3L1BRyksKJCogijzPVWRKeqthki+O1+yXEX/2y1f8iUm6q9zCPSaSMS/K+2La1f+9N/N+v8FIR+wdfCYtoF/9tlnAZ+Pj48Xl+vIv/wsVlBOTDzS3hMofAd6T0JCwgkPYdOJ5qFIW+ZhT1w7e+K62RPXzf7XTpeM6VdeXp75Kg3v91r3HQ6H1K5bR5IqJ5lhV/4V54s7niVt67SSKDmyTZPFe9snpQFZB4u1rHlkmOqiLbon8WDP89Y+0FpZfmrRqz5Dw4pUpSvX9YTmo209pbSy+/KKaXJVlwuOGZr1tVp1fnDALQFbuf23pNLHLup4lmd98pGtm7LMeuE/Dh6QjRs2Sn5+vs+10P9u63JSO0nQ93i2e/rrPRvWbSjxEC091oiUQSKFIrM2eIXnFv3N45s2bDLH0tcNqNfTtH9n5GZJUlxiqb8XfPHvSvvi2pUv/yJuSAbsjz76SPbt2yf9+/f3efzBBx+UmTNnmlbv3bt3+zxn3a9Tp06R41WtWtUE70DvCfT60tBha82bN5dQop9S6V+kxo0bn/AHCKhYXDt74rrZE9fN/tdOh5bGJsSZEJllAluiuLWyXBBlqgrFsaoNVnU6Jy/HtAzrl/5ZW4d1b+IvVi880mbtV3HWCq4OvbL2dFb63JWn/M3zWKDqtHfY9d8H2n9omH9VWgPv+PlPyT2njvVpufafom2dz7p9v5l9l0sSmnWY2pH276Kt3Fqd1jbuc9ueYdY46xZgGoz19+wsjDaV/NioGHHnuiUpvpIkNaxU7O/98MHDZilfvXr1TAD2vKdJk1Jd/8L8Qjkj5TTzM2hbuXU++ngTv2Pp94iPij3u7wX+XWlnXLvyt3HjkXkNIR+wn3zyySKfLg4ePFhuuukmGTFihMyYMUPee+898wmpfspsbcOl/1KtUaNGkePp/4F07txZli9fLuecc47n8WXLlkmXLl1O6Fz12IGq5qFA/yKF6rnh6Lh29sR1syeumz1pQEtMSpTpa+cUbQNOHRpw/ay1/VW2O1finLGmZfvHnavNQLFP186Vn9LXyC29/m6qykNa9JfFW1d62quVNQjMe02ztZ+yte1V8xqNPUPD/KvT3mHXfx9oa2iYVWH2r0orDbyTFrwoD592uyzaujzg1lNW63Rxa6aLC826HZhW5b23p7Jaua2hX61qNTfDvpTu7Xw89L/vtLOwrP5jP9lxYueDkuPflfbFtSs/JW0PD/oUca0qN2rUyOdLaXjW53RbroyMDLnvvvvMpwYff/yxvPnmm3LNNdd4jnH48GHZv3+/577um/3555/LP//5T9m0aZM88cQTprX70ksvDcrPCAAAjl/tk+qYcK2B0gqhGlp1jbOypnNb07u9t7/Kzssx4Vrfq2umNTTr3tD39B1rjrFy+88+a529K84auvV2xtovPMHVCt7vrJrhMzTsux2rfLa08g671lRu7+2trAqzvietWR+pmpDsmWxtMa/58ikzPVwnbJ/x54Rta+sp72nYurXVma0Gyd6s/Z7trgJNyvZMyHbESFqTXmYPZj3uayMfl9dGPiGvjXrcDAFj6BcAHL+Q/hhQg/brr78uEydOlNGjR0utWrXMxHH9s0Wf04r1/Pnzzf0+ffrIY489Ji+99JI8/fTTpq37lVdeMe1lAAAg9FgV50xXtqmw6mRna/Jz1eRkmfX1X+ufvQeCacXZqmiPSh0sg5v3k8/WfWG2v7LaqbXq7b1mWtc7L/59hWnltqrKgSrO/muareN5DxizhoYFqk57Dwjz3gdan/MfGnZDj8uLDPSyQvam/Vukbe0Us52WqvxnBdd/GrYGeA3N+nvU0Hxk/fNfv0//0Gz9fp2xTp8KsQZwAMDxC7l/i65bt87nfvv27c0e2cXx3ztbjRo1ynwBAAB7bX/l3f6tk7YzcjN92qetKrI1vVsDtz7Wvk6qREdFe7a/skK0vvfk5HomLFuTu8fNnmhaua2qsnfFee6mhUVCt/cwMe8BY9bQMO/qtLWllW5JpXs9a8jWCnTb2i0Dbm9VJTZJCgoLzM+rStoGbwVkPUf/nkRCMwAED//GBQAAQalY5+S5ZOb6L30qtxourftntDhNkuIqeYZ6BZrebVWL3X+2ifuHaH2v1aZtTe62Wrm9q8r+FWf/Nc3WMDHvAWM6NOzH9NUBq9O6b7MOMDu9ZZoMaNpbYp2xPlVnZ7RDkmISzZ7PFvZoBgD7C+oabAAAEN409Ooa6YM5h82tVbF+fMFLEueI8dn+SmmIPqVee2lZo7kJpbl5LlPJVS1rNDWDuqyAa1Wza1WqYYaRaRt1oBBtDQLz3htaA/GwFgOkx8mdTFW5VmJ1U3HW7aW0Gq7bPnmvafauUnv76zidzXGaVmtoqtOvjJgkU4aNl/5NenpCsladtZpcxVoL7fTd8sX/eatKDQCwDyrYAACgTKvS8Y5YM2BMA6LV/q1rm+/td4N8tflbs0Za1y8fys3w2f7KavVWM9bOkf/88qmc336kaZPW4N2nYVdzTA3IVqV62g8feSaA108+qUiItqrKOghMp4h77w1ttXLr+/VctIVbfwarquy/pjk7L1c61G3t2fZKz12r44u3rZQRrQbJmDZFq9P6PwBA5ODf+gAARJCjDRQ71mvd+XlmmyTrvlZ1tQqrVen5m7+V3g27mr2krW2wtLqs7d4anr2Hjuka6XmbFhbZ/kpf74iKlg37Nptp39Zj7/48w2xPpX/W6eEakJdv/yngMDJr+6tAIVrPu06lWj57Q/u3cmsbeHGDwIobMOb9Owy0JhoAEDkI2AAARIijDRTzXuvrynPppp/mtbp/tFaRW9ZsZiZ0633d8kqrxzpBO7GwwDyuwVfDtQZj7zCttDJtDR2zKs9WxVmDsO43reFZB4xpEH5+6ZsmhFvDzLR6rcHVqoRriNZ27kDDyDRQX9H53KOGaP1ZT2S9s3+YZogYAMDC56sAANhwLbO173NJ36trl609oa22bA27y/73oyzcskyy3dlH1kjnuSQ9Y498snqWaeXWtuoqcUk+93/bv1Wu+/Reefrb10079KItK0xo1uFeVpg+kH3QZzDZzPVf+QwasyrOw1ukmbZrfa+1RZYVwvUxZT2u77FCdP0qdaWwsED6NO7qszZan9ftryZ89Yy0qtlcpo6cbPZ4njL86OuhWe8MACgLfOQKAECYVJ79W7rz8vMkOtohszd8LUNa9PdUlK31zqYKnZslleOTTPhuXr2x/H5gu2nd1nCrVeT5vy32uW9VlfUYGrZ17bLVph1ogrcVjq2hY95rpP23v4rOiS4SwpU1Bdya4K3v06p0So2mclff62Th1uWeCeB6nuY1h9Jl7d6N0qpWc0mm0gwAqCBUsAEACOGKdYYrq0jlWUOrtmQrnZCd4871hPCrpt8lD82fYirWuzL3mcrzgq3LPYHV2trKqkL/duB385o5GxdI69op8t2OVT5h2f++VVXWgK7rqHVyt9WmHWiCt3c41op1WtPenjXSynv7q0DTvq2fMdAEb90ma/yXT0mb2ilmr2kdRvbayMdNxfq1UY+bNnC2uQIAVCQCNgAAIcYKy7fNnGBasL23sjIB+bTbTUDWIF1YWCi7Mo+0dGsI1/B9T78bTOW5TlJNE4i9Q661tZWpQlepKx392rN3ZOz2Ccv+973bvmes/cIEX2vP6EDbYA1u1tfsK63h2Grv1uPoGumz2wwvsv1VoBBuPa7H0y2zrOCttz0bdpaTKtcxE7s17OutVqxp+wYABAO9UgAAVPB07qO9VyuuOjRMw/LJyfV8WqU1XGt4nv1nQL6zz7U+Ldze07pXbv9Zep58iue9GmJHthr014AxrxZv7/ZsK/BaYdn/vnfbt/fk7kW/r5C0Zn0CTvBuU7ul+bKGjuka6Q51UuWyzufKWanDJMdv+yt939+7nO8zqEzDue4zfU3XC82WWVnu0g8nAwCgvBGwAQAo4zXSupb52q4XSb3KdSTTXXzg9p7Wre/VNuyXznjUU7FOcMZLtYRkT6j1ns5tVZE/XTNXejXsYr6vrpG2pnVblWdr3bIGYd17Wid/W6/13irLuw3bf7sr//s67dt/crcGaZ3sXSOxWsAJ3ue2PUPObDmoyORurTgnFbP9lbaeD2rYV0anDjND2LzfU8XBumoAQOjh/5UAADgBWn3WgKwVZ2VVhrUN2xq45b9FlBXKdVr3km3feYaGXXnK30w111orPa7PtbLj8C7PVlZWeNbnreq2FaT1e3gPGPNuvdbjWxXgBwfc4nmt91ZZ+horSCt97fntRnjCsv99q+3bOrYGaQ39+kGAVsoDheljbW/l/7x+APHbhk2SmpoqVRIJ1ACA0Mf/SwEAcAIcfmukfdY4V65rKsUaZjUMK21tdkRFeyZ7W63dGmy13bt5jcY+a6W995W+Y9Yjnunc1rpqK0gPTxlQZMCYd2DW76NDwY68Nq1Ii7f1Gq1GX9TxLBOkdVBadFSUT1i27sc4nNLWq+1bj6Xn0r1BR+lx8imeDxLYKxoAEEn4fzsAAE5gfbU+Zq1zttq2rTXOGlw1JOt9a3utizqOln6NeviskfbZ/ir5JJ+10vq8tZWVd3jW13oHaSuEWwPGvCvRo1OHyMsjHjPhvkpskhTUKTTP+bd462t0Tbbue60/o//2VkXCcnTRtm7WRAMAIhkBGwCA41xfneXOkUoxCZ51zi1rNDVVX//QbNH26e4NOsvB3KKt3Rqmlf9aaf+trLzD8yerZ5t2dDVp4YtyS88rzf7Y2q5uheaRqUNMaI6OijZrunX9stI1zdZr/Vu8T23UTYa26F+i38+x2r4BAIgkbNMFAMBRKtfee1Bb66t13fRVM+6SB+c/JX/kHDRBVZ+7ruvFZqsoKzRbe0Z7TwD/8s+9o/1bu60wba2V1ipyoH2grYpz02oNZfyAW8RdkC8jWg2Wh9Nul8SYBBmVOtRsf6Ut5BqadU32DztWmeNoSLckeL3W+j5Wi/ewlDS2uAIA4DjwMTMAIKKUZDst6zXRUUdfX21tTzW0xQDp3qCTzNww3wwj8w/N3ttnTV8zV+pVqRuwtdt6va6V/jF9tacVXPmvlbamc1vD03RNtH6pkrZt62O0eAMAUHYI2ACAsBcfH2+Gcfm3exc33Xv+5m+lb6PuJmhboTelRlPpWLe1p5XbO2x/+/t3Zjq3Bl/v7bSs0Kyv9Z4A7h2W/Vu7LX+9JsoMRCvNPtCladumxRsAgLLD/4sCAMKWBuSYuFip16S+iDPK0+5tTfduXydVXPkuiZYoyXBlmenen637QppUayjzNi7w7BGtoVlbw3UtswZk72FmKjsvR/7IPmie06/x85+Se04da0LznI0LfLbP8h8spmuktZqu7drKCv/a4r1420oZ0WqQjGlTdO9o9oEGACD08P/KAABbsNq2c/JcEu+IlZz8I7dmOndsYpFWb6ta/ePO1XJO29OlXe1WJrx6t3bn5rtk0dbl0qdRN5m/aZEJ1Iu2rDBrmr33iNa273mbFvoEbu8WcGvLLKtirQF60oIX5eHTbjdTu/23zwq0d/TwFgPkjJYDS713NAAACB0MOQMAhDyrbVundi/YslSy8nLk83XzzKCxh+Y/LT+nr5GoqGhThc7LzzMVYa1WL/n9e1N53nV4j+zPPuBp19bW7lqVasis9fM9twt/X2GCcIwzxmeP6OEt0qRD3dYyY+0XnoDsHaj9h5BZTJX6y6ekTlJNqZ5Q1TMBfFiLATKm9bAig8X6Nu5uhpRpgNZj6y2DxgAAsBcCNgAgKNXovII8OZhz2NzqllHe9115Ls9r9TkNyzUTq/sEYq0Ca+VXq9HpGXskJy/XhG9t19ZhX1qttsL0B6tn+myJtXjrSp9bXTtthWZ3ntsTnjUk6x7U1pZZVkAe3KyvrN693idQBwrPeswN+7eIuyDPtIt7TwDXPadfOONRmTpysqlcM1gMAAD7o88MAFBhTHCOivIMGjMB+bTbZdb6r+Sn9NUyuvVQE3hz3DlSUFgo0dHR4oh2etq2p/3wkVmz7D9oTFu4NXTr7eKtR4aJ6XutddIajr23xLKq1N7VaqWv6d2oi08rt/ce1N5rp9vUbmm+dHia/ixHG0KmlWjvNdb+E8C1cg0AAOyPgA0AqJC109oKrZVm3UPa2npKB41pMF667QdTidaw/Mnq2UfaujP3yJrdG0xYDhSIrUFjVui2bq1hYvWSavuEZ+8tsawqtXe12nu6t67P1r2glVa3i1s7rZPFNWyflTrMJ1AHGkLGllgAAIQ/WsQBAOVWrbYGjeka6Znr50vtpJomsHpve6X3vbe80ir2/N8WS52kWjJz/Vc+Qdg7EFuDxvzDtzVM7JR67XzWSWsw1uneB7IPSp/GXYtUq63XaIW6VmJ1iXPEyukpp8lrIx+XVjWby+jWw+TsNsN91k43qdbAnKcJ1CVYN63PscYaAIDwRcAGAJzwGmq97x+stVr9yepZZpuq1rVT5LsdqzwVZZ3kbW17ZbVya9C2qtLWa62wbAVh70Dsv2baO3xrJTqtaW/ZlbGnyOAxne49tMUA2ZO531Sp92TuM7fW2ml9zUvLp8nsDV9JnDPWhOfKcZU8FejXRj0ur498wtzqfSrQAADAQos4AKBUrKq0tV+zhlId4GWtMdZg/f2OVWZLKw3N1ROrmrC8I2O3JwBrxdra9sq7lfvk5HpFXuvftq3balnt2zpoLFD41kq4VqKv6HyuqTxb66Q9+0v/vkIGNOlphqH1a9zjSLW65UCzdjrTnS2V/mzfjvELz2yZBQAAjob/MgAAlGoP6pnrv5QPf53peU5D68/pa2Vo8/7y1eZvZUiL/qYC3athF/NcdE60CaTaUq0BeGSrQZ7hY7rPtHcrt1WVtl7rHZZ1rbMGYd2zOtEZbwKx7oPdtnZL+XLz4iLhW8P9I988Jx3qpMplnc4tsk7aCsvO2CP/V5jkOHKb7Ld2GgAAoKT4rwcAQIkq1hv2bpZxfa8zlWCLtnpfccp50rJmM3N/5fafpefJp/hUoL33iNZq9COn3eGz7ZVWp61Wbg3T3q/V56yw7D95Oyn2yFpoldakl/kAIGA1OiZB9h/8Q9wut1RJIDwDAIDywxpsAECxrD2ol/z+vdzc80qzZtqayq3hWgNwlbgkmb9pkRkeZgVr7wq09x7RPU7uJM8uecO8x3vbK20Lt4aI6RRx67W67ZW1Z/QrIybJlGHjpX+TnkXWPVvDwyrFJpo100l/3ibHVxZXrku2bf5dCgsLg/I7BAAAkYOADQARzhpYluHKkrx8HVx2yNzXyrXuQa0Va2vNtAZYa4q2PuY/7ds7WFuhWoeHaeu3BunmNZrInX2vk9x8t1m3rTRkayv3hK+eMdO6H0q7TaKios2+17qtllbHndEOSYo5EpqZvA0AAEIVPXIAEKF02rdERcn8zd9K74ZdzX7U2oqtFWqd8L07Y590rtfWM+XbWjOt4XnupoXmsU/XzDVrra1p3/6t3VqBHp06xFSgdf1zldgkyS/MNxVmayiaNXxs+6F0Wbt3o7Sq1dxM7bZY+0nzkTAAAAh1BGwAiEDWNlpLtn0nTas3MuFa1z8r3SpLt9V68/uJ0r9pT58p31Z4To6rXOy0b+9gPTJ1iAnWzqi/KtD6P2Vte3VW62GS5fpr+BjbXgEAALuiHgAAYbgXdXGv0aq1rqvWQF07qaYs3rrSswe1pWWNppLtzvFUpb2nfFtrpusk1ZTqCVV9WsKt53TN9PgBt0ijaidLdFS0JDjjTbCOdcYWOT9r7bQeX29p/wYAAHZGwAYAG0/2vmr6XXLVjHHmdvaGr8Wd7w74mofmT5H1e38zLeG6rlqnfWsFOsYZ46lOW4PLrut6sWettVal05r29kz5VhqkJy18SVbtDrzWWqd9j5s9UX7Yscq8PiEmPki/JQAAgIpFizgA2IxWpTU4W3tRayjWgWPt66SafaqjJMoMEft8/TzzGmva9x85B82078712nlau915bk91WkO2Hmfmhvmmbdx7D+orOp9rpnxHRUV51kx/8Mvncn//m8xjxa21pt0bAABEkqAH7H379snkyZNl4cKFkpubK127dpW77rpLmjVrJhdffLEsX7484Psef/xxGTVqVMDnLr/8cvn22299HuvWrZtMmzatXH4GAKioYK17PUdHOTx7UVvhedHvKyQ33yWLti6Xvo26mVZr6zXWtO+hKQPkqUWvSv+mvTyt3b0bdfG0eFuDy3SYWdX4Kj57UOuU7w51UuWyzufKWanDTIjWNdN6HO911N7Tvq211gAAAJEi6P/1M3bsWPMfaK+++qpUqlRJnn32Wbnssstk7ty58vzzz4vb/Ve7o+5heuutt8rBgwdl0KBBxR5z3bp18tBDD8nAgQM9j8XEUEUBYF9Wu/fOw7vlko5ne1q6NTzP2vCVZ1CZ3i7eusJUqfU1OrDsWNO+NZwPS0nzDC7T9+mXVq4vaD/SVKV1/2vduzqvIN+E50CTvbUS7v8YAABAJAlqwNagXL9+fbnmmmskJSXFPHb99dfLyJEjZcOGDdK+fXuf1//73/+Wn3/+WWbMmGHCeHEVcf3q0KGD1KpVq0J+DgCoiJbwJb9/b/aFjouJMy3d1vZZ0374yEzrtm51/bNWqfU1WokuybTvOEes9GnUTeKdR45tts06nG7WU2tI1+NoO/mU4eOD/esAAAAIWUGtMyQnJ8tTTz3lCdf79++XN998U+rWrSvNmzf3ea0+98wzz8h1110nTZs2PWr1WtcDNmnSpNzPHwAqYiK448+WcGt99E/pq00F2grP1qAy69a7Sq1DxzRYH2vat/57U9vPdd30sJT+Pud2ODdDth3cIX0adzXbaAEAACBEW8QtDzzwgLz//vsSGxsrL7/8siQmJvo8/9prr0l8fLxceeWVRz3O+vXrpXLlyjJhwgRZvHixOc7QoUNNZVyPfby0PT0r60hLZqjIzs72uYV9cO3C87ppSNV/VxzrvrmNFhOIc/JyzHpprVBbw8PqVqol57Y9Q7rU7yCO6GjTnm1Vq73XR2vV2XtQmffAMu8q9erd631awq111Vqd1u91ess0GdCkl0heoRRIoYxqNcS8xjofPZ6Gbn08350vWa7Q+nfhsfD3zb64dvbEdbMnrpt9ce3Kn/XfbyURVej9X39BtHHjRsnJyZG3335bZs6cKe+88460adPGPJeRkSH9+vWTG264wQwwO5p7771X/vvf/8o999wjp5xyiqxZs0aeeOIJ6d27t7k9HqtWrRKXy3Vc7wUQ3vSDv9on1ZGqycmSkZspSXGVJMeVK/GxccXeLygslOlr5phtta7vfon8tn+rmdbtPQ1c6dZY3+9YZYaTTfz6Obmxx+Vyw+cPmOfMa9uPlLZ1Wspn6+ZJk2oNzXF0DbbP8dqPlPZ1W5v3zFg7R37cudq0hLerm2qGkum66oOHD0n69p3m38FFf6YsSYpLlD8OHpA9O3d7XgMAABBJYmNjpV27dvYJ2BZtYzzjjDPMGupJkyaZx6ZPn24q3FqRrlKlylHfn5eXJ5mZmab93KKBXYej6ftr1qx5XAFbf03+bevBpp9SbdmyRRo3biwJCQnBPh2UAtcuPK6baauOccj0tXNMtddUlk+7XWat/8qEZ//7Wg2+u+/1smHfFvlo9UyztvnFMx6V6z6911OV1oFlLWo0kd8PbDfBWp/TEL794E7PfWvAmUqp0VTu6nudLNy63KyhXvTnrQ480yq1d0X8lPrtJSbaKZk6ATwmQfJ0z+z8I5/KFse/Cm9H/H2zL66dPXHd7InrZl9cu4opBut/E5UkYAe1RVzXVS9ZskSGDBkiTueRU9E2SA2yu3fv9rxu3rx5poJ9rHCt9Dje4Vq1aNHC3Kanpx9XwFb6C/VvWw8V+hcpVM8NR8e1sye9ZtEx0Ucq0WvnePaj1iCswVarx4HuaxjWNu/nl75p7res0VSy3TkmBJvXbvjKbJWlg8o+WT3bTP3W56zWbq1oW3tTW9bv+03Gf/mU3NLrSkl0xku/xj1M6/jpLQfKmNbDTZiuFJtg1k5rK7pK/nMCeIwjZFYJVQj+vtkX186euG72xHWzL65d+Slpe3jQh5zt3btXbrvtNhOyLbot1+rVq80+2JaVK1dKz549S3RM3Ttb28P9K9C6TZd+qgMAxzt8LCYuVpo0a2qq1lqR1n/ZWntNW9thadXYCtMd67b23Nd2ba1e63pqDc16/7quF0ul2ERTYbbeG2jqtzWUTB8f3XqYnN1muHlc6W3Php3lpMp1zPZZejy9TfrzNjm+sjijnZ5wDQAAgPIT1PKFTg8/9dRT5dFHHzVfWnmeOnWqHDp0yOyFrXbu3Cl//PGHtGrVKuAxtB1ch49ZW3JpNfyxxx4zW3z16dPHhGtde63D0ZKSkir05wMQHntPW8O+mldvLOP6XGeq1sv+96P0PPkUT7u2dzXaP0wrXVs9b9NC0+atodiaCK5rpoenDPDsPx2dE11k6rdWrDVkP/LNcya4a7v3qNSh5vtZ1elYR0yQf1sAAAAIagVbTZkyxVSndY30OeecIwcOHDCDzurVq2ee37Nnj7mtWrVqwPf/4x//MEHactFFF8l9990n06ZNk+HDh8uTTz5pwvrNN99cQT8RgHCQ7c6W6Wtmm/ZvKzTfc+pYSYxNMIHb2v5Kw7J3NdoKzxqmrftWdXvG2i9MaB7ZapCnYq3t370bdpWqCcnmtbollhWs9blhLQbImNbDPBXr7YfSZe3ejebPVKcBAABCS9AX4OmWWg899JD5CkQr0bq3dXFuvPFG8+XtwgsvNF8AUNp2cN0LWqvHjminp/3bhOt+N8i3v6+UTie19VSlrSCsVWirGm2FZ91Oq37ySeb55dt/8lSoNTQ/ctodkunKMvf1a/z8p0x4162wNNB7b6c1eeFLZur3yyMekyx3tlSJTTJ7VVOxBgAACD1Br2ADQLDXVx/OzfS0g/+cvkbm/7ZYDmQf9FSuJ6TdbtZGf75uvqdqrTQID2+RJh3+XGut9wc26+sJz1YFum/Drj7rqTU06/ZYnqr04XSZtOBFGfpntVqr47rmunmNJvJQ2m2SUrOZOKMdkhRzZF01FWsAAIDQRMAGEJGsQH3V9LtMy/Unq2fJnI0LpHXtFJm5/itPINZ278W/rzCBOz1zj6dqbQXjl1dM8wRq//BsDSerX6WuFBYWmAq1Nfn7x/TVnuNYx3rwy6ekabWGMnXkZBOsO9RNNe+zWsFjnbFB+30BAADg2AjYACKmSq1DwfLy8yTDleVZX63h15r2bU3wtoK01e7tHbj910Wv2/ebJMTEe6rR/uFZg/P/LZ4qE7954c/3Df/rOClpnvtKK9ebD2wzf2Z9NQAAgP0EfQ02AJR3lfrHnavNVO9P134pG/dtkXF9rzPrq/2nfVsTvK0AbK2V9q5c60RvrUpf0H6kWRet7y0sLPSsn1bea6g1uJvq9qF0WfT7ChnRapCMaTNMslzZkhgTL2e2GvjXfSaCAwAA2BoBG0DYTgH/bN08E3rv7HOtzNrwlSzd9oMJzVagvr77JT5bZ3lP8NYgre3eDw64xRO4vUOzVqV1/+rTW6bJgKa9zbZZSoO71Sp+TdcLTYVah5NZ4dmqSGuQV1qlDnQfAAAA9sN/yQEIy8q1NQXc2iJLp3p7B2oNx/7TvjVU+wdpq907UOVaW8q1/dyqOI9sNVjOau1bjdahZFUchGcAAIBIwH/tAQirLbZy8lyyeOtyz3ZaJyfXM+uqo6OjfQL18JQBPltneYdqDdIXdTxLprYeJrl5LjMlPCoqygR2/8p1YkyC5xyKq04DAAAgMvBffwDCYt9qXWu9aMsKeWLofWY7rX5NeprWbh0cpoG3XlJtn0CtW2/FxcT5TPv2rk7rJHCtQFeOq+SpTo9OHSYZuZmSFFdJCtiLGgAAAH6YIg7Adlx5Lp99qz/5cyJ4g+STzKRw76Fk1rrqU+q189mLevz8p8zWW9bWWda077H/vV8eX/iSzNnwtURHRflUp925Ltmx+X/mluneAAAA8EfABmArGqzTM/b47Futbd06Efy6rhdLpdjEIttpfbJ6tqQ17S27Mvb4bJ81acGLMtRryy2l1fDuDTqaLbQCheicnJwK/5kBAABgD7SIA7DVZPC5GxfIkBb9TaiunljV0/atA8xmbpgvTas3KjKUbGTqEMl0ZUudSrVkdOthnvXUZtr3ghcDTvum/RsAAAClRcAGYKvJ4Cu3/yw9Tz7FZ99q74ngOtn7aNtpaXBm2jcAAADKA/8VCcAWlesFW5aZyeA7MnZ71lJb66u9J4LrV6CBZXleVWmmfQMAAKA88F+VAEJyMni2O1diop1mey2tXFuTwXWNtDXAzNq32nsiuAZsa2CZ7oGtFW13nlumDB8f7B8NAAAAYY4hZwBChjUZfPyXT0lhYYHsytwj8zctMtO+vSeDew8w0224dCL4wZxDnongFq1wbzu4Q/o07mrawAEAAIDyRMAGEDJt4NP/3G5rdOuhMv+3xVInqZbMXP+VpyXcCtY9Tu4kkxe+JE2rNTRt4A8MuFmqxSfLqNShcnab4Z6J4Hqr9/VxttUCAABAeaNFHEDQ97SWqCjTBq6TvbWtWweWfbpmrvRq2MWncu0/GVzXV0dHRUuCM94MKVOBBpgxERwAAAAVgQo2gKAFa2tPa6sNXNdP65ppHVjmPczMvyVc11ePmz1RftixyhwrISbec1ytVOvQMn2v3lK5BgAAQEWhgg0gKBVrDdbf71glQ1MGyJOLpkr/pr1MmNYAreHYf5iZ/2RwDeJ5BXlUpwEAABAyqGADqDBWxXrmui+ldlJN+W7HKlOt9m4Dt7beCjTMzL9ynRiTEOwfCQAAAPCggg2gwrbfmr3haxnSor8J1rq+2r8N/OG028xrP1k9W+7ue735sw4zG506xFSus9zZUiU2SfILWVcNAACA0EMFG0C5hmpt4z6UkyGOKIes3P6zz/pq7zZw3bta28B1Mvj4AbeIuyBfRrQaLA+n3S4tazYTZ7RDkmISzTAz1lUDAAAgFFHBBlCue1r/uHO1XNB+lJycfFLAYO1duZ694RvTBl63Ui05vWWaDGjaW2IcTolxVD5yUD4SBAAAQAgjYAMol8q1huslv39vwrPuad28RuNigzVt4AAAAAgHBGwAZRKoHdEOyXRlS6XYBNMOrntaX9/9Epm14SszBbx+8knFBmvd01qDtTPqrzZw/R8AAABgJzRcAjiuddUZrizJy88z225ptXr8l0/J7we3S2FhoRzMPSzR0dHSrk4r0/atrIngPU7uZIK1tda6WY3GPsE61hkb7B8RAAAAOC4EbAClWlc9f/O3kuXOkc/XzZOfd62RT9bMNq3gOvW7SlySfL7uS6kUmyj1kmqbgWaZ7izzXv8hZo2qnWwq3QRrAAAAhAsCNoASV66nr5ktNROry6z182XupoXSunaKqVBf0GGUWWddJ6mWzFj7hVlnfUq9dp4tuCwasnWI2dj/3i/PL/mHREUJwRoAAABhg4ANoER0jfWiLSs8bd9V46uYCrXVCq57W1sVa20HT2vaW3Zl7DHrrv0dzs2QdnVbSX5BflB+FgAAAKA8ELABHHWt9cGcw+Y205UlMc4YT4g+kHPIVKitVnBrCy6tWFvt4Pr46NbD5Ow2wz2VbL3V+6NSh7KfNQAAAMIKY3oBFLuHtU4C10r1I6fdLgkxCeLOc3tCtFahvVvBvbfg0qnhGrIf+eY5SanRVM5te4YJ1NnuHDNlXCvXbMEFAACAcEMFG0DAtdYf/jrThOt7+t0gMzd8JT+lr5bejbp4QrTybwW3JoWPaT3MU7Hefihd1u7daP6cHF9ZnNFOKtcAAAAIS1SwAfjuZ/3nHtb1K9eVCWm3S1xMnKeSrftXL/p9hQxLSTOv17XY2gr+9y7nm1bwqKgoz97WL494zOxtXSU2SfILqVgDAAAg/BGwAXjawr/evEQ6ndTWrLG+vvslsvj3FdK5XjtzX780TF/QfqTEOWJNyB7TerhkurNN27e2iI9sNVjOaj1MslzZ4oz+awsu/R8AAAAQ7vivXiDSK9bRDsnNc8vn6+fJnI0LpF+TnlK3Ui0zGXzc7InSv2kv0+6tAdvaZqtyXJKpaMdFx8iEgXeYtm/vBSe6JttgEQoAAAAiSND/83ffvn1y5513So8ePaRTp05y9dVXy6ZNmzzP33///dKyZUufr7S0I+2pxZk1a5YMHz5c2rdvL6NGjZIlS5ZUwE8C2K9iPX/zt2bwWIzDadrArcFlw1MGmAng6Zl7fNZcW/R12w7ukI712rDVFgAAABAqAXvs2LGydetWefXVV+XDDz+U+Ph4ueyyyyQ7O9s8v27dOrn22mtl0aJFni99XXGWLl1qAvvf/vY3+eSTT6Rnz55FQjsQ6bLd2WaQWc3E6rJ46wo5kH3QVKiVDirr3bCrVE1INpXrQIPL2GoLAAAACLGAffDgQalfv748+uijptrcrFkzuf7662X37t2yYcMGKSwslI0bN0rbtm2lVq1anq/q1asXe8zXXntNBg4cKJdccok53l133SVt2rSRf/3rXxX6swGhyJXnMpVrR7RTFm1ZYdrAZ67/yrP1ltI28PHznzKhe1hKf8+e1k2rNTSDy14441GZOnKynNFyIIPLAAAAgFAJ2MnJyfLUU09JSkqKub9//3558803pW7dutK8eXP5/fffJSsrS5o2bVqi4+mQpe+//95Urb11795dVqxYUS4/A2CHddZ5BXkmXKdn7JH5mxaZ8BzjjCm2DVxD9aQFL8pQU7keLgdyDpm117om+4cdq8xrEmMSgvhTAQAAAKEnZIacPfDAA/L+++9LbGysvPzyy5KYmCjr1683z02bNk0WLFgg0dHRcuqpp8qtt94qlSv/OUTJy6FDh0wg14DurXbt2pKenl5hPwsQKrRaPWPtXGlevbH8fmC7DE0ZIE8ummoGl7nz3J7KtbaB6xZc1tZb2i6uoVqniI9oNUjGtDkyGTwxNsGsuaZyDQAAAIRwwL700kvlvPPOk7ffftusy37nnXdMwNZQrQH5lVdeMRXtJ554wrSPa8u3PuctJyfH3GpI9xYXFye5ubkndH7arq7hPZRY69StW9hHeV873Y+60CHy3z8ng484Y7B8snq29GrYxVOx7t2oi6dy/dHqWZ4tuLQN/FBuhpkSnpfvFskrFJfbJTFRTnHluMzxs1yh9XehovB3zp64bvbFtbMnrps9cd3si2tX/jQL6n9f2ypga0u4mjhxovz000/y73//2/z5ggsukGrVqpnntJVc12Cfe+65smrVKunQoUORIK1criMhwKLhOiHhxNpZ3W63rFmzRkLRli1bgn0KCKFrp4MCm7VoJg6Hw0wGr55Y1bSC78jYXaRivej3FWY/a6tyrW3gukXX6Slp0q9xD9m8YbPngyv8hb9z9sR1sy+unT1x3eyJ62ZfXLvy5V/EDcmArWuudQutIUOGiNN55FS0Kq1hWwed6Z+tcG1p0aKFudWWb/+AXbVqVdNaru/1pvfr1KlzQucaExPj+RAgVOinVPoXqXHjxif8AQLC49pZletvti6VTie1Na3e0TnRJljrjIJAFes4R6wJ2brWOtOdLZViEsx67cL8QmnSpEmZnVs44O+cPXHd7ItrZ09cN3viutkX16786eDtkgpqwN67d6/cdttt8vrrr0vfvn09leLVq1ebva7HjRtnwrEOPrNo5VoFCrsaLjp37izLly+Xc845x/P4smXLpEuXLid0rnpsDe+hSP8iheq5oeKunYZi+bN15fN186Vfk56mWm3tba3B2n+ttadi3TJNBjTtLcnxR2YbOB0h09wSkvg7Z09cN/vi2tkT182euG72xbUrPyVtD1dB/a9obfnWoWW6TZd+6VTxqVOnmmFluhe2tmTrtl0vvPCCjBgxQjZv3iwTJkyQM844w2zBpQ4fPmxCubV11+WXX272vW7durU59kcffWSOo+3mQDgPM9MJ4at3r5fO9dr5TAbXarV3sJ688CUZnTrErLXOcmdLldgkyS9kcBkAAABg62261JQpU8y2WjoZXKvOBw4cMIPO6tWrJ6eddpo888wz8uWXX8qZZ54p9913nwwePFgee+wxz/s1OJ999tme+3369DHPv/vuuzJ69GhZunSpGZBmBXIgHLfhmrV+vtROqumzp7WG6mFmm61hZiK4toQ3r9FEHkq7TVJqNhNntEOSYhJNtTrOeWR+AQAAAIDjF/Q+UN1u66GHHjJfgQwbNsx8FWfy5MlFHhs1apT5AsIxTDuiHZLpypZKsQlmXbUjyiErt/8sPU8+pUjlOuBk8II8Tyt48D9iAwAAAMJH0AM2gJKvr9Y9rXUyuA4v61AnVW7vfY0cdgWeEF7cOuvEGIZfAAAAAOWBgA3YIFjr+uol274zVen6levK9d0vkba1U2TOxq9lSIv+xU4I969cs84aAAAAKD80iAIh2AauYVjDtQbrmeu+NOurtRqt4Vqr09sP7pSoqGiZvmauz4Rw7zXXWrkeN3ui/LDjyOR9KtcAAABA+aKCDYTYNHBtA29evbH8fmC7DE0ZIN/tWCW9GnYxbeFauZ614StZvv0nz2NMCAcAAABCAxVsIERku7Nl+prZMmfjAmldO8UE60M5f62v1nXU7eq0MpVsrVBba663H043LeFNqzWU8QNukUbVTjbHS3QmMCEcAAAAqEBUsIEQqVw7op1mgFn1xKo+wdpaXz08ZYB5XKvWynvNtYZsbQmvHJdk1luf2qibDG3RP9g/FgAAABBRqGADIbDm+qvfFsuB7IMmPFvVae/BZdoG3rthV6makGyq1sp7zbX1mL6ne4OOMiwljco1AAAAUMGoYANBEBUVJQ2bNJKYuFhz//N186Vfk54mKB/OzfAJ1tb66kkLX5Rbel4pw1L6y4e/zvS0hlvTwllzDQAAAAQXFWwgCBwxDlmxd5Xk5rvkUO5hSc/c4wnV3tXpHid3MoPLrPXVsc5YGZU6VM5uM9yz/vql5dNkzoavpXJsJdZcAwAAAHatYOfm5srhw4elatWq4nRSDAeO1gbuiHZItltvo+W/6+ZJk2oNZd7GBWZSuIZl72q1DjLT6vRFHc+S0a2HSbY7R5zRDkl0xpvq9MhWg+Ws1sMky5UtibEJkl+QLzFUrQEAAICgKnUq/uabb+Szzz6TpUuXyr59+zztrjVr1pS+ffvKsGHDpE+fPuVxroCtt976cedquafvWHFGO2XRlhUyotVgeWnZW1I/+STPsDLvlu9DuRlmYJnuiZ0cX9mn58SqUutabaXHBAAAABBcJf6vcg3UkyZNkg0bNkjHjh3l9NNPl/r160tCQoIcOnRI0tPT5bvvvpPp06dLy5Yt5fbbb5fevXuX79kDNqhca7jWNdN39rlWFv++QjrXaycxzhjPRHD/yrVOA9ctuU5vmSYDmvaWxJiEYP8YAAAAAMoqYD/88MMyf/58ufTSS02wrlOnTrGv3bNnj7z//vty9913y2mnnSYPPfRQSb4FEJYt4dFRDrP1lm6fpXtYj5s9Ufo37SXuPHeRfay9K9dV4pKksLCQYWUAAABAuAXsatWqyZw5cyQ+Pv6Yr61Vq5aMHTtWLrvsMnnttdfK4hwBW7aEr0pfKzf2uNxUqU9Ormcq1tYws96NurCPNQAAABCJU8RvuummEoVrb5UqVZJbbrnleM8LsG3levqa2aYlvFA/nPpz32prb2trmJlOCN+Tuc/sV80+1gAAAEB4OOHJSDt37jRt4TVq1DBrsoFIpm3h2hJev3JdGdfnWtlxeJenSu1dsbZawuMcsX+G7OGS6c6WSn9OBKc1HAAAAIiggP2///3PVKh/+eUXzyTxVq1ayZNPPinNmjUry3MEbLPmOtOVZVrCr+9+icza8JUs3faDZ4DZJ6tny919ry92mJk1KZyJ4AAAAIA9Hfd/yT/66KPSrVs3efXVV6VKlSqye/duefrpp+Wuu+6SDz/8sGzPEgjxNdfzN38rfRp2lYSYBBOadaCZbsGlYduqVo9MHSKZrmw5s9UgU7HOcGVKpdhKUlBIxRoAAACImDXYU6dOldzcXJ/Htm3bJmeeeaZUr15dnE6n1KtXTwYNGmQeByJtzXXNxOoyc/18+Sl9tQxPGeDZgktZA8zG/vd+eWzB83Lj5+Mly50je7fvEXeui7XWAAAAQCRVsLUNXMPzDTfcIGeffbZER0fLiBEj5JprrpGBAwdKcnKy7N2710waHzNmTPmfNRAitC180ZYVMqLVYFOx1gngE9Jul7iYODO4zArZ6nBuhvnSxxNi4iUzMzOo5w4AAAAgCBXs559/Xp599lmZPn26DB8+XObOnWvC9YMPPmhCwqpVq8Tlcpn9sseNG1fGpwiEJleey7R8xzhjPBVrrVaPn/+UHMg+KMNSAm+zpY+781ySl5dX4ecMAAAAIATWYHfq1EneeecdmTdvnkyZMsXscX3HHXfI448/Xo6nB4RmsJaoKDPEbEgLDctuzxZcVsietOBFefi026WwsNAMNNPH9XkN16NSh0q+i3ANAAAASKQPOdOW8LS0NPnggw9MwG7ZsqW51QniQCQMNEvP2CNLtn1nttuqV6Wu9G7UxWcLLqUh+8EvnzLDzaaOnCzZ7hyfLbiyCt3B/lEAAAAABKNFXC1evFj+7//+z1Ss58+fL+edd55pFdfK9kUXXSS333672boLCOeBZrPWz5faSTVNVVq989N0GdZigOzJ3PfnftbDTKVaHcg5JJsPHBn6p1tw6fZbDDQDAAAAIjxg61Zc119/vWzevFl27NghDzzwgEyaNEkSEhJk7NixJmjroDOdKq7bdwHhyBHlkJXbfy4yIVy34aqVWF3iHLEmZL828nF5beQT8tqox2Vkq8FswQUAAABEiBK1iL/11lsyceJEOeOMM8x9Ddo6RfzOO+80W3TpVl3jx4+XSy+91OyFDYRLxVqnhOfmuSXW4ZRDuRmyI2O3z3pr7224KsclSb2k2vJg2q2mYq20ag0AAAAgMpSogq3bch08eNBz//DhwxIVFWW+vDVq1EieeeaZsj9LIAhrredv/vbIftVZ++TzdV9KpdhEKSgo8Ky39qdbcLWr28qsswYAAAAQeUpUXtMtubSC/Z///Efi4+Nl3bp1ct1114nD4Sj/MwSCULmesXauNKnWUOZvWiRDUwbIjLVfSP3kk0yw1nXXD6fdZl4baEI4LeEAAABAZCpRwL7wwgulS5cusmzZMlO11jXY7dq1K/+zA4JA28IXbVkhI1oNlk/XzJVeDbuYEO0drCcvfElGpw6Rl0c8JlnubKkSmyT5hUcmhAMAAACITCVeIKrbcekXEO4yXdkS44wxw8y811xbA810662RqUPMmmyV6EwQp8Mp+j8AAAAAkatEa7DHjRsne/fuLdWB09PTzdZdgN3awyvFJIg7z22Ctf+aa2ug2dj/3i+PL3xJ5mz4WvxGEQAAAACIUCUK2K1atZLTTz/dbMH1888/H/W1+vx9991ntuxKTU0tq/MEKmSwma69/nnXGundqIsnWFt7XXvvca3Bu3uDjmZbLva2BgAAAKBK1NN6xRVXSL9+/eTJJ5+U8847T2rXrm3WYDdo0MDsha1TxXfu3Ck//PCD/PHHH9K/f395++23JSUlhd8ybCHbnS2frZsnH/46U+pXrmvWWi/6fYUJ0Io11wAAAACOpcSLRps1ayYvv/yyrF+/Xj777DMz8Oy7774z4bpatWpSv359Of/882Xw4MGs1YbtKteOaKfMWv+1ue+91jrOESvDU9JkTOvhkunOFme0Q5JiEllzDQAAAKCIUicErUqzthrhVLlesGWZdDqprZkUbrHWWleOS5Kq8VXk4f63SnJ85VIsrAAAAAAQaYgKiEiuPJencv35uvmeSeH+DudmyP6sAxIfGx+U8wQAAABgH0EP2Pv27ZM777xTevToIZ06dZKrr75aNm3a5Hl+/vz5MmbMGPNcWlqaPP7445KTk1Ps8fLz86V9+/aebcWsr+eff76CfiKEOg3W6Rl7ZP6mRXIg+6CkZ+7xmRTub1hKf8kvyK/w8wQAAABgL0FfRDp27FgzkfnVV1+VSpUqybPPPiuXXXaZzJ07V3799Ve54YYb5KabbpKhQ4fK1q1bZfz48XLgwAGZNGlSwONt2bJFcnNzZcaMGVKjRg3P44mJRauTiMxtuGZv+FqGtOgvTy6aKv2b9jKVa50UroPN1OwN35h2cX1cw/Wo1KEMMwMAAAAQ2gH74MGDZjjaNddc45k4fv3118vIkSNlw4YN8t5770n37t3l2muvNc81btxYbr31Vrn//vvl4YcfltjY2CLHXLdunSQlJZmtxQB/jiiHrNz+s/Q8+RSfyvVHq2d5BpvppPBDuRlm7XVeQR7hGgAAAED5BGytDsfFlc2+v8nJyfLUU0957u/fv1/efPNNqVu3rjRv3txsDxYd7dvFrvfdbrdkZGRI9erVAwZsnXgO+HPnu01w3pGx27Pm2r9yrYPN6laqJae3TJMBTXtLYkxCsE8bAAAAQLgG7N69e8vpp59u1kXrWuey8sADD8j7779vqtK6HZi2dLdu3drnNRqsNYC3bds2YLhWuo1YXl6eXHnllbJ27VqpU6eOXHrppaYqfiIKCwslK+uvKdOhIDs72+cWR+GIki9+W2Baw3VJwjEr1/luyXflSVahu1xOh2tnT1w3e+K62RfXzp64bvbEdbMvrl350ywYFRVVotdGFeqrS+Gll14y65t///13adKkiZx11lkmvNaqVUtOxMaNG83wsrfffltmzpwp77zzjrRp08bzvIZmHYY2b94885riwv3AgQNNgNK12loJ/+abb8y67gkTJsjZZ599XOe2atUqcblcx/2zIbicTqe0bttarp5xt1zf/RL5bf9WWbrtB1O5nrXhK8+aa6ty3a9RD9m0YdNRh+kBAAAAiByxsbHSrl27sg/Ylu+//14++eQTmT17tvm0pFevXqaqrZO+Y2KOf82qhuMzzjhDOnTo4Blkpu3gt9xyiyxfvtxMA+/XL/C0Z6WhSCeJ68A0y4MPPmjeO2vWrOMO2Ppr0rb1UKK/dx3qpmvTExJoZS6OLivIFZdcNeMuqV+5ridY/5S+RkanDpF2dVMly50tVWKTxJXnlqiCI59SlSeunT1x3eyJ62ZfXDt74rrZE9fNvrh25U+LwVrBLknAPu4hZ507dzZf2tq9cOFC07qtIbhKlSqmqn3RRReZAWZHo2uulyxZIkOGDDFVRisMaZDdvXu3ua+3V111lWzfvl3eeOMN6dq161GPGR9fdL9iHaD26aefyonQX2ioTiLXv0ihem7BnhjuiHZITp5LKjkSzZrr7YfTPS3hI1OHmJZwlehMEKfDab4qEtfOnrhu9sR1sy+unT1x3eyJ62ZfXLvyU9L28BPeB3vnzp3yj3/8Q5577jlZsWKF+dREw/WCBQtk+PDhptX7aPbu3Su33XabCdne66xXr15tBpXplHFdP61BXNvCjxWuDx06JN26dZOPP/64SAW6RYsWJ/KjwoZ7Xc/f/K1kuXPk83Xz5Oddazz7XGvI1mFmY/97vzy+8CWZs+FrKcXfGQAAAAAIqNTlOm3XnjNnjkyfPl2+++47UzHWPaq1DVsr2uquu+4yW2899thjJmgXRyvLp556qjz66KPmS6eKT5061QRl3QtbW8S3bdsmr7/+uhlqtmfPHs979b7D4TB7YquqVaua6nmPHj3k6aefNntgN2rUyOynrdVrPS4ip3I9Y+1caVKtocxaP98MMrNaw5W15lqXI3Rv0FGGpaSxFRcAAACA4EwR1626OnbsaAaHaYAO1Iqg/elaiT6WKVOmmK26dH/rw4cPS5cuXUy1Wqd/awVcK9paxfb35ZdfSoMGDeTGG28096dNm2ZuNdTrOm0N/Pv27TOVcK2w9+3bt7Q/KmxK28IXbVkhI1oNlpeWvWUe824N12nhh3MzpFp8suQX5hOuAQAAAAQnYF944YVmGnfTpk2P+rrLL79crrvuumMer3LlyvLQQw+ZL38///zzMd9vBWtLUlKS3HPPPeYLkSnTlSUxzhg5lHPYVKotVmt45bgksxXXQ/1vlcrxSUE9VwAAAADho9RrsMeNGyd//PGHvPjii57HtFJ98803yy+//OJ5TKd4aws3UNFrrxNiEsSd55Yq8ZXNYDN/Wr3en3VAEmKLDsQDAAAAgAoL2LqvtLZsL1q0yGeqmo6Gv+CCC2TlypXHfTLAich2Z8v0NbPlp/TV0rtRF1m1a61nsJm/YSn9Jb8gv8LPEQAAAED4KnXA1vXNp59+urzzzjuex1JTU2XGjBkybNgws6YaqEiuPJepXDuinTJr/dfyzk/TZViLAbInc58ZYDam9TBPJVtvz24zXEalDpU4Z1ywTx0AAABAJK/B3rRpk9x+++0B9wIbNWqUjB07tqzODTgmDdbpGXtk9e710rleO7PmWr+sgWZxjtg/Q/ZwyXRnS6XYBFO5ZrAZAAAAgKAHbB1KtnnzZunZs2eR53RLLTY3R0VuxzV7w9cypEV/eXLRVOnftJepUGvA9h9oFhcdIxMG3iHOaKf5AgAAAICgt4gPGjRInn32Wfnqq698Hl+4cKF5XJ8HKmo7rpXbfzbTwtMz9wRcc60DzbYd3CEd67VhzTUAAACAclXqUp7uV71q1SqzBVdMTIxUrVpVDhw4IHl5edKhQwfTPg5UxLrr7Lxc2ZGx2zMtXNdeP5x2m3l+9oZvTCVbH9eBZrrmmrZwAAAAACEVsHWf6ffee89ME//uu+/k4MGDpm28S5cu0r9/f4mOLnVRHCj1uutZG74yreEFBQWeyvVHq2d51l6/POIxOZSbYdrD8wryCNcAAAAAyt1xLUbVED1gwADz5a+wsDDgADSgrLbi+mzdPPnw15lSr0pdE6z9K9e69rpupVpyess0GdC0tyTGJAT7tAEAAABEgOMK2DNnzpTly5eLy+UygVrpbVZWlvz444+yYMGCsj5PwGcrLuUdrCcvfElGpw4xlessd7ZUiU2S/EKmhQMAAAAI4YD9wgsvmC9tC9d117oO2+l0yv79+01l+5xzzimfM4VEeuV6wZZl0umktmZttdJJ4VZL+MjUIaYl3BHlkKSYRHE6nKL/AwAAAICKUuoF05988onZ71or2JdddplpE//222/lww8/NAPPWrRoUT5nCon0yvXn6+Z7BppZrO24xv73fnl+yT9EVyfEOmODer4AAAAAIlOpA/auXbvkzDPPNOusU1NT5YcffjCPt23bVq699lr54IMPyuM8EcF7XX/122I5kH2w2K24rO242tVtxVZcAAAAAOwTsBMTEz1DzBo1aiT/+9//JCcnx9zXwK33gbKiLd/elWtddz2sxQAZ03qYp5Ktt2e3GW624opzxgX7lAEAAABEqFIvUm3Xrp1Mnz5devXqJR4QX50AAH3cSURBVE2aNBGHwyFLliwxreKbNm2S2Fjac1E23Plus67au3LNVlwAAAAAwiZgaxv45ZdfLocOHZJXXnlFRowYIXfddZd0795dFi1aJAMHDiyfM0XEtYbP3vC12evaqlyzFRcAAACAsArYXbt2NQPN1q1bZ+6PHz/eTA///vvvZejQoXL33XeXx3kiwjiiHTJ9zVzPXtdUrgEAAACEXcB+6aWXZMiQITJy5EhzPy4uTh555JHyODdEsExXltmOi8o1AAAAgLAN2FOnTpU2bdpIs2bNyueMEPF0W66EmATTGu6917VVua4SlySFhYVUrgEAAADYO2A3b95cNm/eLP36Fd0qCSiLtdcz1s6VJtUaelrDrb2uK8clmbbwUxt1k6Et+gf7VAEAAADgxAK2TgufMmWKLFy4UFq2bGm27fKmW3iNHTu2tIcFTLjWbblmrf/aBGnv1nBtFy8oKJDuDTrKsJQ0qtcAAAAA7B+wX3jhBXO7ePFi8+WPgI3jbQv/evMS6XRSWxOm9StQa3heQT7hGgAAAEB4BOy1a9eWz5lAIr0tfM7GBdKvSU+z9loDtn9ruDvPLVOGjw/26QIAAABAQNGBHwYqdksubQs/nJshq3atNWuvvenj2w7ukD6Nu0p+QX7QzhMAAAAAyrSCfc899xzzNZMmTSrtYRHBrC25lP+2XPq4VrSHpfSXUalDaQ8HAAAAED4Be9myZUUey8rKkgMHDkjVqlWlXbt2ZXVuiLAtuay2cO+111q9rhafLPmFrL0GAAAAENpKHbDnz58f8PFNmzbJDTfcIKNGjSqL80KEbsmlvNden9vmdOnfpKfEOeOCfboAAAAAUDFrsJs1ayY33nijZ8o4UNK119oWPqzFABnTepipZCu9HdL8VBnQtDfhGgAAAEB4VrCPJikpSbZv316Wh0QErL1mSy4AAAAAERmwd+zYUeSx/Px82bVrlzz33HOmkg0cz9prtuQCAAAAEFEBOy0tTaKiooo8XlhYKPHx8bSI45iy3dny2bp5RdZeKx1qpl9ntxlutuRyRpdpkwUAAAAAlJtSp5fHHnusSMDW+9oe3r17d6lcuXJZnh/CsHLtiHaatddaqWZLLgAAAAARG7DPOussKSgokPXr10urVq3MY3v27JHVq1dLQkJCeZwjwmRieEFhoSzYslQ6ndSWtdcAAAAAwk6pA7autf773/8u2dnZMm/ePPOYhutrrrlGOnbsKK+88orZDxtQrjyXtjjI7A1fy5AW/eXzdfOlX5OerL0GAAAAEHZKvU3XE088IS6XS5588knPY/369ZOPP/5YDhw4IE899VRZnyNs3A6enrFHPlk9SxZsXS6Hcg5LeuYeWbVrrVl77U3XXW87uEP6NO5q1l4DAAAAQNgH7G+//VbuuOMOU6321rp1a7n55pvlq6++KtXx9u3bJ3feeaf06NFDOnXqJFdffbVs2rTJ8/yaNWvkoosuMt9PB6y99dZbxzzmrFmzZPjw4dK+fXsZNWqULFmypFTnhLJpCZ+1fr7UTqpp1lcfyDkkVeIrm8p1cfte62AzXXvNvtcAAAAAIiJga/Xa4XAEfE7XYGdmZpbqeGPHjpWtW7fKq6++Kh9++KGZRH7ZZZeZFvQ//vhDLr/8cmnYsKF89NFH5rVaOdc/F2fp0qUmsP/tb3+TTz75RHr27FkktKP8OaIdsnL7z6Zqra3gWqG2KtfaFq5rr5tWa2jWXr9wxqMydeRkOaPlQNZeAwAAAIicgN2hQwf55z//KW632+fxvLw8U13WqnFJHTx4UOrXry+PPvqoeZ/uoX399dfL7t27ZcOGDfL+++9LTEyMTJgwwTw3ZswYE741jBfntddek4EDB8oll1xi3nPXXXdJmzZt5F//+ldpf1ScgExXtuzI2O2pWivvyrVWtHXt9bjZE+WHHavM84kxDMkDAAAAEEFDzm666Sa5+OKL5bTTTpNTTz1VatSoIfv375fFixebdu9p06aV+FjJyck+a7b1OG+++abUrVtXmjdvLs8//7x069ZNnM6/TlNbyadOnSp79+6VmjVr+hxPp5t///33cvfdd/s8rtuHzZ07t7Q/Kk5ApdgEcz2sqrXudW1Vrq2p4VnubKkSmyT5hUwNBwAAABCBAVvXQv/nP/8x08K//vprM9hM977u0qWLqT6npqYe14k88MADpmIdGxsrL7/8siQmJkp6erqkpKT4vK527drmdufOnUUC9qFDhyQrK8sEdP/36LFQcXRQme5nrVVr772uNWS/tHyajEodLMNT0sTpcIr+DwAAAADs7riSjQ40e/rppz1rsXW9tLaIa9A+Xpdeeqmcd9558vbbb5u11u+8847k5OSYwO0tLu7IAKzc3Nwix9DXq0DvCfT60igsLDThPZTo7937NlRERUWJOKLMwDI1eeFLMjp1iE/V2pXnljxXnrgLfZcaRIpQvXY4Oq6bPXHd7ItrZ09cN3viutkX1678aRY0Gac8ArauvdY107/88otn2NgPP/xgBolp67gOGIuOLvXSbtMSriZOnCg//fST/Pvf/zYDz3SomjcrKGuF258VvgO9RwewnQj9uXWieSjasmWLhAq9Zs1aNJMZ676Qn9JXm2A9otVgyXJlizPKIdHuKNm4dWOph+GFq1C6dig5rps9cd3si2tnT1w3e+K62RfXrnz5F3HLLGDruuhPP/1UbrzxRp+Ktm7dpc9Vq1bNhO2S0DXXuoXWkCFDPOusNZxr2NZBZ9rqrbferPt16tQpcryqVaua4B3oPYFeXxo6bM36ECBU6KdU+hepcePGJ/wBQplxRMmn67+Qj1bPNHd1kFnluCSpGl9FTm3UTQY17Wumwke6kLx2OCaumz1x3eyLa2dPXDd74rrZF9eu/G3cuLHEry11wP7ss8/MZG7dBss72Op0bw3JOkm8pAFbB5Xddttt8vrrr0vfvn09leLVq1ebPa91jfV7770n+fn5nnZ03YarSZMmZriaPy3bd+7cWZYvXy7nnHOO5/Fly5aZNeInQo8dqGoeCvQvUqicW15+nsxa/7XPY7pFl35NXzNXTm95mjjjWHMditcOJcd1syeum31x7eyJ62ZPXDf74tqVn5K2h6tS93Lr3tQnn3xywOeaNm1aqmFiOsBMJ5Fry/mKFStk/fr1ZgK4DivTwK7bcmVkZMh9991nPjX4+OOPzZTxa665xnOMw4cPm0q4RffN/vzzz81WYrr39RNPPGFau3WNN8qXO98tB3OP7HsdiD6ureIAAAAAEI5KHbA1RM+ZMyfgc/Pnz5dGjRqV6nhTpkyRnj17yq233mqqzjqVXAed1atXz1Sptbq9efNmGT16tLzwwgsybtw482eLrtk+++yzPff79Okjjz32mLz77rvmdVrx1onnuic2yk9uXq7MXD9fKsUmeva99qePJ8bStgIAAAAgPJW6V/eSSy4xVWYNwgMHDvTsg/3VV1/JrFmzZNKkSaU6nk4ef+ihh8xXIO3btzfbghVn8uTJRR4bNWqU+ULFcUQ7TAt4vSp1Pfte+9Ntu3T7Lmc0LeIAAAAAwk+pk44GV50A/dJLL8ncuXM9j+tws/Hjx8vIkSPL+hxhA5mubNMC7r/vtT6mlWsN17ptV6wjJtinCgAAAADl4rhKiRdeeKFccMEFpnVbK9lVqlQxlegPPvjADCfTajYiS6XYBBOktx9OlwfnT5EL2o80+14fys2QKnFJZu84wjUAAACAcOY8kUlquh574cKF8sYbb8g333wjeXl50qBBg7I9Q9iCtn5rlfrDX2eakO2/PdfQFv2DfYoAAAAAEHoBW9dcf/jhh/L+++/L9u3bJSkpyQwU0/bwE90OC/YUJVGmBVzpNl3aGl5QUCDdG3SUYSlpVK8BAAAAhL1SBWydyK0Dx+bNm2f2pj7llFNMwH7xxRelW7du5XeWCGmufLdMXztHfty5WkanDjGt4VnubKkSmyT5hfmEawAAAAARoUQBW/ee1mCta651G67rr7/eVKx1I3MN1qXZeBvhtz3XjLVzTWu4ojUcAAAAQKQqUcDWrbBatmwpb731lk+l+vDhw+V5brBBuHZEOUxLuLfDuRnmS7ftOr3laUE7PwAAAACoSNEledHpp58uW7dulWuuucZUr7/44gsz0AyR3Rb+9eYlsj/7gFlvHYg+nuXKrvBzAwAAAICQrWA/9dRTkpGRIZ999pl8/PHHcuONN5p9rwcOHGjaw2kRj8y28DkbF0i/Jj3N9lyBQrY+nhibEJRzBAAAAICQrGArnRR+/vnnm72uNWjrxPD58+eb/Y3vvfdeefbZZ2Xjxo3le7YICY7oI23h2ga+atdaGdqiX8DX6bZdun0XAAAAAESCEgdsby1atJC7777b7H39/PPPm/2wX3vtNTnzzDNlxIgRZX+WCCmZrmxPxfqdn6bLsBYDZEzrYaZirfT27DbDzbZdcc64IJ8tAAAAAITwPtieNzudMmjQIPO1d+9e+eSTT8wXwlul2ARPW/j2w+ny4PwpckH7kWZ7Lq1qV4tPZnsuAAAAABHnuCrYgdSsWVOuuuoqmTnzyHZNCF/ufLdp/7ZoyNbtucb+9375fscqE66pXAMAAACINCdUwUaETg/fslSGthhg1t/P3vCNqWRrRXtI81NlQNPeVK4BAAAARCQCNko9PfzDX2fK3A0LPG3hh3IzpGp8FckryCNcAwAAAIhYBGyUenq4d1t45bgkE67deW6ZMnx8sE8RAAAAAIKGgI0Sy3RlFdnvWoea6ZfKcmVLlfjKQTo7AAAAAAiTIWcI/7XXCTFHpocHoo8nxiZU+HkBAAAAQKggYKNEa6+nr5ktP6WvlqEt+gV8jU4Vzy/Ir/BzAwAAAIBQQYs4Srz2WtdaP5x2m3nMe3q4hutRqUMZcAYAAAAgohGwcUyZrmwTpvXrwflTfKaHV4lLkryCfMI1AAAAgIhHwMYxVfpz7bUGbKaHAwAAAEBgrMHGMYeb7Ti8q8jaa50cvu3gDunTuCtrrwEAAACACjaONdxsxtq5suT371l7DQAAAADHQMDGMYebFbf2urCwkHANAAAAAH8iYOOYw82U/9rrAzmH5Omh4yUhJj7YpwkAAAAAIYE12DjmcLNAa68LCgokMTYhaOcGAAAAAKGGgI1SDTez6PprhpsBAAAAwF9oEUcRDDcDAAAAgNIjYKMIhpsBAAAAQOkRsFEEw80AAAAAoPRYg40iKsUy3AwAAAAASouAjSJ0eJmusw6E4WYAAAAAEBgt4igizhknZ7YcZNZaM9wMAAAAAEqGgI0iE8R1yFmOO0fObDVIzmo9XLLd2aYtXCvXhGsAAAAACIyADZ+9r3V7LmuCuFatR6UOluEpaeKMdpovAAAAAEBgQU9MBw4ckClTpsjXX38tGRkZ0rJlS7n99tulS5cukpaWJtu3bw/4vn//+9/StWvXgM8NHjxYtm7d6vPY6NGjZfLkyeXyM4TT3tcf/jrT85iG7Ld/ni65+S4Z2WqwaR0HAAAAAIRowL7ttttkz549JmTXqFFDpk2bJldeeaV88skn8uGHH0p+/l8DtVwul1xxxRVSt25d6dSpU8DjZWVlybZt22Tq1KnSpk0bz+Px8WwrVZK9rwPRx89qPazCzwkAAAAA7CSoAVurzIsXL5Z33nlHTjnlFPPYAw88IAsXLpTPPvtMbr75Zp/XP/7443Lo0CF59913xekMfOobN240W0lpAE9OTq6QnyPc9r4u8pw7S7Jc2VIlvnKFnxcAAAAA2EVQt+mqVq2avPrqq9KuXTvPY1FRUeZLg7R/cH7rrbfk7rvvlurVqxd7zHXr1knNmjUJ12Ww97XnuZhE9r4GAAAAgFCuYFepUkX69evn89icOXNMZfvee+/1efy5556TlJQUGTly5FGPqQE7MTFRbrrpJvn+++9NiB8zZoxccsklEh19/J8n6JZV2n4eSrKzs31uj5d+oFHoOLLHtfcabIs+7nK7xJXvOqHvg7K/dqhYXDd74rrZF9fOnrhu9sR1sy+uXfnTLKiZyRZrsL1pIL7nnnvMkLL+/ft7Htc11V988YU8++yzxzzGhg0bTPV7yJAhMnbsWPnuu+/k//7v/+TgwYNFWs5Lw+12y5o1ayQUbdmy5bjfq2vTm7VoJl9tWSJDWwwouvd1i/4yImWQbNqwSXJycsr0vHFi1w7Bw3WzJ66bfXHt7InrZk9cN/vi2pWv2NjYEr0uqlATVQiYN2+e3HHHHdK5c2d5+eWXJS7ur4nVL774oll3vWDBgmNWoXUQWm5urlSu/Nd6YW1D12Nq2D6eKvaqVatM8GzevLmEEv2USv8iNW7cWBISjrOF2xEl/90wz1Su61euKxe0Hynt6qbKodwMqRpfRfLy3RKVH2V+foTYtUOF47rZE9fNvrh29sR1syeum31x7cqfLlfWCrb30uaQrmDrllsTJ06UoUOHmkFm/p8OaPg+/fTTSxSO9b3+79fWcm3v1iq2towfD/2Faut5KNK/SMd7bnkFeZ7p4dsPp8v/LZ4qleOSTLh257llyvDx4owNiX9MwtKJXDsED9fNnrhu9sW1syeumz1x3eyLa1d+StoeHvQhZ0oniD/yyCNy4YUXmq26/MOx7o2trdm9evU65rG0yjpw4EB54YUXilSga9WqddzhOtKmhx/OzZBtB3dIeuYeMz0cAAAAAHBsQS1Nbt68WR577DEZNGiQXHPNNbJ3716ftcHa5r127VoTnFu1ahXwGIcPHzbro3WyuH6yoMd64403pGnTptK2bVtZsmSJvP7663LfffdV4E9mv+nhgbboYno4AAAAANgkYOvEcA3HOsBMv7yNHj1aJk+eLLt37zb3q1atGvAY2lq+fPlymT9/vrl/++23S1JSkqmGp6enS4MGDUy4PvfccyvgJ7Kf/IL8o04P1+ed0bSIAwAAAMCxBDU5XXvttebraIYPH26+iqMh3JvT6TTTw/ULxxYlUTIqdaj5s67F9kwPT+lvHo91xAT7FAEAAADAFihNRjBXvlumr50jP+5cLaNTh8jLIx6TLHe2VIlNkvzCfMI1AAAAAJQCATtC5eblyoy1cz2t4d7Tw09t1E2GtvhrH3IAAAAAgA2miCM4HNEOz/Zc/tPDp6+Za54HAAAAAJQcATtCBdqey/OcO4vtuQAAAACglAjYEb49V8Dn2J4LAAAAAEqNgB3h23MFYm3PBQAAAAAoOYacRag4Z5yMSh0ihYWFMnvDN2zPBQAAAAAniIAdwVPEo6OiZVhKmoxpPVwy3dmmbVwr14RrAAAAACg9AnaE7n+tW3TpFHGtXNetVEtOb5kmA5r2NpVtAAAAAEDpsQY7AivX09fMNvtfW1PE0zP3yBvf/8c8rs8DAAAAAEqPgB1hAu1/bdHH2f8aAAAAAI4PATvCsP81AAAAAJQPAnaEYf9rAAAAACgfBOwIw/7XAAAAAFA+mCIekftfD2X/awAAAAAoYwTsCLQnc580rdZQXh7xmLjyXKYtnP2vAQAAAODE0CIegdbt/U3+b/FUeX7pP6VKfGVxRjvZ/xoAAAAAThABOwLtOJQuJyfXk8ZVGwT7VAAAAAAgbNAiHmFy83LlnLZnyODmp0rVhGRzn+o1AAAAAJw4AnYEceW7ZcbauTJr/dcMNwMAAACAMkbAjhBaqdZw/eGvMz2Paci27o9sNZhKNgAAAACcANZgRwhHtMNUrgPRx/V5AAAAAMDxI2BHiExXtqlYB3zOnSVZruwKPycAAAAACCcE7AhRKTbBrLkO+FxMotkLGwAAAABw/AjYESK/IN8MNAtEH9fnAQAAAADHjyFnETLgTNdYj2w1xNxnijgAAAAAlD0CdgRtzVU1vopc1PEsmTpysmS7c0zbuFauCdcAAAAAcOII2BG0NZdWrR9f+JJUjkuSc9ucLv2b9GRrLgAAAAAoI6zBjsCtuQ7nZsh7qz5jay4AAAAAKEME7DDG1lwAAAAAUHEI2GGMrbkAAAAAoOIQsMMYW3MBAAAAQMVhyFkY0wFmugVXYaHI7A1szQUAAAAA5YmAHeY0RHc8qbWMTB0sWe5sqRKXxNZcAAAAAFAOCNgR4P1f/it7s/6QG7tfJtUTqoozmssOAAAAAGUt6EnrwIEDMmXKFPn6668lIyNDWrZsKbfffrt06dLFPH/55ZfLt99+6/Oebt26ybRp04o95ttvvy3/+Mc/ZM+ePdK2bVu5//77pXXr1hKJ+2BHRznkmi4XSpX4ylJQWBDsUwIAAACAsBX0gH3bbbeZIKwhu0aNGiY4X3nllfLJJ59I06ZNZd26dfLQQw/JwIEDPe+JiSm+vVnf98QTT8gjjzxiQvWrr75qQvqsWbOkevXqEilc+W6ZsXau2QebtdcAAAAAEOZTxLdu3SqLFy82AVor1k2aNJEHHnhAateuLZ999pns27fPfHXo0EFq1arl+apatWqxx3zllVfkoosukhEjRkjz5s3lsccek4SEBPnggw8kkirX09fMlg9/nenZB1tv9b4+rs8DAAAAAMIoYFerVs1UmNu1a+d5LCoqynwdOnTIVK/1zxq8S0LD+JYtW6Rnz56ex5xOpwnvK1askEjhiHaYynUg+rg+DwAAAAAIo4BdpUoV6devn8TGxnoemzNnjqls9+3bV9avXy+VK1eWCRMmyKmnnipDhw6VZ555RlwuV8Djpaenm9uTTjrJ53GtiFvPRYJMV7ancl3kOXeWZLmyK/ycAAAAACDcBX0Ntrfvv/9e7rnnHhk8eLD0799f7r33XsnNzZX27dubddRr1qwx66t37Nhhbv1lZx8Jjt6BXcXFxZnjnIjCwkLJygocWoPF+nmtW0tiXIJZcx0oZOvjCTEJIfezRJrirh1CG9fNnrhu9sW1syeumz1x3eyLa1f+NAtqZ7WtAva8efPkjjvukM6dO8uTTz5pHtPK9V133SXJycnmfkpKihlwduutt8q4ceOkZs2aPseIj483t/4Vbg3Xug77RLjdbhPwQ5G2xXtr2KSRDGvRXz5cPbPIa/XxAwcPyO+bt1bgGaKk1w72wHWzJ66bfXHt7InrZk9cN/vi2pUv/yJuSAfsf//73zJx4kTTAv744497Tl7XT1vh2tKiRQtzqy3f/gHbag3fvXu3NGvWzPO43q9Tp84JnaMGex2aFkr0Uyr9i9S4cWOfDxD005VRqUOkUERmb/CbIt5qiOS78yU1NTWo5x7pirt2CG1cN3viutkX186euG72xHWzL65d+du4cWOJXxv0gP3OO++YLbUuvvhiue+++3xK7/pYgwYNZNKkSZ7HVq1aZcKu/gPkT7f50oFoy5Yt8ww6y8vLk5UrV8oFF1xwQuep55WYmCihSP8iBTq3bg06ysjUwZLpypLk+MqSX5Avsc7YELjqONa1Q2jjutkT182+uHb2xHWzJ66bfXHtyk9J28NVUKPW5s2bzTZagwYNkmuuuUb27t3r0+49ZMgQ87yuwe7Tp48J17r2WvfJTkpKMq87cOCAubW27rriiitMNbxRo0ZmOrlOKc/JyZGzzz5bIs1/fvlMNuzbLFd0Ok96N+oizmiSNQAAAACUl6AmLp0Yrmubv/jiC/PlbfTo0TJ58mTzacG0adNM0NY9sC+77DK5+uqrPa+78cYbza2+Rp177rly+PBhM21cw3fbtm3ln//8p1SvXl0izfZD6XI4N8NUrwEAAAAAYRywr732WvN1NBdeeKH5Ko4VrL1phVu/Ipkr3y27M490BNSvUjfYpwMAAAAAYS+o+2Cj/KQf3m3GySfGJEjV+CrBPh0AAAAACHssyg1T6Rl75eTkelI9oWqpFuUDAAAAAI4PATsM5eblSseTWkvjqvVN9Vrvxznjgn1aAAAAABDWCNhhuPZ6xtq5Mmu93/7XqUMl1hET7NMDAAAAgLBFwA4jWqnWcP3hrzM9j2nItu6PbDWYSjYAAAAAlBOGnIURR7TDVK4D0cf1eQAAAABA+SBgh5FMV7apWAd8zp0lWa7sCj8nAAAAAIgUBOwwUik2way5DvhcTKIkxiZU+DkBAAAAQKQgYIeR/IJ8M9AsEH1cnwcAAAAAlA+GnIURHWCm08ILC0Vmb2CKOAAAAABUJAJ2mNEQ3bV+BxmZOtisua4Sn2Qq14RrAAAAAChftIiHoQ9//VzG/vd+Wbt3ozijnWzNBQAAAAAVgIAdhvZl/SGHczMI1gAAAABQgQjYYWhv9h/mtmZitWCfCgAAAABEDAJ2mMnNc5nqtapBwAYAAACACkPADjP7/qxea3t4cXtiAwAAAADKHgE7zOzN3O9pD4+Kigr26QAAAABAxCBgh+GAM8X6awAAAACoWATsMG0Rr5FYPdinAgAAAAARhYAdxi3iAAAAAICKQ8AOM9l5OXJycj05Kal2sE8FAAAAACKKM9gngLKTm5cr13e7VA7mHJJqCcnmvk4TBwAAAACUPwJ2GNBp4a58t8xYO1dmrf9aMt1ZZouuYSn9ZVTqUIl1xAT7FAEAAAAg7BGww0BhtMj0NbPlw19neh7TkG3dH9lqMJVsAAAAAChnrMG2OafTKTHOGFO5DkQfd0Q7Kvy8AAAAACDSELDDIGBnubNMxToQfTzLlV3h5wUAAAAAkYaAbXN5eXmSGJNo1lwHoo8nxiZU+HkBAAAAQKQhYIdBwHbnuc1As0D08fyC/Ao/LwAAAACINAw5CwNRBWKmhRcWiszewBRxAAAAAAgGAnYYKCwsNCG6S/32MjJ1sGS5s6VKXJKpXBOuAQAAAKBi0CIeRnQf7LH/vV9+3bVenNFOtuYCAAAAgApEwA4jGbmZcjg3Q6Kign0mAAAAABB5CNhh5LAr09wmxSYF+1QAAAAAIOIQsMOIVq9V5bhKwT4VAAAAAIg4BOwwrGBXjiVgAwAAAEBFI2CHidw8l7jz3ebPSVSwAQAAACDyAvaBAwdk/Pjxcuqpp0rnzp3l/PPPl5UrV3qe/+ijj+TMM8+Ujh07yuDBg+XVV1+V/Pz8Yo+3a9cuadmyZZGvjz/+WMLZYdeR9nBHVLQkOOODfToAAAAAEHGCvg/2bbfdJnv27JEpU6ZIjRo1ZNq0aXLllVfKJ598Ir/88os8+OCD8sADD0jPnj3Nff2zy+WSG264IeDx1q5dK3FxcTJv3jyJ8hqnXblyZQn3CeIqKS7J5+cGAAAAAERAwN66dassXrxY3nnnHTnllFPMYxqgFy5cKJ999pksXbpURo0aJeedd555rmHDhrJ582b54IMPig3Y69evl8aNG0vt2rUlkrD+GgAAAAAiOGBXq1bNtHy3a9fO85hWX/Xr0KFDcscdd0j16tV93hMdHS0HDx4s9pjr1q2TZs2aSaQ5/GcFmwniAAAAABCBAbtKlSrSr18/n8fmzJljKtv33nuvp6ptOXz4sLz77rvSt2/fYo+pFWwN7hdeeKGpdjdq1Eiuu+46s8b7RBQWFkpWVpaEkuzsbM/t/ow/zJ8THPEhd544+rWDfXDd7InrZl9cO3viutkT182+uHblT7NgSZfhRhXqq0PE999/L3//+9+ld+/e8vzzz/s8l5mZKddee60J0Dr4rEGDBkXen5eXZ4ahNW/eXO6++25JSkqSzz//XP75z3+aL13HfTxWrVpl1n2Hsm/3/yAL938n7aukyLDaJ/ZhAgAAAADgL7GxsT6d1yE75MyiQ8m0JVwniT/55JM+z+kQtGuuuUb+97//yRtvvBEwXCun0ynLli0Th8Mh8fFHJmm3bdtWNmzYYN53vAFbxcTEmOAeSvRTqi1btpg15z/krxfZL9KgVn1JTU0N9qmhFNcuISEh2KeDEuK62RPXzb64dvbEdbMnrpt9ce3K38aNG0v82pAI2P/+979l4sSJMnToUHn88cfNpwOWTZs2map2QUGBvP3229KiRYujHqtSpaJrkPU9ixYtOqFz1JaAxMRECUX6FymnINf8uVqlqiF7ngh87bhe9sN1syeum31x7eyJ62ZPXDf74tqVn9Ls0hT0fbB1gvgjjzxi1kzrVl3e4Xrbtm1y6aWXmn9Y3nvvvWOGa61UawVcq9jedHuvUKs+l9sUcYacAQAAAEBQBLWCrUPIHnvsMRk0aJBpAd+7d6/nOW3x1kFnuvZZg7e2f2uruKVWrVrmdv/+/aZ9W/e51unhTZs2lQkTJsjDDz9shp29//778uOPP5p12+EsIzfD3CaxTRcAAAAARF7A1onhbrdbvvjiC/PlTQedLV++3Px55MiRAbfjUmeffbZ069ZNJk+ebLbweuWVV+Spp56SW265xWz11bp1azPgLCUlRcIZFWwAAAAAiOCArVPB9etEzJ8/3+d+zZo1ZdKkSRJpPAE7NinYpwIAAAAAESnoa7Bx4goKCyTLdWTfuyQq2AAAAAAQFATsMJDpypJCObKdOWuwAQAAACA4QmKbLpyYDHeWVI5LkrpJtcQZ7Qj26QAAAABARCJg25xOW09OrCIvnvGoHM7NkLyCPMkvyJc4Z1ywTw0AAAAAIgoB2+Ybnjdr0UxmrPtCZm/4WjLdWVIpJlGGpfSXUalDJdYRE+xTBAAAAICIQcC2scJokU/XfSEfrZ7peUxD9oe/Hrk/stVgKtkAAAAAUEEYcmZjMc4YU7kOZNb6r8XBemwAAAAAqDAEbBvLcmeZinUg+ri1dRcAAAAAoPwRsG0sMSbRrLkORB9PjE2o8HMCAAAAgEhFwLYxd55bhrXoH/A5HXSm08QBAAAAABWDIWc2FlUgMqLlIJGoI2uumSIOAAAAAMFDwLaxwsJC+W3Db3JGi9PkrNbDzJprbQvXyjXhGgAAAAAqFgHb5nJyckTyRZxxTqkSX9k85ozmsgIAAABARWMNNgAAAAAAZYCADQAAAABAGSBgAwAAAABQBgjYAAAAAACUAQI2AAAAAABlgIANAAAAAEAZIGADAAAAAFAGCNgAAAAAAJQBAjYAAAAAAGWAgA0AAAAAQBkgYAMAAAAAUAYI2AAAAAAAlIGowsLCwrI4UDj7/vvvRX9NsbGxEkr0nNxut8TExEhUVFSwTwelwLWzJ66bPXHd7ItrZ09cN3viutkX1678uVwu87vt3LnzMV/rrIDzsb1Q/QdVzyvUQj9KhmtnT1w3e+K62RfXzp64bvbEdbMvrl3F/I5LmgmpYAMAAAAAUAZYgw0AAAAAQBkgYAMAAAAAUAYI2AAAAAAAlAECNgAAAAAAZYCADQAAAABAGSBgAwAAAABQBgjYAAAAAACUAQI2AAAAAABlgIANAAAAAEAZIGADAAAAAFAGCNgAAAAAAJQBAjYAAAAAAGWAgA0AAAAAQBkgYAMAAAAAUAYI2AAAAAAAlAECNgAANlRYWBjsU4go/L4BACVBwAYARKzLL79cunXrJi6Xq9jXnHnmmXLhhReW6HhpaWly9913mz//73//k5YtW8rHH39c4veU1HfffSdXX321535Jv1dZsL6X91erVq2kU6dOctZZZ8mHH35Y7udQ3j/3xRdfbL4sH3zwgTz++ONl+j0AAOHJGewTAAAgWMaMGSPffvutLFiwQAYOHFjk+V9//VXWr19/XOGqdu3a8p///EcaNmwoZU0D36ZNmyrkexXnuuuuk/79+3uqu5mZmea87rvvPsnLy5O//e1vYlcPPvigz/2XX37ZfBADAMCxELABABFr0KBBkpycLJ9++mnAgP3JJ59IUlKSDBkypNTHjo2NlY4dO5bRmYbO97JomPf/nr169ZK1a9fKm2++aeuA3bx582CfAgDApmgRBwBErLi4ODnjjDPk66+/loyMDJ/n3G63fP7553L66adLQkKC7N+/Xx5++GEZMGCAtG3b1lQ0x44da9qUS9q+rOFT29K1nVqPo8He37G+j7aTa/Dfvn275/iBvteWLVvkpptukt69e5sgrC3P2lruf36zZs0yr9Nz0u91//33S1ZW1nH9PqOjoyU1NVV27NjheSw3N1eeeOIJ6devn/l5tOV+5syZRdrkH3vsMbn00kulffv2pgq+bNkyc36LFi0yLfr6+ODBg+Wdd9456jno977tttvMz9KhQwdzzNWrV3uenzRpkjnu0qVLPY/p700fmz59epEWcT03/V3r71xfo10N7dq1kylTpvh83+zsbDnllFNMtRsAELkI2AAAifQ2cQ2Bc+bM8Xlc28Y17J5zzjmmBfqaa66RxYsXyx133CFvvPGG3HDDDbJkyZIi7cTF2bVrl1x00UVy+PBh+b//+z+5+eab5cknnzSPW0ryfa6//noTVmvVqmXawq02bW8bN24066E1RGtg1u8TFRVlwuby5ct9XqvHrV+/vrz00kty5ZVXmjXUJxISN2/e7GlV159HPxx47733zAcLelwN8rfeeqsnzFrefvttE1z1PM4++2zP4/ra1q1by4svvmgq5PrhQ3EhW6+XVs41BD/wwAPy1FNPSUFBgQnoVku9Hq9x48bm59a19xrIJ06cKMOGDZNRo0YVOeYLL7xgftf6O9ffd4sWLUy3w2effeYz+OyLL74wH0wEOgYAIHLQIg4AiGht2rQxVVcNTBq2LRoAtWKpoU9DsFax77rrLunSpYt5vnv37vL777+b0FUS2jadn58vr776qlSvXt081qRJEzn33HM9r9m9e/cxv4+GV32/d1u4f8VZQ6E+/9Zbb5kWd6VBXKv1Wk32HkSmwVG/n+rZs6cJ91rRv/3224/682hw1bXW1p/1dzRt2jRTpX/ooYfM47q+feHChfL000/L8OHDzWN9+/Y11V4N/Xo+TueR/xSpV6+e+VDBohVsq41fK9rWe/V3pCH8/PPPL3JO//rXv+TAgQPy7rvvmg8N1Kmnnmq+97PPPivPPfecxMfHy+TJk+WCCy4w1+L77783vyMN7oFouNffpf7Ord+3/nOiVXg9xx49enj+edEPAE466aSj/t4AAOGNgA0AiHgamLRFWUNinTp1TEj76quvZNy4ceZ5fUzDqlYstSq8detW+e2330w4O9oEcm/anq0BzQrXSluYNVhayuL7KK1Sa4u5Fa6VBlltd9dKsA4ks/ivo65bt65piT4WDb1W8LVUrlzZDD8777zzzH2tvGvlXEO8Fcattmttj9+wYYP5cENZt/5Gjx7tc1/bxL/88ktTKdfg602/nx5Hf4/W99O2dQ3Z3u34WkW/7LLLzO9Cf9f//Oc/zVr8ktIgrddtxowZJmCnp6eb762dCQCAyEbABgBEPF0XrJVdrUpqK7OuvdZgOGLECM9rNKDputudO3dK1apVTZDTamhJHTx4UBo0aFDkcW0/9nai38f6XjVr1izyuD6mgdJ7vblWzL1pIC3Jns/aum61p+t7NFzrz6d/tugHFXqszp07BzyGVqOtYJ2YmBjwNRqWvdWoUcPzM/r/7vT76YcS2pUQiFbOrZ9Xg/s//vEPcwz9oKM09GfUFnwN5tpqrkFbP8zQajsAILIRsAEAEU+DrLWuVgO2BiYNS/q4WrlypWmj1sFXuk7ZCn0ayr0Hhx1NtWrVZO/evUUe11BoKYvvo7QaG+h77dmzx3MuGm5PhLZga/v80Wjo1uCsVflAGjVqdMzv88cff/hsP7Zv3z6foO3//XS4mdV54M+qeGtLu7ax63H196SV55KupbdowNYKuK7V10Fx2oauQ/MAAJGNIWcAAPzZJq7DsbS9+qeffvIZtPXDDz+YUHbjjTd6Qq+up9Y1xkqfOxZtJdbjeA8102Fk27ZtK/X38a4SB9K1a1fT4u5dqdbjaGVeQ7F/a3V50bCr68O1iq3f1/rSvcU1nHq3jRdn3rx5Pvdnz55twn2gPb/1+2nruK5t9/5++oGJrjt3OByetdradq/LAnTYnK7Z1hbv4gT6fes56Jp1/fBgzZo1JnADAEDABgDAa12tTp/WVmcNTxbdIkpNmDDBbO+kE8e10q0DvVRJtrXSCd5aWdbKtL5f29F1vXJMTEypv0+VKlVM5fWbb74JWInW9m2djH7JJZeYQKprlv/+97+bMK9bWFUUXXutYV8nn+vkbx0K9tprr5nqsYZW7/XoxdE2bB3aptt1jR8/3nxwUNzPoOuq9UMIvdXfr4ZmvZ46fE1Dt9IA/swzz5jhcnpu2i2gLeW6ntx7bbo3/X3rVl/64UtOTo7ncf0QZsWKFdKsWbNSt5kDAMITARsAgD+rlLouV/eP1mqkrsG26CRvDXdaYb7qqqvMFGoN4xr8VEnat7UtWyulGt51L2utnur2Ua1atSr199Hz0wqqboHlv92V0q2kNNBqG/U999wjd955p6kia7VVP0ioyN+pTurW4WpTp041Hy5YW3bpZPGSuPfee80HCfphhHYW6CRwnT4eiFb99fj6u9EQf+2118rPP/9stuGywrf+PrSVXH8nSqvajzzyiBlU9vjjjwc87hVXXGE+0NDz/+WXX3w+QNB/TqheAwAsUYUlmWQCAABQgbTarRV4/VBAP3gIRVol1/Xe+gFAoDXhAIDIw5AzAACAUtB14atWrTLVcq1eE64BABZaxAEAAEpB9yjXQWlt27b1tJoDAKBoEQcAAAAAoAxQwQYAAAAAoAwQsAEAAAAAKAMEbAAAAAAAygBTxEtA9yPVpeoxMTHBPhUAAAAAQAVyu90SFRUlnTp1OuZrqWCXgIbrUJwFp+fkcrlC8txwdFw7e+K62RPXzb64dvbEdbMnrpt9ce1CKw9SwS4Bq3Ldrl07CSVZWVmyZs0aad68uSQmJgb7dFAKXDt74rrZE9fNvrh29sR1syeum31x7crfqlWrSvxaKtgAAAAAAJQBAjYAAAAAAGWAgA0AAAAAQBkgYAMAAAAAUAYI2AAAAAAAlAECNgAAAAAAZYCAbXPx8fESlR8l+a58ydydaW5dma5gnxYAAAAARBz2wbaxqKgoad64uXz7xLey/LnlknMgR+Krxkv3m7pLn3v6iDOeywsAAAAAFYUEZmd5It8++a0smLDA85CG7G8mfGP+3GtcL4mtFBvEEwQAAACAyEGLuI3FxMWYynUgy55bJo4YR4WfEwAAAABEKtsH7KlTp8rFF19c7PP333+/pKWlSTjSarV+FfvcwcDPAQAAAADKnq0D9ttvvy3PPPNMsc/PmzdPPvjgAwlXut5av4p9LjnwcwAAAACAsmfLgL1r1y659tpr5cknn5TGjRsHfM3u3bvlgQcekG7dukm4cue6pdtNgX8+HXSW786v8HMCAAAAgEhly4D966+/SkxMjHz66afSoUOHIs8XFhbK3XffLSNHjgzrgK0j6nSQ2anjT/VUsvW23/h+Zoo4A84AAAAAoOLYcoq4rqk+2rrqN998U/bs2SOvvPKKWaNdFjS0Z2VlSSjJzs6W9PR06fj3jtJ7XG/J2pslSScliTvHLe5Ct7iy2A87VOm1876FPXDd7InrZl9cO3viutkT182+uHblT7OgbpEctgH7aNauXSsvvPCCWZ8dG1t2FVy32y1r1qyRULRqwypZdtUySW6aLN1f7S55eXnBPiWU0JYtW4J9CjgOXDd74rrZF9fOnrhu9sR1sy+uXfkqabYMq4Cdm5srd9xxh1x33XXSqlWrMj22tqQ3b95cQol+SqV/kZq2bipf7f3KVLCbNWkm0U5bdv5HFOva6QyBhISEYJ8OSojrZk9cN/vi2tkT182euG72xbUrfxs3bizxa8MqYP/000+yYcMGU8F+8cUXPZVnreh26tRJXnvtNenSpctxHVtbAhITEyUUJddJ9vzZkeeQhCr8xbIL/ZdgqP5zheJx3eyJ62ZfXDt74rrZE9fNvrh25aek7eFhF7Dbt28vc+fO9Xls2rRp5jG9rVOnjoQjR4xDYirFiDvTbfa/TqhOwAYAAACAihZWATs+Pl4aNWrk81hycrI4nc4ij4cbnR5uBWwAAAAAQMVjsW6YsLbpImADAAAAQHDYvoI9efLkoz5/4403mq9wR8AGAAAAgOCigh0mCNgAAAAAEFwE7DBBwAYAAACA4CJghwkCNgAAAAAEFwE7TBCwAQAAACC4CNhhgoANAAAAAMFFwA4TBGwAAAAACC4CdpggYAMAAABAcBGwwy1g/0HABgAAAIBgIGCHCSrYAAAAABBcBOwwQcAGAAAAgOAiYIdZwHZluKQgryDYpwMAAAAAEYeAHSbikuM8f845SBUbAAAAACoaATtMOGIcElMpxvyZNnEAAAAAqHgE7DDCOmwAAAAACB4CdhghYAMAAABA8BCwwwgBGwAAAACCh4AdRgjYAAAAABA8BOwwQsAGAAAAgOAhYIdZwE6smSiOOEewTwUAAAAAIo4z2CeAsnPK1afIwMcHSvb+bMl35Uu+O19iK8UG+7QAAAAAICIQsMNAVFSU5OXkyeoPV8vy55ebFnGtZne/qbv0uaePOOO5zAAAAABQ3khe4SBPZOGTC2XBIws8D2nI/mbCN+bPvcb1opINAAAAAOWMNdg253Q6JSYuRpY/tzzg88ueWyaOGNZkAwAAAEB5I2CHQcDWanVxk8PNcweZKg4AAAAA5Y2AbXN5eXlmvbW1RZc/81xy4OcAAAAAAGWHgB0GAdud6zYDzQLRx3WaOAAAAACgfDHkLBw4xUwLt9ZcM0UcAAAAACoeySsMFBYWijPBaaaF976rt2TuzpSkuklSkF9AuAYAAACACkKLeBjRrbjm3jFX3j3zXVk5dSVbcwEAAABABSJgh5mEGgmy+5fdsnft3mCfCgAAAABEFAJ2mKnaqKq5PbjlYLBPBQAAAAAiCgE7zFRtfCRgH9h6INinAgAAAAARhYAdZpIbJZvbA1sOmOFnAAAAAICKQcAOM8kNjwTsvOw8ydqbFezTAQAAAICIQcAOM844pySdlOSpYgMAAAAAKgYBO4zXYR/cyqAzAAAAAKgoBOwwnSSeWDNRXBmuYJ8KAAAAAEQMZ7BPAGWv99295czXz5Ts/dmS78qXfHe+xFaKDfZpAQAAAEBYI2CHmbycPFnz0RpZ/vxyyTmQI/FV46X7Td2lzz19xBnP5QYAAACA8kLiCiOuTJcsfmKxLHhkgecxDdnfTPjG/LnXuF5UsgEAAACgnLAGO4w4Yhyy/LnlAZ9b9twy8zwAAAAAoHwQsMOIVqv1q9jnDgZ+DgAAAABw4gjYYUTXW+tXsc8lB34OAAAAAHDiCNhhRKeF60CzQPRxfR4AAAAAUD4YchZGdICZTgu31lwzRRwAAAAAKg6JK8xoiNZp4X3u7SMZOzMksVaiSOGRxwEAAAAA5YcW8TCtZEc7ouX9c96XZxs/K4f+dyjYpwQAAAAAYY+AHaaindHijD1Std63YV+wTwcAAAAAwp7tA/bUqVPl4osv9nls/vz5MmbMGOnUqZOkpaXJ448/Ljk5kbdF1bAXhsnNW26Wuh3rSr4rX1yZrmCfEgAAAACELVsvzH377bflmWeekS5dungeW7lypdxwww1y0003ydChQ2Xr1q0yfvx4OXDggEyaNEkiRV5Onqz9ZK0sf345w84AAAAAoALYsoK9a9cuufbaa+XJJ5+Uxo0b+zz33nvvSffu3c3z+ly/fv3k1ltvlc8++0xcrsio4GqleuGkhbLgkQUmXCu9/WbCN7Jo0iIq2QAAAABQDmwZsH/99VeJiYmRTz/9VDp06ODz3BVXXCF33XWXz2PR0dHidrslIyNDIoEjxiHLn1se8DndvkufBwAAAACULVv2Cuu6av0KpHXr1j73NVi/+eab0rZtW6levbpEAq1WW5XrgM8dzJFKtSpV+HkBAAAAQDizZcAuqby8PBk3bpxs2LDBrNc+EYWFhZKVlSWhJDs72+fWElc1zqy5DhSy9fG45LiQ+1kiTXHXDqGN62ZPXDf74trZE9fNnrhu9sW1K3+aBaOioiI7YGs7+C233CLLly+XF154Qdq3b39Cx9NK+Jo1ayQUbdmyxed+43qNpdtN3WTBhAVFXquPH9h3QLbu2FqBZ4iSXjvYA9fNnrhu9sW1syeumz1x3eyLa1e+YmNjIzdg7969W6666irZvn27vPHGG9K1a9cTPqau+W7evLmEEv2USv8i6TC3hIQEz+P66Uqfu/tIlESZNddaya7WrJr0uLWHdLqik+RJnqQmpwb13CNdcdcOoY3rZk9cN/vi2tkT182euG72xbUrfxs3bizxa8MuYB88eFAuvfRSU8HWtvCWLVuWyXE1tCYmJkoo0r9Igc6t17he0ve+vpJ7OFfiKsdJ9v5siXZEi8PtkNhKJfsEBsG5dghtXDd74rrZF9fOnrhu9sR1sy+uXfkpaXt4WAZs3et627Zt8vrrr5uhZnv27PE8p/cdjsiZoK0hWvfDXvbsMvbDBgAAAIByFlYJKz8/X2bOnGnWS2sV29+XX34pDRo0kEih+10vfmKx2Q/bYu2HbVW4qWQDAAAAQNmwfcCePHmy589anf7555+Dej522g9b28cBAAAAAGUjuoyOA5vuhw0AAAAAKBu2r2CjeLreOtB+2Ik1E6V6SnWJT44P2rkBAAAAQLghYIexfHe+GWhmrbmu2aqmnDb5NGk6sKnk/JHjWafNOmwAAAAAOHEE7DCmwVmnhauNszfK+f8936zJnnHZDCaKAwAAAEAZI1WFOQ3OOi285x095dsnv5UFjzJRHAAAAADKA0POIoAGZ2ec86gTxXXiOAAAAADg+BGwI3iiuA47q922tkQ7o5koDgAAAAAniBbxCJwo7j3sLHN3plSqXUkKCwqDfYoAAAAAYGsE7AibKP7r+7/KZQsuY9gZAAAAAJQx0lSETRRPPTvVhGuGnQEAAABA2WINdgTR6nTNljVl+QsMOwMAAACAskbAjjCBhp35PMewMwAAAAA4LrSIR/CwM+9p4kl1k8Sd7Zb45Pignh8AAAAA2BUBO0KHnemaa/9p4hqy83LyxBFLmzgAAAAAlBYBO0KHnWnVuu3f2pp110wTBwAAAIATR4qKQBqeO1zaQb596lumiQMAAABAGWHIWQSHbN2uKxCmiQMAAABA6RGwI1SgaeLaNl67bW2JdkYzTRwAAAAASokW8QjlPU3cf9hZpdqVpLCgMNinCAAAAAC2QsCO8Gniv77/q1y24DLTLs6wMwAAAAA4fqSnCJ8mnnp2qgnXDDsDAAAAgBPDGuwIptXpmi1ryvIXlgdci/3z2z8z7AwAAAAASogKdoTzHnYWaC22K9MlCbEJwT5NAAAAAAh5BOwIZw07S6qbxFpsAAAAADgBpKYIZw07q9u5LmuxAQAAAOAEsAY7wlnDzpoNblZkLba1HnvTvE2sxQYAAACAY6CCDdP+nbE7w7MWO9B67MLCQrMemyo2AAAAAARGwIaRUDXBrLnWkK3hmvXYAAAAAFA6tIjDZy220sq1tR7bqmpHO6NlzcdrZNmzy0wlGwAAAADgi1IkfNZixyTGmLZwrVwXt3VXYUFhsE8XAAAAAEIOARse2vrd7cZu4spw0SoOAAAAAKVEQoIPrWBrO7gGae9WcYvVKq6v63pDV4aeAQAAAMCfCNgIuB67z919aBUHAAAAgFIgYKMIrUp3v6W7ZO3JolUcAAAAAEqIZISAnHFOU6WmVRwAAAAASoaAjWLRKg4AAAAAJUfARrFoFQcAAACAkiMR4YRaxTVkfzPhG/PnXuN60SoOAAAAIGJFB/sEYK9W8eUvLPd5LrFmotRuW1t+fvtnccQ4gnaOAAAAABBsVLBR6lbx4tZiuzJdkhCbEOzTBQAAAICgIGCj1K3iSXWTAq7F1iq3BnF9LQAAAABEGpIQStUqrgPN6nau67MW27uarVVuDeL6WtZjAwAAAIgkBGyUmAZmnRZeWFjos20Xk8UBAAAAgCFnKCUNzLmHcz1rsb0ni1uPRTujZc3Ha2TZs8vMumwAAAAAiASUF1FqCVUTTJVag7S2hXtXs/0HnxUWFAb7dAEAAACgQlDBxnGvxdZhZxqktXJttYrvXLlTnm7wtDzX9Dl5pcMr8vNbP0teTl6wTxkAAAAAyh0VbBz3WuyYxBjPZHHvVnEN2yPfHOmpZOua7dxDuRJXJS7Ypw4AAAAA5YaAjeNei931hq6mBVy357JaxRl6BgAAACBSkXZw3KxtuHTva92eS8O0Vq69t/DyHnqmFW8N5WzfBQAAACAc2T5gT506VRYtWiTTpk3zPLZmzRqZOHGi/PLLL1K9enW57LLL5JJLLgnqeYYzZ5zTtIpXa1aNoWcAAAAAIpath5y9/fbb8swzz/g89scff8jll18uDRs2lI8++kjGjh0rTz75pPkzynfwWc9bezL0DAAAAEDEsmUFe9euXfLggw/KsmXLpHHjxj7Pvf/++xITEyMTJkwQp9MpzZo1k61bt8qrr74qY8aMCdo5hztt++50ZScz0KxEQ88O50pcZYaeAQAAAAgftqxg//rrryZEf/rpp9KhQwef51auXCndunUz4drSo0cP2bJli+zduzcIZxs5dIBZgbvAM/Rs+QvLi1Sy3xn+jmyev9msy9awne/KF1emK9inDgAAAACRWcFOS0szX4Gkp6dLSkqKz2O1a9c2tzt37pSaNWtWyDlGKt2Kq7ihZ94Txj+56BMmjAMAAAAIK2GXaHJyciQ21ndKdVzckVbk3Nzc4z6utjVnZWVJKMnOzva5DRVRUVGSWDuxyNAz77bxQBPGO1/XWQqdkTEELVSvHY6O62ZPXDf74trZE9fNnrhu9sW1K3+aBTXjRGTAjo+PF5fLt+XYCtaJiYnHfVy3222mk4cibX8PNY3rNZYet/bwDD1LrJl4zAnjauv2rXLo0CGJFKF47XBsXDd74rrZF9fOnrhu9sR1sy+uXfnyL+JGTMCuW7eu7N692+cx636dOnWO+7i65rt58+YSSvRTKv2LpIPeEhISJJToJzydruhk/qxt4El1k4pMGNdq9qLHFkmfe4+s2c75I0eaNmoq7ly3qWTrJ0XhKpSvHYrHdbMnrpt9ce3sietmT1w3++Lalb+NGzeW+LVhF7C7du0q7733nuTn54vD4TCPLV26VJo0aSI1atQ4sbbnE6iAlyf9ixSq55Z7KNessV7x0gpTpfaeML76w9WeoK2V7SJrshPC7h9PW107FI/rZk9cN/vi2tkT182euG72xbUrPyVtD7ftFPGj0a24MjIy5L777jOfNHz88cfy5ptvyjXXXBPsU4vYoWcalrte31W2fL1Feo/r7Zkw7r0mW8O195rsZc8uY7o4AAAAAFsJuxKhVqlff/11mThxoowePVpq1aol48aNM39GcOh08F7jeokjxiFNTmsi2XuzTZA+1prscG4RBwAAABB+bB+wJ0+eXOSx9u3by3/+85+gnA8Ci610ZCiAQxwSXTtaqqdUD7gmWwO3rtce9OQgaZLWxLxG28bz3fmeYwAAAABAKLJ9wIb9aFhuNaJVkTXZxe2Vrdt99by1p3S6shN7ZQMAAAAIWaQVVDitRHe/ubvs27DPsyY70F7ZGrZHvjnS0zauLeOuDJfEJlHJBgAAABB6wm7IGexBK9Fame5+a3ezPZf3Xtk6AM2qZO9cuVPeSntLdv28SwoLCs3r8l35DEADAAAAEHKoYCNoYhOPVKJ1Tbb/XtlauS5uKy9axgEAAACEIirYCIk12br3dUZ6hlmXrQE60FZeGsDPm36eXPvTtdJ8eHNPyzgAAAAAhAICNkJiTbb3Xtk9bulhKtnWVl60jAMAAACwA/prEXJ7ZRfkF5jHvLfyKq5lPNCWXgV5BRKTGBPsHwkAAABAhKGCjZCqZDtiHRKTECMF7gLPVl5HaxnXsL196Xb5V/9/ybYl20y7efb+bFPVdme5g/0jAQAAAIggBGyEpLgqcWYrrz9++yNgy7iywrZWtc//7/me9vEd3+0gaAMAAACocARshPxWXjotXKvV3i3j3lt6lTRos04bAAAAQHliDTZssZVX7qFcT8u495ZeVlVb12OztRcAAACAYKKCDdu1jHe7oZtnSy+rqu3dPn6srb00rAMAAABAWaOUB9u1jPe5t49ERUeZLb1antEyYNDWyrW1tZd3JVur333u7iPdb+kuzjj+8QcAAABQdkgYsGXLuLWll27PtX/j/iJB23trL61kKw3cWt3WAJ61J8u8ni29AAAAAJQVWsRh+y29tKqtFWltH7eCtvfWXsqqZjNpHAAAAEB5IWAjLKra/kHb2tpLK9nqqJPG8/IlLyfPBO2M3RlMHAcAAABwXGgRR9i1j2vQrt68uvmzrrk+2qTxX979RfIy82TZc8tMtZuJ4wAAAACOFxVshG1Fu8BdIN1v6l5kSy/vSePJjZJNuC524vhhJo4DAAAAKBkCNsKWbu3V554+0v6i9gEnja96d5UncHuv0X66wdPyzvB3ZPP8zea1+h7WaQMAAAA4FgI2wpq2eHe9oasUFhRKqxGtfIK2Vrmtddr+e2dr2N6+dLv8q/+/ZNuSbQxEAwAAAHBMBGxExMTxuMpx0v1m30nj7mx3wInjRx2IRtAGAAAAUAwCNiKqmu09abzd+e3kt3m/+UwcT6yZWGSdNkEbAAAAQEkQsBGxW3r1ubePHPr9kLT9W1vTFq4Tx482EO1YQZutvQAAAIDIRsBGRAftjld0NMPQNCDrxPGM9IyAA9GKC9o6EG3aoGmy6YtNEhUdxUA0AAAAIIIRsCGRvj7bEeuQ+OR4M3G86/VdZcvXWzzrtI8WtBmIBgAAAMAbARvwWqPda1wvaTaomWed9tGCtmKdNgAAAAALARsIUNG21mkXF7QZiAYAAADAHwEbKMFANP+gfaID0aILoiU5OTnYPyIAAAAAOwbsoUOHyquvviq7du2qqG8JlFvQ7nZDtxMaiOZwOqR+jfoS54yTjN0ZVLcBAACAMFBhAfuUU04xATstLU3+/ve/y6xZs8TlYlsj2HeLr+MdiPbHpj/EfdgtS6cslX/2/af8b8n/aCMHAAAAwkCFBeyJEyfK4sWLZfLkyVJYWCi333679O3bVx5++GFZtWpVRZ0GUGZB+3gHoiU3SpZlzy1jvTYAAAAQZip0DXZcXJyceeaZ8sYbb8hXX30lY8eOlV9//VXOPfdc8/i///1vycrKqshTAip0INqqd1eVer22K5NODwAAAMAOgjLkLDc3V5YvXy5Lly6VdevWSeXKlaVJkyby/PPPy8CBA2XZsmXBOC2g3Aei6WtKu147yhEl2X8cCdus1wYAAABCV4UGbA3U99xzj/Tq1UvGjRsnmZmZ8uijj8qiRYvkueeek2+++UYaN24s9913X0WeFlBhA9Hc2e4TX6+dly95OXk+gZsqNwAAABB8zor6Rv369ZPdu3dLnTp15JJLLpGzzjpLTj75ZJ/XxMfHm/A9bdq0ijotoNyCtrIGokVFR5mBaO3Obye/zfut2PXaMy6bYd5nhe2TupzkWa+tgfuXd3+RvMw885iGcg3ig54cJE3SmpjjaLW8IK9AYhJjgvwbAAAAACJPhVWwO3bsaKaI69rrm2++uUi4tmjwnjHjSMgAwm0gmobtQ78fks5/72yq06Vdr20NSPOucm9ful3+1f9fsm3JNoakAQAAAJEQsFu0aCEpKSkSFRVV5Ln//e9/MmHCBPPnevXqSd26dSvqtIAKH4jW8YqOEpsca8JyadZrewduddQhaQHayAncAAAAQJgE7BdffFF27doV8LmffvpJPvjgg4o6FSDoYduV55JN/9skeZJX4vXaVuD2rnIHGpJ2cOtB00a+9OnA+2yzXhsAAACw4Rrsv/3tbyY8K937+rzzziv2te3atSvPUwFCTk5Ojvl7UdL12lbg9q5ye6/dHvnmyIDrtvUxfd6zXvu0JmYquQb97APZklA1gXXbAAAAQKgHbJ0QPnv2bBMitII9ZsyYIu3f0dHRUqVKFRk8eHB5ngoQ8qygreu1HTEOM7jsh9d/8KzXtgK3VrlXvrIy4JC0ubfPld539/YJ3Lpeu2armp4haQ26NTABfNPcTSbQ6/ty/sgxxyBoAwAAACEasJs3by433HCD+bOuvT7nnHPMFHEAxdPKsnKIw6zX1rAdHRttwrAG7u43dTfPa5Xbf0ia/7rtY00l18cWPbboSNAe1FTyc/LNe63KtraWW+cDAAAAIIgBe8eOHVKrVi2JiYkx08Hz8/PNY8XRAWcAAoTtWIe5tQJ3j9t6mOe0yr1/4/4ibeSBppIHqm4fc/sv2skBAACA0AjYp512mvznP/+R9u3bS1paWsAJ4t7WrFlTnqcDhE3gTohN8FS5rSFpGrT9120fbSp5oHXbtJMDAAAAIRqwH3vsMc9+1/rnYwVsAKXnPyTNe92293pt/+p2oHXbinZyAAAAIAQD9ujRoz1/1hbxozl06FB5ngoQMUHbf912cVPJj7b9F+3kAAAAQAjvg33llVfKnj17Aj739ddfyxlnnFFRpwKENQ24umY7PjnehGedSt5sUDMTtg/9fshT3T7a9l/+7eTe+20nN0r2tJPr6zV06/Hch92ydIrX3tt5+ZKXk2f23s7YnWFu3VnuYP96AAAAAPsH7NWrV8uZZ54pX3zxheexjIwMueeee+Taa69lujhQzoFbQ7NWt+OS40xI1nXbf/zmu/1XRnrGUdvJV727yhO4lX/o1ir3+f89Xw5uPWiq3Euf9grc7nzJPZQruYdzTdjW4xK6AQAAEE4qLGB//vnncsopp8iNN94o9957rwnap59+usyZM8fcf//99yvqVICI5V/dttZta2Vbt//qcm2XUreTe4fu4gL3zpU75a20tyTKESXfPvGtCd3blmwzoTt7fzZBGwAAAGGhwgJ29erV5cUXX5RJkybJ9OnT5aabbjKPzZo16//buxf4KKszj+NPyIUkCEpRkAUVIiJ3AblXuSmsVazFtSIgKEq9YxUplyJUZKVYUUC6C2V1RaG6VaEgVQtiRYWKgiAXZUEuUUQqi1wlCbkw+3mO+87OjJPJJDmZ930nv+/nEyeZeZl5k8fJ5D/nnOfI8OHDaYAGuLRuO3RkW7f/qux08miBW6eT6306a7lDQ/fXH3/NdHIAAAAkhYQFbPXhhx/Kf/zHf0iNGjWkdevWZlsuDd0nTpyw/ljFxcUye/Zs6dOnj3To0EGGDh0qn3zyifXHAZJpZDurblalp5NHW7/tjHaHhu6yppM7I9uFJwvd/vEAAAAA3grYutb61ltvlfT0dHn11VfNx5QpU8zU8Z/85CeycuVKq483d+5ceeWVV2Tq1KlmxLxp06YycuRIOXjwoNXHAZJVRaeTRwZunU7ujHbHapoWOrI9s/FMWdhvoex+a7eZVq7dyTVsO5eMcgMAAKBaB+zly5ebZmaLFy+WFi1amOsGDRokr732mjRr1kx++ctfWn28VatWmc7kl112mVxwwQUyfvx4M1LOKDZQtdPJIwO3Tid3RrtjNU0LnU4e2Z18y8ItcurYqfAu5azfBgAAQHUN2H/6059MiE5LC996u1GjRrJgwQKZNGmS1cerV6+evPPOO/LVV19JSUmJefyMjIxguAdQNdPJIwO3TifPO5QXs2la6Mi2ihzdLq1pmlm/TXdyAAAAeER42q1CuuZaHTt2TDZs2GCmav/zP/+zHD161EzfHjJkiNXHmzhxogn0V1xxhaSmppp133PmzJHzzz+/QvcXCAQkLy9PvCQ/Pz/sEv6RdLVL+b7vQUpGihRLsbS7tZ2k1UyTMzO+D9wpNVJkzbQ1JhxHa5oWOp3cWa+98qGV8uPxPw5eLrt1mVy34Lrg+m0d4dbPnfvV7uS7V+42j5fTL0dKCkpMcNdp5Zl1M6W4sFgCqQHzXNamiqGX1bZu1QR18y9q50/UzZ+om39Ru6rn/N3oqYDtrIv+wx/+IAUFBeYE27VrJ7NmzZIjR47If/7nf0qdOnWsPdauXbukdu3apoma7rGt67HHjBkjixYtkpYtW5b7/oqKikxTNi/Kzc11+xRQQclcO52toh86c+SSey4xwVdHmXUttzZNO7zrcNTp5JHdySNHuUODtk4nH7R0UFjo3vbSNtM0TUe8g4H7yhwp/q5Y0mulS2rNVCk6WSQ1a9X8PnyflSknjp+QQ0cPSWFhoXmjQD+qa92SGXXzL2rnT9TNn6ibf1G7qqV/03oqYGuw1RHkO++803T2vvHGG831N998s4wdO9Z0/LY1TfzAgQPy0EMPmannnTp1Mte1bdvWhG49h3//938v931qczZdK+4l+i6VPpGaNGkiWVlZbp8OyqE61q6wpFBq1KohxYFiSZEUOSvnLBN+Nz2zKWw6+YZ5G8JGtyNHuUODtjPaHRq6G3ZqGJxOHjnK/clzn5hQHxa+++VIZmqm5FyQE3W0u7rXLRlQN/+idv5E3fyJuvkXtat6miPjlbCAvXDhQrnjjjvMtG1dE+3o1auXPPDAAzJ//nxrAXvz5s1mxFlDdahLLrlE3nvvvQrdp464Z2dnixfpE8mr54bYqJ2Y9dup6alSI6NGcDp5aHfyyFHu0Onk9dvUDwvd0aaTh45yR4bv0ka7C48WmsfS9d265jxUZmYmdfMp6uZf1M6fqJs/UTf/onZVJ97p4Qltcvb1119Lly5dot6Wk5Mjhw4dsvZY5557rrncsWNH2PU7d+407+wA8O52YD3G9gjrTq5bgule2c4od6zu5LH24I7Wsby8W4TVTKspOf+UYy7ZKgwAAACuBeyGDRvKpk2bot62bds2c7sturb70ksvlXHjxsm6devMlAld6/3BBx+YUXQA3g/cod3J2w1rF+xSruu3j+yJ3p081h7ckeG7vFuElbZVWGgHc/brBgAAqN4SFrBvuOEGmTdvnjz77LPBBfjalXvFihWm8dnAgQOtPZZ2DNeGat26dZMJEybI9ddfb4K2rsnWaeIA/LklmDPKrY3SdIS71+ReZn11h5EdytyDOzJ8l3eLsNK2CtNRbl3bXWoILy6R4oLi77cQ+/Yk24kBAAAksYQF7F/84hcmRM+YMUMGDBhgrhs+fLhZf927d2/T/MymM888U37zm9+YvbA3btwo//Vf/1XqFHUA/pKRnRGcTj7i/REm5Dqhu7Q9uCPDd6wtwpzR7cjLyNFufbxY+3Xr1HZd471u5veBW06L2U5MP9/3wb6w8F3a6HfhyUK3f9wAAADwWpMzXRj+6KOPyogRI8xosu6Hrdtode7cWZo3b56o0wCQRJwGZNk/yo7ZNM3pIq5NzZzwXZ4twqJtFRbPft1OU7VY24lpeNdzcS71eA3yei79ZvSTplc0NaFbv1cN23qZfzRfss7KktPFpyU9O93FCgAAAMCVEWxH06ZNZfDgwXLXXXfJ0KFDCdcAqrxpmjPK3X7E92u6daQ52mh35HTy0rYKi7a2O9YabyeMR2uwFnkZax14aVPPGe0GAACoBiPYOgW8PCPczz//fFWeDoBqKNootwbw8mwRFs/a7tLWeMfaTiza6LdyQrgzAh5re7GyRrsjR72jbT0GAAAAH4xgBwKBuD9Onz5dlacCABXeIixyq7Boa7tLW+MdazuxyMtY68CjjX7H2/V8RoMZ8nyv56NuPRbtkmZsAAAAHhzBXrhwYVXePQBY5YzspkpqcHRbtwjT653L0tZ2awjXMBy5xlvDuAbhaOE78jLWOvDI0e+yRrtD13+f3eLs4Mh34y6Nf7DuO3T99+6Vu833pM3Y9HP9XvVxC44UmHNg3TcAAICH1mCvWbNGZs6caTp8z5kzRzZs2JDoUwCAcm8Rppenik/J7q92S7EUR13bHbpfd+goeM+He0bdTizyMtY68GhTz+Ppeq7KWvcdOiLudEaP3I7s64+/jtr1PHS0m33AAQBAdZewgK1dw2+66SYZOXKk2Qv77bffNvtfDxs2zGzRVVhIcx4A3ldQUGCWtTgBXNd216xdM+p+3ToKroG72+hu34fxGuHbiUVOQdfLTnd1iroOPNrU87K6nscTwstqxha55diWReEN13TrsYrsA04YBwAAyShhAXvatGmyd+9e+f3vfy9bt241I9lbtmyR2bNnyyeffGJGtQEgmUfBs+tlm+tCw7cz6u1cahiPtg482tTzsrqexxPCQ8O4c6wzHT1W1/OK7gNOGAcAAMksYQF79erVMmbMGLnyyitNx3Dz4DVqSP/+/eXBBx+U5cuXJ+pUAMCTU9BDL6OF8Mip56WNdpcnhMdqxha55Vi00e54m7G5GcYz0jIk5/yc4GsPAACA7wO2Tqk8++yzo97WsGFDycvLS9SpAIAvQ3i0qeexup7HE8JDw7jTGd2Zjl5a1/OK7gPuVhjXxmyZqZmSkZoRM4xHjpCzrzgAAPBswB44cKDMnTtXTp48GXZ9cXGxLFq0yNwOACh/8K7IlPNol5HN2Errel7efcC9HsbZ0gwAAPguYGdlZUlubq5cccUVMnHiRHn66adlypQpZor42rVrTRO0CRMmmI9f//rXiTotAKi2U86jhfHQZmxdH+gqR/b8sOt5RfcB92oYL8++4pEj5BrYdUsz/XzfB/uidlonjAMAUH0kLGC/9tprcsYZZ0h2drZ88MEHsnTpUnn33XfNbeeee65s3LhRPvzww+AHACCxITxaM7bSup47o91d7u8SNhIerRmbl8O4zS3NIjutVyaMB6ep5xWaqeqEcgAA/CEtUQ+kgbpOnTqJejgAgAUZ2RnmUke/U9NTzWi3hm8d7e45qacZkdV9wNNqpgVvq5FRw4TPTc9sMsFbaRjXELrtpW3mOg220cK4BteqCOP129SPe0uzlQ+tlB+P/3Gpl8tuXRY8Vj+/bsF1Jmg37NTQhO/IS/2eBi0dFAzjOkKuPwcN4/pz0O/RudTjNezrmwfXzLtGGnVpJGseXyO7/7rb/Exz+uVISUGJeRNBg7f+vAtOFEhaRpqpgXNd/tF8yTory6w/T89ON9dr/fT71J9dSVGJOQ4AAPh0BPuaa66RN954I1EPBwBIwOi3jnaXZx9wDeOxOqMnemTc1pZm5d1fPJ5p6vrz1J/FZy/Hvxd5ZKd1M+KdXyRrf7fWrC9f0GtBqevL2f4MAAAfBezCwkKpW7duoh4OAODBfcC9FsZtbWlmK4wrDeE6+q/T88u7F3nkdPVjXx4zP6P3Hi19fXlYKC8qkVPHT5XZaZ115QAAuBywhw8fLrNmzZJNmzZJfn5+oh4WAOADboVxW1ua2Qrjzmj3jr/sKPde5JFhfOMzG4MhXZUW1J1QfmDDAXmh7wtmdLu0Tuu2mryVZ/Q8MzPThf8jAQDweMBetmyZfPrppzJkyBDp2LGjtGzZMuyjVatWiToVAEA1CuMZZ2bEDOM2tjSzFcad0e7DOw+Xey/yyDDuhPTQ4B6r43o8ndYr2+Qt1n7loeHcCeMZaRmS8085UjOtZlyj6JGBndF1AEDSBuyf/vSnctddd8m9994b9eOee+5J1KkAAKpRGC8sLpQ9X++RU8WnooZxG1uaxQrl5Qnjzmi3NieLFcqjrSuPDONOSI+1vtwJ5fF0Wq/MuvKK7ldeeKwwrlH0yDXoB7celNMlp+XvM0JG14tKJP/w9wGc7uwAAN93Eb/vvvsS9VAAAIQpKCgo1/FOh+2sjKyYlxrYHZGd1qN1XHfCuNNhXUNr6KXSaeoatt8e/3ZwzXS0MB7ZcT0yjDshXY/dMG9DzI7r8XRaj9aV3Qno8XRcj3ZbZAf20I7rpXVlj3Ws06X9uwPffd8g7v++1mP08SrbnT3yMp4O7gCA6iVhI9gO3fv6t7/9rYwePVr27dsnK1eulP379yf6NAAASOg+46H7i5c2Qh46Tb31ja3lpQEvmSAbz17k0Zq7aUjX20tbX+6E8ng6rVe2yZuN/crjWYMerUFcZbuzl2f0PHK6ezxr0CvSPC5yBF6/BgBUo4Ctjc1uu+02ufPOO2Xx4sXy5ptvyvHjx+Wll16S66+/Xj7//PNEnQoAAJ4O4xpCe4ztYaahN7ikgdRIrSGX3HJJqdPUnXXlkc3dWt3QyoT0hpc2lCZ9mshlE8KDuhPK4+m0Xtkmb/HsV16RrdIiA3tkgzgb3dkr0sG9PIG9PM3jCo4VxL31mq1GcxVBczoA1VXCAvZTTz1lmpwtWLBA1q1bJ4FAwFz/+OOPS4MGDWT27NmJOhUAAHwTwmudU8tc1qwTfe146Lry0jqtn9fjPElNSxVJ+X4qe7SO670m9yqz03plmrzZ2K88njXokQ3iKtudvSId3Msb2MvTPE6/LmvrtXhG3ONtNFfeEXe9TpvSOc3p2F8dQHWTsICtI9Y6Lbxbt26SkpISvL5+/fpy9913y8cff5yoUwEAoFqNkGvgdEbGI29zQrkzYq4joaV1Wq9Mkzcb+5XHOtYJ7JEN4irbnb0iHdwrO+29tMAe79ZrNhvNxTviHjO4V2J/dRvHBkN+ftEPptbTaR6AbwO2Tgdv1KhR1NvOPPNMycvLS9SpAACACE7wzv5R2Z3Wy7uu3OZ+5WWtQXfWnjuj65Xtzl6RDu6VnfZeWmCPZ+u18oT8aEG+oiPutvdXt3Fs5Oi8BMRMrdfrvtn6zQ87zVsawY8V8r3ewZ6p/YCPAvZFF10ky5cvj3rb3/72N3M7AABI3iZvsfYrjxbGdQ/zeEbRI9egRzaI63xP57Du7KVNbY9nFD3W6HlFAnt5msfFs/Wam43mbO6vbuPY0JCf+06urPnt/ze306UX0Zrd2RrBDz1G18o/3+t5E+J1FqcT8iNDfVWN4Md7bLSp/TTPAzwcsHUa+LJly0yTs1deecX8glm/fr1MnTrVNDobOXJkok4FAAB4OJw7YTx0D/N4gnvkdHenQVz3h7pXuDt7eUbPKxLYy9M8LnTrtcqsV6+qRnO29le3cWxoyNdt6pr0bhKz03xVhXzbHeyrarQ/2hsCpTXPI3wDHgnYV155pTzxxBOyY8cOeeSRR0yTs+nTp8tf//pX8/VVV12VqFMBAABJuod5rAZxFe3OXp7R84oE9nibx8Wz9Zqbjeai7a9uI7BX5NjQkB859b60ZndVEfJtd7BPxLGlNc9zwveTDZ40l9rpXkffAbgQsLds2WKanOXk5Mjq1avljTfekBdffFH+8pe/yPvvvy8///nPE3EaAACgmqtId/byjJ5HrkWPJ7CXp3lcWVuvudloztb+6jaODQ35kVPvS2t2Zzvk2+5gn4hjVaw3APR7Unr57qPvmmn3jGQDCQzY2ths8ODBMmjQIHnwwQflhhtukCFDhkhWVpZ07NhRmjVrJjVqJGwQHQAAwJW16PEE9niax8Wz9ZpbjeZs7a9u49jQkB859b60Zne2Q77tDvaJODbWuvpoNHinpqcm/HkGeFmVpttZs2bJZ599JqNGjZL58+fLuHHjZM+ePTJ58uSqfFgAAICkDuyxtl6z2WiussG9Ivur2zg2NOSryM7y0Zrd2Q75tjvYJ+LY0sK4M3IdSa8vOFb+ZRxAMksJ6GLoKtKnTx+59dZb5ZZbbglep1PFx4wZYxqcZWdnix9s3brVXLZt21a8RLc22759u7Rs2dI3P0t8j9r5E3XzJ+rmX9TOv3Xbu3evWRqYejrVjHCe+u6UuUyrmWamFOubAqVdaqdrDf+VPVaDo962dvpaM9Kq4fGauddIo66NzHW7/rpL+j7WV8778XlmjXSbm9qY43av3G2akG17aZsJyzqKG+0ynmP1mEbdGsn+dftNV3Nd2/zdge/ks1c+k4adGpoO586lTsEetHRQ2HWlXVbVsdoQ7pe5v5R5l8yTuzbfFbyc2Xhm1JCtoXzMN2PMzxnu4Xelt/JglQbsNm3ayIIFC6RTp07B6w4fPiw9evSQ119/XS688ELxAwI2bKN2/kTd/Im6+Re18yev1U0Dt4Z7HWnVEXtnT+zQ67RZV1pmmvWQ71zqntulhfryBPZEHOu8IRAtqEe6cvqV0mVUF0nPTneltgh/U6tp06aeeM4lI88E7BYtWsjLL78s7dq1C15XUlIirVu3liVLlkirVq3EDwjYsI3a+RN18yfq5l/Uzp+oW3xBPzLUV1W4r8ix+oZAtDcAdC22jmTn9M+Rn8z+idTNqVuu+y04USBpGWkxj43nmGQ+tiL3l1ozVYpOFnn2eyqM49j8o/mSdVaWlBSVmK/9nAdd6zBWhbkeAAAASNoO9lVxrO437+w7X1qDPZ0OPu7oOLlp6U0meOv+2oHTASt7cXtlH3C3jq3M/RUeK/Tk97QljmOTcfs3RrDjwAg2bKN2/kTd/Im6+Re18yfqlrx10+Dz7c5vzRpy2+vAvbAG3c1j/XKeto99L8rSA22O2GNsD0+NZHtqBPuRRx6R4cOHBz+06ZmaNGlS2PWhjdAAAAAAeIdO5V03e53Zo932Xtxe2QfcrWP9cp62j/0oSbd/q9KA3blzZ6lVq5aZDu58ONfrO2Oh158+fboqTwUAAABABWng2fHajirZi9sr+4C7daxfztP2sQVJuv1bWlXe+cKFC6vy7gEAAAAkgIaewzsPV8le3F7ZB9ytY/1ynraPzTwrs9Tt37QRoF+51uQMAAAAgD9o6DldfFr2rNojXe7rInmH8szn2mE81mU8x9q+P78d65fztH1sl/u6RP1/rev9XU03cb8iYAMAAACISQOPBp+3x78tXe7vIj0f7ilrpq0xnx/74pi5rbTLeI61fX9+O9Yv52n72J4P9zRv3ii91AZnl024zFMNzjzVRTxZ0EUctlE7f6Ju/kTd/Iva+RN1S+4u4mt+u0Z2/XWXCUE5/XKk8LtCSc9Ot7YXtxf2AXfz2IrcXzz7YHv9+y84WmACdjLsg12la7ABAAAAJIe0zDSzfdLlEy83Tai08Znura0BW2VlZMW81L24HZU5JpmPrcj96Zsje7/eK02bNpXsutme+56y4jhW12QrDeB+R8AGAAAAEBdndLHWOckTiJJBQYF/u24nG9ZgAwAAAABgAQEbAAAAAAALCNgAAAAAAFhAwAYAAAAAwAICNgAAAAAAFiRtwF66dKlcffXVZq+ya665Rt588023TwkAAAAAkMSSMmAvW7ZMJk6cKEOHDpXXX39dBgwYIKNHj5ZNmza5fWoAAAAAgCSVdAE7EAjI7NmzZfjw4SZgn3/++XL33XdLjx495KOPPnL79AAAAAAASSpNkszevXtl//79cu2114Zd/+yzz7p2TgAAAACA5JeUAVvl5eXJ7bffLp999pk0btzYjGL37du3UiPjep9ekp+fH3YJ/6B2/kTd/Im6+Re18yfq5k/Uzb+oXdXTLJiSkhLXsSkBPTrJ1l+PHTvWhOr77rtPWrRoIStWrJB58+bJc889J927dy/3fW7dulUKCwur5HwBAAAAAN6WkZFhGmhXuxHs9PR0c6mj1wMHDjSft2zZ0oxkVzRgO/fbrFkz8RJ9lyo3N1eaNGkiWVlZbp8OyoHa+RN18yfq5l/Uzp+omz9RN/+idlVv165dcR+bdAG7QYMG5rJ58+Zh12s4Xr16dYXvV6cEZGdnixfpE8mr54bYqJ0/UTd/om7+Re38ibr5E3XzL2pXdeKdHp6UXcRbt24ttWrVks2bN4ddv3PnTtNRHAAAAACAqpB0I9iZmZkycuRI+bd/+zczmt2uXTuzF/batWtlwYIFbp8eAAAAACBJJV3AVvfcc4+ZIjFz5kz55ptv5MILL5Q5c+ZI165d3T41AAAAAECSSsqArUaMGGE+AAAAAABIhKRbgw0AAAAAgBsI2AAAAAAAWEDABgAAAADAAgI2AAAAAAAWELABAAAAALCAgA0AAAAAgAUEbAAAAAAALCBgAwAAAABgAQEbAAAAAAALCNgAAAAAAFhAwAYAAAAAwAICNgAAAAAAFhCwAQAAAACwgIANAAAAAIAFBGwAAAAAACwgYAMAAAAAYAEBGwAAAAAACwjYAAAAAABYQMAGAAAAAMACAjYAAAAAABYQsAEAAAAAsICADQAAAACABQRsAAAAAAAsIGADAAAAAGABARsAAAAAAAsI2AAAAAAAWEDABgAAAADAAgI2AAAAAAAWELABAAAAALCAgA0AAAAAgAUEbAAAAAAALCBgAwAAAABgAQEbAAAAAAALCNgAAAAAAFhAwAYAAAAAwAICNgAAAAAAFhCwAQAAAACwgIANAAAAAIAFBGwAAAAAACwgYAMAAAAAYAEBGwAAAAAACwjYAAAAAABYQMAGAAAAAMACAjYAAAAAABYQsAEAAAAAsICADQAAAACABQRsAAAAAAAsIGADAAAAAGABARsAAAAAAAuSPmDv3btXOnToIEuWLHH7VAAAAAAASSypA3ZRUZGMGTNG8vLy3D4VAAAAAECSS+qAPWfOHDnjjDPcPg0AAAAAQDWQtAF7/fr18qc//UmmT5/u9qkAAAAAAKqBNElCx48fl7Fjx8rDDz8sDRs2tHKfgUDAc1PN8/Pzwy7hH9TOn6ibP1E3/6J2/kTd/Im6+Re1q3qaBVNSUqpvwH7kkUdMY7Nrr73W6nru7du3ixfl5ua6fQqoIGrnT9TNn6ibf1E7f6Ju/kTd/IvaVa2MjIzqGbCXLl0qGzZskOXLl1u93/T0dGnWrJl4ib5LpU+kJk2aSFZWltung3Kgdv5E3fyJuvkXtfMn6uZP1M2/qF3V27VrV9zHJl3AXrx4sXz77bfSu3fvsOt/85vfyBtvvCHPPPNMhe5XpwRkZ2eLF+kTyavnhtionT9RN3+ibv5F7fyJuvkTdfMvald14p0enpQBe8aMGVJQUBB2Xf/+/eX++++Xn/70p66dFwAAAAAguSVdwG7QoEHU6+vVq1fqbQAAAAAAVFbSbtMFAAAAAEAiJd0IdjQ7duxw+xQAAAAAAEmOEWwAAAAAACwgYAMAAAAAYAEBGwAAAAAACwjYAAAAAABYQMAGAAAAAMACAjYAAAAAABYQsAEAAAAAsICADQAAAACABQRsAAAAAAAsIGADAAAAAGABARsAAAAAAAsI2AAAAAAAWEDABgAAAADAAgI2AAAAAAAWELABAAAAALCAgA0AAAAAgAUEbAAAAAAALCBgAwAAAABgAQEbAAAAAAALCNgAAAAAAFhAwAYAAAAAwAICNgAAAAAAFhCwAQAAAACwgIANAAAAAIAFBGwAAAAAACwgYAMAAAAAYAEBGwAAAAAACwjYAAAAAABYQMAGAAAAAMACAjYAAAAAABYQsAEAAAAAsICADQAAAACABQRsAAAAAAAsIGADAAAAAGABARsAAAAAAAsI2AAAAAAAWEDABgAAAADAAgI2AAAAAAAWELABAAAAALCAgA0AAAAAgAUEbAAAAAAALCBgAwAAAABgAQEbAAAAAAALCNgAAAAAAFhAwAYAAAAAwAICNgAAAAAAFhCwAQAAAACwgIANAAAAAIAFSRmwjx49KpMnT5aePXtKx44dZfDgwbJhwwa3TwsAAAAAkMSSMmCPHj1aNm3aJE899ZQsXrxYWrZsKbfffrvs2bPH7VMDAAAAACSppAvYX3zxhaxdu1YeeeQR6dSpkzRt2lQmTZok9evXl+XLl7t9egAAAACAJJV0Abtu3boyf/58adu2bfC6lJQU83H8+HFXzw0AAAAAkLySLmDXqVNHevXqJRkZGcHrVqxYYUa2L7/8clfPDQAAAACQvNIkyW3cuFEmTJgg/fv3l969e1f4fgKBgOTl5YmX5Ofnh13CP6idP1E3f6Ju/kXt/Im6+RN18y9qV/U0C+qM6HikBPToJLVq1SoZM2aM6SQ+d+5cqVmzZoXuZ+vWrVJYWGj9/AAAAAAA3qczpEOXIVe7EexFixbJY489JldddZU8/vjjYVPGKyI9PV2aNWsmXqLvUuXm5kqTJk0kKyvL7dNBOVA7f6Ju/kTd/Iva+RN18yfq5l/Ururt2rUr7mOTMmC/+OKLMnXqVBk2bJhMnDgx7uH8WPQ+srOzxYv0ieTVc0Ns1M6fqJs/UTf/onb+RN38ibr5F7WrOuXJk0kXsPfu3SvTpk2Tfv36yZ133imHDh0K3paZmSm1a9d29fwAAAAAAMkp6QK2dgwvKiqSt956y3yEGjhwoEyfPt21cwMAAAAAJK+kC9h33XWX+QAAAAAAIJGSbh9sAAAAAADcQMAGAAAAAMACAjYAAAAAABYQsAEAAAAAsICADQAAAACABQRsAAAAAAAsIGADAAAAAGABARsAAAAAAAsI2AAAAAAAWEDABgAAAADAAgI2AAAAAAAWELABAAAAALCAgA0AAAAAgAUEbAAAAAAALCBgAwAAAABgAQEbAAAAAAALCNgAAAAAAFhAwAYAAAAAwAICNgAAAAAAFhCwAQAAAACwgIANAAAAAIAFBGwAAAAAACwgYAMAAAAAYEFKIBAI2LijZLZx40bRH1NGRoZ4iZ5TUVGRpKenS0pKitung3Kgdv5E3fyJuvkXtfMn6uZP1M2/qF3VKywsND/bjh07lnlsWgLOx/e8+j+qnpfXQj/iQ+38ibr5E3XzL2rnT9TNn6ibf1G7xPyM482EjGADAAAAAGABa7ABAAAAALCAgA0AAAAAgAUEbAAAAAAALCBgAwAAAABgAQEbAAAAAAALCNgAAAAAAFhAwAYAAAAAwAICNgAAAAAAFhCwAQAAAACwgIANAAAAAIAFBGwAAAAAACwgYPvU6dOn5emnn5bLL79c2rdvL7/4xS9k3759bp8WInzzzTdy8cUX/+BjyZIl5vbt27fLzTffbGrYt29feeGFF9w+5WrvD3/4gwwbNizsurLqxPPRm3V7+OGHf/Dc0/o5qJs7jh49KpMnT5aePXtKx44dZfDgwbJhw4bg7R988IFcf/31cskll8hVV10lr7/+eti/P3XqlEyZMkW6d+8uHTp0kIceekgOHz7swndS/ZRVuxEjRvzgORf6vKR27vj222/lV7/6lXTr1s383O+44w7ZvXt38HZe4/xZN17jPCwAX5ozZ06ga9eugXfeeSewffv2wG233Rbo379/4NSpU26fGkKsXr060LZt28A333wTOHjwYPAjPz8/cPjwYVPDCRMmBHbt2hV49dVXzbF6CXcsWrQo0KJFi8DNN98cvC6eOvF89F7d1A033BB46qmnwp573377bfB26uaOESNGBAYMGBBYv359YM+ePYEpU6YE2rVrF9i9e7d5junzS+umnz/zzDOBVq1aBf7+978H//348eMDV155pfn3mzdvDvzsZz8LDB061NXvqbqIVTvVvXv3wIsvvhj2nDty5Ejw31M7dwwaNCjw85//3PzM9Xk1atSowGWXXRbIy8vjNc6ndVO8xnkXAduH9InRoUOHwB//+MfgdceOHTMvcsuXL3f13BBu/vz5gWuvvTbqbfPmzTO/KIuKioLXPfnkk+aXHxLrH//4R+DOO+8MtG/fPnDVVVeFBbWy6sTz0Zt1O336tLl+5cqVUf8tdXNHbm5uoHnz5oENGzaE1UpD16xZswKTJk0yfzSGGj16tPnD0Km5vpmib146NOjpfW7cuDGB30n1U1btDh06ZG7/9NNPo/57aueOo0ePmufQjh07gtdp2NKfuwY3XuP8WTde47yNKeI+9N///d9y8uRJM8XKUadOHWnVqpWsX7/e1XNDuB07dsiFF14Y9TadVtelSxdJS0sLXqfTgHJzc+XQoUMJPEt8+umnkp6eLq+99pqZllqeOvF89GbdvvzyS8nLy5OcnJyo/5a6uaNu3boyf/58adu2bfC6lJQU83H8+HHzfAutifN8+/jjj3VAwFw61zmaNm0qDRo0oG4u105f7/RzrUc01M4dZ555pjz55JPSvHlz87VOyV+wYIGce+650qxZM17jfFo3XuO87f+fTfCNf/zjH+ayYcOGYdfXr18/eBu8YefOneaPkqFDh8revXvlggsukLvvvtusX9NaOb84Q2uoDhw4IGeffbZLZ1396Jql0HVLocqqE89Hb9ZNn3tq4cKF8t5770mNGjXM8+7BBx+U2rVrUzeX6B94vXr1CrtuxYoV8sUXX8ivf/1r+fOf/2z+gIysSX5+vhw5csT0tdDfqTVr1vzBMdTN3drpc06fW48++qisXbtWsrOzzRr6e+65RzIyMqidB0yaNElefvllU4+5c+eaGvEa58+68RrnbYxg+5D+oaH0iRZKX7S0gQi8obi4WPbs2SPHjh2TUaNGmXf+tcmENqnQJj4FBQVRa6ioo3eUVSeej96kf3zoHxz6x8S8efNk/PjxsmbNGvPHvjZ+oW7esHHjRpkwYYL0799fevfuHfX55nxdWFho6hZ5u6Ju7tdOn3Nag3bt2skzzzxj3kx+5ZVXTCMmRe3cd8stt8jixYtlwIABcu+995pZQLzG+bNuvMZ5GyPYPpSZmRn8Y8P5XOkTJisry8UzQyidbvXhhx9KampqsE5t2rSRzz//XJ599llzndYwlPNLT9+dhDeUVSeej96kf9wPGTLEjJgpHaE555xz5MYbb5StW7dSNw9YtWqVjBkzxnSjnjFjRvCPv8jnm/O11iXa81FRN/drpyPX48aNM1NbneecLuHQEbWxY8dSOw/QqcXqsccek82bN8uiRYt4jfNp3fRzXuO8ixFsH3Kmexw8eDDsev1a1zLBO2rVqhX2i01ddNFFZqqcToOMVkNFHb2jrDrxfPQmfWff+cMj9LmndHocdXOX/oGoM3v69OljRl+cETOtS7Sa6B/6Ou1Rn4+6VVRkIKBu7tdO31R2wnW05xy1c4eu3dWt7nRWXejvRw1t+rPnNc6fdeM1ztsI2D7UokULOeOMM8zoqEMbjHz22WfSuXNnV88N/09HqvXd/dA6qW3btplfkForbfpSUlISvG3dunWm6Uu9evVcOGNEU1adeD56k46Y3XrrrWHX6bv6Sp9/1M09L774okydOtX0pnjqqafCpjB26tRJPvroo7Dj9fmmv0v1D8pLL73UTH90GmYp7W+hb1pSN3drp/td65TxyOecjmI3adKE2rlEG5WNHj3aLE1zFBUVmd912oSV1zh/1o3XOI9zu405Kkb3vevSpUtg1apVYXvbFRYWun1q+D8lJSWBf/mXfwlcffXVZs9P3cNw2rRpgTZt2phtF3RLk86dOwfGjRsX+PzzzwOLFy82e08uWbLE7VOv1rQeods9xVMnno/eq5vWQrcz0X1Av/jiC7M1UN++fc22Jw7qlni6LVPr1q0D9957b9jerfpx/PjxwM6dO83tTzzxhPmd+eyzz/5gH2ytodZy3bp1wb2UI/dAR+Jrt3DhwkDLli3NPthffvll4PXXXzd78OrzzEHt3DFy5Ejzu+2jjz4yf39oHfR1bf/+/bzG+bRuvMZ5W4r+x+2Qj/LTdxr13eMlS5aYBhX6btTkyZOlcePGbp8aIt6B1G0W3n//ffPOoW6PoOvWdJRGbdmyxayj0XcUde3MbbfdJjfffLPbp12taaOQ/fv3m86cjrLqxPPRm3V78803TXNBbTao04uvvfZaeeCBB4JTWqlb4umU4pkzZ0a9beDAgTJ9+nTTEfeJJ54w2wRpLXQ68tVXXx08TremmTZtmulgrbRzrjbSipwuicTX7o9//KP52LdvX3A9qDb21NkHitq548SJE+ZvEV07r5/r3yD6O9OZUsxrnD/rxmucdxGwAQAAAACwgDXYAAAAAABYQMAGAAAAAMACAjYAAAAAABYQsAEAAAAAsICADQAAAACABQRsAAAAAAAsIGADAAAAAGABARsAAAAAAAvSbNwJAADwhvHjx8uf//znUm8/++yzZe3atQk9p4svvljuu+8+GTVqVEIfFwCARCNgAwCQZM455xz5/e9/H/W29PT0hJ8PAADVBQEbAIAkk5GRIe3bt3f7NAAAqHYI2AAAVEPDhg2TRo0aSZMmTeSFF16QU6dOSdeuXWXixInmesfWrVtl1qxZsm3bNikqKpIuXbrIQw89JBdddFHwmIMHD8qTTz4p7733nhQUFEjr1q3NMR06dAge891335n7fuutt8z9XH755TJ58mQzZR0AgGRBkzMAAJJQcXFx1I9AIBA85u2335YlS5bIww8/LFOmTJHt27eb4J2fn29uX7dunQwePNh8Pm3aNPnXf/1XOXDggNx0002ye/duc/3JkyfNMR9++KH86le/MlPTa9asKbfddpvk5uYGH0tDvAbr2bNnm/D9t7/9TR599NGE/1wAAKhKjGADAJBk9u/fb0aRoxk7dqzcfvvt5nMN0hqwzzvvPPN1Tk6ODBw4UJYuXWpCs45KX3DBBTJ//nxJTU01x1x22WXSr18/efrpp01Y1oZq+nh62bJlS3NMx44d5Wc/+5msX7/ejJCrtm3byu9+9zvzeffu3WXz5s3y7rvvJuTnAQBAohCwAQBIwiZnc+fOjXpbw4YNg59rEHbCtWrVqpX5WoPxddddZ6aHa/dvJ1yrOnXqSJ8+fYLh+OOPP5bGjRsHw7XKysqSFStWhD3upZdeGva1/pvjx49b+G4BAPAOAjYAAEnY5ExHjMvSoEGDH1xXr149OXbsmJw4ccJMJ4+2Rlqv09vV0aNHzb8pS3Z2dtjXNWrUCJuuDgBAMmANNgAA1dSRI0d+cN2hQ4fkRz/6kdSuXVtSUlLM15H+53/+R8466yzzuR53+PDhHxyzcePG4DptAACqCwI2AADVlE7vDg3Z2in8q6++MmukdcS5TZs28uabb0pJSUnwGB25Xr16dXDKd6dOnWTfvn3y+eefB4/RjuSjRo2SV199NcHfEQAA7mKKOAAASaawsFA++eSTUm+/+OKLg03ORo4cKXfffbfpBj5z5kxp3ry5DBgwwNyu3b61Idodd9whQ4YMMV3AteGZ3v+9995rjrn++utl4cKF5j7uv/9+qVu3brBjuP4bAACqEwI2AABJRqdwDxo0qNTbtUu4M/rcrVs3sz+16tu3r+kyrmu4lY5kP/fcc6Zj+OjRo831+m8ef/zx4D7YZ5xxhixatMh0CJ86daqcPn1a2rdvb0J2aAM1AACqg5QAHUYAAKh2dL9rpaPPAADADtZgAwAAAABgAQEbAAAAAAALmCIOAAAAAIAFjGADAAAAAGABARsAAAAAAAsI2AAAAAAAWEDABgAAAADAAgI2AAAAAAAWELABAAAAALCAgA0AAAAAgAUEbAAAAAAALCBgAwAAAAAglfe/uYeEE+wVIYQAAAAASUVORK5CYII=",
=======
      "image/png": "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",
>>>>>>> c1ccc8e3419992dcb4235f4691fac236ac104211
      "text/plain": [
       "<Figure size 1000x1500 with 3 Axes>"
      ]
     },
     "metadata": {},
     "output_type": "display_data"
    }
   ],
   "source": [
    "import pandas as pd\n",
    "import re\n",
    "import matplotlib.pyplot as plt\n",
    "import seaborn as sns\n",
    "\n",
    "# --- User Configuration ---\n",
    "# Just change this to the name of your saved log file.\n",
    "LOG_FILE_PATH = \"training_log.txt\"\n",
    "\n",
    "def parse_log_file(file_path):\n",
    "    \"\"\"\n",
    "    Reads the training log file and extracts metrics using regular expressions.\n",
    "    This is extremely fast as it does not load any models.\n",
    "    \"\"\"\n",
    "    metrics = []\n",
    "    \n",
    "    # Regex to find the lines with our metrics\n",
    "    train_loss_regex = re.compile(r\"Epoch (\\d+)/\\d+ - Train Loss: ([\\d.]+)\")\n",
    "    val_metrics_regex = re.compile(r\"Validation - Loss: ([\\d.]+), Perplexity: ([\\d.]+), Token Acc: ([\\d.]+)%\")\n",
    "\n",
    "    try:\n",
    "        with open(file_path, 'r') as f:\n",
    "            lines = f.readlines()\n",
    "    except FileNotFoundError:\n",
    "        print(f\"ERROR: The log file was not found at '{file_path}'\")\n",
    "        print(\"Please save your training output to this file and try again.\")\n",
    "        return pd.DataFrame()\n",
    "\n",
    "    epoch_data = {}\n",
    "    for line in lines:\n",
    "        train_match = train_loss_regex.search(line)\n",
    "        val_match = val_metrics_regex.search(line)\n",
    "\n",
    "        if train_match:\n",
    "            # When we find a new training loss, we start a new record\n",
    "            if epoch_data: # Save the previous epoch's complete data\n",
    "                metrics.append(epoch_data)\n",
    "            epoch_data = {\n",
    "                \"epoch\": int(train_match.group(1)),\n",
    "                \"train_loss\": float(train_match.group(2))\n",
    "            }\n",
    "        \n",
    "        if val_match and epoch_data:\n",
    "            # Add validation metrics to the current epoch's record\n",
    "            epoch_data[\"val_loss\"] = float(val_match.group(1))\n",
    "            epoch_data[\"val_perplexity\"] = float(val_match.group(2))\n",
    "            epoch_data[\"val_accuracy\"] = float(val_match.group(3))\n",
    "\n",
    "    if epoch_data: # Append the last record\n",
    "        metrics.append(epoch_data)\n",
    "        \n",
    "    return pd.DataFrame(metrics)\n",
    "\n",
    "# --- Main Execution ---\n",
    "if __name__ == '__main__':\n",
    "    # 1. Parse the log file to get the metrics DataFrame\n",
    "    metrics_df = parse_log_file(LOG_FILE_PATH)\n",
    "\n",
    "    if metrics_df.empty:\n",
    "        print(\"Could not extract any data. Please check the log file content and path.\")\n",
    "    else:\n",
    "        print(\"--- Successfully Parsed Metrics ---\")\n",
    "        print(metrics_df.head())\n",
    "\n",
    "        # 2. Plotting the results\n",
    "        sns.set_theme(style=\"whitegrid\")\n",
    "        fig, axes = plt.subplots(3, 1, figsize=(10, 15), sharex=True)\n",
    "        fig.suptitle('BLT Model Training Metrics', fontsize=16)\n",
    "\n",
    "        # Plot 1: Training vs. Validation Loss\n",
    "        sns.lineplot(data=metrics_df, x='epoch', y='train_loss', ax=axes[0], label='Training Loss', color='b', marker='o')\n",
    "        sns.lineplot(data=metrics_df, x='epoch', y='val_loss', ax=axes[0], label='Validation Loss', color='r', marker='o')\n",
    "        axes[0].set_title('Training vs. Validation Loss')\n",
    "        axes[0].set_ylabel('Loss')\n",
    "        axes[0].legend()\n",
    "\n",
    "        # Plot 2: Validation Token Accuracy\n",
    "        sns.lineplot(data=metrics_df, x='epoch', y='val_accuracy', ax=axes[1], color='g', marker='o')\n",
    "        axes[1].set_title('Validation Token Accuracy')\n",
    "        axes[1].set_ylabel('Accuracy (%)')\n",
    "\n",
    "        # Plot 3: Validation Perplexity\n",
    "        sns.lineplot(data=metrics_df, x='epoch', y='val_perplexity', ax=axes[2], color='purple', marker='o')\n",
    "        axes[2].set_title('Validation Perplexity')\n",
    "        axes[2].set_ylabel('Perplexity')\n",
    "        axes[2].set_xlabel('Epoch')\n",
    "        axes[2].set_ylim(bottom=1) # Perplexity is meaningless below 1\n",
    "\n",
    "        plt.tight_layout(rect=[0, 0, 1, 0.97])\n",
    "        # Save the figure to a file\n",
    "        plt.savefig(\"training_metrics_plot.png\")\n",
    "        print(\"\\n✅ Graphs saved to 'training_metrics_plot.png'\")\n",
    "        plt.show()"
   ]
  },
  {
   "cell_type": "markdown",
   "id": "82fb7ca9",
   "metadata": {},
   "source": [
    "## Inference Function (Text-to-Text Generation)"
   ]
  },
  {
   "cell_type": "code",
<<<<<<< HEAD
   "execution_count": null,
=======
   "execution_count": 76,
>>>>>>> c1ccc8e3419992dcb4235f4691fac236ac104211
   "id": "7d22d8db",
   "metadata": {},
   "outputs": [
    {
     "name": "stdout",
     "output_type": "stream",
     "text": [
<<<<<<< HEAD
      "✅ Loaded checkpoint from epoch 372\n"
=======
      "✅ Loaded checkpoint from epoch 304\n"
>>>>>>> c1ccc8e3419992dcb4235f4691fac236ac104211
     ]
    },
    {
     "name": "stderr",
     "output_type": "stream",
     "text": [
<<<<<<< HEAD
      "/Library/Frameworks/Python.framework/Versions/3.13/lib/python3.13/site-packages/torch/nn/functional.py:6044: UserWarning: Support for mismatched key_padding_mask and attn_mask is deprecated. Use same type for both instead.\n",
=======
      "/Library/Frameworks/Python.framework/Versions/3.13/lib/python3.13/site-packages/torch/nn/functional.py:6041: UserWarning: Support for mismatched key_padding_mask and attn_mask is deprecated. Use same type for both instead.\n",
>>>>>>> c1ccc8e3419992dcb4235f4691fac236ac104211
      "  warnings.warn(\n"
     ]
    },
    {
     "name": "stdout",
     "output_type": "stream",
     "text": [
      "\n",
      "--- Inference Result ---\n",
      "Input:  'reconciliation trolls realized scene'\n",
<<<<<<< HEAD
      "Output: 'seillic noitaretni selbart detaroc seillic'\n",
=======
      "Output: 'seillic detarts noitarep seillic noitaredni'\n",
>>>>>>> c1ccc8e3419992dcb4235f4691fac236ac104211
      "Expected: 'enecs dezilaer sllort noitailicnocer'\n"
     ]
    }
   ],
   "source": [
    "import torch\n",
    "import torch.nn as nn\n",
    "\n",
    "# --- Step 1: Define necessary components and vocabulary ---\n",
    "# This should be consistent with your training script.\n",
    "\n",
    "# Assume your helper functions (patchify) and model classes (BLTModel) are defined or imported.\n",
    "# Assume your vocabulary constants are also defined. For clarity, here they are again:\n",
    "PRINTABLE_ASCII = [chr(i) for i in range(32, 127)]\n",
    "VOCAB = ['<PAD>', '<SOS>', '<EOS>'] + PRINTABLE_ASCII\n",
    "CHAR_TO_IDX = {ch: i for i, ch in enumerate(VOCAB)}\n",
    "IDX_TO_CHAR = {i: ch for i, ch in enumerate(VOCAB)}\n",
    "PAD_IDX = CHAR_TO_IDX['<PAD>']\n",
    "SOS_IDX = CHAR_TO_IDX['<SOS>']\n",
    "EOS_IDX = CHAR_TO_IDX['<EOS>']\n",
    "\n",
    "\n",
    "# --- Step 2: The Corrected Generation Function ---\n",
    "\n",
    "@torch.no_grad()\n",
    "def generate_prediction(model, input_text, max_len=100, device=None):\n",
    "    \"\"\"\n",
    "    Generates a text-to-text prediction using the complete BLTModel.\n",
    "    \"\"\"\n",
    "    if device is None:\n",
    "        device = torch.device(\"mps\" if torch.backends.mps.is_available() else \"cpu\")\n",
    "\n",
    "    model.eval()\n",
    "    model.to(device)\n",
    "\n",
    "    # 1. Prepare the input: The model expects a BATCH of patch lists.\n",
    "    #    For a single prediction, we create a batch of size 1.\n",
    "    patches = patchify(input_text)\n",
    "    src_patches_batch = [patches] # e.g., [['patch1', 'patch2']]\n",
    "\n",
    "    # 2. Start the decoding process with the Start-Of-Sequence token.\n",
    "    output_ids = [SOS_IDX]\n",
    "\n",
    "    # 3. Autoregressively generate the output sequence one token at a time.\n",
    "    for _ in range(max_len):\n",
    "        # Prepare the current sequence as the decoder's input\n",
    "        tgt_inp = torch.tensor([output_ids], dtype=torch.long, device=device)\n",
    "        tgt_pad_mask = (tgt_inp == PAD_IDX)\n",
    "\n",
    "        # >>> THE CRITICAL STEP <<<\n",
    "        # Call the full model. It will handle the patch embedding, encoder,\n",
    "        # global transformer, and decoder internally.\n",
    "        logits = model(src_patches_batch, tgt_inp, tgt_pad_mask)\n",
    "        \n",
    "        # 4. Get the next token using greedy decoding (picking the most likely one).\n",
    "        next_id = logits[:, -1, :].argmax().item()\n",
    "        \n",
    "        # 5. Append the new token and check if we should stop.\n",
    "        output_ids.append(next_id)\n",
    "        if next_id == EOS_IDX:\n",
    "            break\n",
    "            \n",
    "    # 6. Convert the final list of token IDs back to a string.\n",
    "    #    We skip the first token, which is the <SOS> token.\n",
    "    output_text = \"\".join([IDX_TO_CHAR.get(i, \"\") for i in output_ids[1:] if i != EOS_IDX])\n",
    "    \n",
    "    return output_text\n",
    "\n",
    "\n",
    "# --- Step 3: Example Usage ---\n",
    "\n",
    "if __name__ == '__main__':\n",
    "    # --- Load your final, trained model ---\n",
    "    device = torch.device(\"mps\" if torch.backends.mps.is_available() else \"cpu\")\n",
    "    \n",
    "    # Instantiate the model with the correct vocab size\n",
    "    model = BLTModel(vocab_size=len(VOCAB), d_model=64, nhead=4)\n",
    "    \n",
    "    # Load the checkpoint\n",
<<<<<<< HEAD
    "    ckpt_path = \"checkpoints/blt_epoch372.pt\" # IMPORTANT: Use your final checkpoint\n",
=======
    "    ckpt_path = \"checkpoints/blt_epoch304.pt\" # IMPORTANT: Use your final checkpoint\n",
>>>>>>> c1ccc8e3419992dcb4235f4691fac236ac104211
    "    checkpoint = torch.load(ckpt_path, map_location=device)\n",
    "    model.load_state_dict(checkpoint[\"model_state\"])\n",
    "    print(f\"✅ Loaded checkpoint from epoch {checkpoint['epoch']}\")\n",
    "\n",
    "    # --- Run Prediction ---\n",
    "    input_text = \"reconciliation trolls realized scene\"\n",
    "    output_text = generate_prediction(model, input_text, max_len=100, device=device)\n",
    "    \n",
    "    print(\"\\n--- Inference Result ---\")\n",
    "    print(f\"Input:  '{input_text}'\")\n",
    "    print(f\"Output: '{output_text}'\")\n",
    "    print(f\"Expected: '{input_text[::-1]}'\")"
   ]
  },
  {
   "cell_type": "markdown",
   "id": "b8ebaf1f",
   "metadata": {},
   "source": [
    "## Prediction on test data and saving CSV"
   ]
  },
  {
   "cell_type": "code",
   "execution_count": null,
   "id": "eddc3475",
   "metadata": {},
<<<<<<< HEAD
   "outputs": [
    {
     "name": "stdout",
     "output_type": "stream",
     "text": [
      "✅ Loaded checkpoint from epoch 372\n"
     ]
    },
    {
     "data": {
      "application/vnd.jupyter.widget-view+json": {
       "model_id": "1897d396c6664bdfaabacbc93a882b69",
       "version_major": 2,
       "version_minor": 0
      },
      "text/plain": [
       "🚀 Generating Predictions:   0%|          | 0/125 [00:00<?, ?it/s]"
      ]
     },
     "metadata": {},
     "output_type": "display_data"
    },
    {
     "name": "stderr",
     "output_type": "stream",
     "text": [
      "/Library/Frameworks/Python.framework/Versions/3.13/lib/python3.13/site-packages/torch/nn/functional.py:6044: UserWarning: Support for mismatched key_padding_mask and attn_mask is deprecated. Use same type for both instead.\n",
      "  warnings.warn(\n"
     ]
    },
    {
     "name": "stdout",
     "output_type": "stream",
     "text": [
      "\n",
      "✅ Predictions saved to predictions/predictions_BLT.csv\n",
      "\n",
      "--- Prediction Preview ---\n",
      "                                                                                                             input                                                                                                                   output\n",
      "0                                                        intimidated campaigns emerging marines spin bel cleansing                                                               gninim seiram gnitalp seirap seiram gnidnep seiram gnitalp\n",
      "1                                                                          salary lebanese wifi fury fab sta polly                                                                         selbat selbat elbat seilab seilam seillob seilat\n",
      "2                                                               financing ahmed sexual cinematic puff malibu peach                                                          ecnalpmi ecnah evitalp ecnam ecnalp evitart evitam ecnalp ecnah\n",
      "3  n00 nickel disparity funded tutorials constrained bk 8 cellar wen advocacy surpass digitally discredit earliest  seilats detarts detart yllacid seira seirac detart seilib seillib seirahc stnem detarts detarts detarts seillib yllacid\n",
      "4                                          unveiled alliance cleric skinned illness permission destroyed stationed                                           seiled snoitarts seiled seiretni seillim senoitarop detarts seillim seidnecnoc\n"
     ]
    }
   ],
=======
   "outputs": [],
>>>>>>> c1ccc8e3419992dcb4235f4691fac236ac104211
   "source": [
    "import torch\n",
    "import torch.nn as nn\n",
    "import pandas as pd\n",
    "import os\n",
    "from torch.utils.data import Dataset, DataLoader\n",
    "from tqdm.auto import tqdm\n",
    "\n",
    "# --- Step 1: Define ALL necessary components from your training script ---\n",
    "# This makes the script runnable on its own.\n",
    "# You MUST paste your final, corrected versions of the following:\n",
    "#\n",
    "# 1. All helper functions (patchify, etc.)\n",
    "# 2. All vocabulary constants (VOCAB, CHAR_TO_IDX, IDX_TO_CHAR, PAD_IDX, SOS_IDX, EOS_IDX)\n",
    "# 3. The BLTDataset class\n",
    "# 4. The blt_collate_fn function\n",
    "# 5. The PatchEmbedder, PositionalEncoding, and BLTModel classes\n",
    "\n",
    "# --- Step 2: A Batch-Oriented Generation Function (Much Faster) ---\n",
    "\n",
    "@torch.no_grad()\n",
    "def generate_batch_predictions(model, data_loader, max_len=100, device=None):\n",
    "    \"\"\"\n",
    "    Generates predictions for an entire DataLoader in batches for efficiency.\n",
    "    \"\"\"\n",
    "    if device is None:\n",
    "        device = torch.device(\"mps\" if torch.backends.mps.is_available() else \"cpu\")\n",
    "    \n",
    "    model.eval()\n",
    "    model.to(device)\n",
    "    \n",
    "    all_predictions = []\n",
    "    progress_bar = tqdm(data_loader, desc=\"🚀 Generating Predictions\")\n",
    "\n",
    "    for src_patches_batch, _ in progress_bar:\n",
    "        batch_size = len(src_patches_batch)\n",
    "        \n",
    "        # Start the decoding process for the whole batch with the SOS token\n",
    "        output_ids = torch.full((batch_size, 1), SOS_IDX, dtype=torch.long, device=device)\n",
    "\n",
    "        # A flag to track which sequences in the batch are finished\n",
    "        finished = torch.zeros(batch_size, dtype=torch.bool, device=device)\n",
    "\n",
    "        for _ in range(max_len):\n",
    "            tgt_pad_mask = (output_ids == PAD_IDX)\n",
    "            \n",
    "            # Call the model once for the entire batch\n",
    "            logits = model(src_patches_batch, output_ids, tgt_pad_mask)\n",
    "            \n",
    "            # Get the next token for every sequence in the batch\n",
    "            next_ids = logits[:, -1, :].argmax(dim=-1).unsqueeze(1)\n",
    "            \n",
    "            # Append the new tokens to the sequences\n",
    "            output_ids = torch.cat([output_ids, next_ids], dim=1)\n",
    "            \n",
    "            # Update the 'finished' status for any sequence that just generated an EOS token\n",
    "            finished = finished | (next_ids.squeeze() == EOS_IDX)\n",
    "            \n",
    "            # If all sequences in the batch are finished, we can stop early\n",
    "            if finished.all():\n",
    "                break\n",
    "        \n",
    "        # Decode the generated ID sequences into text\n",
    "        for i in range(batch_size):\n",
    "            # Filter out special tokens\n",
    "            filtered_ids = [idx for idx in output_ids[i].tolist() if idx not in {SOS_IDX, EOS_IDX, PAD_IDX}]\n",
    "            pred_text = \"\".join([IDX_TO_CHAR.get(idx, \"\") for idx in filtered_ids])\n",
    "            all_predictions.append(pred_text)\n",
    "            \n",
    "    return all_predictions\n",
    "\n",
    "# --- Step 3: Main Execution Block ---\n",
<<<<<<< HEAD
    "if __name__ == '__main__':\n",
    "    # --- Configuration ---\n",
    "    CHECKPOINT_PATH = \"checkpoints/blt_epoch372.pt\" # The final model to use\n",
=======
    "\n",
    "if __name__ == '__main__':\n",
    "    # --- Configuration ---\n",
    "    CHECKPOINT_PATH = \"checkpoints/blt_epoch300.pt\" # The final model to use\n",
>>>>>>> c1ccc8e3419992dcb4235f4691fac236ac104211
    "    BATCH_SIZE = 16 # Much faster than batch_size=1\n",
    "    \n",
    "    # Setup device\n",
    "    device = torch.device(\"mps\" if torch.backends.mps.is_available() else \"cpu\")\n",
    "    if device.type == \"mps\":\n",
    "        torch.set_float32_matmul_precision(\"high\")\n",
    "\n",
    "    # --- Load Model ---\n",
    "    model = BLTModel(vocab_size=len(VOCAB), d_model=64, nhead=4)\n",
    "    checkpoint = torch.load(CHECKPOINT_PATH, map_location=device)\n",
    "    model.load_state_dict(checkpoint[\"model_state\"])\n",
    "    print(f\"✅ Loaded checkpoint from epoch {checkpoint['epoch']}\")\n",
    "\n",
    "    # --- Load Test Data ---\n",
    "    test_df = pd.read_csv(\"./../data/test.csv\")\n",
    "    test_ds = BLTDataset(csv_path=\"./../data/test.csv\")\n",
    "    test_loader = DataLoader(\n",
    "        test_ds,\n",
    "        batch_size=BATCH_SIZE,\n",
    "        shuffle=False,\n",
    "        collate_fn=blt_collate_fn\n",
    "    )\n",
    "\n",
    "    # --- Generate All Predictions ---\n",
    "    predictions = generate_batch_predictions(model, test_loader, max_len=150, device=device)\n",
    "\n",
    "    # --- Save Predictions in the Correct Format ---\n",
    "    # As per the assignment, the output file should have 'input' and 'output' columns.\n",
    "    output_df = pd.DataFrame({\n",
    "        'input': test_df['input'],\n",
    "        'output': predictions\n",
    "    })\n",
    "    \n",
    "    os.makedirs(\"predictions\", exist_ok=True)\n",
    "    output_path = \"predictions/predictions_BLT.csv\"\n",
    "    output_df.to_csv(output_path, index=False)\n",
    "    \n",
    "    print(f\"\\n✅ Predictions saved to {output_path}\")\n",
    "    print(\"\\n--- Prediction Preview ---\")\n",
    "    print(output_df.head().to_string())"
   ]
  },
  {
   "cell_type": "markdown",
   "id": "53e59d25",
   "metadata": {},
   "source": [
    "# Character level Model & Training"
   ]
  },
  {
   "cell_type": "code",
   "execution_count": null,
   "id": "4beebbca",
   "metadata": {},
   "outputs": [
    {
     "name": "stdout",
     "output_type": "stream",
     "text": [
      "✅ Using MPS (Apple Silicon GPU)\n"
     ]
    }
   ],
   "source": [
    "import torch\n",
    "\n",
    "if torch.backends.mps.is_available():\n",
    "    device = torch.device(\"mps\")\n",
    "    print(\"✅ Using MPS (Apple Silicon GPU)\")\n",
    "else:\n",
    "    device = torch.device(\"cpu\")\n",
    "    print(\"⚠️ MPS not available, falling back to CPU\")"
   ]
  },
  {
   "cell_type": "markdown",
   "id": "3d808956",
   "metadata": {},
   "source": [
    "## Data & Tokenizer\n",
    "\n",
    "1. Loads your train.csv and test.csv.\n",
    "2. Creates a character vocabulary:\n",
    "    - [PAD], [SOS], [EOS] + printable ASCII chars.\n",
    "    - Maps chars ↔ IDs (stoi, itos).\n",
    "3. Provides encode/decode functions.\n",
    "4. Tests it on a sample string."
   ]
  },
  {
   "cell_type": "code",
   "execution_count": null,
   "id": "cbffc4ab",
   "metadata": {},
   "outputs": [
    {
     "name": "stdout",
     "output_type": "stream",
     "text": [
      "Train shape: (10000, 2)\n",
      "Test shape: (2000, 2)\n",
      "                                               input  \\\n",
      "0               reconciliation trolls realized scene   \n",
      "1                        scratched kemp blah devices   \n",
      "2  delusional engineered perfect prey englishman ...   \n",
      "3  boomers nfl reacts parallels everything 6 redu...   \n",
      "4  patience put christmas superhero luc rake fulf...   \n",
      "\n",
      "                                              target  \n",
      "0               enecs dezilaer sllort noitailicnocer  \n",
      "1                        secived halb pmek dehctarcs  \n",
      "2  hctarcs detsub namhsilgne yerp tcefrep dereeni...  \n",
      "3  stcudnoc ysereh redlof secuder 6 gnihtyreve sl...  \n",
      "4  ylesned ylno elbats latnenitnoc dellifluf ekar...  \n",
      "\n",
      "Vocab size: 98\n",
      "PAD idx: 0 SOS idx: 1 EOS idx: 2\n",
      "Sample: LMA is fun!\n",
      "Encoded: [1, 47, 48, 36, 3, 76, 86, 3, 73, 88, 81, 4, 2]\n",
      "Decoded: LMA is fun!\n"
     ]
    }
   ],
   "source": [
    "import pandas as pd\n",
    "import torch\n",
    "from torch.utils.data import Dataset\n",
    "import string\n",
    "\n",
    "# --- Step 1: Load Data ---\n",
    "train_df = pd.read_csv(\"./../data/train.csv\")\n",
    "test_df  = pd.read_csv(\"./../data/test.csv\")\n",
    "\n",
    "print(\"Train shape:\", train_df.shape)\n",
    "print(\"Test shape:\", test_df.shape)\n",
    "print(train_df.head())\n",
    "\n",
    "# --- Step 2: Character Tokenizer ---\n",
    "# Printable ASCII characters 32–126\n",
    "ascii_chars = [chr(i) for i in range(32, 127)]\n",
    "special_tokens = [\"[PAD]\", \"[SOS]\", \"[EOS]\"]\n",
    "\n",
    "itos = special_tokens + ascii_chars   # id → char\n",
    "stoi = {ch: i for i, ch in enumerate(itos)}  # char → id\n",
    "\n",
    "PAD_IDX = stoi[\"[PAD]\"]\n",
    "SOS_IDX = stoi[\"[SOS]\"]\n",
    "EOS_IDX = stoi[\"[EOS]\"]\n",
    "\n",
    "vocab_size = len(itos)\n",
    "\n",
    "print(\"\\nVocab size:\", vocab_size)\n",
    "print(\"PAD idx:\", PAD_IDX, \"SOS idx:\", SOS_IDX, \"EOS idx:\", EOS_IDX)\n",
    "\n",
    "# --- Encode / Decode functions ---\n",
    "def encode_text(text, add_special=True):\n",
    "    ids = [stoi[ch] for ch in text if ch in stoi]\n",
    "    if add_special:\n",
    "        ids = [SOS_IDX] + ids + [EOS_IDX]\n",
    "    return torch.tensor(ids, dtype=torch.long)\n",
    "\n",
    "def decode_ids(ids):\n",
    "    chars = []\n",
    "    for i in ids:\n",
    "        if i == PAD_IDX or i == SOS_IDX or i == EOS_IDX:\n",
    "            continue\n",
    "        chars.append(itos[i])\n",
    "    return \"\".join(chars)\n",
    "\n",
    "# --- Quick test ---\n",
    "sample = \"LMA is fun!\"\n",
    "encoded = encode_text(sample)\n",
    "decoded = decode_ids(encoded.tolist())\n",
    "\n",
    "print(\"Sample:\", sample)\n",
    "print(\"Encoded:\", encoded.tolist())\n",
    "print(\"Decoded:\", decoded)"
   ]
  },
  {
   "cell_type": "markdown",
   "id": "7f7905ed",
   "metadata": {},
   "source": [
    "## Dataset + Collate\n",
    "\n",
    "- CharDataset → loads strings, encodes them into token IDs.\n",
    "- collate_fn → pads sequences per batch + stores lengths.\n",
    "- DataLoader → provides batches for training & testing.\n",
    "- Prints shapes and a decoded sample to check correctness."
   ]
  },
  {
   "cell_type": "code",
   "execution_count": null,
   "id": "0eb46380",
   "metadata": {},
   "outputs": [
    {
     "name": "stdout",
     "output_type": "stream",
     "text": [
      "src_padded shape: torch.Size([32, 132])\n",
      "tgt_padded shape: torch.Size([32, 132])\n",
      "\n",
      "src_lengths: tensor([67, 21, 80, 38, 67])\n",
      "tgt_lengths: tensor([67, 21, 80, 38, 67])\n",
      "\n",
      "Example decoded input: cam environments eventual fallen aug merchant garry quebec latter\n",
      "Example decoded target: rettal cebeuq yrrag tnahcrem gua nellaf lautneve stnemnorivne mac\n"
     ]
    }
   ],
   "source": [
    "from torch.nn.utils.rnn import pad_sequence\n",
    "from torch.utils.data import DataLoader\n",
    "\n",
    "# --- Dataset Class ---\n",
    "class CharDataset(Dataset):\n",
    "    def __init__(self, df):\n",
    "        self.inputs = df[\"input\"].tolist()\n",
    "        self.targets = df[\"target\"].tolist()\n",
    "\n",
    "    def __len__(self):\n",
    "        return len(self.inputs)\n",
    "\n",
    "    def __getitem__(self, idx):\n",
    "        src_text = self.inputs[idx]\n",
    "        tgt_text = self.targets[idx]\n",
    "\n",
    "        src_ids = encode_text(src_text, add_special=True)  # [SOS] ... [EOS]\n",
    "        tgt_ids = encode_text(tgt_text, add_special=True)\n",
    "\n",
    "        return src_ids, tgt_ids\n",
    "\n",
    "\n",
    "# --- Collate Function ---\n",
    "def collate_fn(batch):\n",
    "    src_batch, tgt_batch = zip(*batch)\n",
    "\n",
    "    # Pad sequences\n",
    "    src_padded = pad_sequence(src_batch, batch_first=True, padding_value=PAD_IDX)\n",
    "    tgt_padded = pad_sequence(tgt_batch, batch_first=True, padding_value=PAD_IDX)\n",
    "\n",
    "    # Lengths (before padding)\n",
    "    src_lengths = torch.tensor([len(x) for x in src_batch], dtype=torch.long)\n",
    "    tgt_lengths = torch.tensor([len(x) for x in tgt_batch], dtype=torch.long)\n",
    "\n",
    "    return src_padded, src_lengths, tgt_padded, tgt_lengths\n",
    "\n",
    "\n",
    "# --- Create Dataset + DataLoader ---\n",
    "train_ds = CharDataset(train_df)\n",
    "test_ds = CharDataset(test_df)\n",
    "\n",
    "train_loader = DataLoader(train_ds, batch_size=32, shuffle=True, collate_fn=collate_fn)\n",
    "test_loader = DataLoader(test_ds, batch_size=32, shuffle=False, collate_fn=collate_fn)\n",
    "\n",
    "import pandas as pd\n",
    "from sklearn.model_selection import train_test_split\n",
    "\n",
    "test_df = pd.read_csv(\"./../data/test.csv\")  # original test dataset\n",
    "val_df, holdout_df = train_test_split(test_df, test_size=0.5, random_state=42)\n",
    "\n",
    "val_ds = CharDataset(val_df)\n",
    "val_loader = DataLoader(val_ds, batch_size=32, shuffle=False, collate_fn=collate_fn)\n",
    "\n",
    "# --- Quick Check ---\n",
    "src_padded, src_lengths, tgt_padded, tgt_lengths = next(iter(train_loader))\n",
    "\n",
    "print(\"src_padded shape:\", src_padded.shape)\n",
    "print(\"tgt_padded shape:\", tgt_padded.shape)\n",
    "print(\"\\nsrc_lengths:\", src_lengths[:5])\n",
    "print(\"tgt_lengths:\", tgt_lengths[:5])\n",
    "print(\"\\nExample decoded input:\", decode_ids(src_padded[0].tolist()))\n",
    "print(\"Example decoded target:\", decode_ids(tgt_padded[0].tolist()))"
   ]
  },
  {
   "cell_type": "code",
   "execution_count": null,
   "id": "409f9f3b",
   "metadata": {},
   "outputs": [
    {
     "name": "stdout",
     "output_type": "stream",
     "text": [
      "Vocabulary size: 98\n"
     ]
    }
   ],
   "source": [
    "# --- Character Vocabulary (printable ASCII + special tokens) ---\n",
    "import string\n",
    "\n",
    "PAD_IDX = 0\n",
    "SOS_IDX = 1\n",
    "EOS_IDX = 2\n",
    "\n",
    "# Printable ASCII characters (32-126)\n",
    "chars = [chr(i) for i in range(32, 127)]\n",
    "VOCAB = {c: i+3 for i, c in enumerate(chars)}  # reserve 0,1,2 for PAD, SOS, EOS\n",
    "INV_VOCAB = {i: c for c, i in VOCAB.items()}\n",
    "\n",
    "VOCAB_SIZE = len(VOCAB) + 3  # include PAD, SOS, EOS\n",
    "print(f\"Vocabulary size: {VOCAB_SIZE}\")"
   ]
  },
  {
   "cell_type": "markdown",
   "id": "09205993",
   "metadata": {},
   "source": [
    "## Baseline Model\n",
    "\n",
    "- Embedding layer for characters\n",
    "- Positional encoding\n",
    "- Transformer encoder–decoder (2 layers each)\n",
    "- Linear projection to vocab size"
   ]
  },
  {
   "cell_type": "code",
   "execution_count": null,
   "id": "3beadd67",
   "metadata": {},
   "outputs": [],
   "source": [
    "import math\n",
    "import torch\n",
    "import torch.nn as nn\n",
    "\n",
    "# --- Positional Encoding (sinusoidal) ---\n",
    "class PositionalEncoding(nn.Module):\n",
    "    def __init__(self, d_model, max_len=5000):\n",
    "        super().__init__()\n",
    "        pe = torch.zeros(max_len, d_model)\n",
    "        position = torch.arange(0, max_len, dtype=torch.float).unsqueeze(1)\n",
    "        div_term = torch.exp(torch.arange(0, d_model, 2).float() * (-math.log(10000.0) / d_model))\n",
    "        pe[:, 0::2] = torch.sin(position * div_term)\n",
    "        pe[:, 1::2] = torch.cos(position * div_term)\n",
    "        pe = pe.unsqueeze(0)  # [1, max_len, d_model]\n",
    "        self.register_buffer(\"pe\", pe)\n",
    "\n",
    "    def forward(self, x):\n",
    "        # x: [B, L, D]\n",
    "        x = x + self.pe[:, :x.size(1), :]\n",
    "        return x\n",
    "\n",
    "\n",
    "# --- Baseline Transformer Model ---\n",
    "class CharTransformer(nn.Module):\n",
    "    def __init__(self, vocab_size, d_model=64, nhead=4, num_layers=2, dim_ff=128, dropout=0.1):\n",
    "        super().__init__()\n",
    "        self.d_model = d_model\n",
    "\n",
    "        # Embeddings\n",
    "        self.src_embed = nn.Embedding(vocab_size, d_model, padding_idx=PAD_IDX)\n",
    "        self.tgt_embed = nn.Embedding(vocab_size, d_model, padding_idx=PAD_IDX)\n",
    "\n",
    "        self.pos_encoder = PositionalEncoding(d_model)\n",
    "\n",
    "        # Encoder\n",
    "        encoder_layer = nn.TransformerEncoderLayer(d_model=d_model, nhead=nhead,\n",
    "                                                    dim_feedforward=dim_ff, dropout=dropout, batch_first=True)\n",
    "        self.encoder = nn.TransformerEncoder(encoder_layer, num_layers=num_layers, enable_nested_tensor=False)\n",
    "\n",
    "        # Decoder\n",
    "        decoder_layer = nn.TransformerDecoderLayer(d_model=d_model, nhead=nhead,\n",
    "                                                    dim_feedforward=dim_ff, dropout=dropout, batch_first=True)\n",
    "        self.decoder = nn.TransformerDecoder(decoder_layer, num_layers=num_layers)\n",
    "\n",
    "        # Output projection\n",
    "        self.fc_out = nn.Linear(d_model, vocab_size)\n",
    "\n",
    "    def forward(self, src, tgt_inp):\n",
    "        \"\"\"\n",
    "        src: [B, Ls]\n",
    "        tgt_inp: [B, Lt]\n",
    "        \"\"\"\n",
    "        # Embedding + positional encoding\n",
    "        src_emb = self.pos_encoder(self.src_embed(src))  # [B, Ls, D]\n",
    "        tgt_emb = self.pos_encoder(self.tgt_embed(tgt_inp))  # [B, Lt, D]\n",
    "\n",
    "        # Masks\n",
    "        src_key_padding_mask = (src == PAD_IDX)  # [B, Ls]\n",
    "        tgt_key_padding_mask = (tgt_inp == PAD_IDX)  # [B, Lt]\n",
    "        causal_mask = nn.Transformer.generate_square_subsequent_mask(tgt_inp.size(1)).to(src.device)\n",
    "\n",
    "        # Encode\n",
    "        memory = self.encoder(src_emb, src_key_padding_mask=src_key_padding_mask)\n",
    "\n",
    "        # Decode\n",
    "        out = self.decoder(tgt=tgt_emb, memory=memory,\n",
    "                            tgt_mask=causal_mask,\n",
    "                            tgt_key_padding_mask=tgt_key_padding_mask,\n",
    "                            memory_key_padding_mask=src_key_padding_mask)\n",
    "\n",
    "        # Project to vocab\n",
    "        logits = self.fc_out(out)  # [B, Lt, vocab_size]\n",
    "        return logits"
   ]
  },
  {
   "cell_type": "code",
   "execution_count": null,
   "id": "48fc2965",
   "metadata": {},
   "outputs": [
    {
     "name": "stdout",
     "output_type": "stream",
     "text": [
      "Logits shape: torch.Size([32, 117, 95])\n"
     ]
    },
    {
     "name": "stderr",
     "output_type": "stream",
     "text": [
      "/Library/Frameworks/Python.framework/Versions/3.13/lib/python3.13/site-packages/torch/nn/functional.py:6041: UserWarning: Support for mismatched key_padding_mask and attn_mask is deprecated. Use same type for both instead.\n",
      "  warnings.warn(\n"
     ]
    }
   ],
   "source": [
    "# Create model\n",
    "baseline_model = CharTransformer(vocab_size=len(VOCAB), d_model=64, nhead=4, num_layers=2).to(device)\n",
    "\n",
    "# Dummy batch\n",
    "src_padded, src_lengths, tgt_padded, tgt_lengths = next(iter(train_loader))\n",
    "\n",
    "# Teacher forcing: shift target\n",
    "tgt_inp = tgt_padded[:, :-1]\n",
    "tgt_out = tgt_padded[:, 1:]\n",
    "\n",
    "# Forward pass\n",
    "logits = baseline_model(src_padded.to(device), tgt_inp.to(device))\n",
    "\n",
    "print(\"Logits shape:\", logits.shape)  # [B, Lt-1, vocab_size]"
   ]
  },
  {
   "cell_type": "markdown",
   "id": "5adf9a6b",
   "metadata": {},
   "source": [
    "## Training\n",
    "\n",
    "- AdamW optimizer\n",
    "- CrossEntropyLoss with ignore_index=PAD_IDX\n",
    "- Gradient clipping\n",
    "- Checkpoint saving every few epochs\n",
    "- Optional resume from checkpoint"
   ]
  },
  {
   "cell_type": "code",
   "execution_count": null,
   "id": "f5949982",
   "metadata": {},
   "outputs": [],
   "source": [
    "import torch\n",
    "import torch.nn as nn\n",
    "import torch.optim as optim\n",
    "import os\n",
    "from torch.nn.utils import clip_grad_norm_\n",
    "\n",
    "# ----------------------------\n",
    "# Training loop for baseline Transformer\n",
    "# ----------------------------\n",
    "def train_baseline(\n",
    "    model,\n",
    "    train_loader,\n",
    "    val_loader=None,   # optional validation loader\n",
    "    num_epochs=1000,\n",
    "    lr=1e-3,\n",
    "    device=None,\n",
    "    save_every=5,\n",
    "    val_every=50,\n",
    "    resume_path=None\n",
    "):\n",
    "    # --- Pick device automatically if not provided ---\n",
    "    if device is None:\n",
    "        if torch.backends.mps.is_available():\n",
    "            device = torch.device(\"mps\")\n",
    "        elif torch.cuda.is_available():\n",
    "            device = torch.device(\"cuda\")\n",
    "        else:\n",
    "            device = torch.device(\"cpu\")\n",
    "    print(f\"Training on: {device}\")\n",
    "\n",
    "    model = model.to(device)\n",
    "    optimizer = optim.AdamW(model.parameters(), lr=lr)\n",
    "    criterion = nn.CrossEntropyLoss(ignore_index=PAD_IDX)  # ignore <PAD> tokens\n",
    "\n",
    "    os.makedirs(\"checkpoints_baseline\", exist_ok=True)\n",
    "\n",
    "    # --- Resume from checkpoint ---\n",
    "    start_epoch = 1\n",
    "    if resume_path and os.path.exists(resume_path):\n",
    "        print(f\"🔄 Resuming from checkpoint: {resume_path}\")\n",
    "        checkpoint = torch.load(resume_path, map_location=device)\n",
    "        model.load_state_dict(checkpoint[\"model_state\"])\n",
    "        optimizer.load_state_dict(checkpoint[\"optimizer_state\"])\n",
    "        start_epoch = checkpoint[\"epoch\"] + 1\n",
    "        print(f\"✅ Resumed from epoch {checkpoint['epoch']} (loss {checkpoint['loss']:.4f})\")\n",
    "\n",
    "    # --- Training loop ---\n",
    "    for epoch in range(start_epoch, num_epochs + 1):\n",
    "        model.train()\n",
    "        total_loss = 0.0\n",
    "\n",
    "        for batch in train_loader:\n",
    "            src, src_lengths, tgt, tgt_lengths = batch\n",
    "            src, tgt = src.to(device), tgt.to(device)\n",
    "\n",
    "            tgt_inp = tgt[:, :-1]   # decoder input\n",
    "            tgt_out = tgt[:, 1:]    # expected output\n",
    "\n",
    "            logits = model(src, tgt_inp)\n",
    "\n",
    "            loss = criterion(\n",
    "                logits.reshape(-1, logits.size(-1)),\n",
    "                tgt_out.reshape(-1)\n",
    "            )\n",
    "\n",
    "            optimizer.zero_grad()\n",
    "            loss.backward()\n",
    "            clip_grad_norm_(model.parameters(), max_norm=1.0)\n",
    "            optimizer.step()\n",
    "\n",
    "            total_loss += loss.item()\n",
    "\n",
    "        avg_loss = total_loss / len(train_loader)\n",
    "        \n",
    "        # --- Validation ---\n",
    "        if val_loader is not None:\n",
    "            val_loss, val_acc = evaluate_baseline(model, val_loader, criterion, device)\n",
    "            val_perplexity = math.exp(val_loss)\n",
    "            print(f\"📘 Epoch {epoch}/{num_epochs} - Train Loss: {avg_loss:.4f}\")\n",
    "            print(f\"📗 Validation - Loss: {val_loss:.4f}, Perplexity: {val_perplexity:.2f}, Token Acc: {val_acc:.2f}%\")\n",
    "        else:\n",
    "            print(f\"📘 Epoch {epoch}/{num_epochs} - Train Loss: {avg_loss:.4f}\")\n",
    "\n",
    "        # --- Save checkpoint ---\n",
    "        if epoch % save_every == 0 or epoch == num_epochs:\n",
    "            ckpt_path = f\"checkpoints_baseline/char_transformer_epoch{epoch}.pt\"\n",
    "            torch.save({\n",
    "                \"epoch\": epoch,\n",
    "                \"model_state\": model.state_dict(),\n",
    "                \"optimizer_state\": optimizer.state_dict(),\n",
    "                \"loss\": avg_loss\n",
    "            }, ckpt_path)\n",
    "            print(f\"✅ Saved checkpoint: {ckpt_path}\")\n",
    "\n",
    "\n",
    "# ----------------------------\n",
    "# Evaluation / Validation\n",
    "# ----------------------------\n",
    "@torch.no_grad()\n",
    "def evaluate_baseline(model, val_loader, criterion, device):\n",
    "    model.eval()\n",
    "    total_loss = 0.0\n",
    "    total_tokens = 0\n",
    "    correct_tokens = 0\n",
    "\n",
    "    for batch in val_loader:\n",
    "        src, src_lengths, tgt, tgt_lengths = batch\n",
    "        src, tgt = src.to(device), tgt.to(device)\n",
    "\n",
    "        tgt_inp = tgt[:, :-1]\n",
    "        tgt_out = tgt[:, 1:]\n",
    "\n",
    "        logits = model(src, tgt_inp)\n",
    "\n",
    "        # Compute loss\n",
    "        loss = criterion(\n",
    "            logits.reshape(-1, logits.size(-1)),\n",
    "            tgt_out.reshape(-1)\n",
    "        )\n",
    "        total_loss += loss.item()\n",
    "\n",
    "        # Accuracy (ignore PAD)\n",
    "        preds = logits.argmax(dim=-1)\n",
    "        mask = tgt_out != PAD_IDX\n",
    "        correct_tokens += ((preds == tgt_out) & mask).sum().item()\n",
    "        total_tokens += mask.sum().item()\n",
    "\n",
    "    avg_loss = total_loss / len(val_loader)\n",
    "    accuracy = 100.0 * correct_tokens / total_tokens\n",
    "    return avg_loss, accuracy"
   ]
  },
  {
   "cell_type": "code",
   "execution_count": null,
   "id": "314938ea",
   "metadata": {},
   "outputs": [
    {
     "name": "stdout",
     "output_type": "stream",
     "text": [
      "Training on: mps\n",
      "🔄 Resuming from checkpoint: checkpoints_baseline/char_transformer_epoch470.pt\n",
      "✅ Resumed from epoch 470 (loss 0.0057)\n",
      "📘 Epoch 471/1000 - Train Loss: 0.0056\n",
      "📗 Validation - Loss: 0.0004, Perplexity: 1.00, Token Acc: 99.96%\n",
      "📘 Epoch 472/1000 - Train Loss: 0.0062\n",
      "📗 Validation - Loss: 0.0004, Perplexity: 1.00, Token Acc: 99.95%\n",
      "📘 Epoch 473/1000 - Train Loss: 0.0062\n",
      "📗 Validation - Loss: 0.0006, Perplexity: 1.00, Token Acc: 99.95%\n",
      "📘 Epoch 474/1000 - Train Loss: 0.0061\n",
      "📗 Validation - Loss: 0.0003, Perplexity: 1.00, Token Acc: 99.96%\n",
      "📘 Epoch 475/1000 - Train Loss: 0.0061\n",
      "📗 Validation - Loss: 0.0005, Perplexity: 1.00, Token Acc: 99.96%\n",
      "📘 Epoch 476/1000 - Train Loss: 0.0054\n",
      "📗 Validation - Loss: 0.0002, Perplexity: 1.00, Token Acc: 99.96%\n",
      "📘 Epoch 477/1000 - Train Loss: 0.0056\n",
      "📗 Validation - Loss: 0.0004, Perplexity: 1.00, Token Acc: 99.96%\n",
      "📘 Epoch 478/1000 - Train Loss: 0.0063\n",
      "📗 Validation - Loss: 0.0011, Perplexity: 1.00, Token Acc: 99.94%\n",
      "📘 Epoch 479/1000 - Train Loss: 0.0063\n",
      "📗 Validation - Loss: 0.0003, Perplexity: 1.00, Token Acc: 99.96%\n",
      "📘 Epoch 480/1000 - Train Loss: 0.0052\n",
      "📗 Validation - Loss: 0.0006, Perplexity: 1.00, Token Acc: 99.96%\n",
      "✅ Saved checkpoint: checkpoints_baseline/char_transformer_epoch480.pt\n",
      "📘 Epoch 481/1000 - Train Loss: 0.0053\n",
      "📗 Validation - Loss: 0.0004, Perplexity: 1.00, Token Acc: 99.96%\n",
      "📘 Epoch 482/1000 - Train Loss: 0.0064\n",
      "📗 Validation - Loss: 0.0002, Perplexity: 1.00, Token Acc: 99.97%\n",
      "📘 Epoch 483/1000 - Train Loss: 0.0059\n",
      "📗 Validation - Loss: 0.0004, Perplexity: 1.00, Token Acc: 99.96%\n",
      "📘 Epoch 484/1000 - Train Loss: 0.0052\n",
      "📗 Validation - Loss: 0.0003, Perplexity: 1.00, Token Acc: 99.96%\n",
      "📘 Epoch 485/1000 - Train Loss: 0.0066\n",
      "📗 Validation - Loss: 0.0005, Perplexity: 1.00, Token Acc: 99.96%\n",
      "📘 Epoch 486/1000 - Train Loss: 0.0064\n",
      "📗 Validation - Loss: 0.0006, Perplexity: 1.00, Token Acc: 99.95%\n",
      "📘 Epoch 487/1000 - Train Loss: 0.0060\n",
      "📗 Validation - Loss: 0.0003, Perplexity: 1.00, Token Acc: 99.96%\n",
      "📘 Epoch 488/1000 - Train Loss: 0.0050\n",
      "📗 Validation - Loss: 0.0004, Perplexity: 1.00, Token Acc: 99.96%\n",
      "📘 Epoch 489/1000 - Train Loss: 0.0065\n",
      "📗 Validation - Loss: 0.0002, Perplexity: 1.00, Token Acc: 99.96%\n",
      "📘 Epoch 490/1000 - Train Loss: 0.0057\n",
      "📗 Validation - Loss: 0.0002, Perplexity: 1.00, Token Acc: 99.96%\n",
      "✅ Saved checkpoint: checkpoints_baseline/char_transformer_epoch490.pt\n",
      "📘 Epoch 491/1000 - Train Loss: 0.0057\n",
      "📗 Validation - Loss: 0.0005, Perplexity: 1.00, Token Acc: 99.96%\n",
      "📘 Epoch 492/1000 - Train Loss: 0.0061\n",
      "📗 Validation - Loss: 0.0004, Perplexity: 1.00, Token Acc: 99.95%\n",
      "📘 Epoch 493/1000 - Train Loss: 0.0052\n",
      "📗 Validation - Loss: 0.0002, Perplexity: 1.00, Token Acc: 99.96%\n",
      "📘 Epoch 494/1000 - Train Loss: 0.0058\n",
      "📗 Validation - Loss: 0.0004, Perplexity: 1.00, Token Acc: 99.96%\n",
      "📘 Epoch 495/1000 - Train Loss: 0.0054\n",
      "📗 Validation - Loss: 0.0003, Perplexity: 1.00, Token Acc: 99.96%\n",
      "📘 Epoch 496/1000 - Train Loss: 0.0064\n",
      "📗 Validation - Loss: 0.0005, Perplexity: 1.00, Token Acc: 99.96%\n",
      "📘 Epoch 497/1000 - Train Loss: 0.0061\n",
      "📗 Validation - Loss: 0.0002, Perplexity: 1.00, Token Acc: 99.96%\n",
      "📘 Epoch 498/1000 - Train Loss: 0.0052\n",
      "📗 Validation - Loss: 0.0004, Perplexity: 1.00, Token Acc: 99.96%\n",
      "📘 Epoch 499/1000 - Train Loss: 0.0065\n",
      "📗 Validation - Loss: 0.0003, Perplexity: 1.00, Token Acc: 99.96%\n",
      "📘 Epoch 500/1000 - Train Loss: 0.0057\n",
      "📗 Validation - Loss: 0.0007, Perplexity: 1.00, Token Acc: 99.94%\n",
      "✅ Saved checkpoint: checkpoints_baseline/char_transformer_epoch500.pt\n"
     ]
    },
    {
     "ename": "KeyboardInterrupt",
     "evalue": "",
     "output_type": "error",
     "traceback": [
      "\u001b[31m---------------------------------------------------------------------------\u001b[39m",
      "\u001b[31mKeyboardInterrupt\u001b[39m                         Traceback (most recent call last)",
      "\u001b[36mCell\u001b[39m\u001b[36m \u001b[39m\u001b[32mIn[19]\u001b[39m\u001b[32m, line 5\u001b[39m\n\u001b[32m      2\u001b[39m os.environ[\u001b[33m\"\u001b[39m\u001b[33mPYTORCH_ENABLE_MPS_FALLBACK\u001b[39m\u001b[33m\"\u001b[39m] = \u001b[33m\"\u001b[39m\u001b[33m1\u001b[39m\u001b[33m\"\u001b[39m\n\u001b[32m      4\u001b[39m device = torch.device(\u001b[33m\"\u001b[39m\u001b[33mmps\u001b[39m\u001b[33m\"\u001b[39m)\n\u001b[32m----> \u001b[39m\u001b[32m5\u001b[39m \u001b[43mtrain_baseline\u001b[49m\u001b[43m(\u001b[49m\n\u001b[32m      6\u001b[39m \u001b[43m    \u001b[49m\u001b[43mmodel\u001b[49m\u001b[43m=\u001b[49m\u001b[43mbaseline_model\u001b[49m\u001b[43m,\u001b[49m\n\u001b[32m      7\u001b[39m \u001b[43m    \u001b[49m\u001b[43mtrain_loader\u001b[49m\u001b[43m=\u001b[49m\u001b[43mtrain_loader\u001b[49m\u001b[43m,\u001b[49m\n\u001b[32m      8\u001b[39m \u001b[43m    \u001b[49m\u001b[43mval_loader\u001b[49m\u001b[43m=\u001b[49m\u001b[43mval_loader\u001b[49m\u001b[43m,\u001b[49m\n\u001b[32m      9\u001b[39m \u001b[43m    \u001b[49m\u001b[43mnum_epochs\u001b[49m\u001b[43m=\u001b[49m\u001b[32;43m1000\u001b[39;49m\u001b[43m,\u001b[49m\n\u001b[32m     10\u001b[39m \u001b[43m    \u001b[49m\u001b[43mlr\u001b[49m\u001b[43m=\u001b[49m\u001b[32;43m1e-3\u001b[39;49m\u001b[43m,\u001b[49m\n\u001b[32m     11\u001b[39m \u001b[43m    \u001b[49m\u001b[43mdevice\u001b[49m\u001b[43m=\u001b[49m\u001b[43mdevice\u001b[49m\u001b[43m,\u001b[49m\n\u001b[32m     12\u001b[39m \u001b[43m    \u001b[49m\u001b[43msave_every\u001b[49m\u001b[43m=\u001b[49m\u001b[32;43m10\u001b[39;49m\u001b[43m,\u001b[49m\n\u001b[32m     13\u001b[39m \u001b[43m    \u001b[49m\u001b[43mresume_path\u001b[49m\u001b[43m=\u001b[49m\u001b[33;43m\"\u001b[39;49m\u001b[33;43mcheckpoints_baseline/char_transformer_epoch470.pt\u001b[39;49m\u001b[33;43m\"\u001b[39;49m\n\u001b[32m     14\u001b[39m \u001b[43m)\u001b[49m\n",
      "\u001b[36mCell\u001b[39m\u001b[36m \u001b[39m\u001b[32mIn[9]\u001b[39m\u001b[32m, line 69\u001b[39m, in \u001b[36mtrain_baseline\u001b[39m\u001b[34m(model, train_loader, val_loader, num_epochs, lr, device, save_every, val_every, resume_path)\u001b[39m\n\u001b[32m     67\u001b[39m     loss.backward()\n\u001b[32m     68\u001b[39m     clip_grad_norm_(model.parameters(), max_norm=\u001b[32m1.0\u001b[39m)\n\u001b[32m---> \u001b[39m\u001b[32m69\u001b[39m     \u001b[43moptimizer\u001b[49m\u001b[43m.\u001b[49m\u001b[43mstep\u001b[49m\u001b[43m(\u001b[49m\u001b[43m)\u001b[49m\n\u001b[32m     71\u001b[39m     total_loss += loss.item()\n\u001b[32m     73\u001b[39m avg_loss = total_loss / \u001b[38;5;28mlen\u001b[39m(train_loader)\n",
      "\u001b[36mFile \u001b[39m\u001b[32m/Library/Frameworks/Python.framework/Versions/3.13/lib/python3.13/site-packages/torch/optim/optimizer.py:516\u001b[39m, in \u001b[36mOptimizer.profile_hook_step.<locals>.wrapper\u001b[39m\u001b[34m(*args, **kwargs)\u001b[39m\n\u001b[32m    511\u001b[39m         \u001b[38;5;28;01melse\u001b[39;00m:\n\u001b[32m    512\u001b[39m             \u001b[38;5;28;01mraise\u001b[39;00m \u001b[38;5;167;01mRuntimeError\u001b[39;00m(\n\u001b[32m    513\u001b[39m                 \u001b[33mf\u001b[39m\u001b[33m\"\u001b[39m\u001b[38;5;132;01m{\u001b[39;00mfunc\u001b[38;5;132;01m}\u001b[39;00m\u001b[33m must return None or a tuple of (new_args, new_kwargs), but got \u001b[39m\u001b[38;5;132;01m{\u001b[39;00mresult\u001b[38;5;132;01m}\u001b[39;00m\u001b[33m.\u001b[39m\u001b[33m\"\u001b[39m\n\u001b[32m    514\u001b[39m             )\n\u001b[32m--> \u001b[39m\u001b[32m516\u001b[39m out = \u001b[43mfunc\u001b[49m\u001b[43m(\u001b[49m\u001b[43m*\u001b[49m\u001b[43margs\u001b[49m\u001b[43m,\u001b[49m\u001b[43m \u001b[49m\u001b[43m*\u001b[49m\u001b[43m*\u001b[49m\u001b[43mkwargs\u001b[49m\u001b[43m)\u001b[49m\n\u001b[32m    517\u001b[39m \u001b[38;5;28mself\u001b[39m._optimizer_step_code()\n\u001b[32m    519\u001b[39m \u001b[38;5;66;03m# call optimizer step post hooks\u001b[39;00m\n",
      "\u001b[36mFile \u001b[39m\u001b[32m/Library/Frameworks/Python.framework/Versions/3.13/lib/python3.13/site-packages/torch/optim/optimizer.py:81\u001b[39m, in \u001b[36m_use_grad_for_differentiable.<locals>._use_grad\u001b[39m\u001b[34m(*args, **kwargs)\u001b[39m\n\u001b[32m     79\u001b[39m     torch.set_grad_enabled(\u001b[38;5;28mself\u001b[39m.defaults[\u001b[33m\"\u001b[39m\u001b[33mdifferentiable\u001b[39m\u001b[33m\"\u001b[39m])\n\u001b[32m     80\u001b[39m     torch._dynamo.graph_break()\n\u001b[32m---> \u001b[39m\u001b[32m81\u001b[39m     ret = \u001b[43mfunc\u001b[49m\u001b[43m(\u001b[49m\u001b[43m*\u001b[49m\u001b[43margs\u001b[49m\u001b[43m,\u001b[49m\u001b[43m \u001b[49m\u001b[43m*\u001b[49m\u001b[43m*\u001b[49m\u001b[43mkwargs\u001b[49m\u001b[43m)\u001b[49m\n\u001b[32m     82\u001b[39m \u001b[38;5;28;01mfinally\u001b[39;00m:\n\u001b[32m     83\u001b[39m     torch._dynamo.graph_break()\n",
      "\u001b[36mFile \u001b[39m\u001b[32m/Library/Frameworks/Python.framework/Versions/3.13/lib/python3.13/site-packages/torch/optim/adam.py:247\u001b[39m, in \u001b[36mAdam.step\u001b[39m\u001b[34m(self, closure)\u001b[39m\n\u001b[32m    235\u001b[39m     beta1, beta2 = group[\u001b[33m\"\u001b[39m\u001b[33mbetas\u001b[39m\u001b[33m\"\u001b[39m]\n\u001b[32m    237\u001b[39m     has_complex = \u001b[38;5;28mself\u001b[39m._init_group(\n\u001b[32m    238\u001b[39m         group,\n\u001b[32m    239\u001b[39m         params_with_grad,\n\u001b[32m   (...)\u001b[39m\u001b[32m    244\u001b[39m         state_steps,\n\u001b[32m    245\u001b[39m     )\n\u001b[32m--> \u001b[39m\u001b[32m247\u001b[39m     \u001b[43madam\u001b[49m\u001b[43m(\u001b[49m\n\u001b[32m    248\u001b[39m \u001b[43m        \u001b[49m\u001b[43mparams_with_grad\u001b[49m\u001b[43m,\u001b[49m\n\u001b[32m    249\u001b[39m \u001b[43m        \u001b[49m\u001b[43mgrads\u001b[49m\u001b[43m,\u001b[49m\n\u001b[32m    250\u001b[39m \u001b[43m        \u001b[49m\u001b[43mexp_avgs\u001b[49m\u001b[43m,\u001b[49m\n\u001b[32m    251\u001b[39m \u001b[43m        \u001b[49m\u001b[43mexp_avg_sqs\u001b[49m\u001b[43m,\u001b[49m\n\u001b[32m    252\u001b[39m \u001b[43m        \u001b[49m\u001b[43mmax_exp_avg_sqs\u001b[49m\u001b[43m,\u001b[49m\n\u001b[32m    253\u001b[39m \u001b[43m        \u001b[49m\u001b[43mstate_steps\u001b[49m\u001b[43m,\u001b[49m\n\u001b[32m    254\u001b[39m \u001b[43m        \u001b[49m\u001b[43mamsgrad\u001b[49m\u001b[43m=\u001b[49m\u001b[43mgroup\u001b[49m\u001b[43m[\u001b[49m\u001b[33;43m\"\u001b[39;49m\u001b[33;43mamsgrad\u001b[39;49m\u001b[33;43m\"\u001b[39;49m\u001b[43m]\u001b[49m\u001b[43m,\u001b[49m\n\u001b[32m    255\u001b[39m \u001b[43m        \u001b[49m\u001b[43mhas_complex\u001b[49m\u001b[43m=\u001b[49m\u001b[43mhas_complex\u001b[49m\u001b[43m,\u001b[49m\n\u001b[32m    256\u001b[39m \u001b[43m        \u001b[49m\u001b[43mbeta1\u001b[49m\u001b[43m=\u001b[49m\u001b[43mbeta1\u001b[49m\u001b[43m,\u001b[49m\n\u001b[32m    257\u001b[39m \u001b[43m        \u001b[49m\u001b[43mbeta2\u001b[49m\u001b[43m=\u001b[49m\u001b[43mbeta2\u001b[49m\u001b[43m,\u001b[49m\n\u001b[32m    258\u001b[39m \u001b[43m        \u001b[49m\u001b[43mlr\u001b[49m\u001b[43m=\u001b[49m\u001b[43mgroup\u001b[49m\u001b[43m[\u001b[49m\u001b[33;43m\"\u001b[39;49m\u001b[33;43mlr\u001b[39;49m\u001b[33;43m\"\u001b[39;49m\u001b[43m]\u001b[49m\u001b[43m,\u001b[49m\n\u001b[32m    259\u001b[39m \u001b[43m        \u001b[49m\u001b[43mweight_decay\u001b[49m\u001b[43m=\u001b[49m\u001b[43mgroup\u001b[49m\u001b[43m[\u001b[49m\u001b[33;43m\"\u001b[39;49m\u001b[33;43mweight_decay\u001b[39;49m\u001b[33;43m\"\u001b[39;49m\u001b[43m]\u001b[49m\u001b[43m,\u001b[49m\n\u001b[32m    260\u001b[39m \u001b[43m        \u001b[49m\u001b[43meps\u001b[49m\u001b[43m=\u001b[49m\u001b[43mgroup\u001b[49m\u001b[43m[\u001b[49m\u001b[33;43m\"\u001b[39;49m\u001b[33;43meps\u001b[39;49m\u001b[33;43m\"\u001b[39;49m\u001b[43m]\u001b[49m\u001b[43m,\u001b[49m\n\u001b[32m    261\u001b[39m \u001b[43m        \u001b[49m\u001b[43mmaximize\u001b[49m\u001b[43m=\u001b[49m\u001b[43mgroup\u001b[49m\u001b[43m[\u001b[49m\u001b[33;43m\"\u001b[39;49m\u001b[33;43mmaximize\u001b[39;49m\u001b[33;43m\"\u001b[39;49m\u001b[43m]\u001b[49m\u001b[43m,\u001b[49m\n\u001b[32m    262\u001b[39m \u001b[43m        \u001b[49m\u001b[43mforeach\u001b[49m\u001b[43m=\u001b[49m\u001b[43mgroup\u001b[49m\u001b[43m[\u001b[49m\u001b[33;43m\"\u001b[39;49m\u001b[33;43mforeach\u001b[39;49m\u001b[33;43m\"\u001b[39;49m\u001b[43m]\u001b[49m\u001b[43m,\u001b[49m\n\u001b[32m    263\u001b[39m \u001b[43m        \u001b[49m\u001b[43mcapturable\u001b[49m\u001b[43m=\u001b[49m\u001b[43mgroup\u001b[49m\u001b[43m[\u001b[49m\u001b[33;43m\"\u001b[39;49m\u001b[33;43mcapturable\u001b[39;49m\u001b[33;43m\"\u001b[39;49m\u001b[43m]\u001b[49m\u001b[43m,\u001b[49m\n\u001b[32m    264\u001b[39m \u001b[43m        \u001b[49m\u001b[43mdifferentiable\u001b[49m\u001b[43m=\u001b[49m\u001b[43mgroup\u001b[49m\u001b[43m[\u001b[49m\u001b[33;43m\"\u001b[39;49m\u001b[33;43mdifferentiable\u001b[39;49m\u001b[33;43m\"\u001b[39;49m\u001b[43m]\u001b[49m\u001b[43m,\u001b[49m\n\u001b[32m    265\u001b[39m \u001b[43m        \u001b[49m\u001b[43mfused\u001b[49m\u001b[43m=\u001b[49m\u001b[43mgroup\u001b[49m\u001b[43m[\u001b[49m\u001b[33;43m\"\u001b[39;49m\u001b[33;43mfused\u001b[39;49m\u001b[33;43m\"\u001b[39;49m\u001b[43m]\u001b[49m\u001b[43m,\u001b[49m\n\u001b[32m    266\u001b[39m \u001b[43m        \u001b[49m\u001b[43mgrad_scale\u001b[49m\u001b[43m=\u001b[49m\u001b[38;5;28;43mgetattr\u001b[39;49m\u001b[43m(\u001b[49m\u001b[38;5;28;43mself\u001b[39;49m\u001b[43m,\u001b[49m\u001b[43m \u001b[49m\u001b[33;43m\"\u001b[39;49m\u001b[33;43mgrad_scale\u001b[39;49m\u001b[33;43m\"\u001b[39;49m\u001b[43m,\u001b[49m\u001b[43m \u001b[49m\u001b[38;5;28;43;01mNone\u001b[39;49;00m\u001b[43m)\u001b[49m\u001b[43m,\u001b[49m\n\u001b[32m    267\u001b[39m \u001b[43m        \u001b[49m\u001b[43mfound_inf\u001b[49m\u001b[43m=\u001b[49m\u001b[38;5;28;43mgetattr\u001b[39;49m\u001b[43m(\u001b[49m\u001b[38;5;28;43mself\u001b[39;49m\u001b[43m,\u001b[49m\u001b[43m \u001b[49m\u001b[33;43m\"\u001b[39;49m\u001b[33;43mfound_inf\u001b[39;49m\u001b[33;43m\"\u001b[39;49m\u001b[43m,\u001b[49m\u001b[43m \u001b[49m\u001b[38;5;28;43;01mNone\u001b[39;49;00m\u001b[43m)\u001b[49m\u001b[43m,\u001b[49m\n\u001b[32m    268\u001b[39m \u001b[43m        \u001b[49m\u001b[43mdecoupled_weight_decay\u001b[49m\u001b[43m=\u001b[49m\u001b[43mgroup\u001b[49m\u001b[43m[\u001b[49m\u001b[33;43m\"\u001b[39;49m\u001b[33;43mdecoupled_weight_decay\u001b[39;49m\u001b[33;43m\"\u001b[39;49m\u001b[43m]\u001b[49m\u001b[43m,\u001b[49m\n\u001b[32m    269\u001b[39m \u001b[43m    \u001b[49m\u001b[43m)\u001b[49m\n\u001b[32m    271\u001b[39m \u001b[38;5;28;01mreturn\u001b[39;00m loss\n",
      "\u001b[36mFile \u001b[39m\u001b[32m/Library/Frameworks/Python.framework/Versions/3.13/lib/python3.13/site-packages/torch/optim/optimizer.py:149\u001b[39m, in \u001b[36m_disable_dynamo_if_unsupported.<locals>.wrapper.<locals>.maybe_fallback\u001b[39m\u001b[34m(*args, **kwargs)\u001b[39m\n\u001b[32m    147\u001b[39m     \u001b[38;5;28;01mreturn\u001b[39;00m disabled_func(*args, **kwargs)\n\u001b[32m    148\u001b[39m \u001b[38;5;28;01melse\u001b[39;00m:\n\u001b[32m--> \u001b[39m\u001b[32m149\u001b[39m     \u001b[38;5;28;01mreturn\u001b[39;00m \u001b[43mfunc\u001b[49m\u001b[43m(\u001b[49m\u001b[43m*\u001b[49m\u001b[43margs\u001b[49m\u001b[43m,\u001b[49m\u001b[43m \u001b[49m\u001b[43m*\u001b[49m\u001b[43m*\u001b[49m\u001b[43mkwargs\u001b[49m\u001b[43m)\u001b[49m\n",
      "\u001b[36mFile \u001b[39m\u001b[32m/Library/Frameworks/Python.framework/Versions/3.13/lib/python3.13/site-packages/torch/optim/adam.py:949\u001b[39m, in \u001b[36madam\u001b[39m\u001b[34m(params, grads, exp_avgs, exp_avg_sqs, max_exp_avg_sqs, state_steps, foreach, capturable, differentiable, fused, grad_scale, found_inf, has_complex, decoupled_weight_decay, amsgrad, beta1, beta2, lr, weight_decay, eps, maximize)\u001b[39m\n\u001b[32m    946\u001b[39m \u001b[38;5;28;01melse\u001b[39;00m:\n\u001b[32m    947\u001b[39m     func = _single_tensor_adam\n\u001b[32m--> \u001b[39m\u001b[32m949\u001b[39m \u001b[43mfunc\u001b[49m\u001b[43m(\u001b[49m\n\u001b[32m    950\u001b[39m \u001b[43m    \u001b[49m\u001b[43mparams\u001b[49m\u001b[43m,\u001b[49m\n\u001b[32m    951\u001b[39m \u001b[43m    \u001b[49m\u001b[43mgrads\u001b[49m\u001b[43m,\u001b[49m\n\u001b[32m    952\u001b[39m \u001b[43m    \u001b[49m\u001b[43mexp_avgs\u001b[49m\u001b[43m,\u001b[49m\n\u001b[32m    953\u001b[39m \u001b[43m    \u001b[49m\u001b[43mexp_avg_sqs\u001b[49m\u001b[43m,\u001b[49m\n\u001b[32m    954\u001b[39m \u001b[43m    \u001b[49m\u001b[43mmax_exp_avg_sqs\u001b[49m\u001b[43m,\u001b[49m\n\u001b[32m    955\u001b[39m \u001b[43m    \u001b[49m\u001b[43mstate_steps\u001b[49m\u001b[43m,\u001b[49m\n\u001b[32m    956\u001b[39m \u001b[43m    \u001b[49m\u001b[43mamsgrad\u001b[49m\u001b[43m=\u001b[49m\u001b[43mamsgrad\u001b[49m\u001b[43m,\u001b[49m\n\u001b[32m    957\u001b[39m \u001b[43m    \u001b[49m\u001b[43mhas_complex\u001b[49m\u001b[43m=\u001b[49m\u001b[43mhas_complex\u001b[49m\u001b[43m,\u001b[49m\n\u001b[32m    958\u001b[39m \u001b[43m    \u001b[49m\u001b[43mbeta1\u001b[49m\u001b[43m=\u001b[49m\u001b[43mbeta1\u001b[49m\u001b[43m,\u001b[49m\n\u001b[32m    959\u001b[39m \u001b[43m    \u001b[49m\u001b[43mbeta2\u001b[49m\u001b[43m=\u001b[49m\u001b[43mbeta2\u001b[49m\u001b[43m,\u001b[49m\n\u001b[32m    960\u001b[39m \u001b[43m    \u001b[49m\u001b[43mlr\u001b[49m\u001b[43m=\u001b[49m\u001b[43mlr\u001b[49m\u001b[43m,\u001b[49m\n\u001b[32m    961\u001b[39m \u001b[43m    \u001b[49m\u001b[43mweight_decay\u001b[49m\u001b[43m=\u001b[49m\u001b[43mweight_decay\u001b[49m\u001b[43m,\u001b[49m\n\u001b[32m    962\u001b[39m \u001b[43m    \u001b[49m\u001b[43meps\u001b[49m\u001b[43m=\u001b[49m\u001b[43meps\u001b[49m\u001b[43m,\u001b[49m\n\u001b[32m    963\u001b[39m \u001b[43m    \u001b[49m\u001b[43mmaximize\u001b[49m\u001b[43m=\u001b[49m\u001b[43mmaximize\u001b[49m\u001b[43m,\u001b[49m\n\u001b[32m    964\u001b[39m \u001b[43m    \u001b[49m\u001b[43mcapturable\u001b[49m\u001b[43m=\u001b[49m\u001b[43mcapturable\u001b[49m\u001b[43m,\u001b[49m\n\u001b[32m    965\u001b[39m \u001b[43m    \u001b[49m\u001b[43mdifferentiable\u001b[49m\u001b[43m=\u001b[49m\u001b[43mdifferentiable\u001b[49m\u001b[43m,\u001b[49m\n\u001b[32m    966\u001b[39m \u001b[43m    \u001b[49m\u001b[43mgrad_scale\u001b[49m\u001b[43m=\u001b[49m\u001b[43mgrad_scale\u001b[49m\u001b[43m,\u001b[49m\n\u001b[32m    967\u001b[39m \u001b[43m    \u001b[49m\u001b[43mfound_inf\u001b[49m\u001b[43m=\u001b[49m\u001b[43mfound_inf\u001b[49m\u001b[43m,\u001b[49m\n\u001b[32m    968\u001b[39m \u001b[43m    \u001b[49m\u001b[43mdecoupled_weight_decay\u001b[49m\u001b[43m=\u001b[49m\u001b[43mdecoupled_weight_decay\u001b[49m\u001b[43m,\u001b[49m\n\u001b[32m    969\u001b[39m \u001b[43m\u001b[49m\u001b[43m)\u001b[49m\n",
      "\u001b[36mFile \u001b[39m\u001b[32m/Library/Frameworks/Python.framework/Versions/3.13/lib/python3.13/site-packages/torch/optim/adam.py:517\u001b[39m, in \u001b[36m_single_tensor_adam\u001b[39m\u001b[34m(params, grads, exp_avgs, exp_avg_sqs, max_exp_avg_sqs, state_steps, grad_scale, found_inf, amsgrad, has_complex, beta1, beta2, lr, weight_decay, eps, maximize, capturable, differentiable, decoupled_weight_decay)\u001b[39m\n\u001b[32m    515\u001b[39m         param.addcdiv_(exp_avg, denom)\n\u001b[32m    516\u001b[39m \u001b[38;5;28;01melse\u001b[39;00m:\n\u001b[32m--> \u001b[39m\u001b[32m517\u001b[39m     step = \u001b[43m_get_value\u001b[49m\u001b[43m(\u001b[49m\u001b[43mstep_t\u001b[49m\u001b[43m)\u001b[49m\n\u001b[32m    519\u001b[39m     bias_correction1 = \u001b[32m1\u001b[39m - beta1**step\n\u001b[32m    520\u001b[39m     bias_correction2 = \u001b[32m1\u001b[39m - beta2**step\n",
      "\u001b[36mFile \u001b[39m\u001b[32m/Library/Frameworks/Python.framework/Versions/3.13/lib/python3.13/site-packages/torch/optim/optimizer.py:96\u001b[39m, in \u001b[36m_get_value\u001b[39m\u001b[34m(x)\u001b[39m\n\u001b[32m     94\u001b[39m     \u001b[38;5;28;01mreturn\u001b[39;00m x\n\u001b[32m     95\u001b[39m \u001b[38;5;28;01melse\u001b[39;00m:\n\u001b[32m---> \u001b[39m\u001b[32m96\u001b[39m     \u001b[38;5;28;01mreturn\u001b[39;00m \u001b[43mx\u001b[49m\u001b[43m.\u001b[49m\u001b[43mitem\u001b[49m\u001b[43m(\u001b[49m\u001b[43m)\u001b[49m \u001b[38;5;28;01mif\u001b[39;00m \u001b[38;5;28misinstance\u001b[39m(x, torch.Tensor) \u001b[38;5;28;01melse\u001b[39;00m x\n",
      "\u001b[31mKeyboardInterrupt\u001b[39m: "
     ]
    }
   ],
   "source": [
    "import os\n",
    "os.environ[\"PYTORCH_ENABLE_MPS_FALLBACK\"] = \"1\"\n",
    "\n",
    "device = torch.device(\"mps\")\n",
    "train_baseline(\n",
    "    model=baseline_model,\n",
    "    train_loader=train_loader,\n",
    "    val_loader=val_loader,\n",
    "    num_epochs=1000,\n",
    "    lr=1e-3,\n",
    "    device=device,\n",
    "    save_every=10,\n",
    "    resume_path=\"checkpoints_baseline/char_transformer_epoch500.pt\"\n",
    ")"
   ]
  },
  {
   "cell_type": "markdown",
<<<<<<< HEAD
=======
   "id": "27da1f1f",
   "metadata": {},
   "source": [
    "#### Output"
   ]
  },
  {
   "cell_type": "markdown",
   "id": "a0b7261e",
   "metadata": {},
   "source": [
    "Training on: mps\n",
    "🔄 Resuming from checkpoint: checkpoints_baseline/char_transformer_epoch50.pt\n",
    "✅ Resumed from epoch 50 (loss 0.2597)\n",
    "📘 Epoch 51/1000 - Train Loss: 0.2541\n",
    "📘 Epoch 52/1000 - Train Loss: 0.2507\n",
    "📘 Epoch 53/1000 - Train Loss: 0.2461\n",
    "📘 Epoch 54/1000 - Train Loss: 0.2391\n",
    "📘 Epoch 55/1000 - Train Loss: 0.2377\n",
    "📘 Epoch 56/1000 - Train Loss: 0.2259\n",
    "📘 Epoch 57/1000 - Train Loss: 0.2206\n",
    "📘 Epoch 58/1000 - Train Loss: 0.2184\n",
    "📘 Epoch 59/1000 - Train Loss: 0.2203\n",
    "📘 Epoch 60/1000 - Train Loss: 0.2083\n",
    "✅ Saved checkpoint: checkpoints_baseline/char_transformer_epoch60.pt\n",
    "📘 Epoch 61/1000 - Train Loss: 0.2050\n",
    "📘 Epoch 62/1000 - Train Loss: 0.2049\n",
    "📘 Epoch 63/1000 - Train Loss: 0.1927\n",
    "📘 Epoch 64/1000 - Train Loss: 0.1986\n",
    "📘 Epoch 65/1000 - Train Loss: 0.1843\n",
    "📘 Epoch 66/1000 - Train Loss: 0.1815\n",
    "📘 Epoch 67/1000 - Train Loss: 0.1738\n",
    "📘 Epoch 68/1000 - Train Loss: 0.1757\n",
    "📘 Epoch 69/1000 - Train Loss: 0.1659\n",
    "📘 Epoch 70/1000 - Train Loss: 0.1662\n",
    "✅ Saved checkpoint: checkpoints_baseline/char_transformer_epoch70.pt\n",
    "📘 Epoch 71/1000 - Train Loss: 0.1609\n",
    "📘 Epoch 72/1000 - Train Loss: 0.1558\n",
    "📘 Epoch 73/1000 - Train Loss: 0.1553\n",
    "📘 Epoch 74/1000 - Train Loss: 0.1495\n",
    "📘 Epoch 75/1000 - Train Loss: 0.1385\n",
    "📘 Epoch 76/1000 - Train Loss: 0.1384\n",
    "📘 Epoch 77/1000 - Train Loss: 0.1372\n",
    "📘 Epoch 78/1000 - Train Loss: 0.1381\n",
    "📘 Epoch 79/1000 - Train Loss: 0.1260\n",
    "📘 Epoch 80/1000 - Train Loss: 0.1224\n",
    "✅ Saved checkpoint: checkpoints_baseline/char_transformer_epoch80.pt\n",
    "📘 Epoch 81/1000 - Train Loss: 0.1169\n",
    "📘 Epoch 82/1000 - Train Loss: 0.1102\n",
    "📘 Epoch 83/1000 - Train Loss: 0.1037\n",
    "📘 Epoch 84/1000 - Train Loss: 0.0933\n",
    "📘 Epoch 85/1000 - Train Loss: 0.0786\n",
    "📘 Epoch 86/1000 - Train Loss: 0.0637\n",
    "📘 Epoch 87/1000 - Train Loss: 0.0627\n",
    "📘 Epoch 88/1000 - Train Loss: 0.0563\n",
    "📘 Epoch 89/1000 - Train Loss: 0.0493\n",
    "📘 Epoch 90/1000 - Train Loss: 0.0476\n",
    "✅ Saved checkpoint: checkpoints_baseline/char_transformer_epoch90.pt\n",
    "📘 Epoch 91/1000 - Train Loss: 0.0438\n",
    "📘 Epoch 92/1000 - Train Loss: 0.0410\n",
    "📘 Epoch 93/1000 - Train Loss: 0.0381\n",
    "📘 Epoch 94/1000 - Train Loss: 0.0376\n",
    "📘 Epoch 95/1000 - Train Loss: 0.0350\n",
    "📘 Epoch 96/1000 - Train Loss: 0.0354\n",
    "📘 Epoch 97/1000 - Train Loss: 0.0362\n",
    "📘 Epoch 98/1000 - Train Loss: 0.0319\n",
    "📘 Epoch 99/1000 - Train Loss: 0.0318\n",
    "📘 Epoch 100/1000 - Train Loss: 0.0310\n",
    "✅ Saved checkpoint: checkpoints_baseline/char_transformer_epoch100.pt\n",
    "📘 Epoch 101/1000 - Train Loss: 0.0312\n",
    "📘 Epoch 102/1000 - Train Loss: 0.0310\n",
    "📘 Epoch 103/1000 - Train Loss: 0.0307\n",
    "📘 Epoch 104/1000 - Train Loss: 0.0289\n",
    "📘 Epoch 105/1000 - Train Loss: 0.0290\n",
    "📘 Epoch 106/1000 - Train Loss: 0.0297\n",
    "📘 Epoch 107/1000 - Train Loss: 0.0274\n",
    "📘 Epoch 108/1000 - Train Loss: 0.0282\n",
    "📘 Epoch 109/1000 - Train Loss: 0.0267\n",
    "📘 Epoch 110/1000 - Train Loss: 0.0272\n",
    "✅ Saved checkpoint: checkpoints_baseline/char_transformer_epoch110.pt\n",
    "📘 Epoch 111/1000 - Train Loss: 0.0267\n",
    "📘 Epoch 112/1000 - Train Loss: 0.0264\n",
    "📘 Epoch 113/1000 - Train Loss: 0.0253\n",
    "📘 Epoch 114/1000 - Train Loss: 0.0256\n",
    "📘 Epoch 115/1000 - Train Loss: 0.0245\n",
    "📘 Epoch 116/1000 - Train Loss: 0.0250\n",
    "📘 Epoch 117/1000 - Train Loss: 0.0255\n",
    "📘 Epoch 118/1000 - Train Loss: 0.0250\n",
    "📘 Epoch 119/1000 - Train Loss: 0.0243\n",
    "📘 Epoch 120/1000 - Train Loss: 0.0230\n",
    "✅ Saved checkpoint: checkpoints_baseline/char_transformer_epoch120.pt\n",
    "📘 Epoch 121/1000 - Train Loss: 0.0239\n",
    "📘 Epoch 122/1000 - Train Loss: 0.0231\n",
    "📘 Epoch 123/1000 - Train Loss: 0.0225\n",
    "📘 Epoch 124/1000 - Train Loss: 0.0240\n",
    "📘 Epoch 125/1000 - Train Loss: 0.0229\n",
    "📘 Epoch 126/1000 - Train Loss: 0.0230\n",
    "📘 Epoch 127/1000 - Train Loss: 0.0211\n",
    "📘 Epoch 128/1000 - Train Loss: 0.0224\n",
    "📘 Epoch 129/1000 - Train Loss: 0.0209\n",
    "📘 Epoch 130/1000 - Train Loss: 0.0223\n",
    "✅ Saved checkpoint: checkpoints_baseline/char_transformer_epoch130.pt\n",
    "📘 Epoch 131/1000 - Train Loss: 0.0201\n",
    "📘 Epoch 132/1000 - Train Loss: 0.0226\n",
    "📘 Epoch 133/1000 - Train Loss: 0.0220\n",
    "📘 Epoch 134/1000 - Train Loss: 0.0210\n",
    "📘 Epoch 135/1000 - Train Loss: 0.0196\n",
    "📘 Epoch 136/1000 - Train Loss: 0.0196\n",
    "📘 Epoch 137/1000 - Train Loss: 0.0206\n",
    "📘 Epoch 138/1000 - Train Loss: 0.0202\n",
    "📘 Epoch 139/1000 - Train Loss: 0.0196\n",
    "📘 Epoch 140/1000 - Train Loss: 0.0183\n",
    "✅ Saved checkpoint: checkpoints_baseline/char_transformer_epoch140.pt\n",
    "📘 Epoch 141/1000 - Train Loss: 0.0211\n",
    "📘 Epoch 142/1000 - Train Loss: 0.0195\n",
    "📘 Epoch 143/1000 - Train Loss: 0.0204\n",
    "📘 Epoch 144/1000 - Train Loss: 0.0193\n",
    "📘 Epoch 145/1000 - Train Loss: 0.0197\n",
    "📘 Epoch 146/1000 - Train Loss: 0.0180\n",
    "📘 Epoch 147/1000 - Train Loss: 0.0195\n",
    "📘 Epoch 148/1000 - Train Loss: 0.0204\n",
    "📘 Epoch 149/1000 - Train Loss: 0.0177\n",
    "📘 Epoch 150/1000 - Train Loss: 0.0187\n",
    "✅ Saved checkpoint: checkpoints_baseline/char_transformer_epoch150.pt\n",
    "📘 Epoch 151/1000 - Train Loss: 0.0198\n",
    "📘 Epoch 152/1000 - Train Loss: 0.0182\n",
    "📘 Epoch 153/1000 - Train Loss: 0.0183\n",
    "📘 Epoch 154/1000 - Train Loss: 0.0178\n",
    "📘 Epoch 155/1000 - Train Loss: 0.0183\n",
    "📘 Epoch 156/1000 - Train Loss: 0.0183\n",
    "📘 Epoch 157/1000 - Train Loss: 0.0181\n",
    "📘 Epoch 158/1000 - Train Loss: 0.0160\n",
    "📘 Epoch 159/1000 - Train Loss: 0.0184\n",
    "📘 Epoch 160/1000 - Train Loss: 0.0172\n",
    "✅ Saved checkpoint: checkpoints_baseline/char_transformer_epoch160.pt\n",
    "📘 Epoch 161/1000 - Train Loss: 0.0181\n",
    "📘 Epoch 162/1000 - Train Loss: 0.0177\n",
    "📘 Epoch 163/1000 - Train Loss: 0.0169\n",
    "📘 Epoch 164/1000 - Train Loss: 0.0184\n",
    "📘 Epoch 165/1000 - Train Loss: 0.0167\n",
    "📘 Epoch 166/1000 - Train Loss: 0.0191\n",
    "📘 Epoch 167/1000 - Train Loss: 0.0171\n",
    "📘 Epoch 168/1000 - Train Loss: 0.0172\n",
    "📘 Epoch 169/1000 - Train Loss: 0.0172\n",
    "📘 Epoch 170/1000 - Train Loss: 0.0171\n",
    "✅ Saved checkpoint: checkpoints_baseline/char_transformer_epoch170.pt\n",
    "📘 Epoch 171/1000 - Train Loss: 0.0156\n",
    "📘 Epoch 172/1000 - Train Loss: 0.0165\n",
    "📘 Epoch 173/1000 - Train Loss: 0.0161\n",
    "📘 Epoch 174/1000 - Train Loss: 0.0177\n",
    "📘 Epoch 175/1000 - Train Loss: 0.0161\n",
    "📘 Epoch 176/1000 - Train Loss: 0.0166\n",
    "📘 Epoch 177/1000 - Train Loss: 0.0164\n",
    "📘 Epoch 178/1000 - Train Loss: 0.0157\n",
    "📘 Epoch 179/1000 - Train Loss: 0.0151\n",
    "📘 Epoch 180/1000 - Train Loss: 0.0152\n",
    "✅ Saved checkpoint: checkpoints_baseline/char_transformer_epoch180.pt\n",
    "📘 Epoch 181/1000 - Train Loss: 0.0155\n",
    "📘 Epoch 182/1000 - Train Loss: 0.0168\n",
    "📘 Epoch 183/1000 - Train Loss: 0.0158\n",
    "📘 Epoch 184/1000 - Train Loss: 0.0158\n",
    "📘 Epoch 185/1000 - Train Loss: 0.0163\n",
    "📘 Epoch 186/1000 - Train Loss: 0.0145\n",
    "📘 Epoch 187/1000 - Train Loss: 0.0160\n",
    "📘 Epoch 188/1000 - Train Loss: 0.0145\n",
    "📘 Epoch 189/1000 - Train Loss: 0.0149\n",
    "📘 Epoch 190/1000 - Train Loss: 0.0144\n",
    "✅ Saved checkpoint: checkpoints_baseline/char_transformer_epoch190.pt\n",
    "📘 Epoch 191/1000 - Train Loss: 0.0158\n",
    "📘 Epoch 192/1000 - Train Loss: 0.0151\n",
    "📘 Epoch 193/1000 - Train Loss: 0.0147\n",
    "📘 Epoch 194/1000 - Train Loss: 0.0142\n",
    "📘 Epoch 195/1000 - Train Loss: 0.0154\n",
    "📘 Epoch 196/1000 - Train Loss: 0.0146\n",
    "📘 Epoch 197/1000 - Train Loss: 0.0147\n",
    "📘 Epoch 198/1000 - Train Loss: 0.0143\n",
    "📘 Epoch 199/1000 - Train Loss: 0.0150\n",
    "📘 Epoch 200/1000 - Train Loss: 0.0149\n",
    "✅ Saved checkpoint: checkpoints_baseline/char_transformer_epoch200.pt\n",
    "📘 Epoch 201/1000 - Train Loss: 0.0134\n",
    "📘 Epoch 202/1000 - Train Loss: 0.0154\n",
    "📘 Epoch 203/1000 - Train Loss: 0.0137\n",
    "📘 Epoch 204/1000 - Train Loss: 0.0142\n",
    "📘 Epoch 205/1000 - Train Loss: 0.0142\n",
    "📘 Epoch 206/1000 - Train Loss: 0.0140\n",
    "📘 Epoch 207/1000 - Train Loss: 0.0142\n",
    "📘 Epoch 208/1000 - Train Loss: 0.0136\n",
    "📘 Epoch 209/1000 - Train Loss: 0.0145\n",
    "📘 Epoch 210/1000 - Train Loss: 0.0128\n",
    "✅ Saved checkpoint: checkpoints_baseline/char_transformer_epoch210.pt\n",
    "📘 Epoch 211/1000 - Train Loss: 0.0138\n",
    "📘 Epoch 212/1000 - Train Loss: 0.0138\n",
    "📘 Epoch 213/1000 - Train Loss: 0.0129\n",
    "📘 Epoch 214/1000 - Train Loss: 0.0141\n",
    "📘 Epoch 215/1000 - Train Loss: 0.0127\n",
    "📘 Epoch 216/1000 - Train Loss: 0.0136\n",
    "📘 Epoch 217/1000 - Train Loss: 0.0143\n",
    "📘 Epoch 218/1000 - Train Loss: 0.0127\n",
    "📘 Epoch 219/1000 - Train Loss: 0.0141\n",
    "📘 Epoch 220/1000 - Train Loss: 0.0149\n",
    "✅ Saved checkpoint: checkpoints_baseline/char_transformer_epoch220.pt\n",
    "📘 Epoch 221/1000 - Train Loss: 0.0127\n",
    "📘 Epoch 222/1000 - Train Loss: 0.0130\n",
    "📘 Epoch 223/1000 - Train Loss: 0.0122\n",
    "📘 Epoch 224/1000 - Train Loss: 0.0140\n",
    "📘 Epoch 225/1000 - Train Loss: 0.0117\n",
    "📘 Epoch 226/1000 - Train Loss: 0.0124\n",
    "📘 Epoch 227/1000 - Train Loss: 0.0139\n",
    "📘 Epoch 228/1000 - Train Loss: 0.0126\n",
    "📘 Epoch 229/1000 - Train Loss: 0.0134\n",
    "📘 Epoch 230/1000 - Train Loss: 0.0134\n",
    "✅ Saved checkpoint: checkpoints_baseline/char_transformer_epoch230.pt\n",
    "📘 Epoch 231/1000 - Train Loss: 0.0138\n",
    "📘 Epoch 232/1000 - Train Loss: 0.0117\n",
    "📘 Epoch 233/1000 - Train Loss: 0.0124\n",
    "📘 Epoch 234/1000 - Train Loss: 0.0126\n",
    "📘 Epoch 235/1000 - Train Loss: 0.0112\n",
    "📘 Epoch 236/1000 - Train Loss: 0.0125\n",
    "📘 Epoch 237/1000 - Train Loss: 0.0125\n",
    "📘 Epoch 238/1000 - Train Loss: 0.0129\n",
    "📘 Epoch 239/1000 - Train Loss: 0.0117\n",
    "📘 Epoch 240/1000 - Train Loss: 0.0130\n",
    "✅ Saved checkpoint: checkpoints_baseline/char_transformer_epoch240.pt\n",
    "📘 Epoch 241/1000 - Train Loss: 0.0122\n",
    "📘 Epoch 242/1000 - Train Loss: 0.0117\n",
    "📘 Epoch 243/1000 - Train Loss: 0.0118\n",
    "📘 Epoch 244/1000 - Train Loss: 0.0116\n",
    "📘 Epoch 245/1000 - Train Loss: 0.0131\n",
    "📘 Epoch 246/1000 - Train Loss: 0.0126\n",
    "📘 Epoch 247/1000 - Train Loss: 0.0114\n",
    "📘 Epoch 248/1000 - Train Loss: 0.0113\n",
    "📘 Epoch 249/1000 - Train Loss: 0.0113\n",
    "📘 Epoch 250/1000 - Train Loss: 0.0119\n",
    "✅ Saved checkpoint: checkpoints_baseline/char_transformer_epoch250.pt\n",
    "📘 Epoch 251/1000 - Train Loss: 0.0117\n",
    "📘 Epoch 252/1000 - Train Loss: 0.0114\n",
    "📘 Epoch 253/1000 - Train Loss: 0.0111\n",
    "📘 Epoch 254/1000 - Train Loss: 0.0111\n",
    "📘 Epoch 255/1000 - Train Loss: 0.0118\n",
    "📘 Epoch 256/1000 - Train Loss: 0.0119\n",
    "📘 Epoch 257/1000 - Train Loss: 0.0118\n",
    "📘 Epoch 258/1000 - Train Loss: 0.0106\n",
    "📘 Epoch 259/1000 - Train Loss: 0.0119\n",
    "📘 Epoch 260/1000 - Train Loss: 0.0110\n",
    "✅ Saved checkpoint: checkpoints_baseline/char_transformer_epoch260.pt\n",
    "📘 Epoch 261/1000 - Train Loss: 0.0111\n",
    "📘 Epoch 262/1000 - Train Loss: 0.0110\n",
    "📘 Epoch 263/1000 - Train Loss: 0.0113\n",
    "📘 Epoch 264/1000 - Train Loss: 0.0107\n",
    "📘 Epoch 265/1000 - Train Loss: 0.0104\n",
    "📘 Epoch 266/1000 - Train Loss: 0.0115\n",
    "📘 Epoch 267/1000 - Train Loss: 0.0114\n",
    "📘 Epoch 268/1000 - Train Loss: 0.0111\n",
    "📘 Epoch 269/1000 - Train Loss: 0.0113\n",
    "📘 Epoch 270/1000 - Train Loss: 0.0111\n",
    "✅ Saved checkpoint: checkpoints_baseline/char_transformer_epoch270.pt\n",
    "📘 Epoch 271/1000 - Train Loss: 0.0105\n",
    "📘 Epoch 272/1000 - Train Loss: 0.0101\n",
    "📘 Epoch 273/1000 - Train Loss: 0.0104\n",
    "📘 Epoch 274/1000 - Train Loss: 0.0111\n",
    "📘 Epoch 275/1000 - Train Loss: 0.0104\n",
    "📘 Epoch 276/1000 - Train Loss: 0.0099\n",
    "📘 Epoch 277/1000 - Train Loss: 0.0099\n",
    "📘 Epoch 278/1000 - Train Loss: 0.0106\n",
    "📘 Epoch 279/1000 - Train Loss: 0.0103\n",
    "📘 Epoch 280/1000 - Train Loss: 0.0110\n",
    "✅ Saved checkpoint: checkpoints_baseline/char_transformer_epoch280.pt\n",
    "📘 Epoch 281/1000 - Train Loss: 0.0113\n",
    "📘 Epoch 282/1000 - Train Loss: 0.0104\n",
    "📘 Epoch 283/1000 - Train Loss: 0.0107\n",
    "📘 Epoch 284/1000 - Train Loss: 0.0103\n",
    "📘 Epoch 285/1000 - Train Loss: 0.0102\n",
    "📘 Epoch 286/1000 - Train Loss: 0.0115\n",
    "📘 Epoch 287/1000 - Train Loss: 0.0104\n",
    "📘 Epoch 288/1000 - Train Loss: 0.0101\n",
    "📘 Epoch 289/1000 - Train Loss: 0.0098\n",
    "📘 Epoch 290/1000 - Train Loss: 0.0098\n",
    "✅ Saved checkpoint: checkpoints_baseline/char_transformer_epoch290.pt\n",
    "📘 Epoch 291/1000 - Train Loss: 0.0109\n",
    "📘 Epoch 292/1000 - Train Loss: 0.0096\n",
    "📘 Epoch 293/1000 - Train Loss: 0.0111\n",
    "📘 Epoch 294/1000 - Train Loss: 0.0100\n",
    "📘 Epoch 295/1000 - Train Loss: 0.0101\n",
    "📘 Epoch 296/1000 - Train Loss: 0.0105\n",
    "📘 Epoch 297/1000 - Train Loss: 0.0097\n",
    "📘 Epoch 298/1000 - Train Loss: 0.0106\n",
    "📘 Epoch 299/1000 - Train Loss: 0.0103\n",
    "📘 Epoch 300/1000 - Train Loss: 0.0095\n",
    "✅ Saved checkpoint: checkpoints_baseline/char_transformer_epoch300.pt\n",
    "📘 Epoch 301/1000 - Train Loss: 0.0092\n",
    "📘 Epoch 302/1000 - Train Loss: 0.0096\n",
    "📘 Epoch 303/1000 - Train Loss: 0.0107\n",
    "📘 Epoch 304/1000 - Train Loss: 0.0097\n",
    "📘 Epoch 305/1000 - Train Loss: 0.0096\n",
    "📘 Epoch 306/1000 - Train Loss: 0.0102\n",
    "📘 Epoch 307/1000 - Train Loss: 0.0101\n",
    "📘 Epoch 308/1000 - Train Loss: 0.0095\n",
    "📘 Epoch 309/1000 - Train Loss: 0.0106\n",
    "📘 Epoch 310/1000 - Train Loss: 0.0098\n",
    "✅ Saved checkpoint: checkpoints_baseline/char_transformer_epoch310.pt\n",
    "📘 Epoch 311/1000 - Train Loss: 0.0088\n",
    "📘 Epoch 312/1000 - Train Loss: 0.0098\n",
    "📘 Epoch 313/1000 - Train Loss: 0.0093\n",
    "📘 Epoch 314/1000 - Train Loss: 0.0101\n",
    "📘 Epoch 315/1000 - Train Loss: 0.0096\n",
    "📘 Epoch 316/1000 - Train Loss: 0.0087\n",
    "📘 Epoch 317/1000 - Train Loss: 0.0093\n",
    "📘 Epoch 318/1000 - Train Loss: 0.0098\n",
    "📘 Epoch 319/1000 - Train Loss: 0.0088\n",
    "📘 Epoch 320/1000 - Train Loss: 0.0095\n",
    "✅ Saved checkpoint: checkpoints_baseline/char_transformer_epoch320.pt\n",
    "📘 Epoch 321/1000 - Train Loss: 0.0090\n",
    "📘 Epoch 322/1000 - Train Loss: 0.0092\n",
    "📘 Epoch 323/1000 - Train Loss: 0.0096\n",
    "📘 Epoch 324/1000 - Train Loss: 0.0089\n",
    "📘 Epoch 325/1000 - Train Loss: 0.0093\n",
    "📘 Epoch 326/1000 - Train Loss: 0.0106\n",
    "📘 Epoch 327/1000 - Train Loss: 0.0091\n",
    "📘 Epoch 328/1000 - Train Loss: 0.0086\n",
    "📘 Epoch 329/1000 - Train Loss: 0.0102\n",
    "📘 Epoch 330/1000 - Train Loss: 0.0089\n",
    "✅ Saved checkpoint: checkpoints_baseline/char_transformer_epoch330.pt\n",
    "📘 Epoch 331/1000 - Train Loss: 0.0093\n",
    "📘 Epoch 332/1000 - Train Loss: 0.0091\n",
    "📘 Epoch 333/1000 - Train Loss: 0.0086\n",
    "📘 Epoch 334/1000 - Train Loss: 0.0087\n",
    "📘 Epoch 335/1000 - Train Loss: 0.0087\n",
    "📘 Epoch 336/1000 - Train Loss: 0.0091\n",
    "📘 Epoch 337/1000 - Train Loss: 0.0095\n",
    "📘 Epoch 338/1000 - Train Loss: 0.0095\n",
    "📘 Epoch 339/1000 - Train Loss: 0.0089\n",
    "📘 Epoch 340/1000 - Train Loss: 0.0091\n",
    "✅ Saved checkpoint: checkpoints_baseline/char_transformer_epoch340.pt\n",
    "📘 Epoch 341/1000 - Train Loss: 0.0085\n",
    "📘 Epoch 342/1000 - Train Loss: 0.0089\n",
    "📘 Epoch 343/1000 - Train Loss: 0.0093\n",
    "📘 Epoch 344/1000 - Train Loss: 0.0083\n",
    "📘 Epoch 345/1000 - Train Loss: 0.0090\n",
    "📘 Epoch 346/1000 - Train Loss: 0.0086\n",
    "📘 Epoch 347/1000 - Train Loss: 0.0086\n",
    "📘 Epoch 348/1000 - Train Loss: 0.0091\n",
    "📘 Epoch 349/1000 - Train Loss: 0.0089\n",
    "📘 Epoch 350/1000 - Train Loss: 0.0090\n",
    "✅ Saved checkpoint: checkpoints_baseline/char_transformer_epoch350.pt\n",
    "📘 Epoch 351/1000 - Train Loss: 0.0088\n",
    "📘 Epoch 352/1000 - Train Loss: 0.0086\n",
    "📘 Epoch 353/1000 - Train Loss: 0.0082\n",
    "📘 Epoch 354/1000 - Train Loss: 0.0098\n",
    "📘 Epoch 355/1000 - Train Loss: 0.0082\n",
    "📘 Epoch 356/1000 - Train Loss: 0.0094\n",
    "📘 Epoch 357/1000 - Train Loss: 0.0085\n",
    "📘 Epoch 358/1000 - Train Loss: 0.0088\n",
    "📘 Epoch 359/1000 - Train Loss: 0.0085\n",
    "📘 Epoch 360/1000 - Train Loss: 0.0080\n",
    "✅ Saved checkpoint: checkpoints_baseline/char_transformer_epoch360.pt\n",
    "📘 Epoch 361/1000 - Train Loss: 0.0097\n",
    "📘 Epoch 362/1000 - Train Loss: 0.0082\n",
    "📘 Epoch 363/1000 - Train Loss: 0.0084\n",
    "📘 Epoch 364/1000 - Train Loss: 0.0091\n",
    "📘 Epoch 365/1000 - Train Loss: 0.0082\n",
    "📘 Epoch 366/1000 - Train Loss: 0.0088\n",
    "📘 Epoch 367/1000 - Train Loss: 0.0082\n",
    "📘 Epoch 368/1000 - Train Loss: 0.0078\n",
    "📘 Epoch 369/1000 - Train Loss: 0.0084\n",
    "📘 Epoch 370/1000 - Train Loss: 0.0089\n",
    "✅ Saved checkpoint: checkpoints_baseline/char_transformer_epoch370.pt\n",
    "📘 Epoch 371/1000 - Train Loss: 0.0080\n",
    "📘 Epoch 372/1000 - Train Loss: 0.0091\n",
    "📘 Epoch 373/1000 - Train Loss: 0.0088\n",
    "📘 Epoch 374/1000 - Train Loss: 0.0084\n",
    "📘 Epoch 375/1000 - Train Loss: 0.0079\n",
    "📘 Epoch 376/1000 - Train Loss: 0.0086\n",
    "📘 Epoch 377/1000 - Train Loss: 0.0076\n",
    "📘 Epoch 378/1000 - Train Loss: 0.0080\n",
    "📘 Epoch 379/1000 - Train Loss: 0.0086\n",
    "📘 Epoch 380/1000 - Train Loss: 0.0074\n",
    "✅ Saved checkpoint: checkpoints_baseline/char_transformer_epoch380.pt\n",
    "📘 Epoch 381/1000 - Train Loss: 0.0078\n",
    "📘 Epoch 382/1000 - Train Loss: 0.0086\n",
    "📘 Epoch 383/1000 - Train Loss: 0.0083\n",
    "📘 Epoch 384/1000 - Train Loss: 0.0079\n",
    "📘 Epoch 385/1000 - Train Loss: 0.0078\n",
    "📘 Epoch 386/1000 - Train Loss: 0.0080\n",
    "📘 Epoch 387/1000 - Train Loss: 0.0078\n",
    "📘 Epoch 388/1000 - Train Loss: 0.0076\n",
    "📘 Epoch 389/1000 - Train Loss: 0.0081\n",
    "📘 Epoch 390/1000 - Train Loss: 0.0084\n",
    "✅ Saved checkpoint: checkpoints_baseline/char_transformer_epoch390.pt\n",
    "📘 Epoch 391/1000 - Train Loss: 0.0081\n",
    "📘 Epoch 392/1000 - Train Loss: 0.0085\n",
    "📘 Epoch 393/1000 - Train Loss: 0.0079\n",
    "📘 Epoch 394/1000 - Train Loss: 0.0078\n",
    "📘 Epoch 395/1000 - Train Loss: 0.0074\n",
    "📘 Epoch 396/1000 - Train Loss: 0.0079\n",
    "📘 Epoch 397/1000 - Train Loss: 0.0074\n",
    "📘 Epoch 398/1000 - Train Loss: 0.0078\n",
    "📘 Epoch 399/1000 - Train Loss: 0.0071\n",
    "📘 Epoch 400/1000 - Train Loss: 0.0074\n",
    "✅ Saved checkpoint: checkpoints_baseline/char_transformer_epoch400.pt\n",
    "📘 Epoch 401/1000 - Train Loss: 0.0073\n",
    "📘 Epoch 402/1000 - Train Loss: 0.0078\n",
    "📘 Epoch 403/1000 - Train Loss: 0.0064\n",
    "📘 Epoch 404/1000 - Train Loss: 0.0070\n",
    "📘 Epoch 405/1000 - Train Loss: 0.0081\n",
    "📘 Epoch 406/1000 - Train Loss: 0.0078\n",
    "📘 Epoch 407/1000 - Train Loss: 0.0077\n",
    "📘 Epoch 408/1000 - Train Loss: 0.0075\n",
    "📘 Epoch 409/1000 - Train Loss: 0.0074\n",
    "📘 Epoch 410/1000 - Train Loss: 0.0071\n",
    "✅ Saved checkpoint: checkpoints_baseline/char_transformer_epoch410.pt\n",
    "📘 Epoch 411/1000 - Train Loss: 0.0071\n",
    "📘 Epoch 412/1000 - Train Loss: 0.0073\n",
    "📘 Epoch 413/1000 - Train Loss: 0.0079\n",
    "📘 Epoch 414/1000 - Train Loss: 0.0074\n",
    "📘 Epoch 415/1000 - Train Loss: 0.0063\n",
    "📘 Epoch 416/1000 - Train Loss: 0.0080\n",
    "📘 Epoch 417/1000 - Train Loss: 0.0066\n",
    "📘 Epoch 418/1000 - Train Loss: 0.0072\n",
    "📘 Epoch 419/1000 - Train Loss: 0.0069\n",
    "📘 Epoch 420/1000 - Train Loss: 0.0072\n",
    "✅ Saved checkpoint: checkpoints_baseline/char_transformer_epoch420.pt\n",
    "📘 Epoch 421/1000 - Train Loss: 0.0072\n",
    "📘 Epoch 422/1000 - Train Loss: 0.0069\n",
    "📘 Epoch 423/1000 - Train Loss: 0.0069\n",
    "📘 Epoch 424/1000 - Train Loss: 0.0067\n",
    "📘 Epoch 425/1000 - Train Loss: 0.0068\n",
    "📘 Epoch 426/1000 - Train Loss: 0.0069\n",
    "📘 Epoch 427/1000 - Train Loss: 0.0068\n",
    "📘 Epoch 428/1000 - Train Loss: 0.0067\n",
    "📘 Epoch 429/1000 - Train Loss: 0.0071\n",
    "📘 Epoch 430/1000 - Train Loss: 0.0068\n",
    "✅ Saved checkpoint: checkpoints_baseline/char_transformer_epoch430.pt\n",
    "📘 Epoch 431/1000 - Train Loss: 0.0066\n",
    "📘 Epoch 432/1000 - Train Loss: 0.0069\n",
    "📘 Epoch 433/1000 - Train Loss: 0.0064\n",
    "📘 Epoch 434/1000 - Train Loss: 0.0065\n",
    "📘 Epoch 435/1000 - Train Loss: 0.0067\n",
    "📘 Epoch 436/1000 - Train Loss: 0.0067\n",
    "📘 Epoch 437/1000 - Train Loss: 0.0064\n",
    "📘 Epoch 438/1000 - Train Loss: 0.0070\n",
    "📘 Epoch 439/1000 - Train Loss: 0.0063\n",
    "📘 Epoch 440/1000 - Train Loss: 0.0056\n",
    "✅ Saved checkpoint: checkpoints_baseline/char_transformer_epoch440.pt\n",
    "📘 Epoch 441/1000 - Train Loss: 0.0063\n",
    "📘 Epoch 442/1000 - Train Loss: 0.0071\n",
    "📘 Epoch 443/1000 - Train Loss: 0.0062\n",
    "📘 Epoch 444/1000 - Train Loss: 0.0061\n",
    "📘 Epoch 445/1000 - Train Loss: 0.0070\n",
    "📘 Epoch 446/1000 - Train Loss: 0.0064\n",
    "📘 Epoch 447/1000 - Train Loss: 0.0062\n",
    "📘 Epoch 448/1000 - Train Loss: 0.0066\n",
    "📘 Epoch 449/1000 - Train Loss: 0.0060\n",
    "📘 Epoch 450/1000 - Train Loss: 0.0067\n",
    "✅ Saved checkpoint: checkpoints_baseline/char_transformer_epoch450.pt\n",
    "📘 Epoch 451/1000 - Train Loss: 0.0063\n",
    "📘 Epoch 452/1000 - Train Loss: 0.0062\n",
    "📘 Epoch 453/1000 - Train Loss: 0.0067\n",
    "📘 Epoch 454/1000 - Train Loss: 0.0062\n",
    "📘 Epoch 455/1000 - Train Loss: 0.0059\n",
    "📘 Epoch 456/1000 - Train Loss: 0.0069\n",
    "📘 Epoch 457/1000 - Train Loss: 0.0068\n",
    "📘 Epoch 458/1000 - Train Loss: 0.0059\n",
    "📘 Epoch 459/1000 - Train Loss: 0.0059\n",
    "📘 Epoch 460/1000 - Train Loss: 0.0062\n",
    "✅ Saved checkpoint: checkpoints_baseline/char_transformer_epoch460.pt\n",
    "📘 Epoch 461/1000 - Train Loss: 0.0062\n",
    "📘 Epoch 462/1000 - Train Loss: 0.0060\n",
    "📘 Epoch 463/1000 - Train Loss: 0.0063\n",
    "📘 Epoch 464/1000 - Train Loss: 0.0065\n",
    "📘 Epoch 465/1000 - Train Loss: 0.0057\n",
    "📘 Epoch 466/1000 - Train Loss: 0.0060\n",
    "📘 Epoch 467/1000 - Train Loss: 0.0061\n",
    "📘 Epoch 468/1000 - Train Loss: 0.0061\n",
    "📘 Epoch 469/1000 - Train Loss: 0.0060\n",
    "📘 Epoch 470/1000 - Train Loss: 0.0057\n",
    "✅ Saved checkpoint: checkpoints_baseline/char_transformer_epoch470.pt\n",
    "📘 Epoch 471/1000 - Train Loss: 0.0061\n",
    "📘 Epoch 472/1000 - Train Loss: 0.0063\n",
    "📘 Epoch 473/1000 - Train Loss: 0.0052\n",
    "📘 Epoch 474/1000 - Train Loss: 0.0062\n",
    "📘 Epoch 475/1000 - Train Loss: 0.0063"
   ]
  },
  {
   "cell_type": "markdown",
>>>>>>> c1ccc8e3419992dcb4235f4691fac236ac104211
   "id": "f3340b2c",
   "metadata": {},
   "source": [
    "## Test set prediction\n",
    "\n",
    "1. encode_text() and decode_text() are the same functions you used for your baseline dataset.\n",
    "2. SOS_IDX and EOS_IDX should be your special token indices (start/end).\n",
    "3. This uses greedy decoding only. No beam search or sampling needed.\n",
    "4. You can now submit predictions_normal.csv for evaluation."
   ]
  },
  {
   "cell_type": "markdown",
   "id": "be87cf1b",
   "metadata": {},
   "source": [
    "Load Model and Define Helpers"
   ]
  },
  {
   "cell_type": "code",
   "execution_count": null,
   "id": "33545510",
   "metadata": {},
   "outputs": [
    {
     "name": "stdout",
     "output_type": "stream",
     "text": [
      "Input:  Enjoy your day having extreme fun!\n",
      "Prediction: !nuf emertxe gnivah yad ruoy yojn\n"
     ]
    }
   ],
   "source": [
    "import torch\n",
    "\n",
    "# Force CPU\n",
    "device = torch.device(\"cpu\")\n",
    "\n",
    "# Load checkpoint on CPU\n",
    "checkpoint_path = \"checkpoints_baseline/char_transformer_epoch500.pt\"\n",
    "baseline_model.load_state_dict(torch.load(checkpoint_path, map_location=device)[\"model_state\"])\n",
    "baseline_model.to(device)\n",
    "baseline_model.eval()\n",
    "\n",
    "# Vocabulary\n",
    "vocab = {c:i+3 for i,c in enumerate([chr(i) for i in range(32,127)])}\n",
    "inv_vocab = {i:c for c,i in vocab.items()}\n",
    "PAD_IDX, SOS_IDX, EOS_IDX = 0, 1, 2\n",
    "\n",
    "def encode_text(text):\n",
    "    return [SOS_IDX] + [vocab[c] for c in text] + [EOS_IDX]\n",
    "\n",
    "def decode_text(ids):\n",
    "    return \"\".join([inv_vocab[i] for i in ids if i > 2])\n",
    "\n",
    "# Autoregressive prediction\n",
    "def generate_single_char_model(text, model, max_len=128):\n",
    "    model.eval()\n",
    "    with torch.no_grad():\n",
    "        input_ids = torch.tensor([encode_text(text)], dtype=torch.long, device=device)\n",
    "        output_ids = [SOS_IDX]\n",
    "\n",
    "        for t in range(max_len):\n",
    "            tgt_ids = torch.tensor([output_ids], dtype=torch.long, device=device)\n",
    "            logits = model(input_ids, tgt_ids)\n",
    "            next_id = logits[0, -1].argmax().item()\n",
    "            output_ids.append(next_id)\n",
    "            if next_id == EOS_IDX:\n",
    "                break\n",
    "\n",
    "        return decode_text(output_ids[1:])\n",
    "\n",
    "# Example\n",
    "sample_text = \"Enjoy your day having extreme fun!\"\n",
    "prediction = generate_single_char_model(sample_text, baseline_model)\n",
    "print(\"Input: \", sample_text)\n",
    "print(\"Prediction:\", prediction)"
   ]
  },
  {
   "cell_type": "markdown",
   "id": "0d93602b",
   "metadata": {},
   "source": [
    "Inference Testing (Single, Interactive Example)"
   ]
  },
  {
   "cell_type": "code",
   "execution_count": null,
   "id": "e681ae92",
   "metadata": {},
   "outputs": [
    {
     "name": "stdout",
     "output_type": "stream",
     "text": [
      "✅ Using MPS for inference\n",
      "✅ Model loaded and set to evaluation mode.\n"
     ]
    }
   ],
   "source": [
    "import torch\n",
    "import torch.nn as nn\n",
    "import pandas as pd\n",
    "import math\n",
    "\n",
    "# --- 1. Setup ---\n",
    "\n",
    "# Define constants to match the training environment\n",
    "PAD_IDX, SOS_IDX, EOS_IDX = 0, 1, 2\n",
    "VOCAB_SIZE = 95  # FIX: Hardcode the vocab size from the trained model\n",
    "MAX_LEN = 128    # Define a max generation length\n",
    "\n",
    "# --- Vocabulary and Helper Functions ---\n",
    "# Re-create the exact vocabulary used during training\n",
    "chars = [chr(i) for i in range(32, 127)]\n",
    "_vocab = {c: i + 3 for i, c in enumerate(chars)}\n",
    "INV_VOCAB = {i: c for c, i in _vocab.items()}\n",
    "\n",
    "def encode_text(text, add_special=True):\n",
    "    # FIX: Use the full version of the function that accepts 'add_special'\n",
    "    ids = [_vocab.get(ch, -1) for ch in text if ch in _vocab]\n",
    "    if add_special:\n",
    "        ids = [SOS_IDX] + ids + [EOS_IDX]\n",
    "    return torch.tensor(ids, dtype=torch.long)\n",
    "\n",
    "def decode_ids(ids):\n",
    "    \"\"\"Decodes a list of token IDs back to a string.\"\"\"\n",
    "    return \"\".join([INV_VOCAB.get(i, '') for i in ids if i not in {PAD_IDX, SOS_IDX, EOS_IDX}])\n",
    "\n",
    "# --- Device and Model Loading ---\n",
    "if torch.backends.mps.is_available():\n",
    "    device = torch.device(\"mps\")\n",
    "    print(\"✅ Using MPS for inference\")\n",
    "else:\n",
    "    device = torch.device(\"cpu\")\n",
    "    print(\"⚠️ MPS not available, using CPU for inference\")\n",
    "\n",
    "# Instantiate your model architecture with the CORRECT vocab_size\n",
    "baseline_model = CharTransformer(vocab_size=VOCAB_SIZE, d_model=64, nhead=4, num_layers=2).to(device)\n",
    "\n",
    "# Load the saved weights\n",
    "checkpoint_path = \"checkpoints_baseline/char_transformer_epoch500.pt\"\n",
    "checkpoint = torch.load(checkpoint_path, map_location=device)\n",
    "baseline_model.load_state_dict(checkpoint[\"model_state\"])\n",
    "\n",
    "# Set the model to evaluation mode\n",
    "baseline_model.eval()\n",
    "print(\"✅ Model loaded and set to evaluation mode.\")"
   ]
  },
  {
   "cell_type": "code",
   "execution_count": null,
   "id": "3dac867b",
   "metadata": {},
   "outputs": [
    {
     "name": "stdout",
     "output_type": "stream",
     "text": [
      "\n",
      "🔍 Generating predictions on the test set...\n",
      "✅ Predictions generated. Here are the first 10 examples:\n",
      "                                                                                                             input                                                                                                     ground_truth                                                                                                             prediction\n",
      "0                                                        intimidated campaigns emerging marines spin bel cleansing                                                        gnisnaelc leb nips seniram gnigreme sngiapmac detadimitni      gnisnaelc leb nips seniram gnigreme sngiapmac detadimitni snaelc leb nips seniram gnignigreme sngiapmac detimitni\n",
      "1                                                                          salary lebanese wifi fury fab sta polly                                                                          yllop ats baf yruf ifiw esenabel yralas                   yllop ats baf yruf ifiw esenabel yralaso oodao ood llop ats baf yruf ififiw esenabel yralasoo ood oo\n",
      "2                                                               financing ahmed sexual cinematic puff malibu peach                                                               hcaep ubilam ffup citamenic lauxes demha gnicnanif              hcaep ubilam ffup citamenic lauxes demha gnicnanif oc caep ubilam ffupup citamenic lauxes demha gnicnanif\n",
      "3  n00 nickel disparity funded tutorials constrained bk 8 cellar wen advocacy surpass digitally discredit earliest  tseilrae tidercsid yllatigid ssaprus ycacovda new rallec 8 kb deniartsnoc slairotut dednuf ytirapsid lekcin 00n  tseilrae tidercsid yllatigid ssaprus ycacovda new rallec 8 kb deniartsnoc slairotut dednuf ytirapsid lekcin 00nlec 8 \n",
      "4                                          unveiled alliance cleric skinned illness permission destroyed stationed                                          denoitats deyortsed noissimrep ssenlli denniks cirelc ecnailla delievnu     denoitats deyortsed noissimrep ssenlli denniks cirelc ecnailla delievnuort noississimrep ssenlli denniks cirelc ec\n",
      "5                                                         input openings thinks sierra stimulate sheikh habit dull                                                         llud tibah hkiehs etalumits arreis skniht sgninepo tupni       llud tibah hkiehs etalumits arreis skniht sgninepo tupni lud tibah hkiehs etalumits arreis skniht sgninepo tupni\n",
      "6                                                       reforms lamps from hockey evening clones beyonce artillery                                                       yrellitra ecnoyeb senolc gnineve yekcoh morf spmal smrofer      yrellitra ecnoyeb senolc gnineve yekcoh morf spmal smroferrlitra ecnoyeb senolc gninineve yekcoh morf spmal smrof\n",
      "7                             ra hungary flush plush sorts spouse bananas defender protests lesser alexandra canal                             lanac ardnaxela ressel stsetorp rednefed sananab esuops stros hsulp hsulf yragnuh ar  lanac ardnaxela ressel stsetorp rednefed sananab esuops stros hsulp hsulf yragnuh artsetorp rednefed sananab esuops s\n",
      "8                                                                           worcester visitation rotary constantly                                                                           yltnatsnoc yrator noitatisiv retsecrow                     yltnatsnoc yrator noitatisiv retsecrowo ood oo aodoltnatsnoc yrator noitatatisiv retsecrowoo oo oo\n",
      "9                      neck m1 prescribe demands ev commanders s00 compensation inventions amc ranged faster nobel                      lebon retsaf degnar cma snoitnevni noitasnepmoc 00s srednammoc ve sdnamed ebircserp 1m kcen  lebon retsaf degnar cma snoitnevni noitasnepmoc 00s srednammoc ve sdnamed ebircserp 1m kcen onoitasnepmoc 000s sredna\n"
     ]
    }
   ],
   "source": [
    "# --- 2. Test Set Prediction ---\n",
    "\n",
    "@torch.no_grad()\n",
    "def predict_on_test_set(model, data_loader, device):\n",
    "    \"\"\"Generates predictions for an entire test set and returns a DataFrame.\"\"\"\n",
    "    model.eval()\n",
    "    results = []\n",
    "    \n",
    "    # FIX: Make the loop more robust by iterating over 'batch'\n",
    "    for batch in data_loader:\n",
    "        src_padded = batch[0].to(device)\n",
    "        tgt_padded = batch[2] # For ground truth comparison\n",
    "\n",
    "        tgt_inp = torch.full((src_padded.size(0), 1), SOS_IDX, dtype=torch.long, device=device)\n",
    "\n",
    "        for _ in range(MAX_LEN):\n",
    "            logits = model(src_padded, tgt_inp)\n",
    "            next_token = logits[:, -1, :].argmax(dim=-1).unsqueeze(1)\n",
    "            tgt_inp = torch.cat([tgt_inp, next_token], dim=1)\n",
    "            if (tgt_inp == EOS_IDX).any(dim=1).all():\n",
    "                break\n",
    "\n",
    "        source_texts = [decode_ids(s.tolist()) for s in src_padded]\n",
    "        target_texts = [decode_ids(t.tolist()) for t in tgt_padded]\n",
    "        predicted_texts = [decode_ids(p.tolist()) for p in tgt_inp]\n",
    "        \n",
    "        for i in range(len(source_texts)):\n",
    "            results.append({\n",
    "                \"input\": source_texts[i],\n",
    "                \"ground_truth\": target_texts[i],\n",
    "                \"prediction\": predicted_texts[i]\n",
    "            })\n",
    "\n",
    "    return pd.DataFrame(results)\n",
    "\n",
    "print(\"\\n🔍 Generating predictions on the test set...\")\n",
    "predictions_df = predict_on_test_set(baseline_model, test_loader, device)\n",
    "print(\"✅ Predictions generated. Here are the first 10 examples:\")\n",
    "print(predictions_df.head(10).to_string())"
   ]
  },
  {
   "cell_type": "code",
   "execution_count": null,
   "id": "f338787b",
   "metadata": {},
   "outputs": [
    {
     "name": "stdout",
     "output_type": "stream",
     "text": [
      "\n",
      "🤖 Running interactive inference tests...\n"
     ]
    },
    {
     "name": "stderr",
     "output_type": "stream",
     "text": [
      "/Library/Frameworks/Python.framework/Versions/3.13/lib/python3.13/site-packages/torch/nn/functional.py:6041: UserWarning: Support for mismatched key_padding_mask and attn_mask is deprecated. Use same type for both instead.\n",
      "  warnings.warn(\n"
     ]
    },
    {
     "name": "stdout",
     "output_type": "stream",
     "text": [
      "\n",
      "Input:      'hello world'\n",
      "Prediction: 'dlrow olleh'\n",
      "\n",
      "Input:      'PyTorch is great for building transformers.'\n",
      "Prediction: '.sremrofsnart gnidliub rof taerg si hcroyy'\n"
     ]
    }
   ],
   "source": [
    "# --- 3. Inference Testing ---\n",
    "\n",
    "def generate_prediction(input_text, model, device):\n",
    "    \"\"\"Generates a prediction for a single input string.\"\"\"\n",
    "    model.eval()\n",
    "    with torch.no_grad():\n",
    "        # This function now works because encode_text is defined correctly above\n",
    "        src_tensor = encode_text(input_text, add_special=True).unsqueeze(0).to(device)\n",
    "        output_ids = [SOS_IDX]\n",
    "\n",
    "        for _ in range(MAX_LEN):\n",
    "            tgt_tensor = torch.tensor(output_ids, dtype=torch.long, device=device).unsqueeze(0)\n",
    "            logits = model(src_tensor, tgt_tensor)\n",
    "            next_id = logits[0, -1].argmax().item()\n",
    "            output_ids.append(next_id)\n",
    "            if next_id == EOS_IDX:\n",
    "                break\n",
    "        \n",
    "        return decode_ids(output_ids)\n",
    "\n",
    "print(\"\\n🤖 Running interactive inference tests...\")\n",
    "\n",
    "sample1 = \"hello world\"\n",
    "pred1 = generate_prediction(sample1, baseline_model, device)\n",
    "print(f\"\\nInput:      '{sample1}'\")\n",
    "print(f\"Prediction: '{pred1}'\")\n",
    "\n",
    "sample2 = \"PyTorch is great for building transformers.\"\n",
    "pred2 = generate_prediction(sample2, baseline_model, device)\n",
    "print(f\"\\nInput:      '{sample2}'\")\n",
    "print(f\"Prediction: '{pred2}'\")"
   ]
  },
  {
   "cell_type": "markdown",
   "id": "08a3b2b1",
   "metadata": {},
   "source": [
    "## Saving predictions"
   ]
  },
  {
   "cell_type": "code",
   "execution_count": null,
   "id": "bd68b221",
   "metadata": {},
   "outputs": [
    {
     "name": "stderr",
     "output_type": "stream",
     "text": [
      "/Library/Frameworks/Python.framework/Versions/3.13/lib/python3.13/site-packages/tqdm/auto.py:21: TqdmWarning: IProgress not found. Please update jupyter and ipywidgets. See https://ipywidgets.readthedocs.io/en/stable/user_install.html\n",
      "  from .autonotebook import tqdm as notebook_tqdm\n"
     ]
    },
    {
     "name": "stdout",
     "output_type": "stream",
     "text": [
      "✅ Using mps for inference\n",
      "✅ Model loaded successfully.\n",
      "\n",
      "Reading data from ./../data/test.csv...\n",
      "Generating predictions for each row...\n"
     ]
    },
    {
     "name": "stderr",
     "output_type": "stream",
     "text": [
      "➡️ Processing rows:   0%|          | 0/2000 [00:00<?, ?it/s]/Library/Frameworks/Python.framework/Versions/3.13/lib/python3.13/site-packages/torch/nn/functional.py:6041: UserWarning: Support for mismatched key_padding_mask and attn_mask is deprecated. Use same type for both instead.\n",
      "  warnings.warn(\n",
      "➡️ Processing rows: 100%|██████████| 2000/2000 [15:35<00:00,  2.14it/s]\n"
     ]
    },
    {
     "name": "stdout",
     "output_type": "stream",
     "text": [
      "\n",
      "🎉 Success! Predictions saved to: ./predictions/test_predictions.csv\n",
      "\n",
      "Here's a preview of the final data:\n",
      "                                                                                                             input                                                                                                           target                                                                                                      predictions\n",
      "0                                                        intimidated campaigns emerging marines spin bel cleansing                                                        gnisnaelc leb nips seniram gnigreme sngiapmac detadimitni                                                        gnisnaelc leb nips seniram gnigreme sngiapmac detadimitni\n",
      "1                                                                          salary lebanese wifi fury fab sta polly                                                                          yllop ats baf yruf ifiw esenabel yralas                                                                          yllop ats baf yruf ifiw esenabel yralas\n",
      "2                                                               financing ahmed sexual cinematic puff malibu peach                                                               hcaep ubilam ffup citamenic lauxes demha gnicnanif                                                               hcaep ubilam ffup citamenic lauxes demha gnicnanif\n",
      "3  n00 nickel disparity funded tutorials constrained bk 8 cellar wen advocacy surpass digitally discredit earliest  tseilrae tidercsid yllatigid ssaprus ycacovda new rallec 8 kb deniartsnoc slairotut dednuf ytirapsid lekcin 00n  tseilrae tidercsid yllatigid ssaprus ycacovda new rallec 8 kb deniartsnoc slairotut dednuf ytirapsid lekcin 00n\n",
      "4                                          unveiled alliance cleric skinned illness permission destroyed stationed                                          denoitats deyortsed noissimrep ssenlli denniks cirelc ecnailla delievnu                                          denoitats deyortsed noissimrep ssenlli denniks cirelc ecnailla delievnu\n"
     ]
    }
   ],
   "source": [
    "import torch\n",
    "import pandas as pd\n",
    "import os\n",
    "from tqdm.auto import tqdm\n",
    "\n",
    "# --- 1. Setup (Model, Constants, and Helpers) ---\n",
    "# Ensure this setup matches the environment you used for training and previous testing.\n",
    "\n",
    "# Define constants\n",
    "PAD_IDX, SOS_IDX, EOS_IDX = 0, 1, 2\n",
    "VOCAB_SIZE = 95\n",
    "MAX_LEN = 128\n",
    "\n",
    "# Vocabulary and Helper Functions\n",
    "chars = [chr(i) for i in range(32, 127)]\n",
    "_vocab = {c: i + 3 for i, c in enumerate(chars)}\n",
    "INV_VOCAB = {i: c for c, i in _vocab.items()}\n",
    "\n",
    "def encode_text(text, add_special=True):\n",
    "    ids = [_vocab.get(ch, -1) for ch in text if ch in _vocab]\n",
    "    if add_special:\n",
    "        ids = [SOS_IDX] + ids + [EOS_IDX]\n",
    "    return torch.tensor(ids, dtype=torch.long)\n",
    "\n",
    "def decode_ids(ids):\n",
    "    return \"\".join([INV_VOCAB.get(i, '') for i in ids if i not in {PAD_IDX, SOS_IDX, EOS_IDX}])\n",
    "\n",
    "# Device and Model Loading\n",
    "if torch.backends.mps.is_available():\n",
    "    device = torch.device(\"mps\")\n",
    "else:\n",
    "    device = torch.device(\"cpu\")\n",
    "print(f\"✅ Using {device} for inference\")\n",
    "\n",
    "# Instantiate your model architecture\n",
    "# This needs the CharTransformer class definition from your original script\n",
    "baseline_model = CharTransformer(vocab_size=VOCAB_SIZE, d_model=64, nhead=4, num_layers=2).to(device)\n",
    "\n",
    "# Load the saved weights\n",
    "checkpoint_path = \"checkpoints_baseline/char_transformer_epoch500.pt\"\n",
    "checkpoint = torch.load(checkpoint_path, map_location=device)\n",
    "baseline_model.load_state_dict(checkpoint[\"model_state\"])\n",
    "baseline_model.eval()\n",
    "print(\"✅ Model loaded successfully.\")\n",
    "\n",
    "\n",
    "# --- 2. Single Prediction Function ---\n",
    "\n",
    "def generate_prediction(input_text, model, device):\n",
    "    \"\"\"Generates a prediction for a single input string.\"\"\"\n",
    "    model.eval()\n",
    "    with torch.no_grad():\n",
    "        src_tensor = encode_text(input_text, add_special=True).unsqueeze(0).to(device)\n",
    "        output_ids = [SOS_IDX]\n",
    "\n",
    "        for _ in range(MAX_LEN):\n",
    "            tgt_tensor = torch.tensor(output_ids, dtype=torch.long, device=device).unsqueeze(0)\n",
    "            logits = model(src_tensor, tgt_tensor)\n",
    "            next_id = logits[0, -1].argmax().item()\n",
    "            output_ids.append(next_id)\n",
    "            if next_id == EOS_IDX:\n",
    "                break\n",
    "        \n",
    "        return decode_ids(output_ids)\n",
    "\n",
    "\n",
    "# --- 3. Main Script to Process CSV ---\n",
    "\n",
    "# Define file paths\n",
    "input_csv_path = \"./../data/test.csv\"\n",
    "output_dir = \"./predictions\"\n",
    "output_csv_path = os.path.join(output_dir, \"test_predictions.csv\")\n",
    "\n",
    "# Create the output directory if it doesn't exist\n",
    "os.makedirs(output_dir, exist_ok=True)\n",
    "\n",
    "# Load the test data\n",
    "print(f\"\\nReading data from {input_csv_path}...\")\n",
    "df = pd.read_csv(input_csv_path)\n",
    "\n",
    "# Initialize a list to store predictions\n",
    "predictions_list = []\n",
    "\n",
    "print(\"Generating predictions for each row...\")\n",
    "# Use tqdm to create a progress bar\n",
    "for input_text in tqdm(df['input'], desc=\"➡️ Processing rows\"):\n",
    "    # Generate a prediction for the current input text\n",
    "    prediction = generate_prediction(input_text, baseline_model, device)\n",
    "    # Add the prediction to our list\n",
    "    predictions_list.append(prediction)\n",
    "\n",
    "# Add the list of predictions as a new column in the DataFrame\n",
    "df['predictions'] = predictions_list\n",
    "\n",
    "# Save the updated DataFrame to a new CSV file\n",
    "df.to_csv(output_csv_path, index=False)\n",
    "\n",
    "print(f\"\\n🎉 Success! Predictions saved to: {output_csv_path}\")\n",
    "print(\"\\nHere's a preview of the final data:\")\n",
    "print(df.head().to_string())"
   ]
  },
  {
   "cell_type": "markdown",
   "id": "4c228213",
   "metadata": {},
   "source": [
    "# Evaluation & Predictions"
   ]
  },
  {
   "cell_type": "markdown",
   "id": "18880acd",
   "metadata": {},
   "source": [
    "##  Metrics evaluation script for both BLT and baseline models\n",
    "\n",
    "1.\tToken-level accuracy\n",
    "2.\tAverage sequence length (input tokens vs predicted tokens)"
   ]
  },
  {
   "cell_type": "code",
   "execution_count": null,
   "id": "f63fdda5",
   "metadata": {},
<<<<<<< HEAD
   "outputs": [
    {
     "name": "stdout",
     "output_type": "stream",
     "text": [
      "✅ Evaluation for ./predictions/predictions_BLT.csv\n",
      "Token-level Accuracy: 8.39%\n",
      "Average input length: 70.85 chars\n",
      "Average predicted output length: 78.03 chars\n",
      "--------------------------------------------------\n",
      "✅ Evaluation for ./predictions/test_predictions.csv\n",
      "Token-level Accuracy: 97.77%\n",
      "Average input length: 70.85 chars\n",
      "Average predicted output length: 70.78 chars\n",
      "--------------------------------------------------\n",
      "📊 Comparison Summary:\n",
      "BLT      | Acc: 8.39%, Avg Input: 70.85, Avg Pred: 78.03\n",
      "Baseline | Acc: 97.77%, Avg Input: 70.85, Avg Pred: 70.78\n"
     ]
    }
   ],
   "source": [
    "import pandas as pd\n",
    "\n",
    "def evaluate_predictions(pred_csv_path, original_csv_path, prediction_col_name=\"output\"): # <-- Added argument with default\n",
    "    \"\"\"\n",
    "    Evaluates predictions against a target file.\n",
    "    \n",
    "    Args:\n",
    "        pred_csv_path (str): Path to the CSV containing predictions.\n",
    "        original_csv_path (str): Path to the original test CSV with targets.\n",
    "        prediction_col_name (str): The name of the column containing predictions in pred_csv_path.\n",
    "    \"\"\"\n",
    "    try:\n",
    "        df_pred = pd.read_csv(pred_csv_path)\n",
    "    except FileNotFoundError:\n",
    "        print(f\"❌ ERROR: Prediction file not found at {pred_csv_path}\")\n",
    "        return float('nan'), float('nan'), float('nan') # Return NaN if file missing\n",
    "        \n",
    "    df_orig = pd.read_csv(original_csv_path)\n",
    "\n",
    "    # --- Check if the prediction column exists ---\n",
    "    if prediction_col_name not in df_pred.columns:\n",
    "        print(f\"❌ ERROR: Column '{prediction_col_name}' not found in {pred_csv_path}.\")\n",
    "        print(f\"   Available columns are: {list(df_pred.columns)}\")\n",
    "        return float('nan'), float('nan'), float('nan') # Return NaN if column missing\n",
    "\n",
=======
   "outputs": [],
   "source": [
    "import pandas as pd\n",
    "\n",
    "def evaluate_predictions(pred_csv_path, original_csv_path):\n",
    "    # Load predictions\n",
    "    df_pred = pd.read_csv(pred_csv_path)\n",
    "    df_orig = pd.read_csv(original_csv_path)\n",
    "\n",
>>>>>>> c1ccc8e3419992dcb4235f4691fac236ac104211
    "    total_tokens = 0\n",
    "    correct_tokens = 0\n",
    "    total_input_len = 0\n",
    "    total_output_len = 0\n",
    "\n",
<<<<<<< HEAD
    "    # Ensure dataframes have the same length\n",
    "    if len(df_pred) != len(df_orig):\n",
    "        print(f\"⚠️ WARNING: Prediction file ({len(df_pred)} rows) and original file ({len(df_orig)} rows) have different lengths. Evaluating common rows.\")\n",
    "    \n",
    "    num_rows_to_evaluate = min(len(df_pred), len(df_orig))\n",
    "\n",
    "    for idx in range(num_rows_to_evaluate):\n",
    "        # --- FIX 1: Use the specified prediction column name ---\n",
    "        pred = str(df_pred.loc[idx, prediction_col_name]) \n",
    "        # ---------------------------------------------------\n",
    "        \n",
=======
    "    for idx in range(len(df_pred)):\n",
    "        pred = str(df_pred.loc[idx, \"prediction\"])\n",
>>>>>>> c1ccc8e3419992dcb4235f4691fac236ac104211
    "        target = str(df_orig.loc[idx, \"target\"])\n",
    "        input_str = str(df_orig.loc[idx, \"input\"])\n",
    "\n",
    "        # Token-level comparison\n",
    "        min_len = min(len(pred), len(target))\n",
    "        correct_tokens += sum([pred[i] == target[i] for i in range(min_len)])\n",
    "        total_tokens += len(target)\n",
    "\n",
    "        # Sequence length stats\n",
    "        total_input_len += len(input_str)\n",
    "        total_output_len += len(pred)\n",
    "\n",
<<<<<<< HEAD
    "    token_accuracy = 100.0 * correct_tokens / total_tokens if total_tokens > 0 else 0\n",
    "    avg_input_len = total_input_len / num_rows_to_evaluate if num_rows_to_evaluate > 0 else 0\n",
    "    avg_output_len = total_output_len / num_rows_to_evaluate if num_rows_to_evaluate > 0 else 0\n",
=======
    "    token_accuracy = 100.0 * correct_tokens / total_tokens\n",
    "    avg_input_len = total_input_len / len(df_pred)\n",
    "    avg_output_len = total_output_len / len(df_pred)\n",
>>>>>>> c1ccc8e3419992dcb4235f4691fac236ac104211
    "\n",
    "    print(f\"✅ Evaluation for {pred_csv_path}\")\n",
    "    print(f\"Token-level Accuracy: {token_accuracy:.2f}%\")\n",
    "    print(f\"Average input length: {avg_input_len:.2f} chars\")\n",
<<<<<<< HEAD
    "    print(f\"Average predicted output length: {avg_output_len:.2f} chars\") \n",
    "    print(\"-\" * 50)\n",
    "    return token_accuracy, avg_input_len, avg_output_len\n",
    "\n",
    "# --- Evaluate BLT predictions ---\n",
    "# Assuming your BLT prediction file correctly uses the 'output' column\n",
    "blt_acc, blt_in_len, blt_out_len = evaluate_predictions(\n",
    "    \"./predictions/predictions_BLT.csv\", \"./../data/test.csv\"\n",
    ")\n",
    "\n",
    "# --- Evaluate Baseline predictions ---\n",
    "# FIX 2: Correctly assign results to baseline variables\n",
    "# IMPORTANT: Check your baseline CSV ('test_predictions.csv'). If the prediction\n",
    "# column is named something else (e.g., 'prediction'), change it below.\n",
    "baseline_acc, base_in_len, base_out_len = evaluate_predictions(\n",
    "    \"./predictions/test_predictions.csv\", \n",
    "    \"./../data/test.csv\",\n",
    "    prediction_col_name=\"predictions\"\n",
=======
    "    print(f\"Average predicted length: {avg_output_len:.2f} chars\")\n",
    "    print(\"-\" * 50)\n",
    "    return token_accuracy, avg_input_len, avg_output_len\n",
    "\n",
    "\n",
    "# --- Evaluate BLT predictions ---\n",
    "blt_acc, blt_in_len, blt_out_len = evaluate_predictions(\n",
    "    \"./prediction/blt_predictions.csv\", \"./../data/test.csv\"\n",
    ")\n",
    "\n",
    "# --- Evaluate Baseline predictions ---\n",
    "baseline_acc, base_in_len, base_out_len = evaluate_predictions(\n",
    "    \"./prediction/predictions_baseline.csv\", \"./../data/test.csv\"\n",
>>>>>>> c1ccc8e3419992dcb4235f4691fac236ac104211
    ")\n",
    "\n",
    "# --- Comparison Summary ---\n",
    "print(\"📊 Comparison Summary:\")\n",
    "print(f\"BLT      | Acc: {blt_acc:.2f}%, Avg Input: {blt_in_len:.2f}, Avg Pred: {blt_out_len:.2f}\")\n",
    "print(f\"Baseline | Acc: {baseline_acc:.2f}%, Avg Input: {base_in_len:.2f}, Avg Pred: {base_out_len:.2f}\")"
   ]
<<<<<<< HEAD
=======
  },
  {
   "cell_type": "code",
   "execution_count": null,
   "id": "f77c6da7",
   "metadata": {},
   "outputs": [],
   "source": []
>>>>>>> c1ccc8e3419992dcb4235f4691fac236ac104211
  }
 ],
 "metadata": {
  "kernelspec": {
   "display_name": "Python 3",
   "language": "python",
   "name": "python3"
  },
  "language_info": {
   "codemirror_mode": {
    "name": "ipython",
    "version": 3
   },
   "file_extension": ".py",
   "mimetype": "text/x-python",
   "name": "python",
   "nbconvert_exporter": "python",
   "pygments_lexer": "ipython3",
   "version": "3.13.7"
  }
 },
 "nbformat": 4,
 "nbformat_minor": 5
}
