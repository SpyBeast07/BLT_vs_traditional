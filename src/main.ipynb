{
 "cells": [
  {
   "cell_type": "markdown",
   "id": "853f066c",
   "metadata": {},
   "source": [
    "# Data"
   ]
  },
  {
   "cell_type": "code",
   "execution_count": 34,
   "id": "6894c401",
   "metadata": {},
   "outputs": [
    {
     "name": "stdout",
     "output_type": "stream",
     "text": [
      "Train shape: (10000, 2)\n",
      "Test shape: (2000, 2)\n",
      "\n",
      "Train head:\n",
      "                                               input  \\\n",
      "0               reconciliation trolls realized scene   \n",
      "1                        scratched kemp blah devices   \n",
      "2  delusional engineered perfect prey englishman ...   \n",
      "3  boomers nfl reacts parallels everything 6 redu...   \n",
      "4  patience put christmas superhero luc rake fulf...   \n",
      "\n",
      "                                              target  \n",
      "0               enecs dezilaer sllort noitailicnocer  \n",
      "1                        secived halb pmek dehctarcs  \n",
      "2  hctarcs detsub namhsilgne yerp tcefrep dereeni...  \n",
      "3  stcudnoc ysereh redlof secuder 6 gnihtyreve sl...  \n",
      "4  ylesned ylno elbats latnenitnoc dellifluf ekar...  \n",
      "\n",
      "Test head:\n",
      "                                               input  \\\n",
      "0  intimidated campaigns emerging marines spin be...   \n",
      "1            salary lebanese wifi fury fab sta polly   \n",
      "2  financing ahmed sexual cinematic puff malibu p...   \n",
      "3  n00 nickel disparity funded tutorials constrai...   \n",
      "4  unveiled alliance cleric skinned illness permi...   \n",
      "\n",
      "                                              target  \n",
      "0  gnisnaelc leb nips seniram gnigreme sngiapmac ...  \n",
      "1            yllop ats baf yruf ifiw esenabel yralas  \n",
      "2  hcaep ubilam ffup citamenic lauxes demha gnicn...  \n",
      "3  tseilrae tidercsid yllatigid ssaprus ycacovda ...  \n",
      "4  denoitats deyortsed noissimrep ssenlli denniks...  \n"
     ]
    }
   ],
   "source": [
    "import pandas as pd\n",
    "\n",
    "train_path = \"./../data/train.csv\"\n",
    "test_path = \"./../data/test.csv\"\n",
    "\n",
    "train_df = pd.read_csv(train_path)\n",
    "test_df = pd.read_csv(test_path)\n",
    "\n",
    "print(\"Train shape:\", train_df.shape)\n",
    "print(\"Test shape:\", test_df.shape)\n",
    "\n",
    "print(\"\\nTrain head:\")\n",
    "print(train_df.head())\n",
    "\n",
    "print(\"\\nTest head:\")\n",
    "print(test_df.head())"
   ]
  },
  {
   "cell_type": "markdown",
   "id": "51648900",
   "metadata": {},
   "source": [
    "# BLT Transformer"
   ]
  },
  {
   "cell_type": "code",
   "execution_count": 35,
   "id": "5a75530c",
   "metadata": {},
   "outputs": [
    {
     "name": "stdout",
     "output_type": "stream",
     "text": [
      "✅ Using MPS (Apple Silicon GPU)\n"
     ]
    }
   ],
   "source": [
    "import torch\n",
    "\n",
    "if torch.backends.mps.is_available():\n",
    "    device = torch.device(\"mps\")\n",
    "    print(\"✅ Using MPS (Apple Silicon GPU)\")\n",
    "else:\n",
    "    device = torch.device(\"cpu\")\n",
    "    print(\"⚠️ MPS not available, falling back to CPU\")"
   ]
  },
  {
   "cell_type": "markdown",
   "id": "e996c3a4",
   "metadata": {},
   "source": [
    "## Patcher (entropy-based segmentation)"
   ]
  },
  {
   "cell_type": "markdown",
   "id": "19fb0d88",
   "metadata": {},
   "source": [
    "**Shannon Entropy Function**\n",
    "\n",
    "Helper to compute entropy of a sequence of characters.\n",
    "\n",
    "H = - \\sum p(x) \\cdot \\log_2(p(x))"
   ]
  },
  {
   "cell_type": "code",
   "execution_count": 36,
   "id": "82277daf",
   "metadata": {},
   "outputs": [],
   "source": [
    "import math\n",
    "from collections import Counter\n",
    "\n",
    "def shannon_entropy(text: str) -> float:\n",
    "    \"\"\"Compute Shannon entropy of a string.\"\"\"\n",
    "    if not text:\n",
    "        return 0.0\n",
    "    counts = Counter(text)\n",
    "    probs = [count / len(text) for count in counts.values()]\n",
    "    return -sum(p * math.log2(p) for p in probs)"
   ]
  },
  {
   "cell_type": "markdown",
   "id": "77e0b387",
   "metadata": {},
   "source": [
    "**Patcher Function**\n",
    "\n",
    "- Use sliding window of size W=10.\n",
    "- Keep adding characters to current patch until either:\n",
    "    - Entropy > threshold(2.0)\n",
    "    - Patch length > 15\n",
    "- Then start a new patch."
   ]
  },
  {
   "cell_type": "code",
   "execution_count": 37,
   "id": "38e3a66f",
   "metadata": {},
   "outputs": [],
   "source": [
    "def patchify(text: str, window_size=12, entropy_threshold=2.5, max_patch_len=20):\n",
    "    patches = []\n",
    "    current_patch = \"\"\n",
    "\n",
    "    for ch in text:\n",
    "        current_patch += ch\n",
    "\n",
    "        # Compute entropy only when window_size reached\n",
    "        entropy = (\n",
    "            shannon_entropy(current_patch[-window_size:])\n",
    "            if len(current_patch) >= window_size else 0\n",
    "        )\n",
    "\n",
    "        # Split condition: high entropy OR too long\n",
    "        if entropy > entropy_threshold or len(current_patch) >= max_patch_len:\n",
    "            if current_patch.strip():\n",
    "                patches.append(current_patch.strip())\n",
    "            current_patch = \"\"\n",
    "\n",
    "    # Add leftover patch\n",
    "    if current_patch.strip():\n",
    "        patches.append(current_patch.strip())\n",
    "\n",
    "    return patches"
   ]
  },
  {
   "cell_type": "markdown",
   "id": "d14303cb",
   "metadata": {},
   "source": [
    "**Test Patcher**"
   ]
  },
  {
   "cell_type": "code",
   "execution_count": 38,
   "id": "957e4446",
   "metadata": {},
   "outputs": [
    {
     "name": "stdout",
     "output_type": "stream",
     "text": [
      "\n",
      "Text: reconciliation trolls realized scene\n",
      "Patches: ['reconciliati', 'on trolls re', 'alized scene']\n",
      "\n",
      "Text: LMA is fun!\n",
      "Patches: ['LMA is fun!']\n",
      "\n",
      "Text: aaaaabbbbbcccccddddd\n",
      "Patches: ['aaaaabbbbbcccccddddd']\n"
     ]
    }
   ],
   "source": [
    "sample_texts = [\n",
    "    \"reconciliation trolls realized scene\", # High entropy, more splits\n",
    "    \"LMA is fun!\", # Based on threshold, may not split\n",
    "    \"aaaaabbbbbcccccddddd\"  # low entropy predictable\n",
    "]\n",
    "\n",
    "for txt in sample_texts:\n",
    "    patches = patchify(txt)\n",
    "    print(f\"\\nText: {txt}\")\n",
    "    print(\"Patches:\", patches)"
   ]
  },
  {
   "cell_type": "markdown",
   "id": "e6433b9b",
   "metadata": {},
   "source": [
    "## Hash N-Gram Embeddings\n",
    "\n",
    "1. Extract all n-grams (n=1,2,3) from each patch.\n",
    "2. Map each n-gram into a bucket in [0, 4095].\n",
    "3. Use an embedding lookup table (nn.Embedding) to get a 64-d vector.\n",
    "4. Sum all vectors → final patch embedding (shape = [64])."
   ]
  },
  {
   "cell_type": "markdown",
   "id": "a2b7888f",
   "metadata": {},
   "source": [
    "**Hash Function**"
   ]
  },
  {
   "cell_type": "code",
   "execution_count": 39,
   "id": "934382cc",
   "metadata": {},
   "outputs": [],
   "source": [
    "import hashlib\n",
    "\n",
    "def hash_ngram(ngram: str, num_buckets=4096) -> int:\n",
    "    \"\"\"Hash an n-gram string into a bucket [0, num_buckets-1].\"\"\"\n",
    "    return int(hashlib.md5(ngram.encode(\"utf-8\")).hexdigest(), 16) % num_buckets"
   ]
  },
  {
   "cell_type": "markdown",
   "id": "dc1af6fd",
   "metadata": {},
   "source": [
    "**N-Gram Extraction**"
   ]
  },
  {
   "cell_type": "code",
   "execution_count": 40,
   "id": "5d4f8101",
   "metadata": {},
   "outputs": [],
   "source": [
    "def extract_ngrams(text: str, n: int):\n",
    "    return [text[i:i+n] for i in range(len(text)-n+1)]"
   ]
  },
  {
   "cell_type": "markdown",
   "id": "844bc8a1",
   "metadata": {},
   "source": [
    "**Patch Embedding Module**"
   ]
  },
  {
   "cell_type": "code",
   "execution_count": 41,
   "id": "eaee92ff",
   "metadata": {},
   "outputs": [],
   "source": [
    "import torch\n",
    "import torch.nn as nn\n",
    "\n",
    "class PatchEmbedder(nn.Module):\n",
    "    def __init__(self, num_buckets=4096, embed_dim=64):\n",
    "        super().__init__()\n",
    "        self.embeddings = nn.ModuleDict({\n",
    "            \"1\": nn.Embedding(num_buckets, embed_dim),\n",
    "            \"2\": nn.Embedding(num_buckets, embed_dim),\n",
    "            \"3\": nn.Embedding(num_buckets, embed_dim),\n",
    "        })\n",
    "        # Xavier init\n",
    "        for emb in self.embeddings.values():\n",
    "            nn.init.xavier_uniform_(emb.weight)\n",
    "\n",
    "        self.num_buckets = num_buckets\n",
    "        self.embed_dim = embed_dim\n",
    "\n",
    "    def forward(self, patch: str):\n",
    "        \"\"\"Convert one patch string into a [embed_dim] vector.\"\"\"\n",
    "        vectors = []\n",
    "        # get device from embedding params\n",
    "        device = next(self.embeddings[\"1\"].parameters()).device  \n",
    "\n",
    "        for n in [1, 2, 3]:\n",
    "            ngrams = extract_ngrams(patch, n)\n",
    "            for ng in ngrams:\n",
    "                bucket = hash_ngram(ng, self.num_buckets)\n",
    "                idx = torch.tensor(bucket, dtype=torch.long, device=device)\n",
    "                vectors.append(self.embeddings[str(n)](idx))\n",
    "\n",
    "        if len(vectors) == 0:\n",
    "            return torch.zeros(self.embed_dim, device=device)\n",
    "\n",
    "        return torch.stack(vectors, dim=0).sum(dim=0)  # sum across n-grams"
   ]
  },
  {
   "cell_type": "markdown",
   "id": "0350e4c9",
   "metadata": {},
   "source": [
    "**Test It on Sample Patches**"
   ]
  },
  {
   "cell_type": "code",
   "execution_count": 42,
   "id": "61d18f42",
   "metadata": {},
   "outputs": [
    {
     "name": "stdout",
     "output_type": "stream",
     "text": [
      "Device: mps\n",
      "Patch: reconcilia | Embedding shape: torch.Size([64])\n",
      "Patch: tion troll | Embedding shape: torch.Size([64])\n",
      "Patch: s realized | Embedding shape: torch.Size([64])\n",
      "Patch:  scene | Embedding shape: torch.Size([64])\n"
     ]
    }
   ],
   "source": [
    "device = torch.device(\"mps\" if torch.backends.mps.is_available() else \"cpu\")\n",
    "embedder = PatchEmbedder().to(device)\n",
    "\n",
    "sample_patches = [\"reconcilia\", \"tion troll\", \"s realized\", \" scene\"]\n",
    "\n",
    "print(f\"Device: {device}\")\n",
    "\n",
    "for patch in sample_patches:\n",
    "    vec = embedder(patch)\n",
    "    print(f\"Patch: {patch} | Embedding shape: {vec.shape}\")"
   ]
  },
  {
   "cell_type": "markdown",
   "id": "a104ee9f",
   "metadata": {},
   "source": [
    "## BLT Dataset Class\n",
    "\n",
    "This dataset will:\n",
    "1. Read train.csv / test.csv.\n",
    "2. For each row:\n",
    "    - Take input string → apply patchify → embed patches into [seq_len, 64].\n",
    "    - Take target string → here we’ll keep it character-level for decoder supervision (simpler than patching the output).\n",
    "3. Return tensors for (src_seq, tgt_seq)."
   ]
  },
  {
   "cell_type": "code",
   "execution_count": 43,
   "id": "b6c261c2",
   "metadata": {},
   "outputs": [],
   "source": [
    "import torch\n",
    "from torch.utils.data import Dataset\n",
    "import pandas as pd\n",
    "\n",
    "PRINTABLE_ASCII = [chr(i) for i in range(32, 127)]\n",
    "VOCAB = ['<PAD>', '<SOS>', '<EOS>'] + PRINTABLE_ASCII # PAD=0, SOS=1, EOS=2\n",
    "\n",
    "# Mapping from character to index\n",
    "CHAR_TO_IDX = {ch: i for i, ch in enumerate(VOCAB)}\n",
    "PAD_IDX = CHAR_TO_IDX['<PAD>']\n",
    "SOS_IDX = CHAR_TO_IDX['<SOS>']\n",
    "EOS_IDX = CHAR_TO_IDX['<EOS>']\n",
    "\n",
    "\n",
    "class BLTDataset(Dataset):\n",
    "    def __init__(self, csv_path, window_size=12, entropy_threshold=2.5, max_patch_len=20):\n",
    "        self.data = pd.read_csv(csv_path)\n",
    "        self.window_size = window_size\n",
    "        self.entropy_threshold = entropy_threshold\n",
    "        self.max_patch_len = max_patch_len\n",
    "\n",
    "    def __len__(self):\n",
    "        return len(self.data)\n",
    "\n",
    "    def __getitem__(self, idx):\n",
    "        row = self.data.iloc[idx]\n",
    "        inp, tgt = row[\"input\"], row[\"target\"]\n",
    "\n",
    "        patches = patchify(inp, \n",
    "                            window_size=self.window_size,\n",
    "                            entropy_threshold=self.entropy_threshold,\n",
    "                            max_patch_len=self.max_patch_len)\n",
    "\n",
    "        # The vocabulary mapping\n",
    "        tgt_ids = [CHAR_TO_IDX.get(c, PAD_IDX) for c in tgt] \n",
    "        tgt_tensor = torch.tensor([SOS_IDX] + tgt_ids + [EOS_IDX], dtype=torch.long)\n",
    "\n",
    "        return patches, tgt_tensor"
   ]
  },
  {
   "cell_type": "code",
   "execution_count": 44,
   "id": "daa5889d",
   "metadata": {},
   "outputs": [
    {
     "name": "stdout",
     "output_type": "stream",
     "text": [
      "\n",
      "1. Source Data (Input):\n",
      "   - Type: <class 'list'>\n",
      "   - Number of patches: 3\n",
      "   - Patches content (first 5): ['reconciliati', 'on trolls re', 'alized scene']\n",
      "\n",
      "2. Target Data (Output):\n",
      "   - Type: <class 'torch.Tensor'>\n",
      "   - Shape: torch.Size([38])\n",
      "   - Dtype: torch.int64\n",
      "   - Content (first 15 IDs): [1, 72, 81, 72, 70, 86, 3, 71, 72, 93, 76, 79, 68, 72, 85]\n",
      "\n",
      "3. Target String Reconstruction:\n",
      "   - Reconstructed: <SOS>enecs dezilaer sllort noitailicnocer<EOS>\n",
      "   - Original:      <SOS>enecs dezilaer sllort noitailicnocer<EOS>\n"
     ]
    }
   ],
   "source": [
    "IDX_TO_CHAR = {i: ch for ch, i in CHAR_TO_IDX.items()}\n",
    "train_ds = BLTDataset(csv_path=\"./../data/train.csv\")\n",
    "src_patches, tgt_tensor = train_ds[0]\n",
    "\n",
    "print(\"\\n1. Source Data (Input):\")\n",
    "print(f\"   - Type: {type(src_patches)}\")\n",
    "print(f\"   - Number of patches: {len(src_patches)}\")\n",
    "print(f\"   - Patches content (first 5): {src_patches[:5]}\")\n",
    "\n",
    "print(\"\\n2. Target Data (Output):\")\n",
    "print(f\"   - Type: {type(tgt_tensor)}\")\n",
    "print(f\"   - Shape: {tgt_tensor.shape}\")\n",
    "print(f\"   - Dtype: {tgt_tensor.dtype}\")\n",
    "print(f\"   - Content (first 15 IDs): {tgt_tensor[:15].tolist()}\") # .tolist() for clean printing\n",
    "\n",
    "# 3. Check the reconstruction\n",
    "reconstructed_string = \"\".join([IDX_TO_CHAR.get(i.item(), '') for i in tgt_tensor])\n",
    "print(\"\\n3. Target String Reconstruction:\")\n",
    "print(f\"   - Reconstructed: {reconstructed_string}\")\n",
    "\n",
    "original_target = train_df.iloc[0]['target']\n",
    "print(f\"   - Original:      <SOS>{original_target}<EOS>\")"
   ]
  },
  {
   "cell_type": "markdown",
   "id": "2780e7a1",
   "metadata": {},
   "source": [
    "## Collate Function for BLT\n",
    "\n",
    "We’ll:\n",
    "1. Take a batch of (src_seq, tgt_seq).\n",
    "2. Pad src_seq to [batch, max_src_len, 64].\n",
    "3. Pad tgt_seq to [batch, max_tgt_len].\n",
    "4. Return padded tensors + lengths (useful for masking in the model)."
   ]
  },
  {
   "cell_type": "code",
   "execution_count": 45,
   "id": "89b5f12c",
   "metadata": {},
   "outputs": [],
   "source": [
    "from torch.nn.utils.rnn import pad_sequence\n",
    "\n",
    "def blt_collate_fn(batch):\n",
    "    # batch is a list of (patches, tgt_tensor)\n",
    "    src_patches, tgt_seqs = zip(*batch)\n",
    "\n",
    "    # Pad target sequences (char IDs)\n",
    "    tgt_padded = pad_sequence(tgt_seqs, batch_first=True, padding_value=0) # Assuming 0 is PAD_IDX\n",
    "\n",
    "    # The source patches remain a list of lists of strings\n",
    "    # e.g., [ ['patch1', 'patch2'], ['p1', 'p2', 'p3'], ... ]\n",
    "    return list(src_patches), tgt_padded"
   ]
  },
  {
   "cell_type": "code",
   "execution_count": 48,
   "id": "47d6674f",
   "metadata": {},
   "outputs": [
    {
     "name": "stdout",
     "output_type": "stream",
     "text": [
      "Running Sanity Check on DataLoader\n",
      "\n",
      "1. Source Data Batch (Input):\n",
      "   - Type: <class 'list'>\n",
      "   - Length (Batch Size): 8\n",
      "   - Content of first item in batch: ['harrington +', 'm foot live', 'r fossils me', 'lody excite', 'explicitly t', 'rough winger', 's phases par', 'alyzed melt']\n",
      "\n",
      "2. Target Data Batch (Output):\n",
      "   - Type: <class 'torch.Tensor'>\n",
      "   - Shape (Batch Size, Max Target Length): torch.Size([8, 120])\n"
     ]
    }
   ],
   "source": [
    "from torch.utils.data import DataLoader\n",
    "from torch.utils.data import random_split\n",
    "\n",
    "train_size = int(0.9 * len(train_ds))\n",
    "val_size   = len(train_ds) - train_size\n",
    "train_subset, val_subset = random_split(train_ds, [train_size, val_size])\n",
    "\n",
    "train_loader = DataLoader(\n",
    "    train_subset,\n",
    "    batch_size=8,\n",
    "    shuffle=True,\n",
    "    collate_fn=blt_collate_fn\n",
    ")\n",
    "\n",
    "val_loader = DataLoader(\n",
    "    val_subset,\n",
    "    batch_size=4,\n",
    "    shuffle=False,\n",
    "    collate_fn=blt_collate_fn\n",
    ")\n",
    "\n",
    "print(\"Running Sanity Check on DataLoader\")\n",
    "src_patches_batch, tgt_padded_batch = next(iter(train_loader))\n",
    "\n",
    "print(\"\\n1. Source Data Batch (Input):\")\n",
    "print(f\"   - Type: {type(src_patches_batch)}\")\n",
    "print(f\"   - Length (Batch Size): {len(src_patches_batch)}\")\n",
    "print(f\"   - Content of first item in batch: {src_patches_batch[0]}\")\n",
    "\n",
    "print(\"\\n2. Target Data Batch (Output):\")\n",
    "print(f\"   - Type: {type(tgt_padded_batch)}\")\n",
    "print(f\"   - Shape (Batch Size, Max Target Length): {tgt_padded_batch.shape}\")"
   ]
  },
  {
   "cell_type": "markdown",
   "id": "0b1b0951",
   "metadata": {},
   "source": [
    "## BLT Model Architecture\n",
    "\n",
    "Core Idea:\n",
    "1. Encoder: Take patch embeddings [B, L, 64], map into hidden dimension with a transformer encoder.\n",
    "2. Decoder: Generate characters (IDs) step by step using a transformer decoder.\n",
    "3. Output layer: Linear projection → vocab size."
   ]
  },
  {
   "cell_type": "code",
   "execution_count": 50,
   "id": "40936686",
   "metadata": {},
   "outputs": [],
   "source": [
    "import torch\n",
    "import torch.nn as nn\n",
    "import math\n",
    "\n",
    "class PositionalEncoding(nn.Module):\n",
    "    def __init__(self, d_model: int, dropout: float = 0.1, max_len: int = 5000):\n",
    "        super().__init__()\n",
    "        self.dropout = nn.Dropout(p=dropout)\n",
    "\n",
    "        position = torch.arange(max_len).unsqueeze(1)\n",
    "        div_term = torch.exp(torch.arange(0, d_model, 2) * (-math.log(10000.0) / d_model))\n",
    "        pe = torch.zeros(max_len, 1, d_model)\n",
    "        pe[:, 0, 0::2] = torch.sin(position * div_term)\n",
    "        pe[:, 0, 1::2] = torch.cos(position * div_term)\n",
    "        self.register_buffer('pe', pe)\n",
    "\n",
    "    def forward(self, x: torch.Tensor) -> torch.Tensor:\n",
    "        \"\"\"\n",
    "        Args:\n",
    "            x: Tensor, shape [batch_size, seq_len, embedding_dim]\n",
    "        \"\"\"\n",
    "        # Note: In our implementation, we use batch_first=True, so the shape is [B, L, D].\n",
    "        # The stored pe is [max_len, 1, D]. We need to adjust it for batch.\n",
    "        x = x + self.pe[:x.size(1)].transpose(0, 1) # Transpose to [1, L, D] to broadcast\n",
    "        return self.dropout(x)"
   ]
  },
  {
   "cell_type": "code",
   "execution_count": 59,
   "id": "f28faa30",
   "metadata": {},
   "outputs": [],
   "source": [
    "from torch.nn.utils.rnn import pad_sequence\n",
    "\n",
    "# Assume PatchEmbedder, PositionalEncoding, and helper functions are defined above\n",
    "\n",
    "class BLTModel(nn.Module):\n",
    "    def __init__(self, vocab_size, d_model=64, nhead=4, dropout=0.1):\n",
    "        super().__init__()\n",
    "        \n",
    "        self.d_model = d_model\n",
    "        self.patch_embedder = PatchEmbedder(num_buckets=4096, embed_dim=d_model)\n",
    "        self.global_token = nn.Parameter(torch.randn(1, 1, d_model))\n",
    "        self.tgt_embed = nn.Embedding(vocab_size, d_model)\n",
    "        self.pos_encoder = PositionalEncoding(d_model, dropout=dropout)\n",
    "\n",
    "        # --- ARCHITECTURE (1-1-2 STRUCTURE) ---\n",
    "        # 1. ENCODER (1 Block)\n",
    "        encoder_layer = nn.TransformerEncoderLayer(\n",
    "            d_model=d_model, nhead=nhead, dim_feedforward=d_model*4, \n",
    "            dropout=dropout, batch_first=True\n",
    "        )\n",
    "        # FIX: Added 'enable_nested_tensor=False' for MPS compatibility\n",
    "        self.encoder = nn.TransformerEncoder(encoder_layer, num_layers=1, enable_nested_tensor=False)\n",
    "\n",
    "        # 2. GLOBAL TRANSFORMER (2 Blocks)\n",
    "        global_layer = nn.TransformerEncoderLayer(\n",
    "            d_model=d_model, nhead=nhead, dim_feedforward=d_model*4,\n",
    "            dropout=dropout, batch_first=True\n",
    "        )\n",
    "        # FIX: Added 'enable_nested_tensor=False' for MPS compatibility\n",
    "        self.global_transformer = nn.TransformerEncoder(global_layer, num_layers=2, enable_nested_tensor=False)\n",
    "\n",
    "        # 3. DECODER (1 Block)\n",
    "        decoder_layer = nn.TransformerDecoderLayer(\n",
    "            d_model=d_model, nhead=nhead, dim_feedforward=d_model*4,\n",
    "            dropout=dropout, batch_first=True\n",
    "        )\n",
    "        self.decoder = nn.TransformerDecoder(decoder_layer, num_layers=1)\n",
    "\n",
    "        # --- FINAL OUTPUT LAYER ---\n",
    "        self.norm = nn.LayerNorm(d_model)\n",
    "        self.output_proj = nn.Linear(d_model, vocab_size)\n",
    "\n",
    "    def forward(self, src_patches_batch, tgt_inp, tgt_pad_mask=None):\n",
    "        # src_patches_batch: A list (size B) of lists of patch strings\n",
    "        # tgt_inp: [B, Lt] (character IDs for teacher forcing)\n",
    "        \n",
    "        device = self.global_token.device\n",
    "\n",
    "        # --- 1. Get Patch Embeddings and Pad ---\n",
    "        batch_embeddings = []\n",
    "        for patch_list in src_patches_batch:\n",
    "            if not patch_list:\n",
    "                sample_emb = torch.zeros(1, self.d_model, device=device)\n",
    "            else:\n",
    "                sample_emb = torch.stack([self.patch_embedder(p) for p in patch_list])\n",
    "            batch_embeddings.append(sample_emb)\n",
    "        \n",
    "        src_emb = pad_sequence(batch_embeddings, batch_first=True, padding_value=0.0)\n",
    "        B, Ls, _ = src_emb.shape\n",
    "\n",
    "        # --- 2. Prepend Global Token ---\n",
    "        global_token_batch = self.global_token.expand(B, -1, -1)\n",
    "        encoder_input = torch.cat([global_token_batch, src_emb], dim=1)\n",
    "        encoder_input = self.pos_encoder(encoder_input)\n",
    "\n",
    "        # --- 3. Pass through 1-Block Encoder ---\n",
    "        src_key_padding_mask = (torch.cat([\n",
    "            torch.zeros(B, 1, device=device), # Mask for global token is False\n",
    "            src_emb.sum(dim=-1) == 0 # Mask for padded patches is True\n",
    "        ], dim=1)).bool()\n",
    "        \n",
    "        encoder_output = self.encoder(encoder_input, src_key_padding_mask=src_key_padding_mask)\n",
    "\n",
    "        # --- 4. Isolate Global Token and Pass through 2-Block Global Transformer ---\n",
    "        global_context = encoder_output[:, 0:1, :]\n",
    "        memory = self.global_transformer(global_context)\n",
    "\n",
    "        # --- 5. Pass through 1-Block Decoder ---\n",
    "        tgt_emb = self.pos_encoder(self.tgt_embed(tgt_inp))\n",
    "        causal_mask = nn.Transformer.generate_square_subsequent_mask(tgt_inp.size(1)).to(device)\n",
    "        \n",
    "        decoder_output = self.decoder(\n",
    "            tgt=tgt_emb,\n",
    "            memory=memory,\n",
    "            tgt_mask=causal_mask,\n",
    "            tgt_key_padding_mask=tgt_pad_mask\n",
    "        )\n",
    "        \n",
    "        # --- 6. Final Projection ---\n",
    "        normalized_output = self.norm(decoder_output)\n",
    "        logits = self.output_proj(normalized_output)\n",
    "        \n",
    "        return logits"
   ]
  },
  {
   "cell_type": "code",
   "execution_count": 60,
   "id": "e965f57a",
   "metadata": {},
   "outputs": [
    {
     "name": "stdout",
     "output_type": "stream",
     "text": [
      "--- Final Model Sanity Check ---\n",
      "Logits shape: torch.Size([8, 133, 98])\n",
      "Expected shape: (8, 133, 98)\n",
      "\n",
      "✅ Shapes are correct and ready for the training loop!\n"
     ]
    },
    {
     "name": "stderr",
     "output_type": "stream",
     "text": [
      "/Library/Frameworks/Python.framework/Versions/3.13/lib/python3.13/site-packages/torch/nn/functional.py:6041: UserWarning: Support for mismatched key_padding_mask and attn_mask is deprecated. Use same type for both instead.\n",
      "  warnings.warn(\n"
     ]
    }
   ],
   "source": [
    "# Assume your vocab (VOCAB, PAD_IDX), dataloaders, and model classes are defined above\n",
    "\n",
    "# --- Step 1: Correct the Hyperparameters ---\n",
    "# The vocabulary is printable ASCII (95 chars) + 3 special tokens, not 256.\n",
    "VOCAB_SIZE = len(VOCAB) # This should be 98\n",
    "D_MODEL = 64            # As per the assignment [cite: 22]\n",
    "N_HEAD = 4\n",
    "DROPOUT = 0.1\n",
    "device = torch.device(\"mps\" if torch.backends.mps.is_available() else \"cpu\")\n",
    "\n",
    "# --- Step 2: Correct the Model Instantiation ---\n",
    "# Use the new model's argument names (vocab_size, d_model, etc.)\n",
    "model = BLTModel(\n",
    "    vocab_size=VOCAB_SIZE,\n",
    "    d_model=D_MODEL,\n",
    "    nhead=N_HEAD,\n",
    "    dropout=DROPOUT\n",
    ").to(device)\n",
    "\n",
    "\n",
    "# --- Step 3: Correct the Batch Handling and Model Call ---\n",
    "\n",
    "# Fetch a single batch from your train_loader\n",
    "# Unpack the 2 items returned by your collate_fn: a list of patches and a padded tensor\n",
    "src_patches_batch, tgt_padded_batch = next(iter(train_loader))\n",
    "tgt_padded_batch = tgt_padded_batch.to(device)\n",
    "\n",
    "# Prepare for Teacher Forcing\n",
    "tgt_inp = tgt_padded_batch[:, :-1]  # All but the last token\n",
    "tgt_out = tgt_padded_batch[:, 1:]   # All but the first token\n",
    "\n",
    "# Create the padding mask for the decoder input\n",
    "tgt_pad_mask = (tgt_inp == PAD_IDX)\n",
    "\n",
    "# Call the model with the correct arguments for the new forward pass\n",
    "# (a list of patches, the input tensor, and the padding mask)\n",
    "logits = model(src_patches_batch, tgt_inp, tgt_pad_mask)\n",
    "\n",
    "\n",
    "# --- Step 4: Check the Output Shape ---\n",
    "print(\"--- Final Model Sanity Check ---\")\n",
    "print(f\"Logits shape: {logits.shape}\")\n",
    "print(f\"Expected shape: ({tgt_out.shape[0]}, {tgt_out.shape[1]}, {VOCAB_SIZE})\")\n",
    "\n",
    "assert logits.shape[0] == tgt_out.shape[0]\n",
    "assert logits.shape[1] == tgt_out.shape[1]\n",
    "assert logits.shape[2] == VOCAB_SIZE\n",
    "print(\"\\n✅ Shapes are correct and ready for the training loop!\")"
   ]
  },
  {
   "cell_type": "markdown",
   "id": "c25767bd",
   "metadata": {},
   "source": [
    "## Training Loop + Checkpoints\n",
    "\n",
    "We’ll set up:\n",
    "1. Loss = CrossEntropyLoss(ignore_index=0) (ignores PAD tokens).\n",
    "2. Optimizer = Adam.\n",
    "3. Training loop with logging.\n",
    "4. Checkpoint saving (state_dict, optimizer, epoch, loss)."
   ]
  },
  {
   "cell_type": "code",
   "execution_count": 61,
   "id": "361dc301",
   "metadata": {},
   "outputs": [],
   "source": [
    "import torch\n",
    "import torch.nn as nn\n",
    "import torch.optim as optim\n",
    "import os\n",
    "import math\n",
    "from torch.nn.utils import clip_grad_norm_\n",
    "from tqdm.auto import tqdm\n",
    "\n",
    "# ----------------------------\n",
    "# Training loop for BLT model\n",
    "# ----------------------------\n",
    "def train_blt(\n",
    "    model, \n",
    "    train_loader, \n",
    "    val_loader,\n",
    "    num_epochs,\n",
    "    lr,\n",
    "    device,\n",
    "    save_every,\n",
    "    resume_path=None\n",
    "):\n",
    "    print(f\"Training on: {device}\")\n",
    "    model = model.to(device)\n",
    "    optimizer = optim.Adam(model.parameters(), lr=lr)\n",
    "    criterion = nn.CrossEntropyLoss(ignore_index=PAD_IDX) # Use your defined PAD_IDX\n",
    "    scheduler = torch.optim.lr_scheduler.ReduceLROnPlateau(optimizer, \"min\", factor=0.5, patience=5)\n",
    "    os.makedirs(\"checkpoints\", exist_ok=True)\n",
    "\n",
    "    # Resume\n",
    "    start_epoch = 1\n",
    "    if resume_path and os.path.exists(resume_path):\n",
    "        print(f\"🔄 Resuming from checkpoint: {resume_path}\")\n",
    "        checkpoint = torch.load(resume_path, map_location=device)\n",
    "        model.load_state_dict(checkpoint[\"model_state\"])\n",
    "        optimizer.load_state_dict(checkpoint[\"optimizer_state\"])\n",
    "        start_epoch = checkpoint[\"epoch\"] + 1\n",
    "        if \"scheduler_state\" in checkpoint:\n",
    "            scheduler.load_state_dict(checkpoint[\"scheduler_state\"])\n",
    "        print(f\"✅ Resumed from epoch {checkpoint['epoch']} (loss {checkpoint['loss']:.4f})\")\n",
    "\n",
    "    for epoch in range(start_epoch, num_epochs + 1):\n",
    "        model.train()\n",
    "        total_loss = 0.0\n",
    "        total_tokens = 0\n",
    "        \n",
    "        progress_bar = tqdm(train_loader, desc=f\"Epoch {epoch}/{num_epochs} [Training]\")\n",
    "\n",
    "        for src_patches, tgt_padded in progress_bar:\n",
    "            tgt_padded = tgt_padded.to(device)\n",
    "            tgt_inp = tgt_padded[:, :-1]\n",
    "            tgt_out = tgt_padded[:, 1:]\n",
    "            tgt_pad_mask = (tgt_inp == PAD_IDX)\n",
    "\n",
    "            logits = model(src_patches, tgt_inp, tgt_pad_mask)\n",
    "            loss = criterion(logits.reshape(-1, logits.shape[-1]), tgt_out.reshape(-1))\n",
    "\n",
    "            optimizer.zero_grad()\n",
    "            loss.backward()\n",
    "            clip_grad_norm_(model.parameters(), max_norm=1.0)\n",
    "            optimizer.step()\n",
    "\n",
    "            total_loss += loss.item() * tgt_out.numel()\n",
    "            total_tokens += tgt_out.numel()\n",
    "\n",
    "        avg_loss = total_loss / total_tokens if total_tokens > 0 else 0\n",
    "        print(f\"\\n📘 Epoch {epoch}/{num_epochs} - Train Loss: {avg_loss:.4f}\")\n",
    "\n",
    "        val_loss, val_acc = evaluate(model, val_loader, criterion, device)\n",
    "        perplexity = math.exp(val_loss) if val_loss < 100 else float('inf')\n",
    "        print(f\"📗 Validation - Loss: {val_loss:.4f}, Perplexity: {perplexity:.2f}, Token Acc: {val_acc:.2f}%\")\n",
    "        \n",
    "        scheduler.step(val_loss)\n",
    "\n",
    "        # Save checkpoint\n",
    "        if epoch % save_every == 0 or epoch == num_epochs:\n",
    "            ckpt_path = f\"checkpoints/blt_epoch{epoch}.pt\"\n",
    "            torch.save({ \"epoch\": epoch, \"model_state\": model.state_dict(), \"optimizer_state\": optimizer.state_dict(), \"scheduler_state\": scheduler.state_dict(), \"loss\": avg_loss }, ckpt_path)\n",
    "            print(f\"✅ Saved checkpoint: {ckpt_path}\")\n",
    "\n",
    "@torch.no_grad()\n",
    "def evaluate(model, val_loader, criterion, device):\n",
    "    model.eval()\n",
    "    total_loss = 0.0\n",
    "    total_tokens = 0\n",
    "    correct_tokens = 0\n",
    "\n",
    "    progress_bar = tqdm(val_loader, desc=\"Validating\")\n",
    "\n",
    "    for src_patches, tgt_padded in progress_bar:\n",
    "        tgt_padded = tgt_padded.to(device)\n",
    "        tgt_inp = tgt_padded[:, :-1]\n",
    "        tgt_out = tgt_padded[:, 1:]\n",
    "        tgt_pad_mask = (tgt_inp == PAD_IDX)\n",
    "        \n",
    "        logits = model(src_patches, tgt_inp, tgt_pad_mask)\n",
    "        loss = criterion(logits.reshape(-1, logits.shape[-1]), tgt_out.reshape(-1))\n",
    "        \n",
    "        total_loss += loss.item() * (tgt_out != PAD_IDX).sum().item() # Count non-padded tokens for loss\n",
    "        \n",
    "        preds = logits.argmax(dim=-1)\n",
    "        mask = (tgt_out != PAD_IDX)\n",
    "        correct_tokens += ((preds == tgt_out) & mask).sum().item()\n",
    "        total_tokens += mask.sum().item()\n",
    "\n",
    "    avg_loss = total_loss / total_tokens if total_tokens > 0 else 0\n",
    "    accuracy = 100.0 * correct_tokens / total_tokens if total_tokens > 0 else 0\n",
    "    return avg_loss, accuracy"
   ]
  },
  {
   "cell_type": "code",
   "execution_count": null,
   "id": "8b94386c",
   "metadata": {},
   "outputs": [
    {
     "name": "stdout",
     "output_type": "stream",
     "text": [
      "Training on: mps\n",
      "🔄 Resuming from checkpoint: checkpoints/blt_epoch168.pt\n",
      "✅ Resumed from epoch 168 (loss 2.1115)\n"
     ]
    },
    {
     "data": {
      "application/vnd.jupyter.widget-view+json": {
       "model_id": "6df0fae8b0a4468fb92345e71f396b06",
       "version_major": 2,
       "version_minor": 0
      },
      "text/plain": [
       "Epoch 169/1000 [Training]:   0%|          | 0/1125 [00:00<?, ?it/s]"
      ]
     },
     "metadata": {},
     "output_type": "display_data"
    },
    {
     "name": "stdout",
     "output_type": "stream",
     "text": [
      "\n",
      "📘 Epoch 169/1000 - Train Loss: 2.1094\n"
     ]
    },
    {
     "data": {
      "application/vnd.jupyter.widget-view+json": {
       "model_id": "e41c2652eb304915b3a54bdcecb14817",
       "version_major": 2,
       "version_minor": 0
      },
      "text/plain": [
       "Validating:   0%|          | 0/250 [00:00<?, ?it/s]"
      ]
     },
     "metadata": {},
     "output_type": "display_data"
    },
    {
     "name": "stdout",
     "output_type": "stream",
     "text": [
      "📗 Validation - Loss: 1.9817, Perplexity: 7.26, Token Acc: 38.97%\n"
     ]
    },
    {
     "data": {
      "application/vnd.jupyter.widget-view+json": {
       "model_id": "08e09a7493fe4d9189eb2aa58deca171",
       "version_major": 2,
       "version_minor": 0
      },
      "text/plain": [
       "Epoch 170/1000 [Training]:   0%|          | 0/1125 [00:00<?, ?it/s]"
      ]
     },
     "metadata": {},
     "output_type": "display_data"
    },
    {
     "name": "stdout",
     "output_type": "stream",
     "text": [
      "\n",
      "📘 Epoch 170/1000 - Train Loss: 2.1093\n"
     ]
    },
    {
     "data": {
      "application/vnd.jupyter.widget-view+json": {
       "model_id": "3edb2822d6a249a184f278624bdf5ac2",
       "version_major": 2,
       "version_minor": 0
      },
      "text/plain": [
       "Validating:   0%|          | 0/250 [00:00<?, ?it/s]"
      ]
     },
     "metadata": {},
     "output_type": "display_data"
    },
    {
     "name": "stdout",
     "output_type": "stream",
     "text": [
      "📗 Validation - Loss: 1.9826, Perplexity: 7.26, Token Acc: 38.86%\n",
      "✅ Saved checkpoint: checkpoints/blt_epoch170.pt\n"
     ]
    },
    {
     "data": {
      "application/vnd.jupyter.widget-view+json": {
       "model_id": "ca733283bb6346318287e7654bf94795",
       "version_major": 2,
       "version_minor": 0
      },
      "text/plain": [
       "Epoch 171/1000 [Training]:   0%|          | 0/1125 [00:00<?, ?it/s]"
      ]
     },
     "metadata": {},
     "output_type": "display_data"
    },
    {
     "name": "stdout",
     "output_type": "stream",
     "text": [
      "\n",
      "📘 Epoch 171/1000 - Train Loss: 2.1088\n"
     ]
    },
    {
     "data": {
      "application/vnd.jupyter.widget-view+json": {
       "model_id": "70fb746bad2146ccb4b9e875eebe0e73",
       "version_major": 2,
       "version_minor": 0
      },
      "text/plain": [
       "Validating:   0%|          | 0/250 [00:00<?, ?it/s]"
      ]
     },
     "metadata": {},
     "output_type": "display_data"
    },
    {
     "name": "stdout",
     "output_type": "stream",
     "text": [
      "📗 Validation - Loss: 1.9796, Perplexity: 7.24, Token Acc: 39.09%\n"
     ]
    },
    {
     "data": {
      "application/vnd.jupyter.widget-view+json": {
       "model_id": "cd240e73f6d24be2a0a72ed33e87874b",
       "version_major": 2,
       "version_minor": 0
      },
      "text/plain": [
       "Epoch 172/1000 [Training]:   0%|          | 0/1125 [00:00<?, ?it/s]"
      ]
     },
     "metadata": {},
     "output_type": "display_data"
    },
    {
     "name": "stdout",
     "output_type": "stream",
     "text": [
      "\n",
      "📘 Epoch 172/1000 - Train Loss: 2.1083\n"
     ]
    },
    {
     "data": {
      "application/vnd.jupyter.widget-view+json": {
       "model_id": "c0e19f93a26846b9bcd58ddc34d020fb",
       "version_major": 2,
       "version_minor": 0
      },
      "text/plain": [
       "Validating:   0%|          | 0/250 [00:00<?, ?it/s]"
      ]
     },
     "metadata": {},
     "output_type": "display_data"
    },
    {
     "name": "stdout",
     "output_type": "stream",
     "text": [
      "📗 Validation - Loss: 1.9807, Perplexity: 7.25, Token Acc: 38.95%\n",
      "✅ Saved checkpoint: checkpoints/blt_epoch172.pt\n"
     ]
    },
    {
     "data": {
      "application/vnd.jupyter.widget-view+json": {
       "model_id": "ca157b16a49c427a84015b0fb49f124e",
       "version_major": 2,
       "version_minor": 0
      },
      "text/plain": [
       "Epoch 173/1000 [Training]:   0%|          | 0/1125 [00:00<?, ?it/s]"
      ]
     },
     "metadata": {},
     "output_type": "display_data"
    },
    {
     "name": "stdout",
     "output_type": "stream",
     "text": [
      "\n",
      "📘 Epoch 173/1000 - Train Loss: 2.1085\n"
     ]
    },
    {
     "data": {
      "application/vnd.jupyter.widget-view+json": {
       "model_id": "cbe3569e9f7142729819968b418b5495",
       "version_major": 2,
       "version_minor": 0
      },
      "text/plain": [
       "Validating:   0%|          | 0/250 [00:00<?, ?it/s]"
      ]
     },
     "metadata": {},
     "output_type": "display_data"
    },
    {
     "name": "stdout",
     "output_type": "stream",
     "text": [
      "📗 Validation - Loss: 1.9775, Perplexity: 7.22, Token Acc: 39.19%\n"
     ]
    },
    {
     "data": {
      "application/vnd.jupyter.widget-view+json": {
       "model_id": "ae6587474e904072afa80a4fae037bba",
       "version_major": 2,
       "version_minor": 0
      },
      "text/plain": [
       "Epoch 174/1000 [Training]:   0%|          | 0/1125 [00:00<?, ?it/s]"
      ]
     },
     "metadata": {},
     "output_type": "display_data"
    },
    {
     "name": "stdout",
     "output_type": "stream",
     "text": [
      "\n",
      "📘 Epoch 174/1000 - Train Loss: 2.1071\n"
     ]
    },
    {
     "data": {
      "application/vnd.jupyter.widget-view+json": {
       "model_id": "4364fecf711b40d8bd1739efa622c70a",
       "version_major": 2,
       "version_minor": 0
      },
      "text/plain": [
       "Validating:   0%|          | 0/250 [00:00<?, ?it/s]"
      ]
     },
     "metadata": {},
     "output_type": "display_data"
    },
    {
     "name": "stdout",
     "output_type": "stream",
     "text": [
      "📗 Validation - Loss: 1.9788, Perplexity: 7.23, Token Acc: 38.98%\n",
      "✅ Saved checkpoint: checkpoints/blt_epoch174.pt\n"
     ]
    },
    {
     "data": {
      "application/vnd.jupyter.widget-view+json": {
       "model_id": "99d370a8439d47cc9b7e56aaddfb59e0",
       "version_major": 2,
       "version_minor": 0
      },
      "text/plain": [
       "Epoch 175/1000 [Training]:   0%|          | 0/1125 [00:00<?, ?it/s]"
      ]
     },
     "metadata": {},
     "output_type": "display_data"
    },
    {
     "name": "stdout",
     "output_type": "stream",
     "text": [
      "\n",
      "📘 Epoch 175/1000 - Train Loss: 2.1062\n"
     ]
    },
    {
     "data": {
      "application/vnd.jupyter.widget-view+json": {
       "model_id": "e6aac48914864a0790a97230ec3e3ee9",
       "version_major": 2,
       "version_minor": 0
      },
      "text/plain": [
       "Validating:   0%|          | 0/250 [00:00<?, ?it/s]"
      ]
     },
     "metadata": {},
     "output_type": "display_data"
    },
    {
     "name": "stdout",
     "output_type": "stream",
     "text": [
      "📗 Validation - Loss: 1.9780, Perplexity: 7.23, Token Acc: 39.06%\n"
     ]
    },
    {
     "data": {
      "application/vnd.jupyter.widget-view+json": {
       "model_id": "5ae99e06c94e4194b358b1e8511e4e20",
       "version_major": 2,
       "version_minor": 0
      },
      "text/plain": [
       "Epoch 176/1000 [Training]:   0%|          | 0/1125 [00:00<?, ?it/s]"
      ]
     },
     "metadata": {},
     "output_type": "display_data"
    },
    {
     "name": "stdout",
     "output_type": "stream",
     "text": [
      "\n",
      "📘 Epoch 176/1000 - Train Loss: 2.1055\n"
     ]
    },
    {
     "data": {
      "application/vnd.jupyter.widget-view+json": {
       "model_id": "571ef0becd734dae991413c8be5300fa",
       "version_major": 2,
       "version_minor": 0
      },
      "text/plain": [
       "Validating:   0%|          | 0/250 [00:00<?, ?it/s]"
      ]
     },
     "metadata": {},
     "output_type": "display_data"
    },
    {
     "name": "stdout",
     "output_type": "stream",
     "text": [
      "📗 Validation - Loss: 1.9764, Perplexity: 7.22, Token Acc: 39.08%\n",
      "✅ Saved checkpoint: checkpoints/blt_epoch176.pt\n"
     ]
    },
    {
     "data": {
      "application/vnd.jupyter.widget-view+json": {
       "model_id": "90ba913c1fe84d5c90ac4f0410580a08",
       "version_major": 2,
       "version_minor": 0
      },
      "text/plain": [
       "Epoch 177/1000 [Training]:   0%|          | 0/1125 [00:00<?, ?it/s]"
      ]
     },
     "metadata": {},
     "output_type": "display_data"
    },
    {
     "name": "stdout",
     "output_type": "stream",
     "text": [
      "\n",
      "📘 Epoch 177/1000 - Train Loss: 2.1037\n"
     ]
    },
    {
     "data": {
      "application/vnd.jupyter.widget-view+json": {
       "model_id": "99f2f63c50ec4a52afa61911f630bbd9",
       "version_major": 2,
       "version_minor": 0
      },
      "text/plain": [
       "Validating:   0%|          | 0/250 [00:00<?, ?it/s]"
      ]
     },
     "metadata": {},
     "output_type": "display_data"
    },
    {
     "name": "stdout",
     "output_type": "stream",
     "text": [
      "📗 Validation - Loss: 1.9750, Perplexity: 7.21, Token Acc: 39.16%\n"
     ]
    },
    {
     "data": {
      "application/vnd.jupyter.widget-view+json": {
       "model_id": "f5eb9cc2b1c54eae9157c3e43f3a6a14",
       "version_major": 2,
       "version_minor": 0
      },
      "text/plain": [
       "Epoch 178/1000 [Training]:   0%|          | 0/1125 [00:00<?, ?it/s]"
      ]
     },
     "metadata": {},
     "output_type": "display_data"
    },
    {
     "name": "stdout",
     "output_type": "stream",
     "text": [
      "\n",
      "📘 Epoch 178/1000 - Train Loss: 2.1051\n"
     ]
    },
    {
     "data": {
      "application/vnd.jupyter.widget-view+json": {
       "model_id": "16bb66be028248b9b985eee5656b529c",
       "version_major": 2,
       "version_minor": 0
      },
      "text/plain": [
       "Validating:   0%|          | 0/250 [00:00<?, ?it/s]"
      ]
     },
     "metadata": {},
     "output_type": "display_data"
    },
    {
     "name": "stdout",
     "output_type": "stream",
     "text": [
      "📗 Validation - Loss: 1.9743, Perplexity: 7.20, Token Acc: 39.02%\n",
      "✅ Saved checkpoint: checkpoints/blt_epoch178.pt\n"
     ]
    },
    {
     "data": {
      "application/vnd.jupyter.widget-view+json": {
       "model_id": "cda5272dc1124f329f8274a00d706956",
       "version_major": 2,
       "version_minor": 0
      },
      "text/plain": [
       "Epoch 179/1000 [Training]:   0%|          | 0/1125 [00:00<?, ?it/s]"
      ]
     },
     "metadata": {},
     "output_type": "display_data"
    },
    {
     "name": "stdout",
     "output_type": "stream",
     "text": [
      "\n",
      "📘 Epoch 179/1000 - Train Loss: 2.1045\n"
     ]
    },
    {
     "data": {
      "application/vnd.jupyter.widget-view+json": {
       "model_id": "3f0d9c4ca63043b7a6e44b215a952dd8",
       "version_major": 2,
       "version_minor": 0
      },
      "text/plain": [
       "Validating:   0%|          | 0/250 [00:00<?, ?it/s]"
      ]
     },
     "metadata": {},
     "output_type": "display_data"
    },
    {
     "name": "stdout",
     "output_type": "stream",
     "text": [
      "📗 Validation - Loss: 1.9745, Perplexity: 7.20, Token Acc: 39.11%\n"
     ]
    },
    {
     "data": {
      "application/vnd.jupyter.widget-view+json": {
       "model_id": "58ccc8f9642f400c83c74f466d9d6226",
       "version_major": 2,
       "version_minor": 0
      },
      "text/plain": [
       "Epoch 180/1000 [Training]:   0%|          | 0/1125 [00:00<?, ?it/s]"
      ]
     },
     "metadata": {},
     "output_type": "display_data"
    },
    {
     "name": "stdout",
     "output_type": "stream",
     "text": [
      "\n",
      "📘 Epoch 180/1000 - Train Loss: 2.1036\n"
     ]
    },
    {
     "data": {
      "application/vnd.jupyter.widget-view+json": {
       "model_id": "da2271ae15274eac84526cbd4e3df29c",
       "version_major": 2,
       "version_minor": 0
      },
      "text/plain": [
       "Validating:   0%|          | 0/250 [00:00<?, ?it/s]"
      ]
     },
     "metadata": {},
     "output_type": "display_data"
    },
    {
     "name": "stdout",
     "output_type": "stream",
     "text": [
      "📗 Validation - Loss: 1.9750, Perplexity: 7.21, Token Acc: 39.21%\n",
      "✅ Saved checkpoint: checkpoints/blt_epoch180.pt\n"
     ]
    },
    {
     "data": {
      "application/vnd.jupyter.widget-view+json": {
       "model_id": "f1c919af3e69401d858e0482844ae731",
       "version_major": 2,
       "version_minor": 0
      },
      "text/plain": [
       "Epoch 181/1000 [Training]:   0%|          | 0/1125 [00:00<?, ?it/s]"
      ]
     },
     "metadata": {},
     "output_type": "display_data"
    },
    {
     "name": "stdout",
     "output_type": "stream",
     "text": [
      "\n",
      "📘 Epoch 181/1000 - Train Loss: 2.1015\n"
     ]
    },
    {
     "data": {
      "application/vnd.jupyter.widget-view+json": {
       "model_id": "f2ff3027c7dc4bd88d6432a8288f123d",
       "version_major": 2,
       "version_minor": 0
      },
      "text/plain": [
       "Validating:   0%|          | 0/250 [00:00<?, ?it/s]"
      ]
     },
     "metadata": {},
     "output_type": "display_data"
    },
    {
     "name": "stdout",
     "output_type": "stream",
     "text": [
      "📗 Validation - Loss: 1.9715, Perplexity: 7.18, Token Acc: 39.29%\n"
     ]
    },
    {
     "data": {
      "application/vnd.jupyter.widget-view+json": {
       "model_id": "a33bb7ba79274b4c9d14ae337b618b3d",
       "version_major": 2,
       "version_minor": 0
      },
      "text/plain": [
       "Epoch 182/1000 [Training]:   0%|          | 0/1125 [00:00<?, ?it/s]"
      ]
     },
     "metadata": {},
     "output_type": "display_data"
    },
    {
     "name": "stdout",
     "output_type": "stream",
     "text": [
      "\n",
      "📘 Epoch 182/1000 - Train Loss: 2.1019\n"
     ]
    },
    {
     "data": {
      "application/vnd.jupyter.widget-view+json": {
       "model_id": "73532f58a1e34040a320ce85b3abe000",
       "version_major": 2,
       "version_minor": 0
      },
      "text/plain": [
       "Validating:   0%|          | 0/250 [00:00<?, ?it/s]"
      ]
     },
     "metadata": {},
     "output_type": "display_data"
    },
    {
     "name": "stdout",
     "output_type": "stream",
     "text": [
      "📗 Validation - Loss: 1.9718, Perplexity: 7.18, Token Acc: 39.16%\n",
      "✅ Saved checkpoint: checkpoints/blt_epoch182.pt\n"
     ]
    },
    {
     "data": {
      "application/vnd.jupyter.widget-view+json": {
       "model_id": "150f22691970477ab81ecf9091b5a8d8",
       "version_major": 2,
       "version_minor": 0
      },
      "text/plain": [
       "Epoch 183/1000 [Training]:   0%|          | 0/1125 [00:00<?, ?it/s]"
      ]
     },
     "metadata": {},
     "output_type": "display_data"
    },
    {
     "name": "stdout",
     "output_type": "stream",
     "text": [
      "\n",
      "📘 Epoch 183/1000 - Train Loss: 2.1014\n"
     ]
    },
    {
     "data": {
      "application/vnd.jupyter.widget-view+json": {
       "model_id": "48ec63a0ecf344f894c428bc6c2d469d",
       "version_major": 2,
       "version_minor": 0
      },
      "text/plain": [
       "Validating:   0%|          | 0/250 [00:00<?, ?it/s]"
      ]
     },
     "metadata": {},
     "output_type": "display_data"
    },
    {
     "name": "stdout",
     "output_type": "stream",
     "text": [
      "📗 Validation - Loss: 1.9717, Perplexity: 7.18, Token Acc: 39.01%\n"
     ]
    },
    {
     "data": {
      "application/vnd.jupyter.widget-view+json": {
       "model_id": "b0194070f6d0493a89d9c35230ba79ae",
       "version_major": 2,
       "version_minor": 0
      },
      "text/plain": [
       "Epoch 184/1000 [Training]:   0%|          | 0/1125 [00:00<?, ?it/s]"
      ]
     },
     "metadata": {},
     "output_type": "display_data"
    },
    {
     "name": "stdout",
     "output_type": "stream",
     "text": [
      "\n",
      "📘 Epoch 184/1000 - Train Loss: 2.1007\n"
     ]
    },
    {
     "data": {
      "application/vnd.jupyter.widget-view+json": {
       "model_id": "caa69656f51a4f2dbe9926566a489dac",
       "version_major": 2,
       "version_minor": 0
      },
      "text/plain": [
       "Validating:   0%|          | 0/250 [00:00<?, ?it/s]"
      ]
     },
     "metadata": {},
     "output_type": "display_data"
    },
    {
     "name": "stdout",
     "output_type": "stream",
     "text": [
      "📗 Validation - Loss: 1.9704, Perplexity: 7.17, Token Acc: 39.20%\n",
      "✅ Saved checkpoint: checkpoints/blt_epoch184.pt\n"
     ]
    },
    {
     "data": {
      "application/vnd.jupyter.widget-view+json": {
       "model_id": "2fe2709987af4131812bdfeed3fce8ef",
       "version_major": 2,
       "version_minor": 0
      },
      "text/plain": [
       "Epoch 185/1000 [Training]:   0%|          | 0/1125 [00:00<?, ?it/s]"
      ]
     },
     "metadata": {},
     "output_type": "display_data"
    },
    {
     "name": "stdout",
     "output_type": "stream",
     "text": [
      "\n",
      "📘 Epoch 185/1000 - Train Loss: 2.1004\n"
     ]
    },
    {
     "data": {
      "application/vnd.jupyter.widget-view+json": {
       "model_id": "2f1cd9502dc24dfaa14fa8c545548989",
       "version_major": 2,
       "version_minor": 0
      },
      "text/plain": [
       "Validating:   0%|          | 0/250 [00:00<?, ?it/s]"
      ]
     },
     "metadata": {},
     "output_type": "display_data"
    },
    {
     "name": "stdout",
     "output_type": "stream",
     "text": [
      "📗 Validation - Loss: 1.9689, Perplexity: 7.16, Token Acc: 39.25%\n"
     ]
    },
    {
     "data": {
      "application/vnd.jupyter.widget-view+json": {
       "model_id": "2b778d0b863a47f2876cc3d6c708c696",
       "version_major": 2,
       "version_minor": 0
      },
      "text/plain": [
       "Epoch 186/1000 [Training]:   0%|          | 0/1125 [00:00<?, ?it/s]"
      ]
     },
     "metadata": {},
     "output_type": "display_data"
    },
    {
     "name": "stdout",
     "output_type": "stream",
     "text": [
      "\n",
      "📘 Epoch 186/1000 - Train Loss: 2.0994\n"
     ]
    },
    {
     "data": {
      "application/vnd.jupyter.widget-view+json": {
       "model_id": "2c7fedc7dd7b4fd2a64a5de26fd8b916",
       "version_major": 2,
       "version_minor": 0
      },
      "text/plain": [
       "Validating:   0%|          | 0/250 [00:00<?, ?it/s]"
      ]
     },
     "metadata": {},
     "output_type": "display_data"
    },
    {
     "name": "stdout",
     "output_type": "stream",
     "text": [
      "📗 Validation - Loss: 1.9695, Perplexity: 7.17, Token Acc: 39.27%\n",
      "✅ Saved checkpoint: checkpoints/blt_epoch186.pt\n"
     ]
    },
    {
     "data": {
      "application/vnd.jupyter.widget-view+json": {
       "model_id": "1688d5a893a543cc98ed57a8b5eee4b7",
       "version_major": 2,
       "version_minor": 0
      },
      "text/plain": [
       "Epoch 187/1000 [Training]:   0%|          | 0/1125 [00:00<?, ?it/s]"
      ]
     },
     "metadata": {},
     "output_type": "display_data"
    },
    {
     "name": "stdout",
     "output_type": "stream",
     "text": [
      "\n",
      "📘 Epoch 187/1000 - Train Loss: 2.0986\n"
     ]
    },
    {
     "data": {
      "application/vnd.jupyter.widget-view+json": {
       "model_id": "06a876a3a08245aaa55fef42fd8118b2",
       "version_major": 2,
       "version_minor": 0
      },
      "text/plain": [
       "Validating:   0%|          | 0/250 [00:00<?, ?it/s]"
      ]
     },
     "metadata": {},
     "output_type": "display_data"
    },
    {
     "name": "stdout",
     "output_type": "stream",
     "text": [
      "📗 Validation - Loss: 1.9689, Perplexity: 7.16, Token Acc: 39.24%\n"
     ]
    },
    {
     "data": {
      "application/vnd.jupyter.widget-view+json": {
       "model_id": "e47c18f847bc41bca8c7e8b70772f7bb",
       "version_major": 2,
       "version_minor": 0
      },
      "text/plain": [
       "Epoch 188/1000 [Training]:   0%|          | 0/1125 [00:00<?, ?it/s]"
      ]
     },
     "metadata": {},
     "output_type": "display_data"
    },
    {
     "name": "stdout",
     "output_type": "stream",
     "text": [
      "\n",
      "📘 Epoch 188/1000 - Train Loss: 2.0996\n"
     ]
    },
    {
     "data": {
      "application/vnd.jupyter.widget-view+json": {
       "model_id": "0eddf006f91544d9a2b2dcc0f2f78cef",
       "version_major": 2,
       "version_minor": 0
      },
      "text/plain": [
       "Validating:   0%|          | 0/250 [00:00<?, ?it/s]"
      ]
     },
     "metadata": {},
     "output_type": "display_data"
    },
    {
     "name": "stdout",
     "output_type": "stream",
     "text": [
      "📗 Validation - Loss: 1.9673, Perplexity: 7.15, Token Acc: 39.29%\n",
      "✅ Saved checkpoint: checkpoints/blt_epoch188.pt\n"
     ]
    },
    {
     "data": {
      "application/vnd.jupyter.widget-view+json": {
       "model_id": "b2a0d44254b548b6b945aa99cbb74292",
       "version_major": 2,
       "version_minor": 0
      },
      "text/plain": [
       "Epoch 189/1000 [Training]:   0%|          | 0/1125 [00:00<?, ?it/s]"
      ]
     },
     "metadata": {},
     "output_type": "display_data"
    },
    {
     "name": "stdout",
     "output_type": "stream",
     "text": [
      "\n",
      "📘 Epoch 189/1000 - Train Loss: 2.0974\n"
     ]
    },
    {
     "data": {
      "application/vnd.jupyter.widget-view+json": {
       "model_id": "c868d500f85b4534adde864540430f3b",
       "version_major": 2,
       "version_minor": 0
      },
      "text/plain": [
       "Validating:   0%|          | 0/250 [00:00<?, ?it/s]"
      ]
     },
     "metadata": {},
     "output_type": "display_data"
    },
    {
     "name": "stdout",
     "output_type": "stream",
     "text": [
      "📗 Validation - Loss: 1.9669, Perplexity: 7.15, Token Acc: 39.22%\n"
     ]
    },
    {
     "data": {
      "application/vnd.jupyter.widget-view+json": {
       "model_id": "d9a986beb3e84cc59239cbae044596c9",
       "version_major": 2,
       "version_minor": 0
      },
      "text/plain": [
       "Epoch 190/1000 [Training]:   0%|          | 0/1125 [00:00<?, ?it/s]"
      ]
     },
     "metadata": {},
     "output_type": "display_data"
    },
    {
     "name": "stdout",
     "output_type": "stream",
     "text": [
      "\n",
      "📘 Epoch 190/1000 - Train Loss: 2.0976\n"
     ]
    },
    {
     "data": {
      "application/vnd.jupyter.widget-view+json": {
       "model_id": "7055dffc169d46e1885aac9e6d565ca7",
       "version_major": 2,
       "version_minor": 0
      },
      "text/plain": [
       "Validating:   0%|          | 0/250 [00:00<?, ?it/s]"
      ]
     },
     "metadata": {},
     "output_type": "display_data"
    },
    {
     "name": "stdout",
     "output_type": "stream",
     "text": [
      "📗 Validation - Loss: 1.9669, Perplexity: 7.15, Token Acc: 39.19%\n",
      "✅ Saved checkpoint: checkpoints/blt_epoch190.pt\n"
     ]
    },
    {
     "data": {
      "application/vnd.jupyter.widget-view+json": {
       "model_id": "c725377bee94414b9565ce455ff927ce",
       "version_major": 2,
       "version_minor": 0
      },
      "text/plain": [
       "Epoch 191/1000 [Training]:   0%|          | 0/1125 [00:00<?, ?it/s]"
      ]
     },
     "metadata": {},
     "output_type": "display_data"
    },
    {
     "name": "stdout",
     "output_type": "stream",
     "text": [
      "\n",
      "📘 Epoch 191/1000 - Train Loss: 2.0976\n"
     ]
    },
    {
     "data": {
      "application/vnd.jupyter.widget-view+json": {
       "model_id": "b3577609aa1d49be92d92df556944800",
       "version_major": 2,
       "version_minor": 0
      },
      "text/plain": [
       "Validating:   0%|          | 0/250 [00:00<?, ?it/s]"
      ]
     },
     "metadata": {},
     "output_type": "display_data"
    },
    {
     "name": "stdout",
     "output_type": "stream",
     "text": [
      "📗 Validation - Loss: 1.9653, Perplexity: 7.14, Token Acc: 39.35%\n"
     ]
    },
    {
     "data": {
      "application/vnd.jupyter.widget-view+json": {
       "model_id": "f7748a022c87490baed76894781cd38b",
       "version_major": 2,
       "version_minor": 0
      },
      "text/plain": [
       "Epoch 192/1000 [Training]:   0%|          | 0/1125 [00:00<?, ?it/s]"
      ]
     },
     "metadata": {},
     "output_type": "display_data"
    },
    {
     "name": "stdout",
     "output_type": "stream",
     "text": [
      "\n",
      "📘 Epoch 192/1000 - Train Loss: 2.0971\n"
     ]
    },
    {
     "data": {
      "application/vnd.jupyter.widget-view+json": {
       "model_id": "1cd56ba2185a47a8b9a08044a39929dc",
       "version_major": 2,
       "version_minor": 0
      },
      "text/plain": [
       "Validating:   0%|          | 0/250 [00:00<?, ?it/s]"
      ]
     },
     "metadata": {},
     "output_type": "display_data"
    },
    {
     "name": "stdout",
     "output_type": "stream",
     "text": [
      "📗 Validation - Loss: 1.9646, Perplexity: 7.13, Token Acc: 39.32%\n",
      "✅ Saved checkpoint: checkpoints/blt_epoch192.pt\n"
     ]
    },
    {
     "data": {
      "application/vnd.jupyter.widget-view+json": {
       "model_id": "ce04eb6518874fb7a747de5d87dfe914",
       "version_major": 2,
       "version_minor": 0
      },
      "text/plain": [
       "Epoch 193/1000 [Training]:   0%|          | 0/1125 [00:00<?, ?it/s]"
      ]
     },
     "metadata": {},
     "output_type": "display_data"
    },
    {
     "name": "stdout",
     "output_type": "stream",
     "text": [
      "\n",
      "📘 Epoch 193/1000 - Train Loss: 2.0963\n"
     ]
    },
    {
     "data": {
      "application/vnd.jupyter.widget-view+json": {
       "model_id": "06abdd88e5184c0f9273519c8c9bda8a",
       "version_major": 2,
       "version_minor": 0
      },
      "text/plain": [
       "Validating:   0%|          | 0/250 [00:00<?, ?it/s]"
      ]
     },
     "metadata": {},
     "output_type": "display_data"
    },
    {
     "name": "stdout",
     "output_type": "stream",
     "text": [
      "📗 Validation - Loss: 1.9642, Perplexity: 7.13, Token Acc: 39.31%\n"
     ]
    },
    {
     "data": {
      "application/vnd.jupyter.widget-view+json": {
       "model_id": "c8818eaee72b4320bb520e26302e2807",
       "version_major": 2,
       "version_minor": 0
      },
      "text/plain": [
       "Epoch 194/1000 [Training]:   0%|          | 0/1125 [00:00<?, ?it/s]"
      ]
     },
     "metadata": {},
     "output_type": "display_data"
    },
    {
     "name": "stdout",
     "output_type": "stream",
     "text": [
      "\n",
      "📘 Epoch 194/1000 - Train Loss: 2.0967\n"
     ]
    },
    {
     "data": {
      "application/vnd.jupyter.widget-view+json": {
       "model_id": "e89beb22581b47b7918ce28815f2494a",
       "version_major": 2,
       "version_minor": 0
      },
      "text/plain": [
       "Validating:   0%|          | 0/250 [00:00<?, ?it/s]"
      ]
     },
     "metadata": {},
     "output_type": "display_data"
    },
    {
     "name": "stdout",
     "output_type": "stream",
     "text": [
      "📗 Validation - Loss: 1.9646, Perplexity: 7.13, Token Acc: 39.41%\n",
      "✅ Saved checkpoint: checkpoints/blt_epoch194.pt\n"
     ]
    },
    {
     "data": {
      "application/vnd.jupyter.widget-view+json": {
       "model_id": "a3de80e81676464bb2a01ee8985b746f",
       "version_major": 2,
       "version_minor": 0
      },
      "text/plain": [
       "Epoch 195/1000 [Training]:   0%|          | 0/1125 [00:00<?, ?it/s]"
      ]
     },
     "metadata": {},
     "output_type": "display_data"
    },
    {
     "name": "stdout",
     "output_type": "stream",
     "text": [
      "\n",
      "📘 Epoch 195/1000 - Train Loss: 2.0950\n"
     ]
    },
    {
     "data": {
      "application/vnd.jupyter.widget-view+json": {
       "model_id": "4b643d0ae5744413bd79f68062c6abe9",
       "version_major": 2,
       "version_minor": 0
      },
      "text/plain": [
       "Validating:   0%|          | 0/250 [00:00<?, ?it/s]"
      ]
     },
     "metadata": {},
     "output_type": "display_data"
    },
    {
     "name": "stdout",
     "output_type": "stream",
     "text": [
      "📗 Validation - Loss: 1.9636, Perplexity: 7.12, Token Acc: 39.35%\n"
     ]
    },
    {
     "data": {
      "application/vnd.jupyter.widget-view+json": {
       "model_id": "8f06f865ea9d470886ae5e16aaea0d24",
       "version_major": 2,
       "version_minor": 0
      },
      "text/plain": [
       "Epoch 196/1000 [Training]:   0%|          | 0/1125 [00:00<?, ?it/s]"
      ]
     },
     "metadata": {},
     "output_type": "display_data"
    },
    {
     "name": "stdout",
     "output_type": "stream",
     "text": [
      "\n",
      "📘 Epoch 196/1000 - Train Loss: 2.0943\n"
     ]
    },
    {
     "data": {
      "application/vnd.jupyter.widget-view+json": {
       "model_id": "9b9a43f25e3c42859bda6dc7e4bf3350",
       "version_major": 2,
       "version_minor": 0
      },
      "text/plain": [
       "Validating:   0%|          | 0/250 [00:00<?, ?it/s]"
      ]
     },
     "metadata": {},
     "output_type": "display_data"
    },
    {
     "name": "stdout",
     "output_type": "stream",
     "text": [
      "📗 Validation - Loss: 1.9611, Perplexity: 7.11, Token Acc: 39.45%\n",
      "✅ Saved checkpoint: checkpoints/blt_epoch196.pt\n"
     ]
    },
    {
     "data": {
      "application/vnd.jupyter.widget-view+json": {
       "model_id": "3da28a5ec1eb47a4bb407e0b500d787d",
       "version_major": 2,
       "version_minor": 0
      },
      "text/plain": [
       "Epoch 197/1000 [Training]:   0%|          | 0/1125 [00:00<?, ?it/s]"
      ]
     },
     "metadata": {},
     "output_type": "display_data"
    },
    {
     "name": "stdout",
     "output_type": "stream",
     "text": [
      "\n",
      "📘 Epoch 197/1000 - Train Loss: 2.0946\n"
     ]
    },
    {
     "data": {
      "application/vnd.jupyter.widget-view+json": {
       "model_id": "790327cd76f7481197ce0a62aa8f76e6",
       "version_major": 2,
       "version_minor": 0
      },
      "text/plain": [
       "Validating:   0%|          | 0/250 [00:00<?, ?it/s]"
      ]
     },
     "metadata": {},
     "output_type": "display_data"
    },
    {
     "name": "stdout",
     "output_type": "stream",
     "text": [
      "📗 Validation - Loss: 1.9623, Perplexity: 7.12, Token Acc: 39.40%\n"
     ]
    },
    {
     "data": {
      "application/vnd.jupyter.widget-view+json": {
       "model_id": "bf23e616e3964cdda9a8ac704ac29b4d",
       "version_major": 2,
       "version_minor": 0
      },
      "text/plain": [
       "Epoch 198/1000 [Training]:   0%|          | 0/1125 [00:00<?, ?it/s]"
      ]
     },
     "metadata": {},
     "output_type": "display_data"
    },
    {
     "name": "stdout",
     "output_type": "stream",
     "text": [
      "\n",
      "📘 Epoch 198/1000 - Train Loss: 2.0935\n"
     ]
    },
    {
     "data": {
      "application/vnd.jupyter.widget-view+json": {
       "model_id": "e5cc72bbd02346598082d56ee5c6225f",
       "version_major": 2,
       "version_minor": 0
      },
      "text/plain": [
       "Validating:   0%|          | 0/250 [00:00<?, ?it/s]"
      ]
     },
     "metadata": {},
     "output_type": "display_data"
    },
    {
     "name": "stdout",
     "output_type": "stream",
     "text": [
      "📗 Validation - Loss: 1.9598, Perplexity: 7.10, Token Acc: 39.53%\n",
      "✅ Saved checkpoint: checkpoints/blt_epoch198.pt\n"
     ]
    },
    {
     "data": {
      "application/vnd.jupyter.widget-view+json": {
       "model_id": "d2936a9324f849be8f1f3f36cad494e7",
       "version_major": 2,
       "version_minor": 0
      },
      "text/plain": [
       "Epoch 199/1000 [Training]:   0%|          | 0/1125 [00:00<?, ?it/s]"
      ]
     },
     "metadata": {},
     "output_type": "display_data"
    },
    {
     "name": "stdout",
     "output_type": "stream",
     "text": [
      "\n",
      "📘 Epoch 199/1000 - Train Loss: 2.0922\n"
     ]
    },
    {
     "data": {
      "application/vnd.jupyter.widget-view+json": {
       "model_id": "e2641c6bcd144902ae4d705911dff3c1",
       "version_major": 2,
       "version_minor": 0
      },
      "text/plain": [
       "Validating:   0%|          | 0/250 [00:00<?, ?it/s]"
      ]
     },
     "metadata": {},
     "output_type": "display_data"
    },
    {
     "name": "stdout",
     "output_type": "stream",
     "text": [
      "📗 Validation - Loss: 1.9607, Perplexity: 7.10, Token Acc: 39.33%\n"
     ]
    },
    {
     "data": {
      "application/vnd.jupyter.widget-view+json": {
       "model_id": "d0d4a68f12974887a77a596b6fd24b67",
       "version_major": 2,
       "version_minor": 0
      },
      "text/plain": [
       "Epoch 200/1000 [Training]:   0%|          | 0/1125 [00:00<?, ?it/s]"
      ]
     },
     "metadata": {},
     "output_type": "display_data"
    },
    {
     "name": "stdout",
     "output_type": "stream",
     "text": [
      "\n",
      "📘 Epoch 200/1000 - Train Loss: 2.0922\n"
     ]
    },
    {
     "data": {
      "application/vnd.jupyter.widget-view+json": {
       "model_id": "aff3a5e4fe4347c2866e94b097553656",
       "version_major": 2,
       "version_minor": 0
      },
      "text/plain": [
       "Validating:   0%|          | 0/250 [00:00<?, ?it/s]"
      ]
     },
     "metadata": {},
     "output_type": "display_data"
    },
    {
     "name": "stdout",
     "output_type": "stream",
     "text": [
      "📗 Validation - Loss: 1.9608, Perplexity: 7.10, Token Acc: 39.38%\n",
      "✅ Saved checkpoint: checkpoints/blt_epoch200.pt\n"
     ]
    },
    {
     "data": {
      "application/vnd.jupyter.widget-view+json": {
       "model_id": "42b9e5a05c774fef846411186b1bd492",
       "version_major": 2,
       "version_minor": 0
      },
      "text/plain": [
       "Epoch 201/1000 [Training]:   0%|          | 0/1125 [00:00<?, ?it/s]"
      ]
     },
     "metadata": {},
     "output_type": "display_data"
    },
    {
     "name": "stdout",
     "output_type": "stream",
     "text": [
      "\n",
      "📘 Epoch 201/1000 - Train Loss: 2.0929\n"
     ]
    },
    {
     "data": {
      "application/vnd.jupyter.widget-view+json": {
       "model_id": "af76f2471d594ecf950721c606f6355b",
       "version_major": 2,
       "version_minor": 0
      },
      "text/plain": [
       "Validating:   0%|          | 0/250 [00:00<?, ?it/s]"
      ]
     },
     "metadata": {},
     "output_type": "display_data"
    },
    {
     "name": "stdout",
     "output_type": "stream",
     "text": [
      "📗 Validation - Loss: 1.9607, Perplexity: 7.10, Token Acc: 39.36%\n"
     ]
    },
    {
     "data": {
      "application/vnd.jupyter.widget-view+json": {
       "model_id": "831e97f8c6a245a08a964cc6a4236bdb",
       "version_major": 2,
       "version_minor": 0
      },
      "text/plain": [
       "Epoch 202/1000 [Training]:   0%|          | 0/1125 [00:00<?, ?it/s]"
      ]
     },
     "metadata": {},
     "output_type": "display_data"
    },
    {
     "name": "stdout",
     "output_type": "stream",
     "text": [
      "\n",
      "📘 Epoch 202/1000 - Train Loss: 2.0922\n"
     ]
    },
    {
     "data": {
      "application/vnd.jupyter.widget-view+json": {
       "model_id": "99fd50d30a4641e984f6a81dc27a6698",
       "version_major": 2,
       "version_minor": 0
      },
      "text/plain": [
       "Validating:   0%|          | 0/250 [00:00<?, ?it/s]"
      ]
     },
     "metadata": {},
     "output_type": "display_data"
    },
    {
     "name": "stdout",
     "output_type": "stream",
     "text": [
      "📗 Validation - Loss: 1.9580, Perplexity: 7.08, Token Acc: 39.71%\n",
      "✅ Saved checkpoint: checkpoints/blt_epoch202.pt\n"
     ]
    },
    {
     "data": {
      "application/vnd.jupyter.widget-view+json": {
       "model_id": "38b3d15b05904d66adb3d8e12bc21642",
       "version_major": 2,
       "version_minor": 0
      },
      "text/plain": [
       "Epoch 203/1000 [Training]:   0%|          | 0/1125 [00:00<?, ?it/s]"
      ]
     },
     "metadata": {},
     "output_type": "display_data"
    },
    {
     "name": "stdout",
     "output_type": "stream",
     "text": [
      "\n",
      "📘 Epoch 203/1000 - Train Loss: 2.0922\n"
     ]
    },
    {
     "data": {
      "application/vnd.jupyter.widget-view+json": {
       "model_id": "539d0b59d51f4fab97bad1d5035076f2",
       "version_major": 2,
       "version_minor": 0
      },
      "text/plain": [
       "Validating:   0%|          | 0/250 [00:00<?, ?it/s]"
      ]
     },
     "metadata": {},
     "output_type": "display_data"
    },
    {
     "name": "stdout",
     "output_type": "stream",
     "text": [
      "📗 Validation - Loss: 1.9579, Perplexity: 7.08, Token Acc: 39.42%\n"
     ]
    },
    {
     "data": {
      "application/vnd.jupyter.widget-view+json": {
       "model_id": "7b1a84a8568e487e8af27b9dd6b22040",
       "version_major": 2,
       "version_minor": 0
      },
      "text/plain": [
       "Epoch 204/1000 [Training]:   0%|          | 0/1125 [00:00<?, ?it/s]"
      ]
     },
     "metadata": {},
     "output_type": "display_data"
    },
    {
     "name": "stdout",
     "output_type": "stream",
     "text": [
      "\n",
      "📘 Epoch 204/1000 - Train Loss: 2.0914\n"
     ]
    },
    {
     "data": {
      "application/vnd.jupyter.widget-view+json": {
       "model_id": "f55672f3ec8a41caba154d039cd9aa6d",
       "version_major": 2,
       "version_minor": 0
      },
      "text/plain": [
       "Validating:   0%|          | 0/250 [00:00<?, ?it/s]"
      ]
     },
     "metadata": {},
     "output_type": "display_data"
    },
    {
     "name": "stdout",
     "output_type": "stream",
     "text": [
      "📗 Validation - Loss: 1.9568, Perplexity: 7.08, Token Acc: 39.63%\n",
      "✅ Saved checkpoint: checkpoints/blt_epoch204.pt\n"
     ]
    },
    {
     "data": {
      "application/vnd.jupyter.widget-view+json": {
       "model_id": "8318811c72b847a89fe5c9801fab737e",
       "version_major": 2,
       "version_minor": 0
      },
      "text/plain": [
       "Epoch 205/1000 [Training]:   0%|          | 0/1125 [00:00<?, ?it/s]"
      ]
     },
     "metadata": {},
     "output_type": "display_data"
    },
    {
     "name": "stdout",
     "output_type": "stream",
     "text": [
      "\n",
      "📘 Epoch 205/1000 - Train Loss: 2.0905\n"
     ]
    },
    {
     "data": {
      "application/vnd.jupyter.widget-view+json": {
       "model_id": "ec6133e4d7f54b0a925ce3fb503cb4fa",
       "version_major": 2,
       "version_minor": 0
      },
      "text/plain": [
       "Validating:   0%|          | 0/250 [00:00<?, ?it/s]"
      ]
     },
     "metadata": {},
     "output_type": "display_data"
    },
    {
     "name": "stdout",
     "output_type": "stream",
     "text": [
      "📗 Validation - Loss: 1.9570, Perplexity: 7.08, Token Acc: 39.50%\n"
     ]
    },
    {
     "data": {
      "application/vnd.jupyter.widget-view+json": {
       "model_id": "9b681a0867774a8b828442984054900b",
       "version_major": 2,
       "version_minor": 0
      },
      "text/plain": [
       "Epoch 206/1000 [Training]:   0%|          | 0/1125 [00:00<?, ?it/s]"
      ]
     },
     "metadata": {},
     "output_type": "display_data"
    },
    {
     "name": "stdout",
     "output_type": "stream",
     "text": [
      "\n",
      "📘 Epoch 206/1000 - Train Loss: 2.0916\n"
     ]
    },
    {
     "data": {
      "application/vnd.jupyter.widget-view+json": {
       "model_id": "3294c77f8816458a81091e82f384cb26",
       "version_major": 2,
       "version_minor": 0
      },
      "text/plain": [
       "Validating:   0%|          | 0/250 [00:00<?, ?it/s]"
      ]
     },
     "metadata": {},
     "output_type": "display_data"
    },
    {
     "name": "stdout",
     "output_type": "stream",
     "text": [
      "📗 Validation - Loss: 1.9567, Perplexity: 7.08, Token Acc: 39.50%\n",
      "✅ Saved checkpoint: checkpoints/blt_epoch206.pt\n"
     ]
    },
    {
     "data": {
      "application/vnd.jupyter.widget-view+json": {
       "model_id": "81cf39c2fa5a406f87d3f67c450e560d",
       "version_major": 2,
       "version_minor": 0
      },
      "text/plain": [
       "Epoch 207/1000 [Training]:   0%|          | 0/1125 [00:00<?, ?it/s]"
      ]
     },
     "metadata": {},
     "output_type": "display_data"
    },
    {
     "name": "stdout",
     "output_type": "stream",
     "text": [
      "\n",
      "📘 Epoch 207/1000 - Train Loss: 2.0906\n"
     ]
    },
    {
     "data": {
      "application/vnd.jupyter.widget-view+json": {
       "model_id": "57bbf99c60f04a7593b367a223d357ac",
       "version_major": 2,
       "version_minor": 0
      },
      "text/plain": [
       "Validating:   0%|          | 0/250 [00:00<?, ?it/s]"
      ]
     },
     "metadata": {},
     "output_type": "display_data"
    },
    {
     "name": "stdout",
     "output_type": "stream",
     "text": [
      "📗 Validation - Loss: 1.9545, Perplexity: 7.06, Token Acc: 39.67%\n"
     ]
    },
    {
     "data": {
      "application/vnd.jupyter.widget-view+json": {
       "model_id": "7ef2b627f2ed427ab26180eb28c4e226",
       "version_major": 2,
       "version_minor": 0
      },
      "text/plain": [
       "Epoch 208/1000 [Training]:   0%|          | 0/1125 [00:00<?, ?it/s]"
      ]
     },
     "metadata": {},
     "output_type": "display_data"
    },
    {
     "name": "stdout",
     "output_type": "stream",
     "text": [
      "\n",
      "📘 Epoch 208/1000 - Train Loss: 2.0900\n"
     ]
    },
    {
     "data": {
      "application/vnd.jupyter.widget-view+json": {
       "model_id": "70b9240067ce4431bbb2e7f0936cf0e9",
       "version_major": 2,
       "version_minor": 0
      },
      "text/plain": [
       "Validating:   0%|          | 0/250 [00:00<?, ?it/s]"
      ]
     },
     "metadata": {},
     "output_type": "display_data"
    },
    {
     "name": "stdout",
     "output_type": "stream",
     "text": [
      "📗 Validation - Loss: 1.9569, Perplexity: 7.08, Token Acc: 39.63%\n",
      "✅ Saved checkpoint: checkpoints/blt_epoch208.pt\n"
     ]
    },
    {
     "data": {
      "application/vnd.jupyter.widget-view+json": {
       "model_id": "6f70b10c178749c9aac49a5e1cb95e07",
       "version_major": 2,
       "version_minor": 0
      },
      "text/plain": [
       "Epoch 209/1000 [Training]:   0%|          | 0/1125 [00:00<?, ?it/s]"
      ]
     },
     "metadata": {},
     "output_type": "display_data"
    },
    {
     "name": "stdout",
     "output_type": "stream",
     "text": [
      "\n",
      "📘 Epoch 209/1000 - Train Loss: 2.0881\n"
     ]
    },
    {
     "data": {
      "application/vnd.jupyter.widget-view+json": {
       "model_id": "7e3e9156b2d14886a627fcc595727023",
       "version_major": 2,
       "version_minor": 0
      },
      "text/plain": [
       "Validating:   0%|          | 0/250 [00:00<?, ?it/s]"
      ]
     },
     "metadata": {},
     "output_type": "display_data"
    },
    {
     "name": "stdout",
     "output_type": "stream",
     "text": [
      "📗 Validation - Loss: 1.9556, Perplexity: 7.07, Token Acc: 39.69%\n"
     ]
    },
    {
     "data": {
      "application/vnd.jupyter.widget-view+json": {
       "model_id": "da697eb45b034373903f366f8871b8d5",
       "version_major": 2,
       "version_minor": 0
      },
      "text/plain": [
       "Epoch 210/1000 [Training]:   0%|          | 0/1125 [00:00<?, ?it/s]"
      ]
     },
     "metadata": {},
     "output_type": "display_data"
    },
    {
     "name": "stdout",
     "output_type": "stream",
     "text": [
      "\n",
      "📘 Epoch 210/1000 - Train Loss: 2.0875\n"
     ]
    },
    {
     "data": {
      "application/vnd.jupyter.widget-view+json": {
       "model_id": "7f1bcc88ba0849409b973b891048921e",
       "version_major": 2,
       "version_minor": 0
      },
      "text/plain": [
       "Validating:   0%|          | 0/250 [00:00<?, ?it/s]"
      ]
     },
     "metadata": {},
     "output_type": "display_data"
    },
    {
     "name": "stdout",
     "output_type": "stream",
     "text": [
      "📗 Validation - Loss: 1.9521, Perplexity: 7.04, Token Acc: 39.74%\n",
      "✅ Saved checkpoint: checkpoints/blt_epoch210.pt\n"
     ]
    },
    {
     "data": {
      "application/vnd.jupyter.widget-view+json": {
       "model_id": "88f3fa23075d49a29b776d055aed5c19",
       "version_major": 2,
       "version_minor": 0
      },
      "text/plain": [
       "Epoch 211/1000 [Training]:   0%|          | 0/1125 [00:00<?, ?it/s]"
      ]
     },
     "metadata": {},
     "output_type": "display_data"
    },
    {
     "name": "stdout",
     "output_type": "stream",
     "text": [
      "\n",
      "📘 Epoch 211/1000 - Train Loss: 2.0869\n"
     ]
    },
    {
     "data": {
      "application/vnd.jupyter.widget-view+json": {
       "model_id": "dbf987a3053a4be6a2b991d42c65d6d6",
       "version_major": 2,
       "version_minor": 0
      },
      "text/plain": [
       "Validating:   0%|          | 0/250 [00:00<?, ?it/s]"
      ]
     },
     "metadata": {},
     "output_type": "display_data"
    },
    {
     "name": "stdout",
     "output_type": "stream",
     "text": [
      "📗 Validation - Loss: 1.9537, Perplexity: 7.05, Token Acc: 39.68%\n"
     ]
    },
    {
     "data": {
      "application/vnd.jupyter.widget-view+json": {
       "model_id": "d59d61f92e3e45e5829ffc40ef68dac2",
       "version_major": 2,
       "version_minor": 0
      },
      "text/plain": [
       "Epoch 212/1000 [Training]:   0%|          | 0/1125 [00:00<?, ?it/s]"
      ]
     },
     "metadata": {},
     "output_type": "display_data"
    },
    {
     "name": "stdout",
     "output_type": "stream",
     "text": [
      "\n",
      "📘 Epoch 212/1000 - Train Loss: 2.0873\n"
     ]
    },
    {
     "data": {
      "application/vnd.jupyter.widget-view+json": {
       "model_id": "2d25817e328f41e69bc4362f72209720",
       "version_major": 2,
       "version_minor": 0
      },
      "text/plain": [
       "Validating:   0%|          | 0/250 [00:00<?, ?it/s]"
      ]
     },
     "metadata": {},
     "output_type": "display_data"
    },
    {
     "name": "stdout",
     "output_type": "stream",
     "text": [
      "📗 Validation - Loss: 1.9515, Perplexity: 7.04, Token Acc: 39.75%\n",
      "✅ Saved checkpoint: checkpoints/blt_epoch212.pt\n"
     ]
    },
    {
     "data": {
      "application/vnd.jupyter.widget-view+json": {
       "model_id": "ace63e1b4c6446c5ac28a07a4b34c7bb",
       "version_major": 2,
       "version_minor": 0
      },
      "text/plain": [
       "Epoch 213/1000 [Training]:   0%|          | 0/1125 [00:00<?, ?it/s]"
      ]
     },
     "metadata": {},
     "output_type": "display_data"
    },
    {
     "name": "stdout",
     "output_type": "stream",
     "text": [
      "\n",
      "📘 Epoch 213/1000 - Train Loss: 2.0854\n"
     ]
    },
    {
     "data": {
      "application/vnd.jupyter.widget-view+json": {
       "model_id": "d40529d2689b48b69b636171cc586cb1",
       "version_major": 2,
       "version_minor": 0
      },
      "text/plain": [
       "Validating:   0%|          | 0/250 [00:00<?, ?it/s]"
      ]
     },
     "metadata": {},
     "output_type": "display_data"
    },
    {
     "name": "stdout",
     "output_type": "stream",
     "text": [
      "📗 Validation - Loss: 1.9522, Perplexity: 7.04, Token Acc: 39.81%\n"
     ]
    },
    {
     "data": {
      "application/vnd.jupyter.widget-view+json": {
       "model_id": "871260e846a3405caf104b22928e1955",
       "version_major": 2,
       "version_minor": 0
      },
      "text/plain": [
       "Epoch 214/1000 [Training]:   0%|          | 0/1125 [00:00<?, ?it/s]"
      ]
     },
     "metadata": {},
     "output_type": "display_data"
    },
    {
     "name": "stdout",
     "output_type": "stream",
     "text": [
      "\n",
      "📘 Epoch 214/1000 - Train Loss: 2.0856\n"
     ]
    },
    {
     "data": {
      "application/vnd.jupyter.widget-view+json": {
       "model_id": "a9a0a69316d74229bc159a6f892fd874",
       "version_major": 2,
       "version_minor": 0
      },
      "text/plain": [
       "Validating:   0%|          | 0/250 [00:00<?, ?it/s]"
      ]
     },
     "metadata": {},
     "output_type": "display_data"
    },
    {
     "name": "stdout",
     "output_type": "stream",
     "text": [
      "📗 Validation - Loss: 1.9516, Perplexity: 7.04, Token Acc: 39.82%\n",
      "✅ Saved checkpoint: checkpoints/blt_epoch214.pt\n"
     ]
    },
    {
     "data": {
      "application/vnd.jupyter.widget-view+json": {
       "model_id": "adf2e70613a0473d8a31ab34d49fc35e",
       "version_major": 2,
       "version_minor": 0
      },
      "text/plain": [
       "Epoch 215/1000 [Training]:   0%|          | 0/1125 [00:00<?, ?it/s]"
      ]
     },
     "metadata": {},
     "output_type": "display_data"
    },
    {
     "name": "stdout",
     "output_type": "stream",
     "text": [
      "\n",
      "📘 Epoch 215/1000 - Train Loss: 2.0850\n"
     ]
    },
    {
     "data": {
      "application/vnd.jupyter.widget-view+json": {
       "model_id": "2820ade3352b441bb5cce16aa00a3518",
       "version_major": 2,
       "version_minor": 0
      },
      "text/plain": [
       "Validating:   0%|          | 0/250 [00:00<?, ?it/s]"
      ]
     },
     "metadata": {},
     "output_type": "display_data"
    },
    {
     "name": "stdout",
     "output_type": "stream",
     "text": [
      "📗 Validation - Loss: 1.9501, Perplexity: 7.03, Token Acc: 39.75%\n"
     ]
    },
    {
     "data": {
      "application/vnd.jupyter.widget-view+json": {
       "model_id": "2000803685df4b699c64870cd24a2595",
       "version_major": 2,
       "version_minor": 0
      },
      "text/plain": [
       "Epoch 216/1000 [Training]:   0%|          | 0/1125 [00:00<?, ?it/s]"
      ]
     },
     "metadata": {},
     "output_type": "display_data"
    },
    {
     "name": "stdout",
     "output_type": "stream",
     "text": [
      "\n",
      "📘 Epoch 216/1000 - Train Loss: 2.0842\n"
     ]
    },
    {
     "data": {
      "application/vnd.jupyter.widget-view+json": {
       "model_id": "baabf25c52f246d59c86679a0b25feb6",
       "version_major": 2,
       "version_minor": 0
      },
      "text/plain": [
       "Validating:   0%|          | 0/250 [00:00<?, ?it/s]"
      ]
     },
     "metadata": {},
     "output_type": "display_data"
    },
    {
     "name": "stdout",
     "output_type": "stream",
     "text": [
      "📗 Validation - Loss: 1.9496, Perplexity: 7.03, Token Acc: 39.78%\n",
      "✅ Saved checkpoint: checkpoints/blt_epoch216.pt\n"
     ]
    },
    {
     "data": {
      "application/vnd.jupyter.widget-view+json": {
       "model_id": "eb8d9cb3cdab4899ab828d8c81e853e0",
       "version_major": 2,
       "version_minor": 0
      },
      "text/plain": [
       "Epoch 217/1000 [Training]:   0%|          | 0/1125 [00:00<?, ?it/s]"
      ]
     },
     "metadata": {},
     "output_type": "display_data"
    },
    {
     "name": "stdout",
     "output_type": "stream",
     "text": [
      "\n",
      "📘 Epoch 217/1000 - Train Loss: 2.0845\n"
     ]
    },
    {
     "data": {
      "application/vnd.jupyter.widget-view+json": {
       "model_id": "1de2f78adfeb4b9bb8ad029f0f717b9c",
       "version_major": 2,
       "version_minor": 0
      },
      "text/plain": [
       "Validating:   0%|          | 0/250 [00:00<?, ?it/s]"
      ]
     },
     "metadata": {},
     "output_type": "display_data"
    },
    {
     "name": "stdout",
     "output_type": "stream",
     "text": [
      "📗 Validation - Loss: 1.9487, Perplexity: 7.02, Token Acc: 39.95%\n"
     ]
    },
    {
     "data": {
      "application/vnd.jupyter.widget-view+json": {
       "model_id": "2dbf0395c28844139b124039e1ec0d88",
       "version_major": 2,
       "version_minor": 0
      },
      "text/plain": [
       "Epoch 218/1000 [Training]:   0%|          | 0/1125 [00:00<?, ?it/s]"
      ]
     },
     "metadata": {},
     "output_type": "display_data"
    },
    {
     "name": "stdout",
     "output_type": "stream",
     "text": [
      "\n",
      "📘 Epoch 218/1000 - Train Loss: 2.0840\n"
     ]
    },
    {
     "data": {
      "application/vnd.jupyter.widget-view+json": {
       "model_id": "acf32f46f26c4521a0f39ccef499dda0",
       "version_major": 2,
       "version_minor": 0
      },
      "text/plain": [
       "Validating:   0%|          | 0/250 [00:00<?, ?it/s]"
      ]
     },
     "metadata": {},
     "output_type": "display_data"
    },
    {
     "name": "stdout",
     "output_type": "stream",
     "text": [
      "📗 Validation - Loss: 1.9505, Perplexity: 7.03, Token Acc: 39.72%\n",
      "✅ Saved checkpoint: checkpoints/blt_epoch218.pt\n"
     ]
    },
    {
     "data": {
      "application/vnd.jupyter.widget-view+json": {
       "model_id": "48ac9961fd4b4866b472d5a64d1d5c04",
       "version_major": 2,
       "version_minor": 0
      },
      "text/plain": [
       "Epoch 219/1000 [Training]:   0%|          | 0/1125 [00:00<?, ?it/s]"
      ]
     },
     "metadata": {},
     "output_type": "display_data"
    },
    {
     "name": "stdout",
     "output_type": "stream",
     "text": [
      "\n",
      "📘 Epoch 219/1000 - Train Loss: 2.0838\n"
     ]
    },
    {
     "data": {
      "application/vnd.jupyter.widget-view+json": {
       "model_id": "e310564aca4c480986f222cac8b36d32",
       "version_major": 2,
       "version_minor": 0
      },
      "text/plain": [
       "Validating:   0%|          | 0/250 [00:00<?, ?it/s]"
      ]
     },
     "metadata": {},
     "output_type": "display_data"
    },
    {
     "name": "stdout",
     "output_type": "stream",
     "text": [
      "📗 Validation - Loss: 1.9483, Perplexity: 7.02, Token Acc: 39.94%\n"
     ]
    },
    {
     "data": {
      "application/vnd.jupyter.widget-view+json": {
       "model_id": "bfae919c629f4b1cbb7d9c2b5dd17605",
       "version_major": 2,
       "version_minor": 0
      },
      "text/plain": [
       "Epoch 220/1000 [Training]:   0%|          | 0/1125 [00:00<?, ?it/s]"
      ]
     },
     "metadata": {},
     "output_type": "display_data"
    },
    {
     "name": "stdout",
     "output_type": "stream",
     "text": [
      "\n",
      "📘 Epoch 220/1000 - Train Loss: 2.0830\n"
     ]
    },
    {
     "data": {
      "application/vnd.jupyter.widget-view+json": {
       "model_id": "78d56a6904a54869a7641755b849c3cc",
       "version_major": 2,
       "version_minor": 0
      },
      "text/plain": [
       "Validating:   0%|          | 0/250 [00:00<?, ?it/s]"
      ]
     },
     "metadata": {},
     "output_type": "display_data"
    },
    {
     "name": "stdout",
     "output_type": "stream",
     "text": [
      "📗 Validation - Loss: 1.9498, Perplexity: 7.03, Token Acc: 39.77%\n",
      "✅ Saved checkpoint: checkpoints/blt_epoch220.pt\n"
     ]
    },
    {
     "data": {
      "application/vnd.jupyter.widget-view+json": {
       "model_id": "2e8b37d6a59c48f4b1732c53117ce6c6",
       "version_major": 2,
       "version_minor": 0
      },
      "text/plain": [
       "Epoch 221/1000 [Training]:   0%|          | 0/1125 [00:00<?, ?it/s]"
      ]
     },
     "metadata": {},
     "output_type": "display_data"
    },
    {
     "name": "stdout",
     "output_type": "stream",
     "text": [
      "\n",
      "📘 Epoch 221/1000 - Train Loss: 2.0839\n"
     ]
    },
    {
     "data": {
      "application/vnd.jupyter.widget-view+json": {
       "model_id": "5bec5af8da044b1abd1b4e1bc59d6100",
       "version_major": 2,
       "version_minor": 0
      },
      "text/plain": [
       "Validating:   0%|          | 0/250 [00:00<?, ?it/s]"
      ]
     },
     "metadata": {},
     "output_type": "display_data"
    },
    {
     "name": "stdout",
     "output_type": "stream",
     "text": [
      "📗 Validation - Loss: 1.9472, Perplexity: 7.01, Token Acc: 39.84%\n"
     ]
    },
    {
     "data": {
      "application/vnd.jupyter.widget-view+json": {
       "model_id": "9b03205d7bfb45deb48409b89d989bd2",
       "version_major": 2,
       "version_minor": 0
      },
      "text/plain": [
       "Epoch 222/1000 [Training]:   0%|          | 0/1125 [00:00<?, ?it/s]"
      ]
     },
     "metadata": {},
     "output_type": "display_data"
    },
    {
     "name": "stdout",
     "output_type": "stream",
     "text": [
      "\n",
      "📘 Epoch 222/1000 - Train Loss: 2.0829\n"
     ]
    },
    {
     "data": {
      "application/vnd.jupyter.widget-view+json": {
       "model_id": "b3f07f17c7ae4e40b4223dce3b8024a8",
       "version_major": 2,
       "version_minor": 0
      },
      "text/plain": [
       "Validating:   0%|          | 0/250 [00:00<?, ?it/s]"
      ]
     },
     "metadata": {},
     "output_type": "display_data"
    },
    {
     "name": "stdout",
     "output_type": "stream",
     "text": [
      "📗 Validation - Loss: 1.9469, Perplexity: 7.01, Token Acc: 39.92%\n",
      "✅ Saved checkpoint: checkpoints/blt_epoch222.pt\n"
     ]
    },
    {
     "data": {
      "application/vnd.jupyter.widget-view+json": {
       "model_id": "b9abbd1440614092a7ffa1bcd4f8cd99",
       "version_major": 2,
       "version_minor": 0
      },
      "text/plain": [
       "Epoch 223/1000 [Training]:   0%|          | 0/1125 [00:00<?, ?it/s]"
      ]
     },
     "metadata": {},
     "output_type": "display_data"
    },
    {
     "name": "stdout",
     "output_type": "stream",
     "text": [
      "\n",
      "📘 Epoch 223/1000 - Train Loss: 2.0817\n"
     ]
    },
    {
     "data": {
      "application/vnd.jupyter.widget-view+json": {
       "model_id": "8812b0dcbf674e6c9fd2af4937ec74fb",
       "version_major": 2,
       "version_minor": 0
      },
      "text/plain": [
       "Validating:   0%|          | 0/250 [00:00<?, ?it/s]"
      ]
     },
     "metadata": {},
     "output_type": "display_data"
    },
    {
     "name": "stdout",
     "output_type": "stream",
     "text": [
      "📗 Validation - Loss: 1.9456, Perplexity: 7.00, Token Acc: 39.94%\n"
     ]
    },
    {
     "data": {
      "application/vnd.jupyter.widget-view+json": {
       "model_id": "81a6d8dc12204a609ca516581496dffa",
       "version_major": 2,
       "version_minor": 0
      },
      "text/plain": [
       "Epoch 224/1000 [Training]:   0%|          | 0/1125 [00:00<?, ?it/s]"
      ]
     },
     "metadata": {},
     "output_type": "display_data"
    },
    {
     "name": "stdout",
     "output_type": "stream",
     "text": [
      "\n",
      "📘 Epoch 224/1000 - Train Loss: 2.0819\n"
     ]
    },
    {
     "data": {
      "application/vnd.jupyter.widget-view+json": {
       "model_id": "283562e935cc450280ef43d482532fb8",
       "version_major": 2,
       "version_minor": 0
      },
      "text/plain": [
       "Validating:   0%|          | 0/250 [00:00<?, ?it/s]"
      ]
     },
     "metadata": {},
     "output_type": "display_data"
    },
    {
     "name": "stdout",
     "output_type": "stream",
     "text": [
      "📗 Validation - Loss: 1.9462, Perplexity: 7.00, Token Acc: 39.89%\n",
      "✅ Saved checkpoint: checkpoints/blt_epoch224.pt\n"
     ]
    },
    {
     "data": {
      "application/vnd.jupyter.widget-view+json": {
       "model_id": "50359d55848b4d0098e963b4fb4aecbf",
       "version_major": 2,
       "version_minor": 0
      },
      "text/plain": [
       "Epoch 225/1000 [Training]:   0%|          | 0/1125 [00:00<?, ?it/s]"
      ]
     },
     "metadata": {},
     "output_type": "display_data"
    },
    {
     "name": "stdout",
     "output_type": "stream",
     "text": [
      "\n",
      "📘 Epoch 225/1000 - Train Loss: 2.0806\n"
     ]
    },
    {
     "data": {
      "application/vnd.jupyter.widget-view+json": {
       "model_id": "2f4dc0df0c4441a0bb617f41a7ecfc5b",
       "version_major": 2,
       "version_minor": 0
      },
      "text/plain": [
       "Validating:   0%|          | 0/250 [00:00<?, ?it/s]"
      ]
     },
     "metadata": {},
     "output_type": "display_data"
    },
    {
     "name": "stdout",
     "output_type": "stream",
     "text": [
      "📗 Validation - Loss: 1.9448, Perplexity: 6.99, Token Acc: 39.90%\n"
     ]
    },
    {
     "data": {
      "application/vnd.jupyter.widget-view+json": {
       "model_id": "14f7dea5454245c0b456c68e05db947f",
       "version_major": 2,
       "version_minor": 0
      },
      "text/plain": [
       "Epoch 226/1000 [Training]:   0%|          | 0/1125 [00:00<?, ?it/s]"
      ]
     },
     "metadata": {},
     "output_type": "display_data"
    },
    {
     "name": "stdout",
     "output_type": "stream",
     "text": [
      "\n",
      "📘 Epoch 226/1000 - Train Loss: 2.0812\n"
     ]
    },
    {
     "data": {
      "application/vnd.jupyter.widget-view+json": {
       "model_id": "0da3dfb094a445d880d460ccae28c4d5",
       "version_major": 2,
       "version_minor": 0
      },
      "text/plain": [
       "Validating:   0%|          | 0/250 [00:00<?, ?it/s]"
      ]
     },
     "metadata": {},
     "output_type": "display_data"
    },
    {
     "name": "stdout",
     "output_type": "stream",
     "text": [
      "📗 Validation - Loss: 1.9447, Perplexity: 6.99, Token Acc: 40.04%\n",
      "✅ Saved checkpoint: checkpoints/blt_epoch226.pt\n"
     ]
    },
    {
     "data": {
      "application/vnd.jupyter.widget-view+json": {
       "model_id": "10573878f9b64d77a79d4c1ac693ed4b",
       "version_major": 2,
       "version_minor": 0
      },
      "text/plain": [
       "Epoch 227/1000 [Training]:   0%|          | 0/1125 [00:00<?, ?it/s]"
      ]
     },
     "metadata": {},
     "output_type": "display_data"
    },
    {
     "name": "stdout",
     "output_type": "stream",
     "text": [
      "\n",
      "📘 Epoch 227/1000 - Train Loss: 2.0798\n"
     ]
    },
    {
     "data": {
      "application/vnd.jupyter.widget-view+json": {
       "model_id": "020fe7f38ab24b2380647fbdfff9def7",
       "version_major": 2,
       "version_minor": 0
      },
      "text/plain": [
       "Validating:   0%|          | 0/250 [00:00<?, ?it/s]"
      ]
     },
     "metadata": {},
     "output_type": "display_data"
    },
    {
     "name": "stdout",
     "output_type": "stream",
     "text": [
      "📗 Validation - Loss: 1.9443, Perplexity: 6.99, Token Acc: 39.98%\n"
     ]
    },
    {
     "data": {
      "application/vnd.jupyter.widget-view+json": {
       "model_id": "bd0ca747cbb04880b4aef46cc6598498",
       "version_major": 2,
       "version_minor": 0
      },
      "text/plain": [
       "Epoch 228/1000 [Training]:   0%|          | 0/1125 [00:00<?, ?it/s]"
      ]
     },
     "metadata": {},
     "output_type": "display_data"
    },
    {
     "name": "stdout",
     "output_type": "stream",
     "text": [
      "\n",
      "📘 Epoch 228/1000 - Train Loss: 2.0809\n"
     ]
    },
    {
     "data": {
      "application/vnd.jupyter.widget-view+json": {
       "model_id": "df16fae3172d495fa8885741475fd6af",
       "version_major": 2,
       "version_minor": 0
      },
      "text/plain": [
       "Validating:   0%|          | 0/250 [00:00<?, ?it/s]"
      ]
     },
     "metadata": {},
     "output_type": "display_data"
    },
    {
     "name": "stdout",
     "output_type": "stream",
     "text": [
      "📗 Validation - Loss: 1.9442, Perplexity: 6.99, Token Acc: 39.87%\n",
      "✅ Saved checkpoint: checkpoints/blt_epoch228.pt\n"
     ]
    },
    {
     "data": {
      "application/vnd.jupyter.widget-view+json": {
       "model_id": "fe22ff6e209d4151a88b56c66ed28b96",
       "version_major": 2,
       "version_minor": 0
      },
      "text/plain": [
       "Epoch 229/1000 [Training]:   0%|          | 0/1125 [00:00<?, ?it/s]"
      ]
     },
     "metadata": {},
     "output_type": "display_data"
    },
    {
     "name": "stdout",
     "output_type": "stream",
     "text": [
      "\n",
      "📘 Epoch 229/1000 - Train Loss: 2.0797\n"
     ]
    },
    {
     "data": {
      "application/vnd.jupyter.widget-view+json": {
       "model_id": "3089158ccefd4824a34a139fe1849268",
       "version_major": 2,
       "version_minor": 0
      },
      "text/plain": [
       "Validating:   0%|          | 0/250 [00:00<?, ?it/s]"
      ]
     },
     "metadata": {},
     "output_type": "display_data"
    },
    {
     "name": "stdout",
     "output_type": "stream",
     "text": [
      "📗 Validation - Loss: 1.9426, Perplexity: 6.98, Token Acc: 40.15%\n"
     ]
    },
    {
     "data": {
      "application/vnd.jupyter.widget-view+json": {
       "model_id": "cda33930e9e440f8b8a00df169305a37",
       "version_major": 2,
       "version_minor": 0
      },
      "text/plain": [
       "Epoch 230/1000 [Training]:   0%|          | 0/1125 [00:00<?, ?it/s]"
      ]
     },
     "metadata": {},
     "output_type": "display_data"
    },
    {
     "name": "stdout",
     "output_type": "stream",
     "text": [
      "\n",
      "📘 Epoch 230/1000 - Train Loss: 2.0802\n"
     ]
    },
    {
     "data": {
      "application/vnd.jupyter.widget-view+json": {
       "model_id": "480a5cd914884597a671e241cd491adf",
       "version_major": 2,
       "version_minor": 0
      },
      "text/plain": [
       "Validating:   0%|          | 0/250 [00:00<?, ?it/s]"
      ]
     },
     "metadata": {},
     "output_type": "display_data"
    },
    {
     "name": "stdout",
     "output_type": "stream",
     "text": [
      "📗 Validation - Loss: 1.9416, Perplexity: 6.97, Token Acc: 40.02%\n",
      "✅ Saved checkpoint: checkpoints/blt_epoch230.pt\n"
     ]
    },
    {
     "data": {
      "application/vnd.jupyter.widget-view+json": {
       "model_id": "90399fb08a15442d81d87441f9a0d2e0",
       "version_major": 2,
       "version_minor": 0
      },
      "text/plain": [
       "Epoch 231/1000 [Training]:   0%|          | 0/1125 [00:00<?, ?it/s]"
      ]
     },
     "metadata": {},
     "output_type": "display_data"
    },
    {
     "name": "stdout",
     "output_type": "stream",
     "text": [
      "\n",
      "📘 Epoch 231/1000 - Train Loss: 2.0800\n"
     ]
    },
    {
     "data": {
      "application/vnd.jupyter.widget-view+json": {
       "model_id": "abd17b8ac3ea4fc2a43feb4a9122c58c",
       "version_major": 2,
       "version_minor": 0
      },
      "text/plain": [
       "Validating:   0%|          | 0/250 [00:00<?, ?it/s]"
      ]
     },
     "metadata": {},
     "output_type": "display_data"
    },
    {
     "name": "stdout",
     "output_type": "stream",
     "text": [
      "📗 Validation - Loss: 1.9419, Perplexity: 6.97, Token Acc: 40.02%\n"
     ]
    },
    {
     "data": {
      "application/vnd.jupyter.widget-view+json": {
       "model_id": "7cab792957fc4cc8a4469417c735f1db",
       "version_major": 2,
       "version_minor": 0
      },
      "text/plain": [
       "Epoch 232/1000 [Training]:   0%|          | 0/1125 [00:00<?, ?it/s]"
      ]
     },
     "metadata": {},
     "output_type": "display_data"
    },
    {
     "name": "stdout",
     "output_type": "stream",
     "text": [
      "\n",
      "📘 Epoch 232/1000 - Train Loss: 2.0789\n"
     ]
    },
    {
     "data": {
      "application/vnd.jupyter.widget-view+json": {
       "model_id": "c72e59feb30c4addbbaa8152db175488",
       "version_major": 2,
       "version_minor": 0
      },
      "text/plain": [
       "Validating:   0%|          | 0/250 [00:00<?, ?it/s]"
      ]
     },
     "metadata": {},
     "output_type": "display_data"
    },
    {
     "name": "stdout",
     "output_type": "stream",
     "text": [
      "📗 Validation - Loss: 1.9419, Perplexity: 6.97, Token Acc: 40.10%\n",
      "✅ Saved checkpoint: checkpoints/blt_epoch232.pt\n"
     ]
    },
    {
     "data": {
      "application/vnd.jupyter.widget-view+json": {
       "model_id": "00eb4c29ea4c46c78bb7f04723ae36b4",
       "version_major": 2,
       "version_minor": 0
      },
      "text/plain": [
       "Epoch 233/1000 [Training]:   0%|          | 0/1125 [00:00<?, ?it/s]"
      ]
     },
     "metadata": {},
     "output_type": "display_data"
    },
    {
     "name": "stdout",
     "output_type": "stream",
     "text": [
      "\n",
      "📘 Epoch 233/1000 - Train Loss: 2.0798\n"
     ]
    },
    {
     "data": {
      "application/vnd.jupyter.widget-view+json": {
       "model_id": "666faa3fd14c4b91a13a8ba1f883c072",
       "version_major": 2,
       "version_minor": 0
      },
      "text/plain": [
       "Validating:   0%|          | 0/250 [00:00<?, ?it/s]"
      ]
     },
     "metadata": {},
     "output_type": "display_data"
    },
    {
     "name": "stdout",
     "output_type": "stream",
     "text": [
      "📗 Validation - Loss: 1.9431, Perplexity: 6.98, Token Acc: 39.97%\n"
     ]
    },
    {
     "data": {
      "application/vnd.jupyter.widget-view+json": {
       "model_id": "2e443a00505c4577b9e96152f3f21dcb",
       "version_major": 2,
       "version_minor": 0
      },
      "text/plain": [
       "Epoch 234/1000 [Training]:   0%|          | 0/1125 [00:00<?, ?it/s]"
      ]
     },
     "metadata": {},
     "output_type": "display_data"
    },
    {
     "name": "stdout",
     "output_type": "stream",
     "text": [
      "\n",
      "📘 Epoch 234/1000 - Train Loss: 2.0785\n"
     ]
    },
    {
     "data": {
      "application/vnd.jupyter.widget-view+json": {
       "model_id": "e81cae8820e3480fb2b2a7904baea28b",
       "version_major": 2,
       "version_minor": 0
      },
      "text/plain": [
       "Validating:   0%|          | 0/250 [00:00<?, ?it/s]"
      ]
     },
     "metadata": {},
     "output_type": "display_data"
    },
    {
     "name": "stdout",
     "output_type": "stream",
     "text": [
      "📗 Validation - Loss: 1.9402, Perplexity: 6.96, Token Acc: 40.17%\n",
      "✅ Saved checkpoint: checkpoints/blt_epoch234.pt\n"
     ]
    },
    {
     "data": {
      "application/vnd.jupyter.widget-view+json": {
       "model_id": "bab7c054c11743e486424de1bff8e25e",
       "version_major": 2,
       "version_minor": 0
      },
      "text/plain": [
       "Epoch 235/1000 [Training]:   0%|          | 0/1125 [00:00<?, ?it/s]"
      ]
     },
     "metadata": {},
     "output_type": "display_data"
    },
    {
     "name": "stdout",
     "output_type": "stream",
     "text": [
      "\n",
      "📘 Epoch 235/1000 - Train Loss: 2.0778\n"
     ]
    },
    {
     "data": {
      "application/vnd.jupyter.widget-view+json": {
       "model_id": "b4670c7d6bd64d908a9db86bb485e114",
       "version_major": 2,
       "version_minor": 0
      },
      "text/plain": [
       "Validating:   0%|          | 0/250 [00:00<?, ?it/s]"
      ]
     },
     "metadata": {},
     "output_type": "display_data"
    },
    {
     "name": "stdout",
     "output_type": "stream",
     "text": [
      "📗 Validation - Loss: 1.9394, Perplexity: 6.95, Token Acc: 39.96%\n"
     ]
    },
    {
     "data": {
      "application/vnd.jupyter.widget-view+json": {
       "model_id": "fa0e427b12254f1f96f5b7e63f21a91c",
       "version_major": 2,
       "version_minor": 0
      },
      "text/plain": [
       "Epoch 236/1000 [Training]:   0%|          | 0/1125 [00:00<?, ?it/s]"
      ]
     },
     "metadata": {},
     "output_type": "display_data"
    },
    {
     "name": "stdout",
     "output_type": "stream",
     "text": [
      "\n",
      "📘 Epoch 236/1000 - Train Loss: 2.0772\n"
     ]
    },
    {
     "data": {
      "application/vnd.jupyter.widget-view+json": {
       "model_id": "ccb7b86804bd4bc1a24e0913f4ae4f6e",
       "version_major": 2,
       "version_minor": 0
      },
      "text/plain": [
       "Validating:   0%|          | 0/250 [00:00<?, ?it/s]"
      ]
     },
     "metadata": {},
     "output_type": "display_data"
    },
    {
     "name": "stdout",
     "output_type": "stream",
     "text": [
      "📗 Validation - Loss: 1.9410, Perplexity: 6.97, Token Acc: 40.00%\n",
      "✅ Saved checkpoint: checkpoints/blt_epoch236.pt\n"
     ]
    },
    {
     "data": {
      "application/vnd.jupyter.widget-view+json": {
       "model_id": "bfff9499ee5341309cbe67fa1aa0a96e",
       "version_major": 2,
       "version_minor": 0
      },
      "text/plain": [
       "Epoch 237/1000 [Training]:   0%|          | 0/1125 [00:00<?, ?it/s]"
      ]
     },
     "metadata": {},
     "output_type": "display_data"
    },
    {
     "name": "stdout",
     "output_type": "stream",
     "text": [
      "\n",
      "📘 Epoch 237/1000 - Train Loss: 2.0781\n"
     ]
    },
    {
     "data": {
      "application/vnd.jupyter.widget-view+json": {
       "model_id": "5abf02341171403e868f38b8ae31b767",
       "version_major": 2,
       "version_minor": 0
      },
      "text/plain": [
       "Validating:   0%|          | 0/250 [00:00<?, ?it/s]"
      ]
     },
     "metadata": {},
     "output_type": "display_data"
    },
    {
     "name": "stdout",
     "output_type": "stream",
     "text": [
      "📗 Validation - Loss: 1.9392, Perplexity: 6.95, Token Acc: 40.13%\n"
     ]
    },
    {
     "data": {
      "application/vnd.jupyter.widget-view+json": {
       "model_id": "c8b0b191eb33489a8515caae2048389d",
       "version_major": 2,
       "version_minor": 0
      },
      "text/plain": [
       "Epoch 238/1000 [Training]:   0%|          | 0/1125 [00:00<?, ?it/s]"
      ]
     },
     "metadata": {},
     "output_type": "display_data"
    },
    {
     "name": "stdout",
     "output_type": "stream",
     "text": [
      "\n",
      "📘 Epoch 238/1000 - Train Loss: 2.0763\n"
     ]
    },
    {
     "data": {
      "application/vnd.jupyter.widget-view+json": {
       "model_id": "a87bccf497574d1f8d28a5309005f150",
       "version_major": 2,
       "version_minor": 0
      },
      "text/plain": [
       "Validating:   0%|          | 0/250 [00:00<?, ?it/s]"
      ]
     },
     "metadata": {},
     "output_type": "display_data"
    },
    {
     "name": "stdout",
     "output_type": "stream",
     "text": [
      "📗 Validation - Loss: 1.9391, Perplexity: 6.95, Token Acc: 40.08%\n",
      "✅ Saved checkpoint: checkpoints/blt_epoch238.pt\n"
     ]
    },
    {
     "data": {
      "application/vnd.jupyter.widget-view+json": {
       "model_id": "ec42ba6bf0784be88a3f465420c87276",
       "version_major": 2,
       "version_minor": 0
      },
      "text/plain": [
       "Epoch 239/1000 [Training]:   0%|          | 0/1125 [00:00<?, ?it/s]"
      ]
     },
     "metadata": {},
     "output_type": "display_data"
    },
    {
     "name": "stdout",
     "output_type": "stream",
     "text": [
      "\n",
      "📘 Epoch 239/1000 - Train Loss: 2.0766\n"
     ]
    },
    {
     "data": {
      "application/vnd.jupyter.widget-view+json": {
       "model_id": "9c24b5a78be24a20adc1d79da347d92e",
       "version_major": 2,
       "version_minor": 0
      },
      "text/plain": [
       "Validating:   0%|          | 0/250 [00:00<?, ?it/s]"
      ]
     },
     "metadata": {},
     "output_type": "display_data"
    },
    {
     "name": "stdout",
     "output_type": "stream",
     "text": [
      "📗 Validation - Loss: 1.9384, Perplexity: 6.95, Token Acc: 40.17%\n"
     ]
    },
    {
     "data": {
      "application/vnd.jupyter.widget-view+json": {
       "model_id": "5f03b297e88c49909374c9df7a30285c",
       "version_major": 2,
       "version_minor": 0
      },
      "text/plain": [
       "Epoch 240/1000 [Training]:   0%|          | 0/1125 [00:00<?, ?it/s]"
      ]
     },
     "metadata": {},
     "output_type": "display_data"
    },
    {
     "name": "stdout",
     "output_type": "stream",
     "text": [
      "\n",
      "📘 Epoch 240/1000 - Train Loss: 2.0758\n"
     ]
    },
    {
     "data": {
      "application/vnd.jupyter.widget-view+json": {
       "model_id": "4c9c702acf124b26948943373edc78a7",
       "version_major": 2,
       "version_minor": 0
      },
      "text/plain": [
       "Validating:   0%|          | 0/250 [00:00<?, ?it/s]"
      ]
     },
     "metadata": {},
     "output_type": "display_data"
    },
    {
     "name": "stdout",
     "output_type": "stream",
     "text": [
      "📗 Validation - Loss: 1.9386, Perplexity: 6.95, Token Acc: 40.01%\n",
      "✅ Saved checkpoint: checkpoints/blt_epoch240.pt\n"
     ]
    },
    {
     "data": {
      "application/vnd.jupyter.widget-view+json": {
       "model_id": "65051455954142d682e23a3aa8133580",
       "version_major": 2,
       "version_minor": 0
      },
      "text/plain": [
       "Epoch 241/1000 [Training]:   0%|          | 0/1125 [00:00<?, ?it/s]"
      ]
     },
     "metadata": {},
     "output_type": "display_data"
    },
    {
     "name": "stdout",
     "output_type": "stream",
     "text": [
      "\n",
      "📘 Epoch 241/1000 - Train Loss: 2.0757\n"
     ]
    },
    {
     "data": {
      "application/vnd.jupyter.widget-view+json": {
       "model_id": "6377120532194d168958bdd4fec41a8d",
       "version_major": 2,
       "version_minor": 0
      },
      "text/plain": [
       "Validating:   0%|          | 0/250 [00:00<?, ?it/s]"
      ]
     },
     "metadata": {},
     "output_type": "display_data"
    },
    {
     "name": "stdout",
     "output_type": "stream",
     "text": [
      "📗 Validation - Loss: 1.9381, Perplexity: 6.95, Token Acc: 40.04%\n"
     ]
    },
    {
     "data": {
      "application/vnd.jupyter.widget-view+json": {
       "model_id": "9b3029dd0f8e4467bc74ecec4c3e488e",
       "version_major": 2,
       "version_minor": 0
      },
      "text/plain": [
       "Epoch 242/1000 [Training]:   0%|          | 0/1125 [00:00<?, ?it/s]"
      ]
     },
     "metadata": {},
     "output_type": "display_data"
    },
    {
     "name": "stdout",
     "output_type": "stream",
     "text": [
      "\n",
      "📘 Epoch 242/1000 - Train Loss: 2.0755\n"
     ]
    },
    {
     "data": {
      "application/vnd.jupyter.widget-view+json": {
       "model_id": "8b49fe11558c46588e9094a7b97eef81",
       "version_major": 2,
       "version_minor": 0
      },
      "text/plain": [
       "Validating:   0%|          | 0/250 [00:00<?, ?it/s]"
      ]
     },
     "metadata": {},
     "output_type": "display_data"
    },
    {
     "name": "stdout",
     "output_type": "stream",
     "text": [
      "📗 Validation - Loss: 1.9380, Perplexity: 6.94, Token Acc: 40.18%\n",
      "✅ Saved checkpoint: checkpoints/blt_epoch242.pt\n"
     ]
    },
    {
     "data": {
      "application/vnd.jupyter.widget-view+json": {
       "model_id": "b813c55b826245bf9964e1cb54b0fe91",
       "version_major": 2,
       "version_minor": 0
      },
      "text/plain": [
       "Epoch 243/1000 [Training]:   0%|          | 0/1125 [00:00<?, ?it/s]"
      ]
     },
     "metadata": {},
     "output_type": "display_data"
    },
    {
     "name": "stdout",
     "output_type": "stream",
     "text": [
      "\n",
      "📘 Epoch 243/1000 - Train Loss: 2.0748\n"
     ]
    },
    {
     "data": {
      "application/vnd.jupyter.widget-view+json": {
       "model_id": "4e0ec2a25c154c05a6fc0a83c11801cf",
       "version_major": 2,
       "version_minor": 0
      },
      "text/plain": [
       "Validating:   0%|          | 0/250 [00:00<?, ?it/s]"
      ]
     },
     "metadata": {},
     "output_type": "display_data"
    },
    {
     "name": "stdout",
     "output_type": "stream",
     "text": [
      "📗 Validation - Loss: 1.9365, Perplexity: 6.93, Token Acc: 40.13%\n"
     ]
    },
    {
     "data": {
      "application/vnd.jupyter.widget-view+json": {
       "model_id": "543d29de5f964dd880a3fb0308cc036a",
       "version_major": 2,
       "version_minor": 0
      },
      "text/plain": [
       "Epoch 244/1000 [Training]:   0%|          | 0/1125 [00:00<?, ?it/s]"
      ]
     },
     "metadata": {},
     "output_type": "display_data"
    },
    {
     "name": "stdout",
     "output_type": "stream",
     "text": [
      "\n",
      "📘 Epoch 244/1000 - Train Loss: 2.0745\n"
     ]
    },
    {
     "data": {
      "application/vnd.jupyter.widget-view+json": {
       "model_id": "2999b415780c4c63a8917820fbf7085c",
       "version_major": 2,
       "version_minor": 0
      },
      "text/plain": [
       "Validating:   0%|          | 0/250 [00:00<?, ?it/s]"
      ]
     },
     "metadata": {},
     "output_type": "display_data"
    },
    {
     "name": "stdout",
     "output_type": "stream",
     "text": [
      "📗 Validation - Loss: 1.9356, Perplexity: 6.93, Token Acc: 40.20%\n",
      "✅ Saved checkpoint: checkpoints/blt_epoch244.pt\n"
     ]
    },
    {
     "data": {
      "application/vnd.jupyter.widget-view+json": {
       "model_id": "d1885bc914234352b98982894a55fa8e",
       "version_major": 2,
       "version_minor": 0
      },
      "text/plain": [
       "Epoch 245/1000 [Training]:   0%|          | 0/1125 [00:00<?, ?it/s]"
      ]
     },
     "metadata": {},
     "output_type": "display_data"
    },
    {
     "name": "stdout",
     "output_type": "stream",
     "text": [
      "\n",
      "📘 Epoch 245/1000 - Train Loss: 2.0737\n"
     ]
    },
    {
     "data": {
      "application/vnd.jupyter.widget-view+json": {
       "model_id": "cfa3c2f1c5ec46b6b675a07b2e1b7a90",
       "version_major": 2,
       "version_minor": 0
      },
      "text/plain": [
       "Validating:   0%|          | 0/250 [00:00<?, ?it/s]"
      ]
     },
     "metadata": {},
     "output_type": "display_data"
    },
    {
     "name": "stdout",
     "output_type": "stream",
     "text": [
      "📗 Validation - Loss: 1.9364, Perplexity: 6.93, Token Acc: 40.19%\n"
     ]
    },
    {
     "data": {
      "application/vnd.jupyter.widget-view+json": {
       "model_id": "98f24ecb91664e0695ab2da866e67f0b",
       "version_major": 2,
       "version_minor": 0
      },
      "text/plain": [
       "Epoch 246/1000 [Training]:   0%|          | 0/1125 [00:00<?, ?it/s]"
      ]
     },
     "metadata": {},
     "output_type": "display_data"
    },
    {
     "name": "stdout",
     "output_type": "stream",
     "text": [
      "\n",
      "📘 Epoch 246/1000 - Train Loss: 2.0750\n"
     ]
    },
    {
     "data": {
      "application/vnd.jupyter.widget-view+json": {
       "model_id": "af650163739a485781387911ad2d128d",
       "version_major": 2,
       "version_minor": 0
      },
      "text/plain": [
       "Validating:   0%|          | 0/250 [00:00<?, ?it/s]"
      ]
     },
     "metadata": {},
     "output_type": "display_data"
    },
    {
     "name": "stdout",
     "output_type": "stream",
     "text": [
      "📗 Validation - Loss: 1.9358, Perplexity: 6.93, Token Acc: 40.28%\n",
      "✅ Saved checkpoint: checkpoints/blt_epoch246.pt\n"
     ]
    },
    {
     "data": {
      "application/vnd.jupyter.widget-view+json": {
       "model_id": "4178155e35fc4bf5ad61eb804f82513d",
       "version_major": 2,
       "version_minor": 0
      },
      "text/plain": [
       "Epoch 247/1000 [Training]:   0%|          | 0/1125 [00:00<?, ?it/s]"
      ]
     },
     "metadata": {},
     "output_type": "display_data"
    },
    {
     "name": "stdout",
     "output_type": "stream",
     "text": [
      "\n",
      "📘 Epoch 247/1000 - Train Loss: 2.0748\n"
     ]
    },
    {
     "data": {
      "application/vnd.jupyter.widget-view+json": {
       "model_id": "0c5150e2295a4d9ba4a959617179b0b8",
       "version_major": 2,
       "version_minor": 0
      },
      "text/plain": [
       "Validating:   0%|          | 0/250 [00:00<?, ?it/s]"
      ]
     },
     "metadata": {},
     "output_type": "display_data"
    },
    {
     "name": "stdout",
     "output_type": "stream",
     "text": [
      "📗 Validation - Loss: 1.9362, Perplexity: 6.93, Token Acc: 40.25%\n"
     ]
    },
    {
     "data": {
      "application/vnd.jupyter.widget-view+json": {
       "model_id": "e6cb936549874c7789f4de88298305be",
       "version_major": 2,
       "version_minor": 0
      },
      "text/plain": [
       "Epoch 248/1000 [Training]:   0%|          | 0/1125 [00:00<?, ?it/s]"
      ]
     },
     "metadata": {},
     "output_type": "display_data"
    },
    {
     "name": "stdout",
     "output_type": "stream",
     "text": [
      "\n",
      "📘 Epoch 248/1000 - Train Loss: 2.0730\n"
     ]
    },
    {
     "data": {
      "application/vnd.jupyter.widget-view+json": {
       "model_id": "ebbebfc030374d1b827ad4a31a1ac87c",
       "version_major": 2,
       "version_minor": 0
      },
      "text/plain": [
       "Validating:   0%|          | 0/250 [00:00<?, ?it/s]"
      ]
     },
     "metadata": {},
     "output_type": "display_data"
    },
    {
     "name": "stdout",
     "output_type": "stream",
     "text": [
      "📗 Validation - Loss: 1.9348, Perplexity: 6.92, Token Acc: 40.31%\n",
      "✅ Saved checkpoint: checkpoints/blt_epoch248.pt\n"
     ]
    },
    {
     "data": {
      "application/vnd.jupyter.widget-view+json": {
       "model_id": "2f7e3d56b48840fa904c1703a912262e",
       "version_major": 2,
       "version_minor": 0
      },
      "text/plain": [
       "Epoch 249/1000 [Training]:   0%|          | 0/1125 [00:00<?, ?it/s]"
      ]
     },
     "metadata": {},
     "output_type": "display_data"
    },
    {
     "name": "stdout",
     "output_type": "stream",
     "text": [
      "\n",
      "📘 Epoch 249/1000 - Train Loss: 2.0737\n"
     ]
    },
    {
     "data": {
      "application/vnd.jupyter.widget-view+json": {
       "model_id": "85f8cc28a04447dfa175241add5110bb",
       "version_major": 2,
       "version_minor": 0
      },
      "text/plain": [
       "Validating:   0%|          | 0/250 [00:00<?, ?it/s]"
      ]
     },
     "metadata": {},
     "output_type": "display_data"
    },
    {
     "name": "stdout",
     "output_type": "stream",
     "text": [
      "📗 Validation - Loss: 1.9346, Perplexity: 6.92, Token Acc: 40.32%\n"
     ]
    },
    {
     "data": {
      "application/vnd.jupyter.widget-view+json": {
       "model_id": "f268422d13814c4790349b0515fe8c7d",
       "version_major": 2,
       "version_minor": 0
      },
      "text/plain": [
       "Epoch 250/1000 [Training]:   0%|          | 0/1125 [00:00<?, ?it/s]"
      ]
     },
     "metadata": {},
     "output_type": "display_data"
    },
    {
     "name": "stdout",
     "output_type": "stream",
     "text": [
      "\n",
      "📘 Epoch 250/1000 - Train Loss: 2.0731\n"
     ]
    },
    {
     "data": {
      "application/vnd.jupyter.widget-view+json": {
       "model_id": "55a39ade04dc46a3b190023b76ba0cd7",
       "version_major": 2,
       "version_minor": 0
      },
      "text/plain": [
       "Validating:   0%|          | 0/250 [00:00<?, ?it/s]"
      ]
     },
     "metadata": {},
     "output_type": "display_data"
    },
    {
     "name": "stdout",
     "output_type": "stream",
     "text": [
      "📗 Validation - Loss: 1.9346, Perplexity: 6.92, Token Acc: 40.20%\n",
      "✅ Saved checkpoint: checkpoints/blt_epoch250.pt\n"
     ]
    },
    {
     "data": {
      "application/vnd.jupyter.widget-view+json": {
       "model_id": "0b4ae867dc064c80bf04ab528fc32098",
       "version_major": 2,
       "version_minor": 0
      },
      "text/plain": [
       "Epoch 251/1000 [Training]:   0%|          | 0/1125 [00:00<?, ?it/s]"
      ]
     },
     "metadata": {},
     "output_type": "display_data"
    },
    {
     "name": "stdout",
     "output_type": "stream",
     "text": [
      "\n",
      "📘 Epoch 251/1000 - Train Loss: 2.0715\n"
     ]
    },
    {
     "data": {
      "application/vnd.jupyter.widget-view+json": {
       "model_id": "b9b0e8de69be46f38ce075d1c10322b1",
       "version_major": 2,
       "version_minor": 0
      },
      "text/plain": [
       "Validating:   0%|          | 0/250 [00:00<?, ?it/s]"
      ]
     },
     "metadata": {},
     "output_type": "display_data"
    },
    {
     "name": "stdout",
     "output_type": "stream",
     "text": [
      "📗 Validation - Loss: 1.9340, Perplexity: 6.92, Token Acc: 40.20%\n"
     ]
    },
    {
     "data": {
      "application/vnd.jupyter.widget-view+json": {
       "model_id": "81bd8e37f7544a629bedf9fd51a88abe",
       "version_major": 2,
       "version_minor": 0
      },
      "text/plain": [
       "Epoch 252/1000 [Training]:   0%|          | 0/1125 [00:00<?, ?it/s]"
      ]
     },
     "metadata": {},
     "output_type": "display_data"
    },
    {
     "name": "stdout",
     "output_type": "stream",
     "text": [
      "\n",
      "📘 Epoch 252/1000 - Train Loss: 2.0724\n"
     ]
    },
    {
     "data": {
      "application/vnd.jupyter.widget-view+json": {
       "model_id": "d298009b9d394885b52c3a3062d62d7b",
       "version_major": 2,
       "version_minor": 0
      },
      "text/plain": [
       "Validating:   0%|          | 0/250 [00:00<?, ?it/s]"
      ]
     },
     "metadata": {},
     "output_type": "display_data"
    },
    {
     "name": "stdout",
     "output_type": "stream",
     "text": [
      "📗 Validation - Loss: 1.9312, Perplexity: 6.90, Token Acc: 40.35%\n",
      "✅ Saved checkpoint: checkpoints/blt_epoch252.pt\n"
     ]
    },
    {
     "data": {
      "application/vnd.jupyter.widget-view+json": {
       "model_id": "1b98e8c205a348e7882430c912fe27d3",
       "version_major": 2,
       "version_minor": 0
      },
      "text/plain": [
       "Epoch 253/1000 [Training]:   0%|          | 0/1125 [00:00<?, ?it/s]"
      ]
     },
     "metadata": {},
     "output_type": "display_data"
    },
    {
     "name": "stdout",
     "output_type": "stream",
     "text": [
      "\n",
      "📘 Epoch 253/1000 - Train Loss: 2.0723\n"
     ]
    },
    {
     "data": {
      "application/vnd.jupyter.widget-view+json": {
       "model_id": "05197b7e637d4ef693cde9dc84341f71",
       "version_major": 2,
       "version_minor": 0
      },
      "text/plain": [
       "Validating:   0%|          | 0/250 [00:00<?, ?it/s]"
      ]
     },
     "metadata": {},
     "output_type": "display_data"
    },
    {
     "name": "stdout",
     "output_type": "stream",
     "text": [
      "📗 Validation - Loss: 1.9328, Perplexity: 6.91, Token Acc: 40.30%\n"
     ]
    },
    {
     "data": {
      "application/vnd.jupyter.widget-view+json": {
       "model_id": "3bc86bd362bf43adab2df156bf7ad920",
       "version_major": 2,
       "version_minor": 0
      },
      "text/plain": [
       "Epoch 254/1000 [Training]:   0%|          | 0/1125 [00:00<?, ?it/s]"
      ]
     },
     "metadata": {},
     "output_type": "display_data"
    },
    {
     "name": "stdout",
     "output_type": "stream",
     "text": [
      "\n",
      "📘 Epoch 254/1000 - Train Loss: 2.0725\n"
     ]
    },
    {
     "data": {
      "application/vnd.jupyter.widget-view+json": {
       "model_id": "67db3e91711c47209d078523877093ab",
       "version_major": 2,
       "version_minor": 0
      },
      "text/plain": [
       "Validating:   0%|          | 0/250 [00:00<?, ?it/s]"
      ]
     },
     "metadata": {},
     "output_type": "display_data"
    },
    {
     "name": "stdout",
     "output_type": "stream",
     "text": [
      "📗 Validation - Loss: 1.9316, Perplexity: 6.90, Token Acc: 40.37%\n",
      "✅ Saved checkpoint: checkpoints/blt_epoch254.pt\n"
     ]
    },
    {
     "data": {
      "application/vnd.jupyter.widget-view+json": {
       "model_id": "cdeadc4a00784071980acfd6e577833b",
       "version_major": 2,
       "version_minor": 0
      },
      "text/plain": [
       "Epoch 255/1000 [Training]:   0%|          | 0/1125 [00:00<?, ?it/s]"
      ]
     },
     "metadata": {},
     "output_type": "display_data"
    },
    {
     "name": "stdout",
     "output_type": "stream",
     "text": [
      "\n",
      "📘 Epoch 255/1000 - Train Loss: 2.0713\n"
     ]
    },
    {
     "data": {
      "application/vnd.jupyter.widget-view+json": {
       "model_id": "6795e055d2c9457f99ba3d71eb3e475e",
       "version_major": 2,
       "version_minor": 0
      },
      "text/plain": [
       "Validating:   0%|          | 0/250 [00:00<?, ?it/s]"
      ]
     },
     "metadata": {},
     "output_type": "display_data"
    },
    {
     "name": "stdout",
     "output_type": "stream",
     "text": [
      "📗 Validation - Loss: 1.9316, Perplexity: 6.90, Token Acc: 40.33%\n"
     ]
    },
    {
     "data": {
      "application/vnd.jupyter.widget-view+json": {
       "model_id": "efb3d9bc828d4c288db0cacb4428a5ff",
       "version_major": 2,
       "version_minor": 0
      },
      "text/plain": [
       "Epoch 256/1000 [Training]:   0%|          | 0/1125 [00:00<?, ?it/s]"
      ]
     },
     "metadata": {},
     "output_type": "display_data"
    },
    {
     "name": "stdout",
     "output_type": "stream",
     "text": [
      "\n",
      "📘 Epoch 256/1000 - Train Loss: 2.0708\n"
     ]
    },
    {
     "data": {
      "application/vnd.jupyter.widget-view+json": {
       "model_id": "24f8a743aabb4aa79ad5948f308ab0b9",
       "version_major": 2,
       "version_minor": 0
      },
      "text/plain": [
       "Validating:   0%|          | 0/250 [00:00<?, ?it/s]"
      ]
     },
     "metadata": {},
     "output_type": "display_data"
    },
    {
     "name": "stdout",
     "output_type": "stream",
     "text": [
      "📗 Validation - Loss: 1.9315, Perplexity: 6.90, Token Acc: 40.36%\n",
      "✅ Saved checkpoint: checkpoints/blt_epoch256.pt\n"
     ]
    },
    {
     "data": {
      "application/vnd.jupyter.widget-view+json": {
       "model_id": "f4e8ba991dd145c19e9de59abd047d0a",
       "version_major": 2,
       "version_minor": 0
      },
      "text/plain": [
       "Epoch 257/1000 [Training]:   0%|          | 0/1125 [00:00<?, ?it/s]"
      ]
     },
     "metadata": {},
     "output_type": "display_data"
    },
    {
     "name": "stdout",
     "output_type": "stream",
     "text": [
      "\n",
      "📘 Epoch 257/1000 - Train Loss: 2.0701\n"
     ]
    },
    {
     "data": {
      "application/vnd.jupyter.widget-view+json": {
       "model_id": "e8cf23985f3346969d9d82e688cc0474",
       "version_major": 2,
       "version_minor": 0
      },
      "text/plain": [
       "Validating:   0%|          | 0/250 [00:00<?, ?it/s]"
      ]
     },
     "metadata": {},
     "output_type": "display_data"
    },
    {
     "name": "stdout",
     "output_type": "stream",
     "text": [
      "📗 Validation - Loss: 1.9305, Perplexity: 6.89, Token Acc: 40.36%\n"
     ]
    },
    {
     "data": {
      "application/vnd.jupyter.widget-view+json": {
       "model_id": "39785672bf09468cad90b271cfaefeb3",
       "version_major": 2,
       "version_minor": 0
      },
      "text/plain": [
       "Epoch 258/1000 [Training]:   0%|          | 0/1125 [00:00<?, ?it/s]"
      ]
     },
     "metadata": {},
     "output_type": "display_data"
    },
    {
     "name": "stdout",
     "output_type": "stream",
     "text": [
      "\n",
      "📘 Epoch 258/1000 - Train Loss: 2.0695\n"
     ]
    },
    {
     "data": {
      "application/vnd.jupyter.widget-view+json": {
       "model_id": "627a462e3a354915847df7b6299bf0b7",
       "version_major": 2,
       "version_minor": 0
      },
      "text/plain": [
       "Validating:   0%|          | 0/250 [00:00<?, ?it/s]"
      ]
     },
     "metadata": {},
     "output_type": "display_data"
    },
    {
     "name": "stdout",
     "output_type": "stream",
     "text": [
      "📗 Validation - Loss: 1.9296, Perplexity: 6.89, Token Acc: 40.32%\n",
      "✅ Saved checkpoint: checkpoints/blt_epoch258.pt\n"
     ]
    },
    {
     "data": {
      "application/vnd.jupyter.widget-view+json": {
       "model_id": "a7b34d4c0ce344d78752072b1082a1ae",
       "version_major": 2,
       "version_minor": 0
      },
      "text/plain": [
       "Epoch 259/1000 [Training]:   0%|          | 0/1125 [00:00<?, ?it/s]"
      ]
     },
     "metadata": {},
     "output_type": "display_data"
    },
    {
     "name": "stdout",
     "output_type": "stream",
     "text": [
      "\n",
      "📘 Epoch 259/1000 - Train Loss: 2.0693\n"
     ]
    },
    {
     "data": {
      "application/vnd.jupyter.widget-view+json": {
       "model_id": "1f6a757a2d144dd2aa93ae2ad29027c6",
       "version_major": 2,
       "version_minor": 0
      },
      "text/plain": [
       "Validating:   0%|          | 0/250 [00:00<?, ?it/s]"
      ]
     },
     "metadata": {},
     "output_type": "display_data"
    },
    {
     "name": "stdout",
     "output_type": "stream",
     "text": [
      "📗 Validation - Loss: 1.9306, Perplexity: 6.89, Token Acc: 40.16%\n"
     ]
    },
    {
     "data": {
      "application/vnd.jupyter.widget-view+json": {
       "model_id": "9343e6fcf98446739e441ec2958925c8",
       "version_major": 2,
       "version_minor": 0
      },
      "text/plain": [
       "Epoch 260/1000 [Training]:   0%|          | 0/1125 [00:00<?, ?it/s]"
      ]
     },
     "metadata": {},
     "output_type": "display_data"
    },
    {
     "name": "stdout",
     "output_type": "stream",
     "text": [
      "\n",
      "📘 Epoch 260/1000 - Train Loss: 2.0712\n"
     ]
    },
    {
     "data": {
      "application/vnd.jupyter.widget-view+json": {
       "model_id": "a9ff85b0f5774e7ea6c1527cbfc3a943",
       "version_major": 2,
       "version_minor": 0
      },
      "text/plain": [
       "Validating:   0%|          | 0/250 [00:00<?, ?it/s]"
      ]
     },
     "metadata": {},
     "output_type": "display_data"
    },
    {
     "name": "stdout",
     "output_type": "stream",
     "text": [
      "📗 Validation - Loss: 1.9303, Perplexity: 6.89, Token Acc: 40.36%\n",
      "✅ Saved checkpoint: checkpoints/blt_epoch260.pt\n"
     ]
    },
    {
     "data": {
      "application/vnd.jupyter.widget-view+json": {
       "model_id": "e2d6266ebf8c4fab8a448eaf9841a502",
       "version_major": 2,
       "version_minor": 0
      },
      "text/plain": [
       "Epoch 261/1000 [Training]:   0%|          | 0/1125 [00:00<?, ?it/s]"
      ]
     },
     "metadata": {},
     "output_type": "display_data"
    },
    {
     "name": "stdout",
     "output_type": "stream",
     "text": [
      "\n",
      "📘 Epoch 261/1000 - Train Loss: 2.0701\n"
     ]
    },
    {
     "data": {
      "application/vnd.jupyter.widget-view+json": {
       "model_id": "7e96497a24a14de3baa4a18f2241de41",
       "version_major": 2,
       "version_minor": 0
      },
      "text/plain": [
       "Validating:   0%|          | 0/250 [00:00<?, ?it/s]"
      ]
     },
     "metadata": {},
     "output_type": "display_data"
    },
    {
     "name": "stdout",
     "output_type": "stream",
     "text": [
      "📗 Validation - Loss: 1.9292, Perplexity: 6.88, Token Acc: 40.41%\n"
     ]
    },
    {
     "data": {
      "application/vnd.jupyter.widget-view+json": {
       "model_id": "237e1361f5be4c2c8395158173d8a586",
       "version_major": 2,
       "version_minor": 0
      },
      "text/plain": [
       "Epoch 262/1000 [Training]:   0%|          | 0/1125 [00:00<?, ?it/s]"
      ]
     },
     "metadata": {},
     "output_type": "display_data"
    },
    {
     "name": "stdout",
     "output_type": "stream",
     "text": [
      "\n",
      "📘 Epoch 262/1000 - Train Loss: 2.0687\n"
     ]
    },
    {
     "data": {
      "application/vnd.jupyter.widget-view+json": {
       "model_id": "a8423e6f25894640aa424995be6afda3",
       "version_major": 2,
       "version_minor": 0
      },
      "text/plain": [
       "Validating:   0%|          | 0/250 [00:00<?, ?it/s]"
      ]
     },
     "metadata": {},
     "output_type": "display_data"
    },
    {
     "name": "stdout",
     "output_type": "stream",
     "text": [
      "📗 Validation - Loss: 1.9310, Perplexity: 6.90, Token Acc: 40.30%\n",
      "✅ Saved checkpoint: checkpoints/blt_epoch262.pt\n"
     ]
    },
    {
     "data": {
      "application/vnd.jupyter.widget-view+json": {
       "model_id": "2e8a86f1c2254517849946739c5d07f7",
       "version_major": 2,
       "version_minor": 0
      },
      "text/plain": [
       "Epoch 263/1000 [Training]:   0%|          | 0/1125 [00:00<?, ?it/s]"
      ]
     },
     "metadata": {},
     "output_type": "display_data"
    },
    {
     "name": "stdout",
     "output_type": "stream",
     "text": [
      "\n",
      "📘 Epoch 263/1000 - Train Loss: 2.0695\n"
     ]
    },
    {
     "data": {
      "application/vnd.jupyter.widget-view+json": {
       "model_id": "d32eba4acfe14440a91744a8350714de",
       "version_major": 2,
       "version_minor": 0
      },
      "text/plain": [
       "Validating:   0%|          | 0/250 [00:00<?, ?it/s]"
      ]
     },
     "metadata": {},
     "output_type": "display_data"
    },
    {
     "name": "stdout",
     "output_type": "stream",
     "text": [
      "📗 Validation - Loss: 1.9309, Perplexity: 6.90, Token Acc: 40.21%\n"
     ]
    },
    {
     "data": {
      "application/vnd.jupyter.widget-view+json": {
       "model_id": "9b69c0cb778a444d86804c7f02b6d881",
       "version_major": 2,
       "version_minor": 0
      },
      "text/plain": [
       "Epoch 264/1000 [Training]:   0%|          | 0/1125 [00:00<?, ?it/s]"
      ]
     },
     "metadata": {},
     "output_type": "display_data"
    },
    {
     "name": "stdout",
     "output_type": "stream",
     "text": [
      "\n",
      "📘 Epoch 264/1000 - Train Loss: 2.0688\n"
     ]
    },
    {
     "data": {
      "application/vnd.jupyter.widget-view+json": {
       "model_id": "b691281c03044cf8b52dc3feb074de47",
       "version_major": 2,
       "version_minor": 0
      },
      "text/plain": [
       "Validating:   0%|          | 0/250 [00:00<?, ?it/s]"
      ]
     },
     "metadata": {},
     "output_type": "display_data"
    },
    {
     "name": "stdout",
     "output_type": "stream",
     "text": [
      "📗 Validation - Loss: 1.9291, Perplexity: 6.88, Token Acc: 40.40%\n",
      "✅ Saved checkpoint: checkpoints/blt_epoch264.pt\n"
     ]
    },
    {
     "data": {
      "application/vnd.jupyter.widget-view+json": {
       "model_id": "5a2db6720b75492da7ee879aed1d43a7",
       "version_major": 2,
       "version_minor": 0
      },
      "text/plain": [
       "Epoch 265/1000 [Training]:   0%|          | 0/1125 [00:00<?, ?it/s]"
      ]
     },
     "metadata": {},
     "output_type": "display_data"
    },
    {
     "name": "stdout",
     "output_type": "stream",
     "text": [
      "\n",
      "📘 Epoch 265/1000 - Train Loss: 2.0695\n"
     ]
    },
    {
     "data": {
      "application/vnd.jupyter.widget-view+json": {
       "model_id": "411ced2bf330446d826ae35f987d014f",
       "version_major": 2,
       "version_minor": 0
      },
      "text/plain": [
       "Validating:   0%|          | 0/250 [00:00<?, ?it/s]"
      ]
     },
     "metadata": {},
     "output_type": "display_data"
    },
    {
     "name": "stdout",
     "output_type": "stream",
     "text": [
      "📗 Validation - Loss: 1.9294, Perplexity: 6.89, Token Acc: 40.39%\n"
     ]
    },
    {
     "data": {
      "application/vnd.jupyter.widget-view+json": {
       "model_id": "8c99af7a31834466baf3c0c53f9ec5c9",
       "version_major": 2,
       "version_minor": 0
      },
      "text/plain": [
       "Epoch 266/1000 [Training]:   0%|          | 0/1125 [00:00<?, ?it/s]"
      ]
     },
     "metadata": {},
     "output_type": "display_data"
    },
    {
     "name": "stdout",
     "output_type": "stream",
     "text": [
      "\n",
      "📘 Epoch 266/1000 - Train Loss: 2.0691\n"
     ]
    },
    {
     "data": {
      "application/vnd.jupyter.widget-view+json": {
       "model_id": "d38b6f7624cd4153a0ae50855641dfb7",
       "version_major": 2,
       "version_minor": 0
      },
      "text/plain": [
       "Validating:   0%|          | 0/250 [00:00<?, ?it/s]"
      ]
     },
     "metadata": {},
     "output_type": "display_data"
    },
    {
     "name": "stdout",
     "output_type": "stream",
     "text": [
      "📗 Validation - Loss: 1.9302, Perplexity: 6.89, Token Acc: 40.43%\n",
      "✅ Saved checkpoint: checkpoints/blt_epoch266.pt\n"
     ]
    },
    {
     "data": {
      "application/vnd.jupyter.widget-view+json": {
       "model_id": "12a62f3aac4642abbb136611cd1b54bc",
       "version_major": 2,
       "version_minor": 0
      },
      "text/plain": [
       "Epoch 267/1000 [Training]:   0%|          | 0/1125 [00:00<?, ?it/s]"
      ]
     },
     "metadata": {},
     "output_type": "display_data"
    },
    {
     "name": "stdout",
     "output_type": "stream",
     "text": [
      "\n",
      "📘 Epoch 267/1000 - Train Loss: 2.0682\n"
     ]
    },
    {
     "data": {
      "application/vnd.jupyter.widget-view+json": {
       "model_id": "44fe073fdafa4795be6f6421ce66e301",
       "version_major": 2,
       "version_minor": 0
      },
      "text/plain": [
       "Validating:   0%|          | 0/250 [00:00<?, ?it/s]"
      ]
     },
     "metadata": {},
     "output_type": "display_data"
    },
    {
     "name": "stdout",
     "output_type": "stream",
     "text": [
      "📗 Validation - Loss: 1.9275, Perplexity: 6.87, Token Acc: 40.32%\n"
     ]
    },
    {
     "data": {
      "application/vnd.jupyter.widget-view+json": {
       "model_id": "d458f6e826164fe2bca2de995ac218b4",
       "version_major": 2,
       "version_minor": 0
      },
      "text/plain": [
       "Epoch 268/1000 [Training]:   0%|          | 0/1125 [00:00<?, ?it/s]"
      ]
     },
     "metadata": {},
     "output_type": "display_data"
    },
    {
     "name": "stdout",
     "output_type": "stream",
     "text": [
      "\n",
      "📘 Epoch 268/1000 - Train Loss: 2.0671\n"
     ]
    },
    {
     "data": {
      "application/vnd.jupyter.widget-view+json": {
       "model_id": "832f3926b6114b7292e263c2d1d35242",
       "version_major": 2,
       "version_minor": 0
      },
      "text/plain": [
       "Validating:   0%|          | 0/250 [00:00<?, ?it/s]"
      ]
     },
     "metadata": {},
     "output_type": "display_data"
    },
    {
     "name": "stdout",
     "output_type": "stream",
     "text": [
      "📗 Validation - Loss: 1.9289, Perplexity: 6.88, Token Acc: 40.31%\n",
      "✅ Saved checkpoint: checkpoints/blt_epoch268.pt\n"
     ]
    },
    {
     "data": {
      "application/vnd.jupyter.widget-view+json": {
       "model_id": "6cbc10aa2a3f46b3bdce29af80be9ad4",
       "version_major": 2,
       "version_minor": 0
      },
      "text/plain": [
       "Epoch 269/1000 [Training]:   0%|          | 0/1125 [00:00<?, ?it/s]"
      ]
     },
     "metadata": {},
     "output_type": "display_data"
    },
    {
     "name": "stdout",
     "output_type": "stream",
     "text": [
      "\n",
      "📘 Epoch 269/1000 - Train Loss: 2.0675\n"
     ]
    },
    {
     "data": {
      "application/vnd.jupyter.widget-view+json": {
       "model_id": "b452086d59424ab99067ca5992f7dd71",
       "version_major": 2,
       "version_minor": 0
      },
      "text/plain": [
       "Validating:   0%|          | 0/250 [00:00<?, ?it/s]"
      ]
     },
     "metadata": {},
     "output_type": "display_data"
    },
    {
     "name": "stdout",
     "output_type": "stream",
     "text": [
      "📗 Validation - Loss: 1.9277, Perplexity: 6.87, Token Acc: 40.47%\n"
     ]
    },
    {
     "data": {
      "application/vnd.jupyter.widget-view+json": {
       "model_id": "4655ed1c7e434f29a8b6b6d3625b0b53",
       "version_major": 2,
       "version_minor": 0
      },
      "text/plain": [
       "Epoch 270/1000 [Training]:   0%|          | 0/1125 [00:00<?, ?it/s]"
      ]
     },
     "metadata": {},
     "output_type": "display_data"
    },
    {
     "name": "stdout",
     "output_type": "stream",
     "text": [
      "\n",
      "📘 Epoch 270/1000 - Train Loss: 2.0672\n"
     ]
    },
    {
     "data": {
      "application/vnd.jupyter.widget-view+json": {
       "model_id": "0ad292168dcf48aea0655ef7ee3f63ae",
       "version_major": 2,
       "version_minor": 0
      },
      "text/plain": [
       "Validating:   0%|          | 0/250 [00:00<?, ?it/s]"
      ]
     },
     "metadata": {},
     "output_type": "display_data"
    },
    {
     "name": "stdout",
     "output_type": "stream",
     "text": [
      "📗 Validation - Loss: 1.9285, Perplexity: 6.88, Token Acc: 40.41%\n",
      "✅ Saved checkpoint: checkpoints/blt_epoch270.pt\n"
     ]
    },
    {
     "data": {
      "application/vnd.jupyter.widget-view+json": {
       "model_id": "699bfeb33480421fbde9d003e6d296ce",
       "version_major": 2,
       "version_minor": 0
      },
      "text/plain": [
       "Epoch 271/1000 [Training]:   0%|          | 0/1125 [00:00<?, ?it/s]"
      ]
     },
     "metadata": {},
     "output_type": "display_data"
    },
    {
     "name": "stdout",
     "output_type": "stream",
     "text": [
      "\n",
      "📘 Epoch 271/1000 - Train Loss: 2.0677\n"
     ]
    },
    {
     "data": {
      "application/vnd.jupyter.widget-view+json": {
       "model_id": "c037b313178c4d319e15e6dc61c0ef70",
       "version_major": 2,
       "version_minor": 0
      },
      "text/plain": [
       "Validating:   0%|          | 0/250 [00:00<?, ?it/s]"
      ]
     },
     "metadata": {},
     "output_type": "display_data"
    },
    {
     "name": "stdout",
     "output_type": "stream",
     "text": [
      "📗 Validation - Loss: 1.9261, Perplexity: 6.86, Token Acc: 40.38%\n"
     ]
    },
    {
     "data": {
      "application/vnd.jupyter.widget-view+json": {
       "model_id": "be2807c8b29a4a43a05234a8b2374eb2",
       "version_major": 2,
       "version_minor": 0
      },
      "text/plain": [
       "Epoch 272/1000 [Training]:   0%|          | 0/1125 [00:00<?, ?it/s]"
      ]
     },
     "metadata": {},
     "output_type": "display_data"
    },
    {
     "name": "stdout",
     "output_type": "stream",
     "text": [
      "\n",
      "📘 Epoch 272/1000 - Train Loss: 2.0661\n"
     ]
    },
    {
     "data": {
      "application/vnd.jupyter.widget-view+json": {
       "model_id": "4212396327a24fafa2efc4ef2b068bf7",
       "version_major": 2,
       "version_minor": 0
      },
      "text/plain": [
       "Validating:   0%|          | 0/250 [00:00<?, ?it/s]"
      ]
     },
     "metadata": {},
     "output_type": "display_data"
    },
    {
     "name": "stdout",
     "output_type": "stream",
     "text": [
      "📗 Validation - Loss: 1.9268, Perplexity: 6.87, Token Acc: 40.47%\n",
      "✅ Saved checkpoint: checkpoints/blt_epoch272.pt\n"
     ]
    },
    {
     "data": {
      "application/vnd.jupyter.widget-view+json": {
       "model_id": "56714e2c2f7d4314b30acadc755e8bab",
       "version_major": 2,
       "version_minor": 0
      },
      "text/plain": [
       "Epoch 273/1000 [Training]:   0%|          | 0/1125 [00:00<?, ?it/s]"
      ]
     },
     "metadata": {},
     "output_type": "display_data"
    },
    {
     "name": "stdout",
     "output_type": "stream",
     "text": [
      "\n",
      "📘 Epoch 273/1000 - Train Loss: 2.0665\n"
     ]
    },
    {
     "data": {
      "application/vnd.jupyter.widget-view+json": {
       "model_id": "6a518f986d574fd0bd8850d49c385aab",
       "version_major": 2,
       "version_minor": 0
      },
      "text/plain": [
       "Validating:   0%|          | 0/250 [00:00<?, ?it/s]"
      ]
     },
     "metadata": {},
     "output_type": "display_data"
    },
    {
     "name": "stdout",
     "output_type": "stream",
     "text": [
      "📗 Validation - Loss: 1.9245, Perplexity: 6.85, Token Acc: 40.58%\n"
     ]
    },
    {
     "data": {
      "application/vnd.jupyter.widget-view+json": {
       "model_id": "baca50ac5097425789d0e5d1200f4b83",
       "version_major": 2,
       "version_minor": 0
      },
      "text/plain": [
       "Epoch 274/1000 [Training]:   0%|          | 0/1125 [00:00<?, ?it/s]"
      ]
     },
     "metadata": {},
     "output_type": "display_data"
    },
    {
     "name": "stdout",
     "output_type": "stream",
     "text": [
      "\n",
      "📘 Epoch 274/1000 - Train Loss: 2.0670\n"
     ]
    },
    {
     "data": {
      "application/vnd.jupyter.widget-view+json": {
       "model_id": "686fe158e2c847ed9a48be805f2f5010",
       "version_major": 2,
       "version_minor": 0
      },
      "text/plain": [
       "Validating:   0%|          | 0/250 [00:00<?, ?it/s]"
      ]
     },
     "metadata": {},
     "output_type": "display_data"
    },
    {
     "name": "stdout",
     "output_type": "stream",
     "text": [
      "📗 Validation - Loss: 1.9254, Perplexity: 6.86, Token Acc: 40.50%\n",
      "✅ Saved checkpoint: checkpoints/blt_epoch274.pt\n"
     ]
    },
    {
     "data": {
      "application/vnd.jupyter.widget-view+json": {
       "model_id": "5d7f3c9e6eff48eb81902e21780a028d",
       "version_major": 2,
       "version_minor": 0
      },
      "text/plain": [
       "Epoch 275/1000 [Training]:   0%|          | 0/1125 [00:00<?, ?it/s]"
      ]
     },
     "metadata": {},
     "output_type": "display_data"
    },
    {
     "name": "stdout",
     "output_type": "stream",
     "text": [
      "\n",
      "📘 Epoch 275/1000 - Train Loss: 2.0663\n"
     ]
    },
    {
     "data": {
      "application/vnd.jupyter.widget-view+json": {
       "model_id": "307ae1b8618847c7a56eb771b507fb19",
       "version_major": 2,
       "version_minor": 0
      },
      "text/plain": [
       "Validating:   0%|          | 0/250 [00:00<?, ?it/s]"
      ]
     },
     "metadata": {},
     "output_type": "display_data"
    },
    {
     "name": "stdout",
     "output_type": "stream",
     "text": [
      "📗 Validation - Loss: 1.9259, Perplexity: 6.86, Token Acc: 40.66%\n"
     ]
    },
    {
     "data": {
      "application/vnd.jupyter.widget-view+json": {
       "model_id": "936dd70ca3c64c4f9130fb1b0489c20d",
       "version_major": 2,
       "version_minor": 0
      },
      "text/plain": [
       "Epoch 276/1000 [Training]:   0%|          | 0/1125 [00:00<?, ?it/s]"
      ]
     },
     "metadata": {},
     "output_type": "display_data"
    },
    {
     "name": "stdout",
     "output_type": "stream",
     "text": [
      "\n",
      "📘 Epoch 276/1000 - Train Loss: 2.0652\n"
     ]
    },
    {
     "data": {
      "application/vnd.jupyter.widget-view+json": {
       "model_id": "b3cf95ec056d4a8f85c95d73c6fc3cf1",
       "version_major": 2,
       "version_minor": 0
      },
      "text/plain": [
       "Validating:   0%|          | 0/250 [00:00<?, ?it/s]"
      ]
     },
     "metadata": {},
     "output_type": "display_data"
    },
    {
     "name": "stdout",
     "output_type": "stream",
     "text": [
      "📗 Validation - Loss: 1.9247, Perplexity: 6.85, Token Acc: 40.47%\n",
      "✅ Saved checkpoint: checkpoints/blt_epoch276.pt\n"
     ]
    },
    {
     "data": {
      "application/vnd.jupyter.widget-view+json": {
       "model_id": "3f78fd4fc5c141cc93fa64c1201168d7",
       "version_major": 2,
       "version_minor": 0
      },
      "text/plain": [
       "Epoch 277/1000 [Training]:   0%|          | 0/1125 [00:00<?, ?it/s]"
      ]
     },
     "metadata": {},
     "output_type": "display_data"
    },
    {
     "name": "stdout",
     "output_type": "stream",
     "text": [
      "\n",
      "📘 Epoch 277/1000 - Train Loss: 2.0643\n"
     ]
    },
    {
     "data": {
      "application/vnd.jupyter.widget-view+json": {
       "model_id": "99f644245ff34372b58d07863076af84",
       "version_major": 2,
       "version_minor": 0
      },
      "text/plain": [
       "Validating:   0%|          | 0/250 [00:00<?, ?it/s]"
      ]
     },
     "metadata": {},
     "output_type": "display_data"
    },
    {
     "name": "stdout",
     "output_type": "stream",
     "text": [
      "📗 Validation - Loss: 1.9249, Perplexity: 6.85, Token Acc: 40.58%\n"
     ]
    },
    {
     "data": {
      "application/vnd.jupyter.widget-view+json": {
       "model_id": "054e329fa1bf44a39e212fe0341c3e89",
       "version_major": 2,
       "version_minor": 0
      },
      "text/plain": [
       "Epoch 278/1000 [Training]:   0%|          | 0/1125 [00:00<?, ?it/s]"
      ]
     },
     "metadata": {},
     "output_type": "display_data"
    },
    {
     "name": "stdout",
     "output_type": "stream",
     "text": [
      "\n",
      "📘 Epoch 278/1000 - Train Loss: 2.0651\n"
     ]
    },
    {
     "data": {
      "application/vnd.jupyter.widget-view+json": {
       "model_id": "807de7fa0d574ed5869f18e7e902d397",
       "version_major": 2,
       "version_minor": 0
      },
      "text/plain": [
       "Validating:   0%|          | 0/250 [00:00<?, ?it/s]"
      ]
     },
     "metadata": {},
     "output_type": "display_data"
    },
    {
     "name": "stdout",
     "output_type": "stream",
     "text": [
      "📗 Validation - Loss: 1.9246, Perplexity: 6.85, Token Acc: 40.53%\n",
      "✅ Saved checkpoint: checkpoints/blt_epoch278.pt\n"
     ]
    },
    {
     "data": {
      "application/vnd.jupyter.widget-view+json": {
       "model_id": "eef09d2bdf044994bd754760404b0a1a",
       "version_major": 2,
       "version_minor": 0
      },
      "text/plain": [
       "Epoch 279/1000 [Training]:   0%|          | 0/1125 [00:00<?, ?it/s]"
      ]
     },
     "metadata": {},
     "output_type": "display_data"
    },
    {
     "name": "stdout",
     "output_type": "stream",
     "text": [
      "\n",
      "📘 Epoch 279/1000 - Train Loss: 2.0648\n"
     ]
    },
    {
     "data": {
      "application/vnd.jupyter.widget-view+json": {
       "model_id": "849071c3fdc743adb3e6eeb551427307",
       "version_major": 2,
       "version_minor": 0
      },
      "text/plain": [
       "Validating:   0%|          | 0/250 [00:00<?, ?it/s]"
      ]
     },
     "metadata": {},
     "output_type": "display_data"
    },
    {
     "name": "stdout",
     "output_type": "stream",
     "text": [
      "📗 Validation - Loss: 1.9237, Perplexity: 6.85, Token Acc: 40.64%\n"
     ]
    },
    {
     "data": {
      "application/vnd.jupyter.widget-view+json": {
       "model_id": "5c96841fbfda4cbdb712783662e77b6f",
       "version_major": 2,
       "version_minor": 0
      },
      "text/plain": [
       "Epoch 280/1000 [Training]:   0%|          | 0/1125 [00:00<?, ?it/s]"
      ]
     },
     "metadata": {},
     "output_type": "display_data"
    },
    {
     "name": "stdout",
     "output_type": "stream",
     "text": [
      "\n",
      "📘 Epoch 280/1000 - Train Loss: 2.0645\n"
     ]
    },
    {
     "data": {
      "application/vnd.jupyter.widget-view+json": {
       "model_id": "7cd37cf7eca549a6bee38ef0bd794878",
       "version_major": 2,
       "version_minor": 0
      },
      "text/plain": [
       "Validating:   0%|          | 0/250 [00:00<?, ?it/s]"
      ]
     },
     "metadata": {},
     "output_type": "display_data"
    },
    {
     "name": "stdout",
     "output_type": "stream",
     "text": [
      "📗 Validation - Loss: 1.9241, Perplexity: 6.85, Token Acc: 40.58%\n",
      "✅ Saved checkpoint: checkpoints/blt_epoch280.pt\n"
     ]
    },
    {
     "data": {
      "application/vnd.jupyter.widget-view+json": {
       "model_id": "584f1957252d4a33bded828df78c3e98",
       "version_major": 2,
       "version_minor": 0
      },
      "text/plain": [
       "Epoch 281/1000 [Training]:   0%|          | 0/1125 [00:00<?, ?it/s]"
      ]
     },
     "metadata": {},
     "output_type": "display_data"
    },
    {
     "name": "stdout",
     "output_type": "stream",
     "text": [
      "\n",
      "📘 Epoch 281/1000 - Train Loss: 2.0642\n"
     ]
    },
    {
     "data": {
      "application/vnd.jupyter.widget-view+json": {
       "model_id": "7ff18df1fba4485cba238fb6a7fb39e1",
       "version_major": 2,
       "version_minor": 0
      },
      "text/plain": [
       "Validating:   0%|          | 0/250 [00:00<?, ?it/s]"
      ]
     },
     "metadata": {},
     "output_type": "display_data"
    },
    {
     "name": "stdout",
     "output_type": "stream",
     "text": [
      "📗 Validation - Loss: 1.9236, Perplexity: 6.85, Token Acc: 40.63%\n"
     ]
    },
    {
     "data": {
      "application/vnd.jupyter.widget-view+json": {
       "model_id": "7b9707907df64f47bd5d0fd0e6de8a07",
       "version_major": 2,
       "version_minor": 0
      },
      "text/plain": [
       "Epoch 282/1000 [Training]:   0%|          | 0/1125 [00:00<?, ?it/s]"
      ]
     },
     "metadata": {},
     "output_type": "display_data"
    },
    {
     "name": "stdout",
     "output_type": "stream",
     "text": [
      "\n",
      "📘 Epoch 282/1000 - Train Loss: 2.0647\n"
     ]
    },
    {
     "data": {
      "application/vnd.jupyter.widget-view+json": {
       "model_id": "09cee784a2a84dacb3f62ef827b0c7e3",
       "version_major": 2,
       "version_minor": 0
      },
      "text/plain": [
       "Validating:   0%|          | 0/250 [00:00<?, ?it/s]"
      ]
     },
     "metadata": {},
     "output_type": "display_data"
    },
    {
     "name": "stdout",
     "output_type": "stream",
     "text": [
      "📗 Validation - Loss: 1.9232, Perplexity: 6.84, Token Acc: 40.49%\n",
      "✅ Saved checkpoint: checkpoints/blt_epoch282.pt\n"
     ]
    },
    {
     "data": {
      "application/vnd.jupyter.widget-view+json": {
       "model_id": "a5db9cbda51d4074b425438fa5a42810",
       "version_major": 2,
       "version_minor": 0
      },
      "text/plain": [
       "Epoch 283/1000 [Training]:   0%|          | 0/1125 [00:00<?, ?it/s]"
      ]
     },
     "metadata": {},
     "output_type": "display_data"
    },
    {
     "name": "stdout",
     "output_type": "stream",
     "text": [
      "\n",
      "📘 Epoch 283/1000 - Train Loss: 2.0639\n"
     ]
    },
    {
     "data": {
      "application/vnd.jupyter.widget-view+json": {
       "model_id": "0b0307833df440229dc97eb5c1cb2ecf",
       "version_major": 2,
       "version_minor": 0
      },
      "text/plain": [
       "Validating:   0%|          | 0/250 [00:00<?, ?it/s]"
      ]
     },
     "metadata": {},
     "output_type": "display_data"
    },
    {
     "name": "stdout",
     "output_type": "stream",
     "text": [
      "📗 Validation - Loss: 1.9240, Perplexity: 6.85, Token Acc: 40.47%\n"
     ]
    },
    {
     "data": {
      "application/vnd.jupyter.widget-view+json": {
       "model_id": "1c369f097ed54ae9b179c439c65dc3b2",
       "version_major": 2,
       "version_minor": 0
      },
      "text/plain": [
       "Epoch 284/1000 [Training]:   0%|          | 0/1125 [00:00<?, ?it/s]"
      ]
     },
     "metadata": {},
     "output_type": "display_data"
    },
    {
     "name": "stdout",
     "output_type": "stream",
     "text": [
      "\n",
      "📘 Epoch 284/1000 - Train Loss: 2.0641\n"
     ]
    },
    {
     "data": {
      "application/vnd.jupyter.widget-view+json": {
       "model_id": "a8c5ead056254b62901147a968d3425c",
       "version_major": 2,
       "version_minor": 0
      },
      "text/plain": [
       "Validating:   0%|          | 0/250 [00:00<?, ?it/s]"
      ]
     },
     "metadata": {},
     "output_type": "display_data"
    },
    {
     "name": "stdout",
     "output_type": "stream",
     "text": [
      "📗 Validation - Loss: 1.9232, Perplexity: 6.84, Token Acc: 40.71%\n",
      "✅ Saved checkpoint: checkpoints/blt_epoch284.pt\n"
     ]
    },
    {
     "data": {
      "application/vnd.jupyter.widget-view+json": {
       "model_id": "3d7294fb013d408d9060a7df24326c65",
       "version_major": 2,
       "version_minor": 0
      },
      "text/plain": [
       "Epoch 285/1000 [Training]:   0%|          | 0/1125 [00:00<?, ?it/s]"
      ]
     },
     "metadata": {},
     "output_type": "display_data"
    },
    {
     "name": "stdout",
     "output_type": "stream",
     "text": [
      "\n",
      "📘 Epoch 285/1000 - Train Loss: 2.0634\n"
     ]
    },
    {
     "data": {
      "application/vnd.jupyter.widget-view+json": {
       "model_id": "855cd3aa1e24462e946662e7e36f5d6e",
       "version_major": 2,
       "version_minor": 0
      },
      "text/plain": [
       "Validating:   0%|          | 0/250 [00:00<?, ?it/s]"
      ]
     },
     "metadata": {},
     "output_type": "display_data"
    },
    {
     "name": "stdout",
     "output_type": "stream",
     "text": [
      "📗 Validation - Loss: 1.9233, Perplexity: 6.84, Token Acc: 40.43%\n"
     ]
    },
    {
     "data": {
      "application/vnd.jupyter.widget-view+json": {
       "model_id": "2a9e1a3c580f4b4a980b12e28324685e",
       "version_major": 2,
       "version_minor": 0
      },
      "text/plain": [
       "Epoch 286/1000 [Training]:   0%|          | 0/1125 [00:00<?, ?it/s]"
      ]
     },
     "metadata": {},
     "output_type": "display_data"
    },
    {
     "name": "stdout",
     "output_type": "stream",
     "text": [
      "\n",
      "📘 Epoch 286/1000 - Train Loss: 2.0619\n"
     ]
    },
    {
     "data": {
      "application/vnd.jupyter.widget-view+json": {
       "model_id": "75d42802cf5a4377bbb3fe9fbe2a59e8",
       "version_major": 2,
       "version_minor": 0
      },
      "text/plain": [
       "Validating:   0%|          | 0/250 [00:00<?, ?it/s]"
      ]
     },
     "metadata": {},
     "output_type": "display_data"
    },
    {
     "name": "stdout",
     "output_type": "stream",
     "text": [
      "📗 Validation - Loss: 1.9211, Perplexity: 6.83, Token Acc: 40.60%\n",
      "✅ Saved checkpoint: checkpoints/blt_epoch286.pt\n"
     ]
    },
    {
     "data": {
      "application/vnd.jupyter.widget-view+json": {
       "model_id": "65adcb16d28d44319394cd51793d7a14",
       "version_major": 2,
       "version_minor": 0
      },
      "text/plain": [
       "Epoch 287/1000 [Training]:   0%|          | 0/1125 [00:00<?, ?it/s]"
      ]
     },
     "metadata": {},
     "output_type": "display_data"
    },
    {
     "name": "stdout",
     "output_type": "stream",
     "text": [
      "\n",
      "📘 Epoch 287/1000 - Train Loss: 2.0628\n"
     ]
    },
    {
     "data": {
      "application/vnd.jupyter.widget-view+json": {
       "model_id": "76f363735b114832b7aece32d87b6b41",
       "version_major": 2,
       "version_minor": 0
      },
      "text/plain": [
       "Validating:   0%|          | 0/250 [00:00<?, ?it/s]"
      ]
     },
     "metadata": {},
     "output_type": "display_data"
    },
    {
     "name": "stdout",
     "output_type": "stream",
     "text": [
      "📗 Validation - Loss: 1.9226, Perplexity: 6.84, Token Acc: 40.57%\n"
     ]
    },
    {
     "data": {
      "application/vnd.jupyter.widget-view+json": {
       "model_id": "68db0e37064a4f03a4318ccca34c8391",
       "version_major": 2,
       "version_minor": 0
      },
      "text/plain": [
       "Epoch 288/1000 [Training]:   0%|          | 0/1125 [00:00<?, ?it/s]"
      ]
     },
     "metadata": {},
     "output_type": "display_data"
    },
    {
     "name": "stdout",
     "output_type": "stream",
     "text": [
      "\n",
      "📘 Epoch 288/1000 - Train Loss: 2.0630\n"
     ]
    },
    {
     "data": {
      "application/vnd.jupyter.widget-view+json": {
       "model_id": "ccc09dae762c424db3f941b74c9c7438",
       "version_major": 2,
       "version_minor": 0
      },
      "text/plain": [
       "Validating:   0%|          | 0/250 [00:00<?, ?it/s]"
      ]
     },
     "metadata": {},
     "output_type": "display_data"
    },
    {
     "name": "stdout",
     "output_type": "stream",
     "text": [
      "📗 Validation - Loss: 1.9220, Perplexity: 6.83, Token Acc: 40.53%\n",
      "✅ Saved checkpoint: checkpoints/blt_epoch288.pt\n"
     ]
    },
    {
     "data": {
      "application/vnd.jupyter.widget-view+json": {
       "model_id": "28b3f797442a4c04919f5a9dd7ca9454",
       "version_major": 2,
       "version_minor": 0
      },
      "text/plain": [
       "Epoch 289/1000 [Training]:   0%|          | 0/1125 [00:00<?, ?it/s]"
      ]
     },
     "metadata": {},
     "output_type": "display_data"
    },
    {
     "name": "stdout",
     "output_type": "stream",
     "text": [
      "\n",
      "📘 Epoch 289/1000 - Train Loss: 2.0633\n"
     ]
    },
    {
     "data": {
      "application/vnd.jupyter.widget-view+json": {
       "model_id": "c7accc6220f34dbe9507d47826eac413",
       "version_major": 2,
       "version_minor": 0
      },
      "text/plain": [
       "Validating:   0%|          | 0/250 [00:00<?, ?it/s]"
      ]
     },
     "metadata": {},
     "output_type": "display_data"
    },
    {
     "name": "stdout",
     "output_type": "stream",
     "text": [
      "📗 Validation - Loss: 1.9214, Perplexity: 6.83, Token Acc: 40.61%\n"
     ]
    },
    {
     "data": {
      "application/vnd.jupyter.widget-view+json": {
       "model_id": "77862751dd7f4b39a511c43b2f6fb1b9",
       "version_major": 2,
       "version_minor": 0
      },
      "text/plain": [
       "Epoch 290/1000 [Training]:   0%|          | 0/1125 [00:00<?, ?it/s]"
      ]
     },
     "metadata": {},
     "output_type": "display_data"
    },
    {
     "name": "stdout",
     "output_type": "stream",
     "text": [
      "\n",
      "📘 Epoch 290/1000 - Train Loss: 2.0623\n"
     ]
    },
    {
     "data": {
      "application/vnd.jupyter.widget-view+json": {
       "model_id": "2836e18a3b3e4fba8efe987019ca479f",
       "version_major": 2,
       "version_minor": 0
      },
      "text/plain": [
       "Validating:   0%|          | 0/250 [00:00<?, ?it/s]"
      ]
     },
     "metadata": {},
     "output_type": "display_data"
    },
    {
     "name": "stdout",
     "output_type": "stream",
     "text": [
      "📗 Validation - Loss: 1.9211, Perplexity: 6.83, Token Acc: 40.62%\n",
      "✅ Saved checkpoint: checkpoints/blt_epoch290.pt\n"
     ]
    },
    {
     "data": {
      "application/vnd.jupyter.widget-view+json": {
       "model_id": "b0ea3794d7cf419ba345ee52f938c652",
       "version_major": 2,
       "version_minor": 0
      },
      "text/plain": [
       "Epoch 291/1000 [Training]:   0%|          | 0/1125 [00:00<?, ?it/s]"
      ]
     },
     "metadata": {},
     "output_type": "display_data"
    },
    {
     "name": "stdout",
     "output_type": "stream",
     "text": [
      "\n",
      "📘 Epoch 291/1000 - Train Loss: 2.0607\n"
     ]
    },
    {
     "data": {
      "application/vnd.jupyter.widget-view+json": {
       "model_id": "ccd59d20292248949623d70513b6b713",
       "version_major": 2,
       "version_minor": 0
      },
      "text/plain": [
       "Validating:   0%|          | 0/250 [00:00<?, ?it/s]"
      ]
     },
     "metadata": {},
     "output_type": "display_data"
    },
    {
     "name": "stdout",
     "output_type": "stream",
     "text": [
      "📗 Validation - Loss: 1.9222, Perplexity: 6.84, Token Acc: 40.53%\n"
     ]
    },
    {
     "data": {
      "application/vnd.jupyter.widget-view+json": {
       "model_id": "9813f91db9954f7ea9dbbd76d949c699",
       "version_major": 2,
       "version_minor": 0
      },
      "text/plain": [
       "Epoch 292/1000 [Training]:   0%|          | 0/1125 [00:00<?, ?it/s]"
      ]
     },
     "metadata": {},
     "output_type": "display_data"
    },
    {
     "name": "stdout",
     "output_type": "stream",
     "text": [
      "\n",
      "📘 Epoch 292/1000 - Train Loss: 2.0625\n"
     ]
    },
    {
     "data": {
      "application/vnd.jupyter.widget-view+json": {
       "model_id": "6c6279183cc74e9d8f745bdd0096ba09",
       "version_major": 2,
       "version_minor": 0
      },
      "text/plain": [
       "Validating:   0%|          | 0/250 [00:00<?, ?it/s]"
      ]
     },
     "metadata": {},
     "output_type": "display_data"
    },
    {
     "name": "stdout",
     "output_type": "stream",
     "text": [
      "📗 Validation - Loss: 1.9208, Perplexity: 6.83, Token Acc: 40.71%\n",
      "✅ Saved checkpoint: checkpoints/blt_epoch292.pt\n"
     ]
    },
    {
     "data": {
      "application/vnd.jupyter.widget-view+json": {
       "model_id": "e015bbf30a644248be7023d69124ed93",
       "version_major": 2,
       "version_minor": 0
      },
      "text/plain": [
       "Epoch 293/1000 [Training]:   0%|          | 0/1125 [00:00<?, ?it/s]"
      ]
     },
     "metadata": {},
     "output_type": "display_data"
    },
    {
     "name": "stdout",
     "output_type": "stream",
     "text": [
      "\n",
      "📘 Epoch 293/1000 - Train Loss: 2.0621\n"
     ]
    },
    {
     "data": {
      "application/vnd.jupyter.widget-view+json": {
       "model_id": "8c41851cef1e442b84d654db324ed8e5",
       "version_major": 2,
       "version_minor": 0
      },
      "text/plain": [
       "Validating:   0%|          | 0/250 [00:00<?, ?it/s]"
      ]
     },
     "metadata": {},
     "output_type": "display_data"
    },
    {
     "name": "stdout",
     "output_type": "stream",
     "text": [
      "📗 Validation - Loss: 1.9211, Perplexity: 6.83, Token Acc: 40.61%\n"
     ]
    },
    {
     "data": {
      "application/vnd.jupyter.widget-view+json": {
       "model_id": "613ac039f9c74a64b0bdd1194d29d5a5",
       "version_major": 2,
       "version_minor": 0
      },
      "text/plain": [
       "Epoch 294/1000 [Training]:   0%|          | 0/1125 [00:00<?, ?it/s]"
      ]
     },
     "metadata": {},
     "output_type": "display_data"
    },
    {
     "name": "stdout",
     "output_type": "stream",
     "text": [
      "\n",
      "📘 Epoch 294/1000 - Train Loss: 2.0617\n"
     ]
    },
    {
     "data": {
      "application/vnd.jupyter.widget-view+json": {
       "model_id": "2572b14aac904e20bcb634c7d2e766d9",
       "version_major": 2,
       "version_minor": 0
      },
      "text/plain": [
       "Validating:   0%|          | 0/250 [00:00<?, ?it/s]"
      ]
     },
     "metadata": {},
     "output_type": "display_data"
    },
    {
     "name": "stdout",
     "output_type": "stream",
     "text": [
      "📗 Validation - Loss: 1.9202, Perplexity: 6.82, Token Acc: 40.68%\n",
      "✅ Saved checkpoint: checkpoints/blt_epoch294.pt\n"
     ]
    },
    {
     "data": {
      "application/vnd.jupyter.widget-view+json": {
       "model_id": "8f2fdbd3a6474a8ea46699a020716b2f",
       "version_major": 2,
       "version_minor": 0
      },
      "text/plain": [
       "Epoch 295/1000 [Training]:   0%|          | 0/1125 [00:00<?, ?it/s]"
      ]
     },
     "metadata": {},
     "output_type": "display_data"
    },
    {
     "name": "stdout",
     "output_type": "stream",
     "text": [
      "\n",
      "📘 Epoch 295/1000 - Train Loss: 2.0608\n"
     ]
    },
    {
     "data": {
      "application/vnd.jupyter.widget-view+json": {
       "model_id": "fa7f73f7d42b45999a4c543eaf318144",
       "version_major": 2,
       "version_minor": 0
      },
      "text/plain": [
       "Validating:   0%|          | 0/250 [00:00<?, ?it/s]"
      ]
     },
     "metadata": {},
     "output_type": "display_data"
    },
    {
     "name": "stdout",
     "output_type": "stream",
     "text": [
      "📗 Validation - Loss: 1.9200, Perplexity: 6.82, Token Acc: 40.62%\n"
     ]
    },
    {
     "data": {
      "application/vnd.jupyter.widget-view+json": {
       "model_id": "5454eb50a9c84b01be81667c2dfcc101",
       "version_major": 2,
       "version_minor": 0
      },
      "text/plain": [
       "Epoch 296/1000 [Training]:   0%|          | 0/1125 [00:00<?, ?it/s]"
      ]
     },
     "metadata": {},
     "output_type": "display_data"
    },
    {
     "name": "stdout",
     "output_type": "stream",
     "text": [
      "\n",
      "📘 Epoch 296/1000 - Train Loss: 2.0613\n"
     ]
    },
    {
     "data": {
      "application/vnd.jupyter.widget-view+json": {
       "model_id": "b4c202de607041fa923cf8804ad6d3b8",
       "version_major": 2,
       "version_minor": 0
      },
      "text/plain": [
       "Validating:   0%|          | 0/250 [00:00<?, ?it/s]"
      ]
     },
     "metadata": {},
     "output_type": "display_data"
    },
    {
     "name": "stdout",
     "output_type": "stream",
     "text": [
      "📗 Validation - Loss: 1.9215, Perplexity: 6.83, Token Acc: 40.54%\n",
      "✅ Saved checkpoint: checkpoints/blt_epoch296.pt\n"
     ]
    },
    {
     "data": {
      "application/vnd.jupyter.widget-view+json": {
       "model_id": "132402263c054c2599870cb53eed1090",
       "version_major": 2,
       "version_minor": 0
      },
      "text/plain": [
       "Epoch 297/1000 [Training]:   0%|          | 0/1125 [00:00<?, ?it/s]"
      ]
     },
     "metadata": {},
     "output_type": "display_data"
    },
    {
     "name": "stdout",
     "output_type": "stream",
     "text": [
      "\n",
      "📘 Epoch 297/1000 - Train Loss: 2.0611\n"
     ]
    },
    {
     "data": {
      "application/vnd.jupyter.widget-view+json": {
       "model_id": "0b0e2735f5bf4c1db47fa7e02a31ca20",
       "version_major": 2,
       "version_minor": 0
      },
      "text/plain": [
       "Validating:   0%|          | 0/250 [00:00<?, ?it/s]"
      ]
     },
     "metadata": {},
     "output_type": "display_data"
    },
    {
     "name": "stdout",
     "output_type": "stream",
     "text": [
      "📗 Validation - Loss: 1.9196, Perplexity: 6.82, Token Acc: 40.61%\n"
     ]
    },
    {
     "data": {
      "application/vnd.jupyter.widget-view+json": {
       "model_id": "389d03a4f77a4dfaad20862e9f26fd72",
       "version_major": 2,
       "version_minor": 0
      },
      "text/plain": [
       "Epoch 298/1000 [Training]:   0%|          | 0/1125 [00:00<?, ?it/s]"
      ]
     },
     "metadata": {},
     "output_type": "display_data"
    },
    {
     "name": "stdout",
     "output_type": "stream",
     "text": [
      "\n",
      "📘 Epoch 298/1000 - Train Loss: 2.0607\n"
     ]
    },
    {
     "data": {
      "application/vnd.jupyter.widget-view+json": {
       "model_id": "a8ff0627f622492aae6d90ea24956370",
       "version_major": 2,
       "version_minor": 0
      },
      "text/plain": [
       "Validating:   0%|          | 0/250 [00:00<?, ?it/s]"
      ]
     },
     "metadata": {},
     "output_type": "display_data"
    },
    {
     "name": "stdout",
     "output_type": "stream",
     "text": [
      "📗 Validation - Loss: 1.9194, Perplexity: 6.82, Token Acc: 40.61%\n",
      "✅ Saved checkpoint: checkpoints/blt_epoch298.pt\n"
     ]
    },
    {
     "data": {
      "application/vnd.jupyter.widget-view+json": {
       "model_id": "d9c99ff616b0481597fc3499cd1b6e4b",
       "version_major": 2,
       "version_minor": 0
      },
      "text/plain": [
       "Epoch 299/1000 [Training]:   0%|          | 0/1125 [00:00<?, ?it/s]"
      ]
     },
     "metadata": {},
     "output_type": "display_data"
    },
    {
     "name": "stdout",
     "output_type": "stream",
     "text": [
      "\n",
      "📘 Epoch 299/1000 - Train Loss: 2.0607\n"
     ]
    },
    {
     "data": {
      "application/vnd.jupyter.widget-view+json": {
       "model_id": "dc9a0258e4a844598eb832526788dff3",
       "version_major": 2,
       "version_minor": 0
      },
      "text/plain": [
       "Validating:   0%|          | 0/250 [00:00<?, ?it/s]"
      ]
     },
     "metadata": {},
     "output_type": "display_data"
    },
    {
     "name": "stdout",
     "output_type": "stream",
     "text": [
      "📗 Validation - Loss: 1.9193, Perplexity: 6.82, Token Acc: 40.59%\n"
     ]
    },
    {
     "data": {
      "application/vnd.jupyter.widget-view+json": {
       "model_id": "5b81a0fb24014abc8d07dd72aa6fdda3",
       "version_major": 2,
       "version_minor": 0
      },
      "text/plain": [
       "Epoch 300/1000 [Training]:   0%|          | 0/1125 [00:00<?, ?it/s]"
      ]
     },
     "metadata": {},
     "output_type": "display_data"
    },
    {
     "name": "stdout",
     "output_type": "stream",
     "text": [
      "\n",
      "📘 Epoch 300/1000 - Train Loss: 2.0605\n"
     ]
    },
    {
     "data": {
      "application/vnd.jupyter.widget-view+json": {
       "model_id": "eb1953f317014bacbb95fdc58191067a",
       "version_major": 2,
       "version_minor": 0
      },
      "text/plain": [
       "Validating:   0%|          | 0/250 [00:00<?, ?it/s]"
      ]
     },
     "metadata": {},
     "output_type": "display_data"
    },
    {
     "name": "stdout",
     "output_type": "stream",
     "text": [
      "📗 Validation - Loss: 1.9198, Perplexity: 6.82, Token Acc: 40.58%\n",
      "✅ Saved checkpoint: checkpoints/blt_epoch300.pt\n"
     ]
    },
    {
     "data": {
      "application/vnd.jupyter.widget-view+json": {
       "model_id": "2652a100033f46e1890b3afedcdd8c70",
       "version_major": 2,
       "version_minor": 0
      },
      "text/plain": [
       "Epoch 301/1000 [Training]:   0%|          | 0/1125 [00:00<?, ?it/s]"
      ]
     },
     "metadata": {},
     "output_type": "display_data"
    },
    {
     "name": "stdout",
     "output_type": "stream",
     "text": [
      "\n",
      "📘 Epoch 301/1000 - Train Loss: 2.0601\n"
     ]
    },
    {
     "data": {
      "application/vnd.jupyter.widget-view+json": {
       "model_id": "de044430274540a6a87599e46eb69fb4",
       "version_major": 2,
       "version_minor": 0
      },
      "text/plain": [
       "Validating:   0%|          | 0/250 [00:00<?, ?it/s]"
      ]
     },
     "metadata": {},
     "output_type": "display_data"
    },
    {
     "name": "stdout",
     "output_type": "stream",
     "text": [
      "📗 Validation - Loss: 1.9200, Perplexity: 6.82, Token Acc: 40.58%\n"
     ]
    },
    {
     "data": {
      "application/vnd.jupyter.widget-view+json": {
       "model_id": "1530907846ec4548b4b3d732249b17ca",
       "version_major": 2,
       "version_minor": 0
      },
      "text/plain": [
       "Epoch 302/1000 [Training]:   0%|          | 0/1125 [00:00<?, ?it/s]"
      ]
     },
     "metadata": {},
     "output_type": "display_data"
    },
    {
     "name": "stdout",
     "output_type": "stream",
     "text": [
      "\n",
      "📘 Epoch 302/1000 - Train Loss: 2.0602\n"
     ]
    },
    {
     "data": {
      "application/vnd.jupyter.widget-view+json": {
       "model_id": "031e7fc31009442c8a634b0155c47718",
       "version_major": 2,
       "version_minor": 0
      },
      "text/plain": [
       "Validating:   0%|          | 0/250 [00:00<?, ?it/s]"
      ]
     },
     "metadata": {},
     "output_type": "display_data"
    },
    {
     "name": "stdout",
     "output_type": "stream",
     "text": [
      "📗 Validation - Loss: 1.9188, Perplexity: 6.81, Token Acc: 40.63%\n",
      "✅ Saved checkpoint: checkpoints/blt_epoch302.pt\n"
     ]
    },
    {
     "data": {
      "application/vnd.jupyter.widget-view+json": {
       "model_id": "c3128640958842fc95d54daf7016b286",
       "version_major": 2,
       "version_minor": 0
      },
      "text/plain": [
       "Epoch 303/1000 [Training]:   0%|          | 0/1125 [00:00<?, ?it/s]"
      ]
     },
     "metadata": {},
     "output_type": "display_data"
    },
    {
     "name": "stdout",
     "output_type": "stream",
     "text": [
      "\n",
      "📘 Epoch 303/1000 - Train Loss: 2.0597\n"
     ]
    },
    {
     "data": {
      "application/vnd.jupyter.widget-view+json": {
       "model_id": "6047fb8755164ffd87375e01c89f9eeb",
       "version_major": 2,
       "version_minor": 0
      },
      "text/plain": [
       "Validating:   0%|          | 0/250 [00:00<?, ?it/s]"
      ]
     },
     "metadata": {},
     "output_type": "display_data"
    },
    {
     "name": "stdout",
     "output_type": "stream",
     "text": [
      "📗 Validation - Loss: 1.9185, Perplexity: 6.81, Token Acc: 40.78%\n"
     ]
    },
    {
     "data": {
      "application/vnd.jupyter.widget-view+json": {
       "model_id": "5796a70f4e024e3fa5ebad686826b72a",
       "version_major": 2,
       "version_minor": 0
      },
      "text/plain": [
       "Epoch 304/1000 [Training]:   0%|          | 0/1125 [00:00<?, ?it/s]"
      ]
     },
     "metadata": {},
     "output_type": "display_data"
    },
    {
     "name": "stdout",
     "output_type": "stream",
     "text": [
      "\n",
      "📘 Epoch 304/1000 - Train Loss: 2.0601\n"
     ]
    },
    {
     "data": {
      "application/vnd.jupyter.widget-view+json": {
       "model_id": "ba20a25f81c94eb8a54bb48d30f54db1",
       "version_major": 2,
       "version_minor": 0
      },
      "text/plain": [
       "Validating:   0%|          | 0/250 [00:00<?, ?it/s]"
      ]
     },
     "metadata": {},
     "output_type": "display_data"
    },
    {
     "name": "stdout",
     "output_type": "stream",
     "text": [
      "📗 Validation - Loss: 1.9189, Perplexity: 6.81, Token Acc: 40.62%\n",
      "✅ Saved checkpoint: checkpoints/blt_epoch304.pt\n"
     ]
    },
    {
     "data": {
      "application/vnd.jupyter.widget-view+json": {
       "model_id": "4a695f85e2aa4a9a9852cddc23788c90",
       "version_major": 2,
       "version_minor": 0
      },
      "text/plain": [
       "Epoch 305/1000 [Training]:   0%|          | 0/1125 [00:00<?, ?it/s]"
      ]
     },
     "metadata": {},
     "output_type": "display_data"
    },
    {
     "ename": "KeyboardInterrupt",
     "evalue": "",
     "output_type": "error",
     "traceback": [
      "\u001b[31m---------------------------------------------------------------------------\u001b[39m",
      "\u001b[31mKeyboardInterrupt\u001b[39m                         Traceback (most recent call last)",
      "\u001b[36mCell\u001b[39m\u001b[36m \u001b[39m\u001b[32mIn[74]\u001b[39m\u001b[32m, line 18\u001b[39m\n\u001b[32m      9\u001b[39m     torch.set_float32_matmul_precision(\u001b[33m\"\u001b[39m\u001b[33mhigh\u001b[39m\u001b[33m\"\u001b[39m)\n\u001b[32m     11\u001b[39m model = BLTModel(\n\u001b[32m     12\u001b[39m     vocab_size=\u001b[38;5;28mlen\u001b[39m(VOCAB), \n\u001b[32m     13\u001b[39m     d_model=\u001b[32m64\u001b[39m, \n\u001b[32m     14\u001b[39m     nhead=\u001b[32m4\u001b[39m, \n\u001b[32m     15\u001b[39m     dropout=\u001b[32m0.1\u001b[39m\n\u001b[32m     16\u001b[39m )\n\u001b[32m---> \u001b[39m\u001b[32m18\u001b[39m \u001b[43mtrain_blt\u001b[49m\u001b[43m(\u001b[49m\n\u001b[32m     19\u001b[39m \u001b[43m    \u001b[49m\u001b[43mmodel\u001b[49m\u001b[43m=\u001b[49m\u001b[43mmodel\u001b[49m\u001b[43m,\u001b[49m\n\u001b[32m     20\u001b[39m \u001b[43m    \u001b[49m\u001b[43mtrain_loader\u001b[49m\u001b[43m=\u001b[49m\u001b[43mtrain_loader\u001b[49m\u001b[43m,\u001b[49m\n\u001b[32m     21\u001b[39m \u001b[43m    \u001b[49m\u001b[43mval_loader\u001b[49m\u001b[43m=\u001b[49m\u001b[43mval_loader\u001b[49m\u001b[43m,\u001b[49m\n\u001b[32m     22\u001b[39m \u001b[43m    \u001b[49m\u001b[43mnum_epochs\u001b[49m\u001b[43m=\u001b[49m\u001b[43mNUM_EPOCHS\u001b[49m\u001b[43m,\u001b[49m\n\u001b[32m     23\u001b[39m \u001b[43m    \u001b[49m\u001b[43mlr\u001b[49m\u001b[43m=\u001b[49m\u001b[43mLEARNING_RATE\u001b[49m\u001b[43m,\u001b[49m\n\u001b[32m     24\u001b[39m \u001b[43m    \u001b[49m\u001b[43mdevice\u001b[49m\u001b[43m=\u001b[49m\u001b[43mdevice\u001b[49m\u001b[43m,\u001b[49m\n\u001b[32m     25\u001b[39m \u001b[43m    \u001b[49m\u001b[43msave_every\u001b[49m\u001b[43m=\u001b[49m\u001b[43mSAVE_EVERY\u001b[49m\u001b[43m,\u001b[49m\n\u001b[32m     26\u001b[39m \u001b[43m    \u001b[49m\u001b[43mresume_path\u001b[49m\u001b[43m=\u001b[49m\u001b[33;43m\"\u001b[39;49m\u001b[33;43mcheckpoints/blt_epoch168.pt\u001b[39;49m\u001b[33;43m\"\u001b[39;49m\n\u001b[32m     27\u001b[39m \u001b[43m\u001b[49m\u001b[43m)\u001b[49m\n",
      "\u001b[36mCell\u001b[39m\u001b[36m \u001b[39m\u001b[32mIn[61]\u001b[39m\u001b[32m, line 54\u001b[39m, in \u001b[36mtrain_blt\u001b[39m\u001b[34m(model, train_loader, val_loader, num_epochs, lr, device, save_every, resume_path)\u001b[39m\n\u001b[32m     51\u001b[39m tgt_out = tgt_padded[:, \u001b[32m1\u001b[39m:]\n\u001b[32m     52\u001b[39m tgt_pad_mask = (tgt_inp == PAD_IDX)\n\u001b[32m---> \u001b[39m\u001b[32m54\u001b[39m logits = \u001b[43mmodel\u001b[49m\u001b[43m(\u001b[49m\u001b[43msrc_patches\u001b[49m\u001b[43m,\u001b[49m\u001b[43m \u001b[49m\u001b[43mtgt_inp\u001b[49m\u001b[43m,\u001b[49m\u001b[43m \u001b[49m\u001b[43mtgt_pad_mask\u001b[49m\u001b[43m)\u001b[49m\n\u001b[32m     55\u001b[39m loss = criterion(logits.reshape(-\u001b[32m1\u001b[39m, logits.shape[-\u001b[32m1\u001b[39m]), tgt_out.reshape(-\u001b[32m1\u001b[39m))\n\u001b[32m     57\u001b[39m optimizer.zero_grad()\n",
      "\u001b[36mFile \u001b[39m\u001b[32m/Library/Frameworks/Python.framework/Versions/3.13/lib/python3.13/site-packages/torch/nn/modules/module.py:1773\u001b[39m, in \u001b[36mModule._wrapped_call_impl\u001b[39m\u001b[34m(self, *args, **kwargs)\u001b[39m\n\u001b[32m   1771\u001b[39m     \u001b[38;5;28;01mreturn\u001b[39;00m \u001b[38;5;28mself\u001b[39m._compiled_call_impl(*args, **kwargs)  \u001b[38;5;66;03m# type: ignore[misc]\u001b[39;00m\n\u001b[32m   1772\u001b[39m \u001b[38;5;28;01melse\u001b[39;00m:\n\u001b[32m-> \u001b[39m\u001b[32m1773\u001b[39m     \u001b[38;5;28;01mreturn\u001b[39;00m \u001b[38;5;28;43mself\u001b[39;49m\u001b[43m.\u001b[49m\u001b[43m_call_impl\u001b[49m\u001b[43m(\u001b[49m\u001b[43m*\u001b[49m\u001b[43margs\u001b[49m\u001b[43m,\u001b[49m\u001b[43m \u001b[49m\u001b[43m*\u001b[49m\u001b[43m*\u001b[49m\u001b[43mkwargs\u001b[49m\u001b[43m)\u001b[49m\n",
      "\u001b[36mFile \u001b[39m\u001b[32m/Library/Frameworks/Python.framework/Versions/3.13/lib/python3.13/site-packages/torch/nn/modules/module.py:1784\u001b[39m, in \u001b[36mModule._call_impl\u001b[39m\u001b[34m(self, *args, **kwargs)\u001b[39m\n\u001b[32m   1779\u001b[39m \u001b[38;5;66;03m# If we don't have any hooks, we want to skip the rest of the logic in\u001b[39;00m\n\u001b[32m   1780\u001b[39m \u001b[38;5;66;03m# this function, and just call forward.\u001b[39;00m\n\u001b[32m   1781\u001b[39m \u001b[38;5;28;01mif\u001b[39;00m \u001b[38;5;129;01mnot\u001b[39;00m (\u001b[38;5;28mself\u001b[39m._backward_hooks \u001b[38;5;129;01mor\u001b[39;00m \u001b[38;5;28mself\u001b[39m._backward_pre_hooks \u001b[38;5;129;01mor\u001b[39;00m \u001b[38;5;28mself\u001b[39m._forward_hooks \u001b[38;5;129;01mor\u001b[39;00m \u001b[38;5;28mself\u001b[39m._forward_pre_hooks\n\u001b[32m   1782\u001b[39m         \u001b[38;5;129;01mor\u001b[39;00m _global_backward_pre_hooks \u001b[38;5;129;01mor\u001b[39;00m _global_backward_hooks\n\u001b[32m   1783\u001b[39m         \u001b[38;5;129;01mor\u001b[39;00m _global_forward_hooks \u001b[38;5;129;01mor\u001b[39;00m _global_forward_pre_hooks):\n\u001b[32m-> \u001b[39m\u001b[32m1784\u001b[39m     \u001b[38;5;28;01mreturn\u001b[39;00m \u001b[43mforward_call\u001b[49m\u001b[43m(\u001b[49m\u001b[43m*\u001b[49m\u001b[43margs\u001b[49m\u001b[43m,\u001b[49m\u001b[43m \u001b[49m\u001b[43m*\u001b[49m\u001b[43m*\u001b[49m\u001b[43mkwargs\u001b[49m\u001b[43m)\u001b[49m\n\u001b[32m   1786\u001b[39m result = \u001b[38;5;28;01mNone\u001b[39;00m\n\u001b[32m   1787\u001b[39m called_always_called_hooks = \u001b[38;5;28mset\u001b[39m()\n",
      "\u001b[36mCell\u001b[39m\u001b[36m \u001b[39m\u001b[32mIn[59]\u001b[39m\u001b[32m, line 55\u001b[39m, in \u001b[36mBLTModel.forward\u001b[39m\u001b[34m(self, src_patches_batch, tgt_inp, tgt_pad_mask)\u001b[39m\n\u001b[32m     53\u001b[39m         sample_emb = torch.zeros(\u001b[32m1\u001b[39m, \u001b[38;5;28mself\u001b[39m.d_model, device=device)\n\u001b[32m     54\u001b[39m     \u001b[38;5;28;01melse\u001b[39;00m:\n\u001b[32m---> \u001b[39m\u001b[32m55\u001b[39m         sample_emb = torch.stack([\u001b[38;5;28;43mself\u001b[39;49m\u001b[43m.\u001b[49m\u001b[43mpatch_embedder\u001b[49m\u001b[43m(\u001b[49m\u001b[43mp\u001b[49m\u001b[43m)\u001b[49m \u001b[38;5;28;01mfor\u001b[39;00m p \u001b[38;5;129;01min\u001b[39;00m patch_list])\n\u001b[32m     56\u001b[39m     batch_embeddings.append(sample_emb)\n\u001b[32m     58\u001b[39m src_emb = pad_sequence(batch_embeddings, batch_first=\u001b[38;5;28;01mTrue\u001b[39;00m, padding_value=\u001b[32m0.0\u001b[39m)\n",
      "\u001b[36mFile \u001b[39m\u001b[32m/Library/Frameworks/Python.framework/Versions/3.13/lib/python3.13/site-packages/torch/nn/modules/module.py:1773\u001b[39m, in \u001b[36mModule._wrapped_call_impl\u001b[39m\u001b[34m(self, *args, **kwargs)\u001b[39m\n\u001b[32m   1771\u001b[39m     \u001b[38;5;28;01mreturn\u001b[39;00m \u001b[38;5;28mself\u001b[39m._compiled_call_impl(*args, **kwargs)  \u001b[38;5;66;03m# type: ignore[misc]\u001b[39;00m\n\u001b[32m   1772\u001b[39m \u001b[38;5;28;01melse\u001b[39;00m:\n\u001b[32m-> \u001b[39m\u001b[32m1773\u001b[39m     \u001b[38;5;28;01mreturn\u001b[39;00m \u001b[38;5;28;43mself\u001b[39;49m\u001b[43m.\u001b[49m\u001b[43m_call_impl\u001b[49m\u001b[43m(\u001b[49m\u001b[43m*\u001b[49m\u001b[43margs\u001b[49m\u001b[43m,\u001b[49m\u001b[43m \u001b[49m\u001b[43m*\u001b[49m\u001b[43m*\u001b[49m\u001b[43mkwargs\u001b[49m\u001b[43m)\u001b[49m\n",
      "\u001b[36mFile \u001b[39m\u001b[32m/Library/Frameworks/Python.framework/Versions/3.13/lib/python3.13/site-packages/torch/nn/modules/module.py:1784\u001b[39m, in \u001b[36mModule._call_impl\u001b[39m\u001b[34m(self, *args, **kwargs)\u001b[39m\n\u001b[32m   1779\u001b[39m \u001b[38;5;66;03m# If we don't have any hooks, we want to skip the rest of the logic in\u001b[39;00m\n\u001b[32m   1780\u001b[39m \u001b[38;5;66;03m# this function, and just call forward.\u001b[39;00m\n\u001b[32m   1781\u001b[39m \u001b[38;5;28;01mif\u001b[39;00m \u001b[38;5;129;01mnot\u001b[39;00m (\u001b[38;5;28mself\u001b[39m._backward_hooks \u001b[38;5;129;01mor\u001b[39;00m \u001b[38;5;28mself\u001b[39m._backward_pre_hooks \u001b[38;5;129;01mor\u001b[39;00m \u001b[38;5;28mself\u001b[39m._forward_hooks \u001b[38;5;129;01mor\u001b[39;00m \u001b[38;5;28mself\u001b[39m._forward_pre_hooks\n\u001b[32m   1782\u001b[39m         \u001b[38;5;129;01mor\u001b[39;00m _global_backward_pre_hooks \u001b[38;5;129;01mor\u001b[39;00m _global_backward_hooks\n\u001b[32m   1783\u001b[39m         \u001b[38;5;129;01mor\u001b[39;00m _global_forward_hooks \u001b[38;5;129;01mor\u001b[39;00m _global_forward_pre_hooks):\n\u001b[32m-> \u001b[39m\u001b[32m1784\u001b[39m     \u001b[38;5;28;01mreturn\u001b[39;00m \u001b[43mforward_call\u001b[49m\u001b[43m(\u001b[49m\u001b[43m*\u001b[49m\u001b[43margs\u001b[49m\u001b[43m,\u001b[49m\u001b[43m \u001b[49m\u001b[43m*\u001b[49m\u001b[43m*\u001b[49m\u001b[43mkwargs\u001b[49m\u001b[43m)\u001b[49m\n\u001b[32m   1786\u001b[39m result = \u001b[38;5;28;01mNone\u001b[39;00m\n\u001b[32m   1787\u001b[39m called_always_called_hooks = \u001b[38;5;28mset\u001b[39m()\n",
      "\u001b[36mCell\u001b[39m\u001b[36m \u001b[39m\u001b[32mIn[41]\u001b[39m\u001b[32m, line 29\u001b[39m, in \u001b[36mPatchEmbedder.forward\u001b[39m\u001b[34m(self, patch)\u001b[39m\n\u001b[32m     27\u001b[39m     \u001b[38;5;28;01mfor\u001b[39;00m ng \u001b[38;5;129;01min\u001b[39;00m ngrams:\n\u001b[32m     28\u001b[39m         bucket = hash_ngram(ng, \u001b[38;5;28mself\u001b[39m.num_buckets)\n\u001b[32m---> \u001b[39m\u001b[32m29\u001b[39m         idx = \u001b[43mtorch\u001b[49m\u001b[43m.\u001b[49m\u001b[43mtensor\u001b[49m\u001b[43m(\u001b[49m\u001b[43mbucket\u001b[49m\u001b[43m,\u001b[49m\u001b[43m \u001b[49m\u001b[43mdtype\u001b[49m\u001b[43m=\u001b[49m\u001b[43mtorch\u001b[49m\u001b[43m.\u001b[49m\u001b[43mlong\u001b[49m\u001b[43m,\u001b[49m\u001b[43m \u001b[49m\u001b[43mdevice\u001b[49m\u001b[43m=\u001b[49m\u001b[43mdevice\u001b[49m\u001b[43m)\u001b[49m\n\u001b[32m     30\u001b[39m         vectors.append(\u001b[38;5;28mself\u001b[39m.embeddings[\u001b[38;5;28mstr\u001b[39m(n)](idx))\n\u001b[32m     32\u001b[39m \u001b[38;5;28;01mif\u001b[39;00m \u001b[38;5;28mlen\u001b[39m(vectors) == \u001b[32m0\u001b[39m:\n",
      "\u001b[31mKeyboardInterrupt\u001b[39m: "
     ]
    }
   ],
   "source": [
    "if __name__ == '__main__':\n",
    "    LEARNING_RATE = 1e-4\n",
    "    BATCH_SIZE = 8\n",
    "    NUM_EPOCHS = 1000\n",
    "    SAVE_EVERY = 2\n",
    "\n",
    "    device = torch.device(\"mps\" if torch.backends.mps.is_available() else \"cpu\")\n",
    "    if device.type == \"mps\":\n",
    "        torch.set_float32_matmul_precision(\"high\")\n",
    "\n",
    "    model = BLTModel(\n",
    "        vocab_size=len(VOCAB), \n",
    "        d_model=64, \n",
    "        nhead=4, \n",
    "        dropout=0.1\n",
    "    )\n",
    "\n",
    "    train_blt(\n",
    "        model=model,\n",
    "        train_loader=train_loader,\n",
    "        val_loader=val_loader,\n",
    "        num_epochs=NUM_EPOCHS,\n",
    "        lr=LEARNING_RATE,\n",
    "        device=device,\n",
    "        save_every=SAVE_EVERY,\n",
    "        resume_path=\"checkpoints/blt_epoch304.pt\"\n",
    "    )"
   ]
  },
  {
   "cell_type": "markdown",
   "id": "9b3cfa26",
   "metadata": {},
   "source": [
    "## Testing and Validating BLT"
   ]
  },
  {
   "cell_type": "code",
   "execution_count": 71,
   "id": "306f8464",
   "metadata": {},
   "outputs": [
    {
     "name": "stdout",
     "output_type": "stream",
     "text": [
      "✅ Loaded checkpoint from epoch 168\n"
     ]
    },
    {
     "data": {
      "application/vnd.jupyter.widget-view+json": {
       "model_id": "f146939dec504f67b8fe458440cc855e",
       "version_major": 2,
       "version_minor": 0
      },
      "text/plain": [
       "🧪 Evaluating Test Set:   0%|          | 0/250 [00:00<?, ?it/s]"
      ]
     },
     "metadata": {},
     "output_type": "display_data"
    },
    {
     "name": "stderr",
     "output_type": "stream",
     "text": [
      "/Library/Frameworks/Python.framework/Versions/3.13/lib/python3.13/site-packages/torch/nn/functional.py:6041: UserWarning: Support for mismatched key_padding_mask and attn_mask is deprecated. Use same type for both instead.\n",
      "  warnings.warn(\n"
     ]
    },
    {
     "name": "stdout",
     "output_type": "stream",
     "text": [
      "\n",
      "--- 📊 Final BLT Model Evaluation ---\n",
      "  - Final Train Loss:    2.1115 (from checkpoint)\n",
      "--------------------------------------\n",
      "  - Test Loss:           1.9690\n",
      "  - Test Token Accuracy: 39.03%\n",
      "  - Test Perplexity:     7.16\n",
      "--------------------------------------\n"
     ]
    }
   ],
   "source": [
    "import torch\n",
    "import torch.nn as nn\n",
    "import pandas as pd\n",
    "import os\n",
    "import math\n",
    "from torch.utils.data import DataLoader\n",
    "from tqdm.auto import tqdm\n",
    "\n",
    "# --- Step 1: Define ALL necessary components from your training script ---\n",
    "# This makes the script runnable on its own.\n",
    "\n",
    "# Assume your core helper functions are defined here:\n",
    "# patchify, hash_ngram, extract_ngrams\n",
    "\n",
    "# Assume your model classes are defined here:\n",
    "# PatchEmbedder, PositionalEncoding, BLTModel\n",
    "\n",
    "# --- Step 2: The Simplified Evaluation Function ---\n",
    "\n",
    "@torch.no_grad()\n",
    "def evaluate_final_model(model_class, vocab_size, ckpt_path, test_loader, device):\n",
    "    \"\"\"\n",
    "    Loads a model from a checkpoint and evaluates it on the test set.\n",
    "    \"\"\"\n",
    "    if not os.path.exists(ckpt_path):\n",
    "        raise FileNotFoundError(f\"Checkpoint not found at: {ckpt_path}\")\n",
    "\n",
    "    # --- Load Checkpoint and Model ---\n",
    "    checkpoint = torch.load(ckpt_path, map_location=device)\n",
    "    \n",
    "    # Instantiate the model with the correct architecture\n",
    "    model = model_class(\n",
    "        vocab_size=vocab_size, \n",
    "        d_model=64, \n",
    "        nhead=4, \n",
    "        dropout=0.1\n",
    "    ).to(device)\n",
    "    \n",
    "    model.load_state_dict(checkpoint[\"model_state\"])\n",
    "    model.eval()\n",
    "    \n",
    "    print(f\"✅ Loaded checkpoint from epoch {checkpoint['epoch']}\")\n",
    "\n",
    "    # --- Extract Metrics from Checkpoint ---\n",
    "    train_loss = checkpoint.get('loss', 'N/A') # .get is safer\n",
    "    \n",
    "    # --- Evaluation Loop ---\n",
    "    criterion = nn.CrossEntropyLoss(ignore_index=PAD_IDX)\n",
    "    total_loss = 0.0\n",
    "    correct_tokens = 0\n",
    "    total_tokens = 0\n",
    "\n",
    "    progress_bar = tqdm(test_loader, desc=\"🧪 Evaluating Test Set\")\n",
    "    for src_patches, tgt_padded in progress_bar:\n",
    "        # Correctly handle the new data format\n",
    "        tgt_padded = tgt_padded.to(device)\n",
    "        tgt_inp = tgt_padded[:, :-1]\n",
    "        tgt_out = tgt_padded[:, 1:]\n",
    "        tgt_pad_mask = (tgt_inp == PAD_IDX)\n",
    "        \n",
    "        # Correctly call the model\n",
    "        logits = model(src_patches, tgt_inp, tgt_pad_mask)\n",
    "\n",
    "        # Calculate Loss\n",
    "        loss = criterion(logits.reshape(-1, logits.shape[-1]), tgt_out.reshape(-1))\n",
    "        total_loss += loss.item()\n",
    "\n",
    "        # Calculate Accuracy\n",
    "        preds = logits.argmax(dim=-1)\n",
    "        mask = (tgt_out != PAD_IDX)\n",
    "        correct_tokens += ((preds == tgt_out) & mask).sum().item()\n",
    "        total_tokens += mask.sum().item()\n",
    "\n",
    "    # --- Calculate Final Metrics ---\n",
    "    avg_test_loss = total_loss / len(test_loader)\n",
    "    accuracy = 100.0 * correct_tokens / total_tokens if total_tokens > 0 else 0\n",
    "    perplexity = math.exp(avg_test_loss) if avg_test_loss < 100 else float('inf')\n",
    "    \n",
    "    return {\n",
    "        \"train_loss\": train_loss,\n",
    "        \"test_loss\": avg_test_loss,\n",
    "        \"accuracy\": accuracy,\n",
    "        \"perplexity\": perplexity\n",
    "    }\n",
    "\n",
    "# --- Step 3: Main Execution Block ---\n",
    "\n",
    "if __name__ == '__main__':\n",
    "    # --- Configuration ---\n",
    "    CHECKPOINT_PATH = \"checkpoints/blt_epoch168.pt\" # The final model to test\n",
    "    BATCH_SIZE = 8\n",
    "    \n",
    "    # Setup device\n",
    "    device = torch.device(\"mps\" if torch.backends.mps.is_available() else \"cpu\")\n",
    "\n",
    "    # --- Load Data ---\n",
    "    # You must have the test.csv file available\n",
    "    test_ds = BLTDataset(csv_path=\"./../data/test.csv\")\n",
    "    test_loader = DataLoader(\n",
    "        test_ds,\n",
    "        batch_size=BATCH_SIZE,\n",
    "        shuffle=False,\n",
    "        collate_fn=blt_collate_fn\n",
    "    )\n",
    "\n",
    "    # --- Run Evaluation ---\n",
    "    results = evaluate_final_model(\n",
    "        model_class=BLTModel,\n",
    "        vocab_size=len(VOCAB),\n",
    "        ckpt_path=CHECKPOINT_PATH,\n",
    "        test_loader=test_loader,\n",
    "        device=device\n",
    "    )\n",
    "\n",
    "    # --- Print a Clean Report ---\n",
    "    print(\"\\n--- 📊 Final BLT Model Evaluation ---\")\n",
    "    print(f\"  - Final Train Loss:    {results['train_loss']:.4f} (from checkpoint)\")\n",
    "    print(\"--------------------------------------\")\n",
    "    print(f\"  - Test Loss:           {results['test_loss']:.4f}\")\n",
    "    print(f\"  - Test Token Accuracy: {results['accuracy']:.2f}%\")\n",
    "    print(f\"  - Test Perplexity:     {results['perplexity']:.2f}\")\n",
    "    print(\"--------------------------------------\")"
   ]
  },
  {
   "cell_type": "markdown",
   "id": "ed7fda4e",
   "metadata": {},
   "source": [
    "## Graphs and all"
   ]
  },
  {
   "cell_type": "code",
   "execution_count": 75,
   "id": "5a0275dd",
   "metadata": {},
   "outputs": [
    {
     "name": "stdout",
     "output_type": "stream",
     "text": [
      "--- Successfully Parsed Metrics ---\n",
      "   epoch  train_loss  val_loss  val_perplexity  val_accuracy\n",
      "0      1      2.9616    2.6513           14.17         21.77\n",
      "1      2      2.6379    2.5659           13.01         23.33\n",
      "2      3      2.5791    2.5193           12.42         24.34\n",
      "3      4      2.5480    2.4904           12.07         25.07\n",
      "4      5      2.5237    2.4670           11.79         25.63\n",
      "\n",
      "✅ Graphs saved to 'training_metrics_plot.png'\n"
     ]
    },
    {
     "data": {
      "image/png": "[encoded data removed]",
      "text/plain": [
       "<Figure size 1000x1500 with 3 Axes>"
      ]
     },
     "metadata": {},
     "output_type": "display_data"
    }
   ],
   "source": [
    "import pandas as pd\n",
    "import re\n",
    "import matplotlib.pyplot as plt\n",
    "import seaborn as sns\n",
    "\n",
    "# --- User Configuration ---\n",
    "# Just change this to the name of your saved log file.\n",
    "LOG_FILE_PATH = \"training_log.txt\"\n",
    "\n",
    "def parse_log_file(file_path):\n",
    "    \"\"\"\n",
    "    Reads the training log file and extracts metrics using regular expressions.\n",
    "    This is extremely fast as it does not load any models.\n",
    "    \"\"\"\n",
    "    metrics = []\n",
    "    \n",
    "    # Regex to find the lines with our metrics\n",
    "    train_loss_regex = re.compile(r\"Epoch (\\d+)/\\d+ - Train Loss: ([\\d.]+)\")\n",
    "    val_metrics_regex = re.compile(r\"Validation - Loss: ([\\d.]+), Perplexity: ([\\d.]+), Token Acc: ([\\d.]+)%\")\n",
    "\n",
    "    try:\n",
    "        with open(file_path, 'r') as f:\n",
    "            lines = f.readlines()\n",
    "    except FileNotFoundError:\n",
    "        print(f\"ERROR: The log file was not found at '{file_path}'\")\n",
    "        print(\"Please save your training output to this file and try again.\")\n",
    "        return pd.DataFrame()\n",
    "\n",
    "    epoch_data = {}\n",
    "    for line in lines:\n",
    "        train_match = train_loss_regex.search(line)\n",
    "        val_match = val_metrics_regex.search(line)\n",
    "\n",
    "        if train_match:\n",
    "            # When we find a new training loss, we start a new record\n",
    "            if epoch_data: # Save the previous epoch's complete data\n",
    "                metrics.append(epoch_data)\n",
    "            epoch_data = {\n",
    "                \"epoch\": int(train_match.group(1)),\n",
    "                \"train_loss\": float(train_match.group(2))\n",
    "            }\n",
    "        \n",
    "        if val_match and epoch_data:\n",
    "            # Add validation metrics to the current epoch's record\n",
    "            epoch_data[\"val_loss\"] = float(val_match.group(1))\n",
    "            epoch_data[\"val_perplexity\"] = float(val_match.group(2))\n",
    "            epoch_data[\"val_accuracy\"] = float(val_match.group(3))\n",
    "\n",
    "    if epoch_data: # Append the last record\n",
    "        metrics.append(epoch_data)\n",
    "        \n",
    "    return pd.DataFrame(metrics)\n",
    "\n",
    "# --- Main Execution ---\n",
    "if __name__ == '__main__':\n",
    "    # 1. Parse the log file to get the metrics DataFrame\n",
    "    metrics_df = parse_log_file(LOG_FILE_PATH)\n",
    "\n",
    "    if metrics_df.empty:\n",
    "        print(\"Could not extract any data. Please check the log file content and path.\")\n",
    "    else:\n",
    "        print(\"--- Successfully Parsed Metrics ---\")\n",
    "        print(metrics_df.head())\n",
    "\n",
    "        # 2. Plotting the results\n",
    "        sns.set_theme(style=\"whitegrid\")\n",
    "        fig, axes = plt.subplots(3, 1, figsize=(10, 15), sharex=True)\n",
    "        fig.suptitle('BLT Model Training Metrics', fontsize=16)\n",
    "\n",
    "        # Plot 1: Training vs. Validation Loss\n",
    "        sns.lineplot(data=metrics_df, x='epoch', y='train_loss', ax=axes[0], label='Training Loss', color='b', marker='o')\n",
    "        sns.lineplot(data=metrics_df, x='epoch', y='val_loss', ax=axes[0], label='Validation Loss', color='r', marker='o')\n",
    "        axes[0].set_title('Training vs. Validation Loss')\n",
    "        axes[0].set_ylabel('Loss')\n",
    "        axes[0].legend()\n",
    "\n",
    "        # Plot 2: Validation Token Accuracy\n",
    "        sns.lineplot(data=metrics_df, x='epoch', y='val_accuracy', ax=axes[1], color='g', marker='o')\n",
    "        axes[1].set_title('Validation Token Accuracy')\n",
    "        axes[1].set_ylabel('Accuracy (%)')\n",
    "\n",
    "        # Plot 3: Validation Perplexity\n",
    "        sns.lineplot(data=metrics_df, x='epoch', y='val_perplexity', ax=axes[2], color='purple', marker='o')\n",
    "        axes[2].set_title('Validation Perplexity')\n",
    "        axes[2].set_ylabel('Perplexity')\n",
    "        axes[2].set_xlabel('Epoch')\n",
    "        axes[2].set_ylim(bottom=1) # Perplexity is meaningless below 1\n",
    "\n",
    "        plt.tight_layout(rect=[0, 0, 1, 0.97])\n",
    "        # Save the figure to a file\n",
    "        plt.savefig(\"training_metrics_plot.png\")\n",
    "        print(\"\\n✅ Graphs saved to 'training_metrics_plot.png'\")\n",
    "        plt.show()"
   ]
  },
  {
   "cell_type": "markdown",
   "id": "82fb7ca9",
   "metadata": {},
   "source": [
    "## Inference Function (Text-to-Text Generation)"
   ]
  },
  {
   "cell_type": "code",
   "execution_count": 76,
   "id": "7d22d8db",
   "metadata": {},
   "outputs": [
    {
     "name": "stdout",
     "output_type": "stream",
     "text": [
      "✅ Loaded checkpoint from epoch 304\n"
     ]
    },
    {
     "name": "stderr",
     "output_type": "stream",
     "text": [
      "/Library/Frameworks/Python.framework/Versions/3.13/lib/python3.13/site-packages/torch/nn/functional.py:6041: UserWarning: Support for mismatched key_padding_mask and attn_mask is deprecated. Use same type for both instead.\n",
      "  warnings.warn(\n"
     ]
    },
    {
     "name": "stdout",
     "output_type": "stream",
     "text": [
      "\n",
      "--- Inference Result ---\n",
      "Input:  'reconciliation trolls realized scene'\n",
      "Output: 'seillic detarts noitarep seillic noitaredni'\n",
      "Expected: 'enecs dezilaer sllort noitailicnocer'\n"
     ]
    }
   ],
   "source": [
    "import torch\n",
    "import torch.nn as nn\n",
    "\n",
    "# --- Step 1: Define necessary components and vocabulary ---\n",
    "# This should be consistent with your training script.\n",
    "\n",
    "# Assume your helper functions (patchify) and model classes (BLTModel) are defined or imported.\n",
    "# Assume your vocabulary constants are also defined. For clarity, here they are again:\n",
    "PRINTABLE_ASCII = [chr(i) for i in range(32, 127)]\n",
    "VOCAB = ['<PAD>', '<SOS>', '<EOS>'] + PRINTABLE_ASCII\n",
    "CHAR_TO_IDX = {ch: i for i, ch in enumerate(VOCAB)}\n",
    "IDX_TO_CHAR = {i: ch for i, ch in enumerate(VOCAB)}\n",
    "PAD_IDX = CHAR_TO_IDX['<PAD>']\n",
    "SOS_IDX = CHAR_TO_IDX['<SOS>']\n",
    "EOS_IDX = CHAR_TO_IDX['<EOS>']\n",
    "\n",
    "\n",
    "# --- Step 2: The Corrected Generation Function ---\n",
    "\n",
    "@torch.no_grad()\n",
    "def generate_prediction(model, input_text, max_len=100, device=None):\n",
    "    \"\"\"\n",
    "    Generates a text-to-text prediction using the complete BLTModel.\n",
    "    \"\"\"\n",
    "    if device is None:\n",
    "        device = torch.device(\"mps\" if torch.backends.mps.is_available() else \"cpu\")\n",
    "\n",
    "    model.eval()\n",
    "    model.to(device)\n",
    "\n",
    "    # 1. Prepare the input: The model expects a BATCH of patch lists.\n",
    "    #    For a single prediction, we create a batch of size 1.\n",
    "    patches = patchify(input_text)\n",
    "    src_patches_batch = [patches] # e.g., [['patch1', 'patch2']]\n",
    "\n",
    "    # 2. Start the decoding process with the Start-Of-Sequence token.\n",
    "    output_ids = [SOS_IDX]\n",
    "\n",
    "    # 3. Autoregressively generate the output sequence one token at a time.\n",
    "    for _ in range(max_len):\n",
    "        # Prepare the current sequence as the decoder's input\n",
    "        tgt_inp = torch.tensor([output_ids], dtype=torch.long, device=device)\n",
    "        tgt_pad_mask = (tgt_inp == PAD_IDX)\n",
    "\n",
    "        # >>> THE CRITICAL STEP <<<\n",
    "        # Call the full model. It will handle the patch embedding, encoder,\n",
    "        # global transformer, and decoder internally.\n",
    "        logits = model(src_patches_batch, tgt_inp, tgt_pad_mask)\n",
    "        \n",
    "        # 4. Get the next token using greedy decoding (picking the most likely one).\n",
    "        next_id = logits[:, -1, :].argmax().item()\n",
    "        \n",
    "        # 5. Append the new token and check if we should stop.\n",
    "        output_ids.append(next_id)\n",
    "        if next_id == EOS_IDX:\n",
    "            break\n",
    "            \n",
    "    # 6. Convert the final list of token IDs back to a string.\n",
    "    #    We skip the first token, which is the <SOS> token.\n",
    "    output_text = \"\".join([IDX_TO_CHAR.get(i, \"\") for i in output_ids[1:] if i != EOS_IDX])\n",
    "    \n",
    "    return output_text\n",
    "\n",
    "\n",
    "# --- Step 3: Example Usage ---\n",
    "\n",
    "if __name__ == '__main__':\n",
    "    # --- Load your final, trained model ---\n",
    "    device = torch.device(\"mps\" if torch.backends.mps.is_available() else \"cpu\")\n",
    "    \n",
    "    # Instantiate the model with the correct vocab size\n",
    "    model = BLTModel(vocab_size=len(VOCAB), d_model=64, nhead=4)\n",
    "    \n",
    "    # Load the checkpoint\n",
    "    ckpt_path = \"checkpoints/blt_epoch304.pt\" # IMPORTANT: Use your final checkpoint\n",
    "    checkpoint = torch.load(ckpt_path, map_location=device)\n",
    "    model.load_state_dict(checkpoint[\"model_state\"])\n",
    "    print(f\"✅ Loaded checkpoint from epoch {checkpoint['epoch']}\")\n",
    "\n",
    "    # --- Run Prediction ---\n",
    "    input_text = \"reconciliation trolls realized scene\"\n",
    "    output_text = generate_prediction(model, input_text, max_len=100, device=device)\n",
    "    \n",
    "    print(\"\\n--- Inference Result ---\")\n",
    "    print(f\"Input:  '{input_text}'\")\n",
    "    print(f\"Output: '{output_text}'\")\n",
    "    print(f\"Expected: '{input_text[::-1]}'\")"
   ]
  },
  {
   "cell_type": "markdown",
   "id": "b8ebaf1f",
   "metadata": {},
   "source": [
    "## Prediction on test data and saving CSV"
   ]
  },
  {
   "cell_type": "code",
   "execution_count": null,
   "id": "eddc3475",
   "metadata": {},
   "outputs": [],
   "source": [
    "import torch\n",
    "import torch.nn as nn\n",
    "import pandas as pd\n",
    "import os\n",
    "from torch.utils.data import Dataset, DataLoader\n",
    "from tqdm.auto import tqdm\n",
    "\n",
    "# --- Step 1: Define ALL necessary components from your training script ---\n",
    "# This makes the script runnable on its own.\n",
    "# You MUST paste your final, corrected versions of the following:\n",
    "#\n",
    "# 1. All helper functions (patchify, etc.)\n",
    "# 2. All vocabulary constants (VOCAB, CHAR_TO_IDX, IDX_TO_CHAR, PAD_IDX, SOS_IDX, EOS_IDX)\n",
    "# 3. The BLTDataset class\n",
    "# 4. The blt_collate_fn function\n",
    "# 5. The PatchEmbedder, PositionalEncoding, and BLTModel classes\n",
    "\n",
    "# --- Step 2: A Batch-Oriented Generation Function (Much Faster) ---\n",
    "\n",
    "@torch.no_grad()\n",
    "def generate_batch_predictions(model, data_loader, max_len=100, device=None):\n",
    "    \"\"\"\n",
    "    Generates predictions for an entire DataLoader in batches for efficiency.\n",
    "    \"\"\"\n",
    "    if device is None:\n",
    "        device = torch.device(\"mps\" if torch.backends.mps.is_available() else \"cpu\")\n",
    "    \n",
    "    model.eval()\n",
    "    model.to(device)\n",
    "    \n",
    "    all_predictions = []\n",
    "    progress_bar = tqdm(data_loader, desc=\"🚀 Generating Predictions\")\n",
    "\n",
    "    for src_patches_batch, _ in progress_bar:\n",
    "        batch_size = len(src_patches_batch)\n",
    "        \n",
    "        # Start the decoding process for the whole batch with the SOS token\n",
    "        output_ids = torch.full((batch_size, 1), SOS_IDX, dtype=torch.long, device=device)\n",
    "\n",
    "        # A flag to track which sequences in the batch are finished\n",
    "        finished = torch.zeros(batch_size, dtype=torch.bool, device=device)\n",
    "\n",
    "        for _ in range(max_len):\n",
    "            tgt_pad_mask = (output_ids == PAD_IDX)\n",
    "            \n",
    "            # Call the model once for the entire batch\n",
    "            logits = model(src_patches_batch, output_ids, tgt_pad_mask)\n",
    "            \n",
    "            # Get the next token for every sequence in the batch\n",
    "            next_ids = logits[:, -1, :].argmax(dim=-1).unsqueeze(1)\n",
    "            \n",
    "            # Append the new tokens to the sequences\n",
    "            output_ids = torch.cat([output_ids, next_ids], dim=1)\n",
    "            \n",
    "            # Update the 'finished' status for any sequence that just generated an EOS token\n",
    "            finished = finished | (next_ids.squeeze() == EOS_IDX)\n",
    "            \n",
    "            # If all sequences in the batch are finished, we can stop early\n",
    "            if finished.all():\n",
    "                break\n",
    "        \n",
    "        # Decode the generated ID sequences into text\n",
    "        for i in range(batch_size):\n",
    "            # Filter out special tokens\n",
    "            filtered_ids = [idx for idx in output_ids[i].tolist() if idx not in {SOS_IDX, EOS_IDX, PAD_IDX}]\n",
    "            pred_text = \"\".join([IDX_TO_CHAR.get(idx, \"\") for idx in filtered_ids])\n",
    "            all_predictions.append(pred_text)\n",
    "            \n",
    "    return all_predictions\n",
    "\n",
    "# --- Step 3: Main Execution Block ---\n",
    "\n",
    "if __name__ == '__main__':\n",
    "    # --- Configuration ---\n",
    "    CHECKPOINT_PATH = \"checkpoints/blt_epoch300.pt\" # The final model to use\n",
    "    BATCH_SIZE = 16 # Much faster than batch_size=1\n",
    "    \n",
    "    # Setup device\n",
    "    device = torch.device(\"mps\" if torch.backends.mps.is_available() else \"cpu\")\n",
    "    if device.type == \"mps\":\n",
    "        torch.set_float32_matmul_precision(\"high\")\n",
    "\n",
    "    # --- Load Model ---\n",
    "    model = BLTModel(vocab_size=len(VOCAB), d_model=64, nhead=4)\n",
    "    checkpoint = torch.load(CHECKPOINT_PATH, map_location=device)\n",
    "    model.load_state_dict(checkpoint[\"model_state\"])\n",
    "    print(f\"✅ Loaded checkpoint from epoch {checkpoint['epoch']}\")\n",
    "\n",
    "    # --- Load Test Data ---\n",
    "    test_df = pd.read_csv(\"./../data/test.csv\")\n",
    "    test_ds = BLTDataset(csv_path=\"./../data/test.csv\")\n",
    "    test_loader = DataLoader(\n",
    "        test_ds,\n",
    "        batch_size=BATCH_SIZE,\n",
    "        shuffle=False,\n",
    "        collate_fn=blt_collate_fn\n",
    "    )\n",
    "\n",
    "    # --- Generate All Predictions ---\n",
    "    predictions = generate_batch_predictions(model, test_loader, max_len=150, device=device)\n",
    "\n",
    "    # --- Save Predictions in the Correct Format ---\n",
    "    # As per the assignment, the output file should have 'input' and 'output' columns.\n",
    "    output_df = pd.DataFrame({\n",
    "        'input': test_df['input'],\n",
    "        'output': predictions\n",
    "    })\n",
    "    \n",
    "    os.makedirs(\"predictions\", exist_ok=True)\n",
    "    output_path = \"predictions/predictions_BLT.csv\"\n",
    "    output_df.to_csv(output_path, index=False)\n",
    "    \n",
    "    print(f\"\\n✅ Predictions saved to {output_path}\")\n",
    "    print(\"\\n--- Prediction Preview ---\")\n",
    "    print(output_df.head().to_string())"
   ]
  },
  {
   "cell_type": "markdown",
   "id": "53e59d25",
   "metadata": {},
   "source": [
    "# Character level Model & Training"
   ]
  },
  {
   "cell_type": "code",
   "execution_count": null,
   "id": "4beebbca",
   "metadata": {},
   "outputs": [
    {
     "name": "stdout",
     "output_type": "stream",
     "text": [
      "✅ Using MPS (Apple Silicon GPU)\n"
     ]
    }
   ],
   "source": [
    "import torch\n",
    "\n",
    "if torch.backends.mps.is_available():\n",
    "    device = torch.device(\"mps\")\n",
    "    print(\"✅ Using MPS (Apple Silicon GPU)\")\n",
    "else:\n",
    "    device = torch.device(\"cpu\")\n",
    "    print(\"⚠️ MPS not available, falling back to CPU\")"
   ]
  },
  {
   "cell_type": "markdown",
   "id": "3d808956",
   "metadata": {},
   "source": [
    "## Data & Tokenizer\n",
    "\n",
    "1. Loads your train.csv and test.csv.\n",
    "2. Creates a character vocabulary:\n",
    "    - [PAD], [SOS], [EOS] + printable ASCII chars.\n",
    "    - Maps chars ↔ IDs (stoi, itos).\n",
    "3. Provides encode/decode functions.\n",
    "4. Tests it on a sample string."
   ]
  },
  {
   "cell_type": "code",
   "execution_count": null,
   "id": "cbffc4ab",
   "metadata": {},
   "outputs": [
    {
     "name": "stdout",
     "output_type": "stream",
     "text": [
      "Train shape: (10000, 2)\n",
      "Test shape: (2000, 2)\n",
      "                                               input  \\\n",
      "0               reconciliation trolls realized scene   \n",
      "1                        scratched kemp blah devices   \n",
      "2  delusional engineered perfect prey englishman ...   \n",
      "3  boomers nfl reacts parallels everything 6 redu...   \n",
      "4  patience put christmas superhero luc rake fulf...   \n",
      "\n",
      "                                              target  \n",
      "0               enecs dezilaer sllort noitailicnocer  \n",
      "1                        secived halb pmek dehctarcs  \n",
      "2  hctarcs detsub namhsilgne yerp tcefrep dereeni...  \n",
      "3  stcudnoc ysereh redlof secuder 6 gnihtyreve sl...  \n",
      "4  ylesned ylno elbats latnenitnoc dellifluf ekar...  \n",
      "\n",
      "Vocab size: 98\n",
      "PAD idx: 0 SOS idx: 1 EOS idx: 2\n",
      "Sample: LMA is fun!\n",
      "Encoded: [1, 47, 48, 36, 3, 76, 86, 3, 73, 88, 81, 4, 2]\n",
      "Decoded: LMA is fun!\n"
     ]
    }
   ],
   "source": [
    "import pandas as pd\n",
    "import torch\n",
    "from torch.utils.data import Dataset\n",
    "import string\n",
    "\n",
    "# --- Step 1: Load Data ---\n",
    "train_df = pd.read_csv(\"./../data/train.csv\")\n",
    "test_df  = pd.read_csv(\"./../data/test.csv\")\n",
    "\n",
    "print(\"Train shape:\", train_df.shape)\n",
    "print(\"Test shape:\", test_df.shape)\n",
    "print(train_df.head())\n",
    "\n",
    "# --- Step 2: Character Tokenizer ---\n",
    "# Printable ASCII characters 32–126\n",
    "ascii_chars = [chr(i) for i in range(32, 127)]\n",
    "special_tokens = [\"[PAD]\", \"[SOS]\", \"[EOS]\"]\n",
    "\n",
    "itos = special_tokens + ascii_chars   # id → char\n",
    "stoi = {ch: i for i, ch in enumerate(itos)}  # char → id\n",
    "\n",
    "PAD_IDX = stoi[\"[PAD]\"]\n",
    "SOS_IDX = stoi[\"[SOS]\"]\n",
    "EOS_IDX = stoi[\"[EOS]\"]\n",
    "\n",
    "vocab_size = len(itos)\n",
    "\n",
    "print(\"\\nVocab size:\", vocab_size)\n",
    "print(\"PAD idx:\", PAD_IDX, \"SOS idx:\", SOS_IDX, \"EOS idx:\", EOS_IDX)\n",
    "\n",
    "# --- Encode / Decode functions ---\n",
    "def encode_text(text, add_special=True):\n",
    "    ids = [stoi[ch] for ch in text if ch in stoi]\n",
    "    if add_special:\n",
    "        ids = [SOS_IDX] + ids + [EOS_IDX]\n",
    "    return torch.tensor(ids, dtype=torch.long)\n",
    "\n",
    "def decode_ids(ids):\n",
    "    chars = []\n",
    "    for i in ids:\n",
    "        if i == PAD_IDX or i == SOS_IDX or i == EOS_IDX:\n",
    "            continue\n",
    "        chars.append(itos[i])\n",
    "    return \"\".join(chars)\n",
    "\n",
    "# --- Quick test ---\n",
    "sample = \"LMA is fun!\"\n",
    "encoded = encode_text(sample)\n",
    "decoded = decode_ids(encoded.tolist())\n",
    "\n",
    "print(\"Sample:\", sample)\n",
    "print(\"Encoded:\", encoded.tolist())\n",
    "print(\"Decoded:\", decoded)"
   ]
  },
  {
   "cell_type": "markdown",
   "id": "7f7905ed",
   "metadata": {},
   "source": [
    "## Dataset + Collate\n",
    "\n",
    "- CharDataset → loads strings, encodes them into token IDs.\n",
    "- collate_fn → pads sequences per batch + stores lengths.\n",
    "- DataLoader → provides batches for training & testing.\n",
    "- Prints shapes and a decoded sample to check correctness."
   ]
  },
  {
   "cell_type": "code",
   "execution_count": null,
   "id": "0eb46380",
   "metadata": {},
   "outputs": [
    {
     "name": "stdout",
     "output_type": "stream",
     "text": [
      "src_padded shape: torch.Size([32, 132])\n",
      "tgt_padded shape: torch.Size([32, 132])\n",
      "\n",
      "src_lengths: tensor([67, 21, 80, 38, 67])\n",
      "tgt_lengths: tensor([67, 21, 80, 38, 67])\n",
      "\n",
      "Example decoded input: cam environments eventual fallen aug merchant garry quebec latter\n",
      "Example decoded target: rettal cebeuq yrrag tnahcrem gua nellaf lautneve stnemnorivne mac\n"
     ]
    }
   ],
   "source": [
    "from torch.nn.utils.rnn import pad_sequence\n",
    "from torch.utils.data import DataLoader\n",
    "\n",
    "# --- Dataset Class ---\n",
    "class CharDataset(Dataset):\n",
    "    def __init__(self, df):\n",
    "        self.inputs = df[\"input\"].tolist()\n",
    "        self.targets = df[\"target\"].tolist()\n",
    "\n",
    "    def __len__(self):\n",
    "        return len(self.inputs)\n",
    "\n",
    "    def __getitem__(self, idx):\n",
    "        src_text = self.inputs[idx]\n",
    "        tgt_text = self.targets[idx]\n",
    "\n",
    "        src_ids = encode_text(src_text, add_special=True)  # [SOS] ... [EOS]\n",
    "        tgt_ids = encode_text(tgt_text, add_special=True)\n",
    "\n",
    "        return src_ids, tgt_ids\n",
    "\n",
    "\n",
    "# --- Collate Function ---\n",
    "def collate_fn(batch):\n",
    "    src_batch, tgt_batch = zip(*batch)\n",
    "\n",
    "    # Pad sequences\n",
    "    src_padded = pad_sequence(src_batch, batch_first=True, padding_value=PAD_IDX)\n",
    "    tgt_padded = pad_sequence(tgt_batch, batch_first=True, padding_value=PAD_IDX)\n",
    "\n",
    "    # Lengths (before padding)\n",
    "    src_lengths = torch.tensor([len(x) for x in src_batch], dtype=torch.long)\n",
    "    tgt_lengths = torch.tensor([len(x) for x in tgt_batch], dtype=torch.long)\n",
    "\n",
    "    return src_padded, src_lengths, tgt_padded, tgt_lengths\n",
    "\n",
    "\n",
    "# --- Create Dataset + DataLoader ---\n",
    "train_ds = CharDataset(train_df)\n",
    "test_ds = CharDataset(test_df)\n",
    "\n",
    "train_loader = DataLoader(train_ds, batch_size=32, shuffle=True, collate_fn=collate_fn)\n",
    "test_loader = DataLoader(test_ds, batch_size=32, shuffle=False, collate_fn=collate_fn)\n",
    "\n",
    "import pandas as pd\n",
    "from sklearn.model_selection import train_test_split\n",
    "\n",
    "test_df = pd.read_csv(\"./../data/test.csv\")  # original test dataset\n",
    "val_df, holdout_df = train_test_split(test_df, test_size=0.5, random_state=42)\n",
    "\n",
    "val_ds = CharDataset(val_df)\n",
    "val_loader = DataLoader(val_ds, batch_size=32, shuffle=False, collate_fn=collate_fn)\n",
    "\n",
    "# --- Quick Check ---\n",
    "src_padded, src_lengths, tgt_padded, tgt_lengths = next(iter(train_loader))\n",
    "\n",
    "print(\"src_padded shape:\", src_padded.shape)\n",
    "print(\"tgt_padded shape:\", tgt_padded.shape)\n",
    "print(\"\\nsrc_lengths:\", src_lengths[:5])\n",
    "print(\"tgt_lengths:\", tgt_lengths[:5])\n",
    "print(\"\\nExample decoded input:\", decode_ids(src_padded[0].tolist()))\n",
    "print(\"Example decoded target:\", decode_ids(tgt_padded[0].tolist()))"
   ]
  },
  {
   "cell_type": "code",
   "execution_count": null,
   "id": "409f9f3b",
   "metadata": {},
   "outputs": [
    {
     "name": "stdout",
     "output_type": "stream",
     "text": [
      "Vocabulary size: 98\n"
     ]
    }
   ],
   "source": [
    "# --- Character Vocabulary (printable ASCII + special tokens) ---\n",
    "import string\n",
    "\n",
    "PAD_IDX = 0\n",
    "SOS_IDX = 1\n",
    "EOS_IDX = 2\n",
    "\n",
    "# Printable ASCII characters (32-126)\n",
    "chars = [chr(i) for i in range(32, 127)]\n",
    "VOCAB = {c: i+3 for i, c in enumerate(chars)}  # reserve 0,1,2 for PAD, SOS, EOS\n",
    "INV_VOCAB = {i: c for c, i in VOCAB.items()}\n",
    "\n",
    "VOCAB_SIZE = len(VOCAB) + 3  # include PAD, SOS, EOS\n",
    "print(f\"Vocabulary size: {VOCAB_SIZE}\")"
   ]
  },
  {
   "cell_type": "markdown",
   "id": "09205993",
   "metadata": {},
   "source": [
    "## Baseline Model\n",
    "\n",
    "- Embedding layer for characters\n",
    "- Positional encoding\n",
    "- Transformer encoder–decoder (2 layers each)\n",
    "- Linear projection to vocab size"
   ]
  },
  {
   "cell_type": "code",
   "execution_count": null,
   "id": "3beadd67",
   "metadata": {},
   "outputs": [],
   "source": [
    "import math\n",
    "import torch\n",
    "import torch.nn as nn\n",
    "\n",
    "# --- Positional Encoding (sinusoidal) ---\n",
    "class PositionalEncoding(nn.Module):\n",
    "    def __init__(self, d_model, max_len=5000):\n",
    "        super().__init__()\n",
    "        pe = torch.zeros(max_len, d_model)\n",
    "        position = torch.arange(0, max_len, dtype=torch.float).unsqueeze(1)\n",
    "        div_term = torch.exp(torch.arange(0, d_model, 2).float() * (-math.log(10000.0) / d_model))\n",
    "        pe[:, 0::2] = torch.sin(position * div_term)\n",
    "        pe[:, 1::2] = torch.cos(position * div_term)\n",
    "        pe = pe.unsqueeze(0)  # [1, max_len, d_model]\n",
    "        self.register_buffer(\"pe\", pe)\n",
    "\n",
    "    def forward(self, x):\n",
    "        # x: [B, L, D]\n",
    "        x = x + self.pe[:, :x.size(1), :]\n",
    "        return x\n",
    "\n",
    "\n",
    "# --- Baseline Transformer Model ---\n",
    "class CharTransformer(nn.Module):\n",
    "    def __init__(self, vocab_size, d_model=64, nhead=4, num_layers=2, dim_ff=128, dropout=0.1):\n",
    "        super().__init__()\n",
    "        self.d_model = d_model\n",
    "\n",
    "        # Embeddings\n",
    "        self.src_embed = nn.Embedding(vocab_size, d_model, padding_idx=PAD_IDX)\n",
    "        self.tgt_embed = nn.Embedding(vocab_size, d_model, padding_idx=PAD_IDX)\n",
    "\n",
    "        self.pos_encoder = PositionalEncoding(d_model)\n",
    "\n",
    "        # Encoder\n",
    "        encoder_layer = nn.TransformerEncoderLayer(d_model=d_model, nhead=nhead,\n",
    "                                                    dim_feedforward=dim_ff, dropout=dropout, batch_first=True)\n",
    "        self.encoder = nn.TransformerEncoder(encoder_layer, num_layers=num_layers, enable_nested_tensor=False)\n",
    "\n",
    "        # Decoder\n",
    "        decoder_layer = nn.TransformerDecoderLayer(d_model=d_model, nhead=nhead,\n",
    "                                                    dim_feedforward=dim_ff, dropout=dropout, batch_first=True)\n",
    "        self.decoder = nn.TransformerDecoder(decoder_layer, num_layers=num_layers)\n",
    "\n",
    "        # Output projection\n",
    "        self.fc_out = nn.Linear(d_model, vocab_size)\n",
    "\n",
    "    def forward(self, src, tgt_inp):\n",
    "        \"\"\"\n",
    "        src: [B, Ls]\n",
    "        tgt_inp: [B, Lt]\n",
    "        \"\"\"\n",
    "        # Embedding + positional encoding\n",
    "        src_emb = self.pos_encoder(self.src_embed(src))  # [B, Ls, D]\n",
    "        tgt_emb = self.pos_encoder(self.tgt_embed(tgt_inp))  # [B, Lt, D]\n",
    "\n",
    "        # Masks\n",
    "        src_key_padding_mask = (src == PAD_IDX)  # [B, Ls]\n",
    "        tgt_key_padding_mask = (tgt_inp == PAD_IDX)  # [B, Lt]\n",
    "        causal_mask = nn.Transformer.generate_square_subsequent_mask(tgt_inp.size(1)).to(src.device)\n",
    "\n",
    "        # Encode\n",
    "        memory = self.encoder(src_emb, src_key_padding_mask=src_key_padding_mask)\n",
    "\n",
    "        # Decode\n",
    "        out = self.decoder(tgt=tgt_emb, memory=memory,\n",
    "                            tgt_mask=causal_mask,\n",
    "                            tgt_key_padding_mask=tgt_key_padding_mask,\n",
    "                            memory_key_padding_mask=src_key_padding_mask)\n",
    "\n",
    "        # Project to vocab\n",
    "        logits = self.fc_out(out)  # [B, Lt, vocab_size]\n",
    "        return logits"
   ]
  },
  {
   "cell_type": "code",
   "execution_count": null,
   "id": "48fc2965",
   "metadata": {},
   "outputs": [
    {
     "name": "stdout",
     "output_type": "stream",
     "text": [
      "Logits shape: torch.Size([32, 117, 95])\n"
     ]
    },
    {
     "name": "stderr",
     "output_type": "stream",
     "text": [
      "/Library/Frameworks/Python.framework/Versions/3.13/lib/python3.13/site-packages/torch/nn/functional.py:6041: UserWarning: Support for mismatched key_padding_mask and attn_mask is deprecated. Use same type for both instead.\n",
      "  warnings.warn(\n"
     ]
    }
   ],
   "source": [
    "# Create model\n",
    "baseline_model = CharTransformer(vocab_size=len(VOCAB), d_model=64, nhead=4, num_layers=2).to(device)\n",
    "\n",
    "# Dummy batch\n",
    "src_padded, src_lengths, tgt_padded, tgt_lengths = next(iter(train_loader))\n",
    "\n",
    "# Teacher forcing: shift target\n",
    "tgt_inp = tgt_padded[:, :-1]\n",
    "tgt_out = tgt_padded[:, 1:]\n",
    "\n",
    "# Forward pass\n",
    "logits = baseline_model(src_padded.to(device), tgt_inp.to(device))\n",
    "\n",
    "print(\"Logits shape:\", logits.shape)  # [B, Lt-1, vocab_size]"
   ]
  },
  {
   "cell_type": "markdown",
   "id": "5adf9a6b",
   "metadata": {},
   "source": [
    "## Training\n",
    "\n",
    "- AdamW optimizer\n",
    "- CrossEntropyLoss with ignore_index=PAD_IDX\n",
    "- Gradient clipping\n",
    "- Checkpoint saving every few epochs\n",
    "- Optional resume from checkpoint"
   ]
  },
  {
   "cell_type": "code",
   "execution_count": null,
   "id": "f5949982",
   "metadata": {},
   "outputs": [],
   "source": [
    "import torch\n",
    "import torch.nn as nn\n",
    "import torch.optim as optim\n",
    "import os\n",
    "from torch.nn.utils import clip_grad_norm_\n",
    "\n",
    "# ----------------------------\n",
    "# Training loop for baseline Transformer\n",
    "# ----------------------------\n",
    "def train_baseline(\n",
    "    model,\n",
    "    train_loader,\n",
    "    val_loader=None,   # optional validation loader\n",
    "    num_epochs=1000,\n",
    "    lr=1e-3,\n",
    "    device=None,\n",
    "    save_every=5,\n",
    "    val_every=50,\n",
    "    resume_path=None\n",
    "):\n",
    "    # --- Pick device automatically if not provided ---\n",
    "    if device is None:\n",
    "        if torch.backends.mps.is_available():\n",
    "            device = torch.device(\"mps\")\n",
    "        elif torch.cuda.is_available():\n",
    "            device = torch.device(\"cuda\")\n",
    "        else:\n",
    "            device = torch.device(\"cpu\")\n",
    "    print(f\"Training on: {device}\")\n",
    "\n",
    "    model = model.to(device)\n",
    "    optimizer = optim.AdamW(model.parameters(), lr=lr)\n",
    "    criterion = nn.CrossEntropyLoss(ignore_index=PAD_IDX)  # ignore <PAD> tokens\n",
    "\n",
    "    os.makedirs(\"checkpoints_baseline\", exist_ok=True)\n",
    "\n",
    "    # --- Resume from checkpoint ---\n",
    "    start_epoch = 1\n",
    "    if resume_path and os.path.exists(resume_path):\n",
    "        print(f\"🔄 Resuming from checkpoint: {resume_path}\")\n",
    "        checkpoint = torch.load(resume_path, map_location=device)\n",
    "        model.load_state_dict(checkpoint[\"model_state\"])\n",
    "        optimizer.load_state_dict(checkpoint[\"optimizer_state\"])\n",
    "        start_epoch = checkpoint[\"epoch\"] + 1\n",
    "        print(f\"✅ Resumed from epoch {checkpoint['epoch']} (loss {checkpoint['loss']:.4f})\")\n",
    "\n",
    "    # --- Training loop ---\n",
    "    for epoch in range(start_epoch, num_epochs + 1):\n",
    "        model.train()\n",
    "        total_loss = 0.0\n",
    "\n",
    "        for batch in train_loader:\n",
    "            src, src_lengths, tgt, tgt_lengths = batch\n",
    "            src, tgt = src.to(device), tgt.to(device)\n",
    "\n",
    "            tgt_inp = tgt[:, :-1]   # decoder input\n",
    "            tgt_out = tgt[:, 1:]    # expected output\n",
    "\n",
    "            logits = model(src, tgt_inp)\n",
    "\n",
    "            loss = criterion(\n",
    "                logits.reshape(-1, logits.size(-1)),\n",
    "                tgt_out.reshape(-1)\n",
    "            )\n",
    "\n",
    "            optimizer.zero_grad()\n",
    "            loss.backward()\n",
    "            clip_grad_norm_(model.parameters(), max_norm=1.0)\n",
    "            optimizer.step()\n",
    "\n",
    "            total_loss += loss.item()\n",
    "\n",
    "        avg_loss = total_loss / len(train_loader)\n",
    "        \n",
    "        # --- Validation ---\n",
    "        if val_loader is not None:\n",
    "            val_loss, val_acc = evaluate_baseline(model, val_loader, criterion, device)\n",
    "            val_perplexity = math.exp(val_loss)\n",
    "            print(f\"📘 Epoch {epoch}/{num_epochs} - Train Loss: {avg_loss:.4f}\")\n",
    "            print(f\"📗 Validation - Loss: {val_loss:.4f}, Perplexity: {val_perplexity:.2f}, Token Acc: {val_acc:.2f}%\")\n",
    "        else:\n",
    "            print(f\"📘 Epoch {epoch}/{num_epochs} - Train Loss: {avg_loss:.4f}\")\n",
    "\n",
    "        # --- Save checkpoint ---\n",
    "        if epoch % save_every == 0 or epoch == num_epochs:\n",
    "            ckpt_path = f\"checkpoints_baseline/char_transformer_epoch{epoch}.pt\"\n",
    "            torch.save({\n",
    "                \"epoch\": epoch,\n",
    "                \"model_state\": model.state_dict(),\n",
    "                \"optimizer_state\": optimizer.state_dict(),\n",
    "                \"loss\": avg_loss\n",
    "            }, ckpt_path)\n",
    "            print(f\"✅ Saved checkpoint: {ckpt_path}\")\n",
    "\n",
    "\n",
    "# ----------------------------\n",
    "# Evaluation / Validation\n",
    "# ----------------------------\n",
    "@torch.no_grad()\n",
    "def evaluate_baseline(model, val_loader, criterion, device):\n",
    "    model.eval()\n",
    "    total_loss = 0.0\n",
    "    total_tokens = 0\n",
    "    correct_tokens = 0\n",
    "\n",
    "    for batch in val_loader:\n",
    "        src, src_lengths, tgt, tgt_lengths = batch\n",
    "        src, tgt = src.to(device), tgt.to(device)\n",
    "\n",
    "        tgt_inp = tgt[:, :-1]\n",
    "        tgt_out = tgt[:, 1:]\n",
    "\n",
    "        logits = model(src, tgt_inp)\n",
    "\n",
    "        # Compute loss\n",
    "        loss = criterion(\n",
    "            logits.reshape(-1, logits.size(-1)),\n",
    "            tgt_out.reshape(-1)\n",
    "        )\n",
    "        total_loss += loss.item()\n",
    "\n",
    "        # Accuracy (ignore PAD)\n",
    "        preds = logits.argmax(dim=-1)\n",
    "        mask = tgt_out != PAD_IDX\n",
    "        correct_tokens += ((preds == tgt_out) & mask).sum().item()\n",
    "        total_tokens += mask.sum().item()\n",
    "\n",
    "    avg_loss = total_loss / len(val_loader)\n",
    "    accuracy = 100.0 * correct_tokens / total_tokens\n",
    "    return avg_loss, accuracy"
   ]
  },
  {
   "cell_type": "code",
   "execution_count": null,
   "id": "314938ea",
   "metadata": {},
   "outputs": [
    {
     "name": "stdout",
     "output_type": "stream",
     "text": [
      "Training on: mps\n",
      "🔄 Resuming from checkpoint: checkpoints_baseline/char_transformer_epoch470.pt\n",
      "✅ Resumed from epoch 470 (loss 0.0057)\n",
      "📘 Epoch 471/1000 - Train Loss: 0.0056\n",
      "📗 Validation - Loss: 0.0004, Perplexity: 1.00, Token Acc: 99.96%\n",
      "📘 Epoch 472/1000 - Train Loss: 0.0062\n",
      "📗 Validation - Loss: 0.0004, Perplexity: 1.00, Token Acc: 99.95%\n",
      "📘 Epoch 473/1000 - Train Loss: 0.0062\n",
      "📗 Validation - Loss: 0.0006, Perplexity: 1.00, Token Acc: 99.95%\n",
      "📘 Epoch 474/1000 - Train Loss: 0.0061\n",
      "📗 Validation - Loss: 0.0003, Perplexity: 1.00, Token Acc: 99.96%\n",
      "📘 Epoch 475/1000 - Train Loss: 0.0061\n",
      "📗 Validation - Loss: 0.0005, Perplexity: 1.00, Token Acc: 99.96%\n",
      "📘 Epoch 476/1000 - Train Loss: 0.0054\n",
      "📗 Validation - Loss: 0.0002, Perplexity: 1.00, Token Acc: 99.96%\n",
      "📘 Epoch 477/1000 - Train Loss: 0.0056\n",
      "📗 Validation - Loss: 0.0004, Perplexity: 1.00, Token Acc: 99.96%\n",
      "📘 Epoch 478/1000 - Train Loss: 0.0063\n",
      "📗 Validation - Loss: 0.0011, Perplexity: 1.00, Token Acc: 99.94%\n",
      "📘 Epoch 479/1000 - Train Loss: 0.0063\n",
      "📗 Validation - Loss: 0.0003, Perplexity: 1.00, Token Acc: 99.96%\n",
      "📘 Epoch 480/1000 - Train Loss: 0.0052\n",
      "📗 Validation - Loss: 0.0006, Perplexity: 1.00, Token Acc: 99.96%\n",
      "✅ Saved checkpoint: checkpoints_baseline/char_transformer_epoch480.pt\n",
      "📘 Epoch 481/1000 - Train Loss: 0.0053\n",
      "📗 Validation - Loss: 0.0004, Perplexity: 1.00, Token Acc: 99.96%\n",
      "📘 Epoch 482/1000 - Train Loss: 0.0064\n",
      "📗 Validation - Loss: 0.0002, Perplexity: 1.00, Token Acc: 99.97%\n",
      "📘 Epoch 483/1000 - Train Loss: 0.0059\n",
      "📗 Validation - Loss: 0.0004, Perplexity: 1.00, Token Acc: 99.96%\n",
      "📘 Epoch 484/1000 - Train Loss: 0.0052\n",
      "📗 Validation - Loss: 0.0003, Perplexity: 1.00, Token Acc: 99.96%\n",
      "📘 Epoch 485/1000 - Train Loss: 0.0066\n",
      "📗 Validation - Loss: 0.0005, Perplexity: 1.00, Token Acc: 99.96%\n",
      "📘 Epoch 486/1000 - Train Loss: 0.0064\n",
      "📗 Validation - Loss: 0.0006, Perplexity: 1.00, Token Acc: 99.95%\n",
      "📘 Epoch 487/1000 - Train Loss: 0.0060\n",
      "📗 Validation - Loss: 0.0003, Perplexity: 1.00, Token Acc: 99.96%\n",
      "📘 Epoch 488/1000 - Train Loss: 0.0050\n",
      "📗 Validation - Loss: 0.0004, Perplexity: 1.00, Token Acc: 99.96%\n",
      "📘 Epoch 489/1000 - Train Loss: 0.0065\n",
      "📗 Validation - Loss: 0.0002, Perplexity: 1.00, Token Acc: 99.96%\n",
      "📘 Epoch 490/1000 - Train Loss: 0.0057\n",
      "📗 Validation - Loss: 0.0002, Perplexity: 1.00, Token Acc: 99.96%\n",
      "✅ Saved checkpoint: checkpoints_baseline/char_transformer_epoch490.pt\n",
      "📘 Epoch 491/1000 - Train Loss: 0.0057\n",
      "📗 Validation - Loss: 0.0005, Perplexity: 1.00, Token Acc: 99.96%\n",
      "📘 Epoch 492/1000 - Train Loss: 0.0061\n",
      "📗 Validation - Loss: 0.0004, Perplexity: 1.00, Token Acc: 99.95%\n",
      "📘 Epoch 493/1000 - Train Loss: 0.0052\n",
      "📗 Validation - Loss: 0.0002, Perplexity: 1.00, Token Acc: 99.96%\n",
      "📘 Epoch 494/1000 - Train Loss: 0.0058\n",
      "📗 Validation - Loss: 0.0004, Perplexity: 1.00, Token Acc: 99.96%\n",
      "📘 Epoch 495/1000 - Train Loss: 0.0054\n",
      "📗 Validation - Loss: 0.0003, Perplexity: 1.00, Token Acc: 99.96%\n",
      "📘 Epoch 496/1000 - Train Loss: 0.0064\n",
      "📗 Validation - Loss: 0.0005, Perplexity: 1.00, Token Acc: 99.96%\n",
      "📘 Epoch 497/1000 - Train Loss: 0.0061\n",
      "📗 Validation - Loss: 0.0002, Perplexity: 1.00, Token Acc: 99.96%\n",
      "📘 Epoch 498/1000 - Train Loss: 0.0052\n",
      "📗 Validation - Loss: 0.0004, Perplexity: 1.00, Token Acc: 99.96%\n",
      "📘 Epoch 499/1000 - Train Loss: 0.0065\n",
      "📗 Validation - Loss: 0.0003, Perplexity: 1.00, Token Acc: 99.96%\n",
      "📘 Epoch 500/1000 - Train Loss: 0.0057\n",
      "📗 Validation - Loss: 0.0007, Perplexity: 1.00, Token Acc: 99.94%\n",
      "✅ Saved checkpoint: checkpoints_baseline/char_transformer_epoch500.pt\n"
     ]
    },
    {
     "ename": "KeyboardInterrupt",
     "evalue": "",
     "output_type": "error",
     "traceback": [
      "\u001b[31m---------------------------------------------------------------------------\u001b[39m",
      "\u001b[31mKeyboardInterrupt\u001b[39m                         Traceback (most recent call last)",
      "\u001b[36mCell\u001b[39m\u001b[36m \u001b[39m\u001b[32mIn[19]\u001b[39m\u001b[32m, line 5\u001b[39m\n\u001b[32m      2\u001b[39m os.environ[\u001b[33m\"\u001b[39m\u001b[33mPYTORCH_ENABLE_MPS_FALLBACK\u001b[39m\u001b[33m\"\u001b[39m] = \u001b[33m\"\u001b[39m\u001b[33m1\u001b[39m\u001b[33m\"\u001b[39m\n\u001b[32m      4\u001b[39m device = torch.device(\u001b[33m\"\u001b[39m\u001b[33mmps\u001b[39m\u001b[33m\"\u001b[39m)\n\u001b[32m----> \u001b[39m\u001b[32m5\u001b[39m \u001b[43mtrain_baseline\u001b[49m\u001b[43m(\u001b[49m\n\u001b[32m      6\u001b[39m \u001b[43m    \u001b[49m\u001b[43mmodel\u001b[49m\u001b[43m=\u001b[49m\u001b[43mbaseline_model\u001b[49m\u001b[43m,\u001b[49m\n\u001b[32m      7\u001b[39m \u001b[43m    \u001b[49m\u001b[43mtrain_loader\u001b[49m\u001b[43m=\u001b[49m\u001b[43mtrain_loader\u001b[49m\u001b[43m,\u001b[49m\n\u001b[32m      8\u001b[39m \u001b[43m    \u001b[49m\u001b[43mval_loader\u001b[49m\u001b[43m=\u001b[49m\u001b[43mval_loader\u001b[49m\u001b[43m,\u001b[49m\n\u001b[32m      9\u001b[39m \u001b[43m    \u001b[49m\u001b[43mnum_epochs\u001b[49m\u001b[43m=\u001b[49m\u001b[32;43m1000\u001b[39;49m\u001b[43m,\u001b[49m\n\u001b[32m     10\u001b[39m \u001b[43m    \u001b[49m\u001b[43mlr\u001b[49m\u001b[43m=\u001b[49m\u001b[32;43m1e-3\u001b[39;49m\u001b[43m,\u001b[49m\n\u001b[32m     11\u001b[39m \u001b[43m    \u001b[49m\u001b[43mdevice\u001b[49m\u001b[43m=\u001b[49m\u001b[43mdevice\u001b[49m\u001b[43m,\u001b[49m\n\u001b[32m     12\u001b[39m \u001b[43m    \u001b[49m\u001b[43msave_every\u001b[49m\u001b[43m=\u001b[49m\u001b[32;43m10\u001b[39;49m\u001b[43m,\u001b[49m\n\u001b[32m     13\u001b[39m \u001b[43m    \u001b[49m\u001b[43mresume_path\u001b[49m\u001b[43m=\u001b[49m\u001b[33;43m\"\u001b[39;49m\u001b[33;43mcheckpoints_baseline/char_transformer_epoch470.pt\u001b[39;49m\u001b[33;43m\"\u001b[39;49m\n\u001b[32m     14\u001b[39m \u001b[43m)\u001b[49m\n",
      "\u001b[36mCell\u001b[39m\u001b[36m \u001b[39m\u001b[32mIn[9]\u001b[39m\u001b[32m, line 69\u001b[39m, in \u001b[36mtrain_baseline\u001b[39m\u001b[34m(model, train_loader, val_loader, num_epochs, lr, device, save_every, val_every, resume_path)\u001b[39m\n\u001b[32m     67\u001b[39m     loss.backward()\n\u001b[32m     68\u001b[39m     clip_grad_norm_(model.parameters(), max_norm=\u001b[32m1.0\u001b[39m)\n\u001b[32m---> \u001b[39m\u001b[32m69\u001b[39m     \u001b[43moptimizer\u001b[49m\u001b[43m.\u001b[49m\u001b[43mstep\u001b[49m\u001b[43m(\u001b[49m\u001b[43m)\u001b[49m\n\u001b[32m     71\u001b[39m     total_loss += loss.item()\n\u001b[32m     73\u001b[39m avg_loss = total_loss / \u001b[38;5;28mlen\u001b[39m(train_loader)\n",
      "\u001b[36mFile \u001b[39m\u001b[32m/Library/Frameworks/Python.framework/Versions/3.13/lib/python3.13/site-packages/torch/optim/optimizer.py:516\u001b[39m, in \u001b[36mOptimizer.profile_hook_step.<locals>.wrapper\u001b[39m\u001b[34m(*args, **kwargs)\u001b[39m\n\u001b[32m    511\u001b[39m         \u001b[38;5;28;01melse\u001b[39;00m:\n\u001b[32m    512\u001b[39m             \u001b[38;5;28;01mraise\u001b[39;00m \u001b[38;5;167;01mRuntimeError\u001b[39;00m(\n\u001b[32m    513\u001b[39m                 \u001b[33mf\u001b[39m\u001b[33m\"\u001b[39m\u001b[38;5;132;01m{\u001b[39;00mfunc\u001b[38;5;132;01m}\u001b[39;00m\u001b[33m must return None or a tuple of (new_args, new_kwargs), but got \u001b[39m\u001b[38;5;132;01m{\u001b[39;00mresult\u001b[38;5;132;01m}\u001b[39;00m\u001b[33m.\u001b[39m\u001b[33m\"\u001b[39m\n\u001b[32m    514\u001b[39m             )\n\u001b[32m--> \u001b[39m\u001b[32m516\u001b[39m out = \u001b[43mfunc\u001b[49m\u001b[43m(\u001b[49m\u001b[43m*\u001b[49m\u001b[43margs\u001b[49m\u001b[43m,\u001b[49m\u001b[43m \u001b[49m\u001b[43m*\u001b[49m\u001b[43m*\u001b[49m\u001b[43mkwargs\u001b[49m\u001b[43m)\u001b[49m\n\u001b[32m    517\u001b[39m \u001b[38;5;28mself\u001b[39m._optimizer_step_code()\n\u001b[32m    519\u001b[39m \u001b[38;5;66;03m# call optimizer step post hooks\u001b[39;00m\n",
      "\u001b[36mFile \u001b[39m\u001b[32m/Library/Frameworks/Python.framework/Versions/3.13/lib/python3.13/site-packages/torch/optim/optimizer.py:81\u001b[39m, in \u001b[36m_use_grad_for_differentiable.<locals>._use_grad\u001b[39m\u001b[34m(*args, **kwargs)\u001b[39m\n\u001b[32m     79\u001b[39m     torch.set_grad_enabled(\u001b[38;5;28mself\u001b[39m.defaults[\u001b[33m\"\u001b[39m\u001b[33mdifferentiable\u001b[39m\u001b[33m\"\u001b[39m])\n\u001b[32m     80\u001b[39m     torch._dynamo.graph_break()\n\u001b[32m---> \u001b[39m\u001b[32m81\u001b[39m     ret = \u001b[43mfunc\u001b[49m\u001b[43m(\u001b[49m\u001b[43m*\u001b[49m\u001b[43margs\u001b[49m\u001b[43m,\u001b[49m\u001b[43m \u001b[49m\u001b[43m*\u001b[49m\u001b[43m*\u001b[49m\u001b[43mkwargs\u001b[49m\u001b[43m)\u001b[49m\n\u001b[32m     82\u001b[39m \u001b[38;5;28;01mfinally\u001b[39;00m:\n\u001b[32m     83\u001b[39m     torch._dynamo.graph_break()\n",
      "\u001b[36mFile \u001b[39m\u001b[32m/Library/Frameworks/Python.framework/Versions/3.13/lib/python3.13/site-packages/torch/optim/adam.py:247\u001b[39m, in \u001b[36mAdam.step\u001b[39m\u001b[34m(self, closure)\u001b[39m\n\u001b[32m    235\u001b[39m     beta1, beta2 = group[\u001b[33m\"\u001b[39m\u001b[33mbetas\u001b[39m\u001b[33m\"\u001b[39m]\n\u001b[32m    237\u001b[39m     has_complex = \u001b[38;5;28mself\u001b[39m._init_group(\n\u001b[32m    238\u001b[39m         group,\n\u001b[32m    239\u001b[39m         params_with_grad,\n\u001b[32m   (...)\u001b[39m\u001b[32m    244\u001b[39m         state_steps,\n\u001b[32m    245\u001b[39m     )\n\u001b[32m--> \u001b[39m\u001b[32m247\u001b[39m     \u001b[43madam\u001b[49m\u001b[43m(\u001b[49m\n\u001b[32m    248\u001b[39m \u001b[43m        \u001b[49m\u001b[43mparams_with_grad\u001b[49m\u001b[43m,\u001b[49m\n\u001b[32m    249\u001b[39m \u001b[43m        \u001b[49m\u001b[43mgrads\u001b[49m\u001b[43m,\u001b[49m\n\u001b[32m    250\u001b[39m \u001b[43m        \u001b[49m\u001b[43mexp_avgs\u001b[49m\u001b[43m,\u001b[49m\n\u001b[32m    251\u001b[39m \u001b[43m        \u001b[49m\u001b[43mexp_avg_sqs\u001b[49m\u001b[43m,\u001b[49m\n\u001b[32m    252\u001b[39m \u001b[43m        \u001b[49m\u001b[43mmax_exp_avg_sqs\u001b[49m\u001b[43m,\u001b[49m\n\u001b[32m    253\u001b[39m \u001b[43m        \u001b[49m\u001b[43mstate_steps\u001b[49m\u001b[43m,\u001b[49m\n\u001b[32m    254\u001b[39m \u001b[43m        \u001b[49m\u001b[43mamsgrad\u001b[49m\u001b[43m=\u001b[49m\u001b[43mgroup\u001b[49m\u001b[43m[\u001b[49m\u001b[33;43m\"\u001b[39;49m\u001b[33;43mamsgrad\u001b[39;49m\u001b[33;43m\"\u001b[39;49m\u001b[43m]\u001b[49m\u001b[43m,\u001b[49m\n\u001b[32m    255\u001b[39m \u001b[43m        \u001b[49m\u001b[43mhas_complex\u001b[49m\u001b[43m=\u001b[49m\u001b[43mhas_complex\u001b[49m\u001b[43m,\u001b[49m\n\u001b[32m    256\u001b[39m \u001b[43m        \u001b[49m\u001b[43mbeta1\u001b[49m\u001b[43m=\u001b[49m\u001b[43mbeta1\u001b[49m\u001b[43m,\u001b[49m\n\u001b[32m    257\u001b[39m \u001b[43m        \u001b[49m\u001b[43mbeta2\u001b[49m\u001b[43m=\u001b[49m\u001b[43mbeta2\u001b[49m\u001b[43m,\u001b[49m\n\u001b[32m    258\u001b[39m \u001b[43m        \u001b[49m\u001b[43mlr\u001b[49m\u001b[43m=\u001b[49m\u001b[43mgroup\u001b[49m\u001b[43m[\u001b[49m\u001b[33;43m\"\u001b[39;49m\u001b[33;43mlr\u001b[39;49m\u001b[33;43m\"\u001b[39;49m\u001b[43m]\u001b[49m\u001b[43m,\u001b[49m\n\u001b[32m    259\u001b[39m \u001b[43m        \u001b[49m\u001b[43mweight_decay\u001b[49m\u001b[43m=\u001b[49m\u001b[43mgroup\u001b[49m\u001b[43m[\u001b[49m\u001b[33;43m\"\u001b[39;49m\u001b[33;43mweight_decay\u001b[39;49m\u001b[33;43m\"\u001b[39;49m\u001b[43m]\u001b[49m\u001b[43m,\u001b[49m\n\u001b[32m    260\u001b[39m \u001b[43m        \u001b[49m\u001b[43meps\u001b[49m\u001b[43m=\u001b[49m\u001b[43mgroup\u001b[49m\u001b[43m[\u001b[49m\u001b[33;43m\"\u001b[39;49m\u001b[33;43meps\u001b[39;49m\u001b[33;43m\"\u001b[39;49m\u001b[43m]\u001b[49m\u001b[43m,\u001b[49m\n\u001b[32m    261\u001b[39m \u001b[43m        \u001b[49m\u001b[43mmaximize\u001b[49m\u001b[43m=\u001b[49m\u001b[43mgroup\u001b[49m\u001b[43m[\u001b[49m\u001b[33;43m\"\u001b[39;49m\u001b[33;43mmaximize\u001b[39;49m\u001b[33;43m\"\u001b[39;49m\u001b[43m]\u001b[49m\u001b[43m,\u001b[49m\n\u001b[32m    262\u001b[39m \u001b[43m        \u001b[49m\u001b[43mforeach\u001b[49m\u001b[43m=\u001b[49m\u001b[43mgroup\u001b[49m\u001b[43m[\u001b[49m\u001b[33;43m\"\u001b[39;49m\u001b[33;43mforeach\u001b[39;49m\u001b[33;43m\"\u001b[39;49m\u001b[43m]\u001b[49m\u001b[43m,\u001b[49m\n\u001b[32m    263\u001b[39m \u001b[43m        \u001b[49m\u001b[43mcapturable\u001b[49m\u001b[43m=\u001b[49m\u001b[43mgroup\u001b[49m\u001b[43m[\u001b[49m\u001b[33;43m\"\u001b[39;49m\u001b[33;43mcapturable\u001b[39;49m\u001b[33;43m\"\u001b[39;49m\u001b[43m]\u001b[49m\u001b[43m,\u001b[49m\n\u001b[32m    264\u001b[39m \u001b[43m        \u001b[49m\u001b[43mdifferentiable\u001b[49m\u001b[43m=\u001b[49m\u001b[43mgroup\u001b[49m\u001b[43m[\u001b[49m\u001b[33;43m\"\u001b[39;49m\u001b[33;43mdifferentiable\u001b[39;49m\u001b[33;43m\"\u001b[39;49m\u001b[43m]\u001b[49m\u001b[43m,\u001b[49m\n\u001b[32m    265\u001b[39m \u001b[43m        \u001b[49m\u001b[43mfused\u001b[49m\u001b[43m=\u001b[49m\u001b[43mgroup\u001b[49m\u001b[43m[\u001b[49m\u001b[33;43m\"\u001b[39;49m\u001b[33;43mfused\u001b[39;49m\u001b[33;43m\"\u001b[39;49m\u001b[43m]\u001b[49m\u001b[43m,\u001b[49m\n\u001b[32m    266\u001b[39m \u001b[43m        \u001b[49m\u001b[43mgrad_scale\u001b[49m\u001b[43m=\u001b[49m\u001b[38;5;28;43mgetattr\u001b[39;49m\u001b[43m(\u001b[49m\u001b[38;5;28;43mself\u001b[39;49m\u001b[43m,\u001b[49m\u001b[43m \u001b[49m\u001b[33;43m\"\u001b[39;49m\u001b[33;43mgrad_scale\u001b[39;49m\u001b[33;43m\"\u001b[39;49m\u001b[43m,\u001b[49m\u001b[43m \u001b[49m\u001b[38;5;28;43;01mNone\u001b[39;49;00m\u001b[43m)\u001b[49m\u001b[43m,\u001b[49m\n\u001b[32m    267\u001b[39m \u001b[43m        \u001b[49m\u001b[43mfound_inf\u001b[49m\u001b[43m=\u001b[49m\u001b[38;5;28;43mgetattr\u001b[39;49m\u001b[43m(\u001b[49m\u001b[38;5;28;43mself\u001b[39;49m\u001b[43m,\u001b[49m\u001b[43m \u001b[49m\u001b[33;43m\"\u001b[39;49m\u001b[33;43mfound_inf\u001b[39;49m\u001b[33;43m\"\u001b[39;49m\u001b[43m,\u001b[49m\u001b[43m \u001b[49m\u001b[38;5;28;43;01mNone\u001b[39;49;00m\u001b[43m)\u001b[49m\u001b[43m,\u001b[49m\n\u001b[32m    268\u001b[39m \u001b[43m        \u001b[49m\u001b[43mdecoupled_weight_decay\u001b[49m\u001b[43m=\u001b[49m\u001b[43mgroup\u001b[49m\u001b[43m[\u001b[49m\u001b[33;43m\"\u001b[39;49m\u001b[33;43mdecoupled_weight_decay\u001b[39;49m\u001b[33;43m\"\u001b[39;49m\u001b[43m]\u001b[49m\u001b[43m,\u001b[49m\n\u001b[32m    269\u001b[39m \u001b[43m    \u001b[49m\u001b[43m)\u001b[49m\n\u001b[32m    271\u001b[39m \u001b[38;5;28;01mreturn\u001b[39;00m loss\n",
      "\u001b[36mFile \u001b[39m\u001b[32m/Library/Frameworks/Python.framework/Versions/3.13/lib/python3.13/site-packages/torch/optim/optimizer.py:149\u001b[39m, in \u001b[36m_disable_dynamo_if_unsupported.<locals>.wrapper.<locals>.maybe_fallback\u001b[39m\u001b[34m(*args, **kwargs)\u001b[39m\n\u001b[32m    147\u001b[39m     \u001b[38;5;28;01mreturn\u001b[39;00m disabled_func(*args, **kwargs)\n\u001b[32m    148\u001b[39m \u001b[38;5;28;01melse\u001b[39;00m:\n\u001b[32m--> \u001b[39m\u001b[32m149\u001b[39m     \u001b[38;5;28;01mreturn\u001b[39;00m \u001b[43mfunc\u001b[49m\u001b[43m(\u001b[49m\u001b[43m*\u001b[49m\u001b[43margs\u001b[49m\u001b[43m,\u001b[49m\u001b[43m \u001b[49m\u001b[43m*\u001b[49m\u001b[43m*\u001b[49m\u001b[43mkwargs\u001b[49m\u001b[43m)\u001b[49m\n",
      "\u001b[36mFile \u001b[39m\u001b[32m/Library/Frameworks/Python.framework/Versions/3.13/lib/python3.13/site-packages/torch/optim/adam.py:949\u001b[39m, in \u001b[36madam\u001b[39m\u001b[34m(params, grads, exp_avgs, exp_avg_sqs, max_exp_avg_sqs, state_steps, foreach, capturable, differentiable, fused, grad_scale, found_inf, has_complex, decoupled_weight_decay, amsgrad, beta1, beta2, lr, weight_decay, eps, maximize)\u001b[39m\n\u001b[32m    946\u001b[39m \u001b[38;5;28;01melse\u001b[39;00m:\n\u001b[32m    947\u001b[39m     func = _single_tensor_adam\n\u001b[32m--> \u001b[39m\u001b[32m949\u001b[39m \u001b[43mfunc\u001b[49m\u001b[43m(\u001b[49m\n\u001b[32m    950\u001b[39m \u001b[43m    \u001b[49m\u001b[43mparams\u001b[49m\u001b[43m,\u001b[49m\n\u001b[32m    951\u001b[39m \u001b[43m    \u001b[49m\u001b[43mgrads\u001b[49m\u001b[43m,\u001b[49m\n\u001b[32m    952\u001b[39m \u001b[43m    \u001b[49m\u001b[43mexp_avgs\u001b[49m\u001b[43m,\u001b[49m\n\u001b[32m    953\u001b[39m \u001b[43m    \u001b[49m\u001b[43mexp_avg_sqs\u001b[49m\u001b[43m,\u001b[49m\n\u001b[32m    954\u001b[39m \u001b[43m    \u001b[49m\u001b[43mmax_exp_avg_sqs\u001b[49m\u001b[43m,\u001b[49m\n\u001b[32m    955\u001b[39m \u001b[43m    \u001b[49m\u001b[43mstate_steps\u001b[49m\u001b[43m,\u001b[49m\n\u001b[32m    956\u001b[39m \u001b[43m    \u001b[49m\u001b[43mamsgrad\u001b[49m\u001b[43m=\u001b[49m\u001b[43mamsgrad\u001b[49m\u001b[43m,\u001b[49m\n\u001b[32m    957\u001b[39m \u001b[43m    \u001b[49m\u001b[43mhas_complex\u001b[49m\u001b[43m=\u001b[49m\u001b[43mhas_complex\u001b[49m\u001b[43m,\u001b[49m\n\u001b[32m    958\u001b[39m \u001b[43m    \u001b[49m\u001b[43mbeta1\u001b[49m\u001b[43m=\u001b[49m\u001b[43mbeta1\u001b[49m\u001b[43m,\u001b[49m\n\u001b[32m    959\u001b[39m \u001b[43m    \u001b[49m\u001b[43mbeta2\u001b[49m\u001b[43m=\u001b[49m\u001b[43mbeta2\u001b[49m\u001b[43m,\u001b[49m\n\u001b[32m    960\u001b[39m \u001b[43m    \u001b[49m\u001b[43mlr\u001b[49m\u001b[43m=\u001b[49m\u001b[43mlr\u001b[49m\u001b[43m,\u001b[49m\n\u001b[32m    961\u001b[39m \u001b[43m    \u001b[49m\u001b[43mweight_decay\u001b[49m\u001b[43m=\u001b[49m\u001b[43mweight_decay\u001b[49m\u001b[43m,\u001b[49m\n\u001b[32m    962\u001b[39m \u001b[43m    \u001b[49m\u001b[43meps\u001b[49m\u001b[43m=\u001b[49m\u001b[43meps\u001b[49m\u001b[43m,\u001b[49m\n\u001b[32m    963\u001b[39m \u001b[43m    \u001b[49m\u001b[43mmaximize\u001b[49m\u001b[43m=\u001b[49m\u001b[43mmaximize\u001b[49m\u001b[43m,\u001b[49m\n\u001b[32m    964\u001b[39m \u001b[43m    \u001b[49m\u001b[43mcapturable\u001b[49m\u001b[43m=\u001b[49m\u001b[43mcapturable\u001b[49m\u001b[43m,\u001b[49m\n\u001b[32m    965\u001b[39m \u001b[43m    \u001b[49m\u001b[43mdifferentiable\u001b[49m\u001b[43m=\u001b[49m\u001b[43mdifferentiable\u001b[49m\u001b[43m,\u001b[49m\n\u001b[32m    966\u001b[39m \u001b[43m    \u001b[49m\u001b[43mgrad_scale\u001b[49m\u001b[43m=\u001b[49m\u001b[43mgrad_scale\u001b[49m\u001b[43m,\u001b[49m\n\u001b[32m    967\u001b[39m \u001b[43m    \u001b[49m\u001b[43mfound_inf\u001b[49m\u001b[43m=\u001b[49m\u001b[43mfound_inf\u001b[49m\u001b[43m,\u001b[49m\n\u001b[32m    968\u001b[39m \u001b[43m    \u001b[49m\u001b[43mdecoupled_weight_decay\u001b[49m\u001b[43m=\u001b[49m\u001b[43mdecoupled_weight_decay\u001b[49m\u001b[43m,\u001b[49m\n\u001b[32m    969\u001b[39m \u001b[43m\u001b[49m\u001b[43m)\u001b[49m\n",
      "\u001b[36mFile \u001b[39m\u001b[32m/Library/Frameworks/Python.framework/Versions/3.13/lib/python3.13/site-packages/torch/optim/adam.py:517\u001b[39m, in \u001b[36m_single_tensor_adam\u001b[39m\u001b[34m(params, grads, exp_avgs, exp_avg_sqs, max_exp_avg_sqs, state_steps, grad_scale, found_inf, amsgrad, has_complex, beta1, beta2, lr, weight_decay, eps, maximize, capturable, differentiable, decoupled_weight_decay)\u001b[39m\n\u001b[32m    515\u001b[39m         param.addcdiv_(exp_avg, denom)\n\u001b[32m    516\u001b[39m \u001b[38;5;28;01melse\u001b[39;00m:\n\u001b[32m--> \u001b[39m\u001b[32m517\u001b[39m     step = \u001b[43m_get_value\u001b[49m\u001b[43m(\u001b[49m\u001b[43mstep_t\u001b[49m\u001b[43m)\u001b[49m\n\u001b[32m    519\u001b[39m     bias_correction1 = \u001b[32m1\u001b[39m - beta1**step\n\u001b[32m    520\u001b[39m     bias_correction2 = \u001b[32m1\u001b[39m - beta2**step\n",
      "\u001b[36mFile \u001b[39m\u001b[32m/Library/Frameworks/Python.framework/Versions/3.13/lib/python3.13/site-packages/torch/optim/optimizer.py:96\u001b[39m, in \u001b[36m_get_value\u001b[39m\u001b[34m(x)\u001b[39m\n\u001b[32m     94\u001b[39m     \u001b[38;5;28;01mreturn\u001b[39;00m x\n\u001b[32m     95\u001b[39m \u001b[38;5;28;01melse\u001b[39;00m:\n\u001b[32m---> \u001b[39m\u001b[32m96\u001b[39m     \u001b[38;5;28;01mreturn\u001b[39;00m \u001b[43mx\u001b[49m\u001b[43m.\u001b[49m\u001b[43mitem\u001b[49m\u001b[43m(\u001b[49m\u001b[43m)\u001b[49m \u001b[38;5;28;01mif\u001b[39;00m \u001b[38;5;28misinstance\u001b[39m(x, torch.Tensor) \u001b[38;5;28;01melse\u001b[39;00m x\n",
      "\u001b[31mKeyboardInterrupt\u001b[39m: "
     ]
    }
   ],
   "source": [
    "import os\n",
    "os.environ[\"PYTORCH_ENABLE_MPS_FALLBACK\"] = \"1\"\n",
    "\n",
    "device = torch.device(\"mps\")\n",
    "train_baseline(\n",
    "    model=baseline_model,\n",
    "    train_loader=train_loader,\n",
    "    val_loader=val_loader,\n",
    "    num_epochs=1000,\n",
    "    lr=1e-3,\n",
    "    device=device,\n",
    "    save_every=10,\n",
    "    resume_path=\"checkpoints_baseline/char_transformer_epoch500.pt\"\n",
    ")"
   ]
  },
  {
   "cell_type": "markdown",
   "id": "27da1f1f",
   "metadata": {},
   "source": [
    "#### Output"
   ]
  },
  {
   "cell_type": "markdown",
   "id": "a0b7261e",
   "metadata": {},
   "source": [
    "Training on: mps\n",
    "🔄 Resuming from checkpoint: checkpoints_baseline/char_transformer_epoch50.pt\n",
    "✅ Resumed from epoch 50 (loss 0.2597)\n",
    "📘 Epoch 51/1000 - Train Loss: 0.2541\n",
    "📘 Epoch 52/1000 - Train Loss: 0.2507\n",
    "📘 Epoch 53/1000 - Train Loss: 0.2461\n",
    "📘 Epoch 54/1000 - Train Loss: 0.2391\n",
    "📘 Epoch 55/1000 - Train Loss: 0.2377\n",
    "📘 Epoch 56/1000 - Train Loss: 0.2259\n",
    "📘 Epoch 57/1000 - Train Loss: 0.2206\n",
    "📘 Epoch 58/1000 - Train Loss: 0.2184\n",
    "📘 Epoch 59/1000 - Train Loss: 0.2203\n",
    "📘 Epoch 60/1000 - Train Loss: 0.2083\n",
    "✅ Saved checkpoint: checkpoints_baseline/char_transformer_epoch60.pt\n",
    "📘 Epoch 61/1000 - Train Loss: 0.2050\n",
    "📘 Epoch 62/1000 - Train Loss: 0.2049\n",
    "📘 Epoch 63/1000 - Train Loss: 0.1927\n",
    "📘 Epoch 64/1000 - Train Loss: 0.1986\n",
    "📘 Epoch 65/1000 - Train Loss: 0.1843\n",
    "📘 Epoch 66/1000 - Train Loss: 0.1815\n",
    "📘 Epoch 67/1000 - Train Loss: 0.1738\n",
    "📘 Epoch 68/1000 - Train Loss: 0.1757\n",
    "📘 Epoch 69/1000 - Train Loss: 0.1659\n",
    "📘 Epoch 70/1000 - Train Loss: 0.1662\n",
    "✅ Saved checkpoint: checkpoints_baseline/char_transformer_epoch70.pt\n",
    "📘 Epoch 71/1000 - Train Loss: 0.1609\n",
    "📘 Epoch 72/1000 - Train Loss: 0.1558\n",
    "📘 Epoch 73/1000 - Train Loss: 0.1553\n",
    "📘 Epoch 74/1000 - Train Loss: 0.1495\n",
    "📘 Epoch 75/1000 - Train Loss: 0.1385\n",
    "📘 Epoch 76/1000 - Train Loss: 0.1384\n",
    "📘 Epoch 77/1000 - Train Loss: 0.1372\n",
    "📘 Epoch 78/1000 - Train Loss: 0.1381\n",
    "📘 Epoch 79/1000 - Train Loss: 0.1260\n",
    "📘 Epoch 80/1000 - Train Loss: 0.1224\n",
    "✅ Saved checkpoint: checkpoints_baseline/char_transformer_epoch80.pt\n",
    "📘 Epoch 81/1000 - Train Loss: 0.1169\n",
    "📘 Epoch 82/1000 - Train Loss: 0.1102\n",
    "📘 Epoch 83/1000 - Train Loss: 0.1037\n",
    "📘 Epoch 84/1000 - Train Loss: 0.0933\n",
    "📘 Epoch 85/1000 - Train Loss: 0.0786\n",
    "📘 Epoch 86/1000 - Train Loss: 0.0637\n",
    "📘 Epoch 87/1000 - Train Loss: 0.0627\n",
    "📘 Epoch 88/1000 - Train Loss: 0.0563\n",
    "📘 Epoch 89/1000 - Train Loss: 0.0493\n",
    "📘 Epoch 90/1000 - Train Loss: 0.0476\n",
    "✅ Saved checkpoint: checkpoints_baseline/char_transformer_epoch90.pt\n",
    "📘 Epoch 91/1000 - Train Loss: 0.0438\n",
    "📘 Epoch 92/1000 - Train Loss: 0.0410\n",
    "📘 Epoch 93/1000 - Train Loss: 0.0381\n",
    "📘 Epoch 94/1000 - Train Loss: 0.0376\n",
    "📘 Epoch 95/1000 - Train Loss: 0.0350\n",
    "📘 Epoch 96/1000 - Train Loss: 0.0354\n",
    "📘 Epoch 97/1000 - Train Loss: 0.0362\n",
    "📘 Epoch 98/1000 - Train Loss: 0.0319\n",
    "📘 Epoch 99/1000 - Train Loss: 0.0318\n",
    "📘 Epoch 100/1000 - Train Loss: 0.0310\n",
    "✅ Saved checkpoint: checkpoints_baseline/char_transformer_epoch100.pt\n",
    "📘 Epoch 101/1000 - Train Loss: 0.0312\n",
    "📘 Epoch 102/1000 - Train Loss: 0.0310\n",
    "📘 Epoch 103/1000 - Train Loss: 0.0307\n",
    "📘 Epoch 104/1000 - Train Loss: 0.0289\n",
    "📘 Epoch 105/1000 - Train Loss: 0.0290\n",
    "📘 Epoch 106/1000 - Train Loss: 0.0297\n",
    "📘 Epoch 107/1000 - Train Loss: 0.0274\n",
    "📘 Epoch 108/1000 - Train Loss: 0.0282\n",
    "📘 Epoch 109/1000 - Train Loss: 0.0267\n",
    "📘 Epoch 110/1000 - Train Loss: 0.0272\n",
    "✅ Saved checkpoint: checkpoints_baseline/char_transformer_epoch110.pt\n",
    "📘 Epoch 111/1000 - Train Loss: 0.0267\n",
    "📘 Epoch 112/1000 - Train Loss: 0.0264\n",
    "📘 Epoch 113/1000 - Train Loss: 0.0253\n",
    "📘 Epoch 114/1000 - Train Loss: 0.0256\n",
    "📘 Epoch 115/1000 - Train Loss: 0.0245\n",
    "📘 Epoch 116/1000 - Train Loss: 0.0250\n",
    "📘 Epoch 117/1000 - Train Loss: 0.0255\n",
    "📘 Epoch 118/1000 - Train Loss: 0.0250\n",
    "📘 Epoch 119/1000 - Train Loss: 0.0243\n",
    "📘 Epoch 120/1000 - Train Loss: 0.0230\n",
    "✅ Saved checkpoint: checkpoints_baseline/char_transformer_epoch120.pt\n",
    "📘 Epoch 121/1000 - Train Loss: 0.0239\n",
    "📘 Epoch 122/1000 - Train Loss: 0.0231\n",
    "📘 Epoch 123/1000 - Train Loss: 0.0225\n",
    "📘 Epoch 124/1000 - Train Loss: 0.0240\n",
    "📘 Epoch 125/1000 - Train Loss: 0.0229\n",
    "📘 Epoch 126/1000 - Train Loss: 0.0230\n",
    "📘 Epoch 127/1000 - Train Loss: 0.0211\n",
    "📘 Epoch 128/1000 - Train Loss: 0.0224\n",
    "📘 Epoch 129/1000 - Train Loss: 0.0209\n",
    "📘 Epoch 130/1000 - Train Loss: 0.0223\n",
    "✅ Saved checkpoint: checkpoints_baseline/char_transformer_epoch130.pt\n",
    "📘 Epoch 131/1000 - Train Loss: 0.0201\n",
    "📘 Epoch 132/1000 - Train Loss: 0.0226\n",
    "📘 Epoch 133/1000 - Train Loss: 0.0220\n",
    "📘 Epoch 134/1000 - Train Loss: 0.0210\n",
    "📘 Epoch 135/1000 - Train Loss: 0.0196\n",
    "📘 Epoch 136/1000 - Train Loss: 0.0196\n",
    "📘 Epoch 137/1000 - Train Loss: 0.0206\n",
    "📘 Epoch 138/1000 - Train Loss: 0.0202\n",
    "📘 Epoch 139/1000 - Train Loss: 0.0196\n",
    "📘 Epoch 140/1000 - Train Loss: 0.0183\n",
    "✅ Saved checkpoint: checkpoints_baseline/char_transformer_epoch140.pt\n",
    "📘 Epoch 141/1000 - Train Loss: 0.0211\n",
    "📘 Epoch 142/1000 - Train Loss: 0.0195\n",
    "📘 Epoch 143/1000 - Train Loss: 0.0204\n",
    "📘 Epoch 144/1000 - Train Loss: 0.0193\n",
    "📘 Epoch 145/1000 - Train Loss: 0.0197\n",
    "📘 Epoch 146/1000 - Train Loss: 0.0180\n",
    "📘 Epoch 147/1000 - Train Loss: 0.0195\n",
    "📘 Epoch 148/1000 - Train Loss: 0.0204\n",
    "📘 Epoch 149/1000 - Train Loss: 0.0177\n",
    "📘 Epoch 150/1000 - Train Loss: 0.0187\n",
    "✅ Saved checkpoint: checkpoints_baseline/char_transformer_epoch150.pt\n",
    "📘 Epoch 151/1000 - Train Loss: 0.0198\n",
    "📘 Epoch 152/1000 - Train Loss: 0.0182\n",
    "📘 Epoch 153/1000 - Train Loss: 0.0183\n",
    "📘 Epoch 154/1000 - Train Loss: 0.0178\n",
    "📘 Epoch 155/1000 - Train Loss: 0.0183\n",
    "📘 Epoch 156/1000 - Train Loss: 0.0183\n",
    "📘 Epoch 157/1000 - Train Loss: 0.0181\n",
    "📘 Epoch 158/1000 - Train Loss: 0.0160\n",
    "📘 Epoch 159/1000 - Train Loss: 0.0184\n",
    "📘 Epoch 160/1000 - Train Loss: 0.0172\n",
    "✅ Saved checkpoint: checkpoints_baseline/char_transformer_epoch160.pt\n",
    "📘 Epoch 161/1000 - Train Loss: 0.0181\n",
    "📘 Epoch 162/1000 - Train Loss: 0.0177\n",
    "📘 Epoch 163/1000 - Train Loss: 0.0169\n",
    "📘 Epoch 164/1000 - Train Loss: 0.0184\n",
    "📘 Epoch 165/1000 - Train Loss: 0.0167\n",
    "📘 Epoch 166/1000 - Train Loss: 0.0191\n",
    "📘 Epoch 167/1000 - Train Loss: 0.0171\n",
    "📘 Epoch 168/1000 - Train Loss: 0.0172\n",
    "📘 Epoch 169/1000 - Train Loss: 0.0172\n",
    "📘 Epoch 170/1000 - Train Loss: 0.0171\n",
    "✅ Saved checkpoint: checkpoints_baseline/char_transformer_epoch170.pt\n",
    "📘 Epoch 171/1000 - Train Loss: 0.0156\n",
    "📘 Epoch 172/1000 - Train Loss: 0.0165\n",
    "📘 Epoch 173/1000 - Train Loss: 0.0161\n",
    "📘 Epoch 174/1000 - Train Loss: 0.0177\n",
    "📘 Epoch 175/1000 - Train Loss: 0.0161\n",
    "📘 Epoch 176/1000 - Train Loss: 0.0166\n",
    "📘 Epoch 177/1000 - Train Loss: 0.0164\n",
    "📘 Epoch 178/1000 - Train Loss: 0.0157\n",
    "📘 Epoch 179/1000 - Train Loss: 0.0151\n",
    "📘 Epoch 180/1000 - Train Loss: 0.0152\n",
    "✅ Saved checkpoint: checkpoints_baseline/char_transformer_epoch180.pt\n",
    "📘 Epoch 181/1000 - Train Loss: 0.0155\n",
    "📘 Epoch 182/1000 - Train Loss: 0.0168\n",
    "📘 Epoch 183/1000 - Train Loss: 0.0158\n",
    "📘 Epoch 184/1000 - Train Loss: 0.0158\n",
    "📘 Epoch 185/1000 - Train Loss: 0.0163\n",
    "📘 Epoch 186/1000 - Train Loss: 0.0145\n",
    "📘 Epoch 187/1000 - Train Loss: 0.0160\n",
    "📘 Epoch 188/1000 - Train Loss: 0.0145\n",
    "📘 Epoch 189/1000 - Train Loss: 0.0149\n",
    "📘 Epoch 190/1000 - Train Loss: 0.0144\n",
    "✅ Saved checkpoint: checkpoints_baseline/char_transformer_epoch190.pt\n",
    "📘 Epoch 191/1000 - Train Loss: 0.0158\n",
    "📘 Epoch 192/1000 - Train Loss: 0.0151\n",
    "📘 Epoch 193/1000 - Train Loss: 0.0147\n",
    "📘 Epoch 194/1000 - Train Loss: 0.0142\n",
    "📘 Epoch 195/1000 - Train Loss: 0.0154\n",
    "📘 Epoch 196/1000 - Train Loss: 0.0146\n",
    "📘 Epoch 197/1000 - Train Loss: 0.0147\n",
    "📘 Epoch 198/1000 - Train Loss: 0.0143\n",
    "📘 Epoch 199/1000 - Train Loss: 0.0150\n",
    "📘 Epoch 200/1000 - Train Loss: 0.0149\n",
    "✅ Saved checkpoint: checkpoints_baseline/char_transformer_epoch200.pt\n",
    "📘 Epoch 201/1000 - Train Loss: 0.0134\n",
    "📘 Epoch 202/1000 - Train Loss: 0.0154\n",
    "📘 Epoch 203/1000 - Train Loss: 0.0137\n",
    "📘 Epoch 204/1000 - Train Loss: 0.0142\n",
    "📘 Epoch 205/1000 - Train Loss: 0.0142\n",
    "📘 Epoch 206/1000 - Train Loss: 0.0140\n",
    "📘 Epoch 207/1000 - Train Loss: 0.0142\n",
    "📘 Epoch 208/1000 - Train Loss: 0.0136\n",
    "📘 Epoch 209/1000 - Train Loss: 0.0145\n",
    "📘 Epoch 210/1000 - Train Loss: 0.0128\n",
    "✅ Saved checkpoint: checkpoints_baseline/char_transformer_epoch210.pt\n",
    "📘 Epoch 211/1000 - Train Loss: 0.0138\n",
    "📘 Epoch 212/1000 - Train Loss: 0.0138\n",
    "📘 Epoch 213/1000 - Train Loss: 0.0129\n",
    "📘 Epoch 214/1000 - Train Loss: 0.0141\n",
    "📘 Epoch 215/1000 - Train Loss: 0.0127\n",
    "📘 Epoch 216/1000 - Train Loss: 0.0136\n",
    "📘 Epoch 217/1000 - Train Loss: 0.0143\n",
    "📘 Epoch 218/1000 - Train Loss: 0.0127\n",
    "📘 Epoch 219/1000 - Train Loss: 0.0141\n",
    "📘 Epoch 220/1000 - Train Loss: 0.0149\n",
    "✅ Saved checkpoint: checkpoints_baseline/char_transformer_epoch220.pt\n",
    "📘 Epoch 221/1000 - Train Loss: 0.0127\n",
    "📘 Epoch 222/1000 - Train Loss: 0.0130\n",
    "📘 Epoch 223/1000 - Train Loss: 0.0122\n",
    "📘 Epoch 224/1000 - Train Loss: 0.0140\n",
    "📘 Epoch 225/1000 - Train Loss: 0.0117\n",
    "📘 Epoch 226/1000 - Train Loss: 0.0124\n",
    "📘 Epoch 227/1000 - Train Loss: 0.0139\n",
    "📘 Epoch 228/1000 - Train Loss: 0.0126\n",
    "📘 Epoch 229/1000 - Train Loss: 0.0134\n",
    "📘 Epoch 230/1000 - Train Loss: 0.0134\n",
    "✅ Saved checkpoint: checkpoints_baseline/char_transformer_epoch230.pt\n",
    "📘 Epoch 231/1000 - Train Loss: 0.0138\n",
    "📘 Epoch 232/1000 - Train Loss: 0.0117\n",
    "📘 Epoch 233/1000 - Train Loss: 0.0124\n",
    "📘 Epoch 234/1000 - Train Loss: 0.0126\n",
    "📘 Epoch 235/1000 - Train Loss: 0.0112\n",
    "📘 Epoch 236/1000 - Train Loss: 0.0125\n",
    "📘 Epoch 237/1000 - Train Loss: 0.0125\n",
    "📘 Epoch 238/1000 - Train Loss: 0.0129\n",
    "📘 Epoch 239/1000 - Train Loss: 0.0117\n",
    "📘 Epoch 240/1000 - Train Loss: 0.0130\n",
    "✅ Saved checkpoint: checkpoints_baseline/char_transformer_epoch240.pt\n",
    "📘 Epoch 241/1000 - Train Loss: 0.0122\n",
    "📘 Epoch 242/1000 - Train Loss: 0.0117\n",
    "📘 Epoch 243/1000 - Train Loss: 0.0118\n",
    "📘 Epoch 244/1000 - Train Loss: 0.0116\n",
    "📘 Epoch 245/1000 - Train Loss: 0.0131\n",
    "📘 Epoch 246/1000 - Train Loss: 0.0126\n",
    "📘 Epoch 247/1000 - Train Loss: 0.0114\n",
    "📘 Epoch 248/1000 - Train Loss: 0.0113\n",
    "📘 Epoch 249/1000 - Train Loss: 0.0113\n",
    "📘 Epoch 250/1000 - Train Loss: 0.0119\n",
    "✅ Saved checkpoint: checkpoints_baseline/char_transformer_epoch250.pt\n",
    "📘 Epoch 251/1000 - Train Loss: 0.0117\n",
    "📘 Epoch 252/1000 - Train Loss: 0.0114\n",
    "📘 Epoch 253/1000 - Train Loss: 0.0111\n",
    "📘 Epoch 254/1000 - Train Loss: 0.0111\n",
    "📘 Epoch 255/1000 - Train Loss: 0.0118\n",
    "📘 Epoch 256/1000 - Train Loss: 0.0119\n",
    "📘 Epoch 257/1000 - Train Loss: 0.0118\n",
    "📘 Epoch 258/1000 - Train Loss: 0.0106\n",
    "📘 Epoch 259/1000 - Train Loss: 0.0119\n",
    "📘 Epoch 260/1000 - Train Loss: 0.0110\n",
    "✅ Saved checkpoint: checkpoints_baseline/char_transformer_epoch260.pt\n",
    "📘 Epoch 261/1000 - Train Loss: 0.0111\n",
    "📘 Epoch 262/1000 - Train Loss: 0.0110\n",
    "📘 Epoch 263/1000 - Train Loss: 0.0113\n",
    "📘 Epoch 264/1000 - Train Loss: 0.0107\n",
    "📘 Epoch 265/1000 - Train Loss: 0.0104\n",
    "📘 Epoch 266/1000 - Train Loss: 0.0115\n",
    "📘 Epoch 267/1000 - Train Loss: 0.0114\n",
    "📘 Epoch 268/1000 - Train Loss: 0.0111\n",
    "📘 Epoch 269/1000 - Train Loss: 0.0113\n",
    "📘 Epoch 270/1000 - Train Loss: 0.0111\n",
    "✅ Saved checkpoint: checkpoints_baseline/char_transformer_epoch270.pt\n",
    "📘 Epoch 271/1000 - Train Loss: 0.0105\n",
    "📘 Epoch 272/1000 - Train Loss: 0.0101\n",
    "📘 Epoch 273/1000 - Train Loss: 0.0104\n",
    "📘 Epoch 274/1000 - Train Loss: 0.0111\n",
    "📘 Epoch 275/1000 - Train Loss: 0.0104\n",
    "📘 Epoch 276/1000 - Train Loss: 0.0099\n",
    "📘 Epoch 277/1000 - Train Loss: 0.0099\n",
    "📘 Epoch 278/1000 - Train Loss: 0.0106\n",
    "📘 Epoch 279/1000 - Train Loss: 0.0103\n",
    "📘 Epoch 280/1000 - Train Loss: 0.0110\n",
    "✅ Saved checkpoint: checkpoints_baseline/char_transformer_epoch280.pt\n",
    "📘 Epoch 281/1000 - Train Loss: 0.0113\n",
    "📘 Epoch 282/1000 - Train Loss: 0.0104\n",
    "📘 Epoch 283/1000 - Train Loss: 0.0107\n",
    "📘 Epoch 284/1000 - Train Loss: 0.0103\n",
    "📘 Epoch 285/1000 - Train Loss: 0.0102\n",
    "📘 Epoch 286/1000 - Train Loss: 0.0115\n",
    "📘 Epoch 287/1000 - Train Loss: 0.0104\n",
    "📘 Epoch 288/1000 - Train Loss: 0.0101\n",
    "📘 Epoch 289/1000 - Train Loss: 0.0098\n",
    "📘 Epoch 290/1000 - Train Loss: 0.0098\n",
    "✅ Saved checkpoint: checkpoints_baseline/char_transformer_epoch290.pt\n",
    "📘 Epoch 291/1000 - Train Loss: 0.0109\n",
    "📘 Epoch 292/1000 - Train Loss: 0.0096\n",
    "📘 Epoch 293/1000 - Train Loss: 0.0111\n",
    "📘 Epoch 294/1000 - Train Loss: 0.0100\n",
    "📘 Epoch 295/1000 - Train Loss: 0.0101\n",
    "📘 Epoch 296/1000 - Train Loss: 0.0105\n",
    "📘 Epoch 297/1000 - Train Loss: 0.0097\n",
    "📘 Epoch 298/1000 - Train Loss: 0.0106\n",
    "📘 Epoch 299/1000 - Train Loss: 0.0103\n",
    "📘 Epoch 300/1000 - Train Loss: 0.0095\n",
    "✅ Saved checkpoint: checkpoints_baseline/char_transformer_epoch300.pt\n",
    "📘 Epoch 301/1000 - Train Loss: 0.0092\n",
    "📘 Epoch 302/1000 - Train Loss: 0.0096\n",
    "📘 Epoch 303/1000 - Train Loss: 0.0107\n",
    "📘 Epoch 304/1000 - Train Loss: 0.0097\n",
    "📘 Epoch 305/1000 - Train Loss: 0.0096\n",
    "📘 Epoch 306/1000 - Train Loss: 0.0102\n",
    "📘 Epoch 307/1000 - Train Loss: 0.0101\n",
    "📘 Epoch 308/1000 - Train Loss: 0.0095\n",
    "📘 Epoch 309/1000 - Train Loss: 0.0106\n",
    "📘 Epoch 310/1000 - Train Loss: 0.0098\n",
    "✅ Saved checkpoint: checkpoints_baseline/char_transformer_epoch310.pt\n",
    "📘 Epoch 311/1000 - Train Loss: 0.0088\n",
    "📘 Epoch 312/1000 - Train Loss: 0.0098\n",
    "📘 Epoch 313/1000 - Train Loss: 0.0093\n",
    "📘 Epoch 314/1000 - Train Loss: 0.0101\n",
    "📘 Epoch 315/1000 - Train Loss: 0.0096\n",
    "📘 Epoch 316/1000 - Train Loss: 0.0087\n",
    "📘 Epoch 317/1000 - Train Loss: 0.0093\n",
    "📘 Epoch 318/1000 - Train Loss: 0.0098\n",
    "📘 Epoch 319/1000 - Train Loss: 0.0088\n",
    "📘 Epoch 320/1000 - Train Loss: 0.0095\n",
    "✅ Saved checkpoint: checkpoints_baseline/char_transformer_epoch320.pt\n",
    "📘 Epoch 321/1000 - Train Loss: 0.0090\n",
    "📘 Epoch 322/1000 - Train Loss: 0.0092\n",
    "📘 Epoch 323/1000 - Train Loss: 0.0096\n",
    "📘 Epoch 324/1000 - Train Loss: 0.0089\n",
    "📘 Epoch 325/1000 - Train Loss: 0.0093\n",
    "📘 Epoch 326/1000 - Train Loss: 0.0106\n",
    "📘 Epoch 327/1000 - Train Loss: 0.0091\n",
    "📘 Epoch 328/1000 - Train Loss: 0.0086\n",
    "📘 Epoch 329/1000 - Train Loss: 0.0102\n",
    "📘 Epoch 330/1000 - Train Loss: 0.0089\n",
    "✅ Saved checkpoint: checkpoints_baseline/char_transformer_epoch330.pt\n",
    "📘 Epoch 331/1000 - Train Loss: 0.0093\n",
    "📘 Epoch 332/1000 - Train Loss: 0.0091\n",
    "📘 Epoch 333/1000 - Train Loss: 0.0086\n",
    "📘 Epoch 334/1000 - Train Loss: 0.0087\n",
    "📘 Epoch 335/1000 - Train Loss: 0.0087\n",
    "📘 Epoch 336/1000 - Train Loss: 0.0091\n",
    "📘 Epoch 337/1000 - Train Loss: 0.0095\n",
    "📘 Epoch 338/1000 - Train Loss: 0.0095\n",
    "📘 Epoch 339/1000 - Train Loss: 0.0089\n",
    "📘 Epoch 340/1000 - Train Loss: 0.0091\n",
    "✅ Saved checkpoint: checkpoints_baseline/char_transformer_epoch340.pt\n",
    "📘 Epoch 341/1000 - Train Loss: 0.0085\n",
    "📘 Epoch 342/1000 - Train Loss: 0.0089\n",
    "📘 Epoch 343/1000 - Train Loss: 0.0093\n",
    "📘 Epoch 344/1000 - Train Loss: 0.0083\n",
    "📘 Epoch 345/1000 - Train Loss: 0.0090\n",
    "📘 Epoch 346/1000 - Train Loss: 0.0086\n",
    "📘 Epoch 347/1000 - Train Loss: 0.0086\n",
    "📘 Epoch 348/1000 - Train Loss: 0.0091\n",
    "📘 Epoch 349/1000 - Train Loss: 0.0089\n",
    "📘 Epoch 350/1000 - Train Loss: 0.0090\n",
    "✅ Saved checkpoint: checkpoints_baseline/char_transformer_epoch350.pt\n",
    "📘 Epoch 351/1000 - Train Loss: 0.0088\n",
    "📘 Epoch 352/1000 - Train Loss: 0.0086\n",
    "📘 Epoch 353/1000 - Train Loss: 0.0082\n",
    "📘 Epoch 354/1000 - Train Loss: 0.0098\n",
    "📘 Epoch 355/1000 - Train Loss: 0.0082\n",
    "📘 Epoch 356/1000 - Train Loss: 0.0094\n",
    "📘 Epoch 357/1000 - Train Loss: 0.0085\n",
    "📘 Epoch 358/1000 - Train Loss: 0.0088\n",
    "📘 Epoch 359/1000 - Train Loss: 0.0085\n",
    "📘 Epoch 360/1000 - Train Loss: 0.0080\n",
    "✅ Saved checkpoint: checkpoints_baseline/char_transformer_epoch360.pt\n",
    "📘 Epoch 361/1000 - Train Loss: 0.0097\n",
    "📘 Epoch 362/1000 - Train Loss: 0.0082\n",
    "📘 Epoch 363/1000 - Train Loss: 0.0084\n",
    "📘 Epoch 364/1000 - Train Loss: 0.0091\n",
    "📘 Epoch 365/1000 - Train Loss: 0.0082\n",
    "📘 Epoch 366/1000 - Train Loss: 0.0088\n",
    "📘 Epoch 367/1000 - Train Loss: 0.0082\n",
    "📘 Epoch 368/1000 - Train Loss: 0.0078\n",
    "📘 Epoch 369/1000 - Train Loss: 0.0084\n",
    "📘 Epoch 370/1000 - Train Loss: 0.0089\n",
    "✅ Saved checkpoint: checkpoints_baseline/char_transformer_epoch370.pt\n",
    "📘 Epoch 371/1000 - Train Loss: 0.0080\n",
    "📘 Epoch 372/1000 - Train Loss: 0.0091\n",
    "📘 Epoch 373/1000 - Train Loss: 0.0088\n",
    "📘 Epoch 374/1000 - Train Loss: 0.0084\n",
    "📘 Epoch 375/1000 - Train Loss: 0.0079\n",
    "📘 Epoch 376/1000 - Train Loss: 0.0086\n",
    "📘 Epoch 377/1000 - Train Loss: 0.0076\n",
    "📘 Epoch 378/1000 - Train Loss: 0.0080\n",
    "📘 Epoch 379/1000 - Train Loss: 0.0086\n",
    "📘 Epoch 380/1000 - Train Loss: 0.0074\n",
    "✅ Saved checkpoint: checkpoints_baseline/char_transformer_epoch380.pt\n",
    "📘 Epoch 381/1000 - Train Loss: 0.0078\n",
    "📘 Epoch 382/1000 - Train Loss: 0.0086\n",
    "📘 Epoch 383/1000 - Train Loss: 0.0083\n",
    "📘 Epoch 384/1000 - Train Loss: 0.0079\n",
    "📘 Epoch 385/1000 - Train Loss: 0.0078\n",
    "📘 Epoch 386/1000 - Train Loss: 0.0080\n",
    "📘 Epoch 387/1000 - Train Loss: 0.0078\n",
    "📘 Epoch 388/1000 - Train Loss: 0.0076\n",
    "📘 Epoch 389/1000 - Train Loss: 0.0081\n",
    "📘 Epoch 390/1000 - Train Loss: 0.0084\n",
    "✅ Saved checkpoint: checkpoints_baseline/char_transformer_epoch390.pt\n",
    "📘 Epoch 391/1000 - Train Loss: 0.0081\n",
    "📘 Epoch 392/1000 - Train Loss: 0.0085\n",
    "📘 Epoch 393/1000 - Train Loss: 0.0079\n",
    "📘 Epoch 394/1000 - Train Loss: 0.0078\n",
    "📘 Epoch 395/1000 - Train Loss: 0.0074\n",
    "📘 Epoch 396/1000 - Train Loss: 0.0079\n",
    "📘 Epoch 397/1000 - Train Loss: 0.0074\n",
    "📘 Epoch 398/1000 - Train Loss: 0.0078\n",
    "📘 Epoch 399/1000 - Train Loss: 0.0071\n",
    "📘 Epoch 400/1000 - Train Loss: 0.0074\n",
    "✅ Saved checkpoint: checkpoints_baseline/char_transformer_epoch400.pt\n",
    "📘 Epoch 401/1000 - Train Loss: 0.0073\n",
    "📘 Epoch 402/1000 - Train Loss: 0.0078\n",
    "📘 Epoch 403/1000 - Train Loss: 0.0064\n",
    "📘 Epoch 404/1000 - Train Loss: 0.0070\n",
    "📘 Epoch 405/1000 - Train Loss: 0.0081\n",
    "📘 Epoch 406/1000 - Train Loss: 0.0078\n",
    "📘 Epoch 407/1000 - Train Loss: 0.0077\n",
    "📘 Epoch 408/1000 - Train Loss: 0.0075\n",
    "📘 Epoch 409/1000 - Train Loss: 0.0074\n",
    "📘 Epoch 410/1000 - Train Loss: 0.0071\n",
    "✅ Saved checkpoint: checkpoints_baseline/char_transformer_epoch410.pt\n",
    "📘 Epoch 411/1000 - Train Loss: 0.0071\n",
    "📘 Epoch 412/1000 - Train Loss: 0.0073\n",
    "📘 Epoch 413/1000 - Train Loss: 0.0079\n",
    "📘 Epoch 414/1000 - Train Loss: 0.0074\n",
    "📘 Epoch 415/1000 - Train Loss: 0.0063\n",
    "📘 Epoch 416/1000 - Train Loss: 0.0080\n",
    "📘 Epoch 417/1000 - Train Loss: 0.0066\n",
    "📘 Epoch 418/1000 - Train Loss: 0.0072\n",
    "📘 Epoch 419/1000 - Train Loss: 0.0069\n",
    "📘 Epoch 420/1000 - Train Loss: 0.0072\n",
    "✅ Saved checkpoint: checkpoints_baseline/char_transformer_epoch420.pt\n",
    "📘 Epoch 421/1000 - Train Loss: 0.0072\n",
    "📘 Epoch 422/1000 - Train Loss: 0.0069\n",
    "📘 Epoch 423/1000 - Train Loss: 0.0069\n",
    "📘 Epoch 424/1000 - Train Loss: 0.0067\n",
    "📘 Epoch 425/1000 - Train Loss: 0.0068\n",
    "📘 Epoch 426/1000 - Train Loss: 0.0069\n",
    "📘 Epoch 427/1000 - Train Loss: 0.0068\n",
    "📘 Epoch 428/1000 - Train Loss: 0.0067\n",
    "📘 Epoch 429/1000 - Train Loss: 0.0071\n",
    "📘 Epoch 430/1000 - Train Loss: 0.0068\n",
    "✅ Saved checkpoint: checkpoints_baseline/char_transformer_epoch430.pt\n",
    "📘 Epoch 431/1000 - Train Loss: 0.0066\n",
    "📘 Epoch 432/1000 - Train Loss: 0.0069\n",
    "📘 Epoch 433/1000 - Train Loss: 0.0064\n",
    "📘 Epoch 434/1000 - Train Loss: 0.0065\n",
    "📘 Epoch 435/1000 - Train Loss: 0.0067\n",
    "📘 Epoch 436/1000 - Train Loss: 0.0067\n",
    "📘 Epoch 437/1000 - Train Loss: 0.0064\n",
    "📘 Epoch 438/1000 - Train Loss: 0.0070\n",
    "📘 Epoch 439/1000 - Train Loss: 0.0063\n",
    "📘 Epoch 440/1000 - Train Loss: 0.0056\n",
    "✅ Saved checkpoint: checkpoints_baseline/char_transformer_epoch440.pt\n",
    "📘 Epoch 441/1000 - Train Loss: 0.0063\n",
    "📘 Epoch 442/1000 - Train Loss: 0.0071\n",
    "📘 Epoch 443/1000 - Train Loss: 0.0062\n",
    "📘 Epoch 444/1000 - Train Loss: 0.0061\n",
    "📘 Epoch 445/1000 - Train Loss: 0.0070\n",
    "📘 Epoch 446/1000 - Train Loss: 0.0064\n",
    "📘 Epoch 447/1000 - Train Loss: 0.0062\n",
    "📘 Epoch 448/1000 - Train Loss: 0.0066\n",
    "📘 Epoch 449/1000 - Train Loss: 0.0060\n",
    "📘 Epoch 450/1000 - Train Loss: 0.0067\n",
    "✅ Saved checkpoint: checkpoints_baseline/char_transformer_epoch450.pt\n",
    "📘 Epoch 451/1000 - Train Loss: 0.0063\n",
    "📘 Epoch 452/1000 - Train Loss: 0.0062\n",
    "📘 Epoch 453/1000 - Train Loss: 0.0067\n",
    "📘 Epoch 454/1000 - Train Loss: 0.0062\n",
    "📘 Epoch 455/1000 - Train Loss: 0.0059\n",
    "📘 Epoch 456/1000 - Train Loss: 0.0069\n",
    "📘 Epoch 457/1000 - Train Loss: 0.0068\n",
    "📘 Epoch 458/1000 - Train Loss: 0.0059\n",
    "📘 Epoch 459/1000 - Train Loss: 0.0059\n",
    "📘 Epoch 460/1000 - Train Loss: 0.0062\n",
    "✅ Saved checkpoint: checkpoints_baseline/char_transformer_epoch460.pt\n",
    "📘 Epoch 461/1000 - Train Loss: 0.0062\n",
    "📘 Epoch 462/1000 - Train Loss: 0.0060\n",
    "📘 Epoch 463/1000 - Train Loss: 0.0063\n",
    "📘 Epoch 464/1000 - Train Loss: 0.0065\n",
    "📘 Epoch 465/1000 - Train Loss: 0.0057\n",
    "📘 Epoch 466/1000 - Train Loss: 0.0060\n",
    "📘 Epoch 467/1000 - Train Loss: 0.0061\n",
    "📘 Epoch 468/1000 - Train Loss: 0.0061\n",
    "📘 Epoch 469/1000 - Train Loss: 0.0060\n",
    "📘 Epoch 470/1000 - Train Loss: 0.0057\n",
    "✅ Saved checkpoint: checkpoints_baseline/char_transformer_epoch470.pt\n",
    "📘 Epoch 471/1000 - Train Loss: 0.0061\n",
    "📘 Epoch 472/1000 - Train Loss: 0.0063\n",
    "📘 Epoch 473/1000 - Train Loss: 0.0052\n",
    "📘 Epoch 474/1000 - Train Loss: 0.0062\n",
    "📘 Epoch 475/1000 - Train Loss: 0.0063"
   ]
  },
  {
   "cell_type": "markdown",
   "id": "f3340b2c",
   "metadata": {},
   "source": [
    "## Test set prediction\n",
    "\n",
    "1. encode_text() and decode_text() are the same functions you used for your baseline dataset.\n",
    "2. SOS_IDX and EOS_IDX should be your special token indices (start/end).\n",
    "3. This uses greedy decoding only. No beam search or sampling needed.\n",
    "4. You can now submit predictions_normal.csv for evaluation."
   ]
  },
  {
   "cell_type": "markdown",
   "id": "be87cf1b",
   "metadata": {},
   "source": [
    "Load Model and Define Helpers"
   ]
  },
  {
   "cell_type": "code",
   "execution_count": null,
   "id": "33545510",
   "metadata": {},
   "outputs": [
    {
     "name": "stdout",
     "output_type": "stream",
     "text": [
      "Input:  Enjoy your day having extreme fun!\n",
      "Prediction: !nuf emertxe gnivah yad ruoy yojn\n"
     ]
    }
   ],
   "source": [
    "import torch\n",
    "\n",
    "# Force CPU\n",
    "device = torch.device(\"cpu\")\n",
    "\n",
    "# Load checkpoint on CPU\n",
    "checkpoint_path = \"checkpoints_baseline/char_transformer_epoch500.pt\"\n",
    "baseline_model.load_state_dict(torch.load(checkpoint_path, map_location=device)[\"model_state\"])\n",
    "baseline_model.to(device)\n",
    "baseline_model.eval()\n",
    "\n",
    "# Vocabulary\n",
    "vocab = {c:i+3 for i,c in enumerate([chr(i) for i in range(32,127)])}\n",
    "inv_vocab = {i:c for c,i in vocab.items()}\n",
    "PAD_IDX, SOS_IDX, EOS_IDX = 0, 1, 2\n",
    "\n",
    "def encode_text(text):\n",
    "    return [SOS_IDX] + [vocab[c] for c in text] + [EOS_IDX]\n",
    "\n",
    "def decode_text(ids):\n",
    "    return \"\".join([inv_vocab[i] for i in ids if i > 2])\n",
    "\n",
    "# Autoregressive prediction\n",
    "def generate_single_char_model(text, model, max_len=128):\n",
    "    model.eval()\n",
    "    with torch.no_grad():\n",
    "        input_ids = torch.tensor([encode_text(text)], dtype=torch.long, device=device)\n",
    "        output_ids = [SOS_IDX]\n",
    "\n",
    "        for t in range(max_len):\n",
    "            tgt_ids = torch.tensor([output_ids], dtype=torch.long, device=device)\n",
    "            logits = model(input_ids, tgt_ids)\n",
    "            next_id = logits[0, -1].argmax().item()\n",
    "            output_ids.append(next_id)\n",
    "            if next_id == EOS_IDX:\n",
    "                break\n",
    "\n",
    "        return decode_text(output_ids[1:])\n",
    "\n",
    "# Example\n",
    "sample_text = \"Enjoy your day having extreme fun!\"\n",
    "prediction = generate_single_char_model(sample_text, baseline_model)\n",
    "print(\"Input: \", sample_text)\n",
    "print(\"Prediction:\", prediction)"
   ]
  },
  {
   "cell_type": "markdown",
   "id": "0d93602b",
   "metadata": {},
   "source": [
    "Inference Testing (Single, Interactive Example)"
   ]
  },
  {
   "cell_type": "code",
   "execution_count": null,
   "id": "e681ae92",
   "metadata": {},
   "outputs": [
    {
     "name": "stdout",
     "output_type": "stream",
     "text": [
      "✅ Using MPS for inference\n",
      "✅ Model loaded and set to evaluation mode.\n"
     ]
    }
   ],
   "source": [
    "import torch\n",
    "import torch.nn as nn\n",
    "import pandas as pd\n",
    "import math\n",
    "\n",
    "# --- 1. Setup ---\n",
    "\n",
    "# Define constants to match the training environment\n",
    "PAD_IDX, SOS_IDX, EOS_IDX = 0, 1, 2\n",
    "VOCAB_SIZE = 95  # FIX: Hardcode the vocab size from the trained model\n",
    "MAX_LEN = 128    # Define a max generation length\n",
    "\n",
    "# --- Vocabulary and Helper Functions ---\n",
    "# Re-create the exact vocabulary used during training\n",
    "chars = [chr(i) for i in range(32, 127)]\n",
    "_vocab = {c: i + 3 for i, c in enumerate(chars)}\n",
    "INV_VOCAB = {i: c for c, i in _vocab.items()}\n",
    "\n",
    "def encode_text(text, add_special=True):\n",
    "    # FIX: Use the full version of the function that accepts 'add_special'\n",
    "    ids = [_vocab.get(ch, -1) for ch in text if ch in _vocab]\n",
    "    if add_special:\n",
    "        ids = [SOS_IDX] + ids + [EOS_IDX]\n",
    "    return torch.tensor(ids, dtype=torch.long)\n",
    "\n",
    "def decode_ids(ids):\n",
    "    \"\"\"Decodes a list of token IDs back to a string.\"\"\"\n",
    "    return \"\".join([INV_VOCAB.get(i, '') for i in ids if i not in {PAD_IDX, SOS_IDX, EOS_IDX}])\n",
    "\n",
    "# --- Device and Model Loading ---\n",
    "if torch.backends.mps.is_available():\n",
    "    device = torch.device(\"mps\")\n",
    "    print(\"✅ Using MPS for inference\")\n",
    "else:\n",
    "    device = torch.device(\"cpu\")\n",
    "    print(\"⚠️ MPS not available, using CPU for inference\")\n",
    "\n",
    "# Instantiate your model architecture with the CORRECT vocab_size\n",
    "baseline_model = CharTransformer(vocab_size=VOCAB_SIZE, d_model=64, nhead=4, num_layers=2).to(device)\n",
    "\n",
    "# Load the saved weights\n",
    "checkpoint_path = \"checkpoints_baseline/char_transformer_epoch500.pt\"\n",
    "checkpoint = torch.load(checkpoint_path, map_location=device)\n",
    "baseline_model.load_state_dict(checkpoint[\"model_state\"])\n",
    "\n",
    "# Set the model to evaluation mode\n",
    "baseline_model.eval()\n",
    "print(\"✅ Model loaded and set to evaluation mode.\")"
   ]
  },
  {
   "cell_type": "code",
   "execution_count": null,
   "id": "3dac867b",
   "metadata": {},
   "outputs": [
    {
     "name": "stdout",
     "output_type": "stream",
     "text": [
      "\n",
      "🔍 Generating predictions on the test set...\n",
      "✅ Predictions generated. Here are the first 10 examples:\n",
      "                                                                                                             input                                                                                                     ground_truth                                                                                                             prediction\n",
      "0                                                        intimidated campaigns emerging marines spin bel cleansing                                                        gnisnaelc leb nips seniram gnigreme sngiapmac detadimitni      gnisnaelc leb nips seniram gnigreme sngiapmac detadimitni snaelc leb nips seniram gnignigreme sngiapmac detimitni\n",
      "1                                                                          salary lebanese wifi fury fab sta polly                                                                          yllop ats baf yruf ifiw esenabel yralas                   yllop ats baf yruf ifiw esenabel yralaso oodao ood llop ats baf yruf ififiw esenabel yralasoo ood oo\n",
      "2                                                               financing ahmed sexual cinematic puff malibu peach                                                               hcaep ubilam ffup citamenic lauxes demha gnicnanif              hcaep ubilam ffup citamenic lauxes demha gnicnanif oc caep ubilam ffupup citamenic lauxes demha gnicnanif\n",
      "3  n00 nickel disparity funded tutorials constrained bk 8 cellar wen advocacy surpass digitally discredit earliest  tseilrae tidercsid yllatigid ssaprus ycacovda new rallec 8 kb deniartsnoc slairotut dednuf ytirapsid lekcin 00n  tseilrae tidercsid yllatigid ssaprus ycacovda new rallec 8 kb deniartsnoc slairotut dednuf ytirapsid lekcin 00nlec 8 \n",
      "4                                          unveiled alliance cleric skinned illness permission destroyed stationed                                          denoitats deyortsed noissimrep ssenlli denniks cirelc ecnailla delievnu     denoitats deyortsed noissimrep ssenlli denniks cirelc ecnailla delievnuort noississimrep ssenlli denniks cirelc ec\n",
      "5                                                         input openings thinks sierra stimulate sheikh habit dull                                                         llud tibah hkiehs etalumits arreis skniht sgninepo tupni       llud tibah hkiehs etalumits arreis skniht sgninepo tupni lud tibah hkiehs etalumits arreis skniht sgninepo tupni\n",
      "6                                                       reforms lamps from hockey evening clones beyonce artillery                                                       yrellitra ecnoyeb senolc gnineve yekcoh morf spmal smrofer      yrellitra ecnoyeb senolc gnineve yekcoh morf spmal smroferrlitra ecnoyeb senolc gninineve yekcoh morf spmal smrof\n",
      "7                             ra hungary flush plush sorts spouse bananas defender protests lesser alexandra canal                             lanac ardnaxela ressel stsetorp rednefed sananab esuops stros hsulp hsulf yragnuh ar  lanac ardnaxela ressel stsetorp rednefed sananab esuops stros hsulp hsulf yragnuh artsetorp rednefed sananab esuops s\n",
      "8                                                                           worcester visitation rotary constantly                                                                           yltnatsnoc yrator noitatisiv retsecrow                     yltnatsnoc yrator noitatisiv retsecrowo ood oo aodoltnatsnoc yrator noitatatisiv retsecrowoo oo oo\n",
      "9                      neck m1 prescribe demands ev commanders s00 compensation inventions amc ranged faster nobel                      lebon retsaf degnar cma snoitnevni noitasnepmoc 00s srednammoc ve sdnamed ebircserp 1m kcen  lebon retsaf degnar cma snoitnevni noitasnepmoc 00s srednammoc ve sdnamed ebircserp 1m kcen onoitasnepmoc 000s sredna\n"
     ]
    }
   ],
   "source": [
    "# --- 2. Test Set Prediction ---\n",
    "\n",
    "@torch.no_grad()\n",
    "def predict_on_test_set(model, data_loader, device):\n",
    "    \"\"\"Generates predictions for an entire test set and returns a DataFrame.\"\"\"\n",
    "    model.eval()\n",
    "    results = []\n",
    "    \n",
    "    # FIX: Make the loop more robust by iterating over 'batch'\n",
    "    for batch in data_loader:\n",
    "        src_padded = batch[0].to(device)\n",
    "        tgt_padded = batch[2] # For ground truth comparison\n",
    "\n",
    "        tgt_inp = torch.full((src_padded.size(0), 1), SOS_IDX, dtype=torch.long, device=device)\n",
    "\n",
    "        for _ in range(MAX_LEN):\n",
    "            logits = model(src_padded, tgt_inp)\n",
    "            next_token = logits[:, -1, :].argmax(dim=-1).unsqueeze(1)\n",
    "            tgt_inp = torch.cat([tgt_inp, next_token], dim=1)\n",
    "            if (tgt_inp == EOS_IDX).any(dim=1).all():\n",
    "                break\n",
    "\n",
    "        source_texts = [decode_ids(s.tolist()) for s in src_padded]\n",
    "        target_texts = [decode_ids(t.tolist()) for t in tgt_padded]\n",
    "        predicted_texts = [decode_ids(p.tolist()) for p in tgt_inp]\n",
    "        \n",
    "        for i in range(len(source_texts)):\n",
    "            results.append({\n",
    "                \"input\": source_texts[i],\n",
    "                \"ground_truth\": target_texts[i],\n",
    "                \"prediction\": predicted_texts[i]\n",
    "            })\n",
    "\n",
    "    return pd.DataFrame(results)\n",
    "\n",
    "print(\"\\n🔍 Generating predictions on the test set...\")\n",
    "predictions_df = predict_on_test_set(baseline_model, test_loader, device)\n",
    "print(\"✅ Predictions generated. Here are the first 10 examples:\")\n",
    "print(predictions_df.head(10).to_string())"
   ]
  },
  {
   "cell_type": "code",
   "execution_count": null,
   "id": "f338787b",
   "metadata": {},
   "outputs": [
    {
     "name": "stdout",
     "output_type": "stream",
     "text": [
      "\n",
      "🤖 Running interactive inference tests...\n"
     ]
    },
    {
     "name": "stderr",
     "output_type": "stream",
     "text": [
      "/Library/Frameworks/Python.framework/Versions/3.13/lib/python3.13/site-packages/torch/nn/functional.py:6041: UserWarning: Support for mismatched key_padding_mask and attn_mask is deprecated. Use same type for both instead.\n",
      "  warnings.warn(\n"
     ]
    },
    {
     "name": "stdout",
     "output_type": "stream",
     "text": [
      "\n",
      "Input:      'hello world'\n",
      "Prediction: 'dlrow olleh'\n",
      "\n",
      "Input:      'PyTorch is great for building transformers.'\n",
      "Prediction: '.sremrofsnart gnidliub rof taerg si hcroyy'\n"
     ]
    }
   ],
   "source": [
    "# --- 3. Inference Testing ---\n",
    "\n",
    "def generate_prediction(input_text, model, device):\n",
    "    \"\"\"Generates a prediction for a single input string.\"\"\"\n",
    "    model.eval()\n",
    "    with torch.no_grad():\n",
    "        # This function now works because encode_text is defined correctly above\n",
    "        src_tensor = encode_text(input_text, add_special=True).unsqueeze(0).to(device)\n",
    "        output_ids = [SOS_IDX]\n",
    "\n",
    "        for _ in range(MAX_LEN):\n",
    "            tgt_tensor = torch.tensor(output_ids, dtype=torch.long, device=device).unsqueeze(0)\n",
    "            logits = model(src_tensor, tgt_tensor)\n",
    "            next_id = logits[0, -1].argmax().item()\n",
    "            output_ids.append(next_id)\n",
    "            if next_id == EOS_IDX:\n",
    "                break\n",
    "        \n",
    "        return decode_ids(output_ids)\n",
    "\n",
    "print(\"\\n🤖 Running interactive inference tests...\")\n",
    "\n",
    "sample1 = \"hello world\"\n",
    "pred1 = generate_prediction(sample1, baseline_model, device)\n",
    "print(f\"\\nInput:      '{sample1}'\")\n",
    "print(f\"Prediction: '{pred1}'\")\n",
    "\n",
    "sample2 = \"PyTorch is great for building transformers.\"\n",
    "pred2 = generate_prediction(sample2, baseline_model, device)\n",
    "print(f\"\\nInput:      '{sample2}'\")\n",
    "print(f\"Prediction: '{pred2}'\")"
   ]
  },
  {
   "cell_type": "markdown",
   "id": "08a3b2b1",
   "metadata": {},
   "source": [
    "## Saving predictions"
   ]
  },
  {
   "cell_type": "code",
   "execution_count": null,
   "id": "bd68b221",
   "metadata": {},
   "outputs": [
    {
     "name": "stderr",
     "output_type": "stream",
     "text": [
      "/Library/Frameworks/Python.framework/Versions/3.13/lib/python3.13/site-packages/tqdm/auto.py:21: TqdmWarning: IProgress not found. Please update jupyter and ipywidgets. See https://ipywidgets.readthedocs.io/en/stable/user_install.html\n",
      "  from .autonotebook import tqdm as notebook_tqdm\n"
     ]
    },
    {
     "name": "stdout",
     "output_type": "stream",
     "text": [
      "✅ Using mps for inference\n",
      "✅ Model loaded successfully.\n",
      "\n",
      "Reading data from ./../data/test.csv...\n",
      "Generating predictions for each row...\n"
     ]
    },
    {
     "name": "stderr",
     "output_type": "stream",
     "text": [
      "➡️ Processing rows:   0%|          | 0/2000 [00:00<?, ?it/s]/Library/Frameworks/Python.framework/Versions/3.13/lib/python3.13/site-packages/torch/nn/functional.py:6041: UserWarning: Support for mismatched key_padding_mask and attn_mask is deprecated. Use same type for both instead.\n",
      "  warnings.warn(\n",
      "➡️ Processing rows: 100%|██████████| 2000/2000 [15:35<00:00,  2.14it/s]\n"
     ]
    },
    {
     "name": "stdout",
     "output_type": "stream",
     "text": [
      "\n",
      "🎉 Success! Predictions saved to: ./predictions/test_predictions.csv\n",
      "\n",
      "Here's a preview of the final data:\n",
      "                                                                                                             input                                                                                                           target                                                                                                      predictions\n",
      "0                                                        intimidated campaigns emerging marines spin bel cleansing                                                        gnisnaelc leb nips seniram gnigreme sngiapmac detadimitni                                                        gnisnaelc leb nips seniram gnigreme sngiapmac detadimitni\n",
      "1                                                                          salary lebanese wifi fury fab sta polly                                                                          yllop ats baf yruf ifiw esenabel yralas                                                                          yllop ats baf yruf ifiw esenabel yralas\n",
      "2                                                               financing ahmed sexual cinematic puff malibu peach                                                               hcaep ubilam ffup citamenic lauxes demha gnicnanif                                                               hcaep ubilam ffup citamenic lauxes demha gnicnanif\n",
      "3  n00 nickel disparity funded tutorials constrained bk 8 cellar wen advocacy surpass digitally discredit earliest  tseilrae tidercsid yllatigid ssaprus ycacovda new rallec 8 kb deniartsnoc slairotut dednuf ytirapsid lekcin 00n  tseilrae tidercsid yllatigid ssaprus ycacovda new rallec 8 kb deniartsnoc slairotut dednuf ytirapsid lekcin 00n\n",
      "4                                          unveiled alliance cleric skinned illness permission destroyed stationed                                          denoitats deyortsed noissimrep ssenlli denniks cirelc ecnailla delievnu                                          denoitats deyortsed noissimrep ssenlli denniks cirelc ecnailla delievnu\n"
     ]
    }
   ],
   "source": [
    "import torch\n",
    "import pandas as pd\n",
    "import os\n",
    "from tqdm.auto import tqdm\n",
    "\n",
    "# --- 1. Setup (Model, Constants, and Helpers) ---\n",
    "# Ensure this setup matches the environment you used for training and previous testing.\n",
    "\n",
    "# Define constants\n",
    "PAD_IDX, SOS_IDX, EOS_IDX = 0, 1, 2\n",
    "VOCAB_SIZE = 95\n",
    "MAX_LEN = 128\n",
    "\n",
    "# Vocabulary and Helper Functions\n",
    "chars = [chr(i) for i in range(32, 127)]\n",
    "_vocab = {c: i + 3 for i, c in enumerate(chars)}\n",
    "INV_VOCAB = {i: c for c, i in _vocab.items()}\n",
    "\n",
    "def encode_text(text, add_special=True):\n",
    "    ids = [_vocab.get(ch, -1) for ch in text if ch in _vocab]\n",
    "    if add_special:\n",
    "        ids = [SOS_IDX] + ids + [EOS_IDX]\n",
    "    return torch.tensor(ids, dtype=torch.long)\n",
    "\n",
    "def decode_ids(ids):\n",
    "    return \"\".join([INV_VOCAB.get(i, '') for i in ids if i not in {PAD_IDX, SOS_IDX, EOS_IDX}])\n",
    "\n",
    "# Device and Model Loading\n",
    "if torch.backends.mps.is_available():\n",
    "    device = torch.device(\"mps\")\n",
    "else:\n",
    "    device = torch.device(\"cpu\")\n",
    "print(f\"✅ Using {device} for inference\")\n",
    "\n",
    "# Instantiate your model architecture\n",
    "# This needs the CharTransformer class definition from your original script\n",
    "baseline_model = CharTransformer(vocab_size=VOCAB_SIZE, d_model=64, nhead=4, num_layers=2).to(device)\n",
    "\n",
    "# Load the saved weights\n",
    "checkpoint_path = \"checkpoints_baseline/char_transformer_epoch500.pt\"\n",
    "checkpoint = torch.load(checkpoint_path, map_location=device)\n",
    "baseline_model.load_state_dict(checkpoint[\"model_state\"])\n",
    "baseline_model.eval()\n",
    "print(\"✅ Model loaded successfully.\")\n",
    "\n",
    "\n",
    "# --- 2. Single Prediction Function ---\n",
    "\n",
    "def generate_prediction(input_text, model, device):\n",
    "    \"\"\"Generates a prediction for a single input string.\"\"\"\n",
    "    model.eval()\n",
    "    with torch.no_grad():\n",
    "        src_tensor = encode_text(input_text, add_special=True).unsqueeze(0).to(device)\n",
    "        output_ids = [SOS_IDX]\n",
    "\n",
    "        for _ in range(MAX_LEN):\n",
    "            tgt_tensor = torch.tensor(output_ids, dtype=torch.long, device=device).unsqueeze(0)\n",
    "            logits = model(src_tensor, tgt_tensor)\n",
    "            next_id = logits[0, -1].argmax().item()\n",
    "            output_ids.append(next_id)\n",
    "            if next_id == EOS_IDX:\n",
    "                break\n",
    "        \n",
    "        return decode_ids(output_ids)\n",
    "\n",
    "\n",
    "# --- 3. Main Script to Process CSV ---\n",
    "\n",
    "# Define file paths\n",
    "input_csv_path = \"./../data/test.csv\"\n",
    "output_dir = \"./predictions\"\n",
    "output_csv_path = os.path.join(output_dir, \"test_predictions.csv\")\n",
    "\n",
    "# Create the output directory if it doesn't exist\n",
    "os.makedirs(output_dir, exist_ok=True)\n",
    "\n",
    "# Load the test data\n",
    "print(f\"\\nReading data from {input_csv_path}...\")\n",
    "df = pd.read_csv(input_csv_path)\n",
    "\n",
    "# Initialize a list to store predictions\n",
    "predictions_list = []\n",
    "\n",
    "print(\"Generating predictions for each row...\")\n",
    "# Use tqdm to create a progress bar\n",
    "for input_text in tqdm(df['input'], desc=\"➡️ Processing rows\"):\n",
    "    # Generate a prediction for the current input text\n",
    "    prediction = generate_prediction(input_text, baseline_model, device)\n",
    "    # Add the prediction to our list\n",
    "    predictions_list.append(prediction)\n",
    "\n",
    "# Add the list of predictions as a new column in the DataFrame\n",
    "df['predictions'] = predictions_list\n",
    "\n",
    "# Save the updated DataFrame to a new CSV file\n",
    "df.to_csv(output_csv_path, index=False)\n",
    "\n",
    "print(f\"\\n🎉 Success! Predictions saved to: {output_csv_path}\")\n",
    "print(\"\\nHere's a preview of the final data:\")\n",
    "print(df.head().to_string())"
   ]
  },
  {
   "cell_type": "markdown",
   "id": "4c228213",
   "metadata": {},
   "source": [
    "# Evaluation & Predictions"
   ]
  },
  {
   "cell_type": "markdown",
   "id": "18880acd",
   "metadata": {},
   "source": [
    "##  Metrics evaluation script for both BLT and baseline models\n",
    "\n",
    "1.\tToken-level accuracy\n",
    "2.\tAverage sequence length (input tokens vs predicted tokens)"
   ]
  },
  {
   "cell_type": "code",
   "execution_count": null,
   "id": "f63fdda5",
   "metadata": {},
   "outputs": [],
   "source": [
    "import pandas as pd\n",
    "\n",
    "def evaluate_predictions(pred_csv_path, original_csv_path):\n",
    "    # Load predictions\n",
    "    df_pred = pd.read_csv(pred_csv_path)\n",
    "    df_orig = pd.read_csv(original_csv_path)\n",
    "\n",
    "    total_tokens = 0\n",
    "    correct_tokens = 0\n",
    "    total_input_len = 0\n",
    "    total_output_len = 0\n",
    "\n",
    "    for idx in range(len(df_pred)):\n",
    "        pred = str(df_pred.loc[idx, \"prediction\"])\n",
    "        target = str(df_orig.loc[idx, \"target\"])\n",
    "        input_str = str(df_orig.loc[idx, \"input\"])\n",
    "\n",
    "        # Token-level comparison\n",
    "        min_len = min(len(pred), len(target))\n",
    "        correct_tokens += sum([pred[i] == target[i] for i in range(min_len)])\n",
    "        total_tokens += len(target)\n",
    "\n",
    "        # Sequence length stats\n",
    "        total_input_len += len(input_str)\n",
    "        total_output_len += len(pred)\n",
    "\n",
    "    token_accuracy = 100.0 * correct_tokens / total_tokens\n",
    "    avg_input_len = total_input_len / len(df_pred)\n",
    "    avg_output_len = total_output_len / len(df_pred)\n",
    "\n",
    "    print(f\"✅ Evaluation for {pred_csv_path}\")\n",
    "    print(f\"Token-level Accuracy: {token_accuracy:.2f}%\")\n",
    "    print(f\"Average input length: {avg_input_len:.2f} chars\")\n",
    "    print(f\"Average predicted length: {avg_output_len:.2f} chars\")\n",
    "    print(\"-\" * 50)\n",
    "    return token_accuracy, avg_input_len, avg_output_len\n",
    "\n",
    "\n",
    "# --- Evaluate BLT predictions ---\n",
    "blt_acc, blt_in_len, blt_out_len = evaluate_predictions(\n",
    "    \"./prediction/blt_predictions.csv\", \"./../data/test.csv\"\n",
    ")\n",
    "\n",
    "# --- Evaluate Baseline predictions ---\n",
    "baseline_acc, base_in_len, base_out_len = evaluate_predictions(\n",
    "    \"./prediction/predictions_baseline.csv\", \"./../data/test.csv\"\n",
    ")\n",
    "\n",
    "# --- Comparison Summary ---\n",
    "print(\"📊 Comparison Summary:\")\n",
    "print(f\"BLT      | Acc: {blt_acc:.2f}%, Avg Input: {blt_in_len:.2f}, Avg Pred: {blt_out_len:.2f}\")\n",
    "print(f\"Baseline | Acc: {baseline_acc:.2f}%, Avg Input: {base_in_len:.2f}, Avg Pred: {base_out_len:.2f}\")"
   ]
  },
  {
   "cell_type": "code",
   "execution_count": null,
   "id": "f77c6da7",
   "metadata": {},
   "outputs": [],
   "source": []
  }
 ],
 "metadata": {
  "kernelspec": {
   "display_name": "Python 3",
   "language": "python",
   "name": "python3"
  },
  "language_info": {
   "codemirror_mode": {
    "name": "ipython",
    "version": 3
   },
   "file_extension": ".py",
   "mimetype": "text/x-python",
   "name": "python",
   "nbconvert_exporter": "python",
   "pygments_lexer": "ipython3",
   "version": "3.13.7"
  }
 },
 "nbformat": 4,
 "nbformat_minor": 5
}
