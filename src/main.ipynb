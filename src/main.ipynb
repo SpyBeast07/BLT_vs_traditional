{
 "cells": [
  {
   "cell_type": "markdown",
   "id": "853f066c",
   "metadata": {},
   "source": [
    "# Data"
   ]
  },
  {
   "cell_type": "code",
   "execution_count": 1,
   "id": "6894c401",
   "metadata": {},
   "outputs": [
    {
     "name": "stdout",
     "output_type": "stream",
     "text": [
      "Train shape: (10000, 2)\n",
      "Test shape: (2000, 2)\n",
      "\n",
      "Train head:\n",
      "                                               input  \\\n",
      "0               reconciliation trolls realized scene   \n",
      "1                        scratched kemp blah devices   \n",
      "2  delusional engineered perfect prey englishman ...   \n",
      "3  boomers nfl reacts parallels everything 6 redu...   \n",
      "4  patience put christmas superhero luc rake fulf...   \n",
      "\n",
      "                                              target  \n",
      "0               enecs dezilaer sllort noitailicnocer  \n",
      "1                        secived halb pmek dehctarcs  \n",
      "2  hctarcs detsub namhsilgne yerp tcefrep dereeni...  \n",
      "3  stcudnoc ysereh redlof secuder 6 gnihtyreve sl...  \n",
      "4  ylesned ylno elbats latnenitnoc dellifluf ekar...  \n",
      "\n",
      "Test head:\n",
      "                                               input  \\\n",
      "0  intimidated campaigns emerging marines spin be...   \n",
      "1            salary lebanese wifi fury fab sta polly   \n",
      "2  financing ahmed sexual cinematic puff malibu p...   \n",
      "3  n00 nickel disparity funded tutorials constrai...   \n",
      "4  unveiled alliance cleric skinned illness permi...   \n",
      "\n",
      "                                              target  \n",
      "0  gnisnaelc leb nips seniram gnigreme sngiapmac ...  \n",
      "1            yllop ats baf yruf ifiw esenabel yralas  \n",
      "2  hcaep ubilam ffup citamenic lauxes demha gnicn...  \n",
      "3  tseilrae tidercsid yllatigid ssaprus ycacovda ...  \n",
      "4  denoitats deyortsed noissimrep ssenlli denniks...  \n"
     ]
    }
   ],
   "source": [
    "import pandas as pd\n",
    "\n",
    "train_path = \"./../data/train.csv\"\n",
    "test_path = \"./../data/test.csv\"\n",
    "\n",
    "train_df = pd.read_csv(train_path)\n",
    "test_df = pd.read_csv(test_path)\n",
    "\n",
    "print(\"Train shape:\", train_df.shape)\n",
    "print(\"Test shape:\", test_df.shape)\n",
    "\n",
    "print(\"\\nTrain head:\")\n",
    "print(train_df.head())\n",
    "\n",
    "print(\"\\nTest head:\")\n",
    "print(test_df.head())"
   ]
  },
  {
   "cell_type": "markdown",
   "id": "51648900",
   "metadata": {},
   "source": [
    "# BLT Transformer"
   ]
  },
  {
   "cell_type": "code",
   "execution_count": 2,
   "id": "5a75530c",
   "metadata": {},
   "outputs": [
    {
     "name": "stdout",
     "output_type": "stream",
     "text": [
      "✅ Using MPS (Apple Silicon GPU)\n"
     ]
    }
   ],
   "source": [
    "import torch\n",
    "\n",
    "if torch.backends.mps.is_available():\n",
    "    device = torch.device(\"mps\")\n",
    "    print(\"✅ Using MPS (Apple Silicon GPU)\")\n",
    "else:\n",
    "    device = torch.device(\"cpu\")\n",
    "    print(\"⚠️ MPS not available, falling back to CPU\")"
   ]
  },
  {
   "cell_type": "markdown",
   "id": "e996c3a4",
   "metadata": {},
   "source": [
    "## Patcher (entropy-based segmentation)"
   ]
  },
  {
   "cell_type": "markdown",
   "id": "19fb0d88",
   "metadata": {},
   "source": [
    "**Shannon Entropy Function**\n",
    "\n",
    "Helper to compute entropy of a sequence of characters.\n",
    "\n",
    "H = - \\sum p(x) \\cdot \\log_2(p(x))"
   ]
  },
  {
   "cell_type": "code",
   "execution_count": 3,
   "id": "82277daf",
   "metadata": {},
   "outputs": [],
   "source": [
    "import math\n",
    "from collections import Counter\n",
    "\n",
    "def shannon_entropy(text: str) -> float:\n",
    "    \"\"\"Compute Shannon entropy of a string.\"\"\"\n",
    "    if not text:\n",
    "        return 0.0\n",
    "    counts = Counter(text)\n",
    "    probs = [count / len(text) for count in counts.values()]\n",
    "    # Handle potential log2(0) case for characters with probability 0 (though Counter avoids this)\n",
    "    return -sum(p * math.log2(p) for p in probs if p > 0)"
   ]
  },
  {
   "cell_type": "markdown",
   "id": "77e0b387",
   "metadata": {},
   "source": [
    "**Patcher Function**\n",
    "\n",
    "- Use sliding window of size W=10.\n",
    "- Keep adding characters to current patch until either:\n",
    "    - Entropy > threshold(2.0)\n",
    "    - Patch length > 15\n",
    "- Then start a new patch."
   ]
  },
  {
   "cell_type": "code",
   "execution_count": 4,
   "id": "38e3a66f",
   "metadata": {},
   "outputs": [],
   "source": [
    "def patchify(text: str, window_size=12, entropy_threshold=2.5, max_patch_len=20):\n",
    "    patches = []\n",
    "    current_patch = \"\"\n",
    "    for ch in text:\n",
    "        current_patch += ch\n",
    "        entropy = (\n",
    "            shannon_entropy(current_patch[-window_size:])\n",
    "            if len(current_patch) >= window_size else 0\n",
    "        )\n",
    "        if entropy > entropy_threshold or len(current_patch) >= max_patch_len:\n",
    "            # Ensure we don't add empty strings if strip results in nothing\n",
    "            stripped_patch = current_patch.strip()\n",
    "            if stripped_patch:\n",
    "                patches.append(stripped_patch)\n",
    "            current_patch = \"\" # Reset even if stripped patch was empty\n",
    "    # Add leftover patch only if it's not empty after stripping\n",
    "    stripped_patch = current_patch.strip()\n",
    "    if stripped_patch:\n",
    "        patches.append(stripped_patch)\n",
    "    return patches"
   ]
  },
  {
   "cell_type": "markdown",
   "id": "d14303cb",
   "metadata": {},
   "source": [
    "**Test Patcher**"
   ]
  },
  {
   "cell_type": "code",
   "execution_count": 5,
   "id": "957e4446",
   "metadata": {},
   "outputs": [
    {
     "name": "stdout",
     "output_type": "stream",
     "text": [
      "\n",
      "Text: reconciliation trolls realized scene\n",
      "Patches: ['reconciliati', 'on trolls re', 'alized scene']\n",
      "\n",
      "Text: LMA is fun!\n",
      "Patches: ['LMA is fun!']\n",
      "\n",
      "Text: aaaaabbbbbcccccddddd\n",
      "Patches: ['aaaaabbbbbcccccddddd']\n"
     ]
    }
   ],
   "source": [
    "sample_texts = [\n",
    "    \"reconciliation trolls realized scene\", # High entropy, more splits\n",
    "    \"LMA is fun!\", # Based on threshold, may not split\n",
    "    \"aaaaabbbbbcccccddddd\"  # low entropy predictable\n",
    "]\n",
    "\n",
    "for txt in sample_texts:\n",
    "    patches = patchify(txt)\n",
    "    print(f\"\\nText: {txt}\")\n",
    "    print(\"Patches:\", patches)"
   ]
  },
  {
   "cell_type": "markdown",
   "id": "e6433b9b",
   "metadata": {},
   "source": [
    "## Hash N-Gram Embeddings\n",
    "\n",
    "1. Extract all n-grams (n=1,2,3) from each patch.\n",
    "2. Map each n-gram into a bucket in [0, 4095].\n",
    "3. Use an embedding lookup table (nn.Embedding) to get a 64-d vector.\n",
    "4. Sum all vectors → final patch embedding (shape = [64])."
   ]
  },
  {
   "cell_type": "markdown",
   "id": "a2b7888f",
   "metadata": {},
   "source": [
    "**Hash Function**"
   ]
  },
  {
   "cell_type": "code",
   "execution_count": 6,
   "id": "934382cc",
   "metadata": {},
   "outputs": [],
   "source": [
    "import hashlib\n",
    "\n",
    "def hash_ngram(ngram: str, num_buckets=4096) -> int:\n",
    "    \"\"\"Hash an n-gram string into a bucket [0, num_buckets-1].\"\"\"\n",
    "    return int(hashlib.md5(ngram.encode(\"utf-8\")).hexdigest(), 16) % num_buckets"
   ]
  },
  {
   "cell_type": "markdown",
   "id": "dc1af6fd",
   "metadata": {},
   "source": [
    "**N-Gram Extraction**"
   ]
  },
  {
   "cell_type": "code",
   "execution_count": 7,
   "id": "5d4f8101",
   "metadata": {},
   "outputs": [],
   "source": [
    "def extract_ngrams(text: str, n: int):\n",
    "    return [text[i:i+n] for i in range(len(text)-n+1)]"
   ]
  },
  {
   "cell_type": "markdown",
   "id": "844bc8a1",
   "metadata": {},
   "source": [
    "**Patch Embedding Module**"
   ]
  },
  {
   "cell_type": "code",
   "execution_count": 8,
   "id": "eaee92ff",
   "metadata": {},
   "outputs": [],
   "source": [
    "import torch\n",
    "import torch.nn as nn\n",
    "\n",
    "class PatchEmbedder(nn.Module):\n",
    "    def __init__(self, num_buckets=4096, embed_dim=64):\n",
    "        super().__init__()\n",
    "        self.embeddings = nn.ModuleDict({\n",
    "            \"1\": nn.Embedding(num_buckets, embed_dim),\n",
    "            \"2\": nn.Embedding(num_buckets, embed_dim),\n",
    "            \"3\": nn.Embedding(num_buckets, embed_dim),\n",
    "        })\n",
    "        # Xavier init\n",
    "        for emb in self.embeddings.values():\n",
    "            nn.init.xavier_uniform_(emb.weight)\n",
    "\n",
    "        self.num_buckets = num_buckets\n",
    "        self.embed_dim = embed_dim\n",
    "\n",
    "    def forward(self, patch: str):\n",
    "        \"\"\"Convert one patch string into a [embed_dim] vector.\"\"\"\n",
    "        vectors = []\n",
    "        # get device from embedding params\n",
    "        device = next(self.embeddings[\"1\"].parameters()).device  \n",
    "\n",
    "        for n in [1, 2, 3]:\n",
    "            ngrams = extract_ngrams(patch, n)\n",
    "            for ng in ngrams:\n",
    "                bucket = hash_ngram(ng, self.num_buckets)\n",
    "                idx = torch.tensor(bucket, dtype=torch.long, device=device)\n",
    "                vectors.append(self.embeddings[str(n)](idx))\n",
    "\n",
    "        if len(vectors) == 0:\n",
    "            return torch.zeros(self.embed_dim, device=device)\n",
    "\n",
    "        return torch.stack(vectors, dim=0).sum(dim=0)  # sum across n-grams"
   ]
  },
  {
   "cell_type": "markdown",
   "id": "0350e4c9",
   "metadata": {},
   "source": [
    "**Test It on Sample Patches**"
   ]
  },
  {
   "cell_type": "code",
   "execution_count": 9,
   "id": "61d18f42",
   "metadata": {},
   "outputs": [
    {
     "name": "stdout",
     "output_type": "stream",
     "text": [
      "Device: mps\n",
      "Patch: reconcilia | Embedding shape: torch.Size([64])\n",
      "Patch: tion troll | Embedding shape: torch.Size([64])\n",
      "Patch: s realized | Embedding shape: torch.Size([64])\n",
      "Patch:  scene | Embedding shape: torch.Size([64])\n"
     ]
    }
   ],
   "source": [
    "device = torch.device(\"mps\" if torch.backends.mps.is_available() else \"cpu\")\n",
    "embedder = PatchEmbedder().to(device)\n",
    "\n",
    "sample_patches = [\"reconcilia\", \"tion troll\", \"s realized\", \" scene\"]\n",
    "\n",
    "print(f\"Device: {device}\")\n",
    "\n",
    "for patch in sample_patches:\n",
    "    vec = embedder(patch)\n",
    "    print(f\"Patch: {patch} | Embedding shape: {vec.shape}\")"
   ]
  },
  {
   "cell_type": "markdown",
   "id": "a104ee9f",
   "metadata": {},
   "source": [
    "## BLT Dataset Class\n",
    "\n",
    "This dataset will:\n",
    "1. Read train.csv / test.csv.\n",
    "2. For each row:\n",
    "    - Take input string → apply patchify → embed patches into [seq_len, 64].\n",
    "    - Take target string → here we’ll keep it character-level for decoder supervision (simpler than patching the output).\n",
    "3. Return tensors for (src_seq, tgt_seq)."
   ]
  },
  {
   "cell_type": "code",
   "execution_count": 10,
   "id": "b6c261c2",
   "metadata": {},
   "outputs": [],
   "source": [
    "import torch\n",
    "from torch.utils.data import Dataset\n",
    "import pandas as pd\n",
    "\n",
    "PRINTABLE_ASCII = [chr(i) for i in range(32, 127)]\n",
    "VOCAB = ['<PAD>', '<SOS>', '<EOS>'] + PRINTABLE_ASCII # PAD=0, SOS=1, EOS=2\n",
    "\n",
    "# Mapping from character to index\n",
    "CHAR_TO_IDX = {ch: i for i, ch in enumerate(VOCAB)}\n",
    "PAD_IDX = CHAR_TO_IDX['<PAD>']\n",
    "SOS_IDX = CHAR_TO_IDX['<SOS>']\n",
    "EOS_IDX = CHAR_TO_IDX['<EOS>']\n",
    "\n",
    "\n",
    "class BLTDataset(Dataset):\n",
    "    def __init__(self, csv_path, window_size=12, entropy_threshold=2.5, max_patch_len=20):\n",
    "        self.data = pd.read_csv(csv_path)\n",
    "        self.window_size = window_size\n",
    "        self.entropy_threshold = entropy_threshold\n",
    "        self.max_patch_len = max_patch_len\n",
    "\n",
    "    def __len__(self):\n",
    "        return len(self.data)\n",
    "\n",
    "    def __getitem__(self, idx):\n",
    "        row = self.data.iloc[idx]\n",
    "        inp, tgt = row[\"input\"], row[\"target\"]\n",
    "\n",
    "        patches = patchify(inp, \n",
    "                            window_size=self.window_size,\n",
    "                            entropy_threshold=self.entropy_threshold,\n",
    "                            max_patch_len=self.max_patch_len)\n",
    "\n",
    "        # The vocabulary mapping\n",
    "        tgt_ids = [CHAR_TO_IDX.get(c, PAD_IDX) for c in tgt] \n",
    "        tgt_tensor = torch.tensor([SOS_IDX] + tgt_ids + [EOS_IDX], dtype=torch.long)\n",
    "\n",
    "        return patches, tgt_tensor"
   ]
  },
  {
   "cell_type": "code",
   "execution_count": 11,
   "id": "daa5889d",
   "metadata": {},
   "outputs": [
    {
     "name": "stdout",
     "output_type": "stream",
     "text": [
      "\n",
      "1. Source Data (Input):\n",
      "   - Type: <class 'list'>\n",
      "   - Number of patches: 3\n",
      "   - Patches content (first 5): ['reconciliati', 'on trolls re', 'alized scene']\n",
      "\n",
      "2. Target Data (Output):\n",
      "   - Type: <class 'torch.Tensor'>\n",
      "   - Shape: torch.Size([38])\n",
      "   - Dtype: torch.int64\n",
      "   - Content (first 15 IDs): [1, 72, 81, 72, 70, 86, 3, 71, 72, 93, 76, 79, 68, 72, 85]\n",
      "\n",
      "3. Target String Reconstruction:\n",
      "   - Reconstructed: <SOS>enecs dezilaer sllort noitailicnocer<EOS>\n",
      "   - Original:      <SOS>enecs dezilaer sllort noitailicnocer<EOS>\n"
     ]
    }
   ],
   "source": [
    "IDX_TO_CHAR = {i: ch for ch, i in CHAR_TO_IDX.items()}\n",
    "train_ds = BLTDataset(csv_path=\"./../data/train.csv\")\n",
    "src_patches, tgt_tensor = train_ds[0]\n",
    "\n",
    "print(\"\\n1. Source Data (Input):\")\n",
    "print(f\"   - Type: {type(src_patches)}\")\n",
    "print(f\"   - Number of patches: {len(src_patches)}\")\n",
    "print(f\"   - Patches content (first 5): {src_patches[:5]}\")\n",
    "\n",
    "print(\"\\n2. Target Data (Output):\")\n",
    "print(f\"   - Type: {type(tgt_tensor)}\")\n",
    "print(f\"   - Shape: {tgt_tensor.shape}\")\n",
    "print(f\"   - Dtype: {tgt_tensor.dtype}\")\n",
    "print(f\"   - Content (first 15 IDs): {tgt_tensor[:15].tolist()}\") # .tolist() for clean printing\n",
    "\n",
    "# 3. Check the reconstruction\n",
    "reconstructed_string = \"\".join([IDX_TO_CHAR.get(i.item(), '') for i in tgt_tensor])\n",
    "print(\"\\n3. Target String Reconstruction:\")\n",
    "print(f\"   - Reconstructed: {reconstructed_string}\")\n",
    "\n",
    "original_target = train_df.iloc[0]['target']\n",
    "print(f\"   - Original:      <SOS>{original_target}<EOS>\")"
   ]
  },
  {
   "cell_type": "markdown",
   "id": "2780e7a1",
   "metadata": {},
   "source": [
    "## Collate Function for BLT\n",
    "\n",
    "We’ll:\n",
    "1. Take a batch of (src_seq, tgt_seq).\n",
    "2. Pad src_seq to [batch, max_src_len, 64].\n",
    "3. Pad tgt_seq to [batch, max_tgt_len].\n",
    "4. Return padded tensors + lengths (useful for masking in the model)."
   ]
  },
  {
   "cell_type": "code",
   "execution_count": 12,
   "id": "89b5f12c",
   "metadata": {},
   "outputs": [],
   "source": [
    "from torch.nn.utils.rnn import pad_sequence\n",
    "\n",
    "def blt_collate_fn(batch):\n",
    "    # batch is a list of (patches, tgt_tensor)\n",
    "    src_patches, tgt_seqs = zip(*batch)\n",
    "\n",
    "    # Pad target sequences (char IDs)\n",
    "    tgt_padded = pad_sequence(tgt_seqs, batch_first=True, padding_value=0) # Assuming 0 is PAD_IDX\n",
    "\n",
    "    # The source patches remain a list of lists of strings\n",
    "    # e.g., [ ['patch1', 'patch2'], ['p1', 'p2', 'p3'], ... ]\n",
    "    return list(src_patches), tgt_padded"
   ]
  },
  {
   "cell_type": "code",
   "execution_count": 13,
   "id": "47d6674f",
   "metadata": {},
   "outputs": [
    {
     "name": "stdout",
     "output_type": "stream",
     "text": [
      "Running Sanity Check on DataLoader\n",
      "\n",
      "1. Source Data Batch (Input):\n",
      "   - Type: <class 'list'>\n",
      "   - Length (Batch Size): 8\n",
      "   - Content of first item in batch: ['hardened wag', 'on february', 'historically', 'takeaway we', 'ird reimburs', 'ement + bomb', 'ardment berg']\n",
      "\n",
      "2. Target Data Batch (Output):\n",
      "   - Type: <class 'torch.Tensor'>\n",
      "   - Shape (Batch Size, Max Target Length): torch.Size([8, 131])\n"
     ]
    }
   ],
   "source": [
    "from torch.utils.data import DataLoader\n",
    "from torch.utils.data import random_split\n",
    "\n",
    "train_size = int(0.9 * len(train_ds))\n",
    "val_size   = len(train_ds) - train_size\n",
    "train_subset, val_subset = random_split(train_ds, [train_size, val_size])\n",
    "\n",
    "train_loader = DataLoader(\n",
    "    train_subset,\n",
    "    batch_size=8,\n",
    "    shuffle=True,\n",
    "    collate_fn=blt_collate_fn\n",
    ")\n",
    "\n",
    "val_loader = DataLoader(\n",
    "    val_subset,\n",
    "    batch_size=4,\n",
    "    shuffle=False,\n",
    "    collate_fn=blt_collate_fn\n",
    ")\n",
    "\n",
    "print(\"Running Sanity Check on DataLoader\")\n",
    "src_patches_batch, tgt_padded_batch = next(iter(train_loader))\n",
    "\n",
    "print(\"\\n1. Source Data Batch (Input):\")\n",
    "print(f\"   - Type: {type(src_patches_batch)}\")\n",
    "print(f\"   - Length (Batch Size): {len(src_patches_batch)}\")\n",
    "print(f\"   - Content of first item in batch: {src_patches_batch[0]}\")\n",
    "\n",
    "print(\"\\n2. Target Data Batch (Output):\")\n",
    "print(f\"   - Type: {type(tgt_padded_batch)}\")\n",
    "print(f\"   - Shape (Batch Size, Max Target Length): {tgt_padded_batch.shape}\")"
   ]
  },
  {
   "cell_type": "markdown",
   "id": "0b1b0951",
   "metadata": {},
   "source": [
    "## BLT Model Architecture\n",
    "\n",
    "Core Idea:\n",
    "1. Encoder: Take patch embeddings [B, L, 64], map into hidden dimension with a transformer encoder.\n",
    "2. Decoder: Generate characters (IDs) step by step using a transformer decoder.\n",
    "3. Output layer: Linear projection → vocab size."
   ]
  },
  {
   "cell_type": "code",
   "execution_count": 14,
   "id": "40936686",
   "metadata": {},
   "outputs": [],
   "source": [
    "import torch\n",
    "import torch.nn as nn\n",
    "import math\n",
    "\n",
    "class PositionalEncoding(nn.Module):\n",
    "    def __init__(self, d_model: int, dropout: float = 0.1, max_len: int = 5000):\n",
    "        super().__init__()\n",
    "        self.dropout = nn.Dropout(p=dropout)\n",
    "\n",
    "        position = torch.arange(max_len).unsqueeze(1)\n",
    "        div_term = torch.exp(torch.arange(0, d_model, 2) * (-math.log(10000.0) / d_model))\n",
    "        pe = torch.zeros(max_len, 1, d_model)\n",
    "        pe[:, 0, 0::2] = torch.sin(position * div_term)\n",
    "        pe[:, 0, 1::2] = torch.cos(position * div_term)\n",
    "        self.register_buffer('pe', pe)\n",
    "\n",
    "    def forward(self, x: torch.Tensor) -> torch.Tensor:\n",
    "        \"\"\"\n",
    "        Args:\n",
    "            x: Tensor, shape [batch_size, seq_len, embedding_dim]\n",
    "        \"\"\"\n",
    "        # Note: In our implementation, we use batch_first=True, so the shape is [B, L, D].\n",
    "        # The stored pe is [max_len, 1, D]. We need to adjust it for batch.\n",
    "        x = x + self.pe[:x.size(1)].transpose(0, 1) # Transpose to [1, L, D] to broadcast\n",
    "        return self.dropout(x)"
   ]
  },
  {
   "cell_type": "code",
   "execution_count": 15,
   "id": "f28faa30",
   "metadata": {},
   "outputs": [],
   "source": [
    "from torch.nn.utils.rnn import pad_sequence\n",
    "\n",
    "# Assume PatchEmbedder, PositionalEncoding, and helper functions are defined above\n",
    "\n",
    "class BLTModel(nn.Module):\n",
    "    def __init__(self, vocab_size, d_model=64, nhead=4, dropout=0.1):\n",
    "        super().__init__()\n",
    "        \n",
    "        self.d_model = d_model\n",
    "        self.patch_embedder = PatchEmbedder(num_buckets=4096, embed_dim=d_model)\n",
    "        self.global_token = nn.Parameter(torch.randn(1, 1, d_model))\n",
    "        self.tgt_embed = nn.Embedding(vocab_size, d_model)\n",
    "        self.pos_encoder = PositionalEncoding(d_model, dropout=dropout)\n",
    "\n",
    "        # --- ARCHITECTURE (1-1-2 STRUCTURE) ---\n",
    "        # 1. ENCODER (1 Block)\n",
    "        encoder_layer = nn.TransformerEncoderLayer(\n",
    "            d_model=d_model, nhead=nhead, dim_feedforward=d_model*4, \n",
    "            dropout=dropout, batch_first=True\n",
    "        )\n",
    "        # FIX: Added 'enable_nested_tensor=False' for MPS compatibility\n",
    "        self.encoder = nn.TransformerEncoder(encoder_layer, num_layers=1, enable_nested_tensor=False)\n",
    "\n",
    "        # 2. GLOBAL TRANSFORMER (2 Blocks)\n",
    "        global_layer = nn.TransformerEncoderLayer(\n",
    "            d_model=d_model, nhead=nhead, dim_feedforward=d_model*4,\n",
    "            dropout=dropout, batch_first=True\n",
    "        )\n",
    "        # FIX: Added 'enable_nested_tensor=False' for MPS compatibility\n",
    "        self.global_transformer = nn.TransformerEncoder(global_layer, num_layers=2, enable_nested_tensor=False)\n",
    "\n",
    "        # 3. DECODER (1 Block)\n",
    "        decoder_layer = nn.TransformerDecoderLayer(\n",
    "            d_model=d_model, nhead=nhead, dim_feedforward=d_model*4,\n",
    "            dropout=dropout, batch_first=True\n",
    "        )\n",
    "        self.decoder = nn.TransformerDecoder(decoder_layer, num_layers=1)\n",
    "\n",
    "        # --- FINAL OUTPUT LAYER ---\n",
    "        self.norm = nn.LayerNorm(d_model)\n",
    "        self.output_proj = nn.Linear(d_model, vocab_size)\n",
    "\n",
    "    def forward(self, src_patches_batch, tgt_inp, tgt_pad_mask=None):\n",
    "        # src_patches_batch: A list (size B) of lists of patch strings\n",
    "        # tgt_inp: [B, Lt] (character IDs for teacher forcing)\n",
    "        \n",
    "        device = self.global_token.device\n",
    "\n",
    "        # --- 1. Get Patch Embeddings and Pad ---\n",
    "        batch_embeddings = []\n",
    "        for patch_list in src_patches_batch:\n",
    "            if not patch_list:\n",
    "                sample_emb = torch.zeros(1, self.d_model, device=device)\n",
    "            else:\n",
    "                sample_emb = torch.stack([self.patch_embedder(p) for p in patch_list])\n",
    "            batch_embeddings.append(sample_emb)\n",
    "        \n",
    "        src_emb = pad_sequence(batch_embeddings, batch_first=True, padding_value=0.0)\n",
    "        B, Ls, _ = src_emb.shape\n",
    "\n",
    "        # --- 2. Prepend Global Token ---\n",
    "        global_token_batch = self.global_token.expand(B, -1, -1)\n",
    "        encoder_input = torch.cat([global_token_batch, src_emb], dim=1)\n",
    "        encoder_input = self.pos_encoder(encoder_input)\n",
    "\n",
    "        # --- 3. Pass through 1-Block Encoder ---\n",
    "        src_key_padding_mask = (torch.cat([\n",
    "            torch.zeros(B, 1, device=device), # Mask for global token is False\n",
    "            src_emb.sum(dim=-1) == 0 # Mask for padded patches is True\n",
    "        ], dim=1)).bool()\n",
    "        \n",
    "        encoder_output = self.encoder(encoder_input, src_key_padding_mask=src_key_padding_mask)\n",
    "\n",
    "        # --- 4. Isolate Global Token and Pass through 2-Block Global Transformer ---\n",
    "        global_context = encoder_output[:, 0:1, :]\n",
    "        memory = self.global_transformer(global_context)\n",
    "\n",
    "        # --- 5. Pass through 1-Block Decoder ---\n",
    "        tgt_emb = self.pos_encoder(self.tgt_embed(tgt_inp))\n",
    "        causal_mask = nn.Transformer.generate_square_subsequent_mask(tgt_inp.size(1)).to(device)\n",
    "        \n",
    "        decoder_output = self.decoder(\n",
    "            tgt=tgt_emb,\n",
    "            memory=memory,\n",
    "            tgt_mask=causal_mask,\n",
    "            tgt_key_padding_mask=tgt_pad_mask\n",
    "        )\n",
    "        \n",
    "        # --- 6. Final Projection ---\n",
    "        normalized_output = self.norm(decoder_output)\n",
    "        logits = self.output_proj(normalized_output)\n",
    "        \n",
    "        return logits"
   ]
  },
  {
   "cell_type": "code",
   "execution_count": 16,
   "id": "e965f57a",
   "metadata": {},
   "outputs": [
    {
     "name": "stdout",
     "output_type": "stream",
     "text": [
      "--- Final Model Sanity Check ---\n",
      "Logits shape: torch.Size([8, 137, 98])\n",
      "Expected shape: (8, 137, 98)\n",
      "\n",
      "✅ Shapes are correct and ready for the training loop!\n"
     ]
    },
    {
     "name": "stderr",
     "output_type": "stream",
     "text": [
      "/Library/Frameworks/Python.framework/Versions/3.13/lib/python3.13/site-packages/torch/nn/functional.py:6044: UserWarning: Support for mismatched key_padding_mask and attn_mask is deprecated. Use same type for both instead.\n",
      "  warnings.warn(\n"
     ]
    }
   ],
   "source": [
    "# Assume your vocab (VOCAB, PAD_IDX), dataloaders, and model classes are defined above\n",
    "\n",
    "# --- Step 1: Correct the Hyperparameters ---\n",
    "# The vocabulary is printable ASCII (95 chars) + 3 special tokens, not 256.\n",
    "VOCAB_SIZE = len(VOCAB) # This should be 98\n",
    "D_MODEL = 64            # As per the assignment [cite: 22]\n",
    "N_HEAD = 4\n",
    "DROPOUT = 0.1\n",
    "device = torch.device(\"mps\" if torch.backends.mps.is_available() else \"cpu\")\n",
    "\n",
    "# --- Step 2: Correct the Model Instantiation ---\n",
    "# Use the new model's argument names (vocab_size, d_model, etc.)\n",
    "model = BLTModel(\n",
    "    vocab_size=VOCAB_SIZE,\n",
    "    d_model=D_MODEL,\n",
    "    nhead=N_HEAD,\n",
    "    dropout=DROPOUT\n",
    ").to(device)\n",
    "\n",
    "\n",
    "# --- Step 3: Correct the Batch Handling and Model Call ---\n",
    "\n",
    "# Fetch a single batch from your train_loader\n",
    "# Unpack the 2 items returned by your collate_fn: a list of patches and a padded tensor\n",
    "src_patches_batch, tgt_padded_batch = next(iter(train_loader))\n",
    "tgt_padded_batch = tgt_padded_batch.to(device)\n",
    "\n",
    "# Prepare for Teacher Forcing\n",
    "tgt_inp = tgt_padded_batch[:, :-1]  # All but the last token\n",
    "tgt_out = tgt_padded_batch[:, 1:]   # All but the first token\n",
    "\n",
    "# Create the padding mask for the decoder input\n",
    "tgt_pad_mask = (tgt_inp == PAD_IDX)\n",
    "\n",
    "# Call the model with the correct arguments for the new forward pass\n",
    "# (a list of patches, the input tensor, and the padding mask)\n",
    "logits = model(src_patches_batch, tgt_inp, tgt_pad_mask)\n",
    "\n",
    "\n",
    "# --- Step 4: Check the Output Shape ---\n",
    "print(\"--- Final Model Sanity Check ---\")\n",
    "print(f\"Logits shape: {logits.shape}\")\n",
    "print(f\"Expected shape: ({tgt_out.shape[0]}, {tgt_out.shape[1]}, {VOCAB_SIZE})\")\n",
    "\n",
    "assert logits.shape[0] == tgt_out.shape[0]\n",
    "assert logits.shape[1] == tgt_out.shape[1]\n",
    "assert logits.shape[2] == VOCAB_SIZE\n",
    "print(\"\\n✅ Shapes are correct and ready for the training loop!\")"
   ]
  },
  {
   "cell_type": "markdown",
   "id": "c25767bd",
   "metadata": {},
   "source": [
    "## Training Loop + Checkpoints\n",
    "\n",
    "We’ll set up:\n",
    "1. Loss = CrossEntropyLoss(ignore_index=0) (ignores PAD tokens).\n",
    "2. Optimizer = Adam.\n",
    "3. Training loop with logging.\n",
    "4. Checkpoint saving (state_dict, optimizer, epoch, loss)."
   ]
  },
  {
   "cell_type": "code",
   "execution_count": 17,
   "id": "361dc301",
   "metadata": {},
   "outputs": [],
   "source": [
    "import torch\n",
    "import torch.nn as nn\n",
    "import torch.optim as optim\n",
    "import os\n",
    "import math\n",
    "from torch.nn.utils import clip_grad_norm_\n",
    "from tqdm.auto import tqdm\n",
    "\n",
    "# ----------------------------\n",
    "# Training loop for BLT model\n",
    "# ----------------------------\n",
    "def train_blt(\n",
    "    model, \n",
    "    train_loader, \n",
    "    val_loader,\n",
    "    num_epochs,\n",
    "    lr,\n",
    "    device,\n",
    "    save_every,\n",
    "    resume_path=None\n",
    "):\n",
    "    print(f\"Training on: {device}\")\n",
    "    model = model.to(device)\n",
    "    optimizer = optim.Adam(model.parameters(), lr=lr)\n",
    "    criterion = nn.CrossEntropyLoss(ignore_index=PAD_IDX) # Use your defined PAD_IDX\n",
    "    scheduler = torch.optim.lr_scheduler.ReduceLROnPlateau(optimizer, \"min\", factor=0.5, patience=5)\n",
    "    os.makedirs(\"checkpoints\", exist_ok=True)\n",
    "\n",
    "    # Resume\n",
    "    start_epoch = 1\n",
    "    if resume_path and os.path.exists(resume_path):\n",
    "        print(f\"🔄 Resuming from checkpoint: {resume_path}\")\n",
    "        checkpoint = torch.load(resume_path, map_location=device)\n",
    "        model.load_state_dict(checkpoint[\"model_state\"])\n",
    "        optimizer.load_state_dict(checkpoint[\"optimizer_state\"])\n",
    "        start_epoch = checkpoint[\"epoch\"] + 1\n",
    "        if \"scheduler_state\" in checkpoint:\n",
    "            scheduler.load_state_dict(checkpoint[\"scheduler_state\"])\n",
    "        print(f\"✅ Resumed from epoch {checkpoint['epoch']} (loss {checkpoint['loss']:.4f})\")\n",
    "\n",
    "    for epoch in range(start_epoch, num_epochs + 1):\n",
    "        model.train()\n",
    "        total_loss = 0.0\n",
    "        total_tokens = 0\n",
    "        \n",
    "        progress_bar = tqdm(train_loader, desc=f\"Epoch {epoch}/{num_epochs} [Training]\")\n",
    "\n",
    "        for src_patches, tgt_padded in progress_bar:\n",
    "            tgt_padded = tgt_padded.to(device)\n",
    "            tgt_inp = tgt_padded[:, :-1]\n",
    "            tgt_out = tgt_padded[:, 1:]\n",
    "            tgt_pad_mask = (tgt_inp == PAD_IDX)\n",
    "\n",
    "            logits = model(src_patches, tgt_inp, tgt_pad_mask)\n",
    "            loss = criterion(logits.reshape(-1, logits.shape[-1]), tgt_out.reshape(-1))\n",
    "\n",
    "            optimizer.zero_grad()\n",
    "            loss.backward()\n",
    "            clip_grad_norm_(model.parameters(), max_norm=1.0)\n",
    "            optimizer.step()\n",
    "\n",
    "            total_loss += loss.item() * tgt_out.numel()\n",
    "            total_tokens += tgt_out.numel()\n",
    "\n",
    "        avg_loss = total_loss / total_tokens if total_tokens > 0 else 0\n",
    "        print(f\"\\n📘 Epoch {epoch}/{num_epochs} - Train Loss: {avg_loss:.4f}\")\n",
    "\n",
    "        val_loss, val_acc = evaluate(model, val_loader, criterion, device)\n",
    "        perplexity = math.exp(val_loss) if val_loss < 100 else float('inf')\n",
    "        print(f\"📗 Validation - Loss: {val_loss:.4f}, Perplexity: {perplexity:.2f}, Token Acc: {val_acc:.2f}%\")\n",
    "        \n",
    "        scheduler.step(val_loss)\n",
    "\n",
    "        # Save checkpoint\n",
    "        if epoch % save_every == 0 or epoch == num_epochs:\n",
    "            ckpt_path = f\"checkpoints/blt_epoch{epoch}.pt\"\n",
    "            torch.save({ \"epoch\": epoch, \"model_state\": model.state_dict(), \"optimizer_state\": optimizer.state_dict(), \"scheduler_state\": scheduler.state_dict(), \"loss\": avg_loss }, ckpt_path)\n",
    "            print(f\"✅ Saved checkpoint: {ckpt_path}\")\n",
    "\n",
    "@torch.no_grad()\n",
    "def evaluate(model, val_loader, criterion, device):\n",
    "    model.eval()\n",
    "    total_loss = 0.0\n",
    "    total_tokens = 0\n",
    "    correct_tokens = 0\n",
    "\n",
    "    progress_bar = tqdm(val_loader, desc=\"Validating\")\n",
    "\n",
    "    for src_patches, tgt_padded in progress_bar:\n",
    "        tgt_padded = tgt_padded.to(device)\n",
    "        tgt_inp = tgt_padded[:, :-1]\n",
    "        tgt_out = tgt_padded[:, 1:]\n",
    "        tgt_pad_mask = (tgt_inp == PAD_IDX)\n",
    "        \n",
    "        logits = model(src_patches, tgt_inp, tgt_pad_mask)\n",
    "        loss = criterion(logits.reshape(-1, logits.shape[-1]), tgt_out.reshape(-1))\n",
    "        \n",
    "        total_loss += loss.item() * (tgt_out != PAD_IDX).sum().item() # Count non-padded tokens for loss\n",
    "        \n",
    "        preds = logits.argmax(dim=-1)\n",
    "        mask = (tgt_out != PAD_IDX)\n",
    "        correct_tokens += ((preds == tgt_out) & mask).sum().item()\n",
    "        total_tokens += mask.sum().item()\n",
    "\n",
    "    avg_loss = total_loss / total_tokens if total_tokens > 0 else 0\n",
    "    accuracy = 100.0 * correct_tokens / total_tokens if total_tokens > 0 else 0\n",
    "    return avg_loss, accuracy"
   ]
  },
  {
   "cell_type": "code",
   "execution_count": null,
   "id": "8b94386c",
   "metadata": {},
   "outputs": [
    {
     "name": "stderr",
     "output_type": "stream",
     "text": [
      "/Library/Frameworks/Python.framework/Versions/3.13/lib/python3.13/site-packages/torch/__init__.py:1617: UserWarning: Please use the new API settings to control TF32 behavior, such as torch.backends.cudnn.conv.fp32_precision = 'tf32' or torch.backends.cuda.matmul.fp32_precision = 'ieee'. Old settings, e.g, torch.backends.cuda.matmul.allow_tf32 = True, torch.backends.cudnn.allow_tf32 = True, allowTF32CuDNN() and allowTF32CuBLAS() will be deprecated after Pytorch 2.9. Please see https://pytorch.org/docs/main/notes/cuda.html#tensorfloat-32-tf32-on-ampere-and-later-devices (Triggered internally at /Users/runner/work/pytorch/pytorch/pytorch/aten/src/ATen/Context.cpp:85.)\n",
      "  _C._set_float32_matmul_precision(precision)\n"
     ]
    },
    {
     "name": "stdout",
     "output_type": "stream",
     "text": [
      "Training on: mps\n",
      "🔄 Resuming from checkpoint: checkpoints/blt_epoch304.pt\n",
      "✅ Resumed from epoch 304 (loss 2.0601)\n"
     ]
    },
    {
     "data": {
      "application/vnd.jupyter.widget-view+json": {
       "model_id": "8a7c75dbd52b48468b37f7759d3c45af",
       "version_major": 2,
       "version_minor": 0
      },
      "text/plain": [
       "Epoch 305/1000 [Training]:   0%|          | 0/1125 [00:00<?, ?it/s]"
      ]
     },
     "metadata": {},
     "output_type": "display_data"
    },
    {
     "name": "stderr",
     "output_type": "stream",
     "text": [
      "/Library/Frameworks/Python.framework/Versions/3.13/lib/python3.13/site-packages/torch/nn/functional.py:6044: UserWarning: Support for mismatched key_padding_mask and attn_mask is deprecated. Use same type for both instead.\n",
      "  warnings.warn(\n"
     ]
    },
    {
     "name": "stdout",
     "output_type": "stream",
     "text": [
      "\n",
      "📘 Epoch 305/1000 - Train Loss: 2.0631\n"
     ]
    },
    {
     "data": {
      "application/vnd.jupyter.widget-view+json": {
       "model_id": "1c1bea66c324440c9df6baecb7fc38bc",
       "version_major": 2,
       "version_minor": 0
      },
      "text/plain": [
       "Validating:   0%|          | 0/250 [00:00<?, ?it/s]"
      ]
     },
     "metadata": {},
     "output_type": "display_data"
    },
    {
     "name": "stdout",
     "output_type": "stream",
     "text": [
      "📗 Validation - Loss: 1.8800, Perplexity: 6.55, Token Acc: 41.44%\n"
     ]
    },
    {
     "data": {
      "application/vnd.jupyter.widget-view+json": {
       "model_id": "f3436cc120d043f0901a8d309f79bea9",
       "version_major": 2,
       "version_minor": 0
      },
      "text/plain": [
       "Epoch 306/1000 [Training]:   0%|          | 0/1125 [00:00<?, ?it/s]"
      ]
     },
     "metadata": {},
     "output_type": "display_data"
    },
    {
     "name": "stdout",
     "output_type": "stream",
     "text": [
      "\n",
      "📘 Epoch 306/1000 - Train Loss: 2.0621\n"
     ]
    },
    {
     "data": {
      "application/vnd.jupyter.widget-view+json": {
       "model_id": "35ec00bb1b8f4ca1ae40457b68155691",
       "version_major": 2,
       "version_minor": 0
      },
      "text/plain": [
       "Validating:   0%|          | 0/250 [00:00<?, ?it/s]"
      ]
     },
     "metadata": {},
     "output_type": "display_data"
    },
    {
     "name": "stdout",
     "output_type": "stream",
     "text": [
      "📗 Validation - Loss: 1.8818, Perplexity: 6.57, Token Acc: 41.42%\n",
      "✅ Saved checkpoint: checkpoints/blt_epoch306.pt\n"
     ]
    },
    {
     "data": {
      "application/vnd.jupyter.widget-view+json": {
       "model_id": "9dba701f7db146df9122eb904314ed36",
       "version_major": 2,
       "version_minor": 0
      },
      "text/plain": [
       "Epoch 307/1000 [Training]:   0%|          | 0/1125 [00:00<?, ?it/s]"
      ]
     },
     "metadata": {},
     "output_type": "display_data"
    },
    {
     "name": "stdout",
     "output_type": "stream",
     "text": [
      "\n",
      "📘 Epoch 307/1000 - Train Loss: 2.0617\n"
     ]
    },
    {
     "data": {
      "application/vnd.jupyter.widget-view+json": {
       "model_id": "cdcd34f009ff4bd9970cb062845e7cdd",
       "version_major": 2,
       "version_minor": 0
      },
      "text/plain": [
       "Validating:   0%|          | 0/250 [00:00<?, ?it/s]"
      ]
     },
     "metadata": {},
     "output_type": "display_data"
    },
    {
     "name": "stdout",
     "output_type": "stream",
     "text": [
      "📗 Validation - Loss: 1.8824, Perplexity: 6.57, Token Acc: 41.44%\n"
     ]
    },
    {
     "data": {
      "application/vnd.jupyter.widget-view+json": {
       "model_id": "6f414c88dfb54a599da3c69e79e89b5e",
       "version_major": 2,
       "version_minor": 0
      },
      "text/plain": [
       "Epoch 308/1000 [Training]:   0%|          | 0/1125 [00:00<?, ?it/s]"
      ]
     },
     "metadata": {},
     "output_type": "display_data"
    },
    {
     "name": "stdout",
     "output_type": "stream",
     "text": [
      "\n",
      "📘 Epoch 308/1000 - Train Loss: 2.0617\n"
     ]
    },
    {
     "data": {
      "application/vnd.jupyter.widget-view+json": {
       "model_id": "9393c6dc571d4426a3c97a76bcdb984f",
       "version_major": 2,
       "version_minor": 0
      },
      "text/plain": [
       "Validating:   0%|          | 0/250 [00:00<?, ?it/s]"
      ]
     },
     "metadata": {},
     "output_type": "display_data"
    },
    {
     "name": "stdout",
     "output_type": "stream",
     "text": [
      "📗 Validation - Loss: 1.8836, Perplexity: 6.58, Token Acc: 41.39%\n",
      "✅ Saved checkpoint: checkpoints/blt_epoch308.pt\n"
     ]
    },
    {
     "data": {
      "application/vnd.jupyter.widget-view+json": {
       "model_id": "9c3332e90e4644e7a62f366396da8156",
       "version_major": 2,
       "version_minor": 0
      },
      "text/plain": [
       "Epoch 309/1000 [Training]:   0%|          | 0/1125 [00:00<?, ?it/s]"
      ]
     },
     "metadata": {},
     "output_type": "display_data"
    },
    {
     "name": "stdout",
     "output_type": "stream",
     "text": [
      "\n",
      "📘 Epoch 309/1000 - Train Loss: 2.0606\n"
     ]
    },
    {
     "data": {
      "application/vnd.jupyter.widget-view+json": {
       "model_id": "908f040f52c54c6393656f840153a3f8",
       "version_major": 2,
       "version_minor": 0
      },
      "text/plain": [
       "Validating:   0%|          | 0/250 [00:00<?, ?it/s]"
      ]
     },
     "metadata": {},
     "output_type": "display_data"
    },
    {
     "name": "stdout",
     "output_type": "stream",
     "text": [
      "📗 Validation - Loss: 1.8837, Perplexity: 6.58, Token Acc: 41.20%\n"
     ]
    },
    {
     "data": {
      "application/vnd.jupyter.widget-view+json": {
       "model_id": "d47e758770794a14aa88d7a6b2952c30",
       "version_major": 2,
       "version_minor": 0
      },
      "text/plain": [
       "Epoch 310/1000 [Training]:   0%|          | 0/1125 [00:00<?, ?it/s]"
      ]
     },
     "metadata": {},
     "output_type": "display_data"
    },
    {
     "name": "stdout",
     "output_type": "stream",
     "text": [
      "\n",
      "📘 Epoch 310/1000 - Train Loss: 2.0612\n"
     ]
    },
    {
     "data": {
      "application/vnd.jupyter.widget-view+json": {
       "model_id": "59a88c16f9f44227906e6b0679b7a4c5",
       "version_major": 2,
       "version_minor": 0
      },
      "text/plain": [
       "Validating:   0%|          | 0/250 [00:00<?, ?it/s]"
      ]
     },
     "metadata": {},
     "output_type": "display_data"
    },
    {
     "name": "stdout",
     "output_type": "stream",
     "text": [
      "📗 Validation - Loss: 1.8834, Perplexity: 6.58, Token Acc: 41.21%\n",
      "✅ Saved checkpoint: checkpoints/blt_epoch310.pt\n"
     ]
    },
    {
     "data": {
      "application/vnd.jupyter.widget-view+json": {
       "model_id": "403fc1816df64a0b9ad3551168a2b9a1",
       "version_major": 2,
       "version_minor": 0
      },
      "text/plain": [
       "Epoch 311/1000 [Training]:   0%|          | 0/1125 [00:00<?, ?it/s]"
      ]
     },
     "metadata": {},
     "output_type": "display_data"
    },
    {
     "name": "stdout",
     "output_type": "stream",
     "text": [
      "\n",
      "📘 Epoch 311/1000 - Train Loss: 2.0620\n"
     ]
    },
    {
     "data": {
      "application/vnd.jupyter.widget-view+json": {
       "model_id": "c10971384e054c758d7dfe2c95d29033",
       "version_major": 2,
       "version_minor": 0
      },
      "text/plain": [
       "Validating:   0%|          | 0/250 [00:00<?, ?it/s]"
      ]
     },
     "metadata": {},
     "output_type": "display_data"
    },
    {
     "name": "stdout",
     "output_type": "stream",
     "text": [
      "📗 Validation - Loss: 1.8845, Perplexity: 6.58, Token Acc: 41.35%\n"
     ]
    },
    {
     "data": {
      "application/vnd.jupyter.widget-view+json": {
       "model_id": "faf55da43003430bb1f9b34b294eec3f",
       "version_major": 2,
       "version_minor": 0
      },
      "text/plain": [
       "Epoch 312/1000 [Training]:   0%|          | 0/1125 [00:00<?, ?it/s]"
      ]
     },
     "metadata": {},
     "output_type": "display_data"
    },
    {
     "name": "stdout",
     "output_type": "stream",
     "text": [
      "\n",
      "📘 Epoch 312/1000 - Train Loss: 2.0573\n"
     ]
    },
    {
     "data": {
      "application/vnd.jupyter.widget-view+json": {
       "model_id": "cfb2a321b17f47a8b129ba37ee7bae6e",
       "version_major": 2,
       "version_minor": 0
      },
      "text/plain": [
       "Validating:   0%|          | 0/250 [00:00<?, ?it/s]"
      ]
     },
     "metadata": {},
     "output_type": "display_data"
    },
    {
     "name": "stdout",
     "output_type": "stream",
     "text": [
      "📗 Validation - Loss: 1.8834, Perplexity: 6.58, Token Acc: 41.36%\n",
      "✅ Saved checkpoint: checkpoints/blt_epoch312.pt\n"
     ]
    },
    {
     "data": {
      "application/vnd.jupyter.widget-view+json": {
       "model_id": "c3c101cfa7b44102b5465a8f161761d5",
       "version_major": 2,
       "version_minor": 0
      },
      "text/plain": [
       "Epoch 313/1000 [Training]:   0%|          | 0/1125 [00:00<?, ?it/s]"
      ]
     },
     "metadata": {},
     "output_type": "display_data"
    },
    {
     "name": "stdout",
     "output_type": "stream",
     "text": [
      "\n",
      "📘 Epoch 313/1000 - Train Loss: 2.0585\n"
     ]
    },
    {
     "data": {
      "application/vnd.jupyter.widget-view+json": {
       "model_id": "af15c885dde347b3bc6c73f5c9ece051",
       "version_major": 2,
       "version_minor": 0
      },
      "text/plain": [
       "Validating:   0%|          | 0/250 [00:00<?, ?it/s]"
      ]
     },
     "metadata": {},
     "output_type": "display_data"
    },
    {
     "name": "stdout",
     "output_type": "stream",
     "text": [
      "📗 Validation - Loss: 1.8828, Perplexity: 6.57, Token Acc: 41.43%\n"
     ]
    },
    {
     "data": {
      "application/vnd.jupyter.widget-view+json": {
       "model_id": "d4b9800ddc1b46f79838403a1b0ce789",
       "version_major": 2,
       "version_minor": 0
      },
      "text/plain": [
       "Epoch 314/1000 [Training]:   0%|          | 0/1125 [00:00<?, ?it/s]"
      ]
     },
     "metadata": {},
     "output_type": "display_data"
    },
    {
     "name": "stdout",
     "output_type": "stream",
     "text": [
      "\n",
      "📘 Epoch 314/1000 - Train Loss: 2.0570\n"
     ]
    },
    {
     "data": {
      "application/vnd.jupyter.widget-view+json": {
       "model_id": "13ae181f895245a1bfaceae6c3fb1e79",
       "version_major": 2,
       "version_minor": 0
      },
      "text/plain": [
       "Validating:   0%|          | 0/250 [00:00<?, ?it/s]"
      ]
     },
     "metadata": {},
     "output_type": "display_data"
    },
    {
     "name": "stdout",
     "output_type": "stream",
     "text": [
      "📗 Validation - Loss: 1.8830, Perplexity: 6.57, Token Acc: 41.27%\n",
      "✅ Saved checkpoint: checkpoints/blt_epoch314.pt\n"
     ]
    },
    {
     "data": {
      "application/vnd.jupyter.widget-view+json": {
       "model_id": "bd2bc0b046c941afbbc5590a9827675f",
       "version_major": 2,
       "version_minor": 0
      },
      "text/plain": [
       "Epoch 315/1000 [Training]:   0%|          | 0/1125 [00:00<?, ?it/s]"
      ]
     },
     "metadata": {},
     "output_type": "display_data"
    },
    {
     "name": "stdout",
     "output_type": "stream",
     "text": [
      "\n",
      "📘 Epoch 315/1000 - Train Loss: 2.0582\n"
     ]
    },
    {
     "data": {
      "application/vnd.jupyter.widget-view+json": {
       "model_id": "9abfed2c1c4a4a9d9d5fd2926aeebcc3",
       "version_major": 2,
       "version_minor": 0
      },
      "text/plain": [
       "Validating:   0%|          | 0/250 [00:00<?, ?it/s]"
      ]
     },
     "metadata": {},
     "output_type": "display_data"
    },
    {
     "name": "stdout",
     "output_type": "stream",
     "text": [
      "📗 Validation - Loss: 1.8819, Perplexity: 6.57, Token Acc: 41.37%\n"
     ]
    },
    {
     "data": {
      "application/vnd.jupyter.widget-view+json": {
       "model_id": "a8b803b2a26b4dec91090ecf145ee7cc",
       "version_major": 2,
       "version_minor": 0
      },
      "text/plain": [
       "Epoch 316/1000 [Training]:   0%|          | 0/1125 [00:00<?, ?it/s]"
      ]
     },
     "metadata": {},
     "output_type": "display_data"
    },
    {
     "name": "stdout",
     "output_type": "stream",
     "text": [
      "\n",
      "📘 Epoch 316/1000 - Train Loss: 2.0574\n"
     ]
    },
    {
     "data": {
      "application/vnd.jupyter.widget-view+json": {
       "model_id": "c01f043dc5284855b8d31667e64d39d6",
       "version_major": 2,
       "version_minor": 0
      },
      "text/plain": [
       "Validating:   0%|          | 0/250 [00:00<?, ?it/s]"
      ]
     },
     "metadata": {},
     "output_type": "display_data"
    },
    {
     "name": "stdout",
     "output_type": "stream",
     "text": [
      "📗 Validation - Loss: 1.8820, Perplexity: 6.57, Token Acc: 41.42%\n",
      "✅ Saved checkpoint: checkpoints/blt_epoch316.pt\n"
     ]
    },
    {
     "data": {
      "application/vnd.jupyter.widget-view+json": {
       "model_id": "e43ecc3012264201babb202ae28a7659",
       "version_major": 2,
       "version_minor": 0
      },
      "text/plain": [
       "Epoch 317/1000 [Training]:   0%|          | 0/1125 [00:00<?, ?it/s]"
      ]
     },
     "metadata": {},
     "output_type": "display_data"
    },
    {
     "name": "stdout",
     "output_type": "stream",
     "text": [
      "\n",
      "📘 Epoch 317/1000 - Train Loss: 2.0576\n"
     ]
    },
    {
     "data": {
      "application/vnd.jupyter.widget-view+json": {
       "model_id": "94a16f22ff454ff98c997ec86c05adb8",
       "version_major": 2,
       "version_minor": 0
      },
      "text/plain": [
       "Validating:   0%|          | 0/250 [00:00<?, ?it/s]"
      ]
     },
     "metadata": {},
     "output_type": "display_data"
    },
    {
     "name": "stdout",
     "output_type": "stream",
     "text": [
      "📗 Validation - Loss: 1.8823, Perplexity: 6.57, Token Acc: 41.35%\n"
     ]
    },
    {
     "data": {
      "application/vnd.jupyter.widget-view+json": {
       "model_id": "a54da18eb9484fad9b88f82d91cb1e75",
       "version_major": 2,
       "version_minor": 0
      },
      "text/plain": [
       "Epoch 318/1000 [Training]:   0%|          | 0/1125 [00:00<?, ?it/s]"
      ]
     },
     "metadata": {},
     "output_type": "display_data"
    },
    {
     "name": "stdout",
     "output_type": "stream",
     "text": [
      "\n",
      "📘 Epoch 318/1000 - Train Loss: 2.0558\n"
     ]
    },
    {
     "data": {
      "application/vnd.jupyter.widget-view+json": {
       "model_id": "f7405193bf4d480389635f2245f74ca3",
       "version_major": 2,
       "version_minor": 0
      },
      "text/plain": [
       "Validating:   0%|          | 0/250 [00:00<?, ?it/s]"
      ]
     },
     "metadata": {},
     "output_type": "display_data"
    },
    {
     "name": "stdout",
     "output_type": "stream",
     "text": [
      "📗 Validation - Loss: 1.8812, Perplexity: 6.56, Token Acc: 41.44%\n",
      "✅ Saved checkpoint: checkpoints/blt_epoch318.pt\n"
     ]
    },
    {
     "data": {
      "application/vnd.jupyter.widget-view+json": {
       "model_id": "142d4a863b434384bd04c898f004cb23",
       "version_major": 2,
       "version_minor": 0
      },
      "text/plain": [
       "Epoch 319/1000 [Training]:   0%|          | 0/1125 [00:00<?, ?it/s]"
      ]
     },
     "metadata": {},
     "output_type": "display_data"
    },
    {
     "name": "stdout",
     "output_type": "stream",
     "text": [
      "\n",
      "📘 Epoch 319/1000 - Train Loss: 2.0564\n"
     ]
    },
    {
     "data": {
      "application/vnd.jupyter.widget-view+json": {
       "model_id": "a2999000468344d38f0343558d5ca7eb",
       "version_major": 2,
       "version_minor": 0
      },
      "text/plain": [
       "Validating:   0%|          | 0/250 [00:00<?, ?it/s]"
      ]
     },
     "metadata": {},
     "output_type": "display_data"
    },
    {
     "name": "stdout",
     "output_type": "stream",
     "text": [
      "📗 Validation - Loss: 1.8829, Perplexity: 6.57, Token Acc: 41.36%\n"
     ]
    },
    {
     "data": {
      "application/vnd.jupyter.widget-view+json": {
       "model_id": "09f09e2d21f94f388da68560414b815b",
       "version_major": 2,
       "version_minor": 0
      },
      "text/plain": [
       "Epoch 320/1000 [Training]:   0%|          | 0/1125 [00:00<?, ?it/s]"
      ]
     },
     "metadata": {},
     "output_type": "display_data"
    },
    {
     "name": "stdout",
     "output_type": "stream",
     "text": [
      "\n",
      "📘 Epoch 320/1000 - Train Loss: 2.0563\n"
     ]
    },
    {
     "data": {
      "application/vnd.jupyter.widget-view+json": {
       "model_id": "0d730d4579e64b529e5975bd40853f38",
       "version_major": 2,
       "version_minor": 0
      },
      "text/plain": [
       "Validating:   0%|          | 0/250 [00:00<?, ?it/s]"
      ]
     },
     "metadata": {},
     "output_type": "display_data"
    },
    {
     "name": "stdout",
     "output_type": "stream",
     "text": [
      "📗 Validation - Loss: 1.8816, Perplexity: 6.56, Token Acc: 41.45%\n",
      "✅ Saved checkpoint: checkpoints/blt_epoch320.pt\n"
     ]
    },
    {
     "data": {
      "application/vnd.jupyter.widget-view+json": {
       "model_id": "a8eb5a5da5a249ad84d8665e6c59715c",
       "version_major": 2,
       "version_minor": 0
      },
      "text/plain": [
       "Epoch 321/1000 [Training]:   0%|          | 0/1125 [00:00<?, ?it/s]"
      ]
     },
     "metadata": {},
     "output_type": "display_data"
    },
    {
     "name": "stdout",
     "output_type": "stream",
     "text": [
      "\n",
      "📘 Epoch 321/1000 - Train Loss: 2.0545\n"
     ]
    },
    {
     "data": {
      "application/vnd.jupyter.widget-view+json": {
       "model_id": "b0171957b3484101b76bbc4b7b85ff01",
       "version_major": 2,
       "version_minor": 0
      },
      "text/plain": [
       "Validating:   0%|          | 0/250 [00:00<?, ?it/s]"
      ]
     },
     "metadata": {},
     "output_type": "display_data"
    },
    {
     "name": "stdout",
     "output_type": "stream",
     "text": [
      "📗 Validation - Loss: 1.8821, Perplexity: 6.57, Token Acc: 41.47%\n"
     ]
    },
    {
     "data": {
      "application/vnd.jupyter.widget-view+json": {
       "model_id": "9b2b8bda52ba40788d332b6a2969db64",
       "version_major": 2,
       "version_minor": 0
      },
      "text/plain": [
       "Epoch 322/1000 [Training]:   0%|          | 0/1125 [00:00<?, ?it/s]"
      ]
     },
     "metadata": {},
     "output_type": "display_data"
    },
    {
     "name": "stdout",
     "output_type": "stream",
     "text": [
      "\n",
      "📘 Epoch 322/1000 - Train Loss: 2.0555\n"
     ]
    },
    {
     "data": {
      "application/vnd.jupyter.widget-view+json": {
       "model_id": "4442ee6aab374eb59848c1baa984ba9f",
       "version_major": 2,
       "version_minor": 0
      },
      "text/plain": [
       "Validating:   0%|          | 0/250 [00:00<?, ?it/s]"
      ]
     },
     "metadata": {},
     "output_type": "display_data"
    },
    {
     "name": "stdout",
     "output_type": "stream",
     "text": [
      "📗 Validation - Loss: 1.8826, Perplexity: 6.57, Token Acc: 41.38%\n",
      "✅ Saved checkpoint: checkpoints/blt_epoch322.pt\n"
     ]
    },
    {
     "data": {
      "application/vnd.jupyter.widget-view+json": {
       "model_id": "c24dd180ea6a4222bb8acd709f21a6c1",
       "version_major": 2,
       "version_minor": 0
      },
      "text/plain": [
       "Epoch 323/1000 [Training]:   0%|          | 0/1125 [00:00<?, ?it/s]"
      ]
     },
     "metadata": {},
     "output_type": "display_data"
    },
    {
     "name": "stdout",
     "output_type": "stream",
     "text": [
      "\n",
      "📘 Epoch 323/1000 - Train Loss: 2.0551\n"
     ]
    },
    {
     "data": {
      "application/vnd.jupyter.widget-view+json": {
       "model_id": "147431c59a3c4402b20f4cfcf27abea2",
       "version_major": 2,
       "version_minor": 0
      },
      "text/plain": [
       "Validating:   0%|          | 0/250 [00:00<?, ?it/s]"
      ]
     },
     "metadata": {},
     "output_type": "display_data"
    },
    {
     "name": "stdout",
     "output_type": "stream",
     "text": [
      "📗 Validation - Loss: 1.8819, Perplexity: 6.57, Token Acc: 41.34%\n"
     ]
    },
    {
     "data": {
      "application/vnd.jupyter.widget-view+json": {
       "model_id": "99cbd8abd2a34d48980558e265b59635",
       "version_major": 2,
       "version_minor": 0
      },
      "text/plain": [
       "Epoch 324/1000 [Training]:   0%|          | 0/1125 [00:00<?, ?it/s]"
      ]
     },
     "metadata": {},
     "output_type": "display_data"
    },
    {
     "name": "stdout",
     "output_type": "stream",
     "text": [
      "\n",
      "📘 Epoch 324/1000 - Train Loss: 2.0535\n"
     ]
    },
    {
     "data": {
      "application/vnd.jupyter.widget-view+json": {
       "model_id": "94158d29ea804107a20f96e4f48b0792",
       "version_major": 2,
       "version_minor": 0
      },
      "text/plain": [
       "Validating:   0%|          | 0/250 [00:00<?, ?it/s]"
      ]
     },
     "metadata": {},
     "output_type": "display_data"
    },
    {
     "name": "stdout",
     "output_type": "stream",
     "text": [
      "📗 Validation - Loss: 1.8812, Perplexity: 6.56, Token Acc: 41.42%\n",
      "✅ Saved checkpoint: checkpoints/blt_epoch324.pt\n"
     ]
    },
    {
     "data": {
      "application/vnd.jupyter.widget-view+json": {
       "model_id": "46c6d5a517a04fd29f78ce382c47ba7f",
       "version_major": 2,
       "version_minor": 0
      },
      "text/plain": [
       "Epoch 325/1000 [Training]:   0%|          | 0/1125 [00:00<?, ?it/s]"
      ]
     },
     "metadata": {},
     "output_type": "display_data"
    },
    {
     "name": "stdout",
     "output_type": "stream",
     "text": [
      "\n",
      "📘 Epoch 325/1000 - Train Loss: 2.0544\n"
     ]
    },
    {
     "data": {
      "application/vnd.jupyter.widget-view+json": {
       "model_id": "0570db29f7634af7898d82aaf00bafd6",
       "version_major": 2,
       "version_minor": 0
      },
      "text/plain": [
       "Validating:   0%|          | 0/250 [00:00<?, ?it/s]"
      ]
     },
     "metadata": {},
     "output_type": "display_data"
    },
    {
     "name": "stdout",
     "output_type": "stream",
     "text": [
      "📗 Validation - Loss: 1.8816, Perplexity: 6.56, Token Acc: 41.39%\n"
     ]
    },
    {
     "data": {
      "application/vnd.jupyter.widget-view+json": {
       "model_id": "f70cd67bca59433bb3f42ae5c8bb85f4",
       "version_major": 2,
       "version_minor": 0
      },
      "text/plain": [
       "Epoch 326/1000 [Training]:   0%|          | 0/1125 [00:00<?, ?it/s]"
      ]
     },
     "metadata": {},
     "output_type": "display_data"
    },
    {
     "name": "stdout",
     "output_type": "stream",
     "text": [
      "\n",
      "📘 Epoch 326/1000 - Train Loss: 2.0549\n"
     ]
    },
    {
     "data": {
      "application/vnd.jupyter.widget-view+json": {
       "model_id": "bbf3fc1e90c44c7e94d63eadacd3dbf0",
       "version_major": 2,
       "version_minor": 0
      },
      "text/plain": [
       "Validating:   0%|          | 0/250 [00:00<?, ?it/s]"
      ]
     },
     "metadata": {},
     "output_type": "display_data"
    },
    {
     "name": "stdout",
     "output_type": "stream",
     "text": [
      "📗 Validation - Loss: 1.8811, Perplexity: 6.56, Token Acc: 41.41%\n",
      "✅ Saved checkpoint: checkpoints/blt_epoch326.pt\n"
     ]
    },
    {
     "data": {
      "application/vnd.jupyter.widget-view+json": {
       "model_id": "16456843000e4b87a46575e931742b28",
       "version_major": 2,
       "version_minor": 0
      },
      "text/plain": [
       "Epoch 327/1000 [Training]:   0%|          | 0/1125 [00:00<?, ?it/s]"
      ]
     },
     "metadata": {},
     "output_type": "display_data"
    },
    {
     "name": "stdout",
     "output_type": "stream",
     "text": [
      "\n",
      "📘 Epoch 327/1000 - Train Loss: 2.0555\n"
     ]
    },
    {
     "data": {
      "application/vnd.jupyter.widget-view+json": {
       "model_id": "87454dffaf6b4d61967378d5c96adcd3",
       "version_major": 2,
       "version_minor": 0
      },
      "text/plain": [
       "Validating:   0%|          | 0/250 [00:00<?, ?it/s]"
      ]
     },
     "metadata": {},
     "output_type": "display_data"
    },
    {
     "name": "stdout",
     "output_type": "stream",
     "text": [
      "📗 Validation - Loss: 1.8812, Perplexity: 6.56, Token Acc: 41.40%\n"
     ]
    },
    {
     "data": {
      "application/vnd.jupyter.widget-view+json": {
       "model_id": "2b6702225183407e98ac3d89c008e93c",
       "version_major": 2,
       "version_minor": 0
      },
      "text/plain": [
       "Epoch 328/1000 [Training]:   0%|          | 0/1125 [00:00<?, ?it/s]"
      ]
     },
     "metadata": {},
     "output_type": "display_data"
    },
    {
     "name": "stdout",
     "output_type": "stream",
     "text": [
      "\n",
      "📘 Epoch 328/1000 - Train Loss: 2.0540\n"
     ]
    },
    {
     "data": {
      "application/vnd.jupyter.widget-view+json": {
       "model_id": "6a1cae47235c4c568cd7e0b0ddf626e8",
       "version_major": 2,
       "version_minor": 0
      },
      "text/plain": [
       "Validating:   0%|          | 0/250 [00:00<?, ?it/s]"
      ]
     },
     "metadata": {},
     "output_type": "display_data"
    },
    {
     "name": "stdout",
     "output_type": "stream",
     "text": [
      "📗 Validation - Loss: 1.8810, Perplexity: 6.56, Token Acc: 41.46%\n",
      "✅ Saved checkpoint: checkpoints/blt_epoch328.pt\n"
     ]
    },
    {
     "data": {
      "application/vnd.jupyter.widget-view+json": {
       "model_id": "f59bd36341f24a14960ff33133ee69e7",
       "version_major": 2,
       "version_minor": 0
      },
      "text/plain": [
       "Epoch 329/1000 [Training]:   0%|          | 0/1125 [00:00<?, ?it/s]"
      ]
     },
     "metadata": {},
     "output_type": "display_data"
    },
    {
     "name": "stdout",
     "output_type": "stream",
     "text": [
      "\n",
      "📘 Epoch 329/1000 - Train Loss: 2.0551\n"
     ]
    },
    {
     "data": {
      "application/vnd.jupyter.widget-view+json": {
       "model_id": "d18fc29c882b444ca14c894ee67c0e36",
       "version_major": 2,
       "version_minor": 0
      },
      "text/plain": [
       "Validating:   0%|          | 0/250 [00:00<?, ?it/s]"
      ]
     },
     "metadata": {},
     "output_type": "display_data"
    },
    {
     "name": "stdout",
     "output_type": "stream",
     "text": [
      "📗 Validation - Loss: 1.8813, Perplexity: 6.56, Token Acc: 41.34%\n"
     ]
    },
    {
     "data": {
      "application/vnd.jupyter.widget-view+json": {
       "model_id": "e1f4111267b4422d9917e6320d29b3a4",
       "version_major": 2,
       "version_minor": 0
      },
      "text/plain": [
       "Epoch 330/1000 [Training]:   0%|          | 0/1125 [00:00<?, ?it/s]"
      ]
     },
     "metadata": {},
     "output_type": "display_data"
    },
    {
     "name": "stdout",
     "output_type": "stream",
     "text": [
      "\n",
      "📘 Epoch 330/1000 - Train Loss: 2.0533\n"
     ]
    },
    {
     "data": {
      "application/vnd.jupyter.widget-view+json": {
       "model_id": "86c7b3df2f47400f8a98bcd4e782c82d",
       "version_major": 2,
       "version_minor": 0
      },
      "text/plain": [
       "Validating:   0%|          | 0/250 [00:00<?, ?it/s]"
      ]
     },
     "metadata": {},
     "output_type": "display_data"
    },
    {
     "name": "stdout",
     "output_type": "stream",
     "text": [
      "📗 Validation - Loss: 1.8812, Perplexity: 6.56, Token Acc: 41.40%\n",
      "✅ Saved checkpoint: checkpoints/blt_epoch330.pt\n"
     ]
    },
    {
     "data": {
      "application/vnd.jupyter.widget-view+json": {
       "model_id": "5508bbe8716443df8246f4620763c550",
       "version_major": 2,
       "version_minor": 0
      },
      "text/plain": [
       "Epoch 331/1000 [Training]:   0%|          | 0/1125 [00:00<?, ?it/s]"
      ]
     },
     "metadata": {},
     "output_type": "display_data"
    },
    {
     "name": "stdout",
     "output_type": "stream",
     "text": [
      "\n",
      "📘 Epoch 331/1000 - Train Loss: 2.0540\n"
     ]
    },
    {
     "data": {
      "application/vnd.jupyter.widget-view+json": {
       "model_id": "c32d68ada2ef4cffb2cd73eac2bb88a1",
       "version_major": 2,
       "version_minor": 0
      },
      "text/plain": [
       "Validating:   0%|          | 0/250 [00:00<?, ?it/s]"
      ]
     },
     "metadata": {},
     "output_type": "display_data"
    },
    {
     "name": "stdout",
     "output_type": "stream",
     "text": [
      "📗 Validation - Loss: 1.8812, Perplexity: 6.56, Token Acc: 41.43%\n"
     ]
    },
    {
     "data": {
      "application/vnd.jupyter.widget-view+json": {
       "model_id": "2df93fed2ccf45aebaf9ac33d4fb7dc6",
       "version_major": 2,
       "version_minor": 0
      },
      "text/plain": [
       "Epoch 332/1000 [Training]:   0%|          | 0/1125 [00:00<?, ?it/s]"
      ]
     },
     "metadata": {},
     "output_type": "display_data"
    },
    {
     "name": "stdout",
     "output_type": "stream",
     "text": [
      "\n",
      "📘 Epoch 332/1000 - Train Loss: 2.0545\n"
     ]
    },
    {
     "data": {
      "application/vnd.jupyter.widget-view+json": {
       "model_id": "10d787c1667a4b7ea3709686e5b3b116",
       "version_major": 2,
       "version_minor": 0
      },
      "text/plain": [
       "Validating:   0%|          | 0/250 [00:00<?, ?it/s]"
      ]
     },
     "metadata": {},
     "output_type": "display_data"
    },
    {
     "name": "stdout",
     "output_type": "stream",
     "text": [
      "📗 Validation - Loss: 1.8813, Perplexity: 6.56, Token Acc: 41.39%\n",
      "✅ Saved checkpoint: checkpoints/blt_epoch332.pt\n"
     ]
    },
    {
     "data": {
      "application/vnd.jupyter.widget-view+json": {
       "model_id": "45c2dcb468ad4014aae9e5825d480921",
       "version_major": 2,
       "version_minor": 0
      },
      "text/plain": [
       "Epoch 333/1000 [Training]:   0%|          | 0/1125 [00:00<?, ?it/s]"
      ]
     },
     "metadata": {},
     "output_type": "display_data"
    },
    {
     "name": "stdout",
     "output_type": "stream",
     "text": [
      "\n",
      "📘 Epoch 333/1000 - Train Loss: 2.0548\n"
     ]
    },
    {
     "data": {
      "application/vnd.jupyter.widget-view+json": {
       "model_id": "88e0da611ac24c059fbadab368d87557",
       "version_major": 2,
       "version_minor": 0
      },
      "text/plain": [
       "Validating:   0%|          | 0/250 [00:00<?, ?it/s]"
      ]
     },
     "metadata": {},
     "output_type": "display_data"
    },
    {
     "name": "stdout",
     "output_type": "stream",
     "text": [
      "📗 Validation - Loss: 1.8812, Perplexity: 6.56, Token Acc: 41.42%\n"
     ]
    },
    {
     "data": {
      "application/vnd.jupyter.widget-view+json": {
       "model_id": "2e98a82c53ec4bab9fdf0bfafc8c59bf",
       "version_major": 2,
       "version_minor": 0
      },
      "text/plain": [
       "Epoch 334/1000 [Training]:   0%|          | 0/1125 [00:00<?, ?it/s]"
      ]
     },
     "metadata": {},
     "output_type": "display_data"
    },
    {
     "name": "stdout",
     "output_type": "stream",
     "text": [
      "\n",
      "📘 Epoch 334/1000 - Train Loss: 2.0543\n"
     ]
    },
    {
     "data": {
      "application/vnd.jupyter.widget-view+json": {
       "model_id": "9a7d11a1664c4c7b8c6bfb05074cdcdb",
       "version_major": 2,
       "version_minor": 0
      },
      "text/plain": [
       "Validating:   0%|          | 0/250 [00:00<?, ?it/s]"
      ]
     },
     "metadata": {},
     "output_type": "display_data"
    },
    {
     "name": "stdout",
     "output_type": "stream",
     "text": [
      "📗 Validation - Loss: 1.8813, Perplexity: 6.56, Token Acc: 41.40%\n",
      "✅ Saved checkpoint: checkpoints/blt_epoch334.pt\n"
     ]
    },
    {
     "data": {
      "application/vnd.jupyter.widget-view+json": {
       "model_id": "0426c6598a704c468fd92428c0d1d017",
       "version_major": 2,
       "version_minor": 0
      },
      "text/plain": [
       "Epoch 335/1000 [Training]:   0%|          | 0/1125 [00:00<?, ?it/s]"
      ]
     },
     "metadata": {},
     "output_type": "display_data"
    },
    {
     "name": "stdout",
     "output_type": "stream",
     "text": [
      "\n",
      "📘 Epoch 335/1000 - Train Loss: 2.0537\n"
     ]
    },
    {
     "data": {
      "application/vnd.jupyter.widget-view+json": {
       "model_id": "d8688954123a44d496bea6da7cbfc390",
       "version_major": 2,
       "version_minor": 0
      },
      "text/plain": [
       "Validating:   0%|          | 0/250 [00:00<?, ?it/s]"
      ]
     },
     "metadata": {},
     "output_type": "display_data"
    },
    {
     "name": "stdout",
     "output_type": "stream",
     "text": [
      "📗 Validation - Loss: 1.8812, Perplexity: 6.56, Token Acc: 41.43%\n"
     ]
    },
    {
     "data": {
      "application/vnd.jupyter.widget-view+json": {
       "model_id": "5f7ee96a3bf74820b91923f9aa782add",
       "version_major": 2,
       "version_minor": 0
      },
      "text/plain": [
       "Epoch 336/1000 [Training]:   0%|          | 0/1125 [00:00<?, ?it/s]"
      ]
     },
     "metadata": {},
     "output_type": "display_data"
    },
    {
     "name": "stdout",
     "output_type": "stream",
     "text": [
      "\n",
      "📘 Epoch 336/1000 - Train Loss: 2.0538\n"
     ]
    },
    {
     "data": {
      "application/vnd.jupyter.widget-view+json": {
       "model_id": "701b38415018496a9d8b86971b619754",
       "version_major": 2,
       "version_minor": 0
      },
      "text/plain": [
       "Validating:   0%|          | 0/250 [00:00<?, ?it/s]"
      ]
     },
     "metadata": {},
     "output_type": "display_data"
    },
    {
     "name": "stdout",
     "output_type": "stream",
     "text": [
      "📗 Validation - Loss: 1.8811, Perplexity: 6.56, Token Acc: 41.41%\n",
      "✅ Saved checkpoint: checkpoints/blt_epoch336.pt\n"
     ]
    },
    {
     "data": {
      "application/vnd.jupyter.widget-view+json": {
       "model_id": "9674950e90d740ab9cee780585d87275",
       "version_major": 2,
       "version_minor": 0
      },
      "text/plain": [
       "Epoch 337/1000 [Training]:   0%|          | 0/1125 [00:00<?, ?it/s]"
      ]
     },
     "metadata": {},
     "output_type": "display_data"
    },
    {
     "name": "stdout",
     "output_type": "stream",
     "text": [
      "\n",
      "📘 Epoch 337/1000 - Train Loss: 2.0545\n"
     ]
    },
    {
     "data": {
      "application/vnd.jupyter.widget-view+json": {
       "model_id": "52e1ce6ff44c49e896d1322d247201f6",
       "version_major": 2,
       "version_minor": 0
      },
      "text/plain": [
       "Validating:   0%|          | 0/250 [00:00<?, ?it/s]"
      ]
     },
     "metadata": {},
     "output_type": "display_data"
    },
    {
     "name": "stdout",
     "output_type": "stream",
     "text": [
      "📗 Validation - Loss: 1.8810, Perplexity: 6.56, Token Acc: 41.44%\n"
     ]
    },
    {
     "data": {
      "application/vnd.jupyter.widget-view+json": {
       "model_id": "9885403118c0434cadbe1f0add175696",
       "version_major": 2,
       "version_minor": 0
      },
      "text/plain": [
       "Epoch 338/1000 [Training]:   0%|          | 0/1125 [00:00<?, ?it/s]"
      ]
     },
     "metadata": {},
     "output_type": "display_data"
    },
    {
     "name": "stdout",
     "output_type": "stream",
     "text": [
      "\n",
      "📘 Epoch 338/1000 - Train Loss: 2.0543\n"
     ]
    },
    {
     "data": {
      "application/vnd.jupyter.widget-view+json": {
       "model_id": "7e5a07f3b09a4805b1838a2637a09141",
       "version_major": 2,
       "version_minor": 0
      },
      "text/plain": [
       "Validating:   0%|          | 0/250 [00:00<?, ?it/s]"
      ]
     },
     "metadata": {},
     "output_type": "display_data"
    },
    {
     "name": "stdout",
     "output_type": "stream",
     "text": [
      "📗 Validation - Loss: 1.8811, Perplexity: 6.56, Token Acc: 41.44%\n",
      "✅ Saved checkpoint: checkpoints/blt_epoch338.pt\n"
     ]
    },
    {
     "data": {
      "application/vnd.jupyter.widget-view+json": {
       "model_id": "a8323b3f29f44e0f8c90819ad4d7112d",
       "version_major": 2,
       "version_minor": 0
      },
      "text/plain": [
       "Epoch 339/1000 [Training]:   0%|          | 0/1125 [00:00<?, ?it/s]"
      ]
     },
     "metadata": {},
     "output_type": "display_data"
    },
    {
     "name": "stdout",
     "output_type": "stream",
     "text": [
      "\n",
      "📘 Epoch 339/1000 - Train Loss: 2.0539\n"
     ]
    },
    {
     "data": {
      "application/vnd.jupyter.widget-view+json": {
       "model_id": "c5da839ed0d640918aefd28cdbd9d9db",
       "version_major": 2,
       "version_minor": 0
      },
      "text/plain": [
       "Validating:   0%|          | 0/250 [00:00<?, ?it/s]"
      ]
     },
     "metadata": {},
     "output_type": "display_data"
    },
    {
     "name": "stdout",
     "output_type": "stream",
     "text": [
      "📗 Validation - Loss: 1.8810, Perplexity: 6.56, Token Acc: 41.42%\n"
     ]
    },
    {
     "data": {
      "application/vnd.jupyter.widget-view+json": {
       "model_id": "c9ccae19f69f4996980b4fdf0f42be28",
       "version_major": 2,
       "version_minor": 0
      },
      "text/plain": [
       "Epoch 340/1000 [Training]:   0%|          | 0/1125 [00:00<?, ?it/s]"
      ]
     },
     "metadata": {},
     "output_type": "display_data"
    },
    {
     "name": "stdout",
     "output_type": "stream",
     "text": [
      "\n",
      "📘 Epoch 340/1000 - Train Loss: 2.0544\n"
     ]
    },
    {
     "data": {
      "application/vnd.jupyter.widget-view+json": {
       "model_id": "e9c67cb302e74858a46e7fe77e81ee92",
       "version_major": 2,
       "version_minor": 0
      },
      "text/plain": [
       "Validating:   0%|          | 0/250 [00:00<?, ?it/s]"
      ]
     },
     "metadata": {},
     "output_type": "display_data"
    },
    {
     "name": "stdout",
     "output_type": "stream",
     "text": [
      "📗 Validation - Loss: 1.8810, Perplexity: 6.56, Token Acc: 41.43%\n",
      "✅ Saved checkpoint: checkpoints/blt_epoch340.pt\n"
     ]
    },
    {
     "data": {
      "application/vnd.jupyter.widget-view+json": {
       "model_id": "3dec37e360624182a923aaba262034d1",
       "version_major": 2,
       "version_minor": 0
      },
      "text/plain": [
       "Epoch 341/1000 [Training]:   0%|          | 0/1125 [00:00<?, ?it/s]"
      ]
     },
     "metadata": {},
     "output_type": "display_data"
    },
    {
     "name": "stdout",
     "output_type": "stream",
     "text": [
      "\n",
      "📘 Epoch 341/1000 - Train Loss: 2.0542\n"
     ]
    },
    {
     "data": {
      "application/vnd.jupyter.widget-view+json": {
       "model_id": "a1cf900653664c109f6a36c77c760519",
       "version_major": 2,
       "version_minor": 0
      },
      "text/plain": [
       "Validating:   0%|          | 0/250 [00:00<?, ?it/s]"
      ]
     },
     "metadata": {},
     "output_type": "display_data"
    },
    {
     "name": "stdout",
     "output_type": "stream",
     "text": [
      "📗 Validation - Loss: 1.8812, Perplexity: 6.56, Token Acc: 41.40%\n"
     ]
    },
    {
     "data": {
      "application/vnd.jupyter.widget-view+json": {
       "model_id": "7c65c7ea96e04cbeb81659efff727d14",
       "version_major": 2,
       "version_minor": 0
      },
      "text/plain": [
       "Epoch 342/1000 [Training]:   0%|          | 0/1125 [00:00<?, ?it/s]"
      ]
     },
     "metadata": {},
     "output_type": "display_data"
    },
    {
     "name": "stdout",
     "output_type": "stream",
     "text": [
      "\n",
      "📘 Epoch 342/1000 - Train Loss: 2.0540\n"
     ]
    },
    {
     "data": {
      "application/vnd.jupyter.widget-view+json": {
       "model_id": "4f6bbfd655ac4c6cbaafc8e033f88910",
       "version_major": 2,
       "version_minor": 0
      },
      "text/plain": [
       "Validating:   0%|          | 0/250 [00:00<?, ?it/s]"
      ]
     },
     "metadata": {},
     "output_type": "display_data"
    },
    {
     "name": "stdout",
     "output_type": "stream",
     "text": [
      "📗 Validation - Loss: 1.8811, Perplexity: 6.56, Token Acc: 41.41%\n",
      "✅ Saved checkpoint: checkpoints/blt_epoch342.pt\n"
     ]
    },
    {
     "data": {
      "application/vnd.jupyter.widget-view+json": {
       "model_id": "078e0708cc9d471fb5b89635a84fef56",
       "version_major": 2,
       "version_minor": 0
      },
      "text/plain": [
       "Epoch 343/1000 [Training]:   0%|          | 0/1125 [00:00<?, ?it/s]"
      ]
     },
     "metadata": {},
     "output_type": "display_data"
    },
    {
     "name": "stdout",
     "output_type": "stream",
     "text": [
      "\n",
      "📘 Epoch 343/1000 - Train Loss: 2.0538\n"
     ]
    },
    {
     "data": {
      "application/vnd.jupyter.widget-view+json": {
       "model_id": "00d212d632e348f0b8f62bd9472cbc6b",
       "version_major": 2,
       "version_minor": 0
      },
      "text/plain": [
       "Validating:   0%|          | 0/250 [00:00<?, ?it/s]"
      ]
     },
     "metadata": {},
     "output_type": "display_data"
    },
    {
     "name": "stdout",
     "output_type": "stream",
     "text": [
      "📗 Validation - Loss: 1.8811, Perplexity: 6.56, Token Acc: 41.41%\n"
     ]
    },
    {
     "data": {
      "application/vnd.jupyter.widget-view+json": {
       "model_id": "e39b9ffd88194a938ca58d9631be38c9",
       "version_major": 2,
       "version_minor": 0
      },
      "text/plain": [
       "Epoch 344/1000 [Training]:   0%|          | 0/1125 [00:00<?, ?it/s]"
      ]
     },
     "metadata": {},
     "output_type": "display_data"
    },
    {
     "name": "stdout",
     "output_type": "stream",
     "text": [
      "\n",
      "📘 Epoch 344/1000 - Train Loss: 2.0545\n"
     ]
    },
    {
     "data": {
      "application/vnd.jupyter.widget-view+json": {
       "model_id": "a2564beda88645d68d5262647ef1e6f8",
       "version_major": 2,
       "version_minor": 0
      },
      "text/plain": [
       "Validating:   0%|          | 0/250 [00:00<?, ?it/s]"
      ]
     },
     "metadata": {},
     "output_type": "display_data"
    },
    {
     "name": "stdout",
     "output_type": "stream",
     "text": [
      "📗 Validation - Loss: 1.8811, Perplexity: 6.56, Token Acc: 41.42%\n",
      "✅ Saved checkpoint: checkpoints/blt_epoch344.pt\n"
     ]
    },
    {
     "data": {
      "application/vnd.jupyter.widget-view+json": {
       "model_id": "a2be4790261946a7a726bac1a6894425",
       "version_major": 2,
       "version_minor": 0
      },
      "text/plain": [
       "Epoch 345/1000 [Training]:   0%|          | 0/1125 [00:00<?, ?it/s]"
      ]
     },
     "metadata": {},
     "output_type": "display_data"
    },
    {
     "name": "stdout",
     "output_type": "stream",
     "text": [
      "\n",
      "📘 Epoch 345/1000 - Train Loss: 2.0526\n"
     ]
    },
    {
     "data": {
      "application/vnd.jupyter.widget-view+json": {
       "model_id": "39c5e1a5e46b4bdf8d01f52feadbce88",
       "version_major": 2,
       "version_minor": 0
      },
      "text/plain": [
       "Validating:   0%|          | 0/250 [00:00<?, ?it/s]"
      ]
     },
     "metadata": {},
     "output_type": "display_data"
    },
    {
     "name": "stdout",
     "output_type": "stream",
     "text": [
      "📗 Validation - Loss: 1.8811, Perplexity: 6.56, Token Acc: 41.43%\n"
     ]
    },
    {
     "data": {
      "application/vnd.jupyter.widget-view+json": {
       "model_id": "3b72abe4b0b24e9a969a0b00b39014d8",
       "version_major": 2,
       "version_minor": 0
      },
      "text/plain": [
       "Epoch 346/1000 [Training]:   0%|          | 0/1125 [00:00<?, ?it/s]"
      ]
     },
     "metadata": {},
     "output_type": "display_data"
    },
    {
     "name": "stdout",
     "output_type": "stream",
     "text": [
      "\n",
      "📘 Epoch 346/1000 - Train Loss: 2.0542\n"
     ]
    },
    {
     "data": {
      "application/vnd.jupyter.widget-view+json": {
       "model_id": "953c37c4ad434c368880ede3859f3b23",
       "version_major": 2,
       "version_minor": 0
      },
      "text/plain": [
       "Validating:   0%|          | 0/250 [00:00<?, ?it/s]"
      ]
     },
     "metadata": {},
     "output_type": "display_data"
    },
    {
     "name": "stdout",
     "output_type": "stream",
     "text": [
      "📗 Validation - Loss: 1.8812, Perplexity: 6.56, Token Acc: 41.39%\n",
      "✅ Saved checkpoint: checkpoints/blt_epoch346.pt\n"
     ]
    },
    {
     "data": {
      "application/vnd.jupyter.widget-view+json": {
       "model_id": "2c512dfab9514f53a394f0efa5fd9c92",
       "version_major": 2,
       "version_minor": 0
      },
      "text/plain": [
       "Epoch 347/1000 [Training]:   0%|          | 0/1125 [00:00<?, ?it/s]"
      ]
     },
     "metadata": {},
     "output_type": "display_data"
    },
    {
     "name": "stdout",
     "output_type": "stream",
     "text": [
      "\n",
      "📘 Epoch 347/1000 - Train Loss: 2.0539\n"
     ]
    },
    {
     "data": {
      "application/vnd.jupyter.widget-view+json": {
       "model_id": "e852556bd37346d191426b485ff53fcb",
       "version_major": 2,
       "version_minor": 0
      },
      "text/plain": [
       "Validating:   0%|          | 0/250 [00:00<?, ?it/s]"
      ]
     },
     "metadata": {},
     "output_type": "display_data"
    },
    {
     "name": "stdout",
     "output_type": "stream",
     "text": [
      "📗 Validation - Loss: 1.8811, Perplexity: 6.56, Token Acc: 41.39%\n"
     ]
    },
    {
     "data": {
      "application/vnd.jupyter.widget-view+json": {
       "model_id": "8ca3e5dbe88742cf9db1a0f082855458",
       "version_major": 2,
       "version_minor": 0
      },
      "text/plain": [
       "Epoch 348/1000 [Training]:   0%|          | 0/1125 [00:00<?, ?it/s]"
      ]
     },
     "metadata": {},
     "output_type": "display_data"
    },
    {
     "name": "stdout",
     "output_type": "stream",
     "text": [
      "\n",
      "📘 Epoch 348/1000 - Train Loss: 2.0532\n"
     ]
    },
    {
     "data": {
      "application/vnd.jupyter.widget-view+json": {
       "model_id": "8842e04b90c447869ca832ed338fb01b",
       "version_major": 2,
       "version_minor": 0
      },
      "text/plain": [
       "Validating:   0%|          | 0/250 [00:00<?, ?it/s]"
      ]
     },
     "metadata": {},
     "output_type": "display_data"
    },
    {
     "name": "stdout",
     "output_type": "stream",
     "text": [
      "📗 Validation - Loss: 1.8811, Perplexity: 6.56, Token Acc: 41.39%\n",
      "✅ Saved checkpoint: checkpoints/blt_epoch348.pt\n"
     ]
    },
    {
     "data": {
      "application/vnd.jupyter.widget-view+json": {
       "model_id": "1fda3e4b4a0e423e955a45684e38b9c3",
       "version_major": 2,
       "version_minor": 0
      },
      "text/plain": [
       "Epoch 349/1000 [Training]:   0%|          | 0/1125 [00:00<?, ?it/s]"
      ]
     },
     "metadata": {},
     "output_type": "display_data"
    },
    {
     "name": "stdout",
     "output_type": "stream",
     "text": [
      "\n",
      "📘 Epoch 349/1000 - Train Loss: 2.0535\n"
     ]
    },
    {
     "data": {
      "application/vnd.jupyter.widget-view+json": {
       "model_id": "59924c65112d4a91b41f4c2eb4c14056",
       "version_major": 2,
       "version_minor": 0
      },
      "text/plain": [
       "Validating:   0%|          | 0/250 [00:00<?, ?it/s]"
      ]
     },
     "metadata": {},
     "output_type": "display_data"
    },
    {
     "name": "stdout",
     "output_type": "stream",
     "text": [
      "📗 Validation - Loss: 1.8811, Perplexity: 6.56, Token Acc: 41.39%\n"
     ]
    },
    {
     "data": {
      "application/vnd.jupyter.widget-view+json": {
       "model_id": "4329e7e749dd42968f9accc612c07925",
       "version_major": 2,
       "version_minor": 0
      },
      "text/plain": [
       "Epoch 350/1000 [Training]:   0%|          | 0/1125 [00:00<?, ?it/s]"
      ]
     },
     "metadata": {},
     "output_type": "display_data"
    },
    {
     "name": "stdout",
     "output_type": "stream",
     "text": [
      "\n",
      "📘 Epoch 350/1000 - Train Loss: 2.0538\n"
     ]
    },
    {
     "data": {
      "application/vnd.jupyter.widget-view+json": {
       "model_id": "600027d3306840a28eace9365d893fd1",
       "version_major": 2,
       "version_minor": 0
      },
      "text/plain": [
       "Validating:   0%|          | 0/250 [00:00<?, ?it/s]"
      ]
     },
     "metadata": {},
     "output_type": "display_data"
    },
    {
     "name": "stdout",
     "output_type": "stream",
     "text": [
      "📗 Validation - Loss: 1.8811, Perplexity: 6.56, Token Acc: 41.38%\n",
      "✅ Saved checkpoint: checkpoints/blt_epoch350.pt\n"
     ]
    },
    {
     "data": {
      "application/vnd.jupyter.widget-view+json": {
       "model_id": "0655b50bd61047be80d941b790e79b7e",
       "version_major": 2,
       "version_minor": 0
      },
      "text/plain": [
       "Epoch 351/1000 [Training]:   0%|          | 0/1125 [00:00<?, ?it/s]"
      ]
     },
     "metadata": {},
     "output_type": "display_data"
    },
    {
     "name": "stdout",
     "output_type": "stream",
     "text": [
      "\n",
      "📘 Epoch 351/1000 - Train Loss: 2.0550\n"
     ]
    },
    {
     "data": {
      "application/vnd.jupyter.widget-view+json": {
       "model_id": "b2cfe3f29ebd481a83740764acd70914",
       "version_major": 2,
       "version_minor": 0
      },
      "text/plain": [
       "Validating:   0%|          | 0/250 [00:00<?, ?it/s]"
      ]
     },
     "metadata": {},
     "output_type": "display_data"
    },
    {
     "name": "stdout",
     "output_type": "stream",
     "text": [
      "📗 Validation - Loss: 1.8811, Perplexity: 6.56, Token Acc: 41.38%\n"
     ]
    },
    {
     "data": {
      "application/vnd.jupyter.widget-view+json": {
       "model_id": "2f01aefbde2145b5972774d7aa3b6c11",
       "version_major": 2,
       "version_minor": 0
      },
      "text/plain": [
       "Epoch 352/1000 [Training]:   0%|          | 0/1125 [00:00<?, ?it/s]"
      ]
     },
     "metadata": {},
     "output_type": "display_data"
    },
    {
     "name": "stdout",
     "output_type": "stream",
     "text": [
      "\n",
      "📘 Epoch 352/1000 - Train Loss: 2.0531\n"
     ]
    },
    {
     "data": {
      "application/vnd.jupyter.widget-view+json": {
       "model_id": "25cc3fad3e9b4c23876d96bec42d21e0",
       "version_major": 2,
       "version_minor": 0
      },
      "text/plain": [
       "Validating:   0%|          | 0/250 [00:00<?, ?it/s]"
      ]
     },
     "metadata": {},
     "output_type": "display_data"
    },
    {
     "name": "stdout",
     "output_type": "stream",
     "text": [
      "📗 Validation - Loss: 1.8811, Perplexity: 6.56, Token Acc: 41.37%\n",
      "✅ Saved checkpoint: checkpoints/blt_epoch352.pt\n"
     ]
    },
    {
     "data": {
      "application/vnd.jupyter.widget-view+json": {
       "model_id": "bf714d130bfb4c21b70a39c3a2b302ff",
       "version_major": 2,
       "version_minor": 0
      },
      "text/plain": [
       "Epoch 353/1000 [Training]:   0%|          | 0/1125 [00:00<?, ?it/s]"
      ]
     },
     "metadata": {},
     "output_type": "display_data"
    },
    {
     "name": "stdout",
     "output_type": "stream",
     "text": [
      "\n",
      "📘 Epoch 353/1000 - Train Loss: 2.0535\n"
     ]
    },
    {
     "data": {
      "application/vnd.jupyter.widget-view+json": {
       "model_id": "d091bc64f132413a88c47c1b4b164ee6",
       "version_major": 2,
       "version_minor": 0
      },
      "text/plain": [
       "Validating:   0%|          | 0/250 [00:00<?, ?it/s]"
      ]
     },
     "metadata": {},
     "output_type": "display_data"
    },
    {
     "name": "stdout",
     "output_type": "stream",
     "text": [
      "📗 Validation - Loss: 1.8811, Perplexity: 6.56, Token Acc: 41.37%\n"
     ]
    },
    {
     "data": {
      "application/vnd.jupyter.widget-view+json": {
       "model_id": "1ab82e341cf341fdb059d047a3900eb6",
       "version_major": 2,
       "version_minor": 0
      },
      "text/plain": [
       "Epoch 354/1000 [Training]:   0%|          | 0/1125 [00:00<?, ?it/s]"
      ]
     },
     "metadata": {},
     "output_type": "display_data"
    },
    {
     "name": "stdout",
     "output_type": "stream",
     "text": [
      "\n",
      "📘 Epoch 354/1000 - Train Loss: 2.0540\n"
     ]
    },
    {
     "data": {
      "application/vnd.jupyter.widget-view+json": {
       "model_id": "e56f8b13e7404c0eafae1adab30489f0",
       "version_major": 2,
       "version_minor": 0
      },
      "text/plain": [
       "Validating:   0%|          | 0/250 [00:00<?, ?it/s]"
      ]
     },
     "metadata": {},
     "output_type": "display_data"
    },
    {
     "name": "stdout",
     "output_type": "stream",
     "text": [
      "📗 Validation - Loss: 1.8811, Perplexity: 6.56, Token Acc: 41.39%\n",
      "✅ Saved checkpoint: checkpoints/blt_epoch354.pt\n"
     ]
    },
    {
     "data": {
      "application/vnd.jupyter.widget-view+json": {
       "model_id": "f1175be4b22d4d84b68bda1b2bb846e4",
       "version_major": 2,
       "version_minor": 0
      },
      "text/plain": [
       "Epoch 355/1000 [Training]:   0%|          | 0/1125 [00:00<?, ?it/s]"
      ]
     },
     "metadata": {},
     "output_type": "display_data"
    },
    {
     "name": "stdout",
     "output_type": "stream",
     "text": [
      "\n",
      "📘 Epoch 355/1000 - Train Loss: 2.0535\n"
     ]
    },
    {
     "data": {
      "application/vnd.jupyter.widget-view+json": {
       "model_id": "cedb7b90e2424d6e81a6899e523b31e9",
       "version_major": 2,
       "version_minor": 0
      },
      "text/plain": [
       "Validating:   0%|          | 0/250 [00:00<?, ?it/s]"
      ]
     },
     "metadata": {},
     "output_type": "display_data"
    },
    {
     "name": "stdout",
     "output_type": "stream",
     "text": [
      "📗 Validation - Loss: 1.8811, Perplexity: 6.56, Token Acc: 41.40%\n"
     ]
    },
    {
     "data": {
      "application/vnd.jupyter.widget-view+json": {
       "model_id": "9b3145c5be13460f9ef528f30a9dee81",
       "version_major": 2,
       "version_minor": 0
      },
      "text/plain": [
       "Epoch 356/1000 [Training]:   0%|          | 0/1125 [00:00<?, ?it/s]"
      ]
     },
     "metadata": {},
     "output_type": "display_data"
    },
    {
     "name": "stdout",
     "output_type": "stream",
     "text": [
      "\n",
      "📘 Epoch 356/1000 - Train Loss: 2.0536\n"
     ]
    },
    {
     "data": {
      "application/vnd.jupyter.widget-view+json": {
       "model_id": "9758791255834599a3a78cbda4456bbe",
       "version_major": 2,
       "version_minor": 0
      },
      "text/plain": [
       "Validating:   0%|          | 0/250 [00:00<?, ?it/s]"
      ]
     },
     "metadata": {},
     "output_type": "display_data"
    },
    {
     "name": "stdout",
     "output_type": "stream",
     "text": [
      "📗 Validation - Loss: 1.8811, Perplexity: 6.56, Token Acc: 41.39%\n",
      "✅ Saved checkpoint: checkpoints/blt_epoch356.pt\n"
     ]
    },
    {
     "data": {
      "application/vnd.jupyter.widget-view+json": {
       "model_id": "87d77967ffb24856889b9611c52be683",
       "version_major": 2,
       "version_minor": 0
      },
      "text/plain": [
       "Epoch 357/1000 [Training]:   0%|          | 0/1125 [00:00<?, ?it/s]"
      ]
     },
     "metadata": {},
     "output_type": "display_data"
    },
    {
     "name": "stdout",
     "output_type": "stream",
     "text": [
      "\n",
      "📘 Epoch 357/1000 - Train Loss: 2.0540\n"
     ]
    },
    {
     "data": {
      "application/vnd.jupyter.widget-view+json": {
       "model_id": "8eeacf62898e49aea833676ae0994205",
       "version_major": 2,
       "version_minor": 0
      },
      "text/plain": [
       "Validating:   0%|          | 0/250 [00:00<?, ?it/s]"
      ]
     },
     "metadata": {},
     "output_type": "display_data"
    },
    {
     "name": "stdout",
     "output_type": "stream",
     "text": [
      "📗 Validation - Loss: 1.8811, Perplexity: 6.56, Token Acc: 41.37%\n"
     ]
    },
    {
     "data": {
      "application/vnd.jupyter.widget-view+json": {
       "model_id": "dccc698a53fd4b8cbbce77afe13d002e",
       "version_major": 2,
       "version_minor": 0
      },
      "text/plain": [
       "Epoch 358/1000 [Training]:   0%|          | 0/1125 [00:00<?, ?it/s]"
      ]
     },
     "metadata": {},
     "output_type": "display_data"
    },
    {
     "name": "stdout",
     "output_type": "stream",
     "text": [
      "\n",
      "📘 Epoch 358/1000 - Train Loss: 2.0540\n"
     ]
    },
    {
     "data": {
      "application/vnd.jupyter.widget-view+json": {
       "model_id": "86384edbeac245ae9f375ee836a41383",
       "version_major": 2,
       "version_minor": 0
      },
      "text/plain": [
       "Validating:   0%|          | 0/250 [00:00<?, ?it/s]"
      ]
     },
     "metadata": {},
     "output_type": "display_data"
    },
    {
     "name": "stdout",
     "output_type": "stream",
     "text": [
      "📗 Validation - Loss: 1.8811, Perplexity: 6.56, Token Acc: 41.39%\n",
      "✅ Saved checkpoint: checkpoints/blt_epoch358.pt\n"
     ]
    },
    {
     "data": {
      "application/vnd.jupyter.widget-view+json": {
       "model_id": "be27c259cb524677ab0fd5a7190733f4",
       "version_major": 2,
       "version_minor": 0
      },
      "text/plain": [
       "Epoch 359/1000 [Training]:   0%|          | 0/1125 [00:00<?, ?it/s]"
      ]
     },
     "metadata": {},
     "output_type": "display_data"
    },
    {
     "name": "stdout",
     "output_type": "stream",
     "text": [
      "\n",
      "📘 Epoch 359/1000 - Train Loss: 2.0539\n"
     ]
    },
    {
     "data": {
      "application/vnd.jupyter.widget-view+json": {
       "model_id": "429a1b141bc241b49bfc950e2039e94c",
       "version_major": 2,
       "version_minor": 0
      },
      "text/plain": [
       "Validating:   0%|          | 0/250 [00:00<?, ?it/s]"
      ]
     },
     "metadata": {},
     "output_type": "display_data"
    },
    {
     "name": "stdout",
     "output_type": "stream",
     "text": [
      "📗 Validation - Loss: 1.8811, Perplexity: 6.56, Token Acc: 41.37%\n"
     ]
    },
    {
     "data": {
      "application/vnd.jupyter.widget-view+json": {
       "model_id": "58a4b70eaea945bb944e596a3d0715f9",
       "version_major": 2,
       "version_minor": 0
      },
      "text/plain": [
       "Epoch 360/1000 [Training]:   0%|          | 0/1125 [00:00<?, ?it/s]"
      ]
     },
     "metadata": {},
     "output_type": "display_data"
    },
    {
     "name": "stdout",
     "output_type": "stream",
     "text": [
      "\n",
      "📘 Epoch 360/1000 - Train Loss: 2.0539\n"
     ]
    },
    {
     "data": {
      "application/vnd.jupyter.widget-view+json": {
       "model_id": "28b41ff5592b4f24a3964ad0c1ad341c",
       "version_major": 2,
       "version_minor": 0
      },
      "text/plain": [
       "Validating:   0%|          | 0/250 [00:00<?, ?it/s]"
      ]
     },
     "metadata": {},
     "output_type": "display_data"
    },
    {
     "name": "stdout",
     "output_type": "stream",
     "text": [
      "📗 Validation - Loss: 1.8811, Perplexity: 6.56, Token Acc: 41.37%\n",
      "✅ Saved checkpoint: checkpoints/blt_epoch360.pt\n"
     ]
    },
    {
     "data": {
      "application/vnd.jupyter.widget-view+json": {
       "model_id": "49f1d5c643bd48a5997a4da3fc22ba2a",
       "version_major": 2,
       "version_minor": 0
      },
      "text/plain": [
       "Epoch 361/1000 [Training]:   0%|          | 0/1125 [00:00<?, ?it/s]"
      ]
     },
     "metadata": {},
     "output_type": "display_data"
    },
    {
     "name": "stdout",
     "output_type": "stream",
     "text": [
      "\n",
      "📘 Epoch 361/1000 - Train Loss: 2.0533\n"
     ]
    },
    {
     "data": {
      "application/vnd.jupyter.widget-view+json": {
       "model_id": "846deb8ca16c46aa8fae5248cb7e8156",
       "version_major": 2,
       "version_minor": 0
      },
      "text/plain": [
       "Validating:   0%|          | 0/250 [00:00<?, ?it/s]"
      ]
     },
     "metadata": {},
     "output_type": "display_data"
    },
    {
     "name": "stdout",
     "output_type": "stream",
     "text": [
      "📗 Validation - Loss: 1.8811, Perplexity: 6.56, Token Acc: 41.37%\n"
     ]
    },
    {
     "data": {
      "application/vnd.jupyter.widget-view+json": {
       "model_id": "ccd3426c05a544aeae814f4d0c8ab443",
       "version_major": 2,
       "version_minor": 0
      },
      "text/plain": [
       "Epoch 362/1000 [Training]:   0%|          | 0/1125 [00:00<?, ?it/s]"
      ]
     },
     "metadata": {},
     "output_type": "display_data"
    },
    {
     "name": "stdout",
     "output_type": "stream",
     "text": [
      "\n",
      "📘 Epoch 362/1000 - Train Loss: 2.0540\n"
     ]
    },
    {
     "data": {
      "application/vnd.jupyter.widget-view+json": {
       "model_id": "5b5d90f73f664d318977584c38339e75",
       "version_major": 2,
       "version_minor": 0
      },
      "text/plain": [
       "Validating:   0%|          | 0/250 [00:00<?, ?it/s]"
      ]
     },
     "metadata": {},
     "output_type": "display_data"
    },
    {
     "name": "stdout",
     "output_type": "stream",
     "text": [
      "📗 Validation - Loss: 1.8811, Perplexity: 6.56, Token Acc: 41.37%\n",
      "✅ Saved checkpoint: checkpoints/blt_epoch362.pt\n"
     ]
    },
    {
     "data": {
      "application/vnd.jupyter.widget-view+json": {
       "model_id": "d45256223c9846b79bacf71ce5bc9274",
       "version_major": 2,
       "version_minor": 0
      },
      "text/plain": [
       "Epoch 363/1000 [Training]:   0%|          | 0/1125 [00:00<?, ?it/s]"
      ]
     },
     "metadata": {},
     "output_type": "display_data"
    },
    {
     "name": "stdout",
     "output_type": "stream",
     "text": [
      "\n",
      "📘 Epoch 363/1000 - Train Loss: 2.0547\n"
     ]
    },
    {
     "data": {
      "application/vnd.jupyter.widget-view+json": {
       "model_id": "d5fd53e71b744321a8347868e4681bef",
       "version_major": 2,
       "version_minor": 0
      },
      "text/plain": [
       "Validating:   0%|          | 0/250 [00:00<?, ?it/s]"
      ]
     },
     "metadata": {},
     "output_type": "display_data"
    },
    {
     "name": "stdout",
     "output_type": "stream",
     "text": [
      "📗 Validation - Loss: 1.8811, Perplexity: 6.56, Token Acc: 41.38%\n"
     ]
    },
    {
     "data": {
      "application/vnd.jupyter.widget-view+json": {
       "model_id": "d3f65ba9629441c98b3f37b97d7213b7",
       "version_major": 2,
       "version_minor": 0
      },
      "text/plain": [
       "Epoch 364/1000 [Training]:   0%|          | 0/1125 [00:00<?, ?it/s]"
      ]
     },
     "metadata": {},
     "output_type": "display_data"
    },
    {
     "name": "stdout",
     "output_type": "stream",
     "text": [
      "\n",
      "📘 Epoch 364/1000 - Train Loss: 2.0553\n"
     ]
    },
    {
     "data": {
      "application/vnd.jupyter.widget-view+json": {
       "model_id": "ca3e4c97a2784761bd450ba45c36f45b",
       "version_major": 2,
       "version_minor": 0
      },
      "text/plain": [
       "Validating:   0%|          | 0/250 [00:00<?, ?it/s]"
      ]
     },
     "metadata": {},
     "output_type": "display_data"
    },
    {
     "name": "stdout",
     "output_type": "stream",
     "text": [
      "📗 Validation - Loss: 1.8811, Perplexity: 6.56, Token Acc: 41.38%\n",
      "✅ Saved checkpoint: checkpoints/blt_epoch364.pt\n"
     ]
    },
    {
     "data": {
      "application/vnd.jupyter.widget-view+json": {
       "model_id": "0dc1587fcb6c4f71a4baab076622fe03",
       "version_major": 2,
       "version_minor": 0
      },
      "text/plain": [
       "Epoch 365/1000 [Training]:   0%|          | 0/1125 [00:00<?, ?it/s]"
      ]
     },
     "metadata": {},
     "output_type": "display_data"
    },
    {
     "name": "stdout",
     "output_type": "stream",
     "text": [
      "\n",
      "📘 Epoch 365/1000 - Train Loss: 2.0542\n"
     ]
    },
    {
     "data": {
      "application/vnd.jupyter.widget-view+json": {
       "model_id": "ab172a4e5a154b0aa0678e5e468c5c40",
       "version_major": 2,
       "version_minor": 0
      },
      "text/plain": [
       "Validating:   0%|          | 0/250 [00:00<?, ?it/s]"
      ]
     },
     "metadata": {},
     "output_type": "display_data"
    },
    {
     "name": "stdout",
     "output_type": "stream",
     "text": [
      "📗 Validation - Loss: 1.8811, Perplexity: 6.56, Token Acc: 41.37%\n"
     ]
    },
    {
     "data": {
      "application/vnd.jupyter.widget-view+json": {
       "model_id": "2e777b4104e64ea8b42f97b933d21cd2",
       "version_major": 2,
       "version_minor": 0
      },
      "text/plain": [
       "Epoch 366/1000 [Training]:   0%|          | 0/1125 [00:00<?, ?it/s]"
      ]
     },
     "metadata": {},
     "output_type": "display_data"
    },
    {
     "name": "stdout",
     "output_type": "stream",
     "text": [
      "\n",
      "📘 Epoch 366/1000 - Train Loss: 2.0537\n"
     ]
    },
    {
     "data": {
      "application/vnd.jupyter.widget-view+json": {
       "model_id": "fdd31d4e67404d4fb32a4abcc0b5cd18",
       "version_major": 2,
       "version_minor": 0
      },
      "text/plain": [
       "Validating:   0%|          | 0/250 [00:00<?, ?it/s]"
      ]
     },
     "metadata": {},
     "output_type": "display_data"
    },
    {
     "name": "stdout",
     "output_type": "stream",
     "text": [
      "📗 Validation - Loss: 1.8811, Perplexity: 6.56, Token Acc: 41.36%\n",
      "✅ Saved checkpoint: checkpoints/blt_epoch366.pt\n"
     ]
    },
    {
     "data": {
      "application/vnd.jupyter.widget-view+json": {
       "model_id": "81f1e9feb851495494e6edfba42f4c4c",
       "version_major": 2,
       "version_minor": 0
      },
      "text/plain": [
       "Epoch 367/1000 [Training]:   0%|          | 0/1125 [00:00<?, ?it/s]"
      ]
     },
     "metadata": {},
     "output_type": "display_data"
    },
    {
     "name": "stdout",
     "output_type": "stream",
     "text": [
      "\n",
      "📘 Epoch 367/1000 - Train Loss: 2.0537\n"
     ]
    },
    {
     "data": {
      "application/vnd.jupyter.widget-view+json": {
       "model_id": "438d2c6d133847bca624af5504cf48bf",
       "version_major": 2,
       "version_minor": 0
      },
      "text/plain": [
       "Validating:   0%|          | 0/250 [00:00<?, ?it/s]"
      ]
     },
     "metadata": {},
     "output_type": "display_data"
    },
    {
     "name": "stdout",
     "output_type": "stream",
     "text": [
      "📗 Validation - Loss: 1.8811, Perplexity: 6.56, Token Acc: 41.37%\n"
     ]
    },
    {
     "data": {
      "application/vnd.jupyter.widget-view+json": {
       "model_id": "49664ff030944a3bbb45bcf0d9baaad9",
       "version_major": 2,
       "version_minor": 0
      },
      "text/plain": [
       "Epoch 368/1000 [Training]:   0%|          | 0/1125 [00:00<?, ?it/s]"
      ]
     },
     "metadata": {},
     "output_type": "display_data"
    },
    {
     "name": "stdout",
     "output_type": "stream",
     "text": [
      "\n",
      "📘 Epoch 368/1000 - Train Loss: 2.0535\n"
     ]
    },
    {
     "data": {
      "application/vnd.jupyter.widget-view+json": {
       "model_id": "b6bcaa09cede4cb0bac74189fc4d7a85",
       "version_major": 2,
       "version_minor": 0
      },
      "text/plain": [
       "Validating:   0%|          | 0/250 [00:00<?, ?it/s]"
      ]
     },
     "metadata": {},
     "output_type": "display_data"
    },
    {
     "name": "stdout",
     "output_type": "stream",
     "text": [
      "📗 Validation - Loss: 1.8811, Perplexity: 6.56, Token Acc: 41.37%\n",
      "✅ Saved checkpoint: checkpoints/blt_epoch368.pt\n"
     ]
    },
    {
     "data": {
      "application/vnd.jupyter.widget-view+json": {
       "model_id": "22e4e7c5e620491bb37fa869fb880a90",
       "version_major": 2,
       "version_minor": 0
      },
      "text/plain": [
       "Epoch 369/1000 [Training]:   0%|          | 0/1125 [00:00<?, ?it/s]"
      ]
     },
     "metadata": {},
     "output_type": "display_data"
    },
    {
     "name": "stdout",
     "output_type": "stream",
     "text": [
      "\n",
      "📘 Epoch 369/1000 - Train Loss: 2.0528\n"
     ]
    },
    {
     "data": {
      "application/vnd.jupyter.widget-view+json": {
       "model_id": "94dd1b78642845b3ba95f6a8e59e6c4e",
       "version_major": 2,
       "version_minor": 0
      },
      "text/plain": [
       "Validating:   0%|          | 0/250 [00:00<?, ?it/s]"
      ]
     },
     "metadata": {},
     "output_type": "display_data"
    },
    {
     "name": "stdout",
     "output_type": "stream",
     "text": [
      "📗 Validation - Loss: 1.8811, Perplexity: 6.56, Token Acc: 41.37%\n"
     ]
    },
    {
     "data": {
      "application/vnd.jupyter.widget-view+json": {
       "model_id": "145b79e2073242a4859986534f61eaa7",
       "version_major": 2,
       "version_minor": 0
      },
      "text/plain": [
       "Epoch 370/1000 [Training]:   0%|          | 0/1125 [00:00<?, ?it/s]"
      ]
     },
     "metadata": {},
     "output_type": "display_data"
    },
    {
     "name": "stdout",
     "output_type": "stream",
     "text": [
      "\n",
      "📘 Epoch 370/1000 - Train Loss: 2.0527\n"
     ]
    },
    {
     "data": {
      "application/vnd.jupyter.widget-view+json": {
       "model_id": "5bec558cd7de425eb379a9e6d28890f3",
       "version_major": 2,
       "version_minor": 0
      },
      "text/plain": [
       "Validating:   0%|          | 0/250 [00:00<?, ?it/s]"
      ]
     },
     "metadata": {},
     "output_type": "display_data"
    },
    {
     "name": "stdout",
     "output_type": "stream",
     "text": [
      "📗 Validation - Loss: 1.8811, Perplexity: 6.56, Token Acc: 41.37%\n",
      "✅ Saved checkpoint: checkpoints/blt_epoch370.pt\n"
     ]
    },
    {
     "data": {
      "application/vnd.jupyter.widget-view+json": {
       "model_id": "afe3e69735004d548d6308cd8ee3b959",
       "version_major": 2,
       "version_minor": 0
      },
      "text/plain": [
       "Epoch 371/1000 [Training]:   0%|          | 0/1125 [00:00<?, ?it/s]"
      ]
     },
     "metadata": {},
     "output_type": "display_data"
    },
    {
     "name": "stdout",
     "output_type": "stream",
     "text": [
      "\n",
      "📘 Epoch 371/1000 - Train Loss: 2.0531\n"
     ]
    },
    {
     "data": {
      "application/vnd.jupyter.widget-view+json": {
       "model_id": "789cf7501c7d4d5b8a08dfa0ea10c98b",
       "version_major": 2,
       "version_minor": 0
      },
      "text/plain": [
       "Validating:   0%|          | 0/250 [00:00<?, ?it/s]"
      ]
     },
     "metadata": {},
     "output_type": "display_data"
    },
    {
     "name": "stdout",
     "output_type": "stream",
     "text": [
      "📗 Validation - Loss: 1.8811, Perplexity: 6.56, Token Acc: 41.36%\n"
     ]
    },
    {
     "data": {
      "application/vnd.jupyter.widget-view+json": {
       "model_id": "ddd119dd3c124de188e15bc688bdd353",
       "version_major": 2,
       "version_minor": 0
      },
      "text/plain": [
       "Epoch 372/1000 [Training]:   0%|          | 0/1125 [00:00<?, ?it/s]"
      ]
     },
     "metadata": {},
     "output_type": "display_data"
    },
    {
     "name": "stdout",
     "output_type": "stream",
     "text": [
      "\n",
      "📘 Epoch 372/1000 - Train Loss: 2.0529\n"
     ]
    },
    {
     "data": {
      "application/vnd.jupyter.widget-view+json": {
       "model_id": "faccc2b7d9de40f680240840e2fedf86",
       "version_major": 2,
       "version_minor": 0
      },
      "text/plain": [
       "Validating:   0%|          | 0/250 [00:00<?, ?it/s]"
      ]
     },
     "metadata": {},
     "output_type": "display_data"
    },
    {
     "name": "stdout",
     "output_type": "stream",
     "text": [
      "📗 Validation - Loss: 1.8811, Perplexity: 6.56, Token Acc: 41.36%\n",
      "✅ Saved checkpoint: checkpoints/blt_epoch372.pt\n"
     ]
    },
    {
     "data": {
      "application/vnd.jupyter.widget-view+json": {
       "model_id": "dbaf1055b4ea4a508ae2ac46fcfccd14",
       "version_major": 2,
       "version_minor": 0
      },
      "text/plain": [
       "Epoch 373/1000 [Training]:   0%|          | 0/1125 [00:00<?, ?it/s]"
      ]
     },
     "metadata": {},
     "output_type": "display_data"
    },
    {
     "name": "stdout",
     "output_type": "stream",
     "text": [
      "\n",
      "📘 Epoch 373/1000 - Train Loss: 2.0546\n"
     ]
    },
    {
     "data": {
      "application/vnd.jupyter.widget-view+json": {
       "model_id": "4c1af81dcf64450ba60d26b02fefd567",
       "version_major": 2,
       "version_minor": 0
      },
      "text/plain": [
       "Validating:   0%|          | 0/250 [00:00<?, ?it/s]"
      ]
     },
     "metadata": {},
     "output_type": "display_data"
    },
    {
     "name": "stdout",
     "output_type": "stream",
     "text": [
      "📗 Validation - Loss: 1.8811, Perplexity: 6.56, Token Acc: 41.37%\n"
     ]
    },
    {
     "data": {
      "application/vnd.jupyter.widget-view+json": {
       "model_id": "1cf054c57ad94935b82f7e4d86b85cb4",
       "version_major": 2,
       "version_minor": 0
      },
      "text/plain": [
       "Epoch 374/1000 [Training]:   0%|          | 0/1125 [00:00<?, ?it/s]"
      ]
     },
     "metadata": {},
     "output_type": "display_data"
    },
    {
     "ename": "KeyboardInterrupt",
     "evalue": "",
     "output_type": "error",
     "traceback": [
      "\u001b[31m---------------------------------------------------------------------------\u001b[39m",
      "\u001b[31mKeyboardInterrupt\u001b[39m                         Traceback (most recent call last)",
      "\u001b[36mCell\u001b[39m\u001b[36m \u001b[39m\u001b[32mIn[19]\u001b[39m\u001b[32m, line 18\u001b[39m\n\u001b[32m      9\u001b[39m     torch.set_float32_matmul_precision(\u001b[33m\"\u001b[39m\u001b[33mhigh\u001b[39m\u001b[33m\"\u001b[39m)\n\u001b[32m     11\u001b[39m model = BLTModel(\n\u001b[32m     12\u001b[39m     vocab_size=\u001b[38;5;28mlen\u001b[39m(VOCAB), \n\u001b[32m     13\u001b[39m     d_model=\u001b[32m64\u001b[39m, \n\u001b[32m     14\u001b[39m     nhead=\u001b[32m4\u001b[39m, \n\u001b[32m     15\u001b[39m     dropout=\u001b[32m0.1\u001b[39m\n\u001b[32m     16\u001b[39m )\n\u001b[32m---> \u001b[39m\u001b[32m18\u001b[39m \u001b[43mtrain_blt\u001b[49m\u001b[43m(\u001b[49m\n\u001b[32m     19\u001b[39m \u001b[43m    \u001b[49m\u001b[43mmodel\u001b[49m\u001b[43m=\u001b[49m\u001b[43mmodel\u001b[49m\u001b[43m,\u001b[49m\n\u001b[32m     20\u001b[39m \u001b[43m    \u001b[49m\u001b[43mtrain_loader\u001b[49m\u001b[43m=\u001b[49m\u001b[43mtrain_loader\u001b[49m\u001b[43m,\u001b[49m\n\u001b[32m     21\u001b[39m \u001b[43m    \u001b[49m\u001b[43mval_loader\u001b[49m\u001b[43m=\u001b[49m\u001b[43mval_loader\u001b[49m\u001b[43m,\u001b[49m\n\u001b[32m     22\u001b[39m \u001b[43m    \u001b[49m\u001b[43mnum_epochs\u001b[49m\u001b[43m=\u001b[49m\u001b[43mNUM_EPOCHS\u001b[49m\u001b[43m,\u001b[49m\n\u001b[32m     23\u001b[39m \u001b[43m    \u001b[49m\u001b[43mlr\u001b[49m\u001b[43m=\u001b[49m\u001b[43mLEARNING_RATE\u001b[49m\u001b[43m,\u001b[49m\n\u001b[32m     24\u001b[39m \u001b[43m    \u001b[49m\u001b[43mdevice\u001b[49m\u001b[43m=\u001b[49m\u001b[43mdevice\u001b[49m\u001b[43m,\u001b[49m\n\u001b[32m     25\u001b[39m \u001b[43m    \u001b[49m\u001b[43msave_every\u001b[49m\u001b[43m=\u001b[49m\u001b[43mSAVE_EVERY\u001b[49m\u001b[43m,\u001b[49m\n\u001b[32m     26\u001b[39m \u001b[43m    \u001b[49m\u001b[43mresume_path\u001b[49m\u001b[43m=\u001b[49m\u001b[33;43m\"\u001b[39;49m\u001b[33;43mcheckpoints/blt_epoch304.pt\u001b[39;49m\u001b[33;43m\"\u001b[39;49m\n\u001b[32m     27\u001b[39m \u001b[43m\u001b[49m\u001b[43m)\u001b[49m\n",
      "\u001b[36mCell\u001b[39m\u001b[36m \u001b[39m\u001b[32mIn[17]\u001b[39m\u001b[32m, line 54\u001b[39m, in \u001b[36mtrain_blt\u001b[39m\u001b[34m(model, train_loader, val_loader, num_epochs, lr, device, save_every, resume_path)\u001b[39m\n\u001b[32m     51\u001b[39m tgt_out = tgt_padded[:, \u001b[32m1\u001b[39m:]\n\u001b[32m     52\u001b[39m tgt_pad_mask = (tgt_inp == PAD_IDX)\n\u001b[32m---> \u001b[39m\u001b[32m54\u001b[39m logits = \u001b[43mmodel\u001b[49m\u001b[43m(\u001b[49m\u001b[43msrc_patches\u001b[49m\u001b[43m,\u001b[49m\u001b[43m \u001b[49m\u001b[43mtgt_inp\u001b[49m\u001b[43m,\u001b[49m\u001b[43m \u001b[49m\u001b[43mtgt_pad_mask\u001b[49m\u001b[43m)\u001b[49m\n\u001b[32m     55\u001b[39m loss = criterion(logits.reshape(-\u001b[32m1\u001b[39m, logits.shape[-\u001b[32m1\u001b[39m]), tgt_out.reshape(-\u001b[32m1\u001b[39m))\n\u001b[32m     57\u001b[39m optimizer.zero_grad()\n",
      "\u001b[36mFile \u001b[39m\u001b[32m/Library/Frameworks/Python.framework/Versions/3.13/lib/python3.13/site-packages/torch/nn/modules/module.py:1775\u001b[39m, in \u001b[36mModule._wrapped_call_impl\u001b[39m\u001b[34m(self, *args, **kwargs)\u001b[39m\n\u001b[32m   1773\u001b[39m     \u001b[38;5;28;01mreturn\u001b[39;00m \u001b[38;5;28mself\u001b[39m._compiled_call_impl(*args, **kwargs)  \u001b[38;5;66;03m# type: ignore[misc]\u001b[39;00m\n\u001b[32m   1774\u001b[39m \u001b[38;5;28;01melse\u001b[39;00m:\n\u001b[32m-> \u001b[39m\u001b[32m1775\u001b[39m     \u001b[38;5;28;01mreturn\u001b[39;00m \u001b[38;5;28;43mself\u001b[39;49m\u001b[43m.\u001b[49m\u001b[43m_call_impl\u001b[49m\u001b[43m(\u001b[49m\u001b[43m*\u001b[49m\u001b[43margs\u001b[49m\u001b[43m,\u001b[49m\u001b[43m \u001b[49m\u001b[43m*\u001b[49m\u001b[43m*\u001b[49m\u001b[43mkwargs\u001b[49m\u001b[43m)\u001b[49m\n",
      "\u001b[36mFile \u001b[39m\u001b[32m/Library/Frameworks/Python.framework/Versions/3.13/lib/python3.13/site-packages/torch/nn/modules/module.py:1786\u001b[39m, in \u001b[36mModule._call_impl\u001b[39m\u001b[34m(self, *args, **kwargs)\u001b[39m\n\u001b[32m   1781\u001b[39m \u001b[38;5;66;03m# If we don't have any hooks, we want to skip the rest of the logic in\u001b[39;00m\n\u001b[32m   1782\u001b[39m \u001b[38;5;66;03m# this function, and just call forward.\u001b[39;00m\n\u001b[32m   1783\u001b[39m \u001b[38;5;28;01mif\u001b[39;00m \u001b[38;5;129;01mnot\u001b[39;00m (\u001b[38;5;28mself\u001b[39m._backward_hooks \u001b[38;5;129;01mor\u001b[39;00m \u001b[38;5;28mself\u001b[39m._backward_pre_hooks \u001b[38;5;129;01mor\u001b[39;00m \u001b[38;5;28mself\u001b[39m._forward_hooks \u001b[38;5;129;01mor\u001b[39;00m \u001b[38;5;28mself\u001b[39m._forward_pre_hooks\n\u001b[32m   1784\u001b[39m         \u001b[38;5;129;01mor\u001b[39;00m _global_backward_pre_hooks \u001b[38;5;129;01mor\u001b[39;00m _global_backward_hooks\n\u001b[32m   1785\u001b[39m         \u001b[38;5;129;01mor\u001b[39;00m _global_forward_hooks \u001b[38;5;129;01mor\u001b[39;00m _global_forward_pre_hooks):\n\u001b[32m-> \u001b[39m\u001b[32m1786\u001b[39m     \u001b[38;5;28;01mreturn\u001b[39;00m \u001b[43mforward_call\u001b[49m\u001b[43m(\u001b[49m\u001b[43m*\u001b[49m\u001b[43margs\u001b[49m\u001b[43m,\u001b[49m\u001b[43m \u001b[49m\u001b[43m*\u001b[49m\u001b[43m*\u001b[49m\u001b[43mkwargs\u001b[49m\u001b[43m)\u001b[49m\n\u001b[32m   1788\u001b[39m result = \u001b[38;5;28;01mNone\u001b[39;00m\n\u001b[32m   1789\u001b[39m called_always_called_hooks = \u001b[38;5;28mset\u001b[39m()\n",
      "\u001b[36mCell\u001b[39m\u001b[36m \u001b[39m\u001b[32mIn[15]\u001b[39m\u001b[32m, line 55\u001b[39m, in \u001b[36mBLTModel.forward\u001b[39m\u001b[34m(self, src_patches_batch, tgt_inp, tgt_pad_mask)\u001b[39m\n\u001b[32m     53\u001b[39m         sample_emb = torch.zeros(\u001b[32m1\u001b[39m, \u001b[38;5;28mself\u001b[39m.d_model, device=device)\n\u001b[32m     54\u001b[39m     \u001b[38;5;28;01melse\u001b[39;00m:\n\u001b[32m---> \u001b[39m\u001b[32m55\u001b[39m         sample_emb = torch.stack([\u001b[38;5;28;43mself\u001b[39;49m\u001b[43m.\u001b[49m\u001b[43mpatch_embedder\u001b[49m\u001b[43m(\u001b[49m\u001b[43mp\u001b[49m\u001b[43m)\u001b[49m \u001b[38;5;28;01mfor\u001b[39;00m p \u001b[38;5;129;01min\u001b[39;00m patch_list])\n\u001b[32m     56\u001b[39m     batch_embeddings.append(sample_emb)\n\u001b[32m     58\u001b[39m src_emb = pad_sequence(batch_embeddings, batch_first=\u001b[38;5;28;01mTrue\u001b[39;00m, padding_value=\u001b[32m0.0\u001b[39m)\n",
      "\u001b[36mFile \u001b[39m\u001b[32m/Library/Frameworks/Python.framework/Versions/3.13/lib/python3.13/site-packages/torch/nn/modules/module.py:1775\u001b[39m, in \u001b[36mModule._wrapped_call_impl\u001b[39m\u001b[34m(self, *args, **kwargs)\u001b[39m\n\u001b[32m   1773\u001b[39m     \u001b[38;5;28;01mreturn\u001b[39;00m \u001b[38;5;28mself\u001b[39m._compiled_call_impl(*args, **kwargs)  \u001b[38;5;66;03m# type: ignore[misc]\u001b[39;00m\n\u001b[32m   1774\u001b[39m \u001b[38;5;28;01melse\u001b[39;00m:\n\u001b[32m-> \u001b[39m\u001b[32m1775\u001b[39m     \u001b[38;5;28;01mreturn\u001b[39;00m \u001b[38;5;28;43mself\u001b[39;49m\u001b[43m.\u001b[49m\u001b[43m_call_impl\u001b[49m\u001b[43m(\u001b[49m\u001b[43m*\u001b[49m\u001b[43margs\u001b[49m\u001b[43m,\u001b[49m\u001b[43m \u001b[49m\u001b[43m*\u001b[49m\u001b[43m*\u001b[49m\u001b[43mkwargs\u001b[49m\u001b[43m)\u001b[49m\n",
      "\u001b[36mFile \u001b[39m\u001b[32m/Library/Frameworks/Python.framework/Versions/3.13/lib/python3.13/site-packages/torch/nn/modules/module.py:1786\u001b[39m, in \u001b[36mModule._call_impl\u001b[39m\u001b[34m(self, *args, **kwargs)\u001b[39m\n\u001b[32m   1781\u001b[39m \u001b[38;5;66;03m# If we don't have any hooks, we want to skip the rest of the logic in\u001b[39;00m\n\u001b[32m   1782\u001b[39m \u001b[38;5;66;03m# this function, and just call forward.\u001b[39;00m\n\u001b[32m   1783\u001b[39m \u001b[38;5;28;01mif\u001b[39;00m \u001b[38;5;129;01mnot\u001b[39;00m (\u001b[38;5;28mself\u001b[39m._backward_hooks \u001b[38;5;129;01mor\u001b[39;00m \u001b[38;5;28mself\u001b[39m._backward_pre_hooks \u001b[38;5;129;01mor\u001b[39;00m \u001b[38;5;28mself\u001b[39m._forward_hooks \u001b[38;5;129;01mor\u001b[39;00m \u001b[38;5;28mself\u001b[39m._forward_pre_hooks\n\u001b[32m   1784\u001b[39m         \u001b[38;5;129;01mor\u001b[39;00m _global_backward_pre_hooks \u001b[38;5;129;01mor\u001b[39;00m _global_backward_hooks\n\u001b[32m   1785\u001b[39m         \u001b[38;5;129;01mor\u001b[39;00m _global_forward_hooks \u001b[38;5;129;01mor\u001b[39;00m _global_forward_pre_hooks):\n\u001b[32m-> \u001b[39m\u001b[32m1786\u001b[39m     \u001b[38;5;28;01mreturn\u001b[39;00m \u001b[43mforward_call\u001b[49m\u001b[43m(\u001b[49m\u001b[43m*\u001b[49m\u001b[43margs\u001b[49m\u001b[43m,\u001b[49m\u001b[43m \u001b[49m\u001b[43m*\u001b[49m\u001b[43m*\u001b[49m\u001b[43mkwargs\u001b[49m\u001b[43m)\u001b[49m\n\u001b[32m   1788\u001b[39m result = \u001b[38;5;28;01mNone\u001b[39;00m\n\u001b[32m   1789\u001b[39m called_always_called_hooks = \u001b[38;5;28mset\u001b[39m()\n",
      "\u001b[36mCell\u001b[39m\u001b[36m \u001b[39m\u001b[32mIn[8]\u001b[39m\u001b[32m, line 29\u001b[39m, in \u001b[36mPatchEmbedder.forward\u001b[39m\u001b[34m(self, patch)\u001b[39m\n\u001b[32m     27\u001b[39m     \u001b[38;5;28;01mfor\u001b[39;00m ng \u001b[38;5;129;01min\u001b[39;00m ngrams:\n\u001b[32m     28\u001b[39m         bucket = hash_ngram(ng, \u001b[38;5;28mself\u001b[39m.num_buckets)\n\u001b[32m---> \u001b[39m\u001b[32m29\u001b[39m         idx = \u001b[43mtorch\u001b[49m\u001b[43m.\u001b[49m\u001b[43mtensor\u001b[49m\u001b[43m(\u001b[49m\u001b[43mbucket\u001b[49m\u001b[43m,\u001b[49m\u001b[43m \u001b[49m\u001b[43mdtype\u001b[49m\u001b[43m=\u001b[49m\u001b[43mtorch\u001b[49m\u001b[43m.\u001b[49m\u001b[43mlong\u001b[49m\u001b[43m,\u001b[49m\u001b[43m \u001b[49m\u001b[43mdevice\u001b[49m\u001b[43m=\u001b[49m\u001b[43mdevice\u001b[49m\u001b[43m)\u001b[49m\n\u001b[32m     30\u001b[39m         vectors.append(\u001b[38;5;28mself\u001b[39m.embeddings[\u001b[38;5;28mstr\u001b[39m(n)](idx))\n\u001b[32m     32\u001b[39m \u001b[38;5;28;01mif\u001b[39;00m \u001b[38;5;28mlen\u001b[39m(vectors) == \u001b[32m0\u001b[39m:\n",
      "\u001b[31mKeyboardInterrupt\u001b[39m: "
     ]
    }
   ],
   "source": [
    "if __name__ == '__main__':\n",
    "    LEARNING_RATE = 1e-4\n",
    "    BATCH_SIZE = 8\n",
    "    NUM_EPOCHS = 1000\n",
    "    SAVE_EVERY = 2\n",
    "\n",
    "    device = torch.device(\"mps\" if torch.backends.mps.is_available() else \"cpu\")\n",
    "    if device.type == \"mps\":\n",
    "        torch.set_float32_matmul_precision(\"high\")\n",
    "\n",
    "    model = BLTModel(\n",
    "        vocab_size=len(VOCAB), \n",
    "        d_model=64, \n",
    "        nhead=4, \n",
    "        dropout=0.1\n",
    "    )\n",
    "\n",
    "    train_blt(\n",
    "        model=model,\n",
    "        train_loader=train_loader,\n",
    "        val_loader=val_loader,\n",
    "        num_epochs=NUM_EPOCHS,\n",
    "        lr=LEARNING_RATE,\n",
    "        device=device,\n",
    "        save_every=SAVE_EVERY,\n",
    "        resume_path=\"checkpoints/blt_epoch372.pt\"\n",
    "    )"
   ]
  },
  {
   "cell_type": "markdown",
   "id": "9b3cfa26",
   "metadata": {},
   "source": [
    "## Testing and Validating BLT"
   ]
  },
  {
   "cell_type": "code",
   "execution_count": null,
   "id": "306f8464",
   "metadata": {},
   "outputs": [
    {
     "name": "stdout",
     "output_type": "stream",
     "text": [
      "✅ Loaded checkpoint from epoch 372\n"
     ]
    },
    {
     "data": {
      "application/vnd.jupyter.widget-view+json": {
       "model_id": "2cdf500570fe4aa99e41dcfc36db07c0",
       "version_major": 2,
       "version_minor": 0
      },
      "text/plain": [
       "🧪 Evaluating Test Set:   0%|          | 0/250 [00:00<?, ?it/s]"
      ]
     },
     "metadata": {},
     "output_type": "display_data"
    },
    {
     "name": "stderr",
     "output_type": "stream",
     "text": [
      "/Library/Frameworks/Python.framework/Versions/3.13/lib/python3.13/site-packages/torch/nn/functional.py:6044: UserWarning: Support for mismatched key_padding_mask and attn_mask is deprecated. Use same type for both instead.\n",
      "  warnings.warn(\n"
     ]
    },
    {
     "name": "stdout",
     "output_type": "stream",
     "text": [
      "\n",
      "--- 📊 Final BLT Model Evaluation ---\n",
      "  - Final Train Loss:    2.0529 (from checkpoint)\n",
      "--------------------------------------\n",
      "  - Test Loss:           1.8941\n",
      "  - Test Token Accuracy: 41.02%\n",
      "  - Test Perplexity:     6.65\n",
      "--------------------------------------\n"
     ]
    }
   ],
   "source": [
    "import torch\n",
    "import torch.nn as nn\n",
    "import pandas as pd\n",
    "import os\n",
    "import math\n",
    "from torch.utils.data import DataLoader\n",
    "from tqdm.auto import tqdm\n",
    "\n",
    "# --- Step 1: Define ALL necessary components from your training script ---\n",
    "# This makes the script runnable on its own.\n",
    "\n",
    "# Assume your core helper functions are defined here:\n",
    "# patchify, hash_ngram, extract_ngrams\n",
    "\n",
    "# Assume your model classes are defined here:\n",
    "# PatchEmbedder, PositionalEncoding, BLTModel\n",
    "\n",
    "# --- Step 2: The Simplified Evaluation Function ---\n",
    "\n",
    "@torch.no_grad()\n",
    "def evaluate_final_model(model_class, vocab_size, ckpt_path, test_loader, device):\n",
    "    \"\"\"\n",
    "    Loads a model from a checkpoint and evaluates it on the test set.\n",
    "    \"\"\"\n",
    "    if not os.path.exists(ckpt_path):\n",
    "        raise FileNotFoundError(f\"Checkpoint not found at: {ckpt_path}\")\n",
    "\n",
    "    # --- Load Checkpoint and Model ---\n",
    "    checkpoint = torch.load(ckpt_path, map_location=device)\n",
    "    \n",
    "    # Instantiate the model with the correct architecture\n",
    "    model = model_class(\n",
    "        vocab_size=vocab_size, \n",
    "        d_model=64, \n",
    "        nhead=4, \n",
    "        dropout=0.1\n",
    "    ).to(device)\n",
    "    \n",
    "    model.load_state_dict(checkpoint[\"model_state\"])\n",
    "    model.eval()\n",
    "    \n",
    "    print(f\"✅ Loaded checkpoint from epoch {checkpoint['epoch']}\")\n",
    "\n",
    "    # --- Extract Metrics from Checkpoint ---\n",
    "    train_loss = checkpoint.get('loss', 'N/A') # .get is safer\n",
    "    \n",
    "    # --- Evaluation Loop ---\n",
    "    criterion = nn.CrossEntropyLoss(ignore_index=PAD_IDX)\n",
    "    total_loss = 0.0\n",
    "    correct_tokens = 0\n",
    "    total_tokens = 0\n",
    "\n",
    "    progress_bar = tqdm(test_loader, desc=\"🧪 Evaluating Test Set\")\n",
    "    for src_patches, tgt_padded in progress_bar:\n",
    "        # Correctly handle the new data format\n",
    "        tgt_padded = tgt_padded.to(device)\n",
    "        tgt_inp = tgt_padded[:, :-1]\n",
    "        tgt_out = tgt_padded[:, 1:]\n",
    "        tgt_pad_mask = (tgt_inp == PAD_IDX)\n",
    "        \n",
    "        # Correctly call the model\n",
    "        logits = model(src_patches, tgt_inp, tgt_pad_mask)\n",
    "\n",
    "        # Calculate Loss\n",
    "        loss = criterion(logits.reshape(-1, logits.shape[-1]), tgt_out.reshape(-1))\n",
    "        total_loss += loss.item()\n",
    "\n",
    "        # Calculate Accuracy\n",
    "        preds = logits.argmax(dim=-1)\n",
    "        mask = (tgt_out != PAD_IDX)\n",
    "        correct_tokens += ((preds == tgt_out) & mask).sum().item()\n",
    "        total_tokens += mask.sum().item()\n",
    "\n",
    "    # --- Calculate Final Metrics ---\n",
    "    avg_test_loss = total_loss / len(test_loader)\n",
    "    accuracy = 100.0 * correct_tokens / total_tokens if total_tokens > 0 else 0\n",
    "    perplexity = math.exp(avg_test_loss) if avg_test_loss < 100 else float('inf')\n",
    "    \n",
    "    return {\n",
    "        \"train_loss\": train_loss,\n",
    "        \"test_loss\": avg_test_loss,\n",
    "        \"accuracy\": accuracy,\n",
    "        \"perplexity\": perplexity\n",
    "    }\n",
    "\n",
    "# --- Step 3: Main Execution Block ---\n",
    "\n",
    "if __name__ == '__main__':\n",
    "    # --- Configuration ---\n",
    "    CHECKPOINT_PATH = \"checkpoints/blt_epoch372.pt\" # The final model to test\n",
    "    BATCH_SIZE = 8\n",
    "    \n",
    "    # Setup device\n",
    "    device = torch.device(\"mps\" if torch.backends.mps.is_available() else \"cpu\")\n",
    "\n",
    "    # --- Load Data ---\n",
    "    # You must have the test.csv file available\n",
    "    test_ds = BLTDataset(csv_path=\"./../data/test.csv\")\n",
    "    test_loader = DataLoader(\n",
    "        test_ds,\n",
    "        batch_size=BATCH_SIZE,\n",
    "        shuffle=False,\n",
    "        collate_fn=blt_collate_fn\n",
    "    )\n",
    "\n",
    "    # --- Run Evaluation ---\n",
    "    results = evaluate_final_model(\n",
    "        model_class=BLTModel,\n",
    "        vocab_size=len(VOCAB),\n",
    "        ckpt_path=CHECKPOINT_PATH,\n",
    "        test_loader=test_loader,\n",
    "        device=device\n",
    "    )\n",
    "\n",
    "    # --- Print a Clean Report ---\n",
    "    print(\"\\n--- 📊 Final BLT Model Evaluation ---\")\n",
    "    print(f\"  - Final Train Loss:    {results['train_loss']:.4f} (from checkpoint)\")\n",
    "    print(\"--------------------------------------\")\n",
    "    print(f\"  - Test Loss:           {results['test_loss']:.4f}\")\n",
    "    print(f\"  - Test Token Accuracy: {results['accuracy']:.2f}%\")\n",
    "    print(f\"  - Test Perplexity:     {results['perplexity']:.2f}\")\n",
    "    print(\"--------------------------------------\")"
   ]
  },
  {
   "cell_type": "markdown",
   "id": "3ebaed90",
   "metadata": {},
   "source": [
    "### Calculate the average number of patches for your BLT model"
   ]
  },
  {
   "cell_type": "code",
   "execution_count": 19,
   "id": "c6bf68ca",
   "metadata": {},
   "outputs": [
    {
     "name": "stdout",
     "output_type": "stream",
     "text": [
      "Calculating average patch count for 2000 samples in ./../data/test.csv...\n"
     ]
    },
    {
     "data": {
      "application/vnd.jupyter.widget-view+json": {
       "model_id": "37099694c5c64ee3954cd92b683c622b",
       "version_major": 2,
       "version_minor": 0
      },
      "text/plain": [
       "Processing Inputs:   0%|          | 0/2000 [00:00<?, ?it/s]"
      ]
     },
     "metadata": {},
     "output_type": "display_data"
    },
    {
     "name": "stdout",
     "output_type": "stream",
     "text": [
      "\n",
      "--- Calculation Complete ---\n",
      "Total number of samples: 2000\n",
      "Total patches generated: 12720\n",
      "Average number of patches per sample: 6.36\n"
     ]
    }
   ],
   "source": [
    "test_csv_path = \"./../data/test.csv\" # Path to your test data\n",
    "\n",
    "try:\n",
    "    test_df = pd.read_csv(test_csv_path)\n",
    "except FileNotFoundError:\n",
    "    print(f\"ERROR: Test file not found at {test_csv_path}\")\n",
    "    exit()\n",
    "\n",
    "total_patches = 0\n",
    "num_samples = len(test_df)\n",
    "\n",
    "print(f\"Calculating average patch count for {num_samples} samples in {test_csv_path}...\")\n",
    "\n",
    "# Iterate through the 'input' column with a progress bar\n",
    "for input_text in tqdm(test_df['input'], desc=\"Processing Inputs\"):\n",
    "    patches = patchify(str(input_text)) # Ensure input is treated as string\n",
    "    total_patches += len(patches)\n",
    "\n",
    "# Calculate the average\n",
    "average_patches = total_patches / num_samples if num_samples > 0 else 0\n",
    "\n",
    "print(f\"\\n--- Calculation Complete ---\")\n",
    "print(f\"Total number of samples: {num_samples}\")\n",
    "print(f\"Total patches generated: {total_patches}\")\n",
    "print(f\"Average number of patches per sample: {average_patches:.2f}\")"
   ]
  },
  {
   "cell_type": "markdown",
   "id": "ed7fda4e",
   "metadata": {},
   "source": [
    "## Graphs and all"
   ]
  },
  {
   "cell_type": "code",
   "execution_count": null,
   "id": "5a0275dd",
   "metadata": {},
   "outputs": [
    {
     "name": "stdout",
     "output_type": "stream",
     "text": [
      "--- Successfully Parsed Metrics ---\n",
      "   epoch  train_loss  val_loss  val_perplexity  val_accuracy\n",
      "0      1      2.9616    2.6513           14.17         21.77\n",
      "1      2      2.6379    2.5659           13.01         23.33\n",
      "2      3      2.5791    2.5193           12.42         24.34\n",
      "3      4      2.5480    2.4904           12.07         25.07\n",
      "4      5      2.5237    2.4670           11.79         25.63\n",
      "\n",
      "✅ Graphs saved to 'training_metrics_plot.png'\n"
     ]
    },
    {
     "data": {
      "image/png": "[encoded data removed]",
      "text/plain": [
       "<Figure size 1000x1500 with 3 Axes>"
      ]
     },
     "metadata": {},
     "output_type": "display_data"
    }
   ],
   "source": [
    "import pandas as pd\n",
    "import re\n",
    "import matplotlib.pyplot as plt\n",
    "import seaborn as sns\n",
    "\n",
    "# --- User Configuration ---\n",
    "# Just change this to the name of your saved log file.\n",
    "LOG_FILE_PATH = \"training_log.txt\"\n",
    "\n",
    "def parse_log_file(file_path):\n",
    "    \"\"\"\n",
    "    Reads the training log file and extracts metrics using regular expressions.\n",
    "    This is extremely fast as it does not load any models.\n",
    "    \"\"\"\n",
    "    metrics = []\n",
    "    \n",
    "    # Regex to find the lines with our metrics\n",
    "    train_loss_regex = re.compile(r\"Epoch (\\d+)/\\d+ - Train Loss: ([\\d.]+)\")\n",
    "    val_metrics_regex = re.compile(r\"Validation - Loss: ([\\d.]+), Perplexity: ([\\d.]+), Token Acc: ([\\d.]+)%\")\n",
    "\n",
    "    try:\n",
    "        with open(file_path, 'r') as f:\n",
    "            lines = f.readlines()\n",
    "    except FileNotFoundError:\n",
    "        print(f\"ERROR: The log file was not found at '{file_path}'\")\n",
    "        print(\"Please save your training output to this file and try again.\")\n",
    "        return pd.DataFrame()\n",
    "\n",
    "    epoch_data = {}\n",
    "    for line in lines:\n",
    "        train_match = train_loss_regex.search(line)\n",
    "        val_match = val_metrics_regex.search(line)\n",
    "\n",
    "        if train_match:\n",
    "            # When we find a new training loss, we start a new record\n",
    "            if epoch_data: # Save the previous epoch's complete data\n",
    "                metrics.append(epoch_data)\n",
    "            epoch_data = {\n",
    "                \"epoch\": int(train_match.group(1)),\n",
    "                \"train_loss\": float(train_match.group(2))\n",
    "            }\n",
    "        \n",
    "        if val_match and epoch_data:\n",
    "            # Add validation metrics to the current epoch's record\n",
    "            epoch_data[\"val_loss\"] = float(val_match.group(1))\n",
    "            epoch_data[\"val_perplexity\"] = float(val_match.group(2))\n",
    "            epoch_data[\"val_accuracy\"] = float(val_match.group(3))\n",
    "\n",
    "    if epoch_data: # Append the last record\n",
    "        metrics.append(epoch_data)\n",
    "        \n",
    "    return pd.DataFrame(metrics)\n",
    "\n",
    "# --- Main Execution ---\n",
    "if __name__ == '__main__':\n",
    "    # 1. Parse the log file to get the metrics DataFrame\n",
    "    metrics_df = parse_log_file(LOG_FILE_PATH)\n",
    "\n",
    "    if metrics_df.empty:\n",
    "        print(\"Could not extract any data. Please check the log file content and path.\")\n",
    "    else:\n",
    "        print(\"--- Successfully Parsed Metrics ---\")\n",
    "        print(metrics_df.head())\n",
    "\n",
    "        # 2. Plotting the results\n",
    "        sns.set_theme(style=\"whitegrid\")\n",
    "        fig, axes = plt.subplots(3, 1, figsize=(10, 15), sharex=True)\n",
    "        fig.suptitle('BLT Model Training Metrics', fontsize=16)\n",
    "\n",
    "        # Plot 1: Training vs. Validation Loss\n",
    "        sns.lineplot(data=metrics_df, x='epoch', y='train_loss', ax=axes[0], label='Training Loss', color='b', marker='o')\n",
    "        sns.lineplot(data=metrics_df, x='epoch', y='val_loss', ax=axes[0], label='Validation Loss', color='r', marker='o')\n",
    "        axes[0].set_title('Training vs. Validation Loss')\n",
    "        axes[0].set_ylabel('Loss')\n",
    "        axes[0].legend()\n",
    "\n",
    "        # Plot 2: Validation Token Accuracy\n",
    "        sns.lineplot(data=metrics_df, x='epoch', y='val_accuracy', ax=axes[1], color='g', marker='o')\n",
    "        axes[1].set_title('Validation Token Accuracy')\n",
    "        axes[1].set_ylabel('Accuracy (%)')\n",
    "\n",
    "        # Plot 3: Validation Perplexity\n",
    "        sns.lineplot(data=metrics_df, x='epoch', y='val_perplexity', ax=axes[2], color='purple', marker='o')\n",
    "        axes[2].set_title('Validation Perplexity')\n",
    "        axes[2].set_ylabel('Perplexity')\n",
    "        axes[2].set_xlabel('Epoch')\n",
    "        axes[2].set_ylim(bottom=1) # Perplexity is meaningless below 1\n",
    "\n",
    "        plt.tight_layout(rect=[0, 0, 1, 0.97])\n",
    "        # Save the figure to a file\n",
    "        plt.savefig(\"training_metrics_plot.png\")\n",
    "        print(\"\\n✅ Graphs saved to 'training_metrics_plot.png'\")\n",
    "        plt.show()"
   ]
  },
  {
   "cell_type": "markdown",
   "id": "82fb7ca9",
   "metadata": {},
   "source": [
    "## Inference Function (Text-to-Text Generation)"
   ]
  },
  {
   "cell_type": "code",
   "execution_count": null,
   "id": "7d22d8db",
   "metadata": {},
   "outputs": [
    {
     "name": "stdout",
     "output_type": "stream",
     "text": [
      "✅ Loaded checkpoint from epoch 372\n"
     ]
    },
    {
     "name": "stderr",
     "output_type": "stream",
     "text": [
      "/Library/Frameworks/Python.framework/Versions/3.13/lib/python3.13/site-packages/torch/nn/functional.py:6044: UserWarning: Support for mismatched key_padding_mask and attn_mask is deprecated. Use same type for both instead.\n",
      "  warnings.warn(\n"
     ]
    },
    {
     "name": "stdout",
     "output_type": "stream",
     "text": [
      "\n",
      "--- Inference Result ---\n",
      "Input:  'reconciliation trolls realized scene'\n",
      "Output: 'seillic noitaretni selbart detaroc seillic'\n",
      "Expected: 'enecs dezilaer sllort noitailicnocer'\n"
     ]
    }
   ],
   "source": [
    "import torch\n",
    "import torch.nn as nn\n",
    "\n",
    "# --- Step 1: Define necessary components and vocabulary ---\n",
    "# This should be consistent with your training script.\n",
    "\n",
    "# Assume your helper functions (patchify) and model classes (BLTModel) are defined or imported.\n",
    "# Assume your vocabulary constants are also defined. For clarity, here they are again:\n",
    "PRINTABLE_ASCII = [chr(i) for i in range(32, 127)]\n",
    "VOCAB = ['<PAD>', '<SOS>', '<EOS>'] + PRINTABLE_ASCII\n",
    "CHAR_TO_IDX = {ch: i for i, ch in enumerate(VOCAB)}\n",
    "IDX_TO_CHAR = {i: ch for i, ch in enumerate(VOCAB)}\n",
    "PAD_IDX = CHAR_TO_IDX['<PAD>']\n",
    "SOS_IDX = CHAR_TO_IDX['<SOS>']\n",
    "EOS_IDX = CHAR_TO_IDX['<EOS>']\n",
    "\n",
    "\n",
    "# --- Step 2: The Corrected Generation Function ---\n",
    "\n",
    "@torch.no_grad()\n",
    "def generate_prediction(model, input_text, max_len=100, device=None):\n",
    "    \"\"\"\n",
    "    Generates a text-to-text prediction using the complete BLTModel.\n",
    "    \"\"\"\n",
    "    if device is None:\n",
    "        device = torch.device(\"mps\" if torch.backends.mps.is_available() else \"cpu\")\n",
    "\n",
    "    model.eval()\n",
    "    model.to(device)\n",
    "\n",
    "    # 1. Prepare the input: The model expects a BATCH of patch lists.\n",
    "    #    For a single prediction, we create a batch of size 1.\n",
    "    patches = patchify(input_text)\n",
    "    src_patches_batch = [patches] # e.g., [['patch1', 'patch2']]\n",
    "\n",
    "    # 2. Start the decoding process with the Start-Of-Sequence token.\n",
    "    output_ids = [SOS_IDX]\n",
    "\n",
    "    # 3. Autoregressively generate the output sequence one token at a time.\n",
    "    for _ in range(max_len):\n",
    "        # Prepare the current sequence as the decoder's input\n",
    "        tgt_inp = torch.tensor([output_ids], dtype=torch.long, device=device)\n",
    "        tgt_pad_mask = (tgt_inp == PAD_IDX)\n",
    "\n",
    "        # >>> THE CRITICAL STEP <<<\n",
    "        # Call the full model. It will handle the patch embedding, encoder,\n",
    "        # global transformer, and decoder internally.\n",
    "        logits = model(src_patches_batch, tgt_inp, tgt_pad_mask)\n",
    "        \n",
    "        # 4. Get the next token using greedy decoding (picking the most likely one).\n",
    "        next_id = logits[:, -1, :].argmax().item()\n",
    "        \n",
    "        # 5. Append the new token and check if we should stop.\n",
    "        output_ids.append(next_id)\n",
    "        if next_id == EOS_IDX:\n",
    "            break\n",
    "            \n",
    "    # 6. Convert the final list of token IDs back to a string.\n",
    "    #    We skip the first token, which is the <SOS> token.\n",
    "    output_text = \"\".join([IDX_TO_CHAR.get(i, \"\") for i in output_ids[1:] if i != EOS_IDX])\n",
    "    \n",
    "    return output_text\n",
    "\n",
    "\n",
    "# --- Step 3: Example Usage ---\n",
    "\n",
    "if __name__ == '__main__':\n",
    "    # --- Load your final, trained model ---\n",
    "    device = torch.device(\"mps\" if torch.backends.mps.is_available() else \"cpu\")\n",
    "    \n",
    "    # Instantiate the model with the correct vocab size\n",
    "    model = BLTModel(vocab_size=len(VOCAB), d_model=64, nhead=4)\n",
    "    \n",
    "    # Load the checkpoint\n",
    "    ckpt_path = \"checkpoints/blt_epoch372.pt\" # IMPORTANT: Use your final checkpoint\n",
    "    checkpoint = torch.load(ckpt_path, map_location=device)\n",
    "    model.load_state_dict(checkpoint[\"model_state\"])\n",
    "    print(f\"✅ Loaded checkpoint from epoch {checkpoint['epoch']}\")\n",
    "\n",
    "    # --- Run Prediction ---\n",
    "    input_text = \"reconciliation trolls realized scene\"\n",
    "    output_text = generate_prediction(model, input_text, max_len=100, device=device)\n",
    "    \n",
    "    print(\"\\n--- Inference Result ---\")\n",
    "    print(f\"Input:  '{input_text}'\")\n",
    "    print(f\"Output: '{output_text}'\")\n",
    "    print(f\"Expected: '{input_text[::-1]}'\")"
   ]
  },
  {
   "cell_type": "markdown",
   "id": "b8ebaf1f",
   "metadata": {},
   "source": [
    "## Prediction on test data and saving CSV"
   ]
  },
  {
   "cell_type": "code",
   "execution_count": null,
   "id": "eddc3475",
   "metadata": {},
   "outputs": [
    {
     "name": "stdout",
     "output_type": "stream",
     "text": [
      "✅ Loaded checkpoint from epoch 372\n"
     ]
    },
    {
     "data": {
      "application/vnd.jupyter.widget-view+json": {
       "model_id": "1897d396c6664bdfaabacbc93a882b69",
       "version_major": 2,
       "version_minor": 0
      },
      "text/plain": [
       "🚀 Generating Predictions:   0%|          | 0/125 [00:00<?, ?it/s]"
      ]
     },
     "metadata": {},
     "output_type": "display_data"
    },
    {
     "name": "stderr",
     "output_type": "stream",
     "text": [
      "/Library/Frameworks/Python.framework/Versions/3.13/lib/python3.13/site-packages/torch/nn/functional.py:6044: UserWarning: Support for mismatched key_padding_mask and attn_mask is deprecated. Use same type for both instead.\n",
      "  warnings.warn(\n"
     ]
    },
    {
     "name": "stdout",
     "output_type": "stream",
     "text": [
      "\n",
      "✅ Predictions saved to predictions/predictions_BLT.csv\n",
      "\n",
      "--- Prediction Preview ---\n",
      "                                                                                                             input                                                                                                                   output\n",
      "0                                                        intimidated campaigns emerging marines spin bel cleansing                                                               gninim seiram gnitalp seirap seiram gnidnep seiram gnitalp\n",
      "1                                                                          salary lebanese wifi fury fab sta polly                                                                         selbat selbat elbat seilab seilam seillob seilat\n",
      "2                                                               financing ahmed sexual cinematic puff malibu peach                                                          ecnalpmi ecnah evitalp ecnam ecnalp evitart evitam ecnalp ecnah\n",
      "3  n00 nickel disparity funded tutorials constrained bk 8 cellar wen advocacy surpass digitally discredit earliest  seilats detarts detart yllacid seira seirac detart seilib seillib seirahc stnem detarts detarts detarts seillib yllacid\n",
      "4                                          unveiled alliance cleric skinned illness permission destroyed stationed                                           seiled snoitarts seiled seiretni seillim senoitarop detarts seillim seidnecnoc\n"
     ]
    }
   ],
   "source": [
    "import torch\n",
    "import torch.nn as nn\n",
    "import pandas as pd\n",
    "import os\n",
    "from torch.utils.data import Dataset, DataLoader\n",
    "from tqdm.auto import tqdm\n",
    "\n",
    "# --- Step 1: Define ALL necessary components from your training script ---\n",
    "# This makes the script runnable on its own.\n",
    "# You MUST paste your final, corrected versions of the following:\n",
    "#\n",
    "# 1. All helper functions (patchify, etc.)\n",
    "# 2. All vocabulary constants (VOCAB, CHAR_TO_IDX, IDX_TO_CHAR, PAD_IDX, SOS_IDX, EOS_IDX)\n",
    "# 3. The BLTDataset class\n",
    "# 4. The blt_collate_fn function\n",
    "# 5. The PatchEmbedder, PositionalEncoding, and BLTModel classes\n",
    "\n",
    "# --- Step 2: A Batch-Oriented Generation Function (Much Faster) ---\n",
    "\n",
    "@torch.no_grad()\n",
    "def generate_batch_predictions(model, data_loader, max_len=100, device=None):\n",
    "    \"\"\"\n",
    "    Generates predictions for an entire DataLoader in batches for efficiency.\n",
    "    \"\"\"\n",
    "    if device is None:\n",
    "        device = torch.device(\"mps\" if torch.backends.mps.is_available() else \"cpu\")\n",
    "    \n",
    "    model.eval()\n",
    "    model.to(device)\n",
    "    \n",
    "    all_predictions = []\n",
    "    progress_bar = tqdm(data_loader, desc=\"🚀 Generating Predictions\")\n",
    "\n",
    "    for src_patches_batch, _ in progress_bar:\n",
    "        batch_size = len(src_patches_batch)\n",
    "        \n",
    "        # Start the decoding process for the whole batch with the SOS token\n",
    "        output_ids = torch.full((batch_size, 1), SOS_IDX, dtype=torch.long, device=device)\n",
    "\n",
    "        # A flag to track which sequences in the batch are finished\n",
    "        finished = torch.zeros(batch_size, dtype=torch.bool, device=device)\n",
    "\n",
    "        for _ in range(max_len):\n",
    "            tgt_pad_mask = (output_ids == PAD_IDX)\n",
    "            \n",
    "            # Call the model once for the entire batch\n",
    "            logits = model(src_patches_batch, output_ids, tgt_pad_mask)\n",
    "            \n",
    "            # Get the next token for every sequence in the batch\n",
    "            next_ids = logits[:, -1, :].argmax(dim=-1).unsqueeze(1)\n",
    "            \n",
    "            # Append the new tokens to the sequences\n",
    "            output_ids = torch.cat([output_ids, next_ids], dim=1)\n",
    "            \n",
    "            # Update the 'finished' status for any sequence that just generated an EOS token\n",
    "            finished = finished | (next_ids.squeeze() == EOS_IDX)\n",
    "            \n",
    "            # If all sequences in the batch are finished, we can stop early\n",
    "            if finished.all():\n",
    "                break\n",
    "        \n",
    "        # Decode the generated ID sequences into text\n",
    "        for i in range(batch_size):\n",
    "            # Filter out special tokens\n",
    "            filtered_ids = [idx for idx in output_ids[i].tolist() if idx not in {SOS_IDX, EOS_IDX, PAD_IDX}]\n",
    "            pred_text = \"\".join([IDX_TO_CHAR.get(idx, \"\") for idx in filtered_ids])\n",
    "            all_predictions.append(pred_text)\n",
    "            \n",
    "    return all_predictions\n",
    "\n",
    "# --- Step 3: Main Execution Block ---\n",
    "if __name__ == '__main__':\n",
    "    # --- Configuration ---\n",
    "    CHECKPOINT_PATH = \"checkpoints/blt_epoch372.pt\" # The final model to use\n",
    "    BATCH_SIZE = 16 # Much faster than batch_size=1\n",
    "    \n",
    "    # Setup device\n",
    "    device = torch.device(\"mps\" if torch.backends.mps.is_available() else \"cpu\")\n",
    "    if device.type == \"mps\":\n",
    "        torch.set_float32_matmul_precision(\"high\")\n",
    "\n",
    "    # --- Load Model ---\n",
    "    model = BLTModel(vocab_size=len(VOCAB), d_model=64, nhead=4)\n",
    "    checkpoint = torch.load(CHECKPOINT_PATH, map_location=device)\n",
    "    model.load_state_dict(checkpoint[\"model_state\"])\n",
    "    print(f\"✅ Loaded checkpoint from epoch {checkpoint['epoch']}\")\n",
    "\n",
    "    # --- Load Test Data ---\n",
    "    test_df = pd.read_csv(\"./../data/test.csv\")\n",
    "    test_ds = BLTDataset(csv_path=\"./../data/test.csv\")\n",
    "    test_loader = DataLoader(\n",
    "        test_ds,\n",
    "        batch_size=BATCH_SIZE,\n",
    "        shuffle=False,\n",
    "        collate_fn=blt_collate_fn\n",
    "    )\n",
    "\n",
    "    # --- Generate All Predictions ---\n",
    "    predictions = generate_batch_predictions(model, test_loader, max_len=150, device=device)\n",
    "\n",
    "    # --- Save Predictions in the Correct Format ---\n",
    "    # As per the assignment, the output file should have 'input' and 'output' columns.\n",
    "    output_df = pd.DataFrame({\n",
    "        'input': test_df['input'],\n",
    "        'output': predictions\n",
    "    })\n",
    "    \n",
    "    os.makedirs(\"predictions\", exist_ok=True)\n",
    "    output_path = \"predictions/predictions_BLT.csv\"\n",
    "    output_df.to_csv(output_path, index=False)\n",
    "    \n",
    "    print(f\"\\n✅ Predictions saved to {output_path}\")\n",
    "    print(\"\\n--- Prediction Preview ---\")\n",
    "    print(output_df.head().to_string())"
   ]
  },
  {
   "cell_type": "markdown",
   "id": "53e59d25",
   "metadata": {},
   "source": [
    "# Character level Model & Training"
   ]
  },
  {
   "cell_type": "code",
   "execution_count": null,
   "id": "4beebbca",
   "metadata": {},
   "outputs": [
    {
     "name": "stdout",
     "output_type": "stream",
     "text": [
      "✅ Using MPS (Apple Silicon GPU)\n"
     ]
    }
   ],
   "source": [
    "import torch\n",
    "\n",
    "if torch.backends.mps.is_available():\n",
    "    device = torch.device(\"mps\")\n",
    "    print(\"✅ Using MPS (Apple Silicon GPU)\")\n",
    "else:\n",
    "    device = torch.device(\"cpu\")\n",
    "    print(\"⚠️ MPS not available, falling back to CPU\")"
   ]
  },
  {
   "cell_type": "markdown",
   "id": "3d808956",
   "metadata": {},
   "source": [
    "## Data & Tokenizer\n",
    "\n",
    "1. Loads your train.csv and test.csv.\n",
    "2. Creates a character vocabulary:\n",
    "    - [PAD], [SOS], [EOS] + printable ASCII chars.\n",
    "    - Maps chars ↔ IDs (stoi, itos).\n",
    "3. Provides encode/decode functions.\n",
    "4. Tests it on a sample string."
   ]
  },
  {
   "cell_type": "code",
   "execution_count": null,
   "id": "cbffc4ab",
   "metadata": {},
   "outputs": [
    {
     "name": "stdout",
     "output_type": "stream",
     "text": [
      "Train shape: (10000, 2)\n",
      "Test shape: (2000, 2)\n",
      "                                               input  \\\n",
      "0               reconciliation trolls realized scene   \n",
      "1                        scratched kemp blah devices   \n",
      "2  delusional engineered perfect prey englishman ...   \n",
      "3  boomers nfl reacts parallels everything 6 redu...   \n",
      "4  patience put christmas superhero luc rake fulf...   \n",
      "\n",
      "                                              target  \n",
      "0               enecs dezilaer sllort noitailicnocer  \n",
      "1                        secived halb pmek dehctarcs  \n",
      "2  hctarcs detsub namhsilgne yerp tcefrep dereeni...  \n",
      "3  stcudnoc ysereh redlof secuder 6 gnihtyreve sl...  \n",
      "4  ylesned ylno elbats latnenitnoc dellifluf ekar...  \n",
      "\n",
      "Vocab size: 98\n",
      "PAD idx: 0 SOS idx: 1 EOS idx: 2\n",
      "Sample: LMA is fun!\n",
      "Encoded: [1, 47, 48, 36, 3, 76, 86, 3, 73, 88, 81, 4, 2]\n",
      "Decoded: LMA is fun!\n"
     ]
    }
   ],
   "source": [
    "import pandas as pd\n",
    "import torch\n",
    "from torch.utils.data import Dataset\n",
    "import string\n",
    "\n",
    "# --- Step 1: Load Data ---\n",
    "train_df = pd.read_csv(\"./../data/train.csv\")\n",
    "test_df  = pd.read_csv(\"./../data/test.csv\")\n",
    "\n",
    "print(\"Train shape:\", train_df.shape)\n",
    "print(\"Test shape:\", test_df.shape)\n",
    "print(train_df.head())\n",
    "\n",
    "# --- Step 2: Character Tokenizer ---\n",
    "# Printable ASCII characters 32–126\n",
    "ascii_chars = [chr(i) for i in range(32, 127)]\n",
    "special_tokens = [\"[PAD]\", \"[SOS]\", \"[EOS]\"]\n",
    "\n",
    "itos = special_tokens + ascii_chars   # id → char\n",
    "stoi = {ch: i for i, ch in enumerate(itos)}  # char → id\n",
    "\n",
    "PAD_IDX = stoi[\"[PAD]\"]\n",
    "SOS_IDX = stoi[\"[SOS]\"]\n",
    "EOS_IDX = stoi[\"[EOS]\"]\n",
    "\n",
    "vocab_size = len(itos)\n",
    "\n",
    "print(\"\\nVocab size:\", vocab_size)\n",
    "print(\"PAD idx:\", PAD_IDX, \"SOS idx:\", SOS_IDX, \"EOS idx:\", EOS_IDX)\n",
    "\n",
    "# --- Encode / Decode functions ---\n",
    "def encode_text(text, add_special=True):\n",
    "    ids = [stoi[ch] for ch in text if ch in stoi]\n",
    "    if add_special:\n",
    "        ids = [SOS_IDX] + ids + [EOS_IDX]\n",
    "    return torch.tensor(ids, dtype=torch.long)\n",
    "\n",
    "def decode_ids(ids):\n",
    "    chars = []\n",
    "    for i in ids:\n",
    "        if i == PAD_IDX or i == SOS_IDX or i == EOS_IDX:\n",
    "            continue\n",
    "        chars.append(itos[i])\n",
    "    return \"\".join(chars)\n",
    "\n",
    "# --- Quick test ---\n",
    "sample = \"LMA is fun!\"\n",
    "encoded = encode_text(sample)\n",
    "decoded = decode_ids(encoded.tolist())\n",
    "\n",
    "print(\"Sample:\", sample)\n",
    "print(\"Encoded:\", encoded.tolist())\n",
    "print(\"Decoded:\", decoded)"
   ]
  },
  {
   "cell_type": "markdown",
   "id": "7f7905ed",
   "metadata": {},
   "source": [
    "## Dataset + Collate\n",
    "\n",
    "- CharDataset → loads strings, encodes them into token IDs.\n",
    "- collate_fn → pads sequences per batch + stores lengths.\n",
    "- DataLoader → provides batches for training & testing.\n",
    "- Prints shapes and a decoded sample to check correctness."
   ]
  },
  {
   "cell_type": "code",
   "execution_count": null,
   "id": "0eb46380",
   "metadata": {},
   "outputs": [
    {
     "name": "stdout",
     "output_type": "stream",
     "text": [
      "src_padded shape: torch.Size([32, 132])\n",
      "tgt_padded shape: torch.Size([32, 132])\n",
      "\n",
      "src_lengths: tensor([67, 21, 80, 38, 67])\n",
      "tgt_lengths: tensor([67, 21, 80, 38, 67])\n",
      "\n",
      "Example decoded input: cam environments eventual fallen aug merchant garry quebec latter\n",
      "Example decoded target: rettal cebeuq yrrag tnahcrem gua nellaf lautneve stnemnorivne mac\n"
     ]
    }
   ],
   "source": [
    "from torch.nn.utils.rnn import pad_sequence\n",
    "from torch.utils.data import DataLoader\n",
    "\n",
    "# --- Dataset Class ---\n",
    "class CharDataset(Dataset):\n",
    "    def __init__(self, df):\n",
    "        self.inputs = df[\"input\"].tolist()\n",
    "        self.targets = df[\"target\"].tolist()\n",
    "\n",
    "    def __len__(self):\n",
    "        return len(self.inputs)\n",
    "\n",
    "    def __getitem__(self, idx):\n",
    "        src_text = self.inputs[idx]\n",
    "        tgt_text = self.targets[idx]\n",
    "\n",
    "        src_ids = encode_text(src_text, add_special=True)  # [SOS] ... [EOS]\n",
    "        tgt_ids = encode_text(tgt_text, add_special=True)\n",
    "\n",
    "        return src_ids, tgt_ids\n",
    "\n",
    "\n",
    "# --- Collate Function ---\n",
    "def collate_fn(batch):\n",
    "    src_batch, tgt_batch = zip(*batch)\n",
    "\n",
    "    # Pad sequences\n",
    "    src_padded = pad_sequence(src_batch, batch_first=True, padding_value=PAD_IDX)\n",
    "    tgt_padded = pad_sequence(tgt_batch, batch_first=True, padding_value=PAD_IDX)\n",
    "\n",
    "    # Lengths (before padding)\n",
    "    src_lengths = torch.tensor([len(x) for x in src_batch], dtype=torch.long)\n",
    "    tgt_lengths = torch.tensor([len(x) for x in tgt_batch], dtype=torch.long)\n",
    "\n",
    "    return src_padded, src_lengths, tgt_padded, tgt_lengths\n",
    "\n",
    "\n",
    "# --- Create Dataset + DataLoader ---\n",
    "train_ds = CharDataset(train_df)\n",
    "test_ds = CharDataset(test_df)\n",
    "\n",
    "train_loader = DataLoader(train_ds, batch_size=32, shuffle=True, collate_fn=collate_fn)\n",
    "test_loader = DataLoader(test_ds, batch_size=32, shuffle=False, collate_fn=collate_fn)\n",
    "\n",
    "import pandas as pd\n",
    "from sklearn.model_selection import train_test_split\n",
    "\n",
    "test_df = pd.read_csv(\"./../data/test.csv\")  # original test dataset\n",
    "val_df, holdout_df = train_test_split(test_df, test_size=0.5, random_state=42)\n",
    "\n",
    "val_ds = CharDataset(val_df)\n",
    "val_loader = DataLoader(val_ds, batch_size=32, shuffle=False, collate_fn=collate_fn)\n",
    "\n",
    "# --- Quick Check ---\n",
    "src_padded, src_lengths, tgt_padded, tgt_lengths = next(iter(train_loader))\n",
    "\n",
    "print(\"src_padded shape:\", src_padded.shape)\n",
    "print(\"tgt_padded shape:\", tgt_padded.shape)\n",
    "print(\"\\nsrc_lengths:\", src_lengths[:5])\n",
    "print(\"tgt_lengths:\", tgt_lengths[:5])\n",
    "print(\"\\nExample decoded input:\", decode_ids(src_padded[0].tolist()))\n",
    "print(\"Example decoded target:\", decode_ids(tgt_padded[0].tolist()))"
   ]
  },
  {
   "cell_type": "code",
   "execution_count": null,
   "id": "409f9f3b",
   "metadata": {},
   "outputs": [
    {
     "name": "stdout",
     "output_type": "stream",
     "text": [
      "Vocabulary size: 98\n"
     ]
    }
   ],
   "source": [
    "# --- Character Vocabulary (printable ASCII + special tokens) ---\n",
    "import string\n",
    "\n",
    "PAD_IDX = 0\n",
    "SOS_IDX = 1\n",
    "EOS_IDX = 2\n",
    "\n",
    "# Printable ASCII characters (32-126)\n",
    "chars = [chr(i) for i in range(32, 127)]\n",
    "VOCAB = {c: i+3 for i, c in enumerate(chars)}  # reserve 0,1,2 for PAD, SOS, EOS\n",
    "INV_VOCAB = {i: c for c, i in VOCAB.items()}\n",
    "\n",
    "VOCAB_SIZE = len(VOCAB) + 3  # include PAD, SOS, EOS\n",
    "print(f\"Vocabulary size: {VOCAB_SIZE}\")"
   ]
  },
  {
   "cell_type": "markdown",
   "id": "09205993",
   "metadata": {},
   "source": [
    "## Baseline Model\n",
    "\n",
    "- Embedding layer for characters\n",
    "- Positional encoding\n",
    "- Transformer encoder–decoder (2 layers each)\n",
    "- Linear projection to vocab size"
   ]
  },
  {
   "cell_type": "code",
   "execution_count": null,
   "id": "3beadd67",
   "metadata": {},
   "outputs": [],
   "source": [
    "import math\n",
    "import torch\n",
    "import torch.nn as nn\n",
    "\n",
    "# --- Positional Encoding (sinusoidal) ---\n",
    "class PositionalEncoding(nn.Module):\n",
    "    def __init__(self, d_model, max_len=5000):\n",
    "        super().__init__()\n",
    "        pe = torch.zeros(max_len, d_model)\n",
    "        position = torch.arange(0, max_len, dtype=torch.float).unsqueeze(1)\n",
    "        div_term = torch.exp(torch.arange(0, d_model, 2).float() * (-math.log(10000.0) / d_model))\n",
    "        pe[:, 0::2] = torch.sin(position * div_term)\n",
    "        pe[:, 1::2] = torch.cos(position * div_term)\n",
    "        pe = pe.unsqueeze(0)  # [1, max_len, d_model]\n",
    "        self.register_buffer(\"pe\", pe)\n",
    "\n",
    "    def forward(self, x):\n",
    "        # x: [B, L, D]\n",
    "        x = x + self.pe[:, :x.size(1), :]\n",
    "        return x\n",
    "\n",
    "\n",
    "# --- Baseline Transformer Model ---\n",
    "class CharTransformer(nn.Module):\n",
    "    def __init__(self, vocab_size, d_model=64, nhead=4, num_layers=2, dim_ff=128, dropout=0.1):\n",
    "        super().__init__()\n",
    "        self.d_model = d_model\n",
    "\n",
    "        # Embeddings\n",
    "        self.src_embed = nn.Embedding(vocab_size, d_model, padding_idx=PAD_IDX)\n",
    "        self.tgt_embed = nn.Embedding(vocab_size, d_model, padding_idx=PAD_IDX)\n",
    "\n",
    "        self.pos_encoder = PositionalEncoding(d_model)\n",
    "\n",
    "        # Encoder\n",
    "        encoder_layer = nn.TransformerEncoderLayer(d_model=d_model, nhead=nhead,\n",
    "                                                    dim_feedforward=dim_ff, dropout=dropout, batch_first=True)\n",
    "        self.encoder = nn.TransformerEncoder(encoder_layer, num_layers=num_layers, enable_nested_tensor=False)\n",
    "\n",
    "        # Decoder\n",
    "        decoder_layer = nn.TransformerDecoderLayer(d_model=d_model, nhead=nhead,\n",
    "                                                    dim_feedforward=dim_ff, dropout=dropout, batch_first=True)\n",
    "        self.decoder = nn.TransformerDecoder(decoder_layer, num_layers=num_layers)\n",
    "\n",
    "        # Output projection\n",
    "        self.fc_out = nn.Linear(d_model, vocab_size)\n",
    "\n",
    "    def forward(self, src, tgt_inp):\n",
    "        \"\"\"\n",
    "        src: [B, Ls]\n",
    "        tgt_inp: [B, Lt]\n",
    "        \"\"\"\n",
    "        # Embedding + positional encoding\n",
    "        src_emb = self.pos_encoder(self.src_embed(src))  # [B, Ls, D]\n",
    "        tgt_emb = self.pos_encoder(self.tgt_embed(tgt_inp))  # [B, Lt, D]\n",
    "\n",
    "        # Masks\n",
    "        src_key_padding_mask = (src == PAD_IDX)  # [B, Ls]\n",
    "        tgt_key_padding_mask = (tgt_inp == PAD_IDX)  # [B, Lt]\n",
    "        causal_mask = nn.Transformer.generate_square_subsequent_mask(tgt_inp.size(1)).to(src.device)\n",
    "\n",
    "        # Encode\n",
    "        memory = self.encoder(src_emb, src_key_padding_mask=src_key_padding_mask)\n",
    "\n",
    "        # Decode\n",
    "        out = self.decoder(tgt=tgt_emb, memory=memory,\n",
    "                            tgt_mask=causal_mask,\n",
    "                            tgt_key_padding_mask=tgt_key_padding_mask,\n",
    "                            memory_key_padding_mask=src_key_padding_mask)\n",
    "\n",
    "        # Project to vocab\n",
    "        logits = self.fc_out(out)  # [B, Lt, vocab_size]\n",
    "        return logits"
   ]
  },
  {
   "cell_type": "code",
   "execution_count": null,
   "id": "48fc2965",
   "metadata": {},
   "outputs": [
    {
     "name": "stdout",
     "output_type": "stream",
     "text": [
      "Logits shape: torch.Size([32, 117, 95])\n"
     ]
    },
    {
     "name": "stderr",
     "output_type": "stream",
     "text": [
      "/Library/Frameworks/Python.framework/Versions/3.13/lib/python3.13/site-packages/torch/nn/functional.py:6041: UserWarning: Support for mismatched key_padding_mask and attn_mask is deprecated. Use same type for both instead.\n",
      "  warnings.warn(\n"
     ]
    }
   ],
   "source": [
    "# Create model\n",
    "baseline_model = CharTransformer(vocab_size=len(VOCAB), d_model=64, nhead=4, num_layers=2).to(device)\n",
    "\n",
    "# Dummy batch\n",
    "src_padded, src_lengths, tgt_padded, tgt_lengths = next(iter(train_loader))\n",
    "\n",
    "# Teacher forcing: shift target\n",
    "tgt_inp = tgt_padded[:, :-1]\n",
    "tgt_out = tgt_padded[:, 1:]\n",
    "\n",
    "# Forward pass\n",
    "logits = baseline_model(src_padded.to(device), tgt_inp.to(device))\n",
    "\n",
    "print(\"Logits shape:\", logits.shape)  # [B, Lt-1, vocab_size]"
   ]
  },
  {
   "cell_type": "markdown",
   "id": "5adf9a6b",
   "metadata": {},
   "source": [
    "## Training\n",
    "\n",
    "- AdamW optimizer\n",
    "- CrossEntropyLoss with ignore_index=PAD_IDX\n",
    "- Gradient clipping\n",
    "- Checkpoint saving every few epochs\n",
    "- Optional resume from checkpoint"
   ]
  },
  {
   "cell_type": "code",
   "execution_count": null,
   "id": "f5949982",
   "metadata": {},
   "outputs": [],
   "source": [
    "import torch\n",
    "import torch.nn as nn\n",
    "import torch.optim as optim\n",
    "import os\n",
    "from torch.nn.utils import clip_grad_norm_\n",
    "\n",
    "# ----------------------------\n",
    "# Training loop for baseline Transformer\n",
    "# ----------------------------\n",
    "def train_baseline(\n",
    "    model,\n",
    "    train_loader,\n",
    "    val_loader=None,   # optional validation loader\n",
    "    num_epochs=1000,\n",
    "    lr=1e-3,\n",
    "    device=None,\n",
    "    save_every=5,\n",
    "    val_every=50,\n",
    "    resume_path=None\n",
    "):\n",
    "    # --- Pick device automatically if not provided ---\n",
    "    if device is None:\n",
    "        if torch.backends.mps.is_available():\n",
    "            device = torch.device(\"mps\")\n",
    "        elif torch.cuda.is_available():\n",
    "            device = torch.device(\"cuda\")\n",
    "        else:\n",
    "            device = torch.device(\"cpu\")\n",
    "    print(f\"Training on: {device}\")\n",
    "\n",
    "    model = model.to(device)\n",
    "    optimizer = optim.AdamW(model.parameters(), lr=lr)\n",
    "    criterion = nn.CrossEntropyLoss(ignore_index=PAD_IDX)  # ignore <PAD> tokens\n",
    "\n",
    "    os.makedirs(\"checkpoints_baseline\", exist_ok=True)\n",
    "\n",
    "    # --- Resume from checkpoint ---\n",
    "    start_epoch = 1\n",
    "    if resume_path and os.path.exists(resume_path):\n",
    "        print(f\"🔄 Resuming from checkpoint: {resume_path}\")\n",
    "        checkpoint = torch.load(resume_path, map_location=device)\n",
    "        model.load_state_dict(checkpoint[\"model_state\"])\n",
    "        optimizer.load_state_dict(checkpoint[\"optimizer_state\"])\n",
    "        start_epoch = checkpoint[\"epoch\"] + 1\n",
    "        print(f\"✅ Resumed from epoch {checkpoint['epoch']} (loss {checkpoint['loss']:.4f})\")\n",
    "\n",
    "    # --- Training loop ---\n",
    "    for epoch in range(start_epoch, num_epochs + 1):\n",
    "        model.train()\n",
    "        total_loss = 0.0\n",
    "\n",
    "        for batch in train_loader:\n",
    "            src, src_lengths, tgt, tgt_lengths = batch\n",
    "            src, tgt = src.to(device), tgt.to(device)\n",
    "\n",
    "            tgt_inp = tgt[:, :-1]   # decoder input\n",
    "            tgt_out = tgt[:, 1:]    # expected output\n",
    "\n",
    "            logits = model(src, tgt_inp)\n",
    "\n",
    "            loss = criterion(\n",
    "                logits.reshape(-1, logits.size(-1)),\n",
    "                tgt_out.reshape(-1)\n",
    "            )\n",
    "\n",
    "            optimizer.zero_grad()\n",
    "            loss.backward()\n",
    "            clip_grad_norm_(model.parameters(), max_norm=1.0)\n",
    "            optimizer.step()\n",
    "\n",
    "            total_loss += loss.item()\n",
    "\n",
    "        avg_loss = total_loss / len(train_loader)\n",
    "        \n",
    "        # --- Validation ---\n",
    "        if val_loader is not None:\n",
    "            val_loss, val_acc = evaluate_baseline(model, val_loader, criterion, device)\n",
    "            val_perplexity = math.exp(val_loss)\n",
    "            print(f\"📘 Epoch {epoch}/{num_epochs} - Train Loss: {avg_loss:.4f}\")\n",
    "            print(f\"📗 Validation - Loss: {val_loss:.4f}, Perplexity: {val_perplexity:.2f}, Token Acc: {val_acc:.2f}%\")\n",
    "        else:\n",
    "            print(f\"📘 Epoch {epoch}/{num_epochs} - Train Loss: {avg_loss:.4f}\")\n",
    "\n",
    "        # --- Save checkpoint ---\n",
    "        if epoch % save_every == 0 or epoch == num_epochs:\n",
    "            ckpt_path = f\"checkpoints_baseline/char_transformer_epoch{epoch}.pt\"\n",
    "            torch.save({\n",
    "                \"epoch\": epoch,\n",
    "                \"model_state\": model.state_dict(),\n",
    "                \"optimizer_state\": optimizer.state_dict(),\n",
    "                \"loss\": avg_loss\n",
    "            }, ckpt_path)\n",
    "            print(f\"✅ Saved checkpoint: {ckpt_path}\")\n",
    "\n",
    "\n",
    "# ----------------------------\n",
    "# Evaluation / Validation\n",
    "# ----------------------------\n",
    "@torch.no_grad()\n",
    "def evaluate_baseline(model, val_loader, criterion, device):\n",
    "    model.eval()\n",
    "    total_loss = 0.0\n",
    "    total_tokens = 0\n",
    "    correct_tokens = 0\n",
    "\n",
    "    for batch in val_loader:\n",
    "        src, src_lengths, tgt, tgt_lengths = batch\n",
    "        src, tgt = src.to(device), tgt.to(device)\n",
    "\n",
    "        tgt_inp = tgt[:, :-1]\n",
    "        tgt_out = tgt[:, 1:]\n",
    "\n",
    "        logits = model(src, tgt_inp)\n",
    "\n",
    "        # Compute loss\n",
    "        loss = criterion(\n",
    "            logits.reshape(-1, logits.size(-1)),\n",
    "            tgt_out.reshape(-1)\n",
    "        )\n",
    "        total_loss += loss.item()\n",
    "\n",
    "        # Accuracy (ignore PAD)\n",
    "        preds = logits.argmax(dim=-1)\n",
    "        mask = tgt_out != PAD_IDX\n",
    "        correct_tokens += ((preds == tgt_out) & mask).sum().item()\n",
    "        total_tokens += mask.sum().item()\n",
    "\n",
    "    avg_loss = total_loss / len(val_loader)\n",
    "    accuracy = 100.0 * correct_tokens / total_tokens\n",
    "    return avg_loss, accuracy"
   ]
  },
  {
   "cell_type": "code",
   "execution_count": null,
   "id": "314938ea",
   "metadata": {},
   "outputs": [
    {
     "name": "stdout",
     "output_type": "stream",
     "text": [
      "Training on: mps\n",
      "🔄 Resuming from checkpoint: checkpoints_baseline/char_transformer_epoch470.pt\n",
      "✅ Resumed from epoch 470 (loss 0.0057)\n",
      "📘 Epoch 471/1000 - Train Loss: 0.0056\n",
      "📗 Validation - Loss: 0.0004, Perplexity: 1.00, Token Acc: 99.96%\n",
      "📘 Epoch 472/1000 - Train Loss: 0.0062\n",
      "📗 Validation - Loss: 0.0004, Perplexity: 1.00, Token Acc: 99.95%\n",
      "📘 Epoch 473/1000 - Train Loss: 0.0062\n",
      "📗 Validation - Loss: 0.0006, Perplexity: 1.00, Token Acc: 99.95%\n",
      "📘 Epoch 474/1000 - Train Loss: 0.0061\n",
      "📗 Validation - Loss: 0.0003, Perplexity: 1.00, Token Acc: 99.96%\n",
      "📘 Epoch 475/1000 - Train Loss: 0.0061\n",
      "📗 Validation - Loss: 0.0005, Perplexity: 1.00, Token Acc: 99.96%\n",
      "📘 Epoch 476/1000 - Train Loss: 0.0054\n",
      "📗 Validation - Loss: 0.0002, Perplexity: 1.00, Token Acc: 99.96%\n",
      "📘 Epoch 477/1000 - Train Loss: 0.0056\n",
      "📗 Validation - Loss: 0.0004, Perplexity: 1.00, Token Acc: 99.96%\n",
      "📘 Epoch 478/1000 - Train Loss: 0.0063\n",
      "📗 Validation - Loss: 0.0011, Perplexity: 1.00, Token Acc: 99.94%\n",
      "📘 Epoch 479/1000 - Train Loss: 0.0063\n",
      "📗 Validation - Loss: 0.0003, Perplexity: 1.00, Token Acc: 99.96%\n",
      "📘 Epoch 480/1000 - Train Loss: 0.0052\n",
      "📗 Validation - Loss: 0.0006, Perplexity: 1.00, Token Acc: 99.96%\n",
      "✅ Saved checkpoint: checkpoints_baseline/char_transformer_epoch480.pt\n",
      "📘 Epoch 481/1000 - Train Loss: 0.0053\n",
      "📗 Validation - Loss: 0.0004, Perplexity: 1.00, Token Acc: 99.96%\n",
      "📘 Epoch 482/1000 - Train Loss: 0.0064\n",
      "📗 Validation - Loss: 0.0002, Perplexity: 1.00, Token Acc: 99.97%\n",
      "📘 Epoch 483/1000 - Train Loss: 0.0059\n",
      "📗 Validation - Loss: 0.0004, Perplexity: 1.00, Token Acc: 99.96%\n",
      "📘 Epoch 484/1000 - Train Loss: 0.0052\n",
      "📗 Validation - Loss: 0.0003, Perplexity: 1.00, Token Acc: 99.96%\n",
      "📘 Epoch 485/1000 - Train Loss: 0.0066\n",
      "📗 Validation - Loss: 0.0005, Perplexity: 1.00, Token Acc: 99.96%\n",
      "📘 Epoch 486/1000 - Train Loss: 0.0064\n",
      "📗 Validation - Loss: 0.0006, Perplexity: 1.00, Token Acc: 99.95%\n",
      "📘 Epoch 487/1000 - Train Loss: 0.0060\n",
      "📗 Validation - Loss: 0.0003, Perplexity: 1.00, Token Acc: 99.96%\n",
      "📘 Epoch 488/1000 - Train Loss: 0.0050\n",
      "📗 Validation - Loss: 0.0004, Perplexity: 1.00, Token Acc: 99.96%\n",
      "📘 Epoch 489/1000 - Train Loss: 0.0065\n",
      "📗 Validation - Loss: 0.0002, Perplexity: 1.00, Token Acc: 99.96%\n",
      "📘 Epoch 490/1000 - Train Loss: 0.0057\n",
      "📗 Validation - Loss: 0.0002, Perplexity: 1.00, Token Acc: 99.96%\n",
      "✅ Saved checkpoint: checkpoints_baseline/char_transformer_epoch490.pt\n",
      "📘 Epoch 491/1000 - Train Loss: 0.0057\n",
      "📗 Validation - Loss: 0.0005, Perplexity: 1.00, Token Acc: 99.96%\n",
      "📘 Epoch 492/1000 - Train Loss: 0.0061\n",
      "📗 Validation - Loss: 0.0004, Perplexity: 1.00, Token Acc: 99.95%\n",
      "📘 Epoch 493/1000 - Train Loss: 0.0052\n",
      "📗 Validation - Loss: 0.0002, Perplexity: 1.00, Token Acc: 99.96%\n",
      "📘 Epoch 494/1000 - Train Loss: 0.0058\n",
      "📗 Validation - Loss: 0.0004, Perplexity: 1.00, Token Acc: 99.96%\n",
      "📘 Epoch 495/1000 - Train Loss: 0.0054\n",
      "📗 Validation - Loss: 0.0003, Perplexity: 1.00, Token Acc: 99.96%\n",
      "📘 Epoch 496/1000 - Train Loss: 0.0064\n",
      "📗 Validation - Loss: 0.0005, Perplexity: 1.00, Token Acc: 99.96%\n",
      "📘 Epoch 497/1000 - Train Loss: 0.0061\n",
      "📗 Validation - Loss: 0.0002, Perplexity: 1.00, Token Acc: 99.96%\n",
      "📘 Epoch 498/1000 - Train Loss: 0.0052\n",
      "📗 Validation - Loss: 0.0004, Perplexity: 1.00, Token Acc: 99.96%\n",
      "📘 Epoch 499/1000 - Train Loss: 0.0065\n",
      "📗 Validation - Loss: 0.0003, Perplexity: 1.00, Token Acc: 99.96%\n",
      "📘 Epoch 500/1000 - Train Loss: 0.0057\n",
      "📗 Validation - Loss: 0.0007, Perplexity: 1.00, Token Acc: 99.94%\n",
      "✅ Saved checkpoint: checkpoints_baseline/char_transformer_epoch500.pt\n"
     ]
    },
    {
     "ename": "KeyboardInterrupt",
     "evalue": "",
     "output_type": "error",
     "traceback": [
      "\u001b[31m---------------------------------------------------------------------------\u001b[39m",
      "\u001b[31mKeyboardInterrupt\u001b[39m                         Traceback (most recent call last)",
      "\u001b[36mCell\u001b[39m\u001b[36m \u001b[39m\u001b[32mIn[19]\u001b[39m\u001b[32m, line 5\u001b[39m\n\u001b[32m      2\u001b[39m os.environ[\u001b[33m\"\u001b[39m\u001b[33mPYTORCH_ENABLE_MPS_FALLBACK\u001b[39m\u001b[33m\"\u001b[39m] = \u001b[33m\"\u001b[39m\u001b[33m1\u001b[39m\u001b[33m\"\u001b[39m\n\u001b[32m      4\u001b[39m device = torch.device(\u001b[33m\"\u001b[39m\u001b[33mmps\u001b[39m\u001b[33m\"\u001b[39m)\n\u001b[32m----> \u001b[39m\u001b[32m5\u001b[39m \u001b[43mtrain_baseline\u001b[49m\u001b[43m(\u001b[49m\n\u001b[32m      6\u001b[39m \u001b[43m    \u001b[49m\u001b[43mmodel\u001b[49m\u001b[43m=\u001b[49m\u001b[43mbaseline_model\u001b[49m\u001b[43m,\u001b[49m\n\u001b[32m      7\u001b[39m \u001b[43m    \u001b[49m\u001b[43mtrain_loader\u001b[49m\u001b[43m=\u001b[49m\u001b[43mtrain_loader\u001b[49m\u001b[43m,\u001b[49m\n\u001b[32m      8\u001b[39m \u001b[43m    \u001b[49m\u001b[43mval_loader\u001b[49m\u001b[43m=\u001b[49m\u001b[43mval_loader\u001b[49m\u001b[43m,\u001b[49m\n\u001b[32m      9\u001b[39m \u001b[43m    \u001b[49m\u001b[43mnum_epochs\u001b[49m\u001b[43m=\u001b[49m\u001b[32;43m1000\u001b[39;49m\u001b[43m,\u001b[49m\n\u001b[32m     10\u001b[39m \u001b[43m    \u001b[49m\u001b[43mlr\u001b[49m\u001b[43m=\u001b[49m\u001b[32;43m1e-3\u001b[39;49m\u001b[43m,\u001b[49m\n\u001b[32m     11\u001b[39m \u001b[43m    \u001b[49m\u001b[43mdevice\u001b[49m\u001b[43m=\u001b[49m\u001b[43mdevice\u001b[49m\u001b[43m,\u001b[49m\n\u001b[32m     12\u001b[39m \u001b[43m    \u001b[49m\u001b[43msave_every\u001b[49m\u001b[43m=\u001b[49m\u001b[32;43m10\u001b[39;49m\u001b[43m,\u001b[49m\n\u001b[32m     13\u001b[39m \u001b[43m    \u001b[49m\u001b[43mresume_path\u001b[49m\u001b[43m=\u001b[49m\u001b[33;43m\"\u001b[39;49m\u001b[33;43mcheckpoints_baseline/char_transformer_epoch470.pt\u001b[39;49m\u001b[33;43m\"\u001b[39;49m\n\u001b[32m     14\u001b[39m \u001b[43m)\u001b[49m\n",
      "\u001b[36mCell\u001b[39m\u001b[36m \u001b[39m\u001b[32mIn[9]\u001b[39m\u001b[32m, line 69\u001b[39m, in \u001b[36mtrain_baseline\u001b[39m\u001b[34m(model, train_loader, val_loader, num_epochs, lr, device, save_every, val_every, resume_path)\u001b[39m\n\u001b[32m     67\u001b[39m     loss.backward()\n\u001b[32m     68\u001b[39m     clip_grad_norm_(model.parameters(), max_norm=\u001b[32m1.0\u001b[39m)\n\u001b[32m---> \u001b[39m\u001b[32m69\u001b[39m     \u001b[43moptimizer\u001b[49m\u001b[43m.\u001b[49m\u001b[43mstep\u001b[49m\u001b[43m(\u001b[49m\u001b[43m)\u001b[49m\n\u001b[32m     71\u001b[39m     total_loss += loss.item()\n\u001b[32m     73\u001b[39m avg_loss = total_loss / \u001b[38;5;28mlen\u001b[39m(train_loader)\n",
      "\u001b[36mFile \u001b[39m\u001b[32m/Library/Frameworks/Python.framework/Versions/3.13/lib/python3.13/site-packages/torch/optim/optimizer.py:516\u001b[39m, in \u001b[36mOptimizer.profile_hook_step.<locals>.wrapper\u001b[39m\u001b[34m(*args, **kwargs)\u001b[39m\n\u001b[32m    511\u001b[39m         \u001b[38;5;28;01melse\u001b[39;00m:\n\u001b[32m    512\u001b[39m             \u001b[38;5;28;01mraise\u001b[39;00m \u001b[38;5;167;01mRuntimeError\u001b[39;00m(\n\u001b[32m    513\u001b[39m                 \u001b[33mf\u001b[39m\u001b[33m\"\u001b[39m\u001b[38;5;132;01m{\u001b[39;00mfunc\u001b[38;5;132;01m}\u001b[39;00m\u001b[33m must return None or a tuple of (new_args, new_kwargs), but got \u001b[39m\u001b[38;5;132;01m{\u001b[39;00mresult\u001b[38;5;132;01m}\u001b[39;00m\u001b[33m.\u001b[39m\u001b[33m\"\u001b[39m\n\u001b[32m    514\u001b[39m             )\n\u001b[32m--> \u001b[39m\u001b[32m516\u001b[39m out = \u001b[43mfunc\u001b[49m\u001b[43m(\u001b[49m\u001b[43m*\u001b[49m\u001b[43margs\u001b[49m\u001b[43m,\u001b[49m\u001b[43m \u001b[49m\u001b[43m*\u001b[49m\u001b[43m*\u001b[49m\u001b[43mkwargs\u001b[49m\u001b[43m)\u001b[49m\n\u001b[32m    517\u001b[39m \u001b[38;5;28mself\u001b[39m._optimizer_step_code()\n\u001b[32m    519\u001b[39m \u001b[38;5;66;03m# call optimizer step post hooks\u001b[39;00m\n",
      "\u001b[36mFile \u001b[39m\u001b[32m/Library/Frameworks/Python.framework/Versions/3.13/lib/python3.13/site-packages/torch/optim/optimizer.py:81\u001b[39m, in \u001b[36m_use_grad_for_differentiable.<locals>._use_grad\u001b[39m\u001b[34m(*args, **kwargs)\u001b[39m\n\u001b[32m     79\u001b[39m     torch.set_grad_enabled(\u001b[38;5;28mself\u001b[39m.defaults[\u001b[33m\"\u001b[39m\u001b[33mdifferentiable\u001b[39m\u001b[33m\"\u001b[39m])\n\u001b[32m     80\u001b[39m     torch._dynamo.graph_break()\n\u001b[32m---> \u001b[39m\u001b[32m81\u001b[39m     ret = \u001b[43mfunc\u001b[49m\u001b[43m(\u001b[49m\u001b[43m*\u001b[49m\u001b[43margs\u001b[49m\u001b[43m,\u001b[49m\u001b[43m \u001b[49m\u001b[43m*\u001b[49m\u001b[43m*\u001b[49m\u001b[43mkwargs\u001b[49m\u001b[43m)\u001b[49m\n\u001b[32m     82\u001b[39m \u001b[38;5;28;01mfinally\u001b[39;00m:\n\u001b[32m     83\u001b[39m     torch._dynamo.graph_break()\n",
      "\u001b[36mFile \u001b[39m\u001b[32m/Library/Frameworks/Python.framework/Versions/3.13/lib/python3.13/site-packages/torch/optim/adam.py:247\u001b[39m, in \u001b[36mAdam.step\u001b[39m\u001b[34m(self, closure)\u001b[39m\n\u001b[32m    235\u001b[39m     beta1, beta2 = group[\u001b[33m\"\u001b[39m\u001b[33mbetas\u001b[39m\u001b[33m\"\u001b[39m]\n\u001b[32m    237\u001b[39m     has_complex = \u001b[38;5;28mself\u001b[39m._init_group(\n\u001b[32m    238\u001b[39m         group,\n\u001b[32m    239\u001b[39m         params_with_grad,\n\u001b[32m   (...)\u001b[39m\u001b[32m    244\u001b[39m         state_steps,\n\u001b[32m    245\u001b[39m     )\n\u001b[32m--> \u001b[39m\u001b[32m247\u001b[39m     \u001b[43madam\u001b[49m\u001b[43m(\u001b[49m\n\u001b[32m    248\u001b[39m \u001b[43m        \u001b[49m\u001b[43mparams_with_grad\u001b[49m\u001b[43m,\u001b[49m\n\u001b[32m    249\u001b[39m \u001b[43m        \u001b[49m\u001b[43mgrads\u001b[49m\u001b[43m,\u001b[49m\n\u001b[32m    250\u001b[39m \u001b[43m        \u001b[49m\u001b[43mexp_avgs\u001b[49m\u001b[43m,\u001b[49m\n\u001b[32m    251\u001b[39m \u001b[43m        \u001b[49m\u001b[43mexp_avg_sqs\u001b[49m\u001b[43m,\u001b[49m\n\u001b[32m    252\u001b[39m \u001b[43m        \u001b[49m\u001b[43mmax_exp_avg_sqs\u001b[49m\u001b[43m,\u001b[49m\n\u001b[32m    253\u001b[39m \u001b[43m        \u001b[49m\u001b[43mstate_steps\u001b[49m\u001b[43m,\u001b[49m\n\u001b[32m    254\u001b[39m \u001b[43m        \u001b[49m\u001b[43mamsgrad\u001b[49m\u001b[43m=\u001b[49m\u001b[43mgroup\u001b[49m\u001b[43m[\u001b[49m\u001b[33;43m\"\u001b[39;49m\u001b[33;43mamsgrad\u001b[39;49m\u001b[33;43m\"\u001b[39;49m\u001b[43m]\u001b[49m\u001b[43m,\u001b[49m\n\u001b[32m    255\u001b[39m \u001b[43m        \u001b[49m\u001b[43mhas_complex\u001b[49m\u001b[43m=\u001b[49m\u001b[43mhas_complex\u001b[49m\u001b[43m,\u001b[49m\n\u001b[32m    256\u001b[39m \u001b[43m        \u001b[49m\u001b[43mbeta1\u001b[49m\u001b[43m=\u001b[49m\u001b[43mbeta1\u001b[49m\u001b[43m,\u001b[49m\n\u001b[32m    257\u001b[39m \u001b[43m        \u001b[49m\u001b[43mbeta2\u001b[49m\u001b[43m=\u001b[49m\u001b[43mbeta2\u001b[49m\u001b[43m,\u001b[49m\n\u001b[32m    258\u001b[39m \u001b[43m        \u001b[49m\u001b[43mlr\u001b[49m\u001b[43m=\u001b[49m\u001b[43mgroup\u001b[49m\u001b[43m[\u001b[49m\u001b[33;43m\"\u001b[39;49m\u001b[33;43mlr\u001b[39;49m\u001b[33;43m\"\u001b[39;49m\u001b[43m]\u001b[49m\u001b[43m,\u001b[49m\n\u001b[32m    259\u001b[39m \u001b[43m        \u001b[49m\u001b[43mweight_decay\u001b[49m\u001b[43m=\u001b[49m\u001b[43mgroup\u001b[49m\u001b[43m[\u001b[49m\u001b[33;43m\"\u001b[39;49m\u001b[33;43mweight_decay\u001b[39;49m\u001b[33;43m\"\u001b[39;49m\u001b[43m]\u001b[49m\u001b[43m,\u001b[49m\n\u001b[32m    260\u001b[39m \u001b[43m        \u001b[49m\u001b[43meps\u001b[49m\u001b[43m=\u001b[49m\u001b[43mgroup\u001b[49m\u001b[43m[\u001b[49m\u001b[33;43m\"\u001b[39;49m\u001b[33;43meps\u001b[39;49m\u001b[33;43m\"\u001b[39;49m\u001b[43m]\u001b[49m\u001b[43m,\u001b[49m\n\u001b[32m    261\u001b[39m \u001b[43m        \u001b[49m\u001b[43mmaximize\u001b[49m\u001b[43m=\u001b[49m\u001b[43mgroup\u001b[49m\u001b[43m[\u001b[49m\u001b[33;43m\"\u001b[39;49m\u001b[33;43mmaximize\u001b[39;49m\u001b[33;43m\"\u001b[39;49m\u001b[43m]\u001b[49m\u001b[43m,\u001b[49m\n\u001b[32m    262\u001b[39m \u001b[43m        \u001b[49m\u001b[43mforeach\u001b[49m\u001b[43m=\u001b[49m\u001b[43mgroup\u001b[49m\u001b[43m[\u001b[49m\u001b[33;43m\"\u001b[39;49m\u001b[33;43mforeach\u001b[39;49m\u001b[33;43m\"\u001b[39;49m\u001b[43m]\u001b[49m\u001b[43m,\u001b[49m\n\u001b[32m    263\u001b[39m \u001b[43m        \u001b[49m\u001b[43mcapturable\u001b[49m\u001b[43m=\u001b[49m\u001b[43mgroup\u001b[49m\u001b[43m[\u001b[49m\u001b[33;43m\"\u001b[39;49m\u001b[33;43mcapturable\u001b[39;49m\u001b[33;43m\"\u001b[39;49m\u001b[43m]\u001b[49m\u001b[43m,\u001b[49m\n\u001b[32m    264\u001b[39m \u001b[43m        \u001b[49m\u001b[43mdifferentiable\u001b[49m\u001b[43m=\u001b[49m\u001b[43mgroup\u001b[49m\u001b[43m[\u001b[49m\u001b[33;43m\"\u001b[39;49m\u001b[33;43mdifferentiable\u001b[39;49m\u001b[33;43m\"\u001b[39;49m\u001b[43m]\u001b[49m\u001b[43m,\u001b[49m\n\u001b[32m    265\u001b[39m \u001b[43m        \u001b[49m\u001b[43mfused\u001b[49m\u001b[43m=\u001b[49m\u001b[43mgroup\u001b[49m\u001b[43m[\u001b[49m\u001b[33;43m\"\u001b[39;49m\u001b[33;43mfused\u001b[39;49m\u001b[33;43m\"\u001b[39;49m\u001b[43m]\u001b[49m\u001b[43m,\u001b[49m\n\u001b[32m    266\u001b[39m \u001b[43m        \u001b[49m\u001b[43mgrad_scale\u001b[49m\u001b[43m=\u001b[49m\u001b[38;5;28;43mgetattr\u001b[39;49m\u001b[43m(\u001b[49m\u001b[38;5;28;43mself\u001b[39;49m\u001b[43m,\u001b[49m\u001b[43m \u001b[49m\u001b[33;43m\"\u001b[39;49m\u001b[33;43mgrad_scale\u001b[39;49m\u001b[33;43m\"\u001b[39;49m\u001b[43m,\u001b[49m\u001b[43m \u001b[49m\u001b[38;5;28;43;01mNone\u001b[39;49;00m\u001b[43m)\u001b[49m\u001b[43m,\u001b[49m\n\u001b[32m    267\u001b[39m \u001b[43m        \u001b[49m\u001b[43mfound_inf\u001b[49m\u001b[43m=\u001b[49m\u001b[38;5;28;43mgetattr\u001b[39;49m\u001b[43m(\u001b[49m\u001b[38;5;28;43mself\u001b[39;49m\u001b[43m,\u001b[49m\u001b[43m \u001b[49m\u001b[33;43m\"\u001b[39;49m\u001b[33;43mfound_inf\u001b[39;49m\u001b[33;43m\"\u001b[39;49m\u001b[43m,\u001b[49m\u001b[43m \u001b[49m\u001b[38;5;28;43;01mNone\u001b[39;49;00m\u001b[43m)\u001b[49m\u001b[43m,\u001b[49m\n\u001b[32m    268\u001b[39m \u001b[43m        \u001b[49m\u001b[43mdecoupled_weight_decay\u001b[49m\u001b[43m=\u001b[49m\u001b[43mgroup\u001b[49m\u001b[43m[\u001b[49m\u001b[33;43m\"\u001b[39;49m\u001b[33;43mdecoupled_weight_decay\u001b[39;49m\u001b[33;43m\"\u001b[39;49m\u001b[43m]\u001b[49m\u001b[43m,\u001b[49m\n\u001b[32m    269\u001b[39m \u001b[43m    \u001b[49m\u001b[43m)\u001b[49m\n\u001b[32m    271\u001b[39m \u001b[38;5;28;01mreturn\u001b[39;00m loss\n",
      "\u001b[36mFile \u001b[39m\u001b[32m/Library/Frameworks/Python.framework/Versions/3.13/lib/python3.13/site-packages/torch/optim/optimizer.py:149\u001b[39m, in \u001b[36m_disable_dynamo_if_unsupported.<locals>.wrapper.<locals>.maybe_fallback\u001b[39m\u001b[34m(*args, **kwargs)\u001b[39m\n\u001b[32m    147\u001b[39m     \u001b[38;5;28;01mreturn\u001b[39;00m disabled_func(*args, **kwargs)\n\u001b[32m    148\u001b[39m \u001b[38;5;28;01melse\u001b[39;00m:\n\u001b[32m--> \u001b[39m\u001b[32m149\u001b[39m     \u001b[38;5;28;01mreturn\u001b[39;00m \u001b[43mfunc\u001b[49m\u001b[43m(\u001b[49m\u001b[43m*\u001b[49m\u001b[43margs\u001b[49m\u001b[43m,\u001b[49m\u001b[43m \u001b[49m\u001b[43m*\u001b[49m\u001b[43m*\u001b[49m\u001b[43mkwargs\u001b[49m\u001b[43m)\u001b[49m\n",
      "\u001b[36mFile \u001b[39m\u001b[32m/Library/Frameworks/Python.framework/Versions/3.13/lib/python3.13/site-packages/torch/optim/adam.py:949\u001b[39m, in \u001b[36madam\u001b[39m\u001b[34m(params, grads, exp_avgs, exp_avg_sqs, max_exp_avg_sqs, state_steps, foreach, capturable, differentiable, fused, grad_scale, found_inf, has_complex, decoupled_weight_decay, amsgrad, beta1, beta2, lr, weight_decay, eps, maximize)\u001b[39m\n\u001b[32m    946\u001b[39m \u001b[38;5;28;01melse\u001b[39;00m:\n\u001b[32m    947\u001b[39m     func = _single_tensor_adam\n\u001b[32m--> \u001b[39m\u001b[32m949\u001b[39m \u001b[43mfunc\u001b[49m\u001b[43m(\u001b[49m\n\u001b[32m    950\u001b[39m \u001b[43m    \u001b[49m\u001b[43mparams\u001b[49m\u001b[43m,\u001b[49m\n\u001b[32m    951\u001b[39m \u001b[43m    \u001b[49m\u001b[43mgrads\u001b[49m\u001b[43m,\u001b[49m\n\u001b[32m    952\u001b[39m \u001b[43m    \u001b[49m\u001b[43mexp_avgs\u001b[49m\u001b[43m,\u001b[49m\n\u001b[32m    953\u001b[39m \u001b[43m    \u001b[49m\u001b[43mexp_avg_sqs\u001b[49m\u001b[43m,\u001b[49m\n\u001b[32m    954\u001b[39m \u001b[43m    \u001b[49m\u001b[43mmax_exp_avg_sqs\u001b[49m\u001b[43m,\u001b[49m\n\u001b[32m    955\u001b[39m \u001b[43m    \u001b[49m\u001b[43mstate_steps\u001b[49m\u001b[43m,\u001b[49m\n\u001b[32m    956\u001b[39m \u001b[43m    \u001b[49m\u001b[43mamsgrad\u001b[49m\u001b[43m=\u001b[49m\u001b[43mamsgrad\u001b[49m\u001b[43m,\u001b[49m\n\u001b[32m    957\u001b[39m \u001b[43m    \u001b[49m\u001b[43mhas_complex\u001b[49m\u001b[43m=\u001b[49m\u001b[43mhas_complex\u001b[49m\u001b[43m,\u001b[49m\n\u001b[32m    958\u001b[39m \u001b[43m    \u001b[49m\u001b[43mbeta1\u001b[49m\u001b[43m=\u001b[49m\u001b[43mbeta1\u001b[49m\u001b[43m,\u001b[49m\n\u001b[32m    959\u001b[39m \u001b[43m    \u001b[49m\u001b[43mbeta2\u001b[49m\u001b[43m=\u001b[49m\u001b[43mbeta2\u001b[49m\u001b[43m,\u001b[49m\n\u001b[32m    960\u001b[39m \u001b[43m    \u001b[49m\u001b[43mlr\u001b[49m\u001b[43m=\u001b[49m\u001b[43mlr\u001b[49m\u001b[43m,\u001b[49m\n\u001b[32m    961\u001b[39m \u001b[43m    \u001b[49m\u001b[43mweight_decay\u001b[49m\u001b[43m=\u001b[49m\u001b[43mweight_decay\u001b[49m\u001b[43m,\u001b[49m\n\u001b[32m    962\u001b[39m \u001b[43m    \u001b[49m\u001b[43meps\u001b[49m\u001b[43m=\u001b[49m\u001b[43meps\u001b[49m\u001b[43m,\u001b[49m\n\u001b[32m    963\u001b[39m \u001b[43m    \u001b[49m\u001b[43mmaximize\u001b[49m\u001b[43m=\u001b[49m\u001b[43mmaximize\u001b[49m\u001b[43m,\u001b[49m\n\u001b[32m    964\u001b[39m \u001b[43m    \u001b[49m\u001b[43mcapturable\u001b[49m\u001b[43m=\u001b[49m\u001b[43mcapturable\u001b[49m\u001b[43m,\u001b[49m\n\u001b[32m    965\u001b[39m \u001b[43m    \u001b[49m\u001b[43mdifferentiable\u001b[49m\u001b[43m=\u001b[49m\u001b[43mdifferentiable\u001b[49m\u001b[43m,\u001b[49m\n\u001b[32m    966\u001b[39m \u001b[43m    \u001b[49m\u001b[43mgrad_scale\u001b[49m\u001b[43m=\u001b[49m\u001b[43mgrad_scale\u001b[49m\u001b[43m,\u001b[49m\n\u001b[32m    967\u001b[39m \u001b[43m    \u001b[49m\u001b[43mfound_inf\u001b[49m\u001b[43m=\u001b[49m\u001b[43mfound_inf\u001b[49m\u001b[43m,\u001b[49m\n\u001b[32m    968\u001b[39m \u001b[43m    \u001b[49m\u001b[43mdecoupled_weight_decay\u001b[49m\u001b[43m=\u001b[49m\u001b[43mdecoupled_weight_decay\u001b[49m\u001b[43m,\u001b[49m\n\u001b[32m    969\u001b[39m \u001b[43m\u001b[49m\u001b[43m)\u001b[49m\n",
      "\u001b[36mFile \u001b[39m\u001b[32m/Library/Frameworks/Python.framework/Versions/3.13/lib/python3.13/site-packages/torch/optim/adam.py:517\u001b[39m, in \u001b[36m_single_tensor_adam\u001b[39m\u001b[34m(params, grads, exp_avgs, exp_avg_sqs, max_exp_avg_sqs, state_steps, grad_scale, found_inf, amsgrad, has_complex, beta1, beta2, lr, weight_decay, eps, maximize, capturable, differentiable, decoupled_weight_decay)\u001b[39m\n\u001b[32m    515\u001b[39m         param.addcdiv_(exp_avg, denom)\n\u001b[32m    516\u001b[39m \u001b[38;5;28;01melse\u001b[39;00m:\n\u001b[32m--> \u001b[39m\u001b[32m517\u001b[39m     step = \u001b[43m_get_value\u001b[49m\u001b[43m(\u001b[49m\u001b[43mstep_t\u001b[49m\u001b[43m)\u001b[49m\n\u001b[32m    519\u001b[39m     bias_correction1 = \u001b[32m1\u001b[39m - beta1**step\n\u001b[32m    520\u001b[39m     bias_correction2 = \u001b[32m1\u001b[39m - beta2**step\n",
      "\u001b[36mFile \u001b[39m\u001b[32m/Library/Frameworks/Python.framework/Versions/3.13/lib/python3.13/site-packages/torch/optim/optimizer.py:96\u001b[39m, in \u001b[36m_get_value\u001b[39m\u001b[34m(x)\u001b[39m\n\u001b[32m     94\u001b[39m     \u001b[38;5;28;01mreturn\u001b[39;00m x\n\u001b[32m     95\u001b[39m \u001b[38;5;28;01melse\u001b[39;00m:\n\u001b[32m---> \u001b[39m\u001b[32m96\u001b[39m     \u001b[38;5;28;01mreturn\u001b[39;00m \u001b[43mx\u001b[49m\u001b[43m.\u001b[49m\u001b[43mitem\u001b[49m\u001b[43m(\u001b[49m\u001b[43m)\u001b[49m \u001b[38;5;28;01mif\u001b[39;00m \u001b[38;5;28misinstance\u001b[39m(x, torch.Tensor) \u001b[38;5;28;01melse\u001b[39;00m x\n",
      "\u001b[31mKeyboardInterrupt\u001b[39m: "
     ]
    }
   ],
   "source": [
    "import os\n",
    "os.environ[\"PYTORCH_ENABLE_MPS_FALLBACK\"] = \"1\"\n",
    "\n",
    "device = torch.device(\"mps\")\n",
    "train_baseline(\n",
    "    model=baseline_model,\n",
    "    train_loader=train_loader,\n",
    "    val_loader=val_loader,\n",
    "    num_epochs=1000,\n",
    "    lr=1e-3,\n",
    "    device=device,\n",
    "    save_every=10,\n",
    "    resume_path=\"checkpoints_baseline/char_transformer_epoch500.pt\"\n",
    ")"
   ]
  },
  {
   "cell_type": "markdown",
   "id": "f3340b2c",
   "metadata": {},
   "source": [
    "## Test set prediction\n",
    "\n",
    "1. encode_text() and decode_text() are the same functions you used for your baseline dataset.\n",
    "2. SOS_IDX and EOS_IDX should be your special token indices (start/end).\n",
    "3. This uses greedy decoding only. No beam search or sampling needed.\n",
    "4. You can now submit predictions_normal.csv for evaluation."
   ]
  },
  {
   "cell_type": "markdown",
   "id": "be87cf1b",
   "metadata": {},
   "source": [
    "Load Model and Define Helpers"
   ]
  },
  {
   "cell_type": "code",
   "execution_count": null,
   "id": "33545510",
   "metadata": {},
   "outputs": [
    {
     "name": "stdout",
     "output_type": "stream",
     "text": [
      "Input:  Enjoy your day having extreme fun!\n",
      "Prediction: !nuf emertxe gnivah yad ruoy yojn\n"
     ]
    }
   ],
   "source": [
    "import torch\n",
    "\n",
    "# Force CPU\n",
    "device = torch.device(\"cpu\")\n",
    "\n",
    "# Load checkpoint on CPU\n",
    "checkpoint_path = \"checkpoints_baseline/char_transformer_epoch500.pt\"\n",
    "baseline_model.load_state_dict(torch.load(checkpoint_path, map_location=device)[\"model_state\"])\n",
    "baseline_model.to(device)\n",
    "baseline_model.eval()\n",
    "\n",
    "# Vocabulary\n",
    "vocab = {c:i+3 for i,c in enumerate([chr(i) for i in range(32,127)])}\n",
    "inv_vocab = {i:c for c,i in vocab.items()}\n",
    "PAD_IDX, SOS_IDX, EOS_IDX = 0, 1, 2\n",
    "\n",
    "def encode_text(text):\n",
    "    return [SOS_IDX] + [vocab[c] for c in text] + [EOS_IDX]\n",
    "\n",
    "def decode_text(ids):\n",
    "    return \"\".join([inv_vocab[i] for i in ids if i > 2])\n",
    "\n",
    "# Autoregressive prediction\n",
    "def generate_single_char_model(text, model, max_len=128):\n",
    "    model.eval()\n",
    "    with torch.no_grad():\n",
    "        input_ids = torch.tensor([encode_text(text)], dtype=torch.long, device=device)\n",
    "        output_ids = [SOS_IDX]\n",
    "\n",
    "        for t in range(max_len):\n",
    "            tgt_ids = torch.tensor([output_ids], dtype=torch.long, device=device)\n",
    "            logits = model(input_ids, tgt_ids)\n",
    "            next_id = logits[0, -1].argmax().item()\n",
    "            output_ids.append(next_id)\n",
    "            if next_id == EOS_IDX:\n",
    "                break\n",
    "\n",
    "        return decode_text(output_ids[1:])\n",
    "\n",
    "# Example\n",
    "sample_text = \"Enjoy your day having extreme fun!\"\n",
    "prediction = generate_single_char_model(sample_text, baseline_model)\n",
    "print(\"Input: \", sample_text)\n",
    "print(\"Prediction:\", prediction)"
   ]
  },
  {
   "cell_type": "markdown",
   "id": "0d93602b",
   "metadata": {},
   "source": [
    "Inference Testing (Single, Interactive Example)"
   ]
  },
  {
   "cell_type": "code",
   "execution_count": null,
   "id": "e681ae92",
   "metadata": {},
   "outputs": [
    {
     "name": "stdout",
     "output_type": "stream",
     "text": [
      "✅ Using MPS for inference\n",
      "✅ Model loaded and set to evaluation mode.\n"
     ]
    }
   ],
   "source": [
    "import torch\n",
    "import torch.nn as nn\n",
    "import pandas as pd\n",
    "import math\n",
    "\n",
    "# --- 1. Setup ---\n",
    "\n",
    "# Define constants to match the training environment\n",
    "PAD_IDX, SOS_IDX, EOS_IDX = 0, 1, 2\n",
    "VOCAB_SIZE = 95  # FIX: Hardcode the vocab size from the trained model\n",
    "MAX_LEN = 128    # Define a max generation length\n",
    "\n",
    "# --- Vocabulary and Helper Functions ---\n",
    "# Re-create the exact vocabulary used during training\n",
    "chars = [chr(i) for i in range(32, 127)]\n",
    "_vocab = {c: i + 3 for i, c in enumerate(chars)}\n",
    "INV_VOCAB = {i: c for c, i in _vocab.items()}\n",
    "\n",
    "def encode_text(text, add_special=True):\n",
    "    # FIX: Use the full version of the function that accepts 'add_special'\n",
    "    ids = [_vocab.get(ch, -1) for ch in text if ch in _vocab]\n",
    "    if add_special:\n",
    "        ids = [SOS_IDX] + ids + [EOS_IDX]\n",
    "    return torch.tensor(ids, dtype=torch.long)\n",
    "\n",
    "def decode_ids(ids):\n",
    "    \"\"\"Decodes a list of token IDs back to a string.\"\"\"\n",
    "    return \"\".join([INV_VOCAB.get(i, '') for i in ids if i not in {PAD_IDX, SOS_IDX, EOS_IDX}])\n",
    "\n",
    "# --- Device and Model Loading ---\n",
    "if torch.backends.mps.is_available():\n",
    "    device = torch.device(\"mps\")\n",
    "    print(\"✅ Using MPS for inference\")\n",
    "else:\n",
    "    device = torch.device(\"cpu\")\n",
    "    print(\"⚠️ MPS not available, using CPU for inference\")\n",
    "\n",
    "# Instantiate your model architecture with the CORRECT vocab_size\n",
    "baseline_model = CharTransformer(vocab_size=VOCAB_SIZE, d_model=64, nhead=4, num_layers=2).to(device)\n",
    "\n",
    "# Load the saved weights\n",
    "checkpoint_path = \"checkpoints_baseline/char_transformer_epoch500.pt\"\n",
    "checkpoint = torch.load(checkpoint_path, map_location=device)\n",
    "baseline_model.load_state_dict(checkpoint[\"model_state\"])\n",
    "\n",
    "# Set the model to evaluation mode\n",
    "baseline_model.eval()\n",
    "print(\"✅ Model loaded and set to evaluation mode.\")"
   ]
  },
  {
   "cell_type": "code",
   "execution_count": null,
   "id": "3dac867b",
   "metadata": {},
   "outputs": [
    {
     "name": "stdout",
     "output_type": "stream",
     "text": [
      "\n",
      "🔍 Generating predictions on the test set...\n",
      "✅ Predictions generated. Here are the first 10 examples:\n",
      "                                                                                                             input                                                                                                     ground_truth                                                                                                             prediction\n",
      "0                                                        intimidated campaigns emerging marines spin bel cleansing                                                        gnisnaelc leb nips seniram gnigreme sngiapmac detadimitni      gnisnaelc leb nips seniram gnigreme sngiapmac detadimitni snaelc leb nips seniram gnignigreme sngiapmac detimitni\n",
      "1                                                                          salary lebanese wifi fury fab sta polly                                                                          yllop ats baf yruf ifiw esenabel yralas                   yllop ats baf yruf ifiw esenabel yralaso oodao ood llop ats baf yruf ififiw esenabel yralasoo ood oo\n",
      "2                                                               financing ahmed sexual cinematic puff malibu peach                                                               hcaep ubilam ffup citamenic lauxes demha gnicnanif              hcaep ubilam ffup citamenic lauxes demha gnicnanif oc caep ubilam ffupup citamenic lauxes demha gnicnanif\n",
      "3  n00 nickel disparity funded tutorials constrained bk 8 cellar wen advocacy surpass digitally discredit earliest  tseilrae tidercsid yllatigid ssaprus ycacovda new rallec 8 kb deniartsnoc slairotut dednuf ytirapsid lekcin 00n  tseilrae tidercsid yllatigid ssaprus ycacovda new rallec 8 kb deniartsnoc slairotut dednuf ytirapsid lekcin 00nlec 8 \n",
      "4                                          unveiled alliance cleric skinned illness permission destroyed stationed                                          denoitats deyortsed noissimrep ssenlli denniks cirelc ecnailla delievnu     denoitats deyortsed noissimrep ssenlli denniks cirelc ecnailla delievnuort noississimrep ssenlli denniks cirelc ec\n",
      "5                                                         input openings thinks sierra stimulate sheikh habit dull                                                         llud tibah hkiehs etalumits arreis skniht sgninepo tupni       llud tibah hkiehs etalumits arreis skniht sgninepo tupni lud tibah hkiehs etalumits arreis skniht sgninepo tupni\n",
      "6                                                       reforms lamps from hockey evening clones beyonce artillery                                                       yrellitra ecnoyeb senolc gnineve yekcoh morf spmal smrofer      yrellitra ecnoyeb senolc gnineve yekcoh morf spmal smroferrlitra ecnoyeb senolc gninineve yekcoh morf spmal smrof\n",
      "7                             ra hungary flush plush sorts spouse bananas defender protests lesser alexandra canal                             lanac ardnaxela ressel stsetorp rednefed sananab esuops stros hsulp hsulf yragnuh ar  lanac ardnaxela ressel stsetorp rednefed sananab esuops stros hsulp hsulf yragnuh artsetorp rednefed sananab esuops s\n",
      "8                                                                           worcester visitation rotary constantly                                                                           yltnatsnoc yrator noitatisiv retsecrow                     yltnatsnoc yrator noitatisiv retsecrowo ood oo aodoltnatsnoc yrator noitatatisiv retsecrowoo oo oo\n",
      "9                      neck m1 prescribe demands ev commanders s00 compensation inventions amc ranged faster nobel                      lebon retsaf degnar cma snoitnevni noitasnepmoc 00s srednammoc ve sdnamed ebircserp 1m kcen  lebon retsaf degnar cma snoitnevni noitasnepmoc 00s srednammoc ve sdnamed ebircserp 1m kcen onoitasnepmoc 000s sredna\n"
     ]
    }
   ],
   "source": [
    "# --- 2. Test Set Prediction ---\n",
    "\n",
    "@torch.no_grad()\n",
    "def predict_on_test_set(model, data_loader, device):\n",
    "    \"\"\"Generates predictions for an entire test set and returns a DataFrame.\"\"\"\n",
    "    model.eval()\n",
    "    results = []\n",
    "    \n",
    "    # FIX: Make the loop more robust by iterating over 'batch'\n",
    "    for batch in data_loader:\n",
    "        src_padded = batch[0].to(device)\n",
    "        tgt_padded = batch[2] # For ground truth comparison\n",
    "\n",
    "        tgt_inp = torch.full((src_padded.size(0), 1), SOS_IDX, dtype=torch.long, device=device)\n",
    "\n",
    "        for _ in range(MAX_LEN):\n",
    "            logits = model(src_padded, tgt_inp)\n",
    "            next_token = logits[:, -1, :].argmax(dim=-1).unsqueeze(1)\n",
    "            tgt_inp = torch.cat([tgt_inp, next_token], dim=1)\n",
    "            if (tgt_inp == EOS_IDX).any(dim=1).all():\n",
    "                break\n",
    "\n",
    "        source_texts = [decode_ids(s.tolist()) for s in src_padded]\n",
    "        target_texts = [decode_ids(t.tolist()) for t in tgt_padded]\n",
    "        predicted_texts = [decode_ids(p.tolist()) for p in tgt_inp]\n",
    "        \n",
    "        for i in range(len(source_texts)):\n",
    "            results.append({\n",
    "                \"input\": source_texts[i],\n",
    "                \"ground_truth\": target_texts[i],\n",
    "                \"prediction\": predicted_texts[i]\n",
    "            })\n",
    "\n",
    "    return pd.DataFrame(results)\n",
    "\n",
    "print(\"\\n🔍 Generating predictions on the test set...\")\n",
    "predictions_df = predict_on_test_set(baseline_model, test_loader, device)\n",
    "print(\"✅ Predictions generated. Here are the first 10 examples:\")\n",
    "print(predictions_df.head(10).to_string())"
   ]
  },
  {
   "cell_type": "code",
   "execution_count": null,
   "id": "f338787b",
   "metadata": {},
   "outputs": [
    {
     "name": "stdout",
     "output_type": "stream",
     "text": [
      "\n",
      "🤖 Running interactive inference tests...\n"
     ]
    },
    {
     "name": "stderr",
     "output_type": "stream",
     "text": [
      "/Library/Frameworks/Python.framework/Versions/3.13/lib/python3.13/site-packages/torch/nn/functional.py:6041: UserWarning: Support for mismatched key_padding_mask and attn_mask is deprecated. Use same type for both instead.\n",
      "  warnings.warn(\n"
     ]
    },
    {
     "name": "stdout",
     "output_type": "stream",
     "text": [
      "\n",
      "Input:      'hello world'\n",
      "Prediction: 'dlrow olleh'\n",
      "\n",
      "Input:      'PyTorch is great for building transformers.'\n",
      "Prediction: '.sremrofsnart gnidliub rof taerg si hcroyy'\n"
     ]
    }
   ],
   "source": [
    "# --- 3. Inference Testing ---\n",
    "\n",
    "def generate_prediction(input_text, model, device):\n",
    "    \"\"\"Generates a prediction for a single input string.\"\"\"\n",
    "    model.eval()\n",
    "    with torch.no_grad():\n",
    "        # This function now works because encode_text is defined correctly above\n",
    "        src_tensor = encode_text(input_text, add_special=True).unsqueeze(0).to(device)\n",
    "        output_ids = [SOS_IDX]\n",
    "\n",
    "        for _ in range(MAX_LEN):\n",
    "            tgt_tensor = torch.tensor(output_ids, dtype=torch.long, device=device).unsqueeze(0)\n",
    "            logits = model(src_tensor, tgt_tensor)\n",
    "            next_id = logits[0, -1].argmax().item()\n",
    "            output_ids.append(next_id)\n",
    "            if next_id == EOS_IDX:\n",
    "                break\n",
    "        \n",
    "        return decode_ids(output_ids)\n",
    "\n",
    "print(\"\\n🤖 Running interactive inference tests...\")\n",
    "\n",
    "sample1 = \"hello world\"\n",
    "pred1 = generate_prediction(sample1, baseline_model, device)\n",
    "print(f\"\\nInput:      '{sample1}'\")\n",
    "print(f\"Prediction: '{pred1}'\")\n",
    "\n",
    "sample2 = \"PyTorch is great for building transformers.\"\n",
    "pred2 = generate_prediction(sample2, baseline_model, device)\n",
    "print(f\"\\nInput:      '{sample2}'\")\n",
    "print(f\"Prediction: '{pred2}'\")"
   ]
  },
  {
   "cell_type": "markdown",
   "id": "08a3b2b1",
   "metadata": {},
   "source": [
    "## Saving predictions"
   ]
  },
  {
   "cell_type": "code",
   "execution_count": null,
   "id": "bd68b221",
   "metadata": {},
   "outputs": [
    {
     "name": "stderr",
     "output_type": "stream",
     "text": [
      "/Library/Frameworks/Python.framework/Versions/3.13/lib/python3.13/site-packages/tqdm/auto.py:21: TqdmWarning: IProgress not found. Please update jupyter and ipywidgets. See https://ipywidgets.readthedocs.io/en/stable/user_install.html\n",
      "  from .autonotebook import tqdm as notebook_tqdm\n"
     ]
    },
    {
     "name": "stdout",
     "output_type": "stream",
     "text": [
      "✅ Using mps for inference\n",
      "✅ Model loaded successfully.\n",
      "\n",
      "Reading data from ./../data/test.csv...\n",
      "Generating predictions for each row...\n"
     ]
    },
    {
     "name": "stderr",
     "output_type": "stream",
     "text": [
      "➡️ Processing rows:   0%|          | 0/2000 [00:00<?, ?it/s]/Library/Frameworks/Python.framework/Versions/3.13/lib/python3.13/site-packages/torch/nn/functional.py:6041: UserWarning: Support for mismatched key_padding_mask and attn_mask is deprecated. Use same type for both instead.\n",
      "  warnings.warn(\n",
      "➡️ Processing rows: 100%|██████████| 2000/2000 [15:35<00:00,  2.14it/s]\n"
     ]
    },
    {
     "name": "stdout",
     "output_type": "stream",
     "text": [
      "\n",
      "🎉 Success! Predictions saved to: ./predictions/test_predictions.csv\n",
      "\n",
      "Here's a preview of the final data:\n",
      "                                                                                                             input                                                                                                           target                                                                                                      predictions\n",
      "0                                                        intimidated campaigns emerging marines spin bel cleansing                                                        gnisnaelc leb nips seniram gnigreme sngiapmac detadimitni                                                        gnisnaelc leb nips seniram gnigreme sngiapmac detadimitni\n",
      "1                                                                          salary lebanese wifi fury fab sta polly                                                                          yllop ats baf yruf ifiw esenabel yralas                                                                          yllop ats baf yruf ifiw esenabel yralas\n",
      "2                                                               financing ahmed sexual cinematic puff malibu peach                                                               hcaep ubilam ffup citamenic lauxes demha gnicnanif                                                               hcaep ubilam ffup citamenic lauxes demha gnicnanif\n",
      "3  n00 nickel disparity funded tutorials constrained bk 8 cellar wen advocacy surpass digitally discredit earliest  tseilrae tidercsid yllatigid ssaprus ycacovda new rallec 8 kb deniartsnoc slairotut dednuf ytirapsid lekcin 00n  tseilrae tidercsid yllatigid ssaprus ycacovda new rallec 8 kb deniartsnoc slairotut dednuf ytirapsid lekcin 00n\n",
      "4                                          unveiled alliance cleric skinned illness permission destroyed stationed                                          denoitats deyortsed noissimrep ssenlli denniks cirelc ecnailla delievnu                                          denoitats deyortsed noissimrep ssenlli denniks cirelc ecnailla delievnu\n"
     ]
    }
   ],
   "source": [
    "import torch\n",
    "import pandas as pd\n",
    "import os\n",
    "from tqdm.auto import tqdm\n",
    "\n",
    "# --- 1. Setup (Model, Constants, and Helpers) ---\n",
    "# Ensure this setup matches the environment you used for training and previous testing.\n",
    "\n",
    "# Define constants\n",
    "PAD_IDX, SOS_IDX, EOS_IDX = 0, 1, 2\n",
    "VOCAB_SIZE = 95\n",
    "MAX_LEN = 128\n",
    "\n",
    "# Vocabulary and Helper Functions\n",
    "chars = [chr(i) for i in range(32, 127)]\n",
    "_vocab = {c: i + 3 for i, c in enumerate(chars)}\n",
    "INV_VOCAB = {i: c for c, i in _vocab.items()}\n",
    "\n",
    "def encode_text(text, add_special=True):\n",
    "    ids = [_vocab.get(ch, -1) for ch in text if ch in _vocab]\n",
    "    if add_special:\n",
    "        ids = [SOS_IDX] + ids + [EOS_IDX]\n",
    "    return torch.tensor(ids, dtype=torch.long)\n",
    "\n",
    "def decode_ids(ids):\n",
    "    return \"\".join([INV_VOCAB.get(i, '') for i in ids if i not in {PAD_IDX, SOS_IDX, EOS_IDX}])\n",
    "\n",
    "# Device and Model Loading\n",
    "if torch.backends.mps.is_available():\n",
    "    device = torch.device(\"mps\")\n",
    "else:\n",
    "    device = torch.device(\"cpu\")\n",
    "print(f\"✅ Using {device} for inference\")\n",
    "\n",
    "# Instantiate your model architecture\n",
    "# This needs the CharTransformer class definition from your original script\n",
    "baseline_model = CharTransformer(vocab_size=VOCAB_SIZE, d_model=64, nhead=4, num_layers=2).to(device)\n",
    "\n",
    "# Load the saved weights\n",
    "checkpoint_path = \"checkpoints_baseline/char_transformer_epoch500.pt\"\n",
    "checkpoint = torch.load(checkpoint_path, map_location=device)\n",
    "baseline_model.load_state_dict(checkpoint[\"model_state\"])\n",
    "baseline_model.eval()\n",
    "print(\"✅ Model loaded successfully.\")\n",
    "\n",
    "\n",
    "# --- 2. Single Prediction Function ---\n",
    "\n",
    "def generate_prediction(input_text, model, device):\n",
    "    \"\"\"Generates a prediction for a single input string.\"\"\"\n",
    "    model.eval()\n",
    "    with torch.no_grad():\n",
    "        src_tensor = encode_text(input_text, add_special=True).unsqueeze(0).to(device)\n",
    "        output_ids = [SOS_IDX]\n",
    "\n",
    "        for _ in range(MAX_LEN):\n",
    "            tgt_tensor = torch.tensor(output_ids, dtype=torch.long, device=device).unsqueeze(0)\n",
    "            logits = model(src_tensor, tgt_tensor)\n",
    "            next_id = logits[0, -1].argmax().item()\n",
    "            output_ids.append(next_id)\n",
    "            if next_id == EOS_IDX:\n",
    "                break\n",
    "        \n",
    "        return decode_ids(output_ids)\n",
    "\n",
    "\n",
    "# --- 3. Main Script to Process CSV ---\n",
    "\n",
    "# Define file paths\n",
    "input_csv_path = \"./../data/test.csv\"\n",
    "output_dir = \"./predictions\"\n",
    "output_csv_path = os.path.join(output_dir, \"test_predictions.csv\")\n",
    "\n",
    "# Create the output directory if it doesn't exist\n",
    "os.makedirs(output_dir, exist_ok=True)\n",
    "\n",
    "# Load the test data\n",
    "print(f\"\\nReading data from {input_csv_path}...\")\n",
    "df = pd.read_csv(input_csv_path)\n",
    "\n",
    "# Initialize a list to store predictions\n",
    "predictions_list = []\n",
    "\n",
    "print(\"Generating predictions for each row...\")\n",
    "# Use tqdm to create a progress bar\n",
    "for input_text in tqdm(df['input'], desc=\"➡️ Processing rows\"):\n",
    "    # Generate a prediction for the current input text\n",
    "    prediction = generate_prediction(input_text, baseline_model, device)\n",
    "    # Add the prediction to our list\n",
    "    predictions_list.append(prediction)\n",
    "\n",
    "# Add the list of predictions as a new column in the DataFrame\n",
    "df['predictions'] = predictions_list\n",
    "\n",
    "# Save the updated DataFrame to a new CSV file\n",
    "df.to_csv(output_csv_path, index=False)\n",
    "\n",
    "print(f\"\\n🎉 Success! Predictions saved to: {output_csv_path}\")\n",
    "print(\"\\nHere's a preview of the final data:\")\n",
    "print(df.head().to_string())"
   ]
  },
  {
   "cell_type": "markdown",
   "id": "4c228213",
   "metadata": {},
   "source": [
    "# Evaluation & Predictions"
   ]
  },
  {
   "cell_type": "markdown",
   "id": "18880acd",
   "metadata": {},
   "source": [
    "##  Metrics evaluation script for both BLT and baseline models\n",
    "\n",
    "1.\tToken-level accuracy\n",
    "2.\tAverage sequence length (input tokens vs predicted tokens)"
   ]
  },
  {
   "cell_type": "code",
   "execution_count": null,
   "id": "f63fdda5",
   "metadata": {},
   "outputs": [
    {
     "name": "stdout",
     "output_type": "stream",
     "text": [
      "✅ Evaluation for ./predictions/predictions_BLT.csv\n",
      "Token-level Accuracy: 8.39%\n",
      "Average input length: 70.85 chars\n",
      "Average predicted output length: 78.03 chars\n",
      "--------------------------------------------------\n",
      "✅ Evaluation for ./predictions/test_predictions.csv\n",
      "Token-level Accuracy: 97.77%\n",
      "Average input length: 70.85 chars\n",
      "Average predicted output length: 70.78 chars\n",
      "--------------------------------------------------\n",
      "📊 Comparison Summary:\n",
      "BLT      | Acc: 8.39%, Avg Input: 70.85, Avg Pred: 78.03\n",
      "Baseline | Acc: 97.77%, Avg Input: 70.85, Avg Pred: 70.78\n"
     ]
    }
   ],
   "source": [
    "import pandas as pd\n",
    "\n",
    "def evaluate_predictions(pred_csv_path, original_csv_path, prediction_col_name=\"output\"): # <-- Added argument with default\n",
    "    \"\"\"\n",
    "    Evaluates predictions against a target file.\n",
    "    \n",
    "    Args:\n",
    "        pred_csv_path (str): Path to the CSV containing predictions.\n",
    "        original_csv_path (str): Path to the original test CSV with targets.\n",
    "        prediction_col_name (str): The name of the column containing predictions in pred_csv_path.\n",
    "    \"\"\"\n",
    "    try:\n",
    "        df_pred = pd.read_csv(pred_csv_path)\n",
    "    except FileNotFoundError:\n",
    "        print(f\"❌ ERROR: Prediction file not found at {pred_csv_path}\")\n",
    "        return float('nan'), float('nan'), float('nan') # Return NaN if file missing\n",
    "        \n",
    "    df_orig = pd.read_csv(original_csv_path)\n",
    "\n",
    "    # --- Check if the prediction column exists ---\n",
    "    if prediction_col_name not in df_pred.columns:\n",
    "        print(f\"❌ ERROR: Column '{prediction_col_name}' not found in {pred_csv_path}.\")\n",
    "        print(f\"   Available columns are: {list(df_pred.columns)}\")\n",
    "        return float('nan'), float('nan'), float('nan') # Return NaN if column missing\n",
    "\n",
    "    total_tokens = 0\n",
    "    correct_tokens = 0\n",
    "    total_input_len = 0\n",
    "    total_output_len = 0\n",
    "\n",
    "    # Ensure dataframes have the same length\n",
    "    if len(df_pred) != len(df_orig):\n",
    "        print(f\"⚠️ WARNING: Prediction file ({len(df_pred)} rows) and original file ({len(df_orig)} rows) have different lengths. Evaluating common rows.\")\n",
    "    \n",
    "    num_rows_to_evaluate = min(len(df_pred), len(df_orig))\n",
    "\n",
    "    for idx in range(num_rows_to_evaluate):\n",
    "        # --- FIX 1: Use the specified prediction column name ---\n",
    "        pred = str(df_pred.loc[idx, prediction_col_name]) \n",
    "        # ---------------------------------------------------\n",
    "        \n",
    "        target = str(df_orig.loc[idx, \"target\"])\n",
    "        input_str = str(df_orig.loc[idx, \"input\"])\n",
    "\n",
    "        # Token-level comparison\n",
    "        min_len = min(len(pred), len(target))\n",
    "        correct_tokens += sum([pred[i] == target[i] for i in range(min_len)])\n",
    "        total_tokens += len(target)\n",
    "\n",
    "        # Sequence length stats\n",
    "        total_input_len += len(input_str)\n",
    "        total_output_len += len(pred)\n",
    "\n",
    "    token_accuracy = 100.0 * correct_tokens / total_tokens if total_tokens > 0 else 0\n",
    "    avg_input_len = total_input_len / num_rows_to_evaluate if num_rows_to_evaluate > 0 else 0\n",
    "    avg_output_len = total_output_len / num_rows_to_evaluate if num_rows_to_evaluate > 0 else 0\n",
    "\n",
    "    print(f\"✅ Evaluation for {pred_csv_path}\")\n",
    "    print(f\"Token-level Accuracy: {token_accuracy:.2f}%\")\n",
    "    print(f\"Average input length: {avg_input_len:.2f} chars\")\n",
    "    print(f\"Average predicted output length: {avg_output_len:.2f} chars\") \n",
    "    print(\"-\" * 50)\n",
    "    return token_accuracy, avg_input_len, avg_output_len\n",
    "\n",
    "# --- Evaluate BLT predictions ---\n",
    "# Assuming your BLT prediction file correctly uses the 'output' column\n",
    "blt_acc, blt_in_len, blt_out_len = evaluate_predictions(\n",
    "    \"./predictions/predictions_BLT.csv\", \"./../data/test.csv\"\n",
    ")\n",
    "\n",
    "# --- Evaluate Baseline predictions ---\n",
    "# FIX 2: Correctly assign results to baseline variables\n",
    "# IMPORTANT: Check your baseline CSV ('test_predictions.csv'). If the prediction\n",
    "# column is named something else (e.g., 'prediction'), change it below.\n",
    "baseline_acc, base_in_len, base_out_len = evaluate_predictions(\n",
    "    \"./predictions/test_predictions.csv\", \n",
    "    \"./../data/test.csv\",\n",
    "    prediction_col_name=\"predictions\"\n",
    ")\n",
    "\n",
    "# --- Comparison Summary ---\n",
    "print(\"📊 Comparison Summary:\")\n",
    "print(f\"BLT      | Acc: {blt_acc:.2f}%, Avg Input: {blt_in_len:.2f}, Avg Pred: {blt_out_len:.2f}\")\n",
    "print(f\"Baseline | Acc: {baseline_acc:.2f}%, Avg Input: {base_in_len:.2f}, Avg Pred: {base_out_len:.2f}\")"
   ]
  }
 ],
 "metadata": {
  "kernelspec": {
   "display_name": "Python 3",
   "language": "python",
   "name": "python3"
  },
  "language_info": {
   "codemirror_mode": {
    "name": "ipython",
    "version": 3
   },
   "file_extension": ".py",
   "mimetype": "text/x-python",
   "name": "python",
   "nbconvert_exporter": "python",
   "pygments_lexer": "ipython3",
   "version": "3.13.7"
  }
 },
 "nbformat": 4,
 "nbformat_minor": 5
}
